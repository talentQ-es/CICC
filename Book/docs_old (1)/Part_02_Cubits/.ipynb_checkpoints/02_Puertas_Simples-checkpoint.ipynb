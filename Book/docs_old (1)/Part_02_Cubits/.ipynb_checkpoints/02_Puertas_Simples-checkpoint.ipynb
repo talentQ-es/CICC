{
 "cells": [
  {
   "cell_type": "markdown",
   "metadata": {},
   "source": [
    "<img   src=\"../figuras/logo/TalentQ_LogoPosNegro.png\" align=center  width=\"120\"/>\n",
    "<br>\n",
    "\n",
    "<table width=\"100%\">\n",
    "<td style=\"font-size:50px;font-style:italic;text-align:right;background-color:rgba(0, 160, 120,0.6)\">\n",
    "Puertas Simples\n",
    "</td></table>\n",
    "\n",
    "\n",
    "\n",
    "$ \\newcommand{\\bra}[1]{\\langle #1|} $\n",
    "$ \\newcommand{\\ket}[1]{|#1\\rangle} $\n",
    "$ \\newcommand{\\braket}[2]{\\langle #1|#2\\rangle} $\n",
    "$ \\newcommand{\\i}{{\\color{blue} i}} $ \n",
    "$ \\newcommand{\\Hil}{{\\mathbb H}} $"
   ]
  },
  {
   "cell_type": "markdown",
   "metadata": {},
   "source": [
    "- [Operador general sobre un cúbit](#opgen)\n",
    "\n",
    "\n",
    "- [Puertas simples](#puertsimp)\n",
    "\n",
    "\n",
    "\n",
    "- [Circuitos cuánticos](#circuitelem)"
   ]
  },
  {
   "cell_type": "code",
   "execution_count": 18,
   "metadata": {},
   "outputs": [],
   "source": [
    "%run ../macro_CURSO.py"
   ]
  },
  {
   "cell_type": "markdown",
   "metadata": {},
   "source": [
    "<a id='dirac'></a>\n",
    "<table width=\"100%\">\n",
    "    <td style=\"font-size:30px;font-family:Helvetica;text-align:left;background-color:rgba(12, 43, 337, 0.3);\">\n",
    "<b>Operador general sobre un cúbit</b>\n",
    "</table>   "
   ]
  },
  {
   "cell_type": "markdown",
   "metadata": {},
   "source": [
    "\n",
    "<table width=\"100%\"><td style=\"font-size:14px;font-style:roman;text-align:left;\">\n",
    "    Una puerta  simple es un operador unitario, $U$, que actúa sobre un cúbit. La acción de toda puerta  puede visualizarse como una rotación en la esfera de Bloch. </p> \n",
    "</td>\n",
    "</table>\n",
    "\n",
    "- Todo operador $U$  lleva un vector origen a un vector imagen\n",
    " \n",
    "$$\n",
    "U ~:~\\ket{u} ~\\to~U\\ket{u}\\, \\equiv \\, \\ket{v} \n",
    "$$\n",
    "\n",
    "Si exigimos que $\\ket{u}$ y $\\ket{v}$ tengan norma unidad, como corresponde a cúbits, $U$ debe ser *unitario*, es decir $U^\\dagger = U^{-1}$\n"
   ]
  },
  {
   "cell_type": "markdown",
   "metadata": {},
   "source": [
    "#### Base de Operadores \n",
    "\n",
    "- El **ejemplo** más sencillo de operador unitario es aquél que lleva un elemento de la base a otro\n",
    "\n",
    "<br>\n",
    "\n",
    "$$\n",
    "\\ket{i} \\to U \\ket{i} = \\ket{j}\n",
    "$$\n",
    "\n",
    "<br>\n",
    "\n",
    "Este conjunto de operadores básicos se representa en la forma\n",
    "\n",
    "<br>\n",
    "\n",
    "$$\n",
    "U = \\ket{i}\\bra{j}\n",
    "$$\n",
    "\n",
    "<br>\n",
    "\n",
    "Por ejemplo, el operador $U=\\ket{2}\\bra{1}$ produce la *salida* $\\ket{1}$ si se aplica sobre el vector de *entrada*  $\\ket{1}$\n",
    "\n",
    "<br>\n",
    "\n",
    "$$\n",
    "\\ket{2}\\bra{1} \\big(\\ket{1}\\big) = \\ket{2}\\braket{1}{1} =  \\ket{2}\n",
    "$$\n",
    "\n",
    "<br>\n",
    "\n",
    "De manera más general, el término $\\ket{i}\\bra{j}$ se puede leer como la *instrucción*: si entra $\\ket{j}$ sale $\\ket{i}$ , en cualquier otro caso, sale $0$.\n",
    "\n",
    "<br>\n",
    "\n",
    "$$\n",
    "\\ket{i}\\bra{j} \\big(\\ket{k}\\big) = \\ket{i}\\braket{j}{k} = \\left\\{\n",
    "\\begin{array}{rcl} \\ket{i} & si & k=j \\\\ \\rule{0mm}{6mm} 0 & si & k\\neq j\n",
    "\\end{array} \\right.\n",
    "$$\n",
    "\n",
    "<br>\n",
    "\n",
    "\n",
    "La matriz asociada a este operador tiene un 1 en la fila *i* y la columna *j*. Así, por ejemplo\n",
    "\n",
    "<br>\n",
    "\n",
    "$$\n",
    "\\ket{2}\\bra{1} \\to \\begin{bmatrix} \n",
    "0 & 0  \\\\\n",
    "1 & 0   \\\\\n",
    "\\end{bmatrix}\n",
    "$$\n",
    "<br>\n",
    "\n",
    "Efectivamente\n",
    "\n",
    "<br>\n",
    "\n",
    "\n",
    "$$\n",
    "\\ket{2}\\bra{1} \\big(\\ket{1}\\big) ~\\sim ~\\begin{bmatrix} 0 & 0  \\\\ 1 & 0   \\\\ \\end{bmatrix}  \\begin{bmatrix} 1   \\\\  0   \\\\ \n",
    "\\end{bmatrix} = \\begin{bmatrix} 0   \\\\  1   \\\\\n",
    "\\end{bmatrix} ~\\sim ~ \\ket{2}\n",
    "$$\n",
    "\n",
    "<br>\n",
    "\n",
    "En el espacio ${\\mathbb C}^2$ de 1 cúbit sólo hay cuatro posibilidades\n",
    "\n",
    "<br>\n",
    "\n",
    "$$\n",
    "\\ket{1}\\bra{1}  ~\\sim ~\\begin{bmatrix} 1 & 0  \\\\ 0 & 0   \\\\ \\end{bmatrix} ~~~,~~~\n",
    "\\ket{1}\\bra{2}  ~\\sim ~\\begin{bmatrix} 0 & 1  \\\\ 0 & 0   \\\\ \\end{bmatrix} ~~~,~~~\n",
    "\\ket{2}\\bra{1}  ~\\sim ~\\begin{bmatrix} 0 & 0  \\\\ 1 & 0   \\\\ \\end{bmatrix} ~~~,~~~\n",
    "\\ket{2}\\bra{2}  ~\\sim ~\\begin{bmatrix} 0 & 0  \\\\ 0 & 1   \\\\ \\end{bmatrix} \n",
    "$$\n",
    "\n",
    "\n",
    "<br>\n",
    "\n",
    "- De ellas, dos $\\ket{1}\\bra{1}$ y $\\ket{2}\\bra{2}$, son *proyectores*\n",
    "\n",
    "<br>\n",
    "\n",
    "$$\n",
    "U^2= (\\ket{1}\\bra{1})^2 = \\ket{1}\\braket{1}{1}\\ket{1} = \\ket{1}\\bra{1} = U\n",
    "$$\n",
    "\n",
    "<br>\n",
    "\n",
    "*Ejercicio=* verificar esta propiedad multiplicando las matrices asociadas. "
   ]
  },
  {
   "cell_type": "markdown",
   "metadata": {},
   "source": [
    "#### Operador general\n",
    "\n",
    "- Con la base de operadores $\\ket{i}\\bra{j}$ podemos construir el *operador más general* $U$ como una combinación \n",
    "lineal\n",
    "\n",
    "<br>\n",
    "$$\n",
    "U = \\sum_{i,j=1}^2 U_{ij} \\ket{i}\\bra{j}\n",
    "$$\n",
    "<br>\n",
    "\n",
    "Los coeficientes  $U_{ij}$ forman la *matriz*  asociada al *operador* $U$ en la base $\\{ \\ket{i}\\}$.\n",
    "Ahora la acción de $U$ sobre un vector general $\\ket{u} = \\sum_i u_i \\ket{i}$ dará como resultado un vector\n",
    "$\\ket{v} =\\sum_j v_j \\ket{j}$ donde las componentes $u_i$ del origen y $v_j$ de la imagen se relacionan en la forma siguiente\n",
    "\n",
    "<br>\n",
    "$$\n",
    "v_i = \\sum_{j=1}^2 U_{ij} u_j\n",
    "$$\n",
    "<br>\n",
    "\n",
    "<details>\n",
    "<summary><p style=\"color:blue\">- Demostración</p></summary>\n",
    "\\begin{align}\n",
    "\\ket{v} = U\\ket{u} &=& \\big(\\sum_{i,j=1}^2 U_{ij}\\ket{i}\\bra{j}\\big) \\sum_{k=1}^2 u_k\\ket{k}\\nonumber\\\\\n",
    "    &=& \\sum_{i,j=1}^2 \\sum_{k=1}^2  U_{ij}u_k\\ket{i}\\braket{j}{k}\\nonumber\\\\\n",
    "    &=& \\sum_{i,j=1}^2 \\sum_{k=1}^2 U_{ij}u_k\\ket{i}\\delta_{jk}\\nonumber\\\\\n",
    "    &=&  \\sum_{i}^2 (\\sum_{j=1}^2 U_{ij}u_j)\\ket{i}\\nonumber\\\\\n",
    "    &=& \\sum_{i=1}^2 v_i \\ket{i}\n",
    "\\end{align}\n",
    "Comparando los coeficientes de $\\ket{i}$ llegamos al resultado que queríamos demostrar.\n",
    "</details>\n",
    "\n",
    "Esta sentencia algebráica es la que está contenida en la regla de composición de matrices por cajas\n",
    "\n",
    "<br>\n",
    "\n",
    "$$\n",
    "v_i = \\sum_{j=1}^2 U_{ij} u_j~~~~\\longleftrightarrow ~~~~\n",
    "~\\begin{bmatrix}\n",
    "v_1 \\\\ v_2   \\end{bmatrix} =  \n",
    "\\begin{bmatrix} \n",
    "U_{11} & U_{12}  \\\\\n",
    "U_{21} & U_{22}   \\\\\n",
    "\\end{bmatrix}\n",
    "\\begin{bmatrix} \n",
    "u_1 \\\\ u_2\\end{bmatrix} \\hspace{4cm}\n",
    "$$\n",
    "\n",
    "<br>\n",
    "\n",
    "- Si el operador $U$ es unitario, la matriz asociada $U_{ij}$ verifica la condición de unitariedad matricial\n",
    "\n",
    "<br>\n",
    "\n",
    "$$U^{*}_{ji} = U^{-1}_{ij} $$\n",
    "\n",
    "<br>\n",
    "\n",
    "\n",
    "-  Un ejemplo de operador muy sencillo es la identidad\n",
    "\n",
    "<br>\n",
    "\n",
    "$$\n",
    "I = \\ket{0}\\bra{0} + \\ket{1}\\bra{1} ~~~\\longleftrightarrow ~~~ \n",
    "\\begin{bmatrix} \n",
    "1 & 0  \\\\\n",
    "0 & 1   \\\\\n",
    "\\end{bmatrix}\n",
    "$$\n",
    "\n",
    "<br>\n"
   ]
  },
  {
   "cell_type": "code",
   "execution_count": 27,
   "metadata": {},
   "outputs": [
    {
     "data": {
      "text/latex": [
       "$$\n",
       "U = \n",
       "\n",
       "\\begin{bmatrix}\n",
       "\\tfrac{1}{\\sqrt{2}} & \\tfrac{1}{\\sqrt{2}}i  \\\\\n",
       " \\tfrac{1}{\\sqrt{2}}i & \\tfrac{1}{\\sqrt{2}}  \\\\\n",
       " \\end{bmatrix}\n",
       "$$"
      ],
      "text/plain": [
       "<IPython.core.display.Latex object>"
      ]
     },
     "metadata": {},
     "output_type": "display_data"
    },
    {
     "data": {
      "text/latex": [
       "$$\n",
       "U^\\dagger = \n",
       "\n",
       "\\begin{bmatrix}\n",
       "\\tfrac{1}{\\sqrt{2}} & -\\tfrac{1}{\\sqrt{2}}i  \\\\\n",
       " -\\tfrac{1}{\\sqrt{2}}i & \\tfrac{1}{\\sqrt{2}}  \\\\\n",
       " \\end{bmatrix}\n",
       "$$"
      ],
      "text/plain": [
       "<IPython.core.display.Latex object>"
      ]
     },
     "metadata": {},
     "output_type": "display_data"
    },
    {
     "data": {
      "text/latex": [
       "$$\n",
       "U^\\dagger U= \n",
       "\n",
       "\\begin{bmatrix}\n",
       "1 & 0  \\\\\n",
       " 0 & 1  \\\\\n",
       " \\end{bmatrix}\n",
       "$$"
      ],
      "text/plain": [
       "<IPython.core.display.Latex object>"
      ]
     },
     "metadata": {},
     "output_type": "display_data"
    }
   ],
   "source": [
    "'Matriz de un operador en python'\n",
    "\n",
    "U=np.matrix([[1,1J],[1J,  1]])/np.sqrt(2)\n",
    "\n",
    "Uadj=U.getH() # get the hermitian conjugate\n",
    "\n",
    "#from qiskit.visualization import plot_bloch_multivector, array_to_latex  \n",
    "\n",
    "display(array_to_latex(U, prefix=\"U = \\n\"))\n",
    "display(array_to_latex(Uadj, prefix=\"U^\\dagger = \\n\"))\n",
    "display(array_to_latex(np.matmul(Uadj,U), prefix=\"U^\\dagger U= \\n\"))"
   ]
  },
  {
   "cell_type": "markdown",
   "metadata": {},
   "source": [
    "<a id='dirac'></a>\n",
    "<table width=\"100%\">\n",
    "    <td style=\"font-size:30px;font-family:Helvetica;text-align:left;background-color:rgba(12, 43, 337, 0.3);\">\n",
    "<b>Puertas Simples</b>\n",
    "</table>   "
   ]
  },
  {
   "cell_type": "markdown",
   "metadata": {},
   "source": [
    "Por puertas simples entendemos un conjunto de operadores unitarios que se utilizan con frecuencia en la computación cuántica. La razón es que son relativamente sencillos de implementar físicamente. Dependiendo del tipo de sistema físico del que se trate podrá ampliarse este conjunto."
   ]
  },
  {
   "cell_type": "markdown",
   "metadata": {},
   "source": [
    "### Puerta de fase \n",
    "\n",
    "- Sea $\\alpha\\in{\\mathbb R}$. La siguiente matriz $U=R_\\alpha$\n",
    "\n",
    "<br>\n",
    "\n",
    "$$\n",
    "R_\\alpha= \\begin{bmatrix}\n",
    "1 & 0 \\\\ 0 & e^{i\\alpha}\n",
    "\\end{bmatrix}\n",
    "$$\n",
    "\n",
    "<br>\n",
    "\n",
    "\n",
    "es unitaria para todo $\\alpha$ como se comprueba fácilmente \n",
    "\n",
    "\n",
    "<br>\n",
    "\n",
    "$$\n",
    "R_\\alpha^{*t} \\cdot R_\\alpha =   \\begin{bmatrix}\n",
    "1 & 0 \\\\ 0 & e^{-i\\alpha}\n",
    "\\end{bmatrix}  \\begin{bmatrix}\n",
    "1 & 0 \\\\ 0 & e^{i\\alpha}\n",
    "\\end{bmatrix} =  \\begin{bmatrix}\n",
    "1 & 0 \\\\ 0 & 1\n",
    "\\end{bmatrix}\n",
    "$$\n",
    "\n",
    "<br>\n",
    "\n",
    "\n",
    "Aplicada a un estado de cúbit genérico \n",
    "\n",
    "\n",
    "<br>\n",
    "\n",
    "$$\n",
    "R_\\alpha \\ket{u} =  \\begin{bmatrix} 1 & 0 \\\\ 0 & e^{i\\alpha} \\end{bmatrix}\n",
    "\\begin{bmatrix} \\cos\\theta \\\\ \\sin\\theta e^{i\\phi} \\end{bmatrix} = \\begin{bmatrix} \\cos\\theta \\\\ \\sin\\theta e^{i(\\phi+\\alpha)} \n",
    "\\end{bmatrix}= \\ket{v}\n",
    "$$\n",
    "\n",
    "<br>\n",
    "\n",
    "\n",
    "El efecto de este operador, es rotar cualquier cúbit en torno al eje Z un ángulo $\\alpha$. Intuitivamente es evidente que dicha rotación deja intactos los vectores de la base $\\ket{0}$ y $\\ket{1}$. Compruébalo."
   ]
  },
  {
   "cell_type": "markdown",
   "metadata": {},
   "source": [
    "- Podemos escribir\n",
    "\n",
    "<br>\n",
    "\n",
    "$$\n",
    "R_\\alpha = \\begin{bmatrix} 1 & 0 \\\\ 0 & e^{i\\alpha} \\end{bmatrix} = \n",
    "\\begin{bmatrix} e^{i\\alpha/2} & 0 \\\\ 0 & e^{i\\alpha/2} \\end{bmatrix} \n",
    "\\begin{bmatrix} e^{-i\\alpha/2} & 0 \\\\ 0 & e^{i\\alpha/2} \\end{bmatrix}   \\equiv e^{i\\alpha/2} R_z(\\alpha)\n",
    "$$\n",
    "\n",
    "<br>\n",
    "\n",
    "\n",
    "La acción de la  *puerta de fase global*\n",
    "\n",
    "<br>\n",
    "\n",
    "$$\n",
    "e^{i\\beta}I =\\begin{bmatrix}  e^{i\\beta} & 0 \\\\ 0 &  e^{i\\beta} \\end{bmatrix} = e^{i\\beta}\\big(\\ket{0}\\bra{0} +\\ket{1}\\bra{1}\\big)\n",
    "$$\n",
    "\n",
    "<br>\n",
    "\n",
    "\n",
    "sobre un cúbit es trivial. Por tanto los dos operadores $U$ y $R_Z(\\alpha)$ son equivalentes y producen el mismo efecto sobre la esfera de Bloch.\n",
    "\n"
   ]
  },
  {
   "cell_type": "markdown",
   "metadata": {},
   "source": [
    "- Asociado a rotaciones en torno a los ejes $X$, $Y$ y $Z$ de un ángulo $\\alpha$ encontramos las tres puertas siguientes\n",
    "\n",
    "\n",
    "<br>\n",
    "\n",
    "$$\n",
    "\\begin{array}{rcl}\n",
    "R_{z}(\\alpha) &=&  \\begin{bmatrix} e^{-i\\alpha/2}  & 0 \\\\ 0 & e^{i\\alpha/2}  \\end{bmatrix}  ~,~\\nonumber\\\\\n",
    "\\rule{0mm}{14mm}\n",
    "R_{y}(\\alpha) &=&  \\begin{bmatrix} \\cos \\alpha/2  & -\\sin \\alpha/2 \\\\   \\sin\\alpha/2 & \\cos\\alpha/2 \\end{bmatrix}  \\nonumber \\\\\n",
    "\\rule{0mm}{14mm}\n",
    "R_{x}(\\alpha)  &=&  \\begin{bmatrix} \\cos\\alpha/2  &- i\\sin\\alpha/2 \\\\   -i\\sin\\alpha/2& \\cos\\alpha/2 \\end{bmatrix} \\, .\\nonumber\n",
    "\\end{array}\n",
    "$$\n",
    "\n",
    "<br>\n",
    "\n"
   ]
  },
  {
   "cell_type": "markdown",
   "metadata": {},
   "source": [
    "**Ejercicio**: partiendo del estado $\\ket{0}$ efectúa una rotación $R_y(\\pi/2)$ seguida de otra rotación $R_x(\\pi/4)$.\n",
    "Dibuja el estado sobre la esfera de Bloch. "
   ]
  },
  {
   "cell_type": "markdown",
   "metadata": {},
   "source": [
    "### Puertas Discretas"
   ]
  },
  {
   "cell_type": "markdown",
   "metadata": {},
   "source": [
    "- $X,Y,Z$\n",
    "\n",
    "La computación clásica se basa en la descomposición de algoritmos complejos en una serie de puertas lógicas elementales. Veremos que lo mismo ocurre con la computación cuántica. A partir de las puertas $R_X(\\alpha),R_Y(\\alpha)$ y $R_Z(\\alpha)$ definimos las siguientes puertas elementales. \n",
    "\n",
    "\n",
    "<br>\n",
    "\n",
    "$$\n",
    "\\begin{array}{rcl}\n",
    "X = \\begin{bmatrix}0&1\\\\1&0\\end{bmatrix} = \\sigma_x~~~, ~~~\n",
    "Y = \\begin{bmatrix}0&-i\\\\i&0\\end{bmatrix}= \\sigma_y~~~, ~~~\n",
    "Z = \\begin{bmatrix}1&0\\\\0&-1\\end{bmatrix}= \\sigma_z~~~~, ~~~\n",
    "\\end{array}\n",
    "$$\n",
    "\n",
    "<br>\n",
    "\n",
    "\n",
    "donde hemos remarcado la igualdad con las *matrices de Pauli*.\n",
    "\n"
   ]
  },
  {
   "cell_type": "markdown",
   "metadata": {},
   "source": [
    "-  $S,T$\n",
    "\n",
    "Cualquier potencia $U^k$ de un operador unitario es otro operador unitario. Esto es fácil de demostrar cuando $k=2$ pero es cierto en el caso general $k\\in{\\mathbb R}$. Así obtenemos\n",
    "\n",
    "\n",
    "<br>\n",
    "\n",
    "$$\n",
    "S = Z^{1/2} =  \\begin{bmatrix}1&0\\\\0&i\\end{bmatrix}=\\begin{bmatrix}1&0\\\\0&e^{i\\pi/2}\\end{bmatrix} ~~~~~,~~~~~~ T = S^{1/2} =  \\begin{bmatrix}1&0\\\\0&e^{i\\pi/4}\\end{bmatrix}\n",
    "$$\n",
    "\n",
    "<br>\n",
    "\n"
   ]
  },
  {
   "cell_type": "markdown",
   "metadata": {},
   "source": [
    "**Ejercicio**: mostrar cómo obtener  $X,Y,Z$ a partir de   $R_X(\\alpha),R_Y(\\alpha)$ y $R_Z(\\alpha)$ como casos particulares con $\\alpha = \\pi/2$."
   ]
  },
  {
   "cell_type": "markdown",
   "metadata": {},
   "source": [
    "- $H$   \n",
    "\n",
    "La puerta de Hadamard, $H$, es la primera puerta genuinamente cuántica en el sentido de que aplica un estado de la base a una superposición\n",
    "\n",
    "\n",
    "<br>\n",
    "\n",
    "$$\n",
    "H \\ket{0} = \\frac{1}{\\sqrt{2}}(\\ket{0} + \\ket{1}) =\\ket{+}  ~~~~~~~~,~~~~~~~~~~\n",
    "H \\ket{1} = \\frac{1}{\\sqrt{2}}(\\ket{0} - \\ket{1}) =\\ket{-} \n",
    "$$\n",
    "\n",
    "<br>\n",
    "\n",
    "de forma que la imagen de $\\{\\ket{0},\\ket{1}\\}$ bajo la acción de $H$ es la nueva base $\\{\\ket{+},\\ket{-}\\}$\n",
    "\n",
    "La representación matricial de $H$ es la siguiente\n",
    "\n",
    "\n",
    "<br>\n",
    "\n",
    "$$\n",
    "H   =  \\frac{1}{\\sqrt{2}} \\begin{bmatrix} 1& 1 \\\\ 1 & -1 \\end{bmatrix} \n",
    "$$\n",
    "\n",
    "<br>\n",
    "\n",
    "\n",
    "Veamos su acción sobre los elementos de la base\n",
    "\n",
    "<br>\n",
    "\n",
    "$$\n",
    " \\frac{1}{\\sqrt{2}} \\begin{bmatrix} 1& 1 \\\\ 1 & -1 \\end{bmatrix} \\begin{bmatrix} 1 \\\\ 0 \\end{bmatrix}\n",
    "=\\frac{1}{\\sqrt{2}}\\begin{bmatrix} 1 \\\\ 1 \\end{bmatrix} \n",
    "~~~~~~, ~~~~~~~\n",
    "  \\frac{1}{\\sqrt{2}} \\begin{bmatrix} 1& 1 \\\\ 1 & -1 \\end{bmatrix} \\begin{bmatrix} 0 \\\\ 1 \\end{bmatrix} \n",
    "=\\frac{1}{\\sqrt{2}}\\begin{bmatrix} 1 \\\\ -1 \\end{bmatrix} \n",
    "$$\n",
    "\n",
    "<br>\n",
    "\n",
    "\n",
    "Cualquier puerta puede entenderse como una rotación en la esfera de Bloch $H$ no es menos. La manera geométrica de visualizar $H$ es como una rotación de $\\pi$ radianes en torno a un eje diagonal situado a 45$^\\circ$ entre el eje $x$ \n",
    "y el eje $y$. Esta rotación permita los ejes $x$ y $z$ y cambia de sentido el eje $y$.\n",
    "\n",
    "\n",
    "Con un poco de imaginación es fácil ver que esta operación puede hacerse en dos pasos: una  rotación de $\\pi/2$ radianes sobre el eje $Y$ seguida de una rotación de  $\\pi$ radianes en torno al eje $X$. El efecto combinado sobre los ejes $x$, $y$ y $z$ es el comentado anteriormente, por lo que la operación es la misma. Finalmente, lo demostramos algebraicamente\n",
    "\n",
    "\n",
    "<br>\n",
    "\n",
    "$$\n",
    " R_x(\\pi)R_{y}\\left(\\frac{\\pi}{2}\\right) = X R_{y}\\left(\\frac{\\pi}{2}\\right) = \\begin{bmatrix}0&1\\\\1&0\\end{bmatrix} \\begin{bmatrix}\\cos\\pi/4& -\\sin\\pi/4 \\\\ \\sin\\pi/4 & \\cos\\pi/4 \\end{bmatrix} = \\frac{1}{\\sqrt{2}} \\begin{bmatrix}0&1\\\\1&0\\end{bmatrix} \\begin{bmatrix}1 & -1 \\\\ 1 & 1 \\end{bmatrix}  = \\frac{1}{\\sqrt{2}} \\begin{bmatrix}1&1\\\\1&-1\\end{bmatrix} = H\n",
    "$$\n",
    "\n",
    "<br>\n",
    "\n"
   ]
  },
  {
   "cell_type": "markdown",
   "metadata": {},
   "source": [
    "### Puerta general\n",
    "\n",
    "- $U(\\theta,\\phi,\\varphi) $\n",
    "\n",
    "todas las puertas anteriores se pueden ver como casos particulares de la puerta general\n",
    "\n",
    "\n",
    "<br>\n",
    "\n",
    "$$\n",
    "U(\\theta,\\phi,\\varphi)=\\begin{bmatrix}   \\cos \\displaystyle\\frac{\\theta}{2}  & - e^{i\\varphi} \\sin\\displaystyle\\frac{\\theta}{2}  \\\\ \n",
    "\\rule{0mm}{4mm} e^{i\\phi} \\sin \\displaystyle\\frac{\\theta}{2} &e^{i(\\varphi+\\phi)} \\cos \\displaystyle\\frac{\\theta}{2} \\end{bmatrix}\n",
    "$$\n",
    "\n",
    "<br>\n",
    "\n",
    "que depende de 3 ángulos de Euler $\\theta,\\phi$ y $\\varphi$.\n",
    "Es evidente que la acción de este operador sobre el estado $\\ket{0} = \\begin{bmatrix} 1\\\\0\\end{bmatrix}$ produce el estado de cúbit más general\n",
    "\n",
    "<br>\n",
    "\n",
    "$$\n",
    "U(\\theta,\\phi,\\varphi)\\ket{0}= \\begin{bmatrix} \\cos\\displaystyle\\frac{\\theta}{2}\\\\ e^{i\\phi} \\sin \\displaystyle \\frac{\\theta}{2} \\end{bmatrix} = \\cos\\frac{\\theta}{2}\\ket{0} + e^{i\\phi} \\sin \\frac{\\theta}{2} \\ket{1} \n",
    "$$\n",
    "\n",
    "<br>\n",
    "\n",
    "Todos los operadores discretos introducidos anteriormente son casos particulares de este. Por ejemplo $H = U(\\theta=\\pi/2,\\phi=0,\\varphi=\\pi)$ "
   ]
  },
  {
   "cell_type": "markdown",
   "metadata": {},
   "source": [
    "<a id='dirac'></a>\n",
    "<table width=\"100%\">\n",
    "    <td style=\"font-size:30px;font-family:Helvetica;text-align:left;background-color:rgba(12, 43, 337, 0.3);\">\n",
    "<b>Circuitos Cuánticos</b>\n",
    "</table>   "
   ]
  },
  {
   "cell_type": "markdown",
   "metadata": {},
   "source": [
    "- La aplicación de una *puerta* se representa mediante un cuadrado que contiene los datos del operador asociado.\n",
    "Por ejemplo, la aplicación del operador\n",
    "\n",
    "<br>\n",
    "\n",
    "$$\n",
    "\\ket{\\psi} \\to  U(\\theta,\\phi,\\varphi)\\ket{\\psi}\n",
    "$$\n",
    "\n",
    "<br>\n",
    "\n",
    "se representa mediante el circuito elemental siguiente\n",
    "\n",
    "<br>\n",
    "\n",
    "<div>\n",
    "<img src=\"images/puerta_simple.png\" width=\"200\"/>\n",
    "</div>\n",
    "\n",
    "<br>\n",
    "\n",
    "\n",
    "- La concatenación de puertas se corresponde con la composición de operadores, es decir, con la multiplicación de las matrices asociadas. \n",
    "Es importante remarcar que el *orden* en el que aparecen los operadores en la composición es el opuesto al que se aprecia en el circuito. Así por ejemplo a la composición de operadores \n",
    "\n",
    "$$\n",
    "\\ket{\\psi} \\to  TH \\ket{\\psi} \n",
    "$$\n",
    "\n",
    "<br>\n",
    "\n",
    "le corresponde un circuito en el que primero se aplica $T$ y después $H$\n",
    "\n",
    "Podemos representar el circuito usando qiskit"
   ]
  },
  {
   "cell_type": "code",
   "execution_count": 9,
   "metadata": {},
   "outputs": [
    {
     "data": {
      "image/png": "[encoded data removed]",
      "text/plain": [
       "<Figure size 193.726x84.28 with 1 Axes>"
      ]
     },
     "execution_count": 9,
     "metadata": {},
     "output_type": "execute_result"
    }
   ],
   "source": [
    "from qiskit import Aer, execute, QuantumCircuit, QuantumRegister, ClassicalRegister \n",
    "from qiskit.tools.visualization import plot_bloch_multivector    \n",
    "S_simulator = Aer.get_backend('statevector_simulator')\n",
    "\n",
    "\n",
    "qr=QuantumRegister(1,name='q')\n",
    "#cr=ClassicalRegister(1,name='r')\n",
    "qc=QuantumCircuit(qr)\n",
    "\n",
    "#qc.x(qr[0])\n",
    "#qc.y(qr[0])\n",
    "#qc.z(qr[0])\n",
    "qc.h(qr[0])\n",
    "qc.t(qr[0])\n",
    "\n",
    "qc.draw(output='mpl')"
   ]
  },
  {
   "cell_type": "markdown",
   "metadata": {},
   "source": [
    "Todo circuito se corresponde con un operador unitario que se obtiene componiendo todos los operadores que figuran en el. Por ejemplo, el circuito anterior representa el operador unitario $U$ al que le corresponde la matriz obtenida por multiplicación\n",
    "\n",
    "\n",
    "<br>\n",
    "\n",
    "$$\n",
    "U = T H ~~~\\to ~~~ U_{ij} = \\begin{bmatrix}1&0\\\\0&e^{i\\pi/4}\\end{bmatrix} \\frac{1}{\\sqrt{2}} \\begin{bmatrix} 1& 1 \\\\ 1 & -1 \\end{bmatrix}  = \n",
    "\\frac{1}{\\sqrt{2}} \\begin{bmatrix} 1& 1 \\\\ e^{i\\pi/4} & -e^{i\\pi/4} \\end{bmatrix} \n",
    "$$\n",
    "\n",
    "<br>\n",
    "\n",
    "\n",
    "El resultado de la aplicación sobre el vector $\\ket{0}$ será\n",
    "\n",
    "\n",
    "<br>\n",
    "\n",
    "$$\n",
    "\\frac{1}{\\sqrt{2}} \\begin{bmatrix} 1& 1 \\\\ e^{i\\pi/4} & -e^{i\\pi/4} \\end{bmatrix} \\begin{bmatrix}1 \\\\ 0 \\end{bmatrix}\n",
    " = \\frac{1}{\\sqrt{2}} \\begin{bmatrix} 1  \\\\ e^{i\\pi/4}  \\end{bmatrix} \n",
    "$$\n",
    "\n",
    "<br>\n",
    "\n",
    "\n",
    "Podemos visualizar el resultado sobre la esfera de Bloch. Pero antes podemos anticipar el resultado. El operador $H$\n",
    "lleva el vector $\\ket{0}$ sobre el eje $z$ al vector $\\ket{+}$ que se halla sobre el eje $x$. Posterioremente, $T$ es una rotación de ángulo $\\pi/4$ en torno al eje $z$ que moverá el vector $\\ket{+}$ sobre el plano ecuatorial. Veamos el resultado"
   ]
  },
  {
   "cell_type": "code",
   "execution_count": 10,
   "metadata": {},
   "outputs": [
    {
     "name": "stdout",
     "output_type": "stream",
     "text": [
      "[0.70711+0.j  0.5    +0.5j]\n"
     ]
    },
    {
     "data": {
      "image/png": "[encoded data removed]",
      "text/plain": [
       "<Figure size 288x288 with 1 Axes>"
      ]
     },
     "execution_count": 10,
     "metadata": {},
     "output_type": "execute_result"
    }
   ],
   "source": [
    "# method execute(circuit,backend) creates an object \"job\" that contains the result of execution\n",
    "statejob=execute(qc,S_simulator) \n",
    "stateresult=statejob.result()  \n",
    "\n",
    "# print the state vector\n",
    "state_vector = stateresult.get_statevector(decimals=5)\n",
    "print(state_vector)\n",
    "\n",
    "# plot the state vector on the Bloch sphere\n",
    "from qiskit.tools.visualization import plot_bloch_multivector\n",
    "\n",
    "plot_bloch_multivector(state_vector)"
   ]
  }
 ],
 "metadata": {
  "kernelspec": {
   "display_name": "Python 3",
   "language": "python",
   "name": "python3"
  },
  "language_info": {
   "codemirror_mode": {
    "name": "ipython",
    "version": 3
   },
   "file_extension": ".py",
   "mimetype": "text/x-python",
   "name": "python",
   "nbconvert_exporter": "python",
   "pygments_lexer": "ipython3",
   "version": "3.8.5"
  },
  "varInspector": {
   "cols": {
    "lenName": 16,
    "lenType": 16,
    "lenVar": 40
   },
   "kernels_config": {
    "python": {
     "delete_cmd_postfix": "",
     "delete_cmd_prefix": "del ",
     "library": "var_list.py",
     "varRefreshCmd": "print(var_dic_list())"
    },
    "r": {
     "delete_cmd_postfix": ") ",
     "delete_cmd_prefix": "rm(",
     "library": "var_list.r",
     "varRefreshCmd": "cat(var_dic_list()) "
    }
   },
   "types_to_exclude": [
    "module",
    "function",
    "builtin_function_or_method",
    "instance",
    "_Feature"
   ],
   "window_display": false
  }
 },
 "nbformat": 4,
 "nbformat_minor": 5
}
