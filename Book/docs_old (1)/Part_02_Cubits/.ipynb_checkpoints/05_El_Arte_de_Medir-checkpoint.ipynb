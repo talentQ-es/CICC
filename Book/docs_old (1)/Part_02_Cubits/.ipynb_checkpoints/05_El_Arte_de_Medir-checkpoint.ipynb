{
 "cells": [
  {
   "cell_type": "markdown",
   "metadata": {},
   "source": [
    "<img   src=\"../figuras/logo/TalentQ_LogoPosNegro.png\" align=center  width=\"120\"/>\n",
    "<br>\n",
    "\n",
    "<table width=\"100%\">\n",
    "<td style=\"font-size:50px;font-style:italic;text-align:right;background-color:rgba(0, 160, 120,0.6)\">\n",
    "El arte de medir\n",
    "</td></table>\n",
    "\n",
    "\n",
    "\n",
    "$ \\newcommand{\\bra}[1]{\\langle #1|} $\n",
    "$ \\newcommand{\\ket}[1]{|#1\\rangle} $\n",
    "$ \\newcommand{\\braket}[2]{\\langle #1|#2\\rangle} $\n",
    "$ \\newcommand{\\i}{{\\color{blue} i}} $ \n",
    "$ \\newcommand{\\Hil}{{\\mathbb H}} $\n",
    "$ \\newcommand{\\boldn}{{\\bf n}} $"
   ]
  },
  {
   "cell_type": "markdown",
   "metadata": {},
   "source": [
    "<table width=\"100%\">\n",
    "    <td style=\"font-size:30px;font-family:Helvetica;text-align:left;background-color:rgba(12, 43, 337, 0.3);\">\n",
    "<b>Medidas de 1 cúbit</b>\n",
    "</table>"
   ]
  },
  {
   "cell_type": "markdown",
   "metadata": {},
   "source": [
    "<table width=\"100%\"><td style=\"font-size:14px;font-style:roman;text-align:right\">\n",
    "\n",
    "Un *aparato de medida* está asociado a un operador hermítico, y  sólo produce como resultado uno de los posibles autovalores.   Gráficamente la medida de un cúbit se representa mediante el siguiente circuito\n",
    "\n",
    "<br>\n",
    "<div>\n",
    "<img src=\"images/comp_basis_meter.png\" width=\"200\"/>\n",
    "</div>\n",
    "<br>\n",
    "\n",
    "</table>"
   ]
  },
  {
   "cell_type": "markdown",
   "metadata": {},
   "source": [
    "## Medidas en la base computacional"
   ]
  },
  {
   "cell_type": "markdown",
   "metadata": {},
   "source": [
    "Los elementos de la base computacional $\\ket{a}\\in \\{\\ket{0},\\ket{1}\\}$, son autoestados del *observable* $Z = \\sigma_z $, cuyos autovalores son $+1$ y $-1$ respectivamente cumplen\n",
    "\n",
    "<br>\n",
    "$$\n",
    "Z\\ket{0} = +\\ket{0}~~~~,~~~~~ Z\\ket{1} = -\\ket{1}\n",
    "$$ \n",
    "\n",
    "<br>\n",
    "\n",
    "Podemos resumir ambos resultados como: $Z\\ket{a} = (-1)^a\\ket{a}$, \n",
    "con  $a=\\{0,1\\}$.\n",
    "\n",
    "<br>\n",
    "\n",
    "\n",
    "\n",
    "\n",
    "El cable que sale de un aparato de medida es una línea doble, lo cuál indica\n",
    "que es un canal clásico, incapaz de transmitir  superposiciones sino sólo  bits clásicos $0$ ó $1$ . La razón de no seguir escribiendo un canal cuántico es que, en la mayoría de las ocasiones, la medida altera el estado tanto que lo destruye. Más allá de la identificación correcta del valor de $a$, no queda nada del estado original.\n"
   ]
  },
  {
   "cell_type": "markdown",
   "metadata": {
    "heading_collapsed": true
   },
   "source": [
    "## Medidas en un ordenador"
   ]
  },
  {
   "cell_type": "markdown",
   "metadata": {
    "heading_collapsed": true,
    "hidden": true
   },
   "source": [
    "### Simulador"
   ]
  },
  {
   "cell_type": "markdown",
   "metadata": {
    "hidden": true
   },
   "source": [
    "Se trata de un programa clásico que **simula** un circuito cuántico utilizando las leyes de la Mecánica Cuántica. El resultado de un circuito calculado con qasm_simulator sólo se puede obtener mediante un aparato de medida que, usado repetidas veces nos permitirá reconstruir el estado de manera estadística."
   ]
  },
  {
   "cell_type": "code",
   "execution_count": 8,
   "metadata": {
    "hidden": true
   },
   "outputs": [
    {
     "name": "stdout",
     "output_type": "stream",
     "text": [
      "{'0': 1023, '1': 1025}\n"
     ]
    }
   ],
   "source": [
    "from qiskit import QuantumRegister,QuantumCircuit\n",
    "from qiskit import Aer, execute \n",
    "M_simulator = Aer.get_backend('qasm_simulator')\n",
    "\n",
    "qc=QuantumCircuit(1,1)\n",
    "qc.h(0)\n",
    "qc.measure(0,0)\n",
    "\n",
    "job=execute(qc,backend=M_simulator,shots=2048) # Hacemos la simulación 2048 veces )\n",
    "result=job.result()\n",
    "counts=result.get_counts()\n",
    "\n",
    "#qcobj = transpile(qc, M_simulator )      # Crea un objeto compilado a partir del circuito  \n",
    "#job = M_simulator.run(qcobj, shots=2048) # Hacemos la simulación 2048 veces \n",
    "#resultado = job.result()                 # Obtenemos los resultados\n",
    "\n",
    "print(counts)"
   ]
  },
  {
   "cell_type": "code",
   "execution_count": 9,
   "metadata": {
    "hidden": true
   },
   "outputs": [
    {
     "data": {
      "image/png": "[encoded data removed]",
      "text/plain": [
       "<Figure size 504x360 with 1 Axes>"
      ]
     },
     "execution_count": 9,
     "metadata": {},
     "output_type": "execute_result"
    }
   ],
   "source": [
    "from qiskit.tools.visualization import plot_histogram\n",
    "plot_histogram(counts) # Mostramos un histograma de resultados"
   ]
  },
  {
   "cell_type": "markdown",
   "metadata": {
    "heading_collapsed": true,
    "hidden": true
   },
   "source": [
    "### Ordenador cuántico real"
   ]
  },
  {
   "cell_type": "markdown",
   "metadata": {
    "hidden": true
   },
   "source": [
    "Una vez que hemos verificado que el programa corre bien en nuestro simulador, podemos lanzarlo a un ordenador cuántico real sin más que cambiar el *backend*."
   ]
  },
  {
   "cell_type": "code",
   "execution_count": 7,
   "metadata": {
    "hidden": true
   },
   "outputs": [
    {
     "data": {
      "text/plain": [
       "[<IBMQBackend('ibmq_armonk') from IBMQ(hub='ibm-q', group='open', project='main')>,\n",
       " <IBMQSimulator('ibmq_qasm_simulator') from IBMQ(hub='ibm-q', group='open', project='main')>,\n",
       " <IBMQSimulator('simulator_statevector') from IBMQ(hub='ibm-q', group='open', project='main')>,\n",
       " <IBMQSimulator('simulator_mps') from IBMQ(hub='ibm-q', group='open', project='main')>,\n",
       " <IBMQBackend('ibmq_quito') from IBMQ(hub='ibm-q', group='open', project='main')>,\n",
       " <IBMQBackend('ibmqx2') from IBMQ(hub='ibm-q', group='open', project='main')>,\n",
       " <IBMQBackend('ibmq_santiago') from IBMQ(hub='ibm-q', group='open', project='main')>,\n",
       " <IBMQBackend('ibmq_belem') from IBMQ(hub='ibm-q', group='open', project='main')>,\n",
       " <IBMQBackend('ibmq_lima') from IBMQ(hub='ibm-q', group='open', project='main')>,\n",
       " <IBMQBackend('ibmq_bogota') from IBMQ(hub='ibm-q', group='open', project='main')>,\n",
       " <IBMQSimulator('simulator_extended_stabilizer') from IBMQ(hub='ibm-q', group='open', project='main')>,\n",
       " <IBMQSimulator('simulator_stabilizer') from IBMQ(hub='ibm-q', group='open', project='main')>,\n",
       " <IBMQBackend('ibmq_manila') from IBMQ(hub='ibm-q', group='open', project='main')>]"
      ]
     },
     "execution_count": 7,
     "metadata": {},
     "output_type": "execute_result"
    }
   ],
   "source": [
    "from qiskit import IBMQ\n",
    "IBMQ.load_account()\n",
    "provider = IBMQ.get_provider(hub='ibm-q')\n",
    "provider.backends()"
   ]
  },
  {
   "cell_type": "markdown",
   "metadata": {
    "hidden": true
   },
   "source": [
    "antes de enviar un trabajo es conveniente consultar qué máquina de las adecuadas a nuestras necesidades es la que está más libre"
   ]
  },
  {
   "cell_type": "code",
   "execution_count": 9,
   "metadata": {
    "hidden": true
   },
   "outputs": [
    {
     "name": "stdout",
     "output_type": "stream",
     "text": [
      "least busy backend:  ibmq_armonk\n"
     ]
    }
   ],
   "source": [
    "from qiskit.providers.ibmq import least_busy\n",
    "IBMQ_best_backend = least_busy(provider.backends(filters=lambda x: x.configuration().n_qubits >= 1 \n",
    "                                       and not x.configuration().simulator \n",
    "                                       and x.status().operational==True))\n",
    "print(\"least busy backend: \", IBMQ_best_backend)"
   ]
  },
  {
   "cell_type": "code",
   "execution_count": null,
   "metadata": {
    "hidden": true
   },
   "outputs": [],
   "source": [
    "qobj = transpile(qc, IBMQ_best_backend)           # Compila el código para el backend\n",
    "job_sim = IBMQ_best_backend.run(qobj, shots=1024) # Hacemos la simulación 1024 veces \n",
    "result = job_sim.result()               # Obtenemos los resultados\n",
    "plot_histogram(result.get_counts())     # Mostramos un histograma de resultados"
   ]
  },
  {
   "cell_type": "markdown",
   "metadata": {
    "heading_collapsed": true
   },
   "source": [
    "<table width=\"100%\">\n",
    "    <td style=\"font-size:30px;font-family:Helvetica;text-align:left;background-color:rgba(12, 43, 337, 0.3);\">\n",
    "<b>Medidas en bases generales</b>\n",
    "</table>"
   ]
  },
  {
   "cell_type": "markdown",
   "metadata": {
    "hidden": true
   },
   "source": [
    "A parte de la base computacional $\\{\\ket{0},\\ket{1} \\}$, es muy necesario y frecuente el uso de otras bases ortonormales como  $\\{\\ket{+},\\ket{-} \\}$ ó  $\\{\\ket{+i},\\ket{-i} \\}$. Todas ellas diagonalizan algún operador de Pauli y, por  tanto, puede servir para construir aparatos de medida que discriminen\n",
    "entre sus estados\n",
    "\n",
    "<br>\n",
    "\n",
    "\\begin{eqnarray}\n",
    "\\sigma_z \\ket{0} =+ \\ket{0}   ~~~~~~~~~~~~&,& ~~~~~~~~~~ \\sigma_z \\ket{1} =-\\ket{1} \\\\ \\rule{0mm}{8mm}\n",
    "\\sigma_x \\ket{+} =+ \\ket{+}   ~~~~~~~~~~~&,& ~~~~~~~~~~ \\sigma_x \\ket{-} =-\\ket{-} \\\\ \\rule{0mm}{8mm}\n",
    "\\sigma_y \\ket{+i} =+ \\ket{+i}   ~~~~~~~~&,&~~~~~~~ \\sigma_y \\ket{-i} =-\\ket{-i} \\\\\n",
    "\\end{eqnarray}\n",
    "\n",
    "<br>\n",
    "\n",
    "\n",
    "El contenido físico de estas ecuaciones es que el aparato de medida asociado $\\sigma_z$ colapsa el estado a uno de los elementos de la base $\\{\\ket{0},\\ket{1} \\}$.\n",
    "Igualmente, los aparatos de medida asociados a $\\sigma_x$ y $\\sigma_y$  producen como salida, elementos de las bases $\\{\\ket{+},\\ket{-}\\}$ y $\\{\\ket{+i},\\ket{-i}\\}$  respectivamente.\n",
    "\n",
    "<table width=\"100%\"><td style=\"font-size:14px;font-style:roman;text-align:left;\">\n",
    "    Supongamos que <b>sólo</b> contamos con un aparato de medida en la base computacional    de autoestados de $\\sigma_z$.\n",
    "¿Cómo podríamos utilizar  dicho aparato para efectuar medidas en las bases de autoestados de $\\sigma_x$ y $\\sigma_y$?\n",
    "</td>\n",
    "</table>\n",
    "\n",
    "La clave está en *rotar* los estados de la base $x$ ó $y$ en la que *queremos medir* a la base $z$ en la que *podemos medir*\n",
    "\n",
    "<br>\n",
    "\n",
    "\\begin{eqnarray}\n",
    "H \\ket{+}  = \\ket{0}   ~~~~~~~~~~ &,&   ~~~~~~~~~~~~ H \\ket{-}  = \\ket{1}    \\\\ \\rule{0mm}{8mm}\n",
    "H S^\\dagger \\ket{+i}  = \\ket{0}   ~~~~~~~~~~ &,& ~~~~ HS^\\dagger \\ket{-i}  = \\ket{1}   \n",
    "\\end{eqnarray}\n",
    "\n",
    "<br>\n",
    "\n",
    "En los circuitos que se representan a continuación, vemos cómo un medidor en las bases $x$ ó $y$ puede reducirse a un aparato de medida en la base $z$. El primer circuito asigna valores $\\pm 1$ a estados $\\ket{\\pm}$ y el segundo a estados $\\ket{\\pm i}$\n",
    "\n",
    "<br>\n",
    "<br>\n",
    "\n",
    "<div>\n",
    "<img src=\"images/XY_measures.png\" width=\"500\"/>\n",
    "</div>\n",
    "<br>\n",
    "\n",
    "\n",
    "<div class=\"alert alert-block alert-success\">\n",
    "    <b>Ejercicio:</b> \n",
    "Comprueba las identidades entre operadores  siguientes  \n",
    "\n",
    "$$\n",
    "\\sigma_x = H \\sigma_z H ~~~~~~~,~~~~~~~\\sigma_y = S^\\dagger  H  \\sigma_z   H S\n",
    "$$\n",
    "\n",
    "</div>\n",
    "\n",
    "Las ecuaciones entre circuitos anterior no son más que un reflejo de estas  identidades entre operadores. Físicamente, los operadores $\\sigma$ efectúan la medida, y por eso los operadores que vienen después no actúan pues el estado se ha destruido.\n",
    "\n",
    "\n",
    "\n",
    "<br>\n",
    "<details>\n",
    "<summary><p style=\"color:blue\"> >> Caso general</p></summary>\n",
    "\n",
    "Para poder generalizar, vamos a buscar una <i>notación unificada</i> para los dos casos anteriores. Sea $\\hat\\boldn = (x,y,z) $ un vector unitario  que  sólo especifica una dirección en el espacio.\n",
    "\n",
    "<br>\n",
    "\n",
    "$$\n",
    "\\hat\\boldn\\cdot \\hat\\boldn = 1~~~~\\Leftrightarrow ~~~~x^2 + y^2 + z^2 = 1\n",
    "$$\n",
    "\n",
    "<br>\n",
    "    \n",
    " Los casos que hemos visto son $\\hat{\\boldn} = \\hat{\\bf x} = (1,0,0)$, $ \\hat{\\bf y} = (0,1,0)$ y ${\\bf z} = (0,0,1)$.\n",
    "    \n",
    "Asociado a cada <i>cada elección</i> de $\\hat{\\boldn}$ podemos definir \n",
    "    \n",
    "- una base ortonormal $\\{\\ket{a}_{\\hat\\boldn}\\}_{a=0,1}$ que verifique la ecuación de autovalores siguiente \n",
    "\n",
    "<br>\n",
    "    \n",
    "$$\n",
    "({\\hat\\boldn}\\cdot\\vec\\sigma)\\,  \\ket{a}_{\\hat\\boldn} = (-1)^a \\ket{a}_{\\hat\\boldn }\n",
    "$$\n",
    "\n",
    "<br>\n",
    "    \n",
    "Los tres casos estudiados anteriormente son las particularizaciones $\\ket{0}_{\\hat{\\bf z}} = \\{\\ket{0},\\ket{1}\\}$, $\\ket{0}_{\\hat{\\bf x}} = \\{\\ket{+},\\ket{-}\\}$ y  $\\ket{0}_{\\hat{\\bf y}} = \\{\\ket{+i},\\ket{-i}\\} $. \n",
    "\n",
    " - un operador  que lleve los vectores $\\ket{a}_\\hat\\boldn$, $a=0,1$, a los  vectores $\\ket{a}_{\\hat{\\bf z}}$ \n",
    "    \n",
    "<br>\n",
    "    \n",
    "$$\n",
    "U(\\hat\\boldn) : \\ket{a}_\\hat\\boldn ~ \\to  ~ \\ket{a}_{\\hat{\\bf z}}\n",
    "$$\n",
    "    \n",
    "<br>\n",
    "    \n",
    "En los casos anteriores\n",
    "$ U(\\hat{\\bf x}) = H : \\ket{a}_{\\hat{\\bf z}}   \\to \\ket{a}_{\\hat{\\bf z}} ~~,~~ U(\\hat{\\bf y}) = HS^\\dagger : \\ket{a}_{\\hat{\\bf y}}  \\to \\ket{a}_{\\hat{\\bf z}}\n",
    "$  \n",
    "    \n",
    "\n",
    "    \n",
    "<br>\n",
    "    \n",
    "    \n",
    "<br>\n",
    "    \n",
    "donde  respectivamente. \n",
    "\n",
    " </details>\n"
   ]
  },
  {
   "cell_type": "markdown",
   "metadata": {
    "hidden": true
   },
   "source": [
    "<table width=\"100%\">\n",
    "    <td style=\"font-size:25px;font-family:Helvetica;text-align:left;background-color:rgba(12, 43, 337, 0.3);\">\n",
    "<b>Probabilidades y valores esperados</b>\n",
    "</table>"
   ]
  },
  {
   "cell_type": "markdown",
   "metadata": {
    "hidden": true
   },
   "source": [
    "La interpretación probabilística de la función de onda requiere la acumulación estadística de resultados de medida. "
   ]
  },
  {
   "cell_type": "markdown",
   "metadata": {
    "heading_collapsed": true
   },
   "source": [
    "## Tomografía cuántica"
   ]
  },
  {
   "cell_type": "markdown",
   "metadata": {
    "hidden": true
   },
   "source": [
    "Una repetición de medidas de un estado $\\ket{\\psi} = c_0\\ket{0} + c_1\\ket{1}$ permite tener acceso estadístico a las probabilidades $p_0 = |c_0|^2$ y $p_1 =|c_1|^2$. *Experimentalmente*, las probabilidades son las *fracciones relativas* de los valores  obtenidos  tras las sucesivas medidas: \n",
    "\n",
    "<br>\n",
    "\n",
    "$$\n",
    "p_0 = \\frac{n_{0}}{N} = |c_0|^2 = |\\braket{0}{\\psi}|^2~~~~~~~~~~~~~~~~ p_1 = \\frac{n_{1}}{N}=|c_1|^2 =  |\\braket{1}{\\psi}|^2 \\, .\n",
    "$$\n",
    "\n",
    "<br>\n",
    "\n",
    "Este procedimiento se denomina **tomografía cuántica**, y nos permite tener acceso al valor absoluto de las amplitudes de probabilidad. Las fases no son recuperables de esta forma. \n"
   ]
  },
  {
   "cell_type": "code",
   "execution_count": 1,
   "metadata": {
    "hidden": true
   },
   "outputs": [
    {
     "name": "stdout",
     "output_type": "stream",
     "text": [
      "0.9387912809451863 0.06120871905481365\n"
     ]
    },
    {
     "data": {
      "image/png": "[encoded data removed]",
      "text/plain": [
       "<Figure size 314.126x144.48 with 1 Axes>"
      ]
     },
     "execution_count": 1,
     "metadata": {},
     "output_type": "execute_result"
    }
   ],
   "source": [
    "from qiskit import QuantumCircuit\n",
    "from qiskit import Aer, execute \n",
    "import numpy as np\n",
    "\n",
    "# creamos el circuito\n",
    "qc = QuantumCircuit(1,1)\n",
    "shots= 1000\n",
    "\n",
    "# inicializamos un estado arbitrario en la esfera de Bloch\n",
    "theta = 0.5  #rad\n",
    "phi   = 0.3  #rad\n",
    "\n",
    "psi_state = [np.cos(theta/2),(np.exp(1j*phi))*np.sin(theta/2)]\n",
    "#print(psi_state)\n",
    "print(np.abs(psi_state[0])**2,np.abs(psi_state[1])**2)\n",
    "\n",
    "# inicializamos el estado de entrada  \n",
    "qc.initialize(psi_state,0)\n",
    "qc.measure(0,0)\n",
    "\n",
    "qc.draw('mpl')"
   ]
  },
  {
   "cell_type": "markdown",
   "metadata": {
    "hidden": true
   },
   "source": [
    "vamos a recuperar las probabilidades haciendo estadística"
   ]
  },
  {
   "cell_type": "code",
   "execution_count": 1,
   "metadata": {
    "hidden": true
   },
   "outputs": [
    {
     "ename": "NameError",
     "evalue": "name 'Aer' is not defined",
     "output_type": "error",
     "traceback": [
      "\u001b[0;31m---------------------------------------------------------------------------\u001b[0m",
      "\u001b[0;31mNameError\u001b[0m                                 Traceback (most recent call last)",
      "\u001b[0;32m<ipython-input-1-e9ede12c2123>\u001b[0m in \u001b[0;36m<module>\u001b[0;34m\u001b[0m\n\u001b[0;32m----> 1\u001b[0;31m \u001b[0mM_simulator\u001b[0m \u001b[0;34m=\u001b[0m \u001b[0mAer\u001b[0m\u001b[0;34m.\u001b[0m\u001b[0mget_backend\u001b[0m\u001b[0;34m(\u001b[0m\u001b[0;34m'qasm_simulator'\u001b[0m\u001b[0;34m)\u001b[0m\u001b[0;34m\u001b[0m\u001b[0;34m\u001b[0m\u001b[0m\n\u001b[0m\u001b[1;32m      2\u001b[0m \u001b[0mcounts\u001b[0m\u001b[0;34m=\u001b[0m\u001b[0mexecute\u001b[0m\u001b[0;34m(\u001b[0m\u001b[0mqc\u001b[0m\u001b[0;34m,\u001b[0m\u001b[0mbackend\u001b[0m\u001b[0;34m=\u001b[0m\u001b[0mM_simulator\u001b[0m\u001b[0;34m,\u001b[0m\u001b[0mshots\u001b[0m\u001b[0;34m=\u001b[0m\u001b[0mshots\u001b[0m\u001b[0;34m)\u001b[0m\u001b[0;34m.\u001b[0m\u001b[0mresult\u001b[0m\u001b[0;34m(\u001b[0m\u001b[0;34m)\u001b[0m\u001b[0;34m.\u001b[0m\u001b[0mget_counts\u001b[0m\u001b[0;34m(\u001b[0m\u001b[0;34m)\u001b[0m\u001b[0;34m\u001b[0m\u001b[0;34m\u001b[0m\u001b[0m\n\u001b[1;32m      3\u001b[0m \u001b[0;34m\u001b[0m\u001b[0m\n\u001b[1;32m      4\u001b[0m \u001b[0;34m\u001b[0m\u001b[0m\n\u001b[1;32m      5\u001b[0m \u001b[0;32mdef\u001b[0m \u001b[0mget_prob_dist\u001b[0m\u001b[0;34m(\u001b[0m\u001b[0mcounts\u001b[0m\u001b[0;34m)\u001b[0m\u001b[0;34m:\u001b[0m \u001b[0;31m# counts es un diccionario\u001b[0m\u001b[0;34m\u001b[0m\u001b[0;34m\u001b[0m\u001b[0m\n",
      "\u001b[0;31mNameError\u001b[0m: name 'Aer' is not defined"
     ]
    }
   ],
   "source": [
    "M_simulator = Aer.get_backend('qasm_simulator')\n",
    "counts=execute(qc,backend=M_simulator,shots=shots).result().get_counts()\n",
    "\n",
    "\n",
    "def get_prob_dist(counts): # counts es un diccionario \n",
    "    N=sum([n for n in counts.values()]) # numero de shots\n",
    "    prob_dist = {bit:np.round(v/N,4) for bit,v in counts.items()} # this is a modified dictionary\n",
    "    return prob_dist\n",
    "\n",
    "\n",
    "prob_distr = get_prob_dist(counts)\n",
    "print(\"probability distribution =\", prob_distr)"
   ]
  },
  {
   "cell_type": "markdown",
   "metadata": {},
   "source": [
    "## Valores esperados"
   ]
  },
  {
   "cell_type": "markdown",
   "metadata": {},
   "source": [
    "Los estados de la base computacional son autoestados del operador $Z$ con autovalor $\\pm 1$\n",
    "\n",
    "<br>\n",
    "\n",
    "$$\n",
    "Z \\ket{0} =+ \\ket{0}   ~~~~~~~~ ~~~~~~~~~~ Z \\ket{1} =-\\ket{1} \n",
    "$$\n",
    "\n",
    "<br>\n",
    "\n",
    "Dado un estado $\\ket{\\psi} = c_0\\ket{0} + c_1\\ket{1}$, la medida repetida de $Z$ arroja de forma aleatoria los valores $\\pm 1$ con probabilidades $+1\\to p_0$ y $-1\\to p_1$ respectivamente. El valor medio de dicha variable es, por definición\n",
    "\n",
    "\\begin{eqnarray}\n",
    " \\langle Z \\rangle ~ &=& ~ (+1)p_0 + (-1) p_1 ~=~ +\\frac{n_0}{N}- \\frac{ n_1}{N}   ~=~    |\\braket{0}{\\psi}|^2 - |\\braket{1}{\\psi}|^2 \\nonumber\\\\ \\rule{0mm}{8mm}\n",
    "&=&  \\braket{\\psi}{0}\\braket{0}{\\psi} - \\braket{\\psi}{1} \\braket{1}{\\psi} \\nonumber\\\\ \\rule{0mm}{8mm}\n",
    "&=& \\bra{\\psi}\\left(\\rule{0mm}{4mm} \\ket{0}\\bra{0} - \\ket{1}\\bra{1}\\right) \\ket{\\psi} \\nonumber\\\\ \\rule{0mm}{9mm}\n",
    "&=& \\bra{\\psi} Z \\ket{\\psi}  \\, \\label{vevzgen}\n",
    "\\end{eqnarray}\n"
   ]
  },
  {
   "cell_type": "code",
   "execution_count": 3,
   "metadata": {},
   "outputs": [
    {
     "name": "stdout",
     "output_type": "stream",
     "text": [
      "<Z> = 0.8979999999999999\n"
     ]
    }
   ],
   "source": [
    "mean_Z = 0\n",
    "\n",
    "for bits, probs  in prob_distr.items():\n",
    "    mean_Z += (-1)**(int(bits)) * probs  \n",
    "\n",
    "print('<Z> =',mean_Z)"
   ]
  },
  {
   "cell_type": "markdown",
   "metadata": {},
   "source": [
    "<table width=\"100%\">\n",
    "    <td style=\"font-size:25px;font-family:Helvetica;text-align:left;background-color:rgba(12, 43, 337, 0.3);\">\n",
    "<b>Medidas de estados multicúbit</b>\n",
    "</table>"
   ]
  },
  {
   "cell_type": "markdown",
   "metadata": {},
   "source": [
    "Un aparato de medida en la base  asociada al operador hermítico $\\sigma_z^{\\otimes n}$ hace colapsar el estado  que mide a un elemento $\\ket{x}$ de la *base computacional*, que identificamos mediante una cadena de bits $a_{n-1}...a_0$ con $a_i=0,1$,  donde $x= a_{n-1}2^{n-1}+...+2^0 a_0$.\n",
    "\n",
    "\n",
    "<br>\n",
    "<br>\n",
    "\n",
    "<div>\n",
    "<img src=\"images/Multimeter_zbasis.png\" width=\"430\"/>\n",
    "</div>\n",
    "<br>"
   ]
  },
  {
   "cell_type": "markdown",
   "metadata": {
    "heading_collapsed": true
   },
   "source": [
    "## Bases generales"
   ]
  },
  {
   "cell_type": "markdown",
   "metadata": {
    "hidden": true
   },
   "source": [
    "Vamos a suponer que queremos medir en una base ortonormal arbitraria $\\{\\ket{ x}'\\}$, $x=0,...,2^n-1$. Buscamos un circuito que, a la llegada de un vector  concreto de la base $\\ket{x}'=\\ket{a_{n-1}...a_0}'$, devuelva exactamente *la misma colección* de bits  $a_{n-1}...a_0$.\n",
    " \n",
    "\n",
    "Vamos a suponer que conocemos el operador unitario que relaciona esta base con la  base computacional  \n",
    "\n",
    "$$\\ket{ x}'= U\\ket{x}~~~~~~\\Longrightarrow ~~~~~~   U^\\dagger\\ket{x}' = \\ket{ x}  \\, .$$\n",
    "\n",
    "Entonces es evidente que sólo tenemos que añadir el operador $U^\\dagger$ antes de usar el medidor estándar. \n",
    "Remarquemos que, aunque $\\ket{ x}'$ y $\\ket{ x}$ son vectores distintos, sus etiquetas $x\\sim a_{n-1}2^{n-1}+...+2^0 a_0$ coindicen para todo elemento de las bases\n",
    "\n",
    "<br>\n",
    "<br>\n",
    "\n",
    "<div>\n",
    "<img src=\"images/Multimeter_basis.png\" width=\"500\"/>\n",
    "</div>\n",
    "<br>\n",
    "\n"
   ]
  },
  {
   "cell_type": "markdown",
   "metadata": {
    "heading_collapsed": true
   },
   "source": [
    "## Medida de Bell"
   ]
  },
  {
   "cell_type": "markdown",
   "metadata": {
    "hidden": true
   },
   "source": [
    "El circuito \n",
    "\n",
    "<div>\n",
    "<img src=\"images/Bell_basis.png\" width=\"200\"/>\n",
    "</div>\n",
    "\n",
    "<br>\n",
    "\n",
    " genera la base de Bell $\\ket{B_{xy}}  = U \\ket{xy}$ a partir de la base computacional $\\{\\ket{xy}\\}$ \n",
    "\n",
    "\n",
    "\\begin{array}{rcl}\n",
    "\\ket{B_{00}} &=& \\frac{1}{\\sqrt{2}} \\big( \\ket{00} + \\ket{11} \\big) \\\\\n",
    "\\ket{B_{01}} &=& \\frac{1}{\\sqrt{2}} \\big( \\ket{00} - \\ket{11} \\big) \\\\\n",
    "\\ket{B_{10}} &=& \\frac{1}{\\sqrt{2}} \\big( \\ket{01} + \\ket{10} \\big) \\\\\n",
    "\\ket{B_{11}} &=& \\frac{1}{\\sqrt{2}} \\big( \\ket{01} - \\ket{10} \\big) \\\\\n",
    "\\end{array}\n",
    "\n",
    "\n",
    "Por tanto, el circuito que efectúa una **medida de Bell**  utiliza la puerta $U^\\dagger$ antes del medidor \n",
    "\n",
    "<br>\n",
    "<br>\n",
    "\n",
    "\n",
    "<div>\n",
    "<img src=\"images/Bell_meter.png\" width=\"330\"/>\n",
    "</div>\n"
   ]
  },
  {
   "cell_type": "code",
   "execution_count": 4,
   "metadata": {
    "hidden": true
   },
   "outputs": [],
   "source": [
    "def add_Bell_measurement(qc):  \n",
    "    qc.cx(0,1)\n",
    "    qc.h(0)\n",
    "    qc.measure([0,1],[0,1])"
   ]
  },
  {
   "cell_type": "code",
   "execution_count": 5,
   "metadata": {
    "hidden": true
   },
   "outputs": [
    {
     "data": {
      "image/png": "[encoded data removed]",
      "text/plain": [
       "<Figure size 447.652x204.68 with 1 Axes>"
      ]
     },
     "execution_count": 5,
     "metadata": {},
     "output_type": "execute_result"
    }
   ],
   "source": [
    "# creamos el circuito\n",
    "qc = QuantumCircuit(2,2)\n",
    "\n",
    "# definimos la base computacional\n",
    "C00_state  = np.array([1,0,0,0])\n",
    "C01_state  = np.array([0,1,0,0])\n",
    "C10_state  = np.array([0,0,1,0])\n",
    "C11_state  = np.array([0,0,0,1])\n",
    "# definimos la base de Bell\n",
    "B00_state = np.array([1,0,0,1]/np.sqrt(2))\n",
    "B01_state = np.array([1,0,0,-1]/np.sqrt(2))\n",
    "B10_state = np.array([0,1,1,0]/np.sqrt(2))\n",
    "B11_state = np.array([0,1,-1,0]/np.sqrt(2))\n",
    "\n",
    "# inicializamos el estado de entrada en cualquiera de los estados anteriores\n",
    "qc.initialize(B01_state,[0,1])\n",
    "\n",
    "# añadimos el medidor en la base de Bell\n",
    "add_Bell_measurement(qc)\n",
    "qc.draw('mpl')"
   ]
  },
  {
   "cell_type": "code",
   "execution_count": 6,
   "metadata": {
    "hidden": true
   },
   "outputs": [
    {
     "data": {
      "image/png": "[encoded data removed]",
      "text/plain": [
       "<Figure size 504x360 with 1 Axes>"
      ]
     },
     "execution_count": 6,
     "metadata": {},
     "output_type": "execute_result"
    }
   ],
   "source": [
    "M_simulator = Aer.get_backend('qasm_simulator')\n",
    "from qiskit.tools.visualization import plot_histogram\n",
    "\n",
    "result=execute(qc,backend=M_simulator).result()\n",
    "counts=result.get_counts()\n",
    "plot_histogram(counts)"
   ]
  }
 ],
 "metadata": {
  "kernelspec": {
   "display_name": "Python 3",
   "language": "python",
   "name": "python3"
  },
  "language_info": {
   "codemirror_mode": {
    "name": "ipython",
    "version": 3
   },
   "file_extension": ".py",
   "mimetype": "text/x-python",
   "name": "python",
   "nbconvert_exporter": "python",
   "pygments_lexer": "ipython3",
   "version": "3.7.10"
  },
  "varInspector": {
   "cols": {
    "lenName": 16,
    "lenType": 16,
    "lenVar": 40
   },
   "kernels_config": {
    "python": {
     "delete_cmd_postfix": "",
     "delete_cmd_prefix": "del ",
     "library": "var_list.py",
     "varRefreshCmd": "print(var_dic_list())"
    },
    "r": {
     "delete_cmd_postfix": ") ",
     "delete_cmd_prefix": "rm(",
     "library": "var_list.r",
     "varRefreshCmd": "cat(var_dic_list()) "
    }
   },
   "types_to_exclude": [
    "module",
    "function",
    "builtin_function_or_method",
    "instance",
    "_Feature"
   ],
   "window_display": false
  }
 },
 "nbformat": 4,
 "nbformat_minor": 4
}
