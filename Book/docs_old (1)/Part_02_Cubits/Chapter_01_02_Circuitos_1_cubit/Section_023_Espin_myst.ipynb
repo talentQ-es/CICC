{
 "cells": [
  {
   "cell_type": "markdown",
   "id": "5f163c9e",
   "metadata": {
    "slideshow": {
     "slide_type": "slide"
    }
   },
   "source": [
    "> {sub-ref}`today` | {sub-ref}`wordcount-minutes` min read\n",
    "\n",
    "::::{figure} ../../figuras/logos/Logo_TalentQ_Azul.png\n",
    ":width: 150px\n",
    ":align: right\n",
    "::::\n",
    "\n",
    "\n",
    "# El espín \n",
    "\n",
    "\n",
    "\n",
    "\n",
    "$ \\newcommand{\\bra}[1]{\\langle #1|} $\n",
    "$ \\newcommand{\\ket}[1]{|#1\\rangle} $\n",
    "$ \\newcommand{\\braket}[2]{\\langle #1|#2\\rangle} $\n",
    "$ \\newcommand{\\i}{{\\color{blue} i}} $ \n",
    "$ \\newcommand{\\Hil}{{\\mathcal H}} $\n",
    "$ \\newcommand{\\Lin}{\\hbox{Lin}} $\n",
    "$ \\newcommand{\\bn}{{\\bf n}} $\n"
   ]
  },
  {
   "cell_type": "markdown",
   "id": "f3a8aeb1",
   "metadata": {
    "slideshow": {
     "slide_type": "skip"
    }
   },
   "source": [
    ":::{contents}\n",
    ":local:\n",
    ":depth: 1\n",
    ":::\n",
    "",
    "",
    "",
    "",
    ""
   ]
  },
  {
   "cell_type": "markdown",
   "id": "ddfbd5a7",
   "metadata": {
    "editable": true,
    "slideshow": {
     "slide_type": "slide"
    },
    "tags": [
     "hide-input"
    ]
   },
   "source": [
    "El descubrimiento del espín fue una de los primeros fenómenos cuya descripción encontró acomodo en la nueva Mecánica Cuántica. \n"
   ]
  },
  {
   "cell_type": "markdown",
   "id": "95877e39",
   "metadata": {
    "slideshow": {
     "slide_type": "skip"
    }
   },
   "source": [
    "\n",
    "Tanto es así que, el espín es un paradigma de *grado de libertad cuántizado*, y permite obtener intuición sobre los procesos de medida generales."
   ]
  },
  {
   "cell_type": "markdown",
   "id": "86757c61",
   "metadata": {
    "slideshow": {
     "slide_type": "slide"
    }
   },
   "source": [
    "(sec_023_momento)= \n",
    "## Momentos magnético y angular\n",
    "\n",
    "El *momento magnético* $\\boldsymbol{\\mu}$ es una magnitud vectorial clásica que posee  cualquier distribución con carga eléctrica que rota con un *momento angular* ${\\bf J}$.  Ambos son proporcionales. Por ejemplo, un átomo formado por un único electrón de carga $q$ rotando en torno al núcleo tendrá\n",
    "\n",
    "\n",
    "$$\n",
    "\\boldsymbol{\\mu} = \\frac{q}{2m} {\\bf J} \n",
    "$$\n",
    "\n",
    "En cada caso, la constante de proporcionalidad tal que $\\boldsymbol{\\mu} = \\gamma {\\bf J}$ , se denomina *razón giromagnética* $\\gamma $. Para dos electrones iguales será $2q/2m$, etc.\n",
    "\n",
    "::::{figure} images/Momento_Magnetico.png\n",
    ":width: 400px\n",
    ":align: center\n",
    "::::\n"
   ]
  },
  {
   "cell_type": "markdown",
   "id": "50f52fa9",
   "metadata": {
    "slideshow": {
     "slide_type": "skip"
    }
   },
   "source": [
    "En este sentido, conocer el valor de $\\boldsymbol{\\mu}$ es equivalente a  *medir* ${\\bf J}$. \n",
    "La manera de poner de *medir* $\\boldsymbol{\\mu}$ es sumergir el átomo en un campo magnético ${\\bf B}$. Se observan dos efectos diferentes:\n",
    "\n",
    "- el átomo adquiere una energía de interacción \n",
    "\n",
    "$$\n",
    "U = -\\boldsymbol{\\mu}\\cdot {\\bf B} = - \\mu B \\cos \\theta\n",
    "$$\n",
    "\n",
    "y modificará  su estado  rotación para tratar de alinear $\\boldsymbol{\\mu}$ paralelamente a $ {\\bf B}$, de forma que $U$ se minimice.\n",
    "\n",
    "-  si, además, el campo magnético no es constante, ${\\bf B} = {\\bf B}(x,y,z)$, sobre el centro de gravedad del átomo  actúa una fuerza en la dirección del *gradiente* de dicho campo\n",
    "\n",
    "$$\n",
    "{\\bf F} = - \\boldsymbol{\\nabla} U(x,y,z) = \\boldsymbol{\\nabla} ( \\boldsymbol{\\mu}\\cdot {\\bf B}(x,y,z) )\n",
    "$$\n"
   ]
  },
  {
   "cell_type": "markdown",
   "id": "54d566e4",
   "metadata": {
    "slideshow": {
     "slide_type": "slide"
    }
   },
   "source": [
    "(sec_023_sterngerlach)= \n",
    "### El experimento de Stern y Gerlach"
   ]
  },
  {
   "cell_type": "markdown",
   "id": "771196c9",
   "metadata": {
    "slideshow": {
     "slide_type": "-"
    }
   },
   "source": [
    "En 1921 Stern, e independientemente en 1922 Gerlach, dispararon una nube de átomos de plata de forma que atravesara un  magnético no constante en la dirección vertical ${\\bf B}(z) = (0,0,B_z(z))$\n",
    "\n",
    "El *momento magnético* $\\boldsymbol{\\mu}$ en dichos átomos está asociado al *momento angular* del electrón en  último orbital más externo.\n",
    "\n",
    "En este caso, la fuerza que sufre un átomo de momento angular ${\\bf J}$ será \n",
    "$$\n",
    "{\\bf F}= -\\boldsymbol{\\nabla} U = \\boldsymbol{\\nabla}(\\boldsymbol{\\mu}\\cdot{\\bf B}(z))= \\left( \\hat{\\bf x}\\frac{\\partial}{\\partial x}+ \n",
    "\\hat{\\bf y}\\frac{\\partial}{\\partial y}+ \\hat{\\bf z}\\frac{\\partial}{\\partial z}\\right)(\\mu_z B_z(z)) =  \\gamma J_z\\frac{\\partial B_z(z)}{\\partial z} \\, \\hat{\\bf z}\n",
    "$$\n",
    "\n"
   ]
  },
  {
   "cell_type": "markdown",
   "id": "15c38fcb",
   "metadata": {
    "slideshow": {
     "slide_type": "skip"
    }
   },
   "source": [
    "Vemos que \n",
    "\n",
    "- es una fuerza vertical. Esta es la dirección en la que esperamos una desviación de un electrón que lo atravies\n",
    "\n",
    "- la <i>magnitud</i> de dicha desviación es proporcional a la *proyección vertical* del momento angular $J_z = \\boldsymbol{J}\\cdot\\hat{\\bf z} $, que puede ser positiva, negativa o nula."
   ]
  },
  {
   "cell_type": "markdown",
   "id": "4913deb1",
   "metadata": {},
   "source": [
    "<a title=\"Theresa Knott from en.wikipedia, CC BY-SA 3.0 &lt;http://creativecommons.org/licenses/by-sa/3.0/&gt;, via Wikimedia Commons\" href=\"https://commons.wikimedia.org/wiki/File:Stern-Gerlach_experiment.PNG\"><img src=\"https://upload.wikimedia.org/wikipedia/commons/2/29/Stern-Gerlach_experiment.PNG\" align=center width='1000px' /></a>"
   ]
  },
  {
   "cell_type": "markdown",
   "id": "5f09abc0",
   "metadata": {
    "slideshow": {
     "slide_type": "skip"
    }
   },
   "source": [
    "La nube de electrones que atraviesa el campo magnético está inicialmente despolarizada. Eso quiere decir que habrá, con la misma probabilidad, átomos con el momento angular apuntando en cualquier dirección. "
   ]
  },
  {
   "cell_type": "markdown",
   "id": "ec956328",
   "metadata": {
    "slideshow": {
     "slide_type": "skip"
    }
   },
   "source": [
    "Cada componente, y en particular $\\mu_z$, será una distribución constante $\\mu_z\\in [-\\mu,+\\mu]$ de media cero. Por tanto, a la salida del polarizador esperamos un centelleo verticalmente alargado en torno a la posición central"
   ]
  },
  {
   "cell_type": "markdown",
   "id": "89d3df0b",
   "metadata": {
    "slideshow": {
     "slide_type": "skip"
    }
   },
   "source": [
    "El resultado del experimento de Stern (1921) y Gerlach (1922) fue que, en lugar de eso, sólo se encuentran dos puntos de acumulación, situados simétricamente en la dirección del eje del polarizador. Esto quiere decir que la variable $J_z$ sólo adquiere dos valores opuestos\n",
    "$$J_z = \\pm\\frac{\\hbar}{2}$$\n",
    "\n"
   ]
  },
  {
   "cell_type": "markdown",
   "id": "1c4ba75f",
   "metadata": {
    "slideshow": {
     "slide_type": "skip"
    }
   },
   "source": [
    "::::::{admonition} Notar\n",
    ":class: note\n",
    "\n",
    "\n",
    "La dirección $z$ no tiene nada de particular. Si  giramos el eje del polarizador (el campo magnético) a una dirección $\\hat{\\bf n}$, los puntos de acumulación se situan a lo largo de dicho eje. Para cáda átomo estaríamos midiendo el valor de <b>la proyección</b> $J_{\\hat{\\bf n}}={\\bf J}\\cdot\\hat{\\bf n} = \\pm \\hbar/2$.\n",
    "    \n",
    "::::::\n"
   ]
  },
  {
   "cell_type": "markdown",
   "id": "d8e7d869",
   "metadata": {
    "slideshow": {
     "slide_type": "skip"
    }
   },
   "source": [
    "### Mediciones sucesivas\n",
    "\n",
    "El nombre de *polarizador* cobra sentido cuando hacemos  experimentos encadenados de forma que la salida de uno sea la entrada del siguiente.  \n",
    "Supongamos que,  en el primer polarizador, seleccionamos solamente los electrones que se desvían hacia arriba $+\\hbar/2$. \n",
    "\n",
    "A continuación  los hacemos pasar por un segundo polarizador de Stern Gerlach cuyo eje se aparta de la vertical un ángulo azimutal $\\theta$ relativamente al eje $z$. \n",
    "\n",
    "\n",
    "El resultado experimental es que, a la salida de este segundo polarizador,  las incidencias sobre la segunda placa  aparecen en una u otra posición <u>a lo largo del *segundo eje* de *forma aleatoria*</u>. Después de muchas repeticiones, la frecuencia relativa de cada resultado tiende a ser la probabilidad de ocurrencia del mismo.  Experimental se obtiene que\n",
    "\n",
    "$$\n",
    "p(+\\hbar/2) = \\cos^2\\theta/2 ~~~~~,~~~~~  p(-\\hbar/2) = \\sin^2\\theta/2 ~\\, \n",
    "$$\n",
    "\n",
    "donde $\\theta$ es el ángulo entre los ejes de los dos polarizadores sucesivos."
   ]
  },
  {
   "cell_type": "markdown",
   "id": "e15a0978",
   "metadata": {
    "slideshow": {
     "slide_type": "skip"
    }
   },
   "source": [
    "Aun hay más sorpresas. Supongamos que concatenamos tres polarizadores orientados a lo largo de direcciones mutuamente perpendiculares $\\hat{\\bf z} \\to \\hat{\\bf x} \\to \\hat{\\bf z}$, como indica la figura. En el primero hemos seleccionado solo los resultados que emergen con resultado positivo $+\\hbar/2$ de medida. Esta debería ser la componente $z$ del espín de los electrones que continuan. En segundo polarizador hemos seleccionado también sólo los resultados con valor positivo  $+\\hbar/2$. El tercer polarizador vuelve a estar en la dirección $\\hat{\\bf z}$. Lo natural sería esperar recuperar la medida del primer polarizador. \n",
    "\n",
    "El resultado *sorprendente* es que en el tercer polarizador volvemos a encontrar los dos resultados $\\pm \\hbar/2$ posibles, con una proporción del 50%. "
   ]
  },
  {
   "cell_type": "markdown",
   "id": "a668bce0",
   "metadata": {
    "slideshow": {
     "slide_type": "skip"
    }
   },
   "source": [
    "![picture](https://upload.wikimedia.org/wikipedia/commons/c/cb/Stern-Gerlach_Analyzer_Sequential_Series_E3.png \"blog-image align\")"
   ]
  },
  {
   "cell_type": "markdown",
   "id": "a1e8b9a7",
   "metadata": {
    "slideshow": {
     "slide_type": "skip"
    }
   },
   "source": [
    "En esta figura se aprecia que la polarización del resultado en una dirección (selección de un resultado, por ejemplo $+\\hbar/2$), arroja una distribución equilibrada de resultados en el polarizador siguiente, rotado $90^\\circ$"
   ]
  },
  {
   "cell_type": "markdown",
   "id": "e7e73681",
   "metadata": {
    "slideshow": {
     "slide_type": "skip"
    }
   },
   "source": [
    "## Espín\n",
    "\n",
    "La desviación del átomo de plata en el experimento de Stern y Gerlach denota la presencia de un momento magnético neto en los átomos de plata que es atribuible al último electrón de valencial. Pero no puede provenir de su movimiento ya que el *momento angular orbital* del último electrón es nulo al hallarse en el orbital $5s$, es decir, tendríamos $~{\\bf J} = {\\bf L} = 0$. \n",
    "\n",
    "En conclusión: <u>¡tiene que haber una contribución  extra de  *carácter interno*! </u>\n",
    "\n",
    "$$\n",
    "{\\bf J} = {\\bf L} + {\\bf S}  ~~\\Rightarrow~~\n",
    " \\boldsymbol{\\mu} =  \\boldsymbol{\\mu}_L +  \\boldsymbol{\\mu}_S  $$\n",
    "con\n",
    "\n",
    "$$\n",
    "\\boldsymbol{\\mu}_S =\\gamma_e {\\bf S} =   g_s\\frac{ q}{2 m_e} {\\bf S} \n",
    "$$\n",
    "\n",
    "y $g_s = 2,0023...$ el *factor giromagnético* del electrón. Es como si el electrón mismo tuviese momento angular interno. Pero  cuidado con las analogías. Tratándose de una partícula puntual, esto sólo puede entenderse como un símil, no como una nube de carga real en rotación\n",
    "\n",
    "\n"
   ]
  },
  {
   "cell_type": "markdown",
   "id": "4cc12908",
   "metadata": {
    "slideshow": {
     "slide_type": "skip"
    }
   },
   "source": [
    "Se trata sin duda de un nuevo grado de libertad interno que se denomina *espín*  $S$.  En la sección anterior hemos visto los resultados experimentales. El objetivo es dar una formulación coherente dentro del marco de la Mecánica Cuántica cuyas predicciones coincidan con dichos resultados. \n",
    "\n",
    "\n",
    "Para cada orientación del aparato de Stern y Gerlach siempre aparece uno de los dos resultados de medida posibles, $ + \\hbar/2$ y $- \\hbar/2$. Eso indica que el observable asociado ha de poseer sólo dos autovalores. Por tanto opera sobre un espacio de Hilbert de dimensión 2. Tratándose de un operador hermítico, lo más natural es expandirlo en la base de matrices de Pauli.\n",
    "\n",
    "Definamos el <u>*operador de espín*</u> como una colección vectorial de tres operadores proporcionales a las matrices de Pauli \n",
    "\n",
    "$$\n",
    "{\\bf S } = \\frac{\\hbar}{2} \\boldsymbol{\\sigma} ~~~\\Rightarrow ~~~ (S_x,S_y,S_z) = \\frac{\\hbar}{2} (\\sigma_x, \\sigma_y,\\sigma_z)\n",
    "$$\n",
    "\n",
    "Dada una dirección $\\hat{\\bf{n}} = (n_x, n_y, n_z) $  del campo magnético del Stern Gerlach, podemos formar la proyección\n",
    "del operador de espín en esa dirección\n",
    "\n",
    "$$\n",
    "\\hat{\\bf n}\\cdot {\\bf S} = \\frac{\\hbar}{2} \\hat\\bn\\cdot \\boldsymbol{\\sigma} \n",
    "$$\n",
    "\n",
    "Este operador cumple el cometido a la perfección.\n"
   ]
  },
  {
   "cell_type": "markdown",
   "id": "6b56099c-e7ca-4744-9d5d-0aa67baf03b5",
   "metadata": {},
   "source": [
    "::::::{admonition} Ejercicio\n",
    ":class: tip\n",
    "\n",
    "    \n",
    "Escribe para un vector unitario arbitrario $\\hat{\\bf n}$  la matriz  $\\hat\\bn\\cdot \\boldsymbol{\\sigma} $ y comprueba que tiene  autovalores $\\pm 1$. En consecuencia, $\\hat {\\bf n}\\cdot {\\bf S}$  tiene siempre autovalores $\\pm \\hbar/2$\n",
    "::::::\n"
   ]
  },
  {
   "cell_type": "markdown",
   "id": "c1783ca5",
   "metadata": {
    "slideshow": {
     "slide_type": "skip"
    }
   },
   "source": [
    "::::::{admonition} Notar\n",
    ":class: note\n",
    "\n",
    "\n",
    "Con frecuencia se usan unidades en las que $\\hbar = 1$, por lo que la proyección del espín del electrón será siempre $\\pm 1/2$. Todas las partículas elementales tienen espín: \n",
    "- $S=1/2$ los fermiones (quarks, electrón, muón, neutrino,...)\n",
    "- $S = 0$ el bosón de Higgs\n",
    "- $S=1$ los bosones intermediarios (fotón, gluón, W,Z,...)\n",
    "    \n",
    "Las partículas compuestas tienen espín formado por el de los componentes \n",
    "\n",
    " - protón, neutrón tienen $S=1/2$ y son fermiones\n",
    " - núcleos tienen $S=1/2$ ó $0$  si tienen un número impar o par de nucleones\n",
    "::::::\n"
   ]
  },
  {
   "cell_type": "markdown",
   "id": "a2ab69f1",
   "metadata": {
    "slideshow": {
     "slide_type": "skip"
    }
   },
   "source": [
    "(sec_023_prepacubit)= \n",
    "### Preparación de un estado de espín   "
   ]
  },
  {
   "cell_type": "markdown",
   "id": "0e82f8cf",
   "metadata": {
    "slideshow": {
     "slide_type": "slide"
    }
   },
   "source": [
    "El postulado de *colapso de la función de onda* afirma que, después de una medida asociada a un observable, el estado *colapsa* a un autoestado de dicho operado. \n",
    "Vamos a dar una expresión concreta para estos autoestados. Para ello, es conveniente parametrizar la dirección de nuestro campo magnético usando dos ángulos\n",
    "$\\theta \\in [0,\\pi)$ y $\\phi\\in [0,2\\pi)$\n",
    "\n",
    "$$\n",
    "\\hat\\bn(\\theta,\\phi) = \\sin\\theta\\cos\\phi \\, \\hat {\\bf x} + \\sin\\theta\\sin\\phi \\, \\hat {\\bf y} + \\cos\\theta \\, \\hat {\\bf z}\n",
    "$$\n",
    "\n",
    "Los dos estados asociados los denominaremos $\\ket{\\pm}_{\\hat\\bn} = \\ket{\\pm,\\hat\\bn}$ y deben verifica la condición de autoestado\n",
    "\n",
    "$$\n",
    "(\\hat\\bn\\cdot \\boldsymbol{\\sigma} )\\,\\ket{\\pm,\\hat\\bn} = \\pm \\ket{\\pm,\\hat\\bn}\n",
    "$$\n",
    "\n",
    "Es inmediato comprobar que, los autoestados son precisamente los vectores de la esfera de Bloch que usan *los mismos ángulos* \n",
    "$(\\theta, \\phi)$\n",
    "\n",
    "\n",
    "$$\n",
    "\\ket{+,\\hat\\bn} =  \\begin{bmatrix} \\cos\\displaystyle\\frac{\\theta}{2} \\\\  e^{i\\phi}\\sin\\displaystyle\\frac{\\theta}{2} \\end{bmatrix} ~~~~~~~~,~~~~~\n",
    "~~~~~\n",
    "\\ket{-,\\hat\\bn} =  \\begin{bmatrix} -e^{-i\\phi}\\sin\\displaystyle\\frac{\\theta}{2} \\\\  \\cos\\displaystyle\\frac{\\theta}{2} \\end{bmatrix} \n",
    "$$\n",
    "\n"
   ]
  },
  {
   "cell_type": "markdown",
   "id": "4e7cb3e4",
   "metadata": {
    "slideshow": {
     "slide_type": "fragment"
    }
   },
   "source": [
    "::::::{admonition} Ejercicio\n",
    ":class: tip\n",
    "\n",
    "\n",
    "\n",
    "comprueba, que los estados $\\ket{\\pm,\\hat\\bn}$ son ortogonales, verifica que son autoestados de $~ \\hat{\\bf n} \\cdot \\boldsymbol{\\sigma} ~$, con autovalores $~\\pm 1$\n",
    "\n",
    "::::::\n"
   ]
  },
  {
   "cell_type": "markdown",
   "id": "b05f3420",
   "metadata": {
    "slideshow": {
     "slide_type": "skip"
    }
   },
   "source": [
    " En cada caso, a la salida, escribiremos para la función de onda total\n",
    "\n",
    "$$~\\ket{\\psi} = \\psi(\\vec r)\\otimes \\ket{\\pm,\\hat\\bn }~$$ \n",
    "\n",
    "\n",
    "cuya interpretación es la *amplitud de probabilidad* de encontrar al electrón en el punto $\\vec r$ con la proyección de su espín en la dirección $\\hat\\bn$ igual a $\\pm 1$\n"
   ]
  },
  {
   "cell_type": "markdown",
   "id": "9bfd01af",
   "metadata": {
    "slideshow": {
     "slide_type": "slide"
    }
   },
   "source": [
    "::::::{admonition} En resumen\n",
    ":class: attention\n",
    "\n",
    "\n",
    "\n",
    "- El observable asociado a un polarizador de Stern Gerlach <i>orientado</i> en una dirección $\\hat\\bn$ es\n",
    "el operador\n",
    "\n",
    "$$\n",
    "{\\bf S} = \\frac{\\hbar}{2}\\, \\hat\\bn\\cdot  \\boldsymbol{\\sigma} \n",
    "$$\n",
    "\n",
    "- Si se registra $+\\hbar/2$ ó $-\\hbar/2$,  estado de espín habrá quedado preparado en un autoestado $\\ket{+,\\hat\\bn}$ ó $\\ket{-,\\hat\\bn}$\n",
    "::::::\n"
   ]
  },
  {
   "cell_type": "markdown",
   "id": "ad426d0b",
   "metadata": {
    "slideshow": {
     "slide_type": "skip"
    }
   },
   "source": [
    "En particular cuando $\\theta = \\phi =  0 ~\\Rightarrow \\hat{\\bf n} = (0,0,1) = \\hat{\\bf z}$, recuperamos la base $Z$\n",
    "\n",
    "$$\n",
    "\\ket{+,\\hat{\\bf z}} =  \\begin{bmatrix} 1 \\\\  0 \\end{bmatrix} ~~~~~~~~,~~~~~\n",
    "~~~~~\n",
    "\\ket{-,\\hat{\\bf z}} =  \\begin{bmatrix} 0 \\\\  1\\end{bmatrix} \n",
    "$$\n",
    "\n"
   ]
  },
  {
   "cell_type": "markdown",
   "id": "3991a2e1",
   "metadata": {
    "slideshow": {
     "slide_type": "skip"
    }
   },
   "source": [
    "::::::{admonition} Ejercicio\n",
    ":class: tip\n",
    "\n",
    "\n",
    "supongamos que estamos en posesión de uno de los dos estados $\\ket{\\pm,\\hat{\\bf n}}$. Demuestra que podemos hallar la orientación del <i>Stern-Gerlach</i> que lo preparó  hallando valores medios de los operadores de Pauli\n",
    "   \n",
    "$$\n",
    "\\bra{\\pm,\\hat{\\bf n}} \\, \\boldsymbol{\\sigma}\\,  \\ket{\\pm,\\hat{\\bf n}} = \\pm \\hat{\\bf n}\n",
    "$$\n",
    "\n",
    "::::::\n"
   ]
  },
  {
   "cell_type": "markdown",
   "id": "68551c20-f3a9-4b17-8277-6b7b62f9f335",
   "metadata": {},
   "source": [
    "Ahora podemos verificar que la mecánica cuántica predice correctamente los resultados de la medida sucesiva con dos polarizadores orientados en direcciones diferentes\n",
    "\n",
    "Efectivamente si después de medir con un polarizador orientado a lo largo del eje $\\hat{\\bf z}$ encontramos $+\\hbar/2$   el estado preparado es $\\ket{+,\\hat{\\bf z}}$. \n",
    "Medidas sucesivas con el polarizador en la misma orientación daran idéntico resultado. Clásicamente diríamos que hemos *fijado* una propiedad (la proyección del momento angular) a un valor. Cuánticamente no podemos afirmar tal cosa. \n",
    "\n",
    "\n",
    "Si a continuación medimos con un polarizador orientado en una dirección $\\hat{\\bf n}$ entonces las probabilidades de medida son las obtenidas experimentalmente \n",
    "\n",
    "$$\n",
    "p(+\\hbar/2) = |\\braket{+,\\hat{\\bf n}}{+,\\hat{\\bf z}}|^2 = \\cos^2\\theta/2 ~~~~~~~,~~~~~~~ \n",
    "p(-\\hbar/2) = |\\braket{-,\\hat{\\bf n}}{+,\\hat{\\bf z}}|^2 = \\sin^2\\theta/2\n",
    "$$\n",
    "\n",
    "También podemos entender el resultado de la medida sucesiva en las direcciones  $\\hat{\\bf z} \\to \\hat{\\bf x} \\to \\hat{\\bf z}$.\n",
    "Efectivamente, particularizando para  $\\hat{\\bf n} = \\hat{\\bf x}$ en el segundo polarizador esperamos resultados equiprobables\n",
    "$$\n",
    "p(+\\hbar/2) = |\\braket{+,\\hat{\\bf x}}{+,\\hat{\\bf z}}|^2 = \\frac{1}{2} ~~~~~~~,~~~~~~~ \n",
    "p(-\\hbar/2) = |\\braket{-,\\hat{\\bf x}}{+,\\hat{\\bf z}}|^2 = \\frac{1}{2}\n",
    "$$\n",
    "\n",
    " A la salida, los estados serán $\\ket{+,\\hat{\\bf x}}$ o $\\ket{-,\\hat{\\bf x}}$ respectivamente. \n",
    "Para cualquiera de ellos,  una medida posterior, de nuevo en la dirección original $\\hat{\\bf z}$, dará también de forma equiprobable $p(\\pm\\hbar/2) =1/2$\n",
    "\n",
    "$$\n",
    "p(+\\hbar/2) = |\\braket{+,\\hat{\\bf z}}{\\pm,\\hat{\\bf x}}|^2 = \\frac{1}{2} ~~~~~~~,~~~~~~~ \n",
    "p(-\\hbar/2) = |\\braket{-,\\hat{\\bf z}}{\\pm,\\hat{\\bf x}}|^2 = \\frac{1}{2}\n",
    "$$\n",
    "\n",
    "\n",
    "Vemos que el resultado inicial $\\hat{\\bf z}$ ha quedado *totalmente borrado* por la segunda medida $\\hat{\\bf x}$, y esto se pone de manifiesto en la repetición de la medida $\\hat{\\bf z}$.\n",
    "\n",
    "Estamos ante un caso particular del Principio de Incertidumbre: dado que $[\\sigma_z,\\sigma_x] = i \\sigma_y$ no conmutan, es imposible encontrar una base común de autoestados de ambos operadores\n"
   ]
  },
  {
   "cell_type": "markdown",
   "id": "b577e69f",
   "metadata": {
    "slideshow": {
     "slide_type": "skip"
    }
   },
   "source": [
    "(sec_023_manipcubit)= \n",
    "## Control cuántico  "
   ]
  },
  {
   "cell_type": "markdown",
   "id": "2d05bd9c",
   "metadata": {
    "slideshow": {
     "slide_type": "skip"
    }
   },
   "source": [
    "Ya hemos visto cómo preparar estados de espín en una partícula de espín $1/2$, por ejemplo, un electrón. Adelantandono a temas que se estudiarán posteriormente en este curso, nos gustaría entender cómo manipular dichos estados. Para ello deberíamos ser capaces de controlar el cúbit de forma precisa y llevarlo de un punto a otro de la esfera de Bloch.\n",
    "\n",
    "Si sumergimos el electrón que hemos preparado en un campo magnético ${\\bf B}$ constante no sufrirá ninguna fuerza. Sin embargo el espín va a empezar a rotar. \n",
    "El Hamiltoniano de una partícula con espín en un campo magnético es\n",
    "\n",
    "$$\n",
    "H = -\\hat{\\boldsymbol{\\mu}}\\cdot {\\bf B} = -\\gamma \\hat{\\bf S}\\cdot {\\bf B} =  -\\gamma \\frac{\\hbar}{2} \\boldsymbol{\\sigma}\\cdot {\\bf B}\n",
    "$$\n",
    "\n",
    "El *factor giromagnético* $\\gamma$ depende de qué tipo de partícula  estamos estudiando (electrón, protón, núcleo...).  \n",
    "\n",
    "Para simplificar la notación, vamos a definir el   *vector de Larmor* \n",
    "\n",
    "$$\n",
    "\\boldsymbol{\\omega} = \\gamma \\bf B\n",
    "$$\n",
    "cuyo módulo será la *frecuencia de Larmor* $\\omega = \\gamma B$. Con esta definición, el Hamiltoniano  se escribe en la forma\n",
    "\n",
    "$$\n",
    "H =  \\frac{\\hbar}{2}(-\\gamma {\\bf B})\\cdot \\boldsymbol{\\sigma}= -\\frac{\\hbar}{2} \\boldsymbol{\\omega}\\cdot \\boldsymbol{\\sigma}\n",
    "$$\n",
    "\n"
   ]
  },
  {
   "cell_type": "markdown",
   "id": "65d39767",
   "metadata": {
    "slideshow": {
     "slide_type": "skip"
    }
   },
   "source": [
    "Si uno mira las unidades de la ecuación anterior verá que el nombre de *frecuencia* de Larmor está bien escogido\n",
    "\n",
    "- $[H]$ el hamiltoniano tiene unidades de energía, por ejemplo, julio, J.\n",
    "\n",
    "\n",
    "- $[\\hbar]$ la constante de Planck, tiene unidades de energía $\\times$ tiempo, es decir, J s.\n",
    "\n",
    "- $\\boldsymbol{\\omega} = \\gamma {\\bf B}$ es un vector que tiene unidades de inversa de tiempo, de hecho rad s$^{-1}$.\n"
   ]
  },
  {
   "cell_type": "markdown",
   "id": "0517d3ba-7323-449b-a508-24dd8b73b8e5",
   "metadata": {},
   "source": [
    "### Análogo magnético\n",
    "\n",
    "Curiosamente el espín de un electrón en un campo magnético proporciona un modelo universal para tratar cualquier  sistema físico de dos niveles.\n",
    "\n",
    "::::::{card} \n",
    "<b>Lema</b>:  \n",
    "^^^\n",
    "\n",
    "cualquier Hamiltoniano de un sistema de dos niveles puede escribirse en la forma $H=\\displaystyle -\\frac{\\hbar}{2} \\boldsymbol{\\omega}\\cdot \\boldsymbol{\\sigma}$. $~$Por tanto, siempre admite una analogía con un espín en un cierto campo magnético identificando $\\boldsymbol{\\omega} = \\gamma \\bf B$.\n",
    "::::::\n"
   ]
  },
  {
   "cell_type": "markdown",
   "id": "a1835d1d",
   "metadata": {
    "slideshow": {
     "slide_type": "skip"
    }
   },
   "source": [
    "::::::{admonition} Ejercicio\n",
    ":class: tip\n",
    "\n",
    "\n",
    "Dado un Hamiltoniano\n",
    "    \n",
    "$$\n",
    "H =  \\begin{bmatrix} E_1 & H_{12} \\\\ H_{12}^* & E_2 \\end{bmatrix}\n",
    "$$\n",
    "obtén el <i>vector de Larmor efectivo</i> $\\boldsymbol{\\omega}$ asociado  \n",
    "    \n",
    ":::{dropdown} Solution\n",
    "$$\n",
    "\\begin{array}{rcl}\n",
    "H &=& \\begin{bmatrix} E_1 & H_{12} \\\\ H^*_{12} & E_2 \\end{bmatrix} \\nonumber\\\\\n",
    "&=& \\displaystyle\\rule{0mm}{8mm}\\frac{H_{11} + H_{22}}{2} I + \\frac{E_1 - E_2}{2}\\sigma_z + {\\rm Re}(H_{12})\\sigma_x - {\\rm Im}(H_{12})\\sigma_y\n",
    "\\nonumber\\\\ \\rule{0mm}{8mm}\n",
    "&=&\\displaystyle  \\frac{E_1 + E_2}{2} I  - \\frac{\\hbar}{2} \\boldsymbol{\\omega} \\cdot \\boldsymbol{\\sigma} \n",
    "\\end{array}\n",
    "$$\n",
    "\n",
    "donde definimos el vector de Larmor efectivo.\n",
    "$$\n",
    "\\omega_x = -\\frac{2}{\\hbar } {\\rm Re} (H_{12})~~ ,~~~~   \\omega_y =  \\frac{2}{\\hbar } {\\rm Im} (H_{12}) ~~,~~~~\\omega_z =  \\frac{ E_{2}-E_{1}}{\\hbar } \n",
    "$$ \n",
    ":::\n",
    "::::::\n"
   ]
  },
  {
   "cell_type": "markdown",
   "id": "37717884",
   "metadata": {
    "slideshow": {
     "slide_type": "skip"
    }
   },
   "source": [
    "De la sección anterior, ya sabemos cuáles son los autoestados de $H$.\n",
    "Por ejemplo, tomando ${\\bf B} = B\\, \\hat{\\bf z}$ a lo largo del eje $\\hat{\\bf z}$ vemos que $\\boldsymbol{\\omega} = (0,0,\\omega)$ y \n",
    "\n",
    "$$\n",
    "H = -\\frac{\\hbar}{2}\\omega \\sigma_z = \\begin{bmatrix} -\\hbar\\omega/2 & 0 \\\\ 0 & \\hbar\\omega/2 \\end{bmatrix}\n",
    "$$\n",
    "\n",
    "\n",
    " - El estado *fundamental* es $\\begin{bmatrix} 1\\\\ 0\\end{bmatrix} =\\ket{+,\\hat{\\bf z}}=\\ket{1}$ con energía $\\varepsilon_0=-\\hbar \\omega/2$. \n",
    "\n",
    " - El estado *excitado*\n",
    " es $\\begin{bmatrix} 1\\\\ 0\\end{bmatrix} =\\ket{-,\\hat{\\bf z}}= \\ket{0}$ con energía $\\varepsilon_1=\\, \\hbar \\omega/2$. \n",
    " \n",
    "En la anlogía magnética el estado que minimiza la energía es el que, en la esfera de Bloch, es paralelo a la dirección del campo magnético en el espacio (siempre que $\\gamma >0$)."
   ]
  },
  {
   "cell_type": "markdown",
   "id": "7533c623",
   "metadata": {
    "slideshow": {
     "slide_type": "skip"
    }
   },
   "source": [
    "::::::{admonition} Notar\n",
    ":class: note\n",
    "\n",
    "\n",
    "    \n",
    "Observamos como *la presencia del campo magnético* induce una *separación de niveles* o *gap* de energía (*efecto Zeeman*)\n",
    "\n",
    "$$\\Delta \\varepsilon = \\varepsilon_1-\\varepsilon_0 = \\hbar \\omega$$ \n",
    "            \n",
    "Con frecuencia el *gap* de energía de un sistema se da en [rad s$^{-1}$]. Esto es precisamente el módulo del vector de Larmor $\\omega = \\Delta \\varepsilon/\\hbar$.\n",
    "\n",
    "    \n",
    "El eje $\\hat{\\bf z}$ no tiene nada de especial. Y la observación anterior se generaliza a cualquier campo magnético ${\\bf B}= B\\, \\hat{\\bf n}$. El Hamiltoniano asociado tendrá ahora dos autoestados $\\{\\ket{-,\\hat{\\bf n}},\\ket{+,\\hat{\\bf n}}\\}$ con idénticas energías $\\varepsilon_{0}$ y $\\varepsilon_1$.\n",
    "\n",
    "::::::\n"
   ]
  },
  {
   "cell_type": "markdown",
   "id": "fc687549",
   "metadata": {
    "slideshow": {
     "slide_type": "skip"
    }
   },
   "source": [
    "### Precesión de Larmor \n",
    "\n",
    "Ahora que conocemos el Hamiltoniano del sistema, podemos invocar el Axioma III para obtener la evolución en el tiempo. \n",
    "Situemos un espín $\\ket{\\psi} = \\ket{s,\\hat\\bn}$ en un campo magnético vertical ${\\bf B}= B \\, \\hat{\\bf z}$\\, .\n",
    "La evolución en el tiempo, $\\ket{\\psi(t)}$,  viene gobernada por la ecuación de Schrödinger\n",
    "\n",
    "$$\n",
    "i\\hbar \\frac{d}{dt} \\ket{\\psi(t)} = H \\ket{\\psi(t)}\n",
    "$$\n",
    "\n",
    "\n",
    "Cuando $H$ es un operador constante en el tiempo (por ejemplo si el campo $\\bf B$ no varía) existe una solución exacta para la evolución\n",
    "\n",
    "\n",
    "$$\n",
    "\\ket{\\psi(t)} = U(t,0) \\ket{\\psi(0)}\n",
    "$$\n",
    "\n",
    "que involucra el *operador de evolución*  \n",
    "\n",
    "$$\n",
    "U(t,0) = \\exp\\left( -\\frac{i}{\\hbar} t H\\right)\n",
    "$$"
   ]
  },
  {
   "cell_type": "markdown",
   "id": "9f38f2b4",
   "metadata": {
    "slideshow": {
     "slide_type": "skip"
    }
   },
   "source": [
    "\n",
    "En la base que diagonaliza el operador, es equivalente a exponenciar los elementos diagonales. Es el caso cuando tomamos el campo magnético  a lo largo del eje $\\hat{\\bf z}$, ${\\bf B} = B\\, \\hat{\\bf z}$\n",
    "\n",
    "$$\n",
    "\\exp\\left( -\\frac{i}{\\hbar} t H\\right)= \\exp\\left( -\\frac{i}{\\hbar} t\\left(- \\frac{\\hbar}{2}\\omega \\sigma_z \\right)\\right) = \\exp \\begin{bmatrix} it \\omega/2 & 0 \\\\ 0 & -it \\omega/2 \\end{bmatrix} =\n",
    "\\begin{bmatrix} e^{it \\omega/2} & 0 \\\\ 0 &e^{-it \\omega/2}  \\end{bmatrix} =  e^{it \\omega/2}\n",
    "\\begin{bmatrix}1 & 0 \\\\ 0 &e^{-it \\omega}\\end{bmatrix}\n",
    "$$\n",
    "\n",
    "Podemos despreciar la *fase global* y escribir para el operador de evolución\n",
    "\n",
    "$$\n",
    "U(t,0) = \\begin{bmatrix}1 & 0 \\\\ 0 &e^{-it \\omega}\\end{bmatrix}\n",
    "$$\n",
    "\n",
    "Ya podemos obtener la evolución en el tiempo de un estado inicial de la polarización del espín. Supongamos que, a tiempo $t=0$, tenemos\n",
    "\n",
    "$$\n",
    "\\ket{\\psi(0)} =  \\begin{bmatrix} \\cos\\theta \\\\ e^{i\\phi} \\sin\\theta \\end{bmatrix}\n",
    "$$\n",
    "\n",
    "A tiempo $t$ el estado será\n",
    "\n",
    "$$\n",
    "\\ket{\\psi(t)} = U(t,0) \\ket{\\psi(0)} = \\begin{bmatrix}1 & 0 \\\\ 0 &e^{it \\omega}\\end{bmatrix}\\begin{bmatrix} \\cos\\theta \\\\ e^{i\\phi} \\sin\\theta \\end{bmatrix} = \n",
    "\\begin{bmatrix} \\cos\\theta \\\\ e^{i(\\phi- t\\omega)} \\sin\\theta \\end{bmatrix}\n",
    "$$"
   ]
  },
  {
   "cell_type": "markdown",
   "id": "c23665af",
   "metadata": {
    "slideshow": {
     "slide_type": "skip"
    }
   },
   "source": [
    "El resultado es fácil de visualizar:  en la esfera de Bloch, el estado instantáneo $\\ket{\\psi(t)}$ experimenta \n",
    "- una *precesión de Larmor* en torno al ejej que marca el campo magnético (real o análogo) preservando el  ángulo $\\theta$ inicial fijo, \n",
    "\n",
    "\n",
    "- con una velocidad angular dada por la *frecuencia de Larmor*, $\\omega = \\gamma B~$ [rad s$^{-1}$] en sentido horario $\\omega >0$ (antihorario $\\omega <0$) para una partícula de carga positiva (negativa)\n",
    "\n",
    "::::{figure} images/precession.png\n",
    ":width: 350px\n",
    ":align: center\n",
    "::::\n"
   ]
  },
  {
   "cell_type": "markdown",
   "id": "1f1ee40a",
   "metadata": {
    "slideshow": {
     "slide_type": "skip"
    }
   },
   "source": [
    "::::::{admonition} Notar\n",
    ":class: note\n",
    "\n",
    "\n",
    "Los dos autoestados del hamiltoniano $\\ket{\\pm,\\hat{\\bf z}}$  de energías $\\pm \\hbar\\omega/2$   son invariantes bajo evolución temporal\n",
    "salvo por una fase global.\n",
    "    \n",
    "Esto los hace útiles para computación cuántica $\\Rightarrow$ un hamiltoniano <u>*congela*</u> ciertos estados, sus autoestados, siempre que <i> no sean degenerados </i>  \n",
    "::::::\n"
   ]
  },
  {
   "cell_type": "markdown",
   "id": "399592e8",
   "metadata": {
    "slideshow": {
     "slide_type": "skip"
    }
   },
   "source": [
    "### Puertas cuánticas: primer intento\n",
    "\n",
    "Desearíamos encontrar un método físico para implementar una puerta como $X\\ket{0} = \\ket{1}$. La precesión de Larmor *casi* hace el trabajo. \n",
    "\n",
    "Efectivamente, la elección del eje $\\hat{\\bf z}$ para el campo magnético (real o análogo) es *totalmente arbitraria* y se ha elegido para simplificar los cálculos. Si escogiésemos otra dirección \n",
    "\n",
    "- el resultado físico **tiene que ser el mismo**: una *precesión de Larmor* del vector de Bloch en torno al eje que marca el campo magnético ${\\bf B}$ con *frecuencia angular de Larmor* $\\omega = \\gamma B$.\n",
    "\n",
    "- el álgebra será más complicada porque tendremos que exponenciar una matriz  $H = -\\frac{\\hbar}{2}\\boldsymbol{\\omega}\\cdot\\boldsymbol{\\sigma} $ que ya no es diagonal\n",
    "\n",
    "$$\n",
    "U_{\\boldsymbol{\\omega}}(t,0) = \\exp\\left( -\\frac{i}{\\hbar} t H\\right) = \\exp\\left( \\frac{i}{\\hbar} t \\frac{\\hbar}{2}\\boldsymbol{\\omega}\\cdot \\boldsymbol{\\sigma}\\right)  =  \n",
    " \\exp\\left( i\\frac{t\\omega}{2}  \\frac{\\boldsymbol{\\omega}}{\\omega}\\cdot \\boldsymbol{\\sigma}\\right)\n",
    "$$\n",
    "\n",
    "-  Observamos que $U_{\\boldsymbol{\\omega}}(t,0)$ es el operador de rotación de ángulo $\\alpha = -t\\omega$ en torno al eje $\\hat{\\bf n} = \\boldsymbol{\\omega}/\\omega$.\n",
    "\n",
    "::::{figure} images/precession_tilted2.png\n",
    ":width: 350px\n",
    ":align: center\n",
    "::::\n"
   ]
  },
  {
   "cell_type": "markdown",
   "id": "b52f74e1",
   "metadata": {
    "slideshow": {
     "slide_type": "skip"
    }
   },
   "source": [
    "El resultado de la exponencial es conocido\n",
    "\n",
    "\\begin{eqnarray*}\n",
    "U_{\\boldsymbol{\\omega}}(t,0) ~&=&~ \\cos\\left(\\frac{t\\omega}{2}\\right) I + i \\sin\\left(\\frac{t\\omega}{2}\\right) \\, \\frac{\\boldsymbol{\\omega}}{\\omega}\\cdot \\boldsymbol{\\sigma} \\\\\n",
    "&&\\\\\n",
    "&=& \n",
    "\\begin{bmatrix}\n",
    " \\cos \\displaystyle\\frac{t\\omega}{2}+ i \\displaystyle\\frac{\\omega_z}{\\omega} \\sin\\displaystyle\\frac{t\\omega}{2}  &   \\displaystyle\\frac{\\omega_y+i\\omega_x}{\\omega} \\sin\\displaystyle\\frac{t\\omega}{2}  \\\\\n",
    " \\rule{0mm}{8mm}\n",
    " \\displaystyle\\frac{-\\omega_y+i\\omega_x}{\\omega} \\sin\\displaystyle\\frac{t\\omega}{2}  & \\cos\\displaystyle\\frac{t\\omega}{2} - i \\displaystyle\\frac{\\omega_z}{\\omega} \\sin\\frac{t \\omega }{2}\n",
    "\\end{bmatrix}\n",
    "\\end{eqnarray*}\n",
    "\n",
    "Supongamos que, a $t=0$, nos encontramos en el estado $\\ket{\\psi(0)} = \\ket{0} = \\ket{+,\\hat{\\bf z}}$. Entonces a tiempo $t$ el estado \n",
    "será\n",
    "\n",
    "$$\n",
    "\\ket{\\psi(t)}=U_{\\boldsymbol{\\omega}}(t,0)\\begin{bmatrix} 1 \\\\ 0 \\end{bmatrix} = \\begin{bmatrix}\n",
    "\\cos \\displaystyle\\frac{t\\omega}{2}+ i \\displaystyle\\frac{\\omega_z}{\\omega} \\sin\\displaystyle\\frac{t\\omega}{2} \\\\ \\rule{0mm}{8mm}\n",
    " \\displaystyle\\frac{-\\omega_y+i\\omega_x}{\\omega} \\sin\\displaystyle\\frac{t\\omega}{2} \n",
    "\\end{bmatrix} \n",
    "$$\n",
    "\n",
    "La probabilidad de medir el estado $\\ket{0}$ o el estado $\\ket{1}$ en ese instante será\n",
    "\n",
    "\n",
    "\\begin{eqnarray*}\n",
    "p_0(t) &=& |\\braket{0}{\\psi(t)}|^2 =  \\cos^2 \\frac{t\\omega}{2} + \\frac{\\omega_z^2}{\\omega^2} \\sin^2 \\frac{t\\omega}{2} \\\\ \\rule{0mm}{8mm}\n",
    "p_1(t) &=&|\\braket{1}{\\psi(t)}|^2 =  \\frac{\\omega_x^2 + \\omega_y^2}{\\omega^2} \\sin^2\\frac{t\\omega}{2}\n",
    "\\end{eqnarray*}"
   ]
  },
  {
   "cell_type": "code",
   "execution_count": 1,
   "id": "bc4d2e2e",
   "metadata": {
    "slideshow": {
     "slide_type": "skip"
    }
   },
   "outputs": [
    {
     "data": {
      "image/png": "[encoded data removed]",
      "text/plain": [
       "<Figure size 640x480 with 2 Axes>"
      ]
     },
     "metadata": {},
     "output_type": "display_data"
    }
   ],
   "source": [
    "import numpy as np\n",
    "import matplotlib.pyplot as plt\n",
    "\n",
    "tlist = np.linspace(0,10,101)\n",
    "\n",
    "wz = 0.8 # la componente w_z \n",
    "w  = 1   # el módulo de w\n",
    "wxy = np.sqrt(w**2-wz**2) ## esto es sqrt(w_x**2 + w_y**2)\n",
    "p0list08= np.cos(tlist*w/2)**2 + (wz/w)**2*np.sin(tlist*w/2)**2\n",
    "p1list08=  (wxy/w)**2*np.sin(tlist*w/2)**2\n",
    "\n",
    "wz = 0.2\n",
    "w  = 1\n",
    "wxy = np.sqrt(w**2-wz**2)  \n",
    "p0list02= np.cos(tlist*w/2)**2 + (wz/w)**2*np.sin(tlist*w/2)**2\n",
    "p1list02=  (wxy/w)**2*np.sin(tlist*w/2)**2\n",
    "\n",
    "fig, (ax1,ax2) = plt.subplots(2,sharex=True)\n",
    "\n",
    "ax1.set_ylabel('p(t)')\n",
    "ax1.plot(tlist,p0list08,label=\"$p_0(t)$\")\n",
    "ax1.plot(tlist,p1list08,label=\"$p_1(t)$\")\n",
    "ax1.set_title('$\\omega_z = 0.8$')\n",
    "ax1.legend()\n",
    "\n",
    "ax2.set_xlabel('t')\n",
    "ax2.set_ylabel('p(t)')\n",
    "ax2.plot(tlist,p0list02,label=\"$p_0(t)$\")\n",
    "ax2.plot(tlist,p1list02,label=\"$p_1(t)$\")\n",
    "ax2.set_title('$\\omega_z = 0.2$')\n",
    "ax2.legend()\n",
    "\n",
    "plt.show()"
   ]
  },
  {
   "cell_type": "markdown",
   "id": "d9de5ab7",
   "metadata": {
    "run_control": {
     "marked": false
    },
    "slideshow": {
     "slide_type": "skip"
    }
   },
   "source": [
    "Para poder *fabricar* la puerta $X$ que rota $\\ket{0}$ en $\\ket{1}$, sería necesario ajustar dos parámetros\n",
    "\n",
    "-  El vector de Larmor debe tener componentes $\\boldsymbol{\\omega} = (0,\\omega,0)$, es decir, estar sobre el eje $y$. En otras palabras, $\\omega_z = 0$.\n",
    "\n",
    "-  El tiempo de precesión debería ajustarse a valer $t_p = \\pi/\\omega$  para que $p_0(t_p)=0$ y $p_1(t_p)=1$. \n",
    "\n",
    "Ambos requisitos chocan frontalmente con el hecho de que  $\\omega_z = \\Delta/\\hbar = (\\varepsilon_1 - \\varepsilon_0)/\\hbar$ está relacionada con el *gap* de energía. Este gap <u>no puede ser nulo</u>. Si lo fuera, $\\varepsilon_0 = \\varepsilon_1$, entonces $\\ket{0}$ y $\\ket{1}$ estarían degenerados y  no tendríamos una noción de estado fundamental. Es decir, perderíamos el control del estado inicial en el que está nuestro cúbit esperando a que lo manipulemos. \n",
    "\n",
    "La ingeniosa solución a este problema se le ocurrió a Isaac Rabi y le valió el premio Nobel en 1944."
   ]
  },
  {
   "cell_type": "markdown",
   "id": "c0c915f6-a8cc-4729-8b79-e4f8f97e5390",
   "metadata": {},
   "source": [
    "### Oscilaciones de Rabi"
   ]
  },
  {
   "cell_type": "code",
   "execution_count": null,
   "id": "c80ebdd6-ca73-4655-8453-75531157af0c",
   "metadata": {},
   "outputs": [],
   "source": []
  }
 ],
 "metadata": {
  "celltoolbar": "Slideshow",
  "kernelspec": {
   "display_name": "Python 3 (ipykernel)",
   "language": "python",
   "name": "python3"
  },
  "language_info": {
   "codemirror_mode": {
    "name": "ipython",
    "version": 3
   },
   "file_extension": ".py",
   "mimetype": "text/x-python",
   "name": "python",
   "nbconvert_exporter": "python",
   "pygments_lexer": "ipython3",
   "version": "3.11.7"
  },
  "toc": {
   "base_numbering": 1,
   "nav_menu": {},
   "number_sections": true,
   "sideBar": true,
   "skip_h1_title": true,
   "title_cell": "Table of Contents",
   "title_sidebar": "Contents",
   "toc_cell": false,
   "toc_position": {
    "height": "calc(100% - 180px)",
    "left": "10px",
    "top": "150px",
    "width": "414.053px"
   },
   "toc_section_display": true,
   "toc_window_display": false
  },
  "varInspector": {
   "cols": {
    "lenName": 16,
    "lenType": 16,
    "lenVar": 40
   },
   "kernels_config": {
    "python": {
     "delete_cmd_postfix": "",
     "delete_cmd_prefix": "del ",
     "library": "var_list.py",
     "varRefreshCmd": "print(var_dic_list())"
    },
    "r": {
     "delete_cmd_postfix": ") ",
     "delete_cmd_prefix": "rm(",
     "library": "var_list.r",
     "varRefreshCmd": "cat(var_dic_list()) "
    }
   },
   "types_to_exclude": [
    "module",
    "function",
    "builtin_function_or_method",
    "instance",
    "_Feature"
   ],
   "window_display": false
  }
 },
 "nbformat": 4,
 "nbformat_minor": 5
}
