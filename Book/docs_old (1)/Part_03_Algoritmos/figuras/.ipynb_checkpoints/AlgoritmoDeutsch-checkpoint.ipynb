{
 "cells": [
  {
   "cell_type": "markdown",
   "metadata": {},
   "source": [
    "<img   src=\"../../figuras/logo/TalentQ_LogoPosNegro.png\" align=center  width=\"120\"/>\n",
    "<br>\n",
    "\n",
    "<table width=\"100%\">\n",
    "<td style=\"font-size:50px;font-style:italic;text-align:right;background-color:rgba(0, 160, 120,0.6)\">\n",
    "Algoritmo de Deutsch\n",
    "</td></table>\n",
    "$ \\newcommand{\\bra}[1]{\\langle #1|} $\n",
    "$ \\newcommand{\\ket}[1]{|#1\\rangle} $\n",
    "$ \\newcommand{\\braket}[2]{\\langle #1|#2\\rangle} $\n",
    "$ \\newcommand{\\i}{{\\color{blue} i}} $ \n",
    "$ \\newcommand{\\Hil}{{\\mathbb H}} $\n",
    "$ \\newcommand{\\V}{{\\mathbb V}} $\n",
    "\n",
    "\n"
   ]
  },
  {
   "cell_type": "markdown",
   "metadata": {},
   "source": [
    "<a id='dirac'></a>\n",
    "<table width=\"100%\">\n",
    "    <td style=\"font-size:30px;font-family:Helvetica;text-align:left;background-color:rgba(12, 43, 337, 0.3);\">\n",
    "<b>Introducción</b>\n",
    "</table>   "
   ]
  },
  {
   "cell_type": "markdown",
   "metadata": {},
   "source": [
    "El algoritmo de Deutsch forma parte de una clase de algoritmos que hacen uso de un *oráculo* del cual se intenta adivinar una cierta propiedad, o *promesa*.\n",
    "\n",
    "\n",
    "**Problema**\n",
    "<br>\n",
    ">Sea un oráculo que implementa una función binaria $f:\\{0,1\\}\\to \\{0,1\\}$.\n",
    "El problema que se plantea es adivinar si se trata de una *función constante* $f(0) = f(1)$, o balanceada\n",
    "$f(0) =\\neg f(1)$.\n",
    "\n",
    "<br>\n",
    "\n",
    "Clásicamente necesitamos evaluar $f$ dos veces, en $f(0)$ y en $f(1)$. Pero realmente sólo buscamos **un bit** de información que es, precisamente, la\n",
    "paridad $\\pi(f) = f(0)\\oplus f(1)\\in \\{0,1\\}$. Funciones constantes (balanceadas) tienen $\\pi = 0\\,(1)$. El objetivo es conseguir que ese bit figure en las amplitudes del estado final de manera que una medida en la base computacional lo desvele inequívocamente.  \n",
    "\n",
    "La clave es la interferencia de las fases obtenidas a partir de un retroceso de fase. Para ello, debemos *codificar el oráculo* en la fase. Como hemos visto, esto se consigue haciendo que el cúbit de evaluación sea $\\ket{-}$.\n",
    "\n",
    "La solución encontrada por Deutsch es la siguiente\n",
    "\n",
    "<br>\n",
    "<br>\n",
    "<div>\n",
    "<img src=\"Deutsch.png\" width=\"450\"/>\n",
    "</div>\n",
    "<br>\n",
    "<br>\n",
    "\n"
   ]
  },
  {
   "cell_type": "markdown",
   "metadata": {},
   "source": [
    "Vamos a ver cómo evoluciona el estado inicial a lo largo del circuito\n",
    "\n",
    "\\begin{eqnarray}\n",
    "\\ket{0}\\ket{-} &\\stackrel{H\\otimes I}{\\longrightarrow}&  \\frac{ (\\ket{0} + \\ket{1})}{\\sqrt{2}}\\otimes \\ket{-}\\nonumber\\\\ \n",
    "&\\stackrel{U_f}{\\longrightarrow}& \\frac{(-1)^{f(0)} \\ket{0} \\ +(-1)^{f(1)} \\ket{1} }{\\sqrt{2}} \\otimes\\ket{-}~ ~~~\\hbox{retroceso de fase}\\nonumber\\\\\n",
    " &\\stackrel{H\\otimes I}{\\longrightarrow} &  \\frac{(-1)^{f(0)} \\ket{+} +(-1)^{f(1)} \\ket{-}  }{\\sqrt{2}} \\otimes \\ket{-} ~~~~~~\\hbox{interferencia}\\nonumber\\\\\n",
    " & = &\\frac{1}{2}\\left( \\rule{0mm}{4mm}\\left( (-1)^{f(0)} + (-1)^{f(1)} \\right) \\ket{0} +   \\left( \\rule{0mm}{4mm} (-1)^{f(0)} - (-1)^{f(1)} \\right) \\ket{1} \\right) \\otimes \\ket{-}\n",
    " \\nonumber\\\\\n",
    " &=&\\frac{1}{2}\\left( \\rule{0mm}{4mm}\\left( 1 + (-1)^{f(0)+f(1)} \\right) \\ket{0} +   \\left( \\rule{0mm}{4mm} 1 - (-1)^{f(0)+f(1)} \\right) \\ket{1} \\right) \\otimes \\ket{-} \\nonumber\\\\\n",
    "\\rule{0mm}{6mm} &=& \\ket{f(0) \\oplus f(1)}\\otimes \\ket{-} \\nonumber\n",
    "\\end{eqnarray}\n",
    "<br>\n",
    "Por tanto, una única medida del primer estado nos informa directamente del valor $f(0) \\oplus f(1)$ de la paridad de $f$. Si la función es constante $C$, mediremos $\\ket{0}$, y si es balanceada, $B$, obtendremos $\\ket{1}$.\n",
    "\n",
    "Notar cómo el algoritmo, después de efectuar una *codificar de fase* del oráculo, utiliza una puerta de Hadamard para provocar una interferencia de opciones que tiene amplitudes 0 o 1 dependiendo del carácter de $f(x)$. Esta será la filosofía general.\n",
    "\n"
   ]
  },
  {
   "cell_type": "markdown",
   "metadata": {},
   "source": [
    "<a id='dirac'></a>\n",
    "<table width=\"100%\">\n",
    "    <td style=\"font-size:30px;font-family:Helvetica;text-align:left;background-color:rgba(12, 43, 337, 0.3);\">\n",
    "<b>Definición del oráculo</b>\n",
    "</table>   "
   ]
  },
  {
   "cell_type": "markdown",
   "metadata": {},
   "source": [
    "En este caso hay sólo 4 funciones. \n",
    "\n",
    "Necesitamos dos oráculos diferentes: uno para la función constante y otro para la balanceada.\n",
    "\n",
    "- <b>Función constante</b>. \n",
    "Aquí podemos tener que para $x=0,1$, uniformemente $f(x)=0$ ó $f(x)=1$ . El primer caso no tiene ningún minterm, con lo que el circuito es trivial. El segundo tiene dos, de modo que se puede realizar con dos puertas CNOT. Una controlada por 0 y la segunda por 1. La composición deja una puerta $X$ en el cúbit de trabajo.\n",
    "\n",
    "\n",
    "- <b>Función balanceada</b>. Ahora tenemos también dos posibilidades, $f(x)=x$ ó $f(x) = \\neg x$. Ambas tienen un min-term, y por tanto una puerta CNOT controlada por 0 ó por 1.\n",
    "\n",
    "\n"
   ]
  },
  {
   "cell_type": "code",
   "execution_count": 50,
   "metadata": {},
   "outputs": [],
   "source": [
    "def O1(qc, qr):    \n",
    "    'constante f(x) = 0'\n",
    "    return qc\n",
    "\n",
    "def O2(qc, qr):    \n",
    "    'constante f(x) = 1'\n",
    "    qc.x(qr[0])\n",
    "    return qc\n",
    "\n",
    "def O3(qc, qr):    \n",
    "    'balanceada f(x)=x'\n",
    "    qc.cx(qr[0], qr[1])    \n",
    "    return qc\n",
    "\n",
    "def O4(qc, qr):    \n",
    "    'balanceada f(x) = x+1'\n",
    "    qc.x(qr[0])\n",
    "    qc.cx(qr[0], qr[1])    \n",
    "    qc.x(qr[0])\n",
    "    return qc"
   ]
  },
  {
   "cell_type": "markdown",
   "metadata": {},
   "source": [
    "### Generación del Circuito de Deutsch"
   ]
  },
  {
   "cell_type": "code",
   "execution_count": 41,
   "metadata": {},
   "outputs": [],
   "source": [
    "from qiskit import QuantumRegister, QuantumCircuit, ClassicalRegister\n",
    "\n",
    "def Circuit(U):\n",
    "    \"\"\" Construye el circuito que implementa el algoritmo de Deutsch para un oráculo U\n",
    "    \"\"\"\n",
    "    \n",
    "    qr = QuantumRegister(2)\n",
    "    cr = ClassicalRegister(2)\n",
    "    \n",
    "    qc = QuantumCircuit(qr, cr, name='q')\n",
    "    \n",
    "    # Inicialización\n",
    "    qc.h(qr)\n",
    "    qc.z(qr[1])\n",
    "    qc.barrier()\n",
    "    \n",
    "    # Implementación del oráculo\n",
    "    U(qc, qr)\n",
    "    qc.barrier()\n",
    "    \n",
    "    # Medición\n",
    "    qc.h(qr[0])\n",
    "    qc.measure(qr[0], cr[0])\n",
    "    \n",
    "    return qc"
   ]
  },
  {
   "cell_type": "code",
   "execution_count": 52,
   "metadata": {},
   "outputs": [
    {
     "data": {
      "image/png": "[encoded data removed]",
      "text/plain": [
       "<Figure size 534.249x204.68 with 1 Axes>"
      ]
     },
     "execution_count": 52,
     "metadata": {},
     "output_type": "execute_result"
    }
   ],
   "source": [
    "qc = Circuit(O2)\n",
    "\n",
    "qc.draw(output='mpl')"
   ]
  },
  {
   "cell_type": "markdown",
   "metadata": {},
   "source": [
    "<a id='dirac'></a>\n",
    "<table width=\"100%\">\n",
    "    <td style=\"font-size:30px;font-family:Helvetica;text-align:left;background-color:rgba(12, 43, 337, 0.3);\">\n",
    "<b>Ejecución </b>\n",
    "</table>   "
   ]
  },
  {
   "cell_type": "markdown",
   "metadata": {},
   "source": [
    "Ahora que ya hemos definido nuestro circuito podemos ejecutarlo en el simulador de IBM."
   ]
  },
  {
   "cell_type": "code",
   "execution_count": 53,
   "metadata": {},
   "outputs": [
    {
     "data": {
      "text/plain": [
       "[AerSimulator('aer_simulator'),\n",
       " AerSimulator('aer_simulator_statevector'),\n",
       " AerSimulator('aer_simulator_density_matrix'),\n",
       " AerSimulator('aer_simulator_stabilizer'),\n",
       " AerSimulator('aer_simulator_matrix_product_state'),\n",
       " AerSimulator('aer_simulator_extended_stabilizer'),\n",
       " AerSimulator('aer_simulator_unitary'),\n",
       " AerSimulator('aer_simulator_superop'),\n",
       " QasmSimulator('qasm_simulator'),\n",
       " StatevectorSimulator('statevector_simulator'),\n",
       " UnitarySimulator('unitary_simulator'),\n",
       " PulseSimulator('pulse_simulator')]"
      ]
     },
     "execution_count": 53,
     "metadata": {},
     "output_type": "execute_result"
    }
   ],
   "source": [
    "from qiskit import Aer, execute\n",
    "\n",
    "Aer.backends()"
   ]
  },
  {
   "cell_type": "code",
   "execution_count": 54,
   "metadata": {},
   "outputs": [],
   "source": [
    "backend = Aer.get_backend('qasm_simulator')\n",
    "job     = execute(qc, backend, shots = 1024)\n",
    "result  = job.result()\n",
    "counts  = result.get_counts()"
   ]
  },
  {
   "cell_type": "markdown",
   "metadata": {},
   "source": [
    "Definimos una función que obtenga el número de cuentas para cada cúbit."
   ]
  },
  {
   "cell_type": "code",
   "execution_count": 55,
   "metadata": {},
   "outputs": [
    {
     "data": {
      "text/plain": [
       "{'00': 1024}"
      ]
     },
     "execution_count": 55,
     "metadata": {},
     "output_type": "execute_result"
    }
   ],
   "source": [
    "counts"
   ]
  },
  {
   "cell_type": "code",
   "execution_count": 46,
   "metadata": {},
   "outputs": [
    {
     "data": {
      "text/plain": [
       "'1'"
      ]
     },
     "execution_count": 46,
     "metadata": {},
     "output_type": "execute_result"
    }
   ],
   "source": [
    "list(counts.items())[0][0][1]"
   ]
  },
  {
   "cell_type": "code",
   "execution_count": 47,
   "metadata": {},
   "outputs": [
    {
     "data": {
      "text/plain": [
       "{'01': 1.0}"
      ]
     },
     "execution_count": 47,
     "metadata": {},
     "output_type": "execute_result"
    }
   ],
   "source": [
    "def get_prob_dist(counts): # counts es un diccionario \n",
    "    N=sum([n for n in counts.values()]) # numero de shots\n",
    "    prob_dist = {bit:np.round(v/N,4) for bit,v in counts.items()} # this is a modified dictionary\n",
    "    return prob_dist\n",
    "\n",
    "get_prob_dist(counts)"
   ]
  },
  {
   "cell_type": "code",
   "execution_count": 20,
   "metadata": {},
   "outputs": [],
   "source": [
    "def get_counts(counts):\n",
    "    \n",
    "    res0 = sum([list(counts.items())[i][-1] for i in range(len(counts.items())) if list(counts.items())[i][0][1] == '0'])\n",
    "    res1 = sum([list(counts.items())[i][-1] for i in range(len(counts.items())) if list(counts.items())[i][0][1] == '1'])\n",
    "    c    = {'0' : res0, '1' : res1}\n",
    "    \n",
    "    if c['0'] > c['1']:\n",
    "        print('La función es constante con una probabilidad de %.3f' %(c['0'] / (c['0'] + c['1'])))\n",
    "    else:\n",
    "        print('La función es balanceada con una probabilidad de %.3f' %(c['1'] / (c['0'] + c['1'])))\n",
    "\n",
    "    return c"
   ]
  },
  {
   "cell_type": "code",
   "execution_count": 21,
   "metadata": {},
   "outputs": [
    {
     "name": "stdout",
     "output_type": "stream",
     "text": [
      "La función es balanceada con una probabilidad de 1.000\n"
     ]
    }
   ],
   "source": [
    "count = get_counts(counts)"
   ]
  },
  {
   "cell_type": "code",
   "execution_count": 8,
   "metadata": {},
   "outputs": [
    {
     "data": {
      "image/png": "[encoded data removed]",
      "text/plain": [
       "<Figure size 504x360 with 1 Axes>"
      ]
     },
     "execution_count": 8,
     "metadata": {},
     "output_type": "execute_result"
    }
   ],
   "source": [
    "from qiskit.tools.visualization import plot_histogram\n",
    "\n",
    "plot_histogram(count)"
   ]
  },
  {
   "cell_type": "markdown",
   "metadata": {},
   "source": [
    "Veamos ahora lo que obtenemos para el caso de una función constante."
   ]
  },
  {
   "cell_type": "code",
   "execution_count": 9,
   "metadata": {},
   "outputs": [
    {
     "data": {
      "image/png": "[encoded data removed]",
      "text/plain": [
       "<Figure size 460.778x204.68 with 1 Axes>"
      ]
     },
     "execution_count": 9,
     "metadata": {},
     "output_type": "execute_result"
    }
   ],
   "source": [
    "qc = Circuit(U_constante)\n",
    "\n",
    "qc.draw(output='mpl')"
   ]
  },
  {
   "cell_type": "code",
   "execution_count": 10,
   "metadata": {},
   "outputs": [
    {
     "name": "stdout",
     "output_type": "stream",
     "text": [
      "La función es constante con una probabilidad de 1.000\n"
     ]
    }
   ],
   "source": [
    "backend = Aer.get_backend('qasm_simulator')\n",
    "job     = execute(qc, backend, shots = 1024)\n",
    "result  = job.result()\n",
    "counts  = result.get_counts()\n",
    "\n",
    "count = get_counts(counts)"
   ]
  },
  {
   "cell_type": "code",
   "execution_count": 11,
   "metadata": {},
   "outputs": [
    {
     "data": {
      "image/png": "[encoded data removed]",
      "text/plain": [
       "<Figure size 504x360 with 1 Axes>"
      ]
     },
     "execution_count": 11,
     "metadata": {},
     "output_type": "execute_result"
    }
   ],
   "source": [
    "plot_histogram(count)"
   ]
  },
  {
   "cell_type": "markdown",
   "metadata": {},
   "source": [
    "## Ejecución del circuito en un computador cuántico real"
   ]
  },
  {
   "cell_type": "markdown",
   "metadata": {},
   "source": [
    "Para terminar vamos a ver que resultado obtenemos para la ejecución del circuito en un computador cuántico real para el caso del oráculo con la función constante."
   ]
  },
  {
   "cell_type": "code",
   "execution_count": 12,
   "metadata": {},
   "outputs": [
    {
     "data": {
      "image/png": "[encoded data removed]",
      "text/plain": [
       "<Figure size 473.904x204.68 with 1 Axes>"
      ]
     },
     "execution_count": 12,
     "metadata": {},
     "output_type": "execute_result"
    }
   ],
   "source": [
    "qc = Circuit(U_constante)\n",
    "\n",
    "qc.draw(output='mpl')"
   ]
  },
  {
   "cell_type": "code",
   "execution_count": 13,
   "metadata": {},
   "outputs": [
    {
     "name": "stderr",
     "output_type": "stream",
     "text": [
      "/home/usuario/anaconda3/lib/python3.8/site-packages/qiskit/providers/ibmq/ibmqfactory.py:192: UserWarning: Timestamps in IBMQ backend properties, jobs, and job results are all now in local time instead of UTC.\n",
      "  warnings.warn('Timestamps in IBMQ backend properties, jobs, and job results '\n"
     ]
    },
    {
     "data": {
      "text/plain": [
       "[<IBMQSimulator('ibmq_qasm_simulator') from IBMQ(hub='ibm-q', group='open', project='main')>,\n",
       " <IBMQBackend('ibmqx2') from IBMQ(hub='ibm-q', group='open', project='main')>,\n",
       " <IBMQBackend('ibmq_16_melbourne') from IBMQ(hub='ibm-q', group='open', project='main')>,\n",
       " <IBMQBackend('ibmq_armonk') from IBMQ(hub='ibm-q', group='open', project='main')>,\n",
       " <IBMQBackend('ibmq_athens') from IBMQ(hub='ibm-q', group='open', project='main')>,\n",
       " <IBMQBackend('ibmq_santiago') from IBMQ(hub='ibm-q', group='open', project='main')>,\n",
       " <IBMQBackend('ibmq_lima') from IBMQ(hub='ibm-q', group='open', project='main')>,\n",
       " <IBMQBackend('ibmq_belem') from IBMQ(hub='ibm-q', group='open', project='main')>,\n",
       " <IBMQBackend('ibmq_quito') from IBMQ(hub='ibm-q', group='open', project='main')>,\n",
       " <IBMQSimulator('simulator_statevector') from IBMQ(hub='ibm-q', group='open', project='main')>,\n",
       " <IBMQSimulator('simulator_mps') from IBMQ(hub='ibm-q', group='open', project='main')>,\n",
       " <IBMQSimulator('simulator_extended_stabilizer') from IBMQ(hub='ibm-q', group='open', project='main')>,\n",
       " <IBMQSimulator('simulator_stabilizer') from IBMQ(hub='ibm-q', group='open', project='main')>,\n",
       " <IBMQBackend('ibmq_manila') from IBMQ(hub='ibm-q', group='open', project='main')>]"
      ]
     },
     "execution_count": 13,
     "metadata": {},
     "output_type": "execute_result"
    }
   ],
   "source": [
    "from qiskit import IBMQ\n",
    "\n",
    "IBMQ.load_account()\n",
    "\n",
    "provider = IBMQ.get_provider(hub='ibm-q')\n",
    "provider.backends()"
   ]
  },
  {
   "cell_type": "code",
   "execution_count": 14,
   "metadata": {},
   "outputs": [
    {
     "name": "stdout",
     "output_type": "stream",
     "text": [
      "La función es constante con una probabilidad de 0.995\n"
     ]
    }
   ],
   "source": [
    "backend = provider.get_backend('ibmq_belem')\n",
    "job     = execute(qc, backend, shots = 1024)\n",
    "result  = job.result()\n",
    "counts  = result.get_counts()\n",
    "\n",
    "count = get_counts(counts)"
   ]
  },
  {
   "cell_type": "code",
   "execution_count": 15,
   "metadata": {},
   "outputs": [
    {
     "data": {
      "image/png": "[encoded data removed]",
      "text/plain": [
       "<Figure size 504x360 with 1 Axes>"
      ]
     },
     "execution_count": 15,
     "metadata": {},
     "output_type": "execute_result"
    }
   ],
   "source": [
    "plot_histogram(count)"
   ]
  },
  {
   "cell_type": "markdown",
   "metadata": {},
   "source": [
    "Vemos como en este caso obtenemos que la función es constante para la mayoría de las ejecuciones. Pero también aparecen casos en los cuales se predice lo contrario debido a las diferentes fuentes de error del computador cuántico que usamos."
   ]
  },
  {
   "cell_type": "code",
   "execution_count": null,
   "metadata": {},
   "outputs": [],
   "source": []
  }
 ],
 "metadata": {
  "kernelspec": {
   "display_name": "Python 3",
   "language": "python",
   "name": "python3"
  },
  "language_info": {
   "codemirror_mode": {
    "name": "ipython",
    "version": 3
   },
   "file_extension": ".py",
   "mimetype": "text/x-python",
   "name": "python",
   "nbconvert_exporter": "python",
   "pygments_lexer": "ipython3",
   "version": "3.7.10"
  },
  "varInspector": {
   "cols": {
    "lenName": 16,
    "lenType": 16,
    "lenVar": 40
   },
   "kernels_config": {
    "python": {
     "delete_cmd_postfix": "",
     "delete_cmd_prefix": "del ",
     "library": "var_list.py",
     "varRefreshCmd": "print(var_dic_list())"
    },
    "r": {
     "delete_cmd_postfix": ") ",
     "delete_cmd_prefix": "rm(",
     "library": "var_list.r",
     "varRefreshCmd": "cat(var_dic_list()) "
    }
   },
   "types_to_exclude": [
    "module",
    "function",
    "builtin_function_or_method",
    "instance",
    "_Feature"
   ],
   "window_display": false
  }
 },
 "nbformat": 4,
 "nbformat_minor": 4
}
