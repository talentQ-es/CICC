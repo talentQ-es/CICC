{
 "cells": [
  {
   "cell_type": "markdown",
   "id": "cbf45561",
   "metadata": {
    "slideshow": {
     "slide_type": "slide"
    }
   },
   "source": [
    "<img   src=\"../figuras/logo/TalentQ_LogoPosNegro.png\" align=center  width=\"120\"/>\n",
    "<br>\n",
    "\n",
    "<table width=\"100%\">\n",
    "<td style=\"font-size:50px;font-style:italic;text-align:right;background-color:rgba(0, 160, 120,0.6)\">\n",
    "Operadores\n",
    "</td></table>\n",
    "\n",
    "$ \\newcommand{\\bra}[1]{\\langle #1|} $\n",
    "$ \\newcommand{\\ket}[1]{|#1\\rangle} $\n",
    "$ \\newcommand{\\braket}[2]{\\langle #1|#2\\rangle} $\n",
    "$ \\newcommand{\\i}{{\\color{blue} i}} $ \n",
    "$ \\newcommand{\\Hil}{{\\cal H}} $\n",
    "$ \\newcommand{\\V}{{\\cal V}} $\n",
    "\n",
    "\n",
    "\n",
    "- [Operadores y Matrices](#opdefi) \n",
    "\n",
    "\n",
    "- [Base de Operadores](#prodext)\n",
    "\n",
    "\n",
    "- [Funciones de Operadores](#funcope)\n",
    "\n",
    "\n",
    "- [El Espacio L(H)](#linh)\n",
    "\n",
    "\n",
    "- [Clases de Operadores](#optipos)\n",
    "\n",
    "\n",
    "- [Valores y Vectores Propios](#autov) \n",
    "\n",
    "\n",
    "- [Espectros de Operadores](#especope)\n",
    "\n",
    "\n",
    "- [Funciones de operadores](#funcope)\n",
    "\n",
    "\n",
    "- [Matrices de Pauli](#paulis)\n",
    "\n"
   ]
  },
  {
   "cell_type": "code",
   "execution_count": 2,
   "id": "7da47193",
   "metadata": {
    "slideshow": {
     "slide_type": "skip"
    }
   },
   "outputs": [],
   "source": [
    "%run ../macro_CURSO.py"
   ]
  },
  {
   "cell_type": "markdown",
   "id": "20678f2c",
   "metadata": {
    "slideshow": {
     "slide_type": "slide"
    }
   },
   "source": [
    "<a id='opdefi'></a>\n",
    "<table width=\"100%\">\n",
    "    <td style=\"font-size:25px;font-family:Helvetica;text-align:left;background-color:rgba(12, 43, 337, 0.3);\">\n",
    "<b>Operadores y Matrices</b>\n",
    "</table>   "
   ]
  },
  {
   "cell_type": "markdown",
   "id": "e4651708",
   "metadata": {
    "slideshow": {
     "slide_type": "slide"
    }
   },
   "source": [
    "En un espacio vectorial, además de los vectores, será esencial entender la manera en que estos se pueden transformar entre sí. Esto es la teoría de operadores\n",
    "\n",
    "<div class=\"alert alert-block alert-info\",text-align:center>\n",
    "<p style=\"text-align: left ;color: navy;\">  \n",
    "<b> Definición: </b> Un operador lineal es una aplicación  que transforma un vector  en otro \n",
    "<br>\n",
    "<br>\n",
    "$$\n",
    "A: \\ket{u} ~~\\to ~~ \\ket{v}  \n",
    "$$\n",
    "<p>\n",
    "</div>"
   ]
  },
  {
   "cell_type": "markdown",
   "id": "8abb78a2",
   "metadata": {
    "slideshow": {
     "slide_type": "fragment"
    }
   },
   "source": [
    "- escribimos también $\\ket{v} = A\\ket{u} \\equiv \\ket{Au}$ $~~$(donde $Au$ debe entenderse como una etiqueta)\n",
    "<br>\n",
    "\n",
    "- *lineal* implica que, sobre una *combinación lineal* de vectores, actúa de forma lineal. Es decir, para todo $\\alpha,\\beta \\in {\\mathbb C}$: \n",
    "\n",
    "<br>\n",
    "$$\n",
    "A: (\\alpha\\ket{u} + \\beta\\ket{w})~~\\to ~~ \\ket{v} =\\alpha \\ket{Au} + \\beta \\ket{Aw}\n",
    "$$\n"
   ]
  },
  {
   "cell_type": "markdown",
   "id": "470c0863",
   "metadata": {
    "slideshow": {
     "slide_type": "slide"
    }
   },
   "source": [
    "<div class=\"alert alert-block alert-warning\">\n",
    "    <b>Ejemplo:</b> \n",
    "<br>    el operador más fácil de visualizar es el operador de <i>rotación en un plano</i>. Dado un ángulo $\\theta \\in (0,2\\pi)$ el operador $A = R(\\theta)$ gira cualquier vector un ángulo $\\theta$ en el sentido antihorario\n",
    "<br>\n",
    "Representar el vector  $\\ket{u} = (u_1,u_2)$  es equivalente a representar el número complejo $u = u_1 + i u_2$ en el plano complejo.\n",
    "  Escrito en polares, $u=|u|e^{i\\phi}$, y sabemos que una rotación de ángulo $\\theta$ es equivalente a añadirle dicho  ángulo a la fase \n",
    "<br>\n",
    "$$\n",
    " v = R(\\theta) u = |u| e^{i(\\phi + \\theta)} =  |u| e^{i\\phi } e^{i\\theta} = u\\cdot e^{i\\theta} \n",
    "$$\n",
    "<br>    \n",
    "Por tanto, para rotar un número complejo un ángulo $\\theta$ basta con multiplicarlo por la fase $e^{i\\theta}$, que se corresponde con el operador $R(\\theta)$ en el espacio vectorial $\\mathbb{H}\\equiv\\mathbb{C}^2$.   \n",
    "La propiedad fundamental de una rotación es la de mantener invariante el módulo  $|v| = |u|$.    \n",
    "</div>\n"
   ]
  },
  {
   "cell_type": "markdown",
   "id": "98a26322",
   "metadata": {
    "slideshow": {
     "slide_type": "slide"
    }
   },
   "source": [
    "<div class=\"alert alert-block alert-danger\">\n",
    "<b>Nota:</b>\n",
    "<br>    \n",
    "No nos preocupa el <i>mecanismo</i> mediante la cuál cual un operador  <i>transforma un vector en otro</i> $A\\ket{u} =\\ket{v}$. Es una construcción mental de carácter matemático. \n",
    "\n",
    "Cuando querramos implementar la computación cuántica en un ordenador cuántico, constuiremos el operador $A$ a partir de un control preciso de los procesos físicos de evolución que puedan ocurrir en el mismo.\n",
    "</div>"
   ]
  },
  {
   "cell_type": "code",
   "execution_count": 4,
   "id": "df6aa2cd",
   "metadata": {
    "slideshow": {
     "slide_type": "slide"
    }
   },
   "outputs": [
    {
     "name": "stdout",
     "output_type": "stream",
     "text": [
      "u= u1 + i u2 =  (2+2j)\n",
      "v= v1 + i v2 =  (0.52+2.78j)\n"
     ]
    },
    {
     "data": {
      "image/png": "[encoded data removed]",
      "text/plain": [
       "<Figure size 576x576 with 1 Axes>"
      ]
     },
     "metadata": {
      "needs_background": "light"
     },
     "output_type": "display_data"
    }
   ],
   "source": [
    "'''ángulo que queremos rotar'''\n",
    "theta=0.6 \n",
    "\n",
    "'''vector a rotar'''\n",
    "u1=2.\n",
    "u2=2.\n",
    "u = u1 + u2*1j\n",
    "print('u= u1 + i u2 = ',np.round(u,2))\n",
    "\n",
    "'''rotación'''\n",
    "v = u*np.exp(1j*theta) # z rotado un angulo theta\n",
    "print('v= v1 + i v2 = ',np.round(v,2))\n",
    "\n",
    "''' Representación en el plano complejo '''\n",
    "plot_2D_plane(left=-int(abs(v.real))-2,right=int(abs(v.real))+2,up=int(abs(v.imag))+1,down=-int(abs(v.imag))-1)\n",
    "draw_vector(u.real,u.imag,vcolor='b')\n",
    "draw_vector(v.real,v.imag,vcolor='r')\n"
   ]
  },
  {
   "cell_type": "markdown",
   "id": "71798596",
   "metadata": {
    "slideshow": {
     "slide_type": "slide"
    }
   },
   "source": [
    "<div class=\"alert alert-block alert-success\">\n",
    "    <b>Ejercicio:</b>\n",
    "Utilizando la intuición anterior, define una función $R$, que recibe un vector de dos componentes $(u_1,u_2)$ y devuelve el vector $(v_1,v_2)$ de componentes rotadas un ángulo $\\theta$.\n",
    "</div>"
   ]
  },
  {
   "cell_type": "markdown",
   "id": "06362651",
   "metadata": {
    "slideshow": {
     "slide_type": "slide"
    }
   },
   "source": [
    "### Matriz de un operador\n",
    "\n",
    "Dada una base, un vector queda especificado por una colección de números, sus componentes.\n",
    "\n",
    "Vamos a ver que, igualmente, un operador queda definido por una matriz numérica. "
   ]
  },
  {
   "cell_type": "markdown",
   "id": "96faab96",
   "metadata": {
    "slideshow": {
     "slide_type": "fragment"
    }
   },
   "source": [
    "Efectivamente, en una base, la relación $\\ket{v} = A\\ket{u}$ equivale a una ecuación que relacione las componentes de ambos vectores\n",
    "\n",
    "$$\n",
    "\\begin{pmatrix}\n",
    "v_1 \\\\ v_2 \\\\ \\vdots \\\\ v_N \\end{pmatrix} =  \\begin{pmatrix} \n",
    "A_{11} & A_{12} & \\cdots & A_{1N} \\\\\n",
    "A_{21} & A_{22} & \\cdots & A_{2N} \\\\\n",
    "\\vdots & \\vdots &  \\ddots      & \\vdots \\\\\n",
    "A_{N1} & A_{N2} &    \\cdots    & A_{NN}\n",
    "\\end{pmatrix}\n",
    " \\begin{pmatrix} \n",
    "u_1 \\\\ u_2 \\\\ \\vdots \\\\ u_N\\end{pmatrix} \\hspace{4cm}\n",
    "$$\n",
    "<br>\n",
    "La propiedad de linealidad es evidente porque la acción de una matriz sobre una suma de vectores columna es igual a la suma de las acciones sobre cada vector."
   ]
  },
  {
   "cell_type": "markdown",
   "id": "97b65a99",
   "metadata": {
    "slideshow": {
     "slide_type": "slide"
    }
   },
   "source": [
    "Para $N$ arbitrariamente grande es preferible usar la notación de índices\n",
    "\n",
    "$$\n",
    "v_i = \\sum_{j=1}^N A_{ij} u_j  \\, .\n",
    "$$"
   ]
  },
  {
   "cell_type": "markdown",
   "id": "0864016b",
   "metadata": {
    "slideshow": {
     "slide_type": "fragment"
    }
   },
   "source": [
    "La suma en la expresión anterior es equivalente a la regla de multiplicación de matrices \n",
    "\n",
    "<br>\n",
    "\n",
    "$$\n",
    "\\begin{pmatrix}\n",
    "v_1 \\\\ v_2 \\\\ \\vdots \\\\ v_N \\end{pmatrix} =  \\begin{pmatrix} \n",
    "A_{11} & A_{12} & \\cdots & A_{1N} \\\\\n",
    "A_{21} & A_{22} & \\cdots & A_{2N} \\\\\n",
    "\\vdots & \\vdots &  \\ddots      & \\vdots \\\\\n",
    "A_{N1} & A_{N2} &    \\cdots    & A_{NN}\n",
    "\\end{pmatrix}\n",
    " \\begin{pmatrix} \n",
    "u_1 \\\\ u_2 \\\\ \\vdots \\\\ u_N\\end{pmatrix} \\hspace{4cm}\n",
    "$$"
   ]
  },
  {
   "cell_type": "markdown",
   "id": "3130e574",
   "metadata": {
    "slideshow": {
     "slide_type": "slide"
    }
   },
   "source": [
    "<div class=\"alert alert-block alert-warning\">\n",
    "    <b>Ejemplo:</b> \n",
    "<br>    Continuando con el ejemplo del operador de rotación en un plano, hemos visto que las componentes de $u = u_1 + i u_2$ y las de $R(\\theta)u = v = v_1 + i v_2$ se obtienen mediante la multiplicación por una fase pura \n",
    "\\begin{eqnarray}\n",
    "v&=& u e^{i\\theta} \\\\\n",
    "\\end{eqnarray}\n",
    "    \n",
    "Vamos a desarrollar cada miembro en cartesianas, separando las partes real e imaginaria\n",
    "<br>    \n",
    "\\begin{eqnarray}\n",
    "v_1 + i v_2 &=& (u_1 + iu_2) (\\cos \\theta + i \\sin \\theta)  \\\\\n",
    "    \\rule{0mm}{6mm}\n",
    "    &=& (\\cos\\theta \\, u_1 - \\sin \\theta\\,  u_2) + i(\\sin\\theta\\,  u_1 + \\cos \\theta\\,  u_2)\n",
    "\\end{eqnarray}\n",
    "<br>\n",
    "    \n",
    "es decir las coordenadas del vector origen y el vector rotado imagen se relacionan en la  forma \n",
    "\n",
    "<br>\n",
    "\\begin{eqnarray}\n",
    "v_1 = \\cos\\theta \\, u_1 - \\sin \\theta\\,  u_2 ~~~~~~~,~~~~~~~~\n",
    "v_2 = \\sin\\theta \\, u_1 + \\cos \\theta\\,  u_2     \n",
    "\\end{eqnarray}\n",
    "<br>\n",
    "\n",
    "que podemos expresar en forma matricial\n",
    "    \n",
    "$$\n",
    "\\begin{pmatrix} v_1 \\\\ v_2 \\end{pmatrix} = \\begin{pmatrix} \\cos\\theta & -\\sin\\theta \\\\ \\sin\\theta &\\cos\\theta\\end{pmatrix} \\begin{pmatrix} u_1 \\\\ u_2 \\end{pmatrix}\n",
    "$$    \n",
    "    \n",
    "  \n",
    "    \n",
    "    \n",
    "</div>\n"
   ]
  },
  {
   "cell_type": "markdown",
   "id": "c72bdd68",
   "metadata": {
    "slideshow": {
     "slide_type": "slide"
    }
   },
   "source": [
    "<a id='prodext'></a>\n",
    "<table width=\"100%\">\n",
    "    <td style=\"font-size:25px;font-family:Helvetica;text-align:left;background-color:rgba(12, 43, 337, 0.3);\">\n",
    "<b>Base de Operadores</b>\n",
    "</table>   "
   ]
  },
  {
   "cell_type": "markdown",
   "id": "d5cbd0f5",
   "metadata": {
    "slideshow": {
     "slide_type": "slide"
    }
   },
   "source": [
    "### Producto externo de vectores\n",
    "\n",
    "Consideremos dos vectores $\\ket{u} = \\sum_i u_i\\ket{e_i}$ y $\\ket{v} = \\sum_j v_j \\ket{e_j}$, expresados en una base ortonormal. Dependiendo del orden en que los compongamos, $\\braket{u}{v}$ o $\\ket{v}\\bra{u}$, el resultado produce dos cantidades muy distintas.\n",
    "<br>\n",
    "\n",
    "- El *producto interno*, o *producto escalar* es un **número complejo**\n",
    "<br>\n",
    "\n",
    "$$\n",
    " a = \\braket{u}{v} = \\braket{v}{u}^* \n",
    "$$\n",
    "\n",
    "- El *producto externo* es un **operador**\n",
    "<br>\n",
    "$$\n",
    "A = \\ket{v}\\bra{u}\n",
    "$$"
   ]
  },
  {
   "cell_type": "markdown",
   "id": "1d202c44",
   "metadata": {
    "slideshow": {
     "slide_type": "fragment"
    }
   },
   "source": [
    "Para comprender por qué es un operador, observamos que dicha expresión está <i>a la espera </i> de un vector $\\ket{w}$ para dar otro\n",
    "<br><br>\n",
    "\n",
    "$$\n",
    "A : \\ket{w} ~\\to ~ A\\ket{w} =  \\ket{v}\\braket{u}{w}=\\ket{v} b  = b \\ket{v} \n",
    "$$\n",
    "<br>\n",
    "\n",
    "donde el número complejo $b=\\braket{u}{w}$ es  la *proyección* de $\\ket{w}$ en la dirección de $\\ket{u}$."
   ]
  },
  {
   "cell_type": "markdown",
   "id": "095de6d6",
   "metadata": {
    "slideshow": {
     "slide_type": "slide"
    }
   },
   "source": [
    "<div class=\"alert alert-block alert-danger\">\n",
    "<b>Notar:</b> \n",
    "<br>\n",
    "1.     El <i>orden</i> en que escribimos las cosas es <b>muy</b> relevante.\n",
    "<br>    \n",
    "$\\Rightarrow$ \n",
    "$\\braket{u}{v}$ y $\\ket{v}\\bra{u}$ son objetos <i> radicalmente distintos</i> (el primero es un número y el segundo un operador). \n",
    "<br>  \n",
    "<br>    \n",
    "$\\Rightarrow$  En cambio $\\ket{v} b  = b \\ket{v}$, así como $\\bra{u}b = b\\bra{u}$, es decir,  los números complejos y los $kets$ o $bras$ pueden escribirse en cualquier orden (decimos que conmutan).\n",
    "<br>\n",
    "<br>\n",
    "2.    La acción del operador  $A = \\ket{v}\\bra{u}$ es muy fácil de expresar con palabras: \n",
    "el operador $A$ toma <i>cualquier vector</i> $\\ket{w}$ y lo convierte en un vector <i>paralelo</i> a $\\ket{v}$ proporcionalmente a su proyección $b=\\braket{u}{w}$. Si la proyección es nula $b=0$, el operador <i>aniquila</i>, es decir, da el elemento neutro.\n",
    "<div>"
   ]
  },
  {
   "cell_type": "markdown",
   "id": "c1c4e5d3",
   "metadata": {
    "slideshow": {
     "slide_type": "slide"
    }
   },
   "source": [
    "### En componentes\n",
    "\n",
    "La diferencia entre el *producto interno* $a=\\braket{u}{v}$ y el *externo* $A=\\ket{u}\\bra{v}$ tiene su reflejo en una base expresando ambos vectores en componentes. Sea $\\ket{u} = \\sum_i u_i\\ket{i}$ y $\\ket{v} = \\sum_j v_j \\ket{j}$ \n",
    "\n",
    "-  el *número complejo* $a$ que expresa el *producto escalar*\n",
    "$$\n",
    " a = \\braket{u}{v}  = \\begin{pmatrix} u_1^*,...,u_N^*\\end{pmatrix}\n",
    "\\begin{pmatrix} v_1 \\\\ \\vdots \\\\ v_N\\end{pmatrix}\\, =  \\sum_i u_i^*v_i\n",
    "$$"
   ]
  },
  {
   "cell_type": "markdown",
   "id": "a1709eb2",
   "metadata": {
    "slideshow": {
     "slide_type": "fragment"
    }
   },
   "source": [
    "-  la matriz $A_{ij}$ que expresa  representa el operador $A$ en la base $\\{\\ket{i}=\\ket{e_i}\\}$\n",
    "\n",
    "$$\n",
    "A = \\ket{v}\\bra{u} ~\\sim ~\\begin{pmatrix} v_1 \\\\ \\vdots \\\\ v_N\\end{pmatrix}\n",
    "\\begin{pmatrix} u_1^*,...,u_N^*\\end{pmatrix} ~=~ \n",
    "\\begin{pmatrix} v_1 u_1^* & v_1u_2^* & ... & v_1 u_N^* \\\\\n",
    "v_2 u_1^* & v_2 u_1^*& ... & v_2 u_N^* \\\\ \\vdots & \\vdots  & \\ddots & \\vdots \\\\\n",
    "v_N u_1^* & & ... & v_N u_N^* \\end{pmatrix} ~ = ~A_{ij}\n",
    "$$\n",
    "\n",
    "<br>"
   ]
  },
  {
   "cell_type": "markdown",
   "id": "28163c16",
   "metadata": {
    "slideshow": {
     "slide_type": "slide"
    }
   },
   "source": [
    "***\n",
    "\n",
    "### Base canónica de operadores\n",
    "\n",
    "Un caso importante es cuando $A$ es el producto externo de dos vectores de la base $\\ket{i}$ y $\\ket{j}$ \n",
    "<br><br>\n",
    "$$A = \\ket{i}\\bra{j}$$\n",
    "<br>\n",
    "\n",
    "- La acción de $A$ sobre un vector $\\ket{e_k}$ arbitrario de la base es sencilla:  cambia el vector $\\ket{e_j}\\to \\ket{e_i}$ y aniquila a todos los demás\n",
    "<br>\n",
    "\n",
    "$$\n",
    "A \\ket{k} = \\ket{i}\\braket{j}{k} = \\ket{i} \\delta_{jk} = \\left\\{ \\begin{array}{rl}\n",
    "0 & {\\rm if} ~~k\\neq j \\\\ \\ket{i} & {\\rm if} ~~ k=j \\end{array} \\right.\n",
    "$$"
   ]
  },
  {
   "cell_type": "markdown",
   "id": "66bf3815",
   "metadata": {
    "slideshow": {
     "slide_type": "slide"
    }
   },
   "source": [
    "- La matriz asociada al operador  tiene sólo un 1 en el elemento $(ij)$ y cero en todos los demás. Por ejemplo, supongamos que \n",
    "$N=4$ \n",
    "\n",
    "<br>\n",
    "\n",
    "$$\n",
    "\\ket{e_2}\\bra{e_3} ~\\to ~~\n",
    " \\begin{pmatrix} 0 \\\\ 1 \\\\ 0 \\\\ 0 \\end{pmatrix}\\begin{pmatrix} 0 & 0 & 1 & 0 \\end{pmatrix} = \n",
    "\\begin{pmatrix}\n",
    "0 &  0 & 0 &  0 \\\\  0 &  0 & 1&  0 \\\\ 0 &  0 & 0 &  0 \\\\ 0 &  0 & 0 &  0\n",
    "\\end{pmatrix} ~~\\Rightarrow ~~ A_{ij} = \\delta_{i2}\\delta_{j3}\n",
    "$$\n",
    "\n",
    "<br>"
   ]
  },
  {
   "cell_type": "markdown",
   "id": "18f0df0c",
   "metadata": {
    "slideshow": {
     "slide_type": "slide"
    }
   },
   "source": [
    "### Expansión de un operador general\n",
    "\n",
    "Ahora podemos obtener una nueva perspectiva sobre la matriz $A_{ij}$ asociada a un operador $A$. \n",
    "\n",
    "De la misma manera que las componentes $u_i$ expresan la *expansión de un vector* $\\ket{u}$ en una *base ortonormal de vectores*,  $\\to \\ket{u} = \\sum_{i=1}^N u_i \\ket{i}$, los *elementos de matriz* $A_{ij}$ expresan la *expansión de un operador* en una **base de operadores** $\\ket{i}\\bra{j}$\n",
    "<br>\n",
    "Escribiendo las matrices asociadas a $\\ket{i}\\bra{j}$, es evidente que $\\sum_{i,j=1}^N A_{ij} \\ket{i}\\bra{j} $ reconstruye la mariz $A_{ij}$ asociada a $A$\n",
    "<br>\n",
    "<br>\n",
    "$$\n",
    "A= \\sum_{i,j=1}^N A_{ij} \\ket{i}\\bra{j} \\,~~~~ \\Longleftrightarrow ~~~~\n",
    "\\begin{pmatrix} \n",
    "A_{11} & A_{12} & \\cdots & A_{1N} \\\\\n",
    "A_{21} & A_{22} & \\cdots & A_{2N} \\\\\n",
    "\\vdots & \\vdots &  \\ddots      & \\vdots \\\\\n",
    "A_{N1} & A_{N2} &    \\cdots    & A_{NN}\n",
    "\\end{pmatrix}. \\hspace{2cm}\n",
    "$$"
   ]
  },
  {
   "cell_type": "markdown",
   "id": "cfbaa3e1",
   "metadata": {
    "slideshow": {
     "slide_type": "slide"
    }
   },
   "source": [
    "<details>\n",
    "<summary><p style=\"text-align:right\"> >> Consistencia </p></summary>\n",
    "\n",
    "Verifiquemos que actúa de la forma correcta\n",
    "\n",
    "$$\n",
    "\\begin{array}{rcl}\n",
    "A |u\\rangle &=&  \\sum_{i,j} A_{ij} | i\\rangle \\langle j | \\left(\\sum_k u_k |e_k\\rangle \\right) \\\\\n",
    "&\\stackrel{\\rm linealidad}{=}& \\sum_{i,j} \\sum_k A_{ij} | e_i\\rangle  \\,   u_k \\langle e_j| e_k\\rangle \\nonumber\\\\\n",
    "&\\stackrel{\\rm ortonormalidad}{=}& \\sum_{i,j,k} A_{ij} | e_i\\rangle  \\,   u_k \\delta_{jk}\\\\\n",
    "&=&\\sum_{ij} A_{ij}\\,|e_i\\rangle \\, u_j= \\sum_i \\left(\\sum_{j} A_{ij}\\, u_j\\right)  |e_i\\rangle    \\\\\n",
    "&=&\\sum_i v_i \\ket{e_i} \\nonumber\\\\\n",
    "&=&   | v\\rangle\n",
    "\\end{array}\n",
    "$$\n",
    "</details>"
   ]
  },
  {
   "cell_type": "markdown",
   "id": "bc3ac056",
   "metadata": {
    "slideshow": {
     "slide_type": "slide"
    }
   },
   "source": [
    "### Elementos de matriz\n",
    "\n",
    "Podemos invertir la expresión anterior para obtener, a partir de un operador, $A$, sus *elementos de matriz*\n",
    "\n",
    "$$\\fbox{$ A_{ij} = \\bra{i} A \\ket{j}$} $$"
   ]
  },
  {
   "cell_type": "markdown",
   "id": "db521097",
   "metadata": {
    "slideshow": {
     "slide_type": "fragment"
    }
   },
   "source": [
    "<div class=\"alert alert-block alert-success\">\n",
    "<b>Ejercicio:</b>$~$\n",
    "demuestra esta expresión\n",
    "<details>\n",
    "<summary><p style=\"text-align:right\"> >> Solución </p></summary>\n",
    "\\begin{eqnarray}\n",
    "\\bra{e_i} A \\ket{e_j} &=&  \\bra{i}\\left(\\sum_{k,l=1}^N A_{kl} \\ket{k}\\bra{l}  \\right) \\ket{j}\\nonumber\\\\\n",
    "    &=&\\sum_{k,l=1}^N \\braket{e_i}{k} A_{kl} \\braket{l}{j} \\nonumber\\\\\n",
    "    &=&\\sum_{k,l=1}^N \\delta_{ik} A_{kl} \\delta_{lj} = A_{ij}\n",
    "\\end{eqnarray}\n",
    "</details>    \n"
   ]
  },
  {
   "cell_type": "markdown",
   "id": "e9bcfa6e",
   "metadata": {
    "slideshow": {
     "slide_type": "slide"
    }
   },
   "source": [
    "### Relación de completitud    \n",
    "    \n",
    "el operador identidad $I$ tiene por matriz $I_{ij}=\\delta_{ij}={\\rm diagonal}\\, (1,1,...,1)$ con lo que\n",
    "\n",
    "<br>\n",
    "\n",
    "$$\n",
    "I = \\sum_{ij} \\delta_{ij}\\ket{i}\\bra{j} = \\sum_{i}  \\ket{i}\\bra{i}\n",
    "$$\n",
    "\n",
    "Esta expresión se conoce también como <b>relación de completitud</b> o, también <b>relación de cierre</b> y se utiliza muy frecuentemente.\n"
   ]
  },
  {
   "cell_type": "markdown",
   "id": "5562311e",
   "metadata": {
    "slideshow": {
     "slide_type": "fragment"
    }
   },
   "source": [
    "<div class=\"alert alert-block alert-danger\">\n",
    "<b>Notar:</b> \n",
    "<br>\n",
    "la relación de completitud es, en realidad, una propiedad de  <b> cualquier base</b>. Dicho de otro modo, si $\\{\\ket{e_i}\\}$ y $\\{\\ket{f_i}\\}$ son, ambas, bases entonces \n",
    "<br>\n",
    "<br>\n",
    "$$\n",
    "I =  \\sum_{i}  \\ket{e_i}\\bra{e_i} =  \\sum_{j}  \\ket{f_j}\\bra{f_j}\\, .\n",
    "$$\n",
    "</div>"
   ]
  },
  {
   "cell_type": "markdown",
   "id": "e1088847",
   "metadata": {},
   "source": [
    "\n",
    "La relación de cierre, o completitud,  siempre se puede insertar en cualquier momento del cálculo. Se utiliza con frecuencia para efectuar cambios de base.\n",
    "<br>\n",
    "<br>\n",
    "Por ejemplo, sean\n",
    "dos vectores $\\ket{u}$ y  $\\ket{v}$. Vamos a ver que su producto escalar puede calcularse en cualquier base  usando la relación de completitud en dicha base $I = \\sum_i \\ket{f_i}\\bra{f_i}$    \n",
    "<br>\n",
    "$$ \n",
    "\\braket{v}{u} = \\bra{v} I \\ket{u} = \\bra{v}\\left(\\sum_i\\ket{f_i}\\bra{f_i}\\right)\\ket{u} = \n",
    "\\sum_i \\braket{v}{f_i}\\braket{f_i}{u} = \\sum_i v_i^* u_i\n",
    "$$ \n",
    "<br>\n",
    "donde $\\ket{u} = \\sum_i u_i\\ket{f_i}$  y $\\ket{v} = \\sum_i v_i\\ket{f_i}$ en dicha base.  \n"
   ]
  },
  {
   "cell_type": "markdown",
   "id": "271fd854",
   "metadata": {},
   "source": [
    "<div class=\"alert alert-block alert-warning\">\n",
    "<b>Resumen:</b> \n",
    "<br>     \n",
    "Dada una base $\\{\\ket{e_i}\\}$ podemos expresar un operador mediante una matriz $A_{ij}$. La relación concreta es \n",
    "\n",
    "- como operador $$ A = \\sum_{ij} A_{ij}\\ket{i}\\bra{j}$$\n",
    "\n",
    "- como matriz $$ A_{ij} = \\bra{i}A\\ket{j}$$\n",
    "<br>   \n",
    "</div>    "
   ]
  },
  {
   "cell_type": "markdown",
   "id": "bc765de9",
   "metadata": {
    "slideshow": {
     "slide_type": "slide"
    }
   },
   "source": [
    "<a id='linh'></a>\n",
    "<table width=\"100%\">\n",
    "    <td style=\"font-size:25px;font-family:Helvetica;text-align:left;background-color:rgba(12, 43, 337, 0.3);\">\n",
    "<b>El Espacio Vectorial  ${\\rm L}(\\Hil)$ </b>\n",
    "</table>   "
   ]
  },
  {
   "cell_type": "markdown",
   "id": "baed8c56",
   "metadata": {
    "slideshow": {
     "slide_type": "slide"
    }
   },
   "source": [
    "Pensemos en el <i>conjunto</i> de **todos** <i>los operadores lineales</i> sobre un espacio vectorial $\\Hil$. Podemos ver que este conjunto tiene, de forma natural, una estructura de espacio vectorial. "
   ]
  },
  {
   "cell_type": "markdown",
   "id": "0ad0090f",
   "metadata": {
    "slideshow": {
     "slide_type": "fragment"
    }
   },
   "source": [
    "En efecto, sean $A$ y $B$ dos operadores, y $\\lambda\\in {\\bf C}$ un número complejo entonces tanto la suma $C = A+B$ como la multiplicación externa $D=\\lambda A$ son nuevos operadores definidos por su acción sobre un vector cualquiera $\\ket{v}\\in \\Hil$\n",
    "\n",
    "<br>\n",
    "$$\n",
    "C\\ket{v} ~=~ (A + B) \\ket{v} = A\\ket{v} + B\\ket{v}\n",
    "$$\n",
    "<br>\n",
    "$$\n",
    "D\\ket{v} ~=~ (\\lambda A) \\ket{v} = \\lambda (A\\ket{v})\n",
    "$$"
   ]
  },
  {
   "cell_type": "markdown",
   "id": "4829e1e3",
   "metadata": {
    "slideshow": {
     "slide_type": "fragment"
    }
   },
   "source": [
    "Esto quiere decir que los operadores lineal sobre $\\Hil$ forman, ellos mismos, un espacio vectorial que recibe el nombre de ${\\rm L}(\\Hil)$."
   ]
  },
  {
   "cell_type": "markdown",
   "id": "37640993",
   "metadata": {
    "slideshow": {
     "slide_type": "slide"
    }
   },
   "source": [
    "## Operador Adjunto\n",
    "\n",
    "La conjugación adjunta se puede extender a ${\\rm L}(\\Hil)$\n",
    "<br><br>\n",
    "\n",
    "$$\n",
    "\\dagger ~\\to ~\n",
    "\\left\\{\n",
    "\\begin{matrix}\n",
    "z & \\leftrightarrow  &  z^* \\\\\n",
    "|u\\rangle & \\leftrightarrow &   \\langle u | \\\\\n",
    "A & \\leftrightarrow & A^{\\dagger}\n",
    "\\end{matrix}\n",
    "\\right. \\hspace{5cm}\n",
    "$$\n",
    "<br>"
   ]
  },
  {
   "cell_type": "markdown",
   "id": "36c5a59b",
   "metadata": {
    "slideshow": {
     "slide_type": "fragment"
    }
   },
   "source": [
    "y hay <b>dos reglas más</b> que permiten aplicar $\\dagger$ a sumas y productos de <i> objetos </i> $a \\in\\{z,\\ket{u},A\\}$\n",
    "<br>\n",
    "\n",
    "- *linealidad* $( a + b)^\\dagger = a^\\dagger + b^\\dagger $\n",
    "<br>\n",
    "\n",
    "- *trasposición* $(ab)^\\dagger = b^\\dagger a^\\dagger$ (sólo relevante cuando $a$ y $b$ no conmuten)\n",
    "<br>"
   ]
  },
  {
   "cell_type": "markdown",
   "id": "733e7d18",
   "metadata": {
    "slideshow": {
     "slide_type": "slide"
    }
   },
   "source": [
    "\n",
    "\n",
    "Veamos dos ejemplos\n",
    "<br>\n",
    "1. $\n",
    "\\ket{v} = A\\ket{u} ~~~~\\Leftrightarrow ~~~~\\bra{v} = \\bra{u}A^\\dagger\n",
    "~~$ donde el operador en la derecha actúa sobre el *bra* a su izquierda.\n",
    "<br>\n",
    "<br>\n",
    "Notar que, como $\\ket{v}^\\dagger=\\ket{Au}^\\dagger = \\bra{Au}$ la ecuación anterior implica\n",
    "<br>\n",
    "<br>\n",
    "$$\n",
    "\\bra{Au} = \\bra{u} A^\\dagger\n",
    "$$\n",
    "<br>\n",
    "2. \n",
    "$\n",
    "\\bra{w}A\\ket{u}^* = (\\bra{w}A\\ket{u})^\\dagger = \\bra{u}A^\\dagger\\ket{w}\n",
    "$\n",
    "\n"
   ]
  },
  {
   "cell_type": "markdown",
   "id": "3907c160",
   "metadata": {
    "slideshow": {
     "slide_type": "slide"
    }
   },
   "source": [
    "### Matriz adjunta\n",
    "\n",
    "Estas reglas nos permiten obtener el adjunto de un operador\n",
    "\n",
    "\n",
    "<br>\n",
    "\n",
    "\n",
    "$$\n",
    "A^\\dagger = \\sum_{ij}\\left( A_{ij}|i\\rangle\\langle j|\\right)^\\dagger = \\sum_{ij} \\, |j\\rangle\\langle i|A_{ij}^* =  \\sum_{ij} \\, A_{ji}^*\\ket{i}\\bra{j}\n",
    "$$"
   ]
  },
  {
   "cell_type": "markdown",
   "id": "d07e304c",
   "metadata": {
    "slideshow": {
     "slide_type": "fragment"
    }
   },
   "source": [
    "Vemos que la matriz que representa $A^\\dagger$ es la *matriz adjunta* de $A_{ij}$ que es la traspuesta y conjugada\n",
    "<br>\n",
    "\n",
    "\n",
    "$$\n",
    "(A^\\dagger)_{ij} = A^*_{ji} = (A^{*}_{ij})^t \\equiv (A_{ij})^\\dagger\n",
    "$$\n",
    "\n",
    "donde $^\\dagger$ significa el adjunto de un operador a la izquierda, y de una matriz a la derecha.\n"
   ]
  },
  {
   "cell_type": "markdown",
   "id": "125d33f8",
   "metadata": {
    "slideshow": {
     "slide_type": "slide"
    }
   },
   "source": [
    "<a id='optipos'></a>\n",
    "<table width=\"100%\">\n",
    "    <td style=\"font-size:25px;font-family:Helvetica;text-align:left;background-color:rgba(12, 43, 337, 0.3);\">\n",
    "<b>Clases de operadores</b>\n",
    "</table>   \n"
   ]
  },
  {
   "cell_type": "markdown",
   "id": "342c79d0",
   "metadata": {
    "slideshow": {
     "slide_type": "slide"
    }
   },
   "source": [
    "Si $\\Hil$ tiene dimensión $N$, un *operador general* $A\\in {\\rm Lin}(\\Hil)$ se especifica mediante una matriz de $N^2$ números complejos $\\Rightarrow A = A_{ij}\\ket{e_i}\\bra{e_j}$. $N^2$ números complejos equivalen a $2N^2$ números reales. \n",
    "\n",
    "En otras palabras: $A$  tiene $N^2$ grados de libertad complejos y, por tanto, ésta es la dimension del espacio ${\\rm Lin}(\\Hil)$ es  \n",
    "<br>\n",
    "\n",
    "$$ {\\rm dim}_{\\bf R}(\\Hil) = 2N ~~~ \\Longleftrightarrow ~~~ {\\rm dim}_{\\bf R}({\\rm Lin}(\\Hil)) = 2\\,{\\rm dim}_{\\bf C}({\\rm Lin}(\\Hil))= 2N^2\n",
    "$$\n",
    "<br>\n",
    "\n",
    "Vamos a considerar clases de operadores que satisfagan algún tipo de *condición*. "
   ]
  },
  {
   "cell_type": "markdown",
   "id": "55de3421",
   "metadata": {
    "slideshow": {
     "slide_type": "slide"
    }
   },
   "source": [
    "## Operador Unitario\n",
    "<div class=\"alert alert-block alert-info\",text-align:center>\n",
    "<p style=\"text-align: center;\"> <p style=\"text-align: left ;color: navy;\">  \n",
    "<b> Definición: </b> un <i>operador unitario</i> $U$ es tal que su <i>adjunto</i> es igual a su <i>inverso</i>. Es decir verifica la siguiente ecuación\n",
    "<br><br>    \n",
    "$$\n",
    "U^\\dagger = U^{-1}  \\, \n",
    "$$\n",
    "<p>\n",
    "</div>"
   ]
  },
  {
   "cell_type": "markdown",
   "id": "e9d9ab44",
   "metadata": {
    "slideshow": {
     "slide_type": "fragment"
    }
   },
   "source": [
    "Naturalmente, esta ecuación se traduce en la misma ecuación para las matrices asociadas\n",
    "<br>\n",
    "<br>\n",
    "$$\n",
    "(U_{ij})^\\dagger = U_{ji}^* = U^{-1}_{ij}\n",
    "$$\n",
    "<br>\n",
    "Veamos ahora por qué hemos definido esta clase de operadores."
   ]
  },
  {
   "cell_type": "markdown",
   "id": "4ad3a0b4",
   "metadata": {
    "slideshow": {
     "slide_type": "slide"
    }
   },
   "source": [
    "<div class=\"alert alert-block alert-info\",text-align:center>\n",
    "<p style=\"text-align: left ;color: navy;\">  \n",
    "<b>Teorema:</b>\n",
    "$~$vectores transformados por un operador unitario  conservan intacto el producto escalar mutuo. En particular conservan intacta su norma. \n",
    "<p>\n",
    "</div>"
   ]
  },
  {
   "cell_type": "markdown",
   "id": "7828cff9",
   "metadata": {
    "slideshow": {
     "slide_type": "fragment"
    }
   },
   "source": [
    "*Prueba:*\n",
    "<br>\n",
    "Efectivamente sean $U$ un operador unitario, y $\\ket{\\varphi'}=U\\ket{\\varphi}$ y $\\ket{\\psi'} = U\\ket{\\psi}$\n",
    "dos vectores transformados por $U$, entonces\n",
    "<br>\n",
    "<br>\n",
    "$$\n",
    "\\braket{\\varphi'}{\\psi'} = (\\bra{\\varphi}U^\\dagger)(U\\ket{\\psi}) = \\bra{\\varphi} U^\\dagger U \\ket{\\psi} = \n",
    "\\braket{\\varphi}{\\psi}\n",
    "$$\n",
    "\n",
    "<br>\n",
    "\n",
    "particularizando para $\\ket{\\varphi} = \\ket{\\psi}$ tenemos que un operador unitario *conserva la norma*.\n"
   ]
  },
  {
   "cell_type": "markdown",
   "id": "1c458de7",
   "metadata": {
    "slideshow": {
     "slide_type": "slide"
    }
   },
   "source": [
    "<div class=\"alert alert-block alert-info\",text-align:center>\n",
    "<p style=\"text-align: left ;color: navy;\">  \n",
    "<b>Lema:</b>$~$ la composición de dos operadores $U$ y $V$  unitarios es unitaria. Sin embargo, la <i>combinación lineal</i> de operadores unitarios no es unitaria.\n",
    "</div>\n",
    "\n",
    "<div class=\"alert alert-block alert-success\">\n",
    "<b>Ejercicio:</b>\n",
    "demuestra este sencillo pero importante resultado. \n",
    "\n",
    "<br>\n",
    "<details>\n",
    "<summary><p style=\"text-align:right\"> >> Solución </p></summary>\n",
    "\n",
    "$$\n",
    "(UV)^\\dagger = V^\\dagger U^\\dagger = V^{-1}U^{-1} = (UV)^{-1} \n",
    "$$\n",
    "    \n",
    "\n",
    "$$\n",
    " (U+V)^\\dagger = V^\\dagger+ U^\\dagger = V^{-1}+U^{-1} \\neq  (U+V)^{-1}\n",
    "$$\n",
    "    \n",
    "    \n",
    "</details>\n",
    "</div>       "
   ]
  },
  {
   "cell_type": "markdown",
   "id": "1428ab3c",
   "metadata": {
    "slideshow": {
     "slide_type": "slide"
    }
   },
   "source": [
    "Por tanto, los operadores unitarios <i>no forman</i> un subespacio vectorial dentro de ${\\rm L}(\\Hil)$. \n",
    "\n",
    "Aun así, forman una *variedad*: un conjunto continuo  que se puede parametrizar mediante una colección de parámetros, la *dimensión la variedad*. \n",
    "\n",
    "Piensa por ejemplo en la esfera $S^2$, de dimensión 2, parametrizada por dos ángulos $(\\theta\\in [0,\\pi],\\phi\\in[0,2\\pi])$ \n",
    "\n",
    "Como hay una relación 1 a 1 entre un operador una matriz (en una base), esa dimensión será igual a la *dimensión del conjunto de matrices unitarias* (en una base hay una relación 1 a 1)  \n"
   ]
  },
  {
   "cell_type": "markdown",
   "id": "7bdfc039",
   "metadata": {
    "slideshow": {
     "slide_type": "fragment"
    }
   },
   "source": [
    "<div class=\"alert alert-block alert-success\">\n",
    "    <b>Ejercicio:</b>\n",
    "resta de $2N^2$ el número de ecuaciones que restringen la matriz de un operador unitario y halla así la dimensión (real) del conjunto asociado.\n",
    "\n",
    "<br>\n",
    "<br>\n",
    "<details>\n",
    "<summary><p style=\"text-align:right\"> >> Solución </p></summary>\n",
    "Dada una matriz $U_{ij}$ la ecuación $U^\\dagger_{ij} = U^{-1}_{ij}$ son $N^2$ ecuaciones que son funciones de $2N^2$ parámetros. Por tanto $2N^2- N^2 = N^2$ es la dimensión del conjunto unitario. \n",
    "    \n",
    "</details>  \n",
    "    \n",
    "</div>    "
   ]
  },
  {
   "cell_type": "markdown",
   "id": "4f980dc2",
   "metadata": {
    "slideshow": {
     "slide_type": "slide"
    }
   },
   "source": [
    "### Bases ortonormales\n",
    "\n",
    "Como caso particular, aplicando un operador unitario $U$ a una base ortonormal $\\{\\ket{e_i}\\}$ obtenemos otra base ortonormal $\\{\\ket{f_i}\\}$\n",
    "\n",
    "<br>\n",
    "\n",
    "$$\n",
    "\\left. \\begin{array}{c}\\ket{f_i} = U\\ket{e_i}\\\\ U^{-1} =  U^\\dagger \\end{array} \\right\\}\n",
    "~~~~ \\Longleftrightarrow ~~~~\\braket{f_i}{f_j} = \\braket{e_i}{e_j} = \\delta_{ij}\n",
    "$$\n",
    "\n",
    "<br>"
   ]
  },
  {
   "cell_type": "markdown",
   "id": "e477ec45",
   "metadata": {
    "slideshow": {
     "slide_type": "slide"
    }
   },
   "source": [
    "<div class=\"alert alert-block alert-danger\">\n",
    "    <b>Notar:</b> \n",
    "    \n",
    "1. Inversamente, dadas dos bases ortonormales, $\\{\\ket{e_i}\\}$ y $\\{\\ket{f_i}\\}$, el operador que las relaciona es un operador unitario\n",
    "    \n",
    "$$ \n",
    " \\begin{array}{rcl} \n",
    "U = \\sum_i \\ket{f_i}\\bra{e_i} & \\Rightarrow &  U\\ket{e_j} = \\ket{f_j} \n",
    " \\\\ \\rule{0mm}{5mm}\n",
    "U^\\dagger = \\sum_i \\ket{e_i}\\bra{f_i}  & \\Rightarrow &    U^\\dagger\\ket{f_j} = \\ket{e_j} \n",
    " \\end{array}\n",
    "$$\n",
    "\n",
    "    \n",
    "2. Un  <i>operador ortogonal</i> es un caso particular de operador  unitario con elementos de matriz reales. El operador de rotación $R(\\theta)$ que hemos estudiado al comienzo de este tema es un operador ortogonal. Es inmediato comprobar que \n",
    "\n",
    "$$ R(\\theta)^\\dagger =R(\\theta)^t = R(-\\theta) = R(\\theta)^{-1}$$\n",
    "    \n",
    "</div>"
   ]
  },
  {
   "cell_type": "code",
   "execution_count": 6,
   "id": "b9c8b197",
   "metadata": {
    "slideshow": {
     "slide_type": "slide"
    }
   },
   "outputs": [
    {
     "data": {
      "text/markdown": [
       "$U = \\begin{bmatrix}0.71+0.00j&0.00+0.71j\\\\0.00+0.71j&0.71+0.00j\\end{bmatrix}$"
      ],
      "text/plain": [
       "<IPython.core.display.Markdown object>"
      ]
     },
     "metadata": {},
     "output_type": "display_data"
    },
    {
     "data": {
      "text/markdown": [
       "$U^{\\dagger} = \\begin{bmatrix}0.71-0.00j&0.00-0.71j\\\\0.00-0.71j&0.71-0.00j\\end{bmatrix}$"
      ],
      "text/plain": [
       "<IPython.core.display.Markdown object>"
      ]
     },
     "metadata": {},
     "output_type": "display_data"
    },
    {
     "name": "stdout",
     "output_type": "stream",
     "text": [
      "comprobamos que U es unitaria\n"
     ]
    },
    {
     "data": {
      "text/markdown": [
       "$U^{\\dagger}U = \\begin{bmatrix}1.00+0.00j&0.00+0.00j\\\\0.00+0.00j&1.00+0.00j\\end{bmatrix}$"
      ],
      "text/plain": [
       "<IPython.core.display.Markdown object>"
      ]
     },
     "metadata": {},
     "output_type": "display_data"
    }
   ],
   "source": [
    "U=np.matrix([[1,1J],[1J, + 1]])/np.sqrt(2)\n",
    "Display('$U = {}$'.format(MatrixToLatex(U)))\n",
    "\n",
    "Uadj=U.getH() # getH es un método de la clase matrix que devuelve la matriz conjugada hermítica\n",
    "Display('$U^{\\dagger} = %s$'%(MatrixToLatex(Uadj)))\n",
    "\n",
    "#Uinv=U.getI()  # getI es un método de la clase matrix que devuelve la matriz inversa\n",
    "#Display('$U^{-1} = %s$'%(MatrixToLatex(Uinv)))\n",
    "\n",
    "print('comprobamos que U es unitaria')\n",
    "\n",
    "Display('$U^{\\dagger}U = %s$'%MatrixToLatex(np.dot(Uadj,U)))"
   ]
  },
  {
   "cell_type": "markdown",
   "id": "2114812f",
   "metadata": {
    "slideshow": {
     "slide_type": "slide"
    }
   },
   "source": [
    "### Descomposición Polar\n",
    "\n",
    "<div class=\"alert alert-block alert-info\",text-align:center>\n",
    "<p style=\"text-align: center;\"> <p style=\"text-align: left ;color: navy;\">  \n",
    "<b> Teorema: </b> todo operador $A\\in{\\rm L}(\\Hil)$ admite la descomposición polar $A = UR$ donde $U$ es un operador unitario, y $R$ es un operador semi-definido positivo (sólo tiene autovalores positivos o cero) \n"
   ]
  },
  {
   "cell_type": "markdown",
   "id": "cf53f2db",
   "metadata": {
    "slideshow": {
     "slide_type": "fragment"
    }
   },
   "source": [
    "La descomposición polar es *única* y generaliza la representación polar de números complejos $z = r e^{i\\phi}$ a operadores. El hecho de que $r\\geq 0$ es la contrapartida a que $R$ sea semi-definida positiva. El factor $e^{i\\phi}$ es análogo al hecho de que un operador unitario, como veremos, sólo tiene autovalores que son fases puras. "
   ]
  },
  {
   "cell_type": "code",
   "execution_count": 8,
   "id": "6b9b8c01",
   "metadata": {
    "slideshow": {
     "slide_type": "-"
    }
   },
   "outputs": [
    {
     "data": {
      "text/markdown": [
       "$U = \\begin{bmatrix}0.89&0.46&-0.03\\\\-0.46&0.89&0.06\\\\0.05&-0.04&1.00\\end{bmatrix}$"
      ],
      "text/plain": [
       "<IPython.core.display.Markdown object>"
      ]
     },
     "metadata": {},
     "output_type": "display_data"
    },
    {
     "data": {
      "text/markdown": [
       "$U^{\\dagger}U = \\begin{bmatrix}1.00&-0.00&-0.00\\\\-0.00&1.00&-0.00\\\\-0.00&-0.00&1.00\\end{bmatrix}$"
      ],
      "text/plain": [
       "<IPython.core.display.Markdown object>"
      ]
     },
     "metadata": {},
     "output_type": "display_data"
    }
   ],
   "source": [
    "'''Método para construir una matriz unitaria arbitraria usando la descomposición polar'''\n",
    "A = 10*np.random.rand(3, 3)\n",
    "#u, s, vh = linalg.svd(A, full_matrices=False)\n",
    "u, r = linalg.polar(A)\n",
    "U=np.matrix(u)\n",
    " \n",
    "Display('$U = %s$'%MatrixToLatex(U))\n",
    "'''Verifiquemos unitariedad'''\n",
    "Display('$U^{\\dagger}U = %s$'%MatrixToLatex(np.dot(U.getH(),U)))"
   ]
  },
  {
   "cell_type": "markdown",
   "id": "faab03e9",
   "metadata": {},
   "source": [
    "### Descomposición en Valores Singulares\n",
    "\n",
    "<div class=\"alert alert-block alert-info\",text-align:center>\n",
    "<p style=\"text-align: center;\"> <p style=\"text-align: left ;color: navy;\">  \n",
    "<b> Teorema: </b> todo operador $A\\in{\\rm L}(\\Hil)$ admite la descomposición polar $A = UR$ donde $U$ es un operador unitario, y $R$ es un operador semi-definido positivo (sólo tiene autovalores positivos o cero) \n"
   ]
  },
  {
   "cell_type": "markdown",
   "id": "85807e46",
   "metadata": {
    "slideshow": {
     "slide_type": "slide"
    }
   },
   "source": [
    "## Operador Normal\n",
    "<div class=\"alert alert-block alert-info\",text-align:center>\n",
    "<p style=\"text-align: center;\"> <p style=\"text-align: left ;color: navy;\">  \n",
    "    <b> Definición: </b>  un operador $N$  es <i>normal</i> si conmuta con su adjunto\n",
    "<br>\n",
    "$$\n",
    "NN^\\dagger = N^\\dagger N\n",
    "$$\n",
    "</div>"
   ]
  },
  {
   "cell_type": "markdown",
   "id": "402954ab",
   "metadata": {
    "slideshow": {
     "slide_type": "fragment"
    }
   },
   "source": [
    "## Operador Hermítico\n",
    "<div class=\"alert alert-block alert-info\",text-align:center>\n",
    "<p style=\"text-align: center;\"> <p style=\"text-align: left ;color: navy;\">  \n",
    "<b> Definición: </b> un operador  $H$ es <i>Hermítico</i> (o <i>autoadjunto</i>)  si  verifica la ecuación siguiente\n",
    "<br>\n",
    "<br>    \n",
    "$$\n",
    "H = H^\\dagger \n",
    "$$\n",
    "</div>\n",
    "\n",
    "- Es evidente que un operador hermítico es un operador normal, pero a la inversa no tiene por qué."
   ]
  },
  {
   "cell_type": "markdown",
   "id": "0ba46bb8",
   "metadata": {
    "slideshow": {
     "slide_type": "fragment"
    }
   },
   "source": [
    "- La **combinación lineal** de dos operadores *hermíticos*  con coeficientes *reales* es un operador *hermítico*\n",
    "<br>\n",
    "<br>\n",
    "$$\n",
    "C^\\dagger = (a A + b B)^\\dagger = a^* A^\\dagger + b^* B^\\dagger = aA + b B = C\n",
    "$$\n",
    "<br>\n",
    "En otras palabras, los operadores hermíticos forman un subespacio vectorial real dentro de ${\\rm L}(\\Hil)$. "
   ]
  },
  {
   "cell_type": "markdown",
   "id": "b0800089",
   "metadata": {},
   "source": [
    "- La matriz asociada a un operador hermítico también se llama hermítica, y coincide con su traspuesta y conjugada\n",
    "<br>\n",
    "<br>\n",
    "$$\n",
    "A_{ij} = A^\\dagger_{ij} \\equiv = A^{*t}_{ij} = A^*_{ji}   \\hspace{4cm}\n",
    "$$\n",
    "<br>\n",
    "Naturalmente, las matrices hermíticas también forman un subespacio vectorial dentro del espacio vectorial de matrices. "
   ]
  },
  {
   "cell_type": "markdown",
   "id": "78bbc01a",
   "metadata": {
    "slideshow": {
     "slide_type": "slide"
    }
   },
   "source": [
    "<div class=\"alert alert-block alert-danger\">\n",
    "    <b>Notar:</b>\n",
    "<br>\n",
    "A partir de cualquier operador $C\\neq C^\\dagger $ siempre podemos construir un operador hermítico $A=A^\\dagger$ mediante la combinación lineal\n",
    "<br>    \n",
    "\n",
    "$$\n",
    "A = C + C^\\dagger\n",
    "$$\n",
    "<br>\n",
    "donde $a$ es un número real. Esto se extiende trivialmente a las matrices que los representan en cualquier base\n",
    "    \n",
    "<br> \n",
    "$$\n",
    "A_{ij} = C_{ij} + C_{ji}^*\n",
    "$$ \n",
    "   \n",
    "</div>"
   ]
  },
  {
   "cell_type": "markdown",
   "id": "4e66d3fc",
   "metadata": {
    "slideshow": {
     "slide_type": "fragment"
    }
   },
   "source": [
    "<div class=\"alert alert-block alert-success\">\n",
    "    <b>Ejercicio:</b>\n",
    "Resta de $2N^2$ el número de ecuaciones que restringen la matriz de un operador hermítico y halla así la dimensión del <i>subespacio vectorial hermítico</i>. \n",
    "</div>"
   ]
  },
  {
   "cell_type": "markdown",
   "id": "6ce64583",
   "metadata": {
    "slideshow": {
     "slide_type": "slide"
    }
   },
   "source": [
    "<div class=\"alert alert-block alert-success\">\n",
    "    <b>Ejercicio:</b>\n",
    "Genera una matriz hermítica $3\\times 3$ de elementos de matriz aleatorios \n",
    "    \n",
    " <details>\n",
    "<summary><p style=\"color:green;text-align:right\"> >> Solución </p></summary>\n",
    "     \n",
    "    '''Podemos generar una matriz hermítica H a partir de una matriz general A haciendo H = (A + A^+)/2'''  \n",
    "    A = np.matrix(10*np.random.rand(3, 3)+ 10*1J*np.random.rand(3, 3))    \n",
    "    Aadj=np.matrix(A).getH()    \n",
    "    H = (A+Aadj)/2\n",
    "    Display('$H = %s$'%(MatrixToLatex(H)))\n",
    "    '''Verifiquemos hermiticidad'''\n",
    "    H==H.getH()\n",
    "     \n",
    "</details>\n",
    "</div>"
   ]
  },
  {
   "cell_type": "markdown",
   "id": "c2a96305",
   "metadata": {
    "slideshow": {
     "slide_type": "slide"
    }
   },
   "source": [
    "## Proyector\n",
    "Ya hemos estudiado el caso de operadores de la forma $A = \\ket{v}\\bra{u}$. Como vimos, son los ladrillos fundamentales para construir operadores más generales. Vamos a particularizar para el caso de que $\\ket{u}=\\ket{u}$ y sean unitarios\n",
    "\n",
    "El operador $P = \\ket{u}\\bra{u}$ proyecta cualquier vector en la dirección de $\\ket{u}$\n",
    "\n",
    "$$\n",
    "P \\ket{w} = \\ket{u}\\braket{u}{w} = a \\ket{u}\n",
    "$$\n",
    "\n",
    "donde $a = \\braket{u}{w}$. "
   ]
  },
  {
   "cell_type": "markdown",
   "id": "d05d77c9",
   "metadata": {
    "slideshow": {
     "slide_type": "fragment"
    }
   },
   "source": [
    "Aplicado al vector $\\ket{u}$ lo deja invariante\n",
    "\n",
    "$$\n",
    "P \\ket{u} = \\ket{u}\\braket{u}{u} =  \\ket{u}\n",
    "$$"
   ]
  },
  {
   "cell_type": "markdown",
   "id": "ddd94e0e",
   "metadata": {
    "slideshow": {
     "slide_type": "fragment"
    }
   },
   "source": [
    "Es por esto que una segunda aplicación de $P$ no modifica el resultado\n",
    "\n",
    "$$\n",
    "P(P \\ket{w}) =  \\braket{u}{w} P(\\ket{u}) = \\braket{u}{w} \\ket{u}\n",
    "$$\n",
    "<br>\n",
    "\n",
    "Como el vector $\\ket{w}$ es arbitrario, que $P^2\\ket{w} = P\\ket{w}$ sean siempre iguales es una propiedad del operador $P$.\n",
    "De hecho esta propiedad define una clase de operadores. "
   ]
  },
  {
   "cell_type": "markdown",
   "id": "b2dd583d",
   "metadata": {
    "slideshow": {
     "slide_type": "slide"
    }
   },
   "source": [
    "<div class=\"alert alert-block alert-info\",text-align:center>\n",
    " <p style=\"text-align: left ;color: navy;\">  \n",
    "<b> Definición: </b> \n",
    "un <i>proyector</i> es un operador hermítico que verifica la ecuación\n",
    "<br><br>\n",
    "$$\n",
    "P^2 = P\n",
    "$$\n",
    "</div>\n",
    "</table>"
   ]
  },
  {
   "cell_type": "markdown",
   "id": "da4a7434",
   "metadata": {
    "slideshow": {
     "slide_type": "fragment"
    }
   },
   "source": [
    "- Dos proyectores $P_1^2=P_1$ y $P_2^2 = P_2$ son ortogonales si verifican\n",
    "<br>\n",
    "\n",
    "$$\n",
    "P_1 P_2 = 0 \\hspace{5cm}\n",
    "$$\n",
    "<br>\n",
    "en cuyo caso proyectan sobre vectores ortogonales. "
   ]
  },
  {
   "cell_type": "markdown",
   "id": "22f6a1ba",
   "metadata": {
    "slideshow": {
     "slide_type": "slide"
    }
   },
   "source": [
    "<div class=\"alert alert-block alert-warning\">\n",
    "    <b>Ejemplo:</b>\n",
    "    \n",
    "1. El operador $P_1 = \\ket{e_1}\\bra{e_1}$ proyecta cualquier vector sobre su componente a lo largo de $\\ket{e_1}$  \n",
    "\n",
    "$$\n",
    "P\\ket{u}=\\ket{e_1}\\braket{e_1}{u} = \\ket{e_1}\\bra{e_1}\\left( \\sum_{i=1}^N u_i\\ket{e_i}\\right) = \\sum_{i=1}^N u^i \\ket{e_1}\\braket{e_1}{e_i} = \n",
    "\\sum_{i=1}^N u^i \\ket{e_1}\\delta_{1i} = u^1 \\ket{e_1}\n",
    "$$\n",
    "\n",
    "Se verifica que $P^2 = \\ket{e_1}\\braket{e_1}{e_1}\\bra{e_1} = \\ket{e_1}\\bra{e_1} = P$ .\n",
    "    \n",
    "En forma matricial\n",
    " $$\n",
    " \\ket{e_1}\\bra{e_1} = \\begin{pmatrix} 1 & 0 & ...& 0 \\end{pmatrix} \\begin{pmatrix} 1 \\\\ 0 \\\\ \\vdots\\\\ 0 \\end{pmatrix} =\n",
    " \\begin{pmatrix} 1 & 0 &  \\cdots & 0 \\\\ 0 & 0  & \\cdots & 0 \\\\ \n",
    " \\vdots & \\vdots &\\vdots & \\vdots  \\\\\n",
    " 0  & 0 & \\cdots & 0\\end{pmatrix}\n",
    " $$\n",
    "de modo que\n",
    "$$\n",
    "    \\ket{e_1}\\braket{e_1}{u} ~= ~\\begin{pmatrix} 1 & 0 &  \\cdots & 0 \\\\ 0 & 0  & \\cdots & 0 \\\\ \n",
    " \\vdots & \\vdots &\\vdots & \\vdots  \\\\\n",
    " 0  & 0 & \\cdots & 0\\end{pmatrix} \\begin{pmatrix} u_1 \\\\ u_2 \\\\ \\vdots \\\\ u_N \\end{pmatrix}\n",
    " = \\begin{pmatrix} u^1 \\\\ 0 \\\\ \\vdots \\\\ 0 \\end{pmatrix} = u^1 \\ket{e_1}\n",
    "$$\n",
    "    \n",
    "Es evidente que $P$ *no conserva la norma*, por tanto, no es un operador unitario.\n",
    "    \n",
    "2. Si $\\ket{u} = \\sum_i u^i\\ket{e_i}$ con $\\|\\ket{u}\\|=1$ entonces el proyector a lo largo de $\\ket{u}$ viene dado por\n",
    "\n",
    "    $$\n",
    "    P = \\ket{u}\\bra{u} = \\sum_{i,j} u_i u_j \\ket{e_i}\\bra{e_j}\n",
    "    $$\n",
    "  Es decir le está asociada una matriz dada por $P_{ij}=u_iu_j$. Es trivial verificar que $\\sum_j P_{ij}P_{jk} = P_{ik}$.\n",
    "    \n",
    "3. Si $\\ket{u}$ y $\\ket{v}$ son vectores ortonormales $\\braket{u}{v}=0$ entonces las projeccions consecutivas son nulas\n",
    "    $$\n",
    "    P_u\\cdot P_v = \\ket{u}\\braket{u}{v}\\bra{v} = 0\n",
    "    $$\n",
    "</div>\n"
   ]
  },
  {
   "cell_type": "markdown",
   "id": "24cd00be",
   "metadata": {
    "slideshow": {
     "slide_type": "slide"
    }
   },
   "source": [
    "<div class=\"alert alert-block alert-danger\">\n",
    "    <b>Notar:</b>\n",
    "<br>    \n",
    "    El proyector es un operador <i>no-unitario</i>: la proyección no conserva la norma  \n",
    "<br>\n",
    "<br>\n",
    "$$\n",
    "\\| P\\ket{w}\\|^2 = \\bra{w}P^\\dagger P\\ket{w} = \\bra{w} P\\ket{w}= \\braket{w}{u}\\braket{u}{w} = |\\braket{u}{w}|^2 \\neq |\\braket{w}{w}|^2  = \\| \\ket{w}\\|^2\n",
    "$$\n",
    "\n",
    "<br>\n",
    "\n",
    "</div>"
   ]
  },
  {
   "cell_type": "markdown",
   "id": "a9195c0f",
   "metadata": {
    "slideshow": {
     "slide_type": "slide"
    }
   },
   "source": [
    "<a id='trazacom'></a>\n",
    "<table width=\"100%\">\n",
    "    <td style=\"font-size:25px;font-family:Helvetica;text-align:left;background-color:rgba(12, 43, 337, 0.3);\">\n",
    "<b>Conmutador,  Traza</b>\n",
    "</table>   "
   ]
  },
  {
   "cell_type": "markdown",
   "id": "feff5afc",
   "metadata": {
    "slideshow": {
     "slide_type": "slide"
    }
   },
   "source": [
    "## Conmutador \n",
    "\n",
    "A diferencia de los números, el orden en el que se componen dos operadores es relevante.  \n",
    "Dados dos operadores, $A$ y $B$, definimos el *conmutador*  \n",
    "\n",
    "\\begin{eqnarray}\n",
    " [A,B] = AB-BA\\,  \\nonumber\n",
    "\\end{eqnarray}"
   ]
  },
  {
   "cell_type": "markdown",
   "id": "31b96f15",
   "metadata": {
    "slideshow": {
     "slide_type": "fragment"
    }
   },
   "source": [
    "- El conmutador tiene las dos siguientes propiedades algebraicas, elementales de probar\n",
    "\n",
    "\\begin{eqnarray}\n",
    "{\\rm Derivación} ~~~& \\to & ~ [A,BC] = B[A,C] + [A,B]C \\nonumber\\\\ \\rule{0mm}{5mm}\n",
    "{\\rm Identidad \\ de \\, Jacobi}~~~~ & \\to & ~ [A,[B,C]] + [B,[C,A]] + [C,[A,B]] = 0 \n",
    "\\end{eqnarray}\n"
   ]
  },
  {
   "cell_type": "markdown",
   "id": "2f89bf4c",
   "metadata": {
    "slideshow": {
     "slide_type": "fragment"
    }
   },
   "source": [
    "- La conmutatividad de dos operadores $[A,B]=0$ es una propiedad algebráica muy deseable que, cuando se da, implica propiedades  muy ventajosas. "
   ]
  },
  {
   "cell_type": "markdown",
   "id": "d935f8d3",
   "metadata": {
    "slideshow": {
     "slide_type": "slide"
    }
   },
   "source": [
    "## Traza de un operador\n",
    "\n",
    "La traza de un operador se define como la suma de los elementos diagonales de la matriz que lo representa en una base\n",
    "\n",
    "$$\n",
    "{\\rm tr} A \\equiv \\sum_{i} A_{ii} =   \\sum_{i} \\bra{i}A\\ket{i} \n",
    "$$\n",
    "\n"
   ]
  },
  {
   "cell_type": "markdown",
   "id": "0cb439bc",
   "metadata": {
    "slideshow": {
     "slide_type": "fragment"
    }
   },
   "source": [
    "La traza de $A$ es *independiente de la base* (por eso decimos que es la *traza del operador*)\n",
    "\n",
    "\\begin{eqnarray}\n",
    "{\\rm tr} A &=& \\sum_{i} \\bra{i}A\\ket{i} =\\sum_{i} \\bra{i}A\\sum_j\\ket{\\tilde j}\\braket{\\tilde j}{i}\n",
    "\\nonumber\\\\\n",
    "&=& \\sum_{j} \\bra{\\tilde j}\\sum_i\\ket{i}\\bra{i} A \\ket{\\tilde j}\\nonumber\\\\\n",
    "&=& \\sum_{j} \\bra{\\tilde j}A\\ket{\\tilde j}\\nonumber\\\\\n",
    "&=& \\sum_j \\tilde A_{jj}\n",
    "\\end{eqnarray}\n"
   ]
  },
  {
   "cell_type": "markdown",
   "id": "c0f33871",
   "metadata": {
    "slideshow": {
     "slide_type": "slide"
    }
   },
   "source": [
    "La traza de un producto de operadores tiene la propiedad de *cíclicidad*: es invariante bajo permutaciones cíclicas de los operadores en su argumento. Por ejemplo, para tres operadores $A, B$ y $C$\n",
    "\n",
    "$$\n",
    "{\\rm tr}(ABC)= {\\rm tr}(BCA) \n",
    "$$"
   ]
  },
  {
   "cell_type": "markdown",
   "id": "29b62eac",
   "metadata": {
    "slideshow": {
     "slide_type": "fragment"
    }
   },
   "source": [
    "<div class=\"alert alert-block alert-success\">\n",
    "<b>Ejercicio:</b>$~$\n",
    "demuestra este resultado\n",
    "<details>\n",
    "<summary><p style=\"text-align:right\"> >> Solución </p></summary>\n",
    "\\begin{eqnarray}\n",
    "{\\rm tr}(ABC)&=& \\sum_{i,j,k}A_{ij}B_{jk}C_{ki} =\\sum_{j,k,i}B_{jk}C_{ki}A_{ij}={\\rm tr}(BCA) \\end{eqnarray}\n",
    "</details>    \n"
   ]
  },
  {
   "cell_type": "markdown",
   "id": "49f77a55",
   "metadata": {
    "slideshow": {
     "slide_type": "fragment"
    }
   },
   "source": [
    "Para un producto de dos operadores, el anterior resultado implica que la *traza de un conmutador es cero*. Dicho de otra forma\n",
    "\n",
    "$$\n",
    "{\\rm tr}(AB) = {\\rm tr}(BA) ~~~\\Rightarrow ~~~~{\\rm tr}([A,B]) = 0 \\, .\n",
    "$$"
   ]
  },
  {
   "cell_type": "markdown",
   "id": "cafef060",
   "metadata": {
    "slideshow": {
     "slide_type": "slide"
    }
   },
   "source": [
    "<a id='autov'></a>\n",
    "<table width=\"100%\">\n",
    "    <td style=\"font-size:25px;font-family:Helvetica;text-align:left;background-color:rgba(12, 43, 337, 0.3);\">\n",
    "<b>Valores y vectores propios</b>\n",
    "</table>   "
   ]
  },
  {
   "cell_type": "markdown",
   "id": "048c22e7",
   "metadata": {
    "slideshow": {
     "slide_type": "slide"
    }
   },
   "source": [
    "- Dado un operador $A$, sabemos que la imagen de un vector $A\\ket{u}$ es otro vector $\\ket{v} = A\\ket{u}$, en general distinto. \n",
    "\n",
    "<div class=\"alert alert-block alert-info\",text-align:center>\n",
    " <p style=\"text-align: left ;color: navy;\">  \n",
    "<b> Definición: </b> \n",
    "     Existen vectores, $\\ket{\\lambda}$ para los cuales la <i>la acción de un operador</i> $A$ devuelve un vector <i>paralelo</i> \n",
    "<br><br>\n",
    "$$\n",
    "A\\ket{\\lambda} = \\lambda \\ket{\\lambda}\\, .\n",
    "$$\n",
    "<br>    \n",
    "Decimos que $\\ket{\\lambda}$ es un vector propio (o autovector) de $A$ con valor propio (o autovalor) asociado $\\lambda\\in {\\mathbb C}$ \n",
    "</div>\n"
   ]
  },
  {
   "cell_type": "markdown",
   "id": "c8ac52e1",
   "metadata": {
    "slideshow": {
     "slide_type": "fragment"
    }
   },
   "source": [
    "<div class=\"alert alert-block alert-warning\">\n",
    "    <b>Ejemplo:</b>\n",
    "    \n",
    "Llamemos $R(\\theta)$ el operador que efectúa una rotación  en el plano de ángulo $\\theta$. Este operador no tiene ningún autovector ya que todo vector sobre el que actúa sufre una rotación. Sin embargo cuando $\\theta = \\pi$, para todo vector encontramos\n",
    "\n",
    "$$\n",
    "R(\\pi) \\ket{\\lambda} = -\\ket{\\lambda}\n",
    "$$\n",
    "\n",
    "por lo que,  el plano entero es un espacio vectorial propio de $A$, con autovalor $-1$. \n",
    "</div>"
   ]
  },
  {
   "cell_type": "markdown",
   "id": "6d809c9e",
   "metadata": {
    "slideshow": {
     "slide_type": "slide"
    }
   },
   "source": [
    "- El **espectro** de un operador  es el conjunto de todos sus autovalores $\\{\\lambda_i\\}$, i =1,2,..,n. En general $n\\leq \\hbox{dim}\\Hil$. "
   ]
  },
  {
   "cell_type": "markdown",
   "id": "7fd5db17",
   "metadata": {
    "slideshow": {
     "slide_type": "slide"
    }
   },
   "source": [
    "- Si $\\ket{\\lambda}$ es un autovector, también lo es $\\ket{\\mu} = \\alpha\\ket{\\lambda}$ para cualquier número complejo $\\alpha$. En efecto\n",
    "<br>\n",
    "<br>\n",
    "$$\n",
    "A\\ket{\\mu} = A(\\alpha\\ket{\\lambda}) = \\alpha A\\ket{\\lambda} = \\alpha\\lambda \\ket{\\lambda} = \\lambda \\alpha\\ket{\\lambda}= \\lambda\\ket{\\mu}\n",
    "$$\n",
    "<br>\n",
    "Es por ello, más correcto hablar del *supespacio propio* asociado al autovalor $\\lambda$, al que pertenecen tanto $\\ket{\\lambda}$ como $\\ket{\\mu}$."
   ]
  },
  {
   "cell_type": "markdown",
   "id": "18137d24",
   "metadata": {
    "slideshow": {
     "slide_type": "slide"
    }
   },
   "source": [
    "### Subespacio Propio\n",
    "\n",
    "- Decimos que un autovalor $\\lambda$ es $g$ veces degenerado si existen $g$ autovectores linealmente independientes,  $\\ket{\\lambda^{a}}$ con $a=1,...,g$ asociados al **mismo** autovalor $A\\ket{\\lambda_i^a} = \\lambda_i \\ket{\\lambda_i^a}$. El número entero $g\\in {\\mathbb N}$ se denomina *degeneración* del autovalor $\\lambda$. \n",
    "<br>\n",
    "<br>\n",
    "- Los autovectores de un autovalor $g$ veces degenerado forman un subespacio vectorial que llamamos *subespacio propio* del autovalor $\\lambda$. Si dichos autovectores son linealmente independientes, la dimensión del subespacio y la degeneración de $\\lambda$ coinciden.\n",
    "<br>"
   ]
  },
  {
   "cell_type": "markdown",
   "id": "d78554af",
   "metadata": {
    "slideshow": {
     "slide_type": "slide"
    }
   },
   "source": [
    "<a id='especope'></a>\n",
    "<table width=\"100%\">\n",
    "    <td style=\"font-size:25px;font-family:Helvetica;text-align:left;background-color:rgba(12, 43, 337, 0.3);\">\n",
    "<b>Espectro de operadores</b>\n",
    "</table>   \n"
   ]
  },
  {
   "cell_type": "markdown",
   "id": "c425a3e8",
   "metadata": {
    "slideshow": {
     "slide_type": "slide"
    }
   },
   "source": [
    "## Diagonalización\n",
    "\n",
    " Si, dado un operador lineal $A$,  es posible encontrar autovectores \n",
    "\n",
    "$$\n",
    "A \\ket{\\lambda_i} = \\lambda_i \\ket{\\lambda_i} ~~~~~~~i = 1,\\ldots, N\n",
    "$$\n",
    "\n",
    "que sean ortonormales $\\braket{\\lambda_i}{\\lambda_j}=\\delta_{ij}$, decimos que \n",
    "<br>\n",
    "<br>\n",
    "\n"
   ]
  },
  {
   "cell_type": "markdown",
   "id": "52a7dad3",
   "metadata": {
    "slideshow": {
     "slide_type": "fragment"
    }
   },
   "source": [
    "-  $A$ es **diagonalizable**. Es decir, la matriz $A_{ij}$ que expresa $A$ en la base $\\ket{\\lambda_i}$ es diagonal \n",
    "\n",
    "$$\n",
    "A_{ij} = \\bra{\\lambda_i} A\\ket{\\lambda_j} = \\lambda_j \\braket{\\lambda_i}{\\lambda_j} = \\lambda_j \\delta_{ij} \n",
    "=\\begin{pmatrix} \\lambda_1 &  &  &  \\\\ & \\lambda_2 & &  \\\\ & & \\ddots & \\\\ & & &  \\lambda_N \\end{pmatrix}\n",
    "$$\n"
   ]
  },
  {
   "cell_type": "markdown",
   "id": "cab09bd4",
   "metadata": {
    "slideshow": {
     "slide_type": "fragment"
    }
   },
   "source": [
    "- El operador $A$ admite la **representación espectral**\n",
    "\n",
    "$$\n",
    "A =\\sum_{i=1}^N \\lambda_i \\ket{\\lambda_i}\\bra{\\lambda_i}\n",
    "$$\n"
   ]
  },
  {
   "cell_type": "markdown",
   "id": "2ff0b81c",
   "metadata": {
    "slideshow": {
     "slide_type": "slide"
    }
   },
   "source": [
    "<div class=\"alert alert-block alert-danger\">\n",
    "    <b>Advertencia:</b>\n",
    "El operador identidad tiene a cualquier vector por autovector $ I\\ket{v} = \\ket{v}$, con autovalores $\\lambda_ i = 1$. Por tanto, en <b>cualquier base</b>, la matriz asociada a $I$ tiene la forma diagonal\n",
    "$$\n",
    "I_{ij} = \\delta_{ij} = \\begin{pmatrix} 1 &  &  &  \\\\ & 1 & &  \\\\ & & \\ddots & \\\\ & & &  1 \\end{pmatrix}\n",
    "$$\n",
    "\n",
    "La descomposición espectral de $I$ no es otra que la <b>relación de completitud</b>, que es cierta *para cualquier base*, ya que todas las bases son bases de autoestados de $I$\n",
    "$$\n",
    "I ~=~ \\sum_{i=1}^N \\ket{\\lambda_i}\\bra{\\lambda_i} ~=~ \\sum_{i=1}^N \\ket{e_i}\\bra{e_i}\n",
    "$$\n",
    "</div>"
   ]
  },
  {
   "cell_type": "markdown",
   "id": "af0316f0",
   "metadata": {
    "slideshow": {
     "slide_type": "slide"
    }
   },
   "source": [
    "## Espectro de operadores Hermíticos\n",
    "\n",
    "<div class=\"alert alert-block alert-info\",text-align:center>\n",
    " <p style=\"text-align: left ;color: navy;\">  \n",
    "El espectro de un operador hermítico  $A = A^\\dagger$,  tiene dos propiedades importantes:\n",
    "<br>\n",
    "<br>     \n",
    " - 1. los <b>autovalores</b> de un operador hermíticos son reales $\\lambda_i \\in {\\mathbb R}$.\n",
    "<br>\n",
    "<br>     \n",
    " - 2.  los <b>autovectores</b> $\\ket{\\lambda_i}$ de un operador hermítico asociados a autovalores distintos son ortogonales.\n",
    "Es decir\n",
    "<br>\n",
    "<br>\n",
    "$$\n",
    "\\lambda_i\\neq \\lambda_j ~~~\\Longleftrightarrow ~~~\\braket{\\lambda_i}{\\lambda_j} = 0\\, .\n",
    "$$\n",
    "</p>\n",
    "\n",
    "<details>\n",
    "<summary>\n",
    "<p style=\"text-align:right\"> >> Prueba:</p>\n",
    "</summary>\n",
    "<br>\n",
    "1. Tomemos un autovector normalizado de $A$, $\\ket{\\lambda}$ de autovalor $\\lambda$.\n",
    "<br>\n",
    "<br>\n",
    "$$\n",
    "\\lambda = \\bra{\\lambda}A\\ket{\\lambda} =  (\\bra{\\lambda}A^\\dagger\\ket{\\lambda})^* = (\\bra{\\lambda}A\\ket{\\lambda})^*= \\lambda^* .~~~\n",
    "$$   \n",
    "<br>    \n",
    "2. De hecho esta propiedad es cierta para operadores $N$, normales. Los operadores Hermíticos son normales.\n",
    "De la ecuación de autovalores $N\\ket{\\lambda_j} =  \\lambda_j \\ket{\\lambda_j}$, y de $NN^\\dagger = N^\\dagger N$, se sigue que\n",
    "<br>\n",
    "$$\n",
    "\\bra{\\lambda_j}(N^\\dagger - \\lambda_j^*)(N - \\lambda_j) \\ket{\\lambda_j} = \\bra{\\lambda_j}(N - \\lambda_j)(N^\\dagger - \\lambda_j^*) \\ket{\\lambda_j}  = 0\\,\n",
    "$$\n",
    "<br>\n",
    "de donde obtenemos $(N^\\dagger - \\lambda_j^*) \\ket{\\lambda_j} = 0 \\Rightarrow \\bra{\\lambda_j} N = \\bra{\\lambda_j}\\lambda_j$. Entonces\n",
    "<br>\n",
    "$$\n",
    "\\bra{\\lambda_j}N\\ket{\\lambda_i} = \\lambda_j \\braket{\\lambda_j}{\\lambda_i} = \\lambda_i \\braket{\\lambda_j}{\\lambda_i} \\, ,\n",
    "$$\n",
    "de donde se sigue que, para $\\lambda_i \\neq \\lambda_j \\Rightarrow \\braket{\\lambda_i}{\\lambda_j} = 0$. \n",
    "}\n",
    "</details>\n",
    "</div>\n"
   ]
  },
  {
   "cell_type": "markdown",
   "id": "931b5fd1",
   "metadata": {
    "slideshow": {
     "slide_type": "fragment"
    }
   },
   "source": [
    " *Base ortonormal*: el conjunto de autovectores $\\ket{\\lambda_i}$ de un operador hermítico forma una base ortogonal. Puede normalizarse para formar una base ortonormal\n",
    "<br>\n",
    "<br>\n",
    "$$\n",
    "\\braket{\\lambda_i}{\\lambda_j} = \\delta_{ij}\n",
    "$$"
   ]
  },
  {
   "cell_type": "markdown",
   "id": "69e489c8",
   "metadata": {
    "slideshow": {
     "slide_type": "fragment"
    }
   },
   "source": [
    "## Espectro de operadores Unitarios\n",
    "\n",
    "<div class=\"alert alert-block alert-info\",text-align:center>\n",
    " <p style=\"text-align: left ;color: navy;\">  \n",
    "Los autovalores de un operador unitario son fases puras\n",
    "<br><br>\n",
    "$$\n",
    "U^\\dagger = U^{-1} ~~~\\Longleftrightarrow ~~~\\lambda_i = e^{i\\phi_i}\n",
    "$$ \n",
    "\n",
    "<details>\n",
    "<summary><p style=\"color:grey;text-align:right\"> >> Prueba </p></summary>\n",
    "es evidente puesto que sólo estos números complejos verifican que el complejo conjugado y el inverso coinciden $\\lambda^* = \\lambda^{-1} \\Leftrightarrow \\lambda = e^{i\\phi}$.    \n",
    "</details>\n",
    "\n",
    "</div>"
   ]
  },
  {
   "cell_type": "markdown",
   "id": "3862bc8e",
   "metadata": {
    "slideshow": {
     "slide_type": "slide"
    }
   },
   "source": [
    "## Operadores conmutantes\n",
    "\n",
    "Supongamos que $A$ y $B$ conmutan. Entonces la acción de $A$ *estabiliza* los subespacios propios de $B$. \n",
    "\n",
    "Es decir, que si $\\ket{\\lambda}$ es autoestado de $B$, entonces $B\\ket{\\lambda} = \\ket{\\mu}$ también es autoestado con el mismo autovalor. Se comprueba fácilmente\n",
    "<br>\n",
    "<br>\n",
    "$$\n",
    "A(B\\ket{\\lambda} ) = B(A\\ket{\\lambda}) = B(\\lambda\\ket{\\lambda}) = \\lambda (B\\ket{\\lambda})\n",
    "$$\n",
    "<br>\n",
    "Si $\\lambda$ es degenerado esto sólo asegura que $B\\ket{\\lambda} = \\ket{\\lambda'}$ pertenece al subespacio propio del mismo autovalor $\\lambda$. \n",
    "\n",
    "Esto quiere decir que, dento de cada subespacio propio de $B$, podemos escoger la base que queramos. En particular podemos escoger una base que diagonalice $A$ dentro de dicho subespacio."
   ]
  },
  {
   "cell_type": "markdown",
   "id": "4811032a",
   "metadata": {
    "slideshow": {
     "slide_type": "slide"
    }
   },
   "source": [
    " Llegamos de esta manera a un resultado importantísimo\n",
    " \n",
    " <div class=\"alert alert-block alert-info\",text-align:center>\n",
    " <p style=\"text-align: left ;color: navy;\">  \n",
    "<b> Teorema </b>\n",
    "<br>     \n",
    "Dados dos operadores $A$ y $B$ que conmuten, existe una base $\\{\\ket{\\lambda_i}\\}$ de autovalores simultáneos de ambos operadors, es decir \n",
    "<br>\n",
    "<br>\n",
    "$$\n",
    "A = \\lambda_i^A\\ket{\\lambda_i}\\bra{\\lambda_i} ~~~~,~~~~~ B= \\lambda_i^B\\ket{\\lambda_i}\\bra{\\lambda_i} \n",
    "$$\n",
    "</div>\n",
    "\n",
    "En otras palabras, dos operdores que conmutan, son diagonalizables simultáneamente"
   ]
  },
  {
   "cell_type": "markdown",
   "id": "8a1bf270",
   "metadata": {},
   "source": [
    "<a id='funcope'></a>\n",
    "<table width=\"100%\">\n",
    "    <td style=\"font-size:25px;font-family:Helvetica;text-align:left;background-color:rgba(12, 43, 337, 0.3);\">\n",
    "<b>Funciones de Operadores</b>\n",
    "</table>   \n"
   ]
  },
  {
   "cell_type": "markdown",
   "id": "1e0d2f44",
   "metadata": {
    "slideshow": {
     "slide_type": "slide"
    }
   },
   "source": [
    "## Funciones analíticas\n",
    "\n",
    "Estamos acostumbrados a escribir funciones *de una variable real o compleja*. Por ejemplo $x\\to f(x)= x^2$, o $z\\to f(z) = e^z$. \n",
    "\n",
    "Querríamos dar sentido a una función *de un operador* \n",
    "$\n",
    "A \\to f(A)\n",
    "$"
   ]
  },
  {
   "cell_type": "markdown",
   "id": "830f59d8",
   "metadata": {
    "slideshow": {
     "slide_type": "fragment"
    }
   },
   "source": [
    "En el caso de que $f(z)$ sea una función analítica expresable como una serie de Taylor en torno a $x=0$ \n",
    "\n",
    "$$\n",
    "f(z) = \\sum_{n=0}^\\infty \\frac{1}{n!} f^{(n)}(0)\\,  z^n\n",
    "$$\n",
    "\n",
    "tomaremos como **definición** la *misma serie* cambiando el argumento $x\\to A$\n",
    "\n",
    "$$\n",
    "f(A) = \\sum_{n=0}^\\infty \\frac{1}{n!} f^{(n)}(0)\\,  A^n\n",
    "$$\n",
    "\n"
   ]
  },
  {
   "cell_type": "markdown",
   "id": "d92a5ba2",
   "metadata": {
    "slideshow": {
     "slide_type": "fragment"
    }
   },
   "source": [
    "<div class=\"alert alert-block alert-danger\">\n",
    "    <b>Notar:</b> \n",
    "<br>\n",
    "1. De la misma forma que, para funciones analíticas $f(z)^* = f(z^*)$, también la definición anterior asegura que \n",
    "$f(A)^\\dagger = f(A^\\dagger)$\n",
    "    \n",
    "</div>"
   ]
  },
  {
   "cell_type": "markdown",
   "id": "aee8e300",
   "metadata": {},
   "source": [
    "## Funciones generales"
   ]
  },
  {
   "cell_type": "markdown",
   "id": "b65c3382",
   "metadata": {},
   "source": [
    "No siempre $f(z)$ admite una expansión en serie de Taylor. Por ejemplo $f(z) = \\exp(1/z)$ en torno a $z=0$ no es analítica.\n",
    "\n",
    "En estos casos, el operador $f(A)$ existe, pero para construirlo es necesario recurrir a la forma diagonalizada. \n",
    "\n",
    "<div class=\"alert alert-block alert-info\",text-align:center>\n",
    " <p style=\"text-align: left ;color: navy;\">  \n",
    "<b> Teorema: </b> \n",
    "<br>\n",
    "Sea $A$ un operador diagonalizable, y sea $A= \\sum_i \\lambda_i \\ket{\\lambda_i}\\bra{\\lambda_i}$ su representación espectral. Entonces el operador $f(A)$ tiene la representación espectral siguiente\n",
    "$$\n",
    "f(A) = \\sum_i f(\\lambda_i) \\ket{\\lambda_i}\\bra{\\lambda_i}\n",
    "$$\n",
    "<br>\n"
   ]
  },
  {
   "cell_type": "markdown",
   "id": "9ff3a9d1",
   "metadata": {
    "slideshow": {
     "slide_type": "slide"
    }
   },
   "source": [
    "## Exponencial de un operador\n",
    "\n",
    "la exponencial de un operador será\n",
    "$$\n",
    "\\exp(A) = I + A + \\frac{1}{2} A^2 + \\frac{1}{3!} A^3 + ...\n",
    "$$\n"
   ]
  },
  {
   "cell_type": "markdown",
   "id": "248d211a",
   "metadata": {
    "slideshow": {
     "slide_type": "slide"
    }
   },
   "source": [
    "<a id='paulis'></a>\n",
    "<table width=\"100%\">\n",
    "    <td style=\"font-size:25px;font-family:Helvetica;text-align:left;background-color:rgba(12, 43, 337, 0.3);\">\n",
    "<b>Matrices de Pauli</b>\n",
    "</table>   \n"
   ]
  },
  {
   "cell_type": "markdown",
   "id": "ed1960b7",
   "metadata": {
    "slideshow": {
     "slide_type": "slide"
    }
   },
   "source": [
    "<div class=\"alert alert-block alert-info\",text-align:center>\n",
    " <p style=\"text-align: left ;color: navy;\">  \n",
    "<b> Definición: </b>  $~$ se definen las matrices de Pauli \n",
    "<br>\n",
    "<br>\n",
    "$$\n",
    "\\sigma_x = \\begin{bmatrix} 0 & 1 \\\\ 1 & 0 \\end{bmatrix}~~~~~,~~~~~~~~~\n",
    "\\sigma_y = \\begin{bmatrix} 0 & -i \\\\ i & 0 \\end{bmatrix}~~~~~,~~~~~~~~~\n",
    "\\sigma_z = \\begin{bmatrix} 1 & 0 \\\\ 0 & -1 \\end{bmatrix} \\, .\n",
    "$$\n",
    "</div>\n"
   ]
  },
  {
   "cell_type": "markdown",
   "id": "bbf017e4",
   "metadata": {
    "slideshow": {
     "slide_type": "fragment"
    }
   },
   "source": [
    "- También se usan los subíndices enteros $\\sigma_1=\\sigma_x, ~\n",
    "\\sigma_2=\\sigma_y$  y  $\\sigma_3=\\sigma_z$. \n",
    "<br>\n",
    "<br>\n",
    "- Las matrices de Pauli son hermíticas y unitarias \n",
    "\n"
   ]
  },
  {
   "cell_type": "markdown",
   "id": "71f89388",
   "metadata": {
    "slideshow": {
     "slide_type": "fragment"
    }
   },
   "source": [
    "<div class=\"alert alert-block alert-success\">\n",
    "    <b> Ejercicio: </b> <br>encuentra los autovalores y autovectores de las tres matrices de Pauli, $\\sigma_x, \\sigma_y $ y $\\sigma_z$.    \n",
    "</div>"
   ]
  },
  {
   "cell_type": "markdown",
   "id": "78c9f45b",
   "metadata": {
    "slideshow": {
     "slide_type": "slide"
    }
   },
   "source": [
    "## Composición de matrices de Pauli\n",
    "\n",
    "La composición de dos matrices de Pauli es otra matriz de Pauli cumple la siguiente identidad\n",
    "\n",
    "$$\n",
    "\\sigma_i \\sigma_j = \\delta_{ij} + i\\epsilon_{ijk} \\sigma_j \\sigma_k\n",
    "$$"
   ]
  },
  {
   "cell_type": "code",
   "execution_count": 89,
   "id": "0aa7875f",
   "metadata": {},
   "outputs": [
    {
     "name": "stdout",
     "output_type": "stream",
     "text": [
      "[[ True  True]\n",
      " [ True  True]]\n",
      "[[ True  True]\n",
      " [ True  True]]\n",
      "[[ True  True]\n",
      " [ True  True]]\n"
     ]
    }
   ],
   "source": [
    "import numpy as np\n",
    "s0 = np.matrix([[1,0],[0,1]])\n",
    "s1 = np.matrix([[0,1],[1,0]])\n",
    "s2 = np.matrix([[0,-1j],[1j,0]])\n",
    "s3 = np.matrix([[1,0],[0,-1]])\n",
    "\n",
    "'verifica todas las opciones'\n",
    "print(s1*s1==s0)\n",
    "print(s1*s2==1j*s3)\n",
    "print(s2*s1==-1j*s3)"
   ]
  },
  {
   "cell_type": "markdown",
   "id": "57a563a8",
   "metadata": {},
   "source": [
    "De la relación de composición se derivan las siguientes relaciones de (anti) conmutación\n",
    "\n",
    "$$\n",
    "\\{\\sigma_i,\\sigma_j \\} = 2\\delta_{ij}~~~~~~~,~~~~~~~\n",
    "~~~[\\sigma_i,\\sigma_j] = 2i\\epsilon_{ijk}\\sigma_k\n",
    "$$\n"
   ]
  },
  {
   "cell_type": "markdown",
   "id": "c2f070be",
   "metadata": {},
   "source": [
    "Las matrices de Pauli tienen traza nula\n",
    "$$\n",
    "{\\rm tr} \\, \\sigma_i = 0\n",
    "$$\n",
    "\n",
    "Tomando la traza de la relación de composición obtenemos que las matrices de Pauli son ortogonales en el sentido siguiente\n",
    "\n",
    "$$\n",
    "{\\rm tr}(\\sigma_i\\sigma_j) = 2\\delta_{ij}\n",
    "$$\n"
   ]
  },
  {
   "cell_type": "markdown",
   "id": "2695b351",
   "metadata": {
    "slideshow": {
     "slide_type": "slide"
    }
   },
   "source": [
    "Deberías haber demostrado que las matrices hermíticas y las unitarias de dimensión 2$\\times$2 tienen cuatro grados de libertad. \n",
    "\n",
    "Si añadimos la matriz identidad $~I = \\begin{bmatrix} 1 & 0 \\\\ 0 & 1 \\end{bmatrix}~\n",
    "$  el conjunto $\\{I,\\sigma_x,\\sigma_y,\\sigma_z\\}$ forma una *base* para el espacio de matrices hermíticas $2\\times 2$.  \n",
    "\n",
    "$$\n",
    "A = a_0 I + a_1 \\sigma_1 + a_2 \\sigma_2 + a_3 \\sigma_3 = \n",
    "\\begin{bmatrix}\n",
    "a_0 + a_3 & a_1 - i a_2 \\\\ a_1 + i a_2 & a_0 - a_3\n",
    "\\end{bmatrix}\n",
    "$$\n",
    "con $a_i\\in {\\mathbb R}$ cuatro números reales."
   ]
  },
  {
   "cell_type": "markdown",
   "id": "c5b01ea5",
   "metadata": {
    "slideshow": {
     "slide_type": "fragment"
    }
   },
   "source": [
    "Recordar que la fórmula de Euler permite escribir, para una fase compleja $ e^{i\\alpha} = \\cos\\alpha + i \\sin\\alpha $.\n",
    "\n",
    "Ahora estamos en disposición de probar la generalización a matrices de Pauli.  Sea ${\\bf a} = (a_1,a_2,a_3) = a\\, \\hat{\\bf n}$ donde $a=|{\\bf a}|$ es el módulo"
   ]
  },
  {
   "cell_type": "markdown",
   "id": "85fe5abe",
   "metadata": {
    "slideshow": {
     "slide_type": "fragment"
    }
   },
   "source": [
    "<div class=\"alert alert-block alert-info\",text-align:center>\n",
    "<p style=\"text-align: left ;color: navy;\">  \n",
    "<b> Teorema: </b>  $~$ \n",
    "$$\n",
    "\\exp \\left( \\rule{0mm}{4mm} i  {\\bf a} \\cdot \\boldsymbol{\\sigma}  \\right) = \\cos a \\, I + i \\sin a \\,(\\hat{\\bf n} \\cdot  \\boldsymbol{\\sigma}) \\, \n",
    "$$\n",
    "</div>"
   ]
  },
  {
   "cell_type": "code",
   "execution_count": 122,
   "id": "fdab5e6c",
   "metadata": {},
   "outputs": [
    {
     "name": "stdout",
     "output_type": "stream",
     "text": [
      "[[-0.+0.j  0.-0.j]\n",
      " [ 0.-0.j -0.+0.j]]\n"
     ]
    }
   ],
   "source": [
    "'verifiquemos numéricamente esta identidad'\n",
    "from scipy.linalg import expm\n",
    "\n",
    "avec = np.array([0.1,1.2,-0.5])\n",
    "anorm = np.sqrt(np.inner(avec,avec))\n",
    "nvec = avec/anorm\n",
    "svec = np.array([s1,s2,s3])\n",
    "\n",
    "adots= sum(list(avec[i]*svec[i] for i in range(3)))\n",
    "e1 = expm(1j*adots)\n",
    "\n",
    "ndots= sum(list(nvec[i]*svec[i] for i in range(3)))\n",
    "e2 = np.cos(anorm)*s0 + 1j*np.sin(anorm)*(nvec[0]*svec[0]+nvec[1]*svec[1]+nvec[2]*svec[2])\n",
    "\n",
    "'verificamos'\n",
    "print(np.round(e1-e2,10))"
   ]
  },
  {
   "cell_type": "code",
   "execution_count": null,
   "id": "6013ed9b",
   "metadata": {},
   "outputs": [],
   "source": []
  }
 ],
 "metadata": {
  "kernelspec": {
   "display_name": "Python 3",
   "language": "python",
   "name": "python3"
  },
  "language_info": {
   "codemirror_mode": {
    "name": "ipython",
    "version": 3
   },
   "file_extension": ".py",
   "mimetype": "text/x-python",
   "name": "python",
   "nbconvert_exporter": "python",
   "pygments_lexer": "ipython3",
   "version": "3.7.10"
  },
  "varInspector": {
   "cols": {
    "lenName": 16,
    "lenType": 16,
    "lenVar": 40
   },
   "kernels_config": {
    "python": {
     "delete_cmd_postfix": "",
     "delete_cmd_prefix": "del ",
     "library": "var_list.py",
     "varRefreshCmd": "print(var_dic_list())"
    },
    "r": {
     "delete_cmd_postfix": ") ",
     "delete_cmd_prefix": "rm(",
     "library": "var_list.r",
     "varRefreshCmd": "cat(var_dic_list()) "
    }
   },
   "types_to_exclude": [
    "module",
    "function",
    "builtin_function_or_method",
    "instance",
    "_Feature"
   ],
   "window_display": false
  }
 },
 "nbformat": 4,
 "nbformat_minor": 5
}
