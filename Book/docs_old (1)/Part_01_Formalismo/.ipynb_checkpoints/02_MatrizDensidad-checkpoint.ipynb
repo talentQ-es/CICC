{
 "cells": [
  {
   "cell_type": "markdown",
   "id": "d2c4b074",
   "metadata": {
    "slideshow": {
     "slide_type": "slide"
    }
   },
   "source": [
    "<img   src=\"../figuras/logo/TalentQ_LogoPosNegro.png\" align=center  width=\"120\"/>\n",
    "<br>\n",
    "\n",
    "<table width=\"100%\">\n",
    "<td style=\"font-size:42px;font-style:italic;text-align:right;background-color:rgba(0, 160, 120,0.6)\">\n",
    "Matriz Densidad \n",
    "</td></table>\n",
    "\n",
    "\n",
    "\n",
    "$ \\newcommand{\\bra}[1]{\\langle #1|} $\n",
    "$ \\newcommand{\\ket}[1]{|#1\\rangle} $\n",
    "$ \\newcommand{\\braket}[2]{\\langle #1|#2\\rangle} $\n",
    "$ \\newcommand{\\i}{{\\color{blue} i}} $ \n",
    "$ \\newcommand{\\Hil}{{\\cal H}} $"
   ]
  },
  {
   "cell_type": "markdown",
   "id": "1a24fb8a",
   "metadata": {
    "slideshow": {
     "slide_type": "slide"
    }
   },
   "source": [
    "\n",
    "-[Estado puro y mezcla](#incer_cuant) \n",
    "   <br>\n",
    "   \n",
    "-[Operador densidad](#incer_clas) \n",
    "   <br>\n",
    "   "
   ]
  },
  {
   "cell_type": "markdown",
   "id": "5bc1e287",
   "metadata": {
    "slideshow": {
     "slide_type": "slide"
    }
   },
   "source": [
    "<a id=\"incer_cuant\"></a>\n",
    "<a id='dirac'></a>\n",
    "<table width=\"100%\">\n",
    "    <td style=\"font-size:30px;font-family:Helvetica;text-align:left;background-color:rgba(102, 103, 237, 0.3);\">\n",
    "<b>Estados Puros y Mezcla</b>\n",
    "</table>   \n"
   ]
  },
  {
   "cell_type": "markdown",
   "id": "97933ee0",
   "metadata": {
    "slideshow": {
     "slide_type": "slide"
    }
   },
   "source": [
    "Si sabemos *con seguridad* que el  sistema se encuentra en un estado $\\ket{\\psi}\\in \\Hil$ *toda la incertidumbre* que queda es cuántica, y reside en el carácter probabilístico de las medidas. \n",
    "\n",
    "\n",
    "<div class=\"alert alert-block alert-info\",text-align:center>\n",
    "<p style=\"text-align: left ;color: navy;\">  \n",
    "<b> Estado puro</b>:\n",
    "<br>    \n",
    "Si con <i>certeza total</i> podemos afirmar que el estado de un sistema está descrito por un vector \n",
    "$\\ket{\\psi}\\in \\Hil$ \n",
    "decimos que nuestro sistema se encuentra en un estado puro.\n",
    "<br>\n",
    "</p>\n",
    "</div>"
   ]
  },
  {
   "cell_type": "markdown",
   "id": "1628953b",
   "metadata": {
    "slideshow": {
     "slide_type": "fragment"
    }
   },
   "source": [
    "- En este caso, el estado contiene **toda** la *información* que podemos obtener del sistema.\n",
    "\n",
    "\n",
    "- Dicha  *información*, acerca de los posibles resultados de medida, es **intrínsecamente** *aleatoria*. \n",
    "\n",
    "\n",
    "- Las probabilidades de obtener distintos resultados están codificadas en números complejos, las amplitudes de probabilidad.\n"
   ]
  },
  {
   "cell_type": "markdown",
   "id": "8207f1e8",
   "metadata": {
    "slideshow": {
     "slide_type": "slide"
    }
   },
   "source": [
    "Por ejemplo, la probabilidad de medir el estado $\\ket{0}$ será \n",
    "<br>\n",
    "\n",
    "$$\n",
    "p(\\ket{\\psi}\\to \\ket{0}) = |\\braket{0}{\\psi}|^2  = \n",
    "\\left\\vert\\bra{0}\\big(a\\ket{0}+b\\ket{1}\\big)\\right\\vert^2=\\left\\vert a\\braket{0}{0}+b \\braket{0}{1}\\right\\vert^2 = |a|^2\n",
    "$$\n",
    "<br>\n",
    "la de medir el estado $\\ket{1}$\n",
    "<br>\n",
    "$$\n",
    "p(\\ket{\\psi}\\to \\ket{1}) = |\\braket{1}{\\psi}|^2  = \\left\\vert\\bra{1}\\big(a\\ket{0}-b\\ket{1}\\big)\\right\\vert^2 =\\left\\vert a\\braket{1}{0}+b \\braket{1}{1}\\right\\vert^2= |b|^2\n",
    "$$\n"
   ]
  },
  {
   "cell_type": "markdown",
   "id": "d31ee1ce",
   "metadata": {
    "slideshow": {
     "slide_type": "slide"
    }
   },
   "source": [
    "y la de medir el estado $\\ket{+} =  \\frac{1}{\\sqrt{2}}(\\ket{0}+\\ket{1})$ será\n",
    "<br>\n",
    "\\begin{eqnarray}\n",
    "p(\\ket{\\psi}\\to \\ket{+})&=&|\\braket{+}{\\psi}|^2 =  \\frac{1}{2}\\left\\vert\\big(\\bra{0}+ \\bra{1}\\big)\\big(a\\ket{0}+b\\ket{1}\\big)\\right\\vert^2 = \\frac{1}{2}\\left\\vert\\big(a\\braket{0}{0}+b\\braket{1}{1}\\big)\n",
    "\\right\\vert^2 \\\\\n",
    "&=&\\frac{1}{2}|a+b|^2  = \\frac{1}{2}(a+b)(a^* + b^*) \n",
    "\\\\\n",
    "&=& \\frac{1}{2}\\left(\\rule{0mm}{4mm} |a|^2 + |b|^2 + 2{\\rm Re}(ab^*) \\right)\n",
    "\\end{eqnarray}\n",
    "\n",
    " El término que no tiene signo definido $2{\\rm Re}(ab^*)$ se denomina <b>interferencia</b>. \n",
    " \n",
    " Es el responsable de que $p(\\ket{\\psi}\\to \\ket{+})=0$ se pueda anular cuando $a=1=-b$. \n",
    " \n",
    " Es decir, cuano $\\ket{\\psi}= \\ket{-}$ y los estados son ortogonales $|\\braket{+}{-}|^2= p(\\ket{-}\\to\\ket{+})=0$.\n",
    "\n",
    "    \n"
   ]
  },
  {
   "cell_type": "markdown",
   "id": "b5caadcf",
   "metadata": {
    "slideshow": {
     "slide_type": "slide"
    }
   },
   "source": [
    "¿Qué ocurre si no podemos tener la certeza de que el estado que describe el sistema sea $\\ket{\\psi}$?  \n",
    "\n",
    "Por ejemplo: supongamos que, a la salida de un polarizador de Stern Gerlach, encontramos que el estado es $\\ket{+}$. Por otro lado, la fiabilidad nominal de dicho aparato es del 90\\%. Eso quiere decir que, con un 10\\% de probabilidad, el estado emergente ha sido, en realidad, $\\ket{-}$.\n",
    "\n",
    "Lo natural en este caso será construir, con esta información, una variable aleatoria $= \\{\\{\\ket{+},0.9\\},\\{\\ket{-},0.1\\}\\}$ de la que obtendremos, cada vez, un estado u otro con distinta probabilidad. \n"
   ]
  },
  {
   "cell_type": "markdown",
   "id": "c6efed3a",
   "metadata": {
    "slideshow": {
     "slide_type": "slide"
    }
   },
   "source": [
    "<div class=\"alert alert-block alert-info\",text-align:center>\n",
    "<p style=\"text-align: left ;color: navy;\">  \n",
    "<b> Estado mezcla</b>:\n",
    "<br>En la situación más general, un  sistema estará en un <b>estado mezcla</b> asociado a una variable aleatoria\n",
    "<br><br>\n",
    "$$\n",
    "\\{\\ket{\\psi_\\alpha},p_\\alpha\\}\n",
    "$$\n",
    "<br>\n",
    "que indica que, con probabilidad $p_\\alpha$,  el estado real del sistema es $\\ket{\\psi_\\alpha}$\n",
    "</p>\n",
    "</div>"
   ]
  },
  {
   "cell_type": "markdown",
   "id": "7cb0f53e",
   "metadata": {
    "slideshow": {
     "slide_type": "fragment"
    }
   },
   "source": [
    "Es importante recalcar que las probabilidades $p_\\alpha\\in {\\mathbb R}$ son incertidumbres clásicas, y por tanto $p_\\alpha \\in [0,1]~,~ \\sum_\\alpha p_\\alpha = 1$.\n",
    "\n",
    "El estado mixto contiene al estado puro como un caso particular en el que $p_1=1$ para sólo un vector $\\ket{\\psi_1}$\n",
    "y cero para el resto.\n",
    "\n",
    "La variable aleatoria $\\{\\ket{\\psi_\\alpha},p_\\alpha\\}$ recibe también el nombre de <b>colectivo estadístico</b>"
   ]
  },
  {
   "cell_type": "markdown",
   "id": "f1d3ce6a",
   "metadata": {
    "slideshow": {
     "slide_type": "slide"
    }
   },
   "source": [
    "<a id=\"incer_cuant\"></a>\n",
    "<a id='dirac'></a>\n",
    "<table width=\"100%\">\n",
    "    <td style=\"font-size:30px;font-family:Helvetica;text-align:left;background-color:rgba(102, 103, 237, 0.3);\">\n",
    "<b>Operador densidad</b>\n",
    "</table>   \n"
   ]
  },
  {
   "cell_type": "markdown",
   "id": "b6469eeb",
   "metadata": {
    "slideshow": {
     "slide_type": "slide"
    }
   },
   "source": [
    "Supongamos que a nuestro sistema le podemos asignar un estado mixto $\\{p_\\alpha,\\ket{\\psi_\\alpha}\\}$. \n",
    "\n",
    "La probabilidad, $p(\\lambda)$, de encontrar un autovector $\\ket{\\lambda}$ como resultado de la medida de un observable $A$, debe ser la *suma ponderada* de probabilidades  de esa medida en cada uno de los estados $\\ket{\\psi_\\alpha}$\n",
    "\n",
    "$$\n",
    "\\begin{array}{rcl} \n",
    "p(\\lambda) &=& \\sum_\\alpha p_\\alpha |\\braket{\\lambda}{\\psi_\\alpha}|^2 \\\\ \\rule{0mm}{6mm}\n",
    "&=& \\sum_\\alpha p_\\alpha \\braket{\\lambda}{\\psi_\\alpha}\\braket{\\psi_\\alpha}{\\lambda} \\\\ \\rule{0mm}{6mm}\n",
    "&=& \\bra{\\lambda}\\left(\\sum_\\alpha p_\\alpha \\ket{\\psi_\\alpha}\\bra{\\psi_\\alpha}\\right)\\ket{\\lambda} \\\\\n",
    "\\end{array}\n",
    "$$\n",
    "\n"
   ]
  },
  {
   "cell_type": "markdown",
   "id": "7f5ac1ac",
   "metadata": {
    "slideshow": {
     "slide_type": "slide"
    }
   },
   "source": [
    "El resultado anterior muestra la aparición en escena de un nuevo operador hermítico \n",
    "que podemos formar con los datos del colectivo aleatorio $\\{p_\\alpha,\\ket{\\psi_\\alpha}\\}$\n",
    "\n",
    "$$\n",
    "\\rho = \\sum_\\alpha p_\\alpha \\ket{\\psi_\\alpha}\\bra{\\psi_\\alpha} = \\sum_\\alpha p_\\alpha P_\\alpha\n",
    "$$\n",
    "\n",
    "que se denomina *matriz densidad* y consiste en una suma ponderada de proyectores sobre cada uno de los subespacios generados por los estados posibles. \n",
    "\n",
    "Este es el objeto matemático que caracteriza un estado mezcla. En particular, como acabamos de ver, \n",
    "la probabilidad de encontrar el estado $\\ket{\\lambda}$ el *valor esperado* del operador densidad en dicho estado\n",
    "$$\n",
    "\\fbox{$\n",
    "p(\\lambda) =\\langle \\rho \\rangle_{\\ket{\\lambda}}$}\n",
    "$$"
   ]
  },
  {
   "cell_type": "markdown",
   "id": "ee36b4af",
   "metadata": {
    "slideshow": {
     "slide_type": "slide"
    }
   },
   "source": [
    "<div class=\"alert alert-block alert-info\",text-align:center>\n",
    "<p style=\"text-align: left ;color: navy;\">  \n",
    "<b> Operador densidad</b>:\n",
    "<br> un operador, $\\rho$, podrá ser el operador densidad de un sistema si cumple los siguientes requisitos    \n",
    "<br>\n",
    "-  es hermítico $\\rho = \\rho^\\dagger$\n",
    "<br>\n",
    "- es semidefinido positivo\n",
    "<br>\n",
    "- tiene traza unidad ${\\rm tr} \\rho = 1$ \n",
    "</p>\n",
    "</div>"
   ]
  },
  {
   "cell_type": "markdown",
   "id": "3fd07203",
   "metadata": {
    "slideshow": {
     "slide_type": "fragment"
    }
   },
   "source": [
    "Claramente la expresión dada anteriormente cumple con todos estos requisitos. \n",
    "\n",
    "$$\n",
    "\\rho^\\dagger = \\left(\\sum_\\alpha p_\\alpha \\ket{\\psi_\\alpha}\\bra{\\psi_\\alpha}\\right)^\\dagger = \n",
    "\\sum_\\alpha p^*_\\alpha \\ket{\\psi_\\alpha}\\bra{\\psi_\\alpha} = \\rho\n",
    "$$\n",
    "\n",
    "dado que $p_\\alpha$ son probabilidades y por tanto numeros reales. "
   ]
  },
  {
   "cell_type": "markdown",
   "id": "9b1ff4d4",
   "metadata": {
    "slideshow": {
     "slide_type": "slide"
    }
   },
   "source": [
    "De hecho escrito en esta base, la matriz que representa $\\rho$ es diagonal\n",
    "\n",
    "$$\n",
    "\\rho = \\begin{bmatrix} p_1& 0 & ... & 0 \\\\ 0 & p_2 & ... & 0 \\\\ & &\\vdots  & \\\\ 0 & 0 & \\cdots & p_n  \n",
    "\\end{bmatrix}\n",
    "$$\n",
    "\n",
    "Por tanto los números $p_\\alpha\\geq 0$ son los autovalores, que son no-negativos, lo cuál caracteriza un operador semidefinido positivo. \n",
    "\n"
   ]
  },
  {
   "cell_type": "markdown",
   "id": "f77f2661",
   "metadata": {
    "slideshow": {
     "slide_type": "fragment"
    }
   },
   "source": [
    "Finalmente la traza es la unidad debido a que $p_\\alpha$ son probabilidades\n",
    "\n",
    "$$\n",
    "{\\rm Tr}\\, \\rho = \\sum_\\alpha p_\\alpha = 1\n",
    "$$"
   ]
  },
  {
   "cell_type": "markdown",
   "id": "f0f5a689",
   "metadata": {
    "slideshow": {
     "slide_type": "fragment"
    }
   },
   "source": [
    "<div class=\"alert alert-block alert-danger\">\n",
    "<b> Notar</b>:\n",
    "<br>\n",
    "aunque se trata de un abuso de lenguaje, se suele usar la denominación <i>matriz densidad</i> para referirse al operador densidad. \n",
    "<br>\n",
    "</div>   "
   ]
  },
  {
   "cell_type": "markdown",
   "id": "587e31e4",
   "metadata": {
    "slideshow": {
     "slide_type": "slide"
    }
   },
   "source": [
    "### Matriz densidad de un estado puro\n",
    "\n",
    "\n",
    "La matriz densidad es un formalismo más general que el del vector estado, que sólo se aplica en el caso de ser el estado puro. \n",
    "\n",
    "En efecto, la matriz densidad asociada a un estado puro $\\ket{\\psi_0}$ se obtiene haciendo todas las probabilidades $p_{\\alpha\\neq 0}=0$ y $p_{0} = 1$. Entonces\n",
    "\n",
    "$$\n",
    "\\rho = \\ket{\\psi_0}\\bra{\\psi_0}\n",
    "$$\n",
    "\n",
    "es la matriz densidad que contiene la misma información. \n",
    "\n",
    "Es evidente que esta expresión cumple, a mayores, la propiedad que caracteriza a un *proyector*\n",
    "\n",
    "$$\n",
    "\\rho^2 = \\rho\n",
    "$$\n",
    "\n",
    "y esto es una ecuación que sólo verifican las matrices densidades asociadas a estados puros. Por el contrario, para un estado mezcla \n",
    "\n",
    "$$\n",
    "\\rho^2 \\neq \\rho\n",
    "$$"
   ]
  },
  {
   "cell_type": "markdown",
   "id": "84400624",
   "metadata": {},
   "source": [
    "<a id=\"dens_bipart\"></a>\n",
    "<table width=\"100%\">\n",
    "    <td style=\"font-size:30px;font-family:Helvetica;text-align:left;background-color:rgba(102, 103, 237, 0.3);\">\n",
    "<b>Estado mezcla bipartito</b>\n",
    "</table>   \n"
   ]
  },
  {
   "cell_type": "markdown",
   "id": "2cf7f8e6",
   "metadata": {
    "slideshow": {
     "slide_type": "slide"
    }
   },
   "source": [
    "De forma similar, podemos definir la matriz densidad en sistemas multipartitos. Si consideramos por simplicidad un espacio $\\Hil=\\Hil_1\\otimes\\Hil_2$, el siguiente operador $\\rho \\in {\\rm L}(\\Hil)$ \n",
    "\n",
    "$$\\rho=\\sum_{ia,jb}\\rho_{ia,jb}\\ket{e_{ia}}\\bra{e_{jb}}$$\n",
    "\n",
    "podrá describir el estado mezcla de un sistema bipartito si verifica las tres condiciones que definen un operador densidad.  "
   ]
  },
  {
   "cell_type": "markdown",
   "id": "690ea6e5",
   "metadata": {
    "slideshow": {
     "slide_type": "fragment"
    }
   },
   "source": [
    "<div class=\"alert alert-block alert-danger\">\n",
    "<b> Notar</b>:\n",
    "<br>\n",
    "    No confundir estado <i>mezcla</i> con estado <i>entrelazado</i>. Un estado $\\ket{\\psi}\\in \\Hil_1\\otimes\\Hil_2$ puede ser entrelazado, y aun así $\\rho = \\ket{\\psi}\\bra{\\psi}$ es el operador densidad correspondiente a un estado puro.\n",
    "<br>\n",
    "</div>   "
   ]
  },
  {
   "cell_type": "markdown",
   "id": "bd0d8e24",
   "metadata": {
    "slideshow": {
     "slide_type": "slide"
    }
   },
   "source": [
    "Existen distintas posibilidades para $\\rho \\in {\\rm L}(\\Hil_1\\otimes \\Hil_2)$. Esta matriz, a su vez, puede ser \n",
    "\n",
    "- <i> factorizable: </i> si $\\rho$ es un operador factorizable \n",
    "$$\n",
    "\\rho = \\rho_1\\otimes \\rho_2\\, .\n",
    "$$\n",
    "<br>\n",
    "En este caso, decimos que, en este estado, los subsistemas 1 y 2 están <i>descorrelacionados</i>."
   ]
  },
  {
   "cell_type": "markdown",
   "id": "61ac929b",
   "metadata": {
    "slideshow": {
     "slide_type": "fragment"
    }
   },
   "source": [
    "- <i>separable:</i> si es combinación lineal de operadores factorizables\n",
    "<br>\n",
    "<br>\n",
    "$$\\rho=\\sum_a p_a \\rho_{1a}\\otimes\\rho_{2a}$$\n",
    "con $p_a\\in [0,1]$ y $\\sum_a p_a = 1$."
   ]
  },
  {
   "cell_type": "markdown",
   "id": "c3d602ae",
   "metadata": {
    "slideshow": {
     "slide_type": "fragment"
    }
   },
   "source": [
    "- <i>no- separable:</i> en cualquier otro caso.\n"
   ]
  },
  {
   "cell_type": "markdown",
   "id": "f1e76df6",
   "metadata": {
    "slideshow": {
     "slide_type": "slide"
    }
   },
   "source": [
    "## Traza parcial\n",
    "\n",
    "Finalmente, definimos la traza parcial, que se obtiene tomando la taza  únicamente en uno de los dos espacios\n",
    "\n",
    "$$\\rho_1 = {\\rm Tr}_2\\rho = \\sum_{a=1}^{d_2} \\bra{e_a^{(2)}} \\rho \\ket{e_a^{(2)}}\\quad , \\quad \\rho_2 = {\\rm Tr}_1\\rho = \\sum_{a=1}^{d_1} \\bra{e_a^{(1)}} \\rho \\ket{e_a^{(1)}}$$"
   ]
  },
  {
   "cell_type": "markdown",
   "id": "560630db",
   "metadata": {
    "slideshow": {
     "slide_type": "-"
    }
   },
   "source": [
    "    \n",
    "Supongamos un **estado puro** $\\rho=\\ket{\\Psi}\\bra{\\Psi}$ con $\\ket{\\Psi}=\\sum_{ij}c_{ij}\\ket{e_{ij}}$ en cierta base. En este caso, $\\rho=\\rho^2$ es un proyector. Sin embargo, sus trazas parciales, en general, no lo serán\n",
    "    \n",
    "$$\\rho_{1ij} = \\sum_a c_{ia}c^\\ast_{ja} \\neq \\delta_{i1}\\delta_{j1}  \\quad \\Rightarrow \\quad  \\rho_1 \\neq \\rho_1^2$$\n",
    "    \n",
    "Lo mismo para $\\rho_2$.\n",
    "\n"
   ]
  },
  {
   "cell_type": "markdown",
   "id": "e5e52011",
   "metadata": {},
   "source": [
    "La traza de un operador densidad nos proporciona información sobre el sistema independiente de la base \n",
    "\n",
    "<div class=\"alert alert-block alert-info\",text-align:center>\n",
    "<p style=\"text-align: left ;color: navy;\">  \n",
    "<b> Teorema</b>:\n",
    "<br>\n",
    "Un operador densidad $\\rho$ describirá un sistema puro o mezcla si se verifica alguna de las dos ecuaciones siguientes \n",
    "<br>\n",
    "<br>\n",
    "$$\n",
    "{\\rm puro} ~\\Rightarrow~ {\\rm tr}\\rho^2 =1~~~~,~~~~~~ {\\rm  mezcla}~ \\Rightarrow ~{\\rm tr}\\rho^2 <1 \\, \n",
    "$$\n",
    "</p>\n",
    "<div class=\"alert alert-block alert-success\">\n",
    "<b>Ejercicio:</b> \n",
    "Demuestra este sencillo resultado\n",
    "</div>\n",
    "</div>"
   ]
  },
  {
   "cell_type": "markdown",
   "id": "5a566892",
   "metadata": {},
   "source": [
    "## Traza parcial\n",
    "\n",
    "Supongamos que estamos tratando con un operador densidad de un sistema bipartito"
   ]
  },
  {
   "cell_type": "code",
   "execution_count": null,
   "id": "63f413a0",
   "metadata": {},
   "outputs": [],
   "source": []
  }
 ],
 "metadata": {
  "celltoolbar": "Slideshow",
  "kernelspec": {
   "display_name": "Python 3",
   "language": "python",
   "name": "python3"
  },
  "language_info": {
   "codemirror_mode": {
    "name": "ipython",
    "version": 3
   },
   "file_extension": ".py",
   "mimetype": "text/x-python",
   "name": "python",
   "nbconvert_exporter": "python",
   "pygments_lexer": "ipython3",
   "version": "3.7.10"
  },
  "varInspector": {
   "cols": {
    "lenName": 16,
    "lenType": 16,
    "lenVar": 40
   },
   "kernels_config": {
    "python": {
     "delete_cmd_postfix": "",
     "delete_cmd_prefix": "del ",
     "library": "var_list.py",
     "varRefreshCmd": "print(var_dic_list())"
    },
    "r": {
     "delete_cmd_postfix": ") ",
     "delete_cmd_prefix": "rm(",
     "library": "var_list.r",
     "varRefreshCmd": "cat(var_dic_list()) "
    }
   },
   "types_to_exclude": [
    "module",
    "function",
    "builtin_function_or_method",
    "instance",
    "_Feature"
   ],
   "window_display": false
  }
 },
 "nbformat": 4,
 "nbformat_minor": 5
}
