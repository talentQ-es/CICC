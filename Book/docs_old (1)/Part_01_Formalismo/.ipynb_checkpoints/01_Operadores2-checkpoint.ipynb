{
 "cells": [
  {
   "cell_type": "markdown",
   "metadata": {},
   "source": [
    "<img   src=\"../figuras/logo/TalentQ_LogoPosNegro.png\" align=center  width=\"120\"/>\n",
    "<br>\n",
    "\n",
    "<table width=\"100%\">\n",
    "<td style=\"font-size:50px;font-style:italic;text-align:right;background-color:rgba(0, 160, 120,0.6)\">\n",
    "Autovalores y Autovectores\n",
    "</td></table>\n",
    "$ \\newcommand{\\bra}[1]{\\langle #1|} $\n",
    "$ \\newcommand{\\ket}[1]{|#1\\rangle} $\n",
    "$ \\newcommand{\\braket}[2]{\\langle #1|#2\\rangle} $\n",
    "$ \\newcommand{\\i}{{\\color{blue} i}} $ \n",
    "$ \\newcommand{\\Hil}{{\\cal H}} $\n",
    "\n",
    "\n",
    "\n",
    "- [Autovalores y autovectores](#autov) \n",
    "\n",
    "- [Espectros de operadores](#especope)\n",
    "\n",
    "- [Matrices de Pauli](#paulis)\n",
    "\n"
   ]
  },
  {
   "cell_type": "markdown",
   "metadata": {
    "slideshow": {
     "slide_type": "slide"
    }
   },
   "source": [
    "<a id='autov'></a>\n",
    "<table width=\"100%\">\n",
    "    <td style=\"font-size:25px;font-family:Helvetica;text-align:left;background-color:rgba(12, 43, 337, 0.3);\">\n",
    "<b>Valores y vectores propios</b>\n",
    "</table>   "
   ]
  },
  {
   "cell_type": "markdown",
   "metadata": {
    "slideshow": {
     "slide_type": "slide"
    }
   },
   "source": [
    "- Dado un operador $A$, sabemos que la imagen de un vector $A\\ket{u}$ es otro vector $\\ket{v} = A\\ket{u}$, en general distinto. \n",
    "\n",
    "<div class=\"alert alert-block alert-info\",text-align:center>\n",
    " <p style=\"text-align: left ;color: navy;\">  \n",
    "<b> Definición: </b> \n",
    "     Existen vectores, $\\ket{\\lambda}$ para los cuales la <i>la acción de un operador</i> $A$ devuelve un vector <i>paralelo</i> \n",
    "<br><br>\n",
    "$$\n",
    "A\\ket{\\lambda} = \\lambda \\ket{\\lambda}\\, .\n",
    "$$\n",
    "<br>    \n",
    "Decimos que $\\ket{\\lambda}$ es un vector propio (o autovector) de $A$ con valor propio (o autovalor) asociado $\\lambda\\in {\\mathbb C}$ \n",
    "</div>\n"
   ]
  },
  {
   "cell_type": "markdown",
   "metadata": {
    "slideshow": {
     "slide_type": "fragment"
    }
   },
   "source": [
    "<div class=\"alert alert-block alert-warning\">\n",
    "    <b>Ejemplo:</b>\n",
    "    \n",
    "Llamemos $R(\\theta)$ el operador que efectúa una rotación  en el plano de ángulo $\\theta$. Este operador no tiene ningún autovector ya que todo vector sobre el que actúa sufre una rotación. Sin embargo cuando $\\theta = \\pi$, para todo vector encontramos\n",
    "\n",
    "$$\n",
    "R(\\pi) \\ket{\\lambda} = -\\ket{\\lambda}\n",
    "$$\n",
    "\n",
    "por lo que,  el plano entero es un espacio vectorial propio de $A$, con autovalor $-1$. \n",
    "</div>"
   ]
  },
  {
   "cell_type": "markdown",
   "metadata": {
    "slideshow": {
     "slide_type": "slide"
    }
   },
   "source": [
    "- El **espectro** de un operador  es el conjunto de todos sus autovalores $\\{\\lambda_i\\}$, i =1,2,..,n. En general $n\\leq \\hbox{dim}\\Hil$. "
   ]
  },
  {
   "cell_type": "markdown",
   "metadata": {
    "slideshow": {
     "slide_type": "slide"
    }
   },
   "source": [
    "- Si $\\ket{\\lambda}$ es un autovector, también lo es $\\ket{\\mu} = \\alpha\\ket{\\lambda}$ para cualquier número complejo $\\alpha$. En efecto\n",
    "<br>\n",
    "<br>\n",
    "$$\n",
    "A\\ket{\\mu} = A(\\alpha\\ket{\\lambda}) = \\alpha A\\ket{\\lambda} = \\alpha\\lambda \\ket{\\lambda} = \\lambda \\alpha\\ket{\\lambda}= \\lambda\\ket{\\mu}\n",
    "$$\n",
    "<br>\n",
    "Es por ello, más correcto hablar del *supespacio propio* asociado al autovalor $\\lambda$, al que pertenecen tanto $\\ket{\\lambda}$ como $\\ket{\\mu}$."
   ]
  },
  {
   "cell_type": "markdown",
   "metadata": {
    "slideshow": {
     "slide_type": "slide"
    }
   },
   "source": [
    "### Subespacio Propio\n",
    "\n",
    "- Decimos que un autovalor $\\lambda$ es $g$ veces degenerado si existen $g$ autovectores linealmente independientes,  $\\ket{\\lambda^{a}}$ con $a=1,...,g$ asociados al **mismo** autovalor $A\\ket{\\lambda_i^a} = \\lambda_i \\ket{\\lambda_i^a}$. El número entero $g\\in {\\mathbb N}$ se denomina *degeneración* del autovalor $\\lambda$. \n",
    "<br>\n",
    "<br>\n",
    "- Los autovectores de un autovalor $g$ veces degenerado forman un subespacio vectorial que llamamos *subespacio propio* del autovalor $\\lambda$. Si dichos autovectores son linealmente independientes, la dimensión del subespacio y la degeneración de $\\lambda$ coinciden.\n",
    "<br>"
   ]
  },
  {
   "cell_type": "markdown",
   "metadata": {
    "slideshow": {
     "slide_type": "slide"
    }
   },
   "source": [
    "<a id='especope'></a>\n",
    "<table width=\"100%\">\n",
    "    <td style=\"font-size:25px;font-family:Helvetica;text-align:left;background-color:rgba(12, 43, 337, 0.3);\">\n",
    "<b>Espectro de operadores</b>\n",
    "</table>   \n"
   ]
  },
  {
   "cell_type": "markdown",
   "metadata": {
    "slideshow": {
     "slide_type": "slide"
    }
   },
   "source": [
    "## Diagonalización\n",
    "\n",
    " Si, dado un operador lineal $A$,  es posible encontrar autovectores \n",
    "\n",
    "$$\n",
    "A \\ket{\\lambda_i} = \\lambda_i \\ket{\\lambda_i} ~~~~~~~i = 1,\\ldots, N\n",
    "$$\n",
    "\n",
    "que sean ortonormales $\\braket{\\lambda_i}{\\lambda_j}=\\delta_{ij}$, decimos que \n",
    "<br>\n",
    "<br>\n",
    "\n"
   ]
  },
  {
   "cell_type": "markdown",
   "metadata": {
    "slideshow": {
     "slide_type": "fragment"
    }
   },
   "source": [
    "-  $A$ es **diagonalizable**. Es decir, la matriz $A_{ij}$ que expresa $A$ en la base $\\ket{\\lambda_i}$ es diagonal \n",
    "\n",
    "$$\n",
    "A_{ij} = \\bra{\\lambda_i} A\\ket{\\lambda_j} = \\lambda_j \\braket{\\lambda_i}{\\lambda_j} = \\lambda_j \\delta_{ij} \n",
    "=\\begin{pmatrix} \\lambda_1 &  &  &  \\\\ & \\lambda_2 & &  \\\\ & & \\ddots & \\\\ & & &  \\lambda_N \\end{pmatrix}\n",
    "$$\n"
   ]
  },
  {
   "cell_type": "markdown",
   "metadata": {
    "slideshow": {
     "slide_type": "fragment"
    }
   },
   "source": [
    "- El operador $A$ admite la **representación espectral**\n",
    "\n",
    "$$\n",
    "A =\\sum_{i=1}^N \\lambda_i \\ket{\\lambda_i}\\bra{\\lambda_i}\n",
    "$$\n"
   ]
  },
  {
   "cell_type": "markdown",
   "metadata": {
    "slideshow": {
     "slide_type": "slide"
    }
   },
   "source": [
    "<div class=\"alert alert-block alert-danger\">\n",
    "    <b>Advertencia:</b>\n",
    "El operador identidad tiene a cualquier vector por autovector $ I\\ket{v} = \\ket{v}$, con autovalores $\\lambda_ i = 1$. Por tanto, en <b>cualquier base</b>, la matriz asociada a $I$ tiene la forma diagonal\n",
    "$$\n",
    "I_{ij} = \\delta_{ij} = \\begin{pmatrix} 1 &  &  &  \\\\ & 1 & &  \\\\ & & \\ddots & \\\\ & & &  1 \\end{pmatrix}\n",
    "$$\n",
    "\n",
    "La descomposición espectral de $I$ no es otra que la <b>relación de completitud</b>, que es cierta *para cualquier base*, ya que todas las bases son bases de autoestados de $I$\n",
    "$$\n",
    "I ~=~ \\sum_{i=1}^N \\ket{\\lambda_i}\\bra{\\lambda_i} ~=~ \\sum_{i=1}^N \\ket{e_i}\\bra{e_i}\n",
    "$$\n",
    "</div>"
   ]
  },
  {
   "cell_type": "markdown",
   "metadata": {
    "slideshow": {
     "slide_type": "slide"
    }
   },
   "source": [
    "## Espectro de operadores Hermíticos\n",
    "\n",
    "<div class=\"alert alert-block alert-info\",text-align:center>\n",
    " <p style=\"text-align: left ;color: navy;\">  \n",
    "El espectro de un operador hermítico  $A = A^\\dagger$,  tiene dos propiedades importantes:\n",
    "<br>\n",
    "<br>     \n",
    " - 1. los <b>autovalores</b> de un operador hermíticos son reales $\\lambda_i \\in {\\mathbb R}$.\n",
    "<br>\n",
    "<br>     \n",
    " - 2.  los <b>autovectores</b> $\\ket{\\lambda_i}$ de un operador hermítico asociados a autovalores distintos son ortogonales.\n",
    "Es decir\n",
    "<br>\n",
    "<br>\n",
    "$$\n",
    "\\lambda_i\\neq \\lambda_j ~~~\\Longleftrightarrow ~~~\\braket{\\lambda_i}{\\lambda_j} = 0\\, .\n",
    "$$\n",
    "</p>\n",
    "\n",
    "<details>\n",
    "<summary>\n",
    "<p style=\"text-align:right\"> >> Prueba:</p>\n",
    "</summary>\n",
    "<br>\n",
    "1. Tomemos un autovector normalizado de $A$, $\\ket{\\lambda}$ de autovalor $\\lambda$.\n",
    "<br>\n",
    "<br>\n",
    "$$\n",
    "\\lambda = \\bra{\\lambda}A\\ket{\\lambda} =  (\\bra{\\lambda}A^\\dagger\\ket{\\lambda})^* = (\\bra{\\lambda}A\\ket{\\lambda})^*= \\lambda^* .~~~\n",
    "$$   \n",
    "<br>    \n",
    "2. De hecho esta propiedad es cierta para operadores $N$, normales. Los operadores Hermíticos son normales.\n",
    "De la ecuación de autovalores $N\\ket{\\lambda_j} =  \\lambda_j \\ket{\\lambda_j}$, y de $NN^\\dagger = N^\\dagger N$, se sigue que\n",
    "<br>\n",
    "$$\n",
    "\\bra{\\lambda_j}(N^\\dagger - \\lambda_j^*)(N - \\lambda_j) \\ket{\\lambda_j} = \\bra{\\lambda_j}(N - \\lambda_j)(N^\\dagger - \\lambda_j^*) \\ket{\\lambda_j}  = 0\\,\n",
    "$$\n",
    "<br>\n",
    "de donde obtenemos $(N^\\dagger - \\lambda_j^*) \\ket{\\lambda_j} = 0 \\Rightarrow \\bra{\\lambda_j} N = \\bra{\\lambda_j}\\lambda_j$. Entonces\n",
    "<br>\n",
    "$$\n",
    "\\bra{\\lambda_j}N\\ket{\\lambda_i} = \\lambda_j \\braket{\\lambda_j}{\\lambda_i} = \\lambda_i \\braket{\\lambda_j}{\\lambda_i} \\, ,\n",
    "$$\n",
    "de donde se sigue que, para $\\lambda_i \\neq \\lambda_j \\Rightarrow \\braket{\\lambda_i}{\\lambda_j} = 0$. \n",
    "}\n",
    "</details>\n",
    "</div>\n"
   ]
  },
  {
   "cell_type": "markdown",
   "metadata": {
    "slideshow": {
     "slide_type": "fragment"
    }
   },
   "source": [
    " *Base ortonormal*: el conjunto de autovectores $\\ket{\\lambda_i}$ de un operador hermítico forma una base ortogonal. Puede normalizarse para formar una base ortonormal\n",
    "<br>\n",
    "<br>\n",
    "$$\n",
    "\\braket{\\lambda_i}{\\lambda_j} = \\delta_{ij}\n",
    "$$"
   ]
  },
  {
   "cell_type": "markdown",
   "metadata": {
    "slideshow": {
     "slide_type": "fragment"
    }
   },
   "source": [
    "## Espectro de operadores Unitarios\n",
    "\n",
    "<div class=\"alert alert-block alert-info\",text-align:center>\n",
    " <p style=\"text-align: left ;color: navy;\">  \n",
    "Los autovalores de un operador unitario son fases puras\n",
    "<br><br>\n",
    "$$\n",
    "U^\\dagger = U^{-1} ~~~\\Longleftrightarrow ~~~\\lambda_i = e^{i\\phi_i}\n",
    "$$ \n",
    "\n",
    "<details>\n",
    "<summary><p style=\"color:grey;text-align:right\"> >> Prueba </p></summary>\n",
    "es evidente puesto que sólo estos números complejos verifican que el complejo conjugado y el inverso coinciden $\\lambda^* = \\lambda^{-1} \\Leftrightarrow \\lambda = e^{i\\phi}$.    \n",
    "</details>\n",
    "\n",
    "</div>"
   ]
  },
  {
   "cell_type": "markdown",
   "metadata": {
    "slideshow": {
     "slide_type": "slide"
    }
   },
   "source": [
    "## Operadores conmutantes\n",
    "\n",
    "Supongamos que $A$ y $B$ conmutan. Entonces la acción de $A$ *estabiliza* los subespacios propios de $B$. \n",
    "\n",
    "Es decir, que si $\\ket{\\lambda}$ es autoestado de $B$, entonces $B\\ket{\\lambda} = \\ket{\\mu}$ también es autoestado con el mismo autovalor. Se comprueba fácilmente\n",
    "<br>\n",
    "<br>\n",
    "$$\n",
    "A(B\\ket{\\lambda} ) = B(A\\ket{\\lambda}) = B(\\lambda\\ket{\\lambda}) = \\lambda (B\\ket{\\lambda})\n",
    "$$\n",
    "<br>\n",
    "Si $\\lambda$ es degenerado esto sólo asegura que $B\\ket{\\lambda} = \\ket{\\lambda'}$ pertenece al subespacio propio del mismo autovalor $\\lambda$. \n",
    "\n",
    "Esto quiere decir que, dento de cada subespacio propio de $B$, podemos escoger la base que queramos. En particular podemos escoger una base que diagonalice $A$ dentro de dicho subespacio."
   ]
  },
  {
   "cell_type": "markdown",
   "metadata": {
    "slideshow": {
     "slide_type": "slide"
    }
   },
   "source": [
    " Llegamos de esta manera a un resultado importantísimo\n",
    " \n",
    " <div class=\"alert alert-block alert-info\",text-align:center>\n",
    " <p style=\"text-align: left ;color: navy;\">  \n",
    "<b> Teorema </b>\n",
    "<br>     \n",
    "Dados dos operadores $A$ y $B$ que conmuten, existe una base $\\{\\ket{\\lambda_i}\\}$ de autovalores simultáneos de ambos operadors, es decir \n",
    "<br>\n",
    "<br>\n",
    "$$\n",
    "A = \\lambda_i^A\\ket{\\lambda_i}\\bra{\\lambda_i} ~~~~,~~~~~ B= \\lambda_i^B\\ket{\\lambda_i}\\bra{\\lambda_i} \n",
    "$$\n",
    "</div>\n",
    "\n",
    "En otras palabras, dos operdores que conmutan, son diagonalizables simultáneamente"
   ]
  },
  {
   "cell_type": "markdown",
   "metadata": {},
   "source": [
    "<a id='funcope'></a>\n",
    "<table width=\"100%\">\n",
    "    <td style=\"font-size:25px;font-family:Helvetica;text-align:left;background-color:rgba(12, 43, 337, 0.3);\">\n",
    "<b>Funciones de Operadores</b>\n",
    "</table>   \n"
   ]
  },
  {
   "cell_type": "markdown",
   "metadata": {
    "slideshow": {
     "slide_type": "slide"
    }
   },
   "source": [
    "## Funciones analíticas\n",
    "\n",
    "Estamos acostumbrados a escribir funciones *de una variable real o compleja*. Por ejemplo $x\\to f(x)= x^2$, o $z\\to f(z) = e^z$. \n",
    "\n",
    "Querríamos dar sentido a una función *de un operador* \n",
    "$\n",
    "A \\to f(A)\n",
    "$"
   ]
  },
  {
   "cell_type": "markdown",
   "metadata": {
    "slideshow": {
     "slide_type": "fragment"
    }
   },
   "source": [
    "En el caso de que $f(z)$ sea una función analítica expresable como una serie de Taylor en torno a $x=0$ \n",
    "\n",
    "$$\n",
    "f(z) = \\sum_{n=0}^\\infty \\frac{1}{n!} f^{(n)}(0)\\,  z^n\n",
    "$$\n",
    "\n",
    "tomaremos como **definición** la *misma serie* cambiando el argumento $x\\to A$\n",
    "\n",
    "$$\n",
    "f(A) = \\sum_{n=0}^\\infty \\frac{1}{n!} f^{(n)}(0)\\,  A^n\n",
    "$$\n",
    "\n"
   ]
  },
  {
   "cell_type": "markdown",
   "metadata": {
    "slideshow": {
     "slide_type": "fragment"
    }
   },
   "source": [
    "<div class=\"alert alert-block alert-danger\">\n",
    "    <b>Notar:</b> \n",
    "<br>\n",
    "1. De la misma forma que, para funciones analíticas $f(z)^* = f(z^*)$, también la definición anterior asegura que \n",
    "$f(A)^\\dagger = f(A^\\dagger)$\n",
    "    \n",
    "</div>"
   ]
  },
  {
   "cell_type": "markdown",
   "metadata": {},
   "source": [
    "## Funciones generales"
   ]
  },
  {
   "cell_type": "markdown",
   "metadata": {},
   "source": [
    "No siempre $f(z)$ admite una expansión en serie de Taylor. Por ejemplo $f(z) = \\exp(1/z)$ en torno a $z=0$ no es analítica.\n",
    "\n",
    "En estos casos, el operador $f(A)$ existe, pero para construirlo es necesario recurrir a la forma diagonalizada. \n",
    "\n",
    "<div class=\"alert alert-block alert-info\",text-align:center>\n",
    " <p style=\"text-align: left ;color: navy;\">  \n",
    "<b> Teorema: </b> \n",
    "<br>\n",
    "Sea $A$ un operador diagonalizable, y sea $A= \\sum_i \\lambda_i \\ket{\\lambda_i}\\bra{\\lambda_i}$ su representación espectral. Entonces el operador $f(A)$ tiene la representación espectral siguiente\n",
    "$$\n",
    "f(A) = \\sum_i f(\\lambda_i) \\ket{\\lambda_i}\\bra{\\lambda_i}\n",
    "$$\n",
    "<br>\n"
   ]
  },
  {
   "cell_type": "markdown",
   "metadata": {
    "slideshow": {
     "slide_type": "slide"
    }
   },
   "source": [
    "## Exponencial de un operador\n",
    "\n",
    "la exponencial de un operador será\n",
    "$$\n",
    "\\exp(A) = I + A + \\frac{1}{2} A^2 + \\frac{1}{3!} A^3 + ...\n",
    "$$\n"
   ]
  },
  {
   "cell_type": "markdown",
   "metadata": {
    "slideshow": {
     "slide_type": "slide"
    }
   },
   "source": [
    "<a id='paulis'></a>\n",
    "<table width=\"100%\">\n",
    "    <td style=\"font-size:25px;font-family:Helvetica;text-align:left;background-color:rgba(12, 43, 337, 0.3);\">\n",
    "<b>Matrices de Pauli</b>\n",
    "</table>   \n"
   ]
  },
  {
   "cell_type": "markdown",
   "metadata": {
    "slideshow": {
     "slide_type": "slide"
    }
   },
   "source": [
    "<div class=\"alert alert-block alert-info\",text-align:center>\n",
    " <p style=\"text-align: left ;color: navy;\">  \n",
    "<b> Definición: </b>  $~$ se definen las matrices de Pauli \n",
    "<br>\n",
    "<br>\n",
    "$$\n",
    "\\sigma_x = \\begin{bmatrix} 0 & 1 \\\\ 1 & 0 \\end{bmatrix}~~~~~,~~~~~~~~~\n",
    "\\sigma_y = \\begin{bmatrix} 0 & -i \\\\ i & 0 \\end{bmatrix}~~~~~,~~~~~~~~~\n",
    "\\sigma_z = \\begin{bmatrix} 1 & 0 \\\\ 0 & -1 \\end{bmatrix} \\, .\n",
    "$$\n",
    "</div>\n"
   ]
  },
  {
   "cell_type": "markdown",
   "metadata": {
    "slideshow": {
     "slide_type": "fragment"
    }
   },
   "source": [
    "- También se usan los subíndices enteros $\\sigma_1=\\sigma_x, ~\n",
    "\\sigma_2=\\sigma_y$  y  $\\sigma_3=\\sigma_z$. \n",
    "<br>\n",
    "<br>\n",
    "- Las matrices de Pauli son hermíticas y unitarias \n",
    "\n"
   ]
  },
  {
   "cell_type": "markdown",
   "metadata": {
    "slideshow": {
     "slide_type": "fragment"
    }
   },
   "source": [
    "<div class=\"alert alert-block alert-success\">\n",
    "    <b> Ejercicio: </b> <br>encuentra los autovalores y autovectores de las tres matrices de Pauli, $\\sigma_x, \\sigma_y $ y $\\sigma_z$.    \n",
    "</div>"
   ]
  },
  {
   "cell_type": "markdown",
   "metadata": {
    "slideshow": {
     "slide_type": "slide"
    }
   },
   "source": [
    "## Composición de matrices de Pauli\n",
    "\n",
    "La composición de dos matrices de Pauli es otra matriz de Pauli cumple la siguiente identidad\n",
    "\n",
    "$$\n",
    "\\sigma_i \\sigma_j = \\delta_{ij} + i\\epsilon_{ijk} \\sigma_j \\sigma_k\n",
    "$$"
   ]
  },
  {
   "cell_type": "code",
   "execution_count": 89,
   "metadata": {},
   "outputs": [
    {
     "name": "stdout",
     "output_type": "stream",
     "text": [
      "[[ True  True]\n",
      " [ True  True]]\n",
      "[[ True  True]\n",
      " [ True  True]]\n",
      "[[ True  True]\n",
      " [ True  True]]\n"
     ]
    }
   ],
   "source": [
    "import numpy as np\n",
    "s0 = np.matrix([[1,0],[0,1]])\n",
    "s1 = np.matrix([[0,1],[1,0]])\n",
    "s2 = np.matrix([[0,-1j],[1j,0]])\n",
    "s3 = np.matrix([[1,0],[0,-1]])\n",
    "\n",
    "'verifica todas las opciones'\n",
    "print(s1*s1==s0)\n",
    "print(s1*s2==1j*s3)\n",
    "print(s2*s1==-1j*s3)"
   ]
  },
  {
   "cell_type": "markdown",
   "metadata": {},
   "source": [
    "De la relación de composición se derivan las siguientes relaciones de (anti) conmutación\n",
    "\n",
    "$$\n",
    "\\{\\sigma_i,\\sigma_j \\} = 2\\delta_{ij}~~~~~~~,~~~~~~~\n",
    "~~~[\\sigma_i,\\sigma_j] = 2i\\epsilon_{ijk}\\sigma_k\n",
    "$$\n"
   ]
  },
  {
   "cell_type": "markdown",
   "metadata": {},
   "source": [
    "Las matrices de Pauli tienen traza nula\n",
    "$$\n",
    "{\\rm tr} \\, \\sigma_i = 0\n",
    "$$\n",
    "\n",
    "Tomando la traza de la relación de composición obtenemos que las matrices de Pauli son ortogonales en el sentido siguiente\n",
    "\n",
    "$$\n",
    "{\\rm tr}(\\sigma_i\\sigma_j) = 2\\delta_{ij}\n",
    "$$\n"
   ]
  },
  {
   "cell_type": "markdown",
   "metadata": {
    "slideshow": {
     "slide_type": "slide"
    }
   },
   "source": [
    "Deberías haber demostrado que las matrices hermíticas y las unitarias de dimensión 2$\\times$2 tienen cuatro grados de libertad. \n",
    "\n",
    "Si añadimos la matriz identidad $~I = \\begin{bmatrix} 1 & 0 \\\\ 0 & 1 \\end{bmatrix}~\n",
    "$  el conjunto $\\{I,\\sigma_x,\\sigma_y,\\sigma_z\\}$ forma una *base* para el espacio de matrices hermíticas $2\\times 2$.  \n",
    "\n",
    "$$\n",
    "A = a_0 I + a_1 \\sigma_1 + a_2 \\sigma_2 + a_3 \\sigma_3 = \n",
    "\\begin{bmatrix}\n",
    "a_0 + a_3 & a_1 - i a_2 \\\\ a_1 + i a_2 & a_0 - a_3\n",
    "\\end{bmatrix}\n",
    "$$\n",
    "con $a_i\\in {\\mathbb R}$ cuatro números reales."
   ]
  },
  {
   "cell_type": "markdown",
   "metadata": {
    "slideshow": {
     "slide_type": "fragment"
    }
   },
   "source": [
    "Recordar que la fórmula de Euler permite escribir, para una fase compleja $ e^{i\\alpha} = \\cos\\alpha + i \\sin\\alpha $.\n",
    "\n",
    "Ahora estamos en disposición de probar la generalización a matrices de Pauli.  Sea ${\\bf a} = (a_1,a_2,a_3) = a\\, \\hat{\\bf n}$ donde $a=|{\\bf a}|$ es el módulo"
   ]
  },
  {
   "cell_type": "markdown",
   "metadata": {
    "slideshow": {
     "slide_type": "fragment"
    }
   },
   "source": [
    "<div class=\"alert alert-block alert-info\",text-align:center>\n",
    "<p style=\"text-align: left ;color: navy;\">  \n",
    "<b> Teorema: </b>  $~$ \n",
    "$$\n",
    "\\exp \\left( \\rule{0mm}{4mm} i  {\\bf a} \\cdot \\boldsymbol{\\sigma}  \\right) = \\cos a \\, I + i \\sin a \\,(\\hat{\\bf n} \\cdot  \\boldsymbol{\\sigma}) \\, \n",
    "$$\n",
    "</div>"
   ]
  },
  {
   "cell_type": "code",
   "execution_count": 122,
   "metadata": {},
   "outputs": [
    {
     "name": "stdout",
     "output_type": "stream",
     "text": [
      "[[-0.+0.j  0.-0.j]\n",
      " [ 0.-0.j -0.+0.j]]\n"
     ]
    }
   ],
   "source": [
    "'verifiquemos numéricamente esta identidad'\n",
    "from scipy.linalg import expm\n",
    "\n",
    "avec = np.array([0.1,1.2,-0.5])\n",
    "anorm = np.sqrt(np.inner(avec,avec))\n",
    "nvec = avec/anorm\n",
    "svec = np.array([s1,s2,s3])\n",
    "\n",
    "adots= sum(list(avec[i]*svec[i] for i in range(3)))\n",
    "e1 = expm(1j*adots)\n",
    "\n",
    "ndots= sum(list(nvec[i]*svec[i] for i in range(3)))\n",
    "e2 = np.cos(anorm)*s0 + 1j*np.sin(anorm)*(nvec[0]*svec[0]+nvec[1]*svec[1]+nvec[2]*svec[2])\n",
    "\n",
    "'verificamos'\n",
    "print(np.round(e1-e2,10))"
   ]
  }
 ],
 "metadata": {
  "kernelspec": {
   "display_name": "Python 3",
   "language": "python",
   "name": "python3"
  },
  "language_info": {
   "codemirror_mode": {
    "name": "ipython",
    "version": 3
   },
   "file_extension": ".py",
   "mimetype": "text/x-python",
   "name": "python",
   "nbconvert_exporter": "python",
   "pygments_lexer": "ipython3",
   "version": "3.7.10"
  },
  "varInspector": {
   "cols": {
    "lenName": 16,
    "lenType": 16,
    "lenVar": 40
   },
   "kernels_config": {
    "python": {
     "delete_cmd_postfix": "",
     "delete_cmd_prefix": "del ",
     "library": "var_list.py",
     "varRefreshCmd": "print(var_dic_list())"
    },
    "r": {
     "delete_cmd_postfix": ") ",
     "delete_cmd_prefix": "rm(",
     "library": "var_list.r",
     "varRefreshCmd": "cat(var_dic_list()) "
    }
   },
   "types_to_exclude": [
    "module",
    "function",
    "builtin_function_or_method",
    "instance",
    "_Feature"
   ],
   "window_display": false
  }
 },
 "nbformat": 4,
 "nbformat_minor": 4
}
