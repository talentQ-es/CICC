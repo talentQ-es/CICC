{
 "cells": [
  {
   "cell_type": "markdown",
   "metadata": {
    "slideshow": {
     "slide_type": "slide"
    }
   },
   "source": [
    "> {sub-ref}`today` | {sub-ref}`wordcount-minutes` min read\n",
    "\n",
    "::::{figure} ../figuras/logos/Logo_TalentQ_Azul.png\n",
    ":width: 150px\n",
    ":align: right\n",
    "::::\n",
    "\n",
    "\n",
    "\n",
    "# Transformada de Fourier cuántica \n",
    "\n",
    "\n",
    "\n",
    "\n",
    "$ \\newcommand{\\bra}[1]{\\langle #1|} $\n",
    "$ \\newcommand{\\ket}[1]{|#1\\rangle} $\n",
    "$ \\newcommand{\\braket}[2]{\\langle #1|#2\\rangle} $\n",
    "$ \\newcommand{\\i}{{\\color{blue} i}} $ \n",
    "$ \\newcommand{\\Hil}{{\\cal H}} $\n",
    "$ \\newcommand{\\cg}[1]{{\\rm C}#1} $\n",
    "$ \\newcommand{\\Lin}{{\\hbox{Lin}}} $\n",
    "\n"
   ]
  },
  {
   "cell_type": "code",
   "execution_count": 1,
   "metadata": {
    "slideshow": {
     "slide_type": "slide"
    },
    "tags": [
     "hide-input"
    ]
   },
   "outputs": [],
   "source": [
    "%run ../macro_tQ.py\n",
    "import sys\n",
    "sys.path.append('../')\n",
    "import macro_tQ as tQ"
   ]
  },
  {
   "cell_type": "markdown",
   "metadata": {
    "slideshow": {
     "slide_type": "slide"
    }
   },
   "source": [
    "La transformada de Fourier cuántica  es la *joya de la corona* de la algoritmia cuántica porque supone una ganancia exponencial. El número de aplicaciones que tiene es muy alto. En este capítulo estudiaremos sólo una: la búsqueda de un periodo.\n",
    "\n",
    "## La Transformada de Fourier Cuántica \n",
    "\n",
    "::::::{card} \n",
    "<b>Teorema</b>:  \n",
    "\n",
    "^^^\n",
    "\n",
    "La <i>transformada de Fourier Cuántica</i> es una operación unitaria  $U_{TFC}\\in \\Lin(\\Hil)$ \n",
    "que transforma  la <i>base computacional</i> $\\{\\ket{x}\\}$  a la <i>base de Fourier</i> $\\{\\ket{\\tilde x}\\}$\n",
    "\n",
    "$$\n",
    "U_{TFC}: \\ket{x} \\to {\\ket{\\tilde x}} =   \\frac{1}{\\sqrt{N}}\\sum_{y} e^{2\\pi i  xy /N} \\ket{y} \n",
    "$$\n",
    "donde  $~~x,y,\\tilde x=0,...,N-1 = 2^n-1~~$    \n",
    "::::::\n"
   ]
  },
  {
   "cell_type": "markdown",
   "metadata": {
    "slideshow": {
     "slide_type": "slide"
    }
   },
   "source": [
    "::::::{admonition} Notar\n",
    ":class: note\n",
    "\n",
    "\n",
    "Comparar esta expresión con la de la transformada de Walsh-Hadamard\n",
    "\n",
    "$$\n",
    "W: \\ket{x} \\to \\ket{\\tilde x} =  \\frac{1}{\\sqrt{N}}\\sum_{y}(-1)^{xy}\\ket{y} =   \\frac{1}{\\sqrt{N}}\\sum_{y} e^{2\\pi i \\,   xy/2} \\ket{y} \n",
    "$$\n",
    "\n",
    "Ya hemos visto cómo la fase $(-1)^{xy}= e^{2\\pi i   xy/2}$ produce *interferencias* interesantes que concentran la probabilidad en soluciones a problemas como el de Simon \n",
    "::::::\n"
   ]
  },
  {
   "cell_type": "markdown",
   "metadata": {
    "slideshow": {
     "slide_type": "fragment"
    }
   },
   "source": [
    "La fase $ e^{2\\pi i/N}$ también sirve para producir interferencias destructivas y constructivas interesantes. Esto se debe esencialmente a la importante *fórmula de suma nula* que hemos estudiado en el tema de Números Complejos\n",
    "\n",
    "\\begin{equation}\n",
    " \\sum_{y=0}^{N} e^{2\\pi i xy/N} = N \\delta_{x, 0}  \n",
    "\\end{equation}\n",
    "\n",
    "La unitariedad de $U_{TFC}$ es equivalente a que la base de Fourier también sea ortonormal. Para demostrar esto sólo es necesaria la fórmula de suma nula\n",
    "\n",
    "\\begin{eqnarray}\n",
    "\\braket{\\tilde x'}{\\tilde x} &=& \\left(\\bra{y'}\\frac{1}{\\sqrt{N}}\\sum_{y'} e^{-2\\pi i  x'y' /N}\\right)\n",
    "\\left( \\frac{1}{\\sqrt{N}}\\sum_{y} e^{2\\pi i  xy /N} \\ket{y} \\right) \\nonumber \\\\ \\rule{0mm}{12mm}\n",
    "&=& \\frac{1}{N} \\sum_{y'y} e^{-2\\pi i  x'y' /N} e^{2\\pi i  xy /N} \\braket{y'}{y}\\nonumber\\\\ \\rule{0mm}{12mm}\n",
    "&=&  \\frac{1}{N} \\sum_{y} e^{2\\pi i  (x-x')y /N} = \\delta_{x',x}\n",
    "\\end{eqnarray}\n",
    "\n",
    "Este resultado equivale a probar que $U_{TFC}$ es un operador unitario. Esto quiere decir que\n",
    "el operador inverso se obtiene invirtiendo los signos de las fases \n",
    "\n",
    "$$\n",
    "U^{-1}_{TFC}\\ket{x} = U^{\\dagger}_{TFC}\\ket{x}   =  \\frac{1}{\\sqrt{N}}\\sum_{y} e^{-2\\pi i  xy /N} \\ket{y} \n",
    "$$\n",
    "\n",
    "Los elementos de matriz del operador $U_{TFC}$ son la siguientes fases\n",
    "\n",
    "$$\n",
    "\\bra{x} U_{TFC} \\ket{y} =  \\frac{1}{\\sqrt{N}} e^{2\\pi i  x y/N} \\, . \n",
    "$$\n",
    "\n",
    "Como consecuencia de la formula de *suma nula*, la  suma de cualquier fila o columna de esta matriz es nula, excepto para la primera fila o columna.\n",
    "\n"
   ]
  },
  {
   "cell_type": "markdown",
   "metadata": {
    "slideshow": {
     "slide_type": "skip"
    }
   },
   "source": [
    "::::::{admonition} Notar (TFC y TFD) \n",
    ":class: note\n",
    "\n",
    "\n",
    "Actuando con $U_{TFC}$ sobre un vector $\\ket{f} = \\sum_x f(x)\\ket{x}$ de componentes $f(x)$ en la base $\\ket{x}$ obtendremos otro vector\n",
    "\n",
    "\\begin{eqnarray}\n",
    "\\ket{\\tilde f} = U_{TCF}\\ket{f} &=& \\sum_x f(x) U_{TCF}\\ket{x} ~=~\\sum_x f(x) \\frac{1}{\\sqrt{N}}\\sum_y e^{2\\pi i xy} \\ket{y} \n",
    "\\\\ \\rule{0mm}{12mm}\n",
    "&=&    \\sum_y\\left( \\frac{1}{\\sqrt{N}}\\sum_x f(x) e^{2\\pi i xy}\\right) \\ket{y} ~=~  \\sum_y \\tilde f(y) \\ket{y}\n",
    "\\end{eqnarray}\n",
    "\n",
    "donde las nuevas componentes $\\tilde f(x)$ ahora son\n",
    "\n",
    "$$\n",
    "\\boxed{\\tilde f(y) = \\frac{1}{\\sqrt{N}}\\sum_{x=0}^{N-1} e^{2\\pi i yx} f(x)}\n",
    "$$\n",
    "\n",
    "Esta ecuación define lo que  se conoce como la *Transformada de Fourier Discreta* (TFD) entre dos conjuntos de datos \n",
    "   \n",
    "$$\n",
    "\\{f(0),f(1),...,f(N-1)\\}~ \\stackrel{\\hbox{TFD}}{\\longleftrightarrow}~ \\{\\tilde f(0),\\tilde f(1),...,\\tilde f(N-1)\\}\n",
    "$$\n",
    "\n",
    "\n",
    "\n",
    "Por ejemplo, la TFD discreta de una función *delta* $f(x) = \\delta_{x,x_0}$ es la función *onda plana*\n",
    "$\\tilde f(y) = e^{2\\pi i yx_0}$ y vicerversa. \n",
    "::::::\n"
   ]
  },
  {
   "cell_type": "markdown",
   "metadata": {
    "slideshow": {
     "slide_type": "slide"
    }
   },
   "source": [
    "::::::{admonition} Ejemplo\n",
    ":class: tip\n",
    "\n",
    " \n",
    "$\\bullet$ Para $n=1 \\to \\omega = e^{2\\pi i /2^1} = -1$ y   la TFC no es otra que la puerta de Hadamard\n",
    "\n",
    "\n",
    "$$\n",
    "U_{TFC} = \\frac{1}{\\sqrt{2}}\\begin{bmatrix} 1 & 1 \\\\ 1 & -1 \\end{bmatrix} = H\n",
    "$$\n",
    "Su acción es \n",
    "\n",
    "$$\n",
    "U_{TFC}\\ket{0} = \\ket{+}~~~~~~~~~,~~~~~~~~~~  U_{TFC}\\ket{1} = \\ket{-}\n",
    "$$\n",
    "\n",
    "Observamos que los vectores imagen están situados en el plano ecuatorial de la esfera de Bloch\n",
    "\n",
    "$\\bullet$ Para $n=2 \\to  \\omega = e^{2\\pi i/2^2} = i$ y entonces\n",
    "\n",
    "$$\n",
    "U_{TFC} =\\frac{1}{2}\n",
    "\\begin{bmatrix} 1 & 1 & 1 & 1 \\\\ 1 & -i & -1 & i \\\\ 1 & - 1 & 1 & - 1 \\\\ 1 & i & -1 & -i  \\end{bmatrix}\n",
    "$$ \n",
    "\n",
    "Se comprueba que la suma de cualquier columna o fila que no sean las primeras da cero\n",
    "    \n",
    "::::::\n"
   ]
  },
  {
   "cell_type": "markdown",
   "metadata": {},
   "source": [
    "Es relativamente fácil visualizar los estados de la base computacional $\\ket{x} = \\ket{x_{n-1}...x_0}$ porque son factorizables. Sobre un conjunto de esferas de Bloch son vectores verticales que apuntan hacia arríba $\\ket{0}$ o hacia abajo $\\ket{1}$.\n",
    "\n",
    "Los vectores de la base de Fourier, $\\ket{\\tilde x} = \\ket{\\tilde x_{n-1}...\\tilde x_0}$ son también fáciles de visualizar. Vamos a ver esto  "
   ]
  },
  {
   "cell_type": "markdown",
   "metadata": {
    "slideshow": {
     "slide_type": "slide"
    }
   },
   "source": [
    "::::::{card} \n",
    "<b>Teorema</b>:  \n",
    "\n",
    "^^^\n",
    "   \n",
    "En $\\Hil^{\\otimes n}$, los vectores de la <i>base de Fourier</i> son el productos de $n$ estados de un cúbit que se sitúan sobre <i> el ecuador</i> de la esfera de Bloch\n",
    "::::::\n"
   ]
  },
  {
   "cell_type": "markdown",
   "metadata": {},
   "source": [
    "Vamos a estudiar paso a paso la acción de $U_{\\rm TFC}$ sobre un elemento $\\ket{x} = \\ket{x_{n-1}... x_0}$\n",
    "de la base computacional \n",
    "\n",
    "\n",
    "\\begin{eqnarray}\n",
    " \\ket{\\tilde x}  ~\\equiv ~  U_{\\rm TFC}\\ket{x}  &=&  \\frac{1}{\\sqrt{N}} \\sum_{y=0}^{2^n-1} e^{2\\pi i  xy/2^n}\\ket{y}  \n",
    "\\nonumber\\\\ \\rule{0mm}{14mm}\n",
    "&=&  \\frac{1}{\\sqrt{N}} \\sum_{y_1,...,y_n=\\{0,1\\}} e^{ 2\\pi i x \\left( y_{n-1}2^{n-1} + y_{n-2}2^{n-2}  + ... + y_0\\right)/2^n } \\ket{y_{n-1}}\\ket{y_{n-2}}\\ldots \\ket{ y_0}\n",
    "\\nonumber\\\\ \\rule{0mm}{14mm} \n",
    "&=&  \\frac{1}{\\sqrt{N}} \\sum_{y_1,...,y_n=\\{0,1\\}} e^{2\\pi i x \\left(\\frac{y_{n-1}}{2} + \\frac{y_{n-2}}{2^2}  + ... + \\frac{y_0}{2^n}\\right) } \\ket{y_{n-1}}\\ket{y_{n-2}}\\ldots \\ket{ y_0}\n",
    "\\nonumber\\\\ \\rule{0mm}{14mm} \n",
    "&=&  \\frac{1}{\\sqrt{2}} \\left( \\ket{0} + e^{2\\pi i \\frac{x}{2}}\\ket{1}\\right) \\frac{1}{\\sqrt{2}}\\left( \\ket{0} + e^{2\\pi i \\frac{x}{2^2}}\\ket{1}\\right)...\\frac{1}{\\sqrt{2}}\\left( \\ket{0} + e^{2\\pi i \\frac{x}{2^n}}\\ket{1}\\right)\n",
    "\\nonumber\\\\ \n",
    "\\rule{0mm}{14mm}\n",
    "&\\equiv & ~~ \\ket{\\tilde x_{n-1}}\\ket{\\tilde x_{n-2}}\\cdots \\ket{\\tilde x_{0}}   \n",
    "\\end{eqnarray}\n",
    "\n"
   ]
  },
  {
   "cell_type": "markdown",
   "metadata": {
    "slideshow": {
     "slide_type": "fragment"
    }
   },
   "source": [
    "\n",
    "La última expresión es tan útil e importante que casi podríamos tomarla como definición de la Transformada de Fourier Cuántica. \n",
    "    \n",
    "-  tal y como prometimos, el resultado es un estado factorizado   $\\ket{\\tilde x} = \\ket{\\tilde x_{n-1}}\\ket{\\tilde x_{n-2}}\\cdots \\ket{\\tilde x_{0}} $ \n",
    "    \n",
    "-  cada de un cúbit $\\ket{\\tilde x_k}$  <i>vive</i> en el ecuador de la esfera de Bloch, con una fase $\\phi = 2\\pi x/2^{n-k}$\n"
   ]
  },
  {
   "cell_type": "markdown",
   "metadata": {
    "slideshow": {
     "slide_type": "slide"
    }
   },
   "source": [
    "### Circuito asociado a una TFC"
   ]
  },
  {
   "cell_type": "markdown",
   "metadata": {
    "slideshow": {
     "slide_type": "fragment"
    }
   },
   "source": [
    "El objetivo ahora es diseñar un circuito que realice la TFC sobre todo los estados de la base. Por linealidad, lo hará sobre cualquier estado. Estudiemos ahora el siguiente circuito\n",
    "\n",
    "::::{figure} figuras/QFT2.png\n",
    ":width: 850px\n",
    ":align: left\n",
    "::::\n",
    "\n"
   ]
  },
  {
   "cell_type": "markdown",
   "metadata": {
    "slideshow": {
     "slide_type": "fragment"
    }
   },
   "source": [
    "solo involucra \n",
    "\n",
    "- la puerta de Hadamard $H$, que es la encargada de poner el cúbit eje $X$\n",
    "\n",
    "- la puerta *puerta de fase discreta* $R_k \\equiv P(\\phi = \\pi/2^{k-1})$, que rota el cúbit en el plano ecuatorial $XY$\n",
    "  \n",
    "$$\n",
    "R_{k} = \\begin{bmatrix} 1 & 0 \\\\ 0 & e^{ 2\\pi i\\frac{1 }{2^{k}}} \\end{bmatrix}  ~~~\\Leftrightarrow ~~~R_k\\ket{y} = e^{2\\pi i\\frac{y}{2^k}} \\ket{y}\n",
    "$$\n",
    "\n",
    "que aparece de forma controlada $\\cg{R_k}$. \n",
    "Será util escribir la *acción* de $\\cg R_k$ en la forma siguiente: supongamos que $\\ket{x}$ es el cúbit de control y $\\ket{y}$ el cúbit controlado\n",
    "\n",
    "$$\n",
    "\\cg{R_k}\\ket{y}\\ket{x} = R^{x}_{k}\\ket{y}\\ket{x}  =  e^{2 \\pi i   \\frac{x}{2^{k}}y}\\ket{y} \\ket{x}\n",
    " \\to  \\left\\{ \\begin{array}{l}  \\ket{0}\\ket{x} \\\\ \\rule{0mm}{10mm}  e^{2 \\pi i   \\frac{x}{2^{k}}} \\ket{1}\\ket{x} \\end{array} \\right.\n",
    "$$\n",
    "\n"
   ]
  },
  {
   "cell_type": "markdown",
   "metadata": {
    "slideshow": {
     "slide_type": "fragment"
    }
   },
   "source": [
    "Vamos a analizar la acción del primer bloque \n",
    "\n",
    "\\begin{eqnarray}\n",
    "(H\\ket{x_{n-1}})\\ket{x_{n-2}...x_0} &=&\\left( \\ket{0} + e^{2\\pi i \\left(\\frac{x_{n-1}}{2}\\right)} \\ket{1}\\right) \\ket{x_{n-2}...x_0}\n",
    "\\\\ \\rule{0mm}{12mm}\n",
    "\\left(\\rule{0mm}{3mm} R_{2}^{x_{n-2}}H\\ket{x_{n-1}}\\right) \\ket{x_{n-2}...x_0}  &=& \n",
    " \\left( \\ket{0} + e^{2\\pi i \\left(\\frac{x_{n-1}}{2} + \\frac{x_{n-2}}{2^2}\\right)} \\ket{1}\\right) \\ket{x_{n-2}...x_0} \n",
    "\\\\\n",
    "&\\vdots& \\nonumber\\\\ \\rule{0mm}{12mm}\n",
    "\\left(\\rule{0mm}{5mm}R_{{n-1}}^{x_{0}} ... R_{3} ^{x_{n-3}}  R_{2}^{x_{n-2}}H\\ket{x_{n-1}}\\right) \\ket{x_{n-2}...x_0}\n",
    "& =& \n",
    "\\left( \\ket{0} + e^{2\\pi i \\, \\left(\\frac{x_{n-1}}{2} + \\frac{x_{n-2}}{2^2}+\\ldots \\frac{x_0}{2^n}\\right)}  \\ket{1} \\right) \\ket{x_{n-2}...x_0} \\nonumber\\\\ \\rule{0mm}{10mm}\n",
    "&=& \n",
    "\\left( \\ket{0} + e^{2\\pi i \\,  \\frac{x}{2^n} }  \\ket{1} \\right) \\ket{x_{n-2}...x_0} \\nonumber\\\\ \\rule{0mm}{10mm}\n",
    "& \\equiv&  \\ket{\\tilde x_{0}} \\ket{x_{n-2}... x_1x_0} \\nonumber\n",
    "\\end{eqnarray}\n",
    "\n",
    "Observamos que el primer bloque transforma el estado $\\ket{x_{n-1}}$ en el estado *ecuatorial* $\\ket{\\tilde x_0}$.\n",
    "Si repetimos el mismo procedimiento con los bloques que actúan sobre los siguientes cúbits obtendremos finalmente\n",
    "\n",
    "$$\n",
    " \\ket{\\tilde x_{0}}\\ket{\\tilde x_{1}}  ... \\ket{\\tilde{x}_{n-2}} \\ket{\\tilde x_{n-1}}\n",
    "$$\n",
    "\n",
    "que es *casi* el estado que estábamos buscando.\n",
    "La parte final del circuito introduce los operadores de SWAP que rectifican el orden de los cúbits \n",
    "\n",
    "$$\n",
    "\\hbox{SWAP}^{\\otimes n} \\,  (\\ket{\\tilde x_{0}}  ...  \\ket{\\tilde x_{n-1}} ) ~=~ \n",
    "\\ket{\\tilde x_{n-1}} ... \\ket{\\tilde{x}_{0}} ~~ \\equiv ~~ \\ket{\\tilde x}\n",
    "$$"
   ]
  },
  {
   "cell_type": "markdown",
   "metadata": {
    "slideshow": {
     "slide_type": "slide"
    }
   },
   "source": [
    "¡A programar!\n",
    "\n",
    "Vamos a programar el circuito de TFC "
   ]
  },
  {
   "cell_type": "code",
   "execution_count": 2,
   "metadata": {
    "slideshow": {
     "slide_type": "-"
    }
   },
   "outputs": [
    {
     "name": "stderr",
     "output_type": "stream",
     "text": [
      "/opt/anaconda3/envs/TalentQ/lib/python3.11/site-packages/qiskit/visualization/circuit/matplotlib.py:266: FutureWarning: The default matplotlib drawer scheme will be changed to \"iqp\" in a following release. To silence this warning, specify the current default explicitly as style=\"clifford\", or the new default as style=\"iqp\".\n",
      "  self._style, def_font_ratio = load_style(self._style)\n"
     ]
    },
    {
     "data": {
      "image/png": "[encoded data removed]",
      "text/plain": [
       "<Figure size 1541.66x367.889 with 1 Axes>"
      ]
     },
     "execution_count": 2,
     "metadata": {},
     "output_type": "execute_result"
    }
   ],
   "source": [
    "from qiskit import QuantumCircuit, QuantumRegister, ClassicalRegister\n",
    "\n",
    "def TFC(n):\n",
    "    qc = QuantumCircuit(n)    \n",
    "\n",
    "    for j in reversed(range(n)):\n",
    "        qc.h(j)\n",
    "        for k in range(j):\n",
    "            qc.cp(np.pi/2**(j-k), k, j)\n",
    "    for j in range(n//2):\n",
    "        qc.swap(j,n-j-1)\n",
    "\n",
    "    return qc.to_gate(label='TFC')\n",
    "\n",
    "TFC(4).definition.draw('mpl')"
   ]
  },
  {
   "cell_type": "markdown",
   "metadata": {
    "slideshow": {
     "slide_type": "slide"
    }
   },
   "source": [
    "Programar el inverso es tan fácil como tomar el adjunto: invertir el orden de las puertas y conjugar las fases"
   ]
  },
  {
   "cell_type": "code",
   "execution_count": 3,
   "metadata": {
    "slideshow": {
     "slide_type": "-"
    }
   },
   "outputs": [
    {
     "data": {
      "image/png": "[encoded data removed]",
      "text/plain": [
       "<Figure size 1625.27x367.889 with 1 Axes>"
      ]
     },
     "execution_count": 3,
     "metadata": {},
     "output_type": "execute_result"
    }
   ],
   "source": [
    "def TFC_adj(n):\n",
    "    qc = QuantumCircuit(n)    \n",
    "\n",
    "    for j in reversed(range(n//2)):\n",
    "        qc.swap(j,n-j-1)            \n",
    "    for j in range(n):\n",
    "        for k in reversed(range(j)):\n",
    "            qc.cp(-2*np.pi/2**(j-k+1), k, j)\n",
    "        qc.h(j)\n",
    "\n",
    "    return qc.to_gate(label='TFC_adj')\n",
    "\n",
    "TFC_adj(4).definition.draw('mpl')"
   ]
  },
  {
   "cell_type": "markdown",
   "metadata": {
    "slideshow": {
     "slide_type": "slide"
    }
   },
   "source": [
    "Ahora podemos inicializar un estado cualquiera  y obtener el estado TFC asociado"
   ]
  },
  {
   "cell_type": "code",
   "execution_count": 4,
   "metadata": {
    "run_control": {
     "marked": true
    },
    "slideshow": {
     "slide_type": "fragment"
    }
   },
   "outputs": [
    {
     "data": {
      "image/png": "[encoded data removed]",
      "text/plain": [
       "<Figure size 717.571x451.5 with 1 Axes>"
      ]
     },
     "execution_count": 4,
     "metadata": {},
     "output_type": "execute_result"
    }
   ],
   "source": [
    "# Creamos el circuito \n",
    "nqubits=4\n",
    "qr = QuantumRegister(nqubits,name='qr')\n",
    "cr = ClassicalRegister(nqubits,name='cr')\n",
    "qc = QuantumCircuit(qr,cr,name=\"QFT\")\n",
    "\n",
    "'Inicialización'\n",
    "#qc.rx(np.pi/3,0)\n",
    "#qc.cx(0,2)\n",
    "#qc.x(3)\n",
    "qc.h(qr)\n",
    "\n",
    "qc.barrier()\n",
    "        \n",
    "'añadimos la TFC'\n",
    "qc.append(TFC(nqubits),qr[:])\n",
    "qc.measure(qr,cr)\n",
    "qc.draw(output='mpl')"
   ]
  },
  {
   "cell_type": "markdown",
   "metadata": {
    "slideshow": {
     "slide_type": "slide"
    }
   },
   "source": [
    "Ahora se puede variar el estado de entrada y observar el resultado a la salida. \n",
    "Por ejemplo la TFC del estado superposición  uniforme  $\\ket{+\\ldots+}= \\frac{1}{\\sqrt{N}}\\sum_{i} \\ket{i}$ es el estado $|0 \\ldots 0>$ y viceversa\n",
    "\n"
   ]
  },
  {
   "cell_type": "code",
   "execution_count": 5,
   "metadata": {
    "slideshow": {
     "slide_type": "-"
    }
   },
   "outputs": [
    {
     "data": {
      "image/png": "[encoded data removed]",
      "text/plain": [
       "<Figure size 700x500 with 1 Axes>"
      ]
     },
     "execution_count": 5,
     "metadata": {},
     "output_type": "execute_result"
    }
   ],
   "source": [
    "from qiskit.primitives import Sampler\n",
    "sampler = Sampler()\n",
    "from qiskit.visualization import plot_histogram, plot_bloch_multivector\n",
    "\n",
    "nshots = 1000\n",
    "dist = sampler.run(qc,shots=nshots).result().quasi_dists[0]\n",
    "counts = tQ.dist2counts(dist,nqubits,nshots)\n",
    "\n",
    "plot_histogram(counts)"
   ]
  },
  {
   "cell_type": "markdown",
   "metadata": {},
   "source": [
    "###  Ventaja exponencial\n",
    "\n",
    "Clásicamente, el algoritmo más eficiente para calcular la Transformada de Fourier Discreta (TFD) precisa de ${\\cal O}(n 2^n)$ puertas lógicas.\n",
    "    \n",
    " El número de puertas cuánticas que hemos necesitado es: $n$ puertas de Hadamard  $+ \\, n(n-1)/2$ fases controladas $\\cg{R}$. En total este un número crece como  ${\\cal O}(n^2)$. \n",
    "\n",
    "Por tanto la TFC transforma un problema de tipo  $NP$ en uno de tipo $P$\n"
   ]
  },
  {
   "cell_type": "markdown",
   "metadata": {
    "slideshow": {
     "slide_type": "slide"
    }
   },
   "source": [
    "::::::{admonition} Nota\n",
    ":class: note\n",
    "\n",
    "\n",
    "La TFC no es una TFD: del estado final no podemos deducir las fases  que constituyen las componentes transformadas. \n",
    "Esto es lo usual en computación cuántica: tenemos el estado, pero no podemos interrogarlo \n",
    "\n",
    "\n",
    "Ya sabemos lo que hay que hacer. El punto estará en <b>buscar problemas</b> en los que la TFC sea un ingrediente interno del cálculo que aporte una ventaja exponencial. Vamos a ver un caso paradigmático \n",
    "::::::\n"
   ]
  },
  {
   "cell_type": "markdown",
   "metadata": {
    "slideshow": {
     "slide_type": "slide"
    }
   },
   "source": [
    "## Búsqueda de un período"
   ]
  },
  {
   "cell_type": "markdown",
   "metadata": {
    "slideshow": {
     "slide_type": "slide"
    }
   },
   "source": [
    "Una aplicación directa de la transformada de Fourier cuántica tiene que ver con funciones $f: S_n \\to S_{m}$ y periódicas\n"
   ]
  },
  {
   "cell_type": "markdown",
   "metadata": {
    "slideshow": {
     "slide_type": "fragment"
    }
   },
   "source": [
    "**Promesa:** $f: S_n \\to S_{m}$ es suprayectiva con un sólo período $f(x+P) = f(x)$. \n",
    "\n",
    "**Problema**:  encontrar $P$ con un numero mínimo de consultas al oráculo.\n",
    "\n",
    "\n",
    "-  Para realizar los cálculos exactos supondremos que $~P~$ divide  a $N=2^n$. **Existe** por tanto un entero $L$  tal que  $ LP = N$.\n",
    "\n",
    "-  El requisito de divisibilidad se puede relajar, es decir, basta con que  $N-L < LP  \\leq N = 2^n $. Esta posibilidad sólo la analizaremos numéricamente.\n",
    "\n",
    "\n",
    "::::::{admonition} Nota\n",
    ":class: note\n",
    "\n",
    "\n",
    "Notar la diferencia con el algoritmo de Simon, donde la funcion $f:S_n\\to S_n$ es bivaluada en el sentido de que $f(x) = f(x\\oplus s)$ donde la suma se entiende bit a bit, módulo 2. Aquí $x+P$ es una suma numérica (en cualquier base) de los números $x$ y $P$. \n",
    "\n",
    "    \n",
    "Clásicamente necesitaríamos evaluar $f$ un número exponencial de veces $\\sim N/2 = 2^n/2$ para discernir entre las dos ultimas posibilidades $P=N/2$ de $P=N$.\n",
    "::::::\n",
    "\n"
   ]
  },
  {
   "cell_type": "markdown",
   "metadata": {
    "slideshow": {
     "slide_type": "fragment"
    }
   },
   "source": [
    "\n",
    "\n",
    "::::{figure} ./figuras/Period_finding.png\n",
    ":width: 800px\n",
    ":align: center\n",
    "::::\n",
    "\n"
   ]
  },
  {
   "cell_type": "markdown",
   "metadata": {
    "slideshow": {
     "slide_type": "fragment"
    }
   },
   "source": [
    "Comencemos analizando el algoritmos como si se tratase del problema de Simon\n",
    "\n",
    "\\begin{eqnarray*}\n",
    "\\ket{0}_n  \\ket{0}_m ~\\to ~U_f (W_n\\otimes I) \\ket{0}_n  \\ket{0}_m  \n",
    "&=& \\rule{0mm}{8mm}U_f   \\frac{1}{\\sqrt{N}}\\sum_{x=0}^{N-1} \\ket{x}_n\\ket{0}_m \\nonumber\\\\ \\rule{0mm}{15mm}\n",
    "&=&   \\rule{0mm}{7mm} \\frac{1}{\\sqrt{N}}\\sum_{x=0}^{N-1} \\ket{x}_n\\ket{f(x)}_m \\rule{0mm}{15mm}\n",
    "\\end{eqnarray*}\n"
   ]
  },
  {
   "cell_type": "markdown",
   "metadata": {
    "slideshow": {
     "slide_type": "fragment"
    }
   },
   "source": [
    "Veamos el caso $N/P\\in {\\mathbb Z}$, es decir, $P$ divide a $N$ en un número  entero  de tramos $L=N/P$.\n",
    "\n",
    "Rescribamos el entero $x\\in S_n$ en la forma siguiente: $~ x = lP +p~ = 0,\\ldots, N-1$, donde $~p=0,\\ldots,P-1~$ y $~l=0,\\ldots,L-1~$. El estado se representará en la forma\n",
    "\n",
    "\n",
    "\\begin{eqnarray*}\n",
    " \\rule{0mm}{7mm} \\frac{1}{\\sqrt{N}}  \\sum_{p=0}^{P-1}\\sum_{l=0}^{L-1}\\ket{lP + p}\\ket{f(lP+p)} = \\rule{0mm}{7mm}  \\frac{1}{\\sqrt{N}} \\sum_{p=0}^{P-1}\\left(\\sum_{l=0}^{L-1}\\ket{lP + p}\\right)\\ket{f(p)} \n",
    "\\end{eqnarray*}\n",
    "\n",
    "\n",
    "\n",
    "donde la última igualdad se sigue aplicando la condición de periodicidad de $f$. \n",
    "\n",
    "Debido a esta propiedad, \n",
    "si una evaluación del segundo registro da como resultado $\\ket{f(p_0)}$, el estado al que colapse el primer\n",
    "registro es  una superposición normalizada \n",
    "\n",
    "$$\n",
    "\\ket{\\Psi} = \\frac{1}{\\sqrt{L}}  \\sum_{l=0}^{L-1}\\ket{ lP + p_0}\\, .\n",
    "$$"
   ]
  },
  {
   "cell_type": "markdown",
   "metadata": {
    "slideshow": {
     "slide_type": "slide"
    }
   },
   "source": [
    "En este punto, en el algoritmo de Simon, volveríamos a aplicar la puerta $W_n$ para conseguir una interferencia constructiva. En este caso, al tratarse de una periodicidad numérica, no bit a bit, efectuaremos sobre el estado  una transformación de Fourier cuántica, usando que $N/P = M$\n",
    "\n",
    "\\begin{eqnarray}\n",
    "\\ket{\\Psi'} = U_{\\rm TFC} \\ket{\\Psi} &=& \\frac{1}{\\sqrt{N M}} \\sum_{y=0}^{N-1}   \\sum_{l=0}^{L-1}e^{+2\\pi i (p_0 + lP)y/N}\\ket{y} \\nonumber\\\\ \\rule{0mm}{12mm}\n",
    "&=& \\frac{1}{\\sqrt{N L}} \\sum_{y=0}^{N-1}   e^{+2\\pi i p_0 y/N} \\left( \\sum_{l=0}^{L-1} e^{+2\\pi i ly/L}\\right) \\ket{y}  \\\\ \\rule{0mm}{15mm}\n",
    " &=& \\frac{1}{\\sqrt{N L}} \\sum_{y=0}^{N-1}   e^{+2\\pi i p_0 y/N}  \\left( \\rule{0mm}{3.5mm} L \\delta_{y, sL}\\right) \\ket{y} \\nonumber\\\\ \\rule{0mm}{15mm}\n",
    "&=& \\sqrt{ \\frac{L}{N}}  ~ \\sum_{s=0}^{P-1} e^{+2\\pi i p_0 s L/N}    \\ket{s L}  \\nonumber\\\\ \n",
    "\\rule{0mm}{15mm}\n",
    "&=&\\sqrt{ \\frac{1}{P} }~ \\sum_{s=0}^{P-1} e^{+2\\pi i p_0 s/P }    \\ket{sN/P}  \n",
    "\\end{eqnarray}"
   ]
  },
  {
   "cell_type": "markdown",
   "metadata": {
    "slideshow": {
     "slide_type": "slide"
    }
   },
   "source": [
    "\n",
    "\n",
    "El **resultado** es una *superposición homogénea* de estados $~\\ket{y_s = sN/P}~$ con $s=0,1,...P-1$. Al medir encontraremos las siguientes probabilidades:\n",
    "\n",
    "$$\n",
    "P(y) = \\left\\{ \\begin{array}{cl} 1/P & \\hbox{si} ~ y = s N/P \\in [ 0, N/P, 2N/P,..., (P-1)N/P ] \\\\ 0 & \\rule{0mm}{15mm}\\hbox{si} ~ y \\neq s N/P \\end{array} \\right.\n",
    "$$\n",
    "\n"
   ]
  },
  {
   "cell_type": "markdown",
   "metadata": {
    "slideshow": {
     "slide_type": "fragment"
    }
   },
   "source": [
    "\n",
    "La estrategia ahora es medir un número suficiente de veces, que permita obtener la lista completa \n",
    "\n",
    "$$\\{y_s\\} = \\{0, N/P, 2N/P,...\\}$$ \n",
    "\n",
    "Dividiendo por $N$ obtenemos otra lista \n",
    "\n",
    "$$\\{\\varphi_s\\} = \\{0,1/P,2/P,...,\\}$$\n",
    "\n",
    "La extracción de $P$ a partir de elementos de esta lista se puede efectuar de distintas formas. La más sencilla es evaluar la diferencia entre elementos sucesivos de la lista e invertir. También se puede hacer mediante la descomposición en *fracciones continuas*\n",
    "\n",
    "\n",
    "::::::{admonition} Nota\n",
    ":class: note\n",
    "\n",
    "\n",
    "El conjunto de estados $\\ket{sN/P}$ es independiente de la medida $p_0$. Por tanto, podemos evitar la medida intermedia. Es el mismo efecto que vimos al estudiar el algoritmo de Simon.\n",
    "::::::\n"
   ]
  },
  {
   "cell_type": "markdown",
   "metadata": {
    "slideshow": {
     "slide_type": "slide"
    }
   },
   "source": [
    "### Ejemplo:\n",
    "\n",
    "Primero vamos a fabricar el oráculo asociado auna función $f: S_n \\to S_{m}$  periódica con un período $P$ que se repita $L$ veces, de modo que $L$ = int$(N/P)$. Necesitaremos  dos registros, para implementar el operador unitario asociado\n",
    "\n",
    "$$ \n",
    "U_f :\\ket{x}_n\\ket{0}_m ~~\\to ~~\\ket{x}_n\\ket{f(x)}_m\n",
    "$$\n"
   ]
  },
  {
   "cell_type": "code",
   "execution_count": 6,
   "metadata": {
    "slideshow": {
     "slide_type": "fragment"
    }
   },
   "outputs": [
    {
     "name": "stdout",
     "output_type": "stream",
     "text": [
      "valores de f(x) en un período : [1 0 4 5]\n"
     ]
    },
    {
     "name": "stderr",
     "output_type": "stream",
     "text": [
      "/opt/anaconda3/envs/TalentQ/lib/python3.11/site-packages/qiskit/visualization/circuit/matplotlib.py:266: FutureWarning: The default matplotlib drawer scheme will be changed to \"iqp\" in a following release. To silence this warning, specify the current default explicitly as style=\"clifford\", or the new default as style=\"iqp\".\n",
      "  self._style, def_font_ratio = load_style(self._style)\n"
     ]
    },
    {
     "data": {
      "image/png": "[encoded data removed]",
      "text/plain": [
       "<Figure size 807.394x535.111 with 1 Axes>"
      ]
     },
     "execution_count": 6,
     "metadata": {},
     "output_type": "execute_result"
    }
   ],
   "source": [
    "def periodic_oracle(Nn,Nm,P,show_values=True):\n",
    "\n",
    "    L= int(Nn/P)\n",
    "    'seleccionamos P valores aleatorios entre 1 y Nm'\n",
    "    values= np.random.choice(Nm-1,P,replace=False)  \n",
    "    if show_values:\n",
    "        print('valores de f(x) en un período :',values)\n",
    "    \n",
    "    fout=np.zeros(Nn)\n",
    "    for m in range(L+1):\n",
    "        for p in range(P):  \n",
    "            if p + m*P < Nn:\n",
    "                fout[p + m*P] = values[p]\n",
    "#    print('tabla binaria de verdad completa de la función f(x):',  fout)\n",
    "    fout_list = [format(int(i), 'b').zfill(int(np.ceil(np.log2(np.max(fout)+2)))) for i in fout]\n",
    "\n",
    "    return tQ.binary_function(fout_list)  \n",
    "\n",
    "periodic_oracle(8,8,4).draw('mpl')"
   ]
  },
  {
   "cell_type": "code",
   "execution_count": 7,
   "metadata": {
    "run_control": {
     "marked": true
    },
    "slideshow": {
     "slide_type": "fragment"
    }
   },
   "outputs": [],
   "source": [
    "def period_finder(oracle):\n",
    "\n",
    "    'el número de cúbits se obtiene del oráculo'\n",
    "    n = int(oracle.num_qubits/2)\n",
    "\n",
    "    qr_in = QuantumRegister(n, name='x')\n",
    "    qr_out = QuantumRegister(n, name='f(x)')\n",
    "    cr_in = ClassicalRegister(n, name='meas_in')\n",
    "#    cr_out = ClassicalRegister(n, name='meas_out')\n",
    "    qc = QuantumCircuit(qr_in, qr_out, cr_in, name='q')\n",
    "    \n",
    "\n",
    "    'aplicamos la puerta de Walsh-Hadamard al primer registro'\n",
    "    qc.h(qr_in)\n",
    "    'añadimos el oráculo'\n",
    "    qc.append(oracle.to_gate(),qr_in[:] + qr_out[:])    \n",
    "    qc.barrier()\n",
    "\n",
    "    'medimos el registro de los cúbits de |f(x)>, este paso se puede evitar ¡compruebalo!'\n",
    "#    qc.measure(qr_out, cr_out)\n",
    "#    qc.barrier()\n",
    "    'aplicamos la Transformada de Fourier al primer registro'\n",
    "    qc.append(TFC(n),qr_in)\n",
    "    \n",
    "    'Finalmente medimos el registro de los inputs |x>'\n",
    "    qc.measure(qr_in, cr_in)   \n",
    "    return qc\n",
    "\n",
    "#period_finder(periodic_oracle(8,8,4)).draw('mpl')"
   ]
  },
  {
   "cell_type": "markdown",
   "metadata": {},
   "source": [
    "Vamos a estudiar  el caso\n",
    "$ n=m=7~\\to~N=2^7 ~,~ P = 4 ~~~\\hbox{  es decir  } ~~~ N/P = 32 \\in {\\mathbb Z} $\n",
    "en el que   $L = 32$.\n",
    "\n",
    "Es decir, esta función tiene un número entero de  repeticiones de un ciclo de $P=4$ elementos\n"
   ]
  },
  {
   "cell_type": "code",
   "execution_count": 8,
   "metadata": {},
   "outputs": [
    {
     "name": "stdout",
     "output_type": "stream",
     "text": [
      "N = 2^n = 128  P = 4  L = 32.0\n",
      "valores de f(x) en un período : [24 97 93 48]\n"
     ]
    },
    {
     "data": {
      "image/png": "[encoded data removed]",
      "text/plain": [
       "<Figure size 700x500 with 1 Axes>"
      ]
     },
     "execution_count": 8,
     "metadata": {},
     "output_type": "execute_result"
    }
   ],
   "source": [
    "n = 7\n",
    "m = n\n",
    "Nn = 2**n\n",
    "Nm = 2**m\n",
    "P = 4\n",
    "print('N = 2^n =',Nn, ' P =', P, ' L =', Nn/P)\n",
    "\n",
    "'ejecutamos el circuito'\n",
    "from qiskit.primitives import Sampler\n",
    "from qiskit.visualization import plot_histogram, plot_bloch_multivector\n",
    "nshots = 1000\n",
    "dist = Sampler().run(period_finder(periodic_oracle(Nn,Nm,P)),shots=nshots).result().quasi_dists[0]\n",
    "counts = tQ.dist2counts(dist,n,nshots)\n",
    "\n",
    "plot_histogram(counts)"
   ]
  },
  {
   "cell_type": "markdown",
   "metadata": {
    "slideshow": {
     "slide_type": "slide"
    }
   },
   "source": [
    "Ahora procedemos de la siguiente manera:\n",
    "\n",
    "- seleccionamos los eventos más probables de la lista de cuentas. Filtraremos  las salidas que superen un umbral de probabilidad (o sea, de número de eventos)\n",
    "\n",
    "( Cuando $N/p \\notin {\\mathbb Z} $, hay que ajustar el umbral para seleccionar los eventos más probables)\n",
    "\n",
    "- Obtenemos la lista de valores enteros $\\{N_s\\}$ que  forman la mejor aproximación a $\\{s N/P\\}$\n",
    "\n",
    "-  Dividiendo por $N$, obtendremos la lista $\\{\\varphi_s\\}\\in [0,1)$ que mejor aproximan los valores que buscamos $\\{s/P\\}~, s=1,2,..$.\n",
    "\n",
    "-  La última parte del post-procesado consiste en averiguar qué par de números enteros, $s$ y $P$ se esconden detrás de la lista $\\{\\varphi_s\\}$ encontrada. \n"
   ]
  },
  {
   "cell_type": "code",
   "execution_count": 9,
   "metadata": {},
   "outputs": [
    {
     "name": "stdout",
     "output_type": "stream",
     "text": [
      "{'0000000': 260, '0100000': 260, '1000000': 245, '1100000': 235}\n"
     ]
    }
   ],
   "source": [
    "filtered_counts = {k: v for k, v in counts.items() if v>100 }\n",
    "print(filtered_counts)\n",
    "#plot_histogram(filtered_counts)"
   ]
  },
  {
   "cell_type": "code",
   "execution_count": 10,
   "metadata": {
    "run_control": {
     "marked": false
    },
    "slideshow": {
     "slide_type": "fragment"
    }
   },
   "outputs": [
    {
     "name": "stdout",
     "output_type": "stream",
     "text": [
      "{Ns} ~  [32, 64, 96]\n",
      "phi_s [0.25, 0.5, 0.75]\n"
     ]
    }
   ],
   "source": [
    "'extraemos las keys y las convertimos en decimal rechazando el 00...0 que siempre está'\n",
    "Ns_list = sorted([int(keys,2) for  keys in list(filtered_counts.keys())[1:]])\n",
    "print('{Ns} ~ ', Ns_list)\n",
    "\n",
    "'dividiendo por N'\n",
    "phis_list = [Ns_list[i]/Nn for i in range(len(Ns_list))]\n",
    "print('phi_s', phis_list)"
   ]
  },
  {
   "cell_type": "markdown",
   "metadata": {
    "slideshow": {
     "slide_type": "slide"
    }
   },
   "source": [
    "Extracción de $P$:"
   ]
  },
  {
   "cell_type": "markdown",
   "metadata": {
    "slideshow": {
     "slide_type": "fragment"
    }
   },
   "source": [
    "**Estrategia 1**: simplemente restando elementos sucesivos tenemos una lista \n",
    "\n",
    "$$\n",
    "[(\\varphi_{s+1} -\\varphi_s)^{-1}]\\sim \\left[\\left(\\frac{s+1}{P} - \\frac{s}{P}\\right)^{-1} \\right] =\n",
    "\\left[P \\right] \\sim   P\n",
    "$$\n",
    "\n"
   ]
  },
  {
   "cell_type": "code",
   "execution_count": 11,
   "metadata": {
    "slideshow": {
     "slide_type": "fragment"
    }
   },
   "outputs": [
    {
     "name": "stdout",
     "output_type": "stream",
     "text": [
      "[4.0, 4.0]\n",
      "el valor entero del promedio de P es  = 4\n"
     ]
    }
   ],
   "source": [
    "P_list = [(phis_list[s+1]-phis_list[s])**(-1) for s in range(len(phis_list)-1)]\n",
    "\n",
    "print(P_list)\n",
    "\n",
    "print('el valor entero del promedio de P es  =', int(sum(P_list)/len(P_list)))"
   ]
  },
  {
   "cell_type": "markdown",
   "metadata": {
    "slideshow": {
     "slide_type": "slide"
    }
   },
   "source": [
    "\n",
    "**Estrategia 2**:\n",
    "\n",
    "Representar un número racional $a \\in {\\mathbb Q}$ como un cociente de dos enteros $a = s/P$, es algo que se puede conseguir a partir de su expresión en  [fracciones continuas](https://es.wikipedia.org/wiki/Fracci%C3%B3n_continua#:~:text=C%C3%A1lculo%20de%20una%20fracci%C3%B3n%20continua,-Consideremos%20un%20n%C3%BAmero&text=Para%20calcular%20la%20representaci%C3%B3n%20en,la%20diferencia%20y%20se%20repite) .\n",
    "La clase [Fraction](https://docs.python.org/3/library/fractions.html) de python ya incorpora esta utilidad. "
   ]
  },
  {
   "cell_type": "code",
   "execution_count": 12,
   "metadata": {
    "slideshow": {
     "slide_type": "-"
    }
   },
   "outputs": [
    {
     "data": {
      "text/plain": [
       "[Fraction(1, 4), Fraction(1, 2), Fraction(3, 4)]"
      ]
     },
     "execution_count": 12,
     "metadata": {},
     "output_type": "execute_result"
    }
   ],
   "source": [
    "from fractions import Fraction\n",
    "[Fraction(phis_list[i]) for i in range(len(phis_list))]"
   ]
  },
  {
   "cell_type": "markdown",
   "metadata": {
    "slideshow": {
     "slide_type": "slide"
    }
   },
   "source": [
    "El método puede producir respuestas erróneas por dos razones:\n",
    "\n",
    "-  que $s$ sea divisor de $P$\n",
    "\n",
    "-  que $\\varphi_s \\sim s/P$. En ese caso, el método arroja dos enteros $s'/P'$ mayores que $s'>s$ y $P'>P$."
   ]
  },
  {
   "cell_type": "markdown",
   "metadata": {
    "slideshow": {
     "slide_type": "fragment"
    }
   },
   "source": [
    "El segundo caso es el genérico cuando $N/P \\notin {\\mathbb Z} $ y se controla limitando el valor de $P$ en el cociente $s/P$ que debe aproximar $\\varphi_s$."
   ]
  },
  {
   "cell_type": "code",
   "execution_count": 13,
   "metadata": {
    "slideshow": {
     "slide_type": "-"
    }
   },
   "outputs": [
    {
     "data": {
      "text/plain": [
       "[Fraction(1, 4), Fraction(1, 2), Fraction(3, 4)]"
      ]
     },
     "execution_count": 13,
     "metadata": {},
     "output_type": "execute_result"
    }
   ],
   "source": [
    "[Fraction(phis_list[i]).limit_denominator(20) for i in range(int(len(phis_list)))]"
   ]
  },
  {
   "cell_type": "markdown",
   "metadata": {
    "slideshow": {
     "slide_type": "fragment"
    }
   },
   "source": [
    "\n",
    "\n",
    "**En cualquier caso**:  *verificar* si un valor es *solución o no* es una tarea que clásicamente se puede realizar de forma eficiente. "
   ]
  },
  {
   "cell_type": "markdown",
   "metadata": {},
   "source": [
    "::::::{admonition} Ejercicio\n",
    ":class: tip\n",
    "\n",
    "\n",
    "Repite ahora con valores $N =N_n=N_m=7$ y $P=5$. Ahora $L =  N/P = 25.6 \\notin {\\mathbb Z}$.\n",
    "    \n",
    " Observa la distribución de medidas. Ajusta el umbral para filtrar las más probables y repite el procedimiento para recuperar el valor de $P = 5$. \n",
    "::::::\n"
   ]
  },
  {
   "cell_type": "markdown",
   "metadata": {
    "slideshow": {
     "slide_type": "slide"
    }
   },
   "source": [
    "::::::{admonition} Nota (Advertencia!) \n",
    ":class: note\n",
    "\n",
    "\n",
    " El algoritmo de búsqueda de un periodo permite una ventaja exponencial si no contamos la profundidad del oráculo. \n",
    "\n",
    "    \n",
    " Sin embargo ya hemos visto en el ejemplo anterior que la forma de construir el oráculo asociado a la función $f(x+P)=f(x)$ pasa por implementar la <i> tabla de verdad </i> de $P$ valores distintos $f(0),....,f(P-1)$. Para un $P$ de ${\\cal O}(N)$ vemos que la <i>profundidad del oráculo</i> crece de forma exponencial.\n",
    "   \n",
    "Por tanto, la ventaja cuántica sólo existe en los casos de funciones  sea posible implementar mediante un oráculo de forma que su profundidad crezca polinómicamente con el tamaño del registro $n$.\n",
    "::::::\n"
   ]
  }
 ],
 "metadata": {
  "kernelspec": {
   "display_name": "Python 3 (ipykernel)",
   "language": "python",
   "name": "python3"
  },
  "language_info": {
   "codemirror_mode": {
    "name": "ipython",
    "version": 3
   },
   "file_extension": ".py",
   "mimetype": "text/x-python",
   "name": "python",
   "nbconvert_exporter": "python",
   "pygments_lexer": "ipython3",
   "version": "3.11.7"
  },
  "nbTranslate": {
   "displayLangs": [
    "*"
   ],
   "hotkey": "alt-t",
   "langInMainMenu": true,
   "sourceLang": "en",
   "targetLang": "fr",
   "useGoogleTranslate": true
  },
  "toc": {
   "base_numbering": 1,
   "nav_menu": {},
   "number_sections": true,
   "sideBar": true,
   "skip_h1_title": true,
   "title_cell": "Table of Contents",
   "title_sidebar": "Contents",
   "toc_cell": false,
   "toc_position": {
    "height": "calc(100% - 180px)",
    "left": "10px",
    "top": "150px",
    "width": "414.053px"
   },
   "toc_section_display": true,
   "toc_window_display": false
  },
  "varInspector": {
   "cols": {
    "lenName": 16,
    "lenType": 16,
    "lenVar": 40
   },
   "kernels_config": {
    "python": {
     "delete_cmd_postfix": "",
     "delete_cmd_prefix": "del ",
     "library": "var_list.py",
     "varRefreshCmd": "print(var_dic_list())"
    },
    "r": {
     "delete_cmd_postfix": ") ",
     "delete_cmd_prefix": "rm(",
     "library": "var_list.r",
     "varRefreshCmd": "cat(var_dic_list()) "
    }
   },
   "types_to_exclude": [
    "module",
    "function",
    "builtin_function_or_method",
    "instance",
    "_Feature"
   ],
   "window_display": false
  }
 },
 "nbformat": 4,
 "nbformat_minor": 4
}