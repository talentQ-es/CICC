{
 "cells": [
  {
   "cell_type": "markdown",
   "metadata": {
    "slideshow": {
     "slide_type": "slide"
    }
   },
   "source": [
    "> {sub-ref}`today` | {sub-ref}`wordcount-minutes` min read\n",
    "\n",
    "::::{figure} ../figuras/logos/Logo_TalentQ_Azul.png\n",
    ":width: 150px\n",
    ":align: right\n",
    "::::\n",
    "\n",
    "\n",
    "# Algoritmos de oráculo\n",
    "\n",
    "$ \\newcommand{\\bra}[1]{\\langle #1|} $\n",
    "$ \\newcommand{\\ket}[1]{|#1\\rangle} $\n",
    "$ \\newcommand{\\braket}[2]{\\langle #1|#2\\rangle} $\n",
    "$ \\newcommand{\\i}{{\\color{blue} i}} $ \n",
    "$ \\newcommand{\\Hil}{{\\cal H}} $\n",
    "$ \\newcommand{\\cg}[1]{{\\rm C}#1} $\n",
    "\n"
   ]
  },
  {
   "cell_type": "code",
   "execution_count": 6,
   "metadata": {
    "slideshow": {
     "slide_type": "slide"
    },
    "tags": [
     "hide-input"
    ]
   },
   "outputs": [],
   "source": [
    "%run ../macro_tQ.py\n",
    "import sys\n",
    "sys.path.append('../')\n",
    "import macro_tQ as tQ"
   ]
  },
  {
   "cell_type": "markdown",
   "metadata": {
    "slideshow": {
     "slide_type": "slide"
    }
   },
   "source": [
    "## Introducción"
   ]
  },
  {
   "cell_type": "markdown",
   "metadata": {},
   "source": [
    "La potencial de la computación cuántica reside en que podamos fabricar estados que concentran la solución a un problema en una o varias amplitudes. \n",
    "\n",
    "\n",
    "El foco se desplaza enconces a una especie de ingeniería inversa: encontrar los *problemas adecuados*\n",
    "\n",
    "Un clase importante de problemas consiste en  *desvelar* alguna propiedad de una cierta función binaria. La única opción válida para dicho propósito es consultar dicha función tantas veces como sea necesario. Por lo demás, se trata de una *caja negra*. Por esta razón, a dichas funciones se les denomina *oráculos*\n",
    "\n",
    "Los ingredientes que nos ofrece la computación cuántica para tratar de obtener una ventaja computacional son :\n",
    "    \n",
    "- paralelismo ($\\to $ evaluar el oráculo en **todos** los elementos de la base simultáneamente)\n",
    "\n",
    "- codificación del oráculo en **la fase** (retroceso de fase)\n",
    "\n",
    "- interferencia para **concentrar** la información en algunas amplitudes.\n",
    "\n",
    "\n",
    "En este capítulo vamos a analizar una clase de circuitos que admite una variedad de problemas de interrogación de oráculo. Aunque el tipo de problemas que podemos atacar no es muy relevante, nos servirá para ilustrar el mecanismo básico de cálculo que ocurre en los circuitos cuánticos. \n",
    "\n"
   ]
  },
  {
   "cell_type": "markdown",
   "metadata": {},
   "source": [
    "## Circuito General\n",
    "\n",
    "Denotaremos el conjunto $S_n =\\{0,1,...2^n-1 \\}\\sim \\{0,1\\}^n$ en forma decimal o binaria ($n-$bits) indistintamente.\n",
    "Ya hemos visto cómo la implementación de una función binaria  $f:S_n \\to S_1$ se realiza en forma de un operador unitario  controlado \n",
    "\n",
    "$$\n",
    "{U_f} : \\ket{x}_n\\otimes \\ket{y} \\to \\ket{x}_n\\otimes \\ket{y + f(x)}\n",
    "$$\n",
    "\n",
    "En particular, si $\\ket{y} = \\ket{-}$ tendremos el oráculo $f(x)$ codificado en la fase."
   ]
  },
  {
   "cell_type": "markdown",
   "metadata": {
    "slideshow": {
     "slide_type": "fragment"
    }
   },
   "source": [
    "Vamos a estudiar el siguiente circuito\n",
    "\n",
    "\n",
    "\n",
    "::::{figure} ./figuras/Busqueda_Oraculo.png\n",
    ":width: 500px\n",
    ":align: center\n",
    "::::\n",
    "\n",
    "\n",
    "Para evaluar la acción de este circuito vamos a recordar la forma en la que actúa el operador de Walsh-Hadamard, $W_n = \\Hil^{\\otimes n}$,  sobre un estado cualquiera de la base $\\ket{x}_n$\n",
    "\n",
    "$$\n",
    "W_n \\ket{x}_n = \\sum_{y} (-1)^{xy}\\ket{y}_n\n",
    "$$"
   ]
  },
  {
   "cell_type": "markdown",
   "metadata": {
    "slideshow": {
     "slide_type": "fragment"
    }
   },
   "source": [
    "Evaluemos explícitamente el estado a la salida, antes de medir\n",
    "\n",
    "\\begin{eqnarray*}\n",
    " \\ket{0}_n \\otimes \\ket{-} \n",
    "&\\stackrel{H^{\\otimes n}}{\\longrightarrow} & \\frac{1}{\\sqrt{2^n}} \\sum_{x=0}^{2^n-1}\\ket{x}\\otimes \\ket{-} ~~~~\\hbox{ paralelismo}  \\nonumber \\\\\n",
    "\\rule{0mm}{12mm}\n",
    "&\\stackrel{U_f}{\\longrightarrow} &  \\frac{1}{\\sqrt{2^n}} \\sum_{x=0}^{2^n-1}\\ket{x}\\otimes (-1)^{f(x)} \\ket{-} ~~~~ \\hbox{ codificación del oráculo  en la fase}\\\\\n",
    "\\rule{0mm}{12mm}\n",
    "&\\stackrel{H^{\\otimes n}}{\\longrightarrow} &   \\frac{1}{\\sqrt{2^n}} \\sum_{x=0}^{2^n-1}(-1)^{f(x)}(H^{\\otimes n}\\ket{x})\\otimes  \\ket{-}   \\nonumber\\\\\n",
    "\\rule{0mm}{12mm}\n",
    "&=&   \\frac{1}{2^n} \\sum_{x,y=0}^{2^n-1}(-1)^{f(x)+ x \\cdot y}\\ket{y}\\otimes \\ket{-}   ~~~~ \\hbox{interferencia } \n",
    "\\end{eqnarray*}\n",
    "\n",
    "donde\n",
    "$$x\\cdot y ~\\equiv~ x_{n-1}y_{n-1} \\oplus x_{n-2}y_{n-2} \\oplus ...  \\oplus x_{0}y_{0}$$ \n",
    "\n",
    "\n",
    "El resultado final es un estado factorizado. Por tanto podemos medir el primer factor de forma independiente y olvidarnos del segundo\n",
    "\n",
    "$$\n",
    "\\ket{\\Phi} =  \\frac{1}{2^n} \\sum_{x,y=0}^{2^n-1}(-1)^{f(x)+ x \\cdot y}\\ket{y} \\, \n",
    "$$\n",
    "\n",
    "::::::{admonition} En resumen\n",
    ":class: attention\n",
    "\n",
    "\n",
    "Hemos construido un cierto estado que sólo depende de la función $f(x)$. Ahora es cuando hay que hacer ingenieria inversa: dependiendo de cómo sea $f(x)$ podremos conseguir interferencias que <i>concentren la probabilidad</i> en algún estado concreto que delate a $f$. \n",
    "::::::\n"
   ]
  },
  {
   "cell_type": "markdown",
   "metadata": {
    "slideshow": {
     "slide_type": "slide"
    }
   },
   "source": [
    "###  El problema de Deutsch-Josza "
   ]
  },
  {
   "cell_type": "markdown",
   "metadata": {
    "slideshow": {
     "slide_type": "slide"
    }
   },
   "source": [
    " \n",
    "\n",
    "- **Promesa**: $f$ pertenece a una de las dos clases siguientes:  *constante* ($C \\Rightarrow f(x)$ igual para todo $x$) o *equilibrada* ($E\\Rightarrow f(x)$ igual para la mitad)\n",
    "\n",
    "\n",
    "\n",
    "- **Problema**: descubrir si $f$ es de clase  $C$ ó $E$\n",
    "\n",
    "\n",
    "\n",
    "::::::{admonition} Notar\n",
    ":class: note\n",
    "\n",
    "\n",
    "Clásicamente: deberíamos invocar el oráculos  $2^n/2+1$ veces. Esto es, por lo menos hasta la mitad de valores posibles de entrada, más uno.   \n",
    "Con esta chorrada de problema, que no vale para nada, fue uno de los primeros ejemplos de ventaja cuántica, con el que se inició en 1992 la andadura hacia la computación cuántica algorítmica.  \n",
    "::::::\n",
    "\n",
    "\n",
    "-  **Solución**: corremos el circuito una vez y medimos sobre el estado $~\\ket{\\Phi}$ \n",
    "\n",
    "\n",
    "\n",
    "$\\to ~$ si $f \\in C$  es <b>constante</b>  $~\\Rightarrow~ f(x) = f_0 ~\\forall x ~~~\\Rightarrow~~~$ la probabilidad de obtener $ \\ket{0^n}~$ es  $ 1$  \n",
    " \n",
    "\\begin{eqnarray*}\n",
    "p_{0} &=& |\\braket{0^n}{\\Phi}|^2 \\nonumber\\\\ \\rule{0mm}{10mm}\n",
    "&=& \\left\\vert \\bra{0^n} \\sum_{y=0}^{2^n-1}\\left( \\frac{1}{2^n}\\sum_{x=0}^{2^n-1}(-1)^{f_0 + x \\cdot y} \\right)\\ket{y} \\right\\vert^2\n",
    " \\nonumber\\\\ \\rule{0mm}{10mm}\n",
    " &=& \\left\\vert \\frac{(-1)^{f_0}}{2^{n}}   \\sum_{x=0}^{2^n-1} (-1)^{x \\cdot 0}\\right\\vert^2    \\\\ \\rule{0mm}{8mm}\n",
    " &=& (-1)^{2f_0} \\\\ \\rule{0mm}{8mm} &=& 1 \n",
    "\\nonumber \n",
    "\\end{eqnarray*}\n",
    "\n",
    "\n",
    "\n"
   ]
  },
  {
   "cell_type": "markdown",
   "metadata": {
    "slideshow": {
     "slide_type": "slide"
    }
   },
   "source": [
    "\n",
    "$\\to ~ $    si $f\\in E$ es <b>equilibrada</b> $~\\Rightarrow~$ la probabilidad de obtener $~\\ket{0^n}~$  es $~0~$\n",
    "\n",
    "\n",
    "En este caso  $f(x)=\\pm 1$ está distribuida de forma equilibrada $~\\Rightarrow$\n",
    "\n",
    "\n",
    "\\begin{eqnarray*}\n",
    "\\braket{0^n}{\\Phi} &=& \\bra{0^n} \\sum_{y=0}^{2^n-1}\\left( \\frac{1}{2^n}\\sum_{x=0}^{2^n-1}(-1)^{f(x) + x \\cdot y} \\right)\\ket{y} \\nonumber\\\\ \\rule{0mm}{12mm}\n",
    " &=&  \\frac{1}{2^{n}} \\sum_{x=0}^{2^n-1} (-1)^{f(x) + x \\cdot 0}    = 0\n",
    "\\nonumber \\\\ \\rule{0mm}{12mm}\n",
    " &=&  \\frac{1}{2^{n}} \\sum_{x=0}^{2^n-1} (-1)^{f(x)}    = 0\n",
    "\\end{eqnarray*}\n",
    "\n",
    "al haber, por hipótesis, igual número de valores $f(x)=0$ que de $f(x)=1$ en la suma.\n",
    "\n"
   ]
  },
  {
   "cell_type": "markdown",
   "metadata": {
    "slideshow": {
     "slide_type": "fragment"
    }
   },
   "source": [
    "::::::{admonition} Ejercicio\n",
    ":class: tip\n",
    "\n",
    "    \n",
    "Oráculos constantes sólo hay dos, $f(x)=0~$ ó $~f(x) = 1$ para todo $x$. Oráculos equilibrados hay muchos, y en la lección anterior deberías haber fabricado un circuito para generarlos. \n",
    "Construye el circuito de Deutsch-Josza y ponlo a prueba con estos oráculos. \n",
    "::::::\n"
   ]
  },
  {
   "cell_type": "markdown",
   "metadata": {
    "slideshow": {
     "slide_type": "slide"
    }
   },
   "source": [
    "### El problema de Bernstein-Vazirani   "
   ]
  },
  {
   "cell_type": "markdown",
   "metadata": {
    "slideshow": {
     "slide_type": "slide"
    }
   },
   "source": [
    "\n",
    "\n",
    "-  **Promesa**: $f$ es una *función lineal*, definida por una cadena de bits $a \\in \\{0,1\\}^n$\n",
    "\n",
    "$$f(x) = a\\cdot x  = a_{n-1} x_{n-1} \\oplus ....\\oplus a_0 x_0$$\n",
    "\n",
    "\n",
    "- **Problema**: hallar $a = a_{n-1} \\ldots a_0$ \n",
    "\n",
    "\n",
    "::::::{admonition} Nota\n",
    ":class: note\n",
    "\n",
    "    \n",
    "Clásicamente necesitaríamos invocar el oráculo   $n$ veces. \n",
    "Por ejemplo  $f(0\\cdots 0 1)=0,1 $ revela $a_0=0,1$ respectivamente.\n",
    "Iterativamente  $f(0\\cdots 0 1 0)\\to a_1$, $ f(0\\cdots 1 0 0)\\to a_2 \\cdots$, etc.\n",
    "::::::\n"
   ]
  },
  {
   "cell_type": "markdown",
   "metadata": {
    "slideshow": {
     "slide_type": "fragment"
    }
   },
   "source": [
    "**Solución**: correr el circuito *una sóla vez* y medir el estado final\n",
    "\n",
    "\\begin{eqnarray}\n",
    "\\ket{\\Phi} &=& \\frac{1}{2^n} \\sum_{x,y=0}^{2^n-1}(-1)^{f(x)+ y \\cdot x}\\ket{y}\n",
    "=  \n",
    "\\frac{1}{2^n}\\sum_{y=0}^{2^n-1} \\left(\\sum_{x=0}^{2^n-1}(-1)^{(a+y)\\cdot x}\\right)\\ket{y} ~\\nonumber\\\\  \\rule{0mm}{10mm}\n",
    "&=&  \n",
    "\\frac{1}{2^n}\\sum_{y=0}^{2^n-1} \\left(\\sum_{x=0}^{2^n-1}(-1)^{(-a+y)\\cdot x}\\right)\\ket{y}\\nonumber\\\\ \\rule{0mm}{10mm}\n",
    " &=&  \\frac{1}{2^n} \\sum_{y=0}^{2^n-1} 2^n \\delta_{(-a+y),0} \\ket{y} \\nonumber\\\\ \\rule{0mm}{8mm}\n",
    "&=& \\rule{0mm}{5mm} \\ket{a_0a_1\\cdots a_{n-1}} \\nonumber \n",
    "\\end{eqnarray}\n",
    "\n",
    "¡ Una **única**  medida del estado final da $a$ !\n",
    "\n",
    "Ahora, igual que en el caso anterior,  la <i>clave</i> está en <i>concentrar</i> la  probabilidad de la solución en la amplitud de **un sólo estado**.     \n",
    "Esa tarea de concentración que implica la suma de fases no se realiza explícitamente más que si queremos emular el circuito cuántico mediante un computador clásico. En un computador cuántico, esa concentración *simplemente ocurre*\n",
    "\n"
   ]
  },
  {
   "cell_type": "markdown",
   "metadata": {
    "slideshow": {
     "slide_type": "slide"
    }
   },
   "source": [
    "¡Vamos a programar!\n",
    "\n",
    "Para poner a prueba el algorito de Bernstein Vazirani, debemos generar un oráculo lineal $f(x)=x\\cdot a$ con una cadena $a=(a_{n-1},\\ldots a_0)$ de longitud $n$  ¡que esté *oculta*!"
   ]
  },
  {
   "cell_type": "code",
   "execution_count": 61,
   "metadata": {
    "slideshow": {
     "slide_type": "fragment"
    }
   },
   "outputs": [
    {
     "name": "stdout",
     "output_type": "stream",
     "text": [
      "cadena oculta= 0110\n"
     ]
    },
    {
     "data": {
      "text/html": [
       "<pre style=\"word-wrap: normal;white-space: pre;background: #fff0;line-height: 1.1;font-family: &quot;Courier New&quot;,Courier,monospace\">               \n",
       "q_0: ──────────\n",
       "               \n",
       "q_1: ──■───────\n",
       "       │       \n",
       "q_2: ──┼────■──\n",
       "       │    │  \n",
       "q_3: ──┼────┼──\n",
       "     ┌─┴─┐┌─┴─┐\n",
       "q_4: ┤ X ├┤ X ├\n",
       "     └───┘└───┘</pre>"
      ],
      "text/plain": [
       "               \n",
       "q_0: ──────────\n",
       "               \n",
       "q_1: ──■───────\n",
       "       │       \n",
       "q_2: ──┼────■──\n",
       "       │    │  \n",
       "q_3: ──┼────┼──\n",
       "     ┌─┴─┐┌─┴─┐\n",
       "q_4: ┤ X ├┤ X ├\n",
       "     └───┘└───┘"
      ]
     },
     "execution_count": 61,
     "metadata": {},
     "output_type": "execute_result"
    }
   ],
   "source": [
    "from qiskit import QuantumRegister, ClassicalRegister, QuantumCircuit\n",
    "\n",
    "def random_linear_oracle(n):  #n es la longitud de la cadena a oculta\n",
    "\n",
    "    import random, string\n",
    "    a = ''.join(random.choices(['0','1'], k=n))\n",
    "    print('cadena oculta=',a)  \n",
    "    qc = QuantumCircuit(n+1) # el ultimo registro es la salida |f(x)> = |a.x>\n",
    "\n",
    "    \n",
    "    for i, ai in enumerate(reversed(a)):  # ponemos reversed para usar el convenio de qiskit\n",
    "        if ai == '1':\n",
    "            qc.cx(i,n)    \n",
    "    return qc\n",
    "\n",
    "random_linear_oracle(4).draw()\n",
    "    "
   ]
  },
  {
   "cell_type": "markdown",
   "metadata": {
    "slideshow": {
     "slide_type": "slide"
    }
   },
   "source": [
    "Ahora implementamos el oráculo en el algoritmo de BV "
   ]
  },
  {
   "cell_type": "code",
   "execution_count": 62,
   "metadata": {
    "slideshow": {
     "slide_type": "-"
    }
   },
   "outputs": [],
   "source": [
    "def BV_circuit(linear_oracle):\n",
    "    n = linear_oracle.num_qubits - 1\n",
    "    qreg = QuantumRegister(n+1)\n",
    "    creg = ClassicalRegister(n)\n",
    "    qc = QuantumCircuit(qreg,creg)\n",
    "\n",
    "    'generamos máxima superposición'\n",
    "    qc.h(qreg)\n",
    "\n",
    "    'Ponemos el último qubit en el estado |->'\n",
    "    qc.z(qreg[-1])\n",
    "     \n",
    "    'añadimos el oráculo lineal con la cadena oculta'\n",
    "    qc.append(linear_oracle.to_gate(),qreg[:])   \n",
    " \n",
    "    'generamos interferencias'\n",
    "    qc.h(qreg[0:-1])\n",
    "\n",
    "    'medimos'\n",
    "    qc.measure(qreg[0:-1],creg)\n",
    "    return qc"
   ]
  },
  {
   "cell_type": "markdown",
   "metadata": {
    "slideshow": {
     "slide_type": "slide"
    }
   },
   "source": [
    "vamos a correr un ejemplo concreto "
   ]
  },
  {
   "cell_type": "code",
   "execution_count": 63,
   "metadata": {
    "slideshow": {
     "slide_type": "-"
    }
   },
   "outputs": [
    {
     "name": "stdout",
     "output_type": "stream",
     "text": [
      "cadena oculta= 0100\n"
     ]
    },
    {
     "data": {
      "image/png": "[encoded data removed]",
      "text/plain": [
       "<Figure size 891.207x535.111 with 1 Axes>"
      ]
     },
     "execution_count": 63,
     "metadata": {},
     "output_type": "execute_result"
    }
   ],
   "source": [
    "n = 4\n",
    "linear_oracle = random_linear_oracle(n)\n",
    "BV_qc = BV_circuit(linear_oracle)\n",
    "\n",
    "BV_qc.draw(output = 'mpl')"
   ]
  },
  {
   "cell_type": "markdown",
   "metadata": {},
   "source": [
    "ahora podemos extraer la cadena $a$ en *una sóla invocación* del oráculo"
   ]
  },
  {
   "cell_type": "code",
   "execution_count": 15,
   "metadata": {},
   "outputs": [
    {
     "data": {
      "text/plain": [
       "{'1110': 1}"
      ]
     },
     "execution_count": 15,
     "metadata": {},
     "output_type": "execute_result"
    }
   ],
   "source": [
    "from qiskit.primitives import Sampler\n",
    "shots = 1\n",
    "dist = Sampler().run(BV_qc,shots=shots).result().quasi_dists[0]\n",
    "\n",
    "tQ.dist2counts(dist,n,shots)"
   ]
  },
  {
   "cell_type": "markdown",
   "metadata": {
    "slideshow": {
     "slide_type": "slide"
    }
   },
   "source": [
    "::::::{admonition} Nota\n",
    ":class: note\n",
    "\n",
    "\n",
    "\n",
    "<i>¿Por qué funciona el algoritmo de Bernstein Vazirani?</i>\n",
    "\n",
    "Supongamos que $a = 01011$ y que el oráculo que implementa la función lineal es \n",
    "\n",
    "  \n",
    "    \n",
    "::::{figure} ./figuras/BV_circuit.png\n",
    ":width: 300px\n",
    ":align: center\n",
    "::::\n",
    "\n",
    "    \n",
    "Insertando dicho oráculo en el algoritmo de búsqueda, y \n",
    "\n",
    "    \n",
    "-  recordando que $\\ket{-} = H \\ket{1}$ \n",
    "\n",
    "-  usando la equivalencia de circuitos \n",
    "\n",
    "\n",
    "es fácil reconocer que es equivalente al siguiente\n",
    "\n",
    "::::{figure} ./figuras/Bernstein_Vazirani_trick.png\n",
    ":width: 250px\n",
    ":align: center\n",
    "::::\n",
    "    \n",
    "::::::\n"
   ]
  },
  {
   "cell_type": "markdown",
   "metadata": {
    "slideshow": {
     "slide_type": "fragment"
    }
   },
   "source": [
    "Los anteriores algoritmos son *deterministas*. Vamos a ver un algoritmo que proporciona una ventaja exponencial pero de manera *probabilista*"
   ]
  },
  {
   "cell_type": "markdown",
   "metadata": {
    "slideshow": {
     "slide_type": "slide"
    }
   },
   "source": [
    "## El problema de Simon  "
   ]
  },
  {
   "cell_type": "markdown",
   "metadata": {
    "slideshow": {
     "slide_type": "slide"
    }
   },
   "source": [
    "\n",
    "Consideremos *ahora* una función $f:\\{0,1\\}^n \\to \\{0,1\\}^n$ con la siguiente propiedad\n",
    "\n",
    "-  **Promesa** : $f$ es *doblemente valuada y periódica* bajo suma *bit a bit*.  Es decir, existe un $~s\\in \\{0,1\\}^n ~$ tal que $~~\\forall x \\in \\{0,1\\}^n $\n",
    "\n",
    "$$\n",
    " f(x) = f(x\\oplus s) ~~~~~\n",
    "$$\n",
    "\n"
   ]
  },
  {
   "cell_type": "markdown",
   "metadata": {
    "slideshow": {
     "slide_type": "fragment"
    }
   },
   "source": [
    "-  **Problema**: hallar $s$ con el mínimo número de consultas al oráculo"
   ]
  },
  {
   "cell_type": "markdown",
   "metadata": {
    "slideshow": {
     "slide_type": "fragment"
    }
   },
   "source": [
    "::::::{admonition} Ejemplo\n",
    ":class: tip\n",
    "\n",
    "\n",
    "$$\n",
    "\\begin{array}{cc|cc}\n",
    "\\hline x & f(x) & x & f(x) \\\\ \\hline\n",
    "0000&1111& 1000&0101\\\\\n",
    "0001&1011& 1001&0100\\\\\n",
    "0010&0011& 1010&0000\\\\\n",
    "0011&1000& 1011&1110\\\\\n",
    "0100&0101& 1100&1111\\\\\n",
    "0101&0100& 1101&1011\\\\\n",
    "0110&0000& 1110&0011\\\\\n",
    "0111&1110& 1111&1000\\\\\n",
    "\\hline \n",
    "\\end{array}\n",
    "$$\n",
    "\n",
    "Claramente, por inspección en este caso $s = 1100$. En un caso general, necesitaríamos inspeccionar ${\\cal O}(n 2^n)$ términos. Se trata por tanto de un problema con complejidad exponencial.\n",
    "::::::\n",
    "\n",
    "- **Solución**: \n",
    "\n",
    "El circuito es *el mismo*, pero ahora involucra $n$ cúbits para codificar la *imagen* de $f$  \n",
    "\n",
    "\n",
    "\n",
    "::::{figure} ./figuras/SimonCircuit0.png\n",
    ":width: 500px\n",
    ":align: center\n",
    "::::\n",
    "\n",
    "Notar la diferencia con los casos anteriores: \n",
    "\n",
    "-   ahora en la entrada de la ancilla ponemos $\\ket{0}_n ~~\\Rightarrow$ como consecuencia el oráculo aplica $f(x)$ de forma *booleana*\n",
    "\n",
    "\n",
    "$$\n",
    "U_f \\sum_{x=0}^{2^n-1}\\ket{x}\\otimes \\ket{0}  = \\sum_{x=0}^{2^n-1}\\ket{x}\\otimes \\ket{f(x)}\n",
    "$$\n",
    "\n",
    "-  después de aplicar e oráculo el estado está entrelazado!\n",
    "$~\\Rightarrow ~$ si hacemos una medida del segundo registro \n",
    "  el  n-cúbit en segundo registro colapsará a un cierto estado \n",
    "$~\\ket{f(x_0)} $\n",
    "\n",
    "\n",
    "- en virtud de la *promesa* $\\ket{f(x_0)} = \\ket{f(x_0\\oplus s)}$, el primer registro colapsará a una *superposición de dos estados*  \n",
    "\n",
    "$$\n",
    " \\frac{1}{\\sqrt{2}} \\left( \\rule{0mm}{4mm} \\ket{x_0} + \\ket{x_0 \\oplus s} \\right)\n",
    "$$\n",
    "\n",
    "\n",
    "- siguiendo el circuito, aplicamos de nuevo la puerta de Walsh-Hadamard. El estado final en el primer registro será \n",
    "el siguiente\n",
    "\n",
    "\\begin{eqnarray*}\n",
    "\\ket{\\psi} &=& H^{\\otimes n} \\frac{1}{\\sqrt{2}} \\left( \\rule{0mm}{4mm} \\ket{x_0} + \\ket{x_0 \\oplus s} \\right) \\\\\n",
    "&=& \\frac{1}{\\sqrt{2^{n+1}}} \\sum_{y=0}^{2^n-1} \\left[ (-1)^{x_0\\cdot y} + (-1)^{(x_0\\oplus s) \\cdot y}\\right]  \\ket{y} \\nonumber\\\\ \\rule{0mm}{10mm}\n",
    "&=& \\frac{1}{\\sqrt{2^{n+1}}} \\sum_{y=0}^{2^n-1} \\left[ (-1)^{x_0\\cdot y} + (-1)^{x_0 \\cdot y}(-1)^{ s \\cdot y}\\right]  \\ket{y} \\nonumber\\\\ \\rule{0mm}{10mm}\n",
    "&=&  \\frac{1}{\\sqrt{2^{n+1}}} \\sum_{y=0}^{2^n-1}(-1)^{x_0\\cdot y}  \\left( \\rule{0mm}{6mm} 1+ (-1)^{s \\cdot y}\\right) \\ket{y}\n",
    "\\end{eqnarray*}\n",
    "\n",
    "Observemos  el factor \n",
    "\n",
    "$$\n",
    "\\frac{1}{2}\\left( \\rule{0mm}{3mm} 1+ (-1)^{s \\cdot y}\\right)~~ = ~~ \n",
    "\\left\\{\\begin{array}{ccc} 0 &\\hbox{if}&  s \\cdot y\\, (\\hbox{mod 2}) = 1 \\\\ 1 &\\hbox{if} & s\\cdot y\\, (\\hbox{mod 2}) = 0\\end{array}\n",
    "\\right.\n",
    "$$ \n",
    "\n",
    "\n",
    "Se trata de un proyector que hace que, al medir $\\ket{\\psi}$ **sólo tengan amplitud no nula** aquellos  $\\ket{y}$ con $s\\cdot y\\,  (\\hbox{mod 2})= 0$\n",
    "\n"
   ]
  },
  {
   "cell_type": "markdown",
   "metadata": {
    "slideshow": {
     "slide_type": "fragment"
    }
   },
   "source": [
    "Por tanto, una medida repetida $p$ veces en el primer registro producirá una serie de n-bits $ y^{(a)} = y^{(1)},y^{(2)},...,y^{(n)}$ *todos* los cuales  verifican un sistema homogéneo de $p$ ecuaciones lineales \n",
    "\n",
    "\\begin{eqnarray*}\n",
    "s\\cdot y^{(1)} (\\hbox{mod(2)})~=~ s_{n-1}y^{(1)}_{n-1} \\oplus s_{n-2}y^{(1)}_{n-2} \\oplus \\ldots \\oplus s_0 y^{(1)}_0  &~=~& 0 \\nonumber\\\\ \\rule{0mm}{8mm}\n",
    "s\\cdot y^{(2)} (\\hbox{mod(2)}) ~=~ s_{n-1}y^{(2)}_{n-1} \\oplus s_{n-2}y^{(2)}_{n-2} \\oplus \\ldots \\oplus s_0 y^{(2)}_0 &~=~& 0 \\nonumber\\\\\n",
    "\\vdots & & \\nonumber\\\\ \\rule{0mm}{10mm}\n",
    "s\\cdot y^{(p)} (\\hbox{mod(2)}) ~=~ s_{n-1}y^{(p)}_{n-1} \\oplus s_{n-2}y^{(p)}_{n-2} \\oplus \\ldots \\oplus s_0 y^{(p)}_0 &~=~& 0 \\nonumber\\\\\n",
    "\\end{eqnarray*}\n",
    "\n",
    "\n",
    "donde todas las suma se entienden módulo dos.\n",
    "Por un lado $s=s_{n-1}\\ldots s_0$ son nuestras incógnitas y, por otro, $y^{(a)} = y^{(a)}_{n-1}\\ldots y^{(a)}_0\\,$ con $a = 1,...,p~$ los coeficientes obtenidos como resultado de las medidas.\n",
    "\n",
    "Si queremos averiguar los $n$ bits que conforman la solución $s$ necesitaremos, como mínimo, $p=n$ ecuaciones linealmente independientes\n"
   ]
  },
  {
   "cell_type": "markdown",
   "metadata": {
    "slideshow": {
     "slide_type": "fragment"
    }
   },
   "source": [
    "::::::{admonition} Nota\n",
    ":class: note\n",
    "\n",
    "       \n",
    "1. No hay garantía de que las cadenas de bits $y$ obtenidos en las distintas evaluaciones del circuito sean diferentes siempre diferentes entre sí. \n",
    "Por tanto en general, para obtener un sistema lineal resoluble será necesario correr el circuito un número $p\\geq n$. \n",
    "    \n",
    "Es por esta razón que el algoritmo de Simon es <i>probabilístico</i>\n",
    "\n",
    "\n",
    "2.  La medida en el segundo registro es irrelevante y ¡se puede evitar! Y eso que parecía un ingrediente esencial del método. Pero el conjunto de registros $\\ket{y}$ que pueden aparecer al medir en el primer registro es independiente de $x_0$, que es el resultado de esa medida. \n",
    "\n",
    "\n",
    "Este ejemplo es un caso particular de un teorema general que se enunció en un capítulo anterior: <i>un registro cuántico que acaba  puede, de forma efectiva, considerarse como si se hubiera medido</i> \n",
    "::::::\n"
   ]
  },
  {
   "cell_type": "markdown",
   "metadata": {
    "slideshow": {
     "slide_type": "slide"
    }
   },
   "source": [
    "¡A programar!\n",
    "\n",
    "Una función vendrá definida por una tabla de verdad $f_{outputs}$ que verifique la *promesa*"
   ]
  },
  {
   "cell_type": "code",
   "execution_count": 16,
   "metadata": {},
   "outputs": [],
   "source": [
    "from qiskit import QuantumRegister, ClassicalRegister, QuantumCircuit\n",
    "\n",
    "def simon_circuit(oracle):\n",
    "    n = int(oracle.num_qubits/2)\n",
    "    qr_in = QuantumRegister(n, name='x')\n",
    "    qr_out = QuantumRegister(n, name='f(x)')\n",
    "    cr = ClassicalRegister(n, name='meas')    \n",
    "\n",
    "    'Construimos el circuito'\n",
    "    qc = QuantumCircuit(qr_in, qr_out, cr, name='q')   \n",
    "    qc.h(qr_in)\n",
    "\n",
    "    'creamos el oráculo, lo transformamos en una puerta y lo añadimos al circuito' \n",
    "    simon_oracle_gate = oracle.to_gate()\n",
    "    qc.append(simon_oracle_gate,qr_in[:]+qr_out[:])    \n",
    "\n",
    "    'Medimos el registro de los cúbits de |f(x)>  este paso se puede omitir, ¡compruébalo! '\n",
    "#    qc.measure(qr_out, cr)\n",
    "#    qc.barrier()\n",
    "\n",
    "    'Volvemos a aplicar la puerta de Walsh-Hadamard al primer registro'\n",
    "    qc.h(qr_in)\n",
    "    qc.barrier()\n",
    "\n",
    "    'Finalmente medimos el registro de los inputs |x>'\n",
    "    qc.measure(qr_in, cr) \n",
    "    \n",
    "    return qc"
   ]
  },
  {
   "cell_type": "markdown",
   "metadata": {},
   "source": [
    "Usaremos el ejemplo mencionado anteriormente para una función bivaluada definida por la siguiente tabla de verdad. El período binario es $s = 0011$"
   ]
  },
  {
   "cell_type": "code",
   "execution_count": 17,
   "metadata": {
    "slideshow": {
     "slide_type": "fragment"
    }
   },
   "outputs": [
    {
     "data": {
      "image/png": "[encoded data removed]",
      "text/plain": [
       "<Figure size 914.831x785.944 with 1 Axes>"
      ]
     },
     "execution_count": 17,
     "metadata": {},
     "output_type": "execute_result"
    }
   ],
   "source": [
    "f_outputs = ['1111', '1011', '0011', '1000', '0101', '0100', \n",
    "               '0000', '1110', '0101', '0100', '0000', '1110', \n",
    "               '1111', '1011', '0011', '1000']\n",
    "\n",
    "oracle = tQ.binary_function(f_outputs)\n",
    "simon_qc = simon_circuit(oracle)\n",
    "simon_qc.draw('mpl')"
   ]
  },
  {
   "cell_type": "markdown",
   "metadata": {
    "slideshow": {
     "slide_type": "slide"
    }
   },
   "source": [
    "**Comprobación:**"
   ]
  },
  {
   "cell_type": "code",
   "execution_count": 22,
   "metadata": {
    "slideshow": {
     "slide_type": "fragment"
    },
    "tags": [
     "remove-output"
    ]
   },
   "outputs": [
    {
     "data": {
      "image/png": "[encoded data removed]",
      "text/plain": [
       "<Figure size 700x500 with 1 Axes>"
      ]
     },
     "execution_count": 22,
     "metadata": {},
     "output_type": "execute_result"
    }
   ],
   "source": [
    "nshots = 1000\n",
    "\n",
    "dist = Sampler().run(simon_qc,shots=nshots).result().quasi_dists[0]\n",
    "counts_simon = tQ.dist2counts(dist,n,nshots)\n",
    "\n",
    "from qiskit.visualization import plot_histogram\n",
    "plot_histogram(counts_simon)"
   ]
  },
  {
   "cell_type": "markdown",
   "metadata": {},
   "source": [
    "Ahora viene el postprocesado, necesario para extraer $s$"
   ]
  },
  {
   "cell_type": "code",
   "execution_count": 55,
   "metadata": {
    "slideshow": {
     "slide_type": "slide"
    }
   },
   "outputs": [],
   "source": [
    "def extract_period(counts):\n",
    "    'extraemos la longitud de las cuentas y que será igual a la de la incógnita s'\n",
    "    n = len(list(counts)[0]) \n",
    "\n",
    "    'generamos todas las posibles periodicidades s'\n",
    "    s_list = [format(i, 'b').zfill(n) for i in range(1, 2**n)]\n",
    "#    s_list = [format(i, '0'+str(n)+'b') for i in range(1, 2**n)]  # otra manera de hacer lo mismo\n",
    "#    print(s_list)\n",
    "\n",
    "    'ahora evaluamos, para cada s,  s.y_i = 0 con todos los y_i encontrados'\n",
    "    for s_str in s_list:\n",
    "        s = [int(_) for _ in list(s_str)]\n",
    "#        print(' s=',s)\n",
    "\n",
    "        'solo necesitamos n valores de x independientes'\n",
    "        prod_sxi = [sum([s[j]*int(xi[j]) for j in range(len(s))])%2 for xi in list(counts)[:]]\n",
    "\n",
    "        'la suma será = 0 si y sólo si todos los s.x_i = 0 lo son también' \n",
    "        sum_sx = sum(prod_sxi)\n",
    "        print('(Sum_i (s.x_i)%2))=', sum_sx, ' para s=', s_str)\n",
    "        if  sum_sx==0:\n",
    "            return s_str\n",
    " "
   ]
  },
  {
   "cell_type": "markdown",
   "metadata": {},
   "source": [
    "Ejecutamos la parte clásica que sólo involucra ${\\cal O}(n^2)$ operaciones"
   ]
  },
  {
   "cell_type": "code",
   "execution_count": 56,
   "metadata": {
    "slideshow": {
     "slide_type": "fragment"
    },
    "tags": [
     "remove-output"
    ]
   },
   "outputs": [
    {
     "name": "stdout",
     "output_type": "stream",
     "text": [
      "(Sum_i (s.x_i)%2))= 4  para s= 0001\n",
      "(Sum_i (s.x_i)%2))= 4  para s= 0010\n",
      "(Sum_i (s.x_i)%2))= 4  para s= 0011\n",
      "(Sum_i (s.x_i)%2))= 4  para s= 0100\n",
      "(Sum_i (s.x_i)%2))= 4  para s= 0101\n",
      "(Sum_i (s.x_i)%2))= 4  para s= 0110\n",
      "(Sum_i (s.x_i)%2))= 4  para s= 0111\n",
      "(Sum_i (s.x_i)%2))= 4  para s= 1000\n",
      "(Sum_i (s.x_i)%2))= 4  para s= 1001\n",
      "(Sum_i (s.x_i)%2))= 4  para s= 1010\n",
      "(Sum_i (s.x_i)%2))= 4  para s= 1011\n",
      "(Sum_i (s.x_i)%2))= 0  para s= 1100\n",
      "la periodicidad buscada es = 1100\n"
     ]
    }
   ],
   "source": [
    "s_sol = extract_period(counts_simon)\n",
    "print('la periodicidad buscada es =', s_sol)"
   ]
  },
  {
   "cell_type": "markdown",
   "metadata": {},
   "source": [
    "Ahora podemos repetir con otras funciones binarias doblemente valuadas. "
   ]
  },
  {
   "cell_type": "markdown",
   "metadata": {
    "slideshow": {
     "slide_type": "slide"
    }
   },
   "source": [
    "::::::{admonition} Ejercicio\n",
    ":class: tip\n",
    "\n",
    "    \n",
    "Construye  una función que toma como argumento una cadena de bits <i>s</i>, y devuelve una tabla de verdad asociada a una función binaria $f:\\{0,1\\}^n\\to\\{0,1\\}^n$ con exactamente la <i></i>periodicidad binaria</i> $s$. Utiliza el algoritmo de Simon para recuperar dicha periodicidad. \n",
    "::::::\n"
   ]
  },
  {
   "cell_type": "code",
   "execution_count": 58,
   "metadata": {
    "slideshow": {
     "slide_type": "-"
    },
    "tags": [
     "remove-output"
    ]
   },
   "outputs": [],
   "source": [
    "def simon_oracle(s):   \n",
    "    'autor Sergio Barrera'  \n",
    "\n",
    "    def suma_mod2(a, b):    \n",
    "        suma = ''\n",
    "        for i in range(len(a)):\n",
    "            suma += str((int(a[i]) + int(b[i])) % 2)\n",
    "        return suma\n",
    "\n",
    "    n = len(s) \n",
    "    inputs  = [format(i, 'b').zfill(n) for i in range(2**n)]\n",
    "    aux = []\n",
    "    f_outputs = []    \n",
    "    for inp in inputs:\n",
    "        if inp in [suma_mod2(a, s) for a in aux]:\n",
    "            old = [a for a in aux if suma_mod2(a, s) == inp][0]\n",
    "            f_outputs.append(old)\n",
    "        else:\n",
    "            f_outputs.append(inp)\n",
    "            aux.append(inp)\n",
    "    print(f_outputs)\n",
    "    return tQ.binary_function(f_outputs)"
   ]
  },
  {
   "cell_type": "code",
   "execution_count": 59,
   "metadata": {},
   "outputs": [
    {
     "name": "stdout",
     "output_type": "stream",
     "text": [
      "['0000', '0001', '0010', '0011', '0100', '0101', '0110', '0111', '0010', '0011', '0000', '0001', '0110', '0111', '0100', '0101']\n"
     ]
    },
    {
     "data": {
      "image/png": "[encoded data removed]",
      "text/plain": [
       "<Figure size 2145.37x702.333 with 1 Axes>"
      ]
     },
     "execution_count": 59,
     "metadata": {},
     "output_type": "execute_result"
    }
   ],
   "source": [
    "simon_oracle('1010').draw('mpl')"
   ]
  }
 ],
 "metadata": {
  "kernelspec": {
   "display_name": "Python 3 (ipykernel)",
   "language": "python",
   "name": "python3"
  },
  "language_info": {
   "codemirror_mode": {
    "name": "ipython",
    "version": 3
   },
   "file_extension": ".py",
   "mimetype": "text/x-python",
   "name": "python",
   "nbconvert_exporter": "python",
   "pygments_lexer": "ipython3",
   "version": "3.9.16"
  },
  "nbTranslate": {
   "displayLangs": [
    "*"
   ],
   "hotkey": "alt-t",
   "langInMainMenu": true,
   "sourceLang": "en",
   "targetLang": "fr",
   "useGoogleTranslate": true
  },
  "toc": {
   "base_numbering": 1,
   "nav_menu": {},
   "number_sections": true,
   "sideBar": true,
   "skip_h1_title": true,
   "title_cell": "Table of Contents",
   "title_sidebar": "Contents",
   "toc_cell": false,
   "toc_position": {
    "height": "calc(100% - 180px)",
    "left": "10px",
    "top": "150px",
    "width": "414.053px"
   },
   "toc_section_display": true,
   "toc_window_display": false
  },
  "varInspector": {
   "cols": {
    "lenName": 16,
    "lenType": 16,
    "lenVar": 40
   },
   "kernels_config": {
    "python": {
     "delete_cmd_postfix": "",
     "delete_cmd_prefix": "del ",
     "library": "var_list.py",
     "varRefreshCmd": "print(var_dic_list())"
    },
    "r": {
     "delete_cmd_postfix": ") ",
     "delete_cmd_prefix": "rm(",
     "library": "var_list.r",
     "varRefreshCmd": "cat(var_dic_list()) "
    }
   },
   "types_to_exclude": [
    "module",
    "function",
    "builtin_function_or_method",
    "instance",
    "_Feature"
   ],
   "window_display": false
  }
 },
 "nbformat": 4,
 "nbformat_minor": 4
}