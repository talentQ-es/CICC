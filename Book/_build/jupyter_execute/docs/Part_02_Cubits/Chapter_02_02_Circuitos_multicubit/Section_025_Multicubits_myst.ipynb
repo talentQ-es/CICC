{
 "cells": [
  {
   "cell_type": "markdown",
   "id": "52a7bbaa",
   "metadata": {
    "slideshow": {
     "slide_type": "slide"
    }
   },
   "source": [
    "> {sub-ref}`today` | {sub-ref}`wordcount-minutes` min read\n",
    "\n",
    "::::{figure} ../../figuras/logos/Logo_TalentQ_Azul.png\n",
    ":width: 150px\n",
    ":align: right\n",
    "::::\n",
    "\n",
    "# Multi-cúbits\n",
    "\n",
    "\n",
    "\n",
    "\n",
    "$ \\newcommand{\\bra}[1]{\\langle #1|} $\n",
    "$ \\newcommand{\\ket}[1]{|#1\\rangle} $\n",
    "$ \\newcommand{\\braket}[2]{\\langle #1|#2\\rangle} $\n",
    "$ \\newcommand{\\i}{{\\color{blue} i}} $ \n",
    "$ \\newcommand{\\Hil}{{\\mathcal H}} $\n",
    "$ \\newcommand{\\cg}[1]{{\\rm C}#1} $"
   ]
  },
  {
   "cell_type": "code",
   "execution_count": 1,
   "id": "deca5f72",
   "metadata": {
    "slideshow": {
     "slide_type": "-"
    },
    "tags": [
     "hide-input"
    ]
   },
   "outputs": [
    {
     "ename": "ModuleNotFoundError",
     "evalue": "No module named 'qiskit.tools'",
     "output_type": "error",
     "traceback": [
      "\u001b[0;31m---------------------------------------------------------------------------\u001b[0m",
      "\u001b[0;31mModuleNotFoundError\u001b[0m                       Traceback (most recent call last)",
      "Cell \u001b[0;32mIn[1], line 10\u001b[0m\n\u001b[1;32m      8\u001b[0m \u001b[38;5;28;01mfrom\u001b[39;00m \u001b[38;5;21;01mIPython\u001b[39;00m\u001b[38;5;21;01m.\u001b[39;00m\u001b[38;5;21;01mdisplay\u001b[39;00m \u001b[38;5;28;01mimport\u001b[39;00m display,Markdown,Latex\n\u001b[1;32m      9\u001b[0m \u001b[38;5;28;01mimport\u001b[39;00m \u001b[38;5;21;01mmatplotlib\u001b[39;00m\u001b[38;5;21;01m.\u001b[39;00m\u001b[38;5;21;01mpyplot\u001b[39;00m \u001b[38;5;28;01mas\u001b[39;00m \u001b[38;5;21;01mplt\u001b[39;00m\n\u001b[0;32m---> 10\u001b[0m \u001b[38;5;28;01mfrom\u001b[39;00m \u001b[38;5;21;01mqiskit\u001b[39;00m\u001b[38;5;21;01m.\u001b[39;00m\u001b[38;5;21;01mtools\u001b[39;00m\u001b[38;5;21;01m.\u001b[39;00m\u001b[38;5;21;01mvisualization\u001b[39;00m \u001b[38;5;28;01mimport\u001b[39;00m array_to_latex\n",
      "\u001b[0;31mModuleNotFoundError\u001b[0m: No module named 'qiskit.tools'"
     ]
    }
   ],
   "source": [
    "%run ../../macro_tQ.py\n",
    "import sys\n",
    "sys.path.append('../../')\n",
    "import macro_tQ as tQ\n",
    "\n",
    "import numpy as np\n",
    "import scipy.linalg as la\n",
    "from IPython.display import display,Markdown,Latex\n",
    "import matplotlib.pyplot as plt\n",
    "from qiskit.tools.visualization import array_to_latex"
   ]
  },
  {
   "cell_type": "markdown",
   "id": "d20314a4",
   "metadata": {},
   "source": [
    "## Estados multi-cúbit\n",
    "\n",
    "### Bases multi-cúbit\n",
    "\n",
    " Sea $\\{ \\ket{i}\\}_{i=0,1}$ la base computacional del espacio de Hilbert de un cúbit $\\Hil = {\\mathbb C}^2$.\n",
    " \n",
    "::::::{card} \n",
    "<b>Definición</b>:  \n",
    "\n",
    "^^^\n",
    "\n",
    "La base computacional de $ \\Hil^{\\otimes n}$ está formada por todas las cadenas  posibles formadas con elementos de la base de $\\Hil$\n",
    "\n",
    "\n",
    "$$\n",
    " \\ket{i_{n-1}}\\otimes \\ket{i_{n-2}}\\otimes ... \\otimes \\ket{i_0} ~\\equiv ~\\ket{i_{n-1} i_{n-2}...i_0}~$$ \n",
    "\n",
    "    \n",
    "donde $~~\n",
    " i_{n-1},...,i_0=0,1$\n",
    "::::::\n",
    "\n",
    "\n",
    "\n",
    "La *dimensión*  dim($\\Hil^{\\otimes n}$) = $2^n$ coincide con el número combinaciones distintas posibles: $2\\times 2...\\times 2 = 2^n$.\n"
   ]
  },
  {
   "cell_type": "markdown",
   "id": "de5098ea",
   "metadata": {
    "slideshow": {
     "slide_type": "skip"
    }
   },
   "source": [
    "\n",
    "- Cuando representa un un ket mediante una columna de componentes, el producto tensorial se traduce en el producto de Kronecker. Por ejemplo, para un sistema de 2-cúbits,   $n=2$ y tendríamos $2^n=2^2 = 4$ y entonces\n",
    "\n",
    "\n",
    "\n",
    "$$\n",
    "\\ket{00}~=~ \\ket{0}\\otimes \\ket{0}~=~\n",
    "\\begin{bmatrix}1\\\\ 0\\end{bmatrix} \\otimes \\begin{bmatrix}1\\\\ 0\\end{bmatrix} = \\begin{bmatrix}1\\\\0\\\\0 \\\\ 0\\end{bmatrix}\n",
    "~~~~~~~~,~~~~~~~\n",
    "\\ket{01}~=~ \\ket{0}\\otimes \\ket{1}~=~\n",
    "\\begin{bmatrix}1\\\\ 0\\end{bmatrix} \\otimes \\begin{bmatrix}0\\\\ 1\\end{bmatrix} = \\begin{bmatrix}0\\\\1\\\\0 \\\\ 0\\end{bmatrix}\n",
    "$$\n",
    "\n",
    "\n",
    "\n",
    "\n",
    "$$\n",
    "\\ket{10}~=~ \\ket{1}\\otimes \\ket{0}~=~\n",
    " \\begin{bmatrix}0\\\\ 1\\end{bmatrix} \\otimes \\begin{bmatrix}1\\\\ 0\\end{bmatrix} = \\begin{bmatrix}0\\\\0\\\\1 \\\\ 0\\end{bmatrix}\n",
    " ~~~~~~~,~~~~~~\n",
    "\\ket{11}~=~ \\ket{1}\\otimes \\ket{1}~=~\n",
    "\\begin{bmatrix}0\\\\ 1\\end{bmatrix} \\otimes \\begin{bmatrix}0\\\\ 1\\end{bmatrix} = \\begin{bmatrix}0\\\\0\\\\0 \\\\ 1\\end{bmatrix}\n",
    "$$\n",
    "\n",
    "\n",
    "\n",
    "\n",
    "Las etiquetas de los vectores y, por tanto, de las componentes de las matrices, bi-índices $ij=11,12,21,22$  adoptan el mismo número, $N^2$, de configuraciones distintas. \n",
    "\n",
    "\n",
    "::::::{admonition} Notar\n",
    ":class: note\n",
    "\n",
    "    \n",
    "- El <i>multi-ínidice</i> $i_{n-1}i_{n-2}....i_0$ puede interpretarse como un número entero, $p$, escrito en base *binaria*, que podemos traducir a base decimal\n",
    "\n",
    "\n",
    "$$\n",
    "~~ i_{n-1} i_{n-2}...i_0 ~~~\\longleftrightarrow~~~\n",
    "  p ~=~ 2^{n-1}i_{n-1} + 2^{n-2}i_{n-2} + ...+ 2^1 i_1 + 2^0 i_0  ~=~ \\sum_{k=0}^{n-1} 2^k i_k \n",
    "$$\n",
    "\n",
    "que tomará  $2^n$ valores $p = 0,1, \\, ...\\, ,2^{n}-1$. \n",
    "\n",
    "    \n",
    "- Usamos el convenio de que el número binario menos significativo está a la derecha\n",
    "    \n",
    "::::::\n",
    "\n",
    " El cambio de notación *multi-índice* $\\leftrightarrow$ *entero en notación decimal* será frecuente. \n",
    "Por ejemplo $\\ket{000} = \\ket{0}, \\ket{111} = \\ket{7}$ etc.\n",
    "\n",
    "El vector de estado más general  $\\ket{u}\\in \\Hil^{\\otimes n}$ será una combinación lineal de elementos de la base computacional $\\ket{i_n i_{n-1}...i_1}$ en términos de unas componentes $u_{i_ni_{n-1}...i_1}$   \n",
    "\n",
    "$$\n",
    "\\ket{u} = \\sum_{i_{n-1},...,i_0=0,1} u_{i_{n-1} ... i_0} \\ket{i_{n-1}  ... i_0}  = \\sum_{p=0}^{2^n-1} u_p \\ket{p}, .\n",
    "$$\n",
    "\n",
    "donde hemos usado alternativamente la notación binaria y la decimal. \n",
    "\n",
    "\n",
    "::::::{admonition} Ejemplo\n",
    ":class: tip\n",
    "\n",
    "\n",
    "Para $n=2$ tendremos, en notación binaria  \n",
    "\n",
    "$$\n",
    "\\begin{array}{ccc}\n",
    "\\ket{u} ~&=& ~ \\sum_{i,j=0,1} u_{ij} \\ket{ij}~=~ u_{00}\\ket{00}+ u_{01}\\ket{01} + u_{10}\\ket{10} +u_{11}\\ket{11}\n",
    "\\\\ \\\\\n",
    "~&=&~ u_{00}\\begin{bmatrix}1\\\\0\\\\0 \\\\ 0\\end{bmatrix}+ u_{01}  \\begin{bmatrix}0\\\\1\\\\0 \\\\ 0\\end{bmatrix} + u_{10}\\begin{bmatrix}0\\\\0\\\\1\\\\0\\end{bmatrix}+u_{11}  \\begin{bmatrix}0\\\\0\\\\0\\\\1\\end{bmatrix}   ~ = \\begin{bmatrix}u_{00}\\\\ u_{01}\\\\ u_{10} \\\\ u_{11}  \\end{bmatrix}\n",
    "\\end{array}\n",
    "$$\n",
    "    \n",
    "y en notación decimal, para el mismo vector\n",
    "\n",
    "$$\n",
    "\\begin{array}{ccc}\n",
    "\\ket{u} ~&=& ~ \\sum_{k=0}^{2^2-1=3} u_{k} \\ket{k}~=~ u_{0}\\ket{0}+ u_{1}\\ket{1} + u_{2}\\ket{2} +u_{3}\\ket{3}\n",
    "\\\\ \\\\\n",
    "~&=&~ u_{0}\\begin{bmatrix}1\\\\0\\\\0 \\\\ 0\\end{bmatrix}+ u_{1}  \\begin{bmatrix}0\\\\1\\\\0 \\\\ 0\\end{bmatrix} + u_{2}\\begin{bmatrix}0\\\\0\\\\1\\\\0\\end{bmatrix}+u_{3}  \\begin{bmatrix}0\\\\0\\\\0\\\\1\\end{bmatrix}   ~ = \\begin{bmatrix}u_{0}\\\\ u_{1}\\\\ u_{2} \\\\ u_{3}  \\end{bmatrix}\n",
    "\\end{array}\n",
    "$$\n",
    "No debería haber confusión entre ambas notaciones puesto que, en cuanto aparezca un número superior a 1 quiere decir que estamos tratando con la base decimal. \n",
    "::::::\n",
    "\n",
    "\n"
   ]
  },
  {
   "cell_type": "markdown",
   "id": "a9ce2e97",
   "metadata": {
    "slideshow": {
     "slide_type": "skip"
    }
   },
   "source": [
    "  \n",
    "::::::{admonition} Ejercicio\n",
    ":class: tip\n",
    "\n",
    "Normaliza el vector $\\ket{u} = (1+i)\\ket{101} -2\\ket{010} + 3\\ket{111}$ y escríbelo en notación decimal\n",
    "::::::\n"
   ]
  },
  {
   "cell_type": "markdown",
   "id": "0c2eeb74",
   "metadata": {
    "slideshow": {
     "slide_type": "slide"
    }
   },
   "source": [
    "### Circuitos multi-cúbit\n",
    "\n",
    "Sea  un estado multicúbit de la base computacional $q_{a} = 0,1$\n",
    "\n",
    "$$\n",
    "\\ket{q_{n-1}q_{n-2}...q_0} ~=~ \\ket{q_{n-1}}\\otimes \\ket{q_{n-2}}\\otimes ... \\otimes \\ket{q_0}\n",
    "$$\n",
    "\n",
    "Este estado \n",
    "se propaga a lo largo de un circuito de forma que <i>cada línea representa un espacio de Hilbert</i>.\n",
    "\n",
    "La asignación que se hace en *Qibo* y en *Qiskit* coloca el cúbit de índice binario *menos relevante* $q_0$  en la  línea superior. Esto es\n",
    "\n",
    "- Qiskit:  \n",
    "\n",
    "\n",
    "::::{figure} images/multicubit_circ.png\n",
    ":width: 200px\n",
    ":align: center\n",
    "::::\n",
    "\n",
    "\n",
    "- Todos los demás\n",
    "\n",
    "::::{figure} images/Multicubit_circ_NC.png\n",
    ":width: 200px\n",
    ":align: center\n",
    "::::\n"
   ]
  },
  {
   "cell_type": "markdown",
   "id": "07b06339",
   "metadata": {
    "slideshow": {
     "slide_type": "slide"
    }
   },
   "source": [
    "### Entrelazamiento\n",
    "\n",
    "De forma  general, los estados $\\ket{u}\\in \\Hil^{\\otimes n}$ pueden ser de dos clases:\n",
    "    \n",
    "    \n",
    "   - *estado factorizables*, cuando $\\ket{u} = \\ket{a}\\otimes \\ket{b}\\otimes...\\otimes \\ket{c}$\n",
    "\n",
    "\n",
    "   - *estados entrelazados*, cuando $\\ket{u} \\neq \\ket{a}\\otimes \\ket{b}\\otimes...\\otimes \\ket{c}$ no es factorizable\n",
    "    \n",
    "    \n",
    "Ahora podemos usar también *bases* cuyo elementos sean vectores factorizados o entrelazados. \n",
    "\n",
    "- *base computacional* (factorizada): $\\{ \\ket{00},\\ket{01},\\ket{10},\\ket{11}\\}$\n",
    "\n",
    "\n",
    "- *base de Bell* (entrelazada): \n",
    "\n",
    "$$\n",
    "\\begin{array}{rcl}\n",
    "\\ket{00}_B &=& \\frac{1}{\\sqrt{2}} \\big( \\ket{00} + \\ket{11} \\big) \\\\\n",
    "\\ket{01}_B &=& \\frac{1}{\\sqrt{2}} \\big( \\ket{00} - \\ket{11} \\big) \\\\\n",
    "\\ket{10}_B &=& \\frac{1}{\\sqrt{2}} \\big( \\ket{01} + \\ket{10} \\big) \\\\\n",
    "\\ket{11}_B &=& \\frac{1}{\\sqrt{2}} \\big( \\ket{01} - \\ket{10} \\big) \\\\\n",
    "\\end{array}\n",
    "$$\n",
    "\n",
    "  "
   ]
  },
  {
   "cell_type": "markdown",
   "id": "41d06a69",
   "metadata": {
    "slideshow": {
     "slide_type": "slide"
    }
   },
   "source": [
    "### Medidas parciales\n",
    "\n",
    "Una medida parcial afecta sólamente a un subconjunto de cúbits de un multi-cúbit. \n",
    "Aquí encontramos una diferencia crucial entre estados factorizables y entrelazados. \n",
    "Consideremos el estado bi-cúbit *factorizable* visto antes\n",
    "\n",
    "$$\n",
    "\\ket{u} = \\ket{a}\\otimes \\ket{b} = \\frac{1}{\\sqrt{2}}\\big( \\ket{0} + \\ket{1}\\big)\\otimes \\frac{1}{\\sqrt{2}}\\big( \\ket{0} + \\ket{1}\\big)\\, .\n",
    "$$\n",
    "\n",
    "donde vamos a suponer que el cúbit $\\ket{a}$ está en el laboratorio de Alice, y el $\\ket{b}$ en el de Bob.\n",
    "Una medida de Alice sobre el primer cúbit solo podrá resultar, con probabilidad $1/2$, en uno de los dos posibles estados siguientes  \n",
    "\n",
    "$$\n",
    "\\ket{u} ~\\rightarrow ~ \\left\\{ \\begin{matrix}\\ket{0} \\otimes \\displaystyle\\frac{1}{\\sqrt{2}}\\big( \\ket{0} + \\ket{1}\\big)\\\\ \\ket{1} \\otimes  \\displaystyle\\frac{1}{\\sqrt{2}}\\big( \\ket{0} + \\ket{1}\\big) \\end{matrix} \\right.\n",
    "$$\n",
    "\n",
    "\n",
    "Vemos que, después de esta medición, el segundo cúbit permanece intacto. Si Bob mide, podrá obtener $\\ket{0}$ ó $\\ket{1}$ con probabilidad $1/2$.\n",
    "\n",
    "En este caso, las medidas de Alice y Bob *no están correlacionadas* \n",
    "Sin embargo, si el estado es *entrelazado*, por ejemplo, \n",
    "\n",
    "\n",
    "$$\n",
    "  \\ket{u} = \\frac{1}{\\sqrt{2}}\\big( \\ket{00} + \\ket{11} \\big)\\, ,\n",
    "$$\n",
    "\n",
    "una medida de Alice sobre el primer cúbit hace colapsar estado completo a uno de los dos siguientes posibles \n",
    "\n",
    "\n",
    "$$\n",
    "\\ket{u} ~\\stackrel{\\hbox{ mide Alice}}{\\longrightarrow} ~ \\left\\{ \\begin{matrix}\\ket{0}\\otimes\\ket{0}  \\\\ \\ket{1}\\otimes \\ket{1}\\end{matrix} \\right. \\, .\n",
    "$$\n",
    "\n",
    "también con probabilidad 1/2 cada caso.\n",
    "\n",
    "Vemos que ahora: el segundo cúbit ha sufrido modificación  *correlacionada* con el resultado obtenido de la medida del primero\n",
    "\n",
    "- Si Alice midió $\\ket{0}$, Bob sólo puede obtener $\\ket{0}$\n",
    "\n",
    "\n",
    "- Si Alice midió $\\ket{1}$, Bob sólo puede obtener $\\ket{1}$\n",
    "\n",
    "\n",
    "\n",
    "en este caso, las medidas de Alice y Bob sí están 100\\% *correlacionadas*. \n",
    "Esta correlación es independiente de la distancia que separe a Alice y a Bob, algo que parece violar causalidad. \n",
    "Einstein Podolski y Rosen en 1935 pensaron que este hecho indicaba que la Mecánica Cuántica era incompleta.  Esto se conoce como la [*paradoja EPR*](https://en.wikipedia.org/wiki/Einstein%E2%80%93Podolsky%E2%80%93Rosen_paradox)\n",
    "\n",
    "::::::{admonition} Notar\n",
    ":class: note\n",
    "\n",
    "    \n",
    "    \n",
    "-  En ambos casos, factorizable o entrelazado,  las probabilidades de Bob, de obtener $\\ket{0}$ ó $\\ket{1}$ en el segundo cúbit, son iguales a $1/2$. \n",
    "\n",
    "    \n",
    "- Eso implica que las correlaciones cuánticas debidas al entrelazamiento <i>no permiten transmitir información</i>\n",
    "\n",
    "    \n",
    "- Sin embargo, sus efectos sí que existen. Para ponerlos de manifiesto fue necesario diseñar experimentos más sutiles. El primero que de ellos fue debido a John Bell en 1964\n",
    "\n",
    "::::::\n"
   ]
  },
  {
   "cell_type": "markdown",
   "id": "787082b2",
   "metadata": {
    "slideshow": {
     "slide_type": "slide"
    }
   },
   "source": [
    "## Puertas multi-cúbit\n",
    "\n",
    "Ya hemos visto en la lección de operadores que, al igual que con los vectores, los operadores pueden dividirse en dos clases esenciales: operadores factorizados y no-factorizados. Los primeros son de la forma\n",
    "\n",
    "$$\n",
    "O = O_0 \\otimes O_1 ~...~\\otimes O_{n-1}\n",
    "$$\n",
    "\n",
    "donde cada operador actúa de forma independiente en un sólo factor del espacio de Hilbert $\\Hil^n$.\n",
    "\n",
    "\n",
    "### La puerta de Walsh-Hadamard\n",
    "\n",
    "El operador de Waslh-Hadamard es un ejemplo de este tipo \n",
    "\n",
    "$$\n",
    "W =  H^{\\otimes n} = H\\otimes H \\ldots \\otimes H \n",
    "$$\n",
    "\n",
    "La  acción  de $W$ sobre el estado de referencia $\\ket{00...0}$ produce una superposición uniforme de todos los estados de la base.\n",
    "\n",
    "\n",
    "\n",
    "\\begin{eqnarray*}\n",
    "W \\ket{00...0} &~=~& H\\ket{0}\\otimes H\\ket{0} \\otimes ... \\otimes H\\ket{0} \\\\  \\rule{0mm}{12mm}\n",
    "&=& \\frac{1}{\\sqrt{2}}\\big(\\ket{0}+\\ket{1}\\big)\\otimes \\frac{1}{\\sqrt{2}}\\big(\\ket{0}+\\ket{1}\\big)\\otimes ...\\otimes \\frac{1}{\\sqrt{2}}\\big(\\ket{0}+\\ket{1}\\big)\\\\ \\rule{0mm}{10mm}\n",
    "&=& \\frac{1}{2^{n/2}}\\big(\\ket{00...00} + \\ket{00...01}+....+\\ket{11...11} \\big)\n",
    "\\end{eqnarray*}\n",
    " \n",
    " \n",
    "::::::{admonition} Nota\n",
    ":class: note\n",
    "\n",
    "Vamos a rescribir la acción de $W$ de forma que no se haga inmanejable cuando $n$ crezca.\n",
    "Para ello recordemos que  la acción de $H$ sobre un solo cúbit $\\ket{x} = \\ket{0}$ ó $\\ket{1}$\n",
    "    \n",
    "$$\n",
    "H\\ket{x} = \\frac{1}{\\sqrt{2}}\\sum_{y=0,1}(-1)^{xy}\\ket{y}\n",
    "$$\n",
    "\n",
    "Entonces,  usando la distributividad del producto de sumas podemos manipular\n",
    "\n",
    "\n",
    "    \n",
    "$$\n",
    "\\begin{array}{rcl}\n",
    "W \\ket{x} &=& H\\ket{x_{n-1}}\\otimes H\\ket{x_{n-2}}\\otimes \\ldots \\otimes H\\ket{x_0} \\\\  \\rule{0mm}{8mm}\n",
    "&=&\\frac{1}{\\sqrt{2}} \\sum_{y_{n-1}= \\, 0,1} (-1)^{y_{n-1}x_{n-1}}\\ket{y_{n-1}}\\otimes\\frac{1}{\\sqrt{2}} \\sum_{y_{n-2}=0,1} (-1)^{y_{n-2}x_{n-2}}\\ket{y_{n-2}} \\otimes \\ldots \\otimes \\frac{1}{\\sqrt{2}} \\sum_{y_{0}\\, =\\, 0,1} (-1)^{y_{0}x_{0}}\\ket{y_{0}} \\\\ \\rule{0mm}{8mm}\n",
    "&=& \\frac{1}{2^{n/2}}\\sum_{y_{n-1} y_{n-2}\\ldots y_{0}=\\, 0,1} (-1)^{x_{n-1} y_{n-1}+ \\ldots + x_0 y_0} \\ket{y_{n-1}\\ldots y_0} \\hspace{5.2cm}\\\\\n",
    "&=& \\frac{1}{2^{n/2}} \\sum_{y \\, =\\, 0}^{2^n-1}(-1)^{x\\cdot y} \\ket{y} \\rule{0mm}{8mm}\n",
    "\\end{array}\n",
    "$$\n",
    "    \n",
    "donde \n",
    "\n",
    "    \n",
    "$$ x\\cdot y = x_{n-1} y_{n-1} + x_{n-1} y_{n-1} + \\ldots + x_0 y_0$$\n",
    "    \n",
    "Esta expresión será de gran utilidad cuando estudiemos algoritmos sencillos\n",
    "::::::\n",
    "\n",
    "::::::{admonition} Ejercicio\n",
    ":class: tip\n",
    "\n",
    "escribe el producto de Kronecker de dos matrices $H\\otimes H$ y verifica que sus componentes verifican\n",
    "\n",
    "$$\n",
    "W_{xy} =  \\frac{1}{2^{n/2}} \\sum_{y \\, =\\, 0}^{2^n-1}(-1)^{x\\cdot y}\n",
    "$$\n",
    "    \n",
    "donde $n=2 $ y $x,y = 0,1$.\n",
    "::::::\n",
    "    \n"
   ]
  },
  {
   "cell_type": "markdown",
   "id": "2447f842",
   "metadata": {
    "slideshow": {
     "slide_type": "skip"
    }
   },
   "source": [
    "Las puertas factorizable son un conjunto muy pequeño dentro del conjunto de operadores generales sobre $\\Hil^n$. Vamos ahora a ver puertas no factorizables, primero actuando sobre $\\Hil^2$, es decir, binarias\n",
    "\n",
    "\n",
    "### La puerta SWAP\n",
    "\n",
    " La puerta SWAP es una puerta binaria fundamental, cuya acción consiste en permutar los estados existentes en los registros individuales sobre los que actúa. En particular, sobre los elementos de la base\n",
    "\n",
    "\n",
    "$$\n",
    "U_{\\rm SWAP }: \\ket{00}\\to\\ket{00}~~,~~\\ket{01}\\to\\ket{10}~~,~~\\ket{10}\\to\\ket{01}~~,~~\n",
    "\\ket{11}\\to\\ket{11}\\, .\n",
    "$$\n",
    "\n",
    "Esto nos permite escribir el operador en la notación de producto exterior\n",
    "\n",
    "$$\n",
    "U_{\\rm SWAP } = \\ket{00}\\bra{00} + \\ket{01}\\bra{10} + \\ket{10}\\bra{01} +\\ket{11}\\bra{11} \n",
    "$$\n",
    "\n",
    "de donde se leen las componentes de la  matriz asociada \n",
    "\n",
    "$$\n",
    "U_{\\rm SWAP} =  \\begin{bmatrix} \n",
    "1 & 0 & 0 & 0 \\\\ 0 & 0 & 1 & 0 \\\\ 0 & 1 & 0 & 0 \\\\ 0 & 0 & 0 & 1\n",
    "\\end{bmatrix}\n",
    "$$\n",
    "\n",
    "y su inserción en un circuito se representa en la forma siguiente\n",
    "\n",
    "\n",
    "\n",
    "::::{figure} images/SWAP_gate.png\n",
    ":width: 200px\n",
    ":align: center\n",
    "\n",
    "::::\n"
   ]
  },
  {
   "cell_type": "markdown",
   "id": "c8338cc0",
   "metadata": {
    "slideshow": {
     "slide_type": "skip"
    }
   },
   "source": [
    "### Puertas controladas $\\cg{U}$\n",
    "\n",
    "Las puertas controladas son eficientes para generar entrelazamiento\n",
    "En la puerta controlada un operador se aplica sobre un cúbit dependiendo del estado en el que se encuentra otro. La *representación gráfica* del circuito asociado es la siguiente\n",
    "\n",
    "\n",
    "\n",
    "::::{figure} images/cU_gate.png\n",
    ":width: 200px\n",
    ":align: center\n",
    "::::\n",
    "\n",
    "\n",
    "El cúbit con el punto  se denomina *controlador*, mientras que el otro es el *controlado*\n",
    "La acción de la puerta controlada se resume en la forma de Dirac siguiente\n",
    "\n",
    "\n",
    "$$\n",
    "\\cg{U} = \\ket{0}\\bra{0}\\otimes I + \\ket{1}\\bra{1}\\otimes U\n",
    "$$\n",
    "\n",
    "\n",
    "donde $U$ es un operador unitario de 1-cúbit general. En esta forma la acción es transparente y se puede resumir en: si en el primer cúbit (controlador)\n",
    "\n",
    "    \n",
    "- entra $\\ket{0}$, sale $\\ket{0}$ y en el segundo cúbit (controlado) no se hace nada (se aplica $I$).\n",
    "\n",
    "    \n",
    "- entra $\\ket{1}$, sale $\\ket{1}$ y en el segundo cúbit (controlado) se aplica el operador $U$.\n",
    "\n",
    "\n",
    "La *representación matricial* de $\\cg{U}$ es fácil de obtener como suma de  *productos de Kronecker* \n",
    "\n",
    "\n",
    "\\begin{eqnarray*}\n",
    "\\cg{U} &=& \\begin{bmatrix}1 & 0 \\\\ 0 & 0 \\end{bmatrix}\\otimes  I +  \\begin{bmatrix}0 & 0 \\\\ 0 & 1 \\end{bmatrix} \\otimes U\n",
    "= \\begin{bmatrix} 1\\times I & 0 \\\\ 0 & 0 \\end{bmatrix}  + \n",
    "\\begin{bmatrix} 0 & 0 \\\\ 0 & 1\\times U \\end{bmatrix} \\\\\n",
    "&=& \\begin{bmatrix}   I & 0 \\\\ 0 &   U \\end{bmatrix} = \n",
    "\\begin{bmatrix} 1 & 0 & 0 & 0 \\\\ 0 & 1 & 0 & 0 \\\\ 0 & 0 & U_{11} & U_{12} \\\\\n",
    "0 & 0 & U_{21} & U_{22}\\end{bmatrix}\n",
    "\\end{eqnarray*}\n",
    "\n",
    " con $x,y = 0,1$.\n",
    "\n",
    "::::::{admonition} Nota\n",
    ":class: note\n",
    "\n",
    "\n",
    "- La *acción* de $\\cg{U}$ sobre elementos de la base $\\{\\ket{x}\\}$ donde $x=0,1$ admite una forma compacta \n",
    "\n",
    "$$\n",
    "\\cg{U}:\\ket{x}\\otimes\\ket{y} = \\ket{x} \\otimes U^x\\ket{y}\n",
    "$$\n",
    "\n",
    "- Escrito de esta manera es evidente que, si $U$ es una matriz unitaria, $\\cg{U}$ también lo es $~\n",
    "\\Rightarrow (\\cg{U})^\\dagger \\cg{U} = I$.\n",
    "No es algo trivial por cuanto la combinación lineal de operadores unitarios, en general, no es  unitaria.\n",
    "\n",
    "\n",
    "\n",
    "\n",
    "::::::\n",
    "\n",
    "\n",
    "::::::{admonition} Ejercicio\n",
    ":class: tip\n",
    "\n",
    "    \n",
    "Escribe un operador controlado y las matrices asociadas cuando  \n",
    "\n",
    "-  el cúbit de control es el segundo sobre el primero. \n",
    "    \n",
    "-  el operador $U$ se aplica sobre el segundo cúbit, si el estado del controlador es $\\ket{0}$. \n",
    "\n",
    "::::::\n",
    "    \n",
    "Operadores como éste existen en circuitos clásicos. La fascinante novedad es que, ahora, por el primer cúbit podría circular una *superposición* $a\\ket{0} + b\\ket{1}$.\n",
    "\n",
    "En ese caso, el resultado de una acción controlada también conduce a una superposición, de forma tal que **se genera entrelazamiento**\n",
    "\n",
    "Para verlo, hagamos actuar $\\cg{U}$ sobre un estado de la forma  $\\ket{\\phi} = (a\\ket{0} + b\\ket{1})\\otimes \\ket{U}$, que es *factorizable*\n",
    "  \n",
    "\n",
    " \n",
    "\\begin{eqnarray*}\n",
    "\\cg{U}\\,(a\\ket{0} +b \\ket{1})\\otimes \\ket{v} &=&\n",
    "    \\left(\\ket{0}\\bra{0}\\otimes I + \\ket{1}\\bra{1}\\otimes U\\rule{0mm}{4mm}\\right)(a\\ket{0} +b \\ket{1})\\otimes \\ket{v}  \n",
    "  \\\\ \\rule{0mm}{14mm}\n",
    "    &=& a\\ket{0}\\otimes \\ket{v} + b\\ket{1}\\otimes U\\ket{v} \\nonumber\n",
    "\\end{eqnarray*}\n",
    "\n",
    "\n",
    "Vemos que, efectivamente, el resultado es un estado *entrelazado*\n",
    "\n",
    "\n",
    "\n",
    "::::{figure} images/entangling_CU_circuit.png\n",
    ":width: 400px\n",
    ":align: center\n",
    "::::\n"
   ]
  },
  {
   "cell_type": "markdown",
   "id": "a8dcde57",
   "metadata": {
    "slideshow": {
     "slide_type": "slide"
    }
   },
   "source": [
    "### La puerta CNOT\n",
    "\n",
    "La  puerta *binaria* CNOT = $\\cg{X}$ es el caso más sencillo de *operador no factorizable* \n",
    "gráficamente\n",
    "\n",
    "\n",
    "::::{figure} images/cX_gate.png\n",
    ":width: 200px\n",
    ":align: center\n",
    "::::\n",
    "\n",
    "\n",
    "$$\n",
    "\\hbox{CNOT} = \\cg{X} ~=~ \\ket{0}\\bra{0}\\otimes I + \\ket{1}\\bra{1}\\otimes X ~=~ \\begin{bmatrix} 1 & 0 & 0 & 0 \\\\ 0 & 1 & 0 & 0 \\\\ 0 & 0 & 0 & 1 \\\\\n",
    "0 & 0 & 1 & 0\\end{bmatrix}\n",
    "$$\n",
    "\n",
    "Sobre elementos de la base computacional $\\ket{xy}=\\ket{x}\\otimes\\ket{y}$ donde $\\, x,y= 0,1$, su acción  se puede representar de manera compacta usando la suma módulo dos \n",
    "\n",
    "$$\n",
    "\\cg{X}:\\ket{x}\\otimes\\ket{y}=  \\ket{x} \\otimes X^x\\ket{y} = \\ket{x} \\otimes \\ket{y\\oplus x}\n",
    "$$\n",
    "\n",
    "\n",
    "\n",
    "::::::{admonition} Ejercicio 1.2.1.4\n",
    ":class: tip\n",
    "\n",
    "    \n",
    "el estado factorizable más general de dos cúbits es ($a$ es la normalización)\n",
    "\n",
    "\n",
    "    \n",
    "$$\n",
    "\\ket{\\psi} = a \\left(\\ket{0} + b_1 e^{i\\phi_1}\\ket{1}) (\\ket{0} + b_0 e^{i\\phi_0} \\ket{1} \\right) \n",
    "$$\n",
    "\n",
    "\n",
    "Escribe la condición más general que deben satisfacer  $b_0,b_1,\\phi_0$ y $\\phi_1$ para que CNOT$\\ket{\\psi}$ sea un vector entrelazado.\n",
    "::::::\n"
   ]
  },
  {
   "cell_type": "markdown",
   "id": "35480c46",
   "metadata": {
    "slideshow": {
     "slide_type": "skip"
    }
   },
   "source": [
    "### La puerta CSWAP o de Fredkin\n",
    "\n",
    "\n",
    "\n",
    "\n",
    "::::{figure} images/CSWAP_gate.png\n",
    ":width: 130px\n",
    ":align: center\n",
    "::::\n",
    "\n",
    "\n",
    "\n",
    "Si el cúbit  de control está en  el estado $\\ket{1}$ los dos cúbits controlados se intercambian\n",
    "\n",
    "\n",
    "\n",
    "\n",
    "$$\n",
    "U_{\\rm CSWAP} =\\ket{0}\\bra{0} \\otimes I_4 + \\ket{1}\\bra{1} \\otimes U_{\\rm SWAP} \\, .\n",
    "$$\n",
    "\n",
    "\n",
    "\n"
   ]
  },
  {
   "cell_type": "markdown",
   "id": "c2bfc08a",
   "metadata": {
    "slideshow": {
     "slide_type": "skip"
    }
   },
   "source": [
    "### La puerta CCNOT o de Toffoli\n",
    "\n",
    "La puerta CCNOT, también llamada puerta de Toffoli,  es un operador sobre $\\Hil^{\\otimes 3}$, en el que dos cúbits controlan la acción de $X$ sobre un tercero\n",
    "\n",
    "$\\Rightarrow$\n",
    "*sólo si ambos cúbits* de control están en el estado $\\ket{11}$ el operador $X$ actuará sobre el tercero\n",
    "\n",
    "\n",
    "\n",
    "::::{figure} images/ccX_gate.png\n",
    ":width: 200px\n",
    ":align: center\n",
    "::::\n",
    "\n",
    "De nuevo, su representación es muy sencilla\n",
    "\n",
    "$$\n",
    "{\\rm CCNOT} = \\big(\\ket{00}\\bra{00}+\\ket{01}\\bra{01}+\\ket{10}\\bra{10}\\big)\\otimes I + \\ket{11}\\bra{11}\\otimes X\n",
    "$$\n",
    "\n",
    "\n",
    "::::::{admonition} Ejercicios 1.2.1.5\n",
    ":class: tip\n",
    "\n",
    "    \n",
    "    \n",
    "1. obtener la matriz que representa la puerta de Toffoli en la base computacional. \n",
    "     \n",
    "2. obtener la matriz de un circuito de 3 cúbits con una puerta CNOT en la que el tercer cúbit controla el primero. Reproducirla usando qiskit.\n",
    "::::::\n",
    "\n"
   ]
  },
  {
   "cell_type": "markdown",
   "id": "c6cfb607",
   "metadata": {
    "slideshow": {
     "slide_type": "skip"
    }
   },
   "source": [
    "### Puertas multiplemente controladas\n",
    "\n",
    "En la puerta CNOT o CX multi-controlada el operador X se activa si y sólo si los cúbits de control se encuentran en una configuración deseada. \n",
    " \n",
    " Los botones blancos denotan controladores que se activan si el cúbit es $\\ket{0}$. Esencialmente son iguales a un controlador negro con una puerta $X$ antes y otra después.\n",
    "\n",
    "Por ejemplo, en este caso, la puerta $X$ se activará si los cúbits de control se encuentran en el estado $\\ket{1100}$\n",
    "\n",
    "\n",
    "\n",
    "::::{figure} images/MCX_gate.png\n",
    ":width: 80px\n",
    ":align: center\n",
    "::::\n",
    "\n",
    "El operador asociado a esta puerta será\n",
    "\n",
    "$$\n",
    "MCX = \\ket{1100}  \\bra{1100}\\otimes X + (I-\\ket{1100}\\bra{1100}) \\otimes I\n",
    "$$"
   ]
  },
  {
   "cell_type": "markdown",
   "id": "4cf3d271",
   "metadata": {
    "slideshow": {
     "slide_type": "skip"
    }
   },
   "source": [
    "::::::{admonition} Nota\n",
    ":class: note\n",
    "\n",
    "    \n",
    "En *qiskit* existe la posibilidad de controlar una puerta arbitraria (de la clase <i>Gate</i>) añadiéndole el método <i>control</i> que acepta dos parámetros:\n",
    "\n",
    "- el primero es el número de cúbits que van a actuar como control.\n",
    "    \n",
    "\n",
    "-  el segundo, <i>ctrl_state</i> es un número decimal especifica el estado de control para el cual se activa la puerta. En el caso de la figura sería el número 12\n",
    "\n",
    "\n",
    "- Puede encontrarse información sobre las puertas controladas en qiskit en los siguiente enlaces:\n",
    "https://qiskit.org/documentation/stubs/qiskit.circuit.ControlledGate.html#qiskit.circuit.ControlledGate\n",
    "https://qiskit.org/documentation/apidoc/circuit_library.html\n",
    "    \n",
    "    \n",
    "::::::\n"
   ]
  },
  {
   "cell_type": "code",
   "execution_count": 2,
   "id": "0748c75f",
   "metadata": {
    "slideshow": {
     "slide_type": "skip"
    }
   },
   "outputs": [
    {
     "data": {
      "image/png": "[encoded data removed]",
      "text/plain": [
       "<Figure size 221.914x451.5 with 1 Axes>"
      ]
     },
     "execution_count": 2,
     "metadata": {},
     "output_type": "execute_result"
    }
   ],
   "source": [
    "from qiskit import QuantumCircuit, QuantumRegister, ClassicalRegister\n",
    "from qiskit.circuit.library import SwapGate, XGate\n",
    "\n",
    "qr = QuantumRegister(5)\n",
    "\n",
    "qc = QuantumCircuit(qr)\n",
    "\n",
    "gateMCX = XGate().control(4,ctrl_state= 3) # puerta X 4-veces controlada\n",
    "gateMCSWAP = SwapGate().control(3,ctrl_state= 4) # puerta SWAP 3 veces controlada\n",
    "\n",
    "\n",
    "qc.append(gateMCX,[0,1,2,3,4])    \n",
    "#qc.append(gateMCSWAP,[0,1,2,3,4])    \n",
    "\n",
    "\n",
    "qc.draw('mpl')"
   ]
  },
  {
   "cell_type": "markdown",
   "id": "92b2287a",
   "metadata": {
    "slideshow": {
     "slide_type": "skip"
    }
   },
   "source": [
    "En el convenio de qiskit, efectivamente, este operador es el que se corresponde con \n",
    "\n",
    "$$\n",
    "MCX = X\\otimes \\ket{0011}  \\bra{0011} + X\\otimes (I-\\ket{0011}\\bra{0011})\n",
    "$$"
   ]
  },
  {
   "cell_type": "markdown",
   "id": "edf11506",
   "metadata": {
    "slideshow": {
     "slide_type": "slide"
    }
   },
   "source": [
    "### Circuito entrelazador para la Base de Bell\n",
    "\n",
    "\n",
    "El circuito que *prepara* la <i>base de Bell</i> $~\\{\\ket{B_{xy}} \\equiv \\ket{xy}_B \\}~$ a partir de la <i>base computacional</i>  $\\{\\ket{xy}\\}$ \n",
    "\n",
    "\n",
    "\n",
    "::::{figure} images/Bell_basis.png\n",
    ":width: 200px\n",
    ":align: center\n",
    "\n",
    "::::\n"
   ]
  },
  {
   "cell_type": "markdown",
   "id": "948c4f2a",
   "metadata": {
    "slideshow": {
     "slide_type": "skip"
    }
   },
   "source": [
    "\n",
    "Concretamente \n",
    "\n",
    "\n",
    "$$\n",
    "\\begin{array}{rcl}\n",
    "\\ket{00} ~~~\\stackrel{I\\otimes H}{\\longrightarrow}~~~ \\frac{1}{\\sqrt{2}}\\ket{0}(\\ket{0}+\\ket{1})  &~~~\\stackrel{\\rm CNOT(0,1)}{\\longrightarrow}& \\frac{1}{\\sqrt{2}} \\big( \\ket{00} + \\ket{11} \\big) ~~=~~ \\ket{00}_B \\equiv \\ket{\\Phi^+}\\\\\n",
    "\\ket{01} ~~~\\longrightarrow~~~ \\frac{1}{\\sqrt{2}}\\ket{0}(\\ket{0} - \\ket{1})  &~~~\\longrightarrow & \\frac{1}{\\sqrt{2}} \\big( \\ket{00} - \\ket{11} \\big) ~~=~~ \\ket{01}_B \\equiv \\ket{\\Phi^-} \\\\\n",
    "\\ket{10} ~~~\\longrightarrow~~~ \\frac{1}{\\sqrt{2}}\\ket{1}(\\ket{0}+\\ket{1})  &~~~\\longrightarrow & \\frac{1}{\\sqrt{2}} \\big( \\ket{10} + \\ket{01} \\big) ~~=~~ \\ket{10}_B \\equiv \\ket{\\Psi^+}\\\\\n",
    "\\ket{11} ~~~\\longrightarrow~~~ \\frac{1}{\\sqrt{2}}\\ket{1}(\\ket{0}-\\ket{1})  &~~~\\longrightarrow & \\frac{1}{\\sqrt{2}} \\big( \\ket{01} - \\ket{01} \\big) ~~=~~ \\ket{11}_B \\equiv \\ket{\\Psi^-}\n",
    "\\end{array}\n",
    "$$"
   ]
  },
  {
   "cell_type": "code",
   "execution_count": 3,
   "id": "89e15078",
   "metadata": {
    "slideshow": {
     "slide_type": "slide"
    }
   },
   "outputs": [
    {
     "ename": "ImportError",
     "evalue": "cannot import name 'Aer' from 'qiskit' (/Users/javier/opt/anaconda3/envs/TalentQ2/lib/python3.11/site-packages/qiskit/__init__.py)",
     "output_type": "error",
     "traceback": [
      "\u001b[0;31m---------------------------------------------------------------------------\u001b[0m",
      "\u001b[0;31mImportError\u001b[0m                               Traceback (most recent call last)",
      "Cell \u001b[0;32mIn[3], line 1\u001b[0m\n\u001b[0;32m----> 1\u001b[0m \u001b[38;5;28;01mfrom\u001b[39;00m \u001b[38;5;21;01mqiskit\u001b[39;00m \u001b[38;5;28;01mimport\u001b[39;00m Aer, QuantumCircuit, execute\n\u001b[1;32m      2\u001b[0m \u001b[38;5;124m'\u001b[39m\u001b[38;5;124m create the circuit \u001b[39m\u001b[38;5;124m'\u001b[39m\n\u001b[1;32m      3\u001b[0m qc \u001b[38;5;241m=\u001b[39m QuantumCircuit(\u001b[38;5;241m2\u001b[39m,\u001b[38;5;241m0\u001b[39m)    \n",
      "\u001b[0;31mImportError\u001b[0m: cannot import name 'Aer' from 'qiskit' (/Users/javier/opt/anaconda3/envs/TalentQ2/lib/python3.11/site-packages/qiskit/__init__.py)"
     ]
    }
   ],
   "source": [
    "from qiskit import Aer, QuantumCircuit, execute\n",
    "' create the circuit '\n",
    "qc = QuantumCircuit(2,0)    \n",
    "#qc.x(0)\n",
    "#qc.x(1)\n",
    "\n",
    "qc.h(0)\n",
    "qc.cx(0,1)\n",
    "display(qc.draw('mpl'))\n",
    "\n",
    "\n",
    "' execute in mode statevector_simulator '\n",
    "S_simulator = Aer.get_backend('statevector_simulator')\n",
    "Bell_state = execute(qc,S_simulator).result().get_statevector(decimals=5)\n",
    "\n",
    "\n",
    "from qiskit.quantum_info import Statevector\n",
    "Statevector(Bell_state).draw('latex')"
   ]
  },
  {
   "cell_type": "code",
   "execution_count": 4,
   "id": "57cd9f01",
   "metadata": {
    "slideshow": {
     "slide_type": "skip"
    }
   },
   "outputs": [
    {
     "ename": "NameError",
     "evalue": "name 'Statevector' is not defined",
     "output_type": "error",
     "traceback": [
      "\u001b[0;31m---------------------------------------------------------------------------\u001b[0m",
      "\u001b[0;31mNameError\u001b[0m                                 Traceback (most recent call last)",
      "Cell \u001b[0;32mIn[4], line 2\u001b[0m\n\u001b[1;32m      1\u001b[0m \u001b[38;5;124m'\u001b[39m\u001b[38;5;124m the Bell state cannot be drawn on Bloch spheres\u001b[39m\u001b[38;5;124m'\u001b[39m\n\u001b[0;32m----> 2\u001b[0m Statevector(Bell_state)\u001b[38;5;241m.\u001b[39mdraw(\u001b[38;5;124m'\u001b[39m\u001b[38;5;124mBloch\u001b[39m\u001b[38;5;124m'\u001b[39m)\n",
      "\u001b[0;31mNameError\u001b[0m: name 'Statevector' is not defined"
     ]
    }
   ],
   "source": [
    "' the Bell state cannot be drawn on Bloch spheres'\n",
    "Statevector(Bell_state).draw('Bloch')"
   ]
  },
  {
   "cell_type": "markdown",
   "id": "18230e8f",
   "metadata": {
    "slideshow": {
     "slide_type": "slide"
    }
   },
   "source": [
    "## Teorema de no-clonación\n",
    "\n",
    "El *Teorema de No Clonación* es uno de los resultados más sencillos y a la vez más importantes del formalismo de la Mecánica Cuántica. \n",
    "\n",
    "De hecho su formalización completa es bastante reciente, 1982, debida a [Wootters, Zurek](https://en.wikipedia.org/wiki/No-cloning_theorem#cite_note-wootterszurek-2) and [Dieks](https://en.wikipedia.org/wiki/No-cloning_theorem#cite_note-dieks-3). \n",
    "\n",
    "::::::{card} \n",
    "<b>Teorema</b>: </i>de  no-clonación</i> \n",
    "\n",
    "^^^\n",
    "    \n",
    "    \n",
    "No existe un operador unitario $U$  que, para un estado arbitrario $|\\psi\\rangle$, realice la siguiente operación\n",
    "  \n",
    "    \n",
    "$$\n",
    "U ( \\ket{\\psi}\\otimes \\ket{0}) = \\ket{\\psi}\\otimes \\ket{\\psi}\n",
    "$$\n",
    "\n",
    "::::::\n",
    "\n",
    "*Demostración:*\n",
    "\n",
    "Supondremos que $U$ existe y llegaremos a una contradicción. \n",
    "Tratemos de clonar el estado $\\alpha\\ket{\\psi}+\\beta\\ket{\\phi}$. Esto implica evaluar\n",
    "\n",
    "\n",
    "\n",
    "$$\n",
    "U (\\alpha\\ket{\\psi}+\\beta\\ket{\\phi})\\otimes \\ket{0} = \n",
    "(\\alpha\\ket{\\psi}+\\beta\\ket{\\phi})\\otimes (\\alpha\\ket{\\psi}+\\beta\\ket{\\phi})\n",
    "$$\n",
    "\n",
    "\n",
    "Sin embargo, la linealidad de $U$ nos permite seguir otro camino\n",
    "\n",
    "\n",
    "\n",
    "\\begin{eqnarray*}\n",
    "U(\\alpha|\\psi\\rangle+\\beta|\\phi\\rangle) \\otimes|0\\rangle &=& \\alpha U|\\psi\\rangle \\otimes|0\\rangle+\\beta U|\\phi\\rangle \\otimes|0\\rangle  \\\\ \\rule{0mm}{12mm}\n",
    "&=&\\alpha|\\psi\\rangle \\otimes|\\psi\\rangle+\\beta|\\phi\\rangle \\otimes|\\phi\\rangle . \\rule{0mm}{6mm}\n",
    "\\end{eqnarray*}\n",
    "\n",
    "\n",
    "Los dos resultados son diferentes y el teorema queda demostrado.\n",
    "\n",
    "\n",
    "::::::{admonition} Notar\n",
    ":class: note\n",
    "\n",
    "  \n",
    "\n",
    "- El teorema de no clonación pone  de manifiesto la <i> tensión </i> que hay entre $linealidad$ y $tensorialidad$, dos propiedades fundamentales de la Mecánica Cuántica.\n",
    "\n",
    "\n",
    "- Es muy importante recalcar que la validez de este teorema sólo aplica a estados <i> genéricos </i>. \n",
    "\n",
    "- Si por ejemplo nos restringimos a estados de la base $\\ket{0}$ y $\\ket{1}$, entonces la mera puerta CNOT actúa como lo haría un operador de clonación.\n",
    "    \n",
    "$$\n",
    "\\cg{X}\\ket{00}\\to \\ket{00}~~~~~,~~~~~~ \\cg{X}\\ket{10}\\to \\ket{11}\n",
    "$$\n",
    "::::::\n",
    "\n"
   ]
  }
 ],
 "metadata": {
  "celltoolbar": "Tags",
  "kernelspec": {
   "display_name": "Python 3 (ipykernel)",
   "language": "python",
   "name": "python3"
  },
  "language_info": {
   "codemirror_mode": {
    "name": "ipython",
    "version": 3
   },
   "file_extension": ".py",
   "mimetype": "text/x-python",
   "name": "python",
   "nbconvert_exporter": "python",
   "pygments_lexer": "ipython3",
   "version": "3.11.7"
  },
  "nbTranslate": {
   "displayLangs": [
    "*"
   ],
   "hotkey": "alt-t",
   "langInMainMenu": true,
   "sourceLang": "en",
   "targetLang": "fr",
   "useGoogleTranslate": true
  },
  "toc": {
   "base_numbering": 1,
   "nav_menu": {},
   "number_sections": true,
   "sideBar": true,
   "skip_h1_title": true,
   "title_cell": "Table of Contents",
   "title_sidebar": "Contents",
   "toc_cell": false,
   "toc_position": {
    "height": "calc(100% - 180px)",
    "left": "10px",
    "top": "150px",
    "width": "414.053px"
   },
   "toc_section_display": true,
   "toc_window_display": false
  },
  "varInspector": {
   "cols": {
    "lenName": 16,
    "lenType": 16,
    "lenVar": 40
   },
   "kernels_config": {
    "python": {
     "delete_cmd_postfix": "",
     "delete_cmd_prefix": "del ",
     "library": "var_list.py",
     "varRefreshCmd": "print(var_dic_list())"
    },
    "r": {
     "delete_cmd_postfix": ") ",
     "delete_cmd_prefix": "rm(",
     "library": "var_list.r",
     "varRefreshCmd": "cat(var_dic_list()) "
    }
   },
   "types_to_exclude": [
    "module",
    "function",
    "builtin_function_or_method",
    "instance",
    "_Feature"
   ],
   "window_display": false
  }
 },
 "nbformat": 4,
 "nbformat_minor": 5
}