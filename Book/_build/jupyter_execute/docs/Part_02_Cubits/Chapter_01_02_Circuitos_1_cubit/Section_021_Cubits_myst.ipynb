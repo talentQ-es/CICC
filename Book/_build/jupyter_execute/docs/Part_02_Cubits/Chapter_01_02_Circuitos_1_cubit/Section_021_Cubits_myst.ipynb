{
 "cells": [
  {
   "cell_type": "markdown",
   "id": "d6244959",
   "metadata": {
    "slideshow": {
     "slide_type": "slide"
    },
    "tags": []
   },
   "source": [
    "> {sub-ref}`today` | {sub-ref}`wordcount-minutes` min read\n",
    "\n",
    "::::{figure} ../../figuras/logos/Logo_TalentQ_Azul.png\n",
    ":width: 150px\n",
    ":align: right\n",
    "::::\n",
    "\n",
    "\n",
    "# Puertas cuánticas\n",
    "\n",
    "\n",
    "\n",
    "\n",
    "$ \\newcommand{\\bra}[1]{\\langle #1|} $\n",
    "$ \\newcommand{\\ket}[1]{|#1\\rangle} $\n",
    "$ \\newcommand{\\braket}[2]{\\langle #1|#2\\rangle} $\n",
    "$ \\newcommand{\\ketbra}[2]{| #1\\rangle \\langle #2|} $\n",
    "$ \\newcommand{\\tr}{{\\rm tr}} $\n",
    "$ \\newcommand{\\i}{{\\color{blue} i}} $ \n",
    "$ \\newcommand{\\Hil}{{\\cal H}} $\n",
    "$ \\newcommand{\\V}{{\\cal V}} $\n",
    "$ \\newcommand{\\bn}{{\\bf n}} $"
   ]
  },
  {
   "cell_type": "code",
   "execution_count": 1,
   "id": "9d5cf6c8",
   "metadata": {
    "run_control": {
     "marked": false
    },
    "slideshow": {
     "slide_type": "-"
    },
    "tags": [
     "hide-input"
    ]
   },
   "outputs": [],
   "source": [
    "%run ../../macro_tQ.py\n",
    "import sys\n",
    "sys.path.append('../../')\n",
    "import macro_tQ as tQ\n",
    "\n",
    "import numpy as np\n",
    "from IPython.display import display,Markdown,Latex\n",
    "from qiskit.visualization import array_to_latex"
   ]
  },
  {
   "cell_type": "markdown",
   "id": "3e983ac1",
   "metadata": {
    "slideshow": {
     "slide_type": "-"
    }
   },
   "source": [
    "La propia palabra cúbit ya incorpora la noción de *bit cuántico*. Un *bit* es una variable  real $a$ que puede tomar valores en $ {\\mathbb Z}_2= \\{0, 1\\}$. Un sistema físico que admita dos estados diferenciados implementa un bit. Por ejemplo un interruptor (encendido/apagado). \n",
    "\n",
    "Igualmente, un sistema cuántico con dos niveles de energía diferenciados puede albergar un cúbit.  Vamos a definirlo matemáticamente en este capítulo. En capítulos posteriores veremos dos implementaciones físicas: el espín de un electrón y la polarización de un fotón.\n",
    "\n",
    "\n"
   ]
  },
  {
   "cell_type": "markdown",
   "id": "f36355db",
   "metadata": {
    "slideshow": {
     "slide_type": "-"
    }
   },
   "source": [
    "::::::{card} \n",
    "<b>Definición</b>:  \n",
    "\n",
    "^^^\n",
    "\n",
    "un cúbit es un <i>espacio de Hilbert</i> complejo de dimensión dos $~\\Hil \\sim {\\mathbb C}^2$ \n",
    "::::::\n"
   ]
  },
  {
   "cell_type": "markdown",
   "id": "2658424e",
   "metadata": {
    "slideshow": {
     "slide_type": "fragment"
    }
   },
   "source": [
    "Un **cútrit** es un espacio de Hilbert de dimensión tres, $\\Hil \\sim {\\mathbb C}^3$. Un **cúdit** de dimensión $d$.\n",
    "\n",
    "Ya hemos visto que la forma de trabajar en espacios vectoriales pasa, primeramente, por escoger una base.\n",
    "La base *ortonormal* que usaremos se denotará por  $B=\\{\\ket{0},\\ket{1}\\}$ y se denomina *base computacional*\n",
    "\n",
    "$$\n",
    "\\braket{0}{0} = \\braket{1}{1} = 1 ~~~~~~~~~~\\braket{0}{1} = \\braket{1}{0} = 0\n",
    "$$\n"
   ]
  },
  {
   "cell_type": "markdown",
   "id": "cd248396",
   "metadata": {
    "slideshow": {
     "slide_type": "skip"
    }
   },
   "source": [
    "##  Esfera de Bloch \n"
   ]
  },
  {
   "cell_type": "markdown",
   "id": "03828e6e",
   "metadata": {
    "slideshow": {
     "slide_type": "skip"
    }
   },
   "source": [
    "Si lo expresamos en la base computacional, un estado    $\\ket{u} \\in \\Hil = \\mathbb{C}^2$ será $\\ket{u} = a\\ket{0} + b\\ket{1}$ donde $a$ y $b$ son dos números complejos, es decir cuatro números reales.  \n",
    "\n",
    "Sin embargo, como cualquier estado cuántico, ha de ser un vector unitario $ \\braket{u}{u} = 1$. Esto impone una ecuación $a|^2+|b|^2=1$, lo que nos deja  tres grados de libertad reales. \n",
    "\n",
    "Pero uno de ellos es una fase global  $\\ket{u} = e^{i\\phi}\\ket{u}$ que no tiene significado. Por lo que, realmente, necesitamos sólo dos números reales para definir el estado de un cúbit. \n"
   ]
  },
  {
   "cell_type": "markdown",
   "id": "18872e6e",
   "metadata": {
    "slideshow": {
     "slide_type": "slide"
    }
   },
   "source": [
    "::::::{card} \n",
    "<b>Lema</b>:  \n",
    "\n",
    "^^^\n",
    "    \n",
    "El cúbit $\\ket{u}$  <i> más general</i> se puede representar, en la base computacional $\\{\\ket{0},\\ket{1}\\}$, usando dos números reales (ángulos) $\\theta\\in [0,\\pi)$ y $\\varphi\\in [0,2\\pi)$   \n",
    "\n",
    "$$\n",
    "|u\\rangle = \\cos{\\frac{\\theta}{2}}\\, |0\\rangle + e^{i\\phi}\\sin{\\frac{\\theta}{2}}\\,|1\\rangle \n",
    "$$\n",
    "\n",
    "::::::\n"
   ]
  },
  {
   "cell_type": "markdown",
   "id": "a63a6035",
   "metadata": {
    "slideshow": {
     "slide_type": "skip"
    }
   },
   "source": [
    ":::{dropdown} Demostración\n",
    "\n",
    "Para demostrar el lema escribimos un vector de estado general usando la representación polar para las componentes complejas\n",
    "    \n",
    "$$\n",
    "\\begin{array}{rcl}\n",
    "\\ket{u} &=& u_0\\ket{0} + u_1\\ket{1} \\\\\n",
    "&=& a_0 e^{i b_0}\\ket{0} + a_1 e^{ib_1}\\ket{1}\\\\\n",
    "&=& e^{i b_0}\\big(a_0 \\ket{0} + a_1 e^{i(b_1-b_0)}\\ket{1}\\big)\\\\\n",
    "&\\sim & \\big( a_0 \\ket{0} + a_1 e^{i(b_1-b_0)}\\ket{1} \\big)\n",
    "\\end{array}\n",
    "$$\n",
    "    \n",
    "donde hemos hecho uso de la irrelevancia de una fase global para descartar $e^{i b_0}$ en la última línea.\n",
    "\n",
    "Ahora $a_1$ y $a_0$ no son números independientes sino que verifican $a_0^2 + a_1^2 = 0$ para que $\\|\\ket{u}\\|=1$.\n",
    "Esta ecuación se puede resolver en términos de un ángulo $\\theta/2$ tal que\n",
    "$$\n",
    "a_0 = \\cos\\frac{\\theta}{2}~~~,~~~ a_1 = \\sin\\frac{\\theta}{2} \n",
    "$$\n",
    "Por su parte, de los números $b_1, b_2$ sólo la diferencia\n",
    "$$\n",
    "\\varphi = b_1-b_2\n",
    "$$\n",
    "es relevante para especificar $\\ket{u}  ~~~\\rule{3mm}{3mm}$    \n",
    ":::\n"
   ]
  },
  {
   "cell_type": "markdown",
   "id": "856faaac",
   "metadata": {
    "slideshow": {
     "slide_type": "-"
    }
   },
   "source": [
    " En componentes en la base $Z$ escribimos equivalentemente\n",
    " \n",
    "$$\n",
    "|u\\rangle ~\\sim ~~\n",
    "\\begin{bmatrix} \\cos\\displaystyle\\frac{\\theta}{2} \\\\  e^{i\\varphi} \\sin \\displaystyle\\frac{\\theta}{2} \\end{bmatrix}\n",
    "$$"
   ]
  },
  {
   "cell_type": "markdown",
   "id": "f5302c33",
   "metadata": {
    "slideshow": {
     "slide_type": "skip"
    }
   },
   "source": [
    "El rango de $\\theta\\in [0,\\pi)$ y $\\varphi\\in [0,2\\pi)$ permite interpretar estos números reales como *ángulos sobre la esfera unidad*. Dicho de otro modo, podemos representar  cada estado de un cúbit como un *punto* sobre una esfera de radio unidad: la *esfera de Bloch*. \n"
   ]
  },
  {
   "cell_type": "markdown",
   "id": "c2fbbb15",
   "metadata": {
    "slideshow": {
     "slide_type": "slide"
    }
   },
   "source": [
    "\n",
    "-  $\\theta\\in [0,\\pi)$ el ángulo *azimutal* se mide desde el eje $Z$. De modo que $\\theta=\\pi/2$ es el *ecuador \n",
    "de la esfera de Bloch*.\n",
    "\n",
    "\n",
    "-  $\\phi\\in [0,2\\pi)$ el ángulo *polar*  en torno al eje $Z$, medido a partir del plano $XZ$\n",
    "\n",
    "\n",
    "\n",
    "\n",
    "\n",
    "::::{figure} images/BlochSphere.png\n",
    ":width: 350px\n",
    ":align: center\n",
    "::::\n"
   ]
  },
  {
   "cell_type": "markdown",
   "id": "21845a41",
   "metadata": {
    "slideshow": {
     "slide_type": "skip"
    }
   },
   "source": [
    "### Vectores en la Esfera de Bloch: visualizaciones\n",
    "\n",
    "\n",
    "- [Visualizador java](https://javafxpert.github.io/grok-bloch/?fbclid=IwAR1lWfCug1lfTXxXenaJxnsdJh2g3he6lBJmjnjL_Jus0gOHR9u3UuaT7qs)\n",
    "\n",
    "\n",
    "-  La clase <a href=https://qiskit.org/documentation/stubs/qiskit.quantum_info.Statevector.html>statevector</a> en *qiskit* cuenta con varios *visualizadores*.\n"
   ]
  },
  {
   "cell_type": "markdown",
   "id": "b4870749",
   "metadata": {
    "slideshow": {
     "slide_type": "skip"
    }
   },
   "source": [
    "Esta rutina introduce dos ángulos $\\theta\\in(0,\\pi)$ y $\\phi\\in(0,2\\pi)$ y devuelve el vector de Bloch \n",
    "\n",
    "$$\n",
    "|\\psi\\rangle = \\cos{\\frac{\\theta}{2}}\\, |0\\rangle + e^{i\\phi}\\sin{\\frac{\\theta}{2}}\\,|1\\rangle \n",
    "$$"
   ]
  },
  {
   "cell_type": "code",
   "execution_count": 18,
   "id": "446003e5",
   "metadata": {
    "slideshow": {
     "slide_type": "skip"
    }
   },
   "outputs": [
    {
     "data": {
      "text/latex": [
       "$$\n",
       "\\ket{\\psi} = \n",
       "\\begin{bmatrix}\n",
       "0.5816830895  \\\\\n",
       " 0.5667120397 + 0.5835085668 i  \\\\\n",
       " \\end{bmatrix}\n",
       "$$"
      ],
      "text/plain": [
       "<IPython.core.display.Latex object>"
      ]
     },
     "execution_count": 18,
     "metadata": {},
     "output_type": "execute_result"
    }
   ],
   "source": [
    "theta = 1.9\n",
    "phi   = 0.8\n",
    "\n",
    "psi_ket = np.array([np.cos(theta/2),(np.exp(1j*phi))*np.sin(theta/2)]).reshape(2,1)\n",
    "array_to_latex(psi_ket,prefix= '\\ket{\\psi} = ')"
   ]
  },
  {
   "cell_type": "code",
   "execution_count": 19,
   "id": "559d1de5",
   "metadata": {
    "slideshow": {
     "slide_type": "skip"
    }
   },
   "outputs": [
    {
     "data": {
      "text/latex": [
       "$$\\ket{\\psi} = 0.5816830895 |0\\rangle+(0.5667120397 + 0.5835085668 i) |1\\rangle$$"
      ],
      "text/plain": [
       "<IPython.core.display.Latex object>"
      ]
     },
     "metadata": {},
     "output_type": "display_data"
    },
    {
     "data": {
      "image/png": "[encoded data removed]",
      "text/plain": [
       "<Figure size 480x480 with 1 Axes>"
      ]
     },
     "execution_count": 19,
     "metadata": {},
     "output_type": "execute_result"
    }
   ],
   "source": [
    "from qiskit.quantum_info import Statevector\n",
    "from qiskit.visualization import plot_bloch_multivector, array_to_latex  \n",
    "\n",
    "display(Statevector(psi_ket).draw('latex',prefix='\\ket{\\psi} = '))\n",
    "Statevector(psi_ket).draw('Bloch')"
   ]
  },
  {
   "cell_type": "markdown",
   "id": "fd48641c",
   "metadata": {
    "slideshow": {
     "slide_type": "skip"
    }
   },
   "source": [
    "### Bases\n",
    "\n",
    "Dos vectores diametralmente opuestos en la esfera de Bloch forman una base ortonormal del espacio de un cúbit.\n",
    "Los denotamos $\\{\\ket{0}_{\\bf n},\\ket{1}_{\\bf n}\\}$.\n",
    "\n",
    "::::{figure} images/BlochSphere_basis.png\n",
    ":width: 300px\n",
    ":align: center\n",
    "::::\n",
    "\n"
   ]
  },
  {
   "cell_type": "markdown",
   "id": "c72c1532",
   "metadata": {
    "slideshow": {
     "slide_type": "slide"
    }
   },
   "source": [
    "\n",
    "**Base Z**\n",
    "  \n",
    "-   $(\\theta,\\phi) = (0,0) \\Rightarrow  \\ket{0}_Z = \\ket{0}$ \n",
    "\n",
    "\n",
    "\n",
    "\n",
    "  \n",
    "-   $(\\theta,\\phi) = (\\pi,\\phi)  \\Rightarrow  e^{i\\phi}\\ket{1}_Z = \\ket{1}$\n",
    "\n",
    "::::{figure} images/Basis_Z.png\n",
    ":width: 300px\n",
    ":align: center\n",
    "::::\n",
    "  \n"
   ]
  },
  {
   "cell_type": "markdown",
   "id": "c75560ad",
   "metadata": {
    "slideshow": {
     "slide_type": "slide"
    }
   },
   "source": [
    "**Base X**\n",
    " \n",
    "-   $(\\theta,\\phi) = (\\pi/2,0)  ~\\Rightarrow~  \\frac{1}{\\sqrt{2}}\\big(|0\\rangle+|1\\rangle \\big) =\\ket{0}_X \\equiv |+\\rangle$\n",
    "\n",
    "  \n",
    "-   $(\\theta,\\phi) = (\\pi/2,\\pi) ~\\Rightarrow~  \\frac{1}{\\sqrt{2}}\\big(|0\\rangle-|1\\rangle \\big)=\\ket{1}_X \\equiv |-\\rangle$\n",
    "\n",
    "::::{figure} images/Basis_X.png\n",
    ":width: 300px\n",
    ":align: center\n",
    "::::\n"
   ]
  },
  {
   "cell_type": "markdown",
   "id": "fbd7dd4a",
   "metadata": {
    "slideshow": {
     "slide_type": "slide"
    }
   },
   "source": [
    "**Base Y**\n",
    "\n",
    "-   $(\\theta,\\phi) = (\\pi/2,\\pi/2) ~\\Rightarrow ~|u\\rangle =\\frac{1}{\\sqrt{2}}\\big(|0\\rangle+i|1\\rangle\\big) =\\ket{0}_Y \\equiv  |+i\\rangle$\n",
    "\n",
    "\n",
    "\n",
    "-   $(\\theta,\\phi) = (\\pi/2,3\\pi/2) ~\\Rightarrow ~|u\\rangle = \\frac{1}{\\sqrt{2}}\\big(|0\\rangle-i|1\\rangle\\big) = \\ket{1}_Y \\equiv  |-i\\rangle$\n",
    "\n",
    "\n",
    "::::{figure} images/Basis_Y.png\n",
    ":width: 300px\n",
    ":align: center\n",
    "::::\n",
    "\n"
   ]
  },
  {
   "cell_type": "markdown",
   "id": "5b076128-81f4-47e6-8fd8-c30615bccede",
   "metadata": {
    "slideshow": {
     "slide_type": "slide"
    }
   },
   "source": [
    "<a id='rotesf'></a>\n",
    "## Rotaciones en la esfera de Bloch"
   ]
  },
  {
   "cell_type": "markdown",
   "id": "65b3d26a-f246-488f-8703-ace93cb14f5c",
   "metadata": {
    "slideshow": {
     "slide_type": "slide"
    },
    "tags": []
   },
   "source": [
    "Un operador unitario conserva la norma y, por tanto, lleva un vector a otro de la misma esfera de Bloch \n",
    "\n",
    "Esta operación  se puede *visualizar* como una **rotación de un cierto ángulo en torno a algún eje**."
   ]
  },
  {
   "cell_type": "markdown",
   "id": "9e2ca5c7-9da0-4548-9be1-fe9e4956e288",
   "metadata": {
    "slideshow": {
     "slide_type": "-"
    }
   },
   "source": [
    "::::{figure} images/BlochSphere2.png\n",
    ":width: 300px\n",
    ":align: center\n",
    "::::\n"
   ]
  },
  {
   "cell_type": "markdown",
   "id": "6cddee14-76b9-4238-8fc6-958f2d81fbec",
   "metadata": {
    "slideshow": {
     "slide_type": "slide"
    }
   },
   "source": [
    "::::::{card} \n",
    "<b>Teorema</b>:  \n",
    "\n",
    "^^^\n",
    "\n",
    "El operador que efectúa una <i>rotación de ángulo</i>  $\\alpha\\in [0,2\\pi)$ en torno al <i>eje que marca un vector unitario</i>  $\\hat{\\bf n}$ es el siguiente\n",
    " \n",
    "    \n",
    "\\begin{eqnarray}\n",
    "R_{\\hat{\\bf n}}(\\alpha)~ = ~\\exp\\left( -i\\frac{\\alpha}{2} \\hat{\\bf n}\\cdot \\boldsymbol{\\sigma} \\right) ~=~ \n",
    "\\cos \\frac{\\alpha}{2} I - i \\sin\\frac{\\alpha}{2} \\hat{\\bf n}\\cdot\\boldsymbol{\\sigma} \n",
    "\\end{eqnarray}\n",
    "\n",
    "::::::\n"
   ]
  },
  {
   "cell_type": "markdown",
   "id": "b9ea3b1b-0831-4018-a691-d91974dd1fac",
   "metadata": {
    "slideshow": {
     "slide_type": "fragment"
    }
   },
   "source": [
    "donde $\\boldsymbol{\\sigma} = (\\sigma_x, \\sigma_y, \\sigma_z)$ son las matrices de Pauli\n",
    "\n",
    "$$\n",
    "\\sigma_x = \\begin{bmatrix} 0 & 1 \\\\ 1 & 0 \\end{bmatrix}~~,~~\n",
    "\\sigma_y = \\begin{bmatrix} 0 & -i \\\\ i & 0 \\end{bmatrix}~~,~~\n",
    "\\sigma_z = \\begin{bmatrix} 1 & 0 \\\\ 0 & -1 \\end{bmatrix}~~.~~\n",
    "$$"
   ]
  },
  {
   "cell_type": "markdown",
   "id": "4ad943a3-4374-458f-ab49-109d3cbed3f6",
   "metadata": {
    "slideshow": {
     "slide_type": "skip"
    }
   },
   "source": [
    "::::::{admonition} Nota\n",
    ":class: note\n",
    "\n",
    "El sentido de la rotación que produce $R_{\\hat{\\bf n}}(\\alpha)$ en torno al eje $\\hat{\\bf n}$, viene dado por la <i>regla de la mano derecha</i> o, también, <i>anti-horario</i>. \n",
    "::::::\n"
   ]
  },
  {
   "cell_type": "markdown",
   "id": "7e871aa1-e7b4-4277-8e10-e24c7e85ea00",
   "metadata": {
    "slideshow": {
     "slide_type": "fragment"
    }
   },
   "source": [
    "Haciendo la suma explícitamente podemos escribir la matriz unitaria \n",
    "\n",
    "$$\n",
    "\\begin{array}{rcl}\n",
    "R_{\\hat{\\bf n}}(\\alpha)~  ~=~ \n",
    " \\begin{bmatrix} \\cos \\displaystyle\\frac{\\alpha}{2} - i n_z\\sin\\frac{\\alpha}{2} &\\displaystyle (-in_x- n_y)\\sin\\frac{\\alpha}{2} \\\\ \\displaystyle\n",
    "(-in_x + ny) \\sin\\frac{\\alpha}{2} & \\displaystyle \\cos \\frac{\\alpha}{2} + i n_z\\sin\\frac{\\alpha}{2} \\end{bmatrix}\n",
    "\\end{array}\n",
    "$$"
   ]
  },
  {
   "cell_type": "markdown",
   "id": "8ca9696b-5e76-418c-9866-65b3ca87601e",
   "metadata": {
    "slideshow": {
     "slide_type": "slide"
    }
   },
   "source": [
    "### Rotaciones X, Y y Z\n",
    "\n",
    "- Asociado a rotaciones en torno a los ejes $X$, $Y$ y $Z$ de un ángulo $\\alpha$ encontramos las tres puertas siguientes\n",
    "\n",
    "$$\n",
    "\\begin{array}{rcl}\n",
    "\\hat{\\bf n} = (0,0,1) ~~\\Rightarrow ~~ R_{z}(\\alpha) &=&  \\begin{bmatrix} e^{-i\\alpha/2}  & 0 \\\\ 0 & e^{i\\alpha/2}  \\end{bmatrix}  ~,~\\nonumber\\\\\n",
    "\\rule{0mm}{14mm}\n",
    "\\hat{\\bf n} = (0,1,0) ~~\\Rightarrow ~~ R_{y}(\\alpha) &=&  \\begin{bmatrix} \\cos \\alpha/2  & -\\sin \\alpha/2 \\\\   \\sin\\alpha/2 & \\cos\\alpha/2 \\end{bmatrix}  \\nonumber \\\\\n",
    "\\rule{0mm}{14mm}\n",
    "\\hat{\\bf n} = (1,0,0) ~~\\Rightarrow ~~ R_{x}(\\alpha)  &=&  \\begin{bmatrix} \\cos\\alpha/2  &- i\\sin\\alpha/2 \\\\   -i\\sin\\alpha/2& \\cos\\alpha/2 \\end{bmatrix} \\, .\\nonumber\n",
    "\\end{array}\n",
    "$$\n",
    "\n",
    "\n"
   ]
  },
  {
   "cell_type": "markdown",
   "id": "b99fb036-7fce-4fba-8702-1bc13f977460",
   "metadata": {
    "slideshow": {
     "slide_type": "skip"
    }
   },
   "source": [
    "### Parametrización de Euler\n",
    "\n",
    " Necesitamos *3 parámetros* para especificar una rotación general.\n",
    "En $R_{\\hat{\\bf n}}(\\theta)$ un parámetro es $\\theta$ y otros dos entran  en $\\hat{\\bf n}$ con \n",
    "$  |\\hat{\\bf n}|=1$.\n"
   ]
  },
  {
   "cell_type": "markdown",
   "id": "24f99fa2-e691-40d7-a9d3-be858e3c299f",
   "metadata": {
    "slideshow": {
     "slide_type": "skip"
    }
   },
   "source": [
    " La *parametrización de Euler* consiste en una *composición de tres rotaciones* sucesivas en torno a los ejes $z$, después  $y$ y  finalmente $z$ de nuevo:\n"
   ]
  },
  {
   "cell_type": "markdown",
   "id": "3305c133-9e49-412c-bdc7-cdf2dbea186d",
   "metadata": {
    "slideshow": {
     "slide_type": "skip"
    }
   },
   "source": [
    "Multiplicando las matrices asociadas, y extrayendo una fase global, definimos \n",
    "\n",
    "$$\n",
    " R_z(\\phi)R_y(\\theta)R_z(\\varphi) = e^{-\\frac{i}{2}(\\phi + \\varphi)}U(\\theta,\\phi,\\varphi)  \n",
    "$$\n",
    "\n",
    "Los *ángulos de Euler* son $\\theta,\\phi $ y $\\varphi$, \n"
   ]
  },
  {
   "cell_type": "markdown",
   "id": "a5accedc-063b-497d-9f5e-001dd16473f0",
   "metadata": {
    "slideshow": {
     "slide_type": "skip"
    }
   },
   "source": [
    "#### Rotación general\n",
    "\n",
    "$$\n",
    "U(\\theta,\\phi,\\varphi)=\\begin{bmatrix}   \\cos \\displaystyle\\frac{\\theta}{2}  & - e^{i\\varphi} \\sin\\displaystyle\\frac{\\theta}{2}  \\\\ \n",
    "\\rule{0mm}{4mm} e^{i\\phi} \\sin \\displaystyle\\frac{\\theta}{2} &e^{i(\\varphi+\\phi)} \\cos \\displaystyle\\frac{\\theta}{2} \\end{bmatrix}\n",
    "$$\n",
    "\n"
   ]
  },
  {
   "cell_type": "markdown",
   "id": "1ba2e62b-cd10-4f6e-b4d0-58cfaf83db33",
   "metadata": {
    "slideshow": {
     "slide_type": "skip"
    }
   },
   "source": [
    "Es evidente que la acción de este operador sobre la base  $\\{\\ket{0},\\ket{1}\\}$ \n",
    "una base alineada con el eje $(\\theta,\\phi)$\n",
    "\n",
    "\n",
    "$$\n",
    "U(\\theta,\\phi,\\varphi)\\begin{bmatrix} 1\\\\0\\end{bmatrix} = \\begin{bmatrix} \\cos\\displaystyle\\frac{\\theta}{2}\\\\ e^{i\\phi} \\sin \\displaystyle \\frac{\\theta}{2} \\end{bmatrix} ~~~~~~,~~~~~~~\n",
    "U(\\theta,\\phi,\\varphi)\\begin{bmatrix} 0\\\\1\\end{bmatrix} = \\begin{bmatrix} -e^{i\\varphi}\\sin\\displaystyle\\frac{\\theta}{2}\\\\ e^{i(\\varphi + \\phi)} \\cos \\displaystyle \\frac{\\theta}{2} \\end{bmatrix} \n",
    "$$\n",
    "\n"
   ]
  },
  {
   "cell_type": "markdown",
   "id": "a1c138bd-3a39-472d-92ad-c398d8217b1b",
   "metadata": {
    "slideshow": {
     "slide_type": "skip"
    }
   },
   "source": [
    "<a id='puertsimp'></a>\n",
    "## Puertas Simples\n"
   ]
  },
  {
   "cell_type": "markdown",
   "id": "17e14ce1-eea7-43f8-bd5a-14d39faa8b1e",
   "metadata": {
    "slideshow": {
     "slide_type": "skip"
    }
   },
   "source": [
    "Por puertas simples entendemos un conjunto de *operadores unitarios* que se utilizan con frecuencia en la computación cuántica. Vamos a ver las puertas simples sobre 1 cúbit"
   ]
  },
  {
   "cell_type": "markdown",
   "id": "1bcd7c32-1615-4951-a5e7-bb207b49f4f6",
   "metadata": {
    "slideshow": {
     "slide_type": "skip"
    }
   },
   "source": [
    "### Puerta de fase \n",
    "\n",
    "- $P_\\alpha = P(\\alpha)$ con $\\alpha \\in [0,2\\pi)$\n",
    "\n",
    "$$\n",
    "P(\\alpha)= \\begin{bmatrix}\n",
    "1 & 0 \\\\ 0 & e^{i\\alpha} \n",
    "\\end{bmatrix}  =  \\ketbra{0}{0} + e^{i\\alpha}\\ketbra{1}{1}\n",
    "$$\n",
    "\n",
    "es unitaria para todo $\\alpha$ como se comprueba fácilmente. \n",
    "Aplicada a un estado de cúbit genérico \n",
    "\n",
    "$$\n",
    "P(\\alpha) \\ket{u} =  \\begin{bmatrix} 1 & 0 \\\\ 0 & e^{i\\alpha} \\end{bmatrix}\n",
    "\\begin{bmatrix} \\cos\\theta \\\\ \\sin\\theta e^{i\\phi} \\end{bmatrix} = \\begin{bmatrix} \\cos\\theta \\\\ \\sin\\theta e^{i(\\phi+\\alpha)} \n",
    "\\end{bmatrix}= \\ket{v}\n",
    "$$\n"
   ]
  },
  {
   "cell_type": "markdown",
   "id": "4fac4093-04c6-4e00-bfb4-61fe3b201302",
   "metadata": {
    "slideshow": {
     "slide_type": "skip"
    }
   },
   "source": [
    "El efecto de este operador es rotar cualquier cúbit en torno al eje Z un ángulo $\\alpha$. Comprobamos que está relacionada con $R_z(\\alpha)$\n",
    "\n",
    "\n",
    "$$\n",
    "P(\\alpha) = \\begin{bmatrix} 1 & 0 \\\\ 0 & e^{i\\alpha} \\end{bmatrix} = \n",
    "\\begin{bmatrix} e^{i\\alpha/2} & 0 \\\\ 0 & e^{i\\alpha/2} \\end{bmatrix} \n",
    "\\begin{bmatrix} e^{-i\\alpha/2} & 0 \\\\ 0 & e^{i\\alpha/2} \\end{bmatrix}   \\equiv e^{i\\alpha/2} R_z(\\alpha)\n",
    "$$\n",
    "\n",
    "\n",
    "La fase global es trivial. Por tanto los dos operadores $P(\\alpha)$ y $R_Z(\\alpha)$ son equivalentes y producen el mismo efecto sobre la esfera de Bloch.\n",
    "\n"
   ]
  },
  {
   "cell_type": "markdown",
   "id": "8aeb9f64-39b2-43b1-b5e0-645be06955be",
   "metadata": {
    "slideshow": {
     "slide_type": "skip"
    }
   },
   "source": [
    "- $K_\\alpha = K(\\alpha)$\n",
    "\n",
    "\n",
    "realmente es una fase trivial, pero a veces se utiliza\n",
    "\n",
    "$$\n",
    "K(\\alpha)= e^{i\\alpha} \\begin{bmatrix}\n",
    "1 & 0 \\\\ 0 & 1 \n",
    "\\end{bmatrix} =  e^{i\\alpha}\\left(\\rule{0mm}{4mm} \\ketbra{0}{0} + \\ketbra{1}{1} \\right) = e^{i\\alpha} I \n",
    "$$"
   ]
  },
  {
   "cell_type": "markdown",
   "id": "1ce92330-2284-47a7-80c3-2de4fb70d1df",
   "metadata": {
    "slideshow": {
     "slide_type": "slide"
    }
   },
   "source": [
    "#### Puertas Discretas\n",
    "\n",
    "Hay una serie de rotaciones discretas que forman un conjunto de puertas elementales de gran utilidad\n",
    "\n",
    "\n",
    "- $X,Y,Z$\n",
    "\n",
    "$$\n",
    "\\begin{array}{rcl}\n",
    "i R_{\\hat{\\bf x}}(\\pi) &=&   \\begin{bmatrix}0&1\\\\1&0\\end{bmatrix}   ~= ~ X  \\\\\n",
    "\\\\\n",
    "i R_{\\hat{\\bf y}}(\\pi) &=&  \\begin{bmatrix}0&-i\\\\i&0\\end{bmatrix}    ~= ~ Y \\\\\n",
    "\\\\\n",
    "i R_{\\hat{\\bf z}}(\\pi) &=&   \\begin{bmatrix}1&0\\\\0&-1\\end{bmatrix} ~= ~ Z \n",
    "\\end{array}\n",
    "$$\n",
    "\n"
   ]
  },
  {
   "cell_type": "markdown",
   "id": "d8eea3ba-0b13-45ec-88c6-6f8b0761413c",
   "metadata": {
    "slideshow": {
     "slide_type": "skip"
    }
   },
   "source": [
    "-  $S,T$\n",
    "\n",
    "Cualquier potencia  de un operador unitario $U$ es otro operador unitario $U^\\alpha$.\n",
    "Así obtenemos\n",
    "\n",
    "\n",
    "$$\n",
    "\\begin{array}{rcl}\n",
    "S = Z^{1/2} &=&  \\begin{bmatrix}1&0\\\\0&i\\end{bmatrix}=\\begin{bmatrix}1&0\\\\0&e^{i\\pi/2}\\end{bmatrix}  \\\\\n",
    "&& \\\\\n",
    "T  = Z^{1/4} &=&  \\begin{bmatrix}1&0\\\\0&e^{i\\pi/4}\\end{bmatrix} \n",
    "\\end{array}\n",
    "$$\n",
    "\n",
    "- $H$   \n",
    "\n",
    "La puerta de Hadamard, $H$, es la primera puerta *genuinamente cuántica* en el sentido de que lleva un estado de la base a una superposición coherente\n",
    "\n",
    "$$\n",
    "\\begin{array}{rcl}\n",
    "H \\ket{0} &=& \\frac{1}{\\sqrt{2}}\\left(\\rule{0mm}{4mm}\\ket{0} + \\ket{1}\\right) =\\ket{+}   \\\\\n",
    "H \\ket{1} &=& \\frac{1}{\\sqrt{2}}\\left(\\rule{0mm}{4mm}\\ket{0} - \\ket{1}\\right) =\\ket{-} \n",
    "\\end{array}\n",
    "$$\n",
    "\n",
    "Podemos escribir este operador en la base canónica $H = H_{ij}\\ketbra{i}{j}$\n",
    "\n",
    "$$\n",
    "\\begin{array}{rcl}\n",
    "H &=&  \\ket{+}\\bra{0} +  \\ket{-}\\bra{1} \\\\ \\rule{0mm}{6mm}\n",
    "&=& \\frac{1}{\\sqrt{2}}(\\ketbra{0}{0} + \\ketbra{1}{0} + \\ketbra{0}{1} - \\ketbra{1}{1})\n",
    "\\end{array}\n",
    "$$\n",
    "\n",
    "\n",
    " De aquí obtenemos la representación matricial  \n",
    "\n",
    "$$\n",
    "H_{ij}   =  \\frac{1}{\\sqrt{2}} \\begin{bmatrix} 1& 1 \\\\ 1 & -1 \\end{bmatrix} \n",
    "$$\n"
   ]
  },
  {
   "cell_type": "markdown",
   "id": "8bf3d60b-c122-4f16-9b55-0c2d2b928e0d",
   "metadata": {
    "slideshow": {
     "slide_type": "skip"
    }
   },
   "source": [
    "::::::{admonition} Nota\n",
    ":class: note\n",
    "\n",
    "\n",
    "en cálculos posteriores encontraremos muy útil la siguiente representación de la acción de $H$\n",
    "\n",
    "$$\n",
    "H \\ket{x} =\\frac{1}{\\sqrt{2}} \\sum_{y=0,1} (-1)^{ x  y} \\ket{y}\n",
    "$$\n",
    "::::::\n"
   ]
  },
  {
   "cell_type": "markdown",
   "id": "6ae96fd3-c961-4eed-853a-49361162dc59",
   "metadata": {
    "slideshow": {
     "slide_type": "skip"
    }
   },
   "source": [
    "\n",
    "Como cualquier puerta, la acción de $H$ puede visualizarse como una rotación en la esfera de Bloch $H$ de $\\pi$ radianes en torno a un eje diagonal situado a 45$^\\circ$ entre el eje $x$ \n",
    "y el eje $y$. Esta rotación permuta los ejes $x$ y $z$ y cambia de sentido el eje $y$.\n",
    "\n",
    "$$\n",
    "\\begin{array}{rcl}\n",
    "\\hat{\\bf n} = \\frac{1}{\\sqrt{2}}(1,0,1) ~~~~~ \\Rightarrow ~~~~~ R_{\\hat{\\bf n}}(\\pi) &=&-i\\frac{1}{\\sqrt{2}} \\begin{bmatrix} 1  & 1 \\\\ 1 & -1  \\end{bmatrix} =-i H \\sim H\\nonumber\\\\\n",
    "\\end{array}\n",
    "$$\n"
   ]
  },
  {
   "cell_type": "markdown",
   "id": "605e7515-4b82-4681-a4be-deb8a3500a7b",
   "metadata": {
    "slideshow": {
     "slide_type": "skip"
    }
   },
   "source": [
    "Como toda rotación de $\\alpha = \\pi/2$, una segunda aplicación da lugar a la identidad\n",
    "\n",
    "$$\n",
    "H^2 = I\n",
    "$$"
   ]
  },
  {
   "cell_type": "markdown",
   "id": "a7832963-d4f3-4723-a72e-45c92158832a",
   "metadata": {
    "slideshow": {
     "slide_type": "slide"
    }
   },
   "source": [
    "<a id='circcuant'></a>\n",
    "## Circuitos Cuánticos"
   ]
  },
  {
   "cell_type": "markdown",
   "id": "fd51e954-08e3-4b2c-8759-78ffb949a34c",
   "metadata": {
    "slideshow": {
     "slide_type": "-"
    }
   },
   "source": [
    "Un circuito cuántico representa la acción de un operador sobre un estado inicial $\\ket{0}$.  Es decir\n",
    "\n",
    "$$\n",
    "U:\\ket{0} \\to  \\ket{\\psi} = U\\ket{0}\n",
    "$$\n",
    "se representa graficamente en la forma \n",
    "::::{figure} images/circuito_basico.png\n",
    ":width: 250px\n",
    ":align: center\n",
    "::::\n",
    "\n",
    "Cuando el operador $U$ es una <i>composición de puertas</i>, por ejemplo que $U = TH$, el orden en el que aparecen en el circuito es el inverso\n",
    "\n",
    "\n",
    "::::{figure} images/circuito_basico_2.png\n",
    ":width: 300px\n",
    ":align: center\n",
    "::::\n"
   ]
  },
  {
   "cell_type": "markdown",
   "id": "512d3472",
   "metadata": {},
   "source": [
    ":::::{tab-set}\n",
    "::::{tab-item} Qibo\n",
    "```python\n",
    "\n",
    "#from qibo import Circuit, gates\n",
    "from qibo.models.circuit import Circuit,gates\n",
    "qc = Circuit(1)\n",
    "\n",
    "qc.add(gates.H(0))\n",
    "qc.add(gates.T(0))\n",
    "\n",
    "#print(qc.draw())\n",
    "\n",
    "tQ.draw_qibo_circuit_mpl(qc)\n",
    "```\n",
    "::::\n",
    "::::{tab-item} Qiskit\n",
    "```python\n",
    "\n",
    "from qiskit import  QuantumRegister, QuantumCircuit\n",
    "from qiskit.quantum_info import Statevector\n",
    "\n",
    "\n",
    "qr = QuantumRegister(1) #define el registo cuántico\n",
    "qc = QuantumCircuit(qr) #crea un circuito\n",
    "\n",
    "'añade puertas' \n",
    "qc.h(0)\n",
    "qc.t(0)\n",
    "\n",
    "\n",
    "# qc.u(theta,phi,lambda,quantum register)  https://qiskit.org/documentation/stubs/qiskit.circuit.library.UGate.html\n",
    "#qc.u(np.pi/4,np.pi/2,0,0)\n",
    "display(qc.draw(output='mpl'))\n",
    "\n",
    "#Statevector(qc).draw('Bloch')\n",
    "```\n",
    "::::\n",
    ":::::\n"
   ]
  },
  {
   "cell_type": "code",
   "execution_count": 2,
   "id": "1d62e192-961f-4cc8-9910-1284c41bf620",
   "metadata": {
    "tags": [
     "remove_input"
    ]
   },
   "outputs": [
    {
     "data": {
      "image/png": "[encoded data removed]",
      "text/plain": [
       "<Figure size 269.064x117.056 with 1 Axes>"
      ]
     },
     "execution_count": 2,
     "metadata": {},
     "output_type": "execute_result"
    }
   ],
   "source": [
    "'''Qibo_code_cell'''\n",
    "\n",
    "#from qibo import Circuit, gates\n",
    "from qibo.models.circuit import Circuit,gates\n",
    "qc = Circuit(1)\n",
    "\n",
    "qc.add(gates.H(0))\n",
    "qc.add(gates.T(0))\n",
    "\n",
    "#print(qc.draw())\n",
    "\n",
    "tQ.draw_qibo_circuit_mpl(qc)"
   ]
  },
  {
   "cell_type": "markdown",
   "id": "81d6ce77-fb4b-4ccb-b2b8-682d3b784822",
   "metadata": {
    "slideshow": {
     "slide_type": "skip"
    }
   },
   "source": [
    " La concatenación de puertas se corresponde con la *composición de operadores*, es decir, con la *multiplicación de las matrices* asociadas. \n"
   ]
  },
  {
   "cell_type": "markdown",
   "id": "c370b771-5dd2-494f-b1fd-adc086130ec5",
   "metadata": {
    "slideshow": {
     "slide_type": "skip"
    }
   },
   "source": [
    "#### Matriz de un circuito\n",
    "\n",
    "Εl circuito anterior representa el operador unitario $U$ al que le corresponde la matriz obtenida por multiplicación\n",
    "\n",
    "$$\n",
    "U = T H ~~~\\to ~~~ U_{ij} = \\begin{bmatrix}1&0\\\\0&e^{i\\pi/4}\\end{bmatrix} \\frac{1}{\\sqrt{2}} \\begin{bmatrix} 1& 1 \\\\ 1 & -1 \\end{bmatrix}  = \n",
    "\\frac{1}{\\sqrt{2}} \\begin{bmatrix} 1& 1 \\\\ e^{i\\pi/4} & -e^{i\\pi/4} \\end{bmatrix} \n",
    "$$\n",
    "\n",
    "Podemos extraer el operador asociado a un circuito."
   ]
  },
  {
   "cell_type": "code",
   "execution_count": 8,
   "id": "d5ed0fcc-4b8d-466c-88e5-0a56f04fb0ff",
   "metadata": {},
   "outputs": [
    {
     "data": {
      "text/latex": [
       "$$\n",
       "U = \n",
       "\\begin{bmatrix}\n",
       "\\frac{\\sqrt{2}}{2} & \\frac{\\sqrt{2}}{2}  \\\\\n",
       " \\frac{1}{2} + \\frac{i}{2} & - \\frac{1}{2} - \\frac{i}{2}  \\\\\n",
       " \\end{bmatrix}\n",
       "$$"
      ],
      "text/plain": [
       "<IPython.core.display.Latex object>"
      ]
     },
     "execution_count": 8,
     "metadata": {},
     "output_type": "execute_result"
    }
   ],
   "source": [
    "from qiskit.quantum_info import Operator\n",
    "result = Operator(qc).data\n",
    "\n",
    "from qiskit.visualization import array_to_latex\n",
    "array_to_latex(result,prefix='U = ')"
   ]
  },
  {
   "cell_type": "markdown",
   "id": "961eb271-3924-4a1e-a57a-befc62fc0d83",
   "metadata": {
    "slideshow": {
     "slide_type": "skip"
    }
   },
   "source": [
    "#### Simulador de estado"
   ]
  },
  {
   "cell_type": "markdown",
   "id": "10ff1cf2-0964-41fa-bbd0-f7c470bde9dd",
   "metadata": {
    "slideshow": {
     "slide_type": "skip"
    }
   },
   "source": [
    "La descomposición en puertas nos permite visualizar la acción del operador sobre el estado de referencia $\\ket{0}$ \n",
    "\n",
    "- el operador $H$ lleva el vector $\\ket{0}$ al vector $\\ket{+}$ sobre el eje $x$.  \n",
    "\n",
    "- posterioremente, $T$ es una rotación de ángulo $\\pi/4$ en torno al eje $z$.\n",
    "\n",
    "El resultado será un vector en el plano ecuatorial en la diagonal entre los ejes $x$ e $y$.\n",
    "Podemos visualizar esto usando un simulador de vector de estado."
   ]
  },
  {
   "cell_type": "code",
   "execution_count": 9,
   "id": "c92b9595-24f5-4ad8-a434-fcaf255f8451",
   "metadata": {},
   "outputs": [
    {
     "data": {
      "text/latex": [
       "$$\\ket{\\psi} = \\frac{\\sqrt{2}}{2} |0\\rangle+(\\frac{1}{2} + \\frac{i}{2}) |1\\rangle$$"
      ],
      "text/plain": [
       "<IPython.core.display.Latex object>"
      ]
     },
     "metadata": {},
     "output_type": "display_data"
    },
    {
     "data": {
      "image/png": "[encoded data removed]",
      "text/plain": [
       "<Figure size 480x480 with 1 Axes>"
      ]
     },
     "execution_count": 9,
     "metadata": {},
     "output_type": "execute_result"
    }
   ],
   "source": [
    "from qiskit.quantum_info import Statevector\n",
    "statevector = Statevector(qc)\n",
    "\n",
    "display(statevector.draw('latex',prefix='\\ket{\\psi} = '))\n",
    "\n",
    "# alternative wat to plot the state vector on the Bloch sphere\n",
    "statevector.draw('Bloch')"
   ]
  }
 ],
 "metadata": {
  "kernelspec": {
   "display_name": "Python 3 (ipykernel)",
   "language": "python",
   "name": "python3"
  },
  "language_info": {
   "codemirror_mode": {
    "name": "ipython",
    "version": 3
   },
   "file_extension": ".py",
   "mimetype": "text/x-python",
   "name": "python",
   "nbconvert_exporter": "python",
   "pygments_lexer": "ipython3",
   "version": "3.9.12"
  },
  "toc": {
   "base_numbering": 1,
   "nav_menu": {},
   "number_sections": true,
   "sideBar": true,
   "skip_h1_title": true,
   "title_cell": "Table of Contents",
   "title_sidebar": "Contents",
   "toc_cell": false,
   "toc_position": {
    "height": "calc(100% - 180px)",
    "left": "10px",
    "top": "150px",
    "width": "414.053px"
   },
   "toc_section_display": true,
   "toc_window_display": false
  },
  "varInspector": {
   "cols": {
    "lenName": 16,
    "lenType": 16,
    "lenVar": 40
   },
   "kernels_config": {
    "python": {
     "delete_cmd_postfix": "",
     "delete_cmd_prefix": "del ",
     "library": "var_list.py",
     "varRefreshCmd": "print(var_dic_list())"
    },
    "r": {
     "delete_cmd_postfix": ") ",
     "delete_cmd_prefix": "rm(",
     "library": "var_list.r",
     "varRefreshCmd": "cat(var_dic_list()) "
    }
   },
   "types_to_exclude": [
    "module",
    "function",
    "builtin_function_or_method",
    "instance",
    "_Feature"
   ],
   "window_display": false
  }
 },
 "nbformat": 4,
 "nbformat_minor": 5
}