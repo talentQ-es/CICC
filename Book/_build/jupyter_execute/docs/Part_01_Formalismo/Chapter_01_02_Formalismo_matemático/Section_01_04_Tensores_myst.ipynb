{
 "cells": [
  {
   "cell_type": "markdown",
   "id": "106a3297",
   "metadata": {
    "slideshow": {
     "slide_type": "slide"
    }
   },
   "source": [
    "> {sub-ref}`today` | {sub-ref}`wordcount-minutes` min read\n",
    "\n",
    "::::{figure} ../../figuras/logos/Logo_TalentQ_Azul.png\n",
    ":width: 150px\n",
    ":align: right\n",
    "::::\n",
    "\n",
    "\n",
    "\n",
    "# Tensores \n",
    "\n",
    "$ \\newcommand{\\bra}[1]{\\langle #1|} $\n",
    "$ \\newcommand{\\ket}[1]{|#1\\rangle} $\n",
    "$ \\newcommand{\\braket}[2]{\\langle #1|#2\\rangle} $\n",
    "$ \\newcommand{\\ketbra}[2]{| #1\\rangle \\langle #2|} $\n",
    "$ \\newcommand{\\tr}{{\\rm tr}} $\n",
    "$ \\newcommand{\\i}{{\\color{blue} i}} $ \n",
    "$ \\newcommand{\\Hil}{{\\cal H}} $\n",
    "$ \\newcommand{\\V}{{\\cal V}} $\n",
    "$ \\newcommand{\\Lin}{\\hbox{Lin}} $\n"
   ]
  },
  {
   "cell_type": "code",
   "execution_count": 1,
   "id": "26f3c88f",
   "metadata": {
    "slideshow": {
     "slide_type": "-"
    },
    "tags": [
     "hide-input"
    ]
   },
   "outputs": [],
   "source": [
    "%run ../../macro_tQ.py\n",
    "import sys\n",
    "sys.path.append('../../')\n",
    "import macro_tQ as tQ\n",
    "\n",
    "import numpy as np\n",
    "import scipy.linalg as la\n",
    "from IPython.display import display,Markdown,Latex\n",
    "import matplotlib.pyplot as plt\n",
    "from qiskit.tools.visualization import array_to_latex"
   ]
  },
  {
   "cell_type": "markdown",
   "id": "bd919b35",
   "metadata": {
    "slideshow": {
     "slide_type": "slide"
    }
   },
   "source": [
    "## Producto Tensorial"
   ]
  },
  {
   "cell_type": "markdown",
   "id": "72d66123",
   "metadata": {
    "slideshow": {
     "slide_type": "skip"
    }
   },
   "source": [
    "Un computador clásico es capaz de tratar grandes cantidades de bits a base de acumular dispositivos de un solo bit. Cuánticamente consideraríamos una colección de sistemas que, cada uno, implemente un cúbit.\n",
    "\n",
    "La herramienta matemática para describir un sistema compuesto es el <u>*producto tensorial* de espacios de Hilbert</u>\n",
    "\n",
    "::::::{card} \n",
    "<b>Definición</b>:  \n",
    "\n",
    "^^^\n",
    " dados dos vectores $\\ket{u}_1\\in \\Hil_1$ y  $\\ket{v}_2\\in \\Hil_2$, denominamos <i>producto tensorial</i> al par ordenado\n",
    "\n",
    "\n",
    "$$\n",
    " \\ket{u}_1\\otimes \\ket{v}_2 \\equiv \\ket{uv}\n",
    "$$\n",
    "::::::\n",
    "\n",
    "\n",
    "con la propiedad *bilineal*, es decir, *distributiva*\n",
    "\n",
    "\n",
    "\\begin{eqnarray}\n",
    "\\big(\\ket{u}+\\ket{v}\\big)\\otimes \\big(\\ket{y}+\\ket{z}\\big) ~&= &~~\n",
    "\\ket{u}\\otimes\\ket{y} ~+~ \\ket{u}\\otimes\\ket{z} ~+~ \\ket{v}\\otimes\\ket{y} ~+~~\n",
    " \\ket{v}\\otimes\\ket{z} \\\\\n",
    " \\rule{0mm}{8mm}\n",
    " &=& \\ket{uy} + \\ket{uz} + \\ket{vy} + \\ket{vz}\n",
    "\\end{eqnarray}\n",
    "\n"
   ]
  },
  {
   "cell_type": "markdown",
   "id": "ac2a90b4",
   "metadata": {
    "slideshow": {
     "slide_type": "slide"
    }
   },
   "source": [
    "A continuación construimos un espacio vectorial, que incluya todas las posibles combinaciones lineales de pares ordenados\n",
    "\n",
    "::::::{card} \n",
    "<b>Definición</b>:  \n",
    "\n",
    "^^^\n",
    " \n",
    "El  <i>espacio producto tensorial</i>  $\\Hil = \\Hil_1 \\otimes \\Hil_2$ está formado por  <u>todas las combinaciones lineales</u> posibles de   <u>pares ordenados</u> \n",
    "\n",
    " \n",
    "$$\n",
    "\\ket{w}= a\\ket{u}_1\\otimes\\ket{u}_2 ~+~ b \\ket{v}_1\\otimes\\ket{v}_2 ~+ ~...\n",
    "$$\n",
    "     \n",
    "donde  $\\ket{u}_1,\\ket{v}_1,...\\in \\Hil_1\\, ~$ y $~\\, \\ket{u}_2,\\ket{v}_2,...\\in \\Hil_2~$,\n",
    "    y $~a,b,... \\in {\\mathbb C}$ son coeficientes complejos.\n",
    " \n",
    "::::::\n"
   ]
  },
  {
   "cell_type": "markdown",
   "id": "d53df9ba",
   "metadata": {
    "slideshow": {
     "slide_type": "-"
    }
   },
   "source": [
    "### Base y Dimensión\n",
    "\n",
    "Sea $\\ket{i_1}$ una base de $\\Hil_1$ y $\\ket{i_2}$ una base de $\\Hil_2$. Entonces, una base de $\\Hil_1\\otimes \\Hil_2$ se obtiene formando todas las posibles parejas\n",
    "\n",
    "\n",
    "$$\n",
    "\\ket{i_1 i_2} = \\ket{i_1}\\otimes \\ket{i_2}~~~~~~~~~~~~~~~~~~ \n",
    "$$\n",
    "\n",
    "con\n",
    "$\n",
    "i_1=1....d_1$ y $i_2=1,...,d_2\n",
    "$. Cada elemento así formado es <i>linealmente independiente</i> de los demás. \n",
    "\n",
    "El número parejas posibles es $d_1d_2$, que coincide con la **dimensión** de $\\Hil_1\\otimes \\Hil_2$\n",
    "\n",
    "Vemos que las **etiquetas** de los vectores de la base forman un *bi-índice* $\\to i_1 i_2$ que asume $d_1 d_2$ parejas de valores distintos\n",
    "\n",
    "Un *vector* se escribirá igualmente usando $d_1 d_2$ <i>componentes</i> complejas $w_{i_1 i_2}$, etiquetadas mediante un bi-índice en lugar de un índice\n",
    "\n",
    "\n",
    "$$\n",
    "\\ket{\\omega} ~= ~ \\sum_{i_1=1}^{d_1}\\sum_{i_2=1}^{d_2} w_{i_1i_2} \\ket{i_1 i_2} \n",
    "~=~ w_{11}\\ket{11} + w_{12}\\ket{12} + ... + w_{21}\\ket{21} + ...\\ldots + w_{d_1 d_2}\\ket{d_1 d_2}   \n",
    "$$\n",
    "\n",
    "\n"
   ]
  },
  {
   "cell_type": "markdown",
   "id": "b433016d",
   "metadata": {
    "slideshow": {
     "slide_type": "slide"
    }
   },
   "source": [
    "::::::{admonition} Nota\n",
    ":class: note\n",
    "\n",
    "\n",
    "podemos etiquetar las componentes (o los elementos de la base) con índices, en lugar de bi-índices\n",
    "Para ello basta con definir un mapa  entre dos bi-índices $i_1,i_2$ y un índice $a$ \n",
    "$$\n",
    "\\ket{w} ~= ~ \\sum_{i_1=1}^{d_1}\\sum_{i_2=1}^{d_2} w_{i_1 i_2} \\ket{i_1 i_2} ~=~ \\sum_{a=1}^{d_1d_2} w_{a} \\ket{a}\n",
    "$$\n",
    "    \n",
    "donde hemos querido resaltar que las componente y  los vectores son los mismos, etiquetados de forma diferente.\n",
    " En el caso genera el mapa es \n",
    "\n",
    "$$\n",
    "i_1 i_2 ~~\\to ~~ a = d_2*(i_1-1) + i_2\n",
    "$$\n",
    "\n",
    "Claramente $a = 1,...,d_1d_2$ tiene $d_1d_2$ valores distintos\n",
    "::::::\n"
   ]
  },
  {
   "cell_type": "markdown",
   "id": "f92d5987",
   "metadata": {},
   "source": [
    "::::::{admonition} Ejemplo\n",
    ":class: tip\n",
    "\n",
    "\n",
    "Supongamos que $d_1 = 2$ y $d_2=3$, entonces\n",
    "\n",
    "$$\n",
    "\\begin{array}\n",
    "\\ket{w} &=& w_{11}\\ket{11} + w_{12}\\ket{12} + w_{13}\\ket{13} + w_{21}\\ket{21} + w_{22}\\ket{22} + w_{23}\\ket{23}\n",
    "\\end{array}\n",
    "$$\n",
    "\n",
    "o, en notación matricial\n",
    "\n",
    "$$\n",
    "\\ket{w} ~\\sim~  \\begin{pmatrix} w_{11}\\\\ w_{12} \\\\ w_{13} \\\\ w_{21} \\\\ w_{22} \\\\ w_{23} \\end{pmatrix} ~~=~~ \n",
    "\\begin{pmatrix} w_{1}\\\\ w_{2} \\\\ w_{3} \\\\ w_{4} \\\\ w_{5} \\\\ w_{6} \\end{pmatrix}\n",
    "$$\n",
    "::::::\n"
   ]
  },
  {
   "cell_type": "markdown",
   "id": "ccdf7696",
   "metadata": {
    "slideshow": {
     "slide_type": "slide"
    }
   },
   "source": [
    "### Producto de Kronecker"
   ]
  },
  {
   "cell_type": "markdown",
   "id": "29d206c4",
   "metadata": {
    "slideshow": {
     "slide_type": "skip"
    }
   },
   "source": [
    "La matriz columna asociada $\\ket{uv}= \\ket{u}\\otimes \\ket{v}$ se forma a partir de las matrices columna de $\\ket{u}$ y $\\ket{v}$ mediante el denominado *producto de Kronecker* o, también *producto tensorial matricial*. \n",
    "\n",
    "$$\n",
    " \\ket{uv} = \\ket{u}\\otimes \\ket{v} ~\\sim~ \n",
    "\\begin{pmatrix}u_1\\\\ u_2 \\end{pmatrix}\\otimes \\begin{pmatrix}v_1\\\\ v_2 \\end{pmatrix} ~\\equiv ~\n",
    "\\begin{pmatrix}u_1 \\begin{pmatrix}v_1\\\\ v_2 \\end{pmatrix} \\\\ u_2 \\begin{pmatrix}v_1\\\\ v_2 \\end{pmatrix}  \\end{pmatrix}\n",
    "~=~\\begin{pmatrix}u_1v_1\\\\ u_1v_2 \\\\ u_2 v_1 \\\\ u_2 v_2  \\end{pmatrix}\n",
    "$$\n",
    "\n",
    "En particular el vector $\\ket{ij} = \\ket{i}\\otimes\\ket{j}$ producto de dos elementos de la base sólo tiene una componente igual a 1 en la posición $ij$. Por ejemplo\n",
    "\n",
    "$$\n",
    "\\ket{12}  ~=~ \\begin{pmatrix}1\\\\ 0 \\end{pmatrix}\\otimes \\begin{pmatrix} 0\\\\ 1 \\end{pmatrix} ~\\equiv ~\n",
    "~=~\\begin{pmatrix}0\\\\ 1 \\\\ 0 \\\\ 0  \\end{pmatrix}\n",
    "$$"
   ]
  },
  {
   "cell_type": "markdown",
   "id": "07847719",
   "metadata": {
    "slideshow": {
     "slide_type": "skip"
    }
   },
   "source": [
    "::::::{admonition} Notar\n",
    ":class: note\n",
    "\n",
    "Con dos vectores $\\ket{u} = \\sum_i u_i \\ket{e_i}$ y $\\ket{v} = \\sum_i v_i \\ket{e_i} \\in \\Hil$, hay dos objetos muy parecidos que podemos formar\n",
    "\n",
    "1. un operador $\\Omega = \\ketbra{u}{v} = \\sum_{ij}u_i v^*_j\\ketbra{e_i}{e_j} \\in \\Lin(\\Hil)$.  \n",
    "\n",
    "    \n",
    "2. un vector $ $\\ket{\\omega} = \\ket{u}\\otimes \\ket{v} = \\sum_{ij} u_i v_j \\ket{e_i} \\ket{e_j} \\in \\Hil\\otimes \\Hil$. \n",
    "    \n",
    "Nota la conjugación compleja relativa entre las dos matrices de componentes $\\Omega_{ij} = u^*_i v_j$ y $\\omega_{ij} ~=~  u_i v_j$.\n",
    "\n",
    "::::::\n"
   ]
  },
  {
   "cell_type": "markdown",
   "id": "638b696a",
   "metadata": {
    "slideshow": {
     "slide_type": "skip"
    }
   },
   "source": [
    "::::::{admonition} Ejercicio\n",
    ":class: tip\n",
    "\n",
    "\n",
    "Escribe una función  <i>kronecker(u,v)</i> que tome dos kets (como vectores columna)  y devuelva su producto de Kronecker. Verifica el resultado con la funcion $kron$ de numpy.  \n",
    "::::::\n"
   ]
  },
  {
   "cell_type": "markdown",
   "id": "2ce09e57",
   "metadata": {
    "slideshow": {
     "slide_type": "slide"
    }
   },
   "source": [
    "## Factorización y Entrelazamiento\n",
    "\n",
    "::::::{card} \n",
    "<b>Definición</b>: </i>Vector entrelazado</i> \n",
    "\n",
    "^^^\n",
    "\n",
    "\n",
    "Decimos que, un vector $\\ket{w}\\in \\Hil\\otimes\\Hil$ es <b>factorizable</b> cuando es posible encontrar vectores $\\ket{u},\\ket{v}\\in \\Hil$ tales que $ \\ket{w} = \\ket{u}\\otimes\\ket{v}$.\n",
    "\n",
    "\n",
    "Cuando esto no sea posible, decimos que  $\\ket{w}$ es un vector <b>entrelazado</b>.\n",
    "\n",
    "::::::\n",
    " \n",
    "\n",
    "El estado es $\\ket{w}$ es factorizable si y sólo si las componentes $w_{ij}$ son factorizables en la forma $w_{ij} = u_i v_j~$ con $i=1,...,d_1$ y $j = 1,...,d_2$. \n",
    "\n",
    "$$\n",
    "\\ket{w}= \\sum_{i,j=1}^d w_{ij} \\ket{e_{ij}}  = \\sum_{i,j} u_{i}v_j \\ket{e_i}\\otimes \\ket{e_j}= \\sum_{i,j} u_{i} \\ket{e_i}\\otimes v_j\\ket{e_j}  ~ =~ \\sum_i u_i\\ket{e_i} \\otimes \\sum_j v_j\\ket{e_j} ~=~   \\ket{u}\\otimes \\ket{v}\n",
    "$$\n",
    "\n",
    "identidad que se puede leer en ambos sentidos.\n",
    "En general no será posible discernir si un vector es factorizable o entrelazado. Vamos a ver algunas herramientas útiles en este sentido.\n",
    "\n"
   ]
  },
  {
   "cell_type": "markdown",
   "id": "e0c03625",
   "metadata": {
    "slideshow": {
     "slide_type": "fragment"
    }
   },
   "source": [
    "::::::{admonition} Nota\n",
    ":class: note\n",
    "\n",
    "\n",
    "Hay muchos más vectores entrelazados que factorizables.\n",
    "El carácter entrelazado de un vector es <i>genérico</i>, mientras que el carácter factorizable es <i>accidental</i>. Esto se sigue de un sencillo contaje: \n",
    "\n",
    "   -  $\\{w_{ij}\\}$ forma un conjunto de $d_1d_2$ parámetros complejos independientes (grados de libertad). \n",
    "\n",
    "    \n",
    "   \n",
    "   - sin embargo en $\\{u_i v_j\\}$ sólo hay $d_1 + d_2$ números independientes. \n",
    "    \n",
    "Es evidente que $d_1 d_2 \\gg d_1 + d_2$\n",
    "::::::\n"
   ]
  },
  {
   "cell_type": "markdown",
   "id": "49afacfe",
   "metadata": {
    "slideshow": {
     "slide_type": "slide"
    }
   },
   "source": [
    "### Concurrencia\n",
    "\n",
    "En el caso  $d_1 = d_2 =2$  la condición de *factorizabilidad* $~\\Rightarrow ~w_{ij} = u_i v_j$ es <i>equivalente</i> a verificar\n",
    "    la anulación del  determinante de la matriz $2\\times 2$ formada por las componentes\n",
    "\n",
    "    \n",
    "$$\\det w_{ij} =  w_{11}w_{22}- w_{12}w_{21} = u_1v_1u_2v_2-u_1v_2u_2v_1=0$$  \n",
    "\n",
    "De hecho, la cantidad ${\\cal C} = |\\det w_{ij}|$ se denomina *concurrencia* y es parametriza el entrelazamiento de forma *monótona*\n",
    "\n",
    "::::::{card} \n",
    "<b>Teorema</b>:  \n",
    "\n",
    "^^^\n",
    "\n",
    "La concurrencia verifica la desigualdad \n",
    "$$\n",
    "0\\leq {\\cal C} \\leq 1 \n",
    "$$\n",
    "::::::\n",
    "\n",
    "El caso ${\\cal C}=0$ ya hemos visto que diagnostica que el estado es factorizable.  El valor del  entrelazamiento de un estado crece con ${\\cal C}$ hasta que alcanza su valor máximo posible cuando ${\\cal C} = 1$\n",
    "\n",
    " En el caso general $d_1, d_2 \\geq 2$ la busqueda de un criterio para detectar si $w_{ij}$ es factorizable o entrelazado pasa por la descomposición de Schmidt. \n"
   ]
  },
  {
   "cell_type": "markdown",
   "id": "6e95c62a",
   "metadata": {
    "slideshow": {
     "slide_type": "slide"
    }
   },
   "source": [
    "<a id='Schmidt'></a>\n",
    "### Descomposición de Schmidt"
   ]
  },
  {
   "cell_type": "markdown",
   "id": "4fefa3a9",
   "metadata": {
    "slideshow": {
     "slide_type": "-"
    }
   },
   "source": [
    "Supongamos que, usando bases  $\\{\\ket{e_{1,i}},~ i=1,...,d_1\\}$  de $\\Hil_1$ y  $\\{\\ket{e_{2,a}},~a=1,...,d_2\\}$  de $\\Hil_2$ un cierto vector se escribe\n",
    "\n",
    "$$\n",
    "\\ket{w} = \\sum_{i=1}^{d_1}\\sum_{a=1}^{d_2} w_{ia} \\ket{e_{1,i}}\\otimes \\ket{e_{2,a}}\n",
    "$$\n",
    "\n",
    "Los valores de las *componentes* $w_{ia}$ **dependen de las bases escogida**. Si cambiamos  a *otra* base $\\ket{ \\tilde e_{1,i}}\\otimes\\ket{\\tilde e_{2,a}}$ encontraremos *otras* componentes $\\tilde w_{ia}$ para el *mismo* vector \n",
    "\n",
    "Si existe una base en la que $\\tilde w_{ia}=0$ para todos los valores de $ia$ menos para uno (por ejemplo $\\tilde w_{11}\\neq 0$), entonces \n",
    "\n",
    "\n",
    "$$\\ket{w}= \\tilde w_{11}\\ket{\\tilde e_{1,1}}\\otimes \\ket{\\tilde e_{2,1}}$$ \n",
    "\n",
    "y, secretamente, demostraríaos que el vector $\\ket{w}$ era factorizable.\n",
    "\n",
    "El siguiente teorema nos permite averiguar **cuánto nos podemos acercar a esta situación**\n",
    "\n",
    "::::::{card} \n",
    "<b>Teorema</b>: </i>de Schmidt</i> \n",
    "\n",
    "^^^\n",
    "\n",
    "asociadas a cada vector concreto: $\\ket{w}\\in \\Hil_1\\otimes \\Hil_2$, existen sendas  bases  $\\ket{f_{1,i}}$  de $\\Hil_1$ y  $\\ket{f_{2,a}}$  de $\\Hil_2$, tales que, podemos expresar \n",
    "\n",
    "\n",
    "$$\n",
    "\\ket{w} = \\sum_{i=1}^r s_i \\ket{f_{1,i}}\\otimes\\ket{f_{2,i}} \\, ,\n",
    "$$\n",
    "    \n",
    "donde $s_i>0$, y la suma   involucra el <i>mínimo número</i>, $r$, de términos.\n",
    "    \n",
    "::::::\n",
    "\n",
    ":::{dropdown} Demostración:\n",
    "La *demostración del Teorema de Schmidt* es interesante porque nos da un **método constructivo** para encontrar la descomposición. \n",
    "\n",
    "Supongamos que nuestro vector se escribe\n",
    "\n",
    "$$\n",
    "\\ket{w} = \\sum_{i=1}^{d_2}\\sum_{a=1}^{d_2} w_{ia} \\ket{e_{1,i}}\\otimes \\ket{e_{2,a}}\n",
    "$$\n",
    "\n",
    "La matriz de coeficientes $w_{ia}$ tiene  dimension $d_1\\times d_2$. \n",
    "Asumiremos $d_1 \\geq d_2$ sin pérdida de generalidad\n",
    "\n",
    " El **teorema SVD** de *descomposición en valores singulares*, nos garantiza que podemos expresar dicha matriz en la forma siguiente\n",
    "\n",
    "\n",
    "$$\n",
    "w = U\\Sigma V^\\dagger ~~~\\Rightarrow ~~~~w_{ia} = \\sum_{j=1}^{d_1}\\sum_{b=1}^{d_2} U_{ij}\\Sigma_{jb}V_{ab}^*\n",
    "$$\n",
    "\n",
    "donde $U$ y $V$ son unitarias $(d_1\\times d_1)$ y $(d_2\\times d_2)$ respectivamente, mientras que $\\Sigma$ es diagonal\n",
    "\n",
    "$$\n",
    "\\Sigma_{jb} = \n",
    "\\overbrace{\\left.\n",
    "\\begin{bmatrix}\n",
    "s_1 &\\cdots  &    &  & & &  0  \\\\  \\vdots & \\ddots & & & & & \\vdots  \\\\  & & s_r & & & &  \\\\\n",
    "   & &  & 0  & &  &    \\\\ & & & & & \\ddots &  \\\\  0 & &\\cdots  & & & & 0  \\\\ \\vdots & &&&& & \\vdots \\\\ 0 & & \\cdots & & & & 0\n",
    "\\end{bmatrix}   \\right\\}  }^{\\displaystyle d_2} \\, d_1 ~~~~~~\\Rightarrow ~~~~~ \\Sigma_{jb} = s_j\\delta_{jb}\n",
    "$$\n",
    "\n",
    "- Los números $s_1,...,s_r >0$ son los autovalores de la matriz $w^\\dagger w$  y se denominan <i>valores principales </i>  de la matriz $w_{ij}$ \n",
    "\n",
    "Esto quiere decir que podemos escribir\n",
    "\n",
    "\\begin{eqnarray*}\n",
    "\\ket{w} &=& \\sum_{i=1}^{d_1}\\sum_{a=1}^{d_2}\\left( \\sum_{j=1}^{d_1}\\sum_{b=1}^{d_2} U_{ij}\\Sigma_{jb}V_{ab}^* \\right)\\ket{e_{1,i}}\\otimes \\ket{e_{2,a}}\n",
    "\\\\  \\rule{0mm}{10mm}\n",
    "&=& \\sum_{j=1}^{d_1}\\sum_{b=1}^{d_2}\\Sigma_{jb}\\left( \\sum_{i=1}^{d_1} U_{ij}\\ket{e_{1,i}} \\right)\\otimes  \\left( \\sum_{a=1}^{d_2} V_{ab}^* \\ket{e_{2,a}}\\right)\n",
    "\\\\   \\rule{0mm}{10mm}\n",
    "&=& \\sum_{j=1}^{d_1}\\sum_{b=1}^{d_2}s_j\\delta_{jb} \\ket{f_{1,j}}\\otimes \\ket{f_{2,b}}\\\\   \\rule{0mm}{10mm}\n",
    "&=& \\sum_{j=1}^r s_j \\ket{f_{1,j}}\\otimes \\ket{f_{2,j}}\n",
    "\\end{eqnarray*}\n",
    ":::\n"
   ]
  },
  {
   "cell_type": "markdown",
   "id": "039ed843",
   "metadata": {
    "slideshow": {
     "slide_type": "slide"
    }
   },
   "source": [
    "El número $1\\leq r\\leq {\\rm min}(d_1,d_2)$ es <b>rango</b> de $w$ y  se denomina <i> Número de Schmidt</i>. Es la información relevante  porque \n",
    "\n",
    "-  cuando $r=1$ el estado $\\ket{w}$ será *factorizable*. \n",
    "\n",
    "\n",
    "-  si $r\\geq 2$ el estado será *entrelazado*.\n",
    "\n",
    "Por tanto, podemos saber si un *estado bipartito* es entrelazado calculando la descomposición en valores singulares de su matriz de coeficientes en cualquier base. "
   ]
  },
  {
   "cell_type": "code",
   "execution_count": 4,
   "id": "7124247a",
   "metadata": {
    "slideshow": {
     "slide_type": "slide"
    }
   },
   "outputs": [
    {
     "data": {
      "text/latex": [
       "$$\n",
       "\n",
       "\\begin{bmatrix}\n",
       "0.125392862 - 0.3718375834 i & -0.763144755 - 1.3295227899 i & -0.1747556792 + 1.1105499163 i  \\\\\n",
       " 0.3668513583 - 0.412001223 i & 0.3447532724 - 1.4871124243 i & -0.5100640007 - 0.7509705011 i  \\\\\n",
       " -1.0308059755 - 0.2976772741 i & 0.4037586034 + 0.1015276639 i & 0.8927153729 - 1.0372178216 i  \\\\\n",
       " -0.3905141513 + 1.0921849695 i & -0.2098463979 - 0.5861346007 i & 0.9532044954 + 0.1684042206 i  \\\\\n",
       " \\end{bmatrix}\n",
       "$$"
      ],
      "text/plain": [
       "<IPython.core.display.Latex object>"
      ]
     },
     "metadata": {},
     "output_type": "display_data"
    },
    {
     "name": "stdout",
     "output_type": "stream",
     "text": [
      "valores principales s_i =  [2.731 1.835 1.505]\n",
      "El número de Schmidt es r = 3\n"
     ]
    }
   ],
   "source": [
    "'Veamos el caso genérico'\n",
    "\n",
    "d1=4 # Dimensión de H1\n",
    "d2=3 # Dimensión de H2\n",
    "\n",
    "' generamos una matriz aleatoria compleja '\n",
    "w = np.random.randn(d1,d2)+ np.random.randn(d1,d2) * 1j  # coeficientes w_{ia} de un estado genérico\n",
    "display(array_to_latex(w))\n",
    "\n",
    "' efectuamos las descomposición SVD'\n",
    "u, s, vh = np.linalg.svd(w, full_matrices=True)\n",
    "\n",
    "np.round(s,3)\n",
    "\n",
    "print('valores principales s_i = ',np.round(s,3))\n",
    "print('El número de Schmidt es r =', np.count_nonzero(s))"
   ]
  },
  {
   "cell_type": "markdown",
   "id": "18765345",
   "metadata": {
    "slideshow": {
     "slide_type": "fragment"
    }
   },
   "source": [
    "Corre la celda anterior muchas veces y mira si consigues encontrar algún caso en que $r<{\\rm min}(d_1,d_2)$"
   ]
  },
  {
   "cell_type": "code",
   "execution_count": 10,
   "id": "1b0877bb",
   "metadata": {
    "slideshow": {
     "slide_type": "slide"
    }
   },
   "outputs": [
    {
     "data": {
      "text/latex": [
       "$$\n",
       "\n",
       "\\begin{bmatrix}\n",
       "0.006628718 + 0.0118289835 i & -0.0935584424 + 0.1379507267 i & -0.0187644322 - 0.0732487833 i  \\\\\n",
       " -0.0249567875 + 0.0438909563 i & -0.6197874221 - 0.0328451611 i & 0.1974119047 - 0.2007502387 i  \\\\\n",
       " 0.0104933358 - 0.0087536303 i & 0.1539599952 + 0.0671847992 i & -0.0690972018 + 0.032130267 i  \\\\\n",
       " -0.0110334852 + 0.0305638831 i & -0.3966816883 + 0.0468800356 i & 0.1032743851 - 0.1488908636 i  \\\\\n",
       " -0.0318078391 + 0.0216998011 i & -0.4135458613 - 0.2302537176 i & 0.2025196805 - 0.0713412299 i  \\\\\n",
       " \\end{bmatrix}\n",
       "$$"
      ],
      "text/plain": [
       "<IPython.core.display.Latex object>"
      ]
     },
     "metadata": {},
     "output_type": "display_data"
    },
    {
     "name": "stdout",
     "output_type": "stream",
     "text": [
      "principal values s_i =  [1. 0. 0.]\n",
      "The Schmidt number is p = 1\n"
     ]
    }
   ],
   "source": [
    "'Veamos ahora el caso particular de un estado factorizable'\n",
    "\n",
    "d1=5\n",
    "d2=3\n",
    "\n",
    "' create two random vectors '\n",
    "u = tQ.random_ket(d1)\n",
    "v = tQ.random_ket(d2)\n",
    "\n",
    "w = np.outer(u,v)\n",
    "display(array_to_latex(w))\n",
    "\n",
    "' SVG decomposition '\n",
    "u, s, vh = np.linalg.svd(w, full_matrices=True)\n",
    "\n",
    "print('principal values s_i = ',np.round(s,3))\n",
    "print('The Schmidt number is p =', np.count_nonzero(np.round(s,3)))"
   ]
  },
  {
   "cell_type": "markdown",
   "id": "3ab4dad0",
   "metadata": {
    "slideshow": {
     "slide_type": "fragment"
    }
   },
   "source": [
    "Podemos correr la celda anterior varias veces comprobar que nunca obtendremos $r>1$"
   ]
  },
  {
   "cell_type": "markdown",
   "id": "ad5a7080",
   "metadata": {
    "slideshow": {
     "slide_type": "slide"
    }
   },
   "source": [
    "## Producto Tensorial Múltiple\n",
    "\n",
    "El producto tensorial se puede generalizar a más de un factor: \n",
    "el espacio $ \\Hil_1\\otimes \\Hil_2 ... \\otimes \\Hil_n$ está formado por todas las *n-tuplas* ordenadas de vectores \n",
    "\n",
    "\n",
    "$$\n",
    "\\ket{u} = \\ket{u_1u_2...u_n} \\equiv\\ket{u_1}\\otimes\\ket{u_2}\\otimes ...\\otimes \\ket{u_n}\n",
    "$$\n",
    "\n",
    "\n",
    "donde $\\ket{u_i}\\in \n",
    "\\Hil_i$,  y todas sus combinaciones lineales $\\{ a\\ket{u}+ b\\ket{v} + ...\\}$.\n",
    "\n",
    "\n",
    "Salvo mención expresa, asumiremos que todos los $\\Hil_j=\\Hil$ son iguales y de dimension $d$. En el contexto de la computación cuántica usual con cúbits $\\Rightarrow \\, d=2$ "
   ]
  },
  {
   "cell_type": "markdown",
   "id": "464d2665",
   "metadata": {
    "slideshow": {
     "slide_type": "skip"
    }
   },
   "source": [
    "::::::{admonition} Ejercicio\n",
    ":class: tip\n",
    "\n",
    "Escribe una función  <i>kronecker($u_1,u_2,...,u_n$)</i> que tome n kets (como vectores columna)  y devuelva su producto de Kronecker múltiple.  \n",
    "::::::\n"
   ]
  },
  {
   "cell_type": "markdown",
   "id": "ead7df7e",
   "metadata": {
    "slideshow": {
     "slide_type": "slide"
    }
   },
   "source": [
    "### Base de $\\Hil^{\\otimes n}$\n",
    "\n",
    "Una base de $\\Hil^{\\otimes n}$ se obtiene a partir de cadenas \n",
    "\n",
    "\n",
    "$$\\ket{i_1 i_2.... i_n} = \n",
    "\\ket{i_1}\\ket{i_2}  ... \\ket{i_n}$$ \n",
    "\n",
    "donde $i_1,..,i_n=0,...,d-1$. El número de posibles cadenas es $d^n$ que  es la dimensión de $\\Hil^{\\otimes n}$\n",
    "\n",
    "$$\n",
    "{\\rm dim}_{\\mathbb C} \\Hil^{\\otimes n} = d^n\n",
    "$$ \n",
    "\n",
    "Podemos cambiar de etiqueta \n",
    "$$\\ket{i_1...i_n} \\to \\ket{a}$$ \n",
    "\n",
    "con\n",
    "\n",
    "$$\n",
    "a = i_n + d i_{n-1} + d^2 i_{n-2} \\, +...+ \\,  d^{n-1} i_1\n",
    "$$\n",
    "\n",
    "Claramente $a ~\\in ~(0,d^n-1)$. Si cada base $\\{\\ket{i}\\}$ es ortonormal, tendremos que la base del espacio producto también lo será\n",
    "\n",
    "\n",
    "$$\n",
    "\\braket{i_1 i_2... i_n}{j_1j_2...j_n} = \\delta_{i_1j_1}\\delta_{i_2j_2}...\\delta_{i_nj_n} ~~~~\\leftrightarrow ~~~~\n",
    "\\braket{a}{b} = \\delta_{ab}\n",
    "$$"
   ]
  },
  {
   "cell_type": "markdown",
   "id": "8170d922",
   "metadata": {
    "slideshow": {
     "slide_type": "slide"
    }
   },
   "source": [
    "### Vector  general\n",
    "\n",
    "\n",
    "Un *vector general* admitirá una expansión en esta base mediante $d^n$ *componentes complejas*\n",
    "$u_{i_1 i_2...i_n}$ en la forma\n",
    "\n",
    "\n",
    "$$\n",
    "\\ket{u} ~~=~ \\sum_{i_1,...,i_n=0}^{d-1} u_{i_1i_2...i_n} \\ket{i_1i_2...i_n} ~~=~\n",
    " \\sum_{a=0}^{d^n-1} u_a\\ket{a}\\, .\n",
    "$$\n",
    "Podemos obtener cualquier componente compleja proyectando sobre el elemento correspondiente de la base\n",
    "\n",
    "$$\n",
    "u_{i_1i_2...i_n} = \\braket{i_1 i_2... i_n}{u}~~~~~~\\leftrightarrow~~~~~~~~u_a = \\braket{a}{u}\n",
    "$$\n",
    "\n",
    "Decimos que $u_{i_1i_2...i_n}$ forman las componentes de un *tensor de rango* $n$.\n",
    "\n",
    "Un estado genérico depende de un conjunto de $d*d...*d = d^n$ componentes independiente $u_{i_1i_2...i_n}$.\n",
    "\n",
    "Ya hemos visto los casos de rango $n=1$ <i>(vector)</i> y $n=2$ <i>(operador)</i>\n"
   ]
  },
  {
   "cell_type": "markdown",
   "id": "da03dc3b",
   "metadata": {
    "slideshow": {
     "slide_type": "slide"
    }
   },
   "source": [
    "### Vector factorizable\n",
    "\n",
    "Al igual que antes, *sólo en casos muy particulares*, un vector de $\\Hil^{\\otimes n}$ se podrá escribir en forma factorizada\n",
    "\n",
    "\n",
    "\n",
    "$$\n",
    "\\ket{w} = \\ket{v_1}\\ket{v_2}\\ldots\\ket{v_n} \\equiv \\ket{v_1 v_2 \\ldots v_n}\n",
    "$$\n",
    "\n",
    "Escribiendo $\\ket{v_k} = \\sum_{i_k=1}^d v_{i_k}\\ket{i_k}$ vemos que un *vector factorizable* admite una expansión general en la que los coeficientes son factorizables\n",
    "\n",
    "\n",
    "$$\n",
    "v_{i_1i_2...i_n}  = v_{i_1} v_{i_2}.... v_{i_n}\n",
    "$$\n",
    "\n",
    "El conjunto de coefficientes\n",
    "está parametrizado por $d +d + ...d = nd$ cantidades $v_{i_k}, \\, i_k=1,...,d, \\, k=1,...,n$.\n",
    "\n",
    "Un vector no factorizable está *entrelazado*. El número de dicho vectores crece como el de componentes \n",
    "$w_{i_1,...i_n}$ independientes, esto es como $d^n \\gg nd$ \n",
    "\n",
    "Ahora no contamos con un análogo del teorema de Schmidt para averiguar cuándo un vector de $\\Hil^n$ es factorizable o entrelazado \n"
   ]
  },
  {
   "cell_type": "markdown",
   "id": "1a244f80",
   "metadata": {
    "slideshow": {
     "slide_type": "skip"
    }
   },
   "source": [
    "### Estados producto de matrices *(MPS)*\n",
    "\n",
    "En medio de los dos casos extremos anteriores encontramos la posibilidad de que las componentes del tensor se puedan escribir como productos de matrices\n",
    "\n",
    "::::::{card} \n",
    "<b>Definición</b>:  \n",
    "\n",
    "^^^\n",
    "\n",
    "Un estado $\\ket{v}$ es un <b>MPS</b> <i>(estado producto de matrices)</i> si sus componentes en cualquier base pueden escribirse como la traza total de un producto de matrices\n",
    "\n",
    "$$\n",
    "v_{i_1 i_2 i_3... i_n} =\\tr ( A^{(1)}_{i_1}\\cdot A^{(2)}_{i_2}\\cdot A^{(3)}_{i_3} \\cdots A^{(n)}_{i_n} )\n",
    "$$\n",
    "::::::\n",
    "\n",
    "Si $A^{(a)}_i$ con $a=1,...,n$ y $i=1,...,d$ es un conjunto  de $nd$ matrices de dimensión $D\\times D$ decimos que  $D\\geq 1$ es la  *(dimensión local de enlace)*.  El número de parámetros independientes es $ndD^2$. \n",
    "\n",
    "\n",
    "Los MPS tienen entrelazamiento no nulo, que crece con $D$. Cuando $D=1$ volvemos al caso de vectores factorizables.\n",
    "\n",
    "Si $A^{(a)}_i = A_i$ para todo $a=1,..,n$ decimos que el MPS formado es *invariante traslacional*. Notar que, en este caso, debido a la ciclicidad de la traza tenemos la igualdad de las componentes relacionadas por una permutación cíclica\n",
    "\n",
    "$$\n",
    "v_{i_1 i_2 i_3... i_n} = v_{i_2 i_3... i_n i_1 } = \\, ...\n",
    "$$\n",
    "\n",
    "Por ejemplo, con $n=4$, $\\ket{v} =  v_{i_1i_2i_3i_4} \\ket{e_{i_1i_2i_3i_4} }$\n",
    "\n",
    "$$\n",
    "v_{i_1i_2i_3i_4} =  \\sum_{\\alpha\\beta\\gamma\\mu = 1}^DA_{i_1}^{\\mu \\alpha}A_{i_2}^{\\alpha\\beta}A_{i_3}^{\\beta\\gamma}A_{i_4}^{\\gamma\\mu}\n",
    "$$\n",
    "\n",
    "\n",
    "::::{figure} figuras/XTN4.png\n",
    ":width: 500px\n",
    ":align: center\n",
    "::::\n",
    "\n",
    "    \n",
    " "
   ]
  },
  {
   "cell_type": "markdown",
   "id": "23a21672",
   "metadata": {
    "slideshow": {
     "slide_type": "skip"
    }
   },
   "source": [
    "### Redes de tensores \n",
    "\n",
    "Si queremos aumentar el entrelazamiento del estado podemos, además de aumentar $D$,podemos recurrir a sumar (contraer)  los índices de tensores de mayor rango\n",
    "\n",
    "\n",
    "$$\n",
    "v_{i_1i_2i_3i_4} = \\sum_{\\alpha\\beta\\gamma\\mu\\delta = 1}^D A_{i_1}^{\\mu \\alpha\\delta}A_{i_2}^{\\alpha\\beta}A_{i_3}^{\\beta\\delta\\gamma}A_{i_4}^{\\gamma\\mu}\n",
    "$$\n",
    "\n",
    "La contracción de índices de estos tensores se corresponde con un grafo que puede tener distinta conectividad en distintos nodos\n",
    "\n",
    "Los estados MPS, y los estados TN  para una dimensión de enlace local $D$ finita, no son suficientemente expresivos para capturar el máximo entrelazamiento posible en los estados más geneales de $\\Hil$\n",
    "\n",
    "\n",
    "\n",
    "::::{figure} figuras/XTN_complete.png\n",
    ":width: 500px\n",
    ":align: center\n",
    "::::\n"
   ]
  },
  {
   "cell_type": "markdown",
   "id": "7403067d",
   "metadata": {
    "slideshow": {
     "slide_type": "skip"
    }
   },
   "source": [
    "\n",
    "\n",
    "::::::{admonition} Notar\n",
    ":class: note\n",
    "\n",
    "\n",
    "    \n",
    "- $nd \\ll d^n$. El crecimiento exponencial del número de estados entrelazados es el ingrediente crucial para la computación cuántica. Observar que $d^n$ es el <i>número de enteros</i> alcanzables por $n$ bits. Pero en computación cuántica es el <i>número de dimensiones</i> en la que podemos poner $d^n$ amplitudes complejas.  \n",
    "\n",
    "\n",
    "- No existe un criterio general para saber si un estado es, *a priori*, factorizable o entrelazado. \n",
    "\n",
    "\n",
    "- Además, hay formas de caracterizar matemáticamente el nivel de entrelazamiento (*entanglement witnesses, entanglement monotones* etc.) desde nulo (estado factorizable) hasta maximal.\n",
    "\n",
    "::::::\n"
   ]
  },
  {
   "cell_type": "markdown",
   "id": "c597d921",
   "metadata": {
    "slideshow": {
     "slide_type": "skip"
    }
   },
   "source": [
    "## Operadores sobre  $\\Hil^{\\otimes n}$\n"
   ]
  },
  {
   "cell_type": "markdown",
   "id": "bfcb699b",
   "metadata": {
    "slideshow": {
     "slide_type": "skip"
    }
   },
   "source": [
    "\n",
    "\n",
    "El espacio $\\Hil^{\\otimes n}$ admite, como cualquier espacio vectorial, la acción de *operadores lineales* $A: \\Hil^{\\otimes n} \\to \\Hil^{\\otimes n}$ donde\n",
    "\n",
    "$$\n",
    "A:\\ket{u} \\to \\ket{v} \\equiv A\\ket{u}\n",
    "$$    \n",
    "\n",
    "El conjunto de todos los operadores lineales forman el espacio vectorial $\\Lin(\\Hil^{\\otimes n})$"
   ]
  },
  {
   "cell_type": "markdown",
   "id": "9e33d019",
   "metadata": {
    "slideshow": {
     "slide_type": "skip"
    }
   },
   "source": [
    "### Matrices\n",
    "\n",
    "A cada operador, $A$, le podemos asociadar una *matriz*, una vez elijamos nuestra base  $\\{ \\ket{i_1 i_2... i_n}\\}$ donde, $i_k = 1,...,d$.\n",
    "Los *elementos de matriz* ahora vendrán etiquetados por dos *multi-índices*\n",
    "\n",
    "$$\n",
    " A_{i_1...i_n, \\, j_1...j_n} = \\bra{i_1...i_n}A\\ket{j_1...j_n}  ~~~~~\\leftrightarrow ~~~~~~ A_{ab}= \\bra{a}A\\ket{b}\n",
    "$$\n",
    "\n",
    "Con la matriz, el operador se reconstruye en la base canónica de productos externos\n",
    "\n",
    "\\begin{eqnarray} \n",
    " A &~~=~& \n",
    " \\sum_{i_1,...,i_n,\\, j_1,...,j_n=0}^{d-1} A_{i_1...i_n, \\, j_1...j_n} \\ket{i_1...i_n}\\bra{j_1...j_n}\n",
    " ~~~~=~~~~\n",
    "  \\sum_{a,b=a}^{d^{N}-1} A_{ab} \\ket{a}\\bra{b}\n",
    "\\end{eqnarray}\n",
    "\n",
    "En $A_{i_1...i_n,\\,j_1...j_n} = A_{ab}$ hay $d^n\\times d^n = d^{2n}$ grados de libertad. Esta sería la dimensión del espacio  $\\Lin(\\Hil^{\\otimes n})$.\n",
    "\n"
   ]
  },
  {
   "cell_type": "markdown",
   "id": "eceed79b",
   "metadata": {
    "slideshow": {
     "slide_type": "skip"
    }
   },
   "source": [
    "### Οperadores factorizables\n",
    "\n",
    "En $\\Lin(\\Hil^{\\otimes n})$ hay un análogo de los vectores factorizables de $\\Hil^{\\otimes n}$: los *operadores factorizables*. Decimos de un operador factorizable que es *producto tensorial de  operadores*.\n",
    "\n",
    "Supongamos  $n$ operadores lineales $A^{(a)}\\, ,\\, a=1,...,n$ definidos sobre cada espacio factor $\\Hil$.\n",
    "\n",
    "::::::{card} \n",
    "<b>Definición</b>:  \n",
    "\n",
    "^^^\n",
    "\n",
    "La acción del producto tensorial de operadores  $A = A^{(1)}\\otimes A^{(2)} \\otimes ...A^{(n)}$ sobre un vector $\\ket{v} = \\ket{v}_1\\otimes ...\\otimes \\ket{v_n}\\in \\Hil~$  es\n",
    "\n",
    "\n",
    "$$\n",
    "A\\ket{v} = A^{(1)}\\ket{v_1}\\otimes ... \\otimes A^{(n)} \\ket{v_n}\\, .\n",
    "$$\n",
    "\n",
    "\n",
    "::::::\n",
    "\n",
    "En un producto tensorial de operadores el adjunto se toma en cada factor sin permutar el orden\n",
    "\n",
    "$$\n",
    "A^\\dagger = A^{(1)\\dagger} \\otimes ... \\otimes A^{(n)\\dagger}\n",
    "$$\n",
    "\n",
    "El producto tensorial de operadores hermíticos es hermítico\n",
    "\n",
    "$$ A^{(a)\\dagger} = A^{(a)} ~~\\Longrightarrow A^{\\dagger} = A $$\n",
    "\n",
    "El producto tensorial de operadores unitarios, es unitario\n",
    "\n",
    "$$ A^{(a)\\dagger} = A^{(a)\\, -1} \\,  ~~\\Longrightarrow ~~A^{\\dagger} = A^{-1} $$"
   ]
  },
  {
   "cell_type": "markdown",
   "id": "f47b2df4",
   "metadata": {
    "slideshow": {
     "slide_type": "skip"
    }
   },
   "source": [
    "### Producto de Kronecker de matrices\n",
    "\n",
    "¿Cómo será la matriz $A_{i_1...i_n, \\, j_1...j_n}$ de un operador factorizable, $ A = A^{(1)}\\otimes A^{(2)} \\otimes ...A^{(n)}$, en términos de las matrices  $ A^{(a)}_{ij}$ de sus factores?\n",
    "\n",
    "Vamos a tomar  $n=2$ por simplicidad\n",
    "\\begin{eqnarray*}\n",
    "A = A^{(1)}\\otimes  A^{(2)} &=&\\left( \\sum_{i_1i_2}A^{(1)}_{i_1 j_1} \\ket{i_1}\\bra{j_1}\\right)\\left( \\sum_{i_2j_2}A^{(2)}_{i_2 j_2} \\ket{i_2}\\bra{j_2}\\right)\\\\\n",
    "&=& \\sum_{i_1 i_2 , j_1 j_2} A^{(1)}_{i_1 j_1}A^{(2)}_{i_2 j_2}\\ket{i_1 i_2}\\bra{j_1j_2} \\\\\n",
    "&=& \\sum_{i_1 i_2 , j_1 j_2} A_{i_1i_2,\\, j_1j_2}\\ket{i_1 i_2}\\bra{j_1j_2}\n",
    "\\end{eqnarray*}\n",
    "\n",
    "\n",
    "Vemos que la matriz asociada a $A$ se obtiene  a partir de las matrices de $A^{(a)}$ mediante el  *producto exterior de las matrices*, o *producto de Kronecker*.\n",
    "\n",
    "\n",
    "$$\n",
    "  A_{i_1i_2,\\,j_1j_2} = A^{(1)}_{i_1j_1}A^{(2)}_{i_2 j_2} \n",
    "$$\n"
   ]
  },
  {
   "cell_type": "markdown",
   "id": "0b9a52c7",
   "metadata": {
    "slideshow": {
     "slide_type": "skip"
    }
   },
   "source": [
    "El método para de **representar** matricialmente el producto de Kronecker de dos matrices $A\\otimes B$ es sencillo. Supongamos que $d=2$ y tenemos un operador producto $A\\otimes B$. Entonces su matriz \n",
    "\n",
    "\n",
    "\n",
    "$$\n",
    "(A\\otimes B)_{ab} = \\begin{pmatrix} A_{00}B & A_{01}B \\\\ A_{10}B & A_{11}B \\end{pmatrix} = \\begin{pmatrix} A_{00}B_{00} & A_{00}B_{01} & A_{01}B_{00} & A_{01}B_{01} \\\\\n",
    "                A_{00}B_{10} & A_{00}B_{11} & A_{01}B_{10} & A_{01}B_{11} \\\\\n",
    "                A_{10}B_{00} & A_{10}B_{01} & A_{11}B_{00} & A_{11}B_{01} \\\\\n",
    "                A_{10}B_{10} & A_{10}B_{11} & A_{11}B_{10} & A_{11}B_{11} \\end{pmatrix}.\n",
    "$$"
   ]
  },
  {
   "cell_type": "markdown",
   "id": "59774885",
   "metadata": {
    "slideshow": {
     "slide_type": "skip"
    }
   },
   "source": [
    "El producto de Kronecker verifica las siguientes propiedades para dos matrices $A$  y $B$ de dimensiones $d_A$ y $d_B$. \n",
    "\n",
    "\n",
    "\n",
    "\\begin{eqnarray*}\n",
    "(A\\otimes B)(C\\otimes D) &=& (AC)\\otimes (BD) \\nonumber\\\\ \\rule{0mm}{6mm}\n",
    "\\tr(A\\otimes B) &=& (\\tr A)(\\tr B) \\nonumber\\\\ \\rule{0mm}{6mm}\n",
    "A\\otimes(B+D) &=& A\\otimes B + A\\otimes D \\nonumber\\\\ \\rule{0mm}{6mm}\n",
    "(A\\otimes B)^\\dagger &=& A^\\dagger\\otimes B^\\dagger \\nonumber\\\\ \\rule{0mm}{6mm}\n",
    "(A\\otimes B)^{-1} &=& A^{-1} \\otimes B^{-1} \\nonumber\\\\ \\rule{0mm}{6mm}\n",
    "\\det (A\\otimes B) &=& (\\det A)^{d_B}(\\det B)^{d_A}\n",
    "\\end{eqnarray*}\n",
    "\n",
    "\n",
    "donde $AC$ significa el producto de matrices $A$ y $C$"
   ]
  },
  {
   "cell_type": "markdown",
   "id": "e0066901",
   "metadata": {
    "slideshow": {
     "slide_type": "skip"
    }
   },
   "source": [
    "La generalización a todo $n$ es obvia. El producto de Kronecker de $n$ matrices $ A^{(a)}_{i_aj_a}$ asociadas a operadores $A^{(a)}$ es\n",
    "\n",
    "$$\n",
    " A_{i_1...i_n,\\,j_1...j_n} = A^{(1)}_{i_1j_1}...A^{(n)}_{i_n j_n} \n",
    "$$"
   ]
  },
  {
   "cell_type": "markdown",
   "id": "67fe5e23",
   "metadata": {
    "slideshow": {
     "slide_type": "skip"
    }
   },
   "source": [
    "\n",
    "\n",
    "::::::{admonition} Notar\n",
    ":class: note\n",
    "\n",
    "\n",
    " Observar que en un operador general, la matriz $ A_{i_1...i_n,\\,j_1...j_n}$ tiene $d^n\\times d^n = d^{2n}$ entradas independientes. \n",
    "\n",
    "Sin embargo \n",
    "en un producto de Kronecker $A^{(1)}_{i_1j_1}...A^{(n)}_{i_n j_n}$ sólo hay $nd^2$. \n",
    "    \n",
    "Por tanto, los *operadores factorizables* forman un subconjunto muy pequeño dentro del conjunto de los operadores generales.\n",
    "::::::\n"
   ]
  },
  {
   "cell_type": "markdown",
   "id": "72f70295",
   "metadata": {
    "slideshow": {
     "slide_type": "skip"
    }
   },
   "source": [
    "::::::{admonition} Ejercicio\n",
    ":class: tip\n",
    "\n",
    "\n",
    "1. Demuestra estos resultados.\n",
    "    \n",
    "2. Rescribe la función $kronecker$  para que acepte  dos matrices $A$  y $B$ de dimensiones $d_A$ y $d_B$ y devuelva su producto de Kronecker $A\\otimes B$. Verifica el resultado con la funcion kron de numpy.   Verifica las propiedades anteriores.   \n",
    "    \n",
    "::::::\n"
   ]
  },
  {
   "cell_type": "markdown",
   "id": "406b43f7",
   "metadata": {
    "slideshow": {
     "slide_type": "skip"
    }
   },
   "source": [
    "::::::{admonition} Ejercicio\n",
    ":class: tip\n",
    "\n",
    "\n",
    "Calcula $\\sigma_1\\otimes \\sigma_2\\otimes \\sigma_3$\n",
    "::::::\n"
   ]
  },
  {
   "cell_type": "markdown",
   "id": "05fd8d47",
   "metadata": {
    "slideshow": {
     "slide_type": "skip"
    }
   },
   "source": [
    "### Generación de entrelazamiento\n",
    "\n",
    "Supongamos que $\\ket{u} = \\ket{u_1}\\otimes\\ket{u_2}$ es factorizable. \n",
    "\n",
    "-  Si $A=A_1\\otimes A_2$ es un operador factorizable entonces\n",
    "\n",
    "<br\n",
    "    \n",
    "$$\n",
    "\\ket{v} = A\\ket{u} = A_1\\ket{u_1}\\otimes A_2\\ket{u_2} = \\ket{v_1}\\otimes \\ket{v_2}\n",
    "$$ \n",
    "\n",
    "también es factorizable.\n",
    "\n",
    "\n",
    "- Inversamente, la *acción de un operador no factorizable* $A\\neq A_1\\otimes A_2$ genera estados entrelazados\n",
    "\n",
    "\n",
    "$$\n",
    "\\ket{v} = A\\ket{u}  \\neq \\ket{v_1}\\otimes \\ket{v_2}\n",
    "$$\n",
    "\n",
    "En lenguaje físico, lo que esto quiere decir es que para generar entrelazamiento debe haber *interacción* entre los grados de libertad que residen en $\\Hil_1$ y $\\Hil_2$. Si no hay interacción, estados factorizados seguiran siendo factorizables en el futuro."
   ]
  }
 ],
 "metadata": {
  "kernelspec": {
   "display_name": "Python 3 (ipykernel)",
   "language": "python",
   "name": "python3"
  },
  "language_info": {
   "codemirror_mode": {
    "name": "ipython",
    "version": 3
   },
   "file_extension": ".py",
   "mimetype": "text/x-python",
   "name": "python",
   "nbconvert_exporter": "python",
   "pygments_lexer": "ipython3",
   "version": "3.9.12"
  },
  "nbTranslate": {
   "displayLangs": [
    "*"
   ],
   "hotkey": "alt-t",
   "langInMainMenu": true,
   "sourceLang": "en",
   "targetLang": "fr",
   "useGoogleTranslate": true
  },
  "toc": {
   "base_numbering": 1,
   "nav_menu": {},
   "number_sections": true,
   "sideBar": true,
   "skip_h1_title": true,
   "title_cell": "Table of Contents",
   "title_sidebar": "Contents",
   "toc_cell": false,
   "toc_position": {
    "height": "calc(100% - 180px)",
    "left": "10px",
    "top": "150px",
    "width": "414.053px"
   },
   "toc_section_display": true,
   "toc_window_display": false
  },
  "varInspector": {
   "cols": {
    "lenName": 16,
    "lenType": 16,
    "lenVar": 40
   },
   "kernels_config": {
    "python": {
     "delete_cmd_postfix": "",
     "delete_cmd_prefix": "del ",
     "library": "var_list.py",
     "varRefreshCmd": "print(var_dic_list())"
    },
    "r": {
     "delete_cmd_postfix": ") ",
     "delete_cmd_prefix": "rm(",
     "library": "var_list.r",
     "varRefreshCmd": "cat(var_dic_list()) "
    }
   },
   "types_to_exclude": [
    "module",
    "function",
    "builtin_function_or_method",
    "instance",
    "_Feature"
   ],
   "window_display": false
  }
 },
 "nbformat": 4,
 "nbformat_minor": 5
}