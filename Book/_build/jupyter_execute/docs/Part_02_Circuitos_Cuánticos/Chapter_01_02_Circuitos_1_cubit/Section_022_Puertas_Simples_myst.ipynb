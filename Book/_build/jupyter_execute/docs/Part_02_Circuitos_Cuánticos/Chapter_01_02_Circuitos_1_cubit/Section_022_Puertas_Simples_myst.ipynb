{
 "cells": [
  {
   "cell_type": "markdown",
   "id": "7528ce68",
   "metadata": {
    "slideshow": {
     "slide_type": "slide"
    }
   },
   "source": [
    "> {sub-ref}`today` | {sub-ref}`wordcount-minutes` min read\n",
    "\n",
    "::::{figure} ../../figuras/logos/Logo_TalentQ_Azul.png\n",
    ":width: 150px\n",
    ":align: right\n",
    "::::\n",
    "\n",
    "\n",
    "# Puertas Simples\n",
    "\n",
    "$ \\newcommand{\\bra}[1]{\\langle #1|} $\n",
    "$ \\newcommand{\\ket}[1]{|#1\\rangle} $\n",
    "$ \\newcommand{\\braket}[2]{\\langle #1|#2\\rangle} $\n",
    "$ \\newcommand{\\ketbra}[2]{| #1\\rangle  \\langle #2|} $\n",
    "$ \\newcommand{\\tr}{{\\rm tr}} $\n",
    "$ \\newcommand{\\i}{{\\color{blue} i}} $ \n",
    "$ \\newcommand{\\Hil}{{\\cal H}} $\n",
    "$ \\newcommand{\\V}{{\\cal V}} $"
   ]
  },
  {
   "cell_type": "markdown",
   "id": "009778a4-272f-4f4e-99ed-dc0373153c3e",
   "metadata": {},
   "source": [
    ":::{contents}\n",
    ":local:\n",
    ":depth: 1\n",
    ":::\n"
   ]
  },
  {
   "cell_type": "code",
   "execution_count": 1,
   "id": "83bb8763",
   "metadata": {
    "editable": true,
    "slideshow": {
     "slide_type": "slide"
    },
    "tags": [
     "hide-input"
    ]
   },
   "outputs": [],
   "source": [
    "%run ../../macro_tQ.py\n",
    "import sys\n",
    "sys.path.append('../../')\n",
    "import macro_tQ as tQ\n",
    "import numpy as np\n",
    "from qiskit.visualization import array_to_latex"
   ]
  },
  {
   "cell_type": "markdown",
   "id": "6a3b90f0",
   "metadata": {
    "slideshow": {
     "slide_type": "slide"
    }
   },
   "source": [
    "<a id='rotesf'></a>\n",
    "## Rotaciones en la esfera de Bloch"
   ]
  },
  {
   "cell_type": "markdown",
   "id": "7b7cd18b",
   "metadata": {
    "slideshow": {
     "slide_type": "slide"
    }
   },
   "source": [
    "Un operador unitario conserva la norma y, por tanto, lleva un vector a otro de la misma esfera de Bloch \n",
    "\n",
    "Esta operación  se puede *visualizar* como una **rotación de un cierto ángulo en torno a algún eje**."
   ]
  },
  {
   "cell_type": "markdown",
   "id": "9e5706d8",
   "metadata": {
    "slideshow": {
     "slide_type": "-"
    }
   },
   "source": [
    "::::{figure} images/BlochSphere2.png\n",
    ":width: 300px\n",
    ":align: center\n",
    "::::\n"
   ]
  },
  {
   "cell_type": "markdown",
   "id": "ca9e96fe",
   "metadata": {
    "slideshow": {
     "slide_type": "slide"
    }
   },
   "source": [
    "::::::{card} \n",
    "<b>Teorema</b>:  \n",
    "\n",
    "^^^\n",
    "\n",
    "El operador que efectúa una <i>rotación de ángulo</i>  $\\alpha\\in [0,2\\pi)$ en torno al <i>eje que marca un vector unitario</i>  $\\hat{\\bf n}$ es el siguiente\n",
    " \n",
    "    \n",
    "\\begin{eqnarray}\n",
    "R_{\\hat{\\bf n}}(\\alpha)~ = ~\\exp\\left( -i\\frac{\\alpha}{2} \\hat{\\bf n}\\cdot \\boldsymbol{\\sigma} \\right) ~=~ \n",
    "\\cos \\frac{\\alpha}{2} I - i \\sin\\frac{\\alpha}{2} \\hat{\\bf n}\\cdot\\boldsymbol{\\sigma} \n",
    "\\end{eqnarray}\n",
    "\n",
    "::::::\n"
   ]
  },
  {
   "cell_type": "markdown",
   "id": "e8f328e2",
   "metadata": {
    "slideshow": {
     "slide_type": "fragment"
    }
   },
   "source": [
    "donde $\\boldsymbol{\\sigma} = (\\sigma_x, \\sigma_y, \\sigma_z)$ son las matrices de Pauli\n",
    "\n",
    "$$\n",
    "\\sigma_x = \\begin{bmatrix} 0 & 1 \\\\ 1 & 0 \\end{bmatrix}~~,~~\n",
    "\\sigma_y = \\begin{bmatrix} 0 & -i \\\\ i & 0 \\end{bmatrix}~~,~~\n",
    "\\sigma_z = \\begin{bmatrix} 1 & 0 \\\\ 0 & -1 \\end{bmatrix}~~.~~\n",
    "$$"
   ]
  },
  {
   "cell_type": "markdown",
   "id": "c5615013",
   "metadata": {
    "slideshow": {
     "slide_type": "skip"
    }
   },
   "source": [
    "::::::{admonition} Nota\n",
    ":class: note\n",
    "\n",
    "El sentido de la rotación que produce $R_{\\hat{\\bf n}}(\\alpha)$ en torno al eje $\\hat{\\bf n}$, viene dado por la <i>regla de la mano derecha</i> o, también, <i>anti-horario</i>. \n",
    "::::::\n"
   ]
  },
  {
   "cell_type": "markdown",
   "id": "8acf1f54",
   "metadata": {
    "slideshow": {
     "slide_type": "fragment"
    }
   },
   "source": [
    "Haciendo la suma explícitamente podemos escribir la matriz unitaria \n",
    "\n",
    "$$\n",
    "\\begin{array}{rcl}\n",
    "R_{\\hat{\\bf n}}(\\alpha)~  ~=~ \n",
    " \\begin{bmatrix} \\cos \\displaystyle\\frac{\\alpha}{2} - i n_z\\sin\\frac{\\alpha}{2} &\\displaystyle (-in_x- n_y)\\sin\\frac{\\alpha}{2} \\\\ \\displaystyle\n",
    "(-in_x + ny) \\sin\\frac{\\alpha}{2} & \\displaystyle \\cos \\frac{\\alpha}{2} + i n_z\\sin\\frac{\\alpha}{2} \\end{bmatrix}\n",
    "\\end{array}\n",
    "$$"
   ]
  },
  {
   "cell_type": "markdown",
   "id": "8a53ad0d",
   "metadata": {
    "slideshow": {
     "slide_type": "slide"
    }
   },
   "source": [
    "### Rotaciones X, Y y Z\n",
    "\n",
    "- Asociado a rotaciones en torno a los ejes $X$, $Y$ y $Z$ de un ángulo $\\alpha$ encontramos las tres puertas siguientes\n",
    "\n",
    "$$\n",
    "\\begin{array}{rcl}\n",
    "\\hat{\\bf n} = (0,0,1) ~~\\Rightarrow ~~ R_{z}(\\alpha) &=&  \\begin{bmatrix} e^{-i\\alpha/2}  & 0 \\\\ 0 & e^{i\\alpha/2}  \\end{bmatrix}  ~,~\\nonumber\\\\\n",
    "\\rule{0mm}{14mm}\n",
    "\\hat{\\bf n} = (0,1,0) ~~\\Rightarrow ~~ R_{y}(\\alpha) &=&  \\begin{bmatrix} \\cos \\alpha/2  & -\\sin \\alpha/2 \\\\   \\sin\\alpha/2 & \\cos\\alpha/2 \\end{bmatrix}  \\nonumber \\\\\n",
    "\\rule{0mm}{14mm}\n",
    "\\hat{\\bf n} = (1,0,0) ~~\\Rightarrow ~~ R_{x}(\\alpha)  &=&  \\begin{bmatrix} \\cos\\alpha/2  &- i\\sin\\alpha/2 \\\\   -i\\sin\\alpha/2& \\cos\\alpha/2 \\end{bmatrix} \\, .\\nonumber\n",
    "\\end{array}\n",
    "$$\n",
    "\n",
    "\n"
   ]
  },
  {
   "cell_type": "markdown",
   "id": "ce1cbfee",
   "metadata": {
    "slideshow": {
     "slide_type": "skip"
    }
   },
   "source": [
    "### Parametrización de Euler\n",
    "\n",
    " Necesitamos *3 parámetros* para especificar una rotación general.\n",
    "En $R_{\\hat{\\bf n}}(\\theta)$ un parámetro es $\\theta$ y otros dos entran  en $\\hat{\\bf n}$ con \n",
    "$  |\\hat{\\bf n}|=1$.\n"
   ]
  },
  {
   "cell_type": "markdown",
   "id": "3b6a902c",
   "metadata": {
    "slideshow": {
     "slide_type": "skip"
    }
   },
   "source": [
    " La *parametrización de Euler* consiste en una *composición de tres rotaciones* sucesivas en torno a los ejes $z$, después  $y$ y  finalmente $z$ de nuevo:\n"
   ]
  },
  {
   "cell_type": "markdown",
   "id": "af3018c9",
   "metadata": {
    "slideshow": {
     "slide_type": "skip"
    }
   },
   "source": [
    "Multiplicando las matrices asociadas, y extrayendo una fase global, definimos \n",
    "\n",
    "$$\n",
    " R_z(\\phi)R_y(\\theta)R_z(\\varphi) = e^{-\\frac{i}{2}(\\phi + \\varphi)}U(\\theta,\\phi,\\varphi)  \n",
    "$$\n",
    "\n",
    "Los *ángulos de Euler* son $\\theta,\\phi $ y $\\varphi$, \n"
   ]
  },
  {
   "cell_type": "markdown",
   "id": "0b135c13",
   "metadata": {
    "slideshow": {
     "slide_type": "skip"
    }
   },
   "source": [
    "#### Rotación general\n",
    "\n",
    "$$\n",
    "U(\\theta,\\phi,\\varphi)=\\begin{bmatrix}   \\cos \\displaystyle\\frac{\\theta}{2}  & - e^{i\\varphi} \\sin\\displaystyle\\frac{\\theta}{2}  \\\\ \n",
    "\\rule{0mm}{4mm} e^{i\\phi} \\sin \\displaystyle\\frac{\\theta}{2} &e^{i(\\varphi+\\phi)} \\cos \\displaystyle\\frac{\\theta}{2} \\end{bmatrix}\n",
    "$$\n",
    "\n"
   ]
  },
  {
   "cell_type": "markdown",
   "id": "e020ab94",
   "metadata": {
    "slideshow": {
     "slide_type": "skip"
    }
   },
   "source": [
    "Es evidente que la acción de este operador sobre la base  $\\{\\ket{0},\\ket{1}\\}$ \n",
    "una base alineada con el eje $(\\theta,\\phi)$\n",
    "\n",
    "\n",
    "$$\n",
    "U(\\theta,\\phi,\\varphi)\\begin{bmatrix} 1\\\\0\\end{bmatrix} = \\begin{bmatrix} \\cos\\displaystyle\\frac{\\theta}{2}\\\\ e^{i\\phi} \\sin \\displaystyle \\frac{\\theta}{2} \\end{bmatrix} ~~~~~~,~~~~~~~\n",
    "U(\\theta,\\phi,\\varphi)\\begin{bmatrix} 0\\\\1\\end{bmatrix} = \\begin{bmatrix} -e^{i\\varphi}\\sin\\displaystyle\\frac{\\theta}{2}\\\\ e^{i(\\varphi + \\phi)} \\cos \\displaystyle \\frac{\\theta}{2} \\end{bmatrix} \n",
    "$$\n",
    "\n"
   ]
  },
  {
   "cell_type": "markdown",
   "id": "137c2fa1",
   "metadata": {
    "slideshow": {
     "slide_type": "skip"
    }
   },
   "source": [
    "<a id='puertsimp'></a>\n",
    "## Puertas Simples\n"
   ]
  },
  {
   "cell_type": "markdown",
   "id": "c6f49f07",
   "metadata": {
    "slideshow": {
     "slide_type": "skip"
    }
   },
   "source": [
    "Por puertas simples entendemos un conjunto de *operadores unitarios* que se utilizan con frecuencia en la computación cuántica. Vamos a ver las puertas simples sobre 1 cúbit"
   ]
  },
  {
   "cell_type": "markdown",
   "id": "81ea5a30",
   "metadata": {
    "slideshow": {
     "slide_type": "skip"
    }
   },
   "source": [
    "### Puerta de fase \n",
    "\n",
    "- $P_\\alpha = P(\\alpha)$ con $\\alpha \\in [0,2\\pi)$\n",
    "\n",
    "$$\n",
    "P(\\alpha)= \\begin{bmatrix}\n",
    "1 & 0 \\\\ 0 & e^{i\\alpha} \n",
    "\\end{bmatrix}  =  \\ketbra{0}{0} + e^{i\\alpha}\\ketbra{1}{1}\n",
    "$$\n",
    "\n",
    "es unitaria para todo $\\alpha$ como se comprueba fácilmente. \n",
    "Aplicada a un estado de cúbit genérico \n",
    "\n",
    "$$\n",
    "P(\\alpha) \\ket{u} =  \\begin{bmatrix} 1 & 0 \\\\ 0 & e^{i\\alpha} \\end{bmatrix}\n",
    "\\begin{bmatrix} \\cos\\theta \\\\ \\sin\\theta e^{i\\phi} \\end{bmatrix} = \\begin{bmatrix} \\cos\\theta \\\\ \\sin\\theta e^{i(\\phi+\\alpha)} \n",
    "\\end{bmatrix}= \\ket{v}\n",
    "$$\n"
   ]
  },
  {
   "cell_type": "markdown",
   "id": "031deb9b",
   "metadata": {
    "slideshow": {
     "slide_type": "skip"
    }
   },
   "source": [
    "El efecto de este operador es rotar cualquier cúbit en torno al eje Z un ángulo $\\alpha$. Comprobamos que está relacionada con $R_z(\\alpha)$\n",
    "\n",
    "\n",
    "$$\n",
    "P(\\alpha) = \\begin{bmatrix} 1 & 0 \\\\ 0 & e^{i\\alpha} \\end{bmatrix} = \n",
    "\\begin{bmatrix} e^{i\\alpha/2} & 0 \\\\ 0 & e^{i\\alpha/2} \\end{bmatrix} \n",
    "\\begin{bmatrix} e^{-i\\alpha/2} & 0 \\\\ 0 & e^{i\\alpha/2} \\end{bmatrix}   \\equiv e^{i\\alpha/2} R_z(\\alpha)\n",
    "$$\n",
    "\n",
    "\n",
    "La fase global es trivial. Por tanto los dos operadores $P(\\alpha)$ y $R_Z(\\alpha)$ son equivalentes y producen el mismo efecto sobre la esfera de Bloch.\n",
    "\n"
   ]
  },
  {
   "cell_type": "markdown",
   "id": "b0fc46c5",
   "metadata": {
    "slideshow": {
     "slide_type": "skip"
    }
   },
   "source": [
    "- $K_\\alpha = K(\\alpha)$\n",
    "\n",
    "\n",
    "realmente es una fase trivial, pero a veces se utiliza\n",
    "\n",
    "$$\n",
    "K(\\alpha)= e^{i\\alpha} \\begin{bmatrix}\n",
    "1 & 0 \\\\ 0 & 1 \n",
    "\\end{bmatrix} =  e^{i\\alpha}\\left(\\rule{0mm}{4mm} \\ketbra{0}{0} + \\ketbra{1}{1} \\right) = e^{i\\alpha} I \n",
    "$$"
   ]
  },
  {
   "cell_type": "markdown",
   "id": "ef27bba3",
   "metadata": {
    "slideshow": {
     "slide_type": "slide"
    }
   },
   "source": [
    "#### Puertas Discretas\n",
    "\n",
    "Hay una serie de rotaciones discretas que forman un conjunto de puertas elementales de gran utilidad\n",
    "\n",
    "\n",
    "- $X,Y,Z$\n",
    "\n",
    "$$\n",
    "\\begin{array}{rcl}\n",
    "i R_{\\hat{\\bf x}}(\\pi) &=&   \\begin{bmatrix}0&1\\\\1&0\\end{bmatrix}   ~= ~ X  \\\\\n",
    "\\\\\n",
    "i R_{\\hat{\\bf y}}(\\pi) &=&  \\begin{bmatrix}0&-i\\\\i&0\\end{bmatrix}    ~= ~ Y \\\\\n",
    "\\\\\n",
    "i R_{\\hat{\\bf z}}(\\pi) &=&   \\begin{bmatrix}1&0\\\\0&-1\\end{bmatrix} ~= ~ Z \n",
    "\\end{array}\n",
    "$$\n",
    "\n"
   ]
  },
  {
   "cell_type": "markdown",
   "id": "202f7c4f",
   "metadata": {
    "slideshow": {
     "slide_type": "skip"
    }
   },
   "source": [
    "-  $S,T$\n",
    "\n",
    "Cualquier potencia  de un operador unitario $U$ es otro operador unitario $U^\\alpha$.\n",
    "Así obtenemos\n",
    "\n",
    "\n",
    "$$\n",
    "\\begin{array}{rcl}\n",
    "S = Z^{1/2} &=&  \\begin{bmatrix}1&0\\\\0&i\\end{bmatrix}=\\begin{bmatrix}1&0\\\\0&e^{i\\pi/2}\\end{bmatrix}  \\\\\n",
    "&& \\\\\n",
    "T  = Z^{1/4} &=&  \\begin{bmatrix}1&0\\\\0&e^{i\\pi/4}\\end{bmatrix} \n",
    "\\end{array}\n",
    "$$\n",
    "\n",
    "- $H$   \n",
    "\n",
    "La puerta de Hadamard, $H$, es la primera puerta *genuinamente cuántica* en el sentido de que lleva un estado de la base a una superposición coherente\n",
    "\n",
    "$$\n",
    "\\begin{array}{rcl}\n",
    "H \\ket{0} &=& \\frac{1}{\\sqrt{2}}\\left(\\rule{0mm}{4mm}\\ket{0} + \\ket{1}\\right) =\\ket{+}   \\\\\n",
    "H \\ket{1} &=& \\frac{1}{\\sqrt{2}}\\left(\\rule{0mm}{4mm}\\ket{0} - \\ket{1}\\right) =\\ket{-} \n",
    "\\end{array}\n",
    "$$\n",
    "\n",
    "Podemos escribir este operador en la base canónica $H = H_{ij}\\ketbra{i}{j}$\n",
    "\n",
    "$$\n",
    "\\begin{array}{rcl}\n",
    "H &=&  \\ket{+}\\bra{0} +  \\ket{-}\\bra{1} \\\\ \\rule{0mm}{6mm}\n",
    "&=& \\frac{1}{\\sqrt{2}}(\\ketbra{0}{0} + \\ketbra{1}{0} + \\ketbra{0}{1} - \\ketbra{1}{1})\n",
    "\\end{array}\n",
    "$$\n",
    "\n",
    "\n",
    " De aquí obtenemos la representación matricial  \n",
    "\n",
    "$$\n",
    "H_{ij}   =  \\frac{1}{\\sqrt{2}} \\begin{bmatrix} 1& 1 \\\\ 1 & -1 \\end{bmatrix} \n",
    "$$\n"
   ]
  },
  {
   "cell_type": "markdown",
   "id": "bb08ebe3",
   "metadata": {
    "slideshow": {
     "slide_type": "skip"
    }
   },
   "source": [
    "::::::{admonition} Nota\n",
    ":class: note\n",
    "\n",
    "\n",
    "en cálculos posteriores encontraremos muy útil la siguiente representación de la acción de $H$\n",
    "\n",
    "$$\n",
    "H \\ket{x} =\\frac{1}{\\sqrt{2}} \\sum_{y=0,1} (-1)^{ x  y} \\ket{y}\n",
    "$$\n",
    "::::::\n"
   ]
  },
  {
   "cell_type": "markdown",
   "id": "817345d4",
   "metadata": {
    "slideshow": {
     "slide_type": "skip"
    }
   },
   "source": [
    "\n",
    "Como cualquier puerta, la acción de $H$ puede visualizarse como una rotación en la esfera de Bloch $H$ de $\\pi$ radianes en torno a un eje diagonal situado a 45$^\\circ$ entre el eje $x$ \n",
    "y el eje $y$. Esta rotación permuta los ejes $x$ y $z$ y cambia de sentido el eje $y$.\n",
    "\n",
    "$$\n",
    "\\begin{array}{rcl}\n",
    "\\hat{\\bf n} = \\frac{1}{\\sqrt{2}}(1,0,1) ~~~~~ \\Rightarrow ~~~~~ R_{\\hat{\\bf n}}(\\pi) &=&-i\\frac{1}{\\sqrt{2}} \\begin{bmatrix} 1  & 1 \\\\ 1 & -1  \\end{bmatrix} =-i H \\sim H\\nonumber\\\\\n",
    "\\end{array}\n",
    "$$\n"
   ]
  },
  {
   "cell_type": "markdown",
   "id": "1ba1d515",
   "metadata": {
    "slideshow": {
     "slide_type": "skip"
    }
   },
   "source": [
    "Como toda rotación de $\\alpha = \\pi/2$, una segunda aplicación da lugar a la identidad\n",
    "\n",
    "$$\n",
    "H^2 = I\n",
    "$$"
   ]
  },
  {
   "cell_type": "markdown",
   "id": "266d7b54",
   "metadata": {
    "slideshow": {
     "slide_type": "slide"
    }
   },
   "source": [
    "<a id='circcuant'></a>\n",
    "## Circuitos Cuánticos"
   ]
  },
  {
   "cell_type": "markdown",
   "id": "aed18c6a",
   "metadata": {
    "slideshow": {
     "slide_type": "-"
    }
   },
   "source": [
    "Un circuito cuántico representa la acción de un operador sobre un estado inicial $\\ket{0}$.  Es decir\n",
    "\n",
    "$$\n",
    "U:\\ket{0} \\to  \\ket{\\psi} = U\\ket{0}\n",
    "$$\n",
    "se representa graficamente en la forma \n",
    "::::{figure} images/circuito_basico.png\n",
    ":width: 250px\n",
    ":align: center\n",
    "::::\n",
    "\n",
    "Cuando el operador $U$ es una <i>composición de puertas</i>, por ejemplo que $U = TH$, el orden en el que aparecen en el circuito es el inverso\n",
    "\n",
    "\n",
    "::::{figure} images/circuito_basico_2.png\n",
    ":width: 300px\n",
    ":align: center\n",
    "::::\n"
   ]
  },
  {
   "cell_type": "markdown",
   "id": "ab0e7536",
   "metadata": {},
   "source": [
    ":::::{tab-set}\n",
    "::::{tab-item} Qibo\n",
    "```python\n",
    "\n",
    "import numpy as np\n",
    "from qibo import Circuit, gates\n",
    "\n",
    "c = Circuit(1)\n",
    "\n",
    "c.add(gates.H(0))\n",
    "c.add(gates.T(0))\n",
    "\n",
    "#print(c.draw())\n",
    "\n",
    "tQ.draw_qibo_circuit_mpl(c)\n",
    "```\n",
    "::::\n",
    "::::{tab-item} Qiskit\n",
    "```python\n",
    "\n",
    "from qiskit import  QuantumRegister, QuantumCircuit\n",
    "from qiskit.quantum_info import Statevector\n",
    "\n",
    "\n",
    "qr = QuantumRegister(1) #define el registo cuántico\n",
    "qc = QuantumCircuit(qr) #crea un circuito\n",
    "\n",
    "'añade puertas' \n",
    "qc.h(0)\n",
    "qc.t(0)\n",
    "\n",
    "\n",
    "# qc.u(theta,phi,lambda,quantum register)  https://qiskit.org/documentation/stubs/qiskit.circuit.library.UGate.html\n",
    "#qc.u(np.pi/4,np.pi/2,0,0)\n",
    "display(qc.draw(output='mpl'))\n",
    "\n",
    "#Statevector(qc).draw('Bloch')\n",
    "```\n",
    "::::\n",
    ":::::\n"
   ]
  },
  {
   "cell_type": "code",
   "execution_count": 2,
   "id": "02fe5e08-3d16-48c3-8750-a0f0aaf5d8cf",
   "metadata": {
    "tags": [
     "remove_input"
    ]
   },
   "outputs": [
    {
     "ename": "ImportError",
     "evalue": "cannot import name 'Circuit' from 'qibo' (/opt/anaconda3/envs/TalentQ/lib/python3.11/site-packages/qibo/__init__.py)",
     "output_type": "error",
     "traceback": [
      "\u001b[0;31m---------------------------------------------------------------------------\u001b[0m",
      "\u001b[0;31mImportError\u001b[0m                               Traceback (most recent call last)",
      "Cell \u001b[0;32mIn[2], line 4\u001b[0m\n\u001b[1;32m      1\u001b[0m \u001b[38;5;124;03m'''Qibo_code_cell'''\u001b[39;00m\n\u001b[1;32m      3\u001b[0m \u001b[38;5;28;01mimport\u001b[39;00m \u001b[38;5;21;01mnumpy\u001b[39;00m \u001b[38;5;28;01mas\u001b[39;00m \u001b[38;5;21;01mnp\u001b[39;00m\n\u001b[0;32m----> 4\u001b[0m \u001b[38;5;28;01mfrom\u001b[39;00m \u001b[38;5;21;01mqibo\u001b[39;00m \u001b[38;5;28;01mimport\u001b[39;00m Circuit, gates\n\u001b[1;32m      6\u001b[0m c \u001b[38;5;241m=\u001b[39m Circuit(\u001b[38;5;241m1\u001b[39m)\n\u001b[1;32m      8\u001b[0m c\u001b[38;5;241m.\u001b[39madd(gates\u001b[38;5;241m.\u001b[39mH(\u001b[38;5;241m0\u001b[39m))\n",
      "\u001b[0;31mImportError\u001b[0m: cannot import name 'Circuit' from 'qibo' (/opt/anaconda3/envs/TalentQ/lib/python3.11/site-packages/qibo/__init__.py)"
     ]
    }
   ],
   "source": [
    "'''Qibo_code_cell'''\n",
    "\n",
    "import numpy as np\n",
    "from qibo import Circuit, gates\n",
    "\n",
    "c = Circuit(1)\n",
    "\n",
    "c.add(gates.H(0))\n",
    "c.add(gates.T(0))\n",
    "\n",
    "#print(c.draw())\n",
    "\n",
    "tQ.draw_qibo_circuit_mpl(c)"
   ]
  },
  {
   "cell_type": "markdown",
   "id": "4de61782",
   "metadata": {
    "slideshow": {
     "slide_type": "skip"
    }
   },
   "source": [
    " La concatenación de puertas se corresponde con la *composición de operadores*, es decir, con la *multiplicación de las matrices* asociadas. \n"
   ]
  },
  {
   "cell_type": "markdown",
   "id": "ec294992",
   "metadata": {
    "slideshow": {
     "slide_type": "skip"
    }
   },
   "source": [
    "#### Matriz de un circuito\n",
    "\n",
    "Εl circuito anterior representa el operador unitario $U$ al que le corresponde la matriz obtenida por multiplicación\n",
    "\n",
    "$$\n",
    "U = T H ~~~\\to ~~~ U_{ij} = \\begin{bmatrix}1&0\\\\0&e^{i\\pi/4}\\end{bmatrix} \\frac{1}{\\sqrt{2}} \\begin{bmatrix} 1& 1 \\\\ 1 & -1 \\end{bmatrix}  = \n",
    "\\frac{1}{\\sqrt{2}} \\begin{bmatrix} 1& 1 \\\\ e^{i\\pi/4} & -e^{i\\pi/4} \\end{bmatrix} \n",
    "$$\n",
    "\n",
    "Podemos extraer el operador asociado a un circuito."
   ]
  },
  {
   "cell_type": "code",
   "execution_count": 3,
   "id": "7177db47-ec4c-4835-8afa-9be9371c6fb0",
   "metadata": {},
   "outputs": [
    {
     "ename": "NameError",
     "evalue": "name 'qc' is not defined",
     "output_type": "error",
     "traceback": [
      "\u001b[0;31m---------------------------------------------------------------------------\u001b[0m",
      "\u001b[0;31mNameError\u001b[0m                                 Traceback (most recent call last)",
      "Cell \u001b[0;32mIn[3], line 2\u001b[0m\n\u001b[1;32m      1\u001b[0m \u001b[38;5;28;01mfrom\u001b[39;00m \u001b[38;5;21;01mqiskit\u001b[39;00m\u001b[38;5;21;01m.\u001b[39;00m\u001b[38;5;21;01mquantum_info\u001b[39;00m \u001b[38;5;28;01mimport\u001b[39;00m Operator\n\u001b[0;32m----> 2\u001b[0m result \u001b[38;5;241m=\u001b[39m Operator(qc)\u001b[38;5;241m.\u001b[39mdata\n\u001b[1;32m      4\u001b[0m \u001b[38;5;28;01mfrom\u001b[39;00m \u001b[38;5;21;01mqiskit\u001b[39;00m\u001b[38;5;21;01m.\u001b[39;00m\u001b[38;5;21;01mvisualization\u001b[39;00m \u001b[38;5;28;01mimport\u001b[39;00m array_to_latex\n\u001b[1;32m      5\u001b[0m array_to_latex(result,prefix\u001b[38;5;241m=\u001b[39m\u001b[38;5;124m'\u001b[39m\u001b[38;5;124mU = \u001b[39m\u001b[38;5;124m'\u001b[39m)\n",
      "\u001b[0;31mNameError\u001b[0m: name 'qc' is not defined"
     ]
    }
   ],
   "source": [
    "from qiskit.quantum_info import Operator\n",
    "result = Operator(qc).data\n",
    "\n",
    "from qiskit.visualization import array_to_latex\n",
    "array_to_latex(result,prefix='U = ')"
   ]
  },
  {
   "cell_type": "markdown",
   "id": "c26552b9",
   "metadata": {
    "slideshow": {
     "slide_type": "skip"
    }
   },
   "source": [
    "#### Simulador de estado"
   ]
  },
  {
   "cell_type": "markdown",
   "id": "7a9ed218",
   "metadata": {
    "slideshow": {
     "slide_type": "skip"
    }
   },
   "source": [
    "La descomposición en puertas nos permite visualizar la acción del operador sobre el estado de referencia $\\ket{0}$ \n",
    "\n",
    "- el operador $H$ lleva el vector $\\ket{0}$ al vector $\\ket{+}$ sobre el eje $x$.  \n",
    "\n",
    "- posterioremente, $T$ es una rotación de ángulo $\\pi/4$ en torno al eje $z$.\n",
    "\n",
    "El resultado será un vector en el plano ecuatorial en la diagonal entre los ejes $x$ e $y$.\n",
    "Podemos visualizar esto usando un simulador de vector de estado."
   ]
  },
  {
   "cell_type": "code",
   "execution_count": 4,
   "id": "b1b0c267-e752-4d30-b540-a1cd8c89b085",
   "metadata": {},
   "outputs": [
    {
     "ename": "NameError",
     "evalue": "name 'qc' is not defined",
     "output_type": "error",
     "traceback": [
      "\u001b[0;31m---------------------------------------------------------------------------\u001b[0m",
      "\u001b[0;31mNameError\u001b[0m                                 Traceback (most recent call last)",
      "Cell \u001b[0;32mIn[4], line 2\u001b[0m\n\u001b[1;32m      1\u001b[0m \u001b[38;5;28;01mfrom\u001b[39;00m \u001b[38;5;21;01mqiskit\u001b[39;00m\u001b[38;5;21;01m.\u001b[39;00m\u001b[38;5;21;01mquantum_info\u001b[39;00m \u001b[38;5;28;01mimport\u001b[39;00m Statevector\n\u001b[0;32m----> 2\u001b[0m statevector \u001b[38;5;241m=\u001b[39m Statevector(qc)\n\u001b[1;32m      4\u001b[0m display(statevector\u001b[38;5;241m.\u001b[39mdraw(\u001b[38;5;124m'\u001b[39m\u001b[38;5;124mlatex\u001b[39m\u001b[38;5;124m'\u001b[39m,prefix\u001b[38;5;241m=\u001b[39m\u001b[38;5;124m'\u001b[39m\u001b[38;5;124m\\\u001b[39m\u001b[38;5;124mket\u001b[39m\u001b[38;5;124m{\u001b[39m\u001b[38;5;124m\\\u001b[39m\u001b[38;5;124mpsi} = \u001b[39m\u001b[38;5;124m'\u001b[39m))\n\u001b[1;32m      6\u001b[0m \u001b[38;5;66;03m# alternative wat to plot the state vector on the Bloch sphere\u001b[39;00m\n",
      "\u001b[0;31mNameError\u001b[0m: name 'qc' is not defined"
     ]
    }
   ],
   "source": [
    "from qiskit.quantum_info import Statevector\n",
    "statevector = Statevector(qc)\n",
    "\n",
    "display(statevector.draw('latex',prefix='\\ket{\\psi} = '))\n",
    "\n",
    "# alternative wat to plot the state vector on the Bloch sphere\n",
    "statevector.draw('Bloch')"
   ]
  }
 ],
 "metadata": {
  "kernelspec": {
   "display_name": "Python 3 (ipykernel)",
   "language": "python",
   "name": "python3"
  },
  "language_info": {
   "codemirror_mode": {
    "name": "ipython",
    "version": 3
   },
   "file_extension": ".py",
   "mimetype": "text/x-python",
   "name": "python",
   "nbconvert_exporter": "python",
   "pygments_lexer": "ipython3",
   "version": "3.11.7"
  },
  "toc": {
   "base_numbering": 1,
   "nav_menu": {},
   "number_sections": true,
   "sideBar": true,
   "skip_h1_title": true,
   "title_cell": "Table of Contents",
   "title_sidebar": "Contents",
   "toc_cell": false,
   "toc_position": {
    "height": "calc(100% - 180px)",
    "left": "10px",
    "top": "150px",
    "width": "414.053px"
   },
   "toc_section_display": true,
   "toc_window_display": false
  },
  "varInspector": {
   "cols": {
    "lenName": 16,
    "lenType": 16,
    "lenVar": 40
   },
   "kernels_config": {
    "python": {
     "delete_cmd_postfix": "",
     "delete_cmd_prefix": "del ",
     "library": "var_list.py",
     "varRefreshCmd": "print(var_dic_list())"
    },
    "r": {
     "delete_cmd_postfix": ") ",
     "delete_cmd_prefix": "rm(",
     "library": "var_list.r",
     "varRefreshCmd": "cat(var_dic_list()) "
    }
   },
   "types_to_exclude": [
    "module",
    "function",
    "builtin_function_or_method",
    "instance",
    "_Feature"
   ],
   "window_display": false
  }
 },
 "nbformat": 4,
 "nbformat_minor": 5
}