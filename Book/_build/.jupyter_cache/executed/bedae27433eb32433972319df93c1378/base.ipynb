{
 "cells": [
  {
   "cell_type": "code",
   "execution_count": 1,
   "metadata": {
    "slideshow": {
     "slide_type": "-"
    },
    "tags": [
     "hide-input"
    ]
   },
   "outputs": [
    {
     "ename": "ModuleNotFoundError",
     "evalue": "No module named 'qiskit.tools'",
     "output_type": "error",
     "traceback": [
      "\u001b[0;31m---------------------------------------------------------------------------\u001b[0m",
      "\u001b[0;31mModuleNotFoundError\u001b[0m                       Traceback (most recent call last)",
      "Cell \u001b[0;32mIn[1], line 10\u001b[0m\n\u001b[1;32m      8\u001b[0m \u001b[38;5;28;01mfrom\u001b[39;00m \u001b[38;5;21;01mIPython\u001b[39;00m\u001b[38;5;21;01m.\u001b[39;00m\u001b[38;5;21;01mdisplay\u001b[39;00m \u001b[38;5;28;01mimport\u001b[39;00m display,Markdown,Latex\n\u001b[1;32m      9\u001b[0m \u001b[38;5;28;01mimport\u001b[39;00m \u001b[38;5;21;01mmatplotlib\u001b[39;00m\u001b[38;5;21;01m.\u001b[39;00m\u001b[38;5;21;01mpyplot\u001b[39;00m \u001b[38;5;28;01mas\u001b[39;00m \u001b[38;5;21;01mplt\u001b[39;00m\n\u001b[0;32m---> 10\u001b[0m \u001b[38;5;28;01mfrom\u001b[39;00m \u001b[38;5;21;01mqiskit\u001b[39;00m\u001b[38;5;21;01m.\u001b[39;00m\u001b[38;5;21;01mtools\u001b[39;00m\u001b[38;5;21;01m.\u001b[39;00m\u001b[38;5;21;01mvisualization\u001b[39;00m \u001b[38;5;28;01mimport\u001b[39;00m array_to_latex\n",
      "\u001b[0;31mModuleNotFoundError\u001b[0m: No module named 'qiskit.tools'"
     ]
    }
   ],
   "source": [
    "%run ../../macro_tQ.py\n",
    "import sys\n",
    "sys.path.append('../../')\n",
    "import macro_tQ as tQ\n",
    "\n",
    "import numpy as np\n",
    "import scipy.linalg as la\n",
    "from IPython.display import display,Markdown,Latex\n",
    "import matplotlib.pyplot as plt\n",
    "from qiskit.tools.visualization import array_to_latex"
   ]
  },
  {
   "cell_type": "code",
   "execution_count": 2,
   "metadata": {
    "slideshow": {
     "slide_type": "-"
    }
   },
   "outputs": [
    {
     "ename": "ModuleNotFoundError",
     "evalue": "No module named 'qiskit_aer'",
     "output_type": "error",
     "traceback": [
      "\u001b[0;31m---------------------------------------------------------------------------\u001b[0m",
      "\u001b[0;31mModuleNotFoundError\u001b[0m                       Traceback (most recent call last)",
      "Cell \u001b[0;32mIn[2], line 5\u001b[0m\n\u001b[1;32m      3\u001b[0m \u001b[38;5;28;01mfrom\u001b[39;00m \u001b[38;5;21;01mqiskit\u001b[39;00m\u001b[38;5;21;01m.\u001b[39;00m\u001b[38;5;21;01mvisualization\u001b[39;00m \u001b[38;5;28;01mimport\u001b[39;00m plot_histogram\n\u001b[1;32m      4\u001b[0m \u001b[38;5;28;01mfrom\u001b[39;00m \u001b[38;5;21;01mqiskit\u001b[39;00m\u001b[38;5;21;01m.\u001b[39;00m\u001b[38;5;21;01mquantum_info\u001b[39;00m \u001b[38;5;28;01mimport\u001b[39;00m Statevector\n\u001b[0;32m----> 5\u001b[0m \u001b[38;5;28;01mfrom\u001b[39;00m \u001b[38;5;21;01mqiskit_aer\u001b[39;00m \u001b[38;5;28;01mimport\u001b[39;00m AerSimulator \n\u001b[1;32m      7\u001b[0m \u001b[38;5;124m'\u001b[39m\u001b[38;5;124mdefinimos un estado de entrada en H^3$\u001b[39m\u001b[38;5;124m'\u001b[39m\n\u001b[1;32m      8\u001b[0m psi \u001b[38;5;241m=\u001b[39m[\u001b[38;5;241m1.\u001b[39m,\u001b[38;5;241m-\u001b[39m\u001b[38;5;241m2\u001b[39m, \u001b[38;5;241m-\u001b[39m\u001b[38;5;241m2\u001b[39m,\u001b[38;5;241m1\u001b[39m,\u001b[38;5;241m1\u001b[39m,\u001b[38;5;241m0\u001b[39m,\u001b[38;5;241m2\u001b[39m,\u001b[38;5;241m-\u001b[39m\u001b[38;5;241m1\u001b[39m]\n",
      "\u001b[0;31mModuleNotFoundError\u001b[0m: No module named 'qiskit_aer'"
     ]
    }
   ],
   "source": [
    "from qiskit import QuantumCircuit, QuantumRegister, ClassicalRegister\n",
    "import numpy.linalg as la\n",
    "from qiskit.visualization import plot_histogram\n",
    "from qiskit.quantum_info import Statevector\n",
    "from qiskit_aer import AerSimulator \n",
    "\n",
    "'definimos un estado de entrada en H^3$'\n",
    "psi =[1.,-2, -2,1,1,0,2,-1]\n",
    "psi/=la.norm(psi)\n",
    "display(Statevector(psi).draw('Latex'))\n",
    "\n",
    "qr = QuantumRegister(3,name='qr')\n",
    "cr = ClassicalRegister(3,name='cr')\n",
    "qc_psi_Qs = QuantumCircuit(qr,cr)\n",
    "qc_psi_Qs.initialize(psi,qr)\n",
    "qc_psi_Qs.measure(qr[:],cr[:])\n",
    "display(qc_psi_Qs.draw(output='mpl'))\n",
    "\n",
    "'ejecutamos el circuito y graficamos la estadística de cuentas'\n",
    "nshots = 100000\n",
    "\n",
    "job=AerSimulator().run(qc_psi_Qs,shots=nshots) \n",
    "result=job.result()\n",
    "counts = result.get_counts()        \n",
    "print('Cuentas=',counts)        #diccionario de cuentas\n",
    "display(plot_histogram(counts)) # Mostramos un histograma de resultados\n",
    "\n",
    "'transformamos las cuentas en un diccionario de  probabilidades '    \n",
    "probs_psi=counts.copy()         # vamos a modificar el diccionario \"cuentas\" con las probabilidades \n",
    "for bitstring,counts in probs_psi.items():\n",
    "    probs_psi[bitstring]= counts/nshots\n",
    "\n",
    "print('Probabilidades=', probs_psi)"
   ]
  },
  {
   "cell_type": "code",
   "execution_count": 3,
   "metadata": {
    "slideshow": {
     "slide_type": "-"
    }
   },
   "outputs": [
    {
     "data": {
      "image/png": "[encoded data removed]",
      "text/plain": [
       "<Figure size 454.719x451.5 with 1 Axes>"
      ]
     },
     "execution_count": 3,
     "metadata": {},
     "output_type": "execute_result"
    }
   ],
   "source": [
    "def add_multimeasure_XYZ(qc,paulistring):\n",
    "\n",
    "    assert(qc.num_qubits==len(paulistring)) #check whether width of circuit coincides with length of Pauli string\n",
    "\n",
    "    for i,basis in enumerate(reversed(paulistring)):\n",
    "        if  basis == 'X':\n",
    "            qc.h(i)    \n",
    "            qc.measure(i, i)\n",
    "        elif basis == 'Z':\n",
    "            qc.measure(i, i)\n",
    "            pass    \n",
    "        elif basis == 'Y':\n",
    "            qc.sdg(i)\n",
    "            qc.h(i)\n",
    "            qc.measure(i, i)\n",
    "\n",
    "    return qc \n",
    "\n",
    "'Veamos un ejemplo'\n",
    "from qiskit import QuantumCircuit\n",
    "qc = QuantumCircuit(4,4)\n",
    "add_multimeasure_XYZ(qc,'ZYIX')  # probar a cambiar el aparato de medida\n",
    "qc.draw('mpl')"
   ]
  },
  {
   "cell_type": "code",
   "execution_count": 4,
   "metadata": {
    "slideshow": {
     "slide_type": "-"
    }
   },
   "outputs": [
    {
     "ename": "SyntaxError",
     "evalue": "unterminated string literal (detected at line 22) (39274172.py, line 22)",
     "output_type": "error",
     "traceback": [
      "\u001b[0;36m  Cell \u001b[0;32mIn[4], line 22\u001b[0;36m\u001b[0m\n\u001b[0;31m    'añadimos el medidor en la base de Bell\u001b[0m\n\u001b[0m    ^\u001b[0m\n\u001b[0;31mSyntaxError\u001b[0m\u001b[0;31m:\u001b[0m unterminated string literal (detected at line 22)\n"
     ]
    }
   ],
   "source": [
    "def add_Bell_measurement(qc,qubits=[0,1]):\n",
    "    qc.cx(qubits[0],qubits[1])\n",
    "    qc.h(0)\n",
    "    qc.barrier()\n",
    "    qc.measure([0,1],[1,0])\n",
    "    \n",
    "'ahora verificamos'\n",
    "from qiskit import QuantumCircuit\n",
    "\n",
    "'creamos el circuito'\n",
    "qc = QuantumCircuit(2,2)\n",
    "\n",
    "'definimos la base de Bell'\n",
    "B00 = np.array([1,0,0,1]/np.sqrt(2))\n",
    "B01 = np.array([1,0,0,-1]/np.sqrt(2))\n",
    "B10 = np.array([0,1,1,0]/np.sqrt(2))\n",
    "B11 = np.array([0,1,-1,0]/np.sqrt(2))\n",
    "\n",
    "'inicializamos el estado de entrada en cualquiera de los estados anteriores'\n",
    "qc.initialize(B10,[0,1])\n",
    "\n",
    "'añadimos el medidor en la base de Bell\n",
    "add_Bell_measurement(qc,[0,1])\n",
    "display(qc.draw('mpl'))\n",
    "\n",
    "execute(qc,backend=M_simulator).result().get_counts()"
   ]
  },
  {
   "cell_type": "code",
   "execution_count": 5,
   "metadata": {
    "slideshow": {
     "slide_type": "-"
    }
   },
   "outputs": [
    {
     "data": {
      "text/latex": [
       "$$\n",
       "YIZ =\n",
       "\\begin{bmatrix}\n",
       "0 & 0 & 0 & 0 & - i & 0 & 0 & 0  \\\\\n",
       " 0 & 0 & 0 & 0 & 0 & i & 0 & 0  \\\\\n",
       " 0 & 0 & 0 & 0 & 0 & 0 & - i & 0  \\\\\n",
       " 0 & 0 & 0 & 0 & 0 & 0 & 0 & i  \\\\\n",
       " i & 0 & 0 & 0 & 0 & 0 & 0 & 0  \\\\\n",
       " 0 & - i & 0 & 0 & 0 & 0 & 0 & 0  \\\\\n",
       " 0 & 0 & i & 0 & 0 & 0 & 0 & 0  \\\\\n",
       " 0 & 0 & 0 & - i & 0 & 0 & 0 & 0  \\\\\n",
       " \\end{bmatrix}\n",
       "$$"
      ],
      "text/plain": [
       "<IPython.core.display.Latex object>"
      ]
     },
     "metadata": {},
     "output_type": "display_data"
    },
    {
     "name": "stdout",
     "output_type": "stream",
     "text": [
      "a_203 =  (-0.03548456836966621+0.18472360057870085j)\n"
     ]
    }
   ],
   "source": [
    "' Matrices de Pauli'\n",
    "s0 = np.array([[1,0],[0,1]]) # matriz identidad\n",
    "s1 = np.array([[0,1],[1,0]])\n",
    "s2 = np.array([[0,-1j],[1j,0]])\n",
    "s3 = np.array([[1,0],[0,-1]])\n",
    "\n",
    "Pauli_basis = [s0,s1,s2,s3]\n",
    "\n",
    "' Cadena de Pauli YIZ = s2s0s3' \n",
    "Pauli_string_203 = np.kron(s2,np.kron(s0,s3))\n",
    "display(array_to_latex(Pauli_string_203,prefix='YIZ ='))\n",
    "\n",
    "'Matriz arbitraria'\n",
    "A = np.random.rand(8,8) + 1j* np.random.rand(8,8)\n",
    "\n",
    "'Proyección a_203 de A sobre YIZ'\n",
    "a_203 = np.trace(np.dot(A,Pauli_string_203))/2**3\n",
    "\n",
    "print('a_203 = ', a_203)"
   ]
  },
  {
   "cell_type": "code",
   "execution_count": 6,
   "metadata": {
    "run_control": {
     "marked": false
    },
    "slideshow": {
     "slide_type": "fragment"
    }
   },
   "outputs": [
    {
     "ename": "NameError",
     "evalue": "name 'probs_psi' is not defined",
     "output_type": "error",
     "traceback": [
      "\u001b[0;31m---------------------------------------------------------------------------\u001b[0m",
      "\u001b[0;31mNameError\u001b[0m                                 Traceback (most recent call last)",
      "Cell \u001b[0;32mIn[6], line 4\u001b[0m\n\u001b[1;32m      1\u001b[0m \u001b[38;5;124m'\u001b[39m\u001b[38;5;124maprovechamos el diccionatio \u001b[39m\u001b[38;5;124m\"\u001b[39m\u001b[38;5;124mprobs_psi\u001b[39m\u001b[38;5;124m\"\u001b[39m\u001b[38;5;124m creado al principio de este capítulo\u001b[39m\u001b[38;5;124m'\u001b[39m\n\u001b[1;32m      3\u001b[0m mean \u001b[38;5;241m=\u001b[39m \u001b[38;5;241m0\u001b[39m\n\u001b[0;32m----> 4\u001b[0m \u001b[38;5;28;01mfor\u001b[39;00m bitstring,probs  \u001b[38;5;129;01min\u001b[39;00m probs_psi\u001b[38;5;241m.\u001b[39mitems():\n\u001b[1;32m      5\u001b[0m     mean \u001b[38;5;241m+\u001b[39m\u001b[38;5;241m=\u001b[39m (\u001b[38;5;241m-\u001b[39m\u001b[38;5;241m1\u001b[39m)\u001b[38;5;241m*\u001b[39m\u001b[38;5;241m*\u001b[39m(\u001b[38;5;28msum\u001b[39m([\u001b[38;5;28mint\u001b[39m(bit) \u001b[38;5;28;01mfor\u001b[39;00m bit \u001b[38;5;129;01min\u001b[39;00m bitstring])) \u001b[38;5;241m*\u001b[39m probs \n\u001b[1;32m      7\u001b[0m \u001b[38;5;28mprint\u001b[39m(\u001b[38;5;124m'\u001b[39m\u001b[38;5;124m<ZZZ>_shots =\u001b[39m\u001b[38;5;124m'\u001b[39m, np\u001b[38;5;241m.\u001b[39mround(mean,\u001b[38;5;241m5\u001b[39m) )\n",
      "\u001b[0;31mNameError\u001b[0m: name 'probs_psi' is not defined"
     ]
    }
   ],
   "source": [
    "'aprovechamos el diccionatio \"probs_psi\" creado al principio de este capítulo'\n",
    "\n",
    "mean = 0\n",
    "for bitstring,probs  in probs_psi.items():\n",
    "    mean += (-1)**(sum([int(bit) for bit in bitstring])) * probs \n",
    "\n",
    "print('<ZZZ>_shots =', np.round(mean,5) )\n",
    "\n",
    "'verificamos con la expresión analítica'\n",
    "Z = np.array([[1,0],[0,-1]])\n",
    "ZZZ = np.kron(s3,np.kron(s3,s3))\n",
    "print('<ZZZ>_analitico =', tQ.braket(psi,np.dot(ZZZ,psi)) )\n",
    "\n",
    "variance=0\n",
    "for bitstring,probs  in probs_psi.items():\n",
    "    variance += ((-1)**(sum([int(bit) for bit in bitstring]))-mean)**2 * probs\n",
    "    \n",
    "print('sigma = ', np.sqrt(variance) )"
   ]
  },
  {
   "cell_type": "code",
   "execution_count": 7,
   "metadata": {},
   "outputs": [
    {
     "ename": "NameError",
     "evalue": "name 'psi' is not defined",
     "output_type": "error",
     "traceback": [
      "\u001b[0;31m---------------------------------------------------------------------------\u001b[0m",
      "\u001b[0;31mNameError\u001b[0m                                 Traceback (most recent call last)",
      "Cell \u001b[0;32mIn[7], line 7\u001b[0m\n\u001b[1;32m      3\u001b[0m qc \u001b[38;5;241m=\u001b[39m QuantumCircuit(qr,cr)\n\u001b[1;32m      6\u001b[0m \u001b[38;5;124m'\u001b[39m\u001b[38;5;124m ahora generamos el circuito que mide en la base ZXY\u001b[39m\u001b[38;5;124m'\u001b[39m\n\u001b[0;32m----> 7\u001b[0m qc\u001b[38;5;241m.\u001b[39minitialize(psi, qr)\n\u001b[1;32m      8\u001b[0m add_multimeasure_XYZ(qc,\u001b[38;5;124m'\u001b[39m\u001b[38;5;124mZXY\u001b[39m\u001b[38;5;124m'\u001b[39m)\n\u001b[1;32m      9\u001b[0m qc\u001b[38;5;241m.\u001b[39mdraw(output\u001b[38;5;241m=\u001b[39m\u001b[38;5;124m'\u001b[39m\u001b[38;5;124mmpl\u001b[39m\u001b[38;5;124m'\u001b[39m)\n",
      "\u001b[0;31mNameError\u001b[0m: name 'psi' is not defined"
     ]
    }
   ],
   "source": [
    "qr = QuantumRegister(3)\n",
    "cr = ClassicalRegister(3)\n",
    "qc = QuantumCircuit(qr,cr)\n",
    "\n",
    "\n",
    "' ahora generamos el circuito que mide en la base ZXY'\n",
    "qc.initialize(psi, qr)\n",
    "add_multimeasure_XYZ(qc,'ZXY')\n",
    "qc.draw(output='mpl')\n",
    "\n",
    "counts = AerSimulator().run(qc,shots=nshots).result().get_counts()\n",
    "print(counts)\n",
    "\n",
    "mean = 0\n",
    "for bitstring,count  in counts.items():\n",
    "    mean += (-1)**(sum([int(bit) for bit in bitstring])) * count/nshots \n",
    "\n",
    "print('<ZXY> =', np.round(mean,5) )\n",
    "\n",
    "'verificamos con la expresión analítica'\n",
    "ZXY = np.kron(s3,np.kron(s2,s1))\n",
    "print('<ZXY>_analitico =', tQ.braket(psi,np.dot(ZXY,psi)) )\n"
   ]
  },
  {
   "cell_type": "code",
   "execution_count": 8,
   "metadata": {
    "slideshow": {
     "slide_type": "skip"
    }
   },
   "outputs": [
    {
     "ename": "NameError",
     "evalue": "name 'psi' is not defined",
     "output_type": "error",
     "traceback": [
      "\u001b[0;31m---------------------------------------------------------------------------\u001b[0m",
      "\u001b[0;31mNameError\u001b[0m                                 Traceback (most recent call last)",
      "Cell \u001b[0;32mIn[8], line 14\u001b[0m\n\u001b[1;32m     12\u001b[0m \u001b[38;5;124m'\u001b[39m\u001b[38;5;124mcreamos el circuito con el operador controlado\u001b[39m\u001b[38;5;124m'\u001b[39m\n\u001b[1;32m     13\u001b[0m qc_Had \u001b[38;5;241m=\u001b[39m QuantumCircuit(qra,qr,cr)\n\u001b[0;32m---> 14\u001b[0m qc_Had\u001b[38;5;241m.\u001b[39minitialize(psi,qr)\n\u001b[1;32m     15\u001b[0m qc_Had\u001b[38;5;241m.\u001b[39mh(qra)  \n\u001b[1;32m     16\u001b[0m qc_Had\u001b[38;5;241m.\u001b[39mappend(CZZZ_gate,qra[:] \u001b[38;5;241m+\u001b[39m qr[:])\n",
      "\u001b[0;31mNameError\u001b[0m: name 'psi' is not defined"
     ]
    }
   ],
   "source": [
    "from qiskit import QuantumRegister, QuantumCircuit, ClassicalRegister\n",
    "\n",
    "qr = QuantumRegister(3, name = 'qr')\n",
    "qra = QuantumRegister(1, name = 'ancilla')\n",
    "cr = ClassicalRegister(1)\n",
    "\n",
    "'creamos el operador como una puerta \"gate\" que admite el método \"control'\n",
    "qc0 = QuantumCircuit(qr)\n",
    "qc0.z(qr)\n",
    "CZZZ_gate = qc0.to_gate().control(1,ctrl_state= 1) \n",
    "\n",
    "'creamos el circuito con el operador controlado'\n",
    "qc_Had = QuantumCircuit(qra,qr,cr)\n",
    "qc_Had.initialize(psi,qr)\n",
    "qc_Had.h(qra)  \n",
    "qc_Had.append(CZZZ_gate,qra[:] + qr[:])\n",
    "qc_Had.sdg(qra)\n",
    "qc_Had.h(qra)\n",
    "qc_Had.measure(qra,cr)\n",
    "\n",
    "qc_Had.draw('mpl')"
   ]
  },
  {
   "cell_type": "code",
   "execution_count": 9,
   "metadata": {
    "slideshow": {
     "slide_type": "skip"
    }
   },
   "outputs": [
    {
     "ename": "NameError",
     "evalue": "name 'Aer' is not defined",
     "output_type": "error",
     "traceback": [
      "\u001b[0;31m---------------------------------------------------------------------------\u001b[0m",
      "\u001b[0;31mNameError\u001b[0m                                 Traceback (most recent call last)",
      "Cell \u001b[0;32mIn[9], line 1\u001b[0m\n\u001b[0;32m----> 1\u001b[0m M_backend \u001b[38;5;241m=\u001b[39m Aer\u001b[38;5;241m.\u001b[39mget_backend(\u001b[38;5;124m'\u001b[39m\u001b[38;5;124mqasm_simulator\u001b[39m\u001b[38;5;124m'\u001b[39m)\n\u001b[1;32m      2\u001b[0m shots\u001b[38;5;241m=\u001b[39m\u001b[38;5;241m1000000\u001b[39m\n\u001b[1;32m      4\u001b[0m cuentas_Had\u001b[38;5;241m=\u001b[39m execute(qc_Had,M_backend,shots\u001b[38;5;241m=\u001b[39mshots)\u001b[38;5;241m.\u001b[39mresult()\u001b[38;5;241m.\u001b[39mget_counts()\n",
      "\u001b[0;31mNameError\u001b[0m: name 'Aer' is not defined"
     ]
    }
   ],
   "source": [
    "M_backend = Aer.get_backend('qasm_simulator')\n",
    "shots=1000000\n",
    "\n",
    "cuentas_Had= execute(qc_Had,M_backend,shots=shots).result().get_counts()\n",
    "print(cuentas_Had)\n",
    "\n",
    "from qiskit.tools.visualization import plot_histogram\n",
    "plot_histogram(cuentas_Had)"
   ]
  }
 ],
 "metadata": {
  "celltoolbar": "Tags",
  "kernelspec": {
   "display_name": "Python 3 (ipykernel)",
   "language": "python",
   "name": "python3"
  },
  "language_info": {
   "codemirror_mode": {
    "name": "ipython",
    "version": 3
   },
   "file_extension": ".py",
   "mimetype": "text/x-python",
   "name": "python",
   "nbconvert_exporter": "python",
   "pygments_lexer": "ipython3",
   "version": "3.11.7"
  },
  "nbTranslate": {
   "displayLangs": [
    "*"
   ],
   "hotkey": "alt-t",
   "langInMainMenu": true,
   "sourceLang": "en",
   "targetLang": "fr",
   "useGoogleTranslate": true
  },
  "toc": {
   "base_numbering": 1,
   "nav_menu": {},
   "number_sections": true,
   "sideBar": true,
   "skip_h1_title": true,
   "title_cell": "Table of Contents",
   "title_sidebar": "Contents",
   "toc_cell": false,
   "toc_position": {
    "height": "calc(100% - 180px)",
    "left": "10px",
    "top": "150px",
    "width": "414.053px"
   },
   "toc_section_display": true,
   "toc_window_display": false
  },
  "varInspector": {
   "cols": {
    "lenName": 16,
    "lenType": 16,
    "lenVar": 40
   },
   "kernels_config": {
    "python": {
     "delete_cmd_postfix": "",
     "delete_cmd_prefix": "del ",
     "library": "var_list.py",
     "varRefreshCmd": "print(var_dic_list())"
    },
    "r": {
     "delete_cmd_postfix": ") ",
     "delete_cmd_prefix": "rm(",
     "library": "var_list.r",
     "varRefreshCmd": "cat(var_dic_list()) "
    }
   },
   "types_to_exclude": [
    "module",
    "function",
    "builtin_function_or_method",
    "instance",
    "_Feature"
   ],
   "window_display": false
  }
 },
 "nbformat": 4,
 "nbformat_minor": 4
}