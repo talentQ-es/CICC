{
 "cells": [
  {
   "cell_type": "code",
   "execution_count": 1,
   "metadata": {
    "slideshow": {
     "slide_type": "slide"
    },
    "tags": [
     "hide-input"
    ]
   },
   "outputs": [],
   "source": [
    "%run ../macro_tQ.py\n",
    "import sys\n",
    "sys.path.append('../')\n",
    "import macro_tQ as tQ\n",
    "\n",
    "from qiskit import QuantumCircuit, QuantumRegister, ClassicalRegister\n"
   ]
  },
  {
   "cell_type": "code",
   "execution_count": 2,
   "metadata": {
    "slideshow": {
     "slide_type": "fragment"
    }
   },
   "outputs": [],
   "source": [
    "def c_Uop(phi0,phi1,power):\n",
    "    U = QuantumCircuit(1)        \n",
    "    for _ in range(power):\n",
    "        U.rz(-phi0*4*np.pi,0)\n",
    "        U.p((phi1+phi0)*2*np.pi,0)\n",
    "    U = U.to_gate()\n",
    "    U.name = \"c_U(%f ,%f)^%i\" % (np.round(phi0,5), np.round(phi1,5),power)\n",
    "    U = U.control()\n",
    "    return U\n",
    "    "
   ]
  },
  {
   "cell_type": "code",
   "execution_count": 3,
   "metadata": {
    "slideshow": {
     "slide_type": "fragment"
    }
   },
   "outputs": [
    {
     "name": "stdout",
     "output_type": "stream",
     "text": [
      "phi0= 0.275  ->   2^t*phi0 = a0 + delta0 =  2.2  , a0 = 2 => 010\n",
      "phi1= 0.375  ->   2^t*phi1 = a1 + delta1 =  3.0  , a1 = 3 => 011\n"
     ]
    }
   ],
   "source": [
    "t_seed=3\n",
    "\n",
    "a0 = 2.\n",
    "delta0 = 0.2\n",
    "phi0 = (a0+delta0)*2.**(-t_seed) \n",
    "\n",
    "a1 = 3.\n",
    "delta1 = 0.\n",
    "phi1 =(a1+ delta1)*2.**(-t_seed) \n",
    "\n",
    "print('phi0=', phi0, ' ->   2^t*phi0 = a0 + delta0 = ', 2**t_seed*phi0 , ' , a0 =' ,int(2**t_seed*phi0), '=>', format(int(2**t_seed*phi0),'b').zfill(t_seed) )\n",
    "print('phi1=', phi1, ' ->   2^t*phi1 = a1 + delta1 = ', 2**t_seed*phi1 , ' , a1 =' ,int(2**t_seed*phi1), '=>', format(int(2**t_seed*phi1),'b').zfill(t_seed) )\n"
   ]
  },
  {
   "cell_type": "code",
   "execution_count": 4,
   "metadata": {
    "slideshow": {
     "slide_type": "slide"
    }
   },
   "outputs": [
    {
     "ename": "NameError",
     "evalue": "name 'QuantumCircuit' is not defined",
     "output_type": "error",
     "traceback": [
      "\u001b[0;31m---------------------------------------------------------------------------\u001b[0m",
      "\u001b[0;31mNameError\u001b[0m                                 Traceback (most recent call last)",
      "Cell \u001b[0;32mIn[4], line 29\u001b[0m\n\u001b[1;32m     26\u001b[0m qpe\u001b[38;5;241m.\u001b[39mbarrier()\n\u001b[1;32m     28\u001b[0m \u001b[38;5;66;03m# aplicamos la QFT^-1 que está definida en macro.py \u001b[39;00m\n\u001b[0;32m---> 29\u001b[0m qpe\u001b[38;5;241m.\u001b[39mappend(\u001b[43mTFC_adj\u001b[49m\u001b[43m(\u001b[49m\u001b[43mt\u001b[49m\u001b[43m)\u001b[49m,qrt)\n\u001b[1;32m     31\u001b[0m \u001b[38;5;66;03m# podemos hacerlo usando la librería de qiskit \u001b[39;00m\n\u001b[1;32m     32\u001b[0m \u001b[38;5;66;03m#from qiskit.circuit.library import QFT\u001b[39;00m\n\u001b[1;32m     33\u001b[0m \u001b[38;5;66;03m#qpe.append(QFT(len(qr),do_swaps=True).inverse(),qr)\u001b[39;00m\n\u001b[1;32m     36\u001b[0m qpe\u001b[38;5;241m.\u001b[39mmeasure(qrt,crt)\n",
      "File \u001b[0;32m~/Repos_Git/jamasole/Curso-TalentQ-Jupyterlab/Book/docs/macro_tQ.py:357\u001b[0m, in \u001b[0;36mTFC_adj\u001b[0;34m(n)\u001b[0m\n\u001b[1;32m    356\u001b[0m \u001b[38;5;28;01mdef\u001b[39;00m \u001b[38;5;21mTFC_adj\u001b[39m(n):\n\u001b[0;32m--> 357\u001b[0m     qc \u001b[38;5;241m=\u001b[39m \u001b[43mQuantumCircuit\u001b[49m(n)    \n\u001b[1;32m    359\u001b[0m     \u001b[38;5;28;01mfor\u001b[39;00m j \u001b[38;5;129;01min\u001b[39;00m \u001b[38;5;28mreversed\u001b[39m(\u001b[38;5;28mrange\u001b[39m(n\u001b[38;5;241m/\u001b[39m\u001b[38;5;241m/\u001b[39m\u001b[38;5;241m2\u001b[39m)):\n\u001b[1;32m    360\u001b[0m         qc\u001b[38;5;241m.\u001b[39mswap(j,n\u001b[38;5;241m-\u001b[39mj\u001b[38;5;241m-\u001b[39m\u001b[38;5;241m1\u001b[39m)            \n",
      "\u001b[0;31mNameError\u001b[0m: name 'QuantumCircuit' is not defined"
     ]
    }
   ],
   "source": [
    "from qiskit import QuantumCircuit, QuantumRegister, ClassicalRegister\n",
    "\n",
    "t = 6 # la dimensión del registro de evaluación \n",
    "n = 1 # la dimensiónd el espacio de representación del opeador U\n",
    "\n",
    "qrt=QuantumRegister(t,name=\"t\")\n",
    "qra=QuantumRegister(n,name=\"qr_U\") # aquí 1 es la dimensión del espacio en el que opera U\n",
    "crt=ClassicalRegister(t)\n",
    "\n",
    "qpe = QuantumCircuit(qrt,qra,crt)   \n",
    "\n",
    "##########################################################################\n",
    "#inicializamos la ancilla en un autoestado |u> =|0> o |u> = |1>\n",
    "#qpe.x(qra)   \n",
    "##########################################################################\n",
    "\n",
    "\n",
    "qpe.h(range(t))\n",
    "qpe.barrier()\n",
    "\n",
    "# aplicamos los operadores controlados c-U^j \n",
    "for j in range(t):\n",
    "    qpe.append(c_Uop(phi0,phi1,2**j),[qrt[j]]+qra[:])\n",
    "    \n",
    "\n",
    "qpe.barrier()\n",
    "\n",
    "# aplicamos la QFT^-1 que está definida en macro.py \n",
    "qpe.append(TFC_adj(t),qrt)\n",
    "\n",
    "# podemos hacerlo usando la librería de qiskit \n",
    "#from qiskit.circuit.library import QFT\n",
    "#qpe.append(QFT(len(qr),do_swaps=True).inverse(),qr)\n",
    "\n",
    "\n",
    "qpe.measure(qrt,crt)\n",
    "\n",
    "qpe.draw(output=\"mpl\")"
   ]
  },
  {
   "cell_type": "code",
   "execution_count": 5,
   "metadata": {
    "slideshow": {
     "slide_type": "slide"
    }
   },
   "outputs": [
    {
     "ename": "QiskitError",
     "evalue": "'No counts for experiment \"0\"'",
     "output_type": "error",
     "traceback": [
      "\u001b[0;31m---------------------------------------------------------------------------\u001b[0m",
      "\u001b[0;31mQiskitError\u001b[0m                               Traceback (most recent call last)",
      "Cell \u001b[0;32mIn[5], line 6\u001b[0m\n\u001b[1;32m      4\u001b[0m \u001b[38;5;28;01mfrom\u001b[39;00m \u001b[38;5;21;01mqiskit\u001b[39;00m\u001b[38;5;21;01m.\u001b[39;00m\u001b[38;5;21;01mvisualization\u001b[39;00m \u001b[38;5;28;01mimport\u001b[39;00m plot_histogram\n\u001b[1;32m      5\u001b[0m results \u001b[38;5;241m=\u001b[39m execute(qpe, M_backend, shots\u001b[38;5;241m=\u001b[39m\u001b[38;5;241m2048\u001b[39m)\u001b[38;5;241m.\u001b[39mresult()\n\u001b[0;32m----> 6\u001b[0m counts \u001b[38;5;241m=\u001b[39m \u001b[43mresults\u001b[49m\u001b[38;5;241;43m.\u001b[39;49m\u001b[43mget_counts\u001b[49m\u001b[43m(\u001b[49m\u001b[43m)\u001b[49m\n\u001b[1;32m      7\u001b[0m plot_histogram(counts)\n",
      "File \u001b[0;32m~/Programs/miniconda/miniconda3/envs/qiskit_qibo_penny/lib/python3.11/site-packages/qiskit/result/result.py:289\u001b[0m, in \u001b[0;36mResult.get_counts\u001b[0;34m(self, experiment)\u001b[0m\n\u001b[1;32m    287\u001b[0m         dict_list\u001b[38;5;241m.\u001b[39mappend(statevector\u001b[38;5;241m.\u001b[39mStatevector(vec)\u001b[38;5;241m.\u001b[39mprobabilities_dict(decimals\u001b[38;5;241m=\u001b[39m\u001b[38;5;241m15\u001b[39m))\n\u001b[1;32m    288\u001b[0m     \u001b[38;5;28;01melse\u001b[39;00m:\n\u001b[0;32m--> 289\u001b[0m         \u001b[38;5;28;01mraise\u001b[39;00m QiskitError(\u001b[38;5;124mf\u001b[39m\u001b[38;5;124m'\u001b[39m\u001b[38;5;124mNo counts for experiment \u001b[39m\u001b[38;5;124m\"\u001b[39m\u001b[38;5;132;01m{\u001b[39;00m\u001b[38;5;28mrepr\u001b[39m(key)\u001b[38;5;132;01m}\u001b[39;00m\u001b[38;5;124m\"\u001b[39m\u001b[38;5;124m'\u001b[39m)\n\u001b[1;32m    291\u001b[0m \u001b[38;5;66;03m# Return first item of dict_list if size is 1\u001b[39;00m\n\u001b[1;32m    292\u001b[0m \u001b[38;5;28;01mif\u001b[39;00m \u001b[38;5;28mlen\u001b[39m(dict_list) \u001b[38;5;241m==\u001b[39m \u001b[38;5;241m1\u001b[39m:\n",
      "\u001b[0;31mQiskitError\u001b[0m: 'No counts for experiment \"0\"'"
     ]
    }
   ],
   "source": [
    "from qiskit import Aer, execute\n",
    "M_backend = Aer.get_backend('qasm_simulator')\n",
    "\n",
    "from qiskit.visualization import plot_histogram\n",
    "results = execute(qpe, M_backend, shots=2048).result()\n",
    "counts = results.get_counts()\n",
    "plot_histogram(counts)"
   ]
  },
  {
   "cell_type": "code",
   "execution_count": 6,
   "metadata": {
    "slideshow": {
     "slide_type": "-"
    }
   },
   "outputs": [
    {
     "ename": "NameError",
     "evalue": "name 'counts' is not defined",
     "output_type": "error",
     "traceback": [
      "\u001b[0;31m---------------------------------------------------------------------------\u001b[0m",
      "\u001b[0;31mNameError\u001b[0m                                 Traceback (most recent call last)",
      "Cell \u001b[0;32mIn[6], line 1\u001b[0m\n\u001b[0;32m----> 1\u001b[0m \u001b[38;5;28mmax\u001b[39m(\u001b[43mcounts\u001b[49m, key\u001b[38;5;241m=\u001b[39mcounts\u001b[38;5;241m.\u001b[39mget)\n",
      "\u001b[0;31mNameError\u001b[0m: name 'counts' is not defined"
     ]
    }
   ],
   "source": [
    "max(counts, key=counts.get)"
   ]
  },
  {
   "cell_type": "code",
   "execution_count": 7,
   "metadata": {
    "slideshow": {
     "slide_type": "fragment"
    }
   },
   "outputs": [
    {
     "ename": "NameError",
     "evalue": "name 'counts' is not defined",
     "output_type": "error",
     "traceback": [
      "\u001b[0;31m---------------------------------------------------------------------------\u001b[0m",
      "\u001b[0;31mNameError\u001b[0m                                 Traceback (most recent call last)",
      "Cell \u001b[0;32mIn[7], line 1\u001b[0m\n\u001b[0;32m----> 1\u001b[0m a_resultante \u001b[38;5;241m=\u001b[39m \u001b[38;5;28mint\u001b[39m(\u001b[38;5;28mmax\u001b[39m(\u001b[43mcounts\u001b[49m, key\u001b[38;5;241m=\u001b[39mcounts\u001b[38;5;241m.\u001b[39mget),\u001b[38;5;241m2\u001b[39m)\n\u001b[1;32m      3\u001b[0m \u001b[38;5;66;03m# Seleccionamos el autovalor asociado a |u> \u001b[39;00m\n\u001b[1;32m      4\u001b[0m phi \u001b[38;5;241m=\u001b[39m phi0  \u001b[38;5;66;03m# si |0>\u001b[39;00m\n",
      "\u001b[0;31mNameError\u001b[0m: name 'counts' is not defined"
     ]
    }
   ],
   "source": [
    "a_resultante = int(max(counts, key=counts.get),2)\n",
    "\n",
    "# Seleccionamos el autovalor asociado a |u> \n",
    "phi = phi0  # si |0>\n",
    "#phi = phi1   # si |1>\n",
    "\n",
    "print('el valor de phi original era =', phi)\n",
    "\n",
    "print('la mejor aproximación al valor verdadero es a/2^t =', a_resultante*2**(-t))\n",
    "\n",
    "print('el error relativo es delta/(2^t phi) =', (phi -a_resultante*2**(-t))/phi)"
   ]
  },
  {
   "cell_type": "code",
   "execution_count": 8,
   "metadata": {
    "slideshow": {
     "slide_type": "fragment"
    }
   },
   "outputs": [
    {
     "name": "stdout",
     "output_type": "stream",
     "text": [
      "phi0= 0.1375  ->   2^t*phi0 = a0 + delta0 =  1.1  , a0 = 1 => 001\n",
      "phi1= 0.3875  ->   2^t*phi1 = a1 + delta1 =  3.1  , a1 = 1 => 011\n"
     ]
    }
   ],
   "source": [
    "t_seed = 3\n",
    "\n",
    "a0 = 1.\n",
    "delta0 = 0.1\n",
    "phi0 = (a0+ delta0)*2.**(-t_seed) \n",
    "\n",
    "a1 = 3.\n",
    "delta1 = 0.1\n",
    "phi1 =(a1+ delta1)*2.**(-t_seed) \n",
    "\n",
    "print('phi0=', phi0, ' ->   2^t*phi0 = a0 + delta0 = ', 2**t_seed*phi0 , ' , a0 =' ,int(2**t_seed*phi0), '=>', format(int(2**t_seed*phi0),'b').zfill(t_seed) )\n",
    "print('phi1=', phi1, ' ->   2^t*phi1 = a1 + delta1 = ', 2**t_seed*phi1 , ' , a1 =' ,int(2**t_seed*phi0), '=>', format(int(2**t_seed*phi1),'b').zfill(t_seed) )\n"
   ]
  },
  {
   "cell_type": "code",
   "execution_count": 9,
   "metadata": {
    "slideshow": {
     "slide_type": "slide"
    }
   },
   "outputs": [
    {
     "ename": "NameError",
     "evalue": "name 'QuantumCircuit' is not defined",
     "output_type": "error",
     "traceback": [
      "\u001b[0;31m---------------------------------------------------------------------------\u001b[0m",
      "\u001b[0;31mNameError\u001b[0m                                 Traceback (most recent call last)",
      "Cell \u001b[0;32mIn[9], line 30\u001b[0m\n\u001b[1;32m     27\u001b[0m qpe\u001b[38;5;241m.\u001b[39mbarrier()\n\u001b[1;32m     29\u001b[0m \u001b[38;5;66;03m# aplicamos la QFT^-1 que está definida en macro.py \u001b[39;00m\n\u001b[0;32m---> 30\u001b[0m qpe\u001b[38;5;241m.\u001b[39mappend(\u001b[43mTFC_adj\u001b[49m\u001b[43m(\u001b[49m\u001b[43mt\u001b[49m\u001b[43m)\u001b[49m,qrt)\n\u001b[1;32m     32\u001b[0m \u001b[38;5;66;03m# podemos hacerlo usando la librería de qiskit \u001b[39;00m\n\u001b[1;32m     33\u001b[0m \u001b[38;5;66;03m#from qiskit.circuit.library import QFT\u001b[39;00m\n\u001b[1;32m     34\u001b[0m \u001b[38;5;66;03m#qpe.append(QFT(len(qr),do_swaps=True).inverse(),qr)\u001b[39;00m\n\u001b[1;32m     37\u001b[0m qpe\u001b[38;5;241m.\u001b[39mmeasure(qrt,crt)\n",
      "File \u001b[0;32m~/Repos_Git/jamasole/Curso-TalentQ-Jupyterlab/Book/docs/macro_tQ.py:357\u001b[0m, in \u001b[0;36mTFC_adj\u001b[0;34m(n)\u001b[0m\n\u001b[1;32m    356\u001b[0m \u001b[38;5;28;01mdef\u001b[39;00m \u001b[38;5;21mTFC_adj\u001b[39m(n):\n\u001b[0;32m--> 357\u001b[0m     qc \u001b[38;5;241m=\u001b[39m \u001b[43mQuantumCircuit\u001b[49m(n)    \n\u001b[1;32m    359\u001b[0m     \u001b[38;5;28;01mfor\u001b[39;00m j \u001b[38;5;129;01min\u001b[39;00m \u001b[38;5;28mreversed\u001b[39m(\u001b[38;5;28mrange\u001b[39m(n\u001b[38;5;241m/\u001b[39m\u001b[38;5;241m/\u001b[39m\u001b[38;5;241m2\u001b[39m)):\n\u001b[1;32m    360\u001b[0m         qc\u001b[38;5;241m.\u001b[39mswap(j,n\u001b[38;5;241m-\u001b[39mj\u001b[38;5;241m-\u001b[39m\u001b[38;5;241m1\u001b[39m)            \n",
      "\u001b[0;31mNameError\u001b[0m: name 'QuantumCircuit' is not defined"
     ]
    }
   ],
   "source": [
    "from qiskit import QuantumCircuit, QuantumRegister, ClassicalRegister\n",
    "\n",
    "t = 6 # la dimensión del registro de evaluación \n",
    "n = 1 # la dimensiónd el espacio de representación del opeador U\n",
    "\n",
    "qrt=QuantumRegister(t,name=\"t\")\n",
    "qra=QuantumRegister(n,name=\"qr_U\") # aquí 1 es la dimensión del espacio en el que opera U\n",
    "crt=ClassicalRegister(t)\n",
    "\n",
    "qpe = QuantumCircuit(qrt,qra,crt)   \n",
    "\n",
    "##########################################################################\n",
    "#inicializamos la ancilla en una combinación cos(th/2)|0> + sin(th/2)|1>\n",
    "theta = 2*np.pi*0.15 \n",
    "qpe.ry(theta,qra) \n",
    "##########################################################################\n",
    "\n",
    "qpe.h(range(t))\n",
    "qpe.barrier()\n",
    "\n",
    "# aplicamos los operadores controlados c-U^j \n",
    "for j in range(t):\n",
    "    qpe.append(c_Uop(phi0,phi1,2**j),[qrt[j]]+qra[:])\n",
    "#    qpe.cp(2*np.pi*phi1*(2**j), qrt[j], qra); # This is C-U\n",
    "    \n",
    "\n",
    "qpe.barrier()\n",
    "\n",
    "# aplicamos la QFT^-1 que está definida en macro.py \n",
    "qpe.append(TFC_adj(t),qrt)\n",
    "\n",
    "# podemos hacerlo usando la librería de qiskit \n",
    "#from qiskit.circuit.library import QFT\n",
    "#qpe.append(QFT(len(qr),do_swaps=True).inverse(),qr)\n",
    "\n",
    "\n",
    "qpe.measure(qrt,crt)\n",
    "\n",
    "qpe.draw(output=\"mpl\")"
   ]
  },
  {
   "cell_type": "code",
   "execution_count": 10,
   "metadata": {
    "slideshow": {
     "slide_type": "slide"
    }
   },
   "outputs": [
    {
     "ename": "QiskitError",
     "evalue": "'No counts for experiment \"0\"'",
     "output_type": "error",
     "traceback": [
      "\u001b[0;31m---------------------------------------------------------------------------\u001b[0m",
      "\u001b[0;31mQiskitError\u001b[0m                               Traceback (most recent call last)",
      "Cell \u001b[0;32mIn[10], line 6\u001b[0m\n\u001b[1;32m      4\u001b[0m \u001b[38;5;28;01mfrom\u001b[39;00m \u001b[38;5;21;01mqiskit\u001b[39;00m\u001b[38;5;21;01m.\u001b[39;00m\u001b[38;5;21;01mvisualization\u001b[39;00m \u001b[38;5;28;01mimport\u001b[39;00m plot_histogram\n\u001b[1;32m      5\u001b[0m results \u001b[38;5;241m=\u001b[39m execute(qpe, M_backend, shots\u001b[38;5;241m=\u001b[39m\u001b[38;5;241m1024\u001b[39m)\u001b[38;5;241m.\u001b[39mresult()\n\u001b[0;32m----> 6\u001b[0m counts \u001b[38;5;241m=\u001b[39m \u001b[43mresults\u001b[49m\u001b[38;5;241;43m.\u001b[39;49m\u001b[43mget_counts\u001b[49m\u001b[43m(\u001b[49m\u001b[43m)\u001b[49m\n\u001b[1;32m      7\u001b[0m plot_histogram(counts)\n",
      "File \u001b[0;32m~/Programs/miniconda/miniconda3/envs/qiskit_qibo_penny/lib/python3.11/site-packages/qiskit/result/result.py:289\u001b[0m, in \u001b[0;36mResult.get_counts\u001b[0;34m(self, experiment)\u001b[0m\n\u001b[1;32m    287\u001b[0m         dict_list\u001b[38;5;241m.\u001b[39mappend(statevector\u001b[38;5;241m.\u001b[39mStatevector(vec)\u001b[38;5;241m.\u001b[39mprobabilities_dict(decimals\u001b[38;5;241m=\u001b[39m\u001b[38;5;241m15\u001b[39m))\n\u001b[1;32m    288\u001b[0m     \u001b[38;5;28;01melse\u001b[39;00m:\n\u001b[0;32m--> 289\u001b[0m         \u001b[38;5;28;01mraise\u001b[39;00m QiskitError(\u001b[38;5;124mf\u001b[39m\u001b[38;5;124m'\u001b[39m\u001b[38;5;124mNo counts for experiment \u001b[39m\u001b[38;5;124m\"\u001b[39m\u001b[38;5;132;01m{\u001b[39;00m\u001b[38;5;28mrepr\u001b[39m(key)\u001b[38;5;132;01m}\u001b[39;00m\u001b[38;5;124m\"\u001b[39m\u001b[38;5;124m'\u001b[39m)\n\u001b[1;32m    291\u001b[0m \u001b[38;5;66;03m# Return first item of dict_list if size is 1\u001b[39;00m\n\u001b[1;32m    292\u001b[0m \u001b[38;5;28;01mif\u001b[39;00m \u001b[38;5;28mlen\u001b[39m(dict_list) \u001b[38;5;241m==\u001b[39m \u001b[38;5;241m1\u001b[39m:\n",
      "\u001b[0;31mQiskitError\u001b[0m: 'No counts for experiment \"0\"'"
     ]
    }
   ],
   "source": [
    "from qiskit import Aer, execute\n",
    "M_backend = Aer.get_backend('qasm_simulator')\n",
    "\n",
    "from qiskit.visualization import plot_histogram\n",
    "results = execute(qpe, M_backend, shots=1024).result()\n",
    "counts = results.get_counts()\n",
    "plot_histogram(counts)"
   ]
  },
  {
   "cell_type": "code",
   "execution_count": 11,
   "metadata": {
    "slideshow": {
     "slide_type": "-"
    }
   },
   "outputs": [
    {
     "data": {
      "text/plain": [
       "[1, 7, 4, 13, 1, 7, 4, 13, 1, 7, 4, 13, 1, 7, 4, 13, 1]"
      ]
     },
     "execution_count": 11,
     "metadata": {},
     "output_type": "execute_result"
    }
   ],
   "source": [
    "{2,4,7,8,11,13}   # comprimos con 15\n",
    "m=7\n",
    "N=15\n",
    "[m**i%N for i in range(17)]"
   ]
  },
  {
   "cell_type": "code",
   "execution_count": 12,
   "metadata": {
    "slideshow": {
     "slide_type": "-"
    }
   },
   "outputs": [],
   "source": [
    "def c_amod15(m, power):\n",
    "    \"\"\"Controlled multiplication by a mod 15\"\"\"\n",
    "    if m not in [2,4,7,8,11,13]:\n",
    "        raise ValueError(\"'a' must be 2,4,7,8,11 or 13\")\n",
    "    U = QuantumCircuit(4)        \n",
    "    for iteration in range(power):\n",
    "        if m in [2,13]:\n",
    "            U.swap(2,3)\n",
    "            U.swap(1,2)\n",
    "            U.swap(0,1)\n",
    "        if m in [7,8]:\n",
    "            U.swap(0,1)\n",
    "            U.swap(1,2)\n",
    "            U.swap(2,3)\n",
    "        if m in [4, 11]:\n",
    "            U.swap(1,3)\n",
    "            U.swap(0,2)\n",
    "        if m in [7,11,13]:\n",
    "            for q in range(4):\n",
    "                U.x(q)\n",
    "#    print(U)\n",
    "    U = U.to_gate()\n",
    "    U.name = \"%i^%i mod 15\" % (m, power)\n",
    "    c_U = U.control()\n",
    "    return c_U"
   ]
  },
  {
   "cell_type": "code",
   "execution_count": 13,
   "metadata": {
    "slideshow": {
     "slide_type": "skip"
    }
   },
   "outputs": [
    {
     "name": "stderr",
     "output_type": "stream",
     "text": [
      "/home/dcb/Programs/miniconda/miniconda3/envs/qiskit_qibo_penny/lib/python3.11/site-packages/qiskit/visualization/circuit/matplotlib.py:266: FutureWarning: The default matplotlib drawer scheme will be changed to \"iqp\" in a following release. To silence this warning, specify the current default explicitly as style=\"clifford\", or the new default as style=\"iqp\".\n",
      "  self._style, def_font_ratio = load_style(self._style)\n"
     ]
    },
    {
     "data": {
      "image/png": "[encoded data removed]",
      "text/plain": [
       "<Figure size 1695.39x451.5 with 1 Axes>"
      ]
     },
     "execution_count": 13,
     "metadata": {},
     "output_type": "execute_result"
    }
   ],
   "source": [
    "c_amod15(4,3 ).definition.draw('mpl')"
   ]
  },
  {
   "cell_type": "code",
   "execution_count": 14,
   "metadata": {
    "slideshow": {
     "slide_type": "slide"
    }
   },
   "outputs": [
    {
     "ename": "NameError",
     "evalue": "name 'QuantumCircuit' is not defined",
     "output_type": "error",
     "traceback": [
      "\u001b[0;31m---------------------------------------------------------------------------\u001b[0m",
      "\u001b[0;31mNameError\u001b[0m                                 Traceback (most recent call last)",
      "Cell \u001b[0;32mIn[14], line 27\u001b[0m\n\u001b[1;32m     24\u001b[0m qc\u001b[38;5;241m.\u001b[39mbarrier()\n\u001b[1;32m     26\u001b[0m \u001b[38;5;66;03m# aplicamos la QFT^-1 que está definida en macro.py \u001b[39;00m\n\u001b[0;32m---> 27\u001b[0m qc\u001b[38;5;241m.\u001b[39mappend(\u001b[43mTFC_adj\u001b[49m\u001b[43m(\u001b[49m\u001b[43mt\u001b[49m\u001b[43m)\u001b[49m,qr)\n\u001b[1;32m     29\u001b[0m \u001b[38;5;66;03m# podemos hacerlo usando la librería de qiskit \u001b[39;00m\n\u001b[1;32m     30\u001b[0m \u001b[38;5;66;03m#from qiskit.circuit.library import QFT\u001b[39;00m\n\u001b[1;32m     31\u001b[0m \u001b[38;5;66;03m#qpe.append(QFT(len(qr),do_swaps=True).inverse(),qr)\u001b[39;00m\n\u001b[1;32m     34\u001b[0m qc\u001b[38;5;241m.\u001b[39mmeasure(qr,cr)\n",
      "File \u001b[0;32m~/Repos_Git/jamasole/Curso-TalentQ-Jupyterlab/Book/docs/macro_tQ.py:357\u001b[0m, in \u001b[0;36mTFC_adj\u001b[0;34m(n)\u001b[0m\n\u001b[1;32m    356\u001b[0m \u001b[38;5;28;01mdef\u001b[39;00m \u001b[38;5;21mTFC_adj\u001b[39m(n):\n\u001b[0;32m--> 357\u001b[0m     qc \u001b[38;5;241m=\u001b[39m \u001b[43mQuantumCircuit\u001b[49m(n)    \n\u001b[1;32m    359\u001b[0m     \u001b[38;5;28;01mfor\u001b[39;00m j \u001b[38;5;129;01min\u001b[39;00m \u001b[38;5;28mreversed\u001b[39m(\u001b[38;5;28mrange\u001b[39m(n\u001b[38;5;241m/\u001b[39m\u001b[38;5;241m/\u001b[39m\u001b[38;5;241m2\u001b[39m)):\n\u001b[1;32m    360\u001b[0m         qc\u001b[38;5;241m.\u001b[39mswap(j,n\u001b[38;5;241m-\u001b[39mj\u001b[38;5;241m-\u001b[39m\u001b[38;5;241m1\u001b[39m)            \n",
      "\u001b[0;31mNameError\u001b[0m: name 'QuantumCircuit' is not defined"
     ]
    }
   ],
   "source": [
    "from qiskit import QuantumCircuit, QuantumRegister, ClassicalRegister\n",
    "\n",
    "t = 4 \n",
    "n = 4 \n",
    "m = 7\n",
    "\n",
    "qr=QuantumRegister(t,name=\"t\")\n",
    "ar=QuantumRegister(4,name=\"qr_U\") # aquí 1 es la dimensión del espacio en el que opera U\n",
    "cr=ClassicalRegister(t)\n",
    "\n",
    "qc = QuantumCircuit(qr,ar,cr)   \n",
    "\n",
    "qc.x(ar[0]) #  inicializamos la ancilla al autoestado de P(phi) ->  |u> = |1>\n",
    "#qpe.h(ar[0]) #  \n",
    "\n",
    "qc.h(range(n))\n",
    "qc.barrier()\n",
    "\n",
    "# aplicamos los operadores controlados c-U^j \n",
    "for q in range(t):\n",
    "    qc.append(c_amod15(m, 2**q), [qr[q]] + ar[:])\n",
    "\n",
    "\n",
    "qc.barrier()\n",
    "\n",
    "# aplicamos la QFT^-1 que está definida en macro.py \n",
    "qc.append(TFC_adj(t),qr)\n",
    "\n",
    "# podemos hacerlo usando la librería de qiskit \n",
    "#from qiskit.circuit.library import QFT\n",
    "#qpe.append(QFT(len(qr),do_swaps=True).inverse(),qr)\n",
    "\n",
    "\n",
    "qc.measure(qr,cr)\n",
    "\n",
    "qc.draw(output=\"mpl\")"
   ]
  },
  {
   "cell_type": "code",
   "execution_count": 15,
   "metadata": {
    "slideshow": {
     "slide_type": "-"
    }
   },
   "outputs": [
    {
     "ename": "QiskitError",
     "evalue": "'No counts for experiment \"0\"'",
     "output_type": "error",
     "traceback": [
      "\u001b[0;31m---------------------------------------------------------------------------\u001b[0m",
      "\u001b[0;31mQiskitError\u001b[0m                               Traceback (most recent call last)",
      "Cell \u001b[0;32mIn[15], line 5\u001b[0m\n\u001b[1;32m      2\u001b[0m M_simulator \u001b[38;5;241m=\u001b[39m Aer\u001b[38;5;241m.\u001b[39mget_backend(\u001b[38;5;124m'\u001b[39m\u001b[38;5;124mqasm_simulator\u001b[39m\u001b[38;5;124m'\u001b[39m)\n\u001b[1;32m      4\u001b[0m job \u001b[38;5;241m=\u001b[39m execute(qc,M_simulator,shots \u001b[38;5;241m=\u001b[39m \u001b[38;5;241m1024\u001b[39m)\n\u001b[0;32m----> 5\u001b[0m counts \u001b[38;5;241m=\u001b[39m \u001b[43mjob\u001b[49m\u001b[38;5;241;43m.\u001b[39;49m\u001b[43mresult\u001b[49m\u001b[43m(\u001b[49m\u001b[43m)\u001b[49m\u001b[38;5;241;43m.\u001b[39;49m\u001b[43mget_counts\u001b[49m\u001b[43m(\u001b[49m\u001b[43m)\u001b[49m\n\u001b[1;32m      6\u001b[0m counts\n\u001b[1;32m      8\u001b[0m \u001b[38;5;28;01mfrom\u001b[39;00m \u001b[38;5;21;01mqiskit\u001b[39;00m\u001b[38;5;21;01m.\u001b[39;00m\u001b[38;5;21;01mvisualization\u001b[39;00m \u001b[38;5;28;01mimport\u001b[39;00m plot_histogram\n",
      "File \u001b[0;32m~/Programs/miniconda/miniconda3/envs/qiskit_qibo_penny/lib/python3.11/site-packages/qiskit/result/result.py:289\u001b[0m, in \u001b[0;36mResult.get_counts\u001b[0;34m(self, experiment)\u001b[0m\n\u001b[1;32m    287\u001b[0m         dict_list\u001b[38;5;241m.\u001b[39mappend(statevector\u001b[38;5;241m.\u001b[39mStatevector(vec)\u001b[38;5;241m.\u001b[39mprobabilities_dict(decimals\u001b[38;5;241m=\u001b[39m\u001b[38;5;241m15\u001b[39m))\n\u001b[1;32m    288\u001b[0m     \u001b[38;5;28;01melse\u001b[39;00m:\n\u001b[0;32m--> 289\u001b[0m         \u001b[38;5;28;01mraise\u001b[39;00m QiskitError(\u001b[38;5;124mf\u001b[39m\u001b[38;5;124m'\u001b[39m\u001b[38;5;124mNo counts for experiment \u001b[39m\u001b[38;5;124m\"\u001b[39m\u001b[38;5;132;01m{\u001b[39;00m\u001b[38;5;28mrepr\u001b[39m(key)\u001b[38;5;132;01m}\u001b[39;00m\u001b[38;5;124m\"\u001b[39m\u001b[38;5;124m'\u001b[39m)\n\u001b[1;32m    291\u001b[0m \u001b[38;5;66;03m# Return first item of dict_list if size is 1\u001b[39;00m\n\u001b[1;32m    292\u001b[0m \u001b[38;5;28;01mif\u001b[39;00m \u001b[38;5;28mlen\u001b[39m(dict_list) \u001b[38;5;241m==\u001b[39m \u001b[38;5;241m1\u001b[39m:\n",
      "\u001b[0;31mQiskitError\u001b[0m: 'No counts for experiment \"0\"'"
     ]
    }
   ],
   "source": [
    "from qiskit import Aer, execute\n",
    "M_simulator = Aer.get_backend('qasm_simulator')\n",
    "\n",
    "job = execute(qc,M_simulator,shots = 1024)\n",
    "counts = job.result().get_counts()\n",
    "counts\n",
    "\n",
    "from qiskit.visualization import plot_histogram\n",
    "plot_histogram(counts)"
   ]
  },
  {
   "cell_type": "code",
   "execution_count": 16,
   "metadata": {
    "slideshow": {
     "slide_type": "-"
    }
   },
   "outputs": [
    {
     "ename": "NameError",
     "evalue": "name 'counts' is not defined",
     "output_type": "error",
     "traceback": [
      "\u001b[0;31m---------------------------------------------------------------------------\u001b[0m",
      "\u001b[0;31mNameError\u001b[0m                                 Traceback (most recent call last)",
      "Cell \u001b[0;32mIn[16], line 1\u001b[0m\n\u001b[0;32m----> 1\u001b[0m Ns_list \u001b[38;5;241m=\u001b[39m \u001b[38;5;28msorted\u001b[39m([\u001b[38;5;28mint\u001b[39m(keys,\u001b[38;5;241m2\u001b[39m) \u001b[38;5;28;01mfor\u001b[39;00m  keys \u001b[38;5;129;01min\u001b[39;00m \u001b[43mcounts\u001b[49m])[\u001b[38;5;241m1\u001b[39m:] \n\u001b[1;32m      2\u001b[0m \u001b[38;5;28mprint\u001b[39m(\u001b[38;5;124m'\u001b[39m\u001b[38;5;124m[2^ts/r] ~ \u001b[39m\u001b[38;5;124m'\u001b[39m, Ns_list)\n\u001b[1;32m      4\u001b[0m \u001b[38;5;66;03m# dividiendo por 2**t\u001b[39;00m\n",
      "\u001b[0;31mNameError\u001b[0m: name 'counts' is not defined"
     ]
    }
   ],
   "source": [
    "Ns_list = sorted([int(keys,2) for  keys in counts])[1:] \n",
    "print('[2^ts/r] ~ ', Ns_list)\n",
    "\n",
    "# dividiendo por 2**t\n",
    "phis_list = [Ns_list[i]/2**t for i in range(len(Ns_list))]\n",
    "print('phi_s', phis_list)\n"
   ]
  },
  {
   "cell_type": "code",
   "execution_count": 17,
   "metadata": {
    "slideshow": {
     "slide_type": "-"
    }
   },
   "outputs": [
    {
     "ename": "NameError",
     "evalue": "name 'phis_list' is not defined",
     "output_type": "error",
     "traceback": [
      "\u001b[0;31m---------------------------------------------------------------------------\u001b[0m",
      "\u001b[0;31mNameError\u001b[0m                                 Traceback (most recent call last)",
      "Cell \u001b[0;32mIn[17], line 1\u001b[0m\n\u001b[0;32m----> 1\u001b[0m differences \u001b[38;5;241m=\u001b[39m [\u001b[38;5;28mint\u001b[39m((phis_list[s\u001b[38;5;241m+\u001b[39m\u001b[38;5;241m1\u001b[39m]\u001b[38;5;241m-\u001b[39mphis_list[s])\u001b[38;5;241m*\u001b[39m\u001b[38;5;241m*\u001b[39m(\u001b[38;5;241m-\u001b[39m\u001b[38;5;241m1\u001b[39m)) \u001b[38;5;28;01mfor\u001b[39;00m s \u001b[38;5;129;01min\u001b[39;00m \u001b[38;5;28mrange\u001b[39m(\u001b[38;5;28mlen\u001b[39m(\u001b[43mphis_list\u001b[49m)\u001b[38;5;241m-\u001b[39m\u001b[38;5;241m1\u001b[39m)]\n\u001b[1;32m      3\u001b[0m \u001b[38;5;28mprint\u001b[39m(differences)\n\u001b[1;32m      5\u001b[0m \u001b[38;5;28mprint\u001b[39m(\u001b[38;5;124m'\u001b[39m\u001b[38;5;124mel valor entero del promedio =\u001b[39m\u001b[38;5;124m'\u001b[39m, \u001b[38;5;28mint\u001b[39m(\u001b[38;5;28msum\u001b[39m(differences)\u001b[38;5;241m/\u001b[39m\u001b[38;5;28mlen\u001b[39m(differences)))\n",
      "\u001b[0;31mNameError\u001b[0m: name 'phis_list' is not defined"
     ]
    }
   ],
   "source": [
    "differences = [int((phis_list[s+1]-phis_list[s])**(-1)) for s in range(len(phis_list)-1)]\n",
    "\n",
    "print(differences)\n",
    "\n",
    "print('el valor entero del promedio =', int(sum(differences)/len(differences)))"
   ]
  },
  {
   "cell_type": "code",
   "execution_count": 18,
   "metadata": {
    "slideshow": {
     "slide_type": "-"
    }
   },
   "outputs": [
    {
     "ename": "NameError",
     "evalue": "name 'phis_list' is not defined",
     "output_type": "error",
     "traceback": [
      "\u001b[0;31m---------------------------------------------------------------------------\u001b[0m",
      "\u001b[0;31mNameError\u001b[0m                                 Traceback (most recent call last)",
      "Cell \u001b[0;32mIn[18], line 2\u001b[0m\n\u001b[1;32m      1\u001b[0m \u001b[38;5;28;01mfrom\u001b[39;00m \u001b[38;5;21;01mfractions\u001b[39;00m \u001b[38;5;28;01mimport\u001b[39;00m Fraction\n\u001b[0;32m----> 2\u001b[0m \u001b[38;5;28mprint\u001b[39m(\u001b[38;5;124m'\u001b[39m\u001b[38;5;124m[s/r]=\u001b[39m\u001b[38;5;124m'\u001b[39m,[Fraction(phis_list[i])\u001b[38;5;241m.\u001b[39mlimit_denominator(\u001b[38;5;241m20\u001b[39m) \u001b[38;5;28;01mfor\u001b[39;00m i \u001b[38;5;129;01min\u001b[39;00m \u001b[38;5;28mrange\u001b[39m(\u001b[38;5;28mint\u001b[39m(\u001b[38;5;28mlen\u001b[39m(\u001b[43mphis_list\u001b[49m)))])\n",
      "\u001b[0;31mNameError\u001b[0m: name 'phis_list' is not defined"
     ]
    }
   ],
   "source": [
    "from fractions import Fraction\n",
    "print('[s/r]=',[Fraction(phis_list[i]).limit_denominator(20) for i in range(int(len(phis_list)))])"
   ]
  }
 ],
 "metadata": {
  "celltoolbar": "Tags",
  "kernelspec": {
   "display_name": "Python 3 (ipykernel)",
   "language": "python",
   "name": "python3"
  },
  "language_info": {
   "codemirror_mode": {
    "name": "ipython",
    "version": 3
   },
   "file_extension": ".py",
   "mimetype": "text/x-python",
   "name": "python",
   "nbconvert_exporter": "python",
   "pygments_lexer": "ipython3",
   "version": "3.11.7"
  },
  "toc": {
   "base_numbering": 1,
   "nav_menu": {},
   "number_sections": true,
   "sideBar": true,
   "skip_h1_title": false,
   "title_cell": "Table of Contents",
   "title_sidebar": "Contents",
   "toc_cell": false,
   "toc_position": {},
   "toc_section_display": true,
   "toc_window_display": false
  },
  "varInspector": {
   "cols": {
    "lenName": 16,
    "lenType": 16,
    "lenVar": 40
   },
   "kernels_config": {
    "python": {
     "delete_cmd_postfix": "",
     "delete_cmd_prefix": "del ",
     "library": "var_list.py",
     "varRefreshCmd": "print(var_dic_list())"
    },
    "r": {
     "delete_cmd_postfix": ") ",
     "delete_cmd_prefix": "rm(",
     "library": "var_list.r",
     "varRefreshCmd": "cat(var_dic_list()) "
    }
   },
   "types_to_exclude": [
    "module",
    "function",
    "builtin_function_or_method",
    "instance",
    "_Feature"
   ],
   "window_display": false
  }
 },
 "nbformat": 4,
 "nbformat_minor": 4
}