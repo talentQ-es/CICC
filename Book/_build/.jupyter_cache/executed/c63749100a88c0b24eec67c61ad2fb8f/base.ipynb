{
 "cells": [
  {
   "cell_type": "code",
   "execution_count": 1,
   "id": "26f3c88f",
   "metadata": {
    "slideshow": {
     "slide_type": "-"
    },
    "tags": [
     "hide-input"
    ]
   },
   "outputs": [
    {
     "ename": "ModuleNotFoundError",
     "evalue": "No module named 'qiskit.tools'",
     "output_type": "error",
     "traceback": [
      "\u001b[0;31m---------------------------------------------------------------------------\u001b[0m",
      "\u001b[0;31mModuleNotFoundError\u001b[0m                       Traceback (most recent call last)",
      "Cell \u001b[0;32mIn[1], line 10\u001b[0m\n\u001b[1;32m      8\u001b[0m \u001b[38;5;28;01mfrom\u001b[39;00m \u001b[38;5;21;01mIPython\u001b[39;00m\u001b[38;5;21;01m.\u001b[39;00m\u001b[38;5;21;01mdisplay\u001b[39;00m \u001b[38;5;28;01mimport\u001b[39;00m display,Markdown,Latex\n\u001b[1;32m      9\u001b[0m \u001b[38;5;28;01mimport\u001b[39;00m \u001b[38;5;21;01mmatplotlib\u001b[39;00m\u001b[38;5;21;01m.\u001b[39;00m\u001b[38;5;21;01mpyplot\u001b[39;00m \u001b[38;5;28;01mas\u001b[39;00m \u001b[38;5;21;01mplt\u001b[39;00m\n\u001b[0;32m---> 10\u001b[0m \u001b[38;5;28;01mfrom\u001b[39;00m \u001b[38;5;21;01mqiskit\u001b[39;00m\u001b[38;5;21;01m.\u001b[39;00m\u001b[38;5;21;01mtools\u001b[39;00m\u001b[38;5;21;01m.\u001b[39;00m\u001b[38;5;21;01mvisualization\u001b[39;00m \u001b[38;5;28;01mimport\u001b[39;00m array_to_latex\n",
      "\u001b[0;31mModuleNotFoundError\u001b[0m: No module named 'qiskit.tools'"
     ]
    }
   ],
   "source": [
    "%run ../../macro_tQ.py\n",
    "import sys\n",
    "sys.path.append('../../')\n",
    "import macro_tQ as tQ\n",
    "\n",
    "import numpy as np\n",
    "import scipy.linalg as la\n",
    "from IPython.display import display,Markdown,Latex\n",
    "import matplotlib.pyplot as plt\n",
    "from qiskit.tools.visualization import array_to_latex"
   ]
  },
  {
   "cell_type": "code",
   "execution_count": 2,
   "id": "7124247a",
   "metadata": {
    "slideshow": {
     "slide_type": "slide"
    }
   },
   "outputs": [
    {
     "data": {
      "text/latex": [
       "$$\n",
       "\n",
       "\\begin{bmatrix}\n",
       "-0.8982949174 - 2.7026169327 i & 0.124133033 - 0.657709629 i & -0.1677657125 + 1.6032937382 i  \\\\\n",
       " 0.6881901319 - 1.1892088562 i & -1.0122744883 - 1.5750017572 i & 0.3555289239 - 2.4690459313 i  \\\\\n",
       " 0.4472886136 - 0.0255183754 i & 0.2026413535 + 0.9985924138 i & 0.5650013819 + 0.4434425234 i  \\\\\n",
       " 1.4847474448 + 0.6102776767 i & -0.0931054856 - 0.2593715094 i & 1.5280467629 - 0.2176809518 i  \\\\\n",
       " \\end{bmatrix}\n",
       "$$"
      ],
      "text/plain": [
       "<IPython.core.display.Latex object>"
      ]
     },
     "metadata": {},
     "output_type": "display_data"
    },
    {
     "name": "stdout",
     "output_type": "stream",
     "text": [
      "valores principales s_i =  [4.216 3.155 1.353]\n",
      "El número de Schmidt es r = 3\n"
     ]
    }
   ],
   "source": [
    "'Veamos el caso genérico'\n",
    "\n",
    "d1=4 # Dimensión de H1\n",
    "d2=3 # Dimensión de H2\n",
    "\n",
    "' generamos una matriz aleatoria compleja '\n",
    "w = np.random.randn(d1,d2)+ np.random.randn(d1,d2) * 1j  # coeficientes w_{ia} de un estado genérico\n",
    "display(array_to_latex(w))\n",
    "\n",
    "' efectuamos las descomposición SVD'\n",
    "u, s, vh = np.linalg.svd(w, full_matrices=True)\n",
    "\n",
    "np.round(s,3)\n",
    "\n",
    "print('valores principales s_i = ',np.round(s,3))\n",
    "print('El número de Schmidt es r =', np.count_nonzero(s))"
   ]
  },
  {
   "cell_type": "code",
   "execution_count": 3,
   "id": "1b0877bb",
   "metadata": {
    "slideshow": {
     "slide_type": "slide"
    }
   },
   "outputs": [
    {
     "data": {
      "text/latex": [
       "$$\n",
       "\n",
       "\\begin{bmatrix}\n",
       "0.1500817572 - 0.1585867304 i & -0.0924520197 + 0.1613271667 i & -0.0565991242 + 0.1211630762 i  \\\\\n",
       " 0.1064148224 + 0.2707524358 i & -0.1423187892 - 0.2027820018 i & -0.114147677 - 0.1368128328 i  \\\\\n",
       " -0.0049205828 - 0.2400766685 i & 0.0521673535 + 0.1977242256 i & 0.049231814 + 0.1385874541 i  \\\\\n",
       " 0.0447914363 - 0.1259545835 i & -0.0118410811 + 0.1132249057 i & -0.001705096 + 0.0818592609 i  \\\\\n",
       " 0.5144520128 - 0.0601336359 i & -0.4137621493 + 0.1528325344 i & -0.2873958481 + 0.1343196673 i  \\\\\n",
       " \\end{bmatrix}\n",
       "$$"
      ],
      "text/plain": [
       "<IPython.core.display.Latex object>"
      ]
     },
     "metadata": {},
     "output_type": "display_data"
    },
    {
     "name": "stdout",
     "output_type": "stream",
     "text": [
      "principal values s_i =  [1. 0. 0.]\n",
      "The Schmidt number is p = 1\n"
     ]
    }
   ],
   "source": [
    "'Veamos ahora el caso particular de un estado factorizable'\n",
    "\n",
    "d1=5\n",
    "d2=3\n",
    "\n",
    "' create two random vectors '\n",
    "u = tQ.random_ket(d1)\n",
    "v = tQ.random_ket(d2)\n",
    "\n",
    "w = np.outer(u,v)\n",
    "display(array_to_latex(w))\n",
    "\n",
    "' SVG decomposition '\n",
    "u, s, vh = np.linalg.svd(w, full_matrices=True)\n",
    "\n",
    "print('principal values s_i = ',np.round(s,3))\n",
    "print('The Schmidt number is p =', np.count_nonzero(np.round(s,3)))"
   ]
  }
 ],
 "metadata": {
  "kernelspec": {
   "display_name": "Python 3 (ipykernel)",
   "language": "python",
   "name": "python3"
  },
  "language_info": {
   "codemirror_mode": {
    "name": "ipython",
    "version": 3
   },
   "file_extension": ".py",
   "mimetype": "text/x-python",
   "name": "python",
   "nbconvert_exporter": "python",
   "pygments_lexer": "ipython3",
   "version": "3.11.7"
  },
  "nbTranslate": {
   "displayLangs": [
    "*"
   ],
   "hotkey": "alt-t",
   "langInMainMenu": true,
   "sourceLang": "en",
   "targetLang": "fr",
   "useGoogleTranslate": true
  },
  "toc": {
   "base_numbering": 1,
   "nav_menu": {},
   "number_sections": true,
   "sideBar": true,
   "skip_h1_title": true,
   "title_cell": "Table of Contents",
   "title_sidebar": "Contents",
   "toc_cell": false,
   "toc_position": {
    "height": "calc(100% - 180px)",
    "left": "10px",
    "top": "150px",
    "width": "414.053px"
   },
   "toc_section_display": true,
   "toc_window_display": false
  },
  "varInspector": {
   "cols": {
    "lenName": 16,
    "lenType": 16,
    "lenVar": 40
   },
   "kernels_config": {
    "python": {
     "delete_cmd_postfix": "",
     "delete_cmd_prefix": "del ",
     "library": "var_list.py",
     "varRefreshCmd": "print(var_dic_list())"
    },
    "r": {
     "delete_cmd_postfix": ") ",
     "delete_cmd_prefix": "rm(",
     "library": "var_list.r",
     "varRefreshCmd": "cat(var_dic_list()) "
    }
   },
   "types_to_exclude": [
    "module",
    "function",
    "builtin_function_or_method",
    "instance",
    "_Feature"
   ],
   "window_display": false
  }
 },
 "nbformat": 4,
 "nbformat_minor": 5
}