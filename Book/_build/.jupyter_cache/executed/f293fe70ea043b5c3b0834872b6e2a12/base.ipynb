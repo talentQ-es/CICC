{
 "cells": [
  {
   "cell_type": "code",
   "execution_count": 1,
   "id": "26f3c88f",
   "metadata": {
    "slideshow": {
     "slide_type": "-"
    },
    "tags": [
     "hide-input"
    ]
   },
   "outputs": [],
   "source": [
    "%run ../../macro_tQ.py\n",
    "import sys\n",
    "sys.path.append('../../')\n",
    "import macro_tQ as tQ\n",
    "\n",
    "import numpy as np\n",
    "import scipy.linalg as la\n",
    "from IPython.display import display,Markdown,Latex\n",
    "import matplotlib.pyplot as plt\n",
    "from qiskit.visualization import array_to_latex"
   ]
  },
  {
   "cell_type": "code",
   "execution_count": 2,
   "id": "7124247a",
   "metadata": {
    "slideshow": {
     "slide_type": "slide"
    }
   },
   "outputs": [
    {
     "data": {
      "text/latex": [
       "$$\n",
       "\n",
       "\\begin{bmatrix}\n",
       "-1.3896636367 + 0.5302254957 i & -0.7608826176 + 1.0708246376 i & -1.0978246021 - 0.6890633895 i  \\\\\n",
       " -0.7225310549 + 0.8296570057 i & -1.0563594361 + 0.9877826751 i & 1.6622711527 - 0.4317954785 i  \\\\\n",
       " -0.622093338 + 1.2521929254 i & 0.048530325 + 0.1344251948 i & -2.443265336 - 0.0386277221 i  \\\\\n",
       " 0.0779504345 + 1.0006217707 i & 2.6915235297 - 0.5890565523 i & 1.6128871997 - 0.7903222963 i  \\\\\n",
       " \\end{bmatrix}\n",
       "$$"
      ],
      "text/plain": [
       "<IPython.core.display.Latex object>"
      ]
     },
     "metadata": {},
     "output_type": "display_data"
    },
    {
     "name": "stdout",
     "output_type": "stream",
     "text": [
      "valores principales s_i =  [4.007 3.584 1.656]\n",
      "El número de Schmidt es r = 3\n"
     ]
    }
   ],
   "source": [
    "'Veamos el caso genérico'\n",
    "\n",
    "d1=4 # Dimensión de H1\n",
    "d2=3 # Dimensión de H2\n",
    "\n",
    "' generamos una matriz aleatoria compleja '\n",
    "w = np.random.randn(d1,d2)+ np.random.randn(d1,d2) * 1j  # coeficientes w_{ia} de un estado genérico\n",
    "display(array_to_latex(w))\n",
    "\n",
    "' efectuamos las descomposición SVD'\n",
    "u, s, vh = np.linalg.svd(w, full_matrices=True)\n",
    "\n",
    "np.round(s,3)\n",
    "\n",
    "print('valores principales s_i = ',np.round(s,3))\n",
    "print('El número de Schmidt es r =', np.count_nonzero(s))"
   ]
  },
  {
   "cell_type": "code",
   "execution_count": 3,
   "id": "1b0877bb",
   "metadata": {
    "slideshow": {
     "slide_type": "slide"
    }
   },
   "outputs": [
    {
     "data": {
      "text/latex": [
       "$$\n",
       "\n",
       "\\begin{bmatrix}\n",
       "0.0948560128 + 0.0280131079 i & -0.03382486 + 0.1250161031 i & -0.2146224742 + 0.0625721777 i  \\\\\n",
       " 0.191496 + 0.070151258 i & -0.0860871724 + 0.2527915283 i & -0.449889351 + 0.1004584087 i  \\\\\n",
       " -0.0099293575 + 0.1103348336 i & -0.144736574 - 0.0096869834 i & -0.1158709579 - 0.2219757106 i  \\\\\n",
       " -0.0554458803 - 0.1737683927 i & 0.2258149047 - 0.0777991127 i & 0.3176834511 + 0.2627765111 i  \\\\\n",
       " -0.095056773 - 0.147871959 i & 0.1907252249 - 0.12887623 i & 0.3613921824 + 0.1651452318 i  \\\\\n",
       " \\end{bmatrix}\n",
       "$$"
      ],
      "text/plain": [
       "<IPython.core.display.Latex object>"
      ]
     },
     "metadata": {},
     "output_type": "display_data"
    },
    {
     "name": "stdout",
     "output_type": "stream",
     "text": [
      "principal values s_i =  [1. 0. 0.]\n",
      "The Schmidt number is p = 1\n"
     ]
    }
   ],
   "source": [
    "'Veamos ahora el caso particular de un estado factorizable'\n",
    "\n",
    "d1=5\n",
    "d2=3\n",
    "\n",
    "' create two random vectors '\n",
    "u = tQ.random_ket(d1)\n",
    "v = tQ.random_ket(d2)\n",
    "\n",
    "w = np.outer(u,v)\n",
    "display(array_to_latex(w))\n",
    "\n",
    "' SVG decomposition '\n",
    "u, s, vh = np.linalg.svd(w, full_matrices=True)\n",
    "\n",
    "print('principal values s_i = ',np.round(s,3))\n",
    "print('The Schmidt number is p =', np.count_nonzero(np.round(s,3)))"
   ]
  }
 ],
 "metadata": {
  "kernelspec": {
   "display_name": "Python 3 (ipykernel)",
   "language": "python",
   "name": "python3"
  },
  "language_info": {
   "codemirror_mode": {
    "name": "ipython",
    "version": 3
   },
   "file_extension": ".py",
   "mimetype": "text/x-python",
   "name": "python",
   "nbconvert_exporter": "python",
   "pygments_lexer": "ipython3",
   "version": "3.11.7"
  },
  "nbTranslate": {
   "displayLangs": [
    "*"
   ],
   "hotkey": "alt-t",
   "langInMainMenu": true,
   "sourceLang": "en",
   "targetLang": "fr",
   "useGoogleTranslate": true
  },
  "toc": {
   "base_numbering": 1,
   "nav_menu": {},
   "number_sections": true,
   "sideBar": true,
   "skip_h1_title": true,
   "title_cell": "Table of Contents",
   "title_sidebar": "Contents",
   "toc_cell": false,
   "toc_position": {
    "height": "calc(100% - 180px)",
    "left": "10px",
    "top": "150px",
    "width": "414.053px"
   },
   "toc_section_display": true,
   "toc_window_display": false
  },
  "varInspector": {
   "cols": {
    "lenName": 16,
    "lenType": 16,
    "lenVar": 40
   },
   "kernels_config": {
    "python": {
     "delete_cmd_postfix": "",
     "delete_cmd_prefix": "del ",
     "library": "var_list.py",
     "varRefreshCmd": "print(var_dic_list())"
    },
    "r": {
     "delete_cmd_postfix": ") ",
     "delete_cmd_prefix": "rm(",
     "library": "var_list.r",
     "varRefreshCmd": "cat(var_dic_list()) "
    }
   },
   "types_to_exclude": [
    "module",
    "function",
    "builtin_function_or_method",
    "instance",
    "_Feature"
   ],
   "window_display": false
  }
 },
 "nbformat": 4,
 "nbformat_minor": 5
}