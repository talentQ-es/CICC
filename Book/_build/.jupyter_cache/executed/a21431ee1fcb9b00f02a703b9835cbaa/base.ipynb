{
 "cells": [
  {
   "cell_type": "code",
   "execution_count": 1,
   "id": "deca5f72",
   "metadata": {
    "slideshow": {
     "slide_type": "-"
    },
    "tags": [
     "hide-input"
    ]
   },
   "outputs": [],
   "source": [
    "%run ../../macro_tQ.py\n",
    "import sys\n",
    "sys.path.append('../../')\n",
    "import macro_tQ as tQ\n",
    "\n",
    "import numpy as np\n",
    "import scipy.linalg as la\n",
    "from IPython.display import display,Markdown,Latex\n",
    "import matplotlib.pyplot as plt\n",
    "from qiskit.visualization import array_to_latex"
   ]
  },
  {
   "cell_type": "code",
   "execution_count": 2,
   "id": "0748c75f",
   "metadata": {
    "slideshow": {
     "slide_type": "skip"
    }
   },
   "outputs": [
    {
     "data": {
      "image/png": "[encoded data removed]",
      "text/plain": [
       "<Figure size 221.914x451.5 with 1 Axes>"
      ]
     },
     "execution_count": 2,
     "metadata": {},
     "output_type": "execute_result"
    }
   ],
   "source": [
    "from qiskit import QuantumCircuit, QuantumRegister, ClassicalRegister\n",
    "from qiskit.circuit.library import SwapGate, XGate\n",
    "\n",
    "qr = QuantumRegister(5)\n",
    "\n",
    "qc = QuantumCircuit(qr)\n",
    "\n",
    "gateMCX = XGate().control(4,ctrl_state= 3) # puerta X 4-veces controlada\n",
    "gateMCSWAP = SwapGate().control(3,ctrl_state= 4) # puerta SWAP 3 veces controlada\n",
    "\n",
    "\n",
    "qc.append(gateMCX,[0,1,2,3,4])    \n",
    "#qc.append(gateMCSWAP,[0,1,2,3,4])    \n",
    "\n",
    "\n",
    "qc.draw('mpl')"
   ]
  },
  {
   "cell_type": "code",
   "execution_count": 3,
   "id": "89e15078",
   "metadata": {
    "slideshow": {
     "slide_type": "slide"
    }
   },
   "outputs": [
    {
     "ename": "ModuleNotFoundError",
     "evalue": "No module named 'qiskit_aer'",
     "output_type": "error",
     "traceback": [
      "\u001b[0;31m---------------------------------------------------------------------------\u001b[0m",
      "\u001b[0;31mModuleNotFoundError\u001b[0m                       Traceback (most recent call last)",
      "Cell \u001b[0;32mIn[3], line 2\u001b[0m\n\u001b[1;32m      1\u001b[0m \u001b[38;5;28;01mfrom\u001b[39;00m \u001b[38;5;21;01mqiskit\u001b[39;00m \u001b[38;5;28;01mimport\u001b[39;00m QuantumCircuit\n\u001b[0;32m----> 2\u001b[0m \u001b[38;5;28;01mfrom\u001b[39;00m \u001b[38;5;21;01mqiskit_aer\u001b[39;00m \u001b[38;5;28;01mimport\u001b[39;00m StatevectorSimulator\n\u001b[1;32m      4\u001b[0m \u001b[38;5;124m'\u001b[39m\u001b[38;5;124m create the circuit \u001b[39m\u001b[38;5;124m'\u001b[39m\n\u001b[1;32m      5\u001b[0m qc \u001b[38;5;241m=\u001b[39m QuantumCircuit(\u001b[38;5;241m2\u001b[39m,\u001b[38;5;241m0\u001b[39m)    \n",
      "\u001b[0;31mModuleNotFoundError\u001b[0m: No module named 'qiskit_aer'"
     ]
    }
   ],
   "source": [
    "from qiskit import QuantumCircuit\n",
    "from qiskit_aer import StatevectorSimulator\n",
    "\n",
    "' create the circuit '\n",
    "qc = QuantumCircuit(2,0)    \n",
    "#qc.x(0)\n",
    "#qc.x(1)\n",
    "\n",
    "qc.h(0)\n",
    "qc.cx(0,1)\n",
    "display(qc.draw('mpl'))\n",
    "\n",
    "\n",
    "' execute in mode statevector_simulator '\n",
    "Bell_state = StatevectorSimulator().run(qc).result().get_statevector(decimals=5)\n",
    "\n",
    "\n",
    "from qiskit.quantum_info import Statevector\n",
    "Statevector(Bell_state).draw('latex')"
   ]
  },
  {
   "cell_type": "code",
   "execution_count": 4,
   "id": "57cd9f01",
   "metadata": {
    "slideshow": {
     "slide_type": "skip"
    }
   },
   "outputs": [
    {
     "ename": "NameError",
     "evalue": "name 'Statevector' is not defined",
     "output_type": "error",
     "traceback": [
      "\u001b[0;31m---------------------------------------------------------------------------\u001b[0m",
      "\u001b[0;31mNameError\u001b[0m                                 Traceback (most recent call last)",
      "Cell \u001b[0;32mIn[4], line 2\u001b[0m\n\u001b[1;32m      1\u001b[0m \u001b[38;5;124m'\u001b[39m\u001b[38;5;124m the Bell state cannot be drawn on Bloch spheres\u001b[39m\u001b[38;5;124m'\u001b[39m\n\u001b[0;32m----> 2\u001b[0m Statevector(Bell_state)\u001b[38;5;241m.\u001b[39mdraw(\u001b[38;5;124m'\u001b[39m\u001b[38;5;124mBloch\u001b[39m\u001b[38;5;124m'\u001b[39m)\n",
      "\u001b[0;31mNameError\u001b[0m: name 'Statevector' is not defined"
     ]
    }
   ],
   "source": [
    "' the Bell state cannot be drawn on Bloch spheres'\n",
    "Statevector(Bell_state).draw('Bloch')"
   ]
  }
 ],
 "metadata": {
  "celltoolbar": "Tags",
  "kernelspec": {
   "display_name": "Python 3 (ipykernel)",
   "language": "python",
   "name": "python3"
  },
  "language_info": {
   "codemirror_mode": {
    "name": "ipython",
    "version": 3
   },
   "file_extension": ".py",
   "mimetype": "text/x-python",
   "name": "python",
   "nbconvert_exporter": "python",
   "pygments_lexer": "ipython3",
   "version": "3.11.7"
  },
  "nbTranslate": {
   "displayLangs": [
    "*"
   ],
   "hotkey": "alt-t",
   "langInMainMenu": true,
   "sourceLang": "en",
   "targetLang": "fr",
   "useGoogleTranslate": true
  },
  "toc": {
   "base_numbering": 1,
   "nav_menu": {},
   "number_sections": true,
   "sideBar": true,
   "skip_h1_title": true,
   "title_cell": "Table of Contents",
   "title_sidebar": "Contents",
   "toc_cell": false,
   "toc_position": {
    "height": "calc(100% - 180px)",
    "left": "10px",
    "top": "150px",
    "width": "414.053px"
   },
   "toc_section_display": true,
   "toc_window_display": false
  },
  "varInspector": {
   "cols": {
    "lenName": 16,
    "lenType": 16,
    "lenVar": 40
   },
   "kernels_config": {
    "python": {
     "delete_cmd_postfix": "",
     "delete_cmd_prefix": "del ",
     "library": "var_list.py",
     "varRefreshCmd": "print(var_dic_list())"
    },
    "r": {
     "delete_cmd_postfix": ") ",
     "delete_cmd_prefix": "rm(",
     "library": "var_list.r",
     "varRefreshCmd": "cat(var_dic_list()) "
    }
   },
   "types_to_exclude": [
    "module",
    "function",
    "builtin_function_or_method",
    "instance",
    "_Feature"
   ],
   "window_display": false
  }
 },
 "nbformat": 4,
 "nbformat_minor": 5
}