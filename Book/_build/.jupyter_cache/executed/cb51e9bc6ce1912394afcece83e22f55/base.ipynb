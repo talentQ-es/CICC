{
 "cells": [
  {
   "cell_type": "code",
   "execution_count": 1,
   "id": "83bb8763",
   "metadata": {
    "slideshow": {
     "slide_type": "slide"
    }
   },
   "outputs": [],
   "source": [
    "%run ../../macro_tQ.py\n",
    "import sys\n",
    "sys.path.append('../../')\n",
    "import macro_tQ as tQ\n",
    "import numpy as np\n",
    "from qiskit.visualization import array_to_latex"
   ]
  },
  {
   "cell_type": "code",
   "execution_count": 2,
   "id": "02fe5e08-3d16-48c3-8750-a0f0aaf5d8cf",
   "metadata": {
    "tags": [
     "remove_input"
    ]
   },
   "outputs": [
    {
     "ename": "ImportError",
     "evalue": "cannot import name 'Circuit' from 'qibo' (/Users/javier/opt/anaconda3/envs/TalentQ/lib/python3.11/site-packages/qibo/__init__.py)",
     "output_type": "error",
     "traceback": [
      "\u001b[0;31m---------------------------------------------------------------------------\u001b[0m",
      "\u001b[0;31mImportError\u001b[0m                               Traceback (most recent call last)",
      "Cell \u001b[0;32mIn[2], line 4\u001b[0m\n\u001b[1;32m      1\u001b[0m \u001b[38;5;124;03m'''Qibo_code_cell'''\u001b[39;00m\n\u001b[1;32m      3\u001b[0m \u001b[38;5;28;01mimport\u001b[39;00m \u001b[38;5;21;01mnumpy\u001b[39;00m \u001b[38;5;28;01mas\u001b[39;00m \u001b[38;5;21;01mnp\u001b[39;00m\n\u001b[0;32m----> 4\u001b[0m \u001b[38;5;28;01mfrom\u001b[39;00m \u001b[38;5;21;01mqibo\u001b[39;00m \u001b[38;5;28;01mimport\u001b[39;00m Circuit, gates\n\u001b[1;32m      6\u001b[0m \u001b[38;5;66;03m# Construct the circuit\u001b[39;00m\n\u001b[1;32m      7\u001b[0m c \u001b[38;5;241m=\u001b[39m Circuit(\u001b[38;5;241m1\u001b[39m)\n",
      "\u001b[0;31mImportError\u001b[0m: cannot import name 'Circuit' from 'qibo' (/Users/javier/opt/anaconda3/envs/TalentQ/lib/python3.11/site-packages/qibo/__init__.py)"
     ]
    }
   ],
   "source": [
    "'''Qibo_code_cell'''\n",
    "\n",
    "import numpy as np\n",
    "from qibo import Circuit, gates\n",
    "\n",
    "# Construct the circuit\n",
    "c = Circuit(1)\n",
    "# Add some gates\n",
    "#c.add(gates.Y(0))\n",
    "c.add(gates.H(0))\n",
    "#c.add(gates.Z(0))\n",
    "c.add(gates.S(0))\n",
    "#c.add(gates.T(0))\n",
    "\n",
    "theta = 1.2  #rad\n",
    "phi   = 1.5\n",
    "lam = 0.3\n",
    "c.add(gates.U3(0, theta, phi, lam))\n",
    "#print(c.draw())\n",
    "\n",
    "\n",
    "tQ.draw_qibo_circuit_mpl(c)"
   ]
  },
  {
   "cell_type": "code",
   "execution_count": 3,
   "id": "4cd8ceb0",
   "metadata": {
    "slideshow": {
     "slide_type": "skip"
    }
   },
   "outputs": [
    {
     "ename": "NameError",
     "evalue": "name 'Aer' is not defined",
     "output_type": "error",
     "traceback": [
      "\u001b[0;31m---------------------------------------------------------------------------\u001b[0m",
      "\u001b[0;31mNameError\u001b[0m                                 Traceback (most recent call last)",
      "Cell \u001b[0;32mIn[3], line 1\u001b[0m\n\u001b[0;32m----> 1\u001b[0m S_simulator \u001b[38;5;241m=\u001b[39m \u001b[43mAer\u001b[49m\u001b[38;5;241m.\u001b[39mget_backend(\u001b[38;5;124m'\u001b[39m\u001b[38;5;124mstatevector_simulator\u001b[39m\u001b[38;5;124m'\u001b[39m)\n\u001b[1;32m      2\u001b[0m stateresult \u001b[38;5;241m=\u001b[39m execute(qc,S_simulator)\u001b[38;5;241m.\u001b[39mresult()  \n\u001b[1;32m      4\u001b[0m state_vector \u001b[38;5;241m=\u001b[39m stateresult\u001b[38;5;241m.\u001b[39mget_statevector(decimals\u001b[38;5;241m=\u001b[39m\u001b[38;5;241m5\u001b[39m)\n",
      "\u001b[0;31mNameError\u001b[0m: name 'Aer' is not defined"
     ]
    }
   ],
   "source": [
    "S_simulator = Aer.get_backend('statevector_simulator')\n",
    "stateresult = execute(qc,S_simulator).result()  \n",
    "\n",
    "state_vector = stateresult.get_statevector(decimals=5)\n",
    "\n",
    "# plot the state vector on the Bloch sphere\n",
    "from qiskit.tools.visualization import plot_bloch_multivector\n",
    "plot_bloch_multivector(state_vector)"
   ]
  },
  {
   "cell_type": "code",
   "execution_count": 4,
   "id": "6a8d8801",
   "metadata": {
    "slideshow": {
     "slide_type": "skip"
    }
   },
   "outputs": [
    {
     "ename": "NameError",
     "evalue": "name 'state_vector' is not defined",
     "output_type": "error",
     "traceback": [
      "\u001b[0;31m---------------------------------------------------------------------------\u001b[0m",
      "\u001b[0;31mNameError\u001b[0m                                 Traceback (most recent call last)",
      "Cell \u001b[0;32mIn[4], line 3\u001b[0m\n\u001b[1;32m      1\u001b[0m \u001b[38;5;66;03m# print the state vector\u001b[39;00m\n\u001b[1;32m      2\u001b[0m \u001b[38;5;28;01mfrom\u001b[39;00m \u001b[38;5;21;01mqiskit\u001b[39;00m\u001b[38;5;21;01m.\u001b[39;00m\u001b[38;5;21;01mquantum_info\u001b[39;00m \u001b[38;5;28;01mimport\u001b[39;00m Statevector\n\u001b[0;32m----> 3\u001b[0m Statevector(\u001b[43mstate_vector\u001b[49m)\u001b[38;5;241m.\u001b[39mdraw(\u001b[38;5;124m'\u001b[39m\u001b[38;5;124mlatex\u001b[39m\u001b[38;5;124m'\u001b[39m)\n",
      "\u001b[0;31mNameError\u001b[0m: name 'state_vector' is not defined"
     ]
    }
   ],
   "source": [
    "# print the state vector\n",
    "from qiskit.quantum_info import Statevector\n",
    "Statevector(state_vector).draw('latex')"
   ]
  },
  {
   "cell_type": "code",
   "execution_count": 5,
   "id": "243367b8",
   "metadata": {
    "slideshow": {
     "slide_type": "skip"
    }
   },
   "outputs": [
    {
     "ename": "NameError",
     "evalue": "name 'state_vector' is not defined",
     "output_type": "error",
     "traceback": [
      "\u001b[0;31m---------------------------------------------------------------------------\u001b[0m",
      "\u001b[0;31mNameError\u001b[0m                                 Traceback (most recent call last)",
      "Cell \u001b[0;32mIn[5], line 2\u001b[0m\n\u001b[1;32m      1\u001b[0m \u001b[38;5;66;03m# alternative wat to plot the state vector on the Bloch sphere\u001b[39;00m\n\u001b[0;32m----> 2\u001b[0m Statevector(\u001b[43mstate_vector\u001b[49m)\u001b[38;5;241m.\u001b[39mdraw(\u001b[38;5;124m'\u001b[39m\u001b[38;5;124mBloch\u001b[39m\u001b[38;5;124m'\u001b[39m)\n",
      "\u001b[0;31mNameError\u001b[0m: name 'state_vector' is not defined"
     ]
    }
   ],
   "source": [
    "# alternative wat to plot the state vector on the Bloch sphere\n",
    "Statevector(state_vector).draw('Bloch')"
   ]
  },
  {
   "cell_type": "code",
   "execution_count": 6,
   "id": "3f4faf90",
   "metadata": {
    "slideshow": {
     "slide_type": "skip"
    }
   },
   "outputs": [
    {
     "name": "stderr",
     "output_type": "stream",
     "text": [
      "/Users/javier/opt/anaconda3/envs/TalentQ/lib/python3.11/site-packages/qiskit/visualization/circuit/matplotlib.py:266: FutureWarning: The default matplotlib drawer scheme will be changed to \"iqp\" in a following release. To silence this warning, specify the current default explicitly as style=\"clifford\", or the new default as style=\"iqp\".\n",
      "  self._style, def_font_ratio = load_style(self._style)\n"
     ]
    },
    {
     "data": {
      "image/png": "[encoded data removed]",
      "text/plain": [
       "<Figure size 269.064x200.667 with 1 Axes>"
      ]
     },
     "execution_count": 6,
     "metadata": {},
     "output_type": "execute_result"
    }
   ],
   "source": [
    "qc=QuantumCircuit(1,1)\n",
    "\n",
    "'''aplicamos el operador TH '''\n",
    "qc.h(0)\n",
    "qc.t(0)\n",
    "\n",
    "qc.draw(output='mpl')"
   ]
  },
  {
   "cell_type": "code",
   "execution_count": 7,
   "id": "bdb707d7",
   "metadata": {
    "slideshow": {
     "slide_type": "skip"
    }
   },
   "outputs": [
    {
     "ename": "NameError",
     "evalue": "name 'Aer' is not defined",
     "output_type": "error",
     "traceback": [
      "\u001b[0;31m---------------------------------------------------------------------------\u001b[0m",
      "\u001b[0;31mNameError\u001b[0m                                 Traceback (most recent call last)",
      "Cell \u001b[0;32mIn[7], line 2\u001b[0m\n\u001b[1;32m      1\u001b[0m \u001b[38;5;66;03m### Circuit matrix representation\u001b[39;00m\n\u001b[0;32m----> 2\u001b[0m U_simulator \u001b[38;5;241m=\u001b[39m \u001b[43mAer\u001b[49m\u001b[38;5;241m.\u001b[39mget_backend(\u001b[38;5;124m'\u001b[39m\u001b[38;5;124munitary_simulator\u001b[39m\u001b[38;5;124m'\u001b[39m)\n\u001b[1;32m      3\u001b[0m job \u001b[38;5;241m=\u001b[39m execute(qc, backend \u001b[38;5;241m=\u001b[39m U_simulator)\n\u001b[1;32m      5\u001b[0m U_matrix \u001b[38;5;241m=\u001b[39m job\u001b[38;5;241m.\u001b[39mresult()\u001b[38;5;241m.\u001b[39mget_unitary()\n",
      "\u001b[0;31mNameError\u001b[0m: name 'Aer' is not defined"
     ]
    }
   ],
   "source": [
    "### Circuit matrix representation\n",
    "U_simulator = Aer.get_backend('unitary_simulator')\n",
    "job = execute(qc, backend = U_simulator)\n",
    "\n",
    "U_matrix = job.result().get_unitary()\n",
    "\n",
    "print(U_matrix)\n",
    "\n",
    "'this looks very ugly, let us use latex'\n",
    "from qiskit.tools.visualization import array_to_latex\n",
    "array_to_latex(U_matrix, prefix=\"\\\\text{Unitary matrix = }\\n\")"
   ]
  },
  {
   "cell_type": "code",
   "execution_count": 8,
   "id": "94fdbcb3",
   "metadata": {
    "slideshow": {
     "slide_type": "skip"
    }
   },
   "outputs": [
    {
     "ename": "NameError",
     "evalue": "name 'execute' is not defined",
     "output_type": "error",
     "traceback": [
      "\u001b[0;31m---------------------------------------------------------------------------\u001b[0m",
      "\u001b[0;31mNameError\u001b[0m                                 Traceback (most recent call last)",
      "Cell \u001b[0;32mIn[8], line 1\u001b[0m\n\u001b[0;32m----> 1\u001b[0m statejob\u001b[38;5;241m=\u001b[39m\u001b[43mexecute\u001b[49m(qc,S_simulator) \n\u001b[1;32m      2\u001b[0m stateresult\u001b[38;5;241m=\u001b[39mstatejob\u001b[38;5;241m.\u001b[39mresult()  \n\u001b[1;32m      4\u001b[0m \u001b[38;5;66;03m# print the state vector\u001b[39;00m\n",
      "\u001b[0;31mNameError\u001b[0m: name 'execute' is not defined"
     ]
    }
   ],
   "source": [
    "statejob=execute(qc,S_simulator) \n",
    "stateresult=statejob.result()  \n",
    "\n",
    "# print the state vector\n",
    "state_vector = stateresult.get_statevector(decimals=5)\n",
    "print(state_vector)\n",
    "\n",
    "# plot the state vector on the Bloch sphere\n",
    "from qiskit.tools.visualization import plot_bloch_multivector\n",
    "\n",
    "plot_bloch_multivector(state_vector)"
   ]
  }
 ],
 "metadata": {
  "kernelspec": {
   "display_name": "Python 3 (ipykernel)",
   "language": "python",
   "name": "python3"
  },
  "language_info": {
   "codemirror_mode": {
    "name": "ipython",
    "version": 3
   },
   "file_extension": ".py",
   "mimetype": "text/x-python",
   "name": "python",
   "nbconvert_exporter": "python",
   "pygments_lexer": "ipython3",
   "version": "3.11.7"
  },
  "toc": {
   "base_numbering": 1,
   "nav_menu": {},
   "number_sections": true,
   "sideBar": true,
   "skip_h1_title": true,
   "title_cell": "Table of Contents",
   "title_sidebar": "Contents",
   "toc_cell": false,
   "toc_position": {
    "height": "calc(100% - 180px)",
    "left": "10px",
    "top": "150px",
    "width": "414.053px"
   },
   "toc_section_display": true,
   "toc_window_display": false
  },
  "varInspector": {
   "cols": {
    "lenName": 16,
    "lenType": 16,
    "lenVar": 40
   },
   "kernels_config": {
    "python": {
     "delete_cmd_postfix": "",
     "delete_cmd_prefix": "del ",
     "library": "var_list.py",
     "varRefreshCmd": "print(var_dic_list())"
    },
    "r": {
     "delete_cmd_postfix": ") ",
     "delete_cmd_prefix": "rm(",
     "library": "var_list.r",
     "varRefreshCmd": "cat(var_dic_list()) "
    }
   },
   "types_to_exclude": [
    "module",
    "function",
    "builtin_function_or_method",
    "instance",
    "_Feature"
   ],
   "window_display": false
  }
 },
 "nbformat": 4,
 "nbformat_minor": 5
}