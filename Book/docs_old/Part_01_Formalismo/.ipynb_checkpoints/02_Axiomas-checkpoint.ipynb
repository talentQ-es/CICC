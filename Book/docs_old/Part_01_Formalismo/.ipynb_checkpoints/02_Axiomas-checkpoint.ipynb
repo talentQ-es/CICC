{
 "cells": [
  {
   "cell_type": "markdown",
   "metadata": {
    "slideshow": {
     "slide_type": "slide"
    }
   },
   "source": [
    "\n",
    "<img   src=\"../figuras/logo/TalentQ_LogoPosNegro.png\" align=center  width=\"140\"/>\n",
    "\n",
    "<table width=\"100%\">\n",
    "<td style=\"font-size:50px;font-style:italic;text-align:right;background-color:rgba(0, 160, 120,0.6)\">\n",
    "Los Axiomas \n",
    "</td></table>\n",
    "$ \\newcommand{\\bra}[1]{\\langle #1|} $\n",
    "$ \\newcommand{\\ket}[1]{|#1\\rangle} $\n",
    "$ \\newcommand{\\braket}[2]{\\langle #1|#2\\rangle} $\n",
    "$ \\newcommand{\\i}{{\\color{blue} i}} $ \n",
    "$ \\newcommand{\\Hil}{{\\cal H}} $"
   ]
  },
  {
   "cell_type": "markdown",
   "metadata": {
    "slideshow": {
     "slide_type": "subslide"
    }
   },
   "source": [
    "- [Axiomas](#axiomas) \n",
    "\n",
    "    \n",
    "- [Medidas y Valores Esperados](#estadis)\n",
    "    "
   ]
  },
  {
   "cell_type": "markdown",
   "metadata": {},
   "source": [
    "<a id='axiomas'></a>\n",
    "<table width=\"100%\">\n",
    "    <td style=\"font-size:30px;font-family:Helvetica;text-align:left;background-color:rgba(12, 43, 337, 0.3);\">\n",
    "<b>Axiomas</b>\n",
    "</table> "
   ]
  },
  {
   "cell_type": "markdown",
   "metadata": {
    "slideshow": {
     "slide_type": "slide"
    }
   },
   "source": [
    "La Mecánica Cuántica es una teoría fundamentada en unos pilares axiomáticos cuya selección admite cierta flexibilidad. La más aceptada constituye lo que se denomina la <i>interpretación de Copenhagen</i>. \n",
    "\n",
    "Llega el momento de encajar todas las piezas y ver qué papel tienen todos los objetos matemáticos que hemos definido hasta ahora.\n"
   ]
  },
  {
   "cell_type": "markdown",
   "metadata": {
    "slideshow": {
     "slide_type": "slide"
    }
   },
   "source": [
    "#### $\\bullet$  I <span style=\"padding-left:5px\">  *Vector de estado*\n",
    "<div class=\"alert alert-block alert-info\">\n",
    "<p style=\"text-align: left ;color: navy;\"> \n",
    "En un instante, $t$, la máxima información accesible de un sistema  está asociada a\n",
    "un vector de estado $\\ket{\\psi}$, \n",
    " de norma unidad, $\\braket{\\psi}{\\psi}=1$,  \n",
    "perteneciente a un espacio de Hilbert $\\Hil$<br>\n",
    "</p>\n",
    "<div>"
   ]
  },
  {
   "cell_type": "markdown",
   "metadata": {
    "slideshow": {
     "slide_type": "subslide"
    }
   },
   "source": [
    "- La dimensión de $\\Hil$ está relacionada con el número de grados de libertad del sistema.\n",
    "\n",
    "- La *fase global* del vector de estado no contiene información: dos vectores que difieran en una fase global representan al mismo estado ningún experimento permite distinguirlos\n",
    "<br>\n",
    "$$\n",
    "\\ket{\\psi} \\sim \\ket{\\psi'} =  e^{i\\varphi}\\ket{\\psi} \\, ,\n",
    "$$\n",
    "<br>\n",
    " \n",
    "\n",
    "- El vector de estado recibe también el nombre de *función de onda*."
   ]
  },
  {
   "cell_type": "markdown",
   "metadata": {
    "heading_collapsed": true,
    "slideshow": {
     "slide_type": "slide"
    }
   },
   "source": [
    "\n",
    "#### $\\bullet$  II <span style=\"padding-left:5px\">  *Magnitudes medibles*\n",
    "<div class=\"alert alert-block alert-info\">\n",
    "<p style=\"text-align: left ;color: navy;\"> \n",
    "A una magnitud física medible, le está asociado   un operador hermítico $ A= A^\\dagger$ que denominamos observable.\n",
    "</p>\n",
    "</div>\n",
    "    \n"
   ]
  },
  {
   "cell_type": "markdown",
   "metadata": {
    "hidden": true,
    "slideshow": {
     "slide_type": "slide"
    }
   },
   "source": [
    "#### $\\bullet$  II <span style=\"padding-left:5px\">  *Magnitudes medibles*\n",
    "<div class=\"alert alert-block alert-info\">\n",
    "<p style=\"text-align: left ;color: navy;\"> \n",
    "Los resultados de una medición no pueden dar como resultado nada más que uno de los valores propios de $A \\Rightarrow \\lambda_n$.\n",
    "</p>\n",
    "</div>\n",
    "\n",
    "    \n",
    "Las magnitudes medibles son números reales, de ahí la exigencia de que $A$ deba ser un operador hermítico (ya vimos que los autovalores de estos operadores son siempre reales).\n",
    "\n",
    "***"
   ]
  },
  {
   "cell_type": "markdown",
   "metadata": {
    "hidden": true,
    "slideshow": {
     "slide_type": "slide"
    }
   },
   "source": [
    "#### $\\bullet$  IV <span style=\"padding-left:5px\">  *Regla de Born*\n",
    "\n",
    "<div class=\"alert alert-block alert-info\",text-align:center>\n",
    "<p style=\"color: navy;\">   \n",
    "La probabilidad de obtener  el autovalor $\\lambda_n$ como resultado de una cierta medición, viene dada por\n",
    "la expresión\n",
    "<br><br>\n",
    "$$\n",
    "p(\\lambda_n)~ = ~|\\braket{\\lambda_n}{\\psi}|^2\n",
    "$$\n",
    "<br> \n",
    "donde $\\ket{\\lambda_n}$ es el autovector asociado. \n",
    "</p>\n",
    "</div>\n",
    "\n",
    "- La información contenida en $\\ket{\\psi}$ es <b>intrínsecamente probabilística</b>. Los resultados de una medida son inciertos, pero siguen una distribución de probabilidad. \n",
    "    \n",
    "- Esta incertidumbre es una propiedad intrínseca, no un hecho derivado de la inexactitud del aparato. \n",
    " "
   ]
  },
  {
   "cell_type": "markdown",
   "metadata": {
    "heading_collapsed": true,
    "slideshow": {
     "slide_type": "slide"
    }
   },
   "source": [
    "#### $\\bullet$  V <span style=\"padding-left:5px\">  *Colapso de la función de  onda*\n",
    "    \n",
    "<div class=\"alert alert-block alert-info\",text-align:center>\n",
    "<p style=\"color: navy;\">   \n",
    " Si el resultado de una medida  ha sido  $\\lambda_n$,\n",
    "el estado del sistema,inmediatamente después de la medida, \n",
    "<br>\n",
    "viene dado por el vector propio  \n",
    "$\\ket{\\lambda_n} \\in \\Hil$, normalizado $|\\braket{\\lambda_n}{\\lambda_n}|=1$\n",
    "<br><br>\n",
    "$$\n",
    "\\ket{\\psi}~\\stackrel{\\lambda_n}{\\Longrightarrow}~ \\ket{\\lambda_n} \n",
    "$$\n",
    "</p>    \n",
    "</div>\n",
    " "
   ]
  },
  {
   "cell_type": "markdown",
   "metadata": {
    "heading_collapsed": true,
    "slideshow": {
     "slide_type": "slide"
    }
   },
   "source": [
    "#### $\\bullet$  VI <span style=\"padding-left:5px\">  *Evolución con el tiempo*\n",
    "<div class=\"alert alert-block alert-info\",text-align:center>\n",
    "<p style=\"color: navy;\">  \n",
    "El cambio  del estado del sistema $\\ket{\\psi(t)}$ es <i>determinista</i> y \n",
    "está gobernado  la <b>Ecuación de Schrödinger</b>\n",
    "<br><br>   \n",
    "$$\n",
    "i\\hbar \\frac{\\partial\\ket{\\psi}}{\\partial t} = H \\ket{\\psi} \\, ,\\label{eqschr}\n",
    "$$\n",
    "<br>\n",
    "donde el Hamiltoniano, $H$, es un operador hermítico que <i>caracteriza</i> el sistema.\n",
    "</p>\n",
    "</div>\n",
    "\n"
   ]
  },
  {
   "cell_type": "markdown",
   "metadata": {},
   "source": [
    "En esta ecuación las cantidades que entran tienen unidades. \n",
    "\n",
    "- $H$ tiene unidades de energía. En el SI (Sistema Iternacional) $\\to$ $\\hbox{Julios = J}$\n",
    "\n",
    "- $t$ tiene unidades de tiempo, en el SI $\\to$ $\\hbox{segundos = s}$\n",
    "\n",
    "- $\\hbar$ es la constante de Planck, y  tiene unidades de Acción= Energía $\\times$  tiempo. En el SI  $\\to $ $\\hbox{Julios}\\cdot\\hbox{segundo} =  \\hbox{J}\\cdot\\hbox{s}$. Se trata de una *cantidad universal* \n",
    "\n",
    "$$\n",
    "\\fbox{$\\hbar = 1.054\\times 10^{-34}~~ \\hbox{J}\\cdot\\hbox{s}$}\n",
    "$$"
   ]
  },
  {
   "cell_type": "markdown",
   "metadata": {
    "slideshow": {
     "slide_type": "slide"
    }
   },
   "source": [
    "<a id='estadis'></a>\n",
    "<table width=\"100%\">\n",
    "    <td style=\"font-size:25px;font-family:Helvetica;text-align:left;background-color:rgba(12, 43, 337, 0.3);\">\n",
    "<b>Probabilidad y Estadística Cuánticas</b>\n",
    "</table> \n"
   ]
  },
  {
   "cell_type": "markdown",
   "metadata": {
    "slideshow": {
     "slide_type": "slide"
    }
   },
   "source": [
    "En Mecánica Cuántica especificamos un estado en las componentes $\\{a_1,a_2,...,a_N\\}$ de la expansión de un estado en *una base* ortonormal\n",
    "<br>\n",
    "\n",
    "$$\n",
    "\\ket{\\psi} = \\sum_{i=1}^N a_i \\ket{e_i}\n",
    "$$\n",
    "<br>\n",
    "Existen infinitas bases posibles para expresar un vector. ¿Qué base es la mejor? La respuesta es que depende del proceso que estudiemos."
   ]
  },
  {
   "cell_type": "markdown",
   "metadata": {
    "slideshow": {
     "slide_type": "slide"
    }
   },
   "source": [
    " Por ejemplo, si el proceso es *la medida* de un cierto observable $A=A^\\dagger$, el resultado de nuestra medición sólo puede ser uno de los *valores propios* $\\lambda_i$\n",
    "\n",
    "$$\n",
    "A \\ket{\\lambda_i} = \\lambda_i \\ket{\\lambda_i}\\, ~~~~~~~ {i=1,...,N}\n",
    "$$\n",
    "<br>\n",
    "donde $\\ket{\\lambda_i}$ son los autovectores, que forman una base ortonormal. "
   ]
  },
  {
   "cell_type": "markdown",
   "metadata": {
    "slideshow": {
     "slide_type": "slide"
    }
   },
   "source": [
    "Ésta es la base natural adaptada a procesos de medida de $A$. En particular para conocer *con qué probabilidad* se producirá cada resultado, expandiremos el estado  \n",
    "\n",
    "$$\n",
    "\\ket{\\psi} = \\sum_{i=1}^N a_i \\ket{\\lambda_i}\\, .\n",
    "$$\n",
    "\n",
    "El axioma IV (regla de Born) afirma que *la probabilidad de aparición* del resultado $\\lambda_i$ es precisamente \n",
    "\n",
    "$$\n",
    "p(\\lambda_i)=|\\braket{\\lambda_i}{\\psi}|^2  = |a_i|^2 \\, .\n",
    "$$\n",
    "\n"
   ]
  },
  {
   "cell_type": "markdown",
   "metadata": {
    "slideshow": {
     "slide_type": "slide"
    }
   },
   "source": [
    "La forma de tener acceso experimental a los números $p(\\lambda_i)$  es mediante la repetición estadística. Si efectuamos la medida un número $n$ de veces con $n\\to \\infty$, y contamos la frecuencia de aparición de los distintos $\\lambda_i$, esto es \n",
    "<br>\n",
    "\n",
    "$$\n",
    "\\frac{n(\\lambda_i)}{n}\\, .\n",
    "$$\n",
    "\n",
    "en el límite $n\\to \\infty$ dicha frecuencia experimental convergerá a la probabilidad teórica\n",
    "<br>\n",
    "\n",
    "$$\n",
    "\\lim_{n\\to\\infty} \\frac{n(\\lambda_i)}{n} =  p(\\lambda_i)  = |a_i|^2   \\, .\n",
    "$$\n",
    "<br>\n"
   ]
  },
  {
   "cell_type": "markdown",
   "metadata": {},
   "source": [
    "Vemos que, de mediante repetición estadística, solamente podemos recuperar el *módulo de las amplitudes* \n",
    "<br>\n",
    "<br>\n",
    "\n",
    "$$\n",
    "|a_i| = \\lim_{n\\to\\infty} \\sqrt{\\frac{n(\\lambda_i)}{n} }\n",
    "$$ \n",
    "<br>\n",
    "\n"
   ]
  },
  {
   "cell_type": "markdown",
   "metadata": {},
   "source": [
    "<div class=\"alert alert-block alert-danger\">\n",
    "<p style=\"text-align:left\">  \n",
    "<b>Notar:</b>\n",
    "    \n",
    "- En Computación Cuántica, almacenamos la información en las amplitudes $a_i$ en una base dada (la base computacional). Vemos que sólamente su módulo $|a_i|$ es recuperable a través de medidas.\n",
    "    \n",
    "    \n",
    "- Cada vez que seleccionamos un estado $\\ket{\\psi}$, y un observable $A$, se genera una variable aleatoria $(\\lambda,p(\\lambda))\\, \\to $ en cada medida de $A$ sobre $\\ket{\\psi}$ obtenemos un autovalor $\\lambda_i$ con una probabilidad $p(\\lambda_i)$.\n",
    "La repetición del experimento permite reconstruir estimadores estadísticos. \n",
    "  \n",
    "</p>\n",
    "</div>"
   ]
  },
  {
   "cell_type": "markdown",
   "metadata": {
    "slideshow": {
     "slide_type": "slide"
    }
   },
   "source": [
    "## Valor Esperado\n",
    "\n",
    "Por el *valor esperado* $\\langle A\\rangle$ del operador $A$ en el estado $\\ket{\\psi}$, entendemos el *valor medio* de la variable aleatoria $\\lambda_n$ obtenida por el método descrito. \n",
    "<br>\n",
    "\n",
    "$$\n",
    "\\langle A\\rangle \\equiv \\bar \\lambda_i  = \\sum_i \\lambda_i p(\\lambda_i)\n",
    "$$\n",
    "Vamos a ver una expresión compacta para esta cantidad que sólo hace referencia a $A$ y a $\\ket{\\psi}$\n",
    "<br>\n",
    "<br>\n",
    "<div class=\"alert alert-block alert-info\",text-align:center>\n",
    "<p style=\"color: navy;\">  \n",
    "<b>Teorema</b>:\n",
    "$$\\langle A \\rangle=\\bra{\\psi}A \\ket{\\psi} $$\n",
    "<br>\n",
    "\n",
    "<div class=\"alert alert-block alert-success\">\n",
    "<b>Ejercicio:</b>\n",
    "Intenta demostrar este resultado. \n",
    "\n",
    "<br>\n",
    "<details>\n",
    "<summary><p style=\"color:grey;text-align:right\"> >> Solución </p></summary>\n",
    "$$\n",
    "\\begin{array}{rcl}\n",
    "\\langle A \\rangle &\\equiv & \\sum_{n} \\lambda_n p(\\lambda_n) =  \\sum_{n} \\lambda_n |\\braket{\\lambda_n}{\\psi}|^2\\\\\n",
    "&&\\\\\n",
    "&=&      \\sum_{n} \\lambda_n \\braket{\\lambda_n}{\\psi}^*\\braket{\\lambda_n}{\\psi}~= ~   \\sum_{n} \\lambda_n \\braket{\\psi}{\\lambda_n}\\braket{\\lambda_n}{\\psi} \\\\\n",
    "& = & \\bra{\\psi}\\left( \\displaystyle \\sum_n \\lambda_n \\ket{\\lambda_n}\\bra{\\lambda_n}\\right) \\ket{\\psi} \\, \\\\\n",
    "&=& \\bra{\\psi}A\\ket{\\psi} \\, .\n",
    "\\end{array}\n",
    "$$\n",
    "</details>\n",
    "</div>\n",
    "</div>\n"
   ]
  },
  {
   "cell_type": "markdown",
   "metadata": {},
   "source": [
    "## Desviación estándar\n",
    "\n",
    "La *varianza*  es la media de la desviación cuadrática de la variable aleatoria $(\\lambda,p(\\lambda))$ es decir \n",
    "<br>\n",
    "<br>\n",
    "$$\n",
    "~~\\sigma ^2 = \\overline{(\\lambda_i-\\bar\\lambda_i)^2}=\\sum_n (\\lambda_i-\\bar\\lambda_i)^2 p(\\lambda_i)\n",
    "$$\n",
    "\n",
    "La desviación estándar se define como la raíz cuadrada de la varianza. Podemos también dar una expresión que sólo implica los objetos involucrados\n",
    "<br>\n",
    "<br>\n",
    "\n",
    "<div class=\"alert alert-block alert-info\",text-align:center>\n",
    "<p style=\"color: navy;\">  \n",
    "<b>Teorema</b>:\n",
    "$$ \\sigma = \\sqrt{\\bra{\\psi}A^2\\ket{\\psi} - \\bra{\\psi} A\\ket{\\psi}^2}\n",
    "$$\n",
    "<br>\n",
    "<br>\n",
    "\n",
    "<div class=\"alert alert-block alert-success\">\n",
    "<b>Ejercicio:</b>\n",
    "Intenta demostrar este resultado. \n",
    "\n",
    "<br>\n",
    "<details>\n",
    "<summary><p style=\"color:grey;text-align:right\"> >> Solución </p></summary>\n",
    "Observar que los números $(\\lambda_i-\\bar\\lambda_i)$ son los autovalores del operador $B=(A-\\langle A\\rangle I)$. Por tanto  $(\\lambda_i-\\bar\\lambda_i)^2$ son los de $B^2$. Además, notar que el valor medio es una operación lineal $\\langle A + B\\rangle = \\langle A\\rangle + \\langle B\\rangle$. \n",
    "    \n",
    "Entonces\n",
    "    \n",
    "    \n",
    "    \n",
    "\\begin{array}{rcl}\n",
    "\\sigma^2 &=& \\overline{(\\lambda_i-\\bar\\lambda_i)^2} = \\langle B^2 \\rangle =  \\langle \\big(A - \\langle A\\rangle\\big)^2 \\rangle ~=~\\langle A^2 \\rangle - 2\\langle A\\rangle\\langle A\\rangle +\\langle A\\rangle^2  ~=~  \\langle A^2 \\rangle - \\langle A\\rangle^2  \\\\ \\rule{0mm}{8mm}\n",
    "&=& \\bra{\\psi}A^2\\ket{\\psi} - \\bra{\\psi} A\\ket{\\psi}^2\n",
    "\\end{array}\n",
    "\n",
    "</details>\n",
    "</div>\n",
    "</div>"
   ]
  },
  {
   "cell_type": "markdown",
   "metadata": {},
   "source": [
    "<a id='estadis'></a>\n",
    "<table width=\"100%\">\n",
    "    <td style=\"font-size:25px;font-family:Helvetica;text-align:left;background-color:rgba(12, 43, 337, 0.3);\">\n",
    "<b>Evolución Temporal</b>\n",
    "</table> \n"
   ]
  },
  {
   "cell_type": "markdown",
   "metadata": {},
   "source": [
    "## Ecuación de Schrödinger\n",
    "\n",
    "El estado de un sistema $\\ket{\\psi(t)}$ posee la máxima información instantánea accesible de un sistema, es decir, a un tiempo dado $t$.\n",
    "\n",
    "Dado $\\ket{\\psi(t_0)}$ en un instante inicial $t_0$, la evolución posterior obedece a las  ecuación diferencial de Schrödinger\n",
    "\n",
    "$$\n",
    "\\fbox{$i\\hbar \\displaystyle \\frac{\\partial\\ket{\\psi(t)}}{\\partial t} = H(t) \\ket{\\psi(t)}$}\n",
    "$$\n",
    "\n",
    "\n",
    "<div class=\"alert alert-block alert-danger\">\n",
    "<p style=\"text-align: left\"> \n",
    "<b>Notar:</b>\n",
    "<br>\n",
    "\n",
    "- el operador Hamiltoniano $H(t)$  contiene toda la información sobre la dinámica del sistema.\n",
    "\n",
    "\n",
    "- hemos enfatizado el hecho de que, en el caso más general, $H(t)$ puede depender del tiempo.\n",
    "</p>\n",
    "</div>"
   ]
  },
  {
   "cell_type": "markdown",
   "metadata": {},
   "source": [
    "### Conservación de la probabilidad.\n",
    "\n",
    "La hermiticidad de $H$ se relaciona directamente con la interpretación probabilística de $\\ket{\\psi}$.\n",
    "Efectivamente, en la evolución temporal se conserva la norma del vector de estado\n",
    "\n",
    "\\begin{eqnarray}\n",
    "\\frac{d}{dt}\\braket{\\psi(t)}{\\psi(t)} &=& \\left(\\rule{0mm}{3mm}\\frac{d}{dt}\\bra{\\psi(t)}\\right)\\ket{\\psi(t)} + \n",
    "\\bra{\\psi(t)}\\left(\\frac{d}{dt}\\ket{\\psi(t)} \\right)\\nonumber\\\\\n",
    "&=& \\left(\\bra{\\psi(t)}\\frac{i}{\\hbar}H^\\dagger\\right)\\ket{\\psi(t)} + \\bra{\\psi(t)}\\left(-\\frac{i}{\\hbar}H\\ket{\\psi(t)} \\right) \\nonumber\\\\\n",
    "&=&\\frac{i}{\\hbar} \\bra{\\psi(t)}(H^\\dagger - H)\\ket{\\psi(t)} = 0\n",
    "\\end{eqnarray}\n",
    "\n",
    "\n",
    "Esto implica que la norma de $\\ket{\\psi(t)}$ se conserva $\\Rightarrow 1 = |\\ket{\\psi(0)}| =|\\ket{\\psi(t)}|$"
   ]
  },
  {
   "cell_type": "markdown",
   "metadata": {},
   "source": [
    "## Operador de Evolución\n",
    "\n",
    "La conservación de la norma implica que la evolución $\\ket{\\psi(0)} =\\ket{\\psi(t)}$ es un *proceso unitario*. \n",
    "En otras palabras, debe existir un operador unitario \n",
    "\n",
    "$$\n",
    "U(t,t_0)^{-1}= U(t,t_0)^\\dagger \n",
    "$$\n",
    "\n",
    "que lleve un estado al otro para cada $t$\n",
    "\n",
    "$$\n",
    "\\fbox{$\\rule{0mm}{3.5mm} \\ket{\\psi(t)} = U(t,t_0)\\ket{\\psi(t_0)}$}\n",
    "$$\n",
    "\n",
    "<div class=\"alert alert-block alert-danger\">\n",
    "<p style=\"text-align: left\"> \n",
    "<b>Notar:</b>\n",
    "<br>\n",
    "\n",
    "El operador de evolución satisface las siguientes propiedades\n",
    "\n",
    " -  $U(t_0,t_0) = I$ \\, .\n",
    " \n",
    "\n",
    " -  transitividad:  $U(t,t_1)U(t_1,t_0)= U(t,t_0)$\n",
    " \n",
    " \n",
    " -  invertibilidad: $U(t,t_0)^{-1} = U(t_0,t)$\n",
    " \n",
    "    </p>\n",
    "    </div>"
   ]
  },
  {
   "cell_type": "markdown",
   "metadata": {},
   "source": [
    "Evidentemente, el operador de evolución debe estar relacionado con el Hamiltoniano, que es quien gobierna la dinámica. Veamos a ver que hay ecuación de Schrödinger también para el operador de evolución\n",
    "\n",
    "<div class=\"alert alert-block alert-info\",text-align:center>\n",
    "<p style=\"color: navy;\">  \n",
    "<b>Teorema</b>:\n",
    "<br>\n",
    "el operador de evolución satisface la siguiente ecuación de evolución\n",
    "<br>\n",
    "<br>\n",
    "$$\n",
    "i\\hbar \\frac{d}{dt}U(t,t_0) = H(t)\\, U(t,t_0)\n",
    "$$\n",
    "</p>\n",
    "<details>\n",
    "<summary><p style=\"color:grey;text-align:right\"> >> Demostración </p></summary>\n",
    "Tomando la derivada temporal de la ecuación $\\ket{\\psi(t)} = U(t,t_0)\\ket{\\psi(t_0)}$, que define $U(t,t_0)$, tenemos para cada miembro\n",
    "\n",
    "\\begin{eqnarray}\n",
    "\\frac{d}{dt}\\ket{\\psi(t)} &~=~& -\\frac{i}{\\hbar}  H(t)\\ket{\\psi(t)} = -\\frac{i}{\\hbar} H(t)U(t,t_0)\\ket{\\psi(t_0)}  \\nonumber\\\\\n",
    "\\frac{d}{dt}U(t,t_0)\\ket{\\psi(t_0)} &~=~& \\left(\\frac{d}{dt}U(t,t_0)\\right)\\ket{\\psi(t_0)}\n",
    "\\end{eqnarray}\n",
    "\n",
    "Igualando ambas expresiones, y teniendo en cuanto que $\\ket{\\psi_0}$ es arbitrario, obtenemos la ecuación deseada.\n",
    "</details>\n",
    "</div>\n"
   ]
  },
  {
   "cell_type": "markdown",
   "metadata": {},
   "source": [
    "### Caso de $H$ independiente del tiempo"
   ]
  },
  {
   "cell_type": "markdown",
   "metadata": {},
   "source": [
    "<div class=\"alert alert-block alert-info\",text-align:center>\n",
    "<p style=\"color: navy\"> <b>Teorema</b>:\n",
    "<br>    \n",
    "para un hamiltoniano $H$ independiente del tiempo, el operador de evolución $U(t,t_0)$ es\n",
    "<br>\n",
    "<br>\n",
    "$$\n",
    "U(t,t_0) = \\exp\\left({-\\frac{i}{\\hbar} (t-t_0)H}\\right)\n",
    "$$\n",
    "</p>\n",
    "<details>\n",
    "<summary><p style=\"color:grey;text-align:right\"> >> Demostración </p></summary>\n",
    "Basta con demostrar que se satisface la ecuación de evolución y la condición de contorno\n",
    "\n",
    "\\begin{eqnarray}\n",
    "\\frac{d}{dt}U(t,t_0) &=& \\frac{d}{dt} \\exp\\left({-\\frac{i}{\\hbar} (t-t_0)H}\\right)\n",
    "    \\nonumber\\\\ \\rule{0mm}{6mm}\n",
    "   &=& \\frac{d}{dt}\\left( I +(t-t_0)\\left(-\\frac{i}{\\hbar} H\\right) + \\frac{1}{2!} \n",
    "    (t-t_0)^2\\left(-\\frac{i}{\\hbar} H\\right)^2  + ...\\right) \\nonumber\\\\ \\rule{0mm}{6mm}\n",
    "    &=& 0 +  \\left(-\\frac{i}{\\hbar} H\\right) +  (t-t_0)\\left(-\\frac{i}{\\hbar} H\\right)^2  + ... \\nonumber\\\\ \\rule{0mm}{6mm}\n",
    "&=&  \\left(-\\frac{i}{\\hbar} H\\right)\\left( I + (t-t_0) \\left(-\\frac{i}{\\hbar} H\\right) + ...\\right)\n",
    "  \\nonumber \\\\ \\rule{0mm}{6mm} \n",
    "&=& \\left(-\\frac{i}{\\hbar} H\\right) \\exp\\left({-\\frac{i}{\\hbar} (t-t_0)H}\\right)    \\nonumber\\\\ \\rule{0mm}{6mm}\n",
    "&=& -\\frac{i}{\\hbar} H \\,  U(t,t_0)\n",
    "\\end{eqnarray}\n",
    "Además\n",
    "$$\n",
    "U(t_0,t_0) =  \\exp\\left({-\\frac{i}{\\hbar} (t_0-t_0)H}\\right)=\\exp(0) = I\n",
    "$$\n",
    "</details>\n",
    "</div>\n"
   ]
  },
  {
   "cell_type": "markdown",
   "metadata": {},
   "source": [
    "<div class=\"alert alert-block alert-danger\">\n",
    "<p style=\"text-align: left\"> \n",
    "<b>Notar:</b>\n",
    "<br>\n",
    "que la cantidad ${-\\frac{i}{\\hbar} (t-t_0)H}$ es adimensional\n",
    "$$\n",
    "\\frac{1}{\\hbox{J}\\cdot \\hbox{s}}\\hbox{s}\\cdot\\hbox{J} = 1\n",
    "$$\n",
    "<br>    \n",
    "Es decir, es un número puro. Por eso podemos exponenciarla. El operador de evolución $U(t,t_0)$ es, por tanto, también, una magnitud adimensional.\n",
    "</div>"
   ]
  },
  {
   "cell_type": "markdown",
   "metadata": {},
   "source": [
    "### Evolución en la base autoestados de H"
   ]
  },
  {
   "cell_type": "markdown",
   "metadata": {},
   "source": [
    "Sea $\\{\\ket{E_n}\\}$ una base de autoestados de $H \\, \\Rightarrow \\,H \\ket{E_n} = E_n \\ket{E_n}~~~~n=1,..,N.$\n",
    "\n",
    "En esta base $H$ es una matriz $H_{mn}$ diagonal \n",
    "\n",
    "$$\n",
    "H_{mn} =  \\begin{bmatrix} E_0 &  & & \\\\  & E_1 &  & \\\\ & & \\ddots & \\\\ & & & \\end{bmatrix} =E_m \\delta_{mn} \\, .\n",
    "$$\n",
    "\n",
    "Entonces la matriz de evolución es también diagonal \n",
    "$$\n",
    "U_{mn} = \\exp\\left(-\\frac{i}{\\hbar}t H_{mn}\\right) = \n",
    " \\begin{bmatrix} e^{-\\frac{i}{\\hbar}t E_0} &  & & \\\\  & e^{-\\frac{i}{\\hbar} t E_1}  &  & \\\\ & & \\ddots & \\\\ & & & \\end{bmatrix} = e^{-\\frac{i}{\\hbar} t  E_m }\\delta_{mn} \\, .\n",
    "$$"
   ]
  },
  {
   "cell_type": "markdown",
   "metadata": {},
   "source": [
    "En conclusión, la evolución temporal de un autoestado de la energía es trivial (es una fase global)\n",
    "\n",
    "$$\n",
    "U(t,0)\\ket{E_n} = e^{-\\frac{i}{\\hbar} t E_n} \\ket{E_n}\\, .\n",
    "$$\n",
    "\n",
    "Esta fase deja de ser trivial cuando afecta a una combinación lineal. La forma más eficaz de calcular la evolución de un estado arbitrario es expresarla en la base $\\{\\ket{E_n}\\}$. Es decir, si a $t=0$\n",
    "\n",
    "$$\n",
    "\\ket{\\psi(t=0)} = \\sum_n c_n \\ket{E_n} \\, \n",
    "$$\n",
    "\n",
    "entonces a tiempo $t$ \n",
    "\n",
    "$$\n",
    "\\ket{\\psi(t)} = \\sum_n c_n e^{-\\frac{i}{\\hbar}E_n} \\ket{E_n} \\, .\n",
    "$$\n"
   ]
  },
  {
   "cell_type": "code",
   "execution_count": null,
   "metadata": {},
   "outputs": [],
   "source": []
  }
 ],
 "metadata": {
  "kernelspec": {
   "display_name": "Python 3",
   "language": "python",
   "name": "python3"
  },
  "language_info": {
   "codemirror_mode": {
    "name": "ipython",
    "version": 3
   },
   "file_extension": ".py",
   "mimetype": "text/x-python",
   "name": "python",
   "nbconvert_exporter": "python",
   "pygments_lexer": "ipython3",
   "version": "3.8.5"
  },
  "varInspector": {
   "cols": {
    "lenName": 16,
    "lenType": 16,
    "lenVar": 40
   },
   "kernels_config": {
    "python": {
     "delete_cmd_postfix": "",
     "delete_cmd_prefix": "del ",
     "library": "var_list.py",
     "varRefreshCmd": "print(var_dic_list())"
    },
    "r": {
     "delete_cmd_postfix": ") ",
     "delete_cmd_prefix": "rm(",
     "library": "var_list.r",
     "varRefreshCmd": "cat(var_dic_list()) "
    }
   },
   "types_to_exclude": [
    "module",
    "function",
    "builtin_function_or_method",
    "instance",
    "_Feature"
   ],
   "window_display": false
  }
 },
 "nbformat": 4,
 "nbformat_minor": 5
}
