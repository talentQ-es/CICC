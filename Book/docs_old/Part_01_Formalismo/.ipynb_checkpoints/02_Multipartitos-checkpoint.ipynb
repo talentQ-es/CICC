{
 "cells": [
  {
   "cell_type": "markdown",
   "id": "4c0e16ed",
   "metadata": {
    "slideshow": {
     "slide_type": "slide"
    }
   },
   "source": [
    "<img   src=\"../figuras/logo/TalentQ_LogoPosNegro.png\" align=center  width=\"120\"/>\n",
    "<br>\n",
    "\n",
    "<table width=\"100%\">\n",
    "<td style=\"font-size:50px;font-style:italic;text-align:right;background-color:rgba(0, 160, 120,0.6)\">\n",
    "Sistemas multipartitos \n",
    "</td></table>\n",
    "$ \\newcommand{\\bra}[1]{\\langle #1|} $\n",
    "$ \\newcommand{\\ket}[1]{|#1\\rangle} $\n",
    "$ \\newcommand{\\braket}[2]{\\langle #1|#2\\rangle} $\n",
    "$ \\newcommand{\\i}{{\\color{blue} i}} $ \n",
    "$ \\newcommand{\\Hil}{{\\cal H}}$"
   ]
  },
  {
   "cell_type": "markdown",
   "id": "333d352d",
   "metadata": {
    "slideshow": {
     "slide_type": "-"
    }
   },
   "source": [
    "-[Producto Tensorial](#prodtens) \n",
    "\n",
    "-[Entrelazamiento](#entangle) \n",
    "\n",
    "-[Sistemas Multipartitos](#multipartite) \n",
    "\n",
    "-[Operadores sobre $H^{\\otimes n}$](#operators) "
   ]
  },
  {
   "cell_type": "code",
   "execution_count": 1,
   "id": "f21541d4",
   "metadata": {
    "slideshow": {
     "slide_type": "skip"
    }
   },
   "outputs": [],
   "source": [
    "'Correr esta celda para incluir funciones predefinidas'\n",
    "%run ../macro_CURSO.py"
   ]
  },
  {
   "cell_type": "markdown",
   "id": "8cf21219",
   "metadata": {
    "slideshow": {
     "slide_type": "slide"
    }
   },
   "source": [
    "<a id='protdens'></a>\n",
    "<table width=\"100%\">\n",
    "    <td style=\"font-size:30px;font-family:Helvetica;text-align:left;background-color:rgba(102, 103, 237, 0.3);\">\n",
    "<b>Producto Tensorial</b>\n",
    "</table>  "
   ]
  },
  {
   "cell_type": "markdown",
   "id": "1c89e73a",
   "metadata": {
    "slideshow": {
     "slide_type": "-"
    }
   },
   "source": [
    "Un computador clásico es capaz de tratar grandes cantidades de bits a base de acumular dispositivos de un solo bit. Cuánticamente consideraríamos una colección de sistemas que implementen un cúbit. Por supuesto, esa colección debe admitir superposiciones cuánticas de los estados de cada subsistema. La herramienta matemática para describir un sistema compuesto así es el *producto tensorial* de espacios de Hilbert "
   ]
  },
  {
   "cell_type": "markdown",
   "id": "e5852552",
   "metadata": {
    "slideshow": {
     "slide_type": "-"
    }
   },
   "source": [
    "A partir  dos espacios de Hilbert, ${\\mathbb H}_{1}$ y ${\\mathbb H}_2$, de dimensiones $d_1$ y $d_2$ respectivamente, podemos formar un nuevo espacio de Hilbert de dimensión $d_1\\, d_2$, denominado *Espacio Producto Tensorial* \n",
    "\n",
    "$$\n",
    "\\Hil = \\Hil_1 \\otimes \\Hil_2 \\, .\n",
    "$$\n",
    "<br>"
   ]
  },
  {
   "cell_type": "markdown",
   "id": "91db2096",
   "metadata": {
    "slideshow": {
     "slide_type": "-"
    }
   },
   "source": [
    "**Definición:** Dados dos vectores $\\ket{u}_1\\in \\Hil_1$ y  $\\ket{v}_2\\in \\Hil_2$, denominamos *producto tensorial* al *par ordenado* \n",
    "\n",
    "<br>\n",
    "\n",
    "$$\n",
    "\\ket{uv} ~\\equiv \\ket{u}_1\\otimes \\ket{v}_2~\\in ~\\Hil\n",
    "$$\n",
    "\n",
    "<br>\n",
    "\n",
    "Sin embargo, y esto es **muy importante**, éste *no es el vector más general* de $\\Hil$.\n"
   ]
  },
  {
   "cell_type": "markdown",
   "id": "4a3af1b2",
   "metadata": {
    "slideshow": {
     "slide_type": "slide"
    }
   },
   "source": [
    "\n",
    "<div class=\"alert alert-block alert-info\",text-align:center>\n",
    "<p style=\"text-align: left ;color: navy;\">  \n",
    "    El  espacio vectorial  $\\Hil = \\Hil_1 \\otimes \\Hil_2$ está formado por  <i>todas las combinaciones lineales</i> posibles de  los posibles <i>productos tensoriales</i>  de la forma \n",
    "<br>\n",
    "<br>\n",
    "<br>   \n",
    "$$\n",
    "\\ket{s}= a\\ket{u}_1\\otimes\\ket{u}_2 ~+~ b \\ket{v}_1\\otimes\\ket{v}_2 ~+ ~...\n",
    "$$\n",
    "<br>   \n",
    "<br>    \n",
    "donde  $\\ket{u}_1,\\ket{v}_1,...\\in \\Hil_1\\, ~$ y $~\\, \\ket{u}_2,\\ket{v}_2,...\\in \\Hil_2~$,\n",
    "    y $~a,b,... \\in {\\mathbb C}$ son coeficientes complejos.\n",
    "<br> \n",
    "</div>"
   ]
  },
  {
   "cell_type": "markdown",
   "id": "3f848274",
   "metadata": {},
   "source": [
    "<div class=\"alert alert-block alert-danger\">\n",
    "En el resto de esta lección nos restringiremos al caso de $\\Hil_1 = \\Hil_2$ y, por tanto, $d_1 = d_2 \\equiv N$. Prescindiremos del subíndice $\\ket{u}_1\\otimes \\ket{y}_2=\\ket{u}\\otimes \\ket{y} \\equiv \\ket{uy}$ que estará implícito en el orden. \n",
    "    \n",
    "Para computación cuántica con cúbits (cúdits), el valor relevante es $N=2\\,(N\\geq 3)$. \n",
    "<div>"
   ]
  },
  {
   "cell_type": "markdown",
   "id": "17bf1fa0",
   "metadata": {
    "slideshow": {
     "slide_type": "slide"
    }
   },
   "source": [
    "### Producto de Kronecker"
   ]
  },
  {
   "cell_type": "markdown",
   "id": "9d2b08bf",
   "metadata": {},
   "source": [
    "Cualquier vector, admitirá en una base una representación como un vector columna con sus coeficientes como entradas. \n",
    "\n",
    "\n",
    "La matriz columna asociada $\\ket{uv}= \\ket{u}\\otimes \\ket{v}$ se forma a partir de las matrices columna de $\\ket{u}$ y $\\ket{v}$ mediante el denominado *producto de Kronecker* o, también *producto tensorial*. \n",
    "\n",
    "$$\n",
    " \\ket{uv} = \\ket{u}\\otimes \\ket{v} ~\\sim~ \n",
    "\\begin{pmatrix}u_1\\\\ u_2 \\end{pmatrix}\\otimes \\begin{pmatrix}v_1\\\\ v_2 \\end{pmatrix} ~\\equiv ~\n",
    "\\begin{pmatrix}u_1 \\begin{pmatrix}v_1\\\\ v_2 \\end{pmatrix} \\\\ u_2 \\begin{pmatrix}v_1\\\\ v_2 \\end{pmatrix}  \\end{pmatrix}\n",
    "~=~\\begin{pmatrix}u_1v_1\\\\ u_1v_2 \\\\ v_2 u_1 \\\\ u_2 v_2  \\end{pmatrix}\n",
    "$$\n",
    "\n",
    "\n"
   ]
  },
  {
   "cell_type": "code",
   "execution_count": 2,
   "id": "82109ef4",
   "metadata": {
    "slideshow": {
     "slide_type": "slide"
    }
   },
   "outputs": [
    {
     "data": {
      "text/markdown": [
       "\\begin{bmatrix}-2.00\\\\3.00\\\\-4.00\\\\6.00\\\\6.00\\\\-9.00\\end{bmatrix}"
      ],
      "text/plain": [
       "<IPython.core.display.Markdown object>"
      ]
     },
     "metadata": {},
     "output_type": "display_data"
    }
   ],
   "source": [
    "import numpy as np\n",
    "from IPython.display import display,Markdown,Latex\n",
    "import matplotlib.pyplot as plt\n",
    "\n",
    "# |u> y |v>\n",
    "ketu = np.array([[1],[2],[-3]])\n",
    "ketv = np.array([[-2],[3]])\n",
    "\n",
    "# |uv>\n",
    "def kronecker_ket(ketu,ketv):\n",
    "    u=ketu.flatten() \n",
    "    v=ketv.flatten()\n",
    "    uv=np.array([])\n",
    "    for i in range(len(u)):  \n",
    "        for j in range(len(v)):  \n",
    "            uv=np.append(uv,[u[i]*v[j]])\n",
    "    return uv.reshape((len(uv),1))\n",
    "\n",
    "ketuv = kronecker_ket(ketu,ketv)\n",
    "DisplayMatrix(ketuv)"
   ]
  },
  {
   "cell_type": "markdown",
   "id": "2f5f89a9",
   "metadata": {
    "slideshow": {
     "slide_type": "slide"
    }
   },
   "source": [
    "### Propiedades"
   ]
  },
  {
   "cell_type": "markdown",
   "id": "c066f78d",
   "metadata": {},
   "source": [
    "- El producto tensorial de una suma se resuelve invocando la *propiedad distributiva* (todos con todos)\n",
    "<br>\n",
    "\n",
    "\\begin{eqnarray}\n",
    "\\big(\\ket{u}+\\ket{v}\\big)\\otimes \\big(\\ket{y}+\\ket{z}\\big) ~&\\equiv &~~\n",
    "\\ket{u}\\otimes\\ket{y} ~+~ \\ket{u}\\otimes\\ket{z} ~+~ \\ket{v}\\otimes\\ket{y} ~+~~\n",
    " \\ket{v}\\otimes\\ket{z} \\\\\n",
    " \\rule{0mm}{5mm}\n",
    " &=& \\ket{uy} + \\ket{uz} + \\ket{vy} + \\ket{vz}\n",
    "\\end{eqnarray}\n",
    "\n",
    "<br>"
   ]
  },
  {
   "cell_type": "markdown",
   "id": "96b5594e",
   "metadata": {
    "slideshow": {
     "slide_type": "slide"
    }
   },
   "source": [
    "<div class=\"alert alert-block alert-danger\">\n",
    "    <b>Notar:</b>   \n",
    "<br>\n",
    "    \n",
    "1. usamos indistintamente la notación $\\ket{u}\\otimes\\ket{v} = \\ket{uv}$ cuando no haya confusión. En ambos casos se trata de un bi-vector\n",
    "<br>\n",
    "    \n",
    "2. \n",
    "notar la sutil pero importante diferencia que hay con lo que definiría un <b>producto cartesiano</b> $\\times$\n",
    "<br>    \n",
    "$$\n",
    "\\big(\\ket{u}+\\ket{v}\\big)\\times \\big(\\ket{y}+\\ket{z}\\big)  ~\\equiv ~~~\n",
    "\\ket{u  }\\times\\ket{y}~ + ~\\ket{v}\\times\\ket{z} \\hspace{4.7cm}\n",
    "$$\n",
    "<br>    \n",
    "Aquí está en la esencia de la potencia computacional de la Mecánica Cuántica. El espacio producto tensorial $\\Hil{\\otimes }\\Hil$ tiene dimensión $N^2$. El producto cartesiano $\\Hil{\\times }\\Hil$ tiene dimensión $2N$ (pensar por ejemplo en ${\\mathbb R}^2 = {\\mathbb R}\\times {\\mathbb R}$). \n",
    "</div>"
   ]
  },
  {
   "cell_type": "markdown",
   "id": "7c6597c8",
   "metadata": {
    "slideshow": {
     "slide_type": "slide"
    }
   },
   "source": [
    "### Base y Dimensión"
   ]
  },
  {
   "cell_type": "markdown",
   "id": "eebd5815",
   "metadata": {},
   "source": [
    "- Sea $\\ket{i}$ una base de $\\Hil$. Entonces, una base de $\\Hil\\otimes \\Hil=\\Hil^{\\otimes 2}$ se obtiene\n",
    "a partir de *todos* los emparejamientos \n",
    "<br>\n",
    "<br>\n",
    "$$\n",
    "\\ket{e_{ij}} = \\ket{e_i}\\otimes \\ket{e_j}~~~~~~~~~~~~~~~~~~ i,j=1....N\n",
    "$$\n",
    "\n",
    "<br>\n",
    "\n",
    "\n",
    "-  El número parejas posibles es $N^2$, que coincide con la **dimensión** de $\\Hil^{\\otimes 2}$.\n",
    "\n"
   ]
  },
  {
   "cell_type": "markdown",
   "id": "026a6bcb",
   "metadata": {},
   "source": [
    "- Vemos que las etiquetas de los de los vectores de la base forman un bi-índice $ij=11,12,21,22,...,N^2$ que adopta el mísmo número, $N^2$, de cofiguraciones distintas. Un vector general se escribirá igualmente usando un bi-índice en lugar de un índice\n",
    "<br>\n",
    "<br>\n",
    "$$\n",
    "\\ket{\\omega} = \\sum_{i,j=1}^{N} w_{ij} \\ket{e_{ij}}\n",
    "$$\n",
    "donde $w_{ij}$ son $N^2$ componentes complejas."
   ]
  },
  {
   "cell_type": "markdown",
   "id": "8ec64db2",
   "metadata": {
    "slideshow": {
     "slide_type": "slide"
    }
   },
   "source": [
    "<div class=\"alert alert-block alert-warning\">\n",
    "<b>Ejemplo</b>:\n",
    "<br>    \n",
    "con $N=2$ tendríamos $N^2 = 4$ elementos de la base de $\\Hil^{\\otimes 2}$\n",
    "\n",
    "\n",
    "<br>\n",
    "\n",
    "$$\n",
    "\\ket{e_{11}}~=~ \\ket{e_{1}}\\otimes \\ket{e_{1}}~ \\sim~\n",
    "\\begin{pmatrix}1\\\\ 0\\end{pmatrix}\\begin{pmatrix}1\\\\ 0\\end{pmatrix} = \\begin{pmatrix}1\\\\0\\\\0 \\\\ 0\\end{pmatrix}\n",
    "~~~~~~,~~~~~\n",
    "\\ket{e_{12}}~=~ \\ket{e_{1}}\\otimes \\ket{e_{2}}~\\sim~\n",
    "\\begin{pmatrix}1\\\\ 0\\end{pmatrix}\\begin{pmatrix}0\\\\ 1\\end{pmatrix} = \\begin{pmatrix}0\\\\1\\\\0 \\\\ 0\\end{pmatrix}\n",
    "$$\n",
    "\n",
    "<br>\n",
    "\n",
    "\n",
    "$$\n",
    "\\ket{e_{21}}~=~ \\ket{e_{2}}\\otimes \\ket{e_{1}}~\\sim~\n",
    " \\begin{pmatrix}0\\\\ 1\\end{pmatrix}\\begin{pmatrix}1\\\\ 0\\end{pmatrix} = \\begin{pmatrix}0\\\\0\\\\1 \\\\ 0\\end{pmatrix}\n",
    " ~~~~~,~~~~\n",
    "\\ket{e_{22}}~=~ \\ket{e_{2}}\\otimes \\ket{e_{2}}~\\sim~\n",
    "\\begin{pmatrix}0\\\\ 1\\end{pmatrix}\\begin{pmatrix}0\\\\ 1\\end{pmatrix} = \\begin{pmatrix}0\\\\0\\\\0 \\\\ 1\\end{pmatrix}\n",
    "$$\n",
    "<br>\n",
    "El *vector más general*  $\\ket{w}\\in \\Hil\\otimes\\Hil$ admitirá una representación de la forma\n",
    "<br>\n",
    "<br>\n",
    "$$\n",
    "\\ket{w} ~= ~ \\sum_{i,j=1}^2 w_{ij} \\ket{e_{ij}}=~ \\begin{pmatrix}w_{11}\\\\ w_{12}\\\\ w_{21} \\\\ w_{22}  \\end{pmatrix}  ~  \n",
    "$$\n",
    "\n",
    "</div>\n"
   ]
  },
  {
   "cell_type": "markdown",
   "id": "eadab4b7",
   "metadata": {
    "slideshow": {
     "slide_type": "slide"
    }
   },
   "source": [
    "### Indexación equivalente\n",
    "\n",
    "Podemos etiquetar las componentes, o los elementos de la base anterior  un mapa entre bi-índices $i,j=1,2$ e índices\n",
    "$a=1,...,4$\n",
    "\n",
    "$$\n",
    "w_{ij} =\\begin{pmatrix} w_{11} \\\\ w_{12} \\\\ w_{21} \\\\ w_{22} \\end{pmatrix} ~~~\\longleftrightarrow ~~~\n",
    "w_a  = \\begin{pmatrix} w_1 \\\\ w_2 \\\\ w_3 \\\\ w_4 \\end{pmatrix}\n",
    "$$\n",
    "\n",
    "donde hemos querido resaltar que los vectores son los mismos, etiquetados de forma diferente. \n",
    "\n",
    "En el caso general, $i,j=1,...,N$ podemos agrupar todos los bi-índices $ij$ en un sólo índice $a =1,..., N^2$ con\n",
    "de forma que $w_{ij} = w_a$ con\n",
    "\n",
    "$$\n",
    "a = N*(i-1) + j \n",
    "$$"
   ]
  },
  {
   "cell_type": "markdown",
   "id": "31db29df",
   "metadata": {
    "slideshow": {
     "slide_type": "slide"
    }
   },
   "source": [
    "<a id='entangle'></a>\n",
    "<table width=\"100%\">\n",
    "    <td style=\"font-size:30px;font-family:Helvetica;text-align:left;background-color:rgba(102, 103, 237, 0.3);\">\n",
    "<b>Entrelazamiento</b>\n",
    "</table>  "
   ]
  },
  {
   "cell_type": "markdown",
   "id": "1eadf316",
   "metadata": {},
   "source": [
    "Llegamos a uno de los conceptos *clave* en Teoría Cuántica de la Información. \n",
    "\n",
    "<div class=\"alert alert-block alert-info\",text-align:center>\n",
    "<p style=\"text-align: left ;color: navy;\">  \n",
    "Decimos que, un vector $\\ket{w}\\in \\Hil\\otimes\\Hil$ es <i>factorizable</i> cuando es posible encontrar vectores $\\ket{u},\\ket{v}\\in \\Hil$ tales que $ \\ket{w} = \\ket{u}\\otimes\\ket{v}$.\n",
    "<br>\n",
    "<br>\n",
    "Cuando esto no sea posible, decimos que  $\\ket{w}$ es un vector <i>entrelazado</i>.\n",
    "<br>\n",
    " </div>\n"
   ]
  },
  {
   "cell_type": "markdown",
   "id": "190a4d27",
   "metadata": {},
   "source": [
    "Ya hemos visto que, dada una base $\\ket{e_i}$ de $\\Hil$ el vector más general que pertenece al espacio producto admite una descomposición \n",
    "\n",
    "$$\n",
    "\\ket{w} = \\sum_{i,j=1}^N w_{ij}\\ket{e_{i}}\\otimes \\ket{e_j} = w_{11}\\ket{e_1}\\otimes\\ket{e_1} + w_{12}\\ket{e_1}\\otimes\\ket{e_2} + ...\\, .\n",
    "$$\n",
    "\n",
    "<br>"
   ]
  },
  {
   "cell_type": "markdown",
   "id": "ce64ef64",
   "metadata": {
    "slideshow": {
     "slide_type": "slide"
    }
   },
   "source": [
    "Discernir si un vector escrito así es factorizable o entrelazado no es algo que se pueda hacer a primera vista. \n",
    "En ese sentido vamos a poner dos resultados que son útiles.\n",
    "\n",
    "\n",
    "### Criterio de factorizabilidad\n",
    "\n",
    "<div class=\"alert alert-block alert-info\",text-align:center>\n",
    "<p style=\"text-align: left ;color: navy\">  \n",
    "Si las componentes $w_{ij}$ son factorizables en productos de la forma $w_{ij} = u_i v_j$ con $i,j=1,...,N$ entonces el estado es $\\ket{w}$ es factorizable. \n",
    "<details>\n",
    "<summary><p style=\"text-align:right;color: navy\"> >> Prueba </p></summary>\n",
    "$$\n",
    "\\ket{w}= \\sum_{i,j=1}^N w_{ij} \\ket{e_{ij}}  = \\sum_{i,j} u_{i}v_j \\ket{e_i}\\otimes \\ket{e_j}= \\sum_{i,j} u_{i} \\ket{e_i}\\otimes v_j\\ket{e_j}  ~ =~ \\sum_i u_i\\ket{e_i} \\otimes \\sum_j v_j\\ket{e_j} ~=~   \\ket{u}\\otimes \\ket{v}\n",
    "$$\n",
    "</details>\n",
    "</div>"
   ]
  },
  {
   "cell_type": "markdown",
   "id": "d5d83b72",
   "metadata": {},
   "source": [
    "El carácter entrelazado de un vector es <i>genérico</i>, mientras que el carácter factorizable es <i>accidental</i>.\n",
    "\n",
    "Esto se sigue de un sencillo contaje: como función de $N$, en $w_{ij}$ hay $N^2$ números complejos independientes (grados de libertad). Sin embaro en $u_i v_j$ sólo hay $2N$ números independientes. Es evidente que $N^2>2N$.\n",
    "\n",
    "<div class=\"alert alert-block alert-danger\">\n",
    "    <b>Notar:</b>   \n",
    "<br> en el caso  $N=2$ es decir, cúbits,  la condición $w_{ij} = u_i v_j$ es <i>equivalente</i> a verificar\n",
    "    la anulación del  determinante de la matriz formada por las componentes\n",
    "<br>\n",
    "    \n",
    "$$\\det w_{ij} =  w_{11}w_{22}- w_{12}w_{21} = u_1v_1u_2v_2-u_1v_2u_2v_1=0$$  \n",
    "\n",
    "<div>"
   ]
  },
  {
   "cell_type": "markdown",
   "id": "47f91add",
   "metadata": {
    "slideshow": {
     "slide_type": "slide"
    }
   },
   "source": [
    "### Descomposición de Schmidt\n",
    "\n",
    "Los valores de las *componentes* $w_{ij}$ dependen de la base escogida. En *otra* base $\\ket{\\tilde e_{i}}$ encontraremos *otras* componentes $\\tilde w_{ij}$ para el *mismo* vector \n",
    "<br>\n",
    "    \n",
    "$$\n",
    "\\ket{w} = \\sum_{i,j=1}^N \\tilde w_{ij}\\ket{\\tilde e_{i}}\\otimes\\ket{\\tilde e_j}\n",
    "$$\n",
    "<br> \n",
    "Si existiese una base en la que $\\tilde w_{ij}=0$ para todos los $i,j$ menos para uno (por ejemplo $\\tilde w_{11}\\neq 0$), entonces \n",
    "$\\ket{w}= \\tilde w_{11}\\ket{\\tilde e_1}\\otimes \\ket{e_1}$ sería factorizable. El siguiente teorema nos dice **cuánto nos podemos acercar a esta situación**"
   ]
  },
  {
   "cell_type": "markdown",
   "id": "b7c5b175",
   "metadata": {
    "slideshow": {
     "slide_type": "slide"
    }
   },
   "source": [
    "<div class=\"alert alert-block alert-info\",text-align:center>\n",
    "<p style=\"text-align: left ;color: navy;\">  \n",
    "<b>Teorema de Schmidt</b>:\n",
    "<br>\n",
    "<br>\n",
    "dado un vector $\\ket{w}\\in \\Hil\\otimes \\Hil$, siempre es posible encontrar una base $\\ket{f_i}$ de $\\Hil$ tal que, la expansión\n",
    "<br>\n",
    "<br>\n",
    "$$\n",
    "\\ket{w} = \\sum_{i=1}^p s_i \\ket{f_i}\\otimes\\ket{f_i} \\, ,\n",
    "$$\n",
    "<br>\n",
    " involucra el mínimo número, $p$, de sumandos diagonales\n",
    "<br>    \n",
    "<br>\n",
    "    \n",
    "</div>"
   ]
  },
  {
   "cell_type": "markdown",
   "id": "977f86d8",
   "metadata": {},
   "source": [
    "El número $1\\leq p\\leq N$ se denomina <b>Número de Schmidt</b> y  es la información relevante  porque \n",
    "\n",
    "- cuando $p=1$ el estado $\\ket{w}$ será *factorizable*. \n",
    "\n",
    "- si $p\\geq 2$ el estado será *entrelazado*.\n"
   ]
  },
  {
   "cell_type": "markdown",
   "id": "69be48e8",
   "metadata": {
    "slideshow": {
     "slide_type": "slide"
    }
   },
   "source": [
    "<a id='multipartite'></a>\n",
    "<table width=\"100%\">\n",
    "    <td style=\"font-size:30px;font-family:Helvetica;text-align:left;background-color:rgba(102, 103, 237, 0.3);\">\n",
    "<b>Sistemas Multipartitos</b>\n",
    "</table>  "
   ]
  },
  {
   "cell_type": "markdown",
   "id": "f4f4aac4",
   "metadata": {},
   "source": [
    "El producto tensorial se puede generalizar a más de un factor. De este modo obtenemos el espacio $ \\Hil_1\\otimes \\Hil_2 ... \\otimes \\Hil_n$ formado por todas las *cadenas* ordenadas de vectores $\\ket{u} = \\ket{u_1u_2...u_n} \\equiv\\ket{u_1}\\otimes\\ket{u_2}\\otimes ...\\otimes \\ket{u_n}$ donde $\\ket{u_i}\\in \\Hil_i$ *y sus combinaciones lineales* \n",
    "\n",
    "En adelante asumiremos que todos los $\\Hil_j=\\Hil$ son iguales y de dimension $N$."
   ]
  },
  {
   "cell_type": "markdown",
   "id": "bf0f1a58",
   "metadata": {},
   "source": [
    "### Base\n",
    "\n",
    "Una base de $\\Hil^{\\otimes n}$ se obtiene a partir de cadenas $\\ket{i_1 i_2.... i_n} = \n",
    "\\ket{i_1}\\ket{i_2}  ... \\ket{i_n}$ donde $i_1,..,i_n=1,...,N$. El número de posibles cadenas es $N\\, N\\, ... \\, N = N^n$ que  no es otro que la dimensión de $\\Hil^{\\otimes n}$."
   ]
  },
  {
   "cell_type": "markdown",
   "id": "fbcc8e64",
   "metadata": {
    "slideshow": {
     "slide_type": "slide"
    }
   },
   "source": [
    "Un *vector general* admitirá una expansión en esta base mediante $2^n$ coeficientes complejos\n",
    "$u_{i_1 i_2...i_n}$ en la forma\n",
    "\n",
    "$$\n",
    "\\fbox{$\n",
    "\\ket{u} = \\sum_{i_1,...,i_n=1}^N u_{i_1i_2...i_n} \\ket{i_1i_2...i_n}\\, .\n",
    "$}\n",
    "$$\n",
    "<br>"
   ]
  },
  {
   "cell_type": "markdown",
   "id": "a4657f27",
   "metadata": {
    "slideshow": {
     "slide_type": "slide"
    }
   },
   "source": [
    "### Entrelazamiento\n",
    "\n",
    "Al igual que antes, en casos muy particulares, un vector de $\\Hil^{\\otimes n}$ se podra escribir en forma factorizada\n",
    "\n",
    "$$\n",
    "\\ket{w} = \\ket{v_1}\\ket{v_2}\\ldots\\ket{v_n} \\equiv \\ket{v_1 v_2 \\ldots v_n}\n",
    "$$\n",
    "\n",
    "Escribiendo $\\ket{v_k} = \\sum_{i_k=1}^N a_{i_k}\\ket{i_k}$ vemos que un *vector factorizable* admite una expansión general en la que los coeficientes \n",
    "\n",
    "$$\n",
    "u_{i_1i_2...i_n}  = a_{i_1} a_{i_2}.... a_{i_n}\n",
    "$$\n",
    "\n",
    "están parametrizados por $nN$ cantidades $a_{i_k}, \\, i_k=1,...,N, \\, k=1,...,n$."
   ]
  },
  {
   "cell_type": "markdown",
   "id": "8487030c",
   "metadata": {},
   "source": [
    "El conjunto de vectores factorizables es despreciable frente al conjunto de vectores entrelazados. No existe un criterio general para saber si un estado es, a priori, factorizable o entrelazado. Además, hay formas de caracterizar el nivel de entrelazamiento desde nulo (estado factorizable) hasta maximal (contiene todos los estados de la base). "
   ]
  },
  {
   "cell_type": "markdown",
   "id": "9e4b5820",
   "metadata": {
    "slideshow": {
     "slide_type": "slide"
    }
   },
   "source": [
    "<a id='operators'></a>\n",
    "<table width=\"100%\">\n",
    "    <td style=\"font-size:30px;font-family:Helvetica;text-align:left;background-color:rgba(102, 103, 237, 0.3);\">\n",
    "<b>Operadores sobre $H^{\\otimes n}$</b>\n",
    "</table>  \n"
   ]
  },
  {
   "cell_type": "markdown",
   "id": "34f408bc",
   "metadata": {},
   "source": [
    "\n",
    "\n",
    "<table width=\"100%\"><td style=\"font-size:15px;font-style:italic;text-align:left;\">\n",
    "   <br> \n",
    "El espacio $\\Hil^{\\otimes n}$ admite, como cualquier espacio vectorial, la acción de *operadores lineales* $A: \\Hil^{\\otimes n} \\to \\Hil^{\\otimes n}$ donde, para cualquier $\\ket{u} \\in \\Hil^{\\otimes n}$\n",
    "\n",
    "$$\n",
    "A:\\ket{u} \\to \\ket{v} \\equiv A\\ket{u}\n",
    "$$    \n",
    "</td></table>\n"
   ]
  },
  {
   "cell_type": "markdown",
   "id": "1388fe67",
   "metadata": {
    "slideshow": {
     "slide_type": "slide"
    }
   },
   "source": [
    "### Matrices\n",
    "\n",
    "A cada operador, $A$, le podemos asociadar una matriz, una vez elijamos nuestra base de $\\Hil^{\\otimes n}$. \n",
    " Recordemos que una base de este espacio viene dada por los $2^n$ elementos $\\{ \\ket{i_1 i_2... i_n}\\}$ donde, $i_a = 1,2$ para el caso de tratar con cúbits. Los elementos de matriz ahora vendrán etiquetados por dos *multi-índices*. \n",
    "\n",
    "<br>\n",
    "<br>\n",
    "$$ \n",
    "A = \\sum_{i_1,...,i_n,\\, j_1,...,j_n} A_{i_1...i_n, \\, j_1...j_n} \\ket{i_1...i_n}\\bra{j_1...j_n}\n",
    "$$\n",
    "<br>\n"
   ]
  },
  {
   "cell_type": "markdown",
   "id": "cab3762e",
   "metadata": {
    "slideshow": {
     "slide_type": "-"
    }
   },
   "source": [
    "- En $A_{i_1...i_n,\\,j_1...j_n}$ hay $2^n\\times 2^n = 2^{2n}$ grados de libertad. Estas serían las componentes del *operador más general* actuando sobre $\\Hil^{\\otimes n}$.\n",
    "<br>\n",
    "\n",
    "- Como veremos a continuación hay una clase de operadores $A$ *más restringidos* que se inducen a partir del producto tensorial de operadores que actúan sobre cada espacio."
   ]
  },
  {
   "cell_type": "markdown",
   "id": "33c2f2ee",
   "metadata": {
    "slideshow": {
     "slide_type": "slide"
    }
   },
   "source": [
    "### Producto tensorial de operadores"
   ]
  },
  {
   "cell_type": "markdown",
   "id": "cbe70235",
   "metadata": {},
   "source": [
    "El producto tensorial de espacios $\\Hil^{\\otimes n} = \\Hil \\otimes ...\\otimes \\Hil$ conduce de forma natural a la nocion de *producto tensorial de operadores*. Supongamos que tenemos operadores lineales $A^{(a)}\\, ,\\, a=1,...,n$ definidos sobre cada espacio factor $\\Hil$."
   ]
  },
  {
   "cell_type": "markdown",
   "id": "fe385395",
   "metadata": {
    "slideshow": {
     "slide_type": "slide"
    }
   },
   "source": [
    "<table width=\"100%\"><td style=\"font-size:15px;font-style:italic;text-align:center;\">\n",
    "<br> \n",
    "La acción del operador  $A = A^{(1)}\\otimes A^{(2)} \\otimes ...A^{(n)}$ sobre un vector $\\ket{v} = \\ket{v}_1\\otimes ...\\otimes \\ket{v_n}\\in \\Hil~$   viene dada por \n",
    "<br>\n",
    "<br>\n",
    "$$\n",
    "A\\ket{v} = A^{(1)}\\ket{v_1}\\otimes ... \\otimes A^{(n)} \\ket{v_n}\\, .\n",
    "$$\n",
    "<br>\n",
    "Decimos de $A$  es un operador  factorizable.    \n",
    "</td></table>\n",
    "\n",
    "Importante destacar que, al igual que $A^{(a)}$, el operador $A$ es *lineal*. Con eso la generalización a vectores $\\ket{v}$ entrelazados es inmediata.\n",
    "\n",
    "\n",
    "- El producto tensorial de operadores hermíticos es hermítico\n",
    "\n",
    "$$ A^{\\dagger} = A ~~\\Leftrightarrow ~~A^{(a)\\dagger} = A^{(a)} \\,, \\,  a=1,...,n $$\n",
    "\n",
    "- El producto tensorial de operadores unitarios, es unitario\n",
    "\n",
    "$$ A^{\\dagger} = A^{-1} ~~\\Leftrightarrow ~~A^{(a)\\dagger} = A^{(a)\\, -1} \\,, \\,  a=1,...,n $$\n"
   ]
  },
  {
   "cell_type": "markdown",
   "id": "61d4d2d6",
   "metadata": {
    "slideshow": {
     "slide_type": "slide"
    }
   },
   "source": [
    "### Producto de Kronecker de matrices"
   ]
  },
  {
   "cell_type": "markdown",
   "id": "9fd2d71f",
   "metadata": {},
   "source": [
    "En la lección de operadores vimos cómo, dada una base $\\{\\ket{i}\\}$ podemos asociar a cada operador $A^{(a)}$, una matriz $A^{(a)}_{ij}$.\n",
    "\n",
    "$$\n",
    "A^{(a)} = \\sum_{i,j} A^{(a)}_{ij} \\ket{i}\\bra{j}~,~~~~~~~a = 1,...,n\\, .\n",
    "$$\n",
    "\n"
   ]
  },
  {
   "cell_type": "markdown",
   "id": "2e8f9a98",
   "metadata": {
    "slideshow": {
     "slide_type": "slide"
    }
   },
   "source": [
    "Tomemos caso de que $A$ sea un operador **factorizable**, \n",
    "\n",
    "$$ A = A^{(1)}\\otimes A^{(2)} \\otimes ...A^{(n)}$$\n",
    "\n",
    "las matrices de  $A \\to A_{i_1...i_n, \\, j_1...j_n}$  y de  $A^{(a)} \\to A^{(a)}_{ij}$  están relacionadas.\n",
    "\n",
    "\n",
    "Vamos a tomar  $n=2$ por simplicidad\n",
    "\n",
    "\\begin{eqnarray}\n",
    "A = A^{(1)}\\otimes  A^{(2)} &=&\\left( \\sum_{i_1i_2}A_{i_1 j_1} \\ket{i_1}\\bra{j_1}\\right)\\left( \\sum_{i_2j_2}A_{i_2 j_2} \\ket{i_2}\\bra{j_2}\\right)\\\\\n",
    "&=& \\sum_{i_1 i_2 , j_1 j_2} A_{i_1 j_1}A_{i_1 j_1}\\ket{i_1 i_2}\\bra{j_1j_2} \\\\\n",
    "&=& \\sum_{i_1 i_2 , j_1 j_2} A_{i_1i_2,\\, j_1j_2}\\ket{i_1 i_2}\\bra{j_1j_2}\n",
    "\\end{eqnarray}\n",
    "\n",
    "<br>"
   ]
  },
  {
   "cell_type": "markdown",
   "id": "ba8e65a9",
   "metadata": {
    "slideshow": {
     "slide_type": "slide"
    }
   },
   "source": [
    "Vemos que la matriz asociada a $A$ se obtiene  a partir de las matrices de $A^{(a)}$ mediante el  *producto exterior de las matrices*, o *producto de Kronecker*.\n",
    "\n",
    "<br>\n",
    "\n",
    "$$\n",
    "\\fbox{$ A_{i_1i_2,\\,j_1j_2} = A^{(1)}_{i_1j_1}A^{(2)}_{i_2 j_2} $}\n",
    "$$\n",
    "\n",
    "<br>\n",
    "\n",
    "Observar que en un operador general, la matriz $ A_{i_1i_2,\\,j_1j_2}$ tiene $2^4=16$ entradas independientes. Sin embargo \n",
    "en un producto de Kronecker $A^{(1)}_{i_1j_1}A^{(2)}_{i_2 j_2}$ sólo hay $2^2+ 2^2 = 8$. Por tanto, los *operadores factorizables* forman un subconjunto muy pequeño dentro del conjunto de los operadores generales.\n",
    "\n",
    "Esta consideración es la paralela a la que hemos realizado al comparar el espacio de vectores factorizables con el de vectores entrelazados."
   ]
  },
  {
   "cell_type": "markdown",
   "id": "8bd08b64",
   "metadata": {
    "slideshow": {
     "slide_type": "slide"
    }
   },
   "source": [
    "<hr />\n",
    "\n",
    "- La manera de representar matricialmente el producto de tensorial de dos matrices $A\\otimes B$ se puede ver en la siguiente ecuación\n",
    "\n",
    "<br>\n",
    "\n",
    "$$\n",
    "A\\otimes B = \\begin{pmatrix} A_{00}B & A_{01}B \\\\ A_{10}B & A_{11}B \\end{pmatrix} = \\begin{pmatrix} A_{00}B_{00} & A_{00}B_{01} & A_{01}B_{00} & A_{01}B_{01} \\\\\n",
    "                A_{00}B_{10} & A_{00}B_{11} & A_{01}B_{10} & A_{01}B_{11} \\\\\n",
    "                A_{10}B_{00} & A_{10}B_{01} & A_{11}B_{00} & A_{11}B_{01} \\\\\n",
    "                A_{10}B_{10} & A_{10}B_{11} & A_{11}B_{10} & A_{11}B_{11} \\end{pmatrix}.\n",
    "$$\n",
    "\n",
    "<br>\n",
    "\n",
    "</div>\n",
    "\n",
    "- El producto de Kronecker verifica que es un homomorfismo\n",
    "<br>\n",
    "\n",
    "$$ (A\\otimes B)\\cdot (C\\otimes D)  = A\\cdot C\\otimes B\\cdot D $$ \n",
    "\n",
    "donde hemos denotado  el producto de matrices con un punto, y vemos que, en cada lado involucra matrices diferentes\n",
    "<br>\n",
    "\n",
    "\n"
   ]
  },
  {
   "cell_type": "markdown",
   "id": "bed44f6c",
   "metadata": {
    "slideshow": {
     "slide_type": "slide"
    }
   },
   "source": [
    "<hr />\n",
    "\n",
    "La generalización a todo $n$ es obvia. El producto de Kronecker de $n$ matrices $ A^{(a)}_{i_aj_a}$ asociadas a operadores $A^{(a)}$ es\n",
    "\n",
    "<br>\n",
    "\n",
    "$$\n",
    "\\fbox{$ A_{i_1...i_n,\\,j_1...j_n} = A^{(1)}_{i_1j_1}...A^{(n)}_{i_n j_n} $}\n",
    "$$\n",
    "\n",
    "<br>\n",
    "\n",
    "\n",
    "El operador más general no es un producto tensorial. En $A_{i_1...i_n,\\,j_1...j_n}$ hay $2^n\\times 2^n = 2^{2n}$ grados de libertad. Sin embargo en $A^{(1)}_{i_1j_1}...A^{(n)}_{i_n j_n}$ hay $(2^2)\\times n= 4n$. \n"
   ]
  },
  {
   "cell_type": "markdown",
   "id": "abb1c11d",
   "metadata": {
    "slideshow": {
     "slide_type": "slide"
    }
   },
   "source": [
    "### Operadores no-factorizables\n",
    "\n",
    "¿Qué ocurre cuando un operador no se puede expresar en forma factorizada? Por simplicidad consideremos un sistema bi-partito $N=2$ y un operador $A$ que sea la suma de dos operadores factorizables\n",
    "\n",
    "<br>\n",
    "\n",
    "$$\n",
    "A = B + C\n",
    "$$\n",
    "\n",
    "<br>\n",
    "\n",
    "donde $B= B^{(1)}\\otimes B^{(2)}$ y $C= C^{(1)}\\otimes C^{(2)}$. \n",
    "Actuando sobre un vector factorizable $\\ket{u}=\\ket{u^{(1)}}\\otimes \\ket{u^{(2)}}$ \n",
    "\n",
    "<br>\n",
    "\n",
    "$$\n",
    "A\\ket{u} = (B+C)\\ket{u}=  B\\ket{u}+C\\ket{u}  = \\ket{b} + \\ket{c}\\, .\n",
    "$$\n",
    "\n",
    "<br>\n",
    "\n",
    "donde $\\ket{b} = B^{(1)}\\ket{u^{(1)}}\\otimes B^{(2)}\\ket{u^{(2)}}$ y $\\ket{c} =C^{(1)}\\ket{u^{(1)}}\\otimes C^{(2)}\\ket{u^{(2)}} $ son, ambos, vectores factorizables."
   ]
  },
  {
   "cell_type": "markdown",
   "id": "2cf6e711",
   "metadata": {
    "slideshow": {
     "slide_type": "slide"
    }
   },
   "source": [
    "Vemos que la acción de un operador no factorizable, puede  *generar entrelazamiento*. En el caso anterior, si ambos $\\ket{b}$ y $\\ket{c}$ no son nulos, el vector final será entrelazado. \n",
    "\n",
    "<br>\n",
    "\n",
    "- Si $B$ y $C$ son operadores hermíticos, el operador entrelazado $A = B + C$ es hermítico.\n",
    "\n",
    "<br>\n",
    "\n",
    "- Si $B$ y $C$ son operadores unitarios, el operador entrelazado $A = B + C$ pueder ser, o no unitario. La manera de dilucidar esto es mirando a la matriz $ A_{i_1i_2,\\,j_1j_2}$ que define este operador en una base. Será unitario si\n",
    "\n",
    "$$\n",
    "A^{-1}_{i_1i_2,\\,j_1j_2}  = A^*_{j_1j_2, i_1i_2}\n",
    "$$"
   ]
  },
  {
   "cell_type": "markdown",
   "id": "0ce8d249",
   "metadata": {
    "slideshow": {
     "slide_type": "slide"
    }
   },
   "source": [
    "\n",
    "<div class=\"alert alert-block alert-success\">\n",
    "    <b>Ejercicio:</b> \n",
    "    \n",
    "En temas posteriores se estudiará la puerta CNOT. Aquí vamos a estudiar el operador asociado. Considera la base $\\ket{e_0}=\\ket{0},\\ket{e_1}=\\ket{1}$ del espacio $\\Hil$ de dimensión 2. Sea $A= B + C$ un operador que actúa sobre el producto $\\Hil\\otimes \\Hil$,  donde $B$ y $C$ son operadores factorizables dados por\n",
    "\n",
    "<br>\n",
    "    \n",
    "$$\n",
    "B = \\ket{0}\\bra{0}\\otimes I ~~~, ~~~~ \n",
    "C = \\ket{1}\\bra{1}\\otimes (\\ket{0}\\bra{1} + \\ket{1}\\bra{0})\n",
    "$$\n",
    "    \n",
    "    \n",
    "Escribe los elementos $B_{ij}$ y $C_{ij}, i,j=1,2,3,4$  y obtén $A_{ij}$. \n",
    "\n",
    "Comprueba si $C$, $B$ y $A$ son operadores unitarios o no.\n",
    "</div>"
   ]
  }
 ],
 "metadata": {
  "kernelspec": {
   "display_name": "Python 3",
   "language": "python",
   "name": "python3"
  },
  "language_info": {
   "codemirror_mode": {
    "name": "ipython",
    "version": 3
   },
   "file_extension": ".py",
   "mimetype": "text/x-python",
   "name": "python",
   "nbconvert_exporter": "python",
   "pygments_lexer": "ipython3",
   "version": "3.7.10"
  },
  "varInspector": {
   "cols": {
    "lenName": 16,
    "lenType": 16,
    "lenVar": 40
   },
   "kernels_config": {
    "python": {
     "delete_cmd_postfix": "",
     "delete_cmd_prefix": "del ",
     "library": "var_list.py",
     "varRefreshCmd": "print(var_dic_list())"
    },
    "r": {
     "delete_cmd_postfix": ") ",
     "delete_cmd_prefix": "rm(",
     "library": "var_list.r",
     "varRefreshCmd": "cat(var_dic_list()) "
    }
   },
   "types_to_exclude": [
    "module",
    "function",
    "builtin_function_or_method",
    "instance",
    "_Feature"
   ],
   "window_display": false
  }
 },
 "nbformat": 4,
 "nbformat_minor": 5
}
