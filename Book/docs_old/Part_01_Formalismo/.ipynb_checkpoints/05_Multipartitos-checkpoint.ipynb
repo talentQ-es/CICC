{
 "cells": [
  {
   "cell_type": "markdown",
   "metadata": {
    "slideshow": {
     "slide_type": "slide"
    }
   },
   "source": [
    "<table width=\"100%\"><td style=\"font-size:22px;font-style:italic;text-align:right;\">\n",
    " Mecánica Cuántica: las reglas de juego   </td></table>\n",
    "\n",
    "Autor: Javier Mas\n",
    "$ \\newcommand{\\bra}[1]{\\langle #1|} $\n",
    "$ \\newcommand{\\ket}[1]{|#1\\rangle} $\n",
    "$ \\newcommand{\\braket}[2]{\\langle #1|#2\\rangle} $\n",
    "$ \\newcommand{\\i}{{\\color{blue} i}} $ \n",
    "$ \\newcommand{\\Hil}{{\\mathbb H}} $"
   ]
  },
  {
   "cell_type": "code",
   "execution_count": 2,
   "metadata": {},
   "outputs": [],
   "source": [
    "import numpy as np\n",
    "from IPython.display import display,Markdown,Latex\n",
    "import matplotlib.pyplot as plt\n",
    "'Correr esta celda para incluir funciones predefinidas'\n",
    "%run ../macro_CURSO.py"
   ]
  },
  {
   "cell_type": "markdown",
   "metadata": {
    "slideshow": {
     "slide_type": "slide"
    }
   },
   "source": [
    "# Sistemas Multipartitos\n",
    "\n",
    "-[Producto Tensorial](#prodtens) \n",
    "\n",
    "-[Entrelazamiento](#entangle) \n",
    "\n",
    "-[Operadores](#operators) \n"
   ]
  },
  {
   "cell_type": "markdown",
   "metadata": {
    "slideshow": {
     "slide_type": "fragment"
    }
   },
   "source": [
    "Un computador clásico es capaz de tratar grandes cantidades de bits a base de acumular dispositivos de un solo bit. Cuánticamente consideraríamos una colección de sistemas que implementen un cúbit. Por supuesto, esa colección debe admitir superposiciones cuánticas de los estados de cada subsistema. La herramienta matemática para describir un sistema compuesto así es el *producto tensorial* de espacios de Hilbert "
   ]
  },
  {
   "cell_type": "markdown",
   "metadata": {
    "slideshow": {
     "slide_type": "slide"
    }
   },
   "source": [
    "##  Producto Tensorial<a id=\"vecprotens\"></a>"
   ]
  },
  {
   "cell_type": "markdown",
   "metadata": {
    "slideshow": {
     "slide_type": "slide"
    }
   },
   "source": [
    "### Definición"
   ]
  },
  {
   "cell_type": "markdown",
   "metadata": {
    "slideshow": {
     "slide_type": "subslide"
    }
   },
   "source": [
    "A partir  dos espacios de Hilbert, ${\\mathbb H}_{1}$ y ${\\mathbb H}_2$, de dimensiones $N_1$ y $N_2$ respectivamente, podemos formar un nuevo espacio de Hilbert de dimensión $N_1\\times N_2$, denominado *Espacio Producto Tensorial* \n",
    "\n",
    "$$\n",
    "\\Hil = \\Hil_1 \\otimes \\Hil_2 \\, .\n",
    "$$"
   ]
  },
  {
   "cell_type": "markdown",
   "metadata": {
    "slideshow": {
     "slide_type": "subslide"
    }
   },
   "source": [
    "Dados dos vectores $\\ket{u}_1\\in \\Hil_1$ y  $\\ket{v}_2\\in \\Hil_2$, denominamos *producto tensorial* al *par ordenado* \n",
    "\n",
    "<br>\n",
    "\n",
    "$$\n",
    "\\ket{uv} ~\\equiv \\ket{u}_1\\otimes \\ket{v}_2~\\in ~\\Hil\n",
    "$$\n",
    "\n",
    "<br>\n",
    "\n",
    "Sin embargo, y esto es **muy importante**, este *no es* el vector más general de $\\Hil$.\n"
   ]
  },
  {
   "cell_type": "markdown",
   "metadata": {
    "slideshow": {
     "slide_type": "subslide"
    }
   },
   "source": [
    "\n",
    "<table width=\"100%\"><td style=\"font-size:15px;font-style:italic;text-align:left;\">\n",
    "<b>Definición:</b>\n",
    "   <br> \n",
    "    \n",
    "  El espacio producto tensorial  $\\Hil = \\Hil_1 \\otimes \\Hil_2$ está formado por  <b>todas las combinaciones lineales</b> posibles de productos tensoriales  de la forma \n",
    "<br>\n",
    "<br>\n",
    "$$\n",
    "\\ket{s}= a\\ket{u}_1\\otimes\\ket{u}_2 ~+~ b \\ket{v}_1\\otimes\\ket{v}_2 ~+ ~...\n",
    "$$\n",
    "<br>\n",
    "donde  $\\ket{u}_1,\\ket{v}_1,...\\in \\Hil_1\\, ~$ y $~\\, \\ket{u}_2,\\ket{v}_2,...\\in \\Hil_2~$,\n",
    "    y $~a,b,... \\in {\\mathbb C}$ son coeficientes complejos.\n",
    "</td></table>\n",
    "    \n",
    "En adelante nos restringiremos al caso $N_1 = N_2=N$ y prescindiremos del subíndice $\\ket{u}_1\\otimes \\ket{y}_2=\\ket{u}\\otimes \\ket{y} \\equiv \\ket{uy}$ que estará implícito en el orden. Para computación cuántica con cúbits (cúdits), el valor relevante es $N=2\\,(N\\geq 3)$. \n"
   ]
  },
  {
   "cell_type": "markdown",
   "metadata": {},
   "source": [
    "### Producto de Kronecker"
   ]
  },
  {
   "cell_type": "markdown",
   "metadata": {},
   "source": [
    "Cualquier vector, admitirá en una base una representación como un vector columna con sus coeficientes como entradas. \n",
    "\n",
    "\n",
    "La matriz columna asociada $\\ket{uv}= \\ket{u}\\otimes \\ket{v}$ se forma a partir de las matrices columna de $\\ket{u}$ y $\\ket{v}$ mediante el denominado *producto de Kronecker* o, también *producto tensorial*. \n",
    "\n",
    "$$\n",
    " \\ket{uv} = \\ket{u}\\otimes \\ket{v} ~\\sim~ \n",
    "\\begin{pmatrix}u_1\\\\ u_2 \\end{pmatrix}\\otimes \\begin{pmatrix}v_1\\\\ v_2 \\end{pmatrix} ~\\equiv ~\n",
    "\\begin{pmatrix}u_1 \\begin{pmatrix}v_1\\\\ v_2 \\end{pmatrix} \\\\ u_2 \\begin{pmatrix}v_1\\\\ v_2 \\end{pmatrix}  \\end{pmatrix}\n",
    "~=~\\begin{pmatrix}u_1v_1\\\\ u_1v_2 \\\\ v_2 u_1 \\\\ u_2 v_2  \\end{pmatrix}\n",
    "$$\n",
    "\n",
    "\n"
   ]
  },
  {
   "cell_type": "code",
   "execution_count": 15,
   "metadata": {},
   "outputs": [
    {
     "data": {
      "text/markdown": [
       "\\begin{pmatrix}-2.00\\\\3.00\\\\-4.00\\\\6.00\\\\6.00\\\\-9.00\\end{pmatrix}"
      ],
      "text/plain": [
       "<IPython.core.display.Markdown object>"
      ]
     },
     "metadata": {},
     "output_type": "display_data"
    }
   ],
   "source": [
    "# |u> y |v>\n",
    "ketu = np.array([[1],[2],[-3]])\n",
    "ketv = np.array([[-2],[3]])\n",
    "\n",
    "# |uv>\n",
    "def kronecker_ket(ketu,ketv):\n",
    "    u=ketu.flatten() \n",
    "    v=ketv.flatten()\n",
    "    uv=np.array([])\n",
    "    for i in range(len(u)):  \n",
    "        for j in range(len(v)):  \n",
    "            uv=np.append(uv,[u[i]*v[j]])\n",
    "    return uv.reshape((len(uv),1))\n",
    "\n",
    "ketuv = kronecker_ket(ketu,ketv)\n",
    "Display(MatrixToLatex(ketuv))"
   ]
  },
  {
   "cell_type": "markdown",
   "metadata": {},
   "source": [
    "### Propiedades"
   ]
  },
  {
   "cell_type": "markdown",
   "metadata": {},
   "source": [
    "- Como $\\Hil_1$ y $\\Hil_2$ son espacios vectoriales, tienen definida una suma interna. \n",
    "El producto tensorial de una suma se resuelve invocando la *propiedad distributiva*\n",
    "\n",
    "\\begin{eqnarray}\n",
    "\\big(\\ket{u}+\\ket{v}\\big)\\otimes \\big(\\ket{y}+\\ket{z}\\big) ~&\\equiv &~~\n",
    "\\ket{u}\\otimes\\ket{y} ~+~ \\ket{u}\\otimes\\ket{z} ~+~ \\ket{v}\\otimes\\ket{y} ~+~~\n",
    " \\ket{v}\\otimes\\ket{z} \\\\\n",
    " \\rule{0mm}{5mm}\n",
    " &=& \\ket{uy} + \\ket{uz} + \\ket{vy} + \\ket{vz}\n",
    "\\end{eqnarray}\n",
    "\n",
    "<details>\n",
    "<summary><p style=\"color:blue\"> Observar</p></summary>\n",
    "<br>\n",
    "la diferencia que hay con lo que definiría un producto cartesiano\n",
    "<br>\n",
    "<br>    \n",
    "$$\n",
    "\\big(\\ket{u}+\\ket{v}\\big)\\times \\big(\\ket{y}+\\ket{z}\\big)  ~\\equiv ~~~\n",
    "\\ket{u}\\otimes\\ket{y}~ + ~\\ket{v}\\otimes\\ket{z} \\hspace{4.7cm}\n",
    "$$\n",
    "<br>    \n",
    "Esta sutil diferencia está en la esencia de la potencia computacional de la Mecánica Cuántica. En el primer caso, el espacio producto tensorial $\\Hil{\\otimes }\\Hil$ tiene dimensión $N^2$. En el segundo, $\\Hil{\\times }\\Hil$ tiene dimensión $2N$. A partir de $N=3$ la diferencia crece muy deprisa.\n",
    "</details>"
   ]
  },
  {
   "cell_type": "markdown",
   "metadata": {},
   "source": [
    "### Base"
   ]
  },
  {
   "cell_type": "markdown",
   "metadata": {},
   "source": [
    "- Sea $\\ket{e_i}$ una base de $\\Hil$. Entonces, una base de $\\Hil\\otimes \\Hil=\\Hil^{\\otimes 2}$ se obtiene\n",
    "a partir de *todos* los emparejamientos \n",
    "\n",
    "$$\n",
    "\\ket{e_{ij}} = \\ket{e_i}\\otimes \\ket{e_j}~~~~~~~~~~~~~~~~~~ i,j=1....N\n",
    "$$\n",
    "\n",
    " El número parejas posibles es $N^2$, que coincide con la dimensión de $\\Hil^{\\otimes 2}$.\n",
    "\n",
    "- Por ejemplo con $N=2$ tendríamos $N^2 = 4$ y entonces\n",
    "\n",
    "$$\n",
    "\\ket{e_{11}}~=~ \\ket{e_{1}}\\otimes \\ket{e_{1}}~ \\sim~\n",
    "\\begin{pmatrix}1\\\\ 0\\end{pmatrix}\\begin{pmatrix}1\\\\ 0\\end{pmatrix} = \\begin{pmatrix}1\\\\0\\\\0 \\\\ 0\\end{pmatrix}\n",
    "~~~~~~,~~~~~\n",
    "\\ket{e_{12}}~=~ \\ket{e_{1}}\\otimes \\ket{e_{2}}~\\sim~\n",
    "\\begin{pmatrix}1\\\\ 0\\end{pmatrix}\\begin{pmatrix}0\\\\ 1\\end{pmatrix} = \\begin{pmatrix}0\\\\1\\\\0 \\\\ 0\\end{pmatrix}\n",
    "$$\n",
    "\n",
    "$$\n",
    "\\ket{e_{21}}~=~ \\ket{e_{2}}\\otimes \\ket{e_{1}}~\\sim~\n",
    " \\begin{pmatrix}0\\\\ 1\\end{pmatrix}\\begin{pmatrix}1\\\\ 0\\end{pmatrix} = \\begin{pmatrix}0\\\\0\\\\1 \\\\ 0\\end{pmatrix}\n",
    " ~~~~~,~~~~\n",
    "\\ket{e_{22}}~=~ \\ket{e_{2}}\\otimes \\ket{e_{2}}~\\sim~\n",
    "\\begin{pmatrix}0\\\\ 1\\end{pmatrix}\\begin{pmatrix}0\\\\ 1\\end{pmatrix} = \\begin{pmatrix}0\\\\0\\\\0 \\\\ 1\\end{pmatrix}\n",
    "$$\n",
    "\n",
    "Vemos que las etiquetas de los vectores y, por tanto, de las componentes de las matrices, no son un índice $k=1,2,3,4$, sino un bi-índice $ij=11,12,21,22$ que adopta el mísmo número, $N^2$, de cofiguraciones distintas. \n",
    "\n",
    "Vemos que las componentes de vectores, de dimensión 4, no son etiquetadas con un índice $k=1,2,3,4$, \n",
    "\n",
    "- Siguiendo con $N=2$, como ahora tenemos una base $\\{\\ket{e_{ij}}\\}$, el *vector más general*  $\\ket{w}\\in \\Hil\\otimes\\Hil$ admitirá una representación de la forma\n",
    "\n",
    "<br>\n",
    "$$\n",
    "\\ket{w} ~=~ \\begin{pmatrix}w_{11}\\\\ w_{12}\\\\ w_{21} \\\\ w_{22}  \\end{pmatrix}\n",
    "~=~ w_{11}\\begin{pmatrix}1\\\\0\\\\0 \\\\ 0\\end{pmatrix}+ w_{12}  \\begin{pmatrix}0\\\\1\\\\0 \\\\ 0\\end{pmatrix} + w_{21}\\begin{pmatrix}0\\\\0\\\\1\\\\0\\end{pmatrix}+w_{22}  \\begin{pmatrix}0\\\\0\\\\0\\\\1\\end{pmatrix}   ~ = ~ \\sum_{i,j=1}^N w_{ij} \\ket{e_{ij}} \n",
    "$$\n",
    "\n",
    "\n",
    "\n"
   ]
  },
  {
   "cell_type": "markdown",
   "metadata": {},
   "source": [
    "##  Entrelazamiento"
   ]
  },
  {
   "cell_type": "markdown",
   "metadata": {},
   "source": [
    "Llegamos a uno de los conceptos *clave* en Teoría Cuántica de la Información. \n",
    "\n",
    "\n",
    "<b>Definición:</b>\n",
    "   <br>\n",
    "<table width=\"100%\"><td style=\"font-size:15px;font-style:italic;text-align:left;\">\n",
    "    Decimos que, un vector $\\ket{w}\\in \\Hil\\otimes\\Hil$ es <b>factorizable</b> cuando es posible encontrar vectores $\\ket{u},\\ket{v}\\in \\Hil$ tales que $ \\ket{w} = \\ket{u}\\otimes\\ket{v}$.\n",
    "    Cuando esto no sea posible $\\ket{w}$ no es factorizable y se dice que es <b>entrelazado</b>.\n",
    " </td></table>\n"
   ]
  },
  {
   "cell_type": "markdown",
   "metadata": {},
   "source": [
    "Ya hemos visto que, dada una base $\\ket{e_i}$ de $\\Hil$ el vector más general que pertenece al espacio producto admite una descomposición \n",
    "\n",
    "$$\n",
    "\\ket{w} = \\sum_{i,j=1}^N w_{ij}\\ket{e_{i}}\\otimes \\ket{e_j} = w_{11}\\ket{e_1}\\ket{e_1} + w_{12}\\ket{e_1}\\ket{e_2} + ...\\, .\n",
    "$$\n",
    "\n",
    "<br>"
   ]
  },
  {
   "cell_type": "markdown",
   "metadata": {},
   "source": [
    "Discernir si un vector escrito así es factorizable o entrelazado no es algo que se pueda hacer a primera vista. \n",
    "En ese sentido vamos a poner dos resultados que son útiles.\n",
    "\n",
    "\n",
    "\n",
    "**1-** Si los coeficientes $w_{ij}$ son productos de la forma $w_{ij} = u_i v_j$ con $i,j=1,...,N$ entonces el estado es $\\ket{w}$ es factorizable. \n",
    "\n",
    "<details>\n",
    "<summary><p style=\"color:blue\"> Demostración </p></summary>\n",
    "    \n",
    "Efectivamente\n",
    "\n",
    "$$\n",
    "\\ket{w}= \\sum_{i,j=1}^N w_{ij} \\ket{e_{ij}}  = \\sum_{i,j} u_{i}v_j \\ket{e_i}\\otimes \\ket{e_j}= \\sum_{i,j} u_{i} \\ket{e_i}\\otimes v_j\\ket{e_j}  ~ =~ \\sum_i u_i\\ket{e_i} \\otimes \\sum_j v_j\\ket{e_j} ~=~   \\ket{u}\\otimes \\ket{v}\n",
    "$$\n",
    "    \n",
    "Como función de $N$, en $w_{ij}$ hay $N^2$ números complejos independientes (grados de libertad). Sin embaro en $u_i v_j$ sólo hay $2N$ números independientes. Es evidente que $N^2>2N$.\n",
    "\n",
    " En conclusión: el carácter entrelazado de un vector es *genérico*, mientras que el de ser factorizable es *accidental*.\n",
    "</details>\n",
    "\n",
    "<details>\n",
    "<summary><p style=\"color:blue\"> Observación </p></summary>\n",
    "\n",
    "Si $N=2$ es decir, se trata de cúbits, podemos la condición $w_{ij} = u_i v_j$ es equivalente a verificar que\n",
    "    el determinante \n",
    "    $$\\det w_{ij} =  w_{11}w_{22}- w_{12}w_{21} = u_1v_1u_2v_2-u_1v_2u_2v_1=0$$  \n",
    "</details>\n"
   ]
  },
  {
   "cell_type": "markdown",
   "metadata": {},
   "source": [
    "**2-**  Los valores de las *componentes* $w_{ij}$ dependen de la base escogida. En otra base $\\ket{\\tilde e_{i}}$ encontraremos otras componentes $\\tilde w_{ij}$ para el mismo vector \n",
    "$$\n",
    "\\ket{w} = \\sum_{i,j=1}^N \\tilde w_{ij}\\ket{\\tilde e_{i}}\\otimes\\ket{\\tilde e_j}\n",
    "$$\n",
    "Si existe una base en la que $\\tilde w_{ij}=0$ para todos los $i,j>1$ menos para uno, entonces \n",
    "$\\ket{w}= \\tilde w_{11}\\ket{\\tilde e_1}\\otimes \\ket{e_1}$ sería factorizable. El siguiente teorema nos dice cuánto nos podemos acercar a esta situación\n",
    "\n",
    "<table width=\"100%\"><td style=\"font-size:15px;font-style:italic;text-align:left;\">\n",
    "    <b>Teorema de Schmidt</b>\n",
    "\n",
    "Para cada vector $\\ket{w}\\in \\Hil\\otimes \\Hil$, es posible encontrar una base $\\ket{f_i}$ de $\\Hil$ tal que\n",
    "$$\n",
    "\\ket{w} = \\sum_{i=1}^p s_i \\ket{f_i}\\otimes\\ket{f_i} \\, .\n",
    "$$\n",
    "</td></table>\n",
    "\n",
    "El número $p\\leq N$ se denomina *Número de Schmidt* y  es la información relevante que buscamos, porque cuando $p=1$ el estado $\\ket{w}$ será factorizable. En caso contrario, si $p\\geq 2$ el estado será entrelazado."
   ]
  },
  {
   "cell_type": "markdown",
   "metadata": {},
   "source": [
    "<br>\n",
    "\n",
    "# Sistemas multipartitos"
   ]
  },
  {
   "cell_type": "markdown",
   "metadata": {},
   "source": [
    "El producto tensorial se puede generalizar a más de un factor. De este modo obtenemos el espacio $ \\Hil_1\\otimes \\Hil_2 ... \\otimes \\Hil_n$ formado por todas las *cadenas* ordenadas de vectores $\\ket{u} = \\ket{u_1u_2...u_n} \\equiv\\ket{u_1}\\otimes\\ket{u_2}\\otimes ...\\otimes \\ket{u_n}$ donde $\\ket{u_i}\\in \\Hil_i$ * y sus combinaciones lineales* \n",
    "\n",
    "En adelante asumiremos que todos los $\\Hil_j=\\Hil$ son iguales y de dimension $N$."
   ]
  },
  {
   "cell_type": "markdown",
   "metadata": {},
   "source": [
    "### Base\n",
    "\n",
    "Una base de $\\Hil^{\\otimes n}$ se obtiene a partir de cadenas $\\ket{i_1 i_2.... i_n} = \n",
    "\\ket{i_1}\\ket{i_2}  ... \\ket{i_n}$ donde $i_1,..,i_n=1,...,N$. El número de posibles cadenas es $N\\times N\\times ... \\times N = N^n$ que  no es otro que la dimensión de $\\Hil^{\\otimes n}$."
   ]
  },
  {
   "cell_type": "markdown",
   "metadata": {},
   "source": [
    "Un *vector general* admitirá una expansión en esta base mediante $2^n$ coeficientes complejos\n",
    "$u_{i_1 i_2...i_n}$ en la forma\n",
    "\n",
    "$$\n",
    "\\fbox{$\n",
    "\\ket{u} = \\sum_{i_1,...,i_n=1}^N u_{i_1i_2...i_n} \\ket{i_1i_2...i_n}\\, .\n",
    "$}\n",
    "$$\n",
    "<br>"
   ]
  },
  {
   "cell_type": "markdown",
   "metadata": {},
   "source": [
    "### Entrelazamiento\n",
    "\n",
    "Al igual que antes, en casos muy particulares, un vector de $\\Hil^{\\otimes n}$ se podra escribir en forma factorizada\n",
    "\n",
    "$$\n",
    "\\ket{w} = \\ket{v_1}\\ket{v_2}...\\ket{v_n}\n",
    "$$\n",
    "\n",
    "Escribiendo $\\ket{v_k} = \\sum_{i_k=1}^N a_{i_k}\\ket{i_k}$ vemos que un *vector factorizable* admite una expansión general en la que los coeficientes \n",
    "\n",
    "$$\n",
    "u_{i_1i_2...i_n}  = a_{i_1} a_{i_2}.... a_{i_n}\n",
    "$$\n",
    "\n",
    "están parametrizados por $nN$ cantidades $a_{i_k}, \\, i_k=1,...,N, \\, k=1,...,n$."
   ]
  },
  {
   "cell_type": "markdown",
   "metadata": {},
   "source": [
    "El conjunto de vectores factorizables es despreciable frente al conjunto de vectores entrelazados. No existe un criterio general para saber si un estado es, a priori, factorizable o entrelazado. Además, hay formas de caracterizar el nivel de entrelazamiento desde nulo (estado factorizable) hasta maximal (contiene todas los estados de la base). "
   ]
  },
  {
   "cell_type": "markdown",
   "metadata": {},
   "source": [
    "# Operadores sobre $H^{\\otimes n}$"
   ]
  },
  {
   "cell_type": "markdown",
   "metadata": {},
   "source": []
  },
  {
   "cell_type": "markdown",
   "metadata": {},
   "source": [
    "<table width=\"100%\"><td style=\"font-size:15px;font-style:italic;text-align:left;\">\n",
    "   <br> \n",
    "El espacio $\\Hil^{\\otimes n}$ admite, como cualquier espacio vectorial, la acción de *operadores lineales* $A: \\Hil^{\\otimes n} \\to \\Hil^{\\otimes n}$ donde, para cualquier $\\ket{u} \\in \\Hil^{\\otimes n}$\n",
    "\n",
    "$$\n",
    "A:\\ket{u} \\to \\ket{v} \\equiv A\\ket{u}\n",
    "$$    \n",
    "</td></table>\n"
   ]
  },
  {
   "cell_type": "markdown",
   "metadata": {},
   "source": [
    "### Matrices\n",
    "\n",
    "A cada operador, $A$, le podemos asociadar una matriz, una vez elijamos nuestra base de $\\Hil^{\\otimes n}$. \n",
    " Recordemos que una base de este espacio viene dada por los $2^n$ elementos $\\{ \\ket{i_1 i_2... i_n}\\}$ donde, $i_a = 1,2$ para el caso de tratar con cúbits. Los elementos de matriz ahora vendrán etiquetados por dos *multi-índices*. \n",
    "\n",
    "$$ \n",
    "A = \\sum_{i_1,...,i_n,\\, j_1,...,j_n} A_{i_1...i_n, \\, j_1...j_n} \\ket{i_1...i_n}\\bra{j_1...j_n}\n",
    "$$\n"
   ]
  },
  {
   "cell_type": "markdown",
   "metadata": {},
   "source": [
    "- En $A_{i_1...i_n,\\,j_1...j_n}$ hay $2^n\\times 2^n = 2^{2n}$ grados de libertad. Estas serían las componentes del *operador más general* actuando sobre $\\Hil^{\\otimes n}$.\n",
    "<br>\n",
    "\n",
    "- Como veremos a continuación hay una clase de operadores $A$ *más restringidos* que se inducen a partir del producto tensorial de operadores que actúan sobre cada espacio."
   ]
  },
  {
   "cell_type": "markdown",
   "metadata": {},
   "source": [
    "### Producto tensorial de operadores"
   ]
  },
  {
   "cell_type": "markdown",
   "metadata": {},
   "source": [
    "El producto tensorial de espacios $\\Hil^{\\otimes n} = \\Hil \\otimes ...\\otimes \\Hil$ conduce de forma natural a la nocion de *producto tensorial de operadores*. Supongamos que tenemos operadores lineales $A^{(a)}\\, ,\\, a=1,...,n$ definidos sobre cada espacio factor $\\Hil$."
   ]
  },
  {
   "cell_type": "markdown",
   "metadata": {},
   "source": [
    "<table width=\"100%\"><td style=\"font-size:15px;font-style:italic;text-align:left;\">\n",
    "<b>Definición:</b>\n",
    "   <br> \n",
    "La acción del operador  $A = A^{(1)}\\otimes A^{(2)} \\otimes ...A^{(n)}$ sobre un vector $\\ket{v} = \\ket{v}_1\\otimes ...\\otimes v_n\\in \\Hil~$   viene dada por la expresión.\n",
    "\n",
    "$$\n",
    "A\\ket{v} = A^{(1)}\\ket{v_1}\\otimes ... \\otimes A^{(n)} \\ket{v_n}\n",
    "$$\n",
    "    \n",
    "</td></table>\n",
    "\n",
    "Importante destacar que, al igual que $A^{(a)}$, el operador $A$ es *lineal*. Con eso la generalización a vectores $\\ket{v}$ entrelazados es inmediata.\n",
    "\n",
    "\n",
    "- El producto tensorial de operadores hermíticos es hermítico\n",
    "\n",
    "$$ A^{\\dagger} = A ~~\\Leftrightarrow ~~A^{(a)\\dagger} = A^{(a)} \\,, \\,  a=1,...,n $$\n",
    "\n",
    "- El producto tensorial de operadores unitarios, es unitario\n",
    "\n",
    "$$ A^{\\dagger} = A^{-1} ~~\\Leftrightarrow ~~A^{(a)\\dagger} = A^{(a)\\, -1} \\,, \\,  a=1,...,n $$\n"
   ]
  },
  {
   "cell_type": "markdown",
   "metadata": {},
   "source": [
    "### Producto de Kronecker de matrices"
   ]
  },
  {
   "cell_type": "markdown",
   "metadata": {},
   "source": [
    "En la lección de operadores vimos cómo, dada una base $\\{\\ket{i}\\}$ podemos asociar a cada operador $A^{(a)}$, una matriz $A^{(a)}_{ij}$.\n",
    "\n",
    "$$\n",
    "A = \\sum_{i,j} A^{(a)}_{ij} \\ket{i}\\bra{j}~,~~~~~~~a = 1,...,n\\, .\n",
    "$$\n",
    "\n"
   ]
  },
  {
   "cell_type": "markdown",
   "metadata": {},
   "source": [
    "### Producto de Kronecker \n",
    "\n",
    "<table width=\"100%\"><td style=\"font-size:15px;font-style:italic;text-align:left;\">\n",
    "En el caso de que $A$ sea factorizable, $A = A^{(1)}\\otimes A^{(2)} \\otimes ...A^{(n)}$, las matrices de  $A \\to A_{i_1...i_n, \\, j_1...j_n}$ de  $A^{(a)} \\to A^{(a)}_{ij}$  están relacionadas.\n",
    "</td></table>\n",
    "\n",
    "\n",
    "Vamos a tomar  $n=2$ por simplicidad\n",
    "\n",
    "\\begin{eqnarray}\n",
    "A = A^{(1)}\\otimes  A^{(2)} &=&\\left( \\sum_{i_1i_2}A_{i_1 j_1} \\ket{i_1}\\bra{j_1}\\right)\\left( \\sum_{i_2j_2}A_{i_2 j_2} \\ket{i_2}\\bra{j_2}\\right)\\\\\n",
    "&=& \\sum_{i_1 i_2 , j_1 j_2} A_{i_1 j_1}A_{i_1 j_1}\\ket{i_1 i_2}\\bra{j_1j_2} \\\\\n",
    "&=& \\sum_{i_1 i_2 , j_1 j_2} A_{i_1i_2,\\, j_1j_2}\\ket{i_1 i_2}\\bra{j_1j_2}\n",
    "\\end{eqnarray}\n",
    "\n",
    "Vemos que la matriz asociada a $A$ se obtiene  a partir de las matrices de $A^{(a)}$ mediante el  *producto tensorial de matrices*, o *producto de Kronecker*.\n",
    "\n",
    "$$\n",
    "\\fbox{$ A_{i_1i_2,\\,j_1j_2} = A^{(1)}_{i_1j_1}A^{(2)}_{i_2 j_2} $}\n",
    "$$\n",
    "\n",
    "Observar que en un operador general, la matriz $ A_{i_1i_2,\\,j_1j_2}$ tiene $2^4=16$ entradas independientes. Sin embargo \n",
    "en un producto de Kronecker $A^{(1)}_{i_1j_1}A^{(2)}_{i_2 j_2}$ sólo hay $2^2+ 2^2 = 8$. Por tanto, los operadores factorizables forman un subconjunto muy pequeño dentro del conjunto de los operadores generales.\n"
   ]
  },
  {
   "cell_type": "markdown",
   "metadata": {},
   "source": [
    "<hr />\n",
    "\n",
    "- La manera de representar matricialmente el producto de tensorial de dos matrices $A\\otimes B$ se puede ver en la siguiente ecuación\n",
    "\n",
    "$$\n",
    "A\\otimes B = \\begin{pmatrix} A_{00}B & A_{01}B \\\\ A_{10}B & A_{11}B \\end{pmatrix} = \\begin{pmatrix} A_{00}B_{00} & A_{00}B_{01} & A_{01}B_{00} & A_{01}B_{01} \\\\\n",
    "                A_{00}B_{10} & A_{00}B_{11} & A_{01}B_{10} & A_{01}B_{11} \\\\\n",
    "                A_{10}B_{00} & A_{10}B_{01} & A_{11}B_{00} & A_{11}B_{01} \\\\\n",
    "                A_{10}B_{10} & A_{10}B_{11} & A_{11}B_{10} & A_{11}B_{11} \\end{pmatrix}.\n",
    "$$\n",
    "</div>\n",
    "\n",
    "- El producto de Kronecker verifica que es un homomorfismo\n",
    "\n",
    "$$ (A\\otimes B)(C\\otimes D)  = AC\\otimes BD $$ \n",
    "\n"
   ]
  },
  {
   "cell_type": "markdown",
   "metadata": {},
   "source": [
    "<hr />\n",
    "\n",
    "La generalización a todo $n$ es obvia. El producto de Kronecker de $n$ matrices asociadas a operadores $A^{(a)}$ es\n",
    "\n",
    "$$\n",
    "\\fbox{$ A_{i_1...i_n,\\,j_1...j_n} = A^{(1)}_{i_1j_1}...A^{(n)}_{i_n j_n} $}\n",
    "$$\n",
    "\n",
    "\n",
    "El operador más general no es un producto tensorial. En $A_{i_1...i_n,\\,j_1...j_n}$ hay $2^n\\times 2^n = 2^{2n}$ grados de libertad. Sin embargo en $A^{(1)}_{i_1j_1}...A^{(n)}_{i_n j_n}$ hay $(2^2)\\times n= 4n$. \n"
   ]
  },
  {
   "cell_type": "code",
   "execution_count": null,
   "metadata": {},
   "outputs": [],
   "source": []
  }
 ],
 "metadata": {
  "kernelspec": {
   "display_name": "Python 3",
   "language": "python",
   "name": "python3"
  },
  "language_info": {
   "codemirror_mode": {
    "name": "ipython",
    "version": 3
   },
   "file_extension": ".py",
   "mimetype": "text/x-python",
   "name": "python",
   "nbconvert_exporter": "python",
   "pygments_lexer": "ipython3",
   "version": "3.8.5"
  },
  "varInspector": {
   "cols": {
    "lenName": 16,
    "lenType": 16,
    "lenVar": 40
   },
   "kernels_config": {
    "python": {
     "delete_cmd_postfix": "",
     "delete_cmd_prefix": "del ",
     "library": "var_list.py",
     "varRefreshCmd": "print(var_dic_list())"
    },
    "r": {
     "delete_cmd_postfix": ") ",
     "delete_cmd_prefix": "rm(",
     "library": "var_list.r",
     "varRefreshCmd": "cat(var_dic_list()) "
    }
   },
   "types_to_exclude": [
    "module",
    "function",
    "builtin_function_or_method",
    "instance",
    "_Feature"
   ],
   "window_display": false
  }
 },
 "nbformat": 4,
 "nbformat_minor": 5
}
