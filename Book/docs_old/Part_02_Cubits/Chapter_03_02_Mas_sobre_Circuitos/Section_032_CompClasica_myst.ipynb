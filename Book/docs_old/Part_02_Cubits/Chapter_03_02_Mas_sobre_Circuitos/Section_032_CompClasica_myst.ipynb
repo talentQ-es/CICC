{
 "cells": [
  {
   "cell_type": "markdown",
   "metadata": {
    "slideshow": {
     "slide_type": "slide"
    }
   },
   "source": [
    "> {sub-ref}`today` | {sub-ref}`wordcount-minutes` min read\n",
    "\n",
    "::::{figure} ../../figuras/logos/Logo_TalentQ_Azul.png\n",
    ":width: 150px\n",
    ":align: right\n",
    "::::\n",
    "\n",
    "\n",
    "# Funciones y oráculos \n",
    "\n",
    "\n",
    "\n",
    "\n",
    "$ \\newcommand{\\bra}[1]{\\langle #1|} $\n",
    "$ \\newcommand{\\ket}[1]{|#1\\rangle} $\n",
    "$ \\newcommand{\\braket}[2]{\\langle #1|#2\\rangle} $\n",
    "$ \\newcommand{\\i}{{\\color{blue} i}} $ \n",
    "$ \\newcommand{\\Hil}{{\\mathbb H}} $\n",
    "$ \\newcommand{\\cg}[1]{{\\rm C}#1} $"
   ]
  },
  {
   "cell_type": "code",
   "execution_count": 1,
   "metadata": {
    "slideshow": {
     "slide_type": "slide"
    },
    "tags": [
     "hide-input"
    ]
   },
   "outputs": [],
   "source": [
    "%run ../../macro_tQ.py\n",
    "import sys\n",
    "sys.path.append('../../')\n",
    "import macro_tQ as tQ"
   ]
  },
  {
   "cell_type": "markdown",
   "metadata": {
    "slideshow": {
     "slide_type": "slide"
    }
   },
   "source": [
    "## Computación clásica universal "
   ]
  },
  {
   "cell_type": "markdown",
   "metadata": {
    "slideshow": {
     "slide_type": "slide"
    }
   },
   "source": [
    "En computación clásica, la únidad de información es el bit, una variable entera $x = 0,1 \\in {\\mathbb Z}_2$. Las puertas lógicas elementales son, \n",
    "\n",
    "- sobre un bit, la puerta NOT $x\\to \\neq x = x\\oplus 1$, \n",
    "\n",
    "- sobre dos bits las puertas AND, OR, XOR, y NAND \n",
    "\n",
    "$$\n",
    "\\begin{array}{|c|c|c|c|c|}\n",
    "\\hline x,y & \\hbox{AND} ~ (x\\land y)  & \\hbox{OR} ~  (x \\lor y) & \\hbox{XOR} ~ (x\\oplus y) & \\hbox{NAND} ~ \\neg(x\\land y)\\\\\n",
    "\\hline 00 & 0 &  0 &   0 & 1 \\\\\n",
    "\\hline 01 & 0 &  1 &  1 & 1\\\\\n",
    "\\hline 10 & 0 &  1 &  1 & 1\\\\\n",
    "\\hline 11 & 1 &  1 &  0 & 0 \\\\\n",
    "\\hline \n",
    "\\end{array}\n",
    "$$\n",
    "\n",
    "\n",
    ""
   ]
  },
  {
   "cell_type": "markdown",
   "metadata": {
    "slideshow": {
     "slide_type": "fragment"
    }
   },
   "source": [
    "::::::{card} \n",
    "<b>Teorema</b>: </i>Computación clásica universal</i> \n",
    "\n",
    "^^^\n",
    "\n",
    "    \n",
    "Cualquier función\n",
    "\n",
    "$$\n",
    "f : \\{0,1\\}^n \\to \\{0,1\\}^m\n",
    "$$\n",
    "\n",
    "puede construirse mediante una concatenación de puertas elementales NOT, AND, OR y XOR.\n",
    "::::::\n",
    "\n"
   ]
  },
  {
   "cell_type": "markdown",
   "metadata": {
    "slideshow": {
     "slide_type": "slide"
    }
   },
   "source": [
    "\n",
    "Surge la cuestión acerca de si la computación cuántica podrá contendrá la clásica actuando sobre simples cúbits $\\{\\ket{0},\\ket{1}\\}$ (sin superposiciones)\n",
    "\n",
    "Por ejemplo: la puerta clásica NOT es idéntica a las puerta cuántica X\n",
    "\n",
    "$$\n",
    "X\\ket{x} \\to \\ket{\\neg x}\n",
    "$$\n"
   ]
  },
  {
   "cell_type": "markdown",
   "metadata": {
    "slideshow": {
     "slide_type": "fragment"
    }
   },
   "source": [
    " \n",
    "\n",
    "Con respecto a las operaciones sobre *dos bits*, nos encontramos con una\n",
    "dificultad: \n",
    "\n",
    "- las puertas cuánticas son unitarias y, por tanto, reversibles. \n",
    "\n",
    "- pero las puertas clásicas son funciones del espacio de 2 bits a 1 bit. Por esta razón, *ninguna de estas operaciones es invertible*\n",
    "\n",
    "Sin embargo si mantenemos memoria del primer registro, $x$ la función XOR se vuelve invertible\n",
    "\n",
    "\n",
    "$$ \\hbox{XOR} : ( 00,01,10,11) \\to  (00, 01, 11, 10 )$$\n",
    "\n",
    "No así las demás, que necesitan incluir un bit extra (auxiliar).  Este formalismo, denominando, *computación clásica reversible* es una rama de la computación clásica.  \n"
   ]
  },
  {
   "cell_type": "markdown",
   "metadata": {
    "slideshow": {
     "slide_type": "slide"
    }
   },
   "source": [
    "::::::{card} \n",
    "<b>Teorema</b>:  \n",
    "\n",
    "^^^\n",
    "Todas las puertas lógicas clásicas  NOT, AND, OR, XOR  y   NAND admiten una implementación en un circuito cuántico en términos de  la puerta de Toffoli (CCNOT)\n",
    "::::::\n"
   ]
  },
  {
   "cell_type": "markdown",
   "metadata": {
    "slideshow": {
     "slide_type": "fragment"
    }
   },
   "source": [
    "- La implementación de $\\hbox{NOT}$\n",
    "\n",
    "\n",
    "$$\n",
    "\\hbox{NOT}   ~\\to~  {\\rm CCNOT} \\ket{1,1,x} = \\ket{1,1,\\neg x }\n",
    "$$\n",
    "\n",
    "\n",
    "$\\rule{7mm}{0mm}$es inmediata porque ${\\rm CCNOT}$ aplicado a $\\ket{1,1,x}$ necesariamente actúa como $X$ en el tercer bit. "
   ]
  },
  {
   "cell_type": "markdown",
   "metadata": {
    "slideshow": {
     "slide_type": "fragment"
    }
   },
   "source": [
    "-  La implementación de $\\hbox{AND}$ \n",
    "\n",
    "\n",
    "$$  \n",
    "\\hbox{AND}  ~\\to~ {\\rm CCNOT} \\ket{x,y,0} = \\ket{x,y, x  \\land y} \n",
    "$$\n",
    "\n",
    "\n",
    "$\\rule{7mm}{0mm}$es directamente la acción de la puerta $\\hbox{CCNOT}$"
   ]
  },
  {
   "cell_type": "markdown",
   "metadata": {
    "slideshow": {
     "slide_type": "fragment"
    }
   },
   "source": [
    "- La implementación de $\\hbox{OR}$ se basa en el *teorema de Morgan*:\n",
    "$\n",
    "x\\lor y = \\neg(\\neg x\\land \\neg y)\\, .\n",
    "$ De esta manera\n",
    "\n",
    "\n",
    "\n",
    "$$\n",
    "{\\rm OR} ~\\to~  (X\\otimes X\\otimes X)\\, {\\rm CCNOT} \\, (X\\otimes X \\otimes I) \\ket{x,y,0} = \\ket{x,y, x \\lor y}\n",
    "$$\n",
    "\n",
    "\n",
    "\n",
    "$\\rule{7mm}{0mm}$y el producto de operadores ejecuta la instrucción indicada en el miembro de la derecha.\n"
   ]
  },
  {
   "cell_type": "markdown",
   "metadata": {
    "slideshow": {
     "slide_type": "slide"
    }
   },
   "source": [
    "- La implementación de $\\hbox{XOR}$ se basa en que, actuando sobre $\\ket{1, x, y}$ ${\\rm CCNOT}$ se reduce a ${\\rm CNOT}$ actuando sobre $\\ket{x,y}$, que es precisamente $\\ket{x,x\\oplus y}$.\n",
    "\n",
    "\n",
    "$$\n",
    "{\\rm XOR} ~\\to~ {\\rm CCNOT} \\ket{1,x,y} = \\ket{1,x, x \\oplus y}\n",
    "$$"
   ]
  },
  {
   "cell_type": "markdown",
   "metadata": {
    "slideshow": {
     "slide_type": "fragment"
    }
   },
   "source": [
    "\n",
    "- La implementación de $\\hbox{NAND}$ \n",
    "\n",
    "\n",
    "$$\n",
    "{\\rm NAND} ~\\to~  (I\\otimes I\\otimes X) {\\rm CCNOT}  \\ket{x,y, 0} =  \\ket{x,y, \\neg (x \\land y)}  \n",
    "$$\n",
    "\n",
    "\n"
   ]
  },
  {
   "cell_type": "markdown",
   "metadata": {
    "slideshow": {
     "slide_type": "slide"
    }
   },
   "source": [
    "## Preparación de un estado\n"
   ]
  },
  {
   "cell_type": "markdown",
   "metadata": {
    "slideshow": {
     "slide_type": "slide"
    }
   },
   "source": [
    "Muchos algoritmos cuánticos se benefician de la preparación de un estado inicial concreto\n",
    "\n",
    "$$\n",
    "U : \\ket{0} \\to  \\sum_{i=0}^{2^n-1} c_i\\ket{i}\n",
    "$$\n"
   ]
  },
  {
   "cell_type": "markdown",
   "metadata": {
    "slideshow": {
     "slide_type": "fragment"
    }
   },
   "source": [
    "\n",
    "Separemos las amplitudes complejas en módulo y fase $c_i = a_i e^{\\gamma_i}$ donde $a_i = |c_i|$.  \n"
   ]
  },
  {
   "cell_type": "markdown",
   "metadata": {
    "slideshow": {
     "slide_type": "slide"
    }
   },
   "source": [
    "Veamos el caso $n=2$. El circuito que nos permite preparar un estado genérico es el siguiente\n",
    "\n"
   ]
  },
  {
   "cell_type": "markdown",
   "metadata": {
    "slideshow": {
     "slide_type": "-"
    }
   },
   "source": [
    "\n",
    "\n",
    "::::{figure} images/preparestatecircuit.png\n",
    ":width: 600px\n",
    ":align: center\n",
    "\n",
    "::::\n",
    "\n",
    "donde \n",
    "\n",
    "$$\n",
    "R_y(\\theta) = \\begin{bmatrix} \\cos\\frac{\\theta}{2} & -\\sin\\frac{\\theta}{2} \\\\\n",
    " \\sin\\frac{\\theta}{2}  & \\cos\\frac{\\theta}{2} \\end{bmatrix}~~~~, ~~~~~\n",
    "D(\\gamma_i,\\gamma_j ) = \\begin{bmatrix} e^{i\\gamma_i} & 0 \\\\ 0 & e^{i\\gamma_j} \\end{bmatrix} = K(\\gamma_i) P(\\gamma_j-\\gamma_i)\n",
    "$$"
   ]
  },
  {
   "cell_type": "markdown",
   "metadata": {
    "slideshow": {
     "slide_type": "fragment"
    }
   },
   "source": [
    "El estado en la barrera, será\n",
    "\n",
    "\\begin{eqnarray*}\n",
    "\\ket{\\psi_0}~~ &=&~~ \\cos\\theta_1 \\ket{0}\\otimes \\big( \\cos\\theta_2 \\ket{0} + \\sin\\theta_2\\ket{1}\\big) + \\sin\\theta_1\\ket{1}\\otimes \\big(\\cos\\theta_3\\ket{0} + \\sin\\theta_3\\ket{1}\\big) \\nonumber\\\\&=& \\cos\\theta_1 \\cos\\theta_2 \\ket{00} + \\cos\\theta_1\\sin\\theta_2\\ket{01} + \\sin\\theta_1\\cos\\theta_3\\ket{10} + \\sin\\theta_1\\sin\\theta_3\\ket{11} \\rule{0mm}{7mm}\n",
    "\\end{eqnarray*}"
   ]
  },
  {
   "cell_type": "markdown",
   "metadata": {
    "slideshow": {
     "slide_type": "slide"
    }
   },
   "source": [
    "de donde obtenemos cuatro ecuaciones para cuatro incógnitas\n",
    "\n",
    "\\begin{eqnarray*}\n",
    "a_1 &=& \\cos\\theta_1 \\cos\\theta_2 \\nonumber\\\\\n",
    "a_2 &=&  \\cos\\theta_1\\sin\\theta_2\\nonumber\\\\\n",
    "a_3 &=&  \\sin\\theta_1\\cos\\theta_3\\nonumber\\\\\n",
    "a_4 &=& \\sqrt{1-a_1^3-a_2^2-a_3^2}\n",
    "\\end{eqnarray*}\n",
    "\n",
    "sólo necesitamos 3 ángulos para representar 4 amplitudes debido a la ligadura $\\sum_i a_i^2 = 1$.\n"
   ]
  },
  {
   "cell_type": "markdown",
   "metadata": {
    "slideshow": {
     "slide_type": "fragment"
    }
   },
   "source": [
    "Una vez fijadas las amplitudes, la última parte del circuito es equivalente al  operador unitario\n",
    "\n",
    "$$\n",
    "U= \\begin{bmatrix} e^{i\\gamma_1} & 0 & 0 & 0 \\\\ 0 & e^{i\\gamma_2} & 0 & 0 \\\\ 0 & 0 & e^{i\\gamma_3} & 0 \\\\ 0 & 0 & 0 & e^{i\\gamma_4} \\end{bmatrix}=\\begin{bmatrix} K(\\gamma_1)P(\\gamma_2-\\gamma_1) & 0 \\\\ 0 &K(\\gamma_3) P(\\gamma_4-\\gamma_3) \\end{bmatrix}  =\\ket{0}\\bra{0}D(\\gamma_1,\\gamma_2) + \\ket{1}\\bra{1}D(\\gamma_3,\\gamma_4)  \n",
    "$$\n"
   ]
  },
  {
   "cell_type": "markdown",
   "metadata": {
    "slideshow": {
     "slide_type": "fragment"
    }
   },
   "source": [
    "::::::{admonition} Ejercicio\n",
    ":class: tip\n",
    "\n",
    "    \n",
    "Diseña el circuito que inicializa un estado genérico de $n=3$ cúbits. Úsalo para introducir el estado\n",
    "\n",
    "    \n",
    "$$\n",
    "\\ket{\\psi} = \\frac{1}{4}\\left( \\rule{0mm}{5mm} \\ket{000}-3\\ket{001}-\\ket{010} +2\\ket{110}-\\ket{111} \\right).\n",
    "$$\n",
    "::::::\n"
   ]
  },
  {
   "cell_type": "markdown",
   "metadata": {
    "slideshow": {
     "slide_type": "fragment"
    }
   },
   "source": [
    "Evidentemente, en el caso general, este circuito no puede ser eficiente puesto que es necesario aplicar al menos un número $2*2^n$ de parámetros que involucran los coeficientes. \n",
    "    \n",
    "En algunos casos particulares que gozan de cierta simetría, sí que es posible encontrar un circuito eficiente. \n",
    "El caso extremo lo representa una superposición homogénea de elementos de la base\n",
    "\n",
    "$$\n",
    "\\ket{\\psi} = W \\ket{0}  = \\ket{+}^{\\otimes n}= \\frac{1}{\\sqrt{n}}\\sum_{i=1}^{2^n-1} \\ket{i}\n",
    "$$\n",
    "\n",
    "se obtiene con un circuito de  **coste** = $n~$  y $~$ **profundidad**=1, la puerta de Walsh-Hadamard\n"
   ]
  },
  {
   "cell_type": "markdown",
   "metadata": {
    "slideshow": {
     "slide_type": "slide"
    }
   },
   "source": [
    "## Oráculos\n",
    "\n",
    "Una clase de problemas en los que la computación cuántica promete alcanzar una ventaja con respecto a la clásica se denominan  <i>algoritmos de interrogación de oráculo</i>. Este tipo de problemas consiste en la clasificación de funciones clásicas atendiendo a alguna propiedad. Clásicamente la complejidad de este tipo de problemas crece exponencialmente porque exige examinar una fracción finita del número total de funciones.  \n",
    "\n",
    "Para poder establecer la ventaja potencial de un algoritmo cuántico sobre el clásico debemos ser capaces de evaluar dichas funciones sin desvelar cómo están hechas.  Los operadores que implementan dichas funcionaes son cajas negras llamadas **oráculos**. Sólo nos está permitido *invocarlas* tantas veces como deseemos.\n",
    "\n",
    "Generar un oráculo puede ser un problema de complejidad alta. Esta complejidad no forma parte del algoritmo de interrogación. "
   ]
  },
  {
   "cell_type": "markdown",
   "metadata": {
    "slideshow": {
     "slide_type": "slide"
    }
   },
   "source": [
    "\n",
    "### Funciones digitales\n",
    "\n",
    "Un computador clásico es capaz de ejecutar funciones digitales  \n",
    "\n",
    "$$\n",
    "f : \\{0,1\\}^n ~~\\to ~~\\{0,1\\}^m\n",
    "$$\n",
    "\n",
    "descomponiendo la ejecución en puertas elementales.\n",
    "La construcción de $f$ es equivalente a la especificación de $m$ funciones  $f_1,f_2,...,f_m$ **binarias**\n",
    "\n",
    "\n",
    "\n",
    "$$\n",
    "f_i : \\{0,1\\}^n ~~\\to ~~\\{0,1\\}\n",
    "$$ \n",
    "\n",
    "\n",
    "Es evidente que ninguna función binaria es invertible para $n\\geq 2$. \n",
    "Al igual que vimos anteriormente, para formular una función binaria como un circuito cuántico este hecho representa un inconveniente, debido a que éstos son, por naturaleza, invertibles. \n",
    "\n"
   ]
  },
  {
   "cell_type": "markdown",
   "metadata": {
    "slideshow": {
     "slide_type": "slide"
    }
   },
   "source": [
    "### Evaluación cuántica de funciones\n",
    "\n",
    "\n",
    "La manera más simple de fabricar, a partir de un mapa no invertible $f$, un operador lineal $U_f$, invertible, implica *conservar* los valores de la variables iniciales \n",
    "\n",
    "Para $f:\\{0,1\\}^n \\to \\{0,1\\}$ necesitamos un total de $n+1$ cúbits:\n",
    "\n",
    "- $n$ cúbits que contienen el argumento de la función, $\\ket{x}_n \\in \\mathbb{C}^n$, \n",
    "\n",
    "- una ancilla que guardará el resultado, $\\ket{y} \\in \\mathbb{C}$.\n",
    "\n",
    "\n",
    "Recordemos que, para definir un operador, debemos especificar cómo actúa sobre todos los elementos de una base. \n",
    "Sea $\\ket{x}\\ket{y}$ una base de $\\Hil^{\\otimes n+1}$. Asociaremos a la función $f(x)$ el siguiente operador  $U_f$ \n",
    "\n",
    "\\begin{equation*}\n",
    "U_f : \\ket{x}\\ket{y} \\longrightarrow \\ket{x} \\ket{ y \\oplus f(x) }\n",
    "\\end{equation*}\n",
    "\n",
    "Donde $\\oplus$ indica suma módulo 2.  "
   ]
  },
  {
   "cell_type": "markdown",
   "metadata": {},
   "source": [
    "::::::{admonition} Ejercicio\n",
    ":class: tip\n",
    "\n",
    "   \n",
    "prueba que $U_f$ es unitario, además de ser hermítico. \n",
    "::::::\n",
    "<details>\n",
    "<summary><p style=\"text-align: right ;color: navy\"> >> Solución </p></summary>\n",
    "\n",
    "Por un lado que $U_f$ es su propio inverso $U_f U_f =I$\n",
    "    \n",
    "$$\n",
    "U_fU_f \\ket{x}\\ket{y} = U_f \\ket{x}\\ket{y\\oplus f(x)} = \\ket{x}\\ket{y\\oplus 2 f(x)} = \\ket{x}\\ket{y}\n",
    "$$\n",
    "    \n",
    "Es decir $U_f = U_f^{-1}$. Para ver que es hermítico notemos que el operador $U_f$ se escribe en la forma\n",
    "    \n",
    "$$\n",
    "U_f = \\sum_{x,y} \\ket{x}\\ket{y \\oplus f(x)}\\bra{x}\\bra{y}\n",
    "$$\n",
    "    \n",
    "con lo que     \n",
    " \n",
    "$$    \n",
    "U_f^\\dagger = \\sum_{x,y} \\ket{x}\\ket{y}\\bra{x}\\bra{y \\oplus f(x)}\n",
    "$$\n",
    "        \n",
    "Definamos la nueva etiqueta $z = y \\oplus f(x) \\Rightarrow y = z \\oplus f(x)$. Entonces\n",
    "\n",
    "$$    \n",
    "U_f^\\dagger = \\sum_{x,z} \\ket{x}\\ket{z\\oplus f(x)}\\bra{x}\\bra{z} = U_f\n",
    "$$\n",
    "   \n",
    ":::\n"
   ]
  },
  {
   "cell_type": "markdown",
   "metadata": {},
   "source": [
    "#### Oráculo Booleano"
   ]
  },
  {
   "cell_type": "markdown",
   "metadata": {},
   "source": [
    "Si lo único que deseamos es codificar la función $f(x)$ en una serie de cúbits, es suficiente con \n",
    "inicialiar la ancilla en el estado $\\ket{0}$\n",
    "\n",
    "$$\n",
    "U_f\\,  \\ket{x}\\otimes\\ket{0} = \\ket{x}\\ket{f(x)}\n",
    "$$\n",
    "\n",
    "Oráculos basados en esta codificación se denominan **oráculos booleanos**.\n"
   ]
  },
  {
   "cell_type": "markdown",
   "metadata": {},
   "source": [
    "#### Oráculos  de  fase\n",
    "\n",
    "Nada nos impide inicializar la ancilla, en lugar de en el estado $\\ket{0}$, en el estado $\\ket{-}$\n",
    "\n",
    "\n",
    "::::::{card} \n",
    "<b>Teorema</b>:  \n",
    "\n",
    "^^^\n",
    "los estados $\\ket{x}\\otimes \\ket{\\pm}$ son autovectores de $U_f$ son con autovalores $+1$ y $(-1)^{f(x)}$ respectivamente\n",
    "::::::\n",
    "<details>\n",
    "<summary><p style=\"text-align: right ;color: navy\"> >> Prueba: </p></summary>\n",
    "   \n",
    "por un lado sabemos que los *autovalores* deben ser $\\pm 1$ dado que $U_f^2 = I$. \n",
    "Veamos cada caso\n",
    "\n",
    "\\begin{eqnarray*}\n",
    "U_f\\ket{x}\\otimes \\ket{+} &=& \\ket{x}\\otimes \\frac{1}{\\sqrt{2}}\\left( \\rule{0mm}{6mm}\\ket{0\\oplus f(x)}+\\ket{1\\oplus f(x)} \\right) = \\ket{x}\\otimes \\ket{+} \\nonumber\\\\\n",
    "U_f\\ket{x}\\otimes \\ket{-} &=& \\ket{x}\\otimes \\frac{1}{\\sqrt{2}}\\left( \\rule{0mm}{6mm} \\ket{0\\oplus f(x)}-\\ket{1\\oplus f(x)}\\right) = (-1)^{f(x)} \\ket{x}\\otimes \\ket{-}\n",
    "\\end{eqnarray*}\n",
    ":::\n",
    "Este teorema implica que\n",
    "\n",
    "$$\n",
    "U_f\\, \\ket{x}\\otimes \\ket{-} = (-1)^{f(x)} \\ket{x}\\otimes \\ket{-}\n",
    "$$\n",
    "\n",
    "\n",
    "Vemos que se produce un típico efecto de *retroceso de fase*: \n",
    "especificando $\\ket{y} = \\ket{-}$ codificamos $f(x)$ en *la fase* $~\\to ~(-1)^{f(x)} = e^{i\\pi f(x)}$\n",
    "\n",
    "Oráculos basados en esta codificación se denominan **oráculos de fase**\n"
   ]
  },
  {
   "cell_type": "markdown",
   "metadata": {
    "slideshow": {
     "slide_type": "slide"
    }
   },
   "source": [
    "### Construcción de funciones binarias\n",
    "\n",
    "Es muy sencillo establecer un método general para construir el circuito que implementa la función $f: \\{0, 1\\}^n \\rightarrow \\{0, 1\\}$ si conocemos la tabla completa de valores.   Por ejemplo, consideremos la siguiente tabla de verdad para una función $f: \\{0, 1\\}^3 \\rightarrow \\{0, 1\\}$ concreta\n",
    "\n",
    "\n",
    "$$\n",
    "\\begin{array}{cccc}\n",
    "\\hline x_2 & x_1 & x_0 & f(x) \\\\ \\hline\n",
    "0&0&0&0 \\\\\n",
    "0&0&1&1\\\\\n",
    "0&1&0&0\\\\\n",
    "0&1&1&0\\\\\n",
    "1&0&0&0\\\\\n",
    "1&0&1&1\\\\\n",
    "1&1&0&0\\\\\n",
    "1&1&1&1\\\\\n",
    "\\hline \n",
    "\\end{array}\n",
    "$$\n",
    "\n",
    "Vamos a ver cómo construir el operador $U_f$ en la codificación booleana. \n",
    "\n",
    "La idea es considerar exclusivamente los términos que tienen como salida la variable 1, que denominaremos <b>min-términos</b>. \n",
    "Por ejemplo hay un min-término de la forma $101 \\to 1$ que se puede obtener mediante una puerta controlada como la siguiente\n",
    "\n",
    "\n",
    "\n",
    "::::{figure} images/ctrl5.png\n",
    ":width: 120px\n",
    ":align: center\n",
    "::::\n",
    "\n",
    "Cada min-término llevará asociada una puerta condicionada diferente. Su composición define la función $f$\n",
    "Para el caso de la tabla de verdad anterior, el circuito correspondiente vendrá dado por:"
   ]
  },
  {
   "cell_type": "code",
   "execution_count": 2,
   "metadata": {
    "slideshow": {
     "slide_type": "fragment"
    }
   },
   "outputs": [
    {
     "data": {
      "image/png": "[encoded data removed]",
      "text/plain": [
       "<Figure size 389.136x451.5 with 1 Axes>"
      ]
     },
     "execution_count": 2,
     "metadata": {},
     "output_type": "execute_result"
    }
   ],
   "source": [
    "from qiskit import QuantumRegister, QuantumCircuit, ClassicalRegister\n",
    "from qiskit.circuit.library import MCXGate\n",
    "\n",
    "qr = QuantumRegister(4)\n",
    "cr = ClassicalRegister(4)\n",
    "\n",
    "qc = QuantumCircuit(qr, cr, name='q')\n",
    "\n",
    "qc.append(MCXGate(3, ctrl_state=1), qr)\n",
    "qc.append(MCXGate(3, ctrl_state=5), qr)\n",
    "qc.append(MCXGate(3, ctrl_state=7), qr)\n",
    "\n",
    "qc.draw(output='mpl')"
   ]
  },
  {
   "cell_type": "markdown",
   "metadata": {
    "slideshow": {
     "slide_type": "fragment"
    }
   },
   "source": [
    "donde hemos hecho uso de la puerta multicontrolada [MCXGate](https://qiskit.org/documentation/stubs/qiskit.circuit.library.MCXGate.html?highlight=mcxgate#qiskit.circuit.library.MCXGate) de qiskit. \n",
    "\n",
    "Para implementar una función digital $f:\\{0,1\\}^n\\to \\{0,1\\}^m$ lo único que tenemos que hacer es conocer la lista de  salidas. La longitud en bits de las salidas será $m$. El número de salidas será $n$, con lo que, de la tabla podemos deducir todo lo que necesitamos.\n",
    "\n",
    "Por ejemplo la siguiente *tabla de verdad* se corresponde con una función  $f:\\{0,1\\}^4\\to \\{0,1\\}^4$, es decir, $n=m=4$\n",
    "\n",
    "$$\n",
    "\\begin{array}{cc|cc}\n",
    "\\hline x & f(x) & x & f(x) \\\\ \\hline\n",
    "0000&1111& 1000&0101\\\\\n",
    "0001&1011& 1001&0100\\\\\n",
    "0010&0011& 1010&0000\\\\\n",
    "0011&1000& 1011&1110\\\\\n",
    "0100&0101& 1100&1111\\\\\n",
    "0101&0100& 1101&1011\\\\\n",
    "0110&0000& 1110&0011\\\\\n",
    "0111&1110& 1111&1000\\\\\n",
    "\\hline \n",
    "\\end{array}\n",
    "$$\n",
    "\n",
    "\n",
    "¡Vamos a programar!"
   ]
  },
  {
   "cell_type": "code",
   "execution_count": 79,
   "metadata": {
    "slideshow": {
     "slide_type": "fragment"
    }
   },
   "outputs": [],
   "source": [
    "def oracle(f_outputs): \n",
    "    \n",
    "    n = int(np.log2(len(f_outputs)))  #dimension del registro de entrada |x> \n",
    "    m = len(f_outputs[0])             #dimension del registro de salida |f(x)>\n",
    "#    print(m)\n",
    "    #generamos todos los posibles inputs en binario, completando con ceros hasta tener strings de n bits\n",
    "    inputs = [format(i, 'b').zfill(n) for i in range(2**n)]\n",
    "#    print(f_outputs[0])\n",
    "    \n",
    "    qr_input = QuantumRegister(n, name='input')\n",
    "    qr_output = QuantumRegister(m, name='output')\n",
    "    qc = QuantumCircuit(qr_input, qr_output)\n",
    "\n",
    "    # Hacemos un bucle sobre los inputs\n",
    "    for i,input_str in enumerate(inputs):\n",
    "        ctrl_state= int(input_str[::],2)\n",
    "        # Para cada input, i, haz un bucle sobre cada bit del output     \n",
    "        for j,output_bit in enumerate(f_outputs[i]):\n",
    "#            print(j,output)\n",
    "            if output_bit =='1':\n",
    "                qc.append(MCXGate(len(input_str), ctrl_state=ctrl_state),qr_input[:]+[qr_output[m-j-1]])  \n",
    "\n",
    "    return qc"
   ]
  },
  {
   "cell_type": "markdown",
   "metadata": {},
   "source": [
    "La función se especifica mediante una lista de *strings* binarios"
   ]
  },
  {
   "cell_type": "code",
   "execution_count": 83,
   "metadata": {
    "run_control": {
     "marked": false
    },
    "slideshow": {
     "slide_type": "slide"
    }
   },
   "outputs": [
    {
     "data": {
      "image/png": "[encoded data removed]",
      "text/plain": [
       "<Figure size 429.405x367.889 with 1 Axes>"
      ]
     },
     "execution_count": 83,
     "metadata": {},
     "output_type": "execute_result"
    }
   ],
   "source": [
    " f_out_1 = ['1111', '1011', '0011', '1000', '0101', '0100', \n",
    "               '0000', '1110', '0101', '0100', '0000', '1110', \n",
    "               '1111', '1011', '0011', '1000']\n",
    "\n",
    "f_out_2= ['000', '001', '010', '011', '100', '101', '110', '111']\n",
    "    \n",
    "f_out_3= ['1', '1', '0', '0', '0', '1', '0', '0']\n",
    "\n",
    "\n",
    "oracle(f_out_3).draw('mpl')"
   ]
  },
  {
   "cell_type": "markdown",
   "metadata": {},
   "source": [
    "Evaluemos este circuito "
   ]
  },
  {
   "cell_type": "code",
   "execution_count": 14,
   "metadata": {},
   "outputs": [
    {
     "name": "stdout",
     "output_type": "stream",
     "text": [
      "['000', '001', '010', '011', '100', '101', '110', '111']\n"
     ]
    },
    {
     "data": {
      "image/png": "[encoded data removed]",
      "text/plain": [
       "<Figure size 650.787x618.722 with 1 Axes>"
      ]
     },
     "execution_count": 14,
     "metadata": {},
     "output_type": "execute_result"
    }
   ],
   "source": [
    "n=3\n",
    "qr_in = QuantumRegister(n, name='in')\n",
    "qr_out = QuantumRegister(n, name='out')\n",
    "cr = ClassicalRegister(n)\n",
    "qc = QuantumCircuit(qr_in,qr_out,cr)\n",
    "\n",
    "\n",
    "qc.x(2)\n",
    "qc.append(oracle(f_out_2).to_gate(),qr_in[:]+qr_out[:])\n",
    "qc.measure(qr_out,cr)\n",
    "\n",
    "qc.draw('mpl')"
   ]
  },
  {
   "cell_type": "code",
   "execution_count": 15,
   "metadata": {},
   "outputs": [
    {
     "name": "stdout",
     "output_type": "stream",
     "text": [
      "100 1.0\n"
     ]
    }
   ],
   "source": [
    "from qiskit.primitives import Sampler\n",
    "\n",
    "counts = Sampler().run(qc,shots=1).result().quasi_dists[0]\n",
    "\n",
    "for keys,values in counts.items():\n",
    "    print(\"{0:b}\".format(keys),values)"
   ]
  },
  {
   "cell_type": "markdown",
   "metadata": {
    "slideshow": {
     "slide_type": "slide"
    }
   },
   "source": [
    "::::::{admonition} Ejercicio\n",
    ":class: tip\n",
    "\n",
    "       \n",
    "Escribe una función <i>balanced_binary(n)</i> para $f:S^n\\to S$  tal que $f(x) = \\pm 1$ aleatoriamente y de forma <i>equilibrada</i> (es decir, tantos $f(x)= +1$ como $f(x)= -1$). \n",
    "::::::\n"
   ]
  },
  {
   "cell_type": "markdown",
   "metadata": {},
   "source": [
    "<details>\n",
    "<summary><p style=\"text-align: right ;color: navy\"> >> Solución </p></summary>\n",
    "\n",
    "```     \n",
    "    def balanced_binary(n):\n",
    "        n_elementos = int(2**n)\n",
    "        valores = np.array([str(0) for _ in range(int(n_elementos/2))] + [str(1) for _ in range(int(n_elementos/2))])\n",
    "        np.random.shuffle(valores)\n",
    "        f_outputs = np.array([str(i) for i in valores])\n",
    "        return oracle(f_outputs)\n",
    "```        \n",
    ":::\n"
   ]
  },
  {
   "cell_type": "markdown",
   "metadata": {},
   "source": [
    "Evidentemente la complejidad de este método para codificar una función binaria no escala bien porque exige una puerta condicionada por cada min-término. En general este número crecerá como una fracción del número de posibles entradas $2^n$. \n",
    "\n",
    "Para alguna función concreta, es posible que el circuito requiera  un número de puertas que sólo sea proporcional a $n$. Vamos a ver un caso así en el siguiente ejemplo"
   ]
  },
  {
   "cell_type": "markdown",
   "metadata": {
    "slideshow": {
     "slide_type": "slide"
    }
   },
   "source": [
    "### Funcion binaria lineal: \n",
    "\n",
    "Dados dos n-tuplas binarias $x=(x_{n-1},\\ldots,x_0)$ y $a=(a_{n-1},\\ldots,a_0)$ definimos la **función lineal**\n",
    "\n",
    "        \n",
    "\\begin{equation*}\n",
    "f(x;a) = a \\cdot x = a_{n-1} x_{n-1} \\oplus a_{n-2} x_{n-2} \\oplus \\cdots \\oplus a_{0} x_{0}\\; ,\n",
    "\\end{equation*}\n",
    "\n",
    "\n",
    "donde  $\\oplus$ es la *suma módulo 2*, por lo que el resultado sólo puede ser 0 ó 1. \n",
    "\n",
    "El circuito que implementa esta función sólo requiere una puerta $\\hbox{CNOT}$ por cada valor de $a_i=1$. Por ejemplo, tomemos $a=01011$ \n",
    "\n",
    "\n",
    "\n",
    "::::{figure} images/linear_function.png\n",
    ":width: 350px\n",
    ":align: center\n",
    "::::\n"
   ]
  },
  {
   "cell_type": "code",
   "execution_count": 93,
   "metadata": {
    "slideshow": {
     "slide_type": "fragment"
    }
   },
   "outputs": [],
   "source": [
    "def linear_circuit(x,a):\n",
    "       \n",
    "    assert(len(x)==len(a))\n",
    "\n",
    "    # Inicialización de los registros\n",
    "    qr_in = QuantumRegister(len(a), name='qr_in')\n",
    "    qr_out = QuantumRegister(1, name='qr_out')\n",
    "    cr = ClassicalRegister(1, name='cr')  \n",
    "    qc = QuantumCircuit(qr_in, qr_out, cr, name='q_linear')\n",
    "    \n",
    "    'inicializamo el estado x '\n",
    "    for i, xq in enumerate(reversed(x)):  # ojo con la ordenación de qiskit, por eso está reversed()\n",
    "        if xq == '1':\n",
    "             qc.x(qr_in[i]) \n",
    "\n",
    "    qc.barrier()\n",
    "\n",
    "    'codificamos la función lineal x.a '\n",
    "    for i, aq in enumerate(reversed(a)):\n",
    "        if aq == '1':\n",
    "             qc.cx(qr_in[i],qr_out) \n",
    "            \n",
    "    qc.barrier()\n",
    "    qc.measure(qr_out[0],cr[0])\n",
    "    \n",
    "    return qc "
   ]
  },
  {
   "cell_type": "markdown",
   "metadata": {
    "slideshow": {
     "slide_type": "slide"
    }
   },
   "source": [
    "Veamos un ejemplo"
   ]
  },
  {
   "cell_type": "code",
   "execution_count": 94,
   "metadata": {
    "slideshow": {
     "slide_type": "-"
    }
   },
   "outputs": [
    {
     "data": {
      "image/png": "[encoded data removed]",
      "text/plain": [
       "<Figure size 760.84x535.111 with 1 Axes>"
      ]
     },
     "execution_count": 94,
     "metadata": {},
     "output_type": "execute_result"
    }
   ],
   "source": [
    "a = '1011'\n",
    "x = '1001'\n",
    "\n",
    "qc=linear_circuit(x,a)\n",
    "qc.draw('mpl')"
   ]
  },
  {
   "cell_type": "markdown",
   "metadata": {
    "slideshow": {
     "slide_type": "fragment"
    }
   },
   "source": [
    "La función $a\\cdot x = (1 + 0 + 0 + 1)mod(2) = 0$. Vamos a ver si este resultado es el hallado"
   ]
  },
  {
   "cell_type": "code",
   "execution_count": 95,
   "metadata": {
    "run_control": {
     "marked": false
    },
    "slideshow": {
     "slide_type": "fragment"
    }
   },
   "outputs": [
    {
     "name": "stdout",
     "output_type": "stream",
     "text": [
      "{0: 1.0}\n"
     ]
    }
   ],
   "source": [
    "n_tiradas = 1\n",
    "\n",
    "counts = Sampler().run(qc,shots=1).result().quasi_dists[0]\n",
    "\n",
    "print(counts)"
   ]
  },
  {
   "cell_type": "markdown",
   "metadata": {
    "slideshow": {
     "slide_type": "slide"
    }
   },
   "source": [
    "::::::{admonition} Ejercicio\n",
    ":class: tip\n",
    "\n",
    "sea la función $f(x) = x^2$, evaluadad sobre el conjunto de valores $x\\in \\{0,1,2,3\\}$ . Halla la tabla de verdad en binario y construye el oráculo que implementa esta función.    \n",
    "::::::\n"
   ]
  }
 ],
 "metadata": {
  "kernelspec": {
   "display_name": "Python 3 (ipykernel)",
   "language": "python",
   "name": "python3"
  },
  "language_info": {
   "codemirror_mode": {
    "name": "ipython",
    "version": 3
   },
   "file_extension": ".py",
   "mimetype": "text/x-python",
   "name": "python",
   "nbconvert_exporter": "python",
   "pygments_lexer": "ipython3",
   "version": "3.9.12"
  },
  "nbTranslate": {
   "displayLangs": [
    "*"
   ],
   "hotkey": "alt-t",
   "langInMainMenu": true,
   "sourceLang": "en",
   "targetLang": "fr",
   "useGoogleTranslate": true
  },
  "toc": {
   "base_numbering": 1,
   "nav_menu": {},
   "number_sections": true,
   "sideBar": true,
   "skip_h1_title": true,
   "title_cell": "Table of Contents",
   "title_sidebar": "Contents",
   "toc_cell": false,
   "toc_position": {
    "height": "calc(100% - 180px)",
    "left": "10px",
    "top": "150px",
    "width": "414.053px"
   },
   "toc_section_display": true,
   "toc_window_display": false
  },
  "varInspector": {
   "cols": {
    "lenName": 16,
    "lenType": 16,
    "lenVar": 40
   },
   "kernels_config": {
    "python": {
     "delete_cmd_postfix": "",
     "delete_cmd_prefix": "del ",
     "library": "var_list.py",
     "varRefreshCmd": "print(var_dic_list())"
    },
    "r": {
     "delete_cmd_postfix": ") ",
     "delete_cmd_prefix": "rm(",
     "library": "var_list.r",
     "varRefreshCmd": "cat(var_dic_list()) "
    }
   },
   "types_to_exclude": [
    "module",
    "function",
    "builtin_function_or_method",
    "instance",
    "_Feature"
   ],
   "window_display": false
  }
 },
 "nbformat": 4,
 "nbformat_minor": 4
}
