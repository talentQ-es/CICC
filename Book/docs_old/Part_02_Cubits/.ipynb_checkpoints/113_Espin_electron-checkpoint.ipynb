{
 "cells": [
  {
   "cell_type": "markdown",
   "id": "b605c85e",
   "metadata": {
    "slideshow": {
     "slide_type": "slide"
    }
   },
   "source": [
    "<img   src=\"../figuras/logo/TalentQ_LogoPosNegro.png\" align=center  width=\"120\"/>\n",
    "<br>\n",
    "\n",
    "<table width=\"100%\">\n",
    "<td style=\"font-size:50px;font-style:italic;text-align:right;background-color:rgba(0, 160, 120,0.6)\">\n",
    "El cúbit de espín \n",
    "</td></table>\n",
    "\n",
    "\n",
    "\n",
    "$ \\newcommand{\\bra}[1]{\\langle #1|} $\n",
    "$ \\newcommand{\\ket}[1]{|#1\\rangle} $\n",
    "$ \\newcommand{\\braket}[2]{\\langle #1|#2\\rangle} $\n",
    "$ \\newcommand{\\i}{{\\color{blue} i}} $ \n",
    "$ \\newcommand{\\Hil}{{\\mathcal H}} $\n",
    "\n",
    "$ \\newcommand{\\bn}{{\\bf n}} $\n"
   ]
  },
  {
   "cell_type": "markdown",
   "id": "704d0e79",
   "metadata": {},
   "source": [
    "- [Experimento de Stern y Gerlach](#sterngerlach)\n",
    "\n",
    "    \n",
    "- [Preparando de un cúbit](#prepacubit)\n",
    "    \n",
    "    \n",
    "- [Manipulando un cúbit](#manipcubit)"
   ]
  },
  {
   "cell_type": "markdown",
   "id": "72279bcb",
   "metadata": {
    "slideshow": {
     "slide_type": "slide"
    }
   },
   "source": [
    "El descubrimiento del espín fue una de los primeros fenómenos cuya descripción encontró acomodo en la nueva Mecánica Cuántica. \n"
   ]
  },
  {
   "cell_type": "markdown",
   "id": "f955d3d7",
   "metadata": {
    "slideshow": {
     "slide_type": "-"
    }
   },
   "source": [
    "\n",
    "Tanto es así que, el espín es un paradigma de *grado de libertad cuántizado*, y permite obtener intuición sobre los procesos de medida generales."
   ]
  },
  {
   "cell_type": "markdown",
   "id": "e4956696",
   "metadata": {
    "slideshow": {
     "slide_type": "slide"
    }
   },
   "source": [
    "### Momentos magnético y angular\n",
    "\n",
    "Clásicamente una distribución de carga que rota posee un *momento angular* de rotación ${\\bf J}$ y un *momento magnético* $\\boldsymbol{\\mu}$ que son proporcionales"
   ]
  },
  {
   "cell_type": "markdown",
   "id": "cf7cc318",
   "metadata": {
    "slideshow": {
     "slide_type": "fragment"
    }
   },
   "source": [
    "Por ejemplo, un átomo formado por un electrón de carga $q$ rotando en torno al núcleo tendrá\n",
    "<br>\n",
    "\n",
    "$$\n",
    "\\boldsymbol{\\mu} = \\frac{q}{2m} {\\bf J} = \\gamma {\\bf J}\n",
    "$$\n",
    "\n",
    "$\\gamma$ se denomina *razón giromagnética*"
   ]
  },
  {
   "cell_type": "markdown",
   "id": "53f52811",
   "metadata": {},
   "source": [
    "\n",
    "<div>\n",
    "<img src=\"images/Momento_Magnetico.png\" width=\"400\"/>\n",
    "</div>\n",
    "\n"
   ]
  },
  {
   "cell_type": "markdown",
   "id": "076e3673",
   "metadata": {
    "slideshow": {
     "slide_type": "slide"
    }
   },
   "source": [
    "En este sentido, medir $\\boldsymbol{\\mu}$ es equivalente a  *medir* ${\\bf J}$ \n",
    "\n",
    "\n"
   ]
  },
  {
   "cell_type": "markdown",
   "id": "958e7ce5",
   "metadata": {
    "slideshow": {
     "slide_type": "fragment"
    }
   },
   "source": [
    "Una forma de medir $\\boldsymbol{\\mu}$ es sumergir dicha distribución de carga en un campo magnético ${\\bf B}$ *inhomogéneo*. Entonces adquiere una energía potencial de la forma\n",
    "\n",
    "\n",
    "$$\n",
    "U = -\\boldsymbol{\\mu}\\cdot {\\bf B}\n",
    "$$\n",
    "\n",
    "que se minimiza haciendo $\\boldsymbol{\\mu}$ y $ {\\bf B}$ paralelos."
   ]
  },
  {
   "cell_type": "markdown",
   "id": "a22793eb",
   "metadata": {
    "slideshow": {
     "slide_type": "fragment"
    }
   },
   "source": [
    "Si el campo magnético no es constante, ${\\bf B}(x,y,z)$, aparece una fuerza de la forma\n",
    "<br>\n",
    "\n",
    "$$\n",
    "{\\bf F} = - \\boldsymbol{\\nabla} U(x,y,z)\n",
    "$$\n"
   ]
  },
  {
   "cell_type": "markdown",
   "id": "0975a049",
   "metadata": {
    "slideshow": {
     "slide_type": "slide"
    }
   },
   "source": [
    "<a id=\"#sterngerlach\"></a>\n",
    "<table width=\"100%\">\n",
    "    <td style=\"font-size:30px;font-family:Helvetica;text-align:left;background-color:rgba(12, 43, 337, 0.3);\">\n",
    "<b>El experimento de Stern y Gerlach</b>\n",
    "</table>   "
   ]
  },
  {
   "cell_type": "markdown",
   "id": "71f03d49",
   "metadata": {
    "slideshow": {
     "slide_type": "slide"
    }
   },
   "source": [
    "En 1921 Stern, e independientemente en 1922 Gerlach, dispararon una nube de átomos de plata en el seno de un campo magnético no constante ${\\bf B}(z) = (0,0,B_z(z))$\n",
    "\n",
    "El *momento magnético* $\\boldsymbol{\\mu}$ en dichos átomos está asociado al *momento angular del  último* electrón de valencia.\n",
    "\n"
   ]
  },
  {
   "cell_type": "markdown",
   "id": "64d474b5",
   "metadata": {
    "slideshow": {
     "slide_type": "fragment"
    }
   },
   "source": [
    "En este caso, la fuerza esperable que desvíe un átomos de momento angular ${\\bf J}$ será vertical\n",
    "<br>\n",
    "\n",
    "$$\n",
    "{\\bf F}= -\\boldsymbol{\\nabla} U = -\\boldsymbol{\\nabla}(-\\boldsymbol{\\mu}\\cdot{\\bf B}(z))= \\left( \\hat{\\bf x}\\frac{\\partial}{\\partial x}+ \n",
    "\\hat{\\bf y}\\frac{\\partial}{\\partial y}+ \\hat{\\bf z}\\frac{\\partial}{\\partial z}\\right)(\\mu_z B_z(z)) =  \\gamma J_z\\frac{\\partial B_z(z)}{\\partial z} \\, \\hat{\\bf z}\n",
    "$$\n"
   ]
  },
  {
   "cell_type": "markdown",
   "id": "12c8cccd",
   "metadata": {
    "slideshow": {
     "slide_type": "slide"
    }
   },
   "source": [
    "Es la dirección en la que esperamos una desviación de un electrón que lo atraviesa. La magnitud de dicha desviación es proporcional a la proyección vertical $J_z = \\boldsymbol{J}\\cdot\\hat{\\bf z} $ "
   ]
  },
  {
   "cell_type": "markdown",
   "id": "3db33ffc",
   "metadata": {
    "slideshow": {
     "slide_type": "fragment"
    }
   },
   "source": [
    "<div>\n",
    "<img src=\"images/Stern-Gerlach_2.png\" width=\"500\"/>\n",
    "</div>\n",
    "\n",
    "By Tatoute - Own work, CC BY-SA 4.0, https://commons.wikimedia.org/w/index.php?curid=34095239"
   ]
  },
  {
   "cell_type": "markdown",
   "id": "ee1c9de4",
   "metadata": {
    "slideshow": {
     "slide_type": "slide"
    }
   },
   "source": [
    "La nube de electrones que atraviesa el campo magnético está inicialmente despolarizada. Eso quiere decir que, en promedio, el momento angular es cero."
   ]
  },
  {
   "cell_type": "markdown",
   "id": "d6b138c1",
   "metadata": {
    "slideshow": {
     "slide_type": "fragment"
    }
   },
   "source": [
    "Cada componente, y en particular $\\mu_z$, será una distribución constante $\\mu_z\\in [-\\mu,+\\mu]$ de media cero. Por tanto, a la salida del polarizador esperamos una nube verticalmente alargada centrada en la posición central."
   ]
  },
  {
   "cell_type": "markdown",
   "id": "9af46e4d",
   "metadata": {
    "slideshow": {
     "slide_type": "fragment"
    }
   },
   "source": [
    "El resultado del experimento de Stern (1921) y Gerlach (1922) fue que, en lugar de eso, sólo se encuentran dos puntos de acumulación, situados simétricamente en la dirección del eje del polarizador. \n"
   ]
  },
  {
   "cell_type": "markdown",
   "id": "ce00970d",
   "metadata": {
    "slideshow": {
     "slide_type": "fragment"
    }
   },
   "source": [
    "Esto quiere decir que la variable $J_z$ sólo adquiere dos valores opuestos\n",
    "\n",
    "$$J_z = \\pm\\frac{\\hbar}{2}$$\n"
   ]
  },
  {
   "cell_type": "markdown",
   "id": "23ff1a57",
   "metadata": {
    "slideshow": {
     "slide_type": "slide"
    }
   },
   "source": [
    "<div class=\"alert alert-block alert-danger\">\n",
    "<b>Notar</b> : la dirección $z$ no tiene nada de particular. Si el eje del polarizador apunta en la dirección $\\hat{\\bf n}$, los puntos de acumulación se situaciónan a lo largo de dicho eje, y para cáda átomo estaríamos midiendo el valor de la proyección $J_{\\hat{\\bf n}}={\\bf J}\\cdot\\hat{\\bf n} = \\pm \\hbar/2$.\n",
    "    \n",
    "</div>"
   ]
  },
  {
   "cell_type": "markdown",
   "id": "dd2569ed",
   "metadata": {
    "slideshow": {
     "slide_type": "slide"
    }
   },
   "source": [
    "### Mediciones sucesivas\n",
    "\n",
    "El nombre de *polarizador* cobra sentido cuando hacemos dos experimentos sucesivamente de forma que, la salida de uno, sea la entrada del siguiente. "
   ]
  },
  {
   "cell_type": "markdown",
   "id": "d3bf162a",
   "metadata": {
    "slideshow": {
     "slide_type": "fragment"
    }
   },
   "source": [
    "Supongamos que seleccionamos sólo los electrones que se desvían hacia arriba $+\\hbar/2$ en el primer polarizador. \n",
    "\n",
    "A continuación  los hacemos pasar por un segundo polarizador de Stern Gerlach cuyo eje se desvía de la vertical en el plano perpendiclar $(y,z)$ un ángulo $\\theta$ relativo al eje $z$. \n",
    "\n",
    "*Resultado*:  las incidencias sobre la segunda placa  aparecen en una u otra posición a lo largo del *segundo eje* de *forma aleatoria*. "
   ]
  },
  {
   "cell_type": "markdown",
   "id": "66443c0a",
   "metadata": {
    "slideshow": {
     "slide_type": "fragment"
    }
   },
   "source": [
    "Repitiendo el experimento obtenemos la frecuencia relativa de incidencia en una posición u otra y, de ahí, la probabilidad de ocurrencia de cada resultado\n",
    "\n",
    "$$\n",
    "p(+\\hbar/2) = \\cos^2\\theta/2 ~~~~~,~~~~~  p(-\\hbar/2) = \\sin^2\\theta/2 ~\\, \n",
    "$$\n",
    "\n",
    "donde $\\theta$ es el ángulo entre los ejes de los dos polarizadores sucesivos."
   ]
  },
  {
   "cell_type": "markdown",
   "id": "fc9b0a1f",
   "metadata": {},
   "source": [
    "<div>\n",
    "<img src=\"images/Stern-Gerlach_Analyzer.png\" width=\"700\"/>\n",
    "</div>\n",
    "\n",
    "\n",
    "By MJasK - Own work, CC BY-SA 4.0, https://commons.wikimedia.org/w/index.php?curid=96884018"
   ]
  },
  {
   "cell_type": "markdown",
   "id": "e0af5f63",
   "metadata": {},
   "source": [
    "En esta figura se aprecia que la polarización del resultado en una dirección (selección de un resultado, por ejemplo $+\\hbar/2$), arroja una distribución equilibrada de resultados en el polarizador siguiente, rotado $90^\\circ$"
   ]
  },
  {
   "cell_type": "markdown",
   "id": "c279a847",
   "metadata": {
    "slideshow": {
     "slide_type": "slide"
    }
   },
   "source": [
    "### Espín\n",
    "\n",
    "La desviación del átomo de plata en el experimento de Stern y Gerlach se debe al último electrón. Pero no puede provenir de su movimiento ya que el *momento angular orbital* del último electrón es nulo al hallarse en el orbotal $5s$, es decir, tendríamos $~{\\bf J} = {\\bf L} = 0$."
   ]
  },
  {
   "cell_type": "markdown",
   "id": "08c614d4",
   "metadata": {},
   "source": [
    "En conclusión: tiene que haber una contribución  de  *carácter interno* \n",
    "\n",
    "$$\n",
    "{\\bf J} = {\\bf L} + {\\bf S}  ~~\\Rightarrow~~\n",
    " \\boldsymbol{\\mu} =  \\boldsymbol{\\mu}_L +  \\boldsymbol{\\mu}_S  $$\n",
    "con\n",
    "\n",
    "$$\n",
    "\\boldsymbol{\\mu}_S =\\gamma_e {\\bf S} =   g_s\\frac{ q}{2 m_e} {\\bf S} \n",
    "$$\n",
    "\n",
    "y $g_s = 2,0023...$ el *factor giromagnético* del electrón."
   ]
  },
  {
   "cell_type": "markdown",
   "id": "a4778a97",
   "metadata": {
    "slideshow": {
     "slide_type": "fragment"
    }
   },
   "source": [
    "Es como si el electrón mismo tuviese momento angular interno, pero tratándose de una partícula puntual es sólo un símil"
   ]
  },
  {
   "cell_type": "markdown",
   "id": "70c1cf1c",
   "metadata": {
    "slideshow": {
     "slide_type": "fragment"
    }
   },
   "source": [
    "La variable ${\\bf S}$ se denomina *espín* y  $S_z = \\pm \\hbar/2$ es su *proyección* en la dirección dirección $\\hat{\\bf z}$.  \n",
    "\n",
    "Muchas veces se omite el factor $\\hbar$ y se dice que el electrón tiene espín $1/2$."
   ]
  },
  {
   "cell_type": "markdown",
   "id": "23e8c38b",
   "metadata": {
    "slideshow": {
     "slide_type": "slide"
    }
   },
   "source": [
    "<div class=\"alert alert-block alert-danger\">\n",
    "<b>Notar</b>\n",
    "\n",
    "Todas las partículas elementales tienen espín: \n",
    "\n",
    "- $S=1/2$ los fermiones (quarks, electrón, muón, neutrino,...)\n",
    "\n",
    "\n",
    "- $S = 0$ el bosón de Higgs\n",
    "\n",
    "\n",
    "- $S=1$ los bosones intermediarios (fotón, gluón, W,Z,...)\n",
    "    \n",
    "Las partículas compuestas tienen espín formado por el de los componentes \n",
    "\n",
    " - protón, neutrón tienen $S=1/2$ y son fermiones\n",
    " \n",
    " \n",
    " - núcleos tienen $S=1/2$ ó $0$  si tienen un número impar o par de nucleones\n",
    "</div>"
   ]
  },
  {
   "cell_type": "markdown",
   "id": "7e559b6f",
   "metadata": {
    "slideshow": {
     "slide_type": "slide"
    }
   },
   "source": [
    "<a id=\"prepacubit\"></a>\n",
    "<table width=\"100%\">\n",
    "    <td style=\"font-size:30px;font-family:Helvetica;text-align:left;background-color:rgba(12, 43, 337, 0.3);\">\n",
    "<b>Preparación de un cúbit de espín</b>\n",
    "</table>   "
   ]
  },
  {
   "cell_type": "markdown",
   "id": "33e779b4",
   "metadata": {
    "slideshow": {
     "slide_type": "slide"
    }
   },
   "source": [
    "Vamos a tratar de interpretar el experimento de Stern-Gerlach a la luz del formalismo de la Mecánica Cuántica: \n",
    "\n",
    " \n",
    "\n",
    "- los grados de libertad sólo adquieren un valor  cuando medimos el operador observable asociado.\n",
    "\n",
    "\n",
    "- la repetición de la medida en igualdad de condiciones revela que dichos valores numéricos se distribuyen de forma probabilística\n"
   ]
  },
  {
   "cell_type": "markdown",
   "id": "1c5c3284",
   "metadata": {
    "slideshow": {
     "slide_type": "slide"
    }
   },
   "source": [
    "### Construcción de un cúbit de espín    \n",
    "<br>\n",
    "    el protocolo experimental para preparar un electrón en un <i>estado de espín</i> arbitrario consta de los siguientes pasos:\n"
   ]
  },
  {
   "cell_type": "markdown",
   "id": "27e3b904",
   "metadata": {
    "slideshow": {
     "slide_type": "fragment"
    }
   },
   "source": [
    "1. Alinear un polarizador de Stern Gerlach con su campo magnético ${\\bf B}$ en la dirección de un vector unitario, \n",
    "$|\\hat\\bn|=1$, con\n",
    "    \n",
    "$$\n",
    "\\hat\\bn(\\theta,\\phi) = \\sin\\theta\\cos\\phi \\, \\hat {\\bf x} + \\sin\\theta\\sin\\phi \\, \\hat {\\bf y} + \\cos\\theta \\, \\hat {\\bf z}\n",
    "$$\n"
   ]
  },
  {
   "cell_type": "markdown",
   "id": "6fc5f7b9",
   "metadata": {
    "slideshow": {
     "slide_type": "fragment"
    }
   },
   "source": [
    "2. Hacer pasar una electrón a través de dicho Stern Gerlach y observar su deflexión.\n"
   ]
  },
  {
   "cell_type": "markdown",
   "id": "cbb9b0d9",
   "metadata": {
    "slideshow": {
     "slide_type": "fragment"
    }
   },
   "source": [
    "3.  Si, a la salida, observamos que se deflectó en el mismo sentido de $\\vec B$ (sentido opuesto a $\\vec B$) diremos que: <b>tiene</b> o, mejor dicho, adquirió una <b>proyección del espín</b> $S=+\\hbar/2$ $(S=-\\hbar/2)$\n",
    "    <b>a lo largo del eje</b> $\\hat\\bn(\\theta,\\phi)$ <b>del Stern Gerlach</b>.\n",
    "    "
   ]
  },
  {
   "cell_type": "markdown",
   "id": "e55056aa",
   "metadata": {
    "slideshow": {
     "slide_type": "fragment"
    }
   },
   "source": [
    "4. En cada caso, escribiremos para la función de onda $\\ket{\\psi} = \\psi(\\vec r)\\otimes \\ket{\\pm,\\hat\\bn }$ con\n",
    "\n",
    "$$\n",
    "S=+\\hbar/2~~\\to ~~\\ket{+,\\hat\\bn} =  \\begin{bmatrix} \\cos\\theta \\\\  e^{i\\phi}\\sin\\theta \\end{bmatrix} ~~~~~~~~,~~~~~\n",
    "~~~~~\n",
    "S=-\\hbar/2~~\\to ~~\\ket{-,\\hat\\bn} =  \\begin{bmatrix} -e^{i\\phi}\\sin\\theta \\\\  \\cos\\theta \\end{bmatrix} \n",
    "$$\n",
    "<br>\n",
    "Es decir, el estado de espín es el cúbit que tiene los mismos ángulos en la esfera de Bloch "
   ]
  },
  {
   "cell_type": "markdown",
   "id": "a12aa06f",
   "metadata": {
    "slideshow": {
     "slide_type": "slide"
    }
   },
   "source": [
    "## Observable asociado a un Stern Gerlach"
   ]
  },
  {
   "cell_type": "markdown",
   "id": "a3a09f90",
   "metadata": {
    "slideshow": {
     "slide_type": "fragment"
    }
   },
   "source": [
    "Los estados que emergen de una medición de Stern Gerlach, orientado en una dirección arbitraria deben ser autoestados de un observable.\n",
    "\n",
    "¿Cuál es el observable?\n",
    "\n",
    "Debe ser un operador hermítico con autovalores $s = \\pm \\hbar/2$. \n"
   ]
  },
  {
   "cell_type": "markdown",
   "id": "175ffc69",
   "metadata": {
    "slideshow": {
     "slide_type": "fragment"
    }
   },
   "source": [
    "<div class=\"alert alert-block alert-info\",text-align:center>\n",
    "<p style=\"text-align: left ;color: navy;\">  \n",
    "El observable asociado a un polarizador de Stern Gerlach <i>orientado</i> en una dirección $\\hat\\bn$ es\n",
    "el operador\n",
    "<br>\n",
    "<br>    \n",
    "$$\n",
    "{\\bf S}\\cdot \\hat{\\bf n} = \\frac{\\hbar}{2}\\, \\hat\\bn\\cdot  \\boldsymbol{\\sigma} \n",
    "$$\n",
    "<br>\n",
    "donde hemos agrupado las matrices de Pauli en un vector $\\boldsymbol{\\sigma} =(\\sigma_x,\\sigma_y,\\sigma_z)$ .\n",
    "</div>\n",
    "<br>\n",
    "\n",
    "\n",
    "Sólo es necesario demostrar que los cúbits que crea el proceso de Stern Gerlach son precisamente los autoestados de este observable. "
   ]
  },
  {
   "cell_type": "markdown",
   "id": "52d6f886",
   "metadata": {
    "slideshow": {
     "slide_type": "fragment"
    }
   },
   "source": [
    "<div class=\"alert alert-block alert-success\",text-align:center>\n",
    "<p style=\"text-align: left ;\">  \n",
    "<b>Ejericio</b>: demuestra que los estados $\\ket{\\pm,\\hat\\bn}$  son autoestados del operador $ {\\bf S}\\cdot \\hat{\\bf n} $, con autovalores $\\pm \\hbar/2$\n",
    "</p>    \n",
    "<details><summary> <p style='text-align:right'> >>Solucion </p> </summary>\n",
    "Equivalentemente, tenemos que probar que  \n",
    "$$\n",
    "\\hat\\bn\\cdot \\boldsymbol{\\sigma}\\ket{\\pm, \\hat\\bn,s} = \\pm\\ket{\\pm,\\hat\\bn} \\, .\n",
    "$$\n",
    "Recordando que $\\hat\\bn(\\theta,\\phi) = (\\sin\\theta\\cos\\phi , \\sin\\theta\\sin\\phi ,\\cos\\theta)$, la matriz $S$ es\n",
    "$$\n",
    "\\hat\\bn\\cdot \\boldsymbol{\\sigma} = n_x\\sigma_x + n_y\\sigma_y + n_z\\sigma_z = \\begin{bmatrix}\\cos\\theta & e^{-i\\phi}\\sin\\theta \\\\\n",
    "e^{i\\phi}\\sin\\theta & -\\cos\\theta \\end{bmatrix}\n",
    "$$\n",
    "El lema se demuestra operando.   \n",
    "</details>\n",
    "</div>"
   ]
  },
  {
   "cell_type": "markdown",
   "id": "5fb7d0f9",
   "metadata": {
    "slideshow": {
     "slide_type": "fragment"
    }
   },
   "source": [
    "<div class=\"alert alert-block alert-success\">\n",
    "<b>Ejercicio:</b> demuestra que \n",
    "$$\n",
    "\\bra{\\pm,\\hat{\\bf n}} \\, \\boldsymbol{\\sigma}\\,  \\ket{\\pm,\\hat{\\bf n}} = \\pm \\hat{\\bf n}\n",
    "$$\n",
    "</div>"
   ]
  },
  {
   "cell_type": "markdown",
   "id": "1f9ea377",
   "metadata": {
    "slideshow": {
     "slide_type": "slide"
    }
   },
   "source": [
    "<a id=\"multicubit\"></a>\n",
    "<table width=\"100%\">\n",
    "    <td style=\"font-size:30px;font-family:Helvetica;text-align:left;background-color:rgba(12, 43, 337, 0.3);\">\n",
    "<b>Manipulando un cúbit</b>\n",
    "</table>   "
   ]
  },
  {
   "cell_type": "markdown",
   "id": "a2d65cd7",
   "metadata": {
    "slideshow": {
     "slide_type": "slide"
    }
   },
   "source": [
    " Ahora podemos preguntarnos qué le ocurre a dicho electrón si lo sumergimos en un campo magnético ${\\bf B}$.\n"
   ]
  },
  {
   "cell_type": "markdown",
   "id": "4521281a",
   "metadata": {
    "slideshow": {
     "slide_type": "fragment"
    }
   },
   "source": [
    "El Hamiltoniano de una partícula con espín en un campo magnético es\n",
    "\n",
    "$$\n",
    "H = -\\hat{\\boldsymbol{\\mu}}\\cdot {\\bf B} = -\\gamma \\hat{\\bf S}\\cdot {\\bf B} =  -\\gamma \\frac{\\hbar}{2} \\boldsymbol{\\sigma}\\cdot {\\bf B}\n",
    "$$\n",
    "\n",
    "El *factor giromagnético* $\\gamma$ depende de qué tipo de partícula  estamos estudiando (electrón, protón, núcleo...) "
   ]
  },
  {
   "cell_type": "markdown",
   "id": "5daf02e4",
   "metadata": {
    "slideshow": {
     "slide_type": "fragment"
    }
   },
   "source": [
    "\n",
    "Definiremos el  *vector de Larmor* \n",
    "<br>\n",
    "\n",
    "$$\n",
    "\\boldsymbol{\\omega} = \\gamma \\bf B\n",
    "$$\n",
    "<br>\n",
    "\n",
    "cuyo módulo será la *frecuencia de Larmor*\n",
    "$$\n",
    "\\omega = \\gamma B ~~\n",
    "~[\\hbox{Hz}]\n",
    "$$\n",
    "\n",
    "Notar que $B$ es positivo. De modo que $\\omega$ tendrá el signo de $\\gamma$ y por tanto el de $q$"
   ]
  },
  {
   "cell_type": "markdown",
   "id": "a59fd906",
   "metadata": {
    "slideshow": {
     "slide_type": "fragment"
    }
   },
   "source": [
    "con esta definición, el Hamiltoniano  se escribe en la forma\n",
    "\n",
    "$$\n",
    "H =  \\frac{\\hbar}{2}(-\\gamma {\\bf B})\\cdot \\boldsymbol{\\sigma}= -\\frac{\\hbar}{2} \\boldsymbol{\\omega}\\cdot \\boldsymbol{\\sigma}\n",
    "$$\n",
    "\n"
   ]
  },
  {
   "cell_type": "markdown",
   "id": "bb4d4bfe",
   "metadata": {
    "slideshow": {
     "slide_type": "slide"
    }
   },
   "source": [
    "Si uno mira las unidades de la ecuación anterior verá que\n",
    "\n",
    "- $[H]$ el hamiltoniano tiene unidades de energía, por ejemplo, julio, J.\n",
    "\n",
    "\n",
    "- $[\\hbar]$ la constante de Planck, tiene unidades de energía $\\times$ tiempo, es decir, J s. "
   ]
  },
  {
   "cell_type": "markdown",
   "id": "ed60e908",
   "metadata": {
    "slideshow": {
     "slide_type": "fragment"
    }
   },
   "source": [
    "Consistentemente\n",
    "\n",
    "- $\\boldsymbol{\\omega} = \\gamma {\\bf B}$ es un vector que tiene unidades de inversa de tiempo, de hecho rad s$^{-1}$.\n"
   ]
  },
  {
   "cell_type": "markdown",
   "id": "a4e0e065",
   "metadata": {
    "slideshow": {
     "slide_type": "fragment"
    }
   },
   "source": [
    "De hecho **cualquier Hamiltoniano** 2$\\times$2 se puede escribir de esta forma, que admite la interpretación de un espín en un campo magnético identificando$\\boldsymbol{\\omega} = \\gamma \\bf B$."
   ]
  },
  {
   "cell_type": "markdown",
   "id": "7431f832",
   "metadata": {
    "slideshow": {
     "slide_type": "fragment"
    }
   },
   "source": [
    "<div class=\"alert alert-block alert-success\">\n",
    "<b>Ejercicio:</b> \n",
    "dado un Hamiltoniano\n",
    "$$\n",
    "H =  \\begin{bmatrix} E_1 & H_{12} \\\\ H_{12}^* & E_2 \\end{bmatrix}\n",
    "$$\n",
    "    obtén el <i>vector de Larmor efectivo</i> $\\boldsymbol{\\omega}$ asociado  \n",
    "    \n",
    "<details><summary> <p style='text-align:right'> >>Solution </p> </summary>\n",
    "\\begin{eqnarray}\n",
    "H &=& \\begin{bmatrix} E_1 & H_{12} \\\\ H^*_{12} & E_2 \\end{bmatrix} \\nonumber\\\\\n",
    "&=& \\rule{0mm}{8mm}\\frac{H_{11} + H_{22}}{2} I + \\frac{E_1 - E_2}{2}\\sigma_z + {\\rm Re}(H_{12})\\sigma_x - {\\rm Im}(H_{12})\\sigma_y\n",
    "\\nonumber\\\\\n",
    "&=&  \\rule{0mm}{8mm}\\frac{E_1 + E_2}{2} I  - \\frac{\\hbar}{2} \\boldsymbol{\\omega} \\cdot \\boldsymbol{\\sigma} \\label{cambioB}\n",
    "\\end{eqnarray}\n",
    "donde definimos el vector de Larmor efectivo\n",
    "$$\n",
    "\\omega_x = -\\frac{2}{\\hbar } {\\rm Re} (H_{12})~~ ,~~~~   \\omega_y =  \\frac{2}{\\hbar } {\\rm Im} (H_{12}) ~~,~~~~\\omega_z =  \\frac{ E_{2}-E_{1}}{\\hbar } \n",
    "$$ \n",
    "</details>\n",
    "</div>"
   ]
  },
  {
   "cell_type": "markdown",
   "id": "7a46792c",
   "metadata": {
    "slideshow": {
     "slide_type": "slide"
    }
   },
   "source": [
    "De la sección anterior, ya sabemos cuáles son los autoestados de $H$\n",
    "\n",
    "Por ejemplo, tomando ${\\bf B} = B\\, \\hat{\\bf z}$ a lo largo del eje $\\hat{\\bf z}$ vemos que $\\boldsymbol{\\omega} = (0,0,\\omega)$ y \n",
    "\n",
    "<br>\n",
    "\n",
    "$$\n",
    "H = -\\frac{\\hbar}{2}\\omega \\sigma_z = \\begin{bmatrix} -\\hbar\\omega/2 & 0 \\\\ 0 & \\hbar\\omega/2 \\end{bmatrix}\n",
    "$$\n"
   ]
  },
  {
   "cell_type": "markdown",
   "id": "ec99dad7",
   "metadata": {
    "slideshow": {
     "slide_type": "fragment"
    }
   },
   "source": [
    "<br>\n",
    "\n",
    " - El estado *fundamental* es $\\begin{bmatrix} 1\\\\ 0\\end{bmatrix} =\\ket{+,\\hat{\\bf z}}=\\ket{1}$ con energía $\\varepsilon_0=-\\hbar \\omega/2$. \n",
    " \n"
   ]
  },
  {
   "cell_type": "markdown",
   "id": "0f7a9b24",
   "metadata": {
    "slideshow": {
     "slide_type": "fragment"
    }
   },
   "source": [
    "<br>\n",
    "\n",
    " - El estado *excitado*\n",
    " es $\\begin{bmatrix} 1\\\\ 0\\end{bmatrix} =\\ket{-,\\hat{\\bf z}}= \\ket{0}$ con energía $\\varepsilon_1=\\, \\hbar \\omega/2$. \n",
    " \n"
   ]
  },
  {
   "cell_type": "markdown",
   "id": "71b2205e",
   "metadata": {},
   "source": [
    "Al igual que clásicamente, con carga positiva $\\gamma> 0$  el estado que minimiza la energía es el que, en la esfera de Bloch, es paralelo a la dirección del campo magnético en el espacio "
   ]
  },
  {
   "cell_type": "markdown",
   "id": "25cb40ac",
   "metadata": {
    "slideshow": {
     "slide_type": "slide"
    }
   },
   "source": [
    "<div class=\"alert alert-block alert-danger\">\n",
    "<b>Notar</b>\n",
    "<br>\n",
    "    \n",
    "- Observamos como *la presencia del campo magnético* induce una *separación de niveles* o *gap* de energía \n",
    "\n",
    "    $$\\Delta \\varepsilon = \\varepsilon_1-\\varepsilon_0 = \\hbar \\omega$$ \n",
    "   \n",
    "<br>\n",
    "    \n",
    "- Este efecto se denomina *efecto Zeeman*\n",
    "    \n",
    "<br>    \n",
    "    \n",
    "- Con frecuencia se habla la *frecuencia del gap*  $\\omega = \\Delta \\varepsilon/\\hbar = $ y sus unidades son  [rad s$^{-1}$]  \n",
    "    \n",
    "<br>\n",
    "    \n",
    "- El eje $\\hat{\\bf z}$ no tiene nada de especial. Y la observación anterior se generaliza a cualquier campo magnético ${\\bf B}= B\\, \\hat{\\bf u}$. El Hamiltoniano asociado tendrá ahora dos autoestados $\\{\\ket{-,\\hat{\\bf u}},\\ket{+,\\hat{\\bf u}}\\}$ con idénticas energías $\\varepsilon_{0}$ y $\\varepsilon_1$.\n",
    "\n",
    "</div>"
   ]
  },
  {
   "cell_type": "markdown",
   "id": "10d1921d",
   "metadata": {
    "slideshow": {
     "slide_type": "slide"
    }
   },
   "source": [
    "## Evolución de un espín en un campo magnético. "
   ]
  },
  {
   "cell_type": "markdown",
   "id": "e5e0bc86",
   "metadata": {
    "slideshow": {
     "slide_type": "fragment"
    }
   },
   "source": [
    "Situemos un espín $\\ket{\\psi} = \\ket{s,\\hat\\bn}$ en un campo magnético vertical ${\\bf B}= B \\, \\hat{\\bf z}$\\, .\n",
    "La evolución en el tiempo, $\\ket{\\psi(t)}$,  viene gobernada por la ecuación de Schrödinger\n",
    "\n",
    "$$\n",
    "i\\hbar \\frac{d}{dt} \\ket{\\psi(t)} = H \\ket{\\psi(t)}\n",
    "$$\n"
   ]
  },
  {
   "cell_type": "markdown",
   "id": "a50584df",
   "metadata": {
    "slideshow": {
     "slide_type": "fragment"
    }
   },
   "source": [
    "\n",
    "\n",
    "Cuando $H$ es un operador constante en el tiempo (por ejemplo si el campo $\\bf B$ no varía) existe una solución exacta para la evolución\n",
    "<br>\n",
    "\n",
    "$$\n",
    "\\ket{\\psi(t)} = U(t,0) \\ket{\\psi(0)}\n",
    "$$"
   ]
  },
  {
   "cell_type": "markdown",
   "id": "82316ce7",
   "metadata": {
    "slideshow": {
     "slide_type": "fragment"
    }
   },
   "source": [
    "que involucra el *operador de evolución*  \n",
    "$$\n",
    "U(t,0) = \\exp\\left( -\\frac{i}{\\hbar} t H\\right)\n",
    "$$"
   ]
  },
  {
   "cell_type": "markdown",
   "id": "43f51b77",
   "metadata": {
    "slideshow": {
     "slide_type": "slide"
    }
   },
   "source": [
    "\n",
    "En la base que diagonaliza el operador, es equivalente a exponenciar los elementos diagonales. Es el caso cuando tomamos el campo magnético  a lo largo del eje $\\hat{\\bf z}$, ${\\bf B} = B\\, \\hat{\\bf z}$\n",
    "\n",
    "$$\n",
    "\\exp\\left( -\\frac{i}{\\hbar} t H\\right)= \\exp\\left( -\\frac{i}{\\hbar} t\\left(- \\frac{\\hbar}{2}\\omega \\sigma_z \\right)\\right) = \\exp \\begin{bmatrix} it \\omega/2 & 0 \\\\ 0 & -it \\omega/2 \\end{bmatrix} =\n",
    "\\begin{bmatrix} e^{it \\omega/2} & 0 \\\\ 0 &e^{-it \\omega/2}  \\end{bmatrix} =  e^{it \\omega/2}\n",
    "\\begin{bmatrix}1 & 0 \\\\ 0 &e^{-it \\omega}\\end{bmatrix}\n",
    "$$\n"
   ]
  },
  {
   "cell_type": "markdown",
   "id": "588babe1",
   "metadata": {
    "slideshow": {
     "slide_type": "fragment"
    }
   },
   "source": [
    "Podemos despreciar la *fase global* y escribir para el operador de evolución\n",
    "\n",
    "$$\n",
    "U(t,0) = \\begin{bmatrix}1 & 0 \\\\ 0 &e^{-it \\omega}\\end{bmatrix}\n",
    "$$"
   ]
  },
  {
   "cell_type": "markdown",
   "id": "856d59ae",
   "metadata": {
    "slideshow": {
     "slide_type": "fragment"
    }
   },
   "source": [
    "Ya podemos obtener la evolución en el tiempo de un estado inicial de la polarización del espín. Supongamos que, a tiempo $t=0$, tenemos\n",
    "\n",
    "$$\n",
    "\\ket{\\psi(0)} =  \\begin{bmatrix} \\cos\\theta \\\\ e^{i\\phi} \\sin\\theta \\end{bmatrix}\n",
    "$$"
   ]
  },
  {
   "cell_type": "markdown",
   "id": "a428b38f",
   "metadata": {
    "slideshow": {
     "slide_type": "fragment"
    }
   },
   "source": [
    "A tiempo $t$ el estado será\n",
    "<br>\n",
    "<br>\n",
    "\n",
    "$$\n",
    "\\ket{\\psi(t)} = U(t,0) \\ket{\\psi(0)} = \\begin{bmatrix}1 & 0 \\\\ 0 &e^{it \\omega}\\end{bmatrix}\\begin{bmatrix} \\cos\\theta \\\\ e^{i\\phi} \\sin\\theta \\end{bmatrix} = \n",
    "\\begin{bmatrix} \\cos\\theta \\\\ e^{i(\\phi- t\\omega)} \\sin\\theta \\end{bmatrix}\n",
    "$$"
   ]
  },
  {
   "cell_type": "markdown",
   "id": "c81f2e64",
   "metadata": {
    "slideshow": {
     "slide_type": "slide"
    }
   },
   "source": [
    "El resultado es fácil de visualizar:  en la esfera de Bloch, el estado instantáneo $\\ket{\\psi(t)} = \\begin{bmatrix} \\cos\\theta \\\\ e^{i(\\phi- t\\omega)} \\sin\\theta \\end{bmatrix}$,  experimenta \n",
    "- una *precesión de Larmor* en torno que marca el campo magnético, preservando el  ángulo $\\theta$ inicial fijo, \n",
    "\n",
    "\n",
    "- con una velocidad angular dada por la *frecuencia de Larmor*, $\\omega = \\gamma B~$ [rad s$^{-1}$] en sentido horario $\\omega >0$ (antihorario $\\omega <0$) para una partícula de carga positiva (negativa)\n",
    "\n"
   ]
  },
  {
   "cell_type": "markdown",
   "id": "4e8e66d8",
   "metadata": {
    "slideshow": {
     "slide_type": "fragment"
    }
   },
   "source": [
    "<div>\n",
    "<img src=\"images/precession.png\" width=\"300\"/>\n",
    "</div>\n"
   ]
  },
  {
   "cell_type": "markdown",
   "id": "4d035d7a",
   "metadata": {
    "slideshow": {
     "slide_type": "fragment"
    }
   },
   "source": [
    "-  la probabilidad de *decaer* al estado fundamental $\\ket{+,\\hat{\\bf z}}=\\begin{bmatrix}1 \\\\ 0\\end{bmatrix}$ es $\\cos^2 \\theta$, y es invariante bajo evolución temporal"
   ]
  },
  {
   "cell_type": "markdown",
   "id": "32ff235c",
   "metadata": {
    "slideshow": {
     "slide_type": "fragment"
    }
   },
   "source": [
    "<div class=\"alert alert-block alert-danger\">\n",
    "<b>Notar</b>\n",
    "<br>\n",
    "\n",
    "-  Observamos como *la presencia del campo magnético* induce una *separación de niveles* o *gap* de energía \n",
    "    \n",
    "    \n",
    "-  los dos autoestados del hamiltoniano $\\ket{\\pm,\\hat{\\bf z}}$  de energías $\\pm \\hbar\\omega/2$   son *estables* bajo evolución temporal. \n",
    "    \n",
    "    \n",
    "-  esto los hace útiles para computación cuántica $\\Rightarrow$ un hamiltoniano *congela* ciertos estados, sus autoestados, siempre que <i> no sean degenerados </i>  "
   ]
  },
  {
   "cell_type": "markdown",
   "id": "82abf548",
   "metadata": {
    "slideshow": {
     "slide_type": "slide"
    }
   },
   "source": [
    "### Control cuántico\n",
    "\n",
    "La elección del eje $\\hat{\\bf z}$ para alinear el campo magnético es *totalmente arbitraria* y se ha elegido para simplificar los cálculos, al ser el Hamiltoniano diagonal. Si escogiésemos otra dirección arbitraria:\n",
    "\n",
    "- el resultado físico **tiene que ser el mismo**: una *precesión de Larmor* del vector de Bloch en torno al eje que marca el campo magnético ${\\bf B}$ con *frecuencia angular de Larmor* $\\omega = \\gamma B$.\n",
    "\n"
   ]
  },
  {
   "cell_type": "markdown",
   "id": "66ac6df6",
   "metadata": {
    "slideshow": {
     "slide_type": "fragment"
    }
   },
   "source": [
    "- el álgebra será más complicada porque tendremos que exponenciar una matriz  $H = -\\frac{\\hbar}{2}\\boldsymbol{\\omega}\\cdot\\boldsymbol{\\sigma} $ que ya no es diagonal\n",
    "\n",
    "$$\n",
    "U_{\\boldsymbol{\\omega}}(t,0) = \\exp\\left( -\\frac{i}{\\hbar} t H\\right) = \\exp\\left( \\frac{i}{\\hbar} t \\frac{\\hbar}{2}\\boldsymbol{\\omega}\\cdot \\boldsymbol{\\sigma}\\right)  =  \n",
    " \\exp\\left( i\\frac{t\\omega}{2}  \\frac{\\boldsymbol{\\omega}}{\\omega}\\cdot \\boldsymbol{\\sigma}\\right)\n",
    "$$\n"
   ]
  },
  {
   "cell_type": "markdown",
   "id": "0e6f9056",
   "metadata": {
    "slideshow": {
     "slide_type": "slide"
    }
   },
   "source": [
    "-  Observamos que $U_{\\boldsymbol{\\omega}}(t,0)$ es el operador de rotación de ángulo $\\alpha = -t\\omega$ en torno al eje $\\hat{\\bf n} = \\boldsymbol{\\omega}/\\omega$."
   ]
  },
  {
   "cell_type": "markdown",
   "id": "c01de980",
   "metadata": {},
   "source": [
    "<div>\n",
    "<img src=\"images/precession_tilted2.png\" width=\"300\"/>\n",
    "</div>\n"
   ]
  },
  {
   "cell_type": "markdown",
   "id": "7c8f8545",
   "metadata": {
    "slideshow": {
     "slide_type": "slide"
    }
   },
   "source": [
    "El resultado general es el siguiente\n",
    "\n",
    "\\begin{eqnarray}\n",
    "U_{\\boldsymbol{\\omega}}(t,0) ~&=&~ \\cos\\left(\\frac{t\\omega}{2}\\right) I + i \\sin\\left(\\frac{t\\omega}{2}\\right) \\, \\frac{\\boldsymbol{\\omega}}{\\omega}\\cdot \\boldsymbol{\\sigma} \\\\\n",
    "&&\\\\\n",
    "&=& \n",
    "\\begin{bmatrix}\n",
    " \\cos \\displaystyle\\frac{t\\omega}{2}+ i \\displaystyle\\frac{\\omega_z}{\\omega} \\sin\\displaystyle\\frac{t\\omega}{2}  &   \\displaystyle\\frac{\\omega_y+i\\omega_x}{\\omega} \\sin\\displaystyle\\frac{t\\omega}{2}  \\\\\n",
    " \\rule{0mm}{8mm}\n",
    " \\displaystyle\\frac{-\\omega_y+i\\omega_x}{\\omega} \\sin\\displaystyle\\frac{t\\omega}{2}  & \\cos\\displaystyle\\frac{t\\omega}{2} - i \\displaystyle\\frac{\\omega_z}{\\omega} \\sin\\frac{t \\omega }{2}\n",
    "\\end{bmatrix}\n",
    "\\end{eqnarray}\n",
    "\n"
   ]
  },
  {
   "cell_type": "markdown",
   "id": "ffcab6f2",
   "metadata": {
    "slideshow": {
     "slide_type": "fragment"
    }
   },
   "source": [
    "Podemos generar ahora la rotación más general de un cúbit en torno a un eje arbitrario"
   ]
  },
  {
   "cell_type": "markdown",
   "id": "0bbaf166",
   "metadata": {
    "slideshow": {
     "slide_type": "slide"
    }
   },
   "source": [
    "Podemos comprobar que se recuperan las precesiones en torno a los ejes $\\hat{\\bf x}$, $\\hat{\\bf y}$ y $\\hat{\\bf z}$.\n",
    "\n",
    "- $\\boldsymbol{\\omega} = (0,0, \\gamma B_z)$.\n",
    "<br>\n",
    "$$\n",
    "U_z(t,0) = \\begin{bmatrix} e^{it \\omega/2} & 0 \\\\ 0 &e^{-it \\omega/2}  \\end{bmatrix} = R_{z}(-t\\omega)\n",
    "$$\n",
    "<br>\n",
    "\n",
    "- $\\boldsymbol{\\omega} = (\\gamma B_x,0,0)$.\n",
    "<br>\n",
    "$$\n",
    "U_x(t,0) = \n",
    "\\begin{bmatrix}\n",
    " \\cos \\displaystyle\\frac{t\\omega}{2}  &  i \\sin\\displaystyle\\frac{t\\omega}{2}  \\\\\n",
    " \\rule{0mm}{8mm}\n",
    " i \\sin\\displaystyle\\frac{t\\omega}{2}  & \\cos\\displaystyle\\frac{t\\omega}{2} \n",
    "\\end{bmatrix} = R_{x}(-t\\omega)\n",
    "$$\n",
    "<br>\n",
    "\n",
    "- $\\boldsymbol{\\omega} = (0,\\gamma B_y,0)$.\n",
    "<br>\n",
    "$$\n",
    "U_y(t,0) = \n",
    "\\begin{bmatrix}\n",
    " \\cos \\displaystyle\\frac{t\\omega}{2}  &   \\sin\\displaystyle\\frac{t\\omega}{2}  \\\\\n",
    " \\rule{0mm}{8mm}\n",
    "  -\\sin\\displaystyle\\frac{t\\omega}{2}  & \\cos\\displaystyle\\frac{t\\omega}{2} \n",
    "\\end{bmatrix}= R_{y}(-t\\omega)\n",
    "$$\n",
    "<br>\n",
    "\n",
    "Recuperamos los operadores de rotación de cúbits en torno a los tres ejes, con un ángulo dinámico $\\alpha = -t\\omega$."
   ]
  },
  {
   "cell_type": "markdown",
   "id": "708d5814",
   "metadata": {
    "slideshow": {
     "slide_type": "slide"
    }
   },
   "source": [
    "## Pulsos y puertas elementales"
   ]
  },
  {
   "cell_type": "markdown",
   "id": "17432b35",
   "metadata": {},
   "source": [
    "Si tenemos un conocimiento muy exacto de la frecuencia de Larmor, podemos utilizar el procedimiento anterior para construir cualquier puerta simples de 1 cúbit, encendiendo el campo magnético un tiempo muy preciso, o *pulso*\n"
   ]
  },
  {
   "cell_type": "markdown",
   "id": "25cda27d",
   "metadata": {},
   "source": [
    "Por ejemplo, cuando  $t =\\Delta t =  \\pi/\\omega$ hablamos de un *pulso elemental* en el que $ ~\\Rightarrow~\\cos \\frac{t\\omega}{2} = 0~$ , $~\\sin \\frac{t\\omega}{2} = 1$\n"
   ]
  },
  {
   "cell_type": "markdown",
   "id": "01648420",
   "metadata": {
    "slideshow": {
     "slide_type": "fragment"
    }
   },
   "source": [
    "\n",
    "Con él somos capaces de generar las puertas $X,Y$ y $Z$, así como la puerta de Hadamard.\n",
    "<br>\n",
    "<br>\n",
    "\n",
    "\\begin{eqnarray}\n",
    "i \\,U_{\\hat{\\bf z}}( \\Delta t ,0) &=&  \\begin{bmatrix} 1 & 0 \\\\ 0 & -1  \\end{bmatrix} =  Z  \n",
    "\\nonumber\\\\ \n",
    "&& \\\\\n",
    "i \\,U_{\\hat{\\bf y}}( \\Delta t ,0) &=&     \\begin{bmatrix} 0  & -i \\\\   i& 0 \\end{bmatrix}  =  Y \n",
    "\\nonumber\\\\ \n",
    "&& \\\\\n",
    "i \\,U_{\\hat{\\bf x}}( \\Delta t ,0)  &=&  \\begin{bmatrix} 0  & 1 \\\\   1& 0 \\end{bmatrix} = X  \\, \n",
    "\\nonumber\\\\ \n",
    "&& \\\\\n",
    "i \\,U_{\\frac{1}{\\sqrt{2}}(\\hat{\\bf x}+\\hat{\\bf z})}( \\pi/\\omega,0)  &=& \\frac{1}{\\sqrt{2}} \\begin{bmatrix} 1  & 1 \\\\   1& -1 \\end{bmatrix} = H  \\, \n",
    "\\end{eqnarray}"
   ]
  },
  {
   "cell_type": "markdown",
   "id": "0ca346c7",
   "metadata": {
    "slideshow": {
     "slide_type": "fragment"
    }
   },
   "source": [
    "Con pulsos de menor tiempo podemos construir puertas $S$ y $T$\n",
    "\n",
    "$$\n",
    "e^{i\\pi/4} \\,U_{\\hat{\\bf z}}( \\Delta t ,0) = S\n",
    "$$\n",
    "\n",
    "and\n",
    "\n",
    "$$e^{i\\pi/8}\\,U_{\\hat{\\bf z}}( \\Delta t ,0) = T\n",
    "$$"
   ]
  }
 ],
 "metadata": {
  "celltoolbar": "Slideshow",
  "kernelspec": {
   "display_name": "Python 3",
   "language": "python",
   "name": "python3"
  },
  "language_info": {
   "codemirror_mode": {
    "name": "ipython",
    "version": 3
   },
   "file_extension": ".py",
   "mimetype": "text/x-python",
   "name": "python",
   "nbconvert_exporter": "python",
   "pygments_lexer": "ipython3",
   "version": "3.7.10"
  },
  "varInspector": {
   "cols": {
    "lenName": 16,
    "lenType": 16,
    "lenVar": 40
   },
   "kernels_config": {
    "python": {
     "delete_cmd_postfix": "",
     "delete_cmd_prefix": "del ",
     "library": "var_list.py",
     "varRefreshCmd": "print(var_dic_list())"
    },
    "r": {
     "delete_cmd_postfix": ") ",
     "delete_cmd_prefix": "rm(",
     "library": "var_list.r",
     "varRefreshCmd": "cat(var_dic_list()) "
    }
   },
   "types_to_exclude": [
    "module",
    "function",
    "builtin_function_or_method",
    "instance",
    "_Feature"
   ],
   "window_display": false
  }
 },
 "nbformat": 4,
 "nbformat_minor": 5
}
