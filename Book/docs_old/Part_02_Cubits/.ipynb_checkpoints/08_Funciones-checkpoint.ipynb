{
 "cells": [
  {
   "cell_type": "markdown",
   "metadata": {},
   "source": [
    "<img   src=\"../figuras/logo/TalentQ_LogoPosNegro.png\" align=center  width=\"120\"/>\n",
    "<br>\n",
    "\n",
    "<table width=\"100%\">\n",
    "<td style=\"font-size:45px;font-style:italic;text-align:right;background-color:rgba(0, 160, 120,0.6)\">\n",
    "Funciones y Oráculos\n",
    "</td></table>\n",
    "\n",
    "\n",
    "\n",
    "$ \\newcommand{\\bra}[1]{\\langle #1|} $\n",
    "$ \\newcommand{\\ket}[1]{|#1\\rangle} $\n",
    "$ \\newcommand{\\braket}[2]{\\langle #1|#2\\rangle} $\n",
    "$ \\newcommand{\\i}{{\\color{blue} i}} $ \n",
    "$ \\newcommand{\\Hil}{{\\mathbb H}} $\n",
    "$ \\newcommand{\\cg}[1]{{\\rm C}#1} $"
   ]
  },
  {
   "cell_type": "markdown",
   "metadata": {},
   "source": [
    "<a id=\"teleportacion\"></a>\n",
    "<table width=\"100%\">\n",
    "    <td style=\"font-size:25px;font-family:Helvetica;text-align:left;background-color:rgba(12, 43, 337, 0.3);\">\n",
    "<b>Funciones digitales</b>\n",
    "</table>"
   ]
  },
  {
   "cell_type": "markdown",
   "metadata": {
    "slideshow": {
     "slide_type": "slide"
    }
   },
   "source": [
    "Un proceso de computación clásica descompone en puertas elementales una _función digital_ \n",
    "\n",
    "$$\n",
    "f : \\{0,1\\}^m ~~\\to ~~\\{0,1\\}^n\n",
    "$$"
   ]
  },
  {
   "cell_type": "markdown",
   "metadata": {
    "slideshow": {
     "slide_type": "fragment"
    }
   },
   "source": [
    "La construcción de $f$ es equivalente a la especificación de $n$ funciones  $f_1,f_2,...,f_n$ **binarias**\n",
    "\n",
    "$$\n",
    "f_i : \\{0,1\\}^m ~~\\to ~~\\{0,1\\}\n",
    "$$ \n",
    "\n",
    "Es evidente que ninguna función binaria es invertible para $m\\geq 2$. \n"
   ]
  },
  {
   "cell_type": "markdown",
   "metadata": {
    "slideshow": {
     "slide_type": "slide"
    }
   },
   "source": [
    " \n",
    " El teorema de *Universalidad de la Computación Clásica* afirma que cualquier función binaria $f_i$ puede reducirse a la acción de puertas elementales AND, OR, NOT y FANOUT. De estas últimas, solo NOT es reversible. Las demas no. Por ejemplo\n",
    "\n",
    "|bit 1|bit 2||OR|\n",
    "|---|---||---|\n",
    "|0|0||0|\n",
    "|0|1||1|\n",
    "|1|0||1|\n",
    "|1|1||1|\n"
   ]
  },
  {
   "cell_type": "markdown",
   "metadata": {},
   "source": [
    "Si queremos englobar la computación clásica dentro de la cuántica, este hecho representa un inconveniente, debido a que los circuitos cuánticos son, por naturaleza invertibles. Ello es debido que  cada circuito representa la acción un operador unitario, para el cual, la inversa existe y es igual al operador adjunto.\n",
    "\n",
    "$$\n",
    "U^{-1} = U^{\\dagger}\n",
    "$$\n",
    "\n",
    "El circuito asociado a $U^\\dagger$ se obtiene invirtiendo el orden de los factores en el de $U$,  e invirtiendo el signo en todos los ángulos de rotación.\n",
    "\n",
    "\n",
    "La manera más robusta de fabricar, a partir de un mapa no invertible $f$, otro invertible $f\\to U_f$ consiste en conservar los valores de la variables iniciales junto con el resultado.  Si en lugar de bits, tratamos con cúbits, \n",
    " necesitamos un total de $n+1$ bits. Es decir, debemos tomar dos registros cuánticos: uno que consta de los $n$ cúbits que contienen el argumento de la función, $\\ket{x} \\in \\mathbb{C}^n$, y otro con un único cúbit que guardará el resultado, $\\ket{y} \\in \\mathbb{C}$.\n",
    "\n",
    "\\begin{equation}\n",
    "U_f : \\ket{x}\\ket{y} \\longrightarrow \\ket{x} \\ket{ y \\oplus f(x) }\n",
    "\\end{equation}\n",
    "\n",
    "Donde $\\oplus$ indica suma módulo 2. De hecho, es evidente de la definición que $U_f\\cdot U_f = I$. "
   ]
  },
  {
   "cell_type": "markdown",
   "metadata": {},
   "source": [
    "<div class=\"alert alert-block alert-success\">\n",
    "\n",
    "<b>Ejercicio: </b> \n",
    "Escribe la matriz $3\\times 3$ asociada a $U_{\\rm AND}$. Muestra que es unitaria y hermítica \n",
    "\n",
    "</div>\n",
    "\n"
   ]
  },
  {
   "cell_type": "markdown",
   "metadata": {},
   "source": [
    "## Construcción de funciones binarias. Los min-términos\n",
    "\n",
    "Es muy sencillo establecer un método general para construir funciones binarias de la forma $f: \\{0, 1\\}^n \\rightarrow \\{0, 1\\}$. Consideremos la siguiente tabla de verdad para una función $f: \\{0, 1\\}^3 \\rightarrow \\{0, 1\\}$ concreta.\n",
    "\n",
    "|$$x_1$$|$$x_2$$|$$x_3$$||$$f$$|\n",
    "|-|-|-||-|\n",
    "|0|0|0||0|\n",
    "|0|0|1||1|\n",
    "|0|1|0||0|\n",
    "|0|1|1||0|\n",
    "|1|0|0||0|\n",
    "|1|0|1||1|\n",
    "|1|1|0||0|\n",
    "|1|1|1||1|\n",
    "\n",
    "Este método consiste en considerar exclusivamente los términos que tienen como salida la variable 1, que denominaremos <b>min-términos</b>. El circuito que implementa la función $f$ vendrá dado por la serie de puertas lógicas que definen estos min-términos. Para el caso de la tabla de verdad anterior, el circuito correspondiente vendrá dado por:\n"
   ]
  },
  {
   "cell_type": "code",
   "execution_count": 26,
   "metadata": {},
   "outputs": [
    {
     "data": {
      "image/png": "[encoded data removed]",
      "text/plain": [
       "<Figure size 280.469x325.08 with 1 Axes>"
      ]
     },
     "execution_count": 26,
     "metadata": {},
     "output_type": "execute_result"
    }
   ],
   "source": [
    "from qiskit import QuantumRegister, QuantumCircuit, ClassicalRegister\n",
    "from qiskit.circuit.library import MCXGate\n",
    "\n",
    "qr = QuantumRegister(4)\n",
    "cr = ClassicalRegister(4)\n",
    "\n",
    "qc = QuantumCircuit(qr, cr, name='q')\n",
    "\n",
    "qc.append(MCXGate(3, ctrl_state=1), qr)\n",
    "qc.append(MCXGate(3, ctrl_state=5), qr)\n",
    "qc.append(MCXGate(3, ctrl_state=7), qr)\n",
    "\n",
    "qc.draw(output='mpl')"
   ]
  },
  {
   "cell_type": "markdown",
   "metadata": {},
   "source": [
    "<br>\n",
    "<details>\n",
    "<summary><p style=\"color:blue\"> >>Nota: la función MCXGate</p></summary>\n",
    "   \n",
    "\n",
    "En este código hemos utilizado la función de qiskit MCXGate, que nos permite implementar una puerta X completamente condicionada. Básicamente, esta puerta es equivalente a una puerta controlada normal (como la CNOT o la Toffoli, pero introduciendo puertas X antes y después de aquellos cúbits que requieren el valor 0 para activar la MCX. Para construir llamar a esta función solo le tenemos que introducir dos argumentos:\n",
    "- El primer número, en nuestro caso, un 3, es el número de cúbits que van a actuar como control.\n",
    "- El argumento ctrl_state es el número decimal correspondiente al elemento de la tabla de verdad que se refiere al elemento que queremos condicionar.\n",
    "\n",
    "Puedes encontrar más información para un uso más exhaustivo de la función en: https://qiskit.org/documentation/stubs/qiskit.circuit.library.MCXGate.html?highlight=mcxgate#qiskit.circuit.library.MCXGate\n",
    "    \n",
    "<details>    "
   ]
  },
  {
   "cell_type": "markdown",
   "metadata": {},
   "source": [
    "<div class=\"alert alert-block alert-success\">\n",
    "    <b> Ejercicio </b>:\n",
    "Completa la función definida en la siguiente celda. Dicha función crea un circuito asociado a un min-término. Para ello toma como argumento los _bits de entrada_ en la tabla de verdad. La función debe inicializar el circuito en ese elemento y luego aplicar el circuito correspondiente a la tabla de verdad del ejemplo anterior.\n",
    "</div>"
   ]
  },
  {
   "cell_type": "code",
   "execution_count": 77,
   "metadata": {},
   "outputs": [
    {
     "data": {
      "text/plain": [
       "1"
      ]
     },
     "execution_count": 77,
     "metadata": {},
     "output_type": "execute_result"
    }
   ],
   "source": [
    "a=str('100')[::]\n",
    "int(str('100')[::-1],2)"
   ]
  },
  {
   "cell_type": "code",
   "execution_count": 80,
   "metadata": {},
   "outputs": [],
   "source": [
    "from qiskit import QuantumRegister, QuantumCircuit, ClassicalRegister\n",
    "from qiskit.circuit.library import MCXGate\n",
    "\n",
    "def min_term_circuit(input_bits):\n",
    "    \n",
    "    input_str = str(input_bits)\n",
    "    qubits_number = len(input_str)   \n",
    "    print(qubits_number)\n",
    "    \n",
    "    qr = QuantumRegister(qubits_number + 1)\n",
    "    qc = QuantumCircuit(qr, name='q')\n",
    "    \n",
    "    ctrl_state= int(input_str[::-1],2)\n",
    "\n",
    "    #========Escribe tu código aquí========\n",
    "    qc.append(MCXGate(qubits_number, ctrl_state=ctrl_state), qr)                \n",
    "    #======================================\n",
    "    \n",
    "    return qc      "
   ]
  },
  {
   "cell_type": "code",
   "execution_count": 81,
   "metadata": {},
   "outputs": [
    {
     "name": "stdout",
     "output_type": "stream",
     "text": [
      "4\n"
     ]
    },
    {
     "data": {
      "image/png": "[encoded data removed]",
      "text/plain": [
       "<Figure size 173.049x325.08 with 1 Axes>"
      ]
     },
     "execution_count": 81,
     "metadata": {},
     "output_type": "execute_result"
    }
   ],
   "source": [
    "qc=min_term_circuit('1011')\n",
    "qc.draw('mpl')"
   ]
  },
  {
   "cell_type": "markdown",
   "metadata": {},
   "source": [
    "\n",
    "<div class=\"alert alert-block alert-success\">\n",
    "    <b>Ejercicio </b>: Completa la siguiente función para que implemente la siguiente tabla de verdad en un circuito cuántico. Fíjate en que necesitas un total de 8 cúbits para poder usar el método de los min-términos.\n",
    "    \n",
    "|$$x$$|$$f(x)$$||$$x$$|$$f(x)$$|\n",
    "|---|---||---|---|\n",
    "|0000|1111||1000|0101|\n",
    "|0001|1011||1001|0100|\n",
    "|0010|0011||1010|0000|\n",
    "|0011|1000||1011|1110|\n",
    "|0100|0101||1100|1111|\n",
    "|0101|0100||1101|1011|\n",
    "|0110|0000||1110|0011|\n",
    "|0111|1110||1111|1000|\n",
    "\n",
    "La función toma como argumento el circuito creado, el registro de cúbits que funciona como input, el que almacena el output y el número de cúbits de cada registro.\n",
    "</div>"
   ]
  },
  {
   "cell_type": "code",
   "execution_count": 155,
   "metadata": {},
   "outputs": [],
   "source": [
    "from qiskit import QuantumRegister, ClassicalRegister, QuantumCircuit\n",
    "from qiskit.circuit.library import MCXGate\n",
    "\n",
    "def oracle(input_bits,f_outputs):\n",
    "    \n",
    "    n = input_bits\n",
    "    outputs = f_outputs\n",
    "    \n",
    "    # verificamos que hay tantos outputs como posibles inputs \n",
    "    inputs = [format(i, 'b').zfill(n) for i in range(2**n)]\n",
    "    assert len(inputs) == len(outputs)\n",
    "    \n",
    "    qr_input = QuantumRegister(n, name='input')\n",
    "    qr_output = QuantumRegister(n, name='output')\n",
    "    qc = QuantumCircuit(qr_input, qr_output, name='q')\n",
    "    \n",
    "    \n",
    "    #========Escribe tu código aquí========\n",
    "    # Haz un bucle sobre los inputs\n",
    "    for i,input_str in enumerate(inputs):\n",
    "        ctrl_state= int(input_str[::-1],2)\n",
    "\n",
    "        # Para cada input, i, haz un bucle sobre cada  cúbit del output     \n",
    "        for j,output_bit in enumerate(outputs[i]):\n",
    "            # cuando el bit del output es '1' tenemos un min-term. Aplica la puerta correspondiente \n",
    "            if output_bit =='1':\n",
    "                qc.append(MCXGate(len(input_str), ctrl_state=ctrl_state),[*qr_input, qr_output[j]])\n",
    "\n",
    "        qc.barrier()\n",
    "        \n",
    "    #======================================\n",
    "                \n",
    "    return qc"
   ]
  },
  {
   "cell_type": "code",
   "execution_count": null,
   "metadata": {},
   "outputs": [],
   "source": [
    "input_bits = 4\n",
    "\n",
    "f_outputs = ['1111', '1011', '0011', '1000', '0101', '0100', \n",
    "               '0000', '1110', '0101', '0100', '0000', '1110', \n",
    "               '1111', '1011', '0011', '1000']\n",
    "\n",
    "    \n",
    "circuit = oracle(input_bits,f_outputs)\n",
    "circuit.draw(output='mpl')"
   ]
  },
  {
   "cell_type": "markdown",
   "metadata": {},
   "source": [
    "\n",
    "<div class=\"alert alert-block alert-success\">\n",
    "    <b> Ejercicio 3: La función lineal </b>\n",
    "    \n",
    "Define una que oráculo para calcular la función lineal binaria\n",
    "\n",
    "<br>\n",
    "        \n",
    "\\begin{equation}\n",
    "f(x; a) = a \\cdot x = a_0 x_0 \\oplus a_1 x_1 \\oplus \\cdots \\oplus a_{n-1} x_{n-1}\\; ,\n",
    "\\end{equation}\n",
    "\n",
    "<br>\n",
    "        \n",
    "\n",
    "donde $n$ es el número de bits necesarios para escribir la variable $x$ y $\\oplus$ es la suma módulo 2. Completa el siguiente código que realiza la suma para $a=110110$. Para ello, fíjate en que esta implementación consiste en inicializar el sistema en el estado binario definido por $x$ e implementar una puerta CNOT para cada bit de $a$ que sea 1.\n",
    "\n"
   ]
  },
  {
   "cell_type": "code",
   "execution_count": 215,
   "metadata": {},
   "outputs": [],
   "source": [
    "from qiskit import QuantumRegister, QuantumCircuit, ClassicalRegister\n",
    "\n",
    "def linear_circuit(a,x):\n",
    "    \n",
    "    #========Completa el siguiente código========\n",
    "    \n",
    "    # Inicialización de los registros\n",
    "    qr_in = QuantumRegister(len(a), name='qr_in')\n",
    "    qr_out = QuantumRegister(1, name='qr_out')\n",
    "    cr = ClassicalRegister(1, name='cr')\n",
    "\n",
    "    qc = QuantumCircuit(qr_in, qr_out, cr, name='q_linear')\n",
    "    \n",
    "    # Aplicación de las puertas CNOT que implementan la función lineal\n",
    "    \n",
    "    for i, xq in enumerate(str(x)):\n",
    "        if xq == '1':\n",
    "             qc.x(qr_in[i]) \n",
    "\n",
    "    qc.barrier()\n",
    "    \n",
    "    qc.measure(qr_out[0],cr[0])\n",
    "\n",
    "    for i, aq in enumerate(str(a)):\n",
    "        if aq == '1':\n",
    "             qc.cx(qr_in[i],qr_out) \n",
    "\n",
    "    qc.measure(qr_out[0],cr[0])\n",
    "    #======================================\n",
    "    \n",
    "    return qc "
   ]
  },
  {
   "cell_type": "code",
   "execution_count": 216,
   "metadata": {},
   "outputs": [
    {
     "data": {
      "image/png": "[encoded data removed]",
      "text/plain": [
       "<Figure size 487.605x325.08 with 1 Axes>"
      ]
     },
     "execution_count": 216,
     "metadata": {},
     "output_type": "execute_result"
    }
   ],
   "source": [
    "a_string = '1011'\n",
    "\n",
    "x_string = '1001'\n",
    "\n",
    "qc=linear_circuit('101','111')\n",
    "qc.draw('mpl')"
   ]
  },
  {
   "cell_type": "code",
   "execution_count": 217,
   "metadata": {},
   "outputs": [
    {
     "data": {
      "image/png": "[encoded data removed]",
      "text/plain": [
       "<Figure size 504x360 with 1 Axes>"
      ]
     },
     "execution_count": 217,
     "metadata": {},
     "output_type": "execute_result"
    }
   ],
   "source": [
    "from qiskit import Aer, execute\n",
    "\n",
    "M_backend = Aer.get_backend('qasm_simulator')\n",
    "counts     = execute(qc, M_backend).result().get_counts()\n",
    "counts2     = execute(qc2, M_backend).result().get_counts()\n",
    "\n",
    "from qiskit.tools.visualization import plot_histogram\n",
    "\n",
    "plot_histogram(counts)"
   ]
  },
  {
   "cell_type": "markdown",
   "metadata": {},
   "source": [
    "<div class=\"alert alert-block alert-success\">\n",
    "    <b> Ejercicio 3: La función cuadrática</b>\n",
    "\n",
    "Sea sobre el conjunto de valores $x\\in \\{0,1,2,3\\}$ la función $f(x) = x^2$. Halla la tabla de verdad en binario y construye el oráculo que implementa esta función.\n",
    "    \n",
    "</div>"
   ]
  },
  {
   "cell_type": "code",
   "execution_count": null,
   "metadata": {},
   "outputs": [],
   "source": []
  }
 ],
 "metadata": {
  "kernelspec": {
   "display_name": "Python 3",
   "language": "python",
   "name": "python3"
  },
  "language_info": {
   "codemirror_mode": {
    "name": "ipython",
    "version": 3
   },
   "file_extension": ".py",
   "mimetype": "text/x-python",
   "name": "python",
   "nbconvert_exporter": "python",
   "pygments_lexer": "ipython3",
   "version": "3.8.5"
  },
  "varInspector": {
   "cols": {
    "lenName": 16,
    "lenType": 16,
    "lenVar": 40
   },
   "kernels_config": {
    "python": {
     "delete_cmd_postfix": "",
     "delete_cmd_prefix": "del ",
     "library": "var_list.py",
     "varRefreshCmd": "print(var_dic_list())"
    },
    "r": {
     "delete_cmd_postfix": ") ",
     "delete_cmd_prefix": "rm(",
     "library": "var_list.r",
     "varRefreshCmd": "cat(var_dic_list()) "
    }
   },
   "types_to_exclude": [
    "module",
    "function",
    "builtin_function_or_method",
    "instance",
    "_Feature"
   ],
   "window_display": false
  }
 },
 "nbformat": 4,
 "nbformat_minor": 4
}
