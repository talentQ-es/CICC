{
 "cells": [
  {
   "cell_type": "markdown",
   "metadata": {},
   "source": [
    "<img   src=\"../figuras/logo/TalentQ_LogoPosNegro.png\" align=center  width=\"120\"/>\n",
    "<br>\n",
    "\n",
    "<table width=\"100%\">\n",
    "<td style=\"font-size:50px;font-style:italic;text-align:right;background-color:rgba(0, 160, 120,0.6)\">\n",
    "Cúbits\n",
    "</td></table>\n",
    "\n",
    "\n",
    "\n",
    "$ \\newcommand{\\bra}[1]{\\langle #1|} $\n",
    "$ \\newcommand{\\ket}[1]{|#1\\rangle} $\n",
    "$ \\newcommand{\\braket}[2]{\\langle #1|#2\\rangle} $\n",
    "$ \\newcommand{\\i}{{\\color{blue} i}} $ \n",
    "$ \\newcommand{\\Hil}{{\\mathcal H}} $"
   ]
  },
  {
   "cell_type": "markdown",
   "metadata": {},
   "source": [
    "\n",
    "- [Definión, base computacional](#dirac)\n",
    "\n",
    "\n",
    "-  [Esfera de Bloch](#esfbloch)\n",
    "\n",
    "\n",
    "-  [Circuito de un cúbit](#circuitcubit)\n",
    "\n",
    "\n"
   ]
  },
  {
   "cell_type": "code",
   "execution_count": 7,
   "metadata": {},
   "outputs": [],
   "source": [
    "%run ../macro_CURSO.py"
   ]
  },
  {
   "cell_type": "markdown",
   "metadata": {
    "heading_collapsed": true
   },
   "source": [
    "<a id='dirac'></a>\n",
    "<table width=\"100%\">\n",
    "    <td style=\"font-size:30px;font-family:Helvetica;text-align:left;background-color:rgba(12, 43, 337, 0.3);\">\n",
    "<b>Definición, base computacional</b>\n",
    "</table>   "
   ]
  },
  {
   "cell_type": "markdown",
   "metadata": {
    "hidden": true
   },
   "source": [
    "Un *bit* es una variable  real $a$ que puede tomar valores en $ {\\mathbb Z}_2= \\{0, 1\\}$.\n",
    "\n",
    "<table width=\"100%\"><td style=\"font-size:15px;font-style:italic;text-align:center;\">Un cúbit es un vector de un Espacio de Hilbert complejo de dimensión dos, $~\\ket{v}~\\in~\\Hil \\sim {\\mathbb C}^2$  \n",
    "</td></table>\n",
    "\n",
    "<br>\n",
    "<details>\n",
    "<summary><p style=\"color:blue\"> >> Notar</p></summary>\n",
    "\n",
    "*Notar:* \n",
    "\n",
    "- un bit es una variable discreta (digitalizada). Un cúbit es una variable continua (analógica). La digitalización de la computación cuántica ocurre en el momento de la medida. \n",
    "\n",
    "- Cualquier sistema  cuyo estado instantáneo se pueda describir mediante un vector $\\ket{v}\\in {\\mathbb C}^2$ puede albergar físicamente un *cúbit*. A efectos prácticos,  se trata de sistemas que pueden estar y conmutar entre dos niveles de energía bien definidos de manera controlada.\n",
    "\n",
    "- la definición contiene un abuso de lenguaje. Estrictamente $\\ket{v}$ es un *estado de un cúbit*. El cúbit, propiamente dicho, es el grado de libertad, que en este caso es el espacio de Hilbert $\\sim {\\mathbb C}^2$.\n",
    "\n",
    "\n",
    "*Recordar:*\n",
    "   \n",
    "   - el estado $\\ket{v}$ debe estar *normalizado* $\\|\\ket{v}\\|=1$\n",
    "\n",
    "   - dos vectores normalizados que difieren en una fase global $~\\ket{v} = e^{i\\phi}\\ket{u}~$ representan el *mismo* estado físico del sistema. Dicho de otra forma, el valor de la fase global $\\phi$ es *inobservable*.\n",
    "   \n",
    "</details>\n",
    "\n"
   ]
  },
  {
   "cell_type": "markdown",
   "metadata": {
    "hidden": true
   },
   "source": [
    "### Bases "
   ]
  },
  {
   "cell_type": "markdown",
   "metadata": {
    "hidden": true
   },
   "source": [
    "- **Base computacional** \n",
    "\n",
    "Para representar vectores de estado  $\\ket{u}\\in \\Hil$ necesitamos una *base*  formada por dos vectores ortonormales. \n",
    "La notación convencional es  $B=\\{\\ket{0},\\ket{1}\\}$ y se denomina *base computacional*.\n",
    "\n",
    "\n",
    "Reservamos paréntesis cuadrados  para vectores de norma unidad. Una base permite expandir un estado genérico  \n",
    "\n",
    "$$\n",
    "\\ket{u} = \\sum_{i=0,1}u_i \\ket{i} = u_0|0\\rangle + u_1|1\\rangle ~= ~\\begin{bmatrix} u_0 \\\\ u_1 \\end{bmatrix}\n",
    "$$\n",
    " con $|u_0|^2 + |u_1|^2 = u_0u_0^* +u_1u_1^*=  1$.\n",
    "\n",
    "En particular, las componentes de los propios elementos de la base siempre tienen la forma\n",
    "$$\n",
    "\\ket{0} = \\begin{bmatrix}1\\\\ 0  \\end{bmatrix}~~~~,~~~~\\ket{1} = \\begin{bmatrix}0\\\\ 1  \\end{bmatrix}\\, ,\n",
    "$$\n",
    "\n",
    "<br>\n",
    "<details>\n",
    "<summary><p style=\"color:blue\"> >> Recordar</p></summary>\n",
    "<br>\n",
    "El signo igual entre un vector es un <it>abuso de lenguaje</it>. El vector tiene sentido <it> per se</it>. Pero las componentes sólo están definidas una vez escojamos una base. En lo que sigue, de forma implícita, asumiremoso siempre que la base en la que escribimos las componentes es la denominada </it> base computacional <it> \n",
    "$\\{\\ket{0},\\ket{1}\\}$.\n",
    "</details>\n",
    "\n",
    "\n",
    " \n",
    "<!--    \n",
    "<details>\n",
    "<summary><p style=\"color:blue\">  >> Otras bases  </p></summary>\n",
    "-->\n",
    "\n",
    "   \n",
    "- **Otras bases**\n",
    "\n",
    "\n",
    "Cualquier sistema de dos vectores ortonormales sirve de base. En particular podemos usar cualquier de ellas para expresar los vectores de la otra. La base computacional también recibe el nombre de Base Z.\n",
    " \n",
    " \n",
    "- Base Z (base computacional) \n",
    "     $$\n",
    "    \\begin{array}{rclcl}\n",
    "    \\ket{0}_Z ~~\\equiv ~~\\ket{0} &=& \\begin{bmatrix}  1\\\\ 0\\end{bmatrix} \\\\\n",
    "    \\ket{1}_Z ~~\\equiv~~\\ket{1} &=&  \\begin{bmatrix}  0\\\\ 1\\end{bmatrix}\n",
    "    \\end{array}\n",
    "    $$\n",
    "   \n",
    "    \n",
    "    \n",
    "- Base X \n",
    "    $$\n",
    "    \\begin{array}{rclcl}\n",
    "    \\ket{0}_X ~~\\equiv ~~\\ket{+} &=& \\frac{1}{\\sqrt{2}}(|0\\rangle+|1\\rangle) &=  & \\frac{1}{\\sqrt{2}}\\begin{bmatrix}\n",
    "    1\\\\ 1\\end{bmatrix} \\\\\n",
    "    \\ket{1}_X ~~\\equiv~~\\ket{-} &=&  \\frac{1}{\\sqrt{2}}(|0\\rangle-|1\\rangle) &=& \\frac{1}{\\sqrt{2}}\\begin{bmatrix}\n",
    "    1\\\\ -1\\end{bmatrix}\n",
    "    \\end{array}\n",
    "    $$\n",
    "    \n",
    "    $$\n",
    "    $$\n",
    "- Base Y\n",
    "    $$\n",
    "    \\begin{array}{rclcl}\n",
    "    \\ket{0}_Y ~~\\equiv ~~\\ket{+i} &=& \\frac{1}{\\sqrt{2}}(|0\\rangle+\\i |1\\rangle) &=  & \\frac{1}{\\sqrt{2}}\\begin{bmatrix}\n",
    "   1\\\\ \\i \\end{bmatrix} \\\\\n",
    "    \\ket{1}_Y ~~\\equiv~~\\ket{-i} &=&  \\frac{1}{\\sqrt{2}}(|0\\rangle-\\i |1\\rangle) &=& \\frac{1}{\\sqrt{2}}\\begin{bmatrix}\n",
    "     1 \\\\-\\i \\end{bmatrix}\n",
    "    \\end{array}\n",
    "    $$\n",
    "<br></br>\n",
    "\n",
    "La denominación de estas bases como $Z,X$ e $Y$ se aclarará más adelante.\n",
    "\n",
    "**Ejercicio**: comprobar que tanto $\\{|+\\rangle, |-\\rangle\\}$ como $\\{|+i\\rangle, |-i\\rangle\\}$ son bases ortonormales. \n",
    "\n",
    "<!--\n",
    "</details>\n",
    "-->"
   ]
  },
  {
   "cell_type": "markdown",
   "metadata": {},
   "source": [
    "## Medidas<a id='medidas'></a>"
   ]
  },
  {
   "cell_type": "markdown",
   "metadata": {},
   "source": [
    "<table width=\"100%\"><td style=\"font-size:15px;font-style:roman;text-align:left;\">La elección de una base para representar un cúbit está relacionada con el aparato  con el que vamos efectuar medidas sobre dicho cúbit. \n",
    "    <br> \n",
    "    \n",
    "Los posibles resultados son los distintos elementos de la base.\n",
    "    </td></table>\n",
    "    \n",
    "\n",
    "Así por ejemplo, a la base canónica $\\{\\ket{0},\\ket{1}\\}$ le estará asociado un cierto *aparato de medida*, $M$, tal que los posibles resultados de dicha medida serán\n",
    "\n",
    "$$\n",
    "\\ket{u} =\\sum_{i=0,1} u_i \\ket{i} = u_0\\ket{0} + u_1\\ket{1} ~\\stackrel{M}{\\longrightarrow} ~\\left\\{ \\begin{matrix} \\ket{0} & ~\\hbox{con probabilidad } |u_0|^2\n",
    "\\\\\n",
    "\\ket{1} & ~\\hbox{con probabilidad } |u_1|^2\n",
    "\\end{matrix}\n",
    "\\right.\n",
    "$$\n",
    "<br>\n",
    "\n",
    "- *Amplitudes de probabilidad*: son las componentes $u_0$ y $u_1$, que permiten reconstruir probabilidades.  Esta interpretación probabilística es consistente con la condición de normalización unitaria de un cúbit $|u_0|^2 + |u_1|^2 = 1$.\n",
    "<br>\n",
    "\n",
    "- cualquier otra base ortonormal distinta de $\\{\\ket{0}=\\ket{0}_Z,\\ket{1}=\\ket{1}_Z\\}$,  como por ejemplo $\\{\\ket{0}_X,\\ket{1}_X\\}$ ó $\\{\\ket{0}_Y,\\ket{1}_Y\\}$, admite la misma interpretación de medida. \n",
    "<br>\n",
    "\n",
    "Caracterizamos el resultado de la medida  con un *bit clasico*, de forma que $\\ket{0}\\to 0$ y $\\ket{1}\\to 1$.\n",
    "<br>\n",
    "\n",
    "<br>\n",
    "<details>\n",
    "<summary><p style=\"color:blue\"> >> Detalles técnicos sobre la medida</p></summary>\n",
    "\n",
    "La medida cuántica se define a través de una colección de _operadores de medida_ $\\{M_m\\}$ que actúan sobre el espacio de estados del sistema a ser medido. El índice $m$ indica la salida que se obtiene al aplicar $M_m$. \n",
    "\n",
    "Si el estado del sistema a medir es $|\\psi\\rangle$, la probabilidad de obtener un resultado $m$ es:\n",
    "\n",
    "$$\n",
    "p(m) = \\langle\\psi|M_m^{\\dagger}M_m|\\psi\\rangle\n",
    "$$\n",
    "\n",
    "Y el estado despues de ser medido es\n",
    "\n",
    "$$\n",
    "\\frac{M_m|\\psi\\rangle}{\\sqrt{p(m)}}\n",
    "$$\n",
    "    \n",
    "Los operadores de medida satisfacen que: \n",
    "    \n",
    "$$\\sum_mM_m^\\dagger M_m = I$$\n",
    "\n",
    "que equivale a decir que $\\sum_m p(m) = 1$.\n",
    "\n",
    "**Ejemplo**: ¿Cuál es la probabilidad de obtener un 1 al medir $|\\psi\\rangle = a_0|0\\rangle + a_1|1\\rangle$?\n",
    "\n",
    "Si realizamos medidas de 1 cúbit en la base estándar, los operadores de medida van a ser:\n",
    "\n",
    "$$M_0= |0\\rangle\\langle0| \\\\    M_1= |1\\rangle\\langle1| $$\n",
    "\n",
    "Estos operadores son hermiíticos y verifican que $M_i^\\dagger M_i = M_i^2 = M_i$, por lo que:\n",
    "    \n",
    "$$\n",
    "p(1) = \\langle\\psi|M_1^{\\dagger}M_1|\\psi\\rangle = \\langle\\psi|M_1|\\psi\\rangle = \\langle\\psi|1\\rangle\\langle 1|\\psi\\rangle = \\begin{bmatrix} a_0^\\ast & a_1^\\ast\\end{bmatrix}\\begin{bmatrix}0 \\\\ 1\\end{bmatrix}\\begin{bmatrix}0 & 1\\end{bmatrix} \\begin{bmatrix}a_0 \\\\ a_1\\end{bmatrix} = a_1^\\ast a_1 = |a_1|^2\n",
    "$$\n",
    "\n",
    "¿Cuál es el estado después de la medida?\n",
    "\n",
    "$$\n",
    "\\frac{|1\\rangle\\langle 1|(a_0|0\\rangle + a_1|1\\rangle)}{|a_1|} = \\frac{|1\\rangle(a_0\\langle 1|0\\rangle + a_1\\langle 1|1\\rangle)}{|a_1|} = \\frac{a_1}{|a_1|}|1\\rangle = |1\\rangle\n",
    "$$\n",
    "\n",
    "\n",
    "**Observables**\n",
    "\n",
    "Un _observable_ representa cualquier cantidad que pueda ser obtenida a partir de un estado cuántico.\n",
    "\n",
    "A cada observable le corresponde un operador hermitiano $M$, en el espacio de estados del sistema bajo observación. Como $M$ es diagonalizable, existe la base $\\{|u_i\\rangle\\}$ formada por los autovectores (o autoestados) de $M$ con autovalor $\\lambda_i$ (con $\\lambda_i \\in \\mathbb{R}$).\n",
    "\n",
    "En esa base, $M$ se puede escribir como:\n",
    "\n",
    "$$M = \\sum_i \\lambda_i P_i = \\sum_i \\lambda_i |u_i\\rangle\\langle u_i|$$\n",
    "\n",
    "donde $P_i = |u_i\\rangle\\langle u_i|$ es un operador de proyección, que proyecta el vector de estado sobre el subespacio generado por el autovector $|u_i\\rangle$.\n",
    "\n",
    "Cuando se mide un observable $M$ sobre un estado $|\\psi\\rangle$, las posibles salidas de la medida corresponden a los autovalores del observable $M$, y la probabilidad de obtener un resultado $\\lambda_m$ es:\n",
    "    \n",
    "$$\n",
    "p(\\lambda_m) = \\langle\\psi|P_m|\\psi\\rangle = \\langle\\psi|u_m\\rangle\\langle u_m|\\psi\\rangle = |\\langle u_m|\\psi\\rangle|^2\n",
    "$$\n",
    "\n",
    "y el estado posterior a la medida queda como:\n",
    "\n",
    "$$\n",
    "\\frac{P_m|\\psi\\rangle}{\\sqrt{p(m)}} = \\frac{|u_m\\rangle\\langle u_m|\\psi\\rangle}{|\\langle u_m|\\psi\\rangle|}\n",
    "$$\n",
    "    \n",
    "El valor medio o valor esperado de un observable $M$ cuando observa un estado $|\\psi\\rangle$ es:\n",
    "\n",
    "$$\n",
    "\\langle M\\rangle = \\sum_i \\lambda_i p(\\lambda_i) = \\sum_i \\lambda_i\\langle\\psi|P_i|\\psi\\rangle = \\langle\\psi|\\left(\\sum_i \\lambda_i P_i\\right)|\\psi\\rangle = \\langle\\psi|M|\\psi\\rangle\n",
    "$$\n",
    "\n",
    "y la desviación estándard asociada a las observaciones de $M$:\n",
    "\n",
    "$$[\\Delta(M)]^2 = \\langle(M-\\langle M\\rangle)^2\\rangle = \\langle M^2\\rangle - \\langle M\\rangle^2$$\n",
    "\n",
    "**Ejemplo**\n",
    "    \n",
    "Un observable para un estado de 1 cúbit es medir si el vector de estado se encuentra sobre uno de los ejes de la esfera de Bloch. Por ejemplo, si medimos si se encuentra sobre el eje $Z$ la matriz asociada al observable es:\n",
    "\n",
    "$$Z = \\begin{bmatrix}1 & 0\\\\0 & -1\\end{bmatrix}$$\n",
    "\n",
    "Los autovalores de $Z$ son $-1$ y $1$ y sus autovectores correspondientes son $|1\\rangle$ y $|0\\rangle$, por lo que podemos escribir:\n",
    "\n",
    "$$Z = 1|0\\rangle\\langle 0| + (-1)|1\\rangle\\langle 1|$$\n",
    "    \n",
    "Supongamos que tenemos el estado $|\\psi\\rangle=a_0|0\\rangle+a_1|1\\rangle$. La probabilidad de observar el valor $-1$, asociado al autovector $|1\\rangle$ es:\n",
    "\n",
    "$$p(-1) = |\\langle 1|\\psi\\rangle|^2 = |a_0\\langle 1|0\\rangle + a_1\\langle 1|1\\rangle|^2 = |a_1|^2$$\n",
    "    \n",
    "El valor medio del observable $Z$ es:\n",
    "\n",
    "$$\\langle Z\\rangle = \\langle\\psi|M|\\psi\\rangle = \n",
    "\\begin{bmatrix}a_0^* & a_1^*\\end{bmatrix}\n",
    "\\begin{bmatrix}1 & 0\\\\0 & -1\\end{bmatrix}\n",
    "\\begin{bmatrix}a_0 \\\\ a_1\\end{bmatrix} = |a_0|^2-|a_1|^2\n",
    "$$\n",
    "\n",
    "Así, si por ejemplo $|\\psi\\rangle=|+\\rangle=\\frac{1}{\\sqrt{2}}(|0\\rangle+|1\\rangle)$, el valor medio de $\\langle Z\\rangle$ será $0$. Esto es un hecho remarcable, consecuencia de trabajar con amplitudes complejas que pueden producir *contribuciones negativas a la probabilidad*.\n",
    "</details> "
   ]
  },
  {
   "cell_type": "markdown",
   "metadata": {},
   "source": [
    "<a id=\"esfbloch\"></a>\n",
    "<table width=\"100%\">\n",
    "    <td style=\"font-size:30px;font-family:Helvetica;text-align:left;background-color:rgba(12, 43, 337, 0.3);\">\n",
    "<b>Esfera de Bloch </b>\n",
    "</table>   \n"
   ]
  },
  {
   "cell_type": "markdown",
   "metadata": {},
   "source": [
    "En un *bit clásico* sólo podemos almacenar un valor 0 o 1. Por extensión, a esto le llamamos un *bit de información*.\n",
    "¿Cuánta información puede almacenar un *cúbit*? \n",
    "\n",
    "<table width=\"100%\"><td style=\"font-size:15px;font-style:italic;text-align:right\">\n",
    "\n",
    "    \n",
    "<br>\n",
    "   \n",
    "\n",
    "El cúbit $\\ket{u}$  <i> más general</i> se puede representar, en la base computacional $\\{\\ket{0},\\ket{1}\\}$, usando dos números reales (ángulos) $\\theta\\in [0,\\pi)$ y $\\varphi\\in [0,2\\pi)$   \n",
    "\n",
    "$$\n",
    "|u\\rangle = \\cos{\\frac{\\theta}{2}}\\, |0\\rangle + e^{i\\phi}\\sin{\\frac{\\theta}{2}}\\,|1\\rangle \n",
    "$$\n",
    "\n",
    "<br>\n",
    "    \n",
    "</td>\n",
    "</table>\n",
    "\n",
    "Es decir: *a priori*, en un cúbit podemos almacenar dos números reales independientes. Esto se puede comprobar de otra manera: un cúbit general será de la forma $\\ket{u} = a\\ket{0} + b\\ket{1}$ donde $a$ y $b$ son dos números complejos, es decir cuatro números reales. Sin embargo, están sometidos a la ligadura $|a|^2+|b|^2=1$, lo que nos deja  tres grados de libertad reales. Pero uno de ellos es una fase global que no tiene significado. Por tanto el número de grados de libertad relevantes en un cúbit es 2.\n",
    "\n",
    " En componentes escribimos equivalentemente\n",
    "$$\n",
    "|u\\rangle ~\\sim ~~\n",
    "\\begin{bmatrix} \\cos\\displaystyle\\frac{\\theta}{2} \\\\   e^{i\\varphi} \\sin \\displaystyle\\frac{\\theta}{2} \\end{bmatrix}\n",
    "$$\n",
    "\n",
    "\n",
    "<br></br>\n",
    "<details>\n",
    "<summary><p style=\"color:blue\"> - Demostración -</p></summary>\n",
    "\n",
    "Para demostrar el lema escribimos un vector de estado general usando la representación polar para las componentes complejas\n",
    "    \n",
    "$$\n",
    "\\begin{array}{rcl}\n",
    "\\ket{u} &=& u_0\\ket{0} + u_1\\ket{1} \\\\\n",
    "&=& a_0 e^{i b_0}\\ket{0} + a_1 e^{ib_1}\\ket{1}\\\\\n",
    "&=& e^{i b_0}\\big(a_0 \\ket{0} + a_1 e^{i(b_1-b_0)}\\ket{1}\\big)\\\\\n",
    "&\\sim & \\big( a_0 \\ket{0} + a_1 e^{i(b_1-b_0)}\\ket{1} \\big)\n",
    "\\end{array}\n",
    "$$\n",
    "    \n",
    "donde hemos hecho uso de la irrelevancia de una fase global para descartar $e^{i b_0}$ en la última línea.\n",
    "\n",
    "Ahora $a_1$ y $a_0$ no son números independientes sino que verifican $a_0^2 + a_1^2 = 0$ para que $\\|\\ket{u}\\|=1$.\n",
    "Esta ecuación se puede resolver en términos de un ángulo $\\theta/2$ tal que\n",
    "$$\n",
    "a_0 = \\cos\\frac{\\theta}{2}~~~,~~~ a_1 = \\sin\\frac{\\theta}{2} \n",
    "$$\n",
    "Por su parte, de los números $b_1, b_2$ sólo la diferencia\n",
    "$$\n",
    "\\varphi = b_1-b_2\n",
    "$$\n",
    "es relevante para especificar $\\ket{u}$.   \n",
    "</details>\n",
    "\n",
    "\n",
    "El rango de $\\theta\\in [0,\\pi)$ y $\\varphi\\in [0,2\\pi)$ permite interpretar estos números reales como *ángulos sobre la esfera unidad*. Dicho de otro modo, podemos representar  cada estado de un cúbit como punto sobre la *esfera de Bloch*.\n",
    "<br>\n",
    "-  $\\theta\\in(0,\\pi)$ el ángulo *azimutal* se mide desde el eje $Z$. $\\theta=\\pi/2$ es el ecuador de la esfera de Bloch.\n",
    "<br>\n",
    "\n",
    "-  $\\phi\\in (0,2\\pi)$ el ángulo *polar*  en torno al eje $Z$, medido a partir del plano $XZ$\n",
    "\n",
    "\n",
    "![bloch](images/BlochSphere.png)\n"
   ]
  },
  {
   "cell_type": "markdown",
   "metadata": {},
   "source": [
    "### Casos particulares"
   ]
  },
  {
   "cell_type": "markdown",
   "metadata": {},
   "source": [
    "1.  $\\fbox{$\\phi = 0$} ~\\Rightarrow ~$  vectores sobre el plano $XZ$.\n",
    "\n",
    "  \n",
    "  - $\\theta = 0 \\Rightarrow |u\\rangle = |0\\rangle$ \n",
    "  \n",
    "  \n",
    "  - $\\theta = \\pi \\Rightarrow |u\\rangle = |1\\rangle$\n",
    "  \n",
    "  \n",
    "  \n",
    "  - $\\theta = \\pi/2 \\Rightarrow |u\\rangle = \\frac{1}{\\sqrt{2}}\\big(|0\\rangle+|1\\rangle \\big) =\\ket{0}_X \\equiv |+\\rangle$\n",
    "  \n",
    "  \n",
    "  - $\\theta = -\\pi/2 \\Rightarrow |u\\rangle = \\frac{1}{\\sqrt{2}}\\big(|0\\rangle-|1\\rangle \\big)=\\ket{1}_X \\equiv |-\\rangle$\n",
    "\n",
    "\n",
    "2.  $\\fbox{$\\phi = \\pi/2$} ~\\Rightarrow ~$  vectores sobre el plano $YZ$.\n",
    "  \n",
    "\n",
    "- $\\theta = \\pi/2 \\Rightarrow |u\\rangle =\\frac{1}{\\sqrt{2}}\\big(|0\\rangle+i|1\\rangle\\big) =\\ket{0}_Y \\equiv  |+i\\rangle$\n",
    "\n",
    "\n",
    "- $\\theta = -\\pi/2 \\Rightarrow |u\\rangle = \\frac{1}{\\sqrt{2}}\\big(|0\\rangle-i|1\\rangle\\big) = \\ket{1}_Y \\equiv  |-i\\rangle$\n"
   ]
  },
  {
   "cell_type": "markdown",
   "metadata": {},
   "source": [
    "### Vectores en la Esfera de Bloch: visualización en Qiskit"
   ]
  },
  {
   "cell_type": "markdown",
   "metadata": {},
   "source": [
    " La clase <a href=https://qiskit.org/documentation/stubs/qiskit.quantum_info.Statevector.html>statevector</a> en qiskit cuenta con un *visualizador* de la esfera de Bloch muy útil. La clase  acepta una lista de dos números complejos como componentes de un vector. Lamentablemente no avisa si este vector está normalizado o no. Por eso, incluimos una función que genera el vector normalizado a partir de los ángulos $\\theta$ y $\\phi$. "
   ]
  },
  {
   "cell_type": "code",
   "execution_count": 9,
   "metadata": {},
   "outputs": [
    {
     "data": {
      "text/latex": [
       "$$\n",
       "\n",
       "\\begin{bmatrix}\n",
       "\\tfrac{1}{\\sqrt{2}} & \\tfrac{1}{\\sqrt{2}}  \\\\\n",
       " \\end{bmatrix}\n",
       "$$"
      ],
      "text/plain": [
       "<IPython.core.display.Latex object>"
      ]
     },
     "execution_count": 9,
     "metadata": {},
     "output_type": "execute_result"
    }
   ],
   "source": [
    "from qiskit.quantum_info import Statevector\n",
    "from qiskit.visualization import plot_bloch_multivector, array_to_latex  \n",
    "\n",
    "# Ejemplo de vector de estado |+> \n",
    "e_mas = [1/np.sqrt(2), 1/np.sqrt(2)]\n",
    "\n",
    "Statevector(e_mas).draw('Bloch')\n",
    "\n",
    "array_to_latex(e_mas)"
   ]
  },
  {
   "cell_type": "code",
   "execution_count": 25,
   "metadata": {},
   "outputs": [
    {
     "data": {
      "image/png": "[encoded data removed]",
      "text/plain": [
       "<Figure size 288x288 with 1 Axes>"
      ]
     },
     "execution_count": 25,
     "metadata": {},
     "output_type": "execute_result"
    }
   ],
   "source": [
    "# Ejemplo de vector de estado |i> con diferentes visualizaciones\n",
    "e_menosi = [0, -1j]\n",
    "\n",
    "\n",
    "Statevector(e_menosi).draw('Bloch')\n",
    "\n",
    "#array_to_latex(e_mas)"
   ]
  },
  {
   "cell_type": "markdown",
   "metadata": {},
   "source": [
    "Esta rutina introduce dos ángulos $\\theta\\in(0,\\pi)$ y $\\phi\\in(0,2\\pi)$ y devuelve el vector de Bloch en componentes"
   ]
  },
  {
   "cell_type": "code",
   "execution_count": 31,
   "metadata": {},
   "outputs": [
    {
     "data": {
      "image/png": "[encoded data removed]",
      "text/plain": [
       "<Figure size 288x288 with 1 Axes>"
      ]
     },
     "execution_count": 31,
     "metadata": {},
     "output_type": "execute_result"
    }
   ],
   "source": [
    "#theta = (float(input(\"Ángulo theta(°): \")))*np.pi/(180)\n",
    "#phi = (float(input(\"Ángulo phi(°): \")))*np.pi/(180)\n",
    "\n",
    "theta = 0.3\n",
    "phi   = 0.4\n",
    "\n",
    "alpha = np.cos(theta/2)\n",
    "beta = (np.exp(1j*phi))*np.sin(theta/2)\n",
    "\n",
    "vector_Bloch= [alpha,beta]\n",
    "\n",
    "Statevector(vector_Bloch).draw('Bloch')\n",
    "\n",
    "#array_to_latex(vector_Bloch)"
   ]
  },
  {
   "cell_type": "markdown",
   "metadata": {},
   "source": [
    "<a id='circuitcubit'></a>\n",
    "<table width=\"100%\">\n",
    "    <td style=\"font-size:30px;font-family:Helvetica;text-align:left;background-color:rgba(12, 43, 337, 0.3);\">\n",
    "<b>Circuito de un cúbit </b>\n",
    "</table>   "
   ]
  },
  {
   "cell_type": "markdown",
   "metadata": {},
   "source": [
    "Un *registro cuántico* contiene la evolución temporal de un cúbit.  El circuito cuántico más elemental sólamente contiene un registro cuántico que se representa mediante una línea horizontal.\n",
    "\n",
    "<br>\n",
    "<div>\n",
    "<img   src=\"images/q_register.png\"  width=\"250\"/>\n",
    "</div>\n",
    "<br>"
   ]
  },
  {
   "cell_type": "code",
   "execution_count": 3,
   "metadata": {},
   "outputs": [
    {
     "ename": "NameError",
     "evalue": "name 'e_mas' is not defined",
     "output_type": "error",
     "traceback": [
      "\u001b[0;31m---------------------------------------------------------------------------\u001b[0m",
      "\u001b[0;31mNameError\u001b[0m                                 Traceback (most recent call last)",
      "\u001b[0;32m<ipython-input-3-97673d5ebaee>\u001b[0m in \u001b[0;36m<module>\u001b[0;34m\u001b[0m\n\u001b[1;32m      5\u001b[0m \u001b[0mqc\u001b[0m \u001b[0;34m=\u001b[0m \u001b[0mQuantumCircuit\u001b[0m\u001b[0;34m(\u001b[0m\u001b[0mqr\u001b[0m\u001b[0;34m)\u001b[0m\u001b[0;34m\u001b[0m\u001b[0;34m\u001b[0m\u001b[0m\n\u001b[1;32m      6\u001b[0m \u001b[0;34m\u001b[0m\u001b[0m\n\u001b[0;32m----> 7\u001b[0;31m \u001b[0mestado_inicial\u001b[0m\u001b[0;34m=\u001b[0m\u001b[0me_mas\u001b[0m\u001b[0;34m\u001b[0m\u001b[0;34m\u001b[0m\u001b[0m\n\u001b[0m\u001b[1;32m      8\u001b[0m \u001b[0;34m\u001b[0m\u001b[0m\n\u001b[1;32m      9\u001b[0m \u001b[0mqc\u001b[0m\u001b[0;34m.\u001b[0m\u001b[0minitialize\u001b[0m\u001b[0;34m(\u001b[0m\u001b[0mestado_inicial\u001b[0m\u001b[0;34m,\u001b[0m\u001b[0mqr\u001b[0m\u001b[0;34m[\u001b[0m\u001b[0;36m0\u001b[0m\u001b[0;34m]\u001b[0m\u001b[0;34m)\u001b[0m\u001b[0;34m\u001b[0m\u001b[0;34m\u001b[0m\u001b[0m\n",
      "\u001b[0;31mNameError\u001b[0m: name 'e_mas' is not defined"
     ]
    }
   ],
   "source": [
    "'podemos inicializar un registro cuántico en un estado |q> arbitrario usando el método initialize()'\n",
    "from qiskit import QuantumCircuit, QuantumRegister\n",
    "\n",
    "qr = QuantumRegister(1,name='q')\n",
    "qc = QuantumCircuit(qr)\n",
    "\n",
    "estado_inicial=e_mas\n",
    "\n",
    "qc.initialize(estado_inicial,qr[0])\n",
    "qc.draw(output='mpl')"
   ]
  },
  {
   "cell_type": "markdown",
   "metadata": {},
   "source": [
    "### Medidas"
   ]
  },
  {
   "cell_type": "markdown",
   "metadata": {},
   "source": [
    "<table width=\"100%\"><td style=\"font-size:15px;font-style:roman;text-align:left;\">La elección de una base para representar un cúbit está relacionada con el aparato  con el que vamos efectuar medidas sobre dicho cúbit. \n",
    "    <br> \n",
    "    \n",
    "Los posibles resultados son los distintos elementos de la base.\n",
    "    </td></table>\n",
    "    \n",
    "\n",
    "Así por ejemplo, a la base canónica $\\{\\ket{0},\\ket{1}\\}$ le estará asociado un cierto *aparato de medida*, $M$, tal que los posibles resultados de dicha medida serán\n",
    "\n",
    "$$\n",
    "\\ket{u} =\\sum_{i=0,1} u_i \\ket{i} = u_0\\ket{0} + u_1\\ket{1} ~\\stackrel{M}{\\longrightarrow} ~\\left\\{ \\begin{matrix} \\ket{0} & ~\\hbox{con probabilidad } |u_0|^2\n",
    "\\\\\n",
    "\\ket{1} & ~\\hbox{con probabilidad } |u_1|^2\n",
    "\\end{matrix}\n",
    "\\right.\n",
    "$$\n",
    "<br>\n",
    "\n",
    "- la condición de normalización de un cúbit $|u_0|^2 + |u_1|^2 = 1$ es consecuencia de la interpretación de estas cantidades como probabilidades. Las componentes $u_0$ y $u_1$ son las *amplitudes* de probabidad complejas. \n",
    "\n",
    "<br>\n",
    "\n",
    "- cualquier otra base ortonormal distinta de $\\{\\ket{0}=\\ket{0}_Z,\\ket{1}=\\ket{1}_Z\\}$,  como por ejemplo $\\{\\ket{0}_X,\\ket{1}_X\\}$ ó $\\{\\ket{0}_Y,\\ket{1}_Y\\}$, admite la misma interpretación de medida. \n",
    "<br>\n",
    "\n",
    "Caracterizamos el resultado de la medida  con un *bit clasico*, de forma que $\\ket{0}\\to 0$ y $\\ket{1}\\to 1$.\n",
    "<br>\n",
    "\n",
    "<br>\n",
    "<details>\n",
    "<summary><p style=\"color:blue\"> >> Detalles técnicos sobre la medida</p></summary>\n",
    "\n",
    "La medida cuántica se define a través de una colección de _operadores de medida_ $\\{M_m\\}$ que actúan sobre el espacio de estados del sistema a ser medido. El índice $m$ indica la salida que se obtiene al aplicar $M_m$. \n",
    "\n",
    "Si el estado del sistema a medir es $|\\psi\\rangle$, la probabilidad de obtener un resultado $m$ es:\n",
    "\n",
    "$$\n",
    "p(m) = \\langle\\psi|M_m^{\\dagger}M_m|\\psi\\rangle\n",
    "$$\n",
    "\n",
    "Y el estado despues de ser medido es\n",
    "\n",
    "$$\n",
    "\\frac{M_m|\\psi\\rangle}{\\sqrt{p(m)}}\n",
    "$$\n",
    "    \n",
    "Los operadores de medida satisfacen que: \n",
    "    \n",
    "$$\\sum_mM_m^\\dagger M_m = I$$\n",
    "\n",
    "que equivale a decir que $\\sum_m p(m) = 1$.\n",
    "\n",
    "<div class=\"alert alert-block alert-info\">\n",
    "<b> Ejemplo</b>: ¿Cuál es la probabilidad de obtener un 1 al medir $|\\psi\\rangle = a_0|0\\rangle + a_1|1\\rangle$?\n",
    "¿Cuál es el estado después de la medida?\n",
    "\n",
    "<br>\n",
    "Si realizamos medidas de 1 cúbit en la base estándar, los operadores de medida van a ser:\n",
    "\n",
    "$$M_0= |0\\rangle\\langle0| \\\\    M_1= |1\\rangle\\langle1| $$\n",
    "\n",
    "Estos operadores son hermitianos y verifican que $M_i^\\dagger M_i = M_i^2 = M_i$, por lo que:\n",
    "    \n",
    "$$\n",
    "p(1) = \\langle\\psi|M_1^{\\dagger}M_1|\\psi\\rangle = \\langle\\psi|M_1|\\psi\\rangle = \\langle\\psi|1\\rangle\\langle 1|\\psi\\rangle = \\begin{bmatrix} a_0^\\ast & a_1^\\ast\\end{bmatrix}\\begin{bmatrix}0 \\\\ 1\\end{bmatrix}\\begin{bmatrix}0 & 1\\end{bmatrix} \\begin{bmatrix}a_0 \\\\ a_1\\end{bmatrix} = a_1^\\ast a_1 = |a_1|^2\n",
    "$$\n",
    "\n",
    "El estado después de la medida, si no se ha destruido es \n",
    "    \n",
    "$$\n",
    "\\frac{|1\\rangle\\langle 1|(a_0|0\\rangle + a_1|1\\rangle)}{|a_1|} = \\frac{|1\\rangle(a_0\\langle 1|0\\rangle + a_1\\langle 1|1\\rangle)}{|a_1|} = \\frac{a_1}{|a_1|}|1\\rangle = |1\\rangle\n",
    "$$\n",
    "</div>\n",
    "\n",
    "**Observables**\n",
    "\n",
    "\n",
    "A cada magnitud _observable_, es decir, _medible_, le corresponde un operador hermítico $M=M^\\dagger$, en el espacio de estados del sistema bajo observación. Como $M$ es diagonalizable, existe la base $\\{|u_i\\rangle\\}$ formada por los autovectores (o autoestados) de $M$ con autovalor $\\lambda_i$ (con $\\lambda_i \\in \\mathbb{R}$).\n",
    "\n",
    "En esa base, $M$ se puede escribir en su _descomposición espectral_:\n",
    "\n",
    "$$M = \\sum_i \\lambda_i P_i = \\sum_i \\lambda_i |u_i\\rangle\\langle u_i|$$\n",
    "\n",
    "donde $P_i = |u_i\\rangle\\langle u_i|$ es un operador de proyección, que proyecta el vector de estado sobre el subespacio generado por el autovector $|u_i\\rangle$.\n",
    "\n",
    "Cuando se mide un observable $M$ sobre un estado $|\\psi\\rangle$, las posibles salidas de la medida corresponden a los autovalores del observable $M$, y la probabilidad de obtener un resultado $\\lambda_m$ es:\n",
    "    \n",
    "$$\n",
    "p(\\lambda_m) = \\langle\\psi|P_m|\\psi\\rangle = \\langle\\psi|u_m\\rangle\\langle u_m|\\psi\\rangle = |\\langle u_m|\\psi\\rangle|^2\n",
    "$$\n",
    "\n",
    "y el estado posterior a la medida queda como:\n",
    "\n",
    "$$\n",
    "\\frac{P_m|\\psi\\rangle}{\\sqrt{p(m)}} = \\frac{|u_m\\rangle\\langle u_m|\\psi\\rangle}{|\\langle u_m|\\psi\\rangle|}\n",
    "$$\n",
    "    \n",
    "El valor medio o valor esperado de un observable $M$ cuando observa un estado $|\\psi\\rangle$ es:\n",
    "\n",
    "$$\n",
    "\\langle M\\rangle = \\sum_i \\lambda_i p(\\lambda_i) = \\sum_i \\lambda_i\\langle\\psi|P_i|\\psi\\rangle = \\langle\\psi|\\left(\\sum_i \\lambda_i P_i\\right)|\\psi\\rangle = \\langle\\psi|M|\\psi\\rangle\n",
    "$$\n",
    "\n",
    "y la desviación estándard asociada a las observaciones de $M$:\n",
    "\n",
    "$$[\\Delta(M)]^2 = \\langle(M-\\langle M\\rangle)^2\\rangle = \\langle M^2\\rangle - \\langle M\\rangle^2$$\n",
    "\n",
    "<div class=\"alert alert-block alert-info\">\n",
    "<b> Ejemplo</b>:\n",
    "    \n",
    "Un observable para un estado de 1 cúbit es medir si el vector de estado se encuentra sobre uno de los ejes de la esfera de Bloch. Por ejemplo, si medimos si se encuentra sobre el eje $Z$ la matriz asociada al observable es:\n",
    "\n",
    "$$Z = \\begin{bmatrix}1 & 0\\\\0 & -1\\end{bmatrix}$$\n",
    "\n",
    "Los autovalores de $Z$ son $-1$ y $1$ y sus autovectores correspondientes son $|1\\rangle$ y $|0\\rangle$, por lo que podemos escribir:\n",
    "\n",
    "$$Z = +|0\\rangle\\langle 0| -|1\\rangle\\langle 1|$$\n",
    "    \n",
    "Supongamos que tenemos el estado $|\\psi\\rangle=a_0|0\\rangle+a_1|1\\rangle$. La probabilidad de observar el valor $-1$, asociado al autovector $|1\\rangle$ es:\n",
    "\n",
    "$$p(-1) = |\\langle 1|\\psi\\rangle|^2 = |a_0\\langle 1|0\\rangle + a_1\\langle 1|1\\rangle|^2 = |a_1|^2$$\n",
    "    \n",
    "El valor medio del observable $Z$ es:\n",
    "\n",
    "$$\\langle Z\\rangle = \\langle\\psi|M|\\psi\\rangle = \n",
    "\\begin{bmatrix}a_0^* & a_1^*\\end{bmatrix}\n",
    "\\begin{bmatrix}1 & 0\\\\0 & -1\\end{bmatrix}\n",
    "\\begin{bmatrix}a_0 \\\\ a_1\\end{bmatrix} = |a_0|^2-|a_1|^2\n",
    "$$\n",
    "\n",
    "Así, si por ejemplo $|\\psi\\rangle=|+\\rangle=\\frac{1}{\\sqrt{2}}(|0\\rangle+|1\\rangle)$, el valor medio de $\\langle Z\\rangle$ será $0$. Esto es un hecho remarcable, consecuencia de trabajar con amplitudes complejas que pueden producir *contribuciones negativas a la probabilidad*.\n",
    "    \n",
    "</div>    \n",
    "    \n",
    "</details> "
   ]
  },
  {
   "cell_type": "markdown",
   "metadata": {},
   "source": [
    " Mientras no se efectúe una medida, en una situación ideal, el estado del cúbit mantiene su coherencia. El aparato de medida estándar en computación cuántica tiene a $\\ket{0}$ y $\\ket{1}$ como autoestados. \n",
    "A la medición de uno de estos dos estados le asociamos el bit clásico con valores respectivos $0$ y $1$.\n",
    "Por lo general, asumimos que la medida destruye el estado (si bien, estrictamente hablando, lo proyecta aun autoestado). Por eso, en un circuito representamos el aparato de medida mediante un rectángulo con una aguja, del que emerge un canal clásico. Esto quiere decir que el resultado de la medida es un bit clásico, y no más un estado cuántico.\n",
    "\n",
    "<br>\n",
    "\n",
    "<div>\n",
    "<img src=\"images/cubit_meter2.jpg\" width=\"300\"/>\n",
    "</div>"
   ]
  },
  {
   "cell_type": "markdown",
   "metadata": {},
   "source": [
    "### Implementación en Qiskit"
   ]
  },
  {
   "cell_type": "markdown",
   "metadata": {},
   "source": [
    "vamos a realizar un experimento de medida sobre un cúbit real. Para ello debemos inicializar un circuito que albergue un *registro cuántico* y añadirle un aparato de medida. El resultado de la medida se volcará sobre un *registro clásico*. Finalmente podremos repetir las medidas para reconstruir las probabilidades"
   ]
  },
  {
   "cell_type": "code",
   "execution_count": 1,
   "metadata": {},
   "outputs": [
    {
     "data": {
      "image/png": "[encoded data removed]",
      "text/plain": [
       "<Figure size 253.926x144.48 with 1 Axes>"
      ]
     },
     "execution_count": 1,
     "metadata": {},
     "output_type": "execute_result"
    }
   ],
   "source": [
    "from qiskit import QuantumCircuit, QuantumRegister, ClassicalRegister\n",
    "import numpy as np\n",
    "\n",
    "qr = QuantumRegister(1,name='q')\n",
    "cr = ClassicalRegister(1,name='c')\n",
    "\n",
    "'''definimos un estado dando la lista de componentes'''\n",
    "e_mas = [1/np.sqrt(2), 1/np.sqrt(2)]\n",
    "\n",
    "'''creamos un circuito que inicializa el estado'''\n",
    "qc = QuantumCircuit(qr,cr)\n",
    "qc.initialize(e_mas,qr[0])\n",
    "\n",
    "'''y le añadimos una instrucción de medida que registre un bit clásico {0,1} a partir del resultado de medida'''\n",
    "qc.measure(qr[0],cr[0])\n",
    "\n",
    "'''vamos a ver el circuito'''\n",
    "qc.draw(output='mpl')"
   ]
  },
  {
   "cell_type": "markdown",
   "metadata": {},
   "source": [
    "### Medida mediante simulación "
   ]
  },
  {
   "cell_type": "markdown",
   "metadata": {},
   "source": [
    "**qasm_simulator** es un programa clásico que simula un circuito cuántico a partir de las leyes de la Mecánica Cuántica. El resultado de un circuito calculado con qasm_simulator sólo se puede obtener mediante un aparato de medida que, usado repetidas veces nos permitirá reconstruir el estado de manera estadística."
   ]
  },
  {
   "cell_type": "code",
   "execution_count": 4,
   "metadata": {},
   "outputs": [
    {
     "name": "stdout",
     "output_type": "stream",
     "text": [
      "{'1': 1003, '0': 1045}\n"
     ]
    }
   ],
   "source": [
    "from qiskit import Aer, execute \n",
    "M_simulator = Aer.get_backend('qasm_simulator')\n",
    "\n",
    "#execute\n",
    "job=execute(qc,backend=M_simulator,shots=2048) # Hacemos la simulación 2048 veces )\n",
    "\n",
    "#result \n",
    "resultado=job.result()\n",
    "\n",
    "#counts\n",
    "#counts=result.get_counts()\n",
    "#qcobj = transpile(qc, M_simulator )      # Crea un objeto compilado a partir del circuito  \n",
    "#job = M_simulator.run(qcobj, shots=2048) # Hacemos la simulación 2048 veces \n",
    "#resultado = job.result()                 # Obtenemos los resultados\n",
    "frecuencias= resultado.get_counts()      # y la estadística          \n",
    "print(frecuencias)"
   ]
  },
  {
   "cell_type": "code",
   "execution_count": 5,
   "metadata": {},
   "outputs": [
    {
     "data": {
      "image/png": "[encoded data removed]",
      "text/plain": [
       "<Figure size 504x360 with 1 Axes>"
      ]
     },
     "execution_count": 5,
     "metadata": {},
     "output_type": "execute_result"
    }
   ],
   "source": [
    "from qiskit.tools.visualization import plot_histogram\n",
    "plot_histogram(frecuencias) # Mostramos un histograma de resultados"
   ]
  },
  {
   "cell_type": "markdown",
   "metadata": {},
   "source": [
    "podemos pasar a probabilidades normalizando la distribución de frecuencias"
   ]
  },
  {
   "cell_type": "code",
   "execution_count": 6,
   "metadata": {},
   "outputs": [
    {
     "data": {
      "text/markdown": [
       "output_distr = [0.48974609375, 0.51025390625]"
      ],
      "text/plain": [
       "<IPython.core.display.Markdown object>"
      ]
     },
     "metadata": {},
     "output_type": "display_data"
    }
   ],
   "source": [
    "def probabilidades(frecuencias): # counts es un diccionario con la estadística de resultados\n",
    "    N=sum([v for v in frecuencias.values()])\n",
    "    output_distr = [v/N for v in frecuencias.values()] # this is a list\n",
    "    if len(output_distr) == 1:  # we are two amplitudes (one qubit), so in this case, pad with a 0\n",
    "        output_distr.append(0)\n",
    "    return output_distr\n",
    "\n",
    "output_distr = probabilidades(frecuencias)\n",
    "Display(\"output_distr = %s\"%output_distr)"
   ]
  },
  {
   "cell_type": "markdown",
   "metadata": {},
   "source": [
    "#### Ejecución real"
   ]
  },
  {
   "cell_type": "markdown",
   "metadata": {},
   "source": [
    "Una vez que hemos verificado que el programa corre bien en nuestro simulador, podemos lanzarlo a un ordenador cuántico real sin más que cambiar el *backend*."
   ]
  },
  {
   "cell_type": "code",
   "execution_count": 7,
   "metadata": {},
   "outputs": [
    {
     "data": {
      "text/plain": [
       "[<IBMQBackend('ibmq_armonk') from IBMQ(hub='ibm-q', group='open', project='main')>,\n",
       " <IBMQSimulator('ibmq_qasm_simulator') from IBMQ(hub='ibm-q', group='open', project='main')>,\n",
       " <IBMQSimulator('simulator_statevector') from IBMQ(hub='ibm-q', group='open', project='main')>,\n",
       " <IBMQSimulator('simulator_mps') from IBMQ(hub='ibm-q', group='open', project='main')>,\n",
       " <IBMQBackend('ibmq_quito') from IBMQ(hub='ibm-q', group='open', project='main')>,\n",
       " <IBMQBackend('ibmqx2') from IBMQ(hub='ibm-q', group='open', project='main')>,\n",
       " <IBMQBackend('ibmq_santiago') from IBMQ(hub='ibm-q', group='open', project='main')>,\n",
       " <IBMQBackend('ibmq_belem') from IBMQ(hub='ibm-q', group='open', project='main')>,\n",
       " <IBMQBackend('ibmq_lima') from IBMQ(hub='ibm-q', group='open', project='main')>,\n",
       " <IBMQBackend('ibmq_bogota') from IBMQ(hub='ibm-q', group='open', project='main')>,\n",
       " <IBMQSimulator('simulator_extended_stabilizer') from IBMQ(hub='ibm-q', group='open', project='main')>,\n",
       " <IBMQSimulator('simulator_stabilizer') from IBMQ(hub='ibm-q', group='open', project='main')>,\n",
       " <IBMQBackend('ibmq_manila') from IBMQ(hub='ibm-q', group='open', project='main')>]"
      ]
     },
     "execution_count": 7,
     "metadata": {},
     "output_type": "execute_result"
    }
   ],
   "source": [
    "from qiskit import IBMQ\n",
    "IBMQ.load_account()\n",
    "provider = IBMQ.get_provider(hub='ibm-q')\n",
    "provider.backends()"
   ]
  },
  {
   "cell_type": "markdown",
   "metadata": {},
   "source": [
    "antes de enviar un trabajo es conveniente consultar qué máquina de las adecuadas a nuestras necesidades es la que está más libre"
   ]
  },
  {
   "cell_type": "code",
   "execution_count": 2,
   "metadata": {},
   "outputs": [
    {
     "ename": "NameError",
     "evalue": "name 'provider' is not defined",
     "output_type": "error",
     "traceback": [
      "\u001b[0;31m---------------------------------------------------------------------------\u001b[0m",
      "\u001b[0;31mNameError\u001b[0m                                 Traceback (most recent call last)",
      "\u001b[0;32m<ipython-input-2-6bfe6d49040f>\u001b[0m in \u001b[0;36m<module>\u001b[0;34m\u001b[0m\n\u001b[1;32m      1\u001b[0m \u001b[0;32mfrom\u001b[0m \u001b[0mqiskit\u001b[0m\u001b[0;34m.\u001b[0m\u001b[0mproviders\u001b[0m\u001b[0;34m.\u001b[0m\u001b[0mibmq\u001b[0m \u001b[0;32mimport\u001b[0m \u001b[0mleast_busy\u001b[0m\u001b[0;34m\u001b[0m\u001b[0;34m\u001b[0m\u001b[0m\n\u001b[0;32m----> 2\u001b[0;31m IBMQ_best_backend = least_busy(provider.backends(filters=lambda x: x.configuration().n_qubits >= 1 \n\u001b[0m\u001b[1;32m      3\u001b[0m                                        \u001b[0;32mand\u001b[0m \u001b[0;32mnot\u001b[0m \u001b[0mx\u001b[0m\u001b[0;34m.\u001b[0m\u001b[0mconfiguration\u001b[0m\u001b[0;34m(\u001b[0m\u001b[0;34m)\u001b[0m\u001b[0;34m.\u001b[0m\u001b[0msimulator\u001b[0m\u001b[0;34m\u001b[0m\u001b[0;34m\u001b[0m\u001b[0m\n\u001b[1;32m      4\u001b[0m                                        and x.status().operational==True))\n\u001b[1;32m      5\u001b[0m \u001b[0mprint\u001b[0m\u001b[0;34m(\u001b[0m\u001b[0;34m\"least busy backend: \"\u001b[0m\u001b[0;34m,\u001b[0m \u001b[0mIBMQ_best_backend\u001b[0m\u001b[0;34m)\u001b[0m\u001b[0;34m\u001b[0m\u001b[0;34m\u001b[0m\u001b[0m\n",
      "\u001b[0;31mNameError\u001b[0m: name 'provider' is not defined"
     ]
    }
   ],
   "source": [
    "from qiskit.providers.ibmq import least_busy\n",
    "IBMQ_best_backend = least_busy(provider.backends(filters=lambda x: x.configuration().n_qubits >= 1 \n",
    "                                       and not x.configuration().simulator \n",
    "                                       and x.status().operational==True))\n",
    "print(\"least busy backend: \", IBMQ_best_backend)"
   ]
  },
  {
   "cell_type": "code",
   "execution_count": null,
   "metadata": {},
   "outputs": [],
   "source": [
    "qobj = transpile(qc, IBMQ_best_backend)           # Compila el código para el backend\n",
    "job_sim = IBMQ_best_backend.run(qobj, shots=1024) # Hacemos la simulación 1024 veces \n",
    "result = job_sim.result()               # Obtenemos los resultados\n",
    "plot_histogram(result.get_counts())     # Mostramos un histograma de resultados"
   ]
  }
 ],
 "metadata": {
  "kernelspec": {
   "display_name": "Python 3",
   "language": "python",
   "name": "python3"
  },
  "language_info": {
   "codemirror_mode": {
    "name": "ipython",
    "version": 3
   },
   "file_extension": ".py",
   "mimetype": "text/x-python",
   "name": "python",
   "nbconvert_exporter": "python",
   "pygments_lexer": "ipython3",
   "version": "3.8.5"
  },
  "varInspector": {
   "cols": {
    "lenName": 16,
    "lenType": 16,
    "lenVar": 40
   },
   "kernels_config": {
    "python": {
     "delete_cmd_postfix": "",
     "delete_cmd_prefix": "del ",
     "library": "var_list.py",
     "varRefreshCmd": "print(var_dic_list())"
    },
    "r": {
     "delete_cmd_postfix": ") ",
     "delete_cmd_prefix": "rm(",
     "library": "var_list.r",
     "varRefreshCmd": "cat(var_dic_list()) "
    }
   },
   "types_to_exclude": [
    "module",
    "function",
    "builtin_function_or_method",
    "instance",
    "_Feature"
   ],
   "window_display": false
  }
 },
 "nbformat": 4,
 "nbformat_minor": 5
}
