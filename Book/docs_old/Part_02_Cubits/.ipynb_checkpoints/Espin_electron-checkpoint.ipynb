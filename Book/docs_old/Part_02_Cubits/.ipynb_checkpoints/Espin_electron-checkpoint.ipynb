{
 "cells": [
  {
   "cell_type": "markdown",
   "id": "90c45523",
   "metadata": {},
   "source": [
    "<img   src=\"../figuras/logo/TalentQ_LogoPosNegro.png\" align=center  width=\"120\"/>\n",
    "<br>\n",
    "\n",
    "<table width=\"100%\">\n",
    "<td style=\"font-size:50px;font-style:italic;text-align:right;background-color:rgba(0, 160, 120,0.6)\">\n",
    "El espín de un electrón\n",
    "</td></table>\n",
    "\n",
    "\n",
    "\n",
    "$ \\newcommand{\\bra}[1]{\\langle #1|} $\n",
    "$ \\newcommand{\\ket}[1]{|#1\\rangle} $\n",
    "$ \\newcommand{\\braket}[2]{\\langle #1|#2\\rangle} $\n",
    "$ \\newcommand{\\i}{{\\color{blue} i}} $ \n",
    "$ \\newcommand{\\Hil}{{\\mathcal H}} $\n",
    "\n",
    "$ \\newcommand{\\bn}{{\\bf n}} $\n"
   ]
  },
  {
   "cell_type": "markdown",
   "id": "ab9a7b99",
   "metadata": {
    "slideshow": {
     "slide_type": "slide"
    }
   },
   "source": [
    "Sólo hemos hecho matemáticas hasta ahora. Vamos a ver el sistema físico más simple que describe un cúbit\n"
   ]
  },
  {
   "cell_type": "markdown",
   "id": "6cebeedb",
   "metadata": {
    "slideshow": {
     "slide_type": "fragment"
    }
   },
   "source": [
    "Recordemos que los parámetros $(\\theta,\\phi)$ toman valores en $\\theta\\in [0,\\pi)$ y $\\varphi\\in[0,2\\pi)$. \n",
    "<br>\n",
    "\n",
    "Con cada valor de $(\\theta,\\phi)$ podemos formar dos cantidades vectoriales"
   ]
  },
  {
   "cell_type": "markdown",
   "id": "3d9d8f49",
   "metadata": {
    "slideshow": {
     "slide_type": "slide"
    }
   },
   "source": [
    "1. Un cúbit $\\ket{u}\\in \\Hil$.$~$ Esto es un vector unitario en un espacio complejo de dimension (compleja) 2\n",
    "\n",
    "$$\n",
    "\\ket{u(\\theta,\\phi)} = \\cos{\\frac{\\theta}{2}}\\, |0\\rangle + e^{i\\phi}\\sin{\\frac{\\theta}{2}}\\,|1\\rangle ~=~\n",
    "\\begin{bmatrix} \\cos{\\frac{\\theta}{2}} \\\\ e^{i\\phi}\\sin{\\frac{\\theta}{2}} \\end{bmatrix}\n",
    "$$\n"
   ]
  },
  {
   "cell_type": "markdown",
   "id": "4681bde0",
   "metadata": {
    "slideshow": {
     "slide_type": "fragment"
    }
   },
   "source": [
    "2. Un vector unitario $\\bn(\\theta,\\phi) \\in {\\mathbb R}^3$ en el espacio real tridimensional\n",
    "\n",
    "$$\n",
    "\\bn(\\theta,\\phi) = \\sin\\theta \\cos\\phi \\, {\\bf i} + \\sin\\theta \\sin\\phi \\,  {\\bf j} + \\cos\\theta\\,  {\\bf  k}\n",
    "$$\n"
   ]
  },
  {
   "cell_type": "markdown",
   "id": "742d4f4e",
   "metadata": {
    "slideshow": {
     "slide_type": "fragment"
    }
   },
   "source": [
    "Si pintamos $\\ket{u}$ sobre la esfera de Bloch, y $\\bn$ en el espacio tridimensional *¡apuntan en la misma dirección!*"
   ]
  },
  {
   "cell_type": "markdown",
   "id": "d675d74c",
   "metadata": {
    "slideshow": {
     "slide_type": "slide"
    }
   },
   "source": [
    "<table width=\"100%\"><td style=\"font-size:14px;font-style:roman;text-align:center;\"> \n",
    "<br>\n",
    "¿Qué relación guardan ambos vectores $\\ket{u(\\theta,\\phi)}$ y $\\bn(\\theta,\\phi)$ para un mismo par de ángulos?\n",
    "<br>\n",
    "<br>\n",
    "</table>"
   ]
  },
  {
   "cell_type": "markdown",
   "id": "f6269662",
   "metadata": {},
   "source": [
    "<div class=\"alert alert-block alert-success\">\n",
    "    <b>Cuestión:</b> \n",
    "Si $\\Hil$ tiene dimensión compleja 2, y ${\\mathbb R}^3$ tiene dimensión real 3 ¿qué tienen los vectores $\\ket{u}$ y $\\bn$ para que podamos etiquetarlos todos con sólo dos parámetros $(\\theta, \\phi)$?\n",
    "\n",
    "</div>"
   ]
  },
  {
   "cell_type": "code",
   "execution_count": null,
   "id": "bb5a52d2",
   "metadata": {},
   "outputs": [],
   "source": []
  }
 ],
 "metadata": {
  "kernelspec": {
   "display_name": "Python 3",
   "language": "python",
   "name": "python3"
  },
  "language_info": {
   "codemirror_mode": {
    "name": "ipython",
    "version": 3
   },
   "file_extension": ".py",
   "mimetype": "text/x-python",
   "name": "python",
   "nbconvert_exporter": "python",
   "pygments_lexer": "ipython3",
   "version": "3.7.10"
  },
  "varInspector": {
   "cols": {
    "lenName": 16,
    "lenType": 16,
    "lenVar": 40
   },
   "kernels_config": {
    "python": {
     "delete_cmd_postfix": "",
     "delete_cmd_prefix": "del ",
     "library": "var_list.py",
     "varRefreshCmd": "print(var_dic_list())"
    },
    "r": {
     "delete_cmd_postfix": ") ",
     "delete_cmd_prefix": "rm(",
     "library": "var_list.r",
     "varRefreshCmd": "cat(var_dic_list()) "
    }
   },
   "types_to_exclude": [
    "module",
    "function",
    "builtin_function_or_method",
    "instance",
    "_Feature"
   ],
   "window_display": false
  }
 },
 "nbformat": 4,
 "nbformat_minor": 5
}
