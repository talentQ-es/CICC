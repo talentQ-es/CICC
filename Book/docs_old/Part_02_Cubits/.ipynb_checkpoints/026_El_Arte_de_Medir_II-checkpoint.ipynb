{
 "cells": [
  {
   "cell_type": "markdown",
   "metadata": {
    "slideshow": {
     "slide_type": "slide"
    }
   },
   "source": [
    "<img   src=\"../figuras/logos/Logo TalentQ Azul.png\" align=right  width=\"12%\"/>\n",
    "<br>\n",
    "\n",
    "<table width=\"100%\">\n",
    "<td style=\"font-size:40px;font-style:italic;text-align:left;background-color:rgba(0, 220, 170,0.7)\">\n",
    "El arte de medir II\n",
    "</td></table>\n",
    "\n",
    "\n",
    "\n",
    "$ \\newcommand{\\bra}[1]{\\langle #1|} $\n",
    "$ \\newcommand{\\ket}[1]{|#1\\rangle} $\n",
    "$ \\newcommand{\\braket}[2]{\\langle #1|#2\\rangle} $\n",
    "$ \\newcommand{\\i}{{\\color{blue} i}} $ \n",
    "$ \\newcommand{\\Hil}{{\\mathcal H}} $\n",
    "$ \\newcommand{\\boldn}{{\\bf n}} $\n",
    "$ \\newcommand{\\tr}{{\\rm tr}}$\n",
    "\n"
   ]
  },
  {
   "cell_type": "code",
   "execution_count": 1,
   "metadata": {
    "slideshow": {
     "slide_type": "-"
    }
   },
   "outputs": [],
   "source": [
    "import sys\n",
    "sys.path.append('../')\n",
    "import macro_tQ as tQ\n",
    "\n",
    "import numpy as np\n",
    "import scipy.linalg as la\n",
    "from IPython.display import display,Markdown,Latex\n",
    "import matplotlib.pyplot as plt\n",
    "from qiskit.tools.visualization import array_to_latex"
   ]
  },
  {
   "cell_type": "markdown",
   "metadata": {
    "slideshow": {
     "slide_type": "skip"
    }
   },
   "source": [
    "# Medidas de estados multicúbit"
   ]
  },
  {
   "cell_type": "markdown",
   "metadata": {
    "slideshow": {
     "slide_type": "skip"
    }
   },
   "source": [
    "Un aparato de medida en la base  asociada al operador hermítico $\\sigma_z^{\\otimes n} = Z\\otimes \\ldots \\otimes Z$ hace colapsar el estado  que mide a un elemento $\\ket{x}$ de la *base computacional*, que identificamos mediante una cadena de bits $a_{n-1}...a_0$ con $a_i=0,1$,  donde $x= a_{n-1}2^{n-1}+...+2^0 a_0$.\n",
    "\n",
    "\n",
    "<br>\n",
    "\n",
    "<figure>\n",
    "<a id='fig_ref'></a>\n",
    "<img src=\"images/Multimeter_zbasis.png\" align=center width='400px'/>\n",
    "<center></center>\n",
    "</figure>\n"
   ]
  },
  {
   "cell_type": "markdown",
   "metadata": {
    "slideshow": {
     "slide_type": "slide"
    }
   },
   "source": [
    "## Circuitos con múltiples cúbits y medidas en Qiskit\n",
    "<br>\n"
   ]
  },
  {
   "cell_type": "markdown",
   "metadata": {},
   "source": [
    "\n",
    "Inicialicemos un estado de 3 cúbits \n",
    "$$\n",
    "\\ket{\\psi} = \\sum_{i,j,k = 0,1} c_{ijk} \\ket{ijk} = \\sum_a c_a \\ket{a}\n",
    "$$"
   ]
  },
  {
   "cell_type": "code",
   "execution_count": 2,
   "metadata": {
    "slideshow": {
     "slide_type": "-"
    }
   },
   "outputs": [
    {
     "data": {
      "text/latex": [
       "$$\\frac{1}{4} |000\\rangle- \\frac{1}{2} |001\\rangle- \\frac{1}{2} |010\\rangle+\\frac{1}{4} |011\\rangle+\\frac{1}{4} |100\\rangle+\\frac{1}{2} |110\\rangle- \\frac{1}{4} |111\\rangle$$"
      ],
      "text/plain": [
       "<IPython.core.display.Latex object>"
      ]
     },
     "execution_count": 2,
     "metadata": {},
     "output_type": "execute_result"
    }
   ],
   "source": [
    "from qiskit import QuantumCircuit, QuantumRegister, ClassicalRegister\n",
    "from numpy import linalg as la\n",
    "from qiskit.quantum_info import Statevector\n",
    "\n",
    "'''definimos un estado de entrada en H^3$'''\n",
    "psi =[1.,-2, -2,1,1,0,2,-1]\n",
    "psi/=la.norm(psi)\n",
    "#psi = tQ.random_ket(8).reshape(8)\n",
    "\n",
    "\n",
    "Statevector(psi).draw('Latex')"
   ]
  },
  {
   "cell_type": "markdown",
   "metadata": {
    "slideshow": {
     "slide_type": "slide"
    }
   },
   "source": [
    "Las medida es esencialmente un mapa entre n-cúbits cuánticos y n-bits clásicos.\n",
    "\n",
    "$$\n",
    "\\ket{i_{n-1} i_{n-2}\\, ... \\, i_0} \\in \\Hil^{\\otimes n}  ~~\\to ~~ i_{n-1}i_{n-2}...i_0\\in \\{0,1\\}^n\n",
    "$$"
   ]
  },
  {
   "cell_type": "code",
   "execution_count": 30,
   "metadata": {
    "run_control": {
     "marked": false
    },
    "slideshow": {
     "slide_type": "-"
    }
   },
   "outputs": [
    {
     "data": {
      "image/png": "[encoded data removed]",
      "text/plain": [
       "<Figure size 801.182x367.889 with 1 Axes>"
      ]
     },
     "execution_count": 30,
     "metadata": {},
     "output_type": "execute_result"
    }
   ],
   "source": [
    "qr = QuantumRegister(3,name='qr')\n",
    "cr = ClassicalRegister(3,name='cr')\n",
    "\n",
    "qc = QuantumCircuit(qr,cr)\n",
    "qc.initialize(psi,qr)\n",
    "\n",
    "\n",
    "qc.measure(qr,cr)\n",
    "#qc.measure(qr,reversed(list(cr)))  # esta opcion invierte la asignación de bits clasicos a cúbits\n",
    "#qc.measure([qr[0],qr[1]],[cr[1],cr[2]])\n",
    "\n",
    "qc.draw(output='mpl')"
   ]
  },
  {
   "cell_type": "markdown",
   "metadata": {
    "slideshow": {
     "slide_type": "slide"
    }
   },
   "source": [
    "La manera de tener acceso a las amplitudes (tomografía del estado) es midiendo repetidas veces para reconstruir la función de probabilidad"
   ]
  },
  {
   "cell_type": "code",
   "execution_count": 5,
   "metadata": {
    "slideshow": {
     "slide_type": "-"
    }
   },
   "outputs": [
    {
     "name": "stdout",
     "output_type": "stream",
     "text": [
      "Cuentas= {'10': 100000}\n"
     ]
    },
    {
     "data": {
      "image/png": "[encoded data removed]",
      "text/plain": [
       "<Figure size 504x360 with 1 Axes>"
      ]
     },
     "execution_count": 5,
     "metadata": {},
     "output_type": "execute_result"
    }
   ],
   "source": [
    "from qiskit import Aer, execute \n",
    "'definimos el simulador'\n",
    "M_simulator = Aer.get_backend('qasm_simulator')\n",
    "'numero todal de medidas'\n",
    "nshots = 100000\n",
    "\n",
    "\n",
    "'ejecutamos el circuito'\n",
    "job=execute(qc,backend=M_simulator,shots=nshots) \n",
    "result=job.result()\n",
    "counts = result.get_counts()        \n",
    "print('Cuentas=',counts) #diccionario de cuentas\n",
    "\n",
    "\n",
    "from qiskit.tools.visualization import plot_histogram\n",
    "plot_histogram(counts) # Mostramos un histograma de resultados"
   ]
  },
  {
   "cell_type": "markdown",
   "metadata": {
    "slideshow": {
     "slide_type": "skip"
    }
   },
   "source": [
    "Ahora podemos generar diccionarios con las probabilidades y la amplitudes de los distintos resultados, para obtener la tomografía del estado "
   ]
  },
  {
   "cell_type": "code",
   "execution_count": 34,
   "metadata": {
    "slideshow": {
     "slide_type": "skip"
    }
   },
   "outputs": [
    {
     "name": "stdout",
     "output_type": "stream",
     "text": [
      "Probabilidades = {'110': 0.2505, '001': 0.2508, '100': 0.06093, '011': 0.06187, '111': 0.06134, '000': 0.06302, '010': 0.25154}\n",
      "Amplitudes = {'110': 0.500499750249688, '001': 0.5007993610219565, '100': 0.24684002916869055, '011': 0.24873680869545625, '111': 0.24766913412857888, '000': 0.2510378457523885, '010': 0.5015376356765262}\n"
     ]
    }
   ],
   "source": [
    "def probs_amps(cuentas): # frecuencias_dict es un diccionario con la estadística de resultados\n",
    "    \n",
    "    prob_dict=cuentas.copy() # vamos a modificar el diccionario \"cuentas\" con las probabilidades \n",
    "    amp_dict=cuentas.copy()  # y las amplitudes\n",
    "    keys = list(cuentas.keys())\n",
    "    values = list(cuentas.values())\n",
    "    \n",
    "    N=sum(values)\n",
    "    probabilidades = [v/N for v in values] # lista de frecuencias relativas\n",
    " \n",
    "    for i in range(len(keys)):\n",
    "        prob_dict[keys[i]]= probabilidades[i]\n",
    "        amp_dict[keys[i]] = np.sqrt(probabilidades[i]) #las amplitudes, sólo en valor absoluto, las fases no son accesibles\n",
    "    \n",
    "    return  prob_dict, amp_dict\n",
    "\n",
    "probs, amps = probs_amps(counts)\n",
    "\n",
    "print(\"Probabilidades =\",probs )\n",
    "\n",
    "print(\"Amplitudes =\", amps )"
   ]
  },
  {
   "cell_type": "markdown",
   "metadata": {
    "slideshow": {
     "slide_type": "slide"
    }
   },
   "source": [
    "# Medidas en bases generales"
   ]
  },
  {
   "cell_type": "markdown",
   "metadata": {
    "slideshow": {
     "slide_type": "-"
    }
   },
   "source": [
    "Vamos a suponer que queremos medir en una base ortonormal arbitraria $\\{\\ket{ x}'\\}$, $x=0,...,2^n-1$. \n",
    "\n",
    "$\\Rightarrow~ $ buscamos un circuito que, a la llegada de un vector  concreto de la base $\\ket{x}'=\\ket{i_{n-1}...i_0}'$, devuelva exactamente *la  colección* de bits:  $~i_{n-1}...i_0$."
   ]
  },
  {
   "cell_type": "markdown",
   "metadata": {
    "slideshow": {
     "slide_type": "fragment"
    }
   },
   "source": [
    "Vamos a suponer que conocemos el operador unitario que relaciona esta base con la  base computacional  \n",
    "\n",
    "$$\\ket{ x}'= U\\ket{x}~~~~~~\\Longrightarrow ~~~~~~   U^\\dagger\\ket{x}' = \\ket{ x}  \\, .$$\n",
    "\n"
   ]
  },
  {
   "cell_type": "markdown",
   "metadata": {
    "slideshow": {
     "slide_type": "fragment"
    }
   },
   "source": [
    "Entonces es evidente que sólo tenemos que añadir el operador $U^\\dagger$ antes de usar el medidor estándar. \n",
    "\n",
    "\n",
    "<br>\n",
    "\n",
    "\n",
    "<figure>\n",
    "<a id='fig_ref'></a>\n",
    "<img src=\"images/Multimeter_basis.png\" align=center width='500px'/>\n",
    "<center></center>\n",
    "</figure>\n",
    "\n",
    "<br>"
   ]
  },
  {
   "cell_type": "markdown",
   "metadata": {
    "slideshow": {
     "slide_type": "slide"
    }
   },
   "source": [
    "## Medidas  de Pauli"
   ]
  },
  {
   "cell_type": "markdown",
   "metadata": {
    "slideshow": {
     "slide_type": "-"
    }
   },
   "source": [
    "En caso más frecuente consiste en medir diferentes cúbits en diferentes bases de Pauli, $X$, $Y$ ó $Z$."
   ]
  },
  {
   "cell_type": "markdown",
   "metadata": {
    "slideshow": {
     "slide_type": "fragment"
    }
   },
   "source": [
    "En este caso, $U= R_1\\otimes \\ldots \\otimes R_n$ es un producto de *rotaciones locales*, $Z\\to X$ ó $Z\\to Y$ "
   ]
  },
  {
   "cell_type": "markdown",
   "metadata": {
    "slideshow": {
     "slide_type": "fragment"
    }
   },
   "source": [
    "Por ejemplo el siguiente circuito mide en la base $Z_0X_1Y_2$\n",
    "\n",
    "<br>\n",
    "\n",
    "<figure>\n",
    "<a id='fig_ref'></a>\n",
    "<img src=\"images/XYZ_multimeter.png\" align=center width='300px'/>\n",
    "<center></center>\n",
    "</figure>\n",
    "\n",
    "<br>"
   ]
  },
  {
   "cell_type": "markdown",
   "metadata": {
    "slideshow": {
     "slide_type": "slide"
    }
   },
   "source": [
    "Definamos una función que añade aparatos de medida en bases $X$, $Y$ ó $Z$ a partir de una *cadena* como 'xxy' etc \n"
   ]
  },
  {
   "cell_type": "code",
   "execution_count": 35,
   "metadata": {
    "slideshow": {
     "slide_type": "-"
    }
   },
   "outputs": [],
   "source": [
    "def add_multimeasure_XYZ(qc,paulistring):\n",
    "\n",
    "    assert(qc.num_qubits==len(paulistring)) #check whether width of circuit coincides with length of Pauli string\n",
    "\n",
    "    for i,basis in enumerate(reversed(paulistring)):\n",
    "        if  basis == 'X':\n",
    "            qc.h(i)    \n",
    "            qc.measure(i, i)\n",
    "        elif basis == 'Z':\n",
    "            qc.measure(i, i)\n",
    "            pass    \n",
    "        elif basis == 'Y':\n",
    "            qc.sdg(i)\n",
    "            qc.h(i)\n",
    "            qc.measure(i, i)\n",
    "\n",
    "    return qc "
   ]
  },
  {
   "cell_type": "markdown",
   "metadata": {
    "slideshow": {
     "slide_type": "slide"
    }
   },
   "source": [
    "Veamos un ejemplo"
   ]
  },
  {
   "cell_type": "code",
   "execution_count": 36,
   "metadata": {
    "run_control": {
     "marked": false
    },
    "slideshow": {
     "slide_type": "-"
    }
   },
   "outputs": [
    {
     "data": {
      "image/png": "[encoded data removed]",
      "text/plain": [
       "<Figure size 454.719x451.5 with 1 Axes>"
      ]
     },
     "execution_count": 36,
     "metadata": {},
     "output_type": "execute_result"
    }
   ],
   "source": [
    "from qiskit import QuantumCircuit\n",
    "qc = QuantumCircuit(4,4)\n",
    "add_multimeasure_XYZ(qc,'ZYIX')  # probar a cambiar el aparato de medida\n",
    "qc.draw('mpl')"
   ]
  },
  {
   "cell_type": "markdown",
   "metadata": {
    "slideshow": {
     "slide_type": "slide"
    }
   },
   "source": [
    "## Medida de Bell"
   ]
  },
  {
   "cell_type": "markdown",
   "metadata": {
    "slideshow": {
     "slide_type": "skip"
    }
   },
   "source": [
    "El circuito \n",
    "\n",
    "<figure>\n",
    "<a id='fig_ref'></a>\n",
    "<img src=\"images/Bell_basis.png\" align=center width='200px'/>\n",
    "<center></center>\n",
    "</figure>\n",
    "\n",
    "<br>\n",
    "\n",
    " genera la <i>base de Bell</i> $\\ket{B_{xy}} = \\ket{xy}_B $ a partir de la <i>base computacional</i> $\\{\\ket{xy}\\}$ \n",
    " <br>\n",
    "<br>\n",
    "\n",
    "\\begin{array}{rcl}\n",
    "\\ket{00}_B &=& \\frac{1}{\\sqrt{2}} \\big( \\ket{00} + \\ket{11} \\big) \\\\\n",
    "\\ket{01}_B &=& \\frac{1}{\\sqrt{2}} \\big( \\ket{01} + \\ket{10} \\big) \\\\\n",
    "\\ket{10}_B &=& \\frac{1}{\\sqrt{2}} \\big( \\ket{00} - \\ket{11} \\big) \\\\\n",
    "\\ket{11}_B &=& \\frac{1}{\\sqrt{2}} \\big( \\ket{01} - \\ket{10} \\big) \\\\\n",
    "\\end{array}\n",
    "\n"
   ]
  },
  {
   "cell_type": "markdown",
   "metadata": {
    "slideshow": {
     "slide_type": "-"
    }
   },
   "source": [
    "\n",
    "El circuito que efectúa una **medida de Bell**  \n",
    "\n",
    "$$\n",
    "\\ket{xy}_B \\to xy\n",
    "$$\n",
    "utiliza el *desentrelazador* \n",
    "\n",
    "$$U^\\dagger = ( \\hbox{CNOT}\\cdot H)^\\dagger = H\\cdot \\hbox{CNOT}$$ \n",
    "\n",
    "antes del medidor \n",
    "\n",
    "<br>\n",
    "\n",
    "\n",
    "<figure>\n",
    "<a id='fig_ref'></a>\n",
    "<img src=\"images/Bell_meter.png\" align=center width='400px'/>\n",
    "<center></center>\n",
    "</figure>\n",
    "\n",
    "<br>\n"
   ]
  },
  {
   "cell_type": "markdown",
   "metadata": {
    "slideshow": {
     "slide_type": "fragment"
    }
   },
   "source": [
    "Creemos el circuito"
   ]
  },
  {
   "cell_type": "code",
   "execution_count": 15,
   "metadata": {
    "slideshow": {
     "slide_type": "-"
    }
   },
   "outputs": [],
   "source": [
    "def add_Bell_measurement(qc,qubits=[0,1]):\n",
    "    qc.cx(qubits[0],qubits[1])\n",
    "    qc.h(0)\n",
    "    qc.barrier()\n",
    "    qc.measure([0,1],[1,0])"
   ]
  },
  {
   "cell_type": "markdown",
   "metadata": {
    "slideshow": {
     "slide_type": "slide"
    }
   },
   "source": [
    "Ahora verificamos"
   ]
  },
  {
   "cell_type": "code",
   "execution_count": 18,
   "metadata": {
    "slideshow": {
     "slide_type": "-"
    }
   },
   "outputs": [
    {
     "data": {
      "image/png": "[encoded data removed]",
      "text/plain": [
       "<Figure size 507.852x204.68 with 1 Axes>"
      ]
     },
     "metadata": {},
     "output_type": "display_data"
    },
    {
     "data": {
      "text/plain": [
       "{'01': 1024}"
      ]
     },
     "execution_count": 18,
     "metadata": {},
     "output_type": "execute_result"
    }
   ],
   "source": [
    "from qiskit import QuantumCircuit\n",
    "\n",
    "# creamos el circuito\n",
    "qc = QuantumCircuit(2,2)\n",
    "\n",
    "# definimos la base de Bell\n",
    "B00 = np.array([1,0,0,1]/np.sqrt(2))\n",
    "B01 = np.array([1,0,0,-1]/np.sqrt(2))\n",
    "B10 = np.array([0,1,1,0]/np.sqrt(2))\n",
    "B11 = np.array([0,1,-1,0]/np.sqrt(2))\n",
    "\n",
    "# inicializamos el estado de entrada en cualquiera de los estados anteriores\n",
    "qc.initialize(B10,[0,1])\n",
    "\n",
    "# añadimos el medidor en la base de Bell\n",
    "add_Bell_measurement(qc,[0,1])\n",
    "display(qc.draw('mpl'))\n",
    "\n",
    "execute(qc,backend=M_simulator).result().get_counts()"
   ]
  },
  {
   "cell_type": "markdown",
   "metadata": {
    "slideshow": {
     "slide_type": "slide"
    }
   },
   "source": [
    "# Valores esperados de observables multi-cúbit"
   ]
  },
  {
   "cell_type": "markdown",
   "metadata": {},
   "source": [
    "El *problema* esencial para medir un valor esperado $\\bra{\\psi} A \\ket{\\psi}$ es que, en general,  $A$ **no es un operador unitario**. Por tanto no se puede incluir como parte de un circuito"
   ]
  },
  {
   "cell_type": "markdown",
   "metadata": {},
   "source": [
    "Si pudiésemos expresar  como una combinación de operadores unitarios, $A = \\sum_i c_i U_i$, entonces sí podríamos calcular cadar valor esperado $\\langle U_i\\rangle$ mediante un circuito y, finalmente, componer el resultado $\\langle A\\rangle = \\sum_i c_i \\langle U_i\\rangle$"
   ]
  },
  {
   "cell_type": "markdown",
   "metadata": {
    "slideshow": {
     "slide_type": "fragment"
    }
   },
   "source": [
    "Una base  la constituyen las *cadenas de Pauli*,  $U = \\sigma_{i_1}\\otimes \\ldots \\otimes \\sigma_{i_n}$ que nos, a la vez, hermíticas y unitarias, y permiten expandir cualquier operador hermítico\n",
    "\n",
    "\\begin{equation}\n",
    "A = \\sum_{i_1,...,i_n=0}^3 a_{i_1\\ldots i_n} \\, \\sigma_{i_1}\\otimes \\ldots \\otimes \\sigma_{i_n}\n",
    "\\end{equation}\n",
    "\n",
    "donde $\\sigma_i = (I,X,Y,Z)$\n"
   ]
  },
  {
   "cell_type": "markdown",
   "metadata": {
    "slideshow": {
     "slide_type": "slide"
    }
   },
   "source": [
    "Por ejemplo, con $n=3$ \n",
    "$$\n",
    "\\sigma_2\\otimes \\sigma_0 \\otimes \\sigma_3 =  Y\\otimes I\\otimes Z \n",
    "$$"
   ]
  },
  {
   "cell_type": "code",
   "execution_count": 51,
   "metadata": {
    "slideshow": {
     "slide_type": "-"
    }
   },
   "outputs": [
    {
     "data": {
      "text/latex": [
       "$$\n",
       "\n",
       "\\begin{bmatrix}\n",
       "0 & 0 & 0 & 0 & - i & 0 & 0 & 0  \\\\\n",
       " 0 & 0 & 0 & 0 & 0 & i & 0 & 0  \\\\\n",
       " 0 & 0 & 0 & 0 & 0 & 0 & - i & 0  \\\\\n",
       " 0 & 0 & 0 & 0 & 0 & 0 & 0 & i  \\\\\n",
       " i & 0 & 0 & 0 & 0 & 0 & 0 & 0  \\\\\n",
       " 0 & - i & 0 & 0 & 0 & 0 & 0 & 0  \\\\\n",
       " 0 & 0 & i & 0 & 0 & 0 & 0 & 0  \\\\\n",
       " 0 & 0 & 0 & - i & 0 & 0 & 0 & 0  \\\\\n",
       " \\end{bmatrix}\n",
       "$$"
      ],
      "text/plain": [
       "<IPython.core.display.Latex object>"
      ]
     },
     "execution_count": 51,
     "metadata": {},
     "output_type": "execute_result"
    }
   ],
   "source": [
    "' Matrices de Pauli'\n",
    "s0 = np.matrix([[1,0],[0,1]]) # matriz identidad\n",
    "s1 = np.matrix([[0,1],[1,0]])\n",
    "s2 = np.matrix([[0,-1j],[1j,0]])\n",
    "s3 = np.matrix([[1,0],[0,-1]])\n",
    "\n",
    "Pauli_basis = [s0,s1,s2,s3]\n",
    "\n",
    "' Cadena de Pauli YIZ = s2s0s3' \n",
    "Pauli_string_203 = np.kron(s2,np.kron(s0,s3))\n",
    "array_to_latex(Pauli_string_203)"
   ]
  },
  {
   "cell_type": "markdown",
   "metadata": {
    "slideshow": {
     "slide_type": "slide"
    }
   },
   "source": [
    "los coeficientes se pueden obtener calculando las trazas\n",
    "\n",
    "$$\n",
    "a_{i_1\\ldots i_n} =\\frac{1}{2^n} \\tr (A \\,  \\sigma_{i_1}\\otimes \\ldots  \\otimes\\sigma_{i_n})\n",
    "$$\n"
   ]
  },
  {
   "cell_type": "code",
   "execution_count": 50,
   "metadata": {},
   "outputs": [
    {
     "name": "stdout",
     "output_type": "stream",
     "text": [
      "a_{203} =  (-0.025107382263148403+0.09576192818349502j)\n"
     ]
    }
   ],
   "source": [
    "'Matriz arbitraria'\n",
    "A = np.random.rand(8,8) + 1j* np.random.rand(8,8)\n",
    "\n",
    "'Proyección'\n",
    "a_203 = np.trace(np.dot(A,Pauli_string_203))/2**3\n",
    "\n",
    "print('a_{203} = ', a_203)"
   ]
  },
  {
   "cell_type": "markdown",
   "metadata": {
    "slideshow": {
     "slide_type": "fragment"
    }
   },
   "source": [
    "\n",
    "Por tanto sólo tenemos que averiguar los valores esperados de cadenas de Pauli\n",
    "\n",
    "$$\n",
    "\\langle A \\rangle_{\\psi} =  \\sum_{i_1,...,i_n=0}^3 a_{i_1\\ldots i_n} \\langle \\sigma_{i_1}\\otimes \\ldots   \\otimes\\sigma_{i_n}\\rangle\n",
    "$$"
   ]
  },
  {
   "cell_type": "markdown",
   "metadata": {
    "slideshow": {
     "slide_type": "slide"
    }
   },
   "source": [
    "## Valores esperados de cadenas de Pauli"
   ]
  },
  {
   "cell_type": "markdown",
   "metadata": {
    "slideshow": {
     "slide_type": "-"
    }
   },
   "source": [
    "Veamos cómo calcular el valor esperado del operador\n",
    "\n",
    "$$\n",
    "\\langle Z\\otimes Z\\otimes Z\\rangle_\\Psi  = \\bra{\\Psi}   Z\\otimes Z\\otimes Z \\ket{\\Psi}\n",
    "$$\n",
    "\n",
    "en el siguiente estado\n",
    "\n",
    "$$\n",
    "|\\psi> = \\frac{i}{4}|000>+\\frac{1}{\\sqrt{8}}|001>+\\frac{1+i}{4}|010>+\\frac{1+2i}{\\sqrt{8}}|101>+\\frac{1}{4}|110>\n",
    "$$\n"
   ]
  },
  {
   "cell_type": "markdown",
   "metadata": {
    "slideshow": {
     "slide_type": "slide"
    }
   },
   "source": [
    "Primero lo inicializamos"
   ]
  },
  {
   "cell_type": "code",
   "execution_count": 41,
   "metadata": {
    "run_control": {
     "marked": false
    },
    "slideshow": {
     "slide_type": "-"
    }
   },
   "outputs": [
    {
     "data": {
      "text/latex": [
       "$$\\frac{1}{4} |000\\rangle- \\frac{i}{2} |001\\rangle- \\frac{1}{2} |010\\rangle+\\frac{1}{4} |011\\rangle+\\frac{i}{4} |100\\rangle+\\frac{1}{2} |110\\rangle- \\frac{1}{4} |111\\rangle$$"
      ],
      "text/plain": [
       "<IPython.core.display.Latex object>"
      ]
     },
     "execution_count": 41,
     "metadata": {},
     "output_type": "execute_result"
    }
   ],
   "source": [
    "' estado '\n",
    "psi =np.array([1.,-2*1J, -2,1,1J,0,2,-1])\n",
    "psi/=tQ.norm(psi)\n",
    "\n",
    "#e_init = tq_random_ket(8).reshape(8)\n",
    "\n",
    "Statevector(psi).draw('latex')"
   ]
  },
  {
   "cell_type": "markdown",
   "metadata": {
    "slideshow": {
     "slide_type": "slide"
    }
   },
   "source": [
    "Dado que $Z\\ket{i} = (-1)^i\\ket{i}$ donde $i=0,1$, entonces tendremos que, sobre un estado $\\ket{i_2 i_1 i_0}$ de la base computacional\n",
    "\n",
    "$$\n",
    "Z\\otimes Z\\otimes Z \\ket{i_2 i_1 i_0} = Z\\ket{i_2}\\otimes Z\\ket{i_1}\\otimes Z\\ket{i_0} = (-1)^{i_2+i_1+i_0}\\ket{i_2 i_1 i_0}\n",
    "$$\n"
   ]
  },
  {
   "cell_type": "markdown",
   "metadata": {
    "slideshow": {
     "slide_type": "fragment"
    }
   },
   "source": [
    "entonces el valor esperado  de este operador es\n",
    "\n",
    "\\begin{eqnarray}\n",
    "\\langle Z\\otimes Z\\otimes Z\\rangle_\\Psi &=&\n",
    "\\bra{\\Psi} Z\\otimes Z\\otimes Z \\ket{\\Psi} \\\\ \n",
    "&=& \\sum_{i_2,i_1,i_0=0,1}\\bra{\\Psi} Z\\otimes Z\\otimes Z \\ket{i_2 i_1 i_0}\\braket{i_2 i_1 i_0}{\\Psi}  \\rule{0mm}{10mm}  \\\\\n",
    "&=& \\sum_{i_2,i_1,i_0=0,1}(-1)^{i_2 + i_1 + i_0}\\big|\\bra{i_2 i_1 i_0}\\Psi\\rangle\\big|^2 \\\\ \\rule{0mm}{8mm}\n",
    "&=& \\sum_{i_2,i_1,i_0=0,1} (-1)^{i_2 + i_1 + i_0} p(i_2,i_1,i_0) \\nonumber\\\\ \n",
    "\\end{eqnarray}"
   ]
  },
  {
   "cell_type": "markdown",
   "metadata": {
    "slideshow": {
     "slide_type": "slide"
    }
   },
   "source": [
    "El circuito que calcula las probabilidades necesarias es el siguiente"
   ]
  },
  {
   "cell_type": "code",
   "execution_count": 42,
   "metadata": {
    "slideshow": {
     "slide_type": "-"
    }
   },
   "outputs": [
    {
     "data": {
      "image/png": "[encoded data removed]",
      "text/plain": [
       "<Figure size 825.826x367.889 with 1 Axes>"
      ]
     },
     "execution_count": 42,
     "metadata": {},
     "output_type": "execute_result"
    }
   ],
   "source": [
    "qr = QuantumRegister(3)\n",
    "cr = ClassicalRegister(3)\n",
    "qc = QuantumCircuit(qr,cr)\n",
    "\n",
    "from qiskit.extensions import Initialize\n",
    "\n",
    "qc.initialize(psi, qr)\n",
    "qc.measure(qr,cr)\n",
    "qc.draw(output='mpl')"
   ]
  },
  {
   "cell_type": "markdown",
   "metadata": {
    "slideshow": {
     "slide_type": "slide"
    }
   },
   "source": [
    "Ejecutamos el circuito un número de veces y obtenemos el diccionario de cuentas"
   ]
  },
  {
   "cell_type": "code",
   "execution_count": 43,
   "metadata": {
    "slideshow": {
     "slide_type": "-"
    }
   },
   "outputs": [
    {
     "name": "stdout",
     "output_type": "stream",
     "text": [
      "{'011': 6187, '111': 6239, '001': 25262, '100': 6157, '110': 25085, '000': 6208, '010': 24862}\n"
     ]
    }
   ],
   "source": [
    "M_backend = Aer.get_backend('qasm_simulator')\n",
    "shots=100000\n",
    "\n",
    "counts = execute(qc,M_backend,shots=shots).result().get_counts()\n",
    "print(counts)\n",
    "\n",
    "#from qiskit.tools.visualization import plot_histogram\n",
    "#plot_histogram(counts)"
   ]
  },
  {
   "cell_type": "markdown",
   "metadata": {
    "slideshow": {
     "slide_type": "slide"
    }
   },
   "source": [
    "Finamente $\\langle ZZZ\\rangle $ es el valor medio  de una distribución de probabilidad de la forma $\\{\\lambda(x),p(x)\\},$ con $x=(i_2 i_1 i_0)$ y\n",
    "\n",
    "$$\n",
    "\\lambda(x) = (-1)^{i_{2}+i_1+i_0}~~~~~~,~~~~~~ p(x)= \\frac{n(x)}{\\sum_x n(x)} = \\frac{\\hbox{counts}(x)}{\\hbox{shots}}\n",
    "$$\n",
    "\n",
    "La media será el valor esperado que buscamos\n",
    "$$\n",
    " \\langle ZZZ\\rangle = \\bar \\lambda = \\sum_x \\lambda(x) p(x) = \\sum_{x}(-1)^{i_{2}+i_1+i_0}\\frac{\\hbox{counts}(x)}{\\hbox{shots}}\n",
    "$$"
   ]
  },
  {
   "cell_type": "code",
   "execution_count": 45,
   "metadata": {
    "run_control": {
     "marked": false
    },
    "slideshow": {
     "slide_type": "fragment"
    }
   },
   "outputs": [
    {
     "name": "stdout",
     "output_type": "stream",
     "text": [
      "<ZZZ> = -0.2504\n"
     ]
    }
   ],
   "source": [
    "mean = 0\n",
    "for bitstring,count  in counts.items():\n",
    "    mean += (-1)**(sum([int(bit) for bit in bitstring])) * count/nshots \n",
    "\n",
    "print('<ZZZ> =', np.round(mean,5) )"
   ]
  },
  {
   "cell_type": "markdown",
   "metadata": {},
   "source": [
    "Check with the analytic expression $\\bra{\\psi} ZZZ\\ket{\\psi} $"
   ]
  },
  {
   "cell_type": "code",
   "execution_count": 46,
   "metadata": {},
   "outputs": [
    {
     "data": {
      "text/plain": [
       "(-0.25+0j)"
      ]
     },
     "execution_count": 46,
     "metadata": {},
     "output_type": "execute_result"
    }
   ],
   "source": [
    "Z = np.array([[1,0],[0,-1]])\n",
    "ZZZ = np.kron(Z,np.kron(Z,Z))\n",
    "tQ.braket(psi,np.dot(ZZZ,psi))"
   ]
  },
  {
   "cell_type": "markdown",
   "metadata": {
    "slideshow": {
     "slide_type": "skip"
    }
   },
   "source": [
    "También podemos obtener la varianza\n",
    "$$\n",
    "\\sigma^2 = \\sum_{x}\\left((-1)^{i_{2}+i_1+i_0}-\\bar\\lambda \\right)^2 p(x)\n",
    "$$"
   ]
  },
  {
   "cell_type": "code",
   "execution_count": 47,
   "metadata": {
    "slideshow": {
     "slide_type": "skip"
    }
   },
   "outputs": [
    {
     "name": "stdout",
     "output_type": "stream",
     "text": [
      "sigma =  0.9681424688546619\n"
     ]
    }
   ],
   "source": [
    "variance=0\n",
    "for bitstring,count  in counts.items():\n",
    "    variance += ((-1)**(sum([int(bit) for bit in bitstring]))-mean)**2 * count/nshots \n",
    "    \n",
    "print('sigma = ', np.sqrt(variance) )"
   ]
  },
  {
   "cell_type": "markdown",
   "metadata": {},
   "source": [
    "Igualmente podemos ver cómo medir el valor esperado\n",
    "\n",
    "$$\n",
    "\\langle Z\\otimes X\\otimes Y\\rangle_\\Psi  = \\bra{\\Psi}   Z\\otimes X\\otimes Y \\ket{\\Psi}\n",
    "$$\n",
    "\n",
    "en el mismo estado\n",
    "\n"
   ]
  },
  {
   "cell_type": "code",
   "execution_count": 48,
   "metadata": {},
   "outputs": [
    {
     "data": {
      "image/png": "[encoded data removed]",
      "text/plain": [
       "<Figure size 826.028x367.889 with 1 Axes>"
      ]
     },
     "execution_count": 48,
     "metadata": {},
     "output_type": "execute_result"
    }
   ],
   "source": [
    "qr = QuantumRegister(3)\n",
    "cr = ClassicalRegister(3)\n",
    "qc = QuantumCircuit(qr,cr)\n",
    "\n",
    "from qiskit.extensions import Initialize\n",
    "\n",
    "qc.initialize(psi, qr)\n",
    "add_multimeasure_XYZ(qc,'ZXY')\n",
    "qc.draw(output='mpl')"
   ]
  },
  {
   "cell_type": "code",
   "execution_count": 49,
   "metadata": {},
   "outputs": [
    {
     "name": "stdout",
     "output_type": "stream",
     "text": [
      "{'101': 6287, '011': 40563, '111': 12534, '001': 3113, '100': 12539, '110': 6067, '010': 3086, '000': 15811}\n",
      "<ZXY> = 0.37456\n"
     ]
    }
   ],
   "source": [
    "counts = execute(qc,M_backend,shots=shots).result().get_counts()\n",
    "print(counts)\n",
    "\n",
    "mean = 0\n",
    "for bitstring,count  in counts.items():\n",
    "    mean += (-1)**(sum([int(bit) for bit in bitstring])) * count/nshots \n",
    "\n",
    "print('<ZXY> =', np.round(mean,5) )"
   ]
  },
  {
   "cell_type": "markdown",
   "metadata": {
    "slideshow": {
     "slide_type": "slide"
    }
   },
   "source": [
    "<div class='alert alert-block alert-success'>\n",
    "    <b>Ejercicio </b> \n",
    "<br>\n",
    "escribe una función $expval\\_pauli(P,u)$ que reciba como dato, un estado $\\ket{u}\\in \\Hil^{\\otimes n}$ y una cadena $P = 'IXYZZ...'$ que represente un operador de Pauli múltiple,  y  devuelva el valor esperado $\\bra{u}P\\ket{u}$.\n",
    "    \n",
    "</div>"
   ]
  },
  {
   "cell_type": "markdown",
   "metadata": {},
   "source": [
    "<div class=\"alert alert-block alert-success\">\n",
    " <b>Ejercicio</b>  \n",
    "    \n",
    "escribe una función $expect\\_value$ que reciba como argumento un estado $\\ket{\\psi}$ y un observable $A$, definidos  sobre $\\Hil^{\\otimes n}$ y devuelva el valor esperado $\\bra{\\psi}A\\ket{\\psi}$. Tendrás que generar todas las cadenas de Pauli de longitud $n$. \n",
    "<div>\n"
   ]
  },
  {
   "cell_type": "markdown",
   "metadata": {
    "slideshow": {
     "slide_type": "fragment"
    }
   },
   "source": [
    "<div class=\"alert alert-block alert-success\">\n",
    " <b>Ejercicio</b>  \n",
    "    \n",
    "considera el hamiltoniano $H=\\lambda (X X+Y Y+Z Z)$ siendo $\\lambda =1.47\\cdot 10^{-6}eV$. \n",
    " Calcular el valor esperado de la energía $E = \\langle H\\rangle_\\Psi$  en los cuatro estados de Bell\n",
    "$\\ket{\\Psi} = \\ket{B_{ij}}$. \n",
    "<div>\n"
   ]
  },
  {
   "cell_type": "markdown",
   "metadata": {
    "slideshow": {
     "slide_type": "skip"
    }
   },
   "source": [
    "## Medida de Hadamard"
   ]
  },
  {
   "cell_type": "markdown",
   "metadata": {
    "slideshow": {
     "slide_type": "skip"
    }
   },
   "source": [
    "Al final, el valor esperado de un operador es un simple número que se obtiene a partir de una distribución aleatoria de valores. \n",
    "\n",
    "¿No podríamos diseñar una variable aleatoria cuyo valor medio coincida con ese resultado? \n",
    "\n",
    "La medida de Hadamard hace precisamente esto aprovechando el entrelazamiento \n",
    "\n"
   ]
  },
  {
   "cell_type": "markdown",
   "metadata": {
    "slideshow": {
     "slide_type": "skip"
    }
   },
   "source": [
    "Consideremos el siguiente circuito\n",
    "<br>\n",
    "<figure>\n",
    "<a id='fig_ref'></a>\n",
    "<img src=\"images/Hadamard_measure.png\" align=center width='280px'/>\n",
    "<center></center>\n",
    "</figure>\n",
    "<br>\n"
   ]
  },
  {
   "cell_type": "markdown",
   "metadata": {
    "slideshow": {
     "slide_type": "skip"
    }
   },
   "source": [
    "El aparato de medida sólo registra valores $\\{0,1\\}$ como resultado de las medidas proyectivas sobre $\\ket{\\pm}$\n",
    "\n",
    "Supongamos que medimos con el aparato $x$. El promedio \n",
    "\n",
    "$$\n",
    "p_{0}-p_{1} = \\frac{n_{0}}{N} - \\frac{n_{1}}{N} = \\langle X\\rangle_{ancilla}\n",
    "$$\n",
    "\n",
    "es el valor esperado de $X$ en la ancilla. "
   ]
  },
  {
   "cell_type": "markdown",
   "metadata": {
    "slideshow": {
     "slide_type": "skip"
    }
   },
   "source": [
    "\n",
    "Análogamente, será $\\langle Y\\rangle_{ancilla}$  si usamos el aparato $y$. "
   ]
  },
  {
   "cell_type": "markdown",
   "metadata": {
    "slideshow": {
     "slide_type": "skip"
    }
   },
   "source": [
    "Vamos a demostrar el siguiente resultado que relaciona este número con el valor esperado de $U$ en el estado $\\ket{\\psi}$\n"
   ]
  },
  {
   "cell_type": "markdown",
   "metadata": {
    "slideshow": {
     "slide_type": "skip"
    }
   },
   "source": [
    "<div class=\"alert alert-block alert-info\",text-align:center>\n",
    "<p style=\"text-align: left ;color: navy;\">  \n",
    "<b>Teorema:</b>\n",
    "<br>\n",
    "$$\n",
    "\\langle X\\rangle_{ancilla} = {\\rm Re} \\langle U\\rangle_{\\psi} ~~~,~~~ \\langle Y\\rangle_{ancilla} = {\\rm Im} \\langle U\\rangle_{\\psi}\\, \n",
    "$$\n",
    "</div>\n",
    "<br>\n"
   ]
  },
  {
   "cell_type": "markdown",
   "metadata": {
    "slideshow": {
     "slide_type": "skip"
    }
   },
   "source": [
    "**Demostración**: para el caso $x$, el circuito anterior será\n",
    "<br>\n",
    "\n",
    "<figure>\n",
    "<a id='fig_ref'></a>\n",
    "<img src=\"images/Hadamard_measurea.png\" align=center width='280px'/>\n",
    "<center></center>\n",
    "</figure>\n",
    "\n",
    "<br>\n",
    "\n",
    "\n",
    "Un cálculo explícito nos da el estado que llega al aparato de medida\n",
    "<br>\n",
    "\n",
    "$$\n",
    "\\ket{0}\\ket{\\psi} ~\\to ~ \\ket{\\Psi} = \\frac{1}{2} \\left[\\rule{0mm}{3mm} |0\\rangle \\otimes (1 + U) |\\psi\\rangle +  |1\\rangle \\otimes (1 - U) |\\psi\\rangle \\right] \\label{hadam}\n",
    "$$\n"
   ]
  },
  {
   "cell_type": "markdown",
   "metadata": {
    "slideshow": {
     "slide_type": "skip"
    }
   },
   "source": [
    "Si medimos el cúbit ancilla, obtendremos como resultados $\\{0,1\\}$ con probabilidades \n",
    "\n",
    "\\begin{eqnarray} \n",
    " p_{0}  &=&  \\left\\vert \\frac{1}{2}  (1 + U) \\ket{\\psi}  \\right\\vert^{2} = \n",
    " \\frac{1}{4}\\bra{\\psi}(1 + U^\\dagger) (1 + U) \\ket{\\psi} =\\frac{1}{2}(1+\\operatorname{Re}\\langle \\psi|U|\\psi\\rangle) \\nonumber\\\\\n",
    " p_{1}  &=&  \\left\\vert \\frac{1}{2}  (1 - U) \\ket{\\psi}  \\right\\vert^{2}=\n",
    " \\frac{1}{4}\\bra{\\psi}(1 - U^\\dagger) (1 - U) \\ket{\\psi} =\n",
    " \\frac{1}{2}(1-\\operatorname{Re}\\langle \\psi|U|\\psi\\rangle) \\nonumber\n",
    "\\end{eqnarray}\n"
   ]
  },
  {
   "cell_type": "markdown",
   "metadata": {
    "slideshow": {
     "slide_type": "skip"
    }
   },
   "source": [
    "El número $ p_{0} - p_{1}$ es el valor esperado de $\\langle X\\rangle $ en el estado de la ancilla justo  antes de la barrera. Encontramos el siguiente resultado \n",
    "$$\n",
    "\\langle{X}\\rangle_{ancilla}  =  \\hbox{Re}\\bra{\\psi} U \\ket{\\psi}\n",
    "$$\n"
   ]
  },
  {
   "cell_type": "markdown",
   "metadata": {
    "slideshow": {
     "slide_type": "skip"
    }
   },
   "source": [
    "Supongamos ahora que medimos en la base $Y$, es decir, con el circuito siguiente"
   ]
  },
  {
   "cell_type": "markdown",
   "metadata": {
    "slideshow": {
     "slide_type": "skip"
    }
   },
   "source": [
    "<br>\n",
    "<figure>\n",
    "<a id='fig_ref'></a>\n",
    "<img src=\"images/Hadamard_measureb.png\" align=center width='400px'/>\n",
    "<center></center>\n",
    "</figure>\n",
    "<br>\n"
   ]
  },
  {
   "cell_type": "markdown",
   "metadata": {
    "slideshow": {
     "slide_type": "skip"
    }
   },
   "source": [
    "<div class=\"alert alert-block alert-success\">\n",
    "<b>Ejercicio 1.2.2.3</b>\n",
    "    \n",
    "    \n",
    "verificar que la parte imaginaria viene de medir  $\\langle Y\\rangle$ en la ancilla\n",
    "\n",
    "$$\n",
    "\\langle{Y}\\rangle_{ancilla}  =  \\hbox{Im}\\bra{\\psi} U \\ket{\\psi} \\, .\n",
    "$$\n",
    "</div>"
   ]
  },
  {
   "cell_type": "markdown",
   "metadata": {
    "slideshow": {
     "slide_type": "skip"
    }
   },
   "source": [
    "<div class=\"alert alert-block alert-success\">\n",
    "    <b>Ejercicio 1.2.2.4</b> \n",
    "    \n",
    "Obtener el valor esperado de $\\langle Z\\otimes Z\\otimes Z\\rangle_\\Psi$ en el estado \n",
    "\n",
    "$$\n",
    "|\\psi> = \\frac{i}{4}|000>+\\frac{1}{\\sqrt{8}}|001>+\\frac{1+i}{4}|010>+\\frac{1+2i}{\\sqrt{8}}|101>+\\frac{1}{4}|110>\n",
    "$$\n",
    "\n",
    "usando el método de Hadamard.\n",
    "</div>"
   ]
  },
  {
   "cell_type": "markdown",
   "metadata": {
    "slideshow": {
     "slide_type": "skip"
    }
   },
   "source": [
    "Generamos el circuito de medida de Hadamard"
   ]
  },
  {
   "cell_type": "code",
   "execution_count": 52,
   "metadata": {
    "slideshow": {
     "slide_type": "skip"
    }
   },
   "outputs": [
    {
     "data": {
      "image/png": "[encoded data removed]",
      "text/plain": [
       "<Figure size 1014.07x451.5 with 1 Axes>"
      ]
     },
     "execution_count": 52,
     "metadata": {},
     "output_type": "execute_result"
    }
   ],
   "source": [
    "from qiskit import QuantumRegister, QuantumCircuit, ClassicalRegister\n",
    "\n",
    "qr = QuantumRegister(3, name = 'qr')\n",
    "qra = QuantumRegister(1, name = 'ancilla')\n",
    "cr = ClassicalRegister(1)\n",
    "\n",
    "'creamos el operador como una puerta \"gate\" que admite el método \"control'\n",
    "qc0 = QuantumCircuit(qr)\n",
    "qc0.z(qr)\n",
    "CZZZ_gate = qc0.to_gate().control(1,ctrl_state= 1) \n",
    "\n",
    "'creamos el circuito con el operador controlado'\n",
    "qc_Had = QuantumCircuit(qra,qr,cr)\n",
    "qc_Had.initialize(psi,qr)\n",
    "qc_Had.h(qra)  \n",
    "qc_Had.append(CZZZ_gate,qra[:] + qr[:])\n",
    "qc_Had.sdg(qra)\n",
    "qc_Had.h(qra)\n",
    "qc_Had.measure(qra,cr)\n",
    "\n",
    "qc_Had.draw('mpl')"
   ]
  },
  {
   "cell_type": "markdown",
   "metadata": {
    "slideshow": {
     "slide_type": "skip"
    }
   },
   "source": [
    "Ejecutamos y obtenemos el valor esperado"
   ]
  },
  {
   "cell_type": "code",
   "execution_count": 54,
   "metadata": {
    "slideshow": {
     "slide_type": "skip"
    }
   },
   "outputs": [
    {
     "name": "stdout",
     "output_type": "stream",
     "text": [
      "{'1': 499993, '0': 500007}\n"
     ]
    },
    {
     "data": {
      "image/png": "[encoded data removed]",
      "text/plain": [
       "<Figure size 700x500 with 1 Axes>"
      ]
     },
     "execution_count": 54,
     "metadata": {},
     "output_type": "execute_result"
    }
   ],
   "source": [
    "M_backend = Aer.get_backend('qasm_simulator')\n",
    "shots=1000000\n",
    "\n",
    "cuentas_Had= execute(qc_Had,M_backend,shots=shots).result().get_counts()\n",
    "print(cuentas_Had)\n",
    "\n",
    "from qiskit.tools.visualization import plot_histogram\n",
    "plot_histogram(cuentas_Had)"
   ]
  },
  {
   "cell_type": "code",
   "execution_count": null,
   "metadata": {
    "slideshow": {
     "slide_type": "skip"
    }
   },
   "outputs": [],
   "source": [
    "val_esp_sigma(cuentas_Had)"
   ]
  },
  {
   "cell_type": "markdown",
   "metadata": {
    "slideshow": {
     "slide_type": "skip"
    }
   },
   "source": [
    "<div class=\"alert alert-block alert-success\">\n",
    "    <b>Ejercicio 1.2.2.5</b> \n",
    "    \n",
    "define una función <i>add_Hadamadard_measure</i> que reciba un circuito y una  cadena de Pauli y añada al circuito el medidor de Hadamard asociado.\n",
    "</div>"
   ]
  },
  {
   "cell_type": "markdown",
   "metadata": {
    "slideshow": {
     "slide_type": "skip"
    }
   },
   "source": [
    "### Proyección de Hadamard\n",
    "\n",
    "Supongamos el operador $U$ es un operador sobre 1 cúbit *a la vez hermítico y unitario*.\n",
    "\n",
    "Por tanto puede ser considerado, a la vez,\n",
    "\n",
    "- un observable con autovalores reales  $\\lambda = \\pm1$ y \n",
    "\n",
    "- una puerta cuántica con autovalores de módulo unidad\n",
    "\n"
   ]
  },
  {
   "cell_type": "markdown",
   "metadata": {
    "slideshow": {
     "slide_type": "skip"
    }
   },
   "source": [
    "Ello deja a $\\lambda = \\pm 1$ como los únicos autovalores posibles para un operador así. \n",
    "Los operadores $X,Y,Z$ y $H$ son ejemplos de ello. \n",
    "\n",
    "\n",
    "\n",
    "\n",
    "\n",
    "Denominemos $\\ket{a}_U, \\, a=0,1$  los autovectores de $U$ con autovalores $(-1)^a$, es decir $U\\ket{a}_U = (-1)^a\\ket{a}_U$. \n"
   ]
  },
  {
   "cell_type": "markdown",
   "metadata": {
    "slideshow": {
     "slide_type": "skip"
    }
   },
   "source": [
    "En este caso, los factores $(1\\pm U)$ que aparecen en la medida de Hadamard son proyectores ortogonales sobre los autoestados de $U$\n",
    "\n",
    "\n",
    "\n",
    "<br>\n",
    "<figure>\n",
    "<a id='fig_ref'></a>\n",
    "<img src=\"images/HadamardProjection.png\" align=center width='280px'/>\n",
    "<center></center>\n",
    "</figure>\n",
    "<br>\n",
    "\n",
    "\n",
    "La imagen bajo este circuito de un estado de entrada $\\ket{0}\\ket{\\psi}$ ahora será\n",
    "<br>\n",
    "<br>\n",
    "\n",
    "$$\n",
    "\\ket{0}\\ket{\\psi} = \\ket{0}\\otimes (\\alpha\\ket{0}_U + \\beta\\ket{1}_U) ~~\\longrightarrow ~~  \\alpha\\ket{0}\\ket{0}_U +  \\beta\\ket{1}\\ket{1}_U\\, .\n",
    "$$\n",
    "<br>\n",
    "\n",
    "Al igual que con los estados de Bell, cada resultado de  medida en la ancilla está correlacionado con un autoestado del operador $U$. \n",
    "\n",
    "\n"
   ]
  }
 ],
 "metadata": {
  "celltoolbar": "Slideshow",
  "kernelspec": {
   "display_name": "Python 3 (ipykernel)",
   "language": "python",
   "name": "python3"
  },
  "language_info": {
   "codemirror_mode": {
    "name": "ipython",
    "version": 3
   },
   "file_extension": ".py",
   "mimetype": "text/x-python",
   "name": "python",
   "nbconvert_exporter": "python",
   "pygments_lexer": "ipython3",
   "version": "3.9.12"
  },
  "toc": {
   "base_numbering": 1,
   "nav_menu": {},
   "number_sections": true,
   "sideBar": true,
   "skip_h1_title": false,
   "title_cell": "Table of Contents",
   "title_sidebar": "Contents",
   "toc_cell": false,
   "toc_position": {},
   "toc_section_display": true,
   "toc_window_display": false
  },
  "varInspector": {
   "cols": {
    "lenName": 16,
    "lenType": 16,
    "lenVar": 40
   },
   "kernels_config": {
    "python": {
     "delete_cmd_postfix": "",
     "delete_cmd_prefix": "del ",
     "library": "var_list.py",
     "varRefreshCmd": "print(var_dic_list())"
    },
    "r": {
     "delete_cmd_postfix": ") ",
     "delete_cmd_prefix": "rm(",
     "library": "var_list.r",
     "varRefreshCmd": "cat(var_dic_list()) "
    }
   },
   "types_to_exclude": [
    "module",
    "function",
    "builtin_function_or_method",
    "instance",
    "_Feature"
   ],
   "window_display": false
  }
 },
 "nbformat": 4,
 "nbformat_minor": 4
}
