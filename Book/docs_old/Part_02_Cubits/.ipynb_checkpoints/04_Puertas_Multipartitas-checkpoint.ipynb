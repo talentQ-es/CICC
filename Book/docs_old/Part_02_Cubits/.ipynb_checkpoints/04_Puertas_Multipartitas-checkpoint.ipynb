{
 "cells": [
  {
   "cell_type": "markdown",
   "metadata": {},
   "source": [
    "<img   src=\"../figuras/logo/TalentQ_LogoPosNegro.png\" align=center  width=\"120\"/>\n",
    "<br>\n",
    "\n",
    "<table width=\"100%\">\n",
    "<td style=\"font-size:50px;font-style:italic;text-align:right;background-color:rgba(0, 160, 120,0.6)\">\n",
    "El arte de medir\n",
    "</td></table>\n",
    "\n",
    "\n",
    "\n",
    "$ \\newcommand{\\bra}[1]{\\langle #1|} $\n",
    "$ \\newcommand{\\ket}[1]{|#1\\rangle} $\n",
    "$ \\newcommand{\\braket}[2]{\\langle #1|#2\\rangle} $\n",
    "$ \\newcommand{\\i}{{\\color{blue} i}} $ \n",
    "$ \\newcommand{\\Hil}{{\\mathbb H}} $\n",
    "$ \\newcommand{\\cg}[1]{{\\rm C}#1} $"
   ]
  },
  {
   "cell_type": "markdown",
   "metadata": {},
   "source": [
    "\n",
    "1. [Operadores sobre sistemas multipartitos](#multioper)\n",
    "\n",
    "\n",
    "2. [Puertas binarias](#2cubit_oper)"
   ]
  },
  {
   "cell_type": "code",
   "execution_count": 4,
   "metadata": {},
   "outputs": [],
   "source": [
    "%run ../macro_CURSO.py"
   ]
  },
  {
   "cell_type": "markdown",
   "metadata": {},
   "source": [
    "<a id='multioper'></a>\n",
    "<table width=\"100%\">\n",
    "<a id=\"multioper\"></a>\n",
    "<td style=\"font-size:30px;font-family:Helvetica;text-align:left;background-color:rgba(12, 43, 337, 0.3);\">\n",
    "<b>Operadores sobre sistemas multipartitos</b>\n",
    "</table> "
   ]
  },
  {
   "cell_type": "markdown",
   "metadata": {},
   "source": [
    "#### Caso general"
   ]
  },
  {
   "cell_type": "markdown",
   "metadata": {},
   "source": [
    "Como cualquier espacio vectorial, el producto tensorial  $\\Hil = \\Hil\\otimes ... \\otimes \\Hil = \\Hil^{\\otimes n}$, de dimensión $2^n$ admite la acción de operadores lineales:\n",
    "\n",
    "<br>\n",
    "\n",
    "$$\n",
    "A : \\ket{u} ~\\to ~ \\ket{v} = A\\ket{u}\n",
    "$$\n",
    "\n",
    "<br>\n",
    "\n",
    "con $\\ket{u},\\ket{v}\\in \\Hil$. \n",
    "En la base computacional $\\ket{k}$ donde $ k=0,...,2^{n-1}\\, .$ \n",
    "\n",
    "<br>\n",
    "\n",
    "$$\n",
    "\\ket{u} = \\sum_{k=0}^{2^n-1}u_k \\ket{k} ~~~\\to ~~~\\ket{v} = \\sum_{k=0}^{2^n-1}v_k \\ket{k} \n",
    "$$\n",
    "\n",
    "<br>\n",
    "\n",
    "y la matriz $A_{ij}$ relaciona las componentes en la forma usual\n",
    "\n",
    "\n",
    "$$\n",
    "v_k = \\sum_{l=0}^{2^n-1} A_{kl} u_l\n",
    "$$\n",
    "\n",
    "<br>\n",
    "\n",
    "- La matriz $A_{kl}$ tiene, a priori, $2^{n}\\times 2^n = 2^{2n}$ *grados de libertad* complejos independientes. \n",
    "\n",
    "\n",
    "- El operador $A$ puede ser unitario $A= U \\Rightarrow A^{-1} = U^\\dagger$."
   ]
  },
  {
   "cell_type": "markdown",
   "metadata": {},
   "source": [
    "#### Producto Tensorial de Operadores"
   ]
  },
  {
   "cell_type": "markdown",
   "metadata": {},
   "source": [
    "- De la misma manera que un subconjunto (muy restringido) de elementos de $\\Hil^{\\otimes n}$ lo formaban los vectores factorizables $\\ket{v} = \\ket{u_1}\\otimes ...\\otimes \\ket{v_n}$, los operadores también admiten un subconjunto de operadores formados por  producto tensorial de operadores $A_i$ sobre $\\Hil$\n",
    "\n",
    "\n",
    "<br>\n",
    "\n",
    "$$\n",
    "A = A_{1}\\otimes A_{2} ...\\otimes A_n\n",
    "$$\n",
    "\n",
    "<br>\n",
    "\n",
    "\n",
    "El número de componentes complejas independientes de $A$ en este caso es $ 2^2+2^2+...+2^2 = n\\, 2^2$. Por tanto se trata de un subespacio muy reducido $n\\,2^2 \\ll 2^{2n}$\n",
    "\n",
    "<hr />\n",
    "\n",
    "\n",
    "- La acción del *operador producto tensorial* es trivial sobre un *vector factorizado*\n",
    "$\\ket{u_1u_2...u_n} = \\ket{u_1}\\otimes\\ket{u_2}\\otimes...\\otimes \\ket{u_n}$ \n",
    "\n",
    "\n",
    "<br>\n",
    "\n",
    "$$\n",
    "A\\ket{u_1u_2...u_n}\\, \\equiv \\, A_{1}\\ket{u_1}\\otimes A_{2}\\ket{u_2}\\otimes ... \\otimes A_{n}\\ket{u_n}\n",
    "$$\n",
    "\n",
    "<br>\n",
    "\n",
    "\n",
    "Sobre un *vector entrelazado* la acción  se sigue por linealidad. \n",
    "\n",
    "\n",
    "<br>\n",
    "\n",
    "$$\n",
    "A\\big(\\ket{u_1u_2...u_n} + \\ket{v_1v_2...v_n}\\big) =A\\ket{u_1u_2...u_n} + A\\ket{v_1v_2...v_n} \n",
    "$$"
   ]
  },
  {
   "cell_type": "markdown",
   "metadata": {},
   "source": [
    "### Producto de Kronecker"
   ]
  },
  {
   "cell_type": "markdown",
   "metadata": {},
   "source": [
    "- La matriz asociada al producto tensorial de dos operadores $A\\otimes B$ viene dada por el *producto de Kronecker* de las matrices asociadas a cada uno de ellos. \n",
    "Si $A$ tiene matriz $A_{ij}$ y $B$ tiene matriz $B_{mn}$, entonces  $A\\otimes B$ llevará asociada la matriz\n",
    "\n",
    "\n",
    "<br>\n",
    "\n",
    "$$\n",
    "(A\\otimes B)_{im ~jn} = A_{ij}B_{mn}\n",
    "$$\n",
    "\n",
    "<br>\n",
    "\n",
    "\n",
    "Por ejemplo, para matrices $2\\times 2$\n",
    "\n",
    "<br>\n",
    "\n",
    "$$\n",
    "A_{i_1i_2} = \\begin{bmatrix} A_{11} & A_{12} \\\\ A_{21} & A_{22} \\end{bmatrix}~~~,~~~\n",
    "B_{i_1i_2} =\\begin{bmatrix} B_{11} & B_{12} \\\\ B_{21} & B_{22}\\end{bmatrix}\n",
    "$$\n",
    "\n",
    "<br>\n",
    "\n",
    "\n",
    "el producto de Kronecker será una matrix $4\\times 4$ que se obtiene multiplicando *cada* elemento de la matriz $A_{i_1i_2}$ por *toda* la matriz $B$\n",
    "\n",
    "\n",
    "<br>\n",
    "\n",
    "$$\n",
    "[A\\otimes B] = \\begin{bmatrix} A_{11}B & A_{12}B \\\\ A_{21}B  & A_{22}B  \\end{bmatrix} =\n",
    "\\begin{bmatrix}\n",
    "A_{11}B_{11} & A_{11}B_{12} & A_{12}B_{11} & A_{12}B_{21} &\\\\\n",
    "A_{11}B_{21} & A_{11}B_{22} & A_{12}B_{21} & A_{12}B_{22} &\\\\\n",
    "A_{21}B_{11} & A_{21}B_{12} & A_{22}B_{11} & A_{22}B_{12} &\\\\\n",
    "A_{21}B_{21} & A_{21}B_{22} & A_{22}B_{21} & A_{22}B_{22} \n",
    "\\end{bmatrix}\n",
    "$$\n",
    "\n",
    "<br>\n",
    "\n"
   ]
  },
  {
   "cell_type": "markdown",
   "metadata": {},
   "source": [
    "- La composición de operadores producto tensorial se relaciona muy simplemente con la composicion de cada uno de sus factores\n",
    "\n",
    "\n",
    "<br>\n",
    "\n",
    "$$\n",
    "(A\\otimes B)(C\\otimes D) \\ket{u}\\otimes\\ket{v} = (A\\otimes B) C\\ket{u}\\otimes D\\ket{v} = \n",
    "AC\\ket{u}\\otimes BD\\ket{v} = (AC\\otimes BD)\\ket{u}\\otimes \\ket{v}\n",
    "$$\n",
    "\n",
    "<br>\n",
    "\n",
    "\n",
    "de donde se sigue, como $\\ket{u}$ y $\\ket{v}$ son arbitrarios, que\n",
    "\n",
    "\n",
    "<br>\n",
    "\n",
    "$$\n",
    "(A\\otimes B)(C\\otimes D) =(AC\\otimes BD)\\, .\n",
    "$$\n",
    "\n",
    "<br>\n",
    "\n",
    "\n",
    "El producto de Kronecker automáticamente incorpora esta propiedad donde la composición es la multiplicación de matrices\n",
    "\n",
    "<br>\n",
    "\n",
    "$$\n",
    "((A\\otimes B)(C\\otimes D))_{il,kn} = \\sum_{j,m=0}^{1}(A\\otimes B)_{il,jm}(C\\otimes D)_{jm,kn} = \\sum_{j,m=0}^{1}(A_{ij}B_{lm})(C_{jk}D_{mn}) =\n",
    "\\sum_{j,m=0}^{1}A_{ij}C_{jk} B_{lm}D_{mn}= (AC)_{ik}(BD)_{ln}\n",
    "$$\n",
    "\n",
    "<br>\n",
    "\n"
   ]
  },
  {
   "cell_type": "markdown",
   "metadata": {},
   "source": [
    "<a id='2cubit_oper'></a>\n",
    "<table width=\"100%\">\n",
    "<a id=\"multioper\"></a>\n",
    "<td style=\"font-size:30px;font-family:Helvetica;text-align:left;background-color:rgba(12, 43, 337, 0.3);\">\n",
    "<b>Puertas binarias</b>\n",
    "</table> "
   ]
  },
  {
   "cell_type": "markdown",
   "metadata": {},
   "source": [
    "Sobre el espacio de dos cúbits $\\Hil_2$, el operador unitario más general se puede representar como una matriz compleja 4$\\times$4 que satisface la condición $U_{ij}^{-1} = U_{ji}^*$.\n",
    "Veamos algunos casos interesantes\n",
    "\n"
   ]
  },
  {
   "cell_type": "markdown",
   "metadata": {},
   "source": [
    "### Puertas controladas $\\cg{U}$"
   ]
  },
  {
   "cell_type": "markdown",
   "metadata": {},
   "source": [
    "Las puerta controladas son la clase más simple de puerta binaria en la que un operador se aplica sobre un cúbit dependiendo del estado en el que se encuentra otro. Este segundo cúbit se denomina *controlador*, mientras que el primero es el *controlado*\n",
    "\n",
    "La acción de este operador sigue fácilmente de la siguiente representación \n",
    "\n",
    "<br>\n",
    "\n",
    "$$\n",
    "\\cg{U} = \\ket{0}\\bra{0}\\otimes I + \\ket{1}\\bra{1}\\otimes U\n",
    "$$\n",
    "\n",
    "<br>\n",
    "\n",
    "donde $U$ es un operador unitario de 1-cúbit general. Es evidente que el operador $\\cg{U}$ admite la siguiente lectura: \n",
    "\n",
    "<table width=\"100%\"><td style=\"font-size:14px;font-style:roman;text-align:left;\"> si en el primer cúbit entra $\\ket{0}$, sale $\\ket{0}$ y en el segundo cúbit no se hace nada. Si entra $\\ket{1}$, sale $\\ket{1}$ y en el segundo cúbit se aplica el operador $U$.\n",
    "</table>\n",
    "\n",
    "\n",
    "\n",
    "La forma del operador $\\cg{U}$ expresa el hecho de que el estado del primero cúbit *controla* la acción sobre el segundo. \n",
    "\n",
    "- La *representación matricial* de $\\cg{U}$ es fácil de obtener como el *producto de Kronecker* \n",
    "\n",
    "\n",
    "<br>\n",
    "\n",
    "$$\n",
    "\\cg{U} = \\begin{bmatrix}1 & 0 \\\\ 0 & 0 \\end{bmatrix}\\otimes  I +  \\begin{bmatrix}0 & 0 \\\\ 0 & 1 \\end{bmatrix} \\otimes U\n",
    "= \\begin{bmatrix} 1\\times I & 0 \\\\ 0 & 0 \\end{bmatrix}  + \n",
    "\\begin{bmatrix} 0 & 0 \\\\ 0 & 1\\times U \\end{bmatrix} = \\begin{bmatrix}   I & 0 \\\\ 0 &   U \\end{bmatrix} = \n",
    "\\begin{bmatrix} 1 & 0 & 0 & 0 \\\\ 0 & 1 & 0 & 0 \\\\ 0 & 0 & U_{11} & U_{12} \\\\\n",
    "0 & 0 & U_{12} & U_{22}\\end{bmatrix}\n",
    "$$\n",
    "\n",
    "<br>\n",
    "\n",
    "\n",
    "Escrito de esta manera, es evidente que si $U$ es una matriz unitaria $\\cg{U}$ también lo es. Esto no es algo trivial, por cuanto, la combinación lineal de operadores unitarios no es en general unitaria. \n",
    "\n",
    "\n",
    "- La *acción* de $\\cg{U}$ sobre elementos de la base $\\{\\ket{x}\\}$ donde $x=0,1$ admite una forma compacta que será muy útil en manipulaciones formales \n",
    "\n",
    "<br>\n",
    "\n",
    "$$\n",
    "\\cg{U}:\\ket{x}\\otimes\\ket{y} = \\ket{x} \\otimes U^x\\ket{y} = \n",
    "\\left\\{\\begin{array}{ll} \\ket{x} \\otimes \\ket{y} & \\hbox{ si } x = 0 \\\\ \n",
    "\\ket{x} \\otimes U\\ket{y} & \\hbox{ si } x = 1 \\\\ \n",
    "\\end{array} \\right.\n",
    "$$\n",
    "\n",
    "<br>\n",
    "\n",
    "\n",
    "- La *representación gráfica* del circuito asociado al operador controlado $\\cg{U}$ es la siguiente\n",
    "<br>\n",
    "<br>\n",
    "<div>\n",
    "<img src=\"images/cu_gate.png\" width=\"200\"/>\n",
    "</div>\n",
    "<br>\n",
    "<br>\n",
    "con $x,y = 0,1$, en el cuál, el cúbit que controla es el cúbit $q^0$ mientras que el cúbit controlado es el cúbit $q^1$.\n",
    "\n",
    "\n",
    "<div class=\"alert alert-block alert-success\">\n",
    "    <b>Ejercicio:</b>  escribe un operador controlado donde:  \n",
    "\n",
    "-  el cúbit de control es el segundo sobre el primero. \n",
    "\n",
    "-  el operador $U$ se aplica sobre el segundo cúbit, si el estado del primero es $\\ket{1}$. \n",
    "\n",
    "-  En ambos casos, escribe la matriz asociada.\n",
    "</div>\n",
    "\n",
    "<br> \n",
    "    \n",
    "Operadores como este existen en circuitos clásicos. La fascinante novedad es que, ahora, por el primer cúbit podría circular una superposición $a\\ket{0} + b\\ket{1}$.\n",
    "En ese caso, el resultado de una acción controlada también conduce a una superposición, de forma tal que **se genera entrelazamiento**\n",
    "    \n",
    "Para verlo, hagamos actuar $\\cg{U}$ sobre un estado de la forma  $\\ket{\\phi} = (a\\ket{0} + b\\ket{1})\\otimes \\ket{U}$, que es *factorizable*\n",
    "  \n",
    "<br>\n",
    " \n",
    "\\begin{eqnarray}\n",
    "\\cg{U}\\,(a\\ket{0} +b \\ket{1})\\otimes \\ket{v} &=&\n",
    "    \\left(\\ket{0}\\bra{0}\\otimes I + \\ket{1}\\bra{1}\\otimes U\\rule{0mm}{4mm}\\right)(a\\ket{0} +b \\ket{1})\\otimes \\ket{v}  \n",
    "  \\\\ \\rule{0mm}{8mm}\n",
    "    &=& a\\ket{0}\\otimes \\ket{v} + b\\ket{1}\\otimes U\\ket{v} \\nonumber\n",
    "\\end{eqnarray}\n",
    "\n",
    "<br>\n",
    "    \n",
    "Vemos que, efectivamente, el resultado es un estado *entrelazado*. "
   ]
  },
  {
   "cell_type": "markdown",
   "metadata": {},
   "source": [
    "### La puerta CNOT"
   ]
  },
  {
   "cell_type": "markdown",
   "metadata": {},
   "source": [
    "Es el caso más frecuente de una puerta binaria controlada es la puerta CNOT = $\\cg{X}$\n",
    "\n",
    "$$\n",
    "\\hbox{CNOT} = \\cg{X} ~=~ \\ket{0}\\bra{0}\\otimes I + \\ket{1}\\bra{1}\\otimes X ~=~ \\begin{bmatrix} 1 & 0 & 0 & 0 \\\\ 0 & 1 & 0 & 0 \\\\ 0 & 0 & 0 & 1 \\\\\n",
    "0 & 0 & 1 & 0\\end{bmatrix}\n",
    "$$\n",
    "\n",
    "- Sobre elementos de la base computacional $\\ket{xy}=\\ket{x}\\otimes\\ket{y}$ donde $\\, x,y= 0,1$, su acción  se puede representar de manera compacta usando la suma módulo dos \n",
    "\n",
    "$$\n",
    "\\cg{U}:\\ket{x}\\otimes\\ket{y}=  \\ket{x} \\otimes X^x\\ket{y} = \\ket{x} \\otimes \\ket{y\\oplus x}\n",
    "$$\n",
    "\n",
    "$\\rule{0.5cm}{0mm}$ gráficamente\n",
    "\n",
    "<br>\n",
    "<br>\n",
    "<div>\n",
    "<img src=\"images/cX_gate.png\" width=\"250\"/>\n",
    "</div>\n",
    "<br>\n",
    "<br>\n"
   ]
  },
  {
   "cell_type": "markdown",
   "metadata": {},
   "source": [
    "Vamos a implementar la puerta CNOT en un circuito en qiskit. "
   ]
  },
  {
   "cell_type": "code",
   "execution_count": 2,
   "metadata": {},
   "outputs": [
    {
     "data": {
      "image/png": "[encoded data removed]",
      "text/plain": [
       "<Figure size 146.652x144.48 with 1 Axes>"
      ]
     },
     "execution_count": 2,
     "metadata": {},
     "output_type": "execute_result"
    }
   ],
   "source": [
    "from qiskit import QuantumCircuit\n",
    "qc = QuantumCircuit(2)\n",
    "qc.cx(1,0)\n",
    "qc.draw(output='mpl')"
   ]
  },
  {
   "cell_type": "markdown",
   "metadata": {},
   "source": [
    "observar que la puerta aparece invertida con respecto a la que dibujamos más arriba. Ello se debe a que qiskit ordena los qubits en $\\ket{q_1 \\, q_0}$ poniendo el asociado al bit menos relevante $q_0$ arriba. \n"
   ]
  },
  {
   "cell_type": "code",
   "execution_count": 8,
   "metadata": {},
   "outputs": [
    {
     "data": {
      "text/markdown": [
       "\\begin{bmatrix}1.00+0.00j&0.00+0.00j&0.00+0.00j&0.00+0.00j\\\\0.00+0.00j&1.00+0.00j&0.00+0.00j&0.00+0.00j\\\\0.00+0.00j&0.00+0.00j&0.00+0.00j&1.00+0.00j\\\\0.00+0.00j&0.00+0.00j&1.00+0.00j&0.00+0.00j\\end{bmatrix}"
      ],
      "text/plain": [
       "<IPython.core.display.Markdown object>"
      ]
     },
     "metadata": {},
     "output_type": "display_data"
    }
   ],
   "source": [
    "'ahora podemos pedir el operador unitario que reproduce el circuito anterior'\n",
    "from qiskit import Aer, execute\n",
    "U_simulator = Aer.get_backend('unitary_simulator')\n",
    "\n",
    "job = execute(qc, backend = U_simulator)\n",
    "CNOT_matrix = job.result().get_unitary()\n",
    "\n",
    "#print(U_matrix)\n",
    "DisplayMatrix(CNOT_matrix)"
   ]
  },
  {
   "cell_type": "markdown",
   "metadata": {},
   "source": [
    "### La puerta SWAP"
   ]
  },
  {
   "cell_type": "markdown",
   "metadata": {},
   "source": [
    " La puerta SWAP es otra puerta binaria fundamental, cuya acción consiste en permutar los estados existentes en los registros individuales sobre los que actúa. En particular, sobre los elementos de la base\n",
    "\n",
    "<br>\n",
    "\n",
    "$$\n",
    "U_{\\rm SWAP }: \\ket{00}\\to\\ket{00}~~,~~\\ket{01}\\to\\ket{10}~~,~~\\ket{10}\\to\\ket{01}~~,~~\n",
    "\\ket{11}\\to\\ket{11}\\, .\n",
    "$$\n",
    "<br>\n",
    "\n",
    "lo que nos permite escribir el operador en la notación de producto exterior\n",
    "\n",
    "<br>\n",
    "\n",
    "$$\n",
    "U_{\\rm SWAP } = \\ket{00}\\bra{00} + \\ket{01}\\bra{10} + \\ket{10}\\bra{01} +\\ket{11}\\bra{11} \n",
    "$$\n",
    "\n",
    "<br>\n",
    "\n",
    "cuya matriz asociada es\n",
    "$$\n",
    "U_{\\rm SWAP} =  \\begin{bmatrix} \n",
    "1 & 0 & 0 & 0 \\\\ 0 & 0 & 1 & 0 \\\\ 0 & 1 & 0 & 0 \\\\ 0 & 0 & 0 & 1\n",
    "\\end{bmatrix}\n",
    "$$\n",
    "\n",
    "y su inserción en un circuito se representa en la forma siguiente\n",
    "<br>\n",
    "<br>\n",
    "<div>\n",
    "<img src=\"images/SWAP_gate.png\" width=\"220\"/>\n",
    "</div>\n",
    "<br>"
   ]
  },
  {
   "cell_type": "markdown",
   "metadata": {},
   "source": [
    "### La puerta CCNOT o de Toffoli"
   ]
  },
  {
   "cell_type": "markdown",
   "metadata": {},
   "source": [
    "La puerta CCNOT, también llamada puerta de Toffoli,  es un operador sobre $\\Hil^{\\otimes 3}$, en el que dos cúbits controlan la acción de $X$ sobre un tercero, de forma que *sólo si ambos cúbits* de control están en el estado $\\ket{11}$ el tercero recibirá la acción de $X$\n",
    "<br>\n",
    "<br>\n",
    "<br>\n",
    "<div>\n",
    "<img src=\"images/ccX_gate.png\" width=\"250\"/>\n",
    "</div>\n",
    "<br>\n",
    "De nuevo, su representación es muy sencilla\n",
    "\n",
    "$$\n",
    "{\\rm CCNOT} = \\big(\\ket{00}\\bra{00}+\\ket{01}\\bra{01}+\\ket{10}\\bra{10}\\big)\\otimes I + \\ket{11}\\bra{11}\\otimes X\n",
    "$$\n",
    "\n",
    "<table width=\"100%\"><tr style=\"background-color:lightyellow;\"><td style=\"font-size:14px;font-style:roman;text-align:left;\"><b>Ejercicios:</b>  <br>\n",
    "    1. Obtener la matriz que representa la puerta de Toffoli en la base computacional. Reproducirla usando qiskit.\n",
    "    <br><br> \n",
    "    2. Obtener la matriz de un circuito de 3 cúbits con una puerta CNOT en la que el tercer cúbit controla el primero. Reproducirla usando qiskit.\n",
    "</table>"
   ]
  },
  {
   "cell_type": "markdown",
   "metadata": {},
   "source": [
    "### La puerta de Walsh-Hadamard"
   ]
  },
  {
   "cell_type": "markdown",
   "metadata": {},
   "source": [
    "La puertas puertas anteriores no se pueden representar como productos tensoriales de operadores actuando sobre un cúbit. El caso contrario corresponde a operadores factorizables $U = U_1\\otimes U_2 \\otimes ...\\otimes U_n$.\n",
    "\n",
    "Un caso muy frecuente es el operador de Waslh-Hadamard \n",
    "$$\n",
    "W =  H^{\\otimes n} = H\\otimes H\\otimes ... \\otimes H \n",
    "$$\n",
    "\n",
    "La razón de su frecuente utilización reside en la acción que produce sobre el estado de referencia $\\ket{00...0}$.\n",
    "Efectivamente\n",
    "\n",
    "\\begin{eqnarray}\n",
    "W \\ket{00...0} &=& H\\ket{0}\\otimes H\\ket{0} \\otimes ... \\otimes H\\ket{0} \\\\\n",
    "&=& \\frac{1}{\\sqrt{2}}\\big(\\ket{0}+\\ket{1}\\big)\\otimes \\frac{1}{\\sqrt{2}}\\big(\\ket{0}+\\ket{1}\\big)\\otimes ...\\otimes \\frac{1}{\\sqrt{2}}\\big(\\ket{0}+\\ket{1}\\big)\\\\\n",
    "&=& \\frac{1}{2^{n/2}}\\big(\\ket{00...00} + \\ket{00...01}+....+\\ket{11...11} \\big)\n",
    "\\end{eqnarray}\n",
    "\n",
    "Como vemos, el resultado es una *superposición uniforme* de todos los estados de la base. "
   ]
  },
  {
   "cell_type": "code",
   "execution_count": 11,
   "metadata": {},
   "outputs": [
    {
     "data": {
      "image/png": "[encoded data removed]",
      "text/plain": [
       "<Figure size 447.797x325.08 with 1 Axes>"
      ]
     },
     "execution_count": 11,
     "metadata": {},
     "output_type": "execute_result"
    }
   ],
   "source": [
    "from qiskit import QuantumCircuit, QuantumRegister, ClassicalRegister\n",
    "\n",
    "qr = QuantumRegister(4,name='q')\n",
    "cr = ClassicalRegister(4,name='c')\n",
    "\n",
    "qc = QuantumCircuit(qr,cr)\n",
    "\n",
    "#qc.x(qr[2])\n",
    "qc.h(qr)\n",
    "qc.barrier()\n",
    "qc.measure(qr,cr)\n",
    "\n",
    "qc.draw(output='mpl')"
   ]
  },
  {
   "cell_type": "code",
   "execution_count": 2,
   "metadata": {},
   "outputs": [
    {
     "ename": "NameError",
     "evalue": "name 'execute' is not defined",
     "output_type": "error",
     "traceback": [
      "\u001b[0;31m---------------------------------------------------------------------------\u001b[0m",
      "\u001b[0;31mNameError\u001b[0m                                 Traceback (most recent call last)",
      "\u001b[0;32m<ipython-input-2-59854a9ca201>\u001b[0m in \u001b[0;36m<module>\u001b[0;34m\u001b[0m\n\u001b[1;32m      1\u001b[0m \u001b[0;31m#execute\u001b[0m\u001b[0;34m\u001b[0m\u001b[0;34m\u001b[0m\u001b[0;34m\u001b[0m\u001b[0m\n\u001b[0;32m----> 2\u001b[0;31m \u001b[0mjob\u001b[0m\u001b[0;34m=\u001b[0m\u001b[0mexecute\u001b[0m\u001b[0;34m(\u001b[0m\u001b[0mqc\u001b[0m\u001b[0;34m,\u001b[0m\u001b[0mbackend\u001b[0m\u001b[0;34m=\u001b[0m\u001b[0mM_simulator\u001b[0m\u001b[0;34m,\u001b[0m\u001b[0mshots\u001b[0m\u001b[0;34m=\u001b[0m\u001b[0;36m10000\u001b[0m\u001b[0;34m)\u001b[0m \u001b[0;31m# Hacemos la simulación 2048 veces )\u001b[0m\u001b[0;34m\u001b[0m\u001b[0;34m\u001b[0m\u001b[0m\n\u001b[0m\u001b[1;32m      3\u001b[0m \u001b[0;34m\u001b[0m\u001b[0m\n\u001b[1;32m      4\u001b[0m \u001b[0mfrecuencias\u001b[0m\u001b[0;34m=\u001b[0m \u001b[0mjob\u001b[0m\u001b[0;34m.\u001b[0m\u001b[0mresult\u001b[0m\u001b[0;34m(\u001b[0m\u001b[0;34m)\u001b[0m\u001b[0;34m.\u001b[0m\u001b[0mget_counts\u001b[0m\u001b[0;34m(\u001b[0m\u001b[0;34m)\u001b[0m      \u001b[0;31m# y la estadística\u001b[0m\u001b[0;34m\u001b[0m\u001b[0;34m\u001b[0m\u001b[0m\n\u001b[1;32m      5\u001b[0m \u001b[0;34m\u001b[0m\u001b[0m\n",
      "\u001b[0;31mNameError\u001b[0m: name 'execute' is not defined"
     ]
    }
   ],
   "source": [
    "#execute\n",
    "job=execute(qc,backend=M_simulator,shots=10000) # Hacemos la simulación 2048 veces )\n",
    "\n",
    "frecuencias= job.result().get_counts()      # y la estadística          \n",
    "\n",
    "from qiskit.tools.visualization import plot_histogram\n",
    "plot_histogram(frecuencias) # Mostramos un histograma de resultados"
   ]
  },
  {
   "cell_type": "markdown",
   "metadata": {},
   "source": []
  }
 ],
 "metadata": {
  "kernelspec": {
   "display_name": "Python 3",
   "language": "python",
   "name": "python3"
  },
  "language_info": {
   "codemirror_mode": {
    "name": "ipython",
    "version": 3
   },
   "file_extension": ".py",
   "mimetype": "text/x-python",
   "name": "python",
   "nbconvert_exporter": "python",
   "pygments_lexer": "ipython3",
   "version": "3.8.5"
  },
  "varInspector": {
   "cols": {
    "lenName": 16,
    "lenType": 16,
    "lenVar": 40
   },
   "kernels_config": {
    "python": {
     "delete_cmd_postfix": "",
     "delete_cmd_prefix": "del ",
     "library": "var_list.py",
     "varRefreshCmd": "print(var_dic_list())"
    },
    "r": {
     "delete_cmd_postfix": ") ",
     "delete_cmd_prefix": "rm(",
     "library": "var_list.r",
     "varRefreshCmd": "cat(var_dic_list()) "
    }
   },
   "types_to_exclude": [
    "module",
    "function",
    "builtin_function_or_method",
    "instance",
    "_Feature"
   ],
   "window_display": false
  }
 },
 "nbformat": 4,
 "nbformat_minor": 5
}
