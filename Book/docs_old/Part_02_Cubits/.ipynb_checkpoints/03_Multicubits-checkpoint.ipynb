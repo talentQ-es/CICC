{
 "cells": [
  {
   "cell_type": "markdown",
   "metadata": {},
   "source": [
    "<img   src=\"../figuras/logo/TalentQ_LogoPosNegro.png\" align=center  width=\"120\"/>\n",
    "<br>\n",
    "\n",
    "<table width=\"100%\">\n",
    "<td style=\"font-size:50px;font-style:italic;text-align:right;background-color:rgba(0, 160, 120,0.6)\">\n",
    "Multi-cúbits\n",
    "</td></table>\n",
    "\n",
    "\n",
    "\n",
    "$ \\newcommand{\\bra}[1]{\\langle #1|} $\n",
    "$ \\newcommand{\\ket}[1]{|#1\\rangle} $\n",
    "$ \\newcommand{\\braket}[2]{\\langle #1|#2\\rangle} $\n",
    "$ \\newcommand{\\i}{{\\color{blue} i}} $ \n",
    "$ \\newcommand{\\Hil}{{\\mathbb H}} $"
   ]
  },
  {
   "cell_type": "markdown",
   "metadata": {},
   "source": [
    "\n",
    "- [Multi-cúbits](#multicubit)\n",
    "\n",
    "\n",
    "- [Entrelazamiento](#entrelazamiento)\n",
    "\n",
    "\n",
    "- [Circuitos multi-cúbit](#circuitos)"
   ]
  },
  {
   "cell_type": "code",
   "execution_count": 1,
   "metadata": {},
   "outputs": [],
   "source": [
    "%run ../macro_CURSO.py"
   ]
  },
  {
   "cell_type": "markdown",
   "metadata": {},
   "source": [
    "<a id=\"multicubit\"></a>\n",
    "<table width=\"100%\">\n",
    "    <td style=\"font-size:30px;font-family:Helvetica;text-align:left;background-color:rgba(12, 43, 337, 0.3);\">\n",
    "<b>Multi-cúbits</b>\n",
    "</table>   "
   ]
  },
  {
   "cell_type": "markdown",
   "metadata": {},
   "source": [
    "En computación clásica los datos se almacenan digitalmente en cadenas de bits 010010001... que codifican números arbitrario en la base binaria $\\{0,1\\}$. El análogo en computación cuántica son estados formados por una colección de sistemas describibles por cúbits. Dichos estados son el producto tensorial de estados de un cúbit."
   ]
  },
  {
   "cell_type": "markdown",
   "metadata": {},
   "source": [
    "#### Base y dimensión"
   ]
  },
  {
   "cell_type": "markdown",
   "metadata": {},
   "source": [
    " Sea $\\{ \\ket{0},\\ket{1}\\}$ la base computacional del espacio de Hilbert de un cúbit $\\Hil = {\\mathbb C}^2$.\n",
    " \n",
    "<table width=\"100%\"><td style=\"font-size:14px;font-style:roman;text-align:center;\"> \n",
    "<br>La base computacional de $\\Hil\\otimes \\Hil...\\otimes \\Hil \\equiv \\Hil^{\\otimes n}$ está formada por todas las cadenas de elementos posibles\n",
    "<br><br>\n",
    "$\n",
    " \\ket{i_{n-1}}\\otimes \\ket{i_{n-2}}\\otimes ... \\otimes \\ket{i_0} ~\\equiv ~\\ket{i_{n-1} i_{n-2}...i_0}~$ donde $~~\n",
    " i_{n-1},...,i_0=0,1$\n",
    "<br><br>\n",
    "</table>\n",
    "\n",
    "La *dimensión*  dim($\\Hil^{\\otimes n}$) = $2^n$ coincide con el número combinaciones distintas posibles: $2\\times 2...\\times 2 = 2^n$.\n",
    "\n",
    "- Por ejemplo, para un sistema de 2-cúbits,   $n=2$ y tendríamos $2^n=2^2 = 4$ y entonces\n",
    "\n",
    "<br>\n",
    "\n",
    "$$\n",
    "\\ket{00}~=~ \\ket{0}\\otimes \\ket{0}~=~\n",
    "\\begin{bmatrix}1\\\\ 0\\end{bmatrix}\\begin{bmatrix}1\\\\ 0\\end{bmatrix} = \\begin{bmatrix}1\\\\0\\\\0 \\\\ 0\\end{bmatrix}\n",
    "~~~~~~,~~~~~\n",
    "\\ket{01}~=~ \\ket{0}\\otimes \\ket{1}~=~\n",
    "\\begin{bmatrix}1\\\\ 0\\end{bmatrix}\\begin{bmatrix}0\\\\ 1\\end{bmatrix} = \\begin{bmatrix}0\\\\1\\\\0 \\\\ 0\\end{bmatrix}\n",
    "$$\n",
    "\n",
    "\n",
    "<br>\n",
    "\n",
    "$$\n",
    "\\ket{10}~=~ \\ket{1}\\otimes \\ket{0}~=~\n",
    " \\begin{bmatrix}0\\\\ 1\\end{bmatrix}\\begin{bmatrix}1\\\\ 0\\end{bmatrix} = \\begin{bmatrix}0\\\\0\\\\1 \\\\ 0\\end{bmatrix}\n",
    " ~~~~~,~~~~\n",
    "\\ket{11}~=~ \\ket{1}\\otimes \\ket{1}~=~\n",
    "\\begin{bmatrix}0\\\\ 1\\end{bmatrix}\\begin{bmatrix}0\\\\ 1\\end{bmatrix} = \\begin{bmatrix}0\\\\0\\\\0 \\\\ 1\\end{bmatrix}\n",
    "$$\n",
    "\n",
    "<br>\n",
    "\n",
    "\n",
    "Vemos que las etiquetas de los vectores y, por tanto, de las componentes de las matrices, no son un índice $k=1,2,3,4$, sino un bi-índice $ij=11,12,21,22$ que adopta el mismo número, $N^2$, de cofiguraciones distintas. \n",
    "\n",
    "Vemos que las componentes de vectores, de dimensión 4, no son etiquetadas con un índice $k=1,2,3,4$, \n"
   ]
  },
  {
   "cell_type": "markdown",
   "metadata": {},
   "source": [
    "#### Notación decimal"
   ]
  },
  {
   "cell_type": "markdown",
   "metadata": {},
   "source": [
    "El *multi-ínidice* $i_{n}i_{n-1}....i_1$ que etiqueta un elemento de la base puede interpretarse como un número entero escrito en base *binaria*. Podemos traducir este número a la base *decimal* de la forma siguiente\n",
    "\n",
    "<br>\n",
    "\n",
    "$$\n",
    " \\fbox{$~~ i_n i_{n-1}...i_1 ~~\\longleftrightarrow ~~~p = \\sum_{k=1}^n 2^{k-1} i_k ~~$}\n",
    "$$\n",
    "\n",
    "<br>\n",
    "\n",
    "que tomará  $2^n$ valores $p = 0,1,... 2^{n-1}$. \n",
    "\n",
    "\n",
    "Por ejemplo, con $n=3$\n",
    "\\begin{array}{c|c} i_1i_2i_3 &  p\\\\ \\hline\n",
    "000  & 0 \\\\ 001  &1 \\\\ 010 & 2 \\\\ 011 & 3 \\\\ 100 & 4 \\\\101 & 5 \\\\110 & 6 \\\\111 & 7 \\\\\n",
    "\\end{array}\n",
    "\n",
    "El cambio de notación *multi-índice* $\\leftrightarrow$ *entero en notación decimal* será frecuente y se aplicará a cualquier elemento. Por ejemplo $\\ket{000} = \\ket{0}, \\ket{111} = \\ket{7}$ etc.\n"
   ]
  },
  {
   "cell_type": "markdown",
   "metadata": {},
   "source": [
    "**Ejercicio:** *escribe el vector columna asociado al elemento de la base* $\\ket{101}$"
   ]
  },
  {
   "cell_type": "code",
   "execution_count": 10,
   "metadata": {},
   "outputs": [
    {
     "data": {
      "text/markdown": [
       "\\begin{bmatrix}0.00\\\\0.00\\\\0.00\\\\0.00\\\\0.00\\\\1.00\\\\0.00\\\\0.00\\end{bmatrix}"
      ],
      "text/plain": [
       "<IPython.core.display.Markdown object>"
      ]
     },
     "metadata": {},
     "output_type": "display_data"
    },
    {
     "data": {
      "text/markdown": [
       "\\begin{bmatrix}0.00&0.00&0.00&0.00&0.00&1.00&0.00&0.00\\end{bmatrix}"
      ],
      "text/plain": [
       "<IPython.core.display.Markdown object>"
      ]
     },
     "metadata": {},
     "output_type": "display_data"
    }
   ],
   "source": [
    "# run preamble\n",
    "\n",
    "ulist=np.array([\"000\",\"001\",\"010\",\"011\",\"100\",\"101\",\"110\",\"111\"])\n",
    "\n",
    "ulist=np.array([0,0,0,0,0,1,0,0])\n",
    "\n",
    "ubra=ulist.reshape(1,len(ulist))\n",
    "uket=ulist.reshape(len(ulist),1)\n",
    "\n",
    "\n",
    "DisplayMatrix(uket)\n",
    "DisplayMatrix(ubra)\n"
   ]
  },
  {
   "cell_type": "code",
   "execution_count": 11,
   "metadata": {},
   "outputs": [
    {
     "data": {
      "text/latex": [
       "$$ |101\\rangle$$"
      ],
      "text/plain": [
       "<IPython.core.display.Latex object>"
      ]
     },
     "execution_count": 11,
     "metadata": {},
     "output_type": "execute_result"
    }
   ],
   "source": [
    "from qiskit.quantum_info import Statevector\n",
    "\n",
    "Statevector(uket).draw('Latex')"
   ]
  },
  {
   "cell_type": "markdown",
   "metadata": {},
   "source": [
    "#### Vector General"
   ]
  },
  {
   "cell_type": "markdown",
   "metadata": {},
   "source": [
    "<table width=\"100%\"><td style=\"font-size:14px;font-style:roman;text-align:left;\"> El vector de estado más general  $\\ket{u}\\in \\Hil^{\\otimes n}$ será una combinación lineal de elementos de la base computacional $\\ket{i_n i_{n-1}...i_1}$ en términos de unas componentes $u_{i_ni_{n-1}...i_1}$\n",
    "\n",
    "$$\n",
    "\\ket{u} = \\sum_{i_1,i_2,..,i_n=0,1} u_{i_ni_{n-1}...i_1} \\ket{i_n i_{n-1}...i_1}  = \\sum_{k=0}^{2^n-1} u_k \\ket{k}, .\n",
    "$$\n",
    "</table>\n",
    "\n",
    "donde hemos usado alternativamente la notación binaria y la decimal. \n",
    "\n",
    "Ejemplo: para $n=2$ tendremos, en notación binaria  \n",
    "\n",
    "\\begin{array}{ccc}\n",
    "\\ket{u} ~&=& ~ \\sum_{i,j=0,1} u_{ij} \\ket{ij}~=~ u_{00}\\ket{00}+ u_{01}\\ket{01} + u_{10}\\ket{10} +u_{11}\\ket{11}\n",
    "\\\\ \\\\\n",
    "~&=&~ u_{00}\\begin{bmatrix}1\\\\0\\\\0 \\\\ 0\\end{bmatrix}+ u_{01}  \\begin{bmatrix}0\\\\1\\\\0 \\\\ 0\\end{bmatrix} + u_{10}\\begin{bmatrix}0\\\\0\\\\1\\\\0\\end{bmatrix}+u_{11}  \\begin{bmatrix}0\\\\0\\\\0\\\\1\\end{bmatrix}   ~ = \\begin{bmatrix}u_{00}\\\\ u_{01}\\\\ u_{10} \\\\ u_{11}  \\end{bmatrix}\n",
    "\\end{array}\n",
    "\n",
    "y en notación decimal, para el mismo vector\n",
    "\\begin{array}{ccc}\n",
    "\\ket{u} ~&=& ~ \\sum_{k=0}^{2^2-1=3} u_{k} \\ket{k}~=~ u_{0}\\ket{0}+ u_{1}\\ket{1} + u_{2}\\ket{2} +u_{3}\\ket{3}\n",
    "\\\\ \\\\\n",
    "~&=&~ u_{0}\\begin{bmatrix}1\\\\0\\\\0 \\\\ 0\\end{bmatrix}+ u_{1}  \\begin{bmatrix}0\\\\1\\\\0 \\\\ 0\\end{bmatrix} + u_{2}\\begin{bmatrix}0\\\\0\\\\1\\\\0\\end{bmatrix}+u_{3}  \\begin{bmatrix}0\\\\0\\\\0\\\\1\\end{bmatrix}   ~ = \\begin{bmatrix}u_{0}\\\\ u_{1}\\\\ u_{2} \\\\ u_{3}  \\end{bmatrix}\n",
    "\\end{array}\n",
    "\n",
    "No debería haber confusión entre ambas notaciones puesto que, en cuanto aparezca un número superior a 1 quiere decir que estamos tratando con la base decimal. \n",
    "\n",
    "<div class=\"alert alert-block alert-success\">\n",
    "    <b>Ejercicio:</b> \n",
    "\n",
    "- escribe la columna asociada al vector general $\\ket{u} ~= ~ \\sum_{i,j,k=0,1} u_{ijk} \\ket{ijk}$\n",
    "\n",
    "- Considera el vector  $\\ket{u} = (1+i)\\ket{101} -2\\ket{010} + 3\\ket{111}$. Normalízalo y escribelo como vector columna.\n",
    "</div>"
   ]
  },
  {
   "cell_type": "code",
   "execution_count": 19,
   "metadata": {},
   "outputs": [
    {
     "data": {
      "text/markdown": [
       "\\begin{bmatrix}0.00+0.00j\\\\0.00+0.00j\\\\-0.52+0.00j\\\\0.00+0.00j\\\\0.00+0.00j\\\\0.26+0.26j\\\\0.00+0.00j\\\\0.77+0.00j\\end{bmatrix}"
      ],
      "text/plain": [
       "<IPython.core.display.Markdown object>"
      ]
     },
     "metadata": {},
     "output_type": "display_data"
    },
    {
     "name": "stdout",
     "output_type": "stream",
     "text": [
      "0.9999999999999999\n"
     ]
    },
    {
     "data": {
      "text/latex": [
       "$$- \\frac{2 \\sqrt{15}}{15} |010\\rangle+ (\\frac{\\sqrt{15}}{15} + \\frac{\\sqrt{15} i}{15}) |101\\rangle+\\frac{\\sqrt{15}}{5} |111\\rangle$$"
      ],
      "text/plain": [
       "<IPython.core.display.Latex object>"
      ]
     },
     "execution_count": 19,
     "metadata": {},
     "output_type": "execute_result"
    }
   ],
   "source": [
    "u=np.array([0,0,-2,0,0,1+1j,0,3])\n",
    "\n",
    "from numpy import linalg as la\n",
    "unorm=u/la.norm(u)\n",
    "#print(unorm)\n",
    "\n",
    "uket=unorm.reshape(len(unorm),1)\n",
    "\n",
    "Display(MatrixToLatex(uket))\n",
    "\n",
    "print(la.norm(uket))\n",
    "\n",
    "\n",
    "Statevector(uket).draw('Latex')"
   ]
  },
  {
   "cell_type": "markdown",
   "metadata": {},
   "source": [
    "<a id=\"entrelazamiento\"></a>\n",
    "<table width=\"100%\">\n",
    "    <td style=\"font-size:30px;font-family:Helvetica;text-align:left;background-color:rgba(12, 43, 337, 0.3);\">\n",
    "<b>Entrelazamiento</b>\n",
    "</table>   "
   ]
  },
  {
   "cell_type": "markdown",
   "metadata": {},
   "source": [
    "#### Definición"
   ]
  },
  {
   "cell_type": "markdown",
   "metadata": {},
   "source": [
    "Fíjate bien en el siguiente estado  bi-cúbit\n",
    "\n",
    "$$\n",
    "\\ket{u} = a_0b_0\\ket{00} + a_0b_1\\ket{01} + a_1b_0\\ket{10} + a_1b_1\\ket{11}\\, .\n",
    "$$\n",
    "\n",
    "*Secretamente*, este estado puede escribirse como el *producto tensorial* de dos estados de 1-cúbit\n",
    "\n",
    "$$\n",
    "\\ket{u} = \\ket{a}\\otimes \\ket{b} = \\big( a_0\\ket{0} + a_1\\ket{1}\\big)\\big( b_0\\ket{0} + b_1\\ket{1}\\big)\\, .\n",
    "$$\n",
    "\n",
    "Ello es debido a que las componentes $u_{ij}$ de $\\ket{u}$ son de un tipo restringuido $u_{ij} = a_i b_j$. \n",
    "En el caso general, no será así, y resultará imposible encontrar dos estados tales que el estado bi-cúbit sea el producto tensorial de dichos estados. \n",
    "\n",
    "Tenemos entonces dos tipos de vectores en $\\Hil\\otimes \\Hil$: estados que sí son factorizables $\\ket{u} = \\ket{a}\\otimes \\ket{b}$\n",
    "y estados que no lo son. Esta clasificación se extiende a productos tensoriales más altos.\n",
    "\n",
    "\n",
    "<table width=\"100%\"><td style=\"font-size:14px;font-style:roman;text-align:left;\"> \n",
    "    De forma  general, los estados $\\ket{u}\\in \\Hil^{\\otimes n}$ pertenecen a dos conjuntos disjuntos\n",
    "    <br>\n",
    "    \n",
    "   - estado factorizables, cuando $\\ket{u} = \\ket{a}\\otimes \\ket{b}\\otimes...\\otimes \\ket{c}$\n",
    "    \n",
    "    <br>\n",
    "    \n",
    "   - estados entrelazados, cuando $\\ket{u}$ no es factorizable.\n",
    "    \n",
    "</table>    \n",
    "\n",
    "La suma de dos vectores factorizables no es factorizable. Es decir,  el subconjunto de vectores factorizables *no es un subespacio vectorial*. \n"
   ]
  },
  {
   "cell_type": "markdown",
   "metadata": {},
   "source": [
    "#### Número de estados factorizables"
   ]
  },
  {
   "cell_type": "markdown",
   "metadata": {},
   "source": [
    "En un estado genérico,  $u_{i_n i_{n-1}... i_1}$ es un conjunto de $2^n$ grados de libertad complejos.\n",
    "\n",
    "De manera análoga al caso de dos cúbits, las componentes de  un *cúbit factorizable* son de la forma\n",
    "\n",
    "$$\n",
    "u_{ij...k} = a_{i}b_{j}...c_{k} \n",
    "$$\n",
    "\n",
    "Prueba:\n",
    "\\begin{array}{ccl}\n",
    "\\ket{u} &=& \\ket{a}\\otimes \\ket{b}\\otimes...\\otimes \\ket{c} =\\left(\\displaystyle \\sum_{i_n=0,1}a\\displaystyle\\displaystyle_{i}\\ket{i}\\right)\\otimes \\left( \\displaystyle\\displaystyle\\sum_{j=0,1}b_{j}\\ket{j}\\right)\\otimes ... \\otimes \\left(\\displaystyle \\sum_{k=0,1}c_{k}\\ket{k}\\right) \\\\ \n",
    "&=& \\displaystyle\\sum_{ij...k=0,1} a_{i}b_{j}... c_{k} \\ket{i j... k} \\\\ \n",
    "&=& \\displaystyle\\sum_{ij...k=0,1} u_{i j... k} \\ket{i j... k}\n",
    "\\end{array}\n",
    "\n",
    "<br>\n",
    "\n",
    "Esta clase de vectores factorizables tiene $2+ 2+ ...+ 2 = 2n$ grados de libertad complejos: $a_{i}, b_{i}, ...$y $c_{k} $ con $i,j,...k=0,1$ \n",
    "\n",
    "En consecuencia, el cociente del número de cúbits factorizables sobre cúbits genéricos tiende a cero de forma exponencial, más concretamente como $n/2^{n-1}$."
   ]
  },
  {
   "cell_type": "markdown",
   "metadata": {},
   "source": [
    "#### Base de Bell"
   ]
  },
  {
   "cell_type": "markdown",
   "metadata": {},
   "source": [
    "Como cualquier espacio de Hilbert, $\\Hil^{\\otimes n}$ admite infinitas bases. Una de ellas es la base computacional $\\{\\ket{00..0},\\ket{00...1},...,\\ket{11...1}\\}$. Los elementos de dicha base son vectores factorizables $\\ket{00..0} = \n",
    "\\ket{0}\\ket{0}...\\ket{0},...$.\n",
    "\n",
    "Ahora podemos usar también bases cuyo elementos sean vectores entrelazados. Un caso importante es el de dos cúbits,  $\\Hil^{\\otimes 2}$ donde encontramos la base de Bell, de uso muy frecuente en algoritmos de computación y teleportación\n",
    "\n",
    "- base computacional (factorizada): $\\{ \\ket{00},\\ket{01},\\ket{10},\\ket{11}\\}$\n",
    "<br>\n",
    "\n",
    "- base de Bell (entrelazada): \n",
    "\n",
    "\\begin{array}{rcl}\n",
    "\\ket{B_{00}} &=& \\frac{1}{\\sqrt{2}} \\big( \\ket{00} + \\ket{11} \\big) \\\\\n",
    "\\ket{B_{01}} &=& \\frac{1}{\\sqrt{2}} \\big( \\ket{01} + \\ket{10} \\big) \\\\\n",
    "\\ket{B_{10}} &=& \\frac{1}{\\sqrt{2}} \\big( \\ket{00} - \\ket{11} \\big) \\\\\n",
    "\\ket{B_{11}} &=& \\frac{1}{\\sqrt{2}} \\big( \\ket{01} - \\ket{10} \\big) \\\\\n",
    "\\end{array}\n",
    "\n",
    "<br>"
   ]
  },
  {
   "cell_type": "markdown",
   "metadata": {},
   "source": [
    "#### Medidas parciales"
   ]
  },
  {
   "cell_type": "markdown",
   "metadata": {},
   "source": [
    "Una medida parcial afecta sólamente a un subconjunto de cúbits de un multi-cúbit. Aquí es donde encontramos una diferencia crucial entre estados factorizados y entrelazados. Consideremos el estado bi-cúbit factorizado visto antes\n",
    "\n",
    "$$\n",
    "\\ket{u} = \\ket{a}\\otimes \\ket{b} = \\frac{1}{\\sqrt{2}}\\big( \\ket{0} + \\ket{1}\\big)\\otimes \\frac{1}{\\sqrt{2}}\\big( \\ket{0} + \\ket{1}\\big)\\, .\n",
    "$$\n",
    "\n",
    "- Una medida sobre el primer cúbit solo podrá resultar en uno de los dos posibles estados siguientes\n",
    "\n",
    "$$\n",
    "\\ket{u} ~\\rightarrow ~ \\left\\{ \\begin{matrix}\\ket{0} \\otimes \\frac{1}{\\sqrt{2}}\\big( \\ket{0} + \\ket{1}\\big)\\\\ \\ket{1} \\otimes \\frac{1}{\\sqrt{2}}\\big( \\ket{0} + \\ket{1}\\big) \\end{matrix} \\right.\n",
    "$$\n",
    "\n",
    "con probabilidades $1/2$ respectivamente. Vemos que, después de esta medición, el segundo cúbit permanece intacto. \n",
    "\n",
    "\n",
    "- Sin embargo, si el estado no es factorizable, por ejemplo, \n",
    "\n",
    "$$\n",
    "  \\ket{u} = \\frac{1}{\\sqrt{2}}\\big( \\ket{00} + \\ket{11} \\big)\\, ,\n",
    "$$\n",
    "\n",
    "una medida sobre el primer cúbit hace colapsar el segundo a uno de los dos siguientes posibles estados\n",
    "\n",
    "$$\n",
    "\\ket{u} ~\\rightarrow ~ \\left\\{ \\begin{matrix}\\ket{0}\\otimes\\ket{0}  \\\\ \\ket{1}\\otimes \\ket{1}\\end{matrix} \\right. \\, .\n",
    "$$\n",
    "\n",
    "también con probabilidad 1/2. Vemos que el segundo cúbit ha sufrido una modificación de una forma *correlacionada* con el resultado obtenido de la medida del primero cúbit.  \n",
    "\n",
    "Es necesario remarcar que, a pesar de las apariencias, mediciones sobre el segundo cúbit, *no permiten desvelar* si el estado original era entrelazado o no. \n",
    "\n",
    "Efectivamente, en ambos casos  las probabilidades de medir $\\ket{0}$ o $\\ket{1}$ en el segundo cúbit son idénticamente iguales a $1/2$. Sin embargo, el entrelazamiento introduce un tipo de correlaciones muy sutiles que se pueden detectar haciendo experimentos sofisticados, como lo que conducen a las desigualdades de Bell. "
   ]
  },
  {
   "cell_type": "markdown",
   "metadata": {},
   "source": [
    "**Ejercicio**: repite el argumento anterior con un estados bi-cúbit genérico. Después de medir en el primer cúbit,  obtén los estados  y las probabilidades finales de obtener $\\ket{0}$ ó $\\ket{1}$ midiendo sobre el segundo cúbit."
   ]
  },
  {
   "cell_type": "markdown",
   "metadata": {},
   "source": [
    "<a id=\"circuitos\"></a>\n",
    "<table width=\"100%\">\n",
    "    <td style=\"font-size:30px;font-family:Helvetica;text-align:left;background-color:rgba(12, 43, 337, 0.3);\">\n",
    "<b>Circuitos multi-cúbit</b>\n",
    "</table>"
   ]
  },
  {
   "cell_type": "markdown",
   "metadata": {},
   "source": [
    "#### Registros multi-cúbit"
   ]
  },
  {
   "cell_type": "markdown",
   "metadata": {},
   "source": [
    "Sea $\\ket{q_{n-1}q_{n-2}...q_1q_0}$ un estado multicúbit de la base computacional $q_{i} = 0,1$. Este estado \n",
    "se propaga a lo largo de un circuito de forma que cada línea representa un espacio de Hilbert. La asignación que se hace en qiskit coloca el cúbit menos (más) relevante $q_0$ ($q_{n-1}$) en la  línea superior (inferior). Esto es\n",
    "\n",
    "- Qiskit\n",
    "<br>\n",
    "<br>\n",
    "<div>\n",
    "<img src=\"images/Multicubit_circ.png\" width=\"220\"/>\n",
    "</div>\n",
    "<br>\n",
    "<br>\n",
    "\n",
    "Esta ordenación en un circuito es la inversa de la que tradicionalmente (siguiendo la influencia del libro de Nielsen Chuang) se utiliza en la literatura. \n",
    "\n",
    "- Nielsen Chuang\n",
    "\n",
    "<br>\n",
    "<br>\n",
    "<div>\n",
    "<img src=\"images/Multicubit_circ_NC.png\" width=\"220\"/>\n",
    "</div>\n",
    "<br>\n",
    "<br>\n"
   ]
  },
  {
   "cell_type": "markdown",
   "metadata": {},
   "source": [
    "#### Circuitos con múltiples cúbits y medidas en Qiskit"
   ]
  },
  {
   "cell_type": "markdown",
   "metadata": {},
   "source": [
    "vamos a realizar un verdadero experimento de medida sobre un multi-cúbit real. "
   ]
  },
  {
   "cell_type": "code",
   "execution_count": null,
   "metadata": {},
   "outputs": [],
   "source": [
    "from qiskit import QuantumCircuit, QuantumRegister, ClassicalRegister\n",
    "import numpy as np\n",
    "\n",
    "'''definimos 3 registros cuánticos y 3 clásicos'''\n",
    "qr = QuantumRegister(3,name='q')\n",
    "cr = ClassicalRegister(3,name='c')\n",
    "\n",
    "'''definimos un estado de entrada dando la lista de sus 2^3 = 8 componentes'''\n",
    "e_init =[1/np.sqrt(4),1/np.sqrt(4),0,0,1/np.sqrt(2),0,0,0]\n",
    "#e_init=[0,0,0,0,0,0,0,1]\n",
    "''' es importante que esté normalizado '''\n",
    "print('amplitudes =', e_init)\n",
    "\n",
    "'''creamos un circuito que inicializa el estado'''\n",
    "qc = QuantumCircuit(qr,cr)\n",
    "\n",
    "qc.initialize(e_init,qr)\n",
    "qc.h(1)\n",
    "\n",
    "'''y le añadimos una instrucción de medida'''\n",
    "qc.measure(qr,cr)\n",
    "\n",
    "qc.draw(output='mpl')"
   ]
  },
  {
   "cell_type": "markdown",
   "metadata": {},
   "source": [
    "La manera de tener acceso a las amplitudes es midiendo repetidas veces y reconstruyendo la función de probabilidad"
   ]
  },
  {
   "cell_type": "code",
   "execution_count": 1,
   "metadata": {},
   "outputs": [
    {
     "ename": "NameError",
     "evalue": "name 'qc' is not defined",
     "output_type": "error",
     "traceback": [
      "\u001b[0;31m---------------------------------------------------------------------------\u001b[0m",
      "\u001b[0;31mNameError\u001b[0m                                 Traceback (most recent call last)",
      "\u001b[0;32m<ipython-input-1-2c1ed6461187>\u001b[0m in \u001b[0;36m<module>\u001b[0;34m\u001b[0m\n\u001b[1;32m      3\u001b[0m \u001b[0;34m\u001b[0m\u001b[0m\n\u001b[1;32m      4\u001b[0m \u001b[0;31m#execute\u001b[0m\u001b[0;34m\u001b[0m\u001b[0;34m\u001b[0m\u001b[0;34m\u001b[0m\u001b[0m\n\u001b[0;32m----> 5\u001b[0;31m \u001b[0mjob\u001b[0m\u001b[0;34m=\u001b[0m\u001b[0mexecute\u001b[0m\u001b[0;34m(\u001b[0m\u001b[0mqc\u001b[0m\u001b[0;34m,\u001b[0m\u001b[0mbackend\u001b[0m\u001b[0;34m=\u001b[0m\u001b[0mM_simulator\u001b[0m\u001b[0;34m,\u001b[0m\u001b[0mshots\u001b[0m\u001b[0;34m=\u001b[0m\u001b[0;36m4096\u001b[0m\u001b[0;34m)\u001b[0m \u001b[0;31m# Hacemos la simulación 4096 veces )\u001b[0m\u001b[0;34m\u001b[0m\u001b[0;34m\u001b[0m\u001b[0m\n\u001b[0m\u001b[1;32m      6\u001b[0m \u001b[0;34m\u001b[0m\u001b[0m\n\u001b[1;32m      7\u001b[0m \u001b[0;34m\u001b[0m\u001b[0m\n",
      "\u001b[0;31mNameError\u001b[0m: name 'qc' is not defined"
     ]
    }
   ],
   "source": [
    "from qiskit import Aer, execute \n",
    "M_simulator = Aer.get_backend('qasm_simulator')\n",
    "\n",
    "#execute\n",
    "job=execute(qc,backend=M_simulator,shots=4096) # Hacemos la simulación 4096 veces )\n",
    "\n",
    "\n",
    "'otra forma de obtener el \"job\" a partir de run, una función de M_simulator'\n",
    "#qcobj = transpile(qc, M_simulator )      # Crea un objeto compilado a partir del circuito  \n",
    "#job = M_simulator.run(qcobj, shots=4096) # Hacemos la simulación 4096 veces \n",
    "\n",
    "#resultado  \n",
    "resultado=job.result()\n",
    "#frecuencias\n",
    "frecuencias= resultado.get_counts()        \n",
    "\n",
    "from qiskit.tools.visualization import plot_histogram\n",
    "plot_histogram(frecuencias) # Mostramos un histograma de resultados"
   ]
  },
  {
   "cell_type": "markdown",
   "metadata": {},
   "source": [
    "Vamos a generar diccionarios con las probabilidades y la amplitudes de cada estado"
   ]
  },
  {
   "cell_type": "code",
   "execution_count": null,
   "metadata": {},
   "outputs": [],
   "source": [
    "def prob_ampl_dict(frecuencias): # frecuencias_dict es un diccionario con la estadística de resultados\n",
    "    \n",
    "    prob_dict=frecuencias.copy()\n",
    "    amp_dict=frecuencias.copy()\n",
    "    keys = list(frecuencias.keys())\n",
    "    \n",
    "    N=sum(frecuencias.values())\n",
    "    probabilidades = [v/N for v in frecuencias.values()] # this is a list\n",
    "    if len(probabilidades) == 1:  # we need two amplitudes (one qubit), so in this case, pad with a 0\n",
    "        probabilidades.append(0)\n",
    "\n",
    "    for i in range(len(keys)):\n",
    "        prob_dict[keys[i]]= probabilidades[i]\n",
    "        amp_dict[keys[i]]= np.sqrt(probabilidades[i])#las amplitudes, sólo en valor absoluto, las fases no son accesibles\n",
    "    \n",
    "    return  prob_dict, amp_dict\n",
    "\n",
    "prob_dict, amp_dict = prob_ampl_dict(frecuencias)\n",
    "\n",
    "print(\"probabilidades =\",prob_dict )\n",
    "print(\"amplitudes =\", amp_dict )"
   ]
  },
  {
   "cell_type": "code",
   "execution_count": null,
   "metadata": {},
   "outputs": [],
   "source": []
  }
 ],
 "metadata": {
  "kernelspec": {
   "display_name": "Python 3",
   "language": "python",
   "name": "python3"
  },
  "language_info": {
   "codemirror_mode": {
    "name": "ipython",
    "version": 3
   },
   "file_extension": ".py",
   "mimetype": "text/x-python",
   "name": "python",
   "nbconvert_exporter": "python",
   "pygments_lexer": "ipython3",
   "version": "3.8.5"
  },
  "varInspector": {
   "cols": {
    "lenName": 16,
    "lenType": 16,
    "lenVar": 40
   },
   "kernels_config": {
    "python": {
     "delete_cmd_postfix": "",
     "delete_cmd_prefix": "del ",
     "library": "var_list.py",
     "varRefreshCmd": "print(var_dic_list())"
    },
    "r": {
     "delete_cmd_postfix": ") ",
     "delete_cmd_prefix": "rm(",
     "library": "var_list.r",
     "varRefreshCmd": "cat(var_dic_list()) "
    }
   },
   "types_to_exclude": [
    "module",
    "function",
    "builtin_function_or_method",
    "instance",
    "_Feature"
   ],
   "window_display": false
  }
 },
 "nbformat": 4,
 "nbformat_minor": 5
}
