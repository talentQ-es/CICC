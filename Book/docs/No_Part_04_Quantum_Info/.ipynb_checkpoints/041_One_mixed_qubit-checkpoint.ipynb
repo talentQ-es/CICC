{
 "cells": [
  {
   "cell_type": "markdown",
   "metadata": {
    "slideshow": {
     "slide_type": "slide"
    }
   },
   "source": [
    "<img   src=\"../figuras/logo/TalentQ_LogoPosNegro.png\" align=center  width=\"12%\"/>\n",
    "<br>\n",
    "\n",
    "<table width=\"100%\">\n",
    "<td style=\"font-size:400%px;font-style:italic;text-align:right;background-color:rgba(0, 160, 120,0.6)\">\n",
    "Circuitos para computación clásica\n",
    "</td></table>\n",
    "\n",
    "\n",
    "\n",
    "$ \\newcommand{\\bra}[1]{\\langle #1|} $\n",
    "$ \\newcommand{\\ket}[1]{|#1\\rangle} $\n",
    "$ \\newcommand{\\braket}[2]{\\langle #1|#2\\rangle} $\n",
    "$ \\newcommand{\\i}{{\\color{blue} i}} $ \n",
    "$ \\newcommand{\\Hil}{{\\mathbb H}} $\n",
    "$ \\newcommand{\\cg}[1]{{\\rm C}#1} $\n",
    "$ \\newcommand{\\tr}{{\\rm Tr}\\,} $\n",
    "$ \\newcommand{\\boldsig}{\\boldsymbol{\\sigma}} $"
   ]
  },
  {
   "cell_type": "code",
   "execution_count": 4,
   "metadata": {
    "slideshow": {
     "slide_type": "slide"
    }
   },
   "outputs": [],
   "source": [
    "%run ../macro_CURSO.py"
   ]
  },
  {
   "cell_type": "markdown",
   "metadata": {
    "slideshow": {
     "slide_type": "skip"
    }
   },
   "source": [
    "- [Density matrix of a mixed qubit](#densmat_oneq)\n",
    "\n"
   ]
  },
  {
   "cell_type": "markdown",
   "metadata": {
    "slideshow": {
     "slide_type": "slide"
    }
   },
   "source": [
    "<a id=\"densmat_oneq\"></a>\n",
    "<table width=\"100%\">\n",
    "    <td style=\"font-size:250%px;font-family:Helvetica;text-align:left;background-color:rgba(12, 43, 337, 0.3);\">\n",
    "<b> Density matrix of a mixed qubit </b>\n",
    "</table>"
   ]
  },
  {
   "cell_type": "markdown",
   "metadata": {
    "slideshow": {
     "slide_type": "slide"
    }
   },
   "source": [
    "Imagine $\\ket{0}$ and $\\ket{1}$ are the possible outcomes of a measurement experiment. \n",
    "\n",
    "Suppose we find the result $\\ket{0}$, but the apparatus is only  reliable with some probability $p< 1$.\n",
    "\n",
    "This means de *best description* we can make of our state is\n",
    "\n",
    "$$\n",
    "\\hbox{with probability}~~~~\\rightarrow  \\left\\{ \\begin{array}{lcr} p  &\\rightarrow & \\ket{0}\\\\ 1-p  &\\rightarrow & \\ket{1}\n",
    "\\end{array}\\right.\n",
    "$$\n"
   ]
  },
  {
   "cell_type": "markdown",
   "metadata": {
    "slideshow": {
     "slide_type": "fragment"
    }
   },
   "source": [
    "With this we can write down a density matrix\n",
    "\n",
    "$$\n",
    "\\rho = p \\ket{0}\\bra{0} + (1-p) \\ket{1}\\bra{1} = \\begin{pmatrix} p & 0 \\\\ 0 & 1-p \\end{pmatrix}\n",
    "$$\n"
   ]
  },
  {
   "cell_type": "markdown",
   "metadata": {
    "slideshow": {
     "slide_type": "slide"
    }
   },
   "source": [
    "This is a density matrix \n",
    "\n",
    "$$\n",
    "\\rho = \\rho^\\dagger ~~~~~, ~~~~~\\tr \\rho = 1\n",
    "$$\n",
    "\n",
    "but it is not pure\n",
    "\n",
    "$$\n",
    "\\tr \\rho^2 = 2p(p-1)+1 < 1\n",
    "$$\n",
    "\n",
    "unless $p=1$. "
   ]
  },
  {
   "cell_type": "markdown",
   "metadata": {
    "slideshow": {
     "slide_type": "slide"
    }
   },
   "source": [
    "Notice that we can give the previous density matrix in a form that makes manifest that $\\ket{0},\\ket{1}$ are measured by $Z$\n",
    "\n",
    "$$\n",
    "\\rho =\\frac{1}{2} \\left( I  + (2p-1) \\, Z \\rule{0mm}{4mm}\\right) = \\frac{1}{2} \\left( I  + (2p-1)  \\, \\sigma_z\\rule{0mm}{4mm}\\right) =  \\frac{1}{2} (I  + {\\bf u} \\cdot \\boldsig ) \n",
    "$$\n",
    "\n",
    "with $u = (0,0,2p-1)$ a vector along the $z$ direction.\n",
    "\n",
    "\n",
    " "
   ]
  },
  {
   "cell_type": "markdown",
   "metadata": {
    "slideshow": {
     "slide_type": "slide"
    }
   },
   "source": [
    "Let us generalize this to an arbitrary qubit. \n",
    "\n",
    "<div class=\"alert alert-block alert-info\",text-align:center>\n",
    "<p style=\"text-align: left ;color: navy;\">  \n",
    "<b> Theorem</b> : \n",
    "the most general matrix $\\rho \\in  Lin({\\mathbb C}^2)$ which is:\n",
    "    <i>positive semi-definite, hermitian</i>  and with unit trace,\n",
    "has the form \n",
    "<br>\n",
    "<br>\n",
    "$$\n",
    "\\rho = \\frac{1}{2} \\left( I +\\mathbf{u} \\cdot \\boldsig \\right)\\, \n",
    "$$\n",
    "with ${\\bf u} = (u_x, u_y, u_z)$ a three dimensional vector\n"
   ]
  },
  {
   "cell_type": "markdown",
   "metadata": {
    "slideshow": {
     "slide_type": "slide"
    }
   },
   "source": [
    "The eigenvalues of $\\rho$ are \n",
    "$$\n",
    "\\lambda_\\pm = \\frac{1}{2}\\left( 1\\pm |\\mathbf{u}|   \\right) \n",
    "$$\n",
    "hence $|\\mathbf{u}| \\leq 1 $ (Bloch ball).\n"
   ]
  },
  {
   "cell_type": "markdown",
   "metadata": {
    "slideshow": {
     "slide_type": "fragment"
    }
   },
   "source": [
    "<br>\n",
    "- If $|\\mathbf{u}|  = 1$ then $\\lambda_+=1, \\lambda_-=0$ and hence $\\rho^2 = \\rho \\Rightarrow \\rho$ is pure. \n",
    "<br>"
   ]
  },
  {
   "cell_type": "markdown",
   "metadata": {
    "slideshow": {
     "slide_type": "fragment"
    }
   },
   "source": [
    "<br>\n",
    "- If $|\\mathbf{u}|  < 1$ then $\\lambda_\\pm^2 < \\lambda_\\pm$ and $\\rho^2 \\neq  \\rho \\Rightarrow \\rho$ is mixed.\n",
    "<br>"
   ]
  },
  {
   "cell_type": "markdown",
   "metadata": {
    "slideshow": {
     "slide_type": "fragment"
    }
   },
   "source": [
    "<br>\n",
    "- For $\\mathbf{u} = 0$ the density matrix is maximally mixed $\\rho =\\frac{1}{2}I$.\n",
    "<br>"
   ]
  },
  {
   "cell_type": "markdown",
   "metadata": {
    "slideshow": {
     "slide_type": "slide"
    }
   },
   "source": [
    "Given a density matrix $\\rho$, the associated vector $\\mathbf{u}$ can be obtained by measuring the *expectation value*\n",
    "of the 3 Pauli matrices\n",
    "<br>\n",
    "<br>\n",
    "\\begin{eqnarray}\n",
    "\\langle \\sigma_i \\rangle_\\rho &=& \\tr ( \\sigma_i \\rho) = u_i\\, \n",
    "\\end{eqnarray}\n"
   ]
  },
  {
   "cell_type": "code",
   "execution_count": null,
   "metadata": {},
   "outputs": [],
   "source": []
  },
  {
   "cell_type": "markdown",
   "metadata": {
    "slideshow": {
     "slide_type": "slide"
    }
   },
   "source": [
    "<a id=\"densmat_oneq\"></a>\n",
    "<table width=\"100%\">\n",
    "    <td style=\"font-size:250%px;font-family:Helvetica;text-align:left;background-color:rgba(12, 43, 337, 0.3);\">\n",
    "<b> Density matrix of a mixed multi-qubit </b>\n",
    "</table>"
   ]
  },
  {
   "cell_type": "markdown",
   "metadata": {},
   "source": [
    "We know that n-qúbits are nothing but vector in a higher $2^n$-dimensional tensor product Hilbert state.\n",
    "For example, a general $2$-qubit\n",
    "\n",
    "$$\n",
    "\\ket{u} = \\sum_{i,j=0}^1u_{ij} \\ket{i}\\otimes\\ket{j} = u_{00} \\ket{00} + u_{01}\\ket{01} + u_{10}\\ket{10} + u_{11}\\ket{11}\n",
    "$$"
   ]
  },
  {
   "cell_type": "code",
   "execution_count": null,
   "metadata": {},
   "outputs": [],
   "source": []
  }
 ],
 "metadata": {
  "celltoolbar": "Slideshow",
  "kernelspec": {
   "display_name": "Python 3 (ipykernel)",
   "language": "python",
   "name": "python3"
  },
  "language_info": {
   "codemirror_mode": {
    "name": "ipython",
    "version": 3
   },
   "file_extension": ".py",
   "mimetype": "text/x-python",
   "name": "python",
   "nbconvert_exporter": "python",
   "pygments_lexer": "ipython3",
   "version": "3.9.16"
  },
  "varInspector": {
   "cols": {
    "lenName": 16,
    "lenType": 16,
    "lenVar": 40
   },
   "kernels_config": {
    "python": {
     "delete_cmd_postfix": "",
     "delete_cmd_prefix": "del ",
     "library": "var_list.py",
     "varRefreshCmd": "print(var_dic_list())"
    },
    "r": {
     "delete_cmd_postfix": ") ",
     "delete_cmd_prefix": "rm(",
     "library": "var_list.r",
     "varRefreshCmd": "cat(var_dic_list()) "
    }
   },
   "types_to_exclude": [
    "module",
    "function",
    "builtin_function_or_method",
    "instance",
    "_Feature"
   ],
   "window_display": false
  }
 },
 "nbformat": 4,
 "nbformat_minor": 4
}
