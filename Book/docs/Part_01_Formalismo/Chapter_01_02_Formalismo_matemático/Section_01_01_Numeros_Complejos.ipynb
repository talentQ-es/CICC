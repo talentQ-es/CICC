{
 "cells": [
  {
   "cell_type": "markdown",
   "id": "65fe56bd",
   "metadata": {
    "slideshow": {
     "slide_type": "slide"
    }
   },
   "source": [
    "<figure><right>\n",
    "<img   src=\"../../figuras/logos/Logo_TalentQ_Azul.png\" align=right  width=\"150px\"/>\n",
    "</right></figure>\n",
    "\n",
    "\n",
    "# Los números complejos, no te quedan tan lejos\n",
    "\n",
    "\n",
    "\n",
    "$ \\newcommand{\\bra}[1]{\\langle #1|} $\n",
    "$ \\newcommand{\\ket}[1]{|#1\\rangle} $\n",
    "$ \\newcommand{\\braket}[2]{\\langle #1|#2\\rangle} $\n",
    "$ \\newcommand{\\i}{{ i}} $ \n",
    "$ \\newcommand{\\Hil}{{\\mathbb H}} $\n",
    "\n",
    " "
   ]
  },
  {
   "cell_type": "code",
   "execution_count": 1,
   "id": "3b512046",
   "metadata": {
    "slideshow": {
     "slide_type": "slide"
    },
    "tags": [
     "hide-input"
    ]
   },
   "outputs": [],
   "source": [
    "%run ../../macro_tQ.py\n",
    "import sys\n",
    "sys.path.append('../../')\n",
    "import macro_tQ as tQ\n",
    "\n",
    "import numpy as np"
   ]
  },
  {
   "cell_type": "markdown",
   "id": "dd67cc08",
   "metadata": {
    "slideshow": {
     "slide_type": "slide"
    }
   },
   "source": [
    "## Introducción\n"
   ]
  },
  {
   "cell_type": "markdown",
   "id": "53d7bc8c",
   "metadata": {
    "slideshow": {
     "slide_type": "-"
    }
   },
   "source": [
    "La mecánica cuántica no se entiende sin los números complejos. Para introducirlos, empezaremos recordando que el cuadrado de un número real *siempre* es positivo $a^2 >0$.\n",
    "Por ejemplo $~~2^2 =  4~~$ pero también $~~(-2)^2 = 4~~$. Por eso, decimos que la raíz cuadrada de un número sólo existe si dicho número es positivo.  Es decir, $\\sqrt{4}=\\pm 2$, mientras que, no sabríamos dar sentido a \n",
    "\n",
    "$$\\sqrt{-4}= \\, ?$$\n"
   ]
  },
  {
   "cell_type": "markdown",
   "id": "6f96edb5",
   "metadata": {
    "slideshow": {
     "slide_type": "fragment"
    }
   },
   "source": [
    "$~~~$ <i>Pregunta</i>: $~$ ¿cómo podríamos definir la  raíz cuadrada de un número real negativo? \n",
    "    \n",
    "$~~~$ <i>Respuesta</i>: $~$  para hacerlo, es necesario  ampliar el conjunto de los números reales \n"
   ]
  },
  {
   "cell_type": "markdown",
   "id": "055912a8",
   "metadata": {
    "slideshow": {
     "slide_type": "slide"
    }
   },
   "source": [
    "<div class=\"alert alert-block alert-info\",text-align:center>\n",
    "<p style=\"text-align: left; color: navy\"> \n",
    "<b>Definición</b>: <i>(número $i$) </i>\n",
    "<br>\n",
    "se postula la existencia de un <i>nuevo número</i>, $~i$, que es la solución única de la ecuación $~$\n",
    "<br><br>\n",
    "$$ i^2 = -1$$\n",
    "</p>\n",
    "</div>\n",
    "\n",
    " \n"
   ]
  },
  {
   "cell_type": "markdown",
   "id": "9973866e",
   "metadata": {
    "slideshow": {
     "slide_type": "fragment"
    }
   },
   "source": [
    "Equivalentemente podíamos haber requerido que  $\\i = \\sqrt{-1}$. \n",
    "Ahora podemos dar sentido  a la raíz cuadrada de un número negativo. Por ejemplo,\n",
    "$(2i)(2i) = 4 i^2 = - 4$ implica que \n",
    "\n",
    "$$\n",
    "\\sqrt{-4} = 2i\n",
    "$$\n",
    "\n",
    "Con el número $i$ se opera igual que con los números reales\n",
    "\n",
    "$$\n",
    "\\begin{array}{rcl}\n",
    "i + i &=& 2i \\\\ \\rule{0mm}{6mm}\n",
    "i - i &=& 0 \\\\ \\rule{0mm}{6mm}\n",
    "i + 2i &=& 3 i \\\\ \\rule{0mm}{6mm}\n",
    "i^3  &=& i*i*i = i^2 * i = -i\\\\ \\rule{0mm}{6mm}\n",
    "\\displaystyle \\frac{i}{i} &=& 1 \\rule{0mm}{6mm}\n",
    "\\end{array}\n",
    "$$\n",
    "\n",
    "Observar que el *inverso multiplicativo*  $1/i$ también es $-i$\n",
    "\n",
    "\\begin{eqnarray}\n",
    "\\frac{i}{i}  &=&   1 \\nonumber\\\\\n",
    "i (-i) &=& - i^2  =  1\n",
    "\\end{eqnarray}\n",
    "\n",
    "por tanto hay una identificación importante\n",
    "\n",
    "$$ -i = \\frac{1}{i} $$"
   ]
  },
  {
   "cell_type": "markdown",
   "id": "cef2441e",
   "metadata": {
    "slideshow": {
     "slide_type": "fragment"
    }
   },
   "source": [
    "<div class=\"alert alert-block alert-warning\">\n",
    "<p style=\"color: #4B5320;\">\n",
    "<b>Resumen</b>: \n",
    "<br>\n",
    "La solución al problema planteado consiste en <i>extender</i> el conjunto de números reales ${\\mathbb R}$ al de los complejos ${\\mathbb C}$ que, ahora, incluyen el número $i$\n",
    "</div>  "
   ]
  },
  {
   "cell_type": "markdown",
   "id": "a2024d42",
   "metadata": {
    "slideshow": {
     "slide_type": "slide"
    }
   },
   "source": [
    "## Formas cartesiana y polar   \n",
    "\n",
    "### Forma Cartesiana\n",
    "\n",
    "\n",
    "\n",
    "\n",
    "\n",
    " Un *número complejo*, $z \\in {\\mathbb C}$, se representa en *forma cartesiana*  mediante <u>dos \n",
    " números reales $x,y\\in {\\mathbb R}$</u> \n",
    "<br>\n",
    "\n",
    "$$\n",
    "z = x + \\i y   ~~~~ \\hbox{donde}~~~ \n",
    "\\left\\{\\begin{array}{cl} x &\\hbox{es la }   parte~ real\\\\\n",
    "y & \\hbox{es la } parte~imaginaria\n",
    "\\end{array}\n",
    "\\right.\n",
    "$$\n",
    "\n",
    "#### Numeros complejos en *python*:\n",
    " \n",
    "En *python*, el número  imaginario $\\i$ se representa con la letra *j*.   Añadiendo *+0j* convertimos un <i>float</i> en un <i>complex</i>\n"
   ]
  },
  {
   "cell_type": "code",
   "execution_count": 2,
   "id": "663a3177",
   "metadata": {
    "slideshow": {
     "slide_type": "fragment"
    }
   },
   "outputs": [
    {
     "name": "stdout",
     "output_type": "stream",
     "text": [
      "False\n",
      "True\n"
     ]
    }
   ],
   "source": [
    "print(isinstance(1,complex))\n",
    "print(isinstance(1+0j,complex))"
   ]
  },
  {
   "cell_type": "markdown",
   "id": "c972fc06",
   "metadata": {},
   "source": [
    "Un número complejo se puede visualizar como un vector de componentes $(x,y)$ en un plano,  el *plano complejo*. La parte real, $x$, es la coordenada en el *eje horizontal*, y la parte imaginaria, $y$,  es la coordenada en el *eje vertical*.\n"
   ]
  },
  {
   "cell_type": "code",
   "execution_count": 3,
   "id": "8371787b",
   "metadata": {
    "slideshow": {
     "slide_type": "slide"
    }
   },
   "outputs": [
    {
     "name": "stdout",
     "output_type": "stream",
     "text": [
      "z=x+iy= (3+2j)\n"
     ]
    },
    {
     "data": {
      "image/png": "[encoded data removed]",
      "text/plain": [
       "<Figure size 576x576 with 1 Axes>"
      ]
     },
     "metadata": {
      "needs_background": "light"
     },
     "output_type": "display_data"
    }
   ],
   "source": [
    "'''Forma cartesiana''' \n",
    "z = 3 + 2j\n",
    "\n",
    "'''Extraemos las partes real e imaginaria'''\n",
    "x=z.real\n",
    "y=z.imag\n",
    "print('z=x+iy=',x + 1j*y)\n",
    "\n",
    "''' Representamos en el plano complejo '''\n",
    "tQ.plot_complex_number(z,show_name=False,vcolor=\"b\",sides=False,side_color=\"b\",lwidth=1)"
   ]
  },
  {
   "cell_type": "markdown",
   "id": "8a2e431c",
   "metadata": {
    "slideshow": {
     "slide_type": "slide"
    }
   },
   "source": [
    "### Forma Polar\n",
    "\n",
    "<div class=\"alert alert-block alert-info\",text-align:center>\n",
    "<p style=\"text-align: center;\"> <p style=\"text-align: left ;color: navy;\">  \n",
    "<b>Teorema</b>: <i>(Fórmula de Euler)</i>\n",
    "<br>\n",
    "para todo ángulo $\\theta \\in \\mathbb{R}$ se cumple la siguiente identidad matemática\n",
    "<br>\n",
    "<br>\n",
    "$$\n",
    "\\cos\\theta + i \\sin \\theta = e^{i\\theta} \n",
    "$$\n",
    "</div>\n",
    "\n",
    "La fórmula de Euler ahora nos permite representar cualquier número complejo $z=x + \\i y$  en *forma polar* \n",
    "\n",
    "$$\n",
    "z = \\rho e^{i\\theta} = \\rho (\\cos\\theta + \\i \\sin\\theta)  \n",
    "$$\n",
    "\n",
    "Los números reales $\\rho$ y $\\theta$ se denominan *módulo* y *fase*.\n",
    "Las componentes cartesianas son\n",
    "\n",
    "$$x=\\rho\\cos\\theta ~~,~~y=\\rho\\sin\\theta$$\n",
    "\n",
    "y por tanto $\\rho^2 = x^2 + y^2$. \n",
    "De la periodicidad de las funciones trigonométricas\n",
    "\n",
    "$$\n",
    "\\sin\\theta  = \\sin(\\theta + 2\\pi)~~~~~~~\\cos\\theta  = \\cos(\\theta +2\\pi)\n",
    "$$ \n",
    "\n",
    "se sigue que las fases $\\theta$ y $\\theta+ 2\\pi n$ con $n=0,1,2,...$ representan el mismo número complejo\n",
    "\n",
    "$$\n",
    "z = \\rho e^{i\\theta} = \\rho e^{i(\\theta + 2\\pi n)} \n",
    "$$"
   ]
  },
  {
   "cell_type": "code",
   "execution_count": 4,
   "id": "d3cf646f",
   "metadata": {
    "slideshow": {
     "slide_type": "slide"
    }
   },
   "outputs": [
    {
     "name": "stdout",
     "output_type": "stream",
     "text": [
      "z= (-1.602+1.197j)\n"
     ]
    },
    {
     "data": {
      "image/png": "[encoded data removed]",
      "text/plain": [
       "<Figure size 576x576 with 1 Axes>"
      ]
     },
     "metadata": {
      "needs_background": "light"
     },
     "output_type": "display_data"
    }
   ],
   "source": [
    "'''Forma polar'''\n",
    "r=2\n",
    "th=2.5\n",
    "z = r*np.exp(th*1j)\n",
    "print('z=',np.round(z,3))\n",
    "\n",
    "tQ.plot_complex_number(z,show_name=False,vcolor=\"b\",sides=False,side_color=\"b\",lwidth=1)"
   ]
  },
  {
   "cell_type": "markdown",
   "id": "4a5d6738",
   "metadata": {
    "slideshow": {
     "slide_type": "slide"
    }
   },
   "source": [
    "Usar la forma polar es útil en situaciones en las que aparecen productos y potencias del número $i$\n",
    "\n",
    "\\begin{eqnarray}\n",
    "i &=& e^{i\\pi/2} \\\\ \\rule{0mm}{8mm}\n",
    "-1 &=& i^2 =  e^{i\\pi} \\\\ \\rule{0mm}{8mm}\n",
    "-i &=& i^3 = e^{3i\\pi/2} =e^{-i\\pi/2} \\\\ \n",
    "\\end{eqnarray}"
   ]
  },
  {
   "cell_type": "markdown",
   "id": "d66aa6ad",
   "metadata": {},
   "source": [
    "<div class=\"alert alert-block alert-success\">\n",
    "<b>Ejercicio</b>:\n",
    "<br>\n",
    "intenta demostrar las siguientes igualdades \n",
    "\n",
    "$$\n",
    "\\begin{array}{rcl}\n",
    "i^i &=&  e^{-\\pi/2}  \\\\  \\rule{0mm}{4mm}\n",
    "i^{2(1+i)} &=&  -e^{-\\pi}  \n",
    "\\end{array}\n",
    "$$ \n",
    "</div>\n",
    "\n",
    "<details><summary><p style=\"color:blue\" > >> <i>Solución</i> </p></summary>\n",
    "\n",
    "$$\n",
    "\\begin{array}{rcl}\n",
    "i^i &=& (e^{i\\pi/2})^i = e^{i^2 \\pi/2} = e^{-\\pi/2}  \\\\  \\rule{0mm}{6mm}\n",
    "i^{2(1+i)} &=& i^{2 + 2i} = i^2\\, i^{2i}  = i^2 \\, (i^{i})^2 =(-1) (e^{-\\pi/2})^2 = -e^{-\\pi}\n",
    "\\end{array}\n",
    "$$ \n",
    "\n",
    "</details>"
   ]
  },
  {
   "cell_type": "markdown",
   "id": "15b43f18",
   "metadata": {
    "slideshow": {
     "slide_type": "slide"
    }
   },
   "source": [
    "### Conversión entre formas cartesiana y polar\n",
    "\n",
    "La conversión de la representación *polar a cartesiana* es muy sencilla\n",
    "gracias a las fórmula de Euler\n",
    "\n",
    "\n",
    "$$\n",
    "z = r e^{i\\theta} = x + i y ~~~\\hbox{ con }  ~~~\\left\\{\\begin{array}{l} x=r \\cos \\theta \\\\ \\rule{0mm}{4mm} y = r\\sin \\theta\n",
    "\\end{array} \\right.\n",
    "$$\n",
    "\n",
    "La conversión inversa, *de cartesiana a polar* es un poco más delicada. Formalmente sería\n",
    "\n",
    "\n",
    "$$\n",
    "z = x + i y  = r e^{i\\theta} ~~~ \\hbox{ con } ~~~ \\left\\{\\begin{array}{l} r=\\sqrt{x^2+y^2} \\\\  \\rule{0mm}{4mm} \\theta = \\arctan(y/x)\n",
    "\\end{array} \\right.\n",
    "$$\n",
    "\n",
    "A la hora de la verdad hay que fijar el signo de la función $\\arctan(y/x)$. La siguiente función examina esto mirando a los signos de $x$ y de $y$ para saber en qué cuadrante estamos."
   ]
  },
  {
   "cell_type": "code",
   "execution_count": 5,
   "id": "1b1ce76c",
   "metadata": {
    "slideshow": {
     "slide_type": "slide"
    }
   },
   "outputs": [],
   "source": [
    "'Conversión de Cartesianas a Polares'\n",
    "def cartes2polar(z):\n",
    "\n",
    "    r = np.abs(z)    \n",
    "    y = z.imag\n",
    "    x = z.real\n",
    "    \n",
    "    \n",
    "    if r==0:\n",
    "        print('el número 0+i0 no admite representación polar')\n",
    "        th='indefinido'\n",
    "    elif x==0 and y>0:  #si x=0 hay que dar la solución a mano, porque arctan(y/0) no está definido\n",
    "        th=np.pi/2\n",
    "    elif x==0 and y<0:\n",
    "        th=3*np.pi/2  \n",
    "    elif x>0 and y>=0:   #primer cuadrante\n",
    "        th=np.arctan(y/x)\n",
    "    elif x<0 and y>=0:   #segundo cuadrante\n",
    "        th=np.arctan(-y/x)+np.pi/2\n",
    "    elif x<0 and y<0:    #tercer cuadrante\n",
    "        th=np.arctan(y/x)+np.pi\n",
    "    elif x>0 and y<0:    #cuarto cuadrante\n",
    "         th=np.arctan(-y/x)+3*np.pi/2.       \n",
    "            \n",
    "    return r,th\n",
    "\n",
    "#el signo correcto también se puede conseguir usando la funcion np.arctan2(x,y)"
   ]
  },
  {
   "cell_type": "markdown",
   "id": "f7454a06",
   "metadata": {},
   "source": [
    "<div class=\"alert alert-block alert-success\">\n",
    "<b>Ejercicio</b>:\n",
    "<br>\n",
    "Calcula  la forma polar del número complejo $z = 4 + 3 i$ a mano y verificalo con la función que acabamos de definir\n",
    "</div>"
   ]
  },
  {
   "cell_type": "code",
   "execution_count": 6,
   "id": "6684a694",
   "metadata": {
    "slideshow": {
     "slide_type": "-"
    }
   },
   "outputs": [
    {
     "name": "stdout",
     "output_type": "stream",
     "text": [
      "z= (2.63+1.44j)\n"
     ]
    },
    {
     "data": {
      "image/png": "[encoded data removed]",
      "text/plain": [
       "<Figure size 576x576 with 1 Axes>"
      ]
     },
     "metadata": {
      "needs_background": "light"
     },
     "output_type": "display_data"
    }
   ],
   "source": [
    "'A la inversa no es necesario definir ninguna funcion, ya que numpy directamente escribe un numero complejo en forma cartesiana'\n",
    "z = 3*np.exp(1j*0.5)\n",
    "print('z=',np.round(z,2))\n",
    "tQ.plot_complex_number(z,show_name=False,vcolor=\"b\",sides=False,side_color=\"b\",lwidth=1)"
   ]
  },
  {
   "cell_type": "markdown",
   "id": "7d9ea72b",
   "metadata": {
    "slideshow": {
     "slide_type": "slide"
    }
   },
   "source": [
    "### Conjugacion compleja\n",
    " \n",
    "Todo número complejo, $z$, lleva *asociado* otro, $z^*$, denominado el *complejo conjugado* que se obtiene cambiando $\\i \\to -\\i$\n",
    "<br>\n",
    "\n",
    "$$\n",
    "z = x+\\i y ~~~~\\leftrightarrow~~~~ z^* = x - \\i y \\hspace{2cm}\n",
    "$$\n",
    "\n",
    "Es evidente que $(z^*)^* = z$. Es decir, la conjugación compleja es una *involución*."
   ]
  },
  {
   "cell_type": "code",
   "execution_count": 7,
   "id": "bf3f2f3d",
   "metadata": {
    "slideshow": {
     "slide_type": "slide"
    }
   },
   "outputs": [
    {
     "name": "stdout",
     "output_type": "stream",
     "text": [
      "z* =  (2.63-1.44j)\n"
     ]
    },
    {
     "data": {
      "image/png": "[encoded data removed]",
      "text/plain": [
       "<Figure size 576x576 with 1 Axes>"
      ]
     },
     "metadata": {
      "needs_background": "light"
     },
     "output_type": "display_data"
    }
   ],
   "source": [
    "'''Conjugacion compleja'''\n",
    "zc = np.round(z.conjugate(),2)\n",
    "print('z* = ',zc)\n",
    "tQ.plot_complex_number(zc,show_name=False,vcolor=\"r\",sides=False,side_color=\"r\",lwidth=1)"
   ]
  },
  {
   "cell_type": "markdown",
   "id": "92632190",
   "metadata": {},
   "source": [
    "En forma polar la *conjugación compleja* se obtiene *cambiando el signo* de la fase\n",
    "<br>\n",
    "\n",
    "$$\n",
    "z = \\rho e^{i\\theta} =  \\rho \\cos\\theta + \\i \\rho \\sin\\theta ~~\\longleftrightarrow ~~ z^* = \\rho e^{-i\\theta} = \\rho \\cos\\theta - \\i \\rho \\sin\\theta \\hspace{4cm}\n",
    "$$"
   ]
  },
  {
   "cell_type": "markdown",
   "id": "2a5f3ca6",
   "metadata": {
    "slideshow": {
     "slide_type": "slide"
    }
   },
   "source": [
    "## Operaciones básicas  \n",
    "\n",
    "Los numeros complejos ${\\mathbb C}$ forman una estructura matemática, denominada *cuerpo*, que admiten dos operaciones *internas*: la *suma* y la *multiplicación*. Vamos a estudiarlas por separado\n",
    "\n",
    "### Suma\n",
    "\n",
    "En representación *cartesiana* se *suman las partes real e imaginaria por separado*\n",
    "\n",
    "$$\n",
    "(a + \\i b) + (c + \\i d) = (a+c) + \\i (b+d)\n",
    "$$ \n",
    "\n",
    "\n",
    "La resta es obvia, ya que $a,b,c,d$ pueden ser números negativos. "
   ]
  },
  {
   "cell_type": "code",
   "execution_count": 8,
   "id": "40c6a654",
   "metadata": {
    "scrolled": false,
    "slideshow": {
     "slide_type": "slide"
    }
   },
   "outputs": [
    {
     "name": "stdout",
     "output_type": "stream",
     "text": [
      "z1+z2= (3+6j)\n",
      "z1-z2= (-1+2j)\n",
      "************************************\n"
     ]
    },
    {
     "data": {
      "image/png": "[encoded data removed]",
      "text/plain": [
       "<Figure size 576x576 with 1 Axes>"
      ]
     },
     "metadata": {
      "needs_background": "light"
     },
     "output_type": "display_data"
    }
   ],
   "source": [
    "'''Suma en cartesianas'''\n",
    "\n",
    "z1 = 1+4j\n",
    "z2 = 2+2j\n",
    "\n",
    "'''Suma y resta'''\n",
    "zs = z1+z2\n",
    "zd = z1-z2\n",
    "\n",
    "print('z1+z2=',zs)\n",
    "print('z1-z2=',zd)\n",
    "print('************************************')\n",
    "\n",
    "\n",
    "tQ.plot_2D_plane(left=-2,right=4,up=6,down=-1) #cambiar las dimensiones para que encuadrar la figura\n",
    "tQ.draw_vector(z1.real,z1.imag,'b')\n",
    "tQ.draw_vector(z2.real,z2.imag,'b')\n",
    "tQ.draw_vector(zs.real,zs.imag,vcolor='r')\n",
    "tQ.draw_vector(zd.real,zd.imag,vcolor='g')\n"
   ]
  },
  {
   "cell_type": "markdown",
   "id": "eea2a57d",
   "metadata": {
    "slideshow": {
     "slide_type": "slide"
    }
   },
   "source": [
    "En *forma polar*, la suma de dos números complejos no admite ninguna simplificación, y deben transformarse primeramente a forma cartesiana, para sumarse. \n",
    "\n",
    "$$\n",
    "z + w = \\rho e^{i\\theta} + \\sigma e^{i\\phi} = (\\rho\\cos\\theta + \\sigma\\cos\\phi) + i(\\rho\\sin\\theta +  \\sigma\\sin\\phi) \\hspace{6cm}\n",
    "$$"
   ]
  },
  {
   "cell_type": "code",
   "execution_count": 9,
   "id": "fa6e396f",
   "metadata": {
    "run_control": {
     "marked": true
    },
    "slideshow": {
     "slide_type": "slide"
    }
   },
   "outputs": [
    {
     "name": "stdout",
     "output_type": "stream",
     "text": [
      "z1+z2= (3.3976+0.7941j)\n",
      "z1-z2= (1.8679+2.0825j)\n",
      "************************************\n"
     ]
    },
    {
     "data": {
      "image/png": "[encoded data removed]",
      "text/plain": [
       "<Figure size 576x576 with 1 Axes>"
      ]
     },
     "metadata": {
      "needs_background": "light"
     },
     "output_type": "display_data"
    }
   ],
   "source": [
    "'python directamente escribe un numero complejo en forma cartesiana'\n",
    "z1 = 3*np.exp(1j*0.5)\n",
    "z2 = 1*np.exp(-1j*0.7)\n",
    "\n",
    "'''Suma y resta'''\n",
    "zs = z1+z2\n",
    "zd = z1-z2\n",
    "\n",
    "print('z1+z2=',np.round(zs,4))\n",
    "print('z1-z2=',np.round(zd,4))\n",
    "print('************************************')\n",
    "\n",
    "tQ.plot_2D_plane(left=-2,right=4,up=2,down=-1) #cambiar las dimensiones para que encuadrar la figura\n",
    "tQ.draw_vector(z1.real,z1.imag,'b')\n",
    "tQ.draw_vector(z2.real,z2.imag,'b')\n",
    "tQ.draw_vector(zs.real,zs.imag,vcolor='r')\n",
    "tQ.draw_vector(zd.real,zd.imag,vcolor='g')\n"
   ]
  },
  {
   "cell_type": "markdown",
   "id": "1ba4168e",
   "metadata": {
    "slideshow": {
     "slide_type": "slide"
    }
   },
   "source": [
    "###  Multiplicación \n",
    "\n",
    "\n",
    "\n",
    "En *forma cartesiana* la multiplicación es complicada, debiendo multiplicarse todos los factores entre sí, y\n",
    "teniendo en cuenta que $\\i^2= -1$\n",
    "\n",
    "$$\n",
    "(a + \\i b) (c + \\i d) =ac +  a\\i d +\\i bc +\\i^2 bd = (ab - bd) + \\i(ac + bd)\\hspace{6cm}\n",
    "$$ \n",
    "\n",
    "<br>\n",
    "    \n",
    "En *forma polar* la multiplicación es simple: se multiplican los módulos y se suman las fases\n",
    "\n",
    "$$\n",
    " r e^{i\\theta} s e^{i\\phi} = rs\\,   e^{i(\\theta + \\phi)} \n",
    "$$"
   ]
  },
  {
   "cell_type": "code",
   "execution_count": 10,
   "id": "8b77ade7",
   "metadata": {
    "slideshow": {
     "slide_type": "slide"
    }
   },
   "outputs": [
    {
     "name": "stdout",
     "output_type": "stream",
     "text": [
      "z1*z2 =  (2.9402-0.596j)\n",
      "z1**3 =  (-722+103j)\n",
      "************************************\n"
     ]
    }
   ],
   "source": [
    "z1 = 3*np.exp(1j*0.5)\n",
    "z2 = 1*np.exp(-1j*0.7)\n",
    "'''Producto'''\n",
    "print('z1*z2 = ', np.round(z1*z2,4))\n",
    "print('z1**3 = ', np.round(pow(z1,6)))\n",
    "print('************************************')"
   ]
  },
  {
   "cell_type": "markdown",
   "id": "5f288cb5",
   "metadata": {
    "slideshow": {
     "slide_type": "slide"
    }
   },
   "source": [
    "### Valor absoluto\n",
    "\n",
    "El cuadrado de un número real $a\\in {\\mathbb R}$ es otro número real positivo $a^2 >0$. Ello nos permite definir\n",
    "el valor absoluto $|a| = \\sqrt{a^2}$ que es el mismo para $a$ y para $-a$. \n",
    "\n",
    "Esto no sucede con un número complejo $z$. Su cuadrado\n",
    "$$z^2 = x^2 - y^2 +2\\i xy$$ \n",
    "\n",
    "es complejo.$~$ Sin embargo, el producto de un número por su conjugado es un número *real* y *positivo*\n",
    "\n",
    "$$\n",
    "z z^*  = (x + \\i y) (x-\\i y) = x^2 + ix y - i yx + y^2 = x^2 + y^2  >0\n",
    "$$\n",
    "\n",
    "Ello nos permite definir el *valor absoluto* de un número complejo\n",
    "\n",
    "$$\n",
    "|z| = \\sqrt{z z^*} = \\sqrt{x^2 + y^2}\n",
    "$$\n",
    "\n",
    "<div class=\"alert alert-block alert-danger\">\n",
    "<b>Nota</b>\n",
    "<br>\n",
    "el valor absoluto de un número complejo  escrito en forma polar coincide con su  <i>módulo</i>\n",
    "\n",
    "$$\n",
    "|z| = \\sqrt{zz^*} = \\sqrt{\\rho e^{i\\theta} \\rho e^{-i\\theta}}=\\sqrt{\\rho^2} = \\rho\n",
    "$$\n",
    "    \n",
    "En consecuencia, el valor absoluto de una <i>fase pura</i> $z = e^{i\\theta}$ es $\\rho =1$\n",
    "    \n",
    "</div>"
   ]
  },
  {
   "cell_type": "markdown",
   "id": "45a3432e",
   "metadata": {
    "slideshow": {
     "slide_type": "slide"
    }
   },
   "source": [
    "### División\n",
    "\n",
    "\n",
    "Al igual que la multiplicación, en forma cartesiana, la división *no es simple*. Sea $z = a+ \\i b$ y $w=c+\\i d$ \n",
    "<br>\n",
    "<br>\n",
    "\n",
    "$$\n",
    "\\frac{z}{w} = \\frac{z}{w}\\frac{w^*}{w^*} = \\frac{( a+ \\i b)(c-\\i d)}{|w|^2} = \\frac{ac+bd + \\i(bc-ad)}{c^2+d^2}  = \\frac{ac+bd}{c^2+d^2} +\\i\\frac{bc-ad}{c^2+d^2}\n",
    "$$\n",
    "\n",
    "En forma polar la división es tan sencilla como la multiplicación. Se toma el  cociente de los módulos y la resta de las fases\n",
    "\n",
    "$$\n",
    "\\frac{z}{w} = \\frac{\\rho e^{i\\theta}}{\\sigma e^{i\\phi}} = \\frac{\\rho}{\\sigma}\n",
    "e^{i(\\theta-\\phi)}\n",
    "$$\n"
   ]
  },
  {
   "cell_type": "code",
   "execution_count": 11,
   "id": "263e8258",
   "metadata": {
    "slideshow": {
     "slide_type": "slide"
    }
   },
   "outputs": [
    {
     "name": "stdout",
     "output_type": "stream",
     "text": [
      "|z1|= 3.0\n",
      "comprobación |z1|= 3.0\n",
      "************************************\n",
      "z1/z2= (1.08707+2.79612j)\n",
      "comprobación z1/z2= (1.08707+2.79612j)\n"
     ]
    }
   ],
   "source": [
    "'''Valor absoluto'''\n",
    "print('|z1|=',abs(z1))\n",
    "print('comprobación |z1|=',np.sqrt(z1*z1.conjugate()).real) \n",
    "print('************************************')\n",
    "\n",
    "\n",
    "'''Division'''\n",
    "print('z1/z2=',np.round(z1/z2,5))\n",
    "print('comprobación z1/z2=', np.round(z1*z2.conjugate()/(z2*z2.conjugate()),5))"
   ]
  },
  {
   "cell_type": "markdown",
   "id": "b4683858",
   "metadata": {
    "slideshow": {
     "slide_type": "slide"
    }
   },
   "source": [
    "## Casos particulares  \n",
    "\n",
    "Vamos a ver algunas relaciones que son de uso muy frecuente.\n",
    "\n",
    "<a id=\"sumnul\"></a>\n",
    "### Sumas nulas\n",
    "\n",
    "La interferencia cuántica, en ultima instancia, procede de la posibilidad de sumar muchas fases complejas de manera que se anule el resultado. Sea $N$ un número entero cualquiera, se verifica que\n",
    "\n",
    "$$\n",
    "\\sum_{k=0}^{N-1} e^{2\\pi \\i k/N} =   e^{2\\pi \\i\\, 0/N} +  e^{2\\pi \\i\\, 1/N}  +~...~ + ~  e^{2\\pi \\i\\, (N-1)/N} ~=~  ~0\n",
    " $$\n",
    "\n",
    "Vamos a representar los números complejos y su suma. Puedes cambiar $N$ y también multiplicar por un módulo constante $\\rho$ y observar el resultado.\n",
    " "
   ]
  },
  {
   "cell_type": "code",
   "execution_count": 12,
   "id": "352392bd",
   "metadata": {
    "code_folding": [
     9
    ],
    "slideshow": {
     "slide_type": "slide"
    }
   },
   "outputs": [
    {
     "name": "stdout",
     "output_type": "stream",
     "text": [
      "(-0+0j)\n"
     ]
    },
    {
     "data": {
      "image/png": "[encoded data removed]",
      "text/plain": [
       "<Figure size 432x432 with 1 Axes>"
      ]
     },
     "metadata": {
      "needs_background": "light"
     },
     "output_type": "display_data"
    }
   ],
   "source": [
    "# modifica el número N\n",
    "N=9\n",
    "rho=1\n",
    "\n",
    "''' Creamos las fases'''\n",
    "lista_de_fases=np.exp(2*np.pi*1j*np.array(range(N))/N)\n",
    "#print('lista de fases =', np.round(lista_de_fases,2))\n",
    "\n",
    "\n",
    "''' Dibujamos los números complejos '''\n",
    "tQ.plot_2D_plane(fsize=(6,6))\n",
    "for z in rho*lista_de_fases:\n",
    "    tQ.draw_vector(x=z.real,y=z.imag)\n",
    "\n",
    "#draw_unit_circle()\n",
    "plt.gca().add_patch(plt.Circle((0.,0.),1.,color='black',fill=False)) \n",
    "\n",
    "\n",
    "''' Calculamos la suma. '''\n",
    "#print(lista_de_fases)\n",
    "print(np.round(sum(rho*lista_de_fases),10))\n"
   ]
  },
  {
   "cell_type": "markdown",
   "id": "921fe856",
   "metadata": {},
   "source": [
    "Aun podemos obtener sumas nulas (interferencias)  más generales.\n",
    "Sea  $1\\leq j \\leq N-1$ un *número entero* por el que multiplicamos *todas las fases*. El resultado es el mismo\n",
    "\n",
    "$$\n",
    "\\sum_{k=0}^{N-1} e^{2\\pi \\i j k/N} =   e^{2\\pi \\i \\, 0 j/N} +  e^{2\\pi \\i \\, 1 j/N} + e^{2\\pi   \\i \\, 2  j/N}  +~...~ +   e^{2\\pi \\i\\, (N-1) j/N} ~=~  ~0\n",
    " $$\n"
   ]
  },
  {
   "cell_type": "code",
   "execution_count": 13,
   "id": "14808e43",
   "metadata": {},
   "outputs": [
    {
     "name": "stdout",
     "output_type": "stream",
     "text": [
      "(-0+0j)\n"
     ]
    },
    {
     "data": {
      "image/png": "[encoded data removed]",
      "text/plain": [
       "<Figure size 432x432 with 1 Axes>"
      ]
     },
     "metadata": {
      "needs_background": "light"
     },
     "output_type": "display_data"
    }
   ],
   "source": [
    "# cambiar el número N\n",
    "N=9\n",
    "rho=1\n",
    "j=3\n",
    "''' Creamos las fases'''\n",
    "lista_de_fases=np.exp(2*j*np.pi*1j*np.array(range(N))/N)\n",
    "#print('lista de fases =', np.round(lista_de_fases,2))\n",
    "\n",
    "\n",
    "''' Dibujamos los números complejos '''\n",
    "tQ.plot_2D_plane(fsize=(6,6))\n",
    "for z in rho*lista_de_fases:\n",
    "    tQ.draw_vector(x=z.real,y=z.imag)\n",
    "\n",
    "#draw_unit_circle()\n",
    "plt.gca().add_patch(plt.Circle((0.,0.),1.,color='black',fill=False)) \n",
    "\n",
    "''' Calculamos la suma. '''\n",
    "#print(lista_de_fases)\n",
    "print(np.round(sum(rho*lista_de_fases),10))\n"
   ]
  },
  {
   "cell_type": "markdown",
   "id": "3bd97a3c",
   "metadata": {},
   "source": [
    "Sin embargo si $j = 0, N, 2N,... = 0\\,\\hbox{mod} N$, entonces la suma no se anula y su valor es igual a $N$. \n",
    "\n",
    "Tomemos por ejemplo $j=N$ \n",
    "\n",
    "$$\n",
    "\\sum_{k=0}^{N-1} e^{2\\pi \\i \\, k N/N} = \\sum_{k=0}^{N-1} e^{2\\pi \\i  k}  =  \\sum_{k=0}^{N-1} 1 =~  ~N\n",
    " $$\n"
   ]
  },
  {
   "cell_type": "code",
   "execution_count": 14,
   "id": "d3517f75",
   "metadata": {},
   "outputs": [
    {
     "name": "stdout",
     "output_type": "stream",
     "text": [
      "(9-0j)\n"
     ]
    },
    {
     "data": {
      "image/png": "[encoded data removed]",
      "text/plain": [
       "<Figure size 432x432 with 1 Axes>"
      ]
     },
     "metadata": {
      "needs_background": "light"
     },
     "output_type": "display_data"
    }
   ],
   "source": [
    "# cambiar el número N\n",
    "N=9\n",
    "rho=1\n",
    "j=N\n",
    "''' Creamos las fases'''\n",
    "lista_de_fases=np.exp(2*j*np.pi*1j*np.array(range(N))/N)\n",
    "#print('lista de fases =', np.round(lista_de_fases,2))\n",
    "\n",
    "\n",
    "''' Dibujamos los números complejos '''\n",
    "tQ.plot_2D_plane(fsize=(6,6))\n",
    "for z in rho*lista_de_fases:\n",
    "    tQ.draw_vector(x=z.real,y=z.imag)\n",
    "\n",
    "#draw_unit_circle()\n",
    "plt.gca().add_patch(plt.Circle((0.,0.),1.,color='black',fill=False)) \n",
    "\n",
    "''' Calculamos la suma. '''\n",
    "#print(lista_de_fases)\n",
    "print(np.round(sum(rho*lista_de_fases),10))\n"
   ]
  },
  {
   "cell_type": "markdown",
   "id": "f82b786d",
   "metadata": {},
   "source": [
    "<div class=\"alert alert-block alert-success\">\n",
    "<b>Ejercicio:</b>\n",
    "<br>\n",
    "modifica la lista de fases cambiando $j$ y $N$ para convencerte de que todos los resultados anteriores son correctos.\n",
    "</div>\n"
   ]
  },
  {
   "cell_type": "markdown",
   "id": "06e85eb3",
   "metadata": {},
   "source": [
    "Una manera de resumir todos los casos anteriores en una sola expresión involucra la función $\\delta$ de Kronecker\n",
    "\n",
    "$$\n",
    "\\delta_{ij} = \\left\\{ \\begin{array}{rcl} 0 & \\hbox{si} & i\\neq 0 \\\\ 1 & \\hbox{si} & i = j \\end{array} \\right.\n",
    "$$\n",
    "\n",
    "Con ella podemos enunciar el siguiente resultado general\n",
    "\n",
    "$$\n",
    "\\boxed{\\frac{1}{N}\\sum_{k=0}^{N-1} e^{2\\pi \\i \\, j k/N} =  \\delta_{j\\, 0{\\rm mod} N}}\n",
    "$$\n",
    "\n",
    "que usaremos con frecuencia al estudiar la *Transformada de Fourier Cuántica*."
   ]
  },
  {
   "cell_type": "markdown",
   "id": "664afb29",
   "metadata": {},
   "source": [
    "### Desigualdad triangular\n",
    "<a id=\"destriang\"></a>\n",
    "\n",
    "El módulo de la suma de dos números complejos verifica que\n",
    "\n",
    "$$\n",
    "| z+w| \\leq |z| + |w| \n",
    "$$\n",
    "\n",
    "Donde la igualdad sólo se verifica cuando ambos números complejos son paralelos en el plano complejo. \n"
   ]
  },
  {
   "cell_type": "code",
   "execution_count": 15,
   "id": "5612ab3d",
   "metadata": {},
   "outputs": [
    {
     "name": "stdout",
     "output_type": "stream",
     "text": [
      "|z1|+|z2|= 4.919349550499537\n",
      "|z1+z2|= 4.8645696489522345\n"
     ]
    },
    {
     "data": {
      "image/png": "[encoded data removed]",
      "text/plain": [
       "<Figure size 576x576 with 1 Axes>"
      ]
     },
     "metadata": {
      "needs_background": "light"
     },
     "output_type": "display_data"
    }
   ],
   "source": [
    "'''Comprueba que sólo cuando z1 y z2 son paralelos, se satura la desigualdad triangular'''\n",
    "\n",
    "'''Suma en cartesianas'''\n",
    "z1 = 1+2j\n",
    "\n",
    "ang = 0.3 #el ángulo entre z1 y z2\n",
    "z2 = z1*(1.2*np.exp(1j*ang))\n",
    "\n",
    "'''Suma '''\n",
    "zs = z1+z2\n",
    "\n",
    "print('|z1|+|z2|=',abs(z1)+abs(z2))\n",
    "print('|z1+z2|=',abs(z1+z2))\n",
    "\n",
    "\n",
    "tQ.plot_2D_plane(left=-2,right=4,up=5,down=-0) #cambiar las dimensiones para que encuadrar la figura\n",
    "tQ.draw_vector(z1.real,z1.imag,'b')\n",
    "tQ.draw_vector(z2.real,z2.imag,'b')\n",
    "tQ.draw_vector(zs.real,zs.imag,vcolor='r')"
   ]
  }
 ],
 "metadata": {
  "celltoolbar": "Tags",
  "hide_input": false,
  "kernelspec": {
   "display_name": "Python 3 (ipykernel)",
   "language": "python",
   "name": "python3"
  },
  "language_info": {
   "codemirror_mode": {
    "name": "ipython",
    "version": 3
   },
   "file_extension": ".py",
   "mimetype": "text/x-python",
   "name": "python",
   "nbconvert_exporter": "python",
   "pygments_lexer": "ipython3",
   "version": "3.9.12"
  },
  "nbTranslate": {
   "displayLangs": [
    "*"
   ],
   "hotkey": "alt-t",
   "langInMainMenu": true,
   "sourceLang": "en",
   "targetLang": "fr",
   "useGoogleTranslate": true
  },
  "toc": {
   "base_numbering": 1,
   "nav_menu": {},
   "number_sections": true,
   "sideBar": true,
   "skip_h1_title": true,
   "title_cell": "Table of Contents",
   "title_sidebar": "Contents",
   "toc_cell": false,
   "toc_position": {
    "height": "calc(100% - 180px)",
    "left": "10px",
    "top": "150px",
    "width": "242.513px"
   },
   "toc_section_display": true,
   "toc_window_display": false
  },
  "varInspector": {
   "cols": {
    "lenName": 16,
    "lenType": 16,
    "lenVar": 40
   },
   "kernels_config": {
    "python": {
     "delete_cmd_postfix": "",
     "delete_cmd_prefix": "del ",
     "library": "var_list.py",
     "varRefreshCmd": "print(var_dic_list())"
    },
    "r": {
     "delete_cmd_postfix": ") ",
     "delete_cmd_prefix": "rm(",
     "library": "var_list.r",
     "varRefreshCmd": "cat(var_dic_list()) "
    }
   },
   "types_to_exclude": [
    "module",
    "function",
    "builtin_function_or_method",
    "instance",
    "_Feature"
   ],
   "window_display": false
  }
 },
 "nbformat": 4,
 "nbformat_minor": 5
}
