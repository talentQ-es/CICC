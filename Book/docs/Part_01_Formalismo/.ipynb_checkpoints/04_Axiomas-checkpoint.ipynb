{
 "cells": [
  {
   "cell_type": "markdown",
   "id": "930ce0b4",
   "metadata": {},
   "source": [
    "<table width=\"100%\"><td style=\"font-size:22px;font-style:italic;text-align:right;\">\n",
    " Mecánica Cuántica: las reglas de juego   </td></table>\n",
    " \n",
    "Autor: Javier Mas\n",
    "$ \\newcommand{\\bra}[1]{\\langle #1|} $\n",
    "$ \\newcommand{\\ket}[1]{|#1\\rangle} $\n",
    "$ \\newcommand{\\braket}[2]{\\langle #1|#2\\rangle} $\n",
    "$ \\newcommand{\\i}{{\\color{blue} i}} $ \n",
    "$ \\newcommand{\\Hil}{{\\mathcal H}} $"
   ]
  },
  {
   "cell_type": "markdown",
   "id": "2b732bd0",
   "metadata": {},
   "source": [
    "# Los Axiomas de la Mecánica Cuántica<a id=\"meccuan\"></a>\n"
   ]
  },
  {
   "cell_type": "markdown",
   "id": "3a8aaa5e",
   "metadata": {},
   "source": [
    "\n",
    "- [Axiomas](#axiomas) \n",
    "    \n",
    "- [Resultados estadísticos](#estadis)\n",
    "    \n",
    "- [Reconstrucción del estado cuántico](#reconstruc)\n"
   ]
  },
  {
   "cell_type": "markdown",
   "id": "ad5b6350",
   "metadata": {},
   "source": [
    "##   Axiomas<a id=\"axiomas\"></a>"
   ]
  },
  {
   "cell_type": "markdown",
   "id": "b1ff75cb",
   "metadata": {},
   "source": [
    "La Mecánica Cuántica es una teoría fundamentada en unos pilares axiomáticos fruto de la experimentación. \n",
    "Llega el momento de encajar todas las piezas y ver qué papel tienen todos los objetos matemáticos que hemos definido hasta ahora.\n"
   ]
  },
  {
   "cell_type": "markdown",
   "id": "661d4c7f",
   "metadata": {},
   "source": [
    "#### $\\bullet$ Axioma I <span style=\"padding-left:5px\"> _*Vector de estado*_"
   ]
  },
  {
   "cell_type": "markdown",
   "id": "1317e3e1",
   "metadata": {},
   "source": [
    "<table width=\"100%\"><td style=\"font-size:15px;font-style:italic;text-align:left;\">\n",
    " En un instante, $t$,  la información accesible de un sistema  está contenida en\n",
    " un vector de estado $\\ket{\\psi}$, perteneciente a un espacio de Hilbert $\\Hil$, que es unitario $\\braket{\\psi}{\\psi}=1$. \n",
    " </td></table>\n",
    "\n",
    "La dimensión de $\\Hil$ está relacionada con el número de grados de libertad del sistema.\n",
    " La *fase global* del vector de estado no contiene información. Por tanto, dos vectores que difieran en una fase global son equivalentes \n",
    "\n",
    "<br>\n",
    "$$\n",
    "\\ket{\\psi} \\sim \\ket{\\psi'} =  e^{i\\varphi}\\ket{\\psi} \\, ,\n",
    "$$\n",
    "<br>\n",
    "\n",
    "en el sentido de que ningún experimento permite revelar el valor de $\\varphi$. El vector de estado recibe también el nombre de *función de onda*.\n"
   ]
  },
  {
   "cell_type": "markdown",
   "id": "f54514e9",
   "metadata": {
    "heading_collapsed": true
   },
   "source": [
    "#### $\\bullet$ Axioma II   <span style=\"padding-left:5px\"> _*Magnitudes medibles*_"
   ]
  },
  {
   "cell_type": "markdown",
   "id": "bad17436",
   "metadata": {
    "hidden": true
   },
   "source": [
    "<table width=\"100%\"><td style=\"font-size:15px;font-style:italic;text-align:left;\"> A una magnitud física medible, le está asociado   un operador hermítico $ A= A^\\dagger$ que denominamos observable\n",
    " </td></table>"
   ]
  },
  {
   "cell_type": "markdown",
   "id": "91575298",
   "metadata": {
    "heading_collapsed": true
   },
   "source": [
    "#### $\\bullet$ Axioma III  <span style=\"padding-left:5px\"> _Resultados de una medida_"
   ]
  },
  {
   "cell_type": "markdown",
   "id": "b8130bf1",
   "metadata": {
    "hidden": true
   },
   "source": [
    "<table width=\"100%\"><td style=\"font-size:15px;font-style:italic;text-align:left;\"> Los resultados de una medición no pueden dar como resultado nada más que uno de los valores propios de $A \\Rightarrow \\lambda_n$.  </td></table>"
   ]
  },
  {
   "cell_type": "markdown",
   "id": "6de17360",
   "metadata": {
    "heading_collapsed": true
   },
   "source": [
    "#### $\\bullet$ Axioma IV  <span style=\"padding-left:5px\"> *Regla de Born*"
   ]
  },
  {
   "cell_type": "markdown",
   "id": "42d73d1a",
   "metadata": {
    "hidden": true
   },
   "source": [
    "La información contenida en $\\ket{\\psi}$ es <b>intrínsecamente probabilística</b>. Los resultados de una medida son inciertos, pero siguen una distribución de probabilidad. Esta incertidumbre es una propiedad fundamental, no un hecho derivado de la inexactitud del aparato. \n",
    "\n",
    "<br>\n",
    "\n",
    "<table width=\"100%\"><td style=\"font-size:15px;font-style:italic;text-align:left;\"> La probabilidad de obtener  el autovalor $\\lambda_n$ como resultado de una cierta medición, viene dada por\n",
    "la expresión \n",
    "\n",
    "<br>\n",
    "    \n",
    "$$\n",
    "p(\\lambda_n)~ = ~|\\braket{\\lambda_n}{\\psi}|^2\n",
    "$$\n",
    " \n",
    " donde $\\ket{\\lambda_n}$ es el autovector asociado. \n",
    " </td></table>\n",
    " \n",
    " <br>"
   ]
  },
  {
   "cell_type": "markdown",
   "id": "0feac9e0",
   "metadata": {
    "heading_collapsed": true
   },
   "source": [
    "#### $\\bullet$ Axioma V <span style=\"padding-left:5px\">  *Colapso de la función de  onda*"
   ]
  },
  {
   "cell_type": "markdown",
   "id": "3c794cd9",
   "metadata": {
    "hidden": true
   },
   "source": [
    "<table width=\"100%\"><td style=\"font-size:15px;font-style:italic;text-align:left;\">\n",
    " Si el resultado de una medida  ha sido  $\\lambda_n$,\n",
    "el estado del sistema, inmediatamente después de la medida viene dado por el vector propio normalizado \n",
    "$\\ket{\\lambda_n} \\in \\Hil$\n",
    "$$\n",
    "\\ket{\\psi}~\\stackrel{\\lambda_n}{\\Longrightarrow}~ \\ket{\\lambda_n} \n",
    "$$\n",
    " </td></table>"
   ]
  },
  {
   "cell_type": "markdown",
   "id": "d611e50c",
   "metadata": {
    "heading_collapsed": true
   },
   "source": [
    "#### $\\bullet$ Axioma VI <span style=\"padding-left:5px\">  *Evolución con el tiempo*"
   ]
  },
  {
   "cell_type": "markdown",
   "id": "6d6aae31",
   "metadata": {
    "hidden": true
   },
   "source": [
    "En el caso general la información accesible del sistema, $\\ket{\\psi(t)}$, cambiará con el tiempo.  Dicho cambio es *determinista* y está gobernado  la **Ecuación de Schrödinger**\n",
    "\n",
    "<br>\n",
    " \n",
    "<table width=\"100%\"><td style=\"font-size:15px;font-style:italic;text-align:left;\">\n",
    "    \n",
    "$$\n",
    "i\\hbar \\frac{\\partial\\ket{\\psi}}{\\partial t} = H \\ket{\\psi} \\, ,\\label{eqschr}\n",
    "$$\n",
    " </td></table>\n",
    "\n",
    "<br>\n",
    "\n",
    "donde el Hamiltoniano, $H\\in\\Hil$, es un operador hermítico que caracteriza el sistema.\n",
    "\n"
   ]
  },
  {
   "cell_type": "markdown",
   "id": "4cb3e297",
   "metadata": {},
   "source": [
    "##  Resultados estadísticos<a id=\"estadis\"></a>"
   ]
  },
  {
   "cell_type": "markdown",
   "id": "7276fa6b",
   "metadata": {},
   "source": [
    "Cada vez que realizamos  una medida  asociada al operador $A$, la probabilidad de obtener un autovalor concreto $\\lambda_n$ viene dada por $p(\\lambda_n) = |\\braket{\\lambda_n}{\\psi}|^2$. \n",
    "Por tanto, la repetición del experimento permite reconstruir estimadores estadísticos\n",
    "\n",
    "- **Media** \n",
    "\n",
    "<table width=\"100%\"><td style=\"font-size:15px;font-style:italic;text-align:left;\"> El valor medio de la medida asociada a un operador $A$ sobre un sistema que se encuentra en el estado $\\ket{\\psi}$ viene dado por la expresión\n",
    "    \n",
    "$$\n",
    "\\langle A \\rangle = \\bra{\\psi}A \\ket{\\psi}\n",
    "$$\n",
    "</table>\n",
    "\n",
    "<details>\n",
    "<summary><p style=\"color:blue\"> Prueba </p></summary>\n",
    "\n",
    " consiste en partir de la definición y manipularla para llegar al enunciado\n",
    "\n",
    "$$\n",
    "\\begin{array}{rcl}\n",
    "\\langle A \\rangle &\\equiv & \\sum_{n} \\lambda_n p(\\lambda_n) =  \\sum_{n} \\lambda_n |\\braket{\\lambda_n}{\\psi}|^2\\\\\n",
    "&&\\\\\n",
    "&=&      \\sum_{n} \\lambda_n \\braket{\\lambda_n}{\\psi}^*\\braket{\\lambda_n}{\\psi}~= ~   \\sum_{n} \\lambda_n \\braket{\\psi}{\\lambda_n}\\braket{\\lambda_n}{\\psi} \\\\\n",
    "& = & \\bra{\\psi}\\left( \\displaystyle \\sum_n \\lambda_n \\ket{\\lambda_n}\\bra{\\lambda_n}\\right) \\ket{\\psi} \\, \\\\\n",
    "&=& \\bra{\\psi}A\\ket{\\psi} \\, .\n",
    "\\end{array}\n",
    "$$\n",
    "\n",
    "</details>\n",
    "\n",
    "<br>\n",
    "\n",
    "-  **Desviación estándar**\n",
    "\n",
    "La varianza,  es el valor medio de la desviación cuadrática \n",
    "\n",
    "<br>\n",
    "\n",
    "\\begin{array}{rcl}\n",
    "\\sigma^2 &=& \\langle \\big(A - \\langle A\\rangle\\big)^2 \\rangle ~=~\\langle A^2 \\rangle - 2\\langle A\\rangle^2 +\\langle A\\rangle^2  ~=~  \\langle A^2 \\rangle - \\langle A\\rangle^2  \\\\ \\rule{0mm}{8mm}\n",
    "&=& \\bra{\\psi}A^2\\ket{\\psi} - \\bra{\\psi} A\\ket{\\psi}^2\n",
    "\\end{array}\n",
    "    \n",
    "<br>\n",
    "<br>\n",
    "  "
   ]
  },
  {
   "cell_type": "markdown",
   "id": "4af5be8d",
   "metadata": {},
   "source": [
    "##  Reconstrucción del estado cuántico<a id=\"reconstruc\"></a>"
   ]
  },
  {
   "cell_type": "markdown",
   "id": "aaaf99b1",
   "metadata": {},
   "source": [
    "En computación cuántica almacenamos la información en los valores numéricos de los coeficientes complejos $\\{a_1,a_2,...,a_N\\}$ de la expansión de un estado en una base.\n",
    "\n",
    "<br>\n",
    "\n",
    "$$\n",
    "\\ket{\\psi} = \\sum_{i=1}^N a_i \\ket{\\lambda_i}\n",
    "$$\n",
    "\n",
    "<br>\n",
    "\n",
    "Dichos coeficientes, o amplitudes,  son *inaccesibles a la medida*. \n",
    "Supongamos que $\\{\\ket{\\lambda_i}\\}$ fuese una *base de autoestados* de un observable $A= A^\\dagger$. Esto quiere  decir que verifican\n",
    "\n",
    "<br>\n",
    "\n",
    "$$\n",
    "A \\ket{\\lambda_i} = \\lambda_i \\ket{\\lambda_i}\\, \n",
    "$$\n",
    "\n",
    "<br>\n",
    "\n",
    "Entonces, según el axioma II, el resultado de nuestra medición sólo puede ser uno de los *valores propios* $\\lambda_i,{i=1,...,N}$. Por ejemplo, supongamos que ha dado $\\lambda_3$. Entonces, el axioma IV afirma que el estado inmediatamente después ya no es $\\ket{\\psi}$ sino que ha colapsado a  $\\ket{\\lambda_3}$\n",
    "\n",
    "<br>\n",
    "\n",
    "$$\n",
    "A: \\ket{\\psi} ~\\stackrel{\\lambda_3}{\\longrightarrow} \\ket{\\lambda_3}\n",
    "$$\n",
    "\n",
    "<br>\n",
    "\n",
    "y toda la información que teníamos almacenada en los coeficientes $a_i$ se perdió. \n",
    "\n",
    "La una única posibilidad de recuperar los números $a_i$ parcialmente es hacer estadística. Como hemos visto, su interpretación tiene que ver con la probabilidad de aparezca uno de los resultados posibles. \n",
    "\n",
    "Para el caso anterior, si repitiésemos la medida un número $n$ de veces con $n\\to \\infty$, y contásemos la frecuencia de aparición de los distintos $\\lambda_i$, esto es \n",
    "\n",
    "<br>\n",
    "$$\n",
    "f_n(\\lambda_i) = \\frac{n(\\lambda_i)}{n}\\, .\n",
    "$$\n",
    "<br>\n",
    "\n",
    "En el límite $n\\to \\infty$ dicha frecuencia convergería a la probabilidad que, según el Axioma III viene dada por  \n",
    "\n",
    "<br>\n",
    "\n",
    "$$\n",
    "\\lim_{n\\to\\infty} f_n(\\lambda_i) =  p(\\lambda_i) = |\\braket{\\lambda_i}{\\psi}|^2 = |a_i|^2   \\, .\n",
    "$$\n",
    "\n",
    "<br>\n",
    "\n",
    "Vemos que, de una forma estadística, recuperaríamos solamente el módulo de las amplitudes \n",
    "\n",
    "<br>\n",
    "\n",
    "$$\n",
    "|a_i| = \\sqrt{p(\\lambda_i)} = \\lim_{n\\to\\infty} \\sqrt{f_n(\\lambda_i)}\n",
    "$$ \n",
    "\n",
    "<br>\n",
    "\n",
    "y las fases serían inobservables."
   ]
  },
  {
   "cell_type": "code",
   "execution_count": null,
   "id": "2c6ea40b",
   "metadata": {},
   "outputs": [],
   "source": []
  }
 ],
 "metadata": {
  "kernelspec": {
   "display_name": "Python 3",
   "language": "python",
   "name": "python3"
  },
  "language_info": {
   "codemirror_mode": {
    "name": "ipython",
    "version": 3
   },
   "file_extension": ".py",
   "mimetype": "text/x-python",
   "name": "python",
   "nbconvert_exporter": "python",
   "pygments_lexer": "ipython3",
   "version": "3.7.10"
  },
  "varInspector": {
   "cols": {
    "lenName": 16,
    "lenType": 16,
    "lenVar": 40
   },
   "kernels_config": {
    "python": {
     "delete_cmd_postfix": "",
     "delete_cmd_prefix": "del ",
     "library": "var_list.py",
     "varRefreshCmd": "print(var_dic_list())"
    },
    "r": {
     "delete_cmd_postfix": ") ",
     "delete_cmd_prefix": "rm(",
     "library": "var_list.r",
     "varRefreshCmd": "cat(var_dic_list()) "
    }
   },
   "types_to_exclude": [
    "module",
    "function",
    "builtin_function_or_method",
    "instance",
    "_Feature"
   ],
   "window_display": false
  }
 },
 "nbformat": 4,
 "nbformat_minor": 5
}
