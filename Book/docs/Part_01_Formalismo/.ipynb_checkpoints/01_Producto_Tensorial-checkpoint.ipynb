{
 "cells": [
  {
   "cell_type": "markdown",
   "id": "8352e3e7",
   "metadata": {
    "slideshow": {
     "slide_type": "slide"
    }
   },
   "source": [
    "<img   src=\"../figuras/logo/TalentQ_LogoPosNegro.png\" align=center  width=\"120\"/>\n",
    "<br>\n",
    "\n",
    "<table width=\"100%\">\n",
    "<td style=\"font-size:50px;font-style:italic;text-align:right;background-color:rgba(0, 160, 120,0.6)\">\n",
    "Producto Tensorial \n",
    "</td></table>\n",
    "$ \\newcommand{\\bra}[1]{\\langle #1|} $\n",
    "$ \\newcommand{\\ket}[1]{|#1\\rangle} $\n",
    "$ \\newcommand{\\braket}[2]{\\langle #1|#2\\rangle} $\n",
    "$ \\newcommand{\\i}{{\\color{blue} i}} $ \n",
    "$ \\newcommand{\\Hil}{{\\cal H}}$"
   ]
  },
  {
   "cell_type": "markdown",
   "id": "b4416523",
   "metadata": {
    "slideshow": {
     "slide_type": "skip"
    }
   },
   "source": [
    "- [Producto Tensorial](#prodtens) \n",
    "\n",
    "\n",
    "- [Factorización y Entrelazamiento](#entangle) \n",
    "\n",
    "\n",
    "- [Producto Tensorial Múltiple](#multipartite) \n",
    "\n",
    "\n",
    "- [Operadores sobre $H^{\\otimes n}$](#operators) "
   ]
  },
  {
   "cell_type": "code",
   "execution_count": 1,
   "id": "3126d708",
   "metadata": {
    "slideshow": {
     "slide_type": "slide"
    }
   },
   "outputs": [],
   "source": [
    "'Correr esta celda para incluir funciones predefinidas'\n",
    "%run ../macro_CURSO.py"
   ]
  },
  {
   "cell_type": "markdown",
   "id": "3779a610",
   "metadata": {
    "slideshow": {
     "slide_type": "slide"
    }
   },
   "source": [
    "<a id='prodtens'></a>\n",
    "<table width=\"100%\">\n",
    "    <td style=\"font-size:30px;font-family:Helvetica;text-align:left;background-color:rgba(102, 103, 237, 0.3);\">\n",
    "<b>Producto Tensorial</b>\n",
    "</table>  "
   ]
  },
  {
   "cell_type": "markdown",
   "id": "ee90cad1",
   "metadata": {
    "slideshow": {
     "slide_type": "fragment"
    }
   },
   "source": [
    "Un computador clásico es capaz de tratar grandes cantidades de bits a base de acumular dispositivos de un solo bit. Cuánticamente consideraríamos una colección de sistemas que, cada uno, implemente un cúbit.\n",
    "\n",
    "Por supuesto, esa colección debe admitir superposiciones cuánticas de los estados de cada subsistema. \n",
    "\n",
    "La herramienta matemática para describir un sistema compuesto es el *producto tensorial* de espacios de Hilbert "
   ]
  },
  {
   "cell_type": "markdown",
   "id": "03127339",
   "metadata": {
    "slideshow": {
     "slide_type": "slide"
    }
   },
   "source": [
    "**Definición:** dados dos vectores $\\ket{u}_1\\in \\Hil_1$ y  $\\ket{v}_2\\in \\Hil_2$, denominamos *producto tensorial* al *par ordenado* \n",
    "<br>\n",
    "<br>\n",
    "$$\n",
    "\\ket{uv} ~\\equiv \\ket{u}_1\\otimes \\ket{v}_2\n",
    "$$"
   ]
  },
  {
   "cell_type": "markdown",
   "id": "52422e34",
   "metadata": {
    "slideshow": {
     "slide_type": "fragment"
    }
   },
   "source": [
    "con la propiedad *bilineal*. Es decir, como el producto ordinario, satisface la propiedad distributiva.\n",
    "<br>\n",
    "<br>\n",
    "\\begin{eqnarray}\n",
    "\\big(\\ket{u}+\\ket{v}\\big)\\otimes \\big(\\ket{y}+\\ket{z}\\big) ~&\\equiv &~~\n",
    "\\ket{u}\\otimes\\ket{y} ~+~ \\ket{u}\\otimes\\ket{z} ~+~ \\ket{v}\\otimes\\ket{y} ~+~~\n",
    " \\ket{v}\\otimes\\ket{z} \\\\\n",
    " \\rule{0mm}{8mm}\n",
    " &=& \\ket{uy} + \\ket{uz} + \\ket{vy} + \\ket{vz}\n",
    "\\end{eqnarray}\n",
    "\n",
    "<br>"
   ]
  },
  {
   "cell_type": "markdown",
   "id": "74337856",
   "metadata": {
    "slideshow": {
     "slide_type": "fragment"
    }
   },
   "source": [
    "\n",
    "<div class=\"alert alert-block alert-info\",text-align:center>\n",
    "<p style=\"text-align: left ;color: navy;\">  \n",
    "<b> Definición</b>    \n",
    "El  <i>espacio producto tensorial</i>  $\\Hil = \\Hil_1 \\otimes \\Hil_2$ está formado por  <i>todas las combinaciones lineales</i> posibles de   <i>productos tensoriales</i> \n",
    "<br>\n",
    "<br>\n",
    "<br>   \n",
    "$$\n",
    "\\ket{s}= a\\ket{u}_1\\otimes\\ket{u}_2 ~+~ b \\ket{v}_1\\otimes\\ket{v}_2 ~+ ~...\n",
    "$$\n",
    "<br>   \n",
    "<br>    \n",
    "donde  $\\ket{u}_1,\\ket{v}_1,...\\in \\Hil_1\\, ~$ y $~\\, \\ket{u}_2,\\ket{v}_2,...\\in \\Hil_2~$,\n",
    "    y $~a,b,... \\in {\\mathbb C}$ son coeficientes complejos.\n",
    "<br> \n",
    "</div>"
   ]
  },
  {
   "cell_type": "markdown",
   "id": "5e69c073",
   "metadata": {
    "slideshow": {
     "slide_type": "fragment"
    }
   },
   "source": [
    "<br>\n",
    "\n",
    "<div class=\"alert alert-block alert-danger\">\n",
    "\n",
    "- En el resto de esta lección nos restringiremos al caso de $\\Hil_1 = \\Hil_2$ y, por tanto, $d_1 = d_2 \\equiv d$, y  $\\Hil\\otimes \\Hil \\equiv \\Hil^{\\otimes 2}$ \n",
    "    \n",
    "    \n",
    "- Prescindiremos del subíndice $\\ket{u}_1\\otimes \\ket{y}_2=\\ket{u}\\otimes \\ket{y} \\equiv \\ket{uy}$ que estará implícito en el orden. \n",
    "   \n",
    "    \n",
    "    \n",
    "- Para computación cuántica con <i>cúbits (cúdits)</i>, el valor relevante es $d=2\\,(d\\geq 3)$. \n",
    "<div>"
   ]
  },
  {
   "cell_type": "markdown",
   "id": "f128eea1",
   "metadata": {
    "slideshow": {
     "slide_type": "slide"
    }
   },
   "source": [
    "### Base y Dimensión"
   ]
  },
  {
   "cell_type": "markdown",
   "id": "0964fe7d",
   "metadata": {
    "slideshow": {
     "slide_type": "-"
    }
   },
   "source": [
    "- Sea $\\ket{e_i}$ una base de $\\Hil$. Entonces, una base de $\\Hil\\otimes \\Hil=\\Hil^{\\otimes 2}$ se obtiene\n",
    "a partir de *todos* los emparejamientos \n",
    "<br>\n",
    "<br>\n",
    "$$\n",
    "\\ket{e_{ij}} = \\ket{e_i}\\otimes \\ket{e_j}~~~~~~~~~~~~~~~~~~ i,j=1....d\n",
    "$$"
   ]
  },
  {
   "cell_type": "markdown",
   "id": "ce863ea6",
   "metadata": {
    "slideshow": {
     "slide_type": "fragment"
    }
   },
   "source": [
    "-  El número parejas posibles es $d^2$, que coincide con la **dimensión** de $\\Hil^{\\otimes 2}$."
   ]
  },
  {
   "cell_type": "markdown",
   "id": "7b22615a",
   "metadata": {
    "slideshow": {
     "slide_type": "fragment"
    }
   },
   "source": [
    "- Vemos que las etiquetas de los vectores de la base forman un *bi-índice* $ij=11,12,21,22,...$  $d^2$ configuraciones distintas. "
   ]
  },
  {
   "cell_type": "markdown",
   "id": "cbf2b441",
   "metadata": {
    "slideshow": {
     "slide_type": "fragment"
    }
   },
   "source": [
    "- Un vector general se escribirá igualmente usando un bi-índice en lugar de un índice\n",
    "<br>\n",
    "$$\n",
    "\\ket{\\omega} = \\sum_{i,j=1}^{d} w_{ij} \\ket{e_{ij}} ~=~\n",
    " w_{11}\\ket{e_{11}} + w_{12}\\ket{e_{12}} +\\ldots\n",
    "$$\n",
    "<br>\n",
    "donde $w_{ij}$ son $d^2$ <i>componentes</i> complejas."
   ]
  },
  {
   "cell_type": "markdown",
   "id": "7d54d01c",
   "metadata": {
    "slideshow": {
     "slide_type": "slide"
    }
   },
   "source": [
    "### Producto de Kronecker"
   ]
  },
  {
   "cell_type": "markdown",
   "id": "0e123b31",
   "metadata": {
    "slideshow": {
     "slide_type": "fragment"
    }
   },
   "source": [
    "Como sabemos, cualquier vector admite, en una base, una representación como un vector columna con sus coeficientes como entradas. "
   ]
  },
  {
   "cell_type": "markdown",
   "id": "87bb99d4",
   "metadata": {
    "slideshow": {
     "slide_type": "fragment"
    }
   },
   "source": [
    "La matriz columna asociada $\\ket{uv}= \\ket{u}\\otimes \\ket{v}$ se forma a partir de las matrices columna de $\\ket{u}$ y $\\ket{v}$ mediante el denominado *producto de Kronecker* o, también *producto tensorial*. \n",
    "\n",
    "$$\n",
    " \\ket{uv} = \\ket{u}\\otimes \\ket{v} ~\\sim~ \n",
    "\\begin{pmatrix}u_1\\\\ u_2 \\end{pmatrix}\\otimes \\begin{pmatrix}v_1\\\\ v_2 \\end{pmatrix} ~\\equiv ~\n",
    "\\begin{pmatrix}u_1 \\begin{pmatrix}v_1\\\\ v_2 \\end{pmatrix} \\\\ u_2 \\begin{pmatrix}v_1\\\\ v_2 \\end{pmatrix}  \\end{pmatrix}\n",
    "~=~\\begin{pmatrix}u_1v_1\\\\ u_1v_2 \\\\ v_2 u_1 \\\\ u_2 v_2  \\end{pmatrix}\n",
    "$$"
   ]
  },
  {
   "cell_type": "markdown",
   "id": "ea5fac35",
   "metadata": {
    "slideshow": {
     "slide_type": "slide"
    }
   },
   "source": [
    "<div class=\"alert alert-block alert-success\">\n",
    "    <b>Ejercicio:</b> \n",
    "escribe una función de python que tome dos kets (como vectores columna)  y devuelva su producto de Kronecker  \n",
    "\n",
    "<details>\n",
    "<summary> <p style='text-align:right'> >> Solución</p> </summary>    \n",
    "\n",
    "    def kronecker_ket(ketu,ketv):\n",
    "        u=ketu.flatten() \n",
    "        v=ketv.flatten()\n",
    "        uv=np.array([])\n",
    "        for i in range(len(u)):  \n",
    "            for j in range(len(v)):  \n",
    "                uv=np.append(uv,[u[i]*v[j]])\n",
    "        ketuv = uv.reshape((len(uv),1))\n",
    "        return ketuv\n",
    "    \n",
    "</details>\n",
    "    \n",
    "</div>"
   ]
  },
  {
   "cell_type": "code",
   "execution_count": null,
   "id": "869d9cc7",
   "metadata": {
    "slideshow": {
     "slide_type": "fragment"
    }
   },
   "outputs": [],
   "source": [
    "def kronecker_ket(ketu,ketv):\n",
    "############################### \n",
    "#Escribe aquí tu solución \n",
    "#\n",
    "#\n",
    "################################\n",
    "    return ketuv"
   ]
  },
  {
   "cell_type": "code",
   "execution_count": 17,
   "id": "6723bde5",
   "metadata": {
    "collapsed": true,
    "slideshow": {
     "slide_type": "fragment"
    }
   },
   "outputs": [
    {
     "ename": "NameError",
     "evalue": "name 'kronecker_ket' is not defined",
     "output_type": "error",
     "traceback": [
      "\u001b[0;31m---------------------------------------------------------------------------\u001b[0m",
      "\u001b[0;31mNameError\u001b[0m                                 Traceback (most recent call last)",
      "\u001b[0;32m<ipython-input-17-fc4961ea2f37>\u001b[0m in \u001b[0;36m<module>\u001b[0;34m\u001b[0m\n\u001b[1;32m      6\u001b[0m \u001b[0;34m\u001b[0m\u001b[0m\n\u001b[1;32m      7\u001b[0m \u001b[0;31m# calcula |uv>\u001b[0m\u001b[0;34m\u001b[0m\u001b[0;34m\u001b[0m\u001b[0;34m\u001b[0m\u001b[0m\n\u001b[0;32m----> 8\u001b[0;31m \u001b[0mketuv\u001b[0m \u001b[0;34m=\u001b[0m \u001b[0mkronecker_ket\u001b[0m\u001b[0;34m(\u001b[0m\u001b[0mketu\u001b[0m\u001b[0;34m,\u001b[0m\u001b[0mketv\u001b[0m\u001b[0;34m)\u001b[0m\u001b[0;34m\u001b[0m\u001b[0;34m\u001b[0m\u001b[0m\n\u001b[0m\u001b[1;32m      9\u001b[0m \u001b[0mDisplayMatrix\u001b[0m\u001b[0;34m(\u001b[0m\u001b[0mketuv\u001b[0m\u001b[0;34m)\u001b[0m\u001b[0;34m\u001b[0m\u001b[0;34m\u001b[0m\u001b[0m\n",
      "\u001b[0;31mNameError\u001b[0m: name 'kronecker_ket' is not defined"
     ]
    }
   ],
   "source": [
    "# define |u> y |v>\n",
    "ketu = np.array([[1],[2],[-3]])\n",
    "ketv = np.array([[-2],[3]])\n",
    "#DisplayMatrix(ketu)\n",
    "#DisplayMatrix(ketv)\n",
    "\n",
    "# calcula |uv>\n",
    "ketuv = kronecker_ket(ketu,ketv)\n",
    "DisplayMatrix(ketuv)"
   ]
  },
  {
   "cell_type": "markdown",
   "id": "655d22e1",
   "metadata": {
    "slideshow": {
     "slide_type": "slide"
    }
   },
   "source": [
    "### Propiedades"
   ]
  },
  {
   "cell_type": "markdown",
   "id": "9dd37e80",
   "metadata": {
    "slideshow": {
     "slide_type": "slide"
    }
   },
   "source": [
    "<div class=\"alert alert-block alert-warning\">\n",
    "<b>Ejemplo</b>:\n",
    "<br>    \n",
    "con $d=2$ tendríamos $d^2 = 4$ elementos de la base de $\\Hil^{\\otimes 2}$\n",
    "\n",
    "\n",
    "<br>\n",
    "\n",
    "$$\n",
    "\\ket{e_{11}}~=~ \\ket{e_{1}}\\otimes \\ket{e_{1}}~ \\sim~\n",
    "\\begin{pmatrix}1\\\\ 0\\end{pmatrix}\\begin{pmatrix}1\\\\ 0\\end{pmatrix} = \\begin{pmatrix}1\\\\0\\\\0 \\\\ 0\\end{pmatrix}\n",
    "~~~~~~,~~~~~\n",
    "\\ket{e_{12}}~=~ \\ket{e_{1}}\\otimes \\ket{e_{2}}~\\sim~\n",
    "\\begin{pmatrix}1\\\\ 0\\end{pmatrix}\\begin{pmatrix}0\\\\ 1\\end{pmatrix} = \\begin{pmatrix}0\\\\1\\\\0 \\\\ 0\\end{pmatrix}\n",
    "$$\n",
    "\n",
    "<br>\n",
    "\n",
    "\n",
    "$$\n",
    "\\ket{e_{21}}~=~ \\ket{e_{2}}\\otimes \\ket{e_{1}}~\\sim~\n",
    " \\begin{pmatrix}0\\\\ 1\\end{pmatrix}\\begin{pmatrix}1\\\\ 0\\end{pmatrix} = \\begin{pmatrix}0\\\\0\\\\1 \\\\ 0\\end{pmatrix}\n",
    " ~~~~~,~~~~\n",
    "\\ket{e_{22}}~=~ \\ket{e_{2}}\\otimes \\ket{e_{2}}~\\sim~\n",
    "\\begin{pmatrix}0\\\\ 1\\end{pmatrix}\\begin{pmatrix}0\\\\ 1\\end{pmatrix} = \\begin{pmatrix}0\\\\0\\\\0 \\\\ 1\\end{pmatrix}\n",
    "$$\n",
    "<br>\n",
    "El *vector más general*  $\\ket{w}\\in \\Hil\\otimes\\Hil$ admitirá una representación de la forma\n",
    "<br>\n",
    "<br>\n",
    "$$\n",
    "\\ket{w} ~= ~ \\sum_{i,j=1}^2 w_{ij} \\ket{e_{ij}}=~ \\begin{pmatrix}w_{11}\\\\ w_{12}\\\\ w_{21} \\\\ w_{22}  \\end{pmatrix}  ~  \n",
    "$$\n",
    "\n",
    "</div>\n"
   ]
  },
  {
   "cell_type": "markdown",
   "id": "b6a4e61f",
   "metadata": {
    "slideshow": {
     "slide_type": "slide"
    }
   },
   "source": [
    "### Indexación equivalente\n",
    "\n",
    "- Podemos etiquetar las componentes (o los elementos de la base) con índices.\n",
    "\n",
    "- Para ello debemos definir un mapa  entre bi-índices $i,j=1,2~$ e índices $a=1,...,4$\n",
    "<br>\n",
    "<br>\n",
    "$$\n",
    "w_{ij} =\\begin{pmatrix} w_{11} \\\\ w_{12} \\\\ w_{21} \\\\ w_{22} \\end{pmatrix} ~~~\\longleftrightarrow ~~~\n",
    "w_a  = \\begin{pmatrix} w_1 \\\\ w_2 \\\\ w_3 \\\\ w_4 \\end{pmatrix} \\, ,\n",
    "$$\n",
    "<br>\n",
    "donde hemos querido resaltar que los vectores son los mismos, etiquetados de forma diferente. Haciendo lo mismo con los elementos de la base tenemmos que\n",
    "$$\n",
    "\\ket{w} ~= ~ \\sum_{i,j=1}^2 w_{ij} \\ket{e_{ij}} ~=~ \\sum_{a=1}^{4} w_{a} \\ket{e_{a}}\n",
    "$$\n",
    "\n",
    "- En el caso general, $i,j=1,...,d$ el mapa es $w_{ij}  \\to  w_a$ con\n",
    "\n",
    "$$\n",
    "a = d*(i-1) + j \n",
    "$$"
   ]
  },
  {
   "cell_type": "markdown",
   "id": "808643e6",
   "metadata": {
    "slideshow": {
     "slide_type": "slide"
    }
   },
   "source": [
    "<a id='entangle'></a>\n",
    "<table width=\"100%\">\n",
    "    <td style=\"font-size:30px;font-family:Helvetica;text-align:left;background-color:rgba(102, 103, 237, 0.3);\">\n",
    "<b>Factorización y Entrelazamiento</b>\n",
    "</table>  "
   ]
  },
  {
   "cell_type": "markdown",
   "id": "bb72d1be",
   "metadata": {
    "slideshow": {
     "slide_type": "slide"
    }
   },
   "source": [
    "### Estado factorizable o entrelazado\n",
    "\n",
    "Llegamos a uno de los conceptos *clave* en Teoría Cuántica de la Información. \n",
    "\n",
    "<div class=\"alert alert-block alert-info\",text-align:center>\n",
    "<p style=\"text-align: left ;color: navy;\">  \n",
    "<b>Definición</b>: \n",
    "<br>\n",
    "Decimos que, un vector $\\ket{w}\\in \\Hil\\otimes\\Hil$ es <i>factorizable</i> cuando es posible encontrar vectores $\\ket{u},\\ket{v}\\in \\Hil$ tales que $ \\ket{w} = \\ket{u}\\otimes\\ket{v}$.\n",
    "<br>\n",
    "<br>\n",
    "Cuando esto no sea posible, decimos que  $\\ket{w}$ es un vector <i>entrelazado</i>.\n",
    "<br>\n",
    " </div>\n"
   ]
  },
  {
   "cell_type": "markdown",
   "id": "af47fb10",
   "metadata": {
    "slideshow": {
     "slide_type": "fragment"
    }
   },
   "source": [
    "Ya hemos visto que, dada una base $\\ket{e_i}$ de $\\Hil$, el vector más general que pertenece al espacio producto admite una descomposición \n",
    "\n",
    "$$\n",
    "\\ket{w} = \\sum_{i,j=1}^d w_{ij}\\ket{e_{i}}\\otimes \\ket{e_j} = w_{11}\\ket{e_1}\\otimes\\ket{e_1} + w_{12}\\ket{e_1}\\otimes\\ket{e_2} + ...\\, .\n",
    "$$"
   ]
  },
  {
   "cell_type": "markdown",
   "id": "56bffa9c",
   "metadata": {
    "slideshow": {
     "slide_type": "fragment"
    }
   },
   "source": [
    "Podría ocurrir que en otra base $\\ket{w} = \\tilde w_{11} \\ket{f_1}\\otimes\\ket{f_1}$ sólo tuviese un término y fuese factorizable."
   ]
  },
  {
   "cell_type": "markdown",
   "id": "628fdc1a",
   "metadata": {
    "slideshow": {
     "slide_type": "fragment"
    }
   },
   "source": [
    "\n",
    "Discernir si un vector es factorizable o entrelazado no es algo que se pueda hacer a primera vista. \n"
   ]
  },
  {
   "cell_type": "markdown",
   "id": "164c9cbd",
   "metadata": {
    "slideshow": {
     "slide_type": "slide"
    }
   },
   "source": [
    "### Criterio de factorizabilidad\n",
    "\n",
    "<div class=\"alert alert-block alert-info\",text-align:center>\n",
    "<p style=\"text-align: left ;color: navy\">  \n",
    "El estado es $\\ket{w}$ es factorizable si y sólo si las componentes $w_{ij}$ son factorizables en la forma $w_{ij} = u_i v_j~$ con $i,j=1,...,d$. \n",
    "<details>\n",
    "<summary><p style=\"text-align:right;color: navy\"> >> Prueba </p></summary>\n",
    "$$\n",
    "\\ket{w}= \\sum_{i,j=1}^d w_{ij} \\ket{e_{ij}}  = \\sum_{i,j} u_{i}v_j \\ket{e_i}\\otimes \\ket{e_j}= \\sum_{i,j} u_{i} \\ket{e_i}\\otimes v_j\\ket{e_j}  ~ =~ \\sum_i u_i\\ket{e_i} \\otimes \\sum_j v_j\\ket{e_j} ~=~   \\ket{u}\\otimes \\ket{v}\n",
    "$$\n",
    "identidad que se puede leer en ambos sentidos\n",
    "</details>\n",
    "</div>"
   ]
  },
  {
   "cell_type": "markdown",
   "id": "509bc21f",
   "metadata": {
    "slideshow": {
     "slide_type": "fragment"
    }
   },
   "source": [
    "- El carácter entrelazado de un vector es <i>genérico</i>, mientras que el carácter factorizable es <i>accidental</i>.\n",
    "<br>\n",
    "\n",
    "- Esto se sigue de un sencillo contaje: \n",
    "\n",
    "    - como función de $d$,  $\\{w_{ij}\\}$ forma un conjunto de $d^2$ parámetros complejos (grados de libertad). \n",
    "\n",
    "    - Sin embargo en $\\{u_i v_j\\}$ sólo hay $2d$ números independientes. Es evidente que $d^2>2d$.\n"
   ]
  },
  {
   "cell_type": "markdown",
   "id": "6cda9b43",
   "metadata": {
    "slideshow": {
     "slide_type": "fragment"
    }
   },
   "source": [
    "<br>\n",
    "<div class=\"alert alert-block alert-danger\">\n",
    "    <b>Notar:</b>   \n",
    "<br> en el caso  $d=2$  la condición $w_{ij} = u_i v_j$ es <i>equivalente</i> a verificar\n",
    "    la anulación del  determinante de la matriz $2\\times 2$ formada por las componentes\n",
    "<br>\n",
    "    \n",
    "$$\\det w_{ij} =  w_{11}w_{22}- w_{12}w_{21} = u_1v_1u_2v_2-u_1v_2u_2v_1=0$$  \n",
    "\n",
    "<div>"
   ]
  },
  {
   "cell_type": "markdown",
   "id": "de86015b",
   "metadata": {
    "slideshow": {
     "slide_type": "slide"
    }
   },
   "source": [
    "### Descomposición de Schmidt\n",
    "\n",
    "Vamos a estudiar el caso general en el que los *espacios factor* no son iguales $\\ket{w} \\in \\Hil_1 \\otimes \\Hil_2$"
   ]
  },
  {
   "cell_type": "markdown",
   "id": "06f5c796",
   "metadata": {
    "slideshow": {
     "slide_type": "fragment"
    }
   },
   "source": [
    "Supongamos que, en sendas bases arbitrarias $\\{\\ket{e_{1,i}}, i=1,...,d_1\\}$  de $\\Hil_1$ y  $\\{\\ket{e_{2,a}},a=1,...,d_2\\}$  de $\\Hil_2$ nuestro vector se escribe\n",
    "\n",
    "$$\n",
    "\\ket{w} = \\sum_{i=1}^{d_1}\\sum_{a=1}^{d_2} w_{ia} \\ket{e_{1,i}}\\otimes \\ket{e_{2,a}}\n",
    "$$"
   ]
  },
  {
   "cell_type": "markdown",
   "id": "d286ec8e",
   "metadata": {
    "slideshow": {
     "slide_type": "fragment"
    }
   },
   "source": [
    "Los valores de las *componentes* $w_{ia}$ **dependen de las bases escogida**. En *otras* base $\\ket{\\tilde e_{1,i}}\\otimes\\ket{\\tilde e_{2,a}}$ encontraremos *otras* componentes $\\tilde w_{ia}$ para el *mismo* vector \n",
    "<br> "
   ]
  },
  {
   "cell_type": "markdown",
   "id": "c3b59e81",
   "metadata": {
    "slideshow": {
     "slide_type": "fragment"
    }
   },
   "source": [
    "Si existe una base en la que $\\tilde w_{ia}=0$ para todos los $i,a$ menos para uno (por ejemplo $\\tilde w_{11}\\neq 0$), entonces \n",
    "<br>\n",
    "<br>\n",
    "$$\\ket{w}= \\tilde w_{11}\\ket{\\tilde e_{1,1}}\\otimes \\ket{e_{2,1}}$$ \n",
    "<br>\n",
    "y, secretamente, el vector $\\ket{w}$ sería factorizable. "
   ]
  },
  {
   "cell_type": "markdown",
   "id": "0bdbf36a",
   "metadata": {
    "slideshow": {
     "slide_type": "fragment"
    }
   },
   "source": [
    "El siguiente teorema nos dice **cuánto nos podemos acercar a esta situación**\n"
   ]
  },
  {
   "cell_type": "markdown",
   "id": "c65849a5",
   "metadata": {
    "slideshow": {
     "slide_type": "slide"
    }
   },
   "source": [
    "<div class=\"alert alert-block alert-info\",text-align:center>\n",
    "<p style=\"text-align: left ;color: navy;\">  \n",
    "<b>Teorema de Schmidt</b>:\n",
    "<br>\n",
    "<br>\n",
    "para cada vector $\\ket{w}\\in \\Hil_1\\otimes \\Hil_2$, <b>existen  bases </b> $\\{\\ket{f_{1,i}}\\}$  de $\\Hil_1$ y  $\\{\\ket{f_{2,i}}\\}$  de $\\Hil_2$, tales que, podemos expresar \n",
    "<br>\n",
    "<br>\n",
    "$$\n",
    "\\ket{w} = \\sum_{i=1}^r s_i \\ket{f_{1,i}}\\otimes\\ket{f_{2,i}} \\, ,\n",
    "$$\n",
    "<br>\n",
    " con $s_i>0$, que   involucra el <i>mínimo número</i>, $r$, de términos\n",
    "<br>    \n",
    "<br>\n",
    "    \n",
    "</div>"
   ]
  },
  {
   "cell_type": "markdown",
   "id": "f0d55d50",
   "metadata": {
    "slideshow": {
     "slide_type": "fragment"
    }
   },
   "source": [
    "El número $1\\leq r\\leq {\\rm min}(d_1,d_2)$ se denomina <b>Número de Schmidt</b> y  es la información relevante  porque \n",
    "\n",
    "-  cuando $r=1$ el estado $\\ket{w}$ será *factorizable*. \n",
    "<br>\n",
    "<br>\n",
    "-  si $r\\geq 2$ el estado será *entrelazado*.\n",
    "\n"
   ]
  },
  {
   "cell_type": "markdown",
   "id": "a0ca85e5",
   "metadata": {
    "slideshow": {
     "slide_type": "slide"
    }
   },
   "source": [
    "La *demostración del Teorema de Schmidt* es interesante porque nos da un **método constructivo** para encontrar la descomposición. \n",
    "\n",
    "Supongamos que nuestro vector se escribe\n",
    "$\n",
    "\\ket{w} = \\sum_{i=1}^{d_2}\\sum_{a=1}^{d_2} w_{ia} \\ket{e_{1,i}}\\otimes \\ket{e_{2,a}}\n",
    "$"
   ]
  },
  {
   "cell_type": "markdown",
   "id": "811e3f16",
   "metadata": {
    "slideshow": {
     "slide_type": "fragment"
    }
   },
   "source": [
    "-  La matriz de coeficientes $w_{ia}$ tiene  dimension $d_1\\times d_2$. "
   ]
  },
  {
   "cell_type": "markdown",
   "id": "e1c67b6b",
   "metadata": {
    "slideshow": {
     "slide_type": "fragment"
    }
   },
   "source": [
    "-  El **teorema de descomposición en valores singulares** nos garantiza que podemos expresar dicha matriz en la forma siguiente\n",
    "<br>\n",
    "$$\n",
    "w = U\\Sigma V^\\dagger ~~~\\Rightarrow ~~~~w_{ia} = \\sum_{j=1}^{d_1}\\sum_{b=1}^{d_2} U_{ij}\\Sigma_{jb}V_{ab}^*\n",
    "$$\n",
    "donde $U$ y $V$ son unitarias $(d_1\\times d_1)$ y $(d_2\\times d_2)$ respectivamente, mientras que $\\Sigma$ es diagonal\n",
    "\n",
    "$$\n",
    "\\Sigma = \n",
    "\\overbrace{\\left.\n",
    "\\begin{bmatrix}\n",
    "s_1 &\\cdots  &    &  & & &  0  \\\\  \\vdots & \\ddots & & & & & \\vdots  \\\\  & & s_r & & & &  \\\\\n",
    "   & &  & 0  & &  &    \\\\ & & & & & \\ddots &  \\\\  0 & &\\cdots  & & & & 0  \\\\ \\vdots & &&&& & \\vdots \\\\ 0 & & \\cdots & & & & 0\n",
    "\\end{bmatrix}   \\right\\}  }^{\\displaystyle d_2} d_1 ~~~~~~\\Rightarrow ~~~~~ \\Sigma_{jb} = s_j\\delta_{jb}\n",
    "$$"
   ]
  },
  {
   "cell_type": "markdown",
   "id": "be020e8c",
   "metadata": {
    "slideshow": {
     "slide_type": "slide"
    }
   },
   "source": [
    "\n",
    "Esto quiere decir que podemos escribir\n",
    "\n",
    "\\begin{eqnarray}\n",
    "\\ket{w} &=& \\sum_{i=1}^{d_1}\\sum_{a=1}^{d_2}\\left( \\sum_{j=1}^{d_1}\\sum_{b=1}^{d_2} U_{ij}\\Sigma_{jb}V_{ab}^* \\right)\\ket{e_{1,i}}\\otimes \\ket{e_{2,a}}\n",
    "\\\\  \\rule{0mm}{10mm}\n",
    "&=& \\sum_{j=1}^{d_1}\\sum_{b=1}^{d_2}\\Sigma_{jb}\\left( \\sum_{i=1}^{d_1} U_{ij}\\ket{e_{1,i}} \\right)\\otimes  \\left( \\sum_{a=1}^{d_2} V_{ab}^* \\ket{e_{2,a}}\\right)\n",
    "\\\\   \\rule{0mm}{10mm}\n",
    "&=& \\sum_{j=1}^{d_1}\\sum_{b=1}^{d_2}\\Sigma_{jb} \\ket{f_{1,j}}\\otimes \\ket{f_{2,b}}\\\\   \\rule{0mm}{10mm}\n",
    "&=& \\sum_{j=1}^r s_j \\ket{f_{1,j}}\\otimes \\ket{f_{2,j}}\n",
    "\\end{eqnarray}"
   ]
  },
  {
   "cell_type": "markdown",
   "id": "934b6fc2",
   "metadata": {
    "slideshow": {
     "slide_type": "fragment"
    }
   },
   "source": [
    "Por tanto, podemos saber si un *estado bipartito* es entrelazado calculando las descomposición en valores singulares de su matriz de coeficientes en cualquier base. "
   ]
  },
  {
   "cell_type": "code",
   "execution_count": 10,
   "id": "bf5eee1a",
   "metadata": {
    "slideshow": {
     "slide_type": "slide"
    }
   },
   "outputs": [
    {
     "data": {
      "text/markdown": [
       "\\begin{bmatrix}0.33+0.92j&0.82+0.30j&0.20+0.53j\\\\0.15+0.99j&0.02+0.10j&0.96+0.63j\\\\0.38+0.90j&0.16+0.14j&0.36+0.05j\\\\0.18+0.10j&0.79+0.26j&0.26+0.72j\\\\0.02+0.25j&0.88+0.00j&0.74+0.49j\\end{bmatrix}"
      ],
      "text/plain": [
       "<IPython.core.display.Markdown object>"
      ]
     },
     "metadata": {},
     "output_type": "display_data"
    },
    {
     "name": "stdout",
     "output_type": "stream",
     "text": [
      "s =  [2.542 1.242 0.621]\n",
      "The Schmidt number is r = 3\n"
     ]
    }
   ],
   "source": [
    "# Veamos el caso genérico \n",
    "\n",
    "d1=5 # Dimensión de H1\n",
    "d2=3 # Dimensión de H2\n",
    "\n",
    "w = np.random.rand(d1,d2)+ np.random.rand(d1,d2) * 1j  # estado genérico\n",
    "DisplayMatrix(w)\n",
    "\n",
    "u, s, vh = linalg.svd(w, full_matrices=True)\n",
    "\n",
    "np.round(s,3)\n",
    "\n",
    "print('s = ',np.round(s,3))\n",
    "print('The Schmidt number is r =', np.count_nonzero(s))"
   ]
  },
  {
   "cell_type": "markdown",
   "id": "c8802880",
   "metadata": {
    "slideshow": {
     "slide_type": "fragment"
    }
   },
   "source": [
    "Corre la celda anterior muchas veces y mira si consigues encontrar algún caso en que $r<{\\rm min}(d_1,d_2)$"
   ]
  },
  {
   "cell_type": "code",
   "execution_count": 16,
   "id": "b1269d73",
   "metadata": {
    "slideshow": {
     "slide_type": "slide"
    }
   },
   "outputs": [
    {
     "data": {
      "text/markdown": [
       "\\begin{bmatrix}0.14+0.59j&0.21+0.43j&0.21+0.32j\\\\-0.36+1.13j&-0.08+0.93j&0.03+0.75j\\\\-0.72+1.03j&-0.38+0.92j&-0.21+0.77j\\\\-0.21+0.95j&-0.00+0.77j&0.07+0.61j\\\\0.28+1.41j&0.46+1.04j&0.47+0.78j\\end{bmatrix}"
      ],
      "text/plain": [
       "<IPython.core.display.Markdown object>"
      ]
     },
     "metadata": {},
     "output_type": "display_data"
    },
    {
     "name": "stdout",
     "output_type": "stream",
     "text": [
      "s =  [3.588 0.    0.   ]\n",
      "The Schmidt number is p = 1\n"
     ]
    }
   ],
   "source": [
    "# Veamos ahora el caso particular de un estado factorizable\n",
    "\n",
    "d1=5\n",
    "d2=3\n",
    "\n",
    "u = np.random.rand(d1)+ np.random.rand(d1) * 1j\n",
    "v = np.random.rand(d2)+ np.random.rand(d2) * 1j\n",
    "uv = np.outer(u,v)\n",
    "DisplayMatrix(uv)\n",
    "\n",
    "\n",
    "u, s, vh = linalg.svd(uv, full_matrices=True)\n",
    "\n",
    "print('s = ',np.round(s,3))\n",
    "print('The Schmidt number is p =', np.count_nonzero(np.round(s,3)))"
   ]
  },
  {
   "cell_type": "markdown",
   "id": "af45bd27",
   "metadata": {},
   "source": [
    "Corre la celda anterior varias veces y comprueba que nunca obtienes $r>1$"
   ]
  },
  {
   "cell_type": "markdown",
   "id": "862739c9",
   "metadata": {
    "slideshow": {
     "slide_type": "slide"
    }
   },
   "source": [
    "<a id='multipartite'></a>\n",
    "<table width=\"100%\">\n",
    "    <td style=\"font-size:30px;font-family:Helvetica;text-align:left;background-color:rgba(102, 103, 237, 0.3);\">\n",
    "<b>Producto Tensorial Múltiple</b>\n",
    "</table>  "
   ]
  },
  {
   "cell_type": "markdown",
   "id": "da09739b",
   "metadata": {
    "slideshow": {
     "slide_type": "slide"
    }
   },
   "source": [
    "- El producto tensorial se puede generalizar a más de un factor. \n",
    "\n"
   ]
  },
  {
   "cell_type": "markdown",
   "id": "39d3fdec",
   "metadata": {
    "slideshow": {
     "slide_type": "fragment"
    }
   },
   "source": [
    "\n",
    "- De este modo obtenemos el espacio $ \\Hil_1\\otimes \\Hil_2 ... \\otimes \\Hil_n$ formado por todas las *n-tuplas* ordenadas de vectores \n",
    "<br>\n",
    "<br>\n",
    "$$\\ket{u} = \\ket{u_1u_2...u_n} \\equiv\\ket{u_1}\\otimes\\ket{u_2}\\otimes ...\\otimes \\ket{u_n}$$ \n",
    "<br>\n",
    "donde $\\ket{u_i}\\in \n",
    "\\Hil_i$ y sus combinaciones lineales $\\{ a\\ket{u}+ b\\ket{v} + ...\\}$.\n",
    "\n"
   ]
  },
  {
   "cell_type": "markdown",
   "id": "47177b17",
   "metadata": {
    "slideshow": {
     "slide_type": "fragment"
    }
   },
   "source": [
    "\n",
    "- Salvo mención, en adelante asumiremos que todos los $\\Hil_j=\\Hil$ son iguales y de dimension $d$."
   ]
  },
  {
   "cell_type": "markdown",
   "id": "a1d6a325",
   "metadata": {
    "slideshow": {
     "slide_type": "slide"
    }
   },
   "source": [
    "### Base\n",
    "\n",
    "- Una base de $\\Hil^{\\otimes n}$ se obtiene a partir de cadenas \n",
    "<br>\n",
    "<br>\n",
    "$$\\ket{i_1 i_2.... i_n} = \n",
    "\\ket{i_1}\\ket{i_2}  ... \\ket{i_n}$$ \n",
    "<br>\n",
    "donde $i_1,..,i_n=0,...,d-1$. "
   ]
  },
  {
   "cell_type": "markdown",
   "id": "695ff108",
   "metadata": {
    "slideshow": {
     "slide_type": "fragment"
    }
   },
   "source": [
    "- El número de posibles cadenas es $d\\, d\\, ... \\, d = d^n$ que  es la dimensión de $\\Hil^{\\otimes n}$.\n",
    "\n",
    "\n",
    "$$\n",
    "{\\rm dim}_{\\mathbb C} \\Hil^{\\otimes n} = d^n\n",
    "$$"
   ]
  },
  {
   "cell_type": "markdown",
   "id": "18dcec86",
   "metadata": {},
   "source": [
    "- Podemos cambiar de etiqueta \n",
    "<br>\n",
    "<br>\n",
    "$$\\ket{i_1...i_n} \\to \\ket{a}$$ \n",
    "<br>\n",
    "con\n",
    "</br>\n",
    "$$\n",
    "a = i_n + d i_{n-1} + d^2 i_{n-2}+...+d^{n-1} i_1~\\in ~(0,d^n-1)\n",
    "$$"
   ]
  },
  {
   "cell_type": "markdown",
   "id": "79eb86af",
   "metadata": {
    "slideshow": {
     "slide_type": "fragment"
    }
   },
   "source": [
    "-  Si cada base $\\{\\ket{i}\\}$ es ortonormal, tendremos que la base producto también lo será\n",
    "\n",
    "$$\n",
    "\\braket{i_1 i_2... i_n}{j_1j_2...j_n} = \\delta_{i_1j_1}\\delta_{i_2j_2}...\\delta_{i_nj_n} ~~~~\\leftrightarrow ~~~~\n",
    "\\braket{a}{b} = \\delta_{ab}\n",
    "$$"
   ]
  },
  {
   "cell_type": "code",
   "execution_count": null,
   "id": "60500ff3",
   "metadata": {},
   "outputs": [],
   "source": []
  },
  {
   "cell_type": "markdown",
   "id": "8fc3f9ea",
   "metadata": {
    "slideshow": {
     "slide_type": "slide"
    }
   },
   "source": [
    "\n",
    "\n",
    "### Estado entrelazado\n",
    "\n",
    "\n",
    "-  Un *vector general* admitirá una expansión en esta base mediante $d^n$ *componentes complejas*\n",
    "$u_{i_1 i_2...i_n}$ en la forma\n",
    "<br>\n",
    "<br>\n",
    "$$\n",
    "\\ket{u} = \\sum_{i_1,...,i_n=0}^{d-1} u_{i_1i_2...i_n} \\ket{i_1i_2...i_n} = \\sum_{a=0}^{d^n-1} u_a\\ket{a}\\, .\n",
    "$$\n"
   ]
  },
  {
   "cell_type": "markdown",
   "id": "9ad003b3",
   "metadata": {
    "slideshow": {
     "slide_type": "fragment"
    }
   },
   "source": [
    "\n",
    "- Podemos obtener cualquier componente compleja proyectando sobre el elemento correspondiente de la base\n",
    "\n",
    "$$\n",
    "u_{i_1i_2...i_n} = \\braket{i_1 i_2... i_n}{u}~~~~~~\\leftrightarrow~~~~~~~~u_a = \\braket{a}{u}\n",
    "$$"
   ]
  },
  {
   "cell_type": "markdown",
   "id": "233b11a8",
   "metadata": {
    "slideshow": {
     "slide_type": "slide"
    }
   },
   "source": [
    "### Estado factorizable\n",
    "\n",
    "Al igual que antes, en casos muy particulares, un vector de $\\Hil^{\\otimes n}$ se podrá escribir en forma factorizada\n",
    "<br>\n",
    "<br>\n",
    "$$\n",
    "\\ket{w} = \\ket{v_1}\\ket{v_2}\\ldots\\ket{v_n} \\equiv \\ket{v_1 v_2 \\ldots v_n}\n",
    "$$"
   ]
  },
  {
   "cell_type": "markdown",
   "id": "6cb4e432",
   "metadata": {
    "slideshow": {
     "slide_type": "fragment"
    }
   },
   "source": [
    "<br>\n",
    "\n",
    "Escribiendo $\\ket{v_k} = \\sum_{i_k=1}^d v_{i_k}\\ket{i_k}$ vemos que un *vector factorizable* admite una expansión general en la que los coeficientes son factorizables\n",
    "<br>\n",
    "<br>\n",
    "$$\n",
    "u_{i_1i_2...i_n}  = v_{i_1} v_{i_2}.... v_{i_n}\n",
    "$$\n",
    "<br>\n",
    "\n",
    "están parametrizados por $nd$ cantidades $v_{i_k}, \\, i_k=1,...,d, \\, k=1,...,n$."
   ]
  },
  {
   "cell_type": "markdown",
   "id": "d6a676c6",
   "metadata": {
    "slideshow": {
     "slide_type": "fragment"
    }
   },
   "source": [
    "<br>\n",
    "\n",
    "<div class=\"alert alert-block alert-danger\">\n",
    "    <b>Notar:</b> \n",
    "<br>\n",
    "    \n",
    "- $nd \\ll d^n$. El crecimiento exponencial del número de estados entrelazados es el ingrediente crucial para la computación cuántica. Observar que $d^n$ es el <i>número de enteros</i> alcanzables por $n$ bits. Pero en computación cuántica es el <i>número de dimensiones</i> en la que podemos poner $d^n$ amplitudes complejas.  \n",
    "\n",
    "\n",
    "- No existe un criterio general para saber si un estado es, a priori, factorizable o entrelazado. \n",
    "\n",
    "\n",
    "- Además, hay formas de caracterizar matemáticamente el nivel de entrelazamiento (*entanglement witnesses, entanglement monotones* etc.) desde nulo (estado factorizable) hasta maximal (contiene todos los estados de la base con igual amplitud) \n",
    "\n",
    "</div>"
   ]
  },
  {
   "cell_type": "markdown",
   "id": "9e89735a",
   "metadata": {
    "slideshow": {
     "slide_type": "slide"
    }
   },
   "source": [
    "<a id='operators'></a>\n",
    "<table width=\"100%\">\n",
    "    <td style=\"font-size:30px;font-family:Helvetica;text-align:left;background-color:rgba(102, 103, 237, 0.3);\">\n",
    "<b>El espacio  ${\\rm L}(\\Hil^{\\otimes n})$</b>\n",
    "</table>  \n"
   ]
  },
  {
   "cell_type": "markdown",
   "id": "5195d8bc",
   "metadata": {
    "slideshow": {
     "slide_type": "fragment"
    }
   },
   "source": [
    "\n",
    "\n",
    "El espacio $\\Hil^{\\otimes n}$ admite, como cualquier espacio vectorial, la acción de *operadores lineales* $A: \\Hil^{\\otimes n} \\to \\Hil^{\\otimes n}$ donde\n",
    "\n",
    "$$\n",
    "A:\\ket{u} \\to \\ket{v} \\equiv A\\ket{u}\n",
    "$$    \n",
    "\n",
    "El conjunto de todos los operadores lineales forman el espacio vectorial ${\\rm L}(\\Hil^{\\otimes n})$."
   ]
  },
  {
   "cell_type": "markdown",
   "id": "992da59f",
   "metadata": {
    "slideshow": {
     "slide_type": "slide"
    }
   },
   "source": [
    "### Matrices\n",
    "\n",
    "- A cada operador, $A$, le podemos asociadar una *matriz*, una vez elijamos nuestra base  $\\{ \\ket{i_1 i_2... i_n}\\}$ donde, $i_a = 1,...,d$. \n",
    " \n",
    " \n",
    " \n",
    "- Los *elementos de matriz* ahora vendrán etiquetados por dos *multi-índices*. \n",
    "\n",
    " $$\n",
    " A_{i_1...i_n, \\, j_1...j_n} = \\bra{i_1...i_n}A\\ket{j_1...j_n}  ~~~~~\\leftrightarrow ~~~~~~ A_{ab}= \\bra{a}A\\ket{b}\n",
    " $$\n",
    "<br>\n",
    "donde hemos re-etiquetado los multi-índices como un solo índice\n",
    "\n"
   ]
  },
  {
   "cell_type": "markdown",
   "id": "0aa95aa3",
   "metadata": {
    "slideshow": {
     "slide_type": "fragment"
    }
   },
   "source": [
    "-  Con la matriz, el operador se reconstruye de la forma usual\n",
    "<br>\n",
    "\n",
    "\\begin{eqnarray} \n",
    " A &=& \n",
    " \\sum_{i_1,...,i_n,\\, j_1,...,j_n=0}^{d-1} A_{i_1...i_n, \\, j_1...j_n} \\ket{i_1...i_n}\\bra{j_1...j_n}\n",
    " ~~=~~\n",
    "  \\sum_{a,b=a}^{d^{N}-1} A_{ab} \\ket{a}\\bra{b}\n",
    "\\end{eqnarray}"
   ]
  },
  {
   "cell_type": "markdown",
   "id": "023943d2",
   "metadata": {
    "slideshow": {
     "slide_type": "skip"
    }
   },
   "source": [
    "- En $A_{i_1...i_n,\\,j_1...j_n} = A_{ab}$ hay $d^n\\times d^n = d^{2n}$ grados de libertad. Esta sería la dimensión del espacio  ${\\rm L}(\\Hil^{\\otimes n})$.\n",
    "<br>\n"
   ]
  },
  {
   "cell_type": "markdown",
   "id": "ac43faad",
   "metadata": {
    "slideshow": {
     "slide_type": "slide"
    }
   },
   "source": [
    "### Producto tensorial de operadores"
   ]
  },
  {
   "cell_type": "markdown",
   "id": "7e33a18c",
   "metadata": {
    "slideshow": {
     "slide_type": "fragment"
    }
   },
   "source": [
    "En ${\\rm L}(\\Hil^{\\otimes n})$ hay un análogo de los vectores factorizables de $\\Hil^{\\otimes n}$ que ahora serán *operadores factorizables*.\n",
    "\n",
    "Supongamos que existen $n$ operadores lineales $A^{(a)}\\, ,\\, a=1,...,n$ definidos sobre cada espacio factor $\\Hil$."
   ]
  },
  {
   "cell_type": "markdown",
   "id": "0ffbdf51",
   "metadata": {
    "slideshow": {
     "slide_type": "fragment"
    }
   },
   "source": [
    "<div class=\"alert alert-block alert-info\">\n",
    "<p style=\"text-align:left;color:navy\"> <b>Definición</b>:\n",
    "<br>\n",
    "La acción del producto tensorial de operadores  $A = A^{(1)}\\otimes A^{(2)} \\otimes ...A^{(n)}$ sobre un vector $\\ket{v} = \\ket{v}_1\\otimes ...\\otimes \\ket{v_n}\\in \\Hil~$   viene dada por \n",
    "<br>\n",
    "<br>\n",
    "$$\n",
    "A\\ket{v} = A^{(1)}\\ket{v_1}\\otimes ... \\otimes A^{(n)} \\ket{v_n}\\, .\n",
    "$$\n",
    "<br>\n",
    "La acción sobre vectores generales se sigue imponiento linealidad\n",
    "<br>\n",
    "<br>\n",
    "$$\n",
    "A(\\ket{v} + \\ket{w}) = A\\ket{v} + A\\ket{w}\\, .\n",
    "$$\n",
    "</p>\n",
    "</div>\n",
    "<br>\n",
    "\n",
    "\n",
    "\n",
    "Se sigue automáticamente de la definición que:"
   ]
  },
  {
   "cell_type": "markdown",
   "id": "5f9766b9",
   "metadata": {
    "slideshow": {
     "slide_type": "slide"
    }
   },
   "source": [
    "-  El adjunto de un producto tensorial de operadores es el producto de los adjuntos (no se permuta el orden)\n",
    "\n",
    "$$\n",
    "A^\\dagger = A^{(1)\\dagger} \\otimes ... \\otimes A^{(n)\\dagger}\n",
    "$$"
   ]
  },
  {
   "cell_type": "markdown",
   "id": "bc05cff0",
   "metadata": {
    "slideshow": {
     "slide_type": "fragment"
    }
   },
   "source": [
    "-  El producto tensorial de operadores hermíticos es hermítico\n",
    "\n",
    "$$ A^{(a)\\dagger} = A^{(a)} ~~\\Longrightarrow A^{\\dagger} = A $$"
   ]
  },
  {
   "cell_type": "markdown",
   "id": "8cc86ae8",
   "metadata": {
    "slideshow": {
     "slide_type": "fragment"
    }
   },
   "source": [
    "- El producto tensorial de operadores unitarios, es unitario\n",
    "\n",
    "$$ A^{(a)\\dagger} = A^{(a)\\, -1} \\,  ~~\\Longrightarrow ~~A^{\\dagger} = A^{-1} $$"
   ]
  },
  {
   "cell_type": "markdown",
   "id": "8702943f",
   "metadata": {
    "slideshow": {
     "slide_type": "slide"
    }
   },
   "source": [
    "### Producto de Kronecker de matrices"
   ]
  },
  {
   "cell_type": "markdown",
   "id": "035975e7",
   "metadata": {
    "slideshow": {
     "slide_type": "fragment"
    }
   },
   "source": [
    "¿Cómo será la matriz $A_{i_1...i_n, \\, j_1...j_n}$ de un operador factorizable, $ A = A^{(1)}\\otimes A^{(2)} \\otimes ...A^{(n)}$, en términos de las matrices  $ A^{(a)}_{ij}$ de sus factores?\n"
   ]
  },
  {
   "cell_type": "markdown",
   "id": "83e5acca",
   "metadata": {
    "slideshow": {
     "slide_type": "fragment"
    }
   },
   "source": [
    "Vamos a tomar  $n=2$ por simplicidad\n",
    "\n",
    "\\begin{eqnarray}\n",
    "A = A^{(1)}\\otimes  A^{(2)} &=&\\left( \\sum_{i_1i_2}A^{(1)}_{i_1 j_1} \\ket{i_1}\\bra{j_1}\\right)\\left( \\sum_{i_2j_2}A^{(2)}_{i_2 j_2} \\ket{i_2}\\bra{j_2}\\right)\\\\\n",
    "&=& \\sum_{i_1 i_2 , j_1 j_2} A^{(1)}_{i_1 j_1}A^{(2)}_{i_2 j_2}\\ket{i_1 i_2}\\bra{j_1j_2} \\\\\n",
    "&=& \\sum_{i_1 i_2 , j_1 j_2} A_{i_1i_2,\\, j_1j_2}\\ket{i_1 i_2}\\bra{j_1j_2}\n",
    "\\end{eqnarray}\n"
   ]
  },
  {
   "cell_type": "markdown",
   "id": "e7b2a291",
   "metadata": {
    "slideshow": {
     "slide_type": "fragment"
    }
   },
   "source": [
    "Vemos que la matriz asociada a $A$ se obtiene  a partir de las matrices de $A^{(a)}$ mediante el  *producto exterior de las matrices*, o *producto de Kronecker*.\n",
    "\n",
    "\n",
    "$$\n",
    "  A_{i_1i_2,\\,j_1j_2} = A^{(1)}_{i_1j_1}A^{(2)}_{i_2 j_2} \n",
    "$$\n"
   ]
  },
  {
   "cell_type": "markdown",
   "id": "3d3bc34b",
   "metadata": {
    "slideshow": {
     "slide_type": "slide"
    }
   },
   "source": [
    "- El método para de **representar** matricialmente el producto de Kronecker de dos matrices $A\\otimes B$ es sencillo. Supongamos que $d=2$ y tenemos un operador producto $A\\otimes B$. Entonces su matriz \n",
    "\n",
    "<br>\n",
    "\n",
    "$$\n",
    "(A\\otimes B)_{ab} = \\begin{pmatrix} A_{00}B & A_{01}B \\\\ A_{10}B & A_{11}B \\end{pmatrix} = \\begin{pmatrix} A_{00}B_{00} & A_{00}B_{01} & A_{01}B_{00} & A_{01}B_{01} \\\\\n",
    "                A_{00}B_{10} & A_{00}B_{11} & A_{01}B_{10} & A_{01}B_{11} \\\\\n",
    "                A_{10}B_{00} & A_{10}B_{01} & A_{11}B_{00} & A_{11}B_{01} \\\\\n",
    "                A_{10}B_{10} & A_{10}B_{11} & A_{11}B_{10} & A_{11}B_{11} \\end{pmatrix}.\n",
    "$$"
   ]
  },
  {
   "cell_type": "markdown",
   "id": "011ad708",
   "metadata": {
    "slideshow": {
     "slide_type": "skip"
    }
   },
   "source": [
    "- El producto de Kronecker verifica que es un homomorfismo\n",
    "<br>\n",
    "\n",
    "$$ (A\\otimes B)\\cdot (C\\otimes D)  = A\\cdot C\\otimes B\\cdot D $$ \n",
    "\n",
    "donde hemos denotado  el producto de matrices con un punto, y vemos que, en cada lado involucra matrices diferentes"
   ]
  },
  {
   "cell_type": "markdown",
   "id": "834b3a9f",
   "metadata": {
    "slideshow": {
     "slide_type": "skip"
    }
   },
   "source": [
    "<div class=\"alert alert-block alert-success\">\n",
    "<b>Ejercicio:</b> demuestra este último punto\n",
    "</div>"
   ]
  },
  {
   "cell_type": "markdown",
   "id": "4c0bfb34",
   "metadata": {
    "slideshow": {
     "slide_type": "slide"
    }
   },
   "source": [
    "La generalización a todo $n$ es obvia. El producto de Kronecker de $n$ matrices $ A^{(a)}_{i_aj_a}$ asociadas a operadores $A^{(a)}$ es\n",
    "\n",
    "$$\n",
    " A_{i_1...i_n,\\,j_1...j_n} = A^{(1)}_{i_1j_1}...A^{(n)}_{i_n j_n} \n",
    "$$"
   ]
  },
  {
   "cell_type": "markdown",
   "id": "ef872e69",
   "metadata": {
    "slideshow": {
     "slide_type": "fragment"
    }
   },
   "source": [
    "<div class=\"alert alert-block alert-success\">\n",
    "<b>Ejercicio:</b> calcula $\\sigma_1\\otimes \\sigma_2\\otimes \\sigma_3$\n",
    "</div>"
   ]
  },
  {
   "cell_type": "markdown",
   "id": "1ebdd985",
   "metadata": {
    "slideshow": {
     "slide_type": "fragment"
    }
   },
   "source": [
    "<br>\n",
    "\n",
    "<div class=\"alert alert-block alert-danger\">\n",
    "    <b>Notar:</b> \n",
    "<br>\n",
    " Observar que en un operador general, la matriz $ A_{i_1...i_n,\\,j_1...j_n}$ tiene $d^n\\times d^n = d^{2n}$ entradas independientes. \n",
    "\n",
    "Sin embargo \n",
    "en un producto de Kronecker $A^{(1)}_{i_1j_1}...A^{(n)}_{i_n j_n}$ sólo hay $nd^2$. \n",
    "    \n",
    "Por tanto, los *operadores factorizables* forman un subconjunto muy pequeño dentro del conjunto de los operadores generales.\n",
    "</div>"
   ]
  },
  {
   "cell_type": "markdown",
   "id": "1528be74",
   "metadata": {
    "slideshow": {
     "slide_type": "slide"
    }
   },
   "source": [
    "### Generación de entrelazamiento\n",
    "\n",
    "Supongamos que $\\ket{u} = \\ket{u_1}\\otimes\\ket{u_2}$ es factorizable. \n",
    "\n",
    "-  Si $A=A_1\\otimes A_2$ es un operador factorizable, el resultado $\\ket{v} = A\\ket{u} = A_1\\ket{u_1}\\otimes A_2\\ket{u_2}$ también es factorizable.\n",
    "\n",
    "\n",
    "- Inversamente, si buscamos un operador que genere entrelazamiento, entonces no puede ser factorizable $A\\neq A_1\\otimes A_2$"
   ]
  },
  {
   "cell_type": "markdown",
   "id": "64fa5007",
   "metadata": {
    "slideshow": {
     "slide_type": "slide"
    }
   },
   "source": [
    "\n",
    "<div class=\"alert alert-block alert-success\">\n",
    "    <b>Ejercicio:</b> \n",
    "    \n",
    " Considera la base $\\{\\ket{0},\\ket{1} \\}$ del espacio $\\Hil$ de dimensión 2. Sea $A= B + C$ un operador que actúa sobre el producto $\\Hil\\otimes \\Hil$,  donde $B$ y $C$ son operadores factorizables dados por\n",
    "\n",
    "<br>\n",
    "    \n",
    "$$\n",
    "B = \\ket{0}\\bra{0}\\otimes I ~~~, ~~~~ \n",
    "C = \\ket{1}\\bra{1}\\otimes (\\ket{0}\\bra{1} + \\ket{1}\\bra{0})\n",
    "$$\n",
    "<br>    \n",
    "    \n",
    "Escribe los elementos $B_{ij}$ y $C_{ij}, i,j=1,2,3,4$  y obtén $A_{ij}$. \n",
    "\n",
    "Comprueba si $C$, $B$ y $A$ son operadores unitarios o no.\n",
    "</div>"
   ]
  }
 ],
 "metadata": {
  "kernelspec": {
   "display_name": "Python 3",
   "language": "python",
   "name": "python3"
  },
  "language_info": {
   "codemirror_mode": {
    "name": "ipython",
    "version": 3
   },
   "file_extension": ".py",
   "mimetype": "text/x-python",
   "name": "python",
   "nbconvert_exporter": "python",
   "pygments_lexer": "ipython3",
   "version": "3.7.10"
  },
  "varInspector": {
   "cols": {
    "lenName": 16,
    "lenType": 16,
    "lenVar": 40
   },
   "kernels_config": {
    "python": {
     "delete_cmd_postfix": "",
     "delete_cmd_prefix": "del ",
     "library": "var_list.py",
     "varRefreshCmd": "print(var_dic_list())"
    },
    "r": {
     "delete_cmd_postfix": ") ",
     "delete_cmd_prefix": "rm(",
     "library": "var_list.r",
     "varRefreshCmd": "cat(var_dic_list()) "
    }
   },
   "types_to_exclude": [
    "module",
    "function",
    "builtin_function_or_method",
    "instance",
    "_Feature"
   ],
   "window_display": false
  }
 },
 "nbformat": 4,
 "nbformat_minor": 5
}
