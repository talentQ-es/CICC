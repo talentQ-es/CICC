{
 "cells": [
  {
   "cell_type": "markdown",
   "id": "3710bfdb",
   "metadata": {
    "slideshow": {
     "slide_type": "slide"
    }
   },
   "source": [
    "<img   src=\"../figuras/logo/TalentQ_LogoPosNegro.png\" align=center  width=\"12%\"/>\n",
    "<br>\n",
    "\n",
    "<table width=\"100%\">\n",
    "<td style=\"font-size:400%px;font-style:italic;text-align:right;background-color:rgba(0, 190, 170,0.6)\">\n",
    "Mezcla de Estados\n",
    "</td></table>\n",
    "\n",
    "\n",
    "\n",
    "$ \\newcommand{\\bra}[1]{\\langle #1|} $\n",
    "$ \\newcommand{\\ket}[1]{|#1\\rangle} $\n",
    "$ \\newcommand{\\braket}[2]{\\langle #1|#2\\rangle} $\n",
    "$ \\newcommand{\\ketbra}[2]{| #1\\rangle \\langle #2|} $\n",
    "$ \\newcommand{\\tr}{{\\rm Tr}\\,} $\n",
    "$ \\newcommand{\\Tr}{{\\rm Tr}\\,} $\n",
    "$ \\newcommand{\\i}{{\\color{blue} i}} $ \n",
    "$ \\newcommand{\\Hil}{{\\cal H}} $\n",
    "$ \\newcommand{\\V}{{\\cal V}} $"
   ]
  },
  {
   "cell_type": "markdown",
   "id": "c1915265",
   "metadata": {
    "slideshow": {
     "slide_type": "slide"
    }
   },
   "source": [
    "\n",
    "-[Estado puro y mezcla](#incer_cuant) \n",
    "   <br>\n",
    "   \n",
    "-[Operador densidad](#mat_dens) \n",
    "   <br>\n",
    "   \n",
    "-[Medidas en estados mezcla](#med_dens)\n",
    "\n",
    "   \n",
    "-[Estado mezcla bipartito](#dens_bipart)"
   ]
  },
  {
   "cell_type": "markdown",
   "id": "dd75c76b",
   "metadata": {
    "slideshow": {
     "slide_type": "slide"
    }
   },
   "source": [
    "<a id=\"incer_cuant\"></a>\n",
    "<a id='dirac'></a>\n",
    "<table width=\"100%\">\n",
    "    <td style=\"font-size:250%px;font-family:Helvetica;text-align:left;background-color:rgba(0,0,900, 0.3);\">\n",
    "<b>Estado puro y mezcla</b>\n",
    "</table>   \n"
   ]
  },
  {
   "cell_type": "markdown",
   "id": "07a021fc",
   "metadata": {
    "slideshow": {
     "slide_type": "slide"
    }
   },
   "source": [
    "El contenido de la *función de onda* es probabilístico. Sólo sirve para predecir probabiliades de resultados de medidas. \n",
    "\n",
    "Sin embargo, el propio conocimiento de la función de onda puede estar sometido a incertidumbre.\n",
    "<br>\n",
    "<br>\n",
    "\n",
    "<div class=\"alert alert-block alert-info\",text-align:center>\n",
    "<p style=\"text-align: left ;color: navy;\">  \n",
    "<b> Estado puro</b>:\n",
    "<br>    \n",
    "Si con <i>certeza total</i> podemos afirmar que el estado de un sistema está descrito por un vector \n",
    "$\\ket{\\psi}\\in \\Hil$ \n",
    "decimos que nuestro sistema se encuentra en un estado puro.\n",
    "<br>\n",
    "</p>\n",
    "</div>"
   ]
  },
  {
   "cell_type": "markdown",
   "id": "534ea6b8",
   "metadata": {
    "slideshow": {
     "slide_type": "skip"
    }
   },
   "source": [
    "Tomemos un estado *superposición* $\\ket{\\psi} = a\\ket{0} + b\\ket{1}$ con $a,b \\neq 0$.\n",
    "\n",
    "La probabilidad de medir el estado $\\ket{0}$ será  positiva\n",
    "<br>\n",
    "\n",
    "$$\n",
    "p(0) = |\\braket{0}{\\psi}|^2  = \n",
    "\\left\\vert\\bra{0}\\big(a\\ket{0}+b\\ket{1}\\big)\\right\\vert^2=\\left\\vert a\\braket{0}{0}+b \\braket{0}{1}\\right\\vert^2 = |a|^2\n",
    "$$"
   ]
  },
  {
   "cell_type": "markdown",
   "id": "6d618c19",
   "metadata": {
    "slideshow": {
     "slide_type": "skip"
    }
   },
   "source": [
    "la de medir el estado $\\ket{1}$ también\n",
    "<br>\n",
    "$$\n",
    "p(1) = |\\braket{1}{\\psi}|^2  = \\left\\vert\\bra{1}\\big(a\\ket{0}+b\\ket{1}\\big)\\right\\vert^2 =\\left\\vert a\\braket{1}{0}+b \\braket{1}{1}\\right\\vert^2= |b|^2\n",
    "$$"
   ]
  },
  {
   "cell_type": "markdown",
   "id": "0bb17301",
   "metadata": {
    "slideshow": {
     "slide_type": "skip"
    }
   },
   "source": [
    "y la de medir el estado $\\ket{+} =  \\frac{1}{\\sqrt{2}}(\\ket{0}+\\ket{1})$ será\n",
    "<br>\n",
    "\\begin{eqnarray}\n",
    "p(+)&=&|\\braket{+}{\\psi}|^2 =  \\frac{1}{2}\\left\\vert\\big(\\bra{0}+ \\bra{1}\\big)\\big(a\\ket{0}+b\\ket{1}\\big)\\right\\vert^2 = \\frac{1}{2}\\left\\vert\\big(a\\braket{0}{0}+b\\braket{1}{1}\\big)\n",
    "\\right\\vert^2 \\\\\n",
    "&=&\\frac{1}{2}|a+b|^2  = \\frac{1}{2}(a+b)(a^* + b^*) \n",
    "\\\\\n",
    "&=& \\frac{1}{2}\\left(\\rule{0mm}{4mm} |a|^2 + |b|^2 + 2{\\rm Re}(ab^*) \\right)\n",
    "\\end{eqnarray}    "
   ]
  },
  {
   "cell_type": "markdown",
   "id": "77a07803",
   "metadata": {
    "slideshow": {
     "slide_type": "skip"
    }
   },
   "source": [
    " El término que no tiene signo definido $2{\\rm Re}(ab^*)$ se denomina <i>interferencia</i>. \n",
    " Es el responsable de que $p(+)=0$ se pueda anular aún cuando $a,b\\neq 0$. \n",
    " \n",
    " Concretamente cuando $a=1=-b$\n",
    "\n",
    "$$\n",
    "\\ket{\\psi}=   \\frac{1}{\\sqrt{2}}(\\ket{0}-\\ket{1}) = \\ket{-}\n",
    "$$\n",
    "\n",
    "y los estados son ortogonales $|\\braket{\\psi}{+}|^2=|\\braket{-}{+}|^2= p(\\ket{-}\\to\\ket{+})=0$."
   ]
  },
  {
   "cell_type": "markdown",
   "id": "ff57416e",
   "metadata": {
    "slideshow": {
     "slide_type": "slide"
    }
   },
   "source": [
    "¿Qué ocurre si no podemos tener la certeza de que el estado que describe el sistema sea $\\ket{\\psi}$?  \n",
    "\n",
    "Por ejemplo: supongamos que, \n",
    "\n",
    "- a la salida de un polarizador de Stern Gerlach, encontramos que el estado es $\\ket{+}$. \n",
    "\n",
    "\n",
    "- pero la fiabilidad nominal de dicho aparato es del 90\\%. \n",
    "\n",
    "\n",
    "- Eso quiere decir que, con un 10\\% de probabilidad, el estado emergente ha sido, en realidad, $\\ket{-}$.\n"
   ]
  },
  {
   "cell_type": "markdown",
   "id": "0b0ab27d",
   "metadata": {
    "slideshow": {
     "slide_type": "fragment"
    }
   },
   "source": [
    "Nuestro polarizador se comporta como una variable aleatoria $ \\{\\{\\ket{+},0.9\\},\\{\\ket{-},0.1\\}\\}$ de la que obtendremos, cada vez, un estado u otro con distinta probabilidad. "
   ]
  },
  {
   "cell_type": "markdown",
   "id": "0410646f",
   "metadata": {
    "slideshow": {
     "slide_type": "slide"
    }
   },
   "source": [
    "<div class=\"alert alert-block alert-info\",text-align:center>\n",
    "<p style=\"text-align: left ;color: navy;\">  \n",
    "<b> Estado mezcla</b>:\n",
    "<br>En la situación más general, un  sistema estará en un <b>estado mezcla</b> asociado a una variable aleatoria\n",
    "<br><br>\n",
    "$$\n",
    "\\{\\ket{\\psi_\\alpha},p_\\alpha\\}\n",
    "$$\n",
    "<br>\n",
    "que indica que, con probabilidad $p_\\alpha$,  el estado real del sistema es $\\ket{\\psi_\\alpha}$\n",
    "</p>\n",
    "</div>"
   ]
  },
  {
   "cell_type": "markdown",
   "id": "43718b8e",
   "metadata": {
    "slideshow": {
     "slide_type": "slide"
    }
   },
   "source": [
    "<a id=\"mat_dens\"></a>\n",
    "<a id='dirac'></a>\n",
    "<table width=\"100%\">\n",
    "    <td style=\"font-size:250%px;font-family:Helvetica;text-align:left;background-color:rgba(0,0,900, 0.3);\">\n",
    "<b>Operador densidad</b>\n",
    "</table>   \n"
   ]
  },
  {
   "cell_type": "markdown",
   "id": "e9291dad",
   "metadata": {
    "slideshow": {
     "slide_type": "slide"
    }
   },
   "source": [
    "Supongamos que a nuestro sistema le podemos asignar un estado mixto $\\{\\ket{\\psi_\\alpha},p_\\alpha\\}$: \n",
    "\n",
    "¿Cuál es ahora la probabilidad $p(\\lambda_n)$, de encontrar un autovector $\\ket{\\lambda_n}$ como resultado de la medida de un observable $A$?\n",
    "\n",
    "Dicha probabilidad,  debe ser la *suma ponderada* de *probabilidades condicionadas*  a que el estado sea cada uno de los estados posibles $\\ket{\\psi_\\alpha}$"
   ]
  },
  {
   "cell_type": "markdown",
   "id": "0317f575",
   "metadata": {
    "slideshow": {
     "slide_type": "fragment"
    }
   },
   "source": [
    "$$\n",
    "\\begin{array}{rcl} \n",
    "p(\\lambda_n) &=& \\sum_\\alpha p_\\alpha |\\braket{\\lambda_n}{\\psi_\\alpha}|^2  =  \\sum_\\alpha p_\\alpha \\braket{\\lambda_n}{\\psi_\\alpha}\\braket{\\psi_\\alpha}{\\lambda_n} \\\\ \\rule{0mm}{6mm}\n",
    "&=& \\bra{\\lambda_n}\\left(\\rule{0mm}{6mm}\\sum_\\alpha p_\\alpha \\ket{\\psi_\\alpha}\\bra{\\psi_\\alpha}\\right)\\ket{\\lambda_n} \\\\\n",
    "&\\equiv&\\bra{\\lambda_n}\\rho\\ket{\\lambda_n}\\\\\n",
    "\\end{array}\n",
    "$$\n"
   ]
  },
  {
   "cell_type": "markdown",
   "id": "97da411a",
   "metadata": {
    "slideshow": {
     "slide_type": "slide"
    }
   },
   "source": [
    "El resultado anterior muestra la aparición en escena de un *nuevo operador* formado con los datos del colectivo aleatorio $\\{\\ket{\\psi_\\alpha},p_\\alpha\\}$  \n",
    "<br>\n",
    "\n",
    "$$\n",
    "\\rho = \\sum_\\alpha p_\\alpha \\ket{\\psi_\\alpha}\\bra{\\psi_\\alpha} = \\sum_\\alpha p_\\alpha P_\\alpha\n",
    "$$\n",
    "\n"
   ]
  },
  {
   "cell_type": "markdown",
   "id": "6dd12c33",
   "metadata": {
    "slideshow": {
     "slide_type": "fragment"
    }
   },
   "source": [
    "$\\rho ~$ se denomina *matriz densidad* y consiste en una suma ponderada de proyectores sobre cada uno de los subespacios generados por los estados posibles. "
   ]
  },
  {
   "cell_type": "markdown",
   "id": "9fdff0a0",
   "metadata": {
    "slideshow": {
     "slide_type": "fragment"
    }
   },
   "source": [
    "Este es el objeto matemático que caracteriza un estado mezcla. \n",
    "\n",
    "En particular, como acabamos de ver, \n",
    "la probabilidad de medir el autovalor $\\lambda$ es el *valor esperado* del operador densidad en dicho estado\n",
    "\n",
    "$$\n",
    "p(\\lambda_n) =\\langle \\rho \\rangle_{\\ket{\\lambda_n}} = \\bra{\\lambda_n }\\rho\\ket{\\lambda_n}\n",
    "$$"
   ]
  },
  {
   "cell_type": "markdown",
   "id": "77e2d649",
   "metadata": {
    "slideshow": {
     "slide_type": "slide"
    }
   },
   "source": [
    "<div class=\"alert alert-block alert-info\",text-align:center>\n",
    "<p style=\"text-align: left ;color: navy;\">  \n",
    "<b> Operador densidad</b>:\n",
    "<br> un operador, $\\rho$, podrá ser el operador densidad de un sistema si cumple los siguientes requisitos    \n",
    "<br>\n",
    "<br>    \n",
    "-   es hermítico $\\rho = \\rho^\\dagger$\n",
    "<br>\n",
    "<br>\n",
    "-  es semidefinido positivo\n",
    "<br>\n",
    "<br>    \n",
    "-  tiene traza unidad $\\tr \\rho = 1$ \n",
    "</p>\n",
    "</div>"
   ]
  },
  {
   "cell_type": "markdown",
   "id": "de7d3758",
   "metadata": {
    "slideshow": {
     "slide_type": "fragment"
    }
   },
   "source": [
    "Claramente la expresión dada anteriormente cumple con todos estos requisitos. \n",
    "\n",
    "- hermiticidad \n",
    "$$\n",
    "\\rho^\\dagger = \\left(\\sum_\\alpha p_\\alpha \\ket{\\psi_\\alpha}\\bra{\\psi_\\alpha}\\right)^\\dagger = \n",
    "\\sum_\\alpha p^*_\\alpha \\ket{\\psi_\\alpha}\\bra{\\psi_\\alpha} = \\rho\n",
    "$$\n",
    "<br>\n",
    "<br>\n",
    "dado que $p_\\alpha$ son probabilidades y por tanto numeros reales. "
   ]
  },
  {
   "cell_type": "markdown",
   "id": "cffb5842",
   "metadata": {
    "slideshow": {
     "slide_type": "slide"
    }
   },
   "source": [
    "- de hecho escrito en esta base, la matriz que representa $\\rho$ es diagonal\n",
    "<br>\n",
    "<br>\n",
    "$$\n",
    "\\rho = \\begin{bmatrix} p_1& 0 & ... & 0 \\\\ 0 & p_2 & ... & 0 \\\\ & &\\vdots  & \\\\ 0 & 0 & \\cdots & p_n  \n",
    "\\end{bmatrix}\n",
    "$$\n",
    "<br>\n",
    "Por tanto los números $p_\\alpha\\geq 0$ son los autovalores, que son no-negativos, lo cuál caracteriza un operador semidefinido positivo. \n",
    "\n"
   ]
  },
  {
   "cell_type": "markdown",
   "id": "3dcefc31",
   "metadata": {
    "slideshow": {
     "slide_type": "fragment"
    }
   },
   "source": [
    "- finalmente la traza es la unidad debido a que $p_\\alpha$ son probabilidades\n",
    "<br>\n",
    "<br>\n",
    "$$\n",
    "{\\rm Tr}\\, \\rho = \\sum_\\alpha p_\\alpha = 1\n",
    "$$"
   ]
  },
  {
   "cell_type": "markdown",
   "id": "88bc7c70",
   "metadata": {
    "slideshow": {
     "slide_type": "fragment"
    }
   },
   "source": [
    "<div class=\"alert alert-block alert-danger\">\n",
    " Se recomienda repasar las propiedades de la función $\\tr$ \n",
    "</div>   "
   ]
  },
  {
   "cell_type": "markdown",
   "id": "91487b9d",
   "metadata": {
    "slideshow": {
     "slide_type": "slide"
    }
   },
   "source": [
    "### Matriz densidad de un estado puro\n",
    "\n",
    "\n",
    "La matriz densidad es un formalismo más general que el del vector estado, que sólo se aplica en el caso de ser el estado puro. \n"
   ]
  },
  {
   "cell_type": "markdown",
   "id": "4704dbdd",
   "metadata": {
    "slideshow": {
     "slide_type": "fragment"
    }
   },
   "source": [
    "En efecto, la matriz densidad asociada a un estado puro $\\ket{\\psi_0}$ se obtiene haciendo todas las probabilidades $p_{\\alpha\\neq 0}=0$ y $p_{0} = 1$. Entonces el colectivo $\\{\\ket{\\psi_0},p_0=1\\}$ tiene asociado el operador\n",
    "\n",
    "$$\n",
    "\\rho = \\ket{\\psi_0}\\bra{\\psi_0} = \\begin{bmatrix}1 &  & \\\\ & 0 & \\\\ & & \\ddots  \\end{bmatrix}\n",
    "$$\n"
   ]
  },
  {
   "cell_type": "markdown",
   "id": "13d209a1",
   "metadata": {
    "slideshow": {
     "slide_type": "fragment"
    }
   },
   "source": [
    "Es evidente que esta expresión cumple, a mayores, la propiedad que caracteriza a un *proyector*\n",
    "\n",
    "$$\n",
    "\\rho^2 = \\rho\n",
    "$$\n",
    "\n",
    "y esto es una ecuación que sólo verifican las matrices densidad asociadas a estados puros."
   ]
  },
  {
   "cell_type": "markdown",
   "id": "6c1f59f7",
   "metadata": {
    "slideshow": {
     "slide_type": "slide"
    }
   },
   "source": [
    "**Por el contrario**, para un estado mezcla podemos ver que $\\rho^2 \\neq \\rho$\n",
    "<br>\n",
    "<br>\n",
    "<br>\n",
    "$$\n",
    "\\rho^2  = \\sum_\\alpha p_\\alpha^2 \\ketbra{\\psi_\\alpha}{\\psi_\\alpha} \\neq  \\sum_\\alpha p_\\alpha \\ketbra{\\psi_\\alpha}{\\psi_\\alpha} = \\rho\n",
    "$$\n"
   ]
  },
  {
   "cell_type": "markdown",
   "id": "03989a51",
   "metadata": {
    "slideshow": {
     "slide_type": "fragment"
    }
   },
   "source": [
    "Podemos extraer esta información de forma *independiente de la base* usando la función traza  $\\Tr$\n",
    "<br>\n",
    "\n",
    "-  Si $\\ket{\\psi_\\alpha}$ son vectores ortonormales,  $\\Tr \\rho = \\sum p_\\alpha = 1$ pero  $\\Tr\\rho^2 = \\sum_\\alpha p_\\alpha^2\\leq 1$\n",
    "\n",
    "\n",
    "-  La igualdad $\\Tr \\rho^2=1$ sólo se producirá si  $p_\\alpha = 1$ para un solo $\\alpha$. "
   ]
  },
  {
   "cell_type": "markdown",
   "id": "852f0692",
   "metadata": {
    "slideshow": {
     "slide_type": "fragment"
    }
   },
   "source": [
    "<div class=\"alert alert-block alert-info\",text-align:center>\n",
    "<p style=\"text-align: left ;color: navy;\">  \n",
    "<b> Teorema</b>:\n",
    "<br>    \n",
    "    un estado  $\\rho$ será <i>puro</i> (<i>mezcla</i>) sí y solo sí $~\\Tr \\rho^2 = 1~~\n",
    " (\\Tr \\rho^2 <1)$  \n",
    "</p>\n",
    "</div>"
   ]
  },
  {
   "cell_type": "markdown",
   "id": "2c711967",
   "metadata": {
    "slideshow": {
     "slide_type": "fragment"
    }
   },
   "source": [
    "<div class=\"alert alert-block alert-success\">\n",
    "<b>Ejercicio:</b> \n",
    "programa una función que reciba una matriz y verifique si corresponde a un estado físico, y si ese estado es puro o mezcla.\n",
    "<br>\n",
    "</div>   \n"
   ]
  },
  {
   "cell_type": "markdown",
   "id": "8bfc4936",
   "metadata": {
    "slideshow": {
     "slide_type": "slide"
    }
   },
   "source": [
    "### Estado maximalmente mezclado\n",
    "<br>\n",
    "\n",
    "En el extremo opuesto de un estado puro, encontramos un estado *maximalmente mezclado*, en el cual *todos* los proyectores aparecen de manera equiprobable $\\{\\ket{\\psi_\\alpha},p_\\alpha = \\frac{1}{d}\\}, \\alpha = 1,...,d$"
   ]
  },
  {
   "cell_type": "markdown",
   "id": "f4f1eecd",
   "metadata": {
    "slideshow": {
     "slide_type": "fragment"
    }
   },
   "source": [
    "$$\n",
    "\\rho = \\sum_{\\alpha=1}^d \\frac{1}{d} \\ket{\\psi_\\alpha}\\bra{\\psi_\\alpha} = \\frac{1}{d} I = \\begin{bmatrix}\\frac{1}{d} &  & & \\\\ & \\frac{1}{d} &  &\\\\ & & &\\ddots & \\\\ & & & & \\frac{1}{d} \\end{bmatrix}\n",
    "$$\n",
    "\n",
    "Por tanto, es una matriz diagonal proporcional a la identidad. "
   ]
  },
  {
   "cell_type": "markdown",
   "id": "32cf1005",
   "metadata": {
    "slideshow": {
     "slide_type": "slide"
    }
   },
   "source": [
    "### Estado parcialmente mezclado \n",
    "\n",
    "Entre los dos extremos mencionados anteriormente, estado puro y estado maximalmente mezclado se sitúa cualquier estado $\\rho$ genérico. Si escribimos\n",
    "\n",
    "$$\n",
    "\\rho = \\sum_{\\alpha} p_\\alpha \\ket{\\psi_\\alpha}\\bra{\\psi_\\alpha}\n",
    "$$\n",
    "el grado de mezcla es proporcional a la uniformidad en la distribución de valores $p_\\alpha$. \n",
    "\n"
   ]
  },
  {
   "cell_type": "markdown",
   "id": "d7a35c95",
   "metadata": {
    "slideshow": {
     "slide_type": "fragment"
    }
   },
   "source": [
    "\n",
    "### Estado de Gibbs\n",
    "\n",
    "Un caso muy importante de mezcla parcial es el *estado de Gibbs*, que describe un sistema cuando alcanza el *equilibrio término a una temperatura $T$*.\n",
    "\n",
    "En este caso, los estados $\\{\\ket{\\psi_\\alpha}= \\ket{E_\\alpha}\\}$ son la *base de autoestados del operador Hamiltoniano*,\n",
    "\n",
    "$$\n",
    "H\\ket{E_\\alpha} = E_\\alpha \\ket{E_\\alpha}\n",
    "$$\n",
    "\n",
    "y los autovalores $E_\\alpha\\, \\alpha = 1,2...d$ son los *niveles de energía* del sistema. \n",
    "\n",
    "<br>"
   ]
  },
  {
   "cell_type": "markdown",
   "id": "2b34e7f4",
   "metadata": {
    "slideshow": {
     "slide_type": "fragment"
    }
   },
   "source": [
    "Cuando un sistema se encuentra está en contacto con un baño térmico a temperatura $T$ el estado de energía no está bien definido, sino que es una mezcla denominada *colectivo canónico*\n",
    "\n",
    "$$\\left\\{\\rule{0mm}{5mm}\\ket{E_\\alpha}, p_\\alpha = e^{-E_\\alpha/k_BT}\\right\\}$$\n",
    "\n",
    "Los coeficientes $p_\\alpha = e^{-E_\\alpha/k_BT}$ se denominan *coeficientes de Boltzmann*  codifican la probabilidad  de hallarse en el estado (nivel de energía) $\\ket{E_\\alpha}$. \n",
    "\n"
   ]
  },
  {
   "cell_type": "markdown",
   "id": "e479b4e4",
   "metadata": {},
   "source": [
    "La matriz densidad que describe el estado de este sistema es el denominado *estado de Gibbs*\n",
    "\n",
    "<br>\n",
    "$$\n",
    "\\rho(T) = \\frac{1}{Z}\\sum_{\\alpha=1}^d e^{-E_\\alpha/k_BT} \\ket{E_\\alpha}\\bra{E_\\alpha} = \\frac{1}{Z} \\begin{bmatrix}e^{-E_0/k_BT}&  & \\\\ & e^{-E_1/k_BT} & \\\\ &  &\\ddots  \\end{bmatrix} \\, ,\n",
    "$$\n",
    "<br>\n",
    "donde $k_B$ es la constante de Bolzmann, y  $Z =\\sum_\\alpha e^{-E_\\alpha/k_BT}$ es la normalización necesaria para que $\\tr\\rho(T) = 1$."
   ]
  },
  {
   "cell_type": "markdown",
   "id": "1e6e30a1",
   "metadata": {},
   "source": [
    "La energía del sistema a cada temperatura, vendrá dada por un promedio sobre todos los autoestados pesados por la matriz densidad a dicha temperatura\n",
    "\n",
    "$$\n",
    "\\langle E \\rangle_T = \\tr (\\rho(T) H)\n",
    "$$"
   ]
  },
  {
   "cell_type": "markdown",
   "id": "30d4ef21",
   "metadata": {
    "slideshow": {
     "slide_type": "slide"
    }
   },
   "source": [
    "<div class=\"alert alert-block alert-success\">\n",
    "<b>Ejercicio:</b> probar  que recuperamos los casos puro y maximalmente mezclado en los límites siguientes\n",
    "\n",
    "-   $\\rho(T=0) = \\ketbra{E_0}{E_0}$\n",
    "\n",
    "\n",
    "\n",
    "-   $\\rho(T=\\infty) = \\frac{1}{d} I$\n",
    "<br>\n",
    "</div>   "
   ]
  },
  {
   "cell_type": "markdown",
   "id": "83c2982b",
   "metadata": {
    "slideshow": {
     "slide_type": "fragment"
    }
   },
   "source": [
    "<div class=\"alert alert-block alert-success\">\n",
    "<b>Ejercicio:</b> Genera aleatoriamente un estado de Gibbs a temperatura $T$ y grafica los valores de $p_\\alpha(T)$\n",
    "    para distintos valores de $T$ (toma $k_B=1$).\n",
    "<br>\n",
    "</div>   "
   ]
  },
  {
   "cell_type": "markdown",
   "id": "3cc54e12",
   "metadata": {
    "slideshow": {
     "slide_type": "slide"
    }
   },
   "source": [
    "### Entropía de Von Neumann\n",
    "\n",
    "La entropía de Von Neumann $S(\\rho)$ es una medida del *grado de mezcla* que hay en una matriz densidad. Se define  como sigue\n",
    "\n",
    "$$\n",
    "S(\\rho) = -\\tr (\\rho \\log \\rho )\\, .\n",
    "$$"
   ]
  },
  {
   "cell_type": "markdown",
   "id": "4368bb5f",
   "metadata": {
    "slideshow": {
     "slide_type": "fragment"
    }
   },
   "source": [
    "Usando la descomposición espectral de \n",
    "$\n",
    "\\rho = \\sum_\\alpha p_\\alpha \\ket{\\psi_\\alpha}\\bra{\\psi_\\alpha}  \\, ,\n",
    "$ donde  $\\sum_i p_\\alpha =1$, la entropía de Von Neumann resulta ser \n",
    "<br>\n",
    "\n",
    "$$\n",
    "S(\\rho) = -\\sum_\\alpha p_\\alpha \\log p_\\alpha\n",
    "$$\n",
    "\n",
    "es decir, la entropía de la variable aleatoria $\\{\\ket{\\psi_\\alpha},p_\\alpha\\}$.\n",
    "\n"
   ]
  },
  {
   "cell_type": "markdown",
   "id": "e45c6863",
   "metadata": {
    "slideshow": {
     "slide_type": "fragment"
    }
   },
   "source": [
    "-  $S=0$ cuando el estado que representa $\\rho$ es puro ya que $p_\\alpha = \\delta_{\\alpha1}$. \n",
    "\n",
    "\n",
    "\n",
    "-  Por el contrario, en un estado máximamente mezclado $p_\\alpha= 1/d$, $S = \\log d$ alcanza su máximo valor.\n"
   ]
  },
  {
   "cell_type": "markdown",
   "id": "c9c3e9f4",
   "metadata": {
    "slideshow": {
     "slide_type": "slide"
    }
   },
   "source": [
    "<a id=\"med_dens\"></a>\n",
    "<table width=\"100%\">\n",
    "    <td style=\"font-size:250%px;font-family:Helvetica;text-align:left;background-color:rgba(0,0,900, 0.3);\">\n",
    "<b>Medidas en estados mezcla</b>\n",
    "</table>   \n"
   ]
  },
  {
   "cell_type": "markdown",
   "id": "793109da",
   "metadata": {},
   "source": [
    "El escenario ahora es un estado general $\\rho$ sobre el que efectuamos una medida asociada a un observable que admite una descomposición espectral\n",
    "\n",
    "$$\n",
    "A = \\sum_n \\lambda_n \\ketbra{\\lambda_n}{\\lambda_n} = \\sum_n \\lambda_n P_n\n",
    "$$\n",
    "\n"
   ]
  },
  {
   "cell_type": "markdown",
   "id": "95a886a4",
   "metadata": {
    "slideshow": {
     "slide_type": "fragment"
    }
   },
   "source": [
    "\n",
    "**Axioma V: Colapso de la Función de onda**\n",
    "\n",
    "Después de una medida, si el resultado ha sido $\\lambda_n$ el estado mezcla $\\rho$ colapsa al estado puro $\\rho\\to \\ketbra{\\lambda_n}{\\lambda_n}$. \n",
    "\n",
    "\n",
    "En términos de matriz densidad\n",
    "$$\n",
    "\\rho \\to \\ketbra{\\lambda_n}{\\lambda_n} = \\frac{P_n\\rho P_n}{p(\\lambda_n)} \\, .\n",
    "$$\n",
    "\n",
    "<details style='color:navy'>\n",
    "<br>\n",
    "\\begin{eqnarray}\n",
    "P_n \\rho P_n &=& \\ketbra{\\lambda_n}{\\lambda_n} \\rho \\ketbra{\\lambda_n}{\\lambda_n}  = p(\\lambda_n) \\ketbra{\\lambda_n}{\\lambda_n}\n",
    "\\end{eqnarray}\n",
    "</details>\n"
   ]
  },
  {
   "cell_type": "markdown",
   "id": "48de9bd1",
   "metadata": {
    "slideshow": {
     "slide_type": "fragment"
    }
   },
   "source": [
    "Ya hemos visto cómo escribir la probabilidad asociada al inicio de este capítulo. Vamos a manipular dicha expresión\n",
    "\n",
    "\n",
    "\\begin{eqnarray}\n",
    "p(\\lambda_n) &=& \\bra{\\lambda_n}\\rho\\ket{\\lambda_n} = \\sum_i  \\braket{\\lambda_n}{i}\\bra{i}\\rho\\ket{\\lambda_n} =\n",
    "\\sum_i \\bra{i}\\rho\\ket{\\lambda_n}\\braket{\\lambda_n}{i} = \\sum_i \\bra{i}\\left( \\rho\\ket{\\lambda_n}\\bra{\\lambda_n}\\rule{0mm}{5mm}\\right)\\ket{i} \\nonumber\\\\\n",
    "&\\equiv& \\tr(\\rho P_n )\n",
    "\\end{eqnarray}"
   ]
  },
  {
   "cell_type": "markdown",
   "id": "a860b0e1",
   "metadata": {
    "slideshow": {
     "slide_type": "fragment"
    }
   },
   "source": [
    "Ahora podemos hallar el valor esperado de $A$\n",
    "\n",
    "\\begin{eqnarray}\n",
    "\\langle A\\rangle_\\rho &=& \\sum_n \\lambda_n p(\\lambda_n) = \\sum_n \\lambda_n \\tr(\\rho P_n ) \n",
    "     = \\tr \\left( \\rho \\sum_n \\lambda_n P_n \\right) = \\tr (\\rho A)\n",
    "\\end{eqnarray}"
   ]
  },
  {
   "cell_type": "markdown",
   "id": "9a442cea",
   "metadata": {
    "slideshow": {
     "slide_type": "slide"
    }
   },
   "source": [
    "<div class=\"alert alert-block alert-info\",text-align:center>\n",
    "<p style=\"text-align: left ;color: navy;\">  \n",
    "<b> Teorema</b>:\n",
    "<br>\n",
    "El valor esperado de un observable $A$ en un estado general $\\rho$ es \n",
    "$\n",
    "~~~~~ \\langle A\\rangle_\\rho = {\\rm tr}(\\rho A)  \n",
    "$\n",
    "</p>\n",
    "\n",
    "</div>\n"
   ]
  },
  {
   "cell_type": "markdown",
   "id": "8fb9e3b5",
   "metadata": {
    "slideshow": {
     "slide_type": "slide"
    }
   },
   "source": [
    "<a id=\"dens_bipart\"></a>\n",
    "<table width=\"100%\">\n",
    "    <td style=\"font-size:250%px;font-family:Helvetica;text-align:left;background-color:rgba(0,0,900, 0.3);\">\n",
    "<b>Estado mezcla bipartito</b>\n",
    "</table>   \n"
   ]
  },
  {
   "cell_type": "markdown",
   "id": "adbc9b11",
   "metadata": {
    "slideshow": {
     "slide_type": "slide"
    }
   },
   "source": [
    "De forma similar, podemos definir la matriz densidad en sistemas multipartitos. Si consideramos por simplicidad un espacio $\\Hil=\\Hil_1\\otimes\\Hil_2$, el siguiente operador $\\rho \\in {\\rm L}(\\Hil)$ \n",
    "\n",
    "$$\\rho=\\sum_{ia,jb}\\rho_{ia,jb}\\ket{e_{ia}}\\bra{e_{jb}}$$\n",
    "\n",
    "podrá describir el estado mezcla de un sistema bipartito si la matriz $\\rho_{ia,jb}$ verifica las tres condiciones que definen un operador densidad.  "
   ]
  },
  {
   "cell_type": "markdown",
   "id": "d4b9749f",
   "metadata": {
    "slideshow": {
     "slide_type": "fragment"
    }
   },
   "source": [
    "<div class=\"alert alert-block alert-danger\">\n",
    "<b> Notar</b>:\n",
    "<br>\n",
    "    No confundir estado <i>mezcla</i> con estado <i>entrelazado</i>. Un estado $\\ket{\\psi}\\in \\Hil_1\\otimes\\Hil_2$ puede ser entrelazado, y aun así $\\rho = \\ket{\\psi}\\bra{\\psi}$ ser puro.\n",
    "<br>\n",
    "</div>   "
   ]
  },
  {
   "cell_type": "markdown",
   "id": "dafe2070",
   "metadata": {
    "slideshow": {
     "slide_type": "slide"
    }
   },
   "source": [
    "En el caso de vectores $\\ket{\\psi} \\in \\Hil_1\\otimes \\Hil_2$, ya hemos visto la división que existe entre vectores factorizables y entrelazados.\n",
    "\n",
    "Para estados $\\rho \\in {\\rm L}(\\Hil_1\\otimes \\Hil_2)$ tenemos más posibilidades"
   ]
  },
  {
   "cell_type": "markdown",
   "id": "5c28e303",
   "metadata": {
    "slideshow": {
     "slide_type": "fragment"
    }
   },
   "source": [
    "\n",
    "- <i> factorizable: </i> si $\\rho$ es un operador factorizable \n",
    "$$\n",
    "\\rho = \\rho_1\\otimes \\rho_2\\, .\n",
    "$$\n",
    "<br>\n",
    "En este caso, $\\rho_{ia,jb} = \\rho_{1,ij}\\rho_{2,ab}$ y decimos que, en este estado, los subsistemas 1 y 2 están <i>descorrelacionados</i>. "
   ]
  },
  {
   "cell_type": "markdown",
   "id": "a355b0a5",
   "metadata": {
    "slideshow": {
     "slide_type": "fragment"
    }
   },
   "source": [
    "- <i>separable:</i> si es combinación lineal de operadores factorizables\n",
    "<br>\n",
    "<br>\n",
    "$$\\rho=\\sum_a p_a \\, \\rho_{1a}\\otimes\\rho_{2a}$$\n",
    "con $p_a\\in [0,1]$ y $\\sum_a p_a = 1$.\n",
    "En este caso existen correlaciones clásicas entre ambos sistemas."
   ]
  },
  {
   "cell_type": "markdown",
   "id": "91660625",
   "metadata": {
    "slideshow": {
     "slide_type": "fragment"
    }
   },
   "source": [
    "- <i>no- separable:</i> en cualquier otro caso.\n",
    "<br>\n",
    "<br>\n",
    "En este caso hay correlaciones clásicas y cuánticas entre ambos sistemas. \n"
   ]
  },
  {
   "cell_type": "markdown",
   "id": "4ec9494f",
   "metadata": {
    "slideshow": {
     "slide_type": "slide"
    }
   },
   "source": [
    "### Traza parcial\n",
    "\n",
    "A partir de un estado bipartito $\\rho \\in {\\rm L}(\\Hil_1\\otimes\\Hil_2)$  podemos definir estados d$\\rho_1 \\in {\\rm L}(\\Hil_1)$ y \n",
    "$\\rho_2 \\in {\\rm L}(\\Hil_2)$ mediante la operación de *traza parcial*\n",
    "\n",
    "\n",
    "$$\\rho_1 = {\\rm Tr}_{\\Hil_2}\\rho = \\sum_{a=1}^{d_2} \\bra{e_a^{(2)}} \\rho \\ket{e_a^{(2)}}\\quad , \\quad \\rho_2 = {\\rm Tr}_{\\Hil_1}\\rho = \\sum_{a=1}^{d_1} \\bra{e_a^{(1)}} \\rho \\ket{e_a^{(1)}}$$"
   ]
  },
  {
   "cell_type": "markdown",
   "id": "a2aacf75",
   "metadata": {
    "slideshow": {
     "slide_type": "fragment"
    }
   },
   "source": [
    "Sobre las matriz densidad $\\rho_{ia,jb}$ las trazas parciales dan matrices \n",
    "$$\n",
    "\\rho_{1,ij}= \\sum_{a=1}^{d_2} \\rho_{ia,ja} ~~~~,~~~~ \\rho_{2,ab} = \\sum_{i=1}^{d_1} \\rho_{ia,ib}\n",
    "$$"
   ]
  },
  {
   "cell_type": "markdown",
   "id": "5e590333",
   "metadata": {
    "slideshow": {
     "slide_type": "fragment"
    }
   },
   "source": [
    "<div class=\"alert alert-block alert-success\">\n",
    "<b>Ejercicio:</b> \n",
    "Sea un estado bipartito $\\rho \\in {\\rm L}(\\Hil_1\\otimes\\Hil_2)$ y $A=A_1\\otimes I$ un observable que sólo depende del subsistema $1$. Demuestra que \n",
    "<br>\n",
    "    \n",
    "$$\n",
    "\\langle A \\rangle_\\rho  = \\tr (\\rho_1 A_1)\n",
    "$$\n",
    "   \n",
    "</div>"
   ]
  },
  {
   "cell_type": "markdown",
   "id": "48f5ba9e",
   "metadata": {
    "slideshow": {
     "slide_type": "slide"
    }
   },
   "source": [
    "    \n",
    "Supongamos un *estado puro bipartito*  $\\rho=\\ket{\\psi}\\bra{\\psi}\\, \\in \\,  {\\rm L}(\\Hil_1\\otimes\\Hil_2)~~~\\Rightarrow ~~~ \\rho=\\rho^2$ es un proyector. \n",
    "\n",
    "Después de tomar la traza parcial  $\\rho\\to \\rho_1 = \\tr_{\\Hil_2}\\rho$ hay dos opciones\n",
    "   "
   ]
  },
  {
   "cell_type": "markdown",
   "id": "aa82edc2",
   "metadata": {
    "slideshow": {
     "slide_type": "fragment"
    }
   },
   "source": [
    "- si $\\ket{\\psi}$ es *factorizable* $\\Rightarrow $ $\\rho_1$ permanece *puro*\n",
    "\n",
    "$$\n",
    "\\ket{\\psi} = \\ket{\\varphi}\\otimes \\ket{\\phi} ~~~ \\Rightarrow ~~~ \\rho_1 = \\Tr_{\\Hil_2}\\ketbra{\\psi}{\\psi} = \\ketbra{\\varphi}{\\varphi} = \\rho_1^2\n",
    "$$"
   ]
  },
  {
   "cell_type": "markdown",
   "id": "6ec3c01f",
   "metadata": {
    "slideshow": {
     "slide_type": "fragment"
    }
   },
   "source": [
    "- si $\\ket{\\psi}$ es *entrelazado* $~~\\Rightarrow ~~ \\rho_1$ se vuelve *mezclado* \n",
    "<br>\n",
    "<br>\n",
    "Podemos ver esto con la descomposición de Schmidt\n",
    "<br>\n",
    "$$\n",
    "\\ket{\\psi} = \\sum_{a=1}^r \\sqrt{s_a}\\ket{f_a}\\ket{\\tilde f_a} ~~~\\Rightarrow ~~~ \\rho_1 = \\Tr_{\\Hil_2}\\ketbra{\\psi}{\\psi} = \\sum_{a=1}^r s_a \\ket{f_a}\\bra{f_a} \\neq \\rho_1^2\n",
    "$$\n"
   ]
  },
  {
   "cell_type": "markdown",
   "id": "085f2f09",
   "metadata": {
    "slideshow": {
     "slide_type": "fragment"
    }
   },
   "source": [
    "En resumen: bajo *traza parcial*, el entrelazamiento induce *mezcla*"
   ]
  },
  {
   "cell_type": "markdown",
   "id": "5a845ab9",
   "metadata": {
    "slideshow": {
     "slide_type": "fragment"
    }
   },
   "source": [
    "<div class=\"alert alert-block alert-success\">\n",
    "<b>Ejercicio:</b> \n",
    "Define una función que recibe como argumentos, una matriz de dimensión $(mn)^2$ y, a parte, los datos $d_1=m$ y $d_2=n$ como dimensiones de $\\Hil_1$ y $\\Hil_2$, y que devuelva las dos trazas parciales $\\rho_1 = \\tr_{\\Hil_2}\\rho$ y \n",
    "$\\rho_2 = \\tr_{\\Hil_1}\\rho$.\n",
    "</div>"
   ]
  }
 ],
 "metadata": {
  "celltoolbar": "Slideshow",
  "kernelspec": {
   "display_name": "Python 3 (ipykernel)",
   "language": "python",
   "name": "python3"
  },
  "language_info": {
   "codemirror_mode": {
    "name": "ipython",
    "version": 3
   },
   "file_extension": ".py",
   "mimetype": "text/x-python",
   "name": "python",
   "nbconvert_exporter": "python",
   "pygments_lexer": "ipython3",
   "version": "3.9.16"
  },
  "varInspector": {
   "cols": {
    "lenName": 16,
    "lenType": 16,
    "lenVar": 40
   },
   "kernels_config": {
    "python": {
     "delete_cmd_postfix": "",
     "delete_cmd_prefix": "del ",
     "library": "var_list.py",
     "varRefreshCmd": "print(var_dic_list())"
    },
    "r": {
     "delete_cmd_postfix": ") ",
     "delete_cmd_prefix": "rm(",
     "library": "var_list.r",
     "varRefreshCmd": "cat(var_dic_list()) "
    }
   },
   "types_to_exclude": [
    "module",
    "function",
    "builtin_function_or_method",
    "instance",
    "_Feature"
   ],
   "window_display": false
  }
 },
 "nbformat": 4,
 "nbformat_minor": 5
}
