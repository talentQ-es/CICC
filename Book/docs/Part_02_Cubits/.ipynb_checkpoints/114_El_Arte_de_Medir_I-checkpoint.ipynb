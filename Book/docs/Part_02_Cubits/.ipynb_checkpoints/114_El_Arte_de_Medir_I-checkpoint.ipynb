{
 "cells": [
  {
   "cell_type": "markdown",
   "metadata": {
    "slideshow": {
     "slide_type": "slide"
    }
   },
   "source": [
    "\n",
    "<table width=\"100%\">\n",
    "<td style=\"font-size:40px;font-style:italic;text-align:right;background-color:rgba(0, 220, 170,0.7)\">\n",
    "El arte de medir un cúbit\n",
    "</td></table>\n",
    "\n",
    "\n",
    "\n",
    "$ \\newcommand{\\bra}[1]{\\langle #1|} $\n",
    "$ \\newcommand{\\ket}[1]{|#1\\rangle} $\n",
    "$ \\newcommand{\\braket}[2]{\\langle #1|#2\\rangle} $\n",
    "$ \\newcommand{\\i}{{\\color{blue} i}} $ \n",
    "$ \\newcommand{\\tr}{{\\rm tr}} $\n",
    "$ \\newcommand{\\Hil}{{\\mathcal H}} $\n",
    "$ \\newcommand{\\boldn}{{\\bf n}} $\n",
    "$ \\newcommand{\\bn}{{\\bf n}} $\n",
    "$ \\newcommand{\\bsig}{\\boldsymbol{\\sigma}} $\n"
   ]
  },
  {
   "cell_type": "markdown",
   "metadata": {
    "slideshow": {
     "slide_type": "skip"
    }
   },
   "source": [
    "- [Medidas de 1 cúbit](#uncubit)\n",
    "\n",
    "- [Medidas en un ordenador cuántico real](#ord_real)\n",
    "\n",
    "\n",
    "- [La moneda cuántica](#moneda)\n",
    "\n",
    "\n",
    "- [Medidas en una base general](#basegeneral)\n",
    "\n",
    "\n",
    "- [Valores esperados](#vevs)"
   ]
  },
  {
   "cell_type": "code",
   "execution_count": 1,
   "metadata": {
    "run_control": {
     "marked": true
    },
    "slideshow": {
     "slide_type": "-"
    }
   },
   "outputs": [],
   "source": [
    "import sys\n",
    "sys.path.append('../')\n",
    "import macro_tQ as tQ\n",
    "\n",
    "import numpy as np\n",
    "import scipy.linalg as la\n",
    "from IPython.display import display,Markdown,Latex\n",
    "import matplotlib.pyplot as plt\n",
    "from qiskit.tools.visualization import array_to_latex"
   ]
  },
  {
   "cell_type": "code",
   "execution_count": 6,
   "metadata": {
    "run_control": {
     "marked": true
    }
   },
   "outputs": [],
   "source": [
    "from qiskit import QuantumCircuit\n",
    "from qiskit import Aer, execute, transpile \n",
    "from qiskit.tools.visualization import plot_histogram\n",
    "from qiskit.quantum_info import Statevector\n"
   ]
  },
  {
   "cell_type": "markdown",
   "metadata": {
    "slideshow": {
     "slide_type": "skip"
    }
   },
   "source": [
    "<a id='uncubit'></a>\n",
    "<table width=\"100%\">\n",
    "    <td style=\"font-size:25px; font-family:Helvetica;text-align:left;background-color:rgba(0,0,900, 0.3);\">\n",
    "<b>Medidas de 1 cúbit</b>\n",
    "</table>"
   ]
  },
  {
   "cell_type": "markdown",
   "metadata": {
    "slideshow": {
     "slide_type": "slide"
    }
   },
   "source": [
    "## Medidas en la base computacional"
   ]
  },
  {
   "cell_type": "markdown",
   "metadata": {
    "slideshow": {
     "slide_type": "-"
    }
   },
   "source": [
    "El **aparato de medida estándar** en computación cuántica asigna valores $\\{0,1\\}$ a los kets $\\ket{0}$ y $\\ket{1}$ de la base computacional\n",
    "<br>\n",
    "<br>\n",
    "<br>\n",
    "\n",
    "\n",
    "<div>\n",
    "<img src=\"images/cubit_meter2.png\" width=\"25%\" style=\"margin:auto\"/>\n",
    "</div>\n",
    "donde $a = 0,1$ "
   ]
  },
  {
   "cell_type": "markdown",
   "metadata": {
    "slideshow": {
     "slide_type": "skip"
    }
   },
   "source": [
    "En general, el estado es destruido en la medida, por lo que se suele omitir el hilo cuántico a su salida\n",
    "<br>\n",
    "<br>\n",
    "<div>\n",
    "<img src=\"images/cubit_meter1.png\" width=\"30%\" style=\"margin:auto\"/>\n",
    "</div>\n",
    "\n"
   ]
  },
  {
   "cell_type": "markdown",
   "metadata": {
    "slideshow": {
     "slide_type": "fragment"
    }
   },
   "source": [
    "Se trata de una *medida proyectiva* a la que asociamos el observable $Z = \\sigma_z $. \n",
    "\n",
    "<br>\n",
    "$$\n",
    "Z\\ket{0} = +\\ket{0}~~~~,~~~~~ Z\\ket{1} = -\\ket{1}\n",
    "$$ "
   ]
  },
  {
   "cell_type": "markdown",
   "metadata": {
    "slideshow": {
     "slide_type": "fragment"
    }
   },
   "source": [
    "\n",
    "Podemos unificar ambos resultados como: $~Z\\ket{a} = (-1)^a\\ket{a}$, \n",
    "con  $a=\\{0,1\\}$."
   ]
  },
  {
   "cell_type": "markdown",
   "metadata": {
    "slideshow": {
     "slide_type": "skip"
    }
   },
   "source": [
    "## Medidas en un simulador"
   ]
  },
  {
   "cell_type": "markdown",
   "metadata": {
    "slideshow": {
     "slide_type": "skip"
    }
   },
   "source": [
    "Se trata de un programa clásico que **simula** un circuito cuántico utilizando las leyes de la Mecánica Cuántica \n",
    "\n",
    "El resultado de un circuito calculado con $qasm\\_simulator$ sólo se puede obtener mediante un aparato de medida que, usado repetidas veces nos permitirá reconstruir el estado de manera estadística."
   ]
  },
  {
   "cell_type": "code",
   "execution_count": 12,
   "metadata": {
    "run_control": {
     "marked": false
    },
    "slideshow": {
     "slide_type": "slide"
    }
   },
   "outputs": [
    {
     "data": {
      "image/png": "[encoded data removed]",
      "text/plain": [
       "<Figure size 185.453x200.667 with 1 Axes>"
      ]
     },
     "metadata": {},
     "output_type": "display_data"
    },
    {
     "name": "stdout",
     "output_type": "stream",
     "text": [
      "{'0': 1000}\n"
     ]
    }
   ],
   "source": [
    "' hay que elegir un método de ejecución del circuito(backend), puede ser real, o simulado'\n",
    "M_simulator = Aer.get_backend('qasm_simulator')\n",
    "\n",
    "qc=QuantumCircuit(1,1)\n",
    "#qc.x(0)\n",
    "#qc.h(0)\n",
    "#qc.u(np.pi/3,np.pi/5,0,0)\n",
    "qc.measure(0,0)\n",
    "\n",
    "display(qc.draw('mpl'))\n",
    "\n",
    "# opción 1\n",
    "job=execute(qc,backend=M_simulator,shots=1000) \n",
    "result=job.result()\n",
    "counts=result.get_counts()\n",
    "\n",
    "# opción 2\n",
    "#qcobj = transpile(qc, M_simulator )      # Crea un objeto compilado a partir del circuito  \n",
    "#job = M_simulator.run(qcobj, shots=2048) # Hacemos la simulación 2048 veces \n",
    "#resultado=job.result()\n",
    "#counts=resultado.get_counts()\n",
    "\n",
    "'escribimos las cuentas'\n",
    "print(counts)"
   ]
  },
  {
   "cell_type": "markdown",
   "metadata": {
    "slideshow": {
     "slide_type": "skip"
    }
   },
   "source": [
    "Visualizamos el resultado mediante un histograma"
   ]
  },
  {
   "cell_type": "code",
   "execution_count": 4,
   "metadata": {
    "run_control": {
     "marked": false
    },
    "slideshow": {
     "slide_type": "skip"
    }
   },
   "outputs": [
    {
     "data": {
      "image/png": "[encoded data removed]",
      "text/plain": [
       "<Figure size 700x500 with 1 Axes>"
      ]
     },
     "execution_count": 4,
     "metadata": {},
     "output_type": "execute_result"
    }
   ],
   "source": [
    "from qiskit.tools.visualization import plot_histogram\n",
    "plot_histogram(counts) # Mostramos un histograma de resultados"
   ]
  },
  {
   "cell_type": "markdown",
   "metadata": {},
   "source": [
    "## Tomografía Cuántica"
   ]
  },
  {
   "cell_type": "markdown",
   "metadata": {
    "slideshow": {
     "slide_type": "-"
    }
   },
   "source": [
    "Una repetición de medidas de un estado $\\ket{\\psi} = c_0\\ket{0} + c_1\\ket{1}$ permite tener acceso estadístico a las amplitudes de probabilidad \n",
    "\n"
   ]
  },
  {
   "cell_type": "markdown",
   "metadata": {
    "slideshow": {
     "slide_type": "-"
    }
   },
   "source": [
    "$$\n",
    "p(0) = \\frac{n_{0}}{N} = |c_0|^2 = |\\braket{0}{\\psi}|^2~~~~~~~~~~~~~~~~ p(1) = \\frac{n_{1}}{N}=|c_1|^2 =  |\\braket{1}{\\psi}|^2 \\, .\n",
    "$$\n",
    "<br>\n",
    "\n",
    "Este procedimiento de reconstrucción es la base de la **tomografía cuántica**."
   ]
  },
  {
   "cell_type": "markdown",
   "metadata": {},
   "source": [
    "Definamos un vector aleatorio"
   ]
  },
  {
   "cell_type": "code",
   "execution_count": 37,
   "metadata": {
    "run_control": {
     "marked": false
    },
    "slideshow": {
     "slide_type": "slide"
    }
   },
   "outputs": [
    {
     "data": {
      "text/latex": [
       "$$(-0.116379078789 + 0.722443439793 i) |0\\rangle+(0.119179993585 - 0.671064464452 i) |1\\rangle$$"
      ],
      "text/plain": [
       "<IPython.core.display.Latex object>"
      ]
     },
     "metadata": {},
     "output_type": "display_data"
    }
   ],
   "source": [
    "psi_state= tQ.random_ket(2).reshape(2)\n",
    "display(Statevector(psi_state).draw('latex'))\n",
    "#display(Statevector(psi_state).draw('Bloch'))"
   ]
  },
  {
   "cell_type": "markdown",
   "metadata": {},
   "source": [
    "Las probabilidades de obtener '0' y '1' son los cuadrados de las amplitudes"
   ]
  },
  {
   "cell_type": "code",
   "execution_count": 74,
   "metadata": {
    "run_control": {
     "marked": false
    }
   },
   "outputs": [
    {
     "name": "stdout",
     "output_type": "stream",
     "text": [
      "p(0)= 0.42795 , p(1)= 0.57205\n"
     ]
    }
   ],
   "source": [
    "p0 = np.abs(psi_state[0])**2\n",
    "p1 = np.abs(psi_state[1])**2\n",
    "\n",
    "print('p(0)=', np.round(p0,5),', p(1)=', np.round(p1,5))\n"
   ]
  },
  {
   "cell_type": "markdown",
   "metadata": {},
   "source": [
    "Vamos a recuperarlas *experimentalmente* corriendo un circuito. Primero obtenemos el diccionario de cuentas"
   ]
  },
  {
   "cell_type": "code",
   "execution_count": 75,
   "metadata": {
    "run_control": {
     "marked": false
    },
    "slideshow": {
     "slide_type": "slide"
    }
   },
   "outputs": [
    {
     "data": {
      "image/png": "[encoded data removed]",
      "text/plain": [
       "<Figure size 519.897x200.667 with 1 Axes>"
      ]
     },
     "metadata": {},
     "output_type": "display_data"
    },
    {
     "name": "stdout",
     "output_type": "stream",
     "text": [
      "counts_psi =  {'1': 571583, '0': 428417}\n"
     ]
    },
    {
     "data": {
      "image/png": "[encoded data removed]",
      "text/plain": [
       "<Figure size 700x500 with 1 Axes>"
      ]
     },
     "execution_count": 75,
     "metadata": {},
     "output_type": "execute_result"
    }
   ],
   "source": [
    "qc_psi = QuantumCircuit(1,1)\n",
    "qc_psi.initialize(psi_state,0)\n",
    "qc_psi.measure(0,0)\n",
    "display(qc_psi.draw('mpl'))\n",
    "\n",
    "nshots = 1000000\n",
    "counts_psi = execute(qc_psi,M_simulator,shots=nshots).result().get_counts()\n",
    "print('counts_psi = ',counts_psi)\n",
    "\n",
    "plot_histogram(counts_psi) # Mostramos un histograma de resultados"
   ]
  },
  {
   "cell_type": "markdown",
   "metadata": {
    "slideshow": {
     "slide_type": "slide"
    }
   },
   "source": [
    "Ahora podemos  calcular las frecuencias relativas $n_i/N$  y compararlas con las probabilidades $p(i)$"
   ]
  },
  {
   "cell_type": "code",
   "execution_count": 77,
   "metadata": {
    "run_control": {
     "marked": true
    }
   },
   "outputs": [
    {
     "name": "stdout",
     "output_type": "stream",
     "text": [
      "p(0)_exp = 0.428417   p(1)_exp =  0.571583\n"
     ]
    }
   ],
   "source": [
    "p0_exp = counts_psi['0']/nshots\n",
    "p1_exp = counts_psi['1']/nshots\n",
    "\n",
    "print('p(0)_exp =', p0_exp,'  p(1)_exp = ',p1_exp)"
   ]
  },
  {
   "cell_type": "markdown",
   "metadata": {
    "slideshow": {
     "slide_type": "skip"
    }
   },
   "source": [
    "# Medidas en un ordenador cuántico real"
   ]
  },
  {
   "cell_type": "markdown",
   "metadata": {
    "slideshow": {
     "slide_type": "skip"
    }
   },
   "source": [
    "\n",
    "\n",
    "Una vez que hemos verificado que el programa \n",
    "corre bien en nuestro simulador, podemos lanzarlo a un ordenador cuántico real sin más que cambiar el *backend*.\n",
    "\n",
    "Por el momento usaremos los ordenadores gratuitos de IBM. Para ello es necesario hacer una cuenta de usuario\n",
    "en https://quantum-computing.ibm.com/ \n",
    "\n",
    "Go to https://quantum-computing.ibm.com/account and get API-token in the MyAccount section. Copy token and paste in the following cell in between the brackets (after uncommenting the line)\n"
   ]
  },
  {
   "cell_type": "code",
   "execution_count": null,
   "metadata": {
    "run_control": {
     "marked": true
    },
    "slideshow": {
     "slide_type": "skip"
    }
   },
   "outputs": [],
   "source": [
    "#uncomment and paste your token\n",
    "#IBMQ.save_account('')"
   ]
  },
  {
   "cell_type": "markdown",
   "metadata": {
    "slideshow": {
     "slide_type": "skip"
    }
   },
   "source": [
    "After that, your token is saved in this computer. In order to load the account just type"
   ]
  },
  {
   "cell_type": "code",
   "execution_count": 78,
   "metadata": {
    "collapsed": true,
    "jupyter": {
     "outputs_hidden": true
    },
    "run_control": {
     "marked": true
    },
    "slideshow": {
     "slide_type": "skip"
    }
   },
   "outputs": [
    {
     "name": "stderr",
     "output_type": "stream",
     "text": [
      "/var/folders/jv/lqf3ggs56dz0wc8dtkz265440000gn/T/ipykernel_3107/3448746441.py:2: DeprecationWarning: The package qiskit.providers.ibmq is being deprecated. Please see https://ibm.biz/provider_migration_guide to get instructions on how to migrate to qiskit-ibm-provider (https://github.com/Qiskit/qiskit-ibm-provider) and qiskit-ibm-runtime (https://github.com/Qiskit/qiskit-ibm-runtime).\n",
      "  IBMQ.load_account()\n",
      "/var/folders/jv/lqf3ggs56dz0wc8dtkz265440000gn/T/ipykernel_3107/3448746441.py:2: DeprecationWarning: The qiskit.IBMQ entrypoint and the qiskit-ibmq-provider package (accessible from 'qiskit.providers.ibmq`) are deprecated and will be removed in a future release. Instead you should use the qiskit-ibm-provider package which is accessible from 'qiskit_ibm_provider'. You can install it with 'pip install qiskit_ibm_provider'. Just replace 'qiskit.IBMQ' with 'qiskit_ibm_provider.IBMProvider'\n",
      "  IBMQ.load_account()\n"
     ]
    },
    {
     "data": {
      "text/plain": [
       "[<IBMQSimulator('ibmq_qasm_simulator') from IBMQ(hub='ibm-q', group='open', project='main')>,\n",
       " <IBMQSimulator('simulator_statevector') from IBMQ(hub='ibm-q', group='open', project='main')>,\n",
       " <IBMQSimulator('simulator_mps') from IBMQ(hub='ibm-q', group='open', project='main')>,\n",
       " <IBMQSimulator('simulator_extended_stabilizer') from IBMQ(hub='ibm-q', group='open', project='main')>,\n",
       " <IBMQSimulator('simulator_stabilizer') from IBMQ(hub='ibm-q', group='open', project='main')>,\n",
       " <IBMQBackend('ibm_lagos') from IBMQ(hub='ibm-q', group='open', project='main')>,\n",
       " <IBMQBackend('ibm_nairobi') from IBMQ(hub='ibm-q', group='open', project='main')>,\n",
       " <IBMQBackend('ibm_perth') from IBMQ(hub='ibm-q', group='open', project='main')>,\n",
       " <IBMQBackend('ibm_brisbane') from IBMQ(hub='ibm-q', group='open', project='main')>]"
      ]
     },
     "execution_count": 78,
     "metadata": {},
     "output_type": "execute_result"
    }
   ],
   "source": [
    "from qiskit import IBMQ\n",
    "IBMQ.load_account()\n",
    "provider = IBMQ.get_provider(hub='ibm-q')\n",
    "provider.backends()"
   ]
  },
  {
   "cell_type": "markdown",
   "metadata": {
    "slideshow": {
     "slide_type": "skip"
    }
   },
   "source": [
    "antes de enviar un trabajo es conveniente consultar qué máquina de las adecuadas a nuestras necesidades es la que está más libre"
   ]
  },
  {
   "cell_type": "code",
   "execution_count": 79,
   "metadata": {
    "run_control": {
     "marked": true
    },
    "slideshow": {
     "slide_type": "skip"
    }
   },
   "outputs": [
    {
     "name": "stdout",
     "output_type": "stream",
     "text": [
      "least busy backend:  ibm_nairobi\n"
     ]
    }
   ],
   "source": [
    "from qiskit.providers.ibmq import least_busy\n",
    "IBMQ_best_backend = least_busy(provider.backends(filters=lambda x: x.configuration().n_qubits >= 1 \n",
    "                                       and not x.configuration().simulator \n",
    "                                       and x.status().operational==True))\n",
    "print(\"least busy backend: \", IBMQ_best_backend)"
   ]
  },
  {
   "cell_type": "markdown",
   "metadata": {
    "slideshow": {
     "slide_type": "skip"
    }
   },
   "source": [
    "Ahora compilamos y enviamos el trabajo"
   ]
  },
  {
   "cell_type": "code",
   "execution_count": 80,
   "metadata": {
    "run_control": {
     "marked": true
    },
    "slideshow": {
     "slide_type": "skip"
    }
   },
   "outputs": [],
   "source": [
    "qobj = transpile(qc_psi, IBMQ_best_backend)           # Compila el código para el backend\n",
    "job = IBMQ_best_backend.run(qobj, shots=1024) # Hacemos la simulación 1024 veces "
   ]
  },
  {
   "cell_type": "markdown",
   "metadata": {
    "slideshow": {
     "slide_type": "skip"
    }
   },
   "source": [
    "podemos monitorizar la ejecución"
   ]
  },
  {
   "cell_type": "code",
   "execution_count": 81,
   "metadata": {
    "run_control": {
     "marked": true
    },
    "slideshow": {
     "slide_type": "skip"
    }
   },
   "outputs": [
    {
     "name": "stdout",
     "output_type": "stream",
     "text": [
      "Job Status: job has successfully run\n"
     ]
    }
   ],
   "source": [
    "from qiskit.tools.monitor import job_monitor\n",
    "job_monitor(job)"
   ]
  },
  {
   "cell_type": "markdown",
   "metadata": {
    "slideshow": {
     "slide_type": "skip"
    }
   },
   "source": [
    "extraemos el resultado"
   ]
  },
  {
   "cell_type": "code",
   "execution_count": 82,
   "metadata": {
    "run_control": {
     "marked": true
    },
    "slideshow": {
     "slide_type": "skip"
    }
   },
   "outputs": [
    {
     "name": "stdout",
     "output_type": "stream",
     "text": [
      "Cuentas= {'1': 515, '0': 509}\n"
     ]
    }
   ],
   "source": [
    "counts = job.result().get_counts()\n",
    "print(\"Cuentas=\",counts)"
   ]
  },
  {
   "cell_type": "code",
   "execution_count": 83,
   "metadata": {
    "collapsed": true,
    "jupyter": {
     "outputs_hidden": true
    },
    "run_control": {
     "marked": true
    },
    "slideshow": {
     "slide_type": "skip"
    }
   },
   "outputs": [
    {
     "data": {
      "image/png": "[encoded data removed]",
      "text/plain": [
       "<Figure size 700x500 with 1 Axes>"
      ]
     },
     "execution_count": 83,
     "metadata": {},
     "output_type": "execute_result"
    }
   ],
   "source": [
    "plot_histogram(counts)"
   ]
  },
  {
   "cell_type": "markdown",
   "metadata": {
    "slideshow": {
     "slide_type": "skip"
    }
   },
   "source": [
    "### <a></a>\n",
    "<a id='moneda'></a>\n",
    "<table width=\"100%\">\n",
    "    <td style=\"font-size:25px;font-family:Helvetica;text-align:left;background-color:rgba(12, 43, 337, 0.3);\">\n",
    "<b>La moneda cuántica</b>\n",
    "</table>   "
   ]
  },
  {
   "cell_type": "markdown",
   "metadata": {
    "slideshow": {
     "slide_type": "skip"
    }
   },
   "source": [
    "El resultado de tirar una moneda al aire es una variable aleatoria binaria  equiprobable:  X = (cara,cruz). "
   ]
  },
  {
   "cell_type": "markdown",
   "metadata": {
    "slideshow": {
     "slide_type": "skip"
    }
   },
   "source": [
    "Es irrelevante si analizamos el resultado cada tirada o cada dos, o tres tiradas. Las frecuencias relativas de caras y cruces, siempre serán próximas a $1/2$. "
   ]
  },
  {
   "cell_type": "markdown",
   "metadata": {
    "slideshow": {
     "slide_type": "skip"
    }
   },
   "source": [
    "Podemos imaginar un experimento similar con un cúbit, donde cara $\\to \\ket{0}$ y cruz $\\to\\ket{1}$ son los estados posibles de la medida en la base $Z$."
   ]
  },
  {
   "cell_type": "markdown",
   "metadata": {
    "slideshow": {
     "slide_type": "skip"
    }
   },
   "source": [
    "Tirar la moneda  clásica es ponerla en un estado que puede ser cara o cruz al caer sobre la mesa \n",
    "\n",
    "Tirar la moneda cuántica  es aplicar el operador $H$  para poner cualquiera de los dos resultados en una superposición \n",
    "$H\\ket{0} = \\frac{1}{\\sqrt{2}}(\\ket{0} + \\ket{1})$ y $H\\ket{1} = \\frac{1}{\\sqrt{2}}(\\ket{0} - \\ket{1})$ \n"
   ]
  },
  {
   "cell_type": "markdown",
   "metadata": {
    "slideshow": {
     "slide_type": "skip"
    }
   },
   "source": [
    "Ahora no es lo mismo medir el resultado después de una tirada\n",
    "\n",
    "$$\n",
    "\\ket{0}~ \\stackrel{\\rm tirar}{\\longrightarrow} ~ H \\ket{0}= \\ket{+} ~ \\stackrel{\\rm medir}{\\longrightarrow} ~p(0) = p(1) = 0.5\n",
    "$$\n",
    "que hacerlo después de dos tiradas\n",
    "\n",
    "$$\n",
    "\\ket{0}~ \\stackrel{\\rm tirar}{\\longrightarrow} ~ H \\ket{0}~ \\stackrel{\\rm tirar}{\\longrightarrow} H^2\\ket{0} = \\ket{0} ~ \\stackrel{\\rm medir}{\\longrightarrow} ~p(0) = 1 ~,~p(1) = 0\n",
    "$$"
   ]
  },
  {
   "cell_type": "code",
   "execution_count": null,
   "metadata": {
    "run_control": {
     "marked": true
    },
    "slideshow": {
     "slide_type": "skip"
    }
   },
   "outputs": [],
   "source": [
    "qc = QuantumCircuit(1,1)\n",
    "\n",
    "qc.h(0)\n",
    "qc.measure(0,0) #anula o no esta medición intermedia para ver la diferencia\n",
    "qc.h(0)\n",
    "qc.measure(0,0)\n",
    "qc.draw('mpl')"
   ]
  },
  {
   "cell_type": "markdown",
   "metadata": {
    "slideshow": {
     "slide_type": "skip"
    }
   },
   "source": [
    "Ejecutemos el circuito con y sin medición intermedia"
   ]
  },
  {
   "cell_type": "code",
   "execution_count": null,
   "metadata": {
    "run_control": {
     "marked": true
    },
    "slideshow": {
     "slide_type": "skip"
    }
   },
   "outputs": [],
   "source": [
    "M_simulator = Aer.get_backend('qasm_simulator')\n",
    "\n",
    "execute(qc,M_simulator).result().get_counts()"
   ]
  },
  {
   "cell_type": "markdown",
   "metadata": {
    "slideshow": {
     "slide_type": "skip"
    }
   },
   "source": [
    "La medición intermedia destruye la superposición y hace colapsar el estado a $\\ket{0}$  ó $\\ket{1}$. \n",
    "\n",
    "Sin dicha medición, las amplitudes de probabilidad para obtener $\\ket{1}$ a partir de $\\ket{0}$ interfieren destructivamente"
   ]
  },
  {
   "cell_type": "markdown",
   "metadata": {
    "slideshow": {
     "slide_type": "slide"
    }
   },
   "source": [
    "<a id='basegeneral'></a>\n",
    "<table width=\"100%\">\n",
    "    <td style=\"font-size:25px;font-family:Helvetica;text-align:left;background-color:rgba(12, 43, 337, 0.3);\">\n",
    "<b>Medidas en una base general</b>\n",
    "</table>  "
   ]
  },
  {
   "cell_type": "markdown",
   "metadata": {
    "slideshow": {
     "slide_type": "-"
    }
   },
   "source": [
    "<div class=\"alert alert-block alert-danger\">\n",
    "<b>Recuerda:</b> \n",
    "<div style=\"text-align: center;\" markdown=\"1\">\n",
    "no importa en qué dirección apunte el eje $\\hat{\\bf n} $ de un Stern-Gerlach \n",
    "<br>   \n",
    "<br>    \n",
    "$$~ \\Downarrow ~$$\n",
    "<br>\n",
    "a la salida <b>siempre</b> mediremos $\\pm 1$ (deflexión positiva o negativa)\n",
    "<br>\n",
    "<br>\n",
    "$$~ \\Downarrow ~$$\n",
    "<br>    \n",
    "si no se destruye, el estado posterior será $\\ket{\\pm,\\hat{\\bf n}}$ en cada caso\n",
    "</div>\n",
    "</div>"
   ]
  },
  {
   "cell_type": "markdown",
   "metadata": {
    "slideshow": {
     "slide_type": "slide"
    }
   },
   "source": [
    "Supongamos que un estado $\\ket{\\psi}$ entra en el detector con un campo ${\\bf B}$ orientado en la dirección\n",
    "<br>\n",
    "\n",
    "$$\n",
    "\\hat\\bn(\\theta,\\phi) = \\sin\\theta\\cos\\phi \\, \\hat {\\bf x} + \\sin\\theta\\sin\\phi \\, \\hat {\\bf y} + \\cos\\theta \\, \\hat {\\bf z}\n",
    "$$\n",
    "<br>\n"
   ]
  },
  {
   "cell_type": "markdown",
   "metadata": {
    "slideshow": {
     "slide_type": "fragment"
    }
   },
   "source": [
    "\n",
    "A la salida, el resultado $+1$ indicará que el $\\ket{\\psi}$ ha colapsado al estado\n",
    "\n",
    "$$\n",
    "\\ket{\\psi} \\stackrel{+}{\\longrightarrow} \\ket{+,\\hat\\bn} = ~\\begin{bmatrix} \\cos\\displaystyle\\frac{\\theta}{2} \\\\  ~e^{i\\phi}\\sin\\displaystyle\\frac{\\theta}{2} \\end{bmatrix} ~~~~~~~~,~~~~~\n",
    "~~~~~\\hbox{con probabilidad} ~~~~~ p_{\\hat\\bn}(+) = |\\braket{+,\\hat\\bn}{\\psi}|^2\n",
    "$$\n",
    "\n"
   ]
  },
  {
   "cell_type": "markdown",
   "metadata": {
    "slideshow": {
     "slide_type": "fragment"
    }
   },
   "source": [
    "A la salida, el resultado $-1$ indicará que el $\\ket{\\psi}$ ha colapsado al estado\n",
    "\n",
    "$$\n",
    "\\ket{\\psi} \\stackrel{-}{\\longrightarrow} \\ket{-,\\hat\\bn} =  \\begin{bmatrix} -e^{-i\\phi}\\sin\\displaystyle\\frac{\\theta}{2} \\\\  \\cos\\displaystyle\\frac{\\theta}{2} \\end{bmatrix} ~~~~~~~~,~~~~~\n",
    "~~~~~\\hbox{con probabilidad} ~~~~~ p_{\\hat\\bn}(-) = |\\braket{-,\\hat\\bn}{\\psi}|^2\n",
    "$$\n",
    "\n"
   ]
  },
  {
   "cell_type": "markdown",
   "metadata": {
    "slideshow": {
     "slide_type": "slide"
    }
   },
   "source": [
    "Para adaptar la discusión al *contexto computacional*, $\\ket{+}\\to \\ket{0}, \\ket{-}\\to \\ket{1}$  vamos a unificar la notación \n",
    "<br>\n",
    "<br>\n",
    "\n",
    "$$\n",
    "\\ket{+, \\hat{\\bf n}} \\to \\ket{0}_{\\hat{\\bf n}} ~~~~~,~~~~~\\ket{-, \\hat{\\bf n}}\\to  \\ket{1}_{\\hat{\\bf n}} \n",
    "$$\n",
    "<br>\n",
    "\n",
    "Con esta notación, la ecuación de autovalores\n",
    "\n",
    "$$\n",
    "\\hat {\\bf n} \\cdot \\boldsymbol{\\sigma}\\,  \\ket{\\pm, \\hat{\\bf n}} =  \\pm \\, \\ket{\\pm, \\hat{\\bf n}} \n",
    "$$\n",
    "\n",
    "se escribe \n",
    "\n",
    "$$\n",
    "\\hat {\\bf n} \\cdot \\bsig\\,  \\ket{a}_{\\hat{\\bf n}}~ =~   (-1)^a \\ket{a}_{\\hat{\\bf n}}~~~~~~a = 0,1\n",
    "$$\n",
    "\n"
   ]
  },
  {
   "cell_type": "markdown",
   "metadata": {
    "slideshow": {
     "slide_type": "slide"
    }
   },
   "source": [
    "Sea $~\\hat{\\bf z}\\cdot \\bsig ~$ el <u>*aparato de medida estandar*</u> orientado a lo largo del eje $~\\hat{\\bf z}$\n",
    "\n",
    "$$\n",
    " \\hat{\\bf z}\\cdot \\bsig \\,  \\ket{a}_{\\hat{\\bf z}} = (-1)^a\\ket{a}_{\\hat{\\bf z}} = Z \\ket{a} \n",
    "$$\n"
   ]
  },
  {
   "cell_type": "markdown",
   "metadata": {
    "slideshow": {
     "slide_type": "fragment"
    }
   },
   "source": [
    "y  $~\\hat\\bn\\cdot \\bsig~$ el <u>aparato de medida orientado</u> a lo largo del eje $\\hat\\bn$\n",
    "\n",
    "\n",
    "$$\n",
    "\\hat\\bn\\cdot \\bsig \\,  \\ket{a}_{\\hat{\\bf n}} = (-1)^a\\ket{a}_{\\hat{\\bf n}}\n",
    "$$\n"
   ]
  },
  {
   "cell_type": "markdown",
   "metadata": {
    "slideshow": {
     "slide_type": "fragment"
    }
   },
   "source": [
    "ambas situaciones está  relacionadas mediante una simple *rotación*\n",
    "<div>\n",
    "<img src=\"images/BlochSphere_basis.png\" width=\"30%\" style=\"margin:auto\"/>\n",
    "</div>\n",
    "<br>\n"
   ]
  },
  {
   "cell_type": "markdown",
   "metadata": {
    "slideshow": {
     "slide_type": "slide"
    }
   },
   "source": [
    "El operador que implementa esta rotación en el espacio $\\Hil = {\\mathbb C}^2$ de un cúbit es\n",
    "<br>\n",
    "<br>\n",
    "\n",
    "$$\n",
    "U(\\hat {\\bf z}\\to \\hat \\bn) = U(\\theta,\\phi,0)=\\begin{bmatrix}   \\cos \\displaystyle\\frac{\\theta}{2}  & -  \\sin\\displaystyle\\frac{\\theta}{2}  \\\\ \n",
    "\\rule{0mm}{4mm} e^{i\\phi} \\sin \\displaystyle\\frac{\\theta}{2} &e^{i\\phi} \\cos \\displaystyle\\frac{\\theta}{2} \\end{bmatrix}\n",
    "$$\n",
    "<br>\n",
    "<br>\n",
    "\n",
    "que implementa el  *cambio de base* $\\{\\ket{a}_{\\hat{\\bf z}}\\}$ a la base $\\{\\ket{a}_{\\hat{\\bf n}}\\}, ~a = 0,1$ \n",
    "<br>\n",
    "<br>\n",
    "$$\n",
    "\\ket{0}_{\\hat\\boldn} = U \\ket{0}_{\\hat{\\bf z}}~~~~~~,~~~~~~\n",
    "\\ket{1}_{\\hat\\boldn} = U \\ket{1}_{\\hat{\\bf z}}\n",
    "$$\n",
    "<br>\n",
    "\n"
   ]
  },
  {
   "cell_type": "markdown",
   "metadata": {},
   "source": [
    "es decir \n",
    "$$ \\begin{bmatrix} \\cos\\theta \\\\ e^{i\\phi}\\sin\\theta \\end{bmatrix} = U\\cdot \\begin{bmatrix}1\\\\0 \\end{bmatrix} ~~~~~~~,~~~~~~~\n",
    "\\begin{bmatrix} -\\sin\\theta \\\\ e^{i\\phi}\\cos\\theta \\end{bmatrix} = U\\cdot \\begin{bmatrix}0\\\\1 \\end{bmatrix}  \n",
    "$$"
   ]
  },
  {
   "cell_type": "markdown",
   "metadata": {
    "slideshow": {
     "slide_type": "slide"
    }
   },
   "source": [
    "Si las componentes de los vectores rotan en la forma $\\ket{a}_{\\hat{\\bf n}} = U\\ket{a}_{\\hat{\\bf z}}$\n",
    "los observables asociados a los  aparatos de *Stern Gerlach*: *original* $\\to \\hat {\\bf z} \\cdot \\bsig~$, y *rotado*$\\to\\hat {\\bf n} \\cdot \\bsig~ $, se relacionan algebraicamente *como lo hace cualquier operador*\n",
    "\n",
    "$$\n",
    "\\hat {\\bf n} \\cdot \\bsig =  U \\, (\\hat {\\bf z} \\cdot \\bsig)\\,  U^\\dagger\n",
    "$$\n",
    "<details>\n",
    "<summary><p> >> Verificamos la consistencia  </p></summary>\n",
    "\\begin{eqnarray}\n",
    "\\hat {\\bf n} \\cdot \\bsig\\,  \\ket{a}_{\\hat{\\bf n}} ~~&=&~~ \n",
    "U~ \\hat {\\bf z} \\cdot \\bsig ~  U^\\dagger ~ U  \\ket{a}_{\\hat{\\bf z}}\\\\  \\rule{0mm}{8mm}\n",
    "&=& U~ \\hat {\\bf z} \\cdot \\bsig ~   \\ket{a}_{\\hat{\\bf z}}\\\\   \\rule{0mm}{8mm}\n",
    "&=& U\\, Z \\ket{a} = U (-1)^a \\ket{a}_{\\hat{\\bf z}} \\\\  \\rule{0mm}{8mm}\n",
    "&=&  (-1)^a U\\ket{a}_{\\hat{\\bf z}} \\\\  \\rule{0mm}{8mm}\n",
    "&=& (-1)^a \\ket{a}_{\\hat{\\bf n}}  \\rule{0mm}{8mm}\n",
    "\\end{eqnarray}\n",
    "</details>\n"
   ]
  },
  {
   "cell_type": "markdown",
   "metadata": {
    "slideshow": {
     "slide_type": "fragment"
    }
   },
   "source": [
    "<div class=\"alert alert-block alert-success\",text-align:center>\n",
    "<p style=\"text-align: left ;\">  \n",
    "<b>Ejercicio</b>: \n",
    "verifica esta ecuación operando\n",
    "</p>    \n",
    "</div>"
   ]
  },
  {
   "cell_type": "markdown",
   "metadata": {
    "slideshow": {
     "slide_type": "slide"
    }
   },
   "source": [
    "El circuito siguiente  *simula* un aparato de medición en la base $\\{\\ket{a}_{\\hat{\\bf n}}\\}$\n",
    "obtenido mediante la rotación del aparato de medida en la base $\\{\\ket{a}_{\\hat{\\bf n}}\\}$ de autoestados de $Z$ \n",
    "\n",
    "<br>\n",
    "<br>\n",
    "<img src=\"images/nbasis_measure2.png\" width=\"50%\" style=\"margin:auto\"/>\n",
    "</div>\n",
    "<br>\n",
    "\n"
   ]
  },
  {
   "cell_type": "markdown",
   "metadata": {},
   "source": [
    "<div class=\"alert alert-block alert-danger\",text-align:center>\n",
    "<p style=\"text-align: left ;\">  \n",
    "<b>Recordar</b>:  que el orden de la composición de operadores se invierte al plasmarlos en un circuito</p>    \n",
    "</div>"
   ]
  },
  {
   "cell_type": "markdown",
   "metadata": {
    "slideshow": {
     "slide_type": "slide"
    }
   },
   "source": [
    "### Ejemplo: bases $X$, $Y$ y $Z$\n",
    "\n"
   ]
  },
  {
   "cell_type": "markdown",
   "metadata": {
    "slideshow": {
     "slide_type": "skip"
    }
   },
   "source": [
    "La base computacional es la base de autoestados de $Z$  \n",
    "\n",
    "$$\\{\\ket{0},\\ket{1} \\} = \\{\\ket{0}_{\\hat{\\bf z}},\\ket{1}_{\\hat{\\bf z}}\\}$$\n",
    "<br>\n",
    "\n",
    "Muy frecuentes son otras bases ortonormales como la base de autoestados de $X$\n",
    "<br>\n",
    "\n",
    "$$ \\{\\ket{+},\\ket{-}\\}  = \\{\\ket{0}_{\\hat{\\bf x}},\\ket{1}_{\\hat{\\bf x}}\\} $$\n",
    "\n",
    "o la base de autoestados de $Y$\n",
    "\n",
    "$$ \\{\\ket{+i},\\ket{-i}\\}  = \\{\\ket{0}_{\\hat{\\bf y}},\\ket{1}_{\\hat{\\bf y}}\\} $$\n",
    "\n"
   ]
  },
  {
   "cell_type": "markdown",
   "metadata": {
    "slideshow": {
     "slide_type": "-"
    }
   },
   "source": [
    "Para construir un medidor asociado a las bases $X$ e $Y$ sólo es necesario *rotar* el aparato de medida estándar asociado a la base $Z$ \n",
    "<br>\n",
    "<br>\n",
    "\n",
    "$$ \\ket{\\pm} =  \\ket{a}_{\\hat{\\bf x}} =  H \\ket{a}_{\\hat{\\bf z}} ~~~~ $$\n",
    "<br>\n",
    "$$ \\ket{\\pm i} = \\ket{a}_{\\hat{\\bf y}} =  SH \\ket{a}_{\\hat{\\bf z}} $$  \n",
    " "
   ]
  },
  {
   "cell_type": "markdown",
   "metadata": {
    "slideshow": {
     "slide_type": "skip"
    }
   },
   "source": [
    "<div class=\"alert alert-block alert-success\">\n",
    "<b>Ejercicio:</b> \n",
    "comprueba  que estas ecuaciones de cambio de base son correctas\n",
    "</div>"
   ]
  },
  {
   "cell_type": "markdown",
   "metadata": {
    "slideshow": {
     "slide_type": "skip"
    }
   },
   "source": [
    "Con estas relaciones podemos realizar medidas asociadas a dichas bases\n",
    "<br>\n",
    "<br>\n",
    "\n",
    "$$\n",
    "\\hat {\\bf x} \\cdot \\bsig =  H \\, (\\hat {\\bf z} \\cdot \\bsig)\\,  H\n",
    "$$\n",
    "<br>\n",
    "\n",
    "\n",
    "$$\n",
    "\\hat {\\bf y} \\cdot \\bsig =  SH \\, (\\hat {\\bf z} \\cdot \\bsig)\\,  HS^\\dagger\n",
    "$$\n"
   ]
  },
  {
   "cell_type": "markdown",
   "metadata": {
    "slideshow": {
     "slide_type": "skip"
    }
   },
   "source": [
    "los circuitos que implementan la rotación de estos operadores \n",
    "<br>\n",
    "<br>\n",
    "<br>\n",
    "<div>\n",
    "<img src=\"images/meter_xybasis.png\" width=\"70%\" style=\"margin:auto\"/>\n",
    "</div>\n",
    "<br>\n"
   ]
  },
  {
   "cell_type": "markdown",
   "metadata": {
    "slideshow": {
     "slide_type": "slide"
    }
   },
   "source": [
    "que nos permiten definir  *aparatos de medida rotados* en las direcciones $x$ e $y$\n",
    "\n",
    "<br>\n",
    "<br>\n",
    "\n",
    "<div>\n",
    "<img src=\"images/meter_xybasis2.png\" width=\"70%\" style=\"margin:auto\"/>\n",
    "</div>\n",
    "<br>\n",
    "\n",
    "\n"
   ]
  },
  {
   "cell_type": "markdown",
   "metadata": {
    "slideshow": {
     "slide_type": "skip"
    }
   },
   "source": [
    "Cuando sólo nos interesa el resultado de la medida, y no el estado posterior al que ha colapsado no es necesario añadir los operadores posteriores al observable $Z$.\n"
   ]
  },
  {
   "cell_type": "markdown",
   "metadata": {
    "slideshow": {
     "slide_type": "slide"
    }
   },
   "source": [
    "<div class=\"alert alert-block alert-success\">\n",
    "<b>Ejercicio:</b> \n",
    "En la figura observamos el resultado de hacer pasar una nube de electrones a través de tres detectores de Stern Gerlach perpendiculares.\n",
    "<br>\n",
    "<br>\n",
    "    \n",
    "![picture](https://upload.wikimedia.org/wikipedia/commons/c/cb/Stern-Gerlach_Analyzer_Sequential_Series_E3.png \"blog-image align\")\n",
    "    \n",
    " Reproduce ese experimento en un circuito. Toma el eje $Y$ como eje de propagación orienta los detectores sucesivamente a lo largo de $Z$, y $X$ y $Z$ de nuevo. \n",
    "    \n",
    "Ejecuta el circuito lanzando los electrones de 1 en 1 en un estado inicial arbitrario y observa los resultados intermedios. \n",
    "    \n",
    "Lanza ahora una nube de electrones y observa la estadística    \n",
    "</div>"
   ]
  },
  {
   "cell_type": "code",
   "execution_count": 86,
   "metadata": {
    "run_control": {
     "marked": false
    },
    "slideshow": {
     "slide_type": "slide"
    }
   },
   "outputs": [
    {
     "data": {
      "image/png": "[encoded data removed]",
      "text/plain": [
       "<Figure size 770.731x200.667 with 1 Axes>"
      ]
     },
     "metadata": {},
     "output_type": "display_data"
    },
    {
     "data": {
      "text/plain": [
       "{'001': 1}"
      ]
     },
     "execution_count": 86,
     "metadata": {},
     "output_type": "execute_result"
    }
   ],
   "source": [
    "'solucion'\n",
    "qc = QuantumCircuit(1,3)\n",
    "\n",
    "qc.h(0)\n",
    "\n",
    "qc.measure(0,2)\n",
    "\n",
    "qc.barrier()\n",
    "qc.h(0)\n",
    "qc.measure(0,1)\n",
    "qc.h(0)\n",
    "qc.barrier()\n",
    "\n",
    "qc.measure(0,0)\n",
    "\n",
    "display(qc.draw('mpl'))\n",
    "\n",
    "execute(qc,M_simulator,shots=1).result().get_counts()\n"
   ]
  },
  {
   "cell_type": "markdown",
   "metadata": {
    "slideshow": {
     "slide_type": "slide"
    }
   },
   "source": [
    "\n",
    "Definamos una función que ejecuta medidas en cualquiera de los tres ejes"
   ]
  },
  {
   "cell_type": "code",
   "execution_count": 87,
   "metadata": {
    "run_control": {
     "marked": false
    },
    "slideshow": {
     "slide_type": "-"
    }
   },
   "outputs": [],
   "source": [
    "def measure_XYZ(qc,axis=\"Z\",shots=1024):\n",
    "    'needs execute'\n",
    "    import copy \n",
    "    qc0 = copy.deepcopy(qc)\n",
    "    if axis == \"Z\":\n",
    "        qc0.measure(0,0)\n",
    "    if axis == \"X\":\n",
    "        qc0.h(0)\n",
    "        qc0.measure(0,0) \n",
    "        qc0.h(0)\n",
    "    elif axis == \"Y\":\n",
    "        qc0.sdg(0)\n",
    "        qc0.h(0)\n",
    "        qc0.measure(0,0) \n",
    "        qc0.h(0)\n",
    "        qc0.s(0)\n",
    "        \n",
    "    counts=execute(qc0,backend=Aer.get_backend('qasm_simulator'),shots=shots).result().get_counts()\n",
    "    \n",
    "    return counts"
   ]
  },
  {
   "cell_type": "markdown",
   "metadata": {
    "slideshow": {
     "slide_type": "slide"
    }
   },
   "source": [
    "Ahora podemos observar el resultado de medidas sucesivas a lo largo de ejes diferentes"
   ]
  },
  {
   "cell_type": "code",
   "execution_count": 89,
   "metadata": {
    "run_control": {
     "marked": false
    },
    "slideshow": {
     "slide_type": "-"
    }
   },
   "outputs": [
    {
     "data": {
      "image/png": "[encoded data removed]",
      "text/plain": [
       "<Figure size 185.453x200.667 with 1 Axes>"
      ]
     },
     "metadata": {},
     "output_type": "display_data"
    },
    {
     "name": "stdout",
     "output_type": "stream",
     "text": [
      "cuentas(base Z)= {'0': 5045, '1': 4955}\n",
      "cuentas(base X)= {'0': 10000}\n",
      "cuentas( base Y)= {'1': 4962, '0': 5038}\n"
     ]
    }
   ],
   "source": [
    "shots = 10000\n",
    "\n",
    "qc = QuantumCircuit(1,1)\n",
    "qc.h(0)\n",
    "display(qc.draw('mpl'))\n",
    "\n",
    "cuentasz = measure_XYZ(qc,axis=\"Z\",shots=shots)\n",
    "print(\"cuentas(base Z)=\",cuentasz)\n",
    "\n",
    "cuentasx = measure_XYZ(qc,axis=\"X\",shots=shots)\n",
    "print(\"cuentas(base X)=\",cuentasx)\n",
    "\n",
    "cuentasy = measure_XYZ(qc,axis=\"Y\",shots=shots)\n",
    "print(\"cuentas( base Y)=\",cuentasy)\n"
   ]
  },
  {
   "cell_type": "markdown",
   "metadata": {
    "slideshow": {
     "slide_type": "slide"
    }
   },
   "source": [
    "<a id='vevs'></a>\n",
    "<table width=\"100%\">\n",
    "    <td style=\"font-size:25px;font-family:Helvetica;text-align:left;background-color:rgba(0,0,900, 0.3);\">\n",
    "<b>Valores esperados</b>\n",
    "</table>"
   ]
  },
  {
   "cell_type": "markdown",
   "metadata": {
    "slideshow": {
     "slide_type": "-"
    }
   },
   "source": [
    "Cualquier *observable* sobre un cúbit $A = A^\\dagger$ puede expresarse en la base $\\sigma_i = \\{I,X,Y,Z\\}, \\, i=0,1,2,3$\n",
    "\n",
    "$$\n",
    "A = a_0 I + a_1 X + a_2 Y  + a_3 Z \\, . \n",
    "$$\n"
   ]
  },
  {
   "cell_type": "markdown",
   "metadata": {
    "slideshow": {
     "slide_type": "fragment"
    }
   },
   "source": [
    "Los coeficientes se obtienen haciendo uso de la relación $\\to \\frac{1}{2}\\tr\\,  (\\sigma_i \\sigma_j) = \\delta_{ij}$. Es decir\n",
    "\n",
    "$$\n",
    "a_i = \\frac{1}{2} \\tr \\, (A \\sigma_i)\n",
    "$$\n",
    "\n",
    "donde $ (\\sigma_0,\\sigma_1,\\sigma_2,\\sigma_3) = (I,X,Y,Z).$\n",
    "<br>\n",
    "<br>\n",
    "    \n",
    "<details>    \n",
    "<summary><p  > >> Comprobación </p></summary>\n",
    "$$\n",
    "\\frac{1}{2} \\tr \\, (A \\sigma_i) = \\frac{1}{2} \\tr \\, \\left((\\sum_{j=0}^3 a_j \\sigma_j) \\sigma_i\\right)\n",
    "= \\sum_{j=0}^3 a_j \\, \\frac{1}{2} \\tr ( \\sigma_j \\sigma_i) = \\sum_{j=0}^3 a_j \\delta_{ji} = a_i\n",
    "$$\n",
    "    \n",
    "</details>\n"
   ]
  },
  {
   "cell_type": "markdown",
   "metadata": {
    "slideshow": {
     "slide_type": "fragment"
    }
   },
   "source": [
    "Entonces, podremos obtener el valor esperado de $A$  si somos capaces de medir los de $X,$ $Y$ y $Z$.\n",
    "\n",
    "\\begin{eqnarray}\n",
    "\\langle A\\rangle_\\psi =\\bra{\\psi}A\\ket{\\psi} &=& \n",
    "\\bra{\\psi} a_0 I + a_1 X + a_2 Y  + a_3 Z \\ket{\\psi} \\\\ \\rule{0mm}{6mm}\n",
    "&=& a_0 + a_1 \\langle X\\rangle_\\psi + a_2 \\langle Y\\rangle_\\psi + a_3 \\langle Z\\rangle_\\psi\n",
    "\\end{eqnarray}\n"
   ]
  },
  {
   "cell_type": "markdown",
   "metadata": {},
   "source": [
    "## Calculo del $\\langle X\\rangle_\\psi$, $\\langle Y\\rangle_\\psi$ y $\\langle Z\\rangle_\\psi$\n",
    "\n",
    "Comenzamos inicializando el circuito en un estado $\\ket{\\psi}$"
   ]
  },
  {
   "cell_type": "code",
   "execution_count": 90,
   "metadata": {},
   "outputs": [
    {
     "data": {
      "text/latex": [
       "$$(-0.465860091882 + 0.299077531002 i) |0\\rangle+(-0.788648172045 - 0.267509001664 i) |1\\rangle$$"
      ],
      "text/plain": [
       "<IPython.core.display.Latex object>"
      ]
     },
     "metadata": {},
     "output_type": "display_data"
    },
    {
     "data": {
      "image/png": "[encoded data removed]",
      "text/plain": [
       "<Figure size 436.286x200.667 with 1 Axes>"
      ]
     },
     "execution_count": 90,
     "metadata": {},
     "output_type": "execute_result"
    }
   ],
   "source": [
    "psi_state= tQ.random_ket(2).reshape(2)\n",
    "display(Statevector(psi_state).draw('latex'))\n",
    "qc_psi = QuantumCircuit(1,1)\n",
    "qc_psi.initialize(psi_state,0)\n",
    "qc_psi.draw('mpl')"
   ]
  },
  {
   "cell_type": "markdown",
   "metadata": {
    "slideshow": {
     "slide_type": "slide"
    }
   },
   "source": [
    "### $\\langle Z \\rangle_{\\psi}$\n",
    "\n",
    "- Los estados de la base computacional son autoestados del operador $Z$ con autovalor $\\pm 1$\n",
    "<br>\n",
    "\n",
    "$$\n",
    "Z \\ket{0} =+ \\ket{0}   ~~~~~~~~~~~~~~~~~~~~~ Z \\ket{1} =-\\ket{1} \n",
    "$$\n",
    "<br>\n",
    "\n",
    "- Dado un estado $\\ket{\\psi} = c_0\\ket{0} + c_1\\ket{1}$, la medida repetida arroja de forma aleatoria los valores propios de $Z \\to \\pm 1$ con frecuencias relativas \n",
    "<br>\n",
    "<br>\n",
    "$$(+1)\\to n^Z_0 ~~~~~~~~~~~~~~~~~~~~~~~~ (-1)\\to n^Z_1$$ "
   ]
  },
  {
   "cell_type": "markdown",
   "metadata": {
    "slideshow": {
     "slide_type": "slide"
    }
   },
   "source": [
    "- Por definición, el valor medio de dicha variable es, \n",
    "\n",
    "\\begin{eqnarray}\n",
    "\\langle Z \\rangle_\\psi = \\bra{\\psi} Z \\ket{\\psi} \n",
    "&=& \\left( c^Z_0\\bra{0} + c^Z_1\\bra{1}\\right) Z\\left( c^Z_0\\ket{0} + c^Z_1\\ket{1}\\right)  \\nonumber \\\\  \\rule{0mm}{10mm}\n",
    "&=& (+1) |c^Z_0|^2 + (-1) |c^Z_1|^2    \\nonumber \\\\  \\rule{0mm}{10mm}\n",
    "&=& +\\frac{n^Z_0}{N}- \\frac{ n^Z_1}{N}\n",
    "\\end{eqnarray}\n"
   ]
  },
  {
   "cell_type": "markdown",
   "metadata": {
    "slideshow": {
     "slide_type": "slide"
    }
   },
   "source": [
    "Para medir autovalores de $\\langle Z\\rangle_\\psi$ el circuito es el más simple\n",
    "<br>\n",
    "<br>\n",
    "\n",
    "<div>\n",
    "<img src=\"images/cubit_meter1.png\" width=\"30%\" style=\"margin:auto\"/>\n",
    "</div>\n"
   ]
  },
  {
   "cell_type": "code",
   "execution_count": 91,
   "metadata": {},
   "outputs": [
    {
     "data": {
      "image/png": "[encoded data removed]",
      "text/plain": [
       "<Figure size 519.897x200.667 with 1 Axes>"
      ]
     },
     "metadata": {},
     "output_type": "display_data"
    },
    {
     "data": {
      "text/plain": [
       "{'0': 3058, '1': 6942}"
      ]
     },
     "metadata": {},
     "output_type": "display_data"
    }
   ],
   "source": [
    "'añadimos el medidor, trabajaremos con una copia del circuito'\n",
    "import copy\n",
    "qc_psi_copy = copy.deepcopy(qc_psi)\n",
    "qc_psi_copy.measure(0,0)\n",
    "display(qc_psi_copy.draw('mpl'))\n",
    "\n",
    "shots = 10000\n",
    "counts_psi = execute(qc_psi_copy,M_simulator,shots = shots).result().get_counts()\n",
    "display(counts_psi)"
   ]
  },
  {
   "cell_type": "markdown",
   "metadata": {},
   "source": [
    "Ahora que tenemos las frecuencias relativas de los autovalores $\\pm 1$ de $Z$, podemos calcular los valores medios"
   ]
  },
  {
   "cell_type": "code",
   "execution_count": 92,
   "metadata": {
    "run_control": {
     "marked": true
    },
    "slideshow": {
     "slide_type": "-"
    }
   },
   "outputs": [
    {
     "name": "stdout",
     "output_type": "stream",
     "text": [
      "<Z> = -0.3884\n"
     ]
    }
   ],
   "source": [
    "mean_Z = 0\n",
    "\n",
    "for bits, counts  in counts_psi.items():\n",
    "    mean_Z += (-1)**(int(bits))* (counts/shots)\n",
    "\n",
    "print('<Z> =',np.round(mean_Z,5))"
   ]
  },
  {
   "cell_type": "markdown",
   "metadata": {
    "slideshow": {
     "slide_type": "slide"
    }
   },
   "source": [
    "### $\\langle X \\rangle_{\\psi}$\n",
    "\n",
    "En la base $X$, **el mismo estado** de entrada se escribirá con otras componentes $\\ket{\\psi} = c_0^X\\ket{+} + c_1^X\\ket{-}$.\n",
    "\n",
    "Si ahora medimos $\\ket{\\psi}$ en la base $X$, la repetición arrojará  una muestra aleatoria de autovalores de $X\\to \\pm 1$ con frecuencias \n",
    "\n",
    "$$~(+1)\\to n^X_0  ~~~~~~~~~~~~~~~~~~~ (-1)\\to n^X_1  $$\n",
    "\n",
    "El valor esperado de $X$  se obtiene del promedio de frecuencias *relativas*\n",
    "\n",
    "$$\n",
    "\\langle X \\rangle_\\psi ~= (+1)|c_0^X|^2 +(-1)|c_1^X|^2 ~=~ +\\frac{n^X_0}{N}- \\frac{ n^X_1}{N}\n",
    "$$\n",
    "\n"
   ]
  },
  {
   "cell_type": "markdown",
   "metadata": {
    "slideshow": {
     "slide_type": "fragment"
    }
   },
   "source": [
    "Ya hemos visto cuál es el circuito necesario para  medir en la base $X$ \n",
    "<br>\n",
    "<br>\n",
    "<div>\n",
    "<img src=\"images/cubit_meter_xbasis.png\" width=\"38%\" style=\"margin:auto\"/>\n",
    "</div>\n"
   ]
  },
  {
   "cell_type": "markdown",
   "metadata": {
    "slideshow": {
     "slide_type": "fragment"
    }
   },
   "source": [
    "<div class=\"alert alert-block alert-success\">\n",
    "<b>Ejercicio:</b> \n",
    " en un estado arbitrario, $\\ket{\\psi}$, y calcula el valor esperado $\\langle X\\rangle_\\psi = \\bra{\\psi}X\\ket{\\psi}$\n",
    "</div>"
   ]
  },
  {
   "cell_type": "markdown",
   "metadata": {
    "slideshow": {
     "slide_type": "slide"
    }
   },
   "source": [
    "### $\\langle Y \\rangle_{\\psi}$\n",
    "\n",
    "\n",
    "Igualmente, si medimos el estado $\\ket{\\psi} = c_0^Y\\ket{+i} + c_1^Y\\ket{-i}$ con un medidor asociado al operador $Y = SHZHS^\\dagger$, la repetición arrojará  una muestra aleatoria de valores propios de $Y\\to \\pm 1$ con frecuencias relativas $+1\\to n^Y_0$ y $-1\\to n^Y_1$. Entonces\n",
    "\n",
    "$$\n",
    "\\langle Y \\rangle_\\psi = +\\frac{n^Y_0}{N}- \\frac{ n^Y_1}{N}\\, .\n",
    "$$\n",
    "\n"
   ]
  },
  {
   "cell_type": "markdown",
   "metadata": {
    "slideshow": {
     "slide_type": "fragment"
    }
   },
   "source": [
    "Circuito necesario para medir en la base $ Y$ \n",
    "<br>\n",
    "<div>\n",
    "<img src=\"images/cubit_meter_ybasis.png\" width=\"38%\" style=\"margin:auto\"/>\n",
    "</div>\n"
   ]
  },
  {
   "cell_type": "markdown",
   "metadata": {
    "slideshow": {
     "slide_type": "fragment"
    }
   },
   "source": [
    "<div class=\"alert alert-block alert-success\">\n",
    "<b>Ejercicio:</b> \n",
    " calcula el valor esperado $\\langle Y\\rangle_\\psi = \\bra{\\psi}Y\\ket{\\psi}$\n",
    "</div>"
   ]
  },
  {
   "cell_type": "markdown",
   "metadata": {
    "slideshow": {
     "slide_type": "slide"
    }
   },
   "source": [
    "<div class=\"alert alert-block alert-success\">\n",
    "<b>Ejercicio:</b> \n",
    "genera un observable arbitrario $A$ y calcula el valor esperado $\\bra{\\psi}A\\ket{\\psi}$\n",
    "</div>"
   ]
  },
  {
   "cell_type": "markdown",
   "metadata": {
    "slideshow": {
     "slide_type": "skip"
    }
   },
   "source": [
    "## Valor esperado de un operador unitario"
   ]
  },
  {
   "cell_type": "markdown",
   "metadata": {
    "slideshow": {
     "slide_type": "skip"
    }
   },
   "source": [
    "Supongamos que sabemos cómo preparar, mediante un circuito, el estado $\\ket{\\psi}$ a partir del estado $\\ket{0}$. \n",
    "\n",
    "$$\\ket{\\psi} = U\\ket{0}$$\n",
    "\n",
    "En este caso, podemos calcular el valor esperado de cualquier operador unitario $V$ de la siguiente forma\n",
    "\n",
    "$$\n",
    "\\bra{\\psi}V\\ket{\\psi} = \\bra{0} U^\\dagger V U\\ket{0} = \\braket{0}{\\tilde \\psi}\n",
    "$$\n",
    "\n",
    "donde $$\\ket{\\tilde\\psi} \\equiv U^\\dagger V U\\ket{0}$$ \n",
    "\n",
    "y la acción del operador unitario $U^\\dagger V U$ se realiza mediante una composición de circuitos inicializada en $\\ket{0}$"
   ]
  },
  {
   "cell_type": "markdown",
   "metadata": {
    "slideshow": {
     "slide_type": "skip"
    }
   },
   "source": [
    " Midiendo $\\ket{\\tilde \\psi}$  en la base $Z$, la fracción relativa de resultados $0\\to  n_0/N$ nos da acceso al *módulo del valor esperado*, \n",
    " \n",
    "$$\n",
    "\\sqrt{ \\frac{n_{0}(\\tilde\\psi)}{N} } ~=~  \\sqrt{p_0}  ~=~   | \\braket{0}{\\tilde \\psi}|  ~=~ |\\bra{\\psi}V\\ket{\\psi}|   \n",
    "$$\n",
    "\n"
   ]
  },
  {
   "cell_type": "markdown",
   "metadata": {
    "slideshow": {
     "slide_type": "skip"
    }
   },
   "source": [
    "<div class=\"alert alert-block alert-info\">\n",
    "<p style=\"text-align:left ;color: navy;\">  \n",
    "Circuito necesario para medir $\\langle V\\rangle_{\\psi} $ donde $\\ket{\\psi} = U\\ket{0}$ es un estado preparable\n",
    "<br>\n",
    "<br>\n",
    "<div>\n",
    "<img src=\"images/vev_unitary_V.png\" width=\"45%\" style=\"margin:auto\"/>\n",
    "</p>\n",
    "</div>\n"
   ]
  },
  {
   "cell_type": "markdown",
   "metadata": {
    "slideshow": {
     "slide_type": "skip"
    }
   },
   "source": [
    "Si $V$ además de ser <i>unitario</i>, fuese <i>hermítico</i>, entonces tendríamos acceso al valor esperado completo, al tratarse de una cantidad real. \n",
    "\n",
    "\n",
    "Operadores de 1 cúbit unitarios y hermíticos son, por ejemplo, los operadores \n",
    "$V = X,Y,Z,H$. \n",
    "</div>"
   ]
  },
  {
   "cell_type": "markdown",
   "metadata": {
    "slideshow": {
     "slide_type": "skip"
    }
   },
   "source": [
    "Este argumento nos permite calcular de otra manera \n",
    "\n",
    "$$\n",
    "\\left. \n",
    "\\begin{array}{c} \\langle Z\\rangle_\\psi \\\\ \\rule{0mm}{8mm} \\langle X\\rangle_\\psi \\\\ \\rule{0mm}{8mm} \\langle Y\\rangle_\\psi \\end{array}\n",
    "\\right\\} ~=~\\braket{0}{\\tilde\\psi} ~=~ \\sqrt{\\frac{n_{0}(\\tilde\\psi)}{N}} ~~~\\hbox{con}~~~~\n",
    "\\left\\{ \n",
    "\\begin{array}{l}  \\ket{\\tilde \\psi} = U^\\dagger  Z  U\\ket{0} \\\\ \\rule{0mm}{8mm} \\ket{\\tilde \\psi} = U^\\dagger H Z H U\\ket{0}  \\\\ \\rule{0mm}{8mm}  \\ket{\\tilde \\psi} = U^\\dagger SH Z HS^\\dagger U\\ket{0} \\end{array}\n",
    "\\right.\n",
    "$$"
   ]
  },
  {
   "cell_type": "markdown",
   "metadata": {
    "slideshow": {
     "slide_type": "skip"
    }
   },
   "source": [
    "Como vemos, ganamos en facilidad de cálculo pero perdemos información acerca del signo de $\\langle V\\rangle_\\psi$"
   ]
  },
  {
   "cell_type": "markdown",
   "metadata": {
    "slideshow": {
     "slide_type": "skip"
    }
   },
   "source": [
    "<div class=\"alert alert-block alert-success\">\n",
    "<b>Ejercicio:</b> \n",
    "Calcula por este procedimiento los valores de  $\\langle X\\rangle_\\psi$, $\\langle Y\\rangle_\\psi$ y $\\langle Z\\rangle_\\psi$ encontrados anteriormente y verifica que obtienes el mismo resultado. \n",
    "</div>"
   ]
  },
  {
   "cell_type": "code",
   "execution_count": null,
   "metadata": {
    "run_control": {
     "marked": true
    },
    "slideshow": {
     "slide_type": "skip"
    }
   },
   "outputs": [],
   "source": [
    "#from qiskit.circuit.library.standard_gates import U3Gate\n",
    "M_simulator = Aer.get_backend('qasm_simulator')\n",
    "\n",
    "'definimos un estado arbitrario en la esfera de Bloch'\n",
    "theta = 1.  #rad\n",
    "phi   = 2.  #rad\n",
    "\n",
    "' el operador unitario que lo genera a partir de |0> es u(theta, phi, 0,0)'\n",
    "qc_Upsi = QuantumCircuit(1,1)\n",
    "qc_Upsi.u(theta,phi,0,0)\n",
    "qc_Upsi.z(0)\n",
    "#qc_Upsi.x(0)\n",
    "#qc_Upsi.y(0)\n",
    "qc_Upsi.u(-theta,0,-phi,0)\n",
    "\n",
    "qc_Upsi.measure(0,0)\n",
    "\n",
    "display(qc_Upsi.draw('mpl'))\n",
    "\n",
    "' ejecutamos '\n",
    "shots= 100000\n",
    "counts=execute(qc_Upsi,backend=M_simulator,shots=shots).result().get_counts()\n",
    "\n",
    "' ahora solo nos interesa la fracción de 0s '\n",
    "mean_A = np.sqrt(counts['0']/shots)\n",
    "print('<A> =',np.round(mean_A,5))\n"
   ]
  }
 ],
 "metadata": {
  "kernelspec": {
   "display_name": "Python 3 (ipykernel)",
   "language": "python",
   "name": "python3"
  },
  "language_info": {
   "codemirror_mode": {
    "name": "ipython",
    "version": 3
   },
   "file_extension": ".py",
   "mimetype": "text/x-python",
   "name": "python",
   "nbconvert_exporter": "python",
   "pygments_lexer": "ipython3",
   "version": "3.9.16"
  },
  "varInspector": {
   "cols": {
    "lenName": 16,
    "lenType": 16,
    "lenVar": 40
   },
   "kernels_config": {
    "python": {
     "delete_cmd_postfix": "",
     "delete_cmd_prefix": "del ",
     "library": "var_list.py",
     "varRefreshCmd": "print(var_dic_list())"
    },
    "r": {
     "delete_cmd_postfix": ") ",
     "delete_cmd_prefix": "rm(",
     "library": "var_list.r",
     "varRefreshCmd": "cat(var_dic_list()) "
    }
   },
   "types_to_exclude": [
    "module",
    "function",
    "builtin_function_or_method",
    "instance",
    "_Feature"
   ],
   "window_display": false
  }
 },
 "nbformat": 4,
 "nbformat_minor": 4
}
