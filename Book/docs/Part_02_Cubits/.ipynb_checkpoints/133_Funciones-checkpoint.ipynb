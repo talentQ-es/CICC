{
 "cells": [
  {
   "cell_type": "markdown",
   "metadata": {},
   "source": [
    "<img   src=\"../figuras/logo/TalentQ_LogoPosNegro.png\" align=center  width=\"120\"/>\n",
    "<br>\n",
    "\n",
    "<table width=\"100%\">\n",
    "<td style=\"font-size:45px;font-style:italic;text-align:right;background-color:rgba(0, 160, 120,0.6)\">\n",
    "Circuitos para computación clásica\n",
    "</td></table>\n",
    "\n",
    "\n",
    "\n",
    "$ \\newcommand{\\bra}[1]{\\langle #1|} $\n",
    "$ \\newcommand{\\ket}[1]{|#1\\rangle} $\n",
    "$ \\newcommand{\\braket}[2]{\\langle #1|#2\\rangle} $\n",
    "$ \\newcommand{\\i}{{\\color{blue} i}} $ \n",
    "$ \\newcommand{\\Hil}{{\\mathbb H}} $\n",
    "$ \\newcommand{\\cg}[1]{{\\rm C}#1} $"
   ]
  },
  {
   "cell_type": "markdown",
   "metadata": {},
   "source": [
    "<a id=\"compclas\"></a>\n",
    "<table width=\"100%\">\n",
    "    <td style=\"font-size:25px;font-family:Helvetica;text-align:left;background-color:rgba(12, 43, 337, 0.3);\">\n",
    "<b> Computación clásica </b>\n",
    "</table>"
   ]
  },
  {
   "cell_type": "markdown",
   "metadata": {},
   "source": [
    "<a id=\"funcdigit\"></a>\n",
    "<table width=\"100%\">\n",
    "    <td style=\"font-size:25px;font-family:Helvetica;text-align:left;background-color:rgba(12, 43, 337, 0.3);\">\n",
    "<b> Funciones y Oráculos </b>\n",
    "</table>"
   ]
  },
  {
   "cell_type": "markdown",
   "metadata": {},
   "source": [
    "Una clase de problemas en los que la computación cuántica promete alcanzar una ventaja con respecto a la clásica involucra la obtención de propiedades de funciones.  Un problema típico es adivinar si una función es de una clase o de otra dentro de unas posibilidades. Genéricamente se trata de un problema exponencial.\n",
    "\n",
    "El objeto de estudio son  funciones clásicas de las que, lo único que nos está permitido es evaluarlas. Por tanto estas funciones son como cajas negras llamadas *oráculos*.\n",
    "\n",
    "Para poder poner a prueba un algoritmo es necesario poder introducir dichas funciones en los circuitos. El objetivo de este tema es aprender a codificar funciones digitales clásicas."
   ]
  },
  {
   "cell_type": "markdown",
   "metadata": {},
   "source": [
    "### Funciones digitales"
   ]
  },
  {
   "cell_type": "markdown",
   "metadata": {
    "slideshow": {
     "slide_type": "slide"
    }
   },
   "source": [
    "Un proceso de computación clásica descompone en puertas elementales una _función digital_ \n",
    "\n",
    "$$\n",
    "f : \\{0,1\\}^m ~~\\to ~~\\{0,1\\}^n\n",
    "$$"
   ]
  },
  {
   "cell_type": "markdown",
   "metadata": {
    "slideshow": {
     "slide_type": "fragment"
    }
   },
   "source": [
    "La construcción de $f$ es equivalente a la especificación de $n$ funciones  $f_1,f_2,...,f_n$ **binarias**\n",
    "\n",
    "$$\n",
    "f_i : \\{0,1\\}^m ~~\\to ~~\\{0,1\\}\n",
    "$$ \n",
    "\n",
    "Es evidente que ninguna función binaria es invertible para $m\\geq 2$. \n"
   ]
  },
  {
   "cell_type": "markdown",
   "metadata": {
    "slideshow": {
     "slide_type": "slide"
    }
   },
   "source": [
    " \n",
    " El teorema de *Universalidad de la Computación Clásica* afirma que cualquier función binaria $f_i$ puede reducirse a la acción de puertas elementales AND, OR, NOT y FANOUT. De estas últimas, solo NOT es reversible. Las demas no. Por ejemplo\n",
    "\n",
    "|bit 1|bit 2||OR|\n",
    "|---|---||---|\n",
    "|0|0||0|\n",
    "|0|1||1|\n",
    "|1|0||1|\n",
    "|1|1||1|\n"
   ]
  },
  {
   "cell_type": "markdown",
   "metadata": {},
   "source": [
    "Si queremos englobar la computación clásica dentro de la cuántica, este hecho representa un inconveniente, debido a que los circuitos cuánticos son, por naturaleza invertibles. \n",
    "\n",
    "Ello es debido que  cada circuito representa la acción un operador unitario, para el cual, la inversa existe y es igual al operador adjunto.\n",
    "\n",
    "$$\n",
    "U^{-1} = U^{\\dagger}\n",
    "$$\n",
    "\n",
    "El circuito asociado a $U^\\dagger$ se obtiene invirtiendo el orden de los factores en el de $U$ y tomando el adjunto de cada operador simple.\n",
    "\n",
    "La manera más robusta de fabricar, a partir de un mapa no invertible $f$, otro invertible $f\\to U_f$ consiste en conservar los valores de la variables iniciales junto con el resultado.  \n",
    "\n",
    "Si en lugar de bits, tratamos con cúbits, \n",
    " necesitamos un total de $n+1$ bits. Es decir, debemos tomar dos registros cuánticos: uno que consta de los $n$ cúbits que contienen el argumento de la función, $\\ket{x} \\in \\mathbb{C}^n$, y otro con un único cúbit que guardará el resultado, $\\ket{y} \\in \\mathbb{C}$.\n",
    "\n",
    "\\begin{equation}\n",
    "U_f : \\ket{x}\\ket{y} \\longrightarrow \\ket{x} \\ket{ y \\oplus f(x) }\n",
    "\\end{equation}\n",
    "\n",
    "Donde $\\oplus$ indica suma módulo 2. De hecho, es evidente de la definición que $U_f\\cdot U_f = I$. "
   ]
  },
  {
   "cell_type": "markdown",
   "metadata": {},
   "source": [
    "<div class=\"alert alert-block alert-success\">\n",
    "\n",
    "<b>Ejercicio: </b> \n",
    "Escribe la matriz $3\\times 3$ asociada a $U_{\\rm AND}$. Muestra que es unitaria y hermítica \n",
    "\n",
    "</div>\n",
    "\n"
   ]
  },
  {
   "cell_type": "markdown",
   "metadata": {},
   "source": [
    "## Construcción de funciones binarias. Los min-términos\n",
    "\n",
    "Es muy sencillo establecer un método general para construir funciones binarias de la forma $f: \\{0, 1\\}^n \\rightarrow \\{0, 1\\}$. Consideremos la siguiente tabla de verdad para una función $f: \\{0, 1\\}^3 \\rightarrow \\{0, 1\\}$ concreta.\n",
    "\n",
    "|$$x_1$$|$$x_2$$|$$x_3$$||$$f$$|\n",
    "|-|-|-||-|\n",
    "|0|0|0||0|\n",
    "|0|0|1||1|\n",
    "|0|1|0||0|\n",
    "|0|1|1||0|\n",
    "|1|0|0||0|\n",
    "|1|0|1||1|\n",
    "|1|1|0||0|\n",
    "|1|1|1||1|\n",
    "\n",
    "Este método consiste en considerar exclusivamente los términos que tienen como salida la variable 1, que denominaremos <b>min-términos</b>. \n",
    "\n",
    "Por ejemplo hay un min term de la forma $101 \\to 1$ que se puede obtener mediante una puerta controlada como la siguiente."
   ]
  },
  {
   "cell_type": "code",
   "execution_count": null,
   "metadata": {},
   "outputs": [],
   "source": [
    "mcx = MCXGate(3, ctrl_state=5)\n",
    "mcx.definition.draw()"
   ]
  },
  {
   "cell_type": "markdown",
   "metadata": {},
   "source": [
    "Hemos usado la puerta  X *completamente condicionada* [MCXGate](https://qiskit.org/documentation/stubs/qiskit.circuit.library.MCXGate.html?highlight=mcxgate#qiskit.circuit.library.MCXGate) de qiskit. \n",
    "\n",
    "Básicamente, esta puerta es equivalente a una puerta controlada normal (como la CNOT o la Toffoli, pero introduciendo puertas X antes y después de aquellos cúbits que controlan con un 0 en lugar de un 1. Para  llamar a esta puerta solo le tenemos que introducir dos argumentos:\n",
    "\n",
    "- El primer número, en nuestro caso, un 3, es el número de cúbits que van a actuar como control.\n",
    "- El argumento ctrl_state es el número decimal correspondiente al elemento de la tabla de verdad que se refiere al elemento que queremos condicionar."
   ]
  },
  {
   "cell_type": "markdown",
   "metadata": {},
   "source": [
    "Cada min-término llevará asociada una puerta condicionada diferente. Su composición define la función $f$\n",
    "\n",
    "Para el caso de la tabla de verdad anterior, el circuito correspondiente vendrá dado por:"
   ]
  },
  {
   "cell_type": "code",
   "execution_count": null,
   "metadata": {},
   "outputs": [],
   "source": [
    "from qiskit import QuantumRegister, QuantumCircuit, ClassicalRegister\n",
    "from qiskit.circuit.library import MCXGate\n",
    "\n",
    "qr = QuantumRegister(4)\n",
    "cr = ClassicalRegister(4)\n",
    "\n",
    "qc = QuantumCircuit(qr, cr, name='q')\n",
    "\n",
    "qc.append(MCXGate(3, ctrl_state=1), qr)\n",
    "qc.append(MCXGate(3, ctrl_state=5), qr)\n",
    "qc.append(MCXGate(3, ctrl_state=7), qr)\n",
    "\n",
    "qc.draw(output='mpl')"
   ]
  },
  {
   "cell_type": "markdown",
   "metadata": {},
   "source": [
    "<div class=\"alert alert-block alert-success\">\n",
    "    <b> Ejercicio </b>:\n",
    "Define una función <i>min_term_circuit</i> que toma como argumento un \"string\" y genera un circuito que codifica el min-term asociado \n",
    "    \n",
    "<details>\n",
    "    <summary><p style='text-align:right'> >> Solución </p></summary>\n",
    "         \n",
    "    def min_term_circuit(ctrl_str):\n",
    "    \n",
    "        ctrl_qubits_number = len(ctrl_str)   \n",
    "    \n",
    "        qr = QuantumRegister(ctrl_qubits_number + 1)\n",
    "        qc = QuantumCircuit(qr, name='q')\n",
    "    \n",
    "\n",
    "        ctrl_state= int(ctrl_str[::-1],2)\n",
    "        qc.append(MCXGate(ctrl_qubits_number, ctrl_state=ctrl_str), qr)                \n",
    "   \n",
    "    return qc    \n",
    "</details>\n",
    "</div>"
   ]
  },
  {
   "cell_type": "code",
   "execution_count": null,
   "metadata": {},
   "outputs": [],
   "source": [
    "# Pon a prueba tu solución\n",
    "\n",
    "qc=min_term_circuit('1011')\n",
    "qc.draw('mpl')"
   ]
  },
  {
   "cell_type": "markdown",
   "metadata": {},
   "source": [
    "\n",
    "<div class=\"alert alert-block alert-success\">\n",
    "    <b>Ejercicio </b>: Completa la siguiente función para que implemente la siguiente tabla de verdad en un circuito cuántico. Fíjate en que necesitas un total de 8 cúbits para poder usar el método de los min-términos.\n",
    "    \n",
    "|$$x$$|$$f(x)$$||$$x$$|$$f(x)$$|\n",
    "|---|---||---|---|\n",
    "|0000|1111||1000|0101|\n",
    "|0001|1011||1001|0100|\n",
    "|0010|0011||1010|0000|\n",
    "|0011|1000||1011|1110|\n",
    "|0100|0101||1100|1111|\n",
    "|0101|0100||1101|1011|\n",
    "|0110|0000||1110|0011|\n",
    "|0111|1110||1111|1000|\n",
    "\n",
    "La función toma como argumento el circuito creado, el registro de cúbits que funciona como input, el que almacena el output y el número de cúbits de cada registro.\n",
    "\n",
    "<details>\n",
    "    <summary><p style='text-align:right'> >> Solución </p></summary>\n",
    "    \n",
    "            if output_bit =='1':\n",
    "                qc.append(MCXGate(len(input_str), ctrl_state=ctrl_state),[*qr_input, qr_output[j]])\n",
    "\n",
    "</details>\n",
    "</div>"
   ]
  },
  {
   "cell_type": "code",
   "execution_count": 1,
   "metadata": {},
   "outputs": [
    {
     "ename": "IndentationError",
     "evalue": "expected an indented block (<ipython-input-1-a87e1fb32810>, line 30)",
     "output_type": "error",
     "traceback": [
      "\u001b[0;36m  File \u001b[0;32m\"<ipython-input-1-a87e1fb32810>\"\u001b[0;36m, line \u001b[0;32m30\u001b[0m\n\u001b[0;31m    qc.barrier()\u001b[0m\n\u001b[0m    ^\u001b[0m\n\u001b[0;31mIndentationError\u001b[0m\u001b[0;31m:\u001b[0m expected an indented block\n"
     ]
    }
   ],
   "source": [
    "from qiskit import QuantumRegister, ClassicalRegister, QuantumCircuit\n",
    "from qiskit.circuit.library import MCXGate\n",
    "\n",
    "def oracle(input_bits,f_outputs):\n",
    "    \n",
    "    n = input_bits\n",
    "    outputs = f_outputs\n",
    "    \n",
    "    # verificamos que hay tantos outputs como posibles inputs \n",
    "    inputs = [format(i, 'b').zfill(n) for i in range(2**n)]\n",
    "    assert len(inputs) == len(outputs)\n",
    "    \n",
    "    qr_input = QuantumRegister(n, name='input')\n",
    "    qr_output = QuantumRegister(n, name='output')\n",
    "    qc = QuantumCircuit(qr_input, qr_output, name='q')\n",
    "    \n",
    "    \n",
    "    # Haz un bucle sobre los inputs\n",
    "    for i,input_str in enumerate(inputs):\n",
    "        ctrl_state= int(input_str[::-1],2)\n",
    "\n",
    "        # Para cada input, i, haz un bucle sobre cada  cúbit del output     \n",
    "        for j,output_bit in enumerate(outputs[i]):\n",
    "            # cuando el bit del output es '1' tenemos un min-term. Aplica la puerta correspondiente \n",
    "    #========Escribe tu código aquí========\n",
    "    #\n",
    "    #\n",
    "    #======================================\n",
    "    \n",
    "    qc.barrier()\n",
    "                        \n",
    "    return qc"
   ]
  },
  {
   "cell_type": "code",
   "execution_count": null,
   "metadata": {},
   "outputs": [],
   "source": [
    "input_bits = 4\n",
    "\n",
    "f_outputs = ['1111', '1011', '0011', '1000', '0101', '0100', \n",
    "               '0000', '1110', '0101', '0100', '0000', '1110', \n",
    "               '1111', '1011', '0011', '1000']\n",
    "\n",
    "    \n",
    "circuit = oracle(input_bits,f_outputs)\n",
    "circuit.draw(output='mpl')"
   ]
  },
  {
   "cell_type": "markdown",
   "metadata": {},
   "source": [
    "\n",
    "<div class=\"alert alert-block alert-success\">\n",
    "    <b> Ejercicio 3: La función lineal </b>\n",
    "    \n",
    "Define una que oráculo para calcular la función lineal binaria\n",
    "\n",
    "<br>\n",
    "        \n",
    "\\begin{equation}\n",
    "f(x; a) = a \\cdot x = a_0 x_0 \\oplus a_1 x_1 \\oplus \\cdots \\oplus a_{n-1} x_{n-1}\\; ,\n",
    "\\end{equation}\n",
    "\n",
    "<br>\n",
    "        \n",
    "\n",
    "donde $n$ es el número de bits necesarios para escribir la variable $x$ y $\\oplus$ es la suma módulo 2. Completa el siguiente código que realiza la suma para $a=110110$. Para ello, fíjate en que esta implementación consiste en inicializar el sistema en el estado binario definido por $x$ e implementar una puerta CNOT para cada bit de $a$ que sea 1.\n",
    "\n"
   ]
  },
  {
   "cell_type": "code",
   "execution_count": null,
   "metadata": {},
   "outputs": [],
   "source": [
    "from qiskit import QuantumRegister, QuantumCircuit, ClassicalRegister\n",
    "\n",
    "def linear_circuit(a,x):\n",
    "    \n",
    "    #========Completa el siguiente código========\n",
    "    \n",
    "    # Inicialización de los registros\n",
    "    qr_in = QuantumRegister(len(a), name='qr_in')\n",
    "    qr_out = QuantumRegister(1, name='qr_out')\n",
    "    cr = ClassicalRegister(1, name='cr')\n",
    "\n",
    "    qc = QuantumCircuit(qr_in, qr_out, cr, name='q_linear')\n",
    "    \n",
    "    # Aplicación de las puertas CNOT que implementan la función lineal\n",
    "    \n",
    "    for i, xq in enumerate(str(x)):\n",
    "        if xq == '1':\n",
    "             qc.x(qr_in[i]) \n",
    "\n",
    "    qc.barrier()\n",
    "    \n",
    "    qc.measure(qr_out[0],cr[0])\n",
    "\n",
    "    for i, aq in enumerate(str(a)):\n",
    "        if aq == '1':\n",
    "             qc.cx(qr_in[i],qr_out) \n",
    "\n",
    "    qc.measure(qr_out[0],cr[0])\n",
    "    #======================================\n",
    "    \n",
    "    return qc "
   ]
  },
  {
   "cell_type": "code",
   "execution_count": null,
   "metadata": {},
   "outputs": [],
   "source": [
    "a_string = '1011'\n",
    "\n",
    "x_string = '1001'\n",
    "\n",
    "qc=linear_circuit('101','111')\n",
    "qc.draw('mpl')"
   ]
  },
  {
   "cell_type": "code",
   "execution_count": null,
   "metadata": {},
   "outputs": [],
   "source": [
    "from qiskit import Aer, execute\n",
    "\n",
    "M_backend = Aer.get_backend('qasm_simulator')\n",
    "counts     = execute(qc, M_backend).result().get_counts()\n",
    "counts2     = execute(qc2, M_backend).result().get_counts()\n",
    "\n",
    "from qiskit.tools.visualization import plot_histogram\n",
    "\n",
    "plot_histogram(counts)"
   ]
  },
  {
   "cell_type": "markdown",
   "metadata": {},
   "source": [
    "<div class=\"alert alert-block alert-success\">\n",
    "    <b> Ejercicio 3: La función cuadrática</b>\n",
    "\n",
    "Sea sobre el conjunto de valores $x\\in \\{0,1,2,3\\}$ la función $f(x) = x^2$. Halla la tabla de verdad en binario y construye el oráculo que implementa esta función.\n",
    "    \n",
    "</div>"
   ]
  },
  {
   "cell_type": "markdown",
   "metadata": {},
   "source": [
    "<a id=\"oracles\"></a>\n",
    "<table width=\"100%\">\n",
    "    <td style=\"font-size:25px;font-family:Helvetica;text-align:left;background-color:rgba(12, 43, 337, 0.3);\">\n",
    "        <b>Oráculos <i> booleanos </i> y de fase</b>\n",
    "</table>"
   ]
  },
  {
   "cell_type": "markdown",
   "metadata": {},
   "source": [
    "En la sección anterior hemos codificado la salida de la función binaria $f(x)\\in [0,1]$ en un cúbit ancilla\n",
    "\n",
    "$$\n",
    "U_f \\ket{x}\\otimes\\ket{y} = \\ket{x}\\ket{y + f(x)}\n",
    "$$\n",
    "\n",
    "donde hemos situado la ancilla en $\\ket{y} = \\ket{0}$.\n"
   ]
  },
  {
   "cell_type": "markdown",
   "metadata": {},
   "source": [
    "### Oráculo *booleano*\n",
    "\n",
    "Especificando $y=0$ codificamos la función $f(x)$ directamente en el estado del segundo cúbit\n",
    "\n",
    "$$\n",
    "U_f \\ket{x}\\otimes\\ket{0} = \\ket{x}\\ket{f(x)}\n",
    "$$\n",
    "\n",
    "Oráculos basados en esta codificación se denominan *booleanos*"
   ]
  },
  {
   "cell_type": "markdown",
   "metadata": {},
   "source": [
    "### Oráculo de fase\n",
    "\n",
    "\n",
    "Nada nos impide inicializar la ancilla en un autoestado $U_f$\n",
    "\n",
    "En particular sabemos que los autovalores deben ser $\\pm 1$ dado que $U_f^2 = I$. Los autovectores son los elementos $\\ket{\\pm}$  de la base de autoestado de $X$\n",
    "\n",
    "Veamos cada caso\n",
    "\\begin{eqnarray}\n",
    "U_f\\ket{x}\\otimes \\ket{+} &=& \\ket{x}\\otimes \\frac{1}{\\sqrt{2}}\\left( \\rule{0mm}{5mm}\\ket{0+f(x)}+\\ket{1+f(x)} \\right) = \\ket{x}\\otimes \\ket{+} \\nonumber\\\\\n",
    "U_f\\ket{x}\\otimes \\ket{-} &=& \\ket{x}\\otimes \\frac{1}{\\sqrt{2}}\\left( \\rule{0mm}{5mm} \\ket{0+f(x)}-\\ket{1+f(x)}\\right) = (-1)^{f(x)} \\ket{x}\\otimes \\ket{-}\n",
    "\\end{eqnarray}\n",
    "\n",
    "donde vemos que se produce un típico efecto de *retroceso de fase*\n"
   ]
  },
  {
   "cell_type": "markdown",
   "metadata": {},
   "source": [
    "Como vemos, el valor de $f(x)$ ha quedado plasmado en la fase $(-1)^{f(x)}$.\n",
    "\n",
    "Oráculos basados en esta codificación se denominan *oráculos de fase*"
   ]
  },
  {
   "cell_type": "code",
   "execution_count": null,
   "metadata": {},
   "outputs": [],
   "source": []
  }
 ],
 "metadata": {
  "kernelspec": {
   "display_name": "Python 3",
   "language": "python",
   "name": "python3"
  },
  "language_info": {
   "codemirror_mode": {
    "name": "ipython",
    "version": 3
   },
   "file_extension": ".py",
   "mimetype": "text/x-python",
   "name": "python",
   "nbconvert_exporter": "python",
   "pygments_lexer": "ipython3",
   "version": "3.8.5"
  },
  "varInspector": {
   "cols": {
    "lenName": 16,
    "lenType": 16,
    "lenVar": 40
   },
   "kernels_config": {
    "python": {
     "delete_cmd_postfix": "",
     "delete_cmd_prefix": "del ",
     "library": "var_list.py",
     "varRefreshCmd": "print(var_dic_list())"
    },
    "r": {
     "delete_cmd_postfix": ") ",
     "delete_cmd_prefix": "rm(",
     "library": "var_list.r",
     "varRefreshCmd": "cat(var_dic_list()) "
    }
   },
   "types_to_exclude": [
    "module",
    "function",
    "builtin_function_or_method",
    "instance",
    "_Feature"
   ],
   "window_display": false
  }
 },
 "nbformat": 4,
 "nbformat_minor": 4
}
