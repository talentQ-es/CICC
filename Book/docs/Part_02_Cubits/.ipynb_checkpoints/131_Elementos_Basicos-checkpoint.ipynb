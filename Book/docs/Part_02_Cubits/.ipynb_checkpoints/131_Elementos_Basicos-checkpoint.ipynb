{
 "cells": [
  {
   "cell_type": "markdown",
   "id": "0a8547c4",
   "metadata": {
    "slideshow": {
     "slide_type": "slide"
    }
   },
   "source": [
    "<img   src=\"../figuras/logo/TalentQ_LogoPosNegro.png\" align=center  width=\"120\"/>\n",
    "<br>\n",
    "\n",
    "<table width=\"100%\">\n",
    "<td style=\"font-size:400%px;font-style:italic;text-align:right;background-color:rgba(0, 190, 170,0.6)\">\n",
    "Elementos Básicos\n",
    "</td></table>\n",
    "\n",
    "\n",
    "$ \\newcommand{\\bra}[1]{\\langle #1|} $\n",
    "$ \\newcommand{\\ket}[1]{|#1\\rangle} $\n",
    "$ \\newcommand{\\braket}[2]{\\langle #1|#2\\rangle} $\n",
    "$ \\newcommand{\\i}{{\\color{blue} i}} $ \n",
    "$ \\newcommand{\\Hil}{{\\mathbb H}} $\n",
    "$ \\newcommand{\\cg}[1]{{\\rm C}#1} $"
   ]
  },
  {
   "cell_type": "code",
   "execution_count": null,
   "id": "a3a58605",
   "metadata": {
    "slideshow": {
     "slide_type": "slide"
    }
   },
   "outputs": [],
   "source": [
    "%run ../macro_CURSO.py"
   ]
  },
  {
   "cell_type": "markdown",
   "id": "4117f201",
   "metadata": {},
   "source": [
    "\n",
    "1. [Retroceso de fase](#retrofase)\n",
    "\n",
    "\n",
    "2. [Circuitos Equivalentes](#circuitequiv)\n",
    "\n",
    "\n",
    "3. [Operadores de Clifford](#opcliff)\n",
    "\n",
    "\n",
    "4. [Computación Cuántica Universal](#compuniv)\n",
    "\n",
    "\n",
    "4. [Medidas de calidad en circuitos](#medcalcirc)\n",
    "\n",
    "\n",
    "5. [Complejidad computacional](#efficirc)\n",
    "\n",
    "\n",
    "7. [Preparación de un estado inicial](#prepainit)\n"
   ]
  },
  {
   "cell_type": "markdown",
   "id": "2748abf7",
   "metadata": {},
   "source": [
    "*Bibliografía:*\n",
    "\n",
    "- Ronald de Wolf [Quantum Computing Lecture Notes](https://homepages.cwi.nl/~rdewolf/qcnotes.pdf) "
   ]
  },
  {
   "cell_type": "markdown",
   "id": "c56a3f00",
   "metadata": {
    "slideshow": {
     "slide_type": "slide"
    }
   },
   "source": [
    "<a id=\"retrofase\"></a>\n",
    "<table width=\"100%\">\n",
    "    <td style=\"font-size:250%px;font-family:Helvetica;text-align:left;background-color:rgba(0,0,900,0.3);\">\n",
    "<b>Retroceso de Fase</b>\n",
    "</table>"
   ]
  },
  {
   "cell_type": "markdown",
   "id": "3ebbcfad",
   "metadata": {
    "slideshow": {
     "slide_type": "slide"
    }
   },
   "source": [
    "Hemos estudiado ya el operador controlado $\\cg{U}$. Es un error frecuente pensar que el cúbit controlador no se modifica.\n",
    "\n",
    "\n"
   ]
  },
  {
   "cell_type": "markdown",
   "id": "5b83c532",
   "metadata": {
    "slideshow": {
     "slide_type": "fragment"
    }
   },
   "source": [
    "Un caso importante ocurre cuando el operador $U$ actúa sobre uno de sus autoestados \n",
    "(recuerda que los autovalores de  un operador unitario son fases puras)\n",
    "\n",
    "<br>\n",
    "$$\n",
    "U\\ket{u} = e^{i\\lambda} \\ket{u}\n",
    "$$\n",
    "<br>\n"
   ]
  },
  {
   "cell_type": "markdown",
   "id": "826b90df",
   "metadata": {
    "slideshow": {
     "slide_type": "fragment"
    }
   },
   "source": [
    " Supongamos que por el *cúbit controlador* circula una superposición $(a\\ket{0}+b\\ket{1})$ y un autoestado $\\ket{u}$ de $U$ por el cúbit controlado. La acción de $\\cg{U}$ es\n",
    "<br>\n",
    "<br>\n",
    "\n",
    "$$\n",
    "\\cg{U}: (a\\ket{0} + b\\ket{1})\\otimes \\ket{u} ~\\to ~ a\\ket{0}\\ket{u} + b \\ket{1}e^{i\\lambda}\\ket{u}  = \\left( a\\ket{0}\\ket{u} + be^{i\\lambda} \\ket{1} \\rule{0mm}{4mm} \\right)\\otimes \\ket{u}\n",
    "$$\n",
    "<br>"
   ]
  },
  {
   "cell_type": "markdown",
   "id": "a755f3bf",
   "metadata": {
    "slideshow": {
     "slide_type": "fragment"
    }
   },
   "source": [
    "En resultado final es que la fase $e^{i\\lambda}$ ha **modificado** el estado de entrada, mientras que el segundo cúbit no ha cambiado. \n"
   ]
  },
  {
   "cell_type": "markdown",
   "id": "95b279e8",
   "metadata": {
    "slideshow": {
     "slide_type": "slide"
    }
   },
   "source": [
    "El punto es que, en el segundo paso, la fase generada por la acción de U *no pertenece* realmente a ninguno de los dos espacios sino al producto. \n",
    "\n",
    "De modo que puede adscribirse al primer espacio, como hemos hecho en el último paso. \n",
    "\n",
    "De ahí el nombre de *retroceso de fase*, en inglés \"phase kickback\". \n"
   ]
  },
  {
   "cell_type": "markdown",
   "id": "9710c16b",
   "metadata": {
    "slideshow": {
     "slide_type": "fragment"
    }
   },
   "source": [
    "El siguiente circuito resume la acción de retroceso de fase\n",
    "\n",
    "<br>\n",
    "<div>\n",
    "<img src=\"images/phase_kickback.png\" width=\"35%\" style=\"margin:auto\"/>\n",
    "</div>\n",
    "<br>\n"
   ]
  },
  {
   "cell_type": "markdown",
   "id": "5efe58ab",
   "metadata": {},
   "source": [
    "<div class=\"alert alert-block alert-success\">\n",
    "\n",
    "<b>Ejercicio 1.3.1.1 </b> \n",
    "    \n",
    "programa un circuito en el que  $U = P(\\phi)$ es el operador de fase y el estado en el primer cúbit es $\\ket{0}$ y en el segundo es $\\ket{1}$. \n",
    "    \n",
    "    \n",
    "- Usando el *statevector_simulator* representa el estado de salida para distintos de valores de $\\phi\\in $ \n",
    "    \n",
    "- ¿en qué plano rota el vector del primer cúbit? ¿Cómo podemos cambiar dicho plano de rotación?\n",
    "</div>\n"
   ]
  },
  {
   "cell_type": "markdown",
   "id": "28784f02",
   "metadata": {
    "slideshow": {
     "slide_type": "slide"
    }
   },
   "source": [
    "<a id=\"circuitequiv\"></a>\n",
    "<table width=\"100%\">\n",
    "<td style=\"font-size:250%px;font-family:Helvetica;text-align:left;background-color:rgba(0,0,900, 0.3);\">\n",
    "<b>Circuitos Equivalentes</b>\n",
    "</table>\n"
   ]
  },
  {
   "cell_type": "markdown",
   "id": "bc4621d9",
   "metadata": {
    "slideshow": {
     "slide_type": "slide"
    }
   },
   "source": [
    "\n",
    "Es posible encontrar distintos circuitos que producen acciones idénticas sobre un estado arbitrario. Se denominan *circuitos equivalentes*. \n",
    "\n",
    "Matemáticamente, representan distintas descomposiciones del mismo operador unitario en unitarios"
   ]
  },
  {
   "cell_type": "markdown",
   "id": "54860a0b",
   "metadata": {
    "slideshow": {
     "slide_type": "fragment"
    }
   },
   "source": [
    "### Conjugación\n",
    "\n",
    "\n",
    "Una caso muy frecuente es la **conjugación** de una puerta $V$  por un **unitario** $U$\n",
    "\n",
    "\n",
    "$$\n",
    "U V   U^\\dagger = V'  \n",
    "$$\n",
    "\n",
    "El operador conjugado $V'$ tiene **la misma acción** sobre la base *base rotada* $\\{\\ket{e'} = U\\ket{e}\\}$\n",
    "que la que tiene $V$ sobre la original $\\{\\ket{e}\\}$."
   ]
  },
  {
   "cell_type": "markdown",
   "id": "301ec929",
   "metadata": {
    "slideshow": {
     "slide_type": "fragment"
    }
   },
   "source": [
    " Por ello, \n",
    " - los *autovalores* de $V$ y de $V'$ son los *mismos* y \n",
    " \n",
    " - los *autovectores* son los *rotados*\n",
    "\n",
    "$$\n",
    "\\lambda' = \\lambda ~~~~~~\\hbox{y}~~~~~~  \\ket{\\lambda}' = U\\ket{\\lambda}\n",
    "$$"
   ]
  },
  {
   "cell_type": "markdown",
   "id": "a7f75bc3",
   "metadata": {
    "slideshow": {
     "slide_type": "fragment"
    }
   },
   "source": [
    "Comprobémoslo\n",
    "\n",
    "$$\n",
    "\\fbox{$V \\ket{\\lambda}= \\lambda\\ket{\\lambda}$} ~~\\Rightarrow ~~~V'\\ket{\\lambda}' = (UVU^\\dagger) U\\ket{\\lambda} = UV\\ket{\\lambda} =  U(\\lambda\\ket{\\lambda}) = \\lambda U\\ket{\\lambda} = \\lambda\\ket{\\lambda}' ~~\\Rightarrow ~~~ \\fbox{$ V' \\ket{\\lambda}' = \\lambda\\ket{\\lambda}'$}\n",
    "$$\n",
    "<br>"
   ]
  },
  {
   "cell_type": "markdown",
   "id": "62b2a18f",
   "metadata": {
    "slideshow": {
     "slide_type": "slide"
    }
   },
   "source": [
    "Por ejemplo \n",
    "<br>\n",
    "<br>\n",
    "<div>\n",
    "<img src=\"images/H_conjugation.png\" width=\"40%\" style=\"margin:auto\"/>\n",
    "</div>\n",
    "<br>\n",
    "<br>\n",
    "y,  equivalentemente, intercambiando $X \\leftrightarrow Z$. \n"
   ]
  },
  {
   "cell_type": "markdown",
   "id": "d05d3b46",
   "metadata": {
    "slideshow": {
     "slide_type": "fragment"
    }
   },
   "source": [
    "<br>\n",
    "\n",
    "- Este tipo de equivalencia se sigue de las identidades algebráicas\n",
    "<br>\n",
    "<br>\n",
    "\\begin{eqnarray}\n",
    "HXH = Z ~~~~~&&~~ ~~~\n",
    "HZH = X \\nonumber\n",
    "\\end{eqnarray}\n",
    "<br>\n",
    "que son fáciles de visualizar recordando que  $H$ es una rotación de 180$^\\circ$ en torno al eje diagonal en el plano $XZ$\n",
    "\n"
   ]
  },
  {
   "cell_type": "markdown",
   "id": "891f24d1",
   "metadata": {
    "slideshow": {
     "slide_type": "fragment"
    }
   },
   "source": [
    "<br>\n",
    "\n",
    "- Análogamente\n",
    "<br>\n",
    "<br>\n",
    "\\begin{eqnarray}\n",
    "S X S^\\dagger  = Y~~~~~&&~~~ ~~~\n",
    "S Y S^\\dagger = -X  ~~~~~~~~ S Z S^\\dagger = Z\\nonumber\\\\\n",
    "\\end{eqnarray}\n",
    "<br>\n",
    "también  son fáciles de visualizar recordando que \n",
    " $S=\\sqrt{Z}$ es una rotación de $90^\\circ$ en torno al eje $Z$.\n"
   ]
  },
  {
   "cell_type": "markdown",
   "id": "c36ec064",
   "metadata": {
    "slideshow": {
     "slide_type": "slide"
    }
   },
   "source": [
    "### Conjugación de una exponencial\n",
    "\n",
    "muchas puertas unitarias son de la forma $V = e^{\\alpha A}$"
   ]
  },
  {
   "cell_type": "markdown",
   "id": "0bad7290",
   "metadata": {
    "slideshow": {
     "slide_type": "fragment"
    }
   },
   "source": [
    "Por ejemplo, si  $A = \\hat{\\bf n}\\cdot \\boldsymbol{\\sigma} $ entonces $  ~\\Rightarrow ~V= R_{\\hat{\\bf n}}(\\theta)$ es el operador que rota un ángulo $\\theta$ en torno al vector $\\hat{\\bf n}$ en la esfera de Bloch.\n",
    "\n",
    "$$\n",
    " R_{\\hat{\\bf n}}(\\theta) = e^{-i\\frac{\\theta}{2}\\hat{\\bf n}\\cdot \\boldsymbol{\\sigma}}\n",
    "$$\n",
    "\n"
   ]
  },
  {
   "cell_type": "markdown",
   "id": "e589d28f",
   "metadata": {
    "slideshow": {
     "slide_type": "fragment"
    }
   },
   "source": [
    "<table width=\"100%\"><td style=\"font-size:130%px;font-style:roman;text-align:left;\">\n",
    " <br>\n",
    " <b>Lema</b>:\n",
    "La conjugación de una exponencial se exponencia\n",
    "<br><br>\n",
    "</table>\n",
    "\n",
    "\\begin{eqnarray}\n",
    "U e^{\\alpha A} U^\\dagger &=&  U \\left(1 + \\alpha A  + \\frac{1}{2} \\alpha^2 A^2 + ... \\right) U^\\dagger \\\\ \\rule{0mm}{8mm}\n",
    "&=& 1 + \\alpha UAU^\\dagger + \\frac{1}{2}\\alpha^2 UAU^\\dagger U AU^\\dagger + ... \\\\ \\rule{0mm}{8mm}\n",
    "&=& e^{ \\alpha UAU^\\dagger} \n",
    "\\end{eqnarray}\n",
    "\n"
   ]
  },
  {
   "cell_type": "markdown",
   "id": "d659923a",
   "metadata": {
    "slideshow": {
     "slide_type": "slide"
    }
   },
   "source": [
    "Para el caso $A = \\hat{\\bf n}\\cdot \\boldsymbol{\\sigma} $  la conjugación es\n",
    "<br><br>\n",
    "$$\n",
    "U A U^\\dagger ~\\to ~U (\\hat{\\bf n}\\cdot \\boldsymbol{\\sigma} ) U^\\dagger = (U\\hat{\\bf n})\\cdot  \\boldsymbol{\\sigma}\n",
    "$$\n",
    "<br>"
   ]
  },
  {
   "cell_type": "markdown",
   "id": "e4c8dd5f",
   "metadata": {
    "slideshow": {
     "slide_type": "fragment"
    }
   },
   "source": [
    "<table width=\"100%\"><td style=\"font-size:120%px;font-style:roman;text-align:left;\">\n",
    " <br>\n",
    "<b>Corolario:</b>\n",
    "  $~$ <i>la conjugación de una rotación en torno a un eje produce una rotación en torno al eje conjugado</i>\n",
    "<br><br>\n",
    "$$\n",
    "U R_{\\hat{\\bf n}}(\\theta) U^\\dagger = R_{U\\hat{\\bf n}}(\\theta)\n",
    "$$\n",
    "<br>\n",
    "</table>\n"
   ]
  },
  {
   "cell_type": "markdown",
   "id": "b11c1440",
   "metadata": {
    "slideshow": {
     "slide_type": "fragment"
    }
   },
   "source": [
    "Por ejemplo:\n",
    "\n",
    "\\begin{eqnarray}\n",
    "H R_z(\\theta) H &=& e^{-i \\theta/2 HZH} =  e^{-i (\\theta/2) X}. \\\\ \\rule{0mm}{8mm}\n",
    "&=& R_x(\\theta)\n",
    "\\end{eqnarray}\n",
    "\n",
    "<br>\n",
    "<br>\n",
    "<div>\n",
    "<img src=\"images/HRzHconjugation.png\" width=\"60%\" style='margin:auto'/>\n",
    "</div>\n",
    "<br>\n",
    "\n"
   ]
  },
  {
   "cell_type": "markdown",
   "id": "0cd421e7",
   "metadata": {
    "slideshow": {
     "slide_type": "slide"
    }
   },
   "source": [
    "### 2 cúbits"
   ]
  },
  {
   "cell_type": "markdown",
   "id": "90c6b5f1",
   "metadata": {
    "slideshow": {
     "slide_type": "fragment"
    }
   },
   "source": [
    "\n",
    " $\\bullet$ La puerta  controlada $\\cg{Z} =  {\\rm diag}(1,1,1,-1)$   es simétrica ya que lo único que hace, es cambiar de signo al estado $\\ket{11}$. Es decir\n",
    "<br>\n",
    "<br>\n",
    "<div>\n",
    "<img src=\"images/Equiv_Z.png\" width=\"30%\" style='margin:auto'/>\n",
    "</div>\n",
    "<br>\n",
    "\n",
    " En realidad, $\\cg{Z}$ es un caso particular de   $\\cg{P(\\phi)} = {\\rm diag} (1,1,1, e^{i\\phi})$, para la cual la equivalencia es la misma. \n"
   ]
  },
  {
   "cell_type": "markdown",
   "id": "c69f547b",
   "metadata": {
    "slideshow": {
     "slide_type": "fragment"
    }
   },
   "source": [
    "$\\bullet$   Otra equivalencia importante es\n",
    "<br>\n",
    "<br>\n",
    "\n",
    "<div>\n",
    "<img src=\"images/Equiv_HH.png\" width=\"40%\" style='margin:auto'/>\n",
    "</div>\n",
    "<br>\n"
   ]
  },
  {
   "cell_type": "markdown",
   "id": "b79f54ff",
   "metadata": {
    "slideshow": {
     "slide_type": "fragment"
    }
   },
   "source": [
    "Para probarla, observemos que las tres puertas del segundo cúbit se pueden componer para dar $HXH=Z$. Por el contrario, las dos puertas de Hadamard en el primer cúbit no se pueden multiplicar al haber un control entre ellas. \n",
    "Sin embargo, usando la  equivalencia anterior podemos invertir la puerta $\\cg{Z}$ y, finalmente, conjugar en el primer cúbit $HZH=X$.\n"
   ]
  },
  {
   "cell_type": "markdown",
   "id": "a5cf2bcb",
   "metadata": {
    "slideshow": {
     "slide_type": "slide"
    }
   },
   "source": [
    "\n",
    "- Otra  equivalencia nada intuitiva pero muy importante relaciona tres operaciones CNOT con la permutación U$_{\\rm SWAP}$\n",
    "\n",
    "\n",
    "<br>\n",
    "<br>\n",
    "<div>\n",
    "<img src=\"images/Equiv_CNOTs.png\" width=\"40%\" style='margin:auto'/>\n",
    "</div>\n",
    "<br>\n",
    "<br>\n",
    "\n",
    "No hay una forma sencilla de probar esta identidad, así que lo recomendable es escribir las matrices asociadas a cada miembro y comprobar que son iguales\n"
   ]
  },
  {
   "cell_type": "markdown",
   "id": "ee17832f",
   "metadata": {
    "slideshow": {
     "slide_type": "fragment"
    }
   },
   "source": [
    " \n",
    "\n",
    " $\\bullet$  La puerta de phase global controlada, $\\cg{K_\\phi} = {\\rm diag} (1,1,e^{i\\phi}, e^{i\\phi})$, secretamente, no es una puerta controlada\n",
    "\n",
    "\n",
    "<br>\n",
    "<br>\n",
    "<div>\n",
    "<img src=\"images/Equiv_Kphase.png\" width=\"35%\" style='margin:auto'/>\n",
    "</div>\n",
    "<br>\n",
    "<br>\n"
   ]
  },
  {
   "cell_type": "markdown",
   "id": "af77f25e",
   "metadata": {
    "slideshow": {
     "slide_type": "slide"
    }
   },
   "source": [
    "También podemos comprobar la veracidad de las anteriores identidades programando los circuitos de ambos miembros"
   ]
  },
  {
   "cell_type": "code",
   "execution_count": 1,
   "id": "21311397",
   "metadata": {
    "slideshow": {
     "slide_type": "fragment"
    }
   },
   "outputs": [
    {
     "name": "stdout",
     "output_type": "stream",
     "text": [
      "          ┌───┐     \n",
      "q_0: ──■──┤ X ├──■──\n",
      "     ┌─┴─┐└─┬─┘┌─┴─┐\n",
      "q_1: ┤ X ├──■──┤ X ├\n",
      "     └───┘     └───┘\n",
      "        \n",
      "q_0: ─X─\n",
      "      │ \n",
      "q_1: ─X─\n",
      "        \n"
     ]
    }
   ],
   "source": [
    "from qiskit import *\n",
    "from qiskit.quantum_info import Statevector\n",
    "U_simulator = Aer.get_backend('unitary_simulator')\n",
    "\n",
    "qc_left= QuantumCircuit(2)\n",
    "qc_right= QuantumCircuit(2)\n",
    "\n",
    "qc_left.cx(0,1)\n",
    "qc_left.cx(1,0)\n",
    "qc_left.cx(0,1)\n",
    "qc_right.swap(1,0)\n",
    " \n",
    "print(qc_left)\n",
    "print(qc_right)\n",
    "\n",
    "U_left = execute(qc_left, backend = U_simulator).result().get_unitary()\n",
    "U_right = execute(qc_right, backend = U_simulator).result().get_unitary()"
   ]
  },
  {
   "cell_type": "markdown",
   "id": "e4636176",
   "metadata": {
    "slideshow": {
     "slide_type": "fragment"
    }
   },
   "source": [
    "podemos comprobar que las matrices que representan los circuitos coinciden"
   ]
  },
  {
   "cell_type": "code",
   "execution_count": 2,
   "id": "cfd091f1",
   "metadata": {
    "slideshow": {
     "slide_type": "fragment"
    }
   },
   "outputs": [
    {
     "ename": "TypeError",
     "evalue": "'>' not supported between instances of 'method' and 'int'",
     "output_type": "error",
     "traceback": [
      "\u001b[0;31m---------------------------------------------------------------------------\u001b[0m",
      "\u001b[0;31mTypeError\u001b[0m                                 Traceback (most recent call last)",
      "\u001b[0;32m<ipython-input-2-e3e397aa3aa6>\u001b[0m in \u001b[0;36m<module>\u001b[0;34m\u001b[0m\n\u001b[1;32m      1\u001b[0m \u001b[0;32mfrom\u001b[0m \u001b[0mqiskit\u001b[0m\u001b[0;34m.\u001b[0m\u001b[0mtools\u001b[0m\u001b[0;34m.\u001b[0m\u001b[0mvisualization\u001b[0m \u001b[0;32mimport\u001b[0m \u001b[0marray_to_latex\u001b[0m\u001b[0;34m\u001b[0m\u001b[0;34m\u001b[0m\u001b[0m\n\u001b[0;32m----> 2\u001b[0;31m \u001b[0marray_to_latex\u001b[0m\u001b[0;34m(\u001b[0m\u001b[0mU_left\u001b[0m\u001b[0;34m,\u001b[0m \u001b[0mprefix\u001b[0m\u001b[0;34m=\u001b[0m\u001b[0;34m\"\\\\text{U_left = }\\n\"\u001b[0m\u001b[0;34m)\u001b[0m\u001b[0;34m\u001b[0m\u001b[0;34m\u001b[0m\u001b[0m\n\u001b[0m",
      "\u001b[0;32m~/opt/anaconda3/lib/python3.8/site-packages/qiskit/visualization/array.py\u001b[0m in \u001b[0;36marray_to_latex\u001b[0;34m(array, precision, prefix, source, max_size)\u001b[0m\n\u001b[1;32m    189\u001b[0m         \u001b[0mmax_size\u001b[0m \u001b[0;34m=\u001b[0m \u001b[0;34m(\u001b[0m\u001b[0mmax_size\u001b[0m\u001b[0;34m,\u001b[0m \u001b[0mmax_size\u001b[0m\u001b[0;34m)\u001b[0m\u001b[0;34m\u001b[0m\u001b[0;34m\u001b[0m\u001b[0m\n\u001b[1;32m    190\u001b[0m \u001b[0;34m\u001b[0m\u001b[0m\n\u001b[0;32m--> 191\u001b[0;31m     \u001b[0moutstr\u001b[0m \u001b[0;34m=\u001b[0m \u001b[0m_matrix_to_latex\u001b[0m\u001b[0;34m(\u001b[0m\u001b[0marray\u001b[0m\u001b[0;34m,\u001b[0m \u001b[0mdecimals\u001b[0m\u001b[0;34m=\u001b[0m\u001b[0mprecision\u001b[0m\u001b[0;34m,\u001b[0m \u001b[0mprefix\u001b[0m\u001b[0;34m=\u001b[0m\u001b[0mprefix\u001b[0m\u001b[0;34m,\u001b[0m \u001b[0mmax_size\u001b[0m\u001b[0;34m=\u001b[0m\u001b[0mmax_size\u001b[0m\u001b[0;34m)\u001b[0m\u001b[0;34m\u001b[0m\u001b[0;34m\u001b[0m\u001b[0m\n\u001b[0m\u001b[1;32m    192\u001b[0m \u001b[0;34m\u001b[0m\u001b[0m\n\u001b[1;32m    193\u001b[0m     \u001b[0;32mif\u001b[0m \u001b[0msource\u001b[0m \u001b[0;32mis\u001b[0m \u001b[0;32mTrue\u001b[0m\u001b[0;34m:\u001b[0m\u001b[0;34m\u001b[0m\u001b[0;34m\u001b[0m\u001b[0m\n",
      "\u001b[0;32m~/opt/anaconda3/lib/python3.8/site-packages/qiskit/visualization/array.py\u001b[0m in \u001b[0;36m_matrix_to_latex\u001b[0;34m(matrix, decimals, prefix, max_size)\u001b[0m\n\u001b[1;32m    139\u001b[0m \u001b[0;34m\u001b[0m\u001b[0m\n\u001b[1;32m    140\u001b[0m     \u001b[0;32melse\u001b[0m\u001b[0;34m:\u001b[0m\u001b[0;34m\u001b[0m\u001b[0;34m\u001b[0m\u001b[0m\n\u001b[0;32m--> 141\u001b[0;31m         \u001b[0mout_string\u001b[0m \u001b[0;34m+=\u001b[0m \u001b[0m_rows_to_latex\u001b[0m\u001b[0;34m(\u001b[0m\u001b[0mmatrix\u001b[0m\u001b[0;34m,\u001b[0m \u001b[0mmax_width\u001b[0m\u001b[0;34m)\u001b[0m\u001b[0;34m\u001b[0m\u001b[0;34m\u001b[0m\u001b[0m\n\u001b[0m\u001b[1;32m    142\u001b[0m     \u001b[0mout_string\u001b[0m \u001b[0;34m+=\u001b[0m \u001b[0;34m\"\\\\end{bmatrix}\\n\"\u001b[0m\u001b[0;34m\u001b[0m\u001b[0;34m\u001b[0m\u001b[0m\n\u001b[1;32m    143\u001b[0m     \u001b[0;32mreturn\u001b[0m \u001b[0mout_string\u001b[0m\u001b[0;34m\u001b[0m\u001b[0;34m\u001b[0m\u001b[0m\n",
      "\u001b[0;32m~/opt/anaconda3/lib/python3.8/site-packages/qiskit/visualization/array.py\u001b[0m in \u001b[0;36m_rows_to_latex\u001b[0;34m(rows, max_width)\u001b[0m\n\u001b[1;32m    107\u001b[0m         \u001b[0;32mfor\u001b[0m \u001b[0mr\u001b[0m \u001b[0;32min\u001b[0m \u001b[0mrows\u001b[0m\u001b[0;34m:\u001b[0m\u001b[0;34m\u001b[0m\u001b[0;34m\u001b[0m\u001b[0m\n\u001b[1;32m    108\u001b[0m             \u001b[0;32mif\u001b[0m \u001b[0mlen\u001b[0m\u001b[0;34m(\u001b[0m\u001b[0mr\u001b[0m\u001b[0;34m)\u001b[0m \u001b[0;34m<=\u001b[0m \u001b[0mmax_width\u001b[0m\u001b[0;34m:\u001b[0m\u001b[0;34m\u001b[0m\u001b[0;34m\u001b[0m\u001b[0m\n\u001b[0;32m--> 109\u001b[0;31m                 \u001b[0mrow_string\u001b[0m \u001b[0;34m+=\u001b[0m \u001b[0m_elements_to_latex\u001b[0m\u001b[0;34m(\u001b[0m\u001b[0mr\u001b[0m\u001b[0;34m)\u001b[0m\u001b[0;34m\u001b[0m\u001b[0;34m\u001b[0m\u001b[0m\n\u001b[0m\u001b[1;32m    110\u001b[0m             \u001b[0;32melse\u001b[0m\u001b[0;34m:\u001b[0m\u001b[0;34m\u001b[0m\u001b[0;34m\u001b[0m\u001b[0m\n\u001b[1;32m    111\u001b[0m                 \u001b[0mrow_string\u001b[0m \u001b[0;34m+=\u001b[0m \u001b[0m_elements_to_latex\u001b[0m\u001b[0;34m(\u001b[0m\u001b[0mr\u001b[0m\u001b[0;34m[\u001b[0m\u001b[0;34m:\u001b[0m \u001b[0mmax_width\u001b[0m \u001b[0;34m//\u001b[0m \u001b[0;36m2\u001b[0m\u001b[0;34m]\u001b[0m\u001b[0;34m)\u001b[0m\u001b[0;34m\u001b[0m\u001b[0;34m\u001b[0m\u001b[0m\n",
      "\u001b[0;32m~/opt/anaconda3/lib/python3.8/site-packages/qiskit/visualization/array.py\u001b[0m in \u001b[0;36m_elements_to_latex\u001b[0;34m(elements)\u001b[0m\n\u001b[1;32m     96\u001b[0m         \u001b[0mel_string\u001b[0m \u001b[0;34m=\u001b[0m \u001b[0;34m\"\"\u001b[0m\u001b[0;34m\u001b[0m\u001b[0;34m\u001b[0m\u001b[0m\n\u001b[1;32m     97\u001b[0m         \u001b[0;32mfor\u001b[0m \u001b[0mel\u001b[0m \u001b[0;32min\u001b[0m \u001b[0melements\u001b[0m\u001b[0;34m:\u001b[0m\u001b[0;34m\u001b[0m\u001b[0;34m\u001b[0m\u001b[0m\n\u001b[0;32m---> 98\u001b[0;31m             \u001b[0mnum_string\u001b[0m \u001b[0;34m=\u001b[0m \u001b[0m_num_to_latex\u001b[0m\u001b[0;34m(\u001b[0m\u001b[0mel\u001b[0m\u001b[0;34m,\u001b[0m \u001b[0mdecimals\u001b[0m\u001b[0;34m=\u001b[0m\u001b[0mdecimals\u001b[0m\u001b[0;34m)\u001b[0m\u001b[0;34m\u001b[0m\u001b[0;34m\u001b[0m\u001b[0m\n\u001b[0m\u001b[1;32m     99\u001b[0m             \u001b[0mel_string\u001b[0m \u001b[0;34m+=\u001b[0m \u001b[0mnum_string\u001b[0m \u001b[0;34m+\u001b[0m \u001b[0;34m\" & \"\u001b[0m\u001b[0;34m\u001b[0m\u001b[0;34m\u001b[0m\u001b[0m\n\u001b[1;32m    100\u001b[0m         \u001b[0mel_string\u001b[0m \u001b[0;34m=\u001b[0m \u001b[0mel_string\u001b[0m\u001b[0;34m[\u001b[0m\u001b[0;34m:\u001b[0m\u001b[0;34m-\u001b[0m\u001b[0;36m2\u001b[0m\u001b[0;34m]\u001b[0m  \u001b[0;31m# remove trailing ampersands\u001b[0m\u001b[0;34m\u001b[0m\u001b[0;34m\u001b[0m\u001b[0m\n",
      "\u001b[0;32m~/opt/anaconda3/lib/python3.8/site-packages/qiskit/visualization/array.py\u001b[0m in \u001b[0;36m_num_to_latex\u001b[0;34m(raw_value, decimals, first_term, coefficient)\u001b[0m\n\u001b[1;32m     37\u001b[0m     \u001b[0mvalue\u001b[0m \u001b[0;34m=\u001b[0m \u001b[0msympy\u001b[0m\u001b[0;34m.\u001b[0m\u001b[0mnsimplify\u001b[0m\u001b[0;34m(\u001b[0m\u001b[0mraw_value\u001b[0m\u001b[0;34m,\u001b[0m \u001b[0mrational\u001b[0m\u001b[0;34m=\u001b[0m\u001b[0;32mFalse\u001b[0m\u001b[0;34m)\u001b[0m\u001b[0;34m\u001b[0m\u001b[0;34m\u001b[0m\u001b[0m\n\u001b[1;32m     38\u001b[0m \u001b[0;34m\u001b[0m\u001b[0m\n\u001b[0;32m---> 39\u001b[0;31m     \u001b[0;32mif\u001b[0m \u001b[0misinstance\u001b[0m\u001b[0;34m(\u001b[0m\u001b[0mvalue\u001b[0m\u001b[0;34m,\u001b[0m \u001b[0msympy\u001b[0m\u001b[0;34m.\u001b[0m\u001b[0mcore\u001b[0m\u001b[0;34m.\u001b[0m\u001b[0mnumbers\u001b[0m\u001b[0;34m.\u001b[0m\u001b[0mRational\u001b[0m\u001b[0;34m)\u001b[0m \u001b[0;32mand\u001b[0m \u001b[0mvalue\u001b[0m\u001b[0;34m.\u001b[0m\u001b[0mdenominator\u001b[0m \u001b[0;34m>\u001b[0m \u001b[0;36m50\u001b[0m\u001b[0;34m:\u001b[0m\u001b[0;34m\u001b[0m\u001b[0;34m\u001b[0m\u001b[0m\n\u001b[0m\u001b[1;32m     40\u001b[0m         \u001b[0;31m# Avoid showing ugly fractions (e.g. 50498971964399/62500000000000)\u001b[0m\u001b[0;34m\u001b[0m\u001b[0;34m\u001b[0m\u001b[0;34m\u001b[0m\u001b[0m\n\u001b[1;32m     41\u001b[0m         \u001b[0mvalue\u001b[0m \u001b[0;34m=\u001b[0m \u001b[0mvalue\u001b[0m\u001b[0;34m.\u001b[0m\u001b[0mevalf\u001b[0m\u001b[0;34m(\u001b[0m\u001b[0;34m)\u001b[0m  \u001b[0;31m# Display as float\u001b[0m\u001b[0;34m\u001b[0m\u001b[0;34m\u001b[0m\u001b[0m\n",
      "\u001b[0;31mTypeError\u001b[0m: '>' not supported between instances of 'method' and 'int'"
     ]
    }
   ],
   "source": [
    "from qiskit.tools.visualization import array_to_latex\n",
    "array_to_latex(U_left, prefix=\"\\\\text{U_left = }\\n\")"
   ]
  },
  {
   "cell_type": "code",
   "execution_count": null,
   "id": "3ff73e0d",
   "metadata": {
    "slideshow": {
     "slide_type": "-"
    }
   },
   "outputs": [],
   "source": [
    "array_to_latex(U_right, prefix=\"\\\\text{U_right = }\\n\")"
   ]
  },
  {
   "cell_type": "markdown",
   "id": "063e9a7f",
   "metadata": {
    "slideshow": {
     "slide_type": "slide"
    }
   },
   "source": [
    "<div class=\"alert alert-block alert-success\">\n",
    "    <b>Ejercicio 1.3.1.2</b> \n",
    "<br> \n",
    "$~$ Demuestra las equivalencia de circuitos anteriores de dos formas:\n",
    "<br>\n",
    "$~~~$ - sobre el papel,  multiplicando las matrices asociadas\n",
    "<br>\n",
    "$~~~$ - en qiskit, componiendo los circuitos y extrayendo el operador unitario asociado\n",
    "</div>\n"
   ]
  },
  {
   "cell_type": "markdown",
   "id": "5a772302",
   "metadata": {
    "slideshow": {
     "slide_type": "fragment"
    }
   },
   "source": [
    "<div class=\"alert alert-block alert-success\">\n",
    "    <b>Ejercicio 1.3.1.3</b> \n",
    " \n",
    "    \n",
    "comprueba la equivalencia de los dos circuitos siguientes, siempre que se verifique que $V^2 = U$\n",
    "\n",
    "<br>\n",
    "<br>\n",
    "<div>\n",
    "<img src=\"images/CCUdecomposition.png\" width=\"40%\" style='margin:auto'/>\n",
    "</div>\n",
    "<br>\n",
    "<br>\n",
    "\n",
    "    \n",
    "</div>\n"
   ]
  },
  {
   "cell_type": "markdown",
   "id": "eec5c678",
   "metadata": {
    "slideshow": {
     "slide_type": "slide"
    }
   },
   "source": [
    "<a id=\"opcliff\"></a>\n",
    "<table width=\"100%\">\n",
    "    <td style=\"font-size:250%px;font-family:Helvetica;text-align:left;background-color:rgba(0,0,900, 0.3);\">\n",
    "<b>Operadores de Clifford</b>\n",
    "</table>"
   ]
  },
  {
   "cell_type": "markdown",
   "id": "f178b4ef",
   "metadata": {
    "slideshow": {
     "slide_type": "slide"
    }
   },
   "source": [
    "\n",
    "<div class=\"alert alert-block alert-info\">\n",
    "<p style=\"text-align: center;\"> <p style=\"text-align: left ;color: navy;\">  \n",
    "<b>Definición:</b> se define un <i>operador de Clifford</i>, $U$ como aquel que conjuga un operador de Pauli a otro operador de Pauli.\n",
    "</p></div>\n",
    "\n",
    "Los propios operadores de Pauli son operadores de Clifford.  La conjugación correspondiente simplemente refleja el operador de Pauli. Por ejemplo con $U=Z$\n",
    "\n",
    "$$\n",
    "ZXZ = -X~~~~~~~~~ZYZ = -Y ~~~~~~~~~ZZZ = Z \n",
    "$$\n",
    "\n",
    "\n",
    "Pero vemos que también $H$ y $S$ son de Clifford. \n",
    "Por el contrario $T$ no es un operador de Clifford."
   ]
  },
  {
   "cell_type": "markdown",
   "id": "97bae82d",
   "metadata": {
    "slideshow": {
     "slide_type": "fragment"
    }
   },
   "source": [
    "<br>\n",
    "<br>\n",
    "<div class=\"alert alert-block alert-danger\">\n",
    "<b>Notar:</b> \n",
    "La forma más fácil de calcular estas conjugaciones es  recordar el álgebra de operadores de Pauli\n",
    "\n",
    "$$\n",
    "X Y = i Z ~~~~~ Y Z = i X ~~~~~ ZX = iY\n",
    "$$\n",
    "donde todas involucran a $X,Y$ y $Z$ en orden cíclico.\n",
    "\n",
    "También el hecho de que dos operadores de Pauli distintos anti-conmutan\n",
    "\n",
    "$$\n",
    "\\{X,Y\\} = XY + YX = 0\n",
    "$$\n",
    "e igualmente para $Y$ y $Z$\n",
    "</p></div>\n"
   ]
  },
  {
   "cell_type": "markdown",
   "id": "d452ae6b",
   "metadata": {
    "slideshow": {
     "slide_type": "slide"
    }
   },
   "source": [
    "Esta definición se extiende a puertas multi-cúbits. Un operador de Clifford será aquel que conjuga una cadena de Pauli para dar otra cadena de Pauli. Por ejemplo\n",
    "\n",
    "\\begin{eqnarray}\n",
    "(XXH) \\, (YZX) \\,  (XXH)^\\dagger &=& XXH \\otimes YZX \\otimes XXH \\\\ \\rule{0mm}{10mm}\n",
    "&=& XYX \\otimes  XZX \\otimes HXH \\\\ \\rule{0mm}{10mm}\n",
    "&=& (-Y)\\otimes (-Z) \\otimes Z \\\\ \\rule{0mm}{10mm} &=& YZZ\n",
    "\\end{eqnarray}"
   ]
  },
  {
   "cell_type": "markdown",
   "id": "17f04565",
   "metadata": {
    "slideshow": {
     "slide_type": "fragment"
    }
   },
   "source": [
    "También podemos conjugar operadores obtenidos por exponenciación\n",
    "\n",
    "$$\n",
    "(XXH) \\, e^{aYZX} \\,  (XXH)^\\dagger =e^{a XXH \\otimes XZX \\otimes XXH} =  e^{a YZZ}\n",
    "$$"
   ]
  },
  {
   "cell_type": "markdown",
   "id": "eaad5f12",
   "metadata": {
    "slideshow": {
     "slide_type": "slide"
    }
   },
   "source": [
    "Para 2 cúbits la *clase de Clifford* admite puertas controladas.\n",
    "\n",
    "$$\n",
    "\\cg{X} \\, (X\\otimes I)\\,  \\cg{X} = X \\otimes X\n",
    "$$\n",
    "\n",
    "que copia el operador $X$ en el segundo cúbit\n",
    "\n",
    "\n"
   ]
  },
  {
   "cell_type": "markdown",
   "id": "381e287c",
   "metadata": {
    "slideshow": {
     "slide_type": "fragment"
    }
   },
   "source": [
    "Esta identidad se puede demostrar gráficamente \n",
    "<br>\n",
    "<br>\n",
    "<br>\n",
    "<div>\n",
    "<img src=\"images/clone_X.png\" width=\"75%\" style='margin:auto'/>\n",
    "</div>\n",
    "<br>\n",
    "<br>"
   ]
  },
  {
   "cell_type": "markdown",
   "id": "76b253a9",
   "metadata": {
    "slideshow": {
     "slide_type": "slide"
    }
   },
   "source": [
    "<a id=\"compuniv\"></a>\n",
    "<table width=\"100%\">\n",
    "    <td style=\"font-size:250%px;font-family:Helvetica;text-align:left;background-color:rgba(0,0,900, 0.3);\">\n",
    "<b>Computación Cuántica Universal</b>\n",
    "</table>"
   ]
  },
  {
   "cell_type": "markdown",
   "id": "30c49603",
   "metadata": {
    "slideshow": {
     "slide_type": "slide"
    }
   },
   "source": [
    "El objetivo de un *computador cuántico universal* es el de ser capaz de implementar el operador unitario más general\n",
    "\n",
    "$$\n",
    "U  = \\sum_x \\ket{f(x)}\\bra{x}\n",
    "$$\n",
    "donde $f: x \\to f(x)$ es una función arbitraria invertible."
   ]
  },
  {
   "cell_type": "markdown",
   "id": "2f885a8c",
   "metadata": {
    "slideshow": {
     "slide_type": "fragment"
    }
   },
   "source": [
    "<div class=\"alert alert-block alert-info\">\n",
    "<p style=\"text-align: center;\"> <p style=\"text-align: left ;color: navy;\">  \n",
    "<b>Teorema</b> <i>(Barenco et. al. 1995):</i> \n",
    "<br>\n",
    "cualquier operador unitario $U_n$ sobre $n$ cúbits puede expresarse como el producto de \n",
    "<br>\n",
    "<br>   \n",
    "-  puertas continuas de <i>un cubit</i> \n",
    "<br>  \n",
    "<br>\n",
    "-  puertas CNOT.\n",
    "</p></div>"
   ]
  },
  {
   "cell_type": "markdown",
   "id": "6af257e5",
   "metadata": {
    "slideshow": {
     "slide_type": "fragment"
    }
   },
   "source": [
    "<br>\n",
    "<br>\n",
    "Un ejemplo de este teorema lo ofrece la siguiente descomposición de la puerta controlada $U = \\cg{P_\\phi}$\n",
    "<br>\n",
    "<br>\n",
    "<div>\n",
    "<img src=\"images/Equiv_Phase.png\" width=\"50%\" style='margin:auto'/>\n",
    "</div>\n",
    "<br>\n",
    "\n"
   ]
  },
  {
   "cell_type": "markdown",
   "id": "a6d8fb4f",
   "metadata": {
    "slideshow": {
     "slide_type": "slide"
    }
   },
   "source": [
    "**Prueba**: consta de varios pasos\n",
    "\n"
   ]
  },
  {
   "cell_type": "markdown",
   "id": "659579ad",
   "metadata": {
    "slideshow": {
     "slide_type": "fragment"
    }
   },
   "source": [
    "1.  cualquier operador $U_n$ sobre $n$ cúbits se puede descomponer como *producto de operadores* $\\cg{^kU}$ controlados por $k$ cúbits"
   ]
  },
  {
   "cell_type": "markdown",
   "id": "1f95f407",
   "metadata": {
    "slideshow": {
     "slide_type": "fragment"
    }
   },
   "source": [
    "2. los operadores $\\hbox{C}^kU$ se pueden descomponer como productos de un  operador $\\cg{U}$ y puertas de Toffoli CCNOT\n"
   ]
  },
  {
   "cell_type": "markdown",
   "id": "31b35aa5",
   "metadata": {
    "slideshow": {
     "slide_type": "fragment"
    }
   },
   "source": [
    "En general para $\\cg{^kU}$ necesitamos $k-1$ ancillas\n",
    "\n",
    "<br>\n",
    "<br>\n",
    "<div>\n",
    "<img src=\"images/CkUdecomposition.png\" width=\"50%\" style='margin:auto'/>\n",
    "</div>\n",
    "<br>\n"
   ]
  },
  {
   "cell_type": "markdown",
   "id": "7e448a5c",
   "metadata": {
    "slideshow": {
     "slide_type": "slide"
    }
   },
   "source": [
    "<a id=\"Toffolidecomposition\"></a>\n",
    "3. Las puertas de Toffoli puede descomponerse como productos de $H$, $\\cg{X}$ y $\\cg{S}$\n",
    "\n",
    "<br>\n",
    "<br>\n",
    "<div>\n",
    "<img src=\"images/Toffolidecomposition.png\" width=\"50%\" style='margin:auto'/>\n",
    "</div>\n",
    "<br>\n",
    "<br>\n",
    "Este no es más que el caso particular  de la descomposición general de $\\cg{^2U}$ usando $U = X = HZH=HSSH =  (HSH)(HSH)= V^2 ~~\\Rightarrow ~~V = HSH$."
   ]
  },
  {
   "cell_type": "markdown",
   "id": "d5a9534c",
   "metadata": {
    "slideshow": {
     "slide_type": "fragment"
    }
   },
   "source": [
    "<a id=\"CUdecomposition\"></a>\n",
    "4. Una puerta $\\cg{U}$ puede descomponerse de forma única usando tres rotaciones $A, B$ y $C$ que verifiquen\n",
    "\n",
    "$$\n",
    "ABC = I ~~~~~,~~~~ e^{i\\delta}  AXBXC = U\n",
    "$$\n",
    "\n",
    "<br>\n",
    "<div>\n",
    "<img src=\"images/CUdecomposition.png\" width=\"62%\" style='margin:auto'/>\n",
    "</div>\n",
    "<br>\n",
    "\n",
    "\n",
    "\n",
    "En efecto, si el cúbit de control es $\\ket{0}$ la fase $P(\\delta)$ no le afecta y el operador efectivo en el segundo cúbit es $ABC= I$.\n",
    "\n",
    "Por el contrario, si el primer cúbits es $\\ket{1}$, entonces se aplica $AXBXC$ al segundo cúbit, y \n",
    "el operador $P(\\delta)$ añade la fase global, que al ser global podemos pasársela al segundo cúbit, lo que hace $e^{i\\delta} AXBXC = U$\n"
   ]
  },
  {
   "cell_type": "markdown",
   "id": "97efc928",
   "metadata": {
    "slideshow": {
     "slide_type": "fragment"
    }
   },
   "source": [
    "<details>\n",
    "\n",
    "Las dos condiciones  algebráicas admiten una solución única para un operador unitario genérico\n",
    "   \n",
    "$$\n",
    "U = e^{i\\delta}\\begin{bmatrix}\\displaystyle e^{-i(\\alpha+\\beta)/2}\\cos\\frac{\\theta}{2} & \\displaystyle - e^{i(-\\alpha+\\beta)/2}\\sin\\frac{\\theta}{2}  \\\\  \n",
    "\\rule{0mm}{5mm}\n",
    "\\displaystyle   e^{i(\\alpha-\\beta)/2}\\sin\\frac{\\theta}{2}  &\\displaystyle e^{i(\\alpha+\\beta)/2}\\cos\\frac{\\theta}{2}\n",
    "\\end{bmatrix} = e^{i\\delta} AXBXC ~  \\Longrightarrow ~\n",
    "\\left\\{ \\begin{array}{l} A = R_z(\\alpha) R_y\\left(\\frac{\\theta}{2}\\right) \\\\ B = R_y\\left(-\\frac{\\theta}{2}\\right) R_z\\left(-\\frac{\\alpha + \\beta}{2}\\right) \\\\\n",
    "C = R_z\\left( \\frac{\\beta-\\alpha}{2}\\right)\\end{array}\n",
    "\\right.\n",
    "$$\n",
    "\n",
    "<i> Nota: </i>: $U\\in U(2)$  es un operador unitario y  su determinante es una fase $\\det U = e^{i\\delta}$.     Por su parte $\\det(AXBXC) = 1$, y por tanto es un elemento de $SU(2)$.  Por esta razón es necesario añadir la fase $e^{i\\delta}$ para obtener un operador unitario general. \n",
    "    \n",
    "    \n",
    "</details>    \n",
    "\n"
   ]
  },
  {
   "cell_type": "markdown",
   "id": "472b077b",
   "metadata": {
    "slideshow": {
     "slide_type": "slide"
    }
   },
   "source": [
    "### Puertas universales\n",
    "\n",
    "\n",
    "- La descomposición del teorema de Barenco es  una identidad exacta capaz de descomponer un conjunto infinito y continuo de operadores $U_n$ en puertas CNOT y puertas *continuas* $U$ \n",
    "\n",
    "\n"
   ]
  },
  {
   "cell_type": "markdown",
   "id": "33a7c337",
   "metadata": {
    "slideshow": {
     "slide_type": "fragment"
    }
   },
   "source": [
    "- La computación cuántica *resistentes a errores (\"fault tolerant\")* demanda la **discretización** del proceso de computación.\n",
    "\n"
   ]
  },
  {
   "cell_type": "markdown",
   "id": "bebf3ea5",
   "metadata": {
    "slideshow": {
     "slide_type": "fragment"
    }
   },
   "source": [
    "\n",
    "- Existe un *conjunto discreto de puertas universales* susceptibles de ser programadas de manera resistente a errores \n",
    "\n",
    "\n",
    "\n"
   ]
  },
  {
   "cell_type": "markdown",
   "id": "ea70694e",
   "metadata": {
    "slideshow": {
     "slide_type": "fragment"
    }
   },
   "source": [
    " Puede ser diferente dependiendo de la plataforma utilizada. \n",
    "\n",
    "- En circuitos superconductores \n",
    "\n",
    "\\begin{eqnarray}\n",
    "\\hbox{Shor basis}~~\n",
    " ~&:& ~~ \\{ H, T, \\hbox{CNOT}\\}  \\nonumber \\\\ \\rule{0mm}{5mm}\n",
    "\\hbox{NCT}~ ~&:& ~~ \\{ X,\\hbox{CNOT}, \\hbox{Toffoli}\\}   \\nonumber\n",
    "\\end{eqnarray}\n"
   ]
  },
  {
   "cell_type": "markdown",
   "id": "5b2e3e02",
   "metadata": {
    "slideshow": {
     "slide_type": "slide"
    }
   },
   "source": [
    "- Es importante relacionar las puertas universales con *puertas nativas*\n",
    "\n",
    "Por ejemplo, en ordenadores de iones atrapados hay las siguientes [puertas nativas](https://ionq.com/docs/getting-started-with-native-gates#introducing-the-native-gates)\n",
    "\n",
    "$$\n",
    "\\{ \\hbox{GPi},\\hbox{Virtual}Z, \\hbox{MS}\\} \n",
    "$$\n",
    "\n",
    "<br>\n",
    "<br>\n",
    "donde \n",
    "$$\n",
    "\\hbox{GPi} = \\begin{bmatrix} 0 & e^{-i\\phi} \\\\e^{i\\phi} & 0 \\end{bmatrix}~~~,~~~\n",
    "\\hbox{Virtual}Z = \\begin{bmatrix} e^{-i\\phi} & 0 \\\\ 0 & e^{i\\phi} \\end{bmatrix} ~~,~~~~\n",
    "$$\n",
    "\n",
    "y la puerta de Mølmer-Sørensen\n",
    "\n",
    "$$\n",
    "MS(\\phi_1,\\phi_2) = \\frac{1}{\\sqrt{2}}\n",
    "\\begin{bmatrix}\n",
    "1 & 0 & 0 & e^{-i(\\phi_1+\\phi_2)} \\\\ 0 & 1 &-i e^{-i(\\phi_1-\\phi_2)} & 0 \\\\ 0 & -i e^{i(\\phi_1-\\phi_2)} & 1 & 0  \\\\ \n",
    "-ie^{i(\\phi_1+\\phi_2)} & 0 & 0 & 1 \n",
    "\\end{bmatrix}\n",
    "$$\n",
    "\n"
   ]
  },
  {
   "cell_type": "markdown",
   "id": "39b33bab",
   "metadata": {
    "slideshow": {
     "slide_type": "slide"
    }
   },
   "source": [
    "<div class=\"alert alert-block alert-info\">\n",
    "<p style=\"text-align: center;\"> <p style=\"text-align: left ;color: navy;\">  \n",
    "<b>Teorema</b> <i>(Solovay Kitaev et. al. 1995):</i>   \n",
    "<br>    \n",
    "una puerta simple $U$ arbitraria puede ser aproximada con precisión $\\epsilon$ usando una secuencia de puertas discretas \n",
    "$R$ en el siguiente sentido de proximidad\n",
    "<br>\n",
    "<br>\n",
    "$$\n",
    "\\hbox{max}_{\\ket{\\psi}} || (U - R)\\ket{\\psi} ||<\\epsilon\n",
    "$$\n",
    "<br>    \n",
    "donde la secuencia aproximante $R$ involucra   $\\leq {\\cal O}(\\log^2(1/\\epsilon))$ puertas de un conjunto discreto universal, \n",
    "</p></div>\n",
    "\n",
    "Referencia: M.A. Nielsen y L.I. Chuang *Quantum Computation and Quantum Information*, pág. 197.\n"
   ]
  },
  {
   "cell_type": "markdown",
   "id": "4bc42c1b",
   "metadata": {
    "slideshow": {
     "slide_type": "slide"
    }
   },
   "source": [
    "<a id=\"medcalcirc\"></a>\n",
    "<table width=\"100%\">\n",
    "    <td style=\"font-size:250%px;font-family:Helvetica;text-align:left;background-color:rgba(0,0,900, 0.3);\">\n",
    "<b>Medidas de calidad en circuitos</b>\n",
    "</table>"
   ]
  },
  {
   "cell_type": "markdown",
   "id": "023b2bc6",
   "metadata": {
    "slideshow": {
     "slide_type": "slide"
    }
   },
   "source": [
    "Alguna medidas cuantitativas  permiten comparar la calidad de distintos circuitos que efectúan la misma tarea. \n",
    "\n",
    "- **anchura**= es el número total de cúbits  que necesita.   \n",
    "\n",
    " El uso de ancillas incrementa la anchura de un circuito, y por tanto, reduce su calidad en comparación con otro circuito que tenga menor anchura. \n"
   ]
  },
  {
   "cell_type": "markdown",
   "id": "90b5cc45",
   "metadata": {
    "slideshow": {
     "slide_type": "fragment"
    }
   },
   "source": [
    "- **coste**= el número de puertas presentes en el mismo. \n"
   ]
  },
  {
   "cell_type": "markdown",
   "id": "a3ed0a7b",
   "metadata": {
    "slideshow": {
     "slide_type": "fragment"
    }
   },
   "source": [
    "- **complejidad**= es una medida estandarizada asociada al número de *puertas elementales* en las que puede descomponerse un circuito. \n",
    "\n",
    " Es un número a reducir. Sin embargo no es una medida inambigua ya que depende de la librería utilizada. Por ejemplo, si ésta es la NCT, entonces el coste del [circuito](#Toffolidecomposition) es 1. Sin embargo, si la librería es la tomada por $ \\{ H, S, T, \\hbox{CNOT}\\} $\n",
    "entonces el coste sube hasta 7. Por ello, a la hora de comparar circuitos es importante definirlos en la misma base. \n",
    "\n"
   ]
  },
  {
   "cell_type": "markdown",
   "id": "2952e444",
   "metadata": {
    "slideshow": {
     "slide_type": "fragment"
    }
   },
   "source": [
    "\n",
    " \n",
    " * **profundidad**= para evaluar la *profundidad*  es necesario agrupar todas las puertas  que se puedan realizar en paralelo en cortes temporales de duración $\\Delta$ (pulso).\n",
    " \n",
    " En particular puertas que actúen sobre registros diferentes no interferirán y se podrán paralelizar. \n",
    " Por ejemplo, el [circuito que descompone $U$](#CUdecomposition)   tiene un coste igual a 6, pero una profundidad igual a 5. \n",
    " \n",
    "\n"
   ]
  },
  {
   "cell_type": "code",
   "execution_count": null,
   "id": "6b1a482d",
   "metadata": {
    "run_control": {
     "marked": false
    },
    "slideshow": {
     "slide_type": "slide"
    }
   },
   "outputs": [],
   "source": [
    "from qiskit import QuantumCircuit, transpile, Aer, QuantumRegister\n",
    "qc = QuantumCircuit(3)\n",
    "\n",
    "\n",
    "qc.h(0)\n",
    "qc.swap(2,1)\n",
    "qc.h(2)\n",
    "qc.cx(2,0)\n",
    "qc.h([0,2])\n",
    "qc.draw('mpl')\n"
   ]
  },
  {
   "cell_type": "code",
   "execution_count": null,
   "id": "7495b6f4",
   "metadata": {},
   "outputs": [],
   "source": [
    "print('tamaño=',qc.size())\n",
    "print('puertas no locales=', qc.num_nonlocal_gates())\n",
    "print('anchura=', qc.num_qubits)\n",
    "print('profundidad=', qc.depth())\n"
   ]
  },
  {
   "cell_type": "code",
   "execution_count": null,
   "id": "04dc7845",
   "metadata": {
    "run_control": {
     "marked": false
    },
    "slideshow": {
     "slide_type": "slide"
    }
   },
   "outputs": [],
   "source": [
    "qc_dec=qc.decompose()\n",
    "qc_dec.draw('mpl')"
   ]
  },
  {
   "cell_type": "code",
   "execution_count": null,
   "id": "b403ce61",
   "metadata": {},
   "outputs": [],
   "source": [
    "print('complejidad=', qc_dec.size())\n",
    "print('puertas no locales=', qc_dec.num_nonlocal_gates())\n",
    "print('anchura=', qc_dec.num_qubits)\n",
    "print('profundidad=', qc_dec.depth())"
   ]
  },
  {
   "cell_type": "code",
   "execution_count": null,
   "id": "88e84936",
   "metadata": {
    "slideshow": {
     "slide_type": "slide"
    }
   },
   "outputs": [],
   "source": [
    "from qiskit import IBMQ\n",
    "IBMQ.load_account()\n",
    "provider = IBMQ.get_provider(hub='ibm-q')\n",
    "provider.backends()"
   ]
  },
  {
   "cell_type": "code",
   "execution_count": null,
   "id": "25ebb811",
   "metadata": {
    "slideshow": {
     "slide_type": "slide"
    }
   },
   "outputs": [],
   "source": [
    "backend = provider.get_backend(\"ibmq_lima\")\n",
    "backend.configuration().basis_gates"
   ]
  },
  {
   "cell_type": "code",
   "execution_count": null,
   "id": "f04f7f8e",
   "metadata": {
    "slideshow": {
     "slide_type": "fragment"
    }
   },
   "outputs": [],
   "source": [
    "#qc_trans = transpile(qc_dec)\n",
    "qc_trans = transpile(qc,backend)\n",
    "qc_trans.draw('mpl')"
   ]
  },
  {
   "cell_type": "code",
   "execution_count": null,
   "id": "d9b6dc2d",
   "metadata": {
    "slideshow": {
     "slide_type": "fragment"
    }
   },
   "outputs": [],
   "source": [
    "print('complejidad=', qc_trans.size())\n",
    "print('puertas no locales=', qc_trans.num_nonlocal_gates())\n",
    "print('anchura=', qc_trans.num_qubits)\n",
    "print('profundidad=', qc_trans.depth())"
   ]
  },
  {
   "cell_type": "markdown",
   "id": "425bc3e4",
   "metadata": {
    "slideshow": {
     "slide_type": "slide"
    }
   },
   "source": [
    "<div class=\"alert alert-block alert-success\">\n",
    "<b>Ejercicio 1.3.1.4</b> \n",
    "\n",
    "\n",
    "1: Programa y ejecuta un circuito de 16 cúbits que prepare el estado $\\ket{00\\ldots 0} \\to \\frac{1}{\\sqrt{2}}\\left(\\ket{00\\ldots 0} + \\ket{11\\ldots 1}\\right) $ \n",
    "\n",
    "2: Modifica la posición de los controladores hasta reducir la profundidad a 5.\n",
    "\n",
    "</div>"
   ]
  },
  {
   "cell_type": "markdown",
   "id": "08c1078e",
   "metadata": {
    "slideshow": {
     "slide_type": "slide"
    }
   },
   "source": [
    "<a id=\"eficcirc\"></a>\n",
    "<table width=\"100%\">\n",
    "    <td style=\"font-size:250%px;font-family:Helvetica;text-align:left;background-color:rgba(0,0,900, 0.3);\">\n",
    "<b>Complejidad computacional</b>\n",
    "</table>"
   ]
  },
  {
   "cell_type": "markdown",
   "id": "6f9f35f3",
   "metadata": {
    "slideshow": {
     "slide_type": "slide"
    }
   },
   "source": [
    "Un algoritmo es una descomposición de una función en composición de un conjunto de *funciones primitivas*"
   ]
  },
  {
   "cell_type": "markdown",
   "id": "5ecd7f40",
   "metadata": {
    "slideshow": {
     "slide_type": "fragment"
    }
   },
   "source": [
    "A la hora de comparar estrategias de computación es necesario  analizar el coste relativo de diferentes algoritmos. Esta es la labor de teoría de la complejidad computacional. "
   ]
  },
  {
   "cell_type": "markdown",
   "id": "8b3896fc",
   "metadata": {
    "slideshow": {
     "slide_type": "fragment"
    }
   },
   "source": [
    "Como regla general, cada *modelo computacional* reducirá un problema complejo a una serie de pasos elementales (*operaciones primitivas*), a los que les asignaremos un coste computacional 1. \n"
   ]
  },
  {
   "cell_type": "markdown",
   "id": "a9bf8b93",
   "metadata": {
    "slideshow": {
     "slide_type": "fragment"
    }
   },
   "source": [
    "La teoría de la *complejidad computacional* agrupa problemas por clases en las que el uso de recursos computacionales (tiempo o espacio) crece de forma similar. "
   ]
  },
  {
   "cell_type": "markdown",
   "id": "adce7696",
   "metadata": {
    "slideshow": {
     "slide_type": "slide"
    }
   },
   "source": [
    "## Complejidad clásica:\n",
    "<br>\n",
    "\n",
    "\n",
    " -  **P** ( *Polinómica*):  decimos que un problema pertenece a esta clase si puede ser resuelto en un tiempo ($t \\sim $número de pasos) polinómico en el tamaño $n$ del dato de entrada $t\\sim \\exists k \\Rightarrow  {\\cal O}(n^k)\\, $. \n"
   ]
  },
  {
   "cell_type": "markdown",
   "id": "2e681715",
   "metadata": {
    "slideshow": {
     "slide_type": "fragment"
    }
   },
   "source": [
    "- **BPP** (\"*Bounded probabilistic polynomial*\"): problemas que se pueden resolver mediante una máquina de Turing probabilística en tiempo polinómico y con una probabilidad de error $\\leq 1/3$ para cualquier dato de entrada. "
   ]
  },
  {
   "cell_type": "markdown",
   "id": "c4086f43",
   "metadata": {
    "slideshow": {
     "slide_type": "fragment"
    }
   },
   "source": [
    "- **NP** (\"*No determinista Polinómica*\"): clase de problemas que pueden ser  *verificados* en tiempo polinómico,\n",
    "pero carecen de un algoritmo para ser resueltos en tiempo polinómico. \n",
    "\n",
    "\n",
    "Es evidente que **P**$\\subseteq$ **NP**. No es evidente, aunque sí conjeturado, que **P**$\\neq$ **NP**, siendo este un problema central en matemáticas. \n",
    "\n"
   ]
  },
  {
   "cell_type": "markdown",
   "id": "17778c4c",
   "metadata": {
    "slideshow": {
     "slide_type": "slide"
    }
   },
   "source": [
    "\n",
    "-  **NPC** (*NP-Completa*): es un subconjunto de **NPC**$\\subset$**NP** que contiene a los problemas más difíciles en esta clase. \n",
    "<br>\n",
    "<br>\n",
    " Un problema es **NPC** si cualquier  problema en **NP** puede aplicarse al mismo  mediante un algoritmo de coste polinómico. \n",
    "\n",
    "\n"
   ]
  },
  {
   "cell_type": "markdown",
   "id": "b78f0ef5",
   "metadata": {},
   "source": [
    "La importancia de esta subclase es que la resolución eficiente de uno solo de sus elementos implica lo mismo para toda la clase, o lo que es igual implicaría que **NP** = **P**.\n",
    "\n"
   ]
  },
  {
   "cell_type": "markdown",
   "id": "fd9311b2",
   "metadata": {
    "slideshow": {
     "slide_type": "fragment"
    }
   },
   "source": [
    "- **PSPACE**. Clase de problemas con necesidades de *memoria* exponencial en el tamaño del problema."
   ]
  },
  {
   "cell_type": "markdown",
   "id": "23dda019",
   "metadata": {},
   "source": [
    "<div class=\"alert alert-block alert-warning\">\n",
    "<b> Ejemplos:</b> \n",
    "<br>\n",
    "\n",
    "-  ejemplos de la clase <b>NP</b>: la <i>factorización entera</i>, o la evaluación de  <i>logaritmos discretos</i>,... \n",
    "\n",
    "<br>    \n",
    "    \n",
    "- ejemplos de la clase <b>NPC</b> son el <i>problema del viajante</i>, la <i>coloración de grafos</i>, \n",
    "</div>\n"
   ]
  },
  {
   "cell_type": "markdown",
   "id": "bb151345",
   "metadata": {
    "slideshow": {
     "slide_type": "slide"
    }
   },
   "source": [
    "## Complejidad cuántica:\n",
    "<br>\n",
    "<br>\n",
    "\n",
    "Decimos que un circuito es *eficiente* (*no-eficiente*) si su *coste* escala de forma *polinómica* (*exponencial*)  con la anchura del circuito. "
   ]
  },
  {
   "cell_type": "markdown",
   "id": "69a55f5f",
   "metadata": {
    "slideshow": {
     "slide_type": "fragment"
    }
   },
   "source": [
    "La descomposición de un operador unitario genérico $U(n)$ no será eficiente, puesto que viene especificado por un número exponencial $\\sim 2^n\\times 2^n$ de parámetros. "
   ]
  },
  {
   "cell_type": "markdown",
   "id": "7bc63a22",
   "metadata": {},
   "source": [
    "Al igual que en computación clásica existen clases de complejidad cuánticas asociadas a familias de problemas que escalan de la misma manera."
   ]
  },
  {
   "cell_type": "markdown",
   "id": "d7a45ae4",
   "metadata": {
    "slideshow": {
     "slide_type": "slide"
    }
   },
   "source": [
    "\n",
    " - **BQP** (*Bounded Quantum Polynomial*): clase de problemas para los que existe un algoritmos cuántico de coste polinómico y con una probabilidad de error $\\leq 3$. Es el análogo cuántico de la clase **BPP**. \n"
   ]
  },
  {
   "cell_type": "markdown",
   "id": "2051605d",
   "metadata": {
    "slideshow": {
     "slide_type": "fragment"
    }
   },
   "source": [
    " - **quantum NP**: clase de problemas que admiten un circuito polinómico en el número de cúbits que *verifica*  una eventual solución con probabilidad 1 si es correcta, y *rechaza* cualquier resultado que no sea solución con la misma probabilidad. "
   ]
  },
  {
   "cell_type": "markdown",
   "id": "532f11f4",
   "metadata": {
    "slideshow": {
     "slide_type": "fragment"
    }
   },
   "source": [
    "- **QMA** (*Quantum Merlin-Arthur*): admitiendo una probabilidad de error $\\leq 1/3$ en la clase **quantum NP** obtenemos el análogo cuántico de la clase **NP**.  Existe una clase **QMAC** (completa) que contiene los problemas más duros en esta categoría. ´"
   ]
  },
  {
   "cell_type": "markdown",
   "id": "0701f96f",
   "metadata": {},
   "source": [
    "<div class=\"alert alert-block alert-warning\">\n",
    "<b> Ejemplos:</b> \n",
    "\n",
    "El ejemplo más famoso de problema  <b>QMA</b>-completo es determinar si la energía $E_0$ del estado fundamental de un Hamiltoniano $k-$local es $E_0\\leq a$ o bien $E_0\\geq a + 1/poly(n)$.\n",
    "</div>\n"
   ]
  },
  {
   "cell_type": "markdown",
   "id": "fb291b7e",
   "metadata": {},
   "source": [
    "<div class=\"alert alert-block alert-danger\">\n",
    "<b> Notar:</b> \n",
    "    \n",
    "\n",
    "La teoría de la complejidad computacional intenta establecer relaciones de inclusión entre estas clases. \n",
    "A parte de la mencionada <b> P $\\subseteq$ NP </b> se  puede probar que\n",
    "\n",
    "<p style=\"text-align:center;\">   <b> P $\\subseteq$ BPP $\\subseteq$ BPQ $\\subseteq$ PSPACE </b>    </p>\n",
    "    \n",
    "</div>\n"
   ]
  },
  {
   "cell_type": "code",
   "execution_count": null,
   "id": "dc9ea5b4",
   "metadata": {},
   "outputs": [],
   "source": []
  }
 ],
 "metadata": {
  "kernelspec": {
   "display_name": "Python 3",
   "language": "python",
   "name": "python3"
  },
  "language_info": {
   "codemirror_mode": {
    "name": "ipython",
    "version": 3
   },
   "file_extension": ".py",
   "mimetype": "text/x-python",
   "name": "python",
   "nbconvert_exporter": "python",
   "pygments_lexer": "ipython3",
   "version": "3.7.10"
  },
  "varInspector": {
   "cols": {
    "lenName": 16,
    "lenType": 16,
    "lenVar": 40
   },
   "kernels_config": {
    "python": {
     "delete_cmd_postfix": "",
     "delete_cmd_prefix": "del ",
     "library": "var_list.py",
     "varRefreshCmd": "print(var_dic_list())"
    },
    "r": {
     "delete_cmd_postfix": ") ",
     "delete_cmd_prefix": "rm(",
     "library": "var_list.r",
     "varRefreshCmd": "cat(var_dic_list()) "
    }
   },
   "types_to_exclude": [
    "module",
    "function",
    "builtin_function_or_method",
    "instance",
    "_Feature"
   ],
   "window_display": false
  }
 },
 "nbformat": 4,
 "nbformat_minor": 5
}
