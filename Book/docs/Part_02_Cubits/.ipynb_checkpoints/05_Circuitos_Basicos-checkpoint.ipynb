{
 "cells": [
  {
   "cell_type": "markdown",
   "metadata": {},
   "source": [
    "<table width=\"100%\"><td style=\"font-size:42px;font-style:italic;text-align:right;background-color:rgba(102, 103, 237, 0.3)\">\n",
    " Circuitos Básicos </td></table>\n",
    " \n",
    "$ \\newcommand{\\bra}[1]{\\langle #1|} $\n",
    "$ \\newcommand{\\ket}[1]{|#1\\rangle} $\n",
    "$ \\newcommand{\\braket}[2]{\\langle #1|#2\\rangle} $\n",
    "$ \\newcommand{\\i}{{\\color{blue} i}} $ \n",
    "$ \\newcommand{\\Hil}{{\\mathcal H}} $\n",
    "$ \\newcommand{\\cg}[1]{{\\rm C}{#1}} $\n",
    "\n",
    "Editor: Javier Mas"
   ]
  },
  {
   "cell_type": "code",
   "execution_count": 2,
   "metadata": {},
   "outputs": [],
   "source": [
    "%run ../macro_CURSO.py"
   ]
  },
  {
   "cell_type": "markdown",
   "metadata": {},
   "source": [
    "<table width=\"100%\">\n",
    "    <td style=\"font-size:25px;font-family:Helvetica;text-align:left;background-color:rgba(255, 165, 0,1.);\">\n",
    "<b>Circuitos Básicos</b>\n",
    "</table>"
   ]
  },
  {
   "cell_type": "markdown",
   "metadata": {},
   "source": [
    "un circuito es una forma gráfica de representar un operador unitario. A veces dos circuitos distintos codifican el mismo operador unitario. La equivalencia de circuitos es una herramienta muy potente para diseñar algoritmos. "
   ]
  },
  {
   "cell_type": "markdown",
   "metadata": {},
   "source": [
    "## Circuito de Retroceso de Fase"
   ]
  },
  {
   "cell_type": "markdown",
   "metadata": {},
   "source": [
    "Hemos estudiado ya el operador controlado $\\cg{U}$. Un fenómenos muy útil ocurre cuando el operador $U$ actúa sobre un autoestado\n",
    "\n",
    "<br>\n",
    "$$\n",
    "U\\ket{u} = e^{i\\lambda} \\ket{u}\n",
    "$$\n",
    "\n",
    "dado que los autovalores de  un operador unitario son fases puras. Supongamos un circuito en el cual, circula una superposición $a\\ket{0}+b\\ket{1}$ por el cúbit controlador, y un autoestado $\\ket{u}$ de $U$ por el cúbit controlado. La acción de $\\cg{U}$ es\n",
    "\n",
    "$$\n",
    "\\cg{U}: (a\\ket{0} + b\\ket{1})\\otimes \\ket{u} ~\\to ~ a\\ket{0}\\ket{u} + b \\ket{1}e^{i\\lambda}\\ket{u}  = \\left( a\\ket{0}\\ket{u} + be^{i\\lambda} \\ket{1} \\rule{0mm}{4mm} \\right)\\otimes \\ket{u}\n",
    "$$\n",
    "\n",
    "En resultado final es que la fase $e^{i\\lambda}$ ha **modificado** el estado de entrada, mientras que el segundo cúbit no ha cambiado. El punto es que, en el segundo paso, dicha fase, creada en el segundo espacio, *no pertenece* realmente a ninguno de los dos vectores sino al producto. De modo que puede asignarse al primer espacio, como hemos hecho en el último paso. De ahí el nombre de *retroceso de fase*, en inglés \"phase kickback\". Es un efecto del que haremos uso muy frecuente en la generación de algoritmos. \n",
    "\n",
    "El siguiente circuito resume la acción de retroceso de fase\n",
    "\n",
    "<br>\n",
    "<br>\n",
    "<div>\n",
    "<img src=\"images/phase_kickback.png\" width=\"350\"/>\n",
    "</div>\n",
    "<br>\n",
    "<br>\n"
   ]
  },
  {
   "cell_type": "markdown",
   "metadata": {},
   "source": [
    "## Circuito entrelazador"
   ]
  },
  {
   "cell_type": "markdown",
   "metadata": {},
   "source": [
    "Uno de los circuitos elementales de uso más frecuente es el que cambia la base computacional a la base de Bell de estados entrelazados.\n",
    "\n",
    "<br>\n",
    "<br>\n",
    "<div>\n",
    "<img src=\"images/Bell_basis.png\" width=\"220\"/>\n",
    "</div>\n",
    "<br>\n",
    "<br>\n",
    "\n",
    "Es un ejericio simple verificar que el circuito anterior genera el siguiente cambio de fase $\\ket{xy}\\to \\ket{B_{xy}}$\n",
    "\n",
    "<br>\n",
    "\\begin{eqnarray}\n",
    "\\ket{00} &\\to & \\frac{1}{\\sqrt{2}}\\left(\\rule{0mm}{4mm}\\ket{00} + \\ket{11}\\right) =\\ket{B_{00}}   \\nonumber\\\\\n",
    "\\ket{01} &\\to & \\frac{1}{\\sqrt{2}}\\left(\\rule{0mm}{4mm}\\ket{01} + \\ket{10}\\right) = \\ket{B_{01}}  \\nonumber\\\\\n",
    "\\ket{10} &\\to & \\frac{1}{\\sqrt{2}}\\left(\\rule{0mm}{4mm}\\ket{00} - \\ket{11}\\right)  = \\ket{B_{10}}  \\nonumber\\\\\n",
    "\\ket{11} &\\to & \\frac{1}{\\sqrt{2}}\\left(\\rule{0mm}{4mm}\\ket{01} - \\ket{10}\\right) = \\ket{B_{11}}  \\nonumber\n",
    "\\end{eqnarray}\n"
   ]
  },
  {
   "cell_type": "markdown",
   "metadata": {},
   "source": [
    "<table width=\"100%\">\n",
    "    <td style=\"font-size:25px;font-family:Helvetica;text-align:left;background-color:rgba(255, 165, 0,1.);\">\n",
    "<b>Circuitos Equivalentes</b>\n",
    "</table>\n",
    "\n",
    "Es posible encontrar distintos circuitos que producen acciones idénticas sobre un estado arbitrario. Se denominan *circuitos equivalentes*. Matemáticamente, son distintas formas de descomponer el mismo operador unitario en puertas elementales"
   ]
  },
  {
   "cell_type": "markdown",
   "metadata": {},
   "source": [
    "### 1 cúbit\n",
    "\n",
    "\n",
    "Una caso muy frecuente es la *conjugación*\n",
    "\n",
    "<br>\n",
    "<br>\n",
    "<div>\n",
    "<img src=\"images/H_conjugation.png\" width=\"440\"/>\n",
    "</div>\n",
    "<br>\n",
    "<br>\n",
    "\n",
    "y, equivalentemente intercambiando $X \\leftrightarrow Z$. \n",
    "Este tipo de identidades se siguen de las identidades algebráicas\n",
    "\n",
    "<br>\n",
    "\n",
    "\\begin{eqnarray}\n",
    "HXH = Z ~~~~~&&~~ ~~~\n",
    "HZH = X \\nonumber\\\\\n",
    "\\rule{0mm}{6mm}\n",
    "S X S^\\dagger  = Y~~~~~&&~~~ ~~~\n",
    "S^\\dagger Y S = X \\nonumber\\\\\n",
    "\\end{eqnarray}\n",
    "\n",
    "<br>\n",
    "\n",
    "que son fáciles de interpretar recordando que $H$ es una rotación de 180$^\\circ$ en torno al eje diagonal en el plano $XZ$, mientras que $S=\\sqrt{Z}$ es una rotación de $90^\\circ$ en torno al eje $Z$.\n",
    "\n",
    "\n",
    "Se define un **operador de Clifford**, $U$ como aquel que convierte un operador de Pauli en otro operador de Pauli.  Vemos que $H$ y $S$ son dos ejemplos. Pero los propios operadores de Pauli son operadores de Clifford. \n",
    "La conjugación correspondiente simplemente refleja el operador de Pauli. Por ejemplo con $U=Z$\n",
    "$$\n",
    "ZXZ = -X~~~~~~~~~ZYZ = -Y ~~~~~~~~~ZZZ = Z \n",
    "$$\n"
   ]
  },
  {
   "cell_type": "markdown",
   "metadata": {},
   "source": [
    "### 2 cúbits"
   ]
  },
  {
   "cell_type": "markdown",
   "metadata": {},
   "source": [
    " Dos circuitos que gráficamente son distintos pueden corresponder al mismo operador unitario $U$. Para ello lo más útil es escribir la matriz asociada,\n",
    "\n",
    " $\\bullet$ La puerta  controlada $\\cg{Z} =  {\\rm diag}(1,1,1,-1)$   es simétrica ya que lo único que hace, es cambiar de signo al estado $\\ket{11}$. Es decir\n",
    "\n",
    "\n",
    "<br>\n",
    "<br>\n",
    "<div>\n",
    "<img src=\"images/Equiv_Z.png\" width=\"320\"/>\n",
    "</div>\n",
    "<br>\n",
    "<br>\n",
    "\n",
    " En realidad, $\\cg{Z}$ es un caso particular de   $\\cg{R_\\phi} = {\\rm diag} (1,1,1, e^{i\\phi})$, para la cual la equivalencia es la misma. \n",
    "\n",
    "$\\bullet$   Observemos ahora la siguiente equivalencia. \n",
    "\n",
    "<br>\n",
    "<br>\n",
    "<div>\n",
    "<img src=\"images/Equiv_HH.png\" width=\"420\"/>\n",
    "</div>\n",
    "<br>\n",
    "<br>\n",
    "Para probarla, observemos que las tres puertas del segundo cúbit se pueden componer para dar $HXH=Z$. Por el contrario, las dos puertas de Hadamard en el primer cúbit no se pueden multiplicar al haber un control entre ellas. \n",
    "Sin embargo, usando la  equivalencia anterior podemos invertir la puerta $\\cg{Z}$ y, finalmente, conjugar en el primer cúbit $HZH=X$.\n",
    "\n",
    "Otra  equivalencia nada intuitiva pero muy importante relaciona tres operaciones CNOT con la permutación U$_{\\rm SWAP}$\n",
    "\n",
    "\n",
    "<br>\n",
    "<br>\n",
    "<div>\n",
    "<img src=\"images/Equiv_CNOTs.png\" width=\"420\"/>\n",
    "</div>\n",
    "<br>\n",
    "<br>\n",
    "\n",
    "No hay una forma sencilla de probar esta identidad, así que lo recomendable es escribir las matrices asociadas a cada miembro y comprobar que son iguales\n",
    "\n",
    " $\\bullet$  La puerta de phase global controlada, $\\cg{K_\\phi} = {\\rm diag} (1,1,e^{i\\phi}, e^{i\\phi})$, secretamente, no es una puerta controlada\n",
    "\n",
    "\n",
    "<br>\n",
    "<br>\n",
    "<div>\n",
    "<img src=\"images/Equiv_Kphase.png\" width=\"330\"/>\n",
    "</div>\n",
    "<br>\n",
    "<br>\n"
   ]
  },
  {
   "cell_type": "markdown",
   "metadata": {},
   "source": [
    "<div class=\"alert alert-block alert-warning\">\n",
    "    <b>Ejercicio:</b> Escribe las matrices asociadas a todos los circuitos anteriores. \n",
    "</div>\n"
   ]
  },
  {
   "cell_type": "markdown",
   "metadata": {},
   "source": [
    "También podemos comprobar la veracidad de las anteriores identidades programando los circuitos de ambos miembros"
   ]
  },
  {
   "cell_type": "code",
   "execution_count": 1,
   "metadata": {},
   "outputs": [
    {
     "name": "stdout",
     "output_type": "stream",
     "text": [
      "          ┌───┐     \n",
      "q_0: ──■──┤ X ├──■──\n",
      "     ┌─┴─┐└─┬─┘┌─┴─┐\n",
      "q_1: ┤ X ├──■──┤ X ├\n",
      "     └───┘     └───┘\n",
      "        \n",
      "q_0: ─X─\n",
      "      │ \n",
      "q_1: ─X─\n",
      "        \n"
     ]
    }
   ],
   "source": [
    "from qiskit import *\n",
    "from qiskit.quantum_info import Statevector\n",
    "U_simulator = Aer.get_backend('unitary_simulator')\n",
    "\n",
    "qc_left= QuantumCircuit(2)\n",
    "qc_right= QuantumCircuit(2)\n",
    "\n",
    "## Code the left and right circuits\n",
    "#\n",
    "# aquí tu solución\n",
    "#\n",
    "\n",
    "qc_left.cx(0,1)\n",
    "qc_left.cx(1,0)\n",
    "qc_left.cx(0,1)\n",
    "qc_right.swap(1,0)\n",
    "#\n",
    "###\n",
    "\n",
    "print(qc_left)\n",
    "print(qc_right)\n",
    "\n",
    "U_left = execute(qc_left, backend = U_simulator).result().get_unitary()\n",
    "U_right = execute(qc_right, backend = U_simulator).result().get_unitary()"
   ]
  },
  {
   "cell_type": "markdown",
   "metadata": {},
   "source": [
    "podemos comprobar que las matrices que representan los circuitos coinciden"
   ]
  },
  {
   "cell_type": "code",
   "execution_count": 33,
   "metadata": {},
   "outputs": [
    {
     "data": {
      "text/latex": [
       "$$\n",
       "\\text{U_left = }\n",
       "\n",
       "\\begin{bmatrix}\n",
       "1 & 0 & 0 & 0  \\\\\n",
       " 0 & 0 & 1 & 0  \\\\\n",
       " 0 & 1 & 0 & 0  \\\\\n",
       " 0 & 0 & 0 & 1  \\\\\n",
       " \\end{bmatrix}\n",
       "$$"
      ],
      "text/plain": [
       "<IPython.core.display.Latex object>"
      ]
     },
     "execution_count": 33,
     "metadata": {},
     "output_type": "execute_result"
    }
   ],
   "source": [
    "from qiskit.tools.visualization import array_to_latex\n",
    "array_to_latex(U_left, prefix=\"\\\\text{U_left = }\\n\")"
   ]
  },
  {
   "cell_type": "code",
   "execution_count": 35,
   "metadata": {},
   "outputs": [
    {
     "data": {
      "text/latex": [
       "$$\n",
       "\\text{U_right = }\n",
       "\n",
       "\\begin{bmatrix}\n",
       "1 & 0 & 0 & 0  \\\\\n",
       " 0 & 0 & 1 & 0  \\\\\n",
       " 0 & 1 & 0 & 0  \\\\\n",
       " 0 & 0 & 0 & 1  \\\\\n",
       " \\end{bmatrix}\n",
       "$$"
      ],
      "text/plain": [
       "<IPython.core.display.Latex object>"
      ]
     },
     "execution_count": 35,
     "metadata": {},
     "output_type": "execute_result"
    }
   ],
   "source": [
    "array_to_latex(U_right, prefix=\"\\\\text{U_right = }\\n\")"
   ]
  },
  {
   "cell_type": "markdown",
   "metadata": {},
   "source": [
    "<table width=\"100%\">\n",
    "    <td style=\"font-size:25px;font-family:Helvetica;text-align:left;background-color:rgba(255, 165, 0,1.);\">\n",
    "<b>Computación Cuántica Universal</b>\n",
    "</table>"
   ]
  },
  {
   "cell_type": "markdown",
   "metadata": {},
   "source": [
    "<table width=\"100%\"><td style=\"font-size:14px;font-style:roman;text-align:left;\">\n",
    "    <b>Teorema</b> <i>(Barenco et. al. 1995):</i> \n",
    " El conjunto de puertas de 1 cúbit y la puerta CNOT es universal. \n",
    "</table>\n",
    "\n",
    "\n",
    "En otras palabras: cualquier operador unitario actuando sobre registros de $n$ cúbits puede descomponerse en producto de puertas simples sobre 1-cúbit  y la puerta binaria CNOT \n",
    "\n",
    "Un ejemplo de este teorema lo ofrece la siguiente descomposición de la puerta controlada $\\cg{P_\\phi}$\n",
    "\n",
    "<br>\n",
    "<br>\n",
    "<div>\n",
    "<img src=\"images/Equiv_Phase.png\" width=\"540\"/>\n",
    "</div>\n",
    "<br>\n",
    "<br>\n"
   ]
  },
  {
   "cell_type": "markdown",
   "metadata": {},
   "source": [
    "<table width=\"100%\"><td style=\"font-size:14px;font-style:roman;text-align:left;\">\n",
    "    <b>Teorema</b> <i>(Solovay Kitaev et. al. 1995):</i>   una puerta simple arbitraria puede ser aproximada con precisión arbitraria usando una secuencia de puertas discretas.\n",
    "</table>\n",
    "    \n",
    "    \n",
    "Existen diversas librerías universales, las más frecuentes son las siguientes\n",
    "\n",
    "\\begin{eqnarray}\n",
    "\\hbox{HSTC}~~\n",
    " ~&:& ~~ \\{ H, S, T, \\hbox{CNOT}\\}  \\nonumber \\\\ \\rule{0mm}{5mm}\n",
    "\\hbox{NCT}~ ~&:& ~~ \\{ X,\\hbox{CNOT}, \\hbox{Toffoli}\\}   \\nonumber\n",
    "\\end{eqnarray}\n"
   ]
  },
  {
   "cell_type": "code",
   "execution_count": null,
   "metadata": {},
   "outputs": [],
   "source": []
  }
 ],
 "metadata": {
  "kernelspec": {
   "display_name": "Python 3",
   "language": "python",
   "name": "python3"
  },
  "language_info": {
   "codemirror_mode": {
    "name": "ipython",
    "version": 3
   },
   "file_extension": ".py",
   "mimetype": "text/x-python",
   "name": "python",
   "nbconvert_exporter": "python",
   "pygments_lexer": "ipython3",
   "version": "3.8.5"
  },
  "varInspector": {
   "cols": {
    "lenName": 16,
    "lenType": 16,
    "lenVar": 40
   },
   "kernels_config": {
    "python": {
     "delete_cmd_postfix": "",
     "delete_cmd_prefix": "del ",
     "library": "var_list.py",
     "varRefreshCmd": "print(var_dic_list())"
    },
    "r": {
     "delete_cmd_postfix": ") ",
     "delete_cmd_prefix": "rm(",
     "library": "var_list.r",
     "varRefreshCmd": "cat(var_dic_list()) "
    }
   },
   "types_to_exclude": [
    "module",
    "function",
    "builtin_function_or_method",
    "instance",
    "_Feature"
   ],
   "window_display": false
  }
 },
 "nbformat": 4,
 "nbformat_minor": 5
}
