{
 "cells": [
  {
   "cell_type": "markdown",
   "id": "9baca1d5",
   "metadata": {},
   "source": [
    "<img   src=\"../figuras/logo/TalentQ_LogoPosNegro.png\" align=center  width=\"120\"/>\n",
    "<br>\n",
    "\n",
    "<table width=\"100%\">\n",
    "<td style=\"font-size:50px;font-style:italic;text-align:right;background-color:rgba(0, 160, 120,0.6)\">\n",
    "Entrelazamiento en acción\n",
    "</td></table>\n",
    "\n",
    "\n",
    "\n",
    "$ \\newcommand{\\bra}[1]{\\langle #1|} $\n",
    "$ \\newcommand{\\ket}[1]{|#1\\rangle} $\n",
    "$ \\newcommand{\\braket}[2]{\\langle #1|#2\\rangle} $\n",
    "$ \\newcommand{\\i}{{\\color{blue} i}} $ \n",
    "$ \\newcommand{\\Hil}{{\\mathcal H}} $\n",
    "\n",
    "$ \\newcommand{\\bn}{{\\bf n}} $\n",
    "\n",
    "\n",
    "- [La desigualdad CSCH](#csch)\n",
    "\n",
    "\n",
    "- [El experimento GHZ](#ghz)\n",
    "\n",
    "\n",
    "- [Teleportación](#teleportacion)\n",
    "\n",
    "\n",
    "- [Intercambio de entrelazamiento](#intercambent)\n"
   ]
  },
  {
   "cell_type": "code",
   "execution_count": 3,
   "id": "d99f68ff",
   "metadata": {
    "slideshow": {
     "slide_type": "slide"
    }
   },
   "outputs": [],
   "source": [
    "%run ../macro_CURSO.py"
   ]
  },
  {
   "cell_type": "markdown",
   "id": "ba292579",
   "metadata": {
    "slideshow": {
     "slide_type": "slide"
    }
   },
   "source": [
    "<a id='csch'></a>\n",
    "<table width=\"100%\">\n",
    "    <td style=\"font-size:250%px;font-family:Helvetica;text-align:left;background-color:rgba(12, 43, 337, 0.3);\">\n",
    "<b> Desigualdades de Bell</b>\n",
    "</table>"
   ]
  },
  {
   "cell_type": "markdown",
   "id": "5cf14e9e",
   "metadata": {
    "slideshow": {
     "slide_type": "-"
    }
   },
   "source": [
    "Las teorías con *realismo local* asumen que los valores que adquieren las magnitudes que se miden en un experimento *pertenecen* al sistema medido. \n"
   ]
  },
  {
   "cell_type": "markdown",
   "id": "888bdb3d",
   "metadata": {
    "slideshow": {
     "slide_type": "fragment"
    }
   },
   "source": [
    "Así, en una teoría con realismo local la posición de una partícula es algo bien definido aunque no lo estemos midiendo. "
   ]
  },
  {
   "cell_type": "markdown",
   "id": "9b312ad2",
   "metadata": {
    "slideshow": {
     "slide_type": "fragment"
    }
   },
   "source": [
    "La palabra *local* hace referencia a que ningún agente puede propagar su acción a mayor velocidad que la luz. Podría usarse la palabra *causal* en su lugar."
   ]
  },
  {
   "cell_type": "markdown",
   "id": "d9429bde",
   "metadata": {
    "slideshow": {
     "slide_type": "fragment"
    }
   },
   "source": [
    "Como hemos visto al hablar del espín de un electrón, no es correcto decir que *la proyección del espín a lo largo del eje $\\hat{\\bf z}$ es $+\\hbar/2$*."
   ]
  },
  {
   "cell_type": "markdown",
   "id": "4c16b233",
   "metadata": {
    "slideshow": {
     "slide_type": "fragment"
    }
   },
   "source": [
    " Lo correcto es decir que, al medir la proyección sobre el eje $\\hat{\\bf z}$, la medida obtenida es $+\\hbar/2$.  Dicho de otro modo, el electrón *no tiene nada*. El valor $+\\hbar/2$ se *adquiere* o *pone de manifiesto* al hacer una medida. \n",
    "\n",
    "De hecho, el resultado puede ser también $-\\hbar/2$ con una probabilidad fija.  \n",
    "\n",
    "\n",
    "\n"
   ]
  },
  {
   "cell_type": "markdown",
   "id": "0a71dd56",
   "metadata": {
    "slideshow": {
     "slide_type": "fragment"
    }
   },
   "source": [
    "De modo que es necesario, en primer lugar, *decidir* qué proyección del espín queremos medir\n",
    "\n"
   ]
  },
  {
   "cell_type": "markdown",
   "id": "4cdf686f",
   "metadata": {
    "slideshow": {
     "slide_type": "slide"
    }
   },
   "source": [
    "En 1964  físico nor-irlandés John Bell, que trabajaba en el CERN,   [demostró](https://cds.cern.ch/record/111654/files/vol1p195-200_001.pdf) que todas las teorías que respetan el realismo local satisfacen ciertas desigualdades matemáticas. \n",
    "\n",
    "Por ejemplo, todas las magnitudes que evolucionan siguiendo las leyes de la física clásica las satisfacen.\n"
   ]
  },
  {
   "cell_type": "markdown",
   "id": "67deffe9",
   "metadata": {
    "slideshow": {
     "slide_type": "fragment"
    }
   },
   "source": [
    "Por el contrario, John Bell mostró cómo, en Mecánica Cuántica, el proceso de medida incorpora correlaciones sutiles que permiten violar dichas desigualdades. \n",
    "\n",
    "La discusión pasó de ser puramente filosófica a ser objeto de investigación experimental. Ello culminó con el [experimento](https://journals.aps.org/prl/abstract/10.1103/PhysRevLett.49.1804) de Alain Aspect y colaboradores en 1982, en el cual se observó que la Mecánica Cuántica viola dichas desigualdades y, por tanto, no es una teoría con realismo local. \n"
   ]
  },
  {
   "cell_type": "markdown",
   "id": "4843617e",
   "metadata": {
    "slideshow": {
     "slide_type": "fragment"
    }
   },
   "source": [
    "La propuesta de John Bell dio pie a una familia de desigualdades que ponen en evidencia la imposibilidad de obtener ciertas correlaciones en un mundo clásico. \n",
    "\n"
   ]
  },
  {
   "cell_type": "markdown",
   "id": "2e0cb89f",
   "metadata": {
    "slideshow": {
     "slide_type": "fragment"
    }
   },
   "source": [
    "\n",
    "\n",
    "En este capítulo vamos a examinar la desigualdad en la forma estudiada por Clauser, Horne, Shimony y Holt [CHSH](https://journals.aps.org/prl/abstract/10.1103/PhysRevLett.23.880).  \n",
    "\n",
    "Posteriormente estudiaremos el experimento de GHZ, el cuál, también pone de manifiesto las correlaciones sutiles que introduce el entrelazamiento de una forma mucho determinista, en lugar de estadística.\n",
    "\n"
   ]
  },
  {
   "cell_type": "markdown",
   "id": "0c4438ee",
   "metadata": {
    "slideshow": {
     "slide_type": "slide"
    }
   },
   "source": [
    "## Perfecta anticorrelación\n",
    "\n",
    "Central en esta discusión es la presencia de entrelazamiento. Vamos a seleccionar el denominado *singlete*  de la Base de Bell.\n",
    "$$\n",
    "\\ket{B_{11}}=\\frac{1}{\\sqrt{2}}(\\ket{01}-\\ket{10})\n",
    "$$\n",
    "\n",
    "Supongamos que  Alice y Bob poseen sendos medidores de Stern Gerlach apuntando en la dirección $\\hat{\\bf z}$."
   ]
  },
  {
   "cell_type": "markdown",
   "id": "544b1b44",
   "metadata": {
    "slideshow": {
     "slide_type": "fragment"
    }
   },
   "source": [
    "- Si Alice registra +1 el estado colapsa a $\\ket{01}$ y, por tanto, Bob solo podrá medir  $\\, -1$\n",
    "\n",
    "\n",
    "-  Si Alice registra -1 el estado colapsa a $\\ket{10}$ y, por tanto, Bob solo podrá medir  $\\, +1$"
   ]
  },
  {
   "cell_type": "markdown",
   "id": "c020b8e8",
   "metadata": {
    "slideshow": {
     "slide_type": "fragment"
    }
   },
   "source": [
    "En definitiva hay una anticorrelación perfecta que se pone de manifiesto en el valor medio del producto de las medidas. \n",
    "\n",
    "Si las mediciones de Alice y Bob son $a_i=\\pm 1\\Rightarrow b_i=\\mp 1$ respectivamente, el valor medio\n",
    "\n",
    "$$\n",
    "\\langle Z\\otimes Z\\rangle = \\frac{1}{N}\\sum_{i=1}^N a_i b_i = -1\n",
    "$$"
   ]
  },
  {
   "cell_type": "markdown",
   "id": "24300aa5",
   "metadata": {
    "slideshow": {
     "slide_type": "slide"
    }
   },
   "source": [
    "Vamos a ver que la predicción teórica confirma este hecho.\n",
    "El estado $\\ket{B_{11}}$ ya es autoestado del observable asociado a dicha pareja\n",
    "\n",
    "$$\n",
    "Z\\otimes Z \\ket{B_{11}} = Z\\ket{0}Z\\ket{1} - Z\\ket{1}Z\\ket{0} = -\\ket{B_{11}}\n",
    "$$"
   ]
  },
  {
   "cell_type": "markdown",
   "id": "ca97064b",
   "metadata": {
    "slideshow": {
     "slide_type": "fragment"
    }
   },
   "source": [
    "Por tanto, el valor esperado ser podrá calcular com \n",
    "\n",
    "$$\n",
    " \\langle Z\\otimes Z\\rangle = \\bra{B_{11}}Z\\otimes Z\\,  \\ket{B_{11}}  = -\\braket{B_{11}}{B_{11}}= -1\\, .\n",
    "$$\n"
   ]
  },
  {
   "cell_type": "markdown",
   "id": "b4e58882",
   "metadata": {
    "slideshow": {
     "slide_type": "fragment"
    }
   },
   "source": [
    "<div class=\"alert alert-block alert-danger\">\n",
    "<b>Notar</b>\n",
    "<br>\n",
    "La anti correlación que hemos hallado parece natural y presente en un experimento clásico hecho con una bolsa que contiene dos calcetines de dos colores: si Alice saca el blanco, el que saca Bob tiene que ser negro.     \n",
    "    \n",
    "</div>\n",
    "\n"
   ]
  },
  {
   "cell_type": "markdown",
   "id": "da659834",
   "metadata": {
    "slideshow": {
     "slide_type": "fragment"
    }
   },
   "source": [
    "La cosa se pone más divertida cuando los dos polarizadores de Stern Gerlach no se orientan en la misma dirección.\n",
    "El observable asociado ahora a la dirección $\\hat{\\bf n}$  será  $\\hat{\\bf n}\\cdot \\boldsymbol{\\sigma}$. Aun así, la proyección del espín seguirá siendo $\\pm 1$\n",
    "\n",
    "<div class=\"alert alert-block alert-info\",text-align:center>\n",
    "<p style=\"text-align: left ;color: navy;\">  \n",
    "<b>Teorema</b>: \n",
    "<br>\n",
    "el valor medio del producto de las proyecciones de espín a lo largo de sendos ejes $\\hat{\\bf m}$ y $\\hat{\\bf n}$ viene dada por el coseno del ángulo $\\theta$  que forman los  ejes de los dos detectores \n",
    "<br>\n",
    "<br>    \n",
    "$$\n",
    "\\bra{B_{11}}(\\hat{\\bf m}\\cdot \\boldsymbol{\\sigma}\\otimes \\hat{\\bf n}\\cdot \\boldsymbol{\\sigma})\\ket{B_{11}}\n",
    "= - \\hat{\\bf m}\\cdot \\hat{\\bf n} = -\\cos \\theta\n",
    "$$\n",
    "</p>\n",
    "</div>\n",
    "\n"
   ]
  },
  {
   "cell_type": "markdown",
   "id": "680b255e",
   "metadata": {},
   "source": [
    "Cuando los ejes son paralelos recuperamos la  anticorrelación, independientemente de la dirección\n",
    "\n",
    "$$\n",
    "-\\hat{\\bf n}\\cdot \\hat{\\bf n} = - \\cos 0 = -1 \n",
    "$$\n",
    "\n",
    "La cosa se pone mucho más interesante cuando las direcciones de los detectores de Alice y Bob no coinciden.\n",
    "\n",
    "\n"
   ]
  },
  {
   "cell_type": "markdown",
   "id": "bb67d7ec",
   "metadata": {},
   "source": [
    "<a id='csch'></a>\n",
    "## La desigualdad de CSCH \n",
    "\n",
    "Enn 1970 Clauser, Horne, Shimony y Holt [CHSH](https://journals.aps.org/prl/abstract/10.1103/PhysRevLett.23.880) propusieron una versión simplificada del proceso que propugnaba John Bell. "
   ]
  },
  {
   "cell_type": "markdown",
   "id": "43415313",
   "metadata": {},
   "source": [
    "La idea es que Alice y Bob pueden orientar sus detectores en *sendas direcciones  arbitrarias*. De este modo Alice elige dos direcciones $\\hat{\\bf n}_A, \\hat{\\bf n}'_A$  y Bob  otras dos $\\, \\hat{\\bf n}_B, \\hat{\\bf n}'_B.$. \n",
    "\n",
    "\n",
    "- Alice y Bob seleccionan una orientación, p. ej.  $\\hat{\\bf n}_A$ y $\\hat{\\bf n}_B$ para sus detectores. Hay cuatro parejas posibles.\n",
    "\n",
    "\n",
    "- Alice y Bob reciben un electrón cada uno de un par entrelazado en el estado $\\ket{B_{11}}$ y realizan la medida de la proyección del espín a lo largo del eje asociado y anotan la medición $(a,b)=(\\pm 1, \\pm 1)$ \n",
    "\n",
    "- Repiten el paso anterior un número $i=1,..., N$ grande de veces, y con los datos obtenidos $(a,b)=(\\pm 1, \\pm 1)$\n",
    "pueden reconstruir la cantidad\n",
    "\n",
    "$$\n",
    " C(\\hat{\\bf n}_A, \\hat{\\bf n}_B) = \\frac{1}{N}\\sum_{i=1}^N a_i b_i ~\\in~  [-1,1]\n",
    "$$\n",
    "\n",
    "- Repiten todo el proceso anterior para las cuatro posibles orientaciones y, finalmente calcula la cantidad $R$\n",
    "\n",
    "$$\n",
    "R = | C(\\hat{\\bf n}_A, \\hat{\\bf n}_B) +  C(\\hat{\\bf n}_A, \\hat{\\bf n}'_B) +  C(\\hat{\\bf n}'_A, \\hat{\\bf n}_B)-  C(\\hat{\\bf n}'_A, \\hat{\\bf n}'_B)|\n",
    "$$\n",
    "\n"
   ]
  },
  {
   "cell_type": "code",
   "execution_count": 7,
   "id": "3a6d40f7",
   "metadata": {
    "slideshow": {
     "slide_type": "slide"
    }
   },
   "outputs": [],
   "source": [
    "from qiskit import QuantumCircuit, Aer, execute\n",
    "\n",
    "from math import pi\n",
    "\n",
    "from qiskit.providers.aer import AerSimulator\n",
    "sim=AerSimulator()\n",
    "\n",
    "import matplotlib.pyplot as plt\n",
    "import numpy as np\n"
   ]
  },
  {
   "cell_type": "markdown",
   "id": "54e7d8de",
   "metadata": {},
   "source": [
    "En un mundo clásico, supondríamos que los valores $a_i,b_i$ proceden de *valores predefinidos* para cada sistema individual, sobre el que efectuamos simplemente un promedio estadístico de muchos sistemas. Entonces podemos probar la **desigualdad de CSCH**\n",
    "\n",
    "<div class=\"alert alert-block alert-info\",text-align:center>\n",
    "<p style=\"text-align: left ;color: navy;\">  \n",
    "<b>Teorema</b>: \n",
    "La desigualdad de CSCH afirma que \n",
    "$$\n",
    "R \\leq 2\n",
    "$$\n",
    "<details>\n",
    "<summary><p style=\"text-align:right\"> >>Solución </p></summary>\n",
    "Es fácil ver que se cumple para cada colección $a_i,a'_i,b_i,b'_i \\in \\pm 1$ la desigualdad\n",
    "<br>\n",
    "<br>\n",
    "$$\n",
    "a_i (b_i +  b'_i) + a'_i (b_i -  b'_i) = \\pm 2\n",
    "$$\n",
    "<br>\n",
    "porque si $b_i +  b'_i=\\pm 2$ entonces $b_i - b'_i=0$ y viceversa. Ahora podemos demostrar la desigualdad \n",
    "\\begin{eqnarray}\n",
    "R &=& \\lim_{N\\to \\infty}|\\frac{1}{N} \\sum_{i=1}^N \\left( a_i b_i + a_i b'_i + a'_i b_i - a'_i b'_i\\right) | \\nonumber\\\\\n",
    "&=& \\lim_{N\\to \\infty}\\frac{1}{N}| \\sum_{i=1}^N  \\left( a_i (b_i +  b'_i) + a'_i (b_i -  b'_i)\\right)| \\nonumber\\\\\n",
    "&\\leq &  \\lim_{N\\to \\infty} \\frac{1}{N} \\sum_{i=1}^N  |\\left( a_i (b_i +  b'_i) + a'_i (b_i -  b'_i)\\right)| \\ \\nonumber\\\\\n",
    "&= &  \\lim_{N\\to \\infty} \\frac{1}{N} \\sum_{i=1}^N  2 \\ \\nonumber\\\\\n",
    "&=& 2\n",
    "\\end{eqnarray}\n",
    "</details>   \n",
    "</p></div>"
   ]
  },
  {
   "cell_type": "markdown",
   "id": "aaca4e4b",
   "metadata": {},
   "source": [
    "La Mecánica Cuántica nos proporciona una respuesta teórica para $R$ que sólo depende de los ángulos relativos $\\cos\\theta_{AB} = \\hat{\\bf n}_A\\cdot \\hat{\\bf n}_B$.\n",
    "\n",
    "$$\n",
    "R = | \\cos\\theta_{AB}  + \\cos \\theta_{A'B} + \\cos \\theta_{AB'}  - \\cos \\theta_{A'B'}|\\, .\n",
    "$$\n",
    "\n",
    "Ahora sólo hace falta jugar un poco con los detectores. Por ejemplo, podemos situarlos en el plano $(y,z)$, perpendicular al eje de propagación $x$, de manera que los vectores  $\\hat{\\bf n}_A,\\hat{\\bf n}'_{A},\\hat{\\bf n}_B$ y $\\hat{\\bf n}_B'$ estén ordenados correlativamente en sentido horario. Finalmente tomaremos\n",
    "dos ejes coincidentes $\\hat{\\bf n}'_{A}=\\hat{\\bf n}_B$ paralelos $\\Rightarrow \\theta_{AB}=0$, y apertura igual para ambos, $\\theta_{A'A} = \\theta_{A'B} = \\varphi$ así como  $\\theta_{BB'} = \\theta_{AB'} = \\varphi$ mientras que $\\theta_{A'B'} = 2\\varphi$ \n",
    "\n",
    "Usando invariancia rotacional del conjunto podemos tomar $\\theta_{B'} = 0, \\theta_{A'} = \\theta_{B} = \\varphi $ y $\\theta_{A} = 2\\varphi$. \n",
    "\n",
    "\n",
    "\n",
    "$$\n",
    "R = | 2 \\cos\\varphi  + 1- \\cos 2\\varphi|\\, .\n",
    "$$\n",
    "\n",
    "Derivando vemos que esta expresión alcanza su máximo cuando $\\sin\\varphi = \\sin 2\\varphi$ lo cual tiene solución $\\varphi = \\pi/3,5\\pi/3$. Sustituyendo encontramos $R= 2.5>2$. \n",
    " \n"
   ]
  },
  {
   "cell_type": "markdown",
   "id": "e60b1dc6",
   "metadata": {},
   "source": [
    "Vamos a hacer una lista de ángulos relativos entre los dos polarizadores "
   ]
  },
  {
   "cell_type": "code",
   "execution_count": 8,
   "id": "15835275",
   "metadata": {},
   "outputs": [],
   "source": [
    "# Angulos de medida\n",
    "rangephi=[0,2*pi] # Intervalo\n",
    "div=128 # Divisiones\n",
    "valphi=np.linspace(rangephi[0],rangephi[1],div) # Lista de angulos\n",
    "origang = 0.8\n",
    "\n",
    "# Lista de correlaciones a calcular\n",
    "C=[0,0,0,0]\n",
    "\n",
    "# Lista de valores de R\n",
    "R=[0]*div\n",
    "\n",
    "# Numero de medidas\n",
    "N=2048\n",
    "\n",
    "for j in range(div):\n",
    "   \n",
    "    # Angulos de medida\n",
    "    phi=valphi[j] \n",
    "    angmed=[[2*phi+origang,phi+origang],[phi+origang,phi+origang],[2*phi+origang,phi+origang],[2*phi+origang,origang]] # AB , A'B , AB', A'B'\n",
    "\n",
    "    for i in range(4):\n",
    "\n",
    "        ang=angmed[i]\n",
    "\n",
    "        qc=QuantumCircuit(2,2)\n",
    "\n",
    "        'creamos el par de Bell B(11)'\n",
    "        qc.x(0)\n",
    "        qc.x(1)\n",
    "        qc.h(0)\n",
    "        qc.cx(0,1)\n",
    "        \n",
    "        'rotamos los polarizadores en torno al eje x'\n",
    "        qc.rx(ang[0],0)\n",
    "        qc.rx(ang[1],1)\n",
    "\n",
    "        'medimos ambas proyecciones'\n",
    "        qc.measure([0,1],[0,1])\n",
    "   \n",
    "        job=sim.run(qc,shots=N)\n",
    "        result=job.result()\n",
    "        counts=result.get_counts()\n",
    "   \n",
    "        if '01' not in counts:\n",
    "            counts['01']=0\n",
    "        if '10' not in counts:\n",
    "            counts['10']=0\n",
    "        if '00' not in counts:\n",
    "            counts['00']=0\n",
    "        if '11' not in counts:\n",
    "            counts['11']=0\n",
    "   \n",
    "        sum=-counts['01']-counts['10']+counts['00']+counts['11']\n",
    "        C[i]=sum/N\n",
    "\n",
    "    R[j]=C[0]+C[1]+C[2]-C[3]\n"
   ]
  },
  {
   "cell_type": "markdown",
   "id": "05b00542",
   "metadata": {},
   "source": [
    "Podemos graficarlo y compararlo con el valor analítico"
   ]
  },
  {
   "cell_type": "code",
   "execution_count": 24,
   "id": "4b489be9",
   "metadata": {
    "scrolled": true
   },
   "outputs": [
    {
     "data": {
      "image/png": "[encoded data removed]",
      "text/plain": [
       "<Figure size 432x288 with 1 Axes>"
      ]
     },
     "metadata": {
      "needs_background": "light"
     },
     "output_type": "display_data"
    }
   ],
   "source": [
    "   \n",
    "fx=2*np.cos(valphi)+1-np.cos(2*valphi)\n",
    "plt.plot(valphi,-fx,'k-',linewidth=1)\n",
    "plt.plot(valphi,R,'.')\n",
    "plt.axhline(y = 2, color = 'r', linestyle = '-')\n",
    "plt.axhline(y = -2, color = 'r', linestyle = '-')\n",
    "plt.axvline(x = pi/3, color = 'b', linestyle = '-')\n",
    "plt.axvline(x = 5*pi/3, color = 'b', linestyle = '-')\n",
    "plt.xlabel('\\phi')\n",
    "plt.ylabel('R')\n",
    "plt.show()"
   ]
  },
  {
   "cell_type": "markdown",
   "id": "6d33cbd7",
   "metadata": {},
   "source": [
    "<div class=\"alert alert-block alert-success\">\n",
    "<b>Ejercicio:</b> \n",
    "Prueba con otros estados de la base de Bell. Probar a variar el origen de ángulos. \n",
    "</div>"
   ]
  },
  {
   "cell_type": "markdown",
   "id": "08dd5118",
   "metadata": {},
   "source": [
    "<div class=\"alert alert-block alert-success\">\n",
    "<b>Ejercicio:</b> \n",
    "Usar bases perpendiculares de  Alice $A$ y $A'$  y Bob $B$ y $B'$, y formando un ángulo $\\varphi\\in (0,\\pi)$ entre sí. Sin pérdida de generalidad puedes tomar $B = X$ y $B' = Z$. \n",
    "</div>"
   ]
  },
  {
   "cell_type": "markdown",
   "id": "7f8d11ab",
   "metadata": {},
   "source": [
    "<a id='ghz'></a>\n",
    "<table width=\"100%\">\n",
    "    <td style=\"font-size:250%px;font-family:Helvetica;text-align:left;background-color:rgba(12, 43, 337, 0.3);\">\n",
    "<b> Experimento GHZ </b>\n",
    "</table>"
   ]
  },
  {
   "cell_type": "markdown",
   "id": "c0dc5cde",
   "metadata": {},
   "source": [
    "Las desigualdades de Bell-CHCS demuestran que hay una manera de distinguir una teoría con  realismo local de una en la que\n",
    "este postulado no  exista. Lo hacen de una forma estadística: es necesario formar ciertas medias de datos sobre estados de 2-cúbits, los  estados de Bell. "
   ]
  },
  {
   "cell_type": "markdown",
   "id": "ae49f2bb",
   "metadata": {},
   "source": [
    "En 1997 Greenberger, Horne y Zeilinger estudiaron las propiedades de una serie de estados de 3-cúbits.   Consideremos el siguiente estado entrelazado\n",
    "$$\n",
    "\\ket{\\rm GHZ} = \\frac{1}{\\sqrt{2}}( \\ket{000} - \\ket{111} )\\, . \n",
    "$$\n",
    "Es muy fácil ver que, en vez de una violación *probabilística* de una desigualdad, el estado GHZ conduce a una  violación *determinista* de una igualdad. \n"
   ]
  },
  {
   "cell_type": "markdown",
   "id": "75df6f1c",
   "metadata": {},
   "source": [
    "Supongamos un sistema, compuesto de  tres subsistemas, $A, B$ y $C$. \n",
    "\n",
    "En cada uno de ellos hay dos *magnitudes* observables, $X$ e $Y$, que al ser medidas adquieren valores binarios $x, y = \\pm 1$. "
   ]
  },
  {
   "cell_type": "markdown",
   "id": "08e73fbc",
   "metadata": {},
   "source": [
    "Pretendemos saber si existe un estado del sistema tal que, con el resultado  de  medidas simultáneas $X$ o $Y$ de cada una de sus partes $A,B$ y $C$ , se obtengan resultados $x$ e $y$ que verifiquen las siguientes ecuaciones:\n",
    "\n",
    "$$\n",
    "\\begin{array}{ccc}\n",
    "{\\rm medimos} & & \\hbox{obtenemos} ~ x,y ~~ \\hbox{tales que} \\\\\n",
    "XYY ~~~~~ &\\to& ~xyy =~~~ 1\\nonumber\\\\\n",
    "YXY ~~~~~ &\\to& ~yxy =~~~ 1 \\label{GHZeq}\\\\\n",
    "YYX ~~~~~ &\\to& ~yyx =~~~ 1\\nonumber\\\\\n",
    "XXX ~~~~~ &\\to& ~xxx = -1\\nonumber\n",
    "\\end{array}\n",
    "$$\n"
   ]
  },
  {
   "cell_type": "markdown",
   "id": "6e35c5b2",
   "metadata": {},
   "source": [
    "Si la teoría satisface los axiomas de realismo local,  los valores de $X$ es $Y$ estarán bien definidos independientemente de la medida que efectuemos. \n",
    "\n",
    "Dicho de otra forma, las medidas que efectuamos son compatibles y no afectan a los resultados posibles.\n",
    "\n",
    "Entonces podemos utilizar conclusiones que extraigamos de los resultados de un experimento para los de otro (notar que el estado se supone que es el mismo en todos los casos)\n",
    "\n",
    "- Las tres primeras afirman que $x=1$ puesto que $y^2=1$. \n",
    "\n",
    "- La última afirma que $x=-1$\n",
    "\n",
    "vemos que hay una contradicción. Concluímos que las medidas efectuadas *no son compatibles entre sí*. "
   ]
  },
  {
   "cell_type": "markdown",
   "id": "693ad458",
   "metadata": {},
   "source": [
    "\n",
    "\n",
    "Como vemos, la paradoja existe en tanto en cuanto atribuyamos a las magnitudes $X$ e $Y$ una noción de realidad  independiente de la medición. Sólo de esta manera podemos inferir, de las tres primeras líneas, el resultado  $xxx  =  1$ sin realizar una medición directa de $XXX$,  puramente por consistencia.\n",
    "\n",
    "La satisfacción, por tanto, de las cuatro afirmaciones,  pasa por aceptar que las variables $X$ e $Y$, no pueden tener valores predefinidos simultáneamente  en los cuatro experimentos. \n",
    "\n"
   ]
  },
  {
   "cell_type": "markdown",
   "id": "fbf2c704",
   "metadata": {},
   "source": [
    "Cuánticamente es fácil ver que el estado GHZ proporciona una solución al conjunto de ecuaciones.\n",
    "\n",
    "Supongamos que  $x$ e $y$ son los resultados de aplicar $X = \\sigma_x$ y $Y = \\sigma_y$, los operadores hermíticos  usuales que miden la componente del espín\n",
    "\n",
    "$$\n",
    "X \\ket{0} = \\ket{1}\\, , ~ X \\ket{1} = \\ket{0}\\, , ~ Y \\ket{0} = i \\ket{1}\\, , ~ Y \\ket{1} = -i \\ket{0}\\, . ~ \n",
    "$$\n",
    " Por un lado, \n",
    "$$xyy\\ket{{\\rm GHZ}}  = X \\otimes Y\\otimes Y \\big(\\frac{1}{\\sqrt{2}}(\\ket{000}-\\ket{111}\\big) = \\frac{1}{\\sqrt{2}} \\big(i^2 \\ket{111}- (-i)^2\n",
    "\\ket{000}\\big) = +  \\ket{{\\rm GHZ}}\\, ,$$  y,\n",
    "análogamente obtenemos $xyy=yxy=yyx= +1$.\n",
    "Por otro, $xxx=-1$ se sigue de\n",
    "\n",
    "$$  \n",
    "xxx  \\ket{{\\rm GHZ}} =   X \\otimes X \\otimes X \\big(\\frac{1}{\\sqrt{2}}(\\ket{000}-\\ket{111}\\big) =\n",
    "\\frac{1}{\\sqrt{2}}(\\ket{111}-\\ket{000}) =  - \\ket{\\rm GHZ}\\, .\n",
    "$$\n",
    "\n"
   ]
  },
  {
   "cell_type": "markdown",
   "id": "b5495866",
   "metadata": {},
   "source": [
    "## $| \\hbox{GHZ}\\rangle$"
   ]
  },
  {
   "cell_type": "code",
   "execution_count": 2,
   "id": "5f1c9be3",
   "metadata": {},
   "outputs": [],
   "source": [
    "#from qiskit import QuantumCircuit, QuantumRegister,ClassicalRegister\n",
    "from qiskit import *\n",
    "#import Our_Qiskit_Functions as oq\n",
    "import numpy as np\n",
    "from numpy import pi"
   ]
  },
  {
   "cell_type": "markdown",
   "id": "665e6eed",
   "metadata": {},
   "source": [
    "<center> <b> GHZ</b>\n",
    "<img src=\"./images/GHZ.png\" width='250'/>\n",
    "</center>\n"
   ]
  },
  {
   "cell_type": "markdown",
   "id": "7111d48a",
   "metadata": {},
   "source": [
    "Inicializamos el estado GHZ "
   ]
  },
  {
   "cell_type": "code",
   "execution_count": 4,
   "id": "412d5068",
   "metadata": {},
   "outputs": [
    {
     "data": {
      "image/png": "[encoded data removed]",
      "text/plain": [
       "<Figure size 336.051x264.88 with 1 Axes>"
      ]
     },
     "execution_count": 4,
     "metadata": {},
     "output_type": "execute_result"
    }
   ],
   "source": [
    "def GHZ():\n",
    "    qr = QuantumRegister(3,name='qr')\n",
    "    cr = ClassicalRegister(3,name='cr')\n",
    "\n",
    "    qc = QuantumCircuit(qr,cr)\n",
    "\n",
    "    qc.h([qr[0],qr[1]])\n",
    "    qc.x(qr[2])\n",
    "    qc.cx(qr[1],qr[2])\n",
    "    qc.cx(qr[0],qr[2])\n",
    "\n",
    "    qc.h(qr)\n",
    "    \n",
    "    return qc\n",
    "\n",
    "qc_GHZ=GHZ()    \n",
    "qc_GHZ.draw(output='mpl')"
   ]
  },
  {
   "cell_type": "markdown",
   "id": "edd88614",
   "metadata": {},
   "source": [
    "Definamos una función que añade aparatos de medida en la direccion $x$, $y$ y $z$ mediante un *string* como 'xxy' etc \n"
   ]
  },
  {
   "cell_type": "code",
   "execution_count": 5,
   "id": "0d50c341",
   "metadata": {},
   "outputs": [],
   "source": [
    "def add_measurement(circuit, term):\n",
    "    for i in range(3):\n",
    "        if  term[i] == 'x':\n",
    "            circuit.h(i)    \n",
    "            circuit.measure(i, i)\n",
    "        elif term[i] == 'z':\n",
    "            circuit.measure(i, i)\n",
    "            pass    \n",
    "        elif term[i] == 'y':\n",
    "            circuit.sdg(i)\n",
    "            circuit.h(i)\n",
    "            circuit.measure(i, i)\n",
    "# beware we are using the convention in Nielsen Chuang        \n",
    "       \n",
    "    return circuit "
   ]
  },
  {
   "cell_type": "markdown",
   "id": "be79e8ed",
   "metadata": {},
   "source": [
    "Analicemos un valor medio"
   ]
  },
  {
   "cell_type": "code",
   "execution_count": 10,
   "id": "717fd84d",
   "metadata": {},
   "outputs": [
    {
     "data": {
      "image/png": "[encoded data removed]",
      "text/plain": [
       "<Figure size 576.851x264.88 with 1 Axes>"
      ]
     },
     "execution_count": 10,
     "metadata": {},
     "output_type": "execute_result"
    }
   ],
   "source": [
    "'chose a term'\n",
    "term = 'yyx'\n",
    "\n",
    "qc_GHZ=GHZ()    \n",
    "add_measurement(qc_GHZ, term)\n",
    "qc_GHZ.draw(output='mpl')"
   ]
  },
  {
   "cell_type": "code",
   "execution_count": 11,
   "id": "9edfa1f1",
   "metadata": {},
   "outputs": [
    {
     "data": {
      "image/png": "[encoded data removed]",
      "text/plain": [
       "<Figure size 504x360 with 1 Axes>"
      ]
     },
     "execution_count": 11,
     "metadata": {},
     "output_type": "execute_result"
    }
   ],
   "source": [
    "M_backend = BasicAer.get_backend('qasm_simulator')\n",
    "shots=100\n",
    "\n",
    "counts= execute(qc_GHZ,M_backend,shots=shots).result().get_counts()\n",
    "\n",
    "\n",
    "from qiskit.tools.visualization import plot_histogram\n",
    "plot_histogram(counts)"
   ]
  },
  {
   "cell_type": "markdown",
   "id": "680d304e",
   "metadata": {},
   "source": [
    "Calculemos el valor esperado"
   ]
  },
  {
   "cell_type": "code",
   "execution_count": 12,
   "id": "2d381738",
   "metadata": {},
   "outputs": [
    {
     "name": "stdout",
     "output_type": "stream",
     "text": [
      "ev= 1.0\n"
     ]
    }
   ],
   "source": [
    "ev = 0\n",
    "\n",
    "for bitstring, frec  in counts.items():\n",
    "    ev += (-1)**sum([int(bit) for bit in bitstring])*frec/shots  #frecs/shots son las probabilidades = frecuencias relativas'\n",
    "\n",
    "print('ev=', ev)"
   ]
  },
  {
   "cell_type": "markdown",
   "id": "80fa3b89",
   "metadata": {},
   "source": [
    "all in one go"
   ]
  },
  {
   "cell_type": "code",
   "execution_count": 14,
   "id": "ecc50b02",
   "metadata": {},
   "outputs": [
    {
     "name": "stdout",
     "output_type": "stream",
     "text": [
      "counts= {'000': 243, '101': 249, '011': 239, '110': 269}\n",
      "ev= 1.0\n"
     ]
    }
   ],
   "source": [
    "term = 'yyx'\n",
    "\n",
    "qc_GHZ=GHZ()    \n",
    "add_measurement(qc_GHZ, term )\n",
    "\n",
    "\n",
    "M_backend = BasicAer.get_backend('qasm_simulator')\n",
    "from qiskit.tools.visualization import plot_histogram\n",
    "shots=1000\n",
    "\n",
    "counts= execute(qc_GHZ,M_backend,shots=shots).result().get_counts()\n",
    "print('counts=',counts)\n",
    "ev = 0.\n",
    "for bitstring, frec  in counts.items():\n",
    "    ev += (-1.)**sum([int(bit) for bit in bitstring])*frec/shots  #frecs/shots son las probabilidades = frecuencias relativas'\n",
    "\n",
    "print('ev=', ev)\n",
    "#plot_histogram(counts)"
   ]
  },
  {
   "cell_type": "markdown",
   "id": "b6c7a966",
   "metadata": {},
   "source": [
    "Ahora vamos a ejecutarlo en un ordenador real"
   ]
  },
  {
   "cell_type": "code",
   "execution_count": 15,
   "id": "2b8bfd5b",
   "metadata": {},
   "outputs": [
    {
     "ename": "IBMQProviderError",
     "evalue": "'No provider matches the specified criteria: hub = ibm-q, group = None, project = None'",
     "output_type": "error",
     "traceback": [
      "\u001b[0;31m---------------------------------------------------------------------------\u001b[0m",
      "\u001b[0;31mIBMQProviderError\u001b[0m                         Traceback (most recent call last)",
      "\u001b[0;32m<ipython-input-15-5d31bc75b377>\u001b[0m in \u001b[0;36m<module>\u001b[0;34m\u001b[0m\n\u001b[1;32m      1\u001b[0m \u001b[0;32mfrom\u001b[0m \u001b[0mqiskit\u001b[0m \u001b[0;32mimport\u001b[0m \u001b[0mIBMQ\u001b[0m\u001b[0;34m\u001b[0m\u001b[0;34m\u001b[0m\u001b[0m\n\u001b[0;32m----> 2\u001b[0;31m \u001b[0mprovider\u001b[0m \u001b[0;34m=\u001b[0m \u001b[0mIBMQ\u001b[0m\u001b[0;34m.\u001b[0m\u001b[0mget_provider\u001b[0m\u001b[0;34m(\u001b[0m\u001b[0mhub\u001b[0m\u001b[0;34m=\u001b[0m\u001b[0;34m'ibm-q'\u001b[0m\u001b[0;34m)\u001b[0m\u001b[0;34m\u001b[0m\u001b[0;34m\u001b[0m\u001b[0m\n\u001b[0m\u001b[1;32m      3\u001b[0m \u001b[0;34m\u001b[0m\u001b[0m\n\u001b[1;32m      4\u001b[0m \u001b[0mIBMQ\u001b[0m\u001b[0;34m.\u001b[0m\u001b[0mload_account\u001b[0m\u001b[0;34m(\u001b[0m\u001b[0;34m)\u001b[0m\u001b[0;34m\u001b[0m\u001b[0;34m\u001b[0m\u001b[0m\n\u001b[1;32m      5\u001b[0m \u001b[0;32mfrom\u001b[0m \u001b[0mqiskit\u001b[0m\u001b[0;34m.\u001b[0m\u001b[0mproviders\u001b[0m\u001b[0;34m.\u001b[0m\u001b[0mibmq\u001b[0m \u001b[0;32mimport\u001b[0m \u001b[0mleast_busy\u001b[0m\u001b[0;34m\u001b[0m\u001b[0;34m\u001b[0m\u001b[0m\n",
      "\u001b[0;32m~/opt/anaconda3/lib/python3.7/site-packages/qiskit/providers/ibmq/ibmqfactory.py\u001b[0m in \u001b[0;36mget_provider\u001b[0;34m(self, hub, group, project)\u001b[0m\n\u001b[1;32m    423\u001b[0m             raise IBMQProviderError('No provider matches the specified criteria: '\n\u001b[1;32m    424\u001b[0m                                     \u001b[0;34m'hub = {}, group = {}, project = {}'\u001b[0m\u001b[0;34m\u001b[0m\u001b[0;34m\u001b[0m\u001b[0m\n\u001b[0;32m--> 425\u001b[0;31m                                     .format(hub, group, project))\n\u001b[0m\u001b[1;32m    426\u001b[0m         \u001b[0;32mif\u001b[0m \u001b[0mlen\u001b[0m\u001b[0;34m(\u001b[0m\u001b[0mproviders\u001b[0m\u001b[0;34m)\u001b[0m \u001b[0;34m>\u001b[0m \u001b[0;36m1\u001b[0m\u001b[0;34m:\u001b[0m\u001b[0;34m\u001b[0m\u001b[0;34m\u001b[0m\u001b[0m\n\u001b[1;32m    427\u001b[0m             raise IBMQProviderError('More than one provider matches the specified criteria.'\n",
      "\u001b[0;31mIBMQProviderError\u001b[0m: 'No provider matches the specified criteria: hub = ibm-q, group = None, project = None'"
     ]
    }
   ],
   "source": [
    "from qiskit import IBMQ\n",
    "provider = IBMQ.get_provider(hub='ibm-q')\n",
    "\n",
    "IBMQ.load_account()\n",
    "from qiskit.providers.ibmq import least_busy"
   ]
  },
  {
   "cell_type": "code",
   "execution_count": null,
   "id": "08ded524",
   "metadata": {},
   "outputs": [],
   "source": [
    "best_backend = least_busy(provider.backends(filters=lambda x: int(x.configuration().n_qubits) >= 3 \n",
    "                                       and not x.configuration().simulator \n",
    "                                       and x.status().operational==True))\n",
    "print(\"least busy backend: \", best_backend)"
   ]
  },
  {
   "cell_type": "code",
   "execution_count": null,
   "id": "8c472e51",
   "metadata": {},
   "outputs": [],
   "source": [
    "job = execute(qc_GHZ, backend=best_backend)\n",
    "job.status()\n",
    "\n",
    "from qiskit.tools.monitor import job_monitor\n",
    "job_monitor(job)"
   ]
  },
  {
   "cell_type": "code",
   "execution_count": null,
   "id": "421a4c1d",
   "metadata": {},
   "outputs": [],
   "source": [
    "counts = job.result().get_counts()\n",
    "plot_histogram(counts)"
   ]
  },
  {
   "cell_type": "code",
   "execution_count": null,
   "id": "a8a89241",
   "metadata": {},
   "outputs": [],
   "source": [
    "ev = 0\n",
    "\n",
    "for bitstring, frec  in counts.items():\n",
    "    ev += (-1)**sum([int(bit) for bit in bitstring])*frec/shots  #frecs/shots son las probabilidades = frecuencias relativas'\n",
    "\n",
    "print('ev=', ev)"
   ]
  },
  {
   "cell_type": "code",
   "execution_count": null,
   "id": "e28900bb",
   "metadata": {},
   "outputs": [],
   "source": []
  },
  {
   "cell_type": "code",
   "execution_count": null,
   "id": "a981799e",
   "metadata": {},
   "outputs": [],
   "source": []
  },
  {
   "cell_type": "markdown",
   "id": "cb9dac94",
   "metadata": {},
   "source": [
    "<a id=\"teleportacion\"></a>\n",
    "<table width=\"100%\">\n",
    "    <td style=\"font-size:250%px;font-family:Helvetica;text-align:left;background-color:rgba(12, 43, 337, 0.3);\">\n",
    "<b>Teleportación</b>\n",
    "</table>"
   ]
  },
  {
   "cell_type": "markdown",
   "id": "52de69bd",
   "metadata": {},
   "source": [
    "Aun no hemos probado que el entrelazamiento conlleva un tipo  nuevo de correlación que acaba constituyendo un recurso importante.  El ejemplo más simple de estado entrelazado es la base de Bell. Supongamos que Alice y Bob tiene dos cúbits que se encuentran en el estado entrelazado $\\ket{B_{00}}$. Vamos a ver qué podemos hacer.\n",
    "\n",
    "\n",
    " Alice tiene, un segundo cúbit inicializado en un estado arbitrario $\\ket{\\phi}$, y se plantea la posibilidad de transferirlo o clonarlo en el laboratorio de Bob.\n",
    "\n",
    "El circuito de la imagen permite efectuar esa tarea\n"
   ]
  },
  {
   "cell_type": "markdown",
   "id": "236eae6b",
   "metadata": {},
   "source": [
    "<br>\n",
    "<div>\n",
    "<img src=\"images/teleportacion.png\" width=\"500\"/>\n",
    "</div>\n",
    "<br>"
   ]
  },
  {
   "cell_type": "markdown",
   "id": "a10cddb7",
   "metadata": {},
   "source": [
    "El proceso se puede resumir en los tres siguientes pasos\n",
    "\n",
    "-  Alice  (en el recuadro) hace una *medida de Bell* en sus dos cúbits. El resultado es siempre una pareja de bits $xy \\in \\{ 00,01,10,11\\}$\n",
    "  \n",
    "\n",
    "-  Alice envía el resultado de su medida $xy$ por un canal clásico a Bob\n",
    "\n",
    "\n",
    "-  Bob efectúa sobre su cúbit, una operación controlada por este 2-bit, $U_{xy} = Z^x X^y $. \n",
    "\n",
    "Como resultado de esta operación, el cúbit de Bob es, salvo posiblemente una fase global, $\\ket{\\phi}$.\n",
    "\n",
    "<br>\n",
    "\n",
    "$$\n",
    "\\left. \\begin{array}{c} 00 \\\\ 01 \\\\ 10 \\\\ 11 \\end{array} \\right\\}~~ \\Longrightarrow  \n",
    "~~~ X^y Z^x \\ket{\\varphi_{xy}} ~=~ \\left\\{  \\begin{array}{rl}    I :& (a\\ket{0} + b\\ket{1})  \\\\    X: & (a\\ket{1} + b\\ket{0})  \\\\  Z:& (a\\ket{0} - b\\ket{1})  \n",
    "\\\\  XZ = -iY:&   (a\\ket{1} - b\\ket{0}) \\\\\n",
    "       \\end{array} \\right. ~~ \\longrightarrow  ~~ a \\ket{0} + b\\ket{1}\\,  = \\, \\ket{\\phi}\n",
    "$$\n",
    "\n",
    "<br>\n",
    "\n",
    "En todos los casos, el estado obtenido en el laboratorio de Bob es $\\ket{\\phi}$.\n",
    "\n",
    "\n",
    "\n",
    "<br>\n",
    "\n",
    "<details>\n",
    "<summary><p style=\"color:blue\"> >> Demostración </p></summary>\n",
    "\n",
    "el estado inicial es\n",
    "\n",
    "<br>\n",
    "\n",
    "$$\n",
    "\\ket{\\phi} \\ket{B_{00}} =  \\ket{\\phi}\\otimes \\frac{1}{\\sqrt{2}}\\left(\\ket{0}\\otimes \\ket{0} + \\ket{1}\\otimes\\ket{1}\\rule{0mm}{4mm}\\right)\\, .\n",
    "$$\n",
    "\n",
    "<br>\n",
    "\n",
    "Alice tiene acceso a los dos primeros qubits y Bob al tercero. \n",
    "La medida de Bell que realiza Alice implica un desentrelazador $U_{\\rm desent}= (H \\otimes I)\\cdot U_{\\rm CNOT}$ a sus dos qubits.\n",
    "Un cálculo sencillo nos da el resultado\n",
    "\n",
    "<br>\n",
    "\n",
    "\\begin{eqnarray}\n",
    "\\ket{\\Xi} =   (H \\otimes I\\otimes I)(U_{\\rm CNOT}\\otimes I)\\, \\ket{\\phi}\\ket{B_{00}} & =&  \\frac{1}{2}\n",
    "\\left[\\rule{0mm}{3mm} \\ket{00}(a\\ket{0} + b\\ket{1}) + \\ket{01}(a\\ket{1}+ b\\ket{0}) \\right. \\nonumber\\\\\n",
    "&&\\left.  \\rule{0mm}{3mm}+ \\ket{10}(a\\ket{0}-b\\ket{1}) + \\ket{11}(a\\ket{1}-b\\ket{0})\\right] \\label{teleport}\n",
    "\\end{eqnarray}\n",
    "\n",
    "<br>\n",
    "\n",
    "El estado obtenido está entrelazado en los tres espacios y, por tanto, contiene un alto grado de información en forma de correlaciones. \n",
    "Alicia mide el estado que obra en su poder, y obtiene un 2-bit  clásico, $xy$.\n",
    "De manera correlacionada, el cubit\n",
    " de Bob colapsa a uno de los 4 estados $\\ket{\\varphi_{xy}}$. \n",
    "\n",
    "Para reconstruir $\\ket{\\phi}$ Bob tiene aún que realizar una última operación $U_{xy}\\ket{\\varphi_{xy}} = \\ket{\\phi}$\n",
    "que requiere el conocimiento de $xy$. Para ello, Alice le debe enviar este dato  por un canal clásico.\n",
    "\n",
    "</details>\n",
    "\n",
    "\n"
   ]
  },
  {
   "cell_type": "markdown",
   "id": "532f33db",
   "metadata": {
    "nbgrader": {
     "grade": false,
     "grade_id": "cell-d0fe6dec443e2b79",
     "locked": true,
     "schema_version": 3,
     "solution": false,
     "task": false
    },
    "slideshow": {
     "slide_type": "slide"
    }
   },
   "source": [
    "## El protocolo de teleportación cuántica"
   ]
  },
  {
   "cell_type": "code",
   "execution_count": 2,
   "id": "90b9c19e",
   "metadata": {
    "slideshow": {
     "slide_type": "slide"
    }
   },
   "outputs": [],
   "source": [
    "from qiskit import QuantumCircuit, QuantumRegister, ClassicalRegister, Aer\n",
    "from qiskit.visualization import plot_histogram, plot_bloch_multivector, array_to_latex\n",
    "import numpy as np\n",
    "import random\n"
   ]
  },
  {
   "cell_type": "code",
   "execution_count": 3,
   "id": "6a8e5ca8",
   "metadata": {},
   "outputs": [
    {
     "name": "stdout",
     "output_type": "stream",
     "text": [
      "[2, 3]\n"
     ]
    }
   ],
   "source": [
    "[theta,phi] = [2,3]\n",
    "print([theta,phi])\n"
   ]
  },
  {
   "cell_type": "markdown",
   "id": "7b793e2f",
   "metadata": {},
   "source": [
    "Prepara un estado arbitrario que Alice quiere teleportar"
   ]
  },
  {
   "cell_type": "code",
   "execution_count": 5,
   "id": "1089fcf2",
   "metadata": {},
   "outputs": [
    {
     "data": {
      "image/png": "[encoded data removed]",
      "text/plain": [
       "<Figure size 288x288 with 1 Axes>"
      ]
     },
     "execution_count": 5,
     "metadata": {},
     "output_type": "execute_result"
    }
   ],
   "source": [
    "# escoge dos ángulos theta y phi en la esfera de Bloch\n",
    "[theta,phi]=[1.1 , 2.2]\n",
    "# o hazlo de forma aleatoria\n",
    "[theta,phi] = np.array([np.pi*np.random.rand(),2*np.pi*np.random.rand()])\n",
    "\n",
    "estado = [np.cos(theta/2),(np.exp(1j*phi))*np.sin(theta/2)]\n",
    "\n",
    "# o directamente de manera aleatoria\n",
    "\n",
    "\n",
    "#visualizalo en la esfera de Bloch\n",
    "plot_bloch_multivector(estado)"
   ]
  },
  {
   "cell_type": "markdown",
   "id": "d169caab",
   "metadata": {
    "slideshow": {
     "slide_type": "slide"
    }
   },
   "source": [
    "\n",
    "Lo primero que haremos será incializar el circuito, dotado de tres cubits y dos canales clásicos en dos registros. Alice tendrá control sobre los dos primeros $q_0, q_1$ y Bob sobre el tercero $q_2$."
   ]
  },
  {
   "cell_type": "code",
   "execution_count": 8,
   "id": "d243d3e7",
   "metadata": {
    "slideshow": {
     "slide_type": "slide"
    }
   },
   "outputs": [],
   "source": [
    "from qiskit import QuantumCircuit, QuantumRegister, ClassicalRegister, Aer, execute\n",
    "from qiskit.visualization import plot_histogram, plot_bloch_multivector, array_to_latex\n",
    "\n",
    "qrA = QuantumRegister(2, name=\"qAlice\") \n",
    "qrB =  QuantumRegister(1, name=\"qBob\") \n",
    "crx = ClassicalRegister(1, name=\"crx\") \n",
    "cry = ClassicalRegister(1, name=\"cry\") "
   ]
  },
  {
   "cell_type": "markdown",
   "id": "a90ef043",
   "metadata": {},
   "source": [
    "generamos el circuit de teleportación"
   ]
  },
  {
   "cell_type": "code",
   "execution_count": 1,
   "id": "2a8f4969",
   "metadata": {},
   "outputs": [
    {
     "ename": "NameError",
     "evalue": "name 'QuantumCircuit' is not defined",
     "output_type": "error",
     "traceback": [
      "\u001b[0;31m---------------------------------------------------------------------------\u001b[0m",
      "\u001b[0;31mNameError\u001b[0m                                 Traceback (most recent call last)",
      "\u001b[0;32m<ipython-input-1-edafbcba004a>\u001b[0m in \u001b[0;36m<module>\u001b[0;34m\u001b[0m\n\u001b[1;32m      1\u001b[0m \u001b[0;31m# inicializa el circuito\u001b[0m\u001b[0;34m\u001b[0m\u001b[0;34m\u001b[0m\u001b[0;34m\u001b[0m\u001b[0m\n\u001b[0;32m----> 2\u001b[0;31m \u001b[0mqc\u001b[0m \u001b[0;34m=\u001b[0m \u001b[0mQuantumCircuit\u001b[0m\u001b[0;34m(\u001b[0m\u001b[0mqrA\u001b[0m\u001b[0;34m,\u001b[0m\u001b[0mqrB\u001b[0m\u001b[0;34m,\u001b[0m \u001b[0mcrx\u001b[0m\u001b[0;34m,\u001b[0m \u001b[0mcry\u001b[0m\u001b[0;34m)\u001b[0m\u001b[0;34m\u001b[0m\u001b[0;34m\u001b[0m\u001b[0m\n\u001b[0m\u001b[1;32m      3\u001b[0m \u001b[0;34m\u001b[0m\u001b[0m\n\u001b[1;32m      4\u001b[0m \u001b[0;31m# prepara el estado de Bell que comparten Alice y Bob\u001b[0m\u001b[0;34m\u001b[0m\u001b[0;34m\u001b[0m\u001b[0;34m\u001b[0m\u001b[0m\n\u001b[1;32m      5\u001b[0m \u001b[0mqc\u001b[0m\u001b[0;34m.\u001b[0m\u001b[0mh\u001b[0m\u001b[0;34m(\u001b[0m\u001b[0mqrA\u001b[0m\u001b[0;34m[\u001b[0m\u001b[0;36m1\u001b[0m\u001b[0;34m]\u001b[0m\u001b[0;34m)\u001b[0m\u001b[0;34m\u001b[0m\u001b[0;34m\u001b[0m\u001b[0m\n",
      "\u001b[0;31mNameError\u001b[0m: name 'QuantumCircuit' is not defined"
     ]
    }
   ],
   "source": [
    "# inicializa el circuito\n",
    "qc = QuantumCircuit(qrA,qrB, crx, cry)\n",
    "\n",
    "# prepara el estado de Bell que comparten Alice y Bob\n",
    "qc.h(qrA[1])\n",
    "qc.cx(qrA[1],qrB[0])\n",
    "\n",
    "# inyecta en el circuito el estado a teleportar\n",
    "qc.initialize(estado,qrA[0])\n",
    "\n",
    "qc.barrier()\n",
    "\n",
    "# Añade un medidor de estados de Bell en los cúbits de Alice y efectúa las medidas\n",
    "qc.cx(qrA[0],qrA[1])\n",
    "qc.h(qrA[0])\n",
    "qc.barrier()\n",
    "qc.measure([qrA[0],qrA[1]],[0,1])\n",
    "\n",
    "# Añade el operador X^y Z^x controlado por las salidas xy  de los cubits 0 y 1 de Alice\n",
    "qc.x(qrB[0]).c_if(cry, 1)  \n",
    "qc.z(qrB[0]).c_if(crx, 1)  \n",
    "qc.barrier()\n",
    "\n",
    "#visualiza el circuito \n",
    "qc.draw('mpl')"
   ]
  },
  {
   "cell_type": "code",
   "execution_count": 12,
   "id": "b1368f2a",
   "metadata": {},
   "outputs": [
    {
     "data": {
      "image/png": "[encoded data removed]",
      "text/plain": [
       "<Figure size 864x288 with 3 Axes>"
      ]
     },
     "execution_count": 12,
     "metadata": {},
     "output_type": "execute_result"
    }
   ],
   "source": [
    "# ejecuta varias veces y observa el resultado \n",
    "S_simulator = Aer.get_backend('statevector_simulator')\n",
    "out_vector=execute(qc,S_simulator).result().get_statevector()\n",
    "plot_bloch_multivector(out_vector)"
   ]
  },
  {
   "cell_type": "markdown",
   "id": "b5bbdd7c",
   "metadata": {
    "slideshow": {
     "slide_type": "slide"
    }
   },
   "source": [
    "### No clonación \n",
    "El protocolo tiene como ingrediente esencial la medida y, por tanto, la <i>destrucción</i> del estado de Alice. Como consecuencia, el estado ha sido teleportado pero no clonado. "
   ]
  },
  {
   "cell_type": "markdown",
   "id": "0ad1ba2f",
   "metadata": {
    "slideshow": {
     "slide_type": "fragment"
    }
   },
   "source": [
    "De no ser así, entraríamos en conflicto con el  <i> Teorema de No Clonación </i>. "
   ]
  },
  {
   "cell_type": "markdown",
   "id": "6e140ee1",
   "metadata": {
    "slideshow": {
     "slide_type": "slide"
    }
   },
   "source": [
    "### Causalidad \n",
    "El protocolo de teleportación <i> no viola causalidad </i>. \n",
    "\n",
    "Es necesario mandar una información clásica (como muy rápido a la velocidad de la luz) para resolver la ambigüedad que le queda a Bob. \n",
    "\n",
    "Esta parte es la que hace que la teleportación no sea un proceso instantáneo de acción a distancia.    \n"
   ]
  },
  {
   "cell_type": "markdown",
   "id": "50a77a4a",
   "metadata": {
    "slideshow": {
     "slide_type": "slide"
    }
   },
   "source": [
    "<div class=\"alert alert-block alert-success\">\n",
    "\n",
    "<b>Ejercicio 1:</b> \n",
    "    \n",
    "cambia el estado inicial por $\\ket{B_{01}}$ y modifica el circuito para que teleporte igualmente. Repítelo para los otros dos casos posibles,    $\\ket{B_{10}}$ y $\\ket{B_{11}}$.\n",
    "\n",
    "</div>\n",
    "\n"
   ]
  },
  {
   "cell_type": "markdown",
   "id": "7e0e05a6",
   "metadata": {
    "slideshow": {
     "slide_type": "slide"
    }
   },
   "source": [
    "<a id=\"intercambent\"></a>\n",
    "<table width=\"100%\">\n",
    "    <td style=\"font-size:250%px;font-family:Helvetica;text-align:left;background-color:rgba(12, 43, 337, 0.3);\">\n",
    "<b>Intercambio de entrelazamiento</b>\n",
    "</table>"
   ]
  },
  {
   "cell_type": "markdown",
   "id": "f318a368",
   "metadata": {},
   "source": [
    "Ya hemos visto cómo el ejemplo más sencillo de entrelazamiento tiene una aplicación muy interesante en la teleportación. Vamos a ver que el entrelazamiento se puede *contagiar* a terceras partes. \n",
    "\n",
    "En el siguiente circuito\n",
    "\n"
   ]
  },
  {
   "cell_type": "markdown",
   "id": "26ccc786",
   "metadata": {},
   "source": [
    "<br>\n",
    "<div>\n",
    "<img src=\"images/entanglement_swap.png\" width=\"450\"/>\n",
    "</div>\n",
    "<br>"
   ]
  },
  {
   "cell_type": "markdown",
   "id": "8d2c19a9",
   "metadata": {},
   "source": [
    "- Alice (A) entrelaza un cúbit con Charles (C) y otro con Bob (B). \n",
    "<br>\n",
    "\n",
    "- Después, Alice hace una medida de Bell, y comunica el resultado $xy$ a Charles y a Bob respectivamente, \n",
    "<br>\n",
    "\n",
    "- los cuales efectúan las puertas controladas $Z^x$ y $X^y$ respectivamente."
   ]
  },
  {
   "cell_type": "markdown",
   "id": "4e9c5094",
   "metadata": {},
   "source": [
    "<div class=\"alert alert-block alert-success\">\n",
    "\n",
    "<b>Ejercicio 2: </b> siguiendo los pasos del apartado anterior programa el circuito de la figura    \n",
    "\n",
    "</div>"
   ]
  },
  {
   "cell_type": "code",
   "execution_count": null,
   "id": "45704968",
   "metadata": {},
   "outputs": [],
   "source": [
    "## Aquí tu solución\n",
    "\n",
    "\n",
    "\n",
    "##"
   ]
  },
  {
   "cell_type": "markdown",
   "id": "54842732",
   "metadata": {},
   "source": [
    "<div class=\"alert alert-block alert-success\">\n",
    "    \n",
    "<b>Ejercicio 3:</b> ejecuta el circuito y muestra que el estado final que comparten Bob y Charles está entrelazado\n",
    "    \n",
    "</div>"
   ]
  },
  {
   "cell_type": "code",
   "execution_count": null,
   "id": "7f79e7a5",
   "metadata": {},
   "outputs": [],
   "source": [
    "## Aquí tu solución\n",
    "\n",
    "\n",
    "\n",
    "##"
   ]
  },
  {
   "cell_type": "markdown",
   "id": "76963129",
   "metadata": {},
   "source": [
    "<div class=\"alert alert-block alert-success\">\n",
    "\n",
    "<b>Ejercicio 4:</b> diseña un circuito en el que un cúbit arbitrario de Charles es teleportado a Bob.\n",
    "\n",
    "\n",
    "</div>\n",
    "\n"
   ]
  },
  {
   "cell_type": "code",
   "execution_count": null,
   "id": "4868bf62",
   "metadata": {},
   "outputs": [],
   "source": [
    "## Aquí tu solución\n",
    "\n",
    "\n",
    "\n",
    "##"
   ]
  },
  {
   "cell_type": "code",
   "execution_count": null,
   "id": "4b3bb9a9",
   "metadata": {},
   "outputs": [],
   "source": []
  }
 ],
 "metadata": {
  "kernelspec": {
   "display_name": "Python 3",
   "language": "python",
   "name": "python3"
  },
  "language_info": {
   "codemirror_mode": {
    "name": "ipython",
    "version": 3
   },
   "file_extension": ".py",
   "mimetype": "text/x-python",
   "name": "python",
   "nbconvert_exporter": "python",
   "pygments_lexer": "ipython3",
   "version": "3.7.10"
  },
  "varInspector": {
   "cols": {
    "lenName": 16,
    "lenType": 16,
    "lenVar": 40
   },
   "kernels_config": {
    "python": {
     "delete_cmd_postfix": "",
     "delete_cmd_prefix": "del ",
     "library": "var_list.py",
     "varRefreshCmd": "print(var_dic_list())"
    },
    "r": {
     "delete_cmd_postfix": ") ",
     "delete_cmd_prefix": "rm(",
     "library": "var_list.r",
     "varRefreshCmd": "cat(var_dic_list()) "
    }
   },
   "types_to_exclude": [
    "module",
    "function",
    "builtin_function_or_method",
    "instance",
    "_Feature"
   ],
   "window_display": false
  }
 },
 "nbformat": 4,
 "nbformat_minor": 5
}
