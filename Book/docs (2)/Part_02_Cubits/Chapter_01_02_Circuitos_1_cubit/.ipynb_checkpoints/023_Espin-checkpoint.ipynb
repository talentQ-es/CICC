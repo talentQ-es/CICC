{
 "cells": [
  {
   "cell_type": "markdown",
   "id": "5f163c9e",
   "metadata": {
    "slideshow": {
     "slide_type": "slide"
    }
   },
   "source": [
    "<figure><right>\n",
    "<img   src=\"../../figuras/logos/Logo_TalentQ_Azul.png\" align=right  width=\"150px\"/>\n",
    "</right></figure>\n",
    "\n",
    "\n",
    "# El cúbit de espín \n",
    "\n",
    "\n",
    "\n",
    "\n",
    "$ \\newcommand{\\bra}[1]{\\langle #1|} $\n",
    "$ \\newcommand{\\ket}[1]{|#1\\rangle} $\n",
    "$ \\newcommand{\\braket}[2]{\\langle #1|#2\\rangle} $\n",
    "$ \\newcommand{\\i}{{\\color{blue} i}} $ \n",
    "$ \\newcommand{\\Hil}{{\\mathcal H}} $\n",
    "$ \\newcommand{\\bn}{{\\bf n}} $\n"
   ]
  },
  {
   "cell_type": "markdown",
   "id": "f3a8aeb1",
   "metadata": {
    "slideshow": {
     "slide_type": "skip"
    }
   },
   "source": [
    "## Índice\n",
    "\n",
    "- [Momento magnético y angular](#sec_023_momento)\n",
    "- [Experimento de Stern y Gerlach](#sec_023_sterngerlach)\n",
    "- [Preparando de un cúbit](#sec_023_prepacubit)\n",
    "- [Manipulando un cúbit](#sec_023_manipcubit)"
   ]
  },
  {
   "cell_type": "markdown",
   "id": "ddfbd5a7",
   "metadata": {
    "slideshow": {
     "slide_type": "skip"
    }
   },
   "source": [
    "El descubrimiento del espín fue una de los primeros fenómenos cuya descripción encontró acomodo en la nueva Mecánica Cuántica. \n"
   ]
  },
  {
   "cell_type": "markdown",
   "id": "95877e39",
   "metadata": {
    "slideshow": {
     "slide_type": "skip"
    }
   },
   "source": [
    "\n",
    "Tanto es así que, el espín es un paradigma de *grado de libertad cuántizado*, y permite obtener intuición sobre los procesos de medida generales."
   ]
  },
  {
   "cell_type": "markdown",
   "id": "86757c61",
   "metadata": {
    "slideshow": {
     "slide_type": "slide"
    }
   },
   "source": [
    "<a id='sec_023_momento'></a>\n",
    "## Momentos magnético y angular\n",
    "\n",
    "Clásicamente una distribución de carga que rota posee un *momento angular* de rotación ${\\bf J}$ y un *momento magnético* $\\boldsymbol{\\mu}$ que son proporcionales"
   ]
  },
  {
   "cell_type": "markdown",
   "id": "bc9c44f6",
   "metadata": {
    "slideshow": {
     "slide_type": "skip"
    }
   },
   "source": [
    "Por ejemplo, un átomo formado por un electrón de carga $q$ rotando en torno al núcleo tendrá\n",
    "<br>\n",
    "\n",
    "$$\n",
    "\\boldsymbol{\\mu} = \\frac{q}{2m} {\\bf J} = \\gamma {\\bf J}\n",
    "$$\n",
    "\n",
    "La constante de proporcionalidad,  $\\gamma$, se denomina *razón giromagnética*"
   ]
  },
  {
   "cell_type": "markdown",
   "id": "1554a4e2",
   "metadata": {
    "slideshow": {
     "slide_type": "-"
    }
   },
   "source": [
    "<figure><center>\n",
    "<img src=\"images/Momento_Magnetico.png\" align=center width='500px'/>\n",
    "</center></figure>\n"
   ]
  },
  {
   "cell_type": "markdown",
   "id": "50f52fa9",
   "metadata": {
    "slideshow": {
     "slide_type": "skip"
    }
   },
   "source": [
    "En este sentido, conocer el valor de $\\boldsymbol{\\mu}$ es equivalente a  *medir* ${\\bf J}$ \n",
    "\n",
    "La manera de poner de manifiesto el momento magnético es sumergir el átomo en un campo magnético ${\\bf B}$. Se observan dos efectos"
   ]
  },
  {
   "cell_type": "markdown",
   "id": "6486c914",
   "metadata": {
    "slideshow": {
     "slide_type": "skip"
    }
   },
   "source": [
    "- En un campo magnético constante, el átomo adquiere una energía de interacción \n",
    "\n",
    "$$\n",
    "U = -\\boldsymbol{\\mu}\\cdot {\\bf B} = - \\mu B \\cos \\theta\n",
    "$$\n",
    "\n",
    "y modificará  su estado  rotación para tratar de alinear $\\boldsymbol{\\mu}$ paralelamente a $ {\\bf B}$, de forma que $U$ se minimice."
   ]
  },
  {
   "cell_type": "markdown",
   "id": "988bef65",
   "metadata": {
    "slideshow": {
     "slide_type": "skip"
    }
   },
   "source": [
    "-  Si el campo magnético no es constante, ${\\bf B} = {\\bf B}(x,y,z)$, el átomo  actúa una fuerza proporcional al gradiente del campo magnético\n",
    "\n",
    "$$\n",
    "{\\bf F} = - \\boldsymbol{\\nabla} U(x,y,z) = \\boldsymbol{\\nabla} ( \\boldsymbol{\\mu}\\cdot {\\bf B}(x,y,z) )\n",
    "$$\n"
   ]
  },
  {
   "cell_type": "markdown",
   "id": "54d566e4",
   "metadata": {
    "slideshow": {
     "slide_type": "slide"
    }
   },
   "source": [
    "<a id='sec_023_sterngerlach'></a>\n",
    "## El experimento de Stern y Gerlach"
   ]
  },
  {
   "cell_type": "markdown",
   "id": "771196c9",
   "metadata": {
    "slideshow": {
     "slide_type": "-"
    }
   },
   "source": [
    "En 1921 Stern, e independientemente en 1922 Gerlach, dispararon una nube de átomos de plata en el seno de un campo magnético no constante ${\\bf B}(z) = (0,0,B_z(z))$"
   ]
  },
  {
   "cell_type": "markdown",
   "id": "8ed808a0",
   "metadata": {
    "slideshow": {
     "slide_type": "skip"
    }
   },
   "source": [
    "El *momento magnético* $\\boldsymbol{\\mu}$ en dichos átomos está asociado al *momento angular del  último* electrón de valencia.\n",
    "\n"
   ]
  },
  {
   "cell_type": "markdown",
   "id": "b268fad2",
   "metadata": {
    "slideshow": {
     "slide_type": "skip"
    }
   },
   "source": [
    "En este caso, la fuerza esperable que desvíe un átomos de momento angular ${\\bf J}$ \n",
    "<br>\n",
    "\n",
    "$$\n",
    "{\\bf F}= -\\boldsymbol{\\nabla} U = \\boldsymbol{\\nabla}(\\boldsymbol{\\mu}\\cdot{\\bf B}(z))= \\left( \\hat{\\bf x}\\frac{\\partial}{\\partial x}+ \n",
    "\\hat{\\bf y}\\frac{\\partial}{\\partial y}+ \\hat{\\bf z}\\frac{\\partial}{\\partial z}\\right)(\\mu_z B_z(z)) =  \\gamma J_z\\frac{\\partial B_z(z)}{\\partial z} \\, \\hat{\\bf z}\n",
    "$$\n"
   ]
  },
  {
   "cell_type": "markdown",
   "id": "15c38fcb",
   "metadata": {
    "slideshow": {
     "slide_type": "skip"
    }
   },
   "source": [
    "Vemos que \n",
    "\n",
    "- es una fuerza vertical. Esta es la dirección en la que esperamos una desviación de un electrón que lo atravies\n",
    "<br>\n",
    "\n",
    "- la magnitud de dicha desviación es proporcional a la proyección vertical del momento angular $J_z = \\boldsymbol{J}\\cdot\\hat{\\bf z} $ "
   ]
  },
  {
   "cell_type": "markdown",
   "id": "4913deb1",
   "metadata": {},
   "source": [
    "<a title=\"Theresa Knott from en.wikipedia, CC BY-SA 3.0 &lt;http://creativecommons.org/licenses/by-sa/3.0/&gt;, via Wikimedia Commons\" href=\"https://commons.wikimedia.org/wiki/File:Stern-Gerlach_experiment.PNG\"><img src=\"https://upload.wikimedia.org/wikipedia/commons/2/29/Stern-Gerlach_experiment.PNG\" align=center width='1000px' /></a>"
   ]
  },
  {
   "cell_type": "markdown",
   "id": "5f09abc0",
   "metadata": {
    "slideshow": {
     "slide_type": "skip"
    }
   },
   "source": [
    "La nube de electrones que atraviesa el campo magnético está inicialmente despolarizada. Eso quiere decir que, en promedio, el momento angular es cero."
   ]
  },
  {
   "cell_type": "markdown",
   "id": "ec956328",
   "metadata": {
    "slideshow": {
     "slide_type": "skip"
    }
   },
   "source": [
    "Cada componente, y en particular $\\mu_z$, será una distribución constante $\\mu_z\\in [-\\mu,+\\mu]$ de media cero. Por tanto, a la salida del polarizador esperamos una nube verticalmente alargada centrada en la posición central."
   ]
  },
  {
   "cell_type": "markdown",
   "id": "89d3df0b",
   "metadata": {
    "slideshow": {
     "slide_type": "skip"
    }
   },
   "source": [
    "El resultado del experimento de Stern (1921) y Gerlach (1922) fue que, en lugar de eso, sólo se encuentran dos puntos de acumulación, situados simétricamente en la dirección del eje del polarizador. \n"
   ]
  },
  {
   "cell_type": "markdown",
   "id": "ac900784",
   "metadata": {
    "slideshow": {
     "slide_type": "skip"
    }
   },
   "source": [
    "Esto quiere decir que la variable $J_z$ sólo adquiere dos valores opuestos\n",
    "\n",
    "$$J_z = \\pm\\frac{\\hbar}{2}$$\n"
   ]
  },
  {
   "cell_type": "markdown",
   "id": "1c4ba75f",
   "metadata": {
    "slideshow": {
     "slide_type": "skip"
    }
   },
   "source": [
    "<div class=\"alert alert-block alert-danger\">\n",
    "<b>Notar</b>: \n",
    "<br>\n",
    "La dirección $z$ no tiene nada de particular. Si el eje del polarizador apunta en la dirección $\\hat{\\bf n}$, los puntos de acumulación se situaciónan a lo largo de dicho eje, y para cáda átomo estaríamos midiendo el valor de la proyección $J_{\\hat{\\bf n}}={\\bf J}\\cdot\\hat{\\bf n} = \\pm \\hbar/2$.\n",
    "    \n",
    "</div>"
   ]
  },
  {
   "cell_type": "markdown",
   "id": "d8e7d869",
   "metadata": {
    "slideshow": {
     "slide_type": "skip"
    }
   },
   "source": [
    "### Mediciones sucesivas\n",
    "\n",
    "El nombre de *polarizador* cobra sentido cuando hacemos dos experimentos sucesivamente de forma que, la salida de uno, sea la entrada del siguiente. "
   ]
  },
  {
   "cell_type": "markdown",
   "id": "714588e5",
   "metadata": {
    "slideshow": {
     "slide_type": "skip"
    }
   },
   "source": [
    "Supongamos que seleccionamos sólo los electrones que se desvían hacia arriba $+\\hbar/2$ en el primer polarizador. \n",
    "\n",
    "A continuación  los hacemos pasar por un segundo polarizador de Stern Gerlach cuyo eje se desvía de la vertical en el plano perpendiclar $(y,z)$ un ángulo $\\theta$ relativo al eje $z$. \n",
    "\n",
    "*Resultado*:  las incidencias sobre la segunda placa  aparecen en una u otra posición a lo largo del *segundo eje* de *forma aleatoria*. "
   ]
  },
  {
   "cell_type": "markdown",
   "id": "e15a0978",
   "metadata": {
    "slideshow": {
     "slide_type": "skip"
    }
   },
   "source": [
    "Repitiendo el experimento obtenemos la frecuencia relativa de incidencia en una posición u otra y, de ahí, la probabilidad de ocurrencia de cada resultado\n",
    "\n",
    "$$\n",
    "p(+\\hbar/2) = \\cos^2\\theta/2 ~~~~~,~~~~~  p(-\\hbar/2) = \\sin^2\\theta/2 ~\\, \n",
    "$$\n",
    "\n",
    "donde $\\theta$ es el ángulo entre los ejes de los dos polarizadores sucesivos."
   ]
  },
  {
   "cell_type": "markdown",
   "id": "a668bce0",
   "metadata": {
    "slideshow": {
     "slide_type": "skip"
    }
   },
   "source": [
    "![picture](https://upload.wikimedia.org/wikipedia/commons/c/cb/Stern-Gerlach_Analyzer_Sequential_Series_E3.png \"blog-image align\")"
   ]
  },
  {
   "cell_type": "markdown",
   "id": "a1e8b9a7",
   "metadata": {
    "slideshow": {
     "slide_type": "skip"
    }
   },
   "source": [
    "En esta figura se aprecia que la polarización del resultado en una dirección (selección de un resultado, por ejemplo $+\\hbar/2$), arroja una distribución equilibrada de resultados en el polarizador siguiente, rotado $90^\\circ$"
   ]
  },
  {
   "cell_type": "markdown",
   "id": "6b3c7c99",
   "metadata": {
    "slideshow": {
     "slide_type": "skip"
    }
   },
   "source": [
    "La interpretación de este experimento indica que cada polarizador *prepara* a su salida, un estado que es base de un operador relacionado con su orientación. \n",
    "\n",
    "- a la salida del primer polarizador, uno de los dos posibles autoestados de $\\sigma_z$, $\\ket{\\pm}_z$\n",
    "\n",
    "\n",
    "- a la salida del segundo polarizador, uno de los posibles autestados de $\\sigma_x$, $\\ket{\\pm}_x$\n",
    "\n",
    "Dado que $[\\sigma_z,\\sigma_x]\\neq 0$ no conmutan, es imposible encontrar una base común de autoestados de ambos operadores. \n",
    "\n",
    "Esto hace que siempre que actúa un Stern Gerlach, las medidas en el siguiente aparezcan máximamente despolarizadas.  En última instancia esto es una manifestación del principio de incertidumbre obligado por la relación \n",
    "\n",
    "$$\n",
    "[\\sigma_z, \\sigma_x] = i \\sigma_y\n",
    "$$\n"
   ]
  },
  {
   "cell_type": "markdown",
   "id": "e7e73681",
   "metadata": {
    "slideshow": {
     "slide_type": "skip"
    }
   },
   "source": [
    "### Espín\n",
    "\n",
    "La desviación del átomo de plata en el experimento de Stern y Gerlach se debe al último electrón. Pero no puede provenir de su movimiento ya que el *momento angular orbital* del último electrón es nulo al hallarse en el orbotal $5s$, es decir, tendríamos $~{\\bf J} = {\\bf L} = 0$."
   ]
  },
  {
   "cell_type": "markdown",
   "id": "02a79a73",
   "metadata": {
    "slideshow": {
     "slide_type": "skip"
    }
   },
   "source": [
    "En conclusión: tiene que haber una contribución  de  *carácter interno* \n",
    "\n",
    "$$\n",
    "{\\bf J} = {\\bf L} + {\\bf S}  ~~\\Rightarrow~~\n",
    " \\boldsymbol{\\mu} =  \\boldsymbol{\\mu}_L +  \\boldsymbol{\\mu}_S  $$\n",
    "con\n",
    "\n",
    "$$\n",
    "\\boldsymbol{\\mu}_S =\\gamma_e {\\bf S} =   g_s\\frac{ q}{2 m_e} {\\bf S} \n",
    "$$\n",
    "\n",
    "y $g_s = 2,0023...$ el *factor giromagnético* del electrón."
   ]
  },
  {
   "cell_type": "markdown",
   "id": "2072688a",
   "metadata": {
    "slideshow": {
     "slide_type": "skip"
    }
   },
   "source": [
    "Es como si el electrón mismo tuviese momento angular interno, pero tratándose de una partícula puntual esto sólo puede entenderse como un símil, no como una nube de carga real en rotación"
   ]
  },
  {
   "cell_type": "markdown",
   "id": "e775fc1a",
   "metadata": {
    "slideshow": {
     "slide_type": "skip"
    }
   },
   "source": [
    "La variable ${\\bf S}$ se denomina *espín* y  $S_z = \\pm \\hbar/2$ es su *proyección* en la dirección dirección $\\hat{\\bf z}$.  \n",
    "\n",
    "Muchas veces se omite el factor $\\hbar$ y se dice que el electrón tiene espín $1/2$."
   ]
  },
  {
   "cell_type": "markdown",
   "id": "4cc12908",
   "metadata": {
    "slideshow": {
     "slide_type": "skip"
    }
   },
   "source": [
    "En otras palabras, *el observable* asociado a la medición de la proyección del espín en la dirección $z$ es \n",
    "\n",
    "$$\n",
    "S = \\frac{\\hbar}{2}\\sigma_z ~~~~~~ \\Rightarrow ~~~~~~~S \\ket{\\pm} = \\pm\\frac{\\hbar}{2} \\ket{\\pm}\n",
    "$$"
   ]
  },
  {
   "cell_type": "markdown",
   "id": "c1783ca5",
   "metadata": {
    "slideshow": {
     "slide_type": "skip"
    }
   },
   "source": [
    "<div class=\"alert alert-block alert-danger\">\n",
    "<b>Notar</b>:\n",
    "\n",
    "Con frecuencia se usan unidades en las que $\\hbar = 1$, por lo que la proyección del espín del electrón será siempre $\\pm 1/2$.\n",
    "    \n",
    "    \n",
    "Todas las partículas elementales tienen espín: \n",
    "\n",
    "- $S=1/2$ los fermiones (quarks, electrón, muón, neutrino,...)\n",
    "\n",
    "\n",
    "- $S = 0$ el bosón de Higgs\n",
    "\n",
    "\n",
    "- $S=1$ los bosones intermediarios (fotón, gluón, W,Z,...)\n",
    "    \n",
    "Las partículas compuestas tienen espín formado por el de los componentes \n",
    "\n",
    " - protón, neutrón tienen $S=1/2$ y son fermiones\n",
    " \n",
    " \n",
    " - núcleos tienen $S=1/2$ ó $0$  si tienen un número impar o par de nucleones\n",
    "</div>"
   ]
  },
  {
   "cell_type": "markdown",
   "id": "a2ab69f1",
   "metadata": {
    "slideshow": {
     "slide_type": "skip"
    }
   },
   "source": [
    "<a id='sec_023_prepacubit'></a> \n",
    "## Preparación de un cúbit de espín   "
   ]
  },
  {
   "cell_type": "markdown",
   "id": "0d4acb47",
   "metadata": {
    "slideshow": {
     "slide_type": "slide"
    }
   },
   "source": [
    "Un *Stern-Gerlach* con el campo magnético ${\\bf B}$ alineado con el eje $~\\hat\\bn = (0,0,1)$\n",
    "prepara el estado entrante en uno de los dos estados $\\{\\ket{+},\\ket{-}\\}$, autoestados del operador $\\sigma_z$,\n",
    "\n",
    "$$\n",
    "\\sigma_z \\, \\ket{\\pm} = \\pm \\ket{\\pm}\n",
    "$$\n",
    "\n",
    "donde cada resultado es observado <u>en función de la deflexión observada a su salida</u>"
   ]
  },
  {
   "cell_type": "markdown",
   "id": "0e82f8cf",
   "metadata": {
    "slideshow": {
     "slide_type": "slide"
    }
   },
   "source": [
    "Sin embargo, <u>*no hay nada de especial*</u> en la elección del eje $z$ para orientar el campo magnético. \n",
    "\n",
    "Experimentalmente obtenemos el mismo efecto cuando orientamos el eje del *Stern-Gerlach*  con su campo magnético ${\\bf B}$ en la dirección de un vector unitario, $|\\hat\\bn|=1$, con\n",
    "<br>\n",
    "<br>\n",
    "\n",
    "$$\n",
    "\\hat\\bn(\\theta,\\phi) = \\sin\\theta\\cos\\phi \\, \\hat {\\bf x} + \\sin\\theta\\sin\\phi \\, \\hat {\\bf y} + \\cos\\theta \\, \\hat {\\bf z}\n",
    "$$\n",
    "<br>\n",
    "\n",
    "Al hacer pasar una electrón a través de dicho Stern Gerlach y observar su deflexión obtenemos igualmente dos resultados posible.\n"
   ]
  },
  {
   "cell_type": "markdown",
   "id": "cda11b60",
   "metadata": {
    "slideshow": {
     "slide_type": "skip"
    }
   },
   "source": [
    "\n",
    "Si, a la salida, observamos que se deflectó en el mismo sentido de $\\vec B$ (sentido opuesto a $\\vec B$) diremos que, como resultado de la medición: \n",
    "<br>\n",
    "el espín del electrón, $S$, <b>adquirió</b> una proyección  $+\\hbar/2$ $(-\\hbar/2)$\n",
    "    <u>a lo largo del eje que marca el <i>Stern-Gerlach</i></u>, $~\\hat\\bn(\\theta,\\phi)~$.\n",
    "    "
   ]
  },
  {
   "cell_type": "markdown",
   "id": "deab1351",
   "metadata": {
    "slideshow": {
     "slide_type": "slide"
    }
   },
   "source": [
    "Los dos estados asociados los denominaremos $\\ket{\\pm}_{\\hat\\bn} = \\ket{\\pm,\\hat\\bn}$. \n",
    "\n",
    "Deben ser autoestados de una ecuación que generalice y se reduzca a la anterior cuando $\\hat\\bn = \\hat{\\bf z}$\n",
    "\n",
    "$$\n",
    "(\\hat\\bn\\cdot \\boldsymbol{\\sigma} )\\,\\ket{\\pm,\\hat\\bn} = \\pm \\ket{\\pm,\\hat\\bn}\n",
    "$$\n",
    "\n"
   ]
  },
  {
   "cell_type": "markdown",
   "id": "fd41f05a",
   "metadata": {
    "slideshow": {
     "slide_type": "fragment"
    }
   },
   "source": [
    "Es inmediato comprobar que, los autoestados son los vectores de la esfera de Bloch que usan *los mismos ángulos* \n",
    "$(\\theta, \\phi)$\n",
    "<br>\n",
    "<br>\n",
    "$$\n",
    "\\ket{+,\\hat\\bn} =  \\begin{bmatrix} \\cos\\displaystyle\\frac{\\theta}{2} \\\\  e^{i\\phi}\\sin\\displaystyle\\frac{\\theta}{2} \\end{bmatrix} ~~~~~~~~,~~~~~\n",
    "~~~~~\n",
    "\\ket{-,\\hat\\bn} =  \\begin{bmatrix} -e^{-i\\phi}\\sin\\displaystyle\\frac{\\theta}{2} \\\\  \\cos\\displaystyle\\frac{\\theta}{2} \\end{bmatrix} \n",
    "$$\n",
    "\n"
   ]
  },
  {
   "cell_type": "markdown",
   "id": "4e7cb3e4",
   "metadata": {
    "slideshow": {
     "slide_type": "fragment"
    }
   },
   "source": [
    "<div class=\"alert alert-block alert-success\",text-align:center>\n",
    "<p style=\"text-align: left ;\">  \n",
    "<b>Ejercicio</b>: \n",
    "<br>\n",
    "Comprueba, que los estados $\\ket{\\pm,\\hat\\bn}$ son ortogonales, y son autoestados del operador $~ \\hat{\\bf n} \\cdot \\boldsymbol{\\sigma} ~$, con autovalores $~\\pm 1$\n",
    "</p>    \n",
    "</div>"
   ]
  },
  {
   "cell_type": "markdown",
   "id": "b05f3420",
   "metadata": {
    "slideshow": {
     "slide_type": "skip"
    }
   },
   "source": [
    " En cada caso, a la salida, escribiremos para la función de onda total\n",
    "<br>\n",
    "<br>\n",
    "$$~\\ket{\\psi} = \\psi(\\vec r)\\otimes \\ket{\\pm,\\hat\\bn }~$$ \n",
    "<br>\n",
    "cuya interpretación es la *amplitud de probabilidad* de encontrar al alectrón en el punto $\\vec r$ con la proyección de su espín en la dirección $\\hat\\bn$ igual a $\\pm 1$\n"
   ]
  },
  {
   "cell_type": "markdown",
   "id": "9bfd01af",
   "metadata": {
    "slideshow": {
     "slide_type": "slide"
    }
   },
   "source": [
    "<div class=\"alert alert-block alert-warning\",text-align:center>\n",
    "<p style=\"text-align: \">  \n",
    "<b>En resumen:</b>\n",
    "<br>\n",
    "\n",
    "- El observable asociado a un polarizador de Stern Gerlach <i>orientado</i> en una dirección $\\hat\\bn$ es\n",
    "el operador\n",
    "<br>    \n",
    "$$\n",
    "{\\bf S} = \\frac{\\hbar}{2}\\, \\hat\\bn\\cdot  \\boldsymbol{\\sigma} \n",
    "$$\n",
    "<br>\n",
    "\n",
    "- Si se registra $+$,  estado de espín emergente $\\ket{+,\\hat\\bn}$ es el <i>cúbit</i> que tiene, en la esfera de Bloch,   los mismos ángulos $(\\theta, \\phi)$  que definen la orientación del <i>Stern-Gerlach</i> en el laboratorio  \n",
    "</div>"
   ]
  },
  {
   "cell_type": "markdown",
   "id": "ad426d0b",
   "metadata": {
    "slideshow": {
     "slide_type": "skip"
    }
   },
   "source": [
    "En particular cuando $\\theta = \\phi =  0 ~\\Rightarrow \\hat{\\bf n} = (0,0,1) = \\hat{\\bf z}$, recuperamos la base $Z$\n",
    "<br>\n",
    "<br>\n",
    "$$\n",
    "\\ket{+,\\hat{\\bf z}} =  \\begin{bmatrix} 1 \\\\  0 \\end{bmatrix} ~~~~~~~~,~~~~~\n",
    "~~~~~\n",
    "\\ket{-,\\hat{\\bf z}} =  \\begin{bmatrix} 0 \\\\  1\\end{bmatrix} \n",
    "$$\n",
    "\n"
   ]
  },
  {
   "cell_type": "markdown",
   "id": "3991a2e1",
   "metadata": {
    "slideshow": {
     "slide_type": "skip"
    }
   },
   "source": [
    "<div class=\"alert alert-block alert-success\">\n",
    "<b>Ejercicio:</b> \n",
    "<br>\n",
    "Supongamos que estamos en posesión de un cúbit en uno de los dos estados $\\ket{\\pm,\\hat{\\bf n}}$. Demuestra que podemos hallar la orientación del <i>Stern-Gerlach</i> que lo preparó  hallando valores medios de los operadores de Pauli\n",
    "<br>    \n",
    "<br>    \n",
    "$$\n",
    "\\bra{\\pm,\\hat{\\bf n}} \\, \\boldsymbol{\\sigma}\\,  \\ket{\\pm,\\hat{\\bf n}} = \\pm \\hat{\\bf n}\n",
    "$$\n",
    "<br>    \n",
    "</div>"
   ]
  },
  {
   "cell_type": "markdown",
   "id": "b577e69f",
   "metadata": {
    "slideshow": {
     "slide_type": "skip"
    }
   },
   "source": [
    "<a id='sec_023_manipcubit'></a>\n",
    "## Manipulando un cúbit   "
   ]
  },
  {
   "cell_type": "markdown",
   "id": "2d05bd9c",
   "metadata": {
    "slideshow": {
     "slide_type": "skip"
    }
   },
   "source": [
    " Ahora podemos preguntarnos qué le ocurre a dicho electrón si lo sumergimos en un campo magnético ${\\bf B}$.\n"
   ]
  },
  {
   "cell_type": "markdown",
   "id": "4fa107b3",
   "metadata": {
    "slideshow": {
     "slide_type": "skip"
    }
   },
   "source": [
    "El Hamiltoniano de una partícula con espín en un campo magnético es\n",
    "\n",
    "$$\n",
    "H = -\\hat{\\boldsymbol{\\mu}}\\cdot {\\bf B} = -\\gamma \\hat{\\bf S}\\cdot {\\bf B} =  -\\gamma \\frac{\\hbar}{2} \\boldsymbol{\\sigma}\\cdot {\\bf B}\n",
    "$$\n",
    "\n",
    "El *factor giromagnético* $\\gamma$ depende de qué tipo de partícula  estamos estudiando (electrón, protón, núcleo...) "
   ]
  },
  {
   "cell_type": "markdown",
   "id": "cfd4694c",
   "metadata": {
    "slideshow": {
     "slide_type": "skip"
    }
   },
   "source": [
    "\n",
    "Definiremos el  *vector de Larmor* \n",
    "<br>\n",
    "\n",
    "$$\n",
    "\\boldsymbol{\\omega} = \\gamma \\bf B\n",
    "$$\n",
    "<br>\n",
    "\n",
    "cuyo módulo será la *frecuencia de Larmor*\n",
    "$$\n",
    "\\omega = \\gamma B ~~\n",
    "~[\\hbox{Hz}]\n",
    "$$\n",
    "\n",
    "Notar que $B$ es positivo. De modo que $\\omega$ tendrá el signo de $\\gamma$ y por tanto el de $q$"
   ]
  },
  {
   "cell_type": "markdown",
   "id": "edcb96e4",
   "metadata": {
    "slideshow": {
     "slide_type": "skip"
    }
   },
   "source": [
    "con esta definición, el Hamiltoniano  se escribe en la forma\n",
    "\n",
    "$$\n",
    "H =  \\frac{\\hbar}{2}(-\\gamma {\\bf B})\\cdot \\boldsymbol{\\sigma}= -\\frac{\\hbar}{2} \\boldsymbol{\\omega}\\cdot \\boldsymbol{\\sigma}\n",
    "$$\n",
    "\n"
   ]
  },
  {
   "cell_type": "markdown",
   "id": "65d39767",
   "metadata": {
    "slideshow": {
     "slide_type": "skip"
    }
   },
   "source": [
    "Si uno mira las unidades de la ecuación anterior verá que\n",
    "\n",
    "- $[H]$ el hamiltoniano tiene unidades de energía, por ejemplo, julio, J.\n",
    "\n",
    "\n",
    "- $[\\hbar]$ la constante de Planck, tiene unidades de energía $\\times$ tiempo, es decir, J s. "
   ]
  },
  {
   "cell_type": "markdown",
   "id": "7036666f",
   "metadata": {
    "slideshow": {
     "slide_type": "skip"
    }
   },
   "source": [
    "Consistentemente\n",
    "\n",
    "- $\\boldsymbol{\\omega} = \\gamma {\\bf B}$ es un vector que tiene unidades de inversa de tiempo, de hecho rad s$^{-1}$.\n"
   ]
  },
  {
   "cell_type": "markdown",
   "id": "1d5de7b2",
   "metadata": {
    "slideshow": {
     "slide_type": "skip"
    }
   },
   "source": [
    "De hecho **cualquier Hamiltoniano** 2$\\times$2 se puede escribir de esta forma, que admite la interpretación de un espín en un campo magnético identificando $\\boldsymbol{\\omega} = \\gamma \\bf B$."
   ]
  },
  {
   "cell_type": "markdown",
   "id": "a1835d1d",
   "metadata": {
    "slideshow": {
     "slide_type": "skip"
    }
   },
   "source": [
    "<div class=\"alert alert-block alert-success\">\n",
    "<b>Ejercicio:</b> \n",
    "<br>\n",
    "Dado un Hamiltoniano\n",
    "    \n",
    "$$\n",
    "H =  \\begin{bmatrix} E_1 & H_{12} \\\\ H_{12}^* & E_2 \\end{bmatrix}\n",
    "$$\n",
    "obtén el <i>vector de Larmor efectivo</i> $\\boldsymbol{\\omega}$ asociado  \n",
    "    \n",
    "<details><summary> <p style='text-align:right'> >> <i>Solution</i> </p> </summary>\n",
    "\\begin{eqnarray}\n",
    "H &=& \\begin{bmatrix} E_1 & H_{12} \\\\ H^*_{12} & E_2 \\end{bmatrix} \\nonumber\\\\\n",
    "&=& \\rule{0mm}{8mm}\\frac{H_{11} + H_{22}}{2} I + \\frac{E_1 - E_2}{2}\\sigma_z + {\\rm Re}(H_{12})\\sigma_x - {\\rm Im}(H_{12})\\sigma_y\n",
    "\\nonumber\\\\\n",
    "&=&  \\rule{0mm}{8mm}\\frac{E_1 + E_2}{2} I  - \\frac{\\hbar}{2} \\boldsymbol{\\omega} \\cdot \\boldsymbol{\\sigma} \\label{cambioB}\n",
    "\\end{eqnarray}\n",
    "donde definimos el vector de Larmor efectivo\n",
    "$$\n",
    "\\omega_x = -\\frac{2}{\\hbar } {\\rm Re} (H_{12})~~ ,~~~~   \\omega_y =  \\frac{2}{\\hbar } {\\rm Im} (H_{12}) ~~,~~~~\\omega_z =  \\frac{ E_{2}-E_{1}}{\\hbar } \n",
    "$$ \n",
    "</details>\n",
    "</div>"
   ]
  },
  {
   "cell_type": "markdown",
   "id": "37717884",
   "metadata": {
    "slideshow": {
     "slide_type": "skip"
    }
   },
   "source": [
    "De la sección anterior, ya sabemos cuáles son los autoestados de $H$\n",
    "\n",
    "Por ejemplo, tomando ${\\bf B} = B\\, \\hat{\\bf z}$ a lo largo del eje $\\hat{\\bf z}$ vemos que $\\boldsymbol{\\omega} = (0,0,\\omega)$ y \n",
    "\n",
    "<br>\n",
    "\n",
    "$$\n",
    "H = -\\frac{\\hbar}{2}\\omega \\sigma_z = \\begin{bmatrix} -\\hbar\\omega/2 & 0 \\\\ 0 & \\hbar\\omega/2 \\end{bmatrix}\n",
    "$$\n"
   ]
  },
  {
   "cell_type": "markdown",
   "id": "04171f77",
   "metadata": {
    "slideshow": {
     "slide_type": "skip"
    }
   },
   "source": [
    "<br>\n",
    "\n",
    " - El estado *fundamental* es $\\begin{bmatrix} 1\\\\ 0\\end{bmatrix} =\\ket{+,\\hat{\\bf z}}=\\ket{1}$ con energía $\\varepsilon_0=-\\hbar \\omega/2$. \n",
    " \n"
   ]
  },
  {
   "cell_type": "markdown",
   "id": "9d338412",
   "metadata": {
    "slideshow": {
     "slide_type": "skip"
    }
   },
   "source": [
    "<br>\n",
    "\n",
    " - El estado *excitado*\n",
    " es $\\begin{bmatrix} 1\\\\ 0\\end{bmatrix} =\\ket{-,\\hat{\\bf z}}= \\ket{0}$ con energía $\\varepsilon_1=\\, \\hbar \\omega/2$. \n",
    " \n"
   ]
  },
  {
   "cell_type": "markdown",
   "id": "376156f2",
   "metadata": {
    "slideshow": {
     "slide_type": "skip"
    }
   },
   "source": [
    "Al igual que clásicamente, con carga positiva $\\gamma> 0$  el estado que minimiza la energía es el que, en la esfera de Bloch, es paralelo a la dirección del campo magnético en el espacio "
   ]
  },
  {
   "cell_type": "markdown",
   "id": "7533c623",
   "metadata": {
    "slideshow": {
     "slide_type": "skip"
    }
   },
   "source": [
    "<div class=\"alert alert-block alert-danger\">\n",
    "<b>Notar</b>\n",
    "<br>\n",
    "    \n",
    "- Observamos como *la presencia del campo magnético* induce una *separación de niveles* o *gap* de energía \n",
    "\n",
    "    $$\\Delta \\varepsilon = \\varepsilon_1-\\varepsilon_0 = \\hbar \\omega$$ \n",
    "   \n",
    "<br>\n",
    "    \n",
    "- Este efecto se denomina *efecto Zeeman*\n",
    "    \n",
    "<br>    \n",
    "    \n",
    "- Con frecuencia se habla la *frecuencia del gap*  $\\omega = \\Delta \\varepsilon/\\hbar = $ y sus unidades son  [rad s$^{-1}$]  \n",
    "    \n",
    "<br>\n",
    "    \n",
    "- El eje $\\hat{\\bf z}$ no tiene nada de especial. Y la observación anterior se generaliza a cualquier campo magnético ${\\bf B}= B\\, \\hat{\\bf u}$. El Hamiltoniano asociado tendrá ahora dos autoestados $\\{\\ket{-,\\hat{\\bf u}},\\ket{+,\\hat{\\bf u}}\\}$ con idénticas energías $\\varepsilon_{0}$ y $\\varepsilon_1$.\n",
    "\n",
    "</div>"
   ]
  },
  {
   "cell_type": "markdown",
   "id": "fc687549",
   "metadata": {
    "slideshow": {
     "slide_type": "skip"
    }
   },
   "source": [
    "### Evolución de un espín en un campo magnético. "
   ]
  },
  {
   "cell_type": "markdown",
   "id": "75a6e183",
   "metadata": {
    "slideshow": {
     "slide_type": "skip"
    }
   },
   "source": [
    "Situemos un espín $\\ket{\\psi} = \\ket{s,\\hat\\bn}$ en un campo magnético vertical ${\\bf B}= B \\, \\hat{\\bf z}$\\, .\n",
    "La evolución en el tiempo, $\\ket{\\psi(t)}$,  viene gobernada por la ecuación de Schrödinger\n",
    "\n",
    "$$\n",
    "i\\hbar \\frac{d}{dt} \\ket{\\psi(t)} = H \\ket{\\psi(t)}\n",
    "$$\n"
   ]
  },
  {
   "cell_type": "markdown",
   "id": "c9c95e9e",
   "metadata": {
    "slideshow": {
     "slide_type": "skip"
    }
   },
   "source": [
    "\n",
    "\n",
    "Cuando $H$ es un operador constante en el tiempo (por ejemplo si el campo $\\bf B$ no varía) existe una solución exacta para la evolución\n",
    "<br>\n",
    "\n",
    "$$\n",
    "\\ket{\\psi(t)} = U(t,0) \\ket{\\psi(0)}\n",
    "$$"
   ]
  },
  {
   "cell_type": "markdown",
   "id": "919dae2a",
   "metadata": {
    "slideshow": {
     "slide_type": "skip"
    }
   },
   "source": [
    "que involucra el *operador de evolución*  \n",
    "\n",
    "$$\n",
    "U(t,0) = \\exp\\left( -\\frac{i}{\\hbar} t H\\right)\n",
    "$$"
   ]
  },
  {
   "cell_type": "markdown",
   "id": "9f38f2b4",
   "metadata": {
    "slideshow": {
     "slide_type": "skip"
    }
   },
   "source": [
    "\n",
    "En la base que diagonaliza el operador, es equivalente a exponenciar los elementos diagonales. Es el caso cuando tomamos el campo magnético  a lo largo del eje $\\hat{\\bf z}$, ${\\bf B} = B\\, \\hat{\\bf z}$\n",
    "\n",
    "$$\n",
    "\\exp\\left( -\\frac{i}{\\hbar} t H\\right)= \\exp\\left( -\\frac{i}{\\hbar} t\\left(- \\frac{\\hbar}{2}\\omega \\sigma_z \\right)\\right) = \\exp \\begin{bmatrix} it \\omega/2 & 0 \\\\ 0 & -it \\omega/2 \\end{bmatrix} =\n",
    "\\begin{bmatrix} e^{it \\omega/2} & 0 \\\\ 0 &e^{-it \\omega/2}  \\end{bmatrix} =  e^{it \\omega/2}\n",
    "\\begin{bmatrix}1 & 0 \\\\ 0 &e^{-it \\omega}\\end{bmatrix}\n",
    "$$\n"
   ]
  },
  {
   "cell_type": "markdown",
   "id": "e2fc7a7d",
   "metadata": {
    "slideshow": {
     "slide_type": "skip"
    }
   },
   "source": [
    "Podemos despreciar la *fase global* y escribir para el operador de evolución\n",
    "\n",
    "$$\n",
    "U(t,0) = \\begin{bmatrix}1 & 0 \\\\ 0 &e^{-it \\omega}\\end{bmatrix}\n",
    "$$"
   ]
  },
  {
   "cell_type": "markdown",
   "id": "46c94cf0",
   "metadata": {
    "slideshow": {
     "slide_type": "skip"
    }
   },
   "source": [
    "Ya podemos obtener la evolución en el tiempo de un estado inicial de la polarización del espín. Supongamos que, a tiempo $t=0$, tenemos\n",
    "\n",
    "$$\n",
    "\\ket{\\psi(0)} =  \\begin{bmatrix} \\cos\\theta \\\\ e^{i\\phi} \\sin\\theta \\end{bmatrix}\n",
    "$$"
   ]
  },
  {
   "cell_type": "markdown",
   "id": "0b147833",
   "metadata": {
    "slideshow": {
     "slide_type": "skip"
    }
   },
   "source": [
    "A tiempo $t$ el estado será\n",
    "<br>\n",
    "<br>\n",
    "\n",
    "$$\n",
    "\\ket{\\psi(t)} = U(t,0) \\ket{\\psi(0)} = \\begin{bmatrix}1 & 0 \\\\ 0 &e^{it \\omega}\\end{bmatrix}\\begin{bmatrix} \\cos\\theta \\\\ e^{i\\phi} \\sin\\theta \\end{bmatrix} = \n",
    "\\begin{bmatrix} \\cos\\theta \\\\ e^{i(\\phi- t\\omega)} \\sin\\theta \\end{bmatrix}\n",
    "$$"
   ]
  },
  {
   "cell_type": "markdown",
   "id": "c23665af",
   "metadata": {
    "slideshow": {
     "slide_type": "skip"
    }
   },
   "source": [
    "El resultado es fácil de visualizar:  en la esfera de Bloch, el estado instantáneo $\\ket{\\psi(t)} = \\begin{bmatrix} \\cos\\theta \\\\ e^{i(\\phi- t\\omega)} \\sin\\theta \\end{bmatrix}$,  experimenta \n",
    "- una *precesión de Larmor* en torno que marca el campo magnético, preservando el  ángulo $\\theta$ inicial fijo, \n",
    "\n",
    "\n",
    "- con una velocidad angular dada por la *frecuencia de Larmor*, $\\omega = \\gamma B~$ [rad s$^{-1}$] en sentido horario $\\omega >0$ (antihorario $\\omega <0$) para una partícula de carga positiva (negativa)\n",
    "\n"
   ]
  },
  {
   "cell_type": "markdown",
   "id": "ca547b2b",
   "metadata": {
    "slideshow": {
     "slide_type": "skip"
    }
   },
   "source": [
    "<figure><center>\n",
    "<img src=\"images/precession.png\" align=center width='350px'/>\n",
    "</center></figure>\n"
   ]
  },
  {
   "cell_type": "markdown",
   "id": "b1142571",
   "metadata": {
    "slideshow": {
     "slide_type": "skip"
    }
   },
   "source": [
    "-  la probabilidad de *decaer* al estado fundamental $\\ket{+,\\hat{\\bf z}}=\\begin{bmatrix}1 \\\\ 0\\end{bmatrix}$ es $\\cos^2 \\theta$, y es invariante bajo evolución temporal"
   ]
  },
  {
   "cell_type": "markdown",
   "id": "1f1ee40a",
   "metadata": {
    "slideshow": {
     "slide_type": "skip"
    }
   },
   "source": [
    "<div class=\"alert alert-block alert-danger\">\n",
    "<b>Notar</b>\n",
    "<br>\n",
    "\n",
    "-  Observamos como *la presencia del campo magnético* induce una *separación de niveles* o *gap* de energía \n",
    "    \n",
    "    \n",
    "-  los dos autoestados del hamiltoniano $\\ket{\\pm,\\hat{\\bf z}}$  de energías $\\pm \\hbar\\omega/2$   son *estables* bajo evolución temporal. \n",
    "    \n",
    "    \n",
    "-  esto los hace útiles para computación cuántica $\\Rightarrow$ un hamiltoniano *congela* ciertos estados, sus autoestados, siempre que <i> no sean degenerados </i>  \n",
    "</div>"
   ]
  },
  {
   "cell_type": "markdown",
   "id": "399592e8",
   "metadata": {
    "slideshow": {
     "slide_type": "skip"
    }
   },
   "source": [
    "### Control cuántico\n",
    "\n",
    "La elección del eje $\\hat{\\bf z}$ para alinear el campo magnético es *totalmente arbitraria* y se ha elegido para simplificar los cálculos, al ser el Hamiltoniano diagonal. Si escogiésemos otra dirección arbitraria:\n",
    "\n",
    "- el resultado físico **tiene que ser el mismo**: una *precesión de Larmor* del vector de Bloch en torno al eje que marca el campo magnético ${\\bf B}$ con *frecuencia angular de Larmor* $\\omega = \\gamma B$.\n",
    "\n"
   ]
  },
  {
   "cell_type": "markdown",
   "id": "78ef995f",
   "metadata": {
    "slideshow": {
     "slide_type": "skip"
    }
   },
   "source": [
    "- el álgebra será más complicada porque tendremos que exponenciar una matriz  $H = -\\frac{\\hbar}{2}\\boldsymbol{\\omega}\\cdot\\boldsymbol{\\sigma} $ que ya no es diagonal\n",
    "\n",
    "$$\n",
    "U_{\\boldsymbol{\\omega}}(t,0) = \\exp\\left( -\\frac{i}{\\hbar} t H\\right) = \\exp\\left( \\frac{i}{\\hbar} t \\frac{\\hbar}{2}\\boldsymbol{\\omega}\\cdot \\boldsymbol{\\sigma}\\right)  =  \n",
    " \\exp\\left( i\\frac{t\\omega}{2}  \\frac{\\boldsymbol{\\omega}}{\\omega}\\cdot \\boldsymbol{\\sigma}\\right)\n",
    "$$\n"
   ]
  },
  {
   "cell_type": "markdown",
   "id": "e7bd53eb",
   "metadata": {
    "slideshow": {
     "slide_type": "skip"
    }
   },
   "source": [
    "-  Observamos que $U_{\\boldsymbol{\\omega}}(t,0)$ es el operador de rotación de ángulo $\\alpha = -t\\omega$ en torno al eje $\\hat{\\bf n} = \\boldsymbol{\\omega}/\\omega$."
   ]
  },
  {
   "cell_type": "markdown",
   "id": "54e58686",
   "metadata": {
    "slideshow": {
     "slide_type": "skip"
    }
   },
   "source": [
    "<figure><center>\n",
    "<img src=\"images/precession_tilted2.png\" align=center width='350px'/>\n",
    "</center></figure>\n"
   ]
  },
  {
   "cell_type": "markdown",
   "id": "b52f74e1",
   "metadata": {
    "slideshow": {
     "slide_type": "skip"
    }
   },
   "source": [
    "El resultado general es el siguiente\n",
    "\n",
    "\\begin{eqnarray*}\n",
    "U_{\\boldsymbol{\\omega}}(t,0) ~&=&~ \\cos\\left(\\frac{t\\omega}{2}\\right) I + i \\sin\\left(\\frac{t\\omega}{2}\\right) \\, \\frac{\\boldsymbol{\\omega}}{\\omega}\\cdot \\boldsymbol{\\sigma} \\\\\n",
    "&&\\\\\n",
    "&=& \n",
    "\\begin{bmatrix}\n",
    " \\cos \\displaystyle\\frac{t\\omega}{2}+ i \\displaystyle\\frac{\\omega_z}{\\omega} \\sin\\displaystyle\\frac{t\\omega}{2}  &   \\displaystyle\\frac{\\omega_y+i\\omega_x}{\\omega} \\sin\\displaystyle\\frac{t\\omega}{2}  \\\\\n",
    " \\rule{0mm}{8mm}\n",
    " \\displaystyle\\frac{-\\omega_y+i\\omega_x}{\\omega} \\sin\\displaystyle\\frac{t\\omega}{2}  & \\cos\\displaystyle\\frac{t\\omega}{2} - i \\displaystyle\\frac{\\omega_z}{\\omega} \\sin\\frac{t \\omega }{2}\n",
    "\\end{bmatrix}\n",
    "\\end{eqnarray*}\n",
    "\n"
   ]
  },
  {
   "cell_type": "markdown",
   "id": "381167aa",
   "metadata": {
    "slideshow": {
     "slide_type": "skip"
    }
   },
   "source": [
    "Supongamos que, a $t=0$, nos encontramos en el estado $\\ket{\\psi(0)} = \\ket{0} = \\ket{+,\\hat{\\bf z}}$. Entonces a tiempo $t$ el estado \n",
    "será\n",
    "\n",
    "$$\n",
    "\\ket{\\psi(t)}=U_{\\boldsymbol{\\omega}}(t,0)\\begin{bmatrix} 1 \\\\ 0 \\end{bmatrix} = \\begin{bmatrix}\n",
    "\\cos \\displaystyle\\frac{t\\omega}{2}+ i \\displaystyle\\frac{\\omega_z}{\\omega} \\sin\\displaystyle\\frac{t\\omega}{2} \\\\ \\rule{0mm}{8mm}\n",
    " \\displaystyle\\frac{-\\omega_y+i\\omega_x}{\\omega} \\sin\\displaystyle\\frac{t\\omega}{2} \n",
    "\\end{bmatrix} \n",
    "$$"
   ]
  },
  {
   "cell_type": "markdown",
   "id": "317dd244",
   "metadata": {
    "slideshow": {
     "slide_type": "skip"
    }
   },
   "source": [
    "La probabilidad de medir el estado $\\ket{0}$ o el estado $\\ket{1}$ en ese instante será\n",
    "<br>\n",
    "\n",
    "\\begin{eqnarray*}\n",
    "p_0(t) &=& |\\braket{0}{\\psi(t)}|^2 =  \\cos^2 \\frac{t\\omega}{2} + \\frac{\\omega_z^2}{\\omega^2} \\sin^2 \\frac{t\\omega}{2} \\\\ \\rule{0mm}{8mm}\n",
    "p_1(t) &=&|\\braket{1}{\\psi(t)}|^2 =  \\frac{\\omega_x^2 + \\omega_y^2}{\\omega^2} \\sin^2\\frac{t\\omega}{2}\n",
    "\\end{eqnarray*}"
   ]
  },
  {
   "cell_type": "code",
   "execution_count": 4,
   "id": "bc4d2e2e",
   "metadata": {
    "slideshow": {
     "slide_type": "skip"
    }
   },
   "outputs": [
    {
     "data": {
      "image/png": "[encoded data removed]",
      "text/plain": [
       "<Figure size 640x480 with 2 Axes>"
      ]
     },
     "metadata": {},
     "output_type": "display_data"
    }
   ],
   "source": [
    "import numpy as np\n",
    "import matplotlib.pyplot as plt\n",
    "\n",
    "tlist = np.linspace(0,10,101)\n",
    "\n",
    "wz = 0.8 # la componente w_z \n",
    "w  = 1   # el módulo de w\n",
    "wxy = np.sqrt(w**2-wz**2) ## esto es sqrt(w_x**2 + w_y**2)\n",
    "p0list08= np.cos(tlist*w/2)**2 + (wz/w)**2*np.sin(tlist*w/2)**2\n",
    "p1list08=  (wxy/w)**2*np.sin(tlist*w/2)**2\n",
    "\n",
    "wz = 0.2\n",
    "w  = 1\n",
    "wxy = np.sqrt(w**2-wz**2)  \n",
    "p0list02= np.cos(tlist*w/2)**2 + (wz/w)**2*np.sin(tlist*w/2)**2\n",
    "p1list02=  (wxy/w)**2*np.sin(tlist*w/2)**2\n",
    "\n",
    "fig, (ax1,ax2) = plt.subplots(2,sharex=True)\n",
    "\n",
    "ax1.set_ylabel('p(t)')\n",
    "ax1.plot(tlist,p0list08,label=\"$p_0(t)$\")\n",
    "ax1.plot(tlist,p1list08,label=\"$p_1(t)$\")\n",
    "ax1.set_title('$\\omega_z = 0.8$')\n",
    "ax1.legend()\n",
    "\n",
    "ax2.set_xlabel('t')\n",
    "ax2.set_ylabel('p(t)')\n",
    "ax2.plot(tlist,p0list02,label=\"$p_0(t)$\")\n",
    "ax2.plot(tlist,p1list02,label=\"$p_1(t)$\")\n",
    "ax2.set_title('$\\omega_z = 0.2$')\n",
    "ax2.legend()\n",
    "\n",
    "plt.show()"
   ]
  },
  {
   "cell_type": "markdown",
   "id": "d9de5ab7",
   "metadata": {
    "run_control": {
     "marked": false
    },
    "slideshow": {
     "slide_type": "skip"
    }
   },
   "source": [
    "Observamos que es imposible conseguir una probabilidad de transición $p_1(t) = 1$ a menos que hagamos $\\omega_z = 0$. "
   ]
  },
  {
   "cell_type": "markdown",
   "id": "71f87a7c",
   "metadata": {
    "slideshow": {
     "slide_type": "skip"
    }
   },
   "source": [
    "Podemos generar ahora la rotación más general de un cúbit en torno a un eje arbitrario"
   ]
  },
  {
   "cell_type": "markdown",
   "id": "6323ac88",
   "metadata": {
    "slideshow": {
     "slide_type": "skip"
    }
   },
   "source": [
    "Podemos comprobar que se recuperan las precesiones en torno a los ejes $\\hat{\\bf x}$, $\\hat{\\bf y}$ y $\\hat{\\bf z}$.\n",
    "\n",
    "- $\\boldsymbol{\\omega} = (0,0, \\gamma B_z)$.\n",
    "<br>\n",
    "$$\n",
    "U_z(t,0) = \\begin{bmatrix} e^{it \\omega/2} & 0 \\\\ 0 &e^{-it \\omega/2}  \\end{bmatrix} = R_{z}(-t\\omega)\n",
    "$$\n",
    "<br>\n",
    "\n",
    "- $\\boldsymbol{\\omega} = (\\gamma B_x,0,0)$.\n",
    "<br>\n",
    "$$\n",
    "U_x(t,0) = \n",
    "\\begin{bmatrix}\n",
    " \\cos \\displaystyle\\frac{t\\omega}{2}  &  i \\sin\\displaystyle\\frac{t\\omega}{2}  \\\\\n",
    " \\rule{0mm}{8mm}\n",
    " i \\sin\\displaystyle\\frac{t\\omega}{2}  & \\cos\\displaystyle\\frac{t\\omega}{2} \n",
    "\\end{bmatrix} = R_{x}(-t\\omega)\n",
    "$$\n",
    "<br>\n",
    "\n",
    "- $\\boldsymbol{\\omega} = (0,\\gamma B_y,0)$.\n",
    "<br>\n",
    "$$\n",
    "U_y(t,0) = \n",
    "\\begin{bmatrix}\n",
    " \\cos \\displaystyle\\frac{t\\omega}{2}  &   \\sin\\displaystyle\\frac{t\\omega}{2}  \\\\\n",
    " \\rule{0mm}{8mm}\n",
    "  -\\sin\\displaystyle\\frac{t\\omega}{2}  & \\cos\\displaystyle\\frac{t\\omega}{2} \n",
    "\\end{bmatrix}= R_{y}(-t\\omega)\n",
    "$$\n",
    "<br>\n",
    "\n",
    "Recuperamos los operadores de rotación de cúbits en torno a los tres ejes, con un ángulo dinámico $\\alpha = -t\\omega$."
   ]
  },
  {
   "cell_type": "markdown",
   "id": "923aed92",
   "metadata": {
    "slideshow": {
     "slide_type": "skip"
    }
   },
   "source": [
    "### Pulsos y puertas elementales"
   ]
  },
  {
   "cell_type": "markdown",
   "id": "9c8672db",
   "metadata": {
    "slideshow": {
     "slide_type": "skip"
    }
   },
   "source": [
    "Si tenemos un conocimiento muy exacto de la frecuencia de Larmor, podemos utilizar el procedimiento anterior para construir cualquier puerta simples de 1 cúbit, encendiendo el campo magnético un tiempo muy preciso, o *pulso*\n"
   ]
  },
  {
   "cell_type": "markdown",
   "id": "7b39ad8c",
   "metadata": {
    "slideshow": {
     "slide_type": "skip"
    }
   },
   "source": [
    "Por ejemplo, cuando  $t =\\Delta t =  \\pi/\\omega$ hablamos de un *pulso elemental* en el que $ ~\\Rightarrow~\\cos \\frac{t\\omega}{2} = 0~$ , $~\\sin \\frac{t\\omega}{2} = 1$\n"
   ]
  },
  {
   "cell_type": "markdown",
   "id": "41a9802e",
   "metadata": {
    "slideshow": {
     "slide_type": "skip"
    }
   },
   "source": [
    "\n",
    "Con él somos capaces de generar las puertas $X,Y$ y $Z$, así como la puerta de Hadamard.\n",
    "<br>\n",
    "<br>\n",
    "\n",
    "\\begin{eqnarray*}\n",
    "i \\,U_{\\hat{\\bf z}}( \\Delta t ,0) &=&  \\begin{bmatrix} 1 & 0 \\\\ 0 & -1  \\end{bmatrix} =  Z  \n",
    "\\nonumber\\\\ \n",
    "&& \\\\\n",
    "i \\,U_{\\hat{\\bf y}}( \\Delta t ,0) &=&     \\begin{bmatrix} 0  & -i \\\\   i& 0 \\end{bmatrix}  =  Y \n",
    "\\nonumber\\\\ \n",
    "&& \\\\\n",
    "i \\,U_{\\hat{\\bf x}}( \\Delta t ,0)  &=&  \\begin{bmatrix} 0  & 1 \\\\   1& 0 \\end{bmatrix} = X  \\, \n",
    "\\nonumber\\\\ \n",
    "&& \\\\\n",
    "i \\,U_{\\frac{1}{\\sqrt{2}}(\\hat{\\bf x}+\\hat{\\bf z})}( \\pi/\\omega,0)  &=& \\frac{1}{\\sqrt{2}} \\begin{bmatrix} 1  & 1 \\\\   1& -1 \\end{bmatrix} = H  \\, \n",
    "\\end{eqnarray*}"
   ]
  },
  {
   "cell_type": "markdown",
   "id": "9bf6dd1d",
   "metadata": {
    "slideshow": {
     "slide_type": "skip"
    }
   },
   "source": [
    "Con pulsos de menor tiempo podemos construir puertas $S$ y $T$\n",
    "\n",
    "$$\n",
    "e^{i\\pi/4} \\,U_{\\hat{\\bf z}}( \\Delta t ,0) = S\n",
    "$$\n",
    "\n",
    "and\n",
    "\n",
    "$$e^{i\\pi/8}\\,U_{\\hat{\\bf z}}( \\Delta t ,0) = T\n",
    "$$"
   ]
  }
 ],
 "metadata": {
  "celltoolbar": "Slideshow",
  "kernelspec": {
   "display_name": "Python 3 (ipykernel)",
   "language": "python",
   "name": "python3"
  },
  "language_info": {
   "codemirror_mode": {
    "name": "ipython",
    "version": 3
   },
   "file_extension": ".py",
   "mimetype": "text/x-python",
   "name": "python",
   "nbconvert_exporter": "python",
   "pygments_lexer": "ipython3",
   "version": "3.11.7"
  },
  "toc": {
   "base_numbering": 1,
   "nav_menu": {},
   "number_sections": true,
   "sideBar": true,
   "skip_h1_title": true,
   "title_cell": "Table of Contents",
   "title_sidebar": "Contents",
   "toc_cell": false,
   "toc_position": {
    "height": "calc(100% - 180px)",
    "left": "10px",
    "top": "150px",
    "width": "414.053px"
   },
   "toc_section_display": true,
   "toc_window_display": false
  },
  "varInspector": {
   "cols": {
    "lenName": 16,
    "lenType": 16,
    "lenVar": 40
   },
   "kernels_config": {
    "python": {
     "delete_cmd_postfix": "",
     "delete_cmd_prefix": "del ",
     "library": "var_list.py",
     "varRefreshCmd": "print(var_dic_list())"
    },
    "r": {
     "delete_cmd_postfix": ") ",
     "delete_cmd_prefix": "rm(",
     "library": "var_list.r",
     "varRefreshCmd": "cat(var_dic_list()) "
    }
   },
   "types_to_exclude": [
    "module",
    "function",
    "builtin_function_or_method",
    "instance",
    "_Feature"
   ],
   "window_display": false
  }
 },
 "nbformat": 4,
 "nbformat_minor": 5
}
