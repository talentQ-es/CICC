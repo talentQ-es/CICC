{
 "cells": [
  {
   "cell_type": "markdown",
   "metadata": {
    "slideshow": {
     "slide_type": "slide"
    }
   },
   "source": [
    "<img   src=\"../figuras/logo/TalentQ_LogoPosNegro.png\"   align=center  width=\"12%\"/>\n",
    "<br>\n",
    "\n",
    "<table width=\"100%\">\n",
    "<td style=\"font-size:400%px;font-style:italic;text-align:right;background-color:rgba(0, 160, 120,0.6)\">\n",
    "El arte de medir II\n",
    "</td></table>\n",
    "\n",
    "\n",
    "\n",
    "$ \\newcommand{\\bra}[1]{\\langle #1|} $\n",
    "$ \\newcommand{\\ket}[1]{|#1\\rangle} $\n",
    "$ \\newcommand{\\braket}[2]{\\langle #1|#2\\rangle} $\n",
    "$ \\newcommand{\\i}{{\\color{blue} i}} $ \n",
    "$ \\newcommand{\\Hil}{{\\mathbb H}} $\n",
    "$ \\newcommand{\\boldn}{{\\bf n}} $\n",
    "$ \\newcommand{\\tr}{{\\rm tr}}$\n",
    "\n"
   ]
  },
  {
   "cell_type": "markdown",
   "metadata": {
    "slideshow": {
     "slide_type": "skip"
    }
   },
   "source": [
    "\n",
    "- [Medidas de estados multicúbit](#medmult)\n",
    "\n",
    "\n",
    "- [Medidas en bases generales](#basegen)\n",
    "\n",
    "\n",
    "- [Valores esperados](#valesp)\n",
    "\n",
    "\n",
    "- [Medidas de Hadamard](#medHad)\n"
   ]
  },
  {
   "cell_type": "code",
   "execution_count": 1,
   "metadata": {
    "slideshow": {
     "slide_type": "slide"
    }
   },
   "outputs": [],
   "source": [
    "%run ../macro_CURSO.py"
   ]
  },
  {
   "cell_type": "markdown",
   "metadata": {
    "slideshow": {
     "slide_type": "slide"
    }
   },
   "source": [
    "<a id='medmult'></a>\n",
    "<table width=\"100%\">\n",
    "    <td style=\"font-size:250%px;font-family:Helvetica;text-align:left;background-color:rgba(12, 43, 337, 0.3);\">\n",
    "<b>Medidas de estados multicúbit</b>\n",
    "</table>"
   ]
  },
  {
   "cell_type": "markdown",
   "metadata": {
    "slideshow": {
     "slide_type": "slide"
    }
   },
   "source": [
    "Un aparato de medida en la base  asociada al operador hermítico $\\sigma_z^{\\otimes n} = Z\\otimes \\ldots \\otimes Z$ hace colapsar el estado  que mide a un elemento $\\ket{x}$ de la *base computacional*, que identificamos mediante una cadena de bits $a_{n-1}...a_0$ con $a_i=0,1$,  donde $x= a_{n-1}2^{n-1}+...+2^0 a_0$.\n",
    "\n",
    "\n",
    "<br>\n",
    "<br>\n",
    "\n",
    "<div>\n",
    "<img src=\"images/Multimeter_zbasis.png\" width=\"45%\" style=\"margin:auto\" />\n",
    "</div>\n",
    "\n",
    "<br>"
   ]
  },
  {
   "cell_type": "markdown",
   "metadata": {
    "slideshow": {
     "slide_type": "slide"
    }
   },
   "source": [
    "### Circuitos con múltiples cúbits y medidas en Qiskit\n",
    "<br>\n",
    "<br>\n",
    "inicialicemos un estado multi-cúbit"
   ]
  },
  {
   "cell_type": "code",
   "execution_count": 2,
   "metadata": {
    "slideshow": {
     "slide_type": "fragment"
    }
   },
   "outputs": [
    {
     "data": {
      "text/latex": [
       "$$\\frac{10 \\sqrt{129}}{129} |000\\rangle+\\frac{5 \\sqrt{129}}{129} |010\\rangle+\\frac{2 \\sqrt{129}}{129} |110\\rangle$$"
      ],
      "text/plain": [
       "<IPython.core.display.Latex object>"
      ]
     },
     "execution_count": 2,
     "metadata": {},
     "output_type": "execute_result"
    }
   ],
   "source": [
    "from qiskit import QuantumCircuit, QuantumRegister, ClassicalRegister\n",
    "from numpy import linalg as la\n",
    "from qiskit.quantum_info import Statevector\n",
    "\n",
    "\n",
    "'''definimos 3 registros cuánticos y 3 clásicos'''\n",
    "qr = QuantumRegister(3,name='q')\n",
    "cr = ClassicalRegister(3,name='c')\n",
    "\n",
    "'''definimos un estado de entrada dando la lista de sus 2^3 = 8 componentes'''\n",
    "e_init =[1.,0, 0.5,0,0,0,0.2,0]\n",
    "e_init/=la.norm(e_init)\n",
    "Statevector(e_init).draw('Latex')"
   ]
  },
  {
   "cell_type": "markdown",
   "metadata": {
    "slideshow": {
     "slide_type": "fragment"
    }
   },
   "source": [
    "Las medida es esencialmente un mapa arbitrario entre registros clásicos y cuánticos."
   ]
  },
  {
   "cell_type": "code",
   "execution_count": 6,
   "metadata": {
    "run_control": {
     "marked": false
    },
    "slideshow": {
     "slide_type": "fragment"
    }
   },
   "outputs": [
    {
     "data": {
      "image/png": "[encoded data removed]",
      "text/plain": [
       "<Figure size 447.797x264.88 with 1 Axes>"
      ]
     },
     "execution_count": 6,
     "metadata": {},
     "output_type": "execute_result"
    }
   ],
   "source": [
    "'''creamos un circuito e inicializamos el estado'''\n",
    "qc = QuantumCircuit(qr,cr)\n",
    "qc.initialize(e_init,qr)\n",
    "\n",
    "'''y le añadimos una instrucción de medida'''\n",
    "qc.measure(qr,cr)\n",
    "#qc.measure(qr,reversed(list(cr)))\n",
    "#qc.measure([qr[0],qr[1]],[cr[1],cr[2]])\n",
    "\n",
    "qc.draw(output='mpl')"
   ]
  },
  {
   "cell_type": "markdown",
   "metadata": {
    "slideshow": {
     "slide_type": "slide"
    }
   },
   "source": [
    "La manera de tener acceso a las amplitudes es midiendo repetidas veces para reconstruir la función de probabilidad"
   ]
  },
  {
   "cell_type": "code",
   "execution_count": 7,
   "metadata": {
    "slideshow": {
     "slide_type": "fragment"
    }
   },
   "outputs": [
    {
     "data": {
      "image/png": "[encoded data removed]",
      "text/plain": [
       "<Figure size 504x360 with 1 Axes>"
      ]
     },
     "execution_count": 7,
     "metadata": {},
     "output_type": "execute_result"
    }
   ],
   "source": [
    "from qiskit import Aer, execute \n",
    "M_simulator = Aer.get_backend('qasm_simulator')\n",
    "\n",
    "#execute\n",
    "job=execute(qc,backend=M_simulator,shots=4096) # Hacemos la simulación 4096 veces )\n",
    "\n",
    "'otra forma de obtener el \"job\" a partir de run, una función del qasm_simulator'\n",
    "#qcobj = transpile(qc, M_simulator )      # Crea un objeto compilado a partir del circuito  \n",
    "#job = M_simulator.run(qcobj, shots=4096) # Hacemos la simulación 4096 veces \n",
    "\n",
    "#resultado  \n",
    "resultado=job.result()\n",
    "#frecuencias\n",
    "cuentas = resultado.get_counts()        \n",
    "\n",
    "from qiskit.tools.visualization import plot_histogram\n",
    "plot_histogram(cuentas) # Mostramos un histograma de resultados"
   ]
  },
  {
   "cell_type": "markdown",
   "metadata": {
    "slideshow": {
     "slide_type": "slide"
    }
   },
   "source": [
    "Vamos a generar diccionarios con las probabilidades y la amplitudes de cada estado"
   ]
  },
  {
   "cell_type": "code",
   "execution_count": 8,
   "metadata": {
    "slideshow": {
     "slide_type": "fragment"
    }
   },
   "outputs": [
    {
     "name": "stdout",
     "output_type": "stream",
     "text": [
      "probabilidades = {'110': 0.03076171875, '010': 0.197509765625, '000': 0.771728515625}\n",
      "amplitudes = {'110': 0.1753901900050285, '010': 0.4444207079164966, '000': 0.8784807998044123}\n"
     ]
    }
   ],
   "source": [
    "def prob_ampl_dict(cuentas): # frecuencias_dict es un diccionario con la estadística de resultados\n",
    "    \n",
    "    prob_dict=cuentas.copy() # vamos a modificar el diccionario \"cuentas\" con las probabilidades \n",
    "    amp_dict=cuentas.copy()  # y las amplitudes\n",
    "    keys = list(cuentas.keys())\n",
    "    values = list(cuentas.values())\n",
    "    \n",
    "    N=sum(values)\n",
    "    probabilidades = [v/N for v in values] # lista de frecuencias relativas\n",
    " \n",
    "    for i in range(len(keys)):\n",
    "        prob_dict[keys[i]]= probabilidades[i]\n",
    "        amp_dict[keys[i]] = np.sqrt(probabilidades[i]) #las amplitudes, sólo en valor absoluto, las fases no son accesibles\n",
    "    \n",
    "    return  prob_dict, amp_dict\n",
    "\n",
    "prob_dict, amp_dict = prob_ampl_dict(cuentas)\n",
    "\n",
    "print(\"probabilidades =\",prob_dict )\n",
    "print(\"amplitudes =\", amp_dict )"
   ]
  },
  {
   "cell_type": "markdown",
   "metadata": {
    "slideshow": {
     "slide_type": "slide"
    }
   },
   "source": [
    "<a id='basgen'></a>\n",
    "<table width=\"100%\">\n",
    "    <td style=\"font-size:250%px;font-family:Helvetica;text-align:left;background-color:rgba(12, 43, 337, 0.3);\">\n",
    "<b>Medidas en bases generales</b>\n",
    "</table>"
   ]
  },
  {
   "cell_type": "markdown",
   "metadata": {
    "slideshow": {
     "slide_type": "slide"
    }
   },
   "source": [
    "Vamos a suponer que queremos medir en una base ortonormal arbitraria $\\{\\ket{ x}'\\}$, $x=0,...,2^n-1$. Buscamos un circuito que, a la llegada de un vector  concreto de la base $\\ket{x}'=\\ket{a_{n-1}...a_0}'$, devuelva exactamente *la misma colección* de bits  $a_{n-1}...a_0$."
   ]
  },
  {
   "cell_type": "markdown",
   "metadata": {
    "slideshow": {
     "slide_type": "fragment"
    }
   },
   "source": [
    "Vamos a suponer que conocemos el operador unitario que relaciona esta base con la  base computacional  \n",
    "\n",
    "$$\\ket{ x}'= U\\ket{x}~~~~~~\\Longrightarrow ~~~~~~   U^\\dagger\\ket{x}' = \\ket{ x}  \\, .$$\n",
    "\n"
   ]
  },
  {
   "cell_type": "markdown",
   "metadata": {
    "slideshow": {
     "slide_type": "fragment"
    }
   },
   "source": [
    "Entonces es evidente que sólo tenemos que añadir el operador $U^\\dagger$ antes de usar el medidor estándar. \n",
    "\n",
    "\n",
    "<br>\n",
    "<br>\n",
    "\n",
    "<div>\n",
    "<img src=\"images/Multimeter_basis.png\" width=\"50%\" style=\"margin:auto\" />\n",
    "</div>\n",
    "\n"
   ]
  },
  {
   "cell_type": "markdown",
   "metadata": {
    "slideshow": {
     "slide_type": "slide"
    }
   },
   "source": [
    "### Medidas en bases de Pauli"
   ]
  },
  {
   "cell_type": "markdown",
   "metadata": {
    "slideshow": {
     "slide_type": "-"
    }
   },
   "source": [
    "En caso más frecuente consiste en medir diferentes cúbits en diferentes bases de Pauli, $X$, $Y$ ó $Z$."
   ]
  },
  {
   "cell_type": "markdown",
   "metadata": {
    "slideshow": {
     "slide_type": "fragment"
    }
   },
   "source": [
    "En este caso, $U= R_1\\otimes \\ldots \\otimes R_n$ es un producto de rotaciones locales. "
   ]
  },
  {
   "cell_type": "markdown",
   "metadata": {
    "slideshow": {
     "slide_type": "fragment"
    }
   },
   "source": [
    "Esto sigue la misma pauta que se explicó para el caso de un sólo cúbit. Por ejemplo el siguiente circuito mide en la base $Z_0X_1Y_2$\n",
    "<br>\n",
    "<br>\n",
    "<div>\n",
    "<img src=\"images/XYZ_multimeter.png\" width=\"25%\" style=\"margin:auto\"/>\n",
    "</div>\n"
   ]
  },
  {
   "cell_type": "markdown",
   "metadata": {
    "slideshow": {
     "slide_type": "fragment"
    }
   },
   "source": [
    "Sin embargo ahora podemos hacer cambios de base globales $U:\\ket{x}\\to \\ket{x}'$"
   ]
  },
  {
   "cell_type": "markdown",
   "metadata": {
    "slideshow": {
     "slide_type": "slide"
    }
   },
   "source": [
    "### Medida de Bell"
   ]
  },
  {
   "cell_type": "markdown",
   "metadata": {
    "slideshow": {
     "slide_type": "fragment"
    }
   },
   "source": [
    "El circuito \n",
    "\n",
    "<div>\n",
    "<img src=\"images/Bell_basis.png\" width=\"20%\" style=\"margin:auto\"/>\n",
    "</div>\n",
    "\n",
    "<br>\n",
    "\n",
    " genera la <i>base de Bell</i> $\\ket{B_{xy}} = \\ket{xy}'  = U \\ket{xy}$ a partir de la <i>base computacional</i> $\\{\\ket{xy}\\}$ \n",
    " <br>\n",
    "<br>\n",
    "\n",
    "\\begin{array}{rcl}\n",
    "\\ket{B_{00}} &=& \\frac{1}{\\sqrt{2}} \\big( \\ket{00} + \\ket{11} \\big) \\\\\n",
    "\\ket{B_{01}} &=& \\frac{1}{\\sqrt{2}} \\big( \\ket{00} - \\ket{11} \\big) \\\\\n",
    "\\ket{B_{10}} &=& \\frac{1}{\\sqrt{2}} \\big( \\ket{01} + \\ket{10} \\big) \\\\\n",
    "\\ket{B_{11}} &=& \\frac{1}{\\sqrt{2}} \\big( \\ket{01} - \\ket{10} \\big) \\\\\n",
    "\\end{array}\n",
    "\n"
   ]
  },
  {
   "cell_type": "markdown",
   "metadata": {
    "slideshow": {
     "slide_type": "slide"
    }
   },
   "source": [
    "\n",
    "Por tanto, el circuito que efectúa una **medida de Bell**  utiliza la puerta $U^\\dagger$ antes del medidor \n",
    "\n",
    "<br>\n",
    "<br>\n",
    "\n",
    "\n",
    "<div>\n",
    "<img src=\"images/Bell_meter.png\" width=\"35%\" style=\"margin:auto\"/>\n",
    "</div>\n"
   ]
  },
  {
   "cell_type": "code",
   "execution_count": 9,
   "metadata": {
    "slideshow": {
     "slide_type": "fragment"
    }
   },
   "outputs": [],
   "source": [
    "def add_Bell_measurement(qc):  \n",
    "    qc.cx(0,1)\n",
    "    qc.h(0)\n",
    "    qc.measure([0,1],[0,1])"
   ]
  },
  {
   "cell_type": "code",
   "execution_count": 14,
   "metadata": {
    "slideshow": {
     "slide_type": "slide"
    }
   },
   "outputs": [
    {
     "data": {
      "image/png": "[encoded data removed]",
      "text/plain": [
       "<Figure size 447.652x204.68 with 1 Axes>"
      ]
     },
     "execution_count": 14,
     "metadata": {},
     "output_type": "execute_result"
    }
   ],
   "source": [
    "from qiskit import QuantumCircuit\n",
    "\n",
    "# creamos el circuito\n",
    "qc = QuantumCircuit(2,2)\n",
    "\n",
    "# definimos la base de Bell\n",
    "B00 = np.array([1,0,0,1]/np.sqrt(2))\n",
    "B01 = np.array([1,0,0,-1]/np.sqrt(2))\n",
    "B10 = np.array([0,1,1,0]/np.sqrt(2))\n",
    "B11 = np.array([0,1,-1,0]/np.sqrt(2))\n",
    "\n",
    "# inicializamos el estado de entrada en cualquiera de los estados anteriores\n",
    "qc.initialize(B01,[0,1])\n",
    "\n",
    "# añadimos el medidor en la base de Bell\n",
    "add_Bell_measurement(qc)\n",
    "qc.draw('mpl')"
   ]
  },
  {
   "cell_type": "code",
   "execution_count": 15,
   "metadata": {
    "slideshow": {
     "slide_type": "fragment"
    }
   },
   "outputs": [
    {
     "data": {
      "image/png": "[encoded data removed]",
      "text/plain": [
       "<Figure size 504x360 with 1 Axes>"
      ]
     },
     "execution_count": 15,
     "metadata": {},
     "output_type": "execute_result"
    }
   ],
   "source": [
    "from qiskit import Aer, execute\n",
    "\n",
    "M_simulator = Aer.get_backend('qasm_simulator')\n",
    "from qiskit.tools.visualization import plot_histogram\n",
    "\n",
    "result=execute(qc,backend=M_simulator).result()\n",
    "counts=result.get_counts()\n",
    "plot_histogram(counts)"
   ]
  },
  {
   "cell_type": "markdown",
   "metadata": {
    "slideshow": {
     "slide_type": "slide"
    }
   },
   "source": [
    "<a id='valesp'></a>\n",
    "<table width=\"100%\">\n",
    "    <td style=\"font-size:250%px;font-family:Helvetica;text-align:left;background-color:rgba(12, 43, 337, 0.3);\">\n",
    "<b>Valores esperados</b>\n",
    "</table>"
   ]
  },
  {
   "cell_type": "markdown",
   "metadata": {
    "slideshow": {
     "slide_type": "slide"
    }
   },
   "source": [
    "Para calcular el valor esperado de un observable genérico $A\\in {\\rm L}(H^{\\otimes n})$ debemos expandirlo en una base de *cadenas de Pauli*\n",
    "\n",
    "\n",
    "$$\n",
    "A = \\sum_{i_1,...,i_n=0}^3 a_{i_1\\ldots i_n} \\sigma_{i_1}\\otimes \\ldots \\otimes \\sigma_{i_n}\n",
    "$$\n",
    "\n",
    "donde $\\sigma_i = (I,X,Y,Z)$\n"
   ]
  },
  {
   "cell_type": "markdown",
   "metadata": {
    "slideshow": {
     "slide_type": "fragment"
    }
   },
   "source": [
    "Por ejemplo, con $n=4$ \n",
    "$$\n",
    "\\sigma_1\\otimes \\sigma_2\\otimes \\sigma_0 \\otimes \\sigma_3 = XYIZ\n",
    "$$"
   ]
  },
  {
   "cell_type": "markdown",
   "metadata": {
    "slideshow": {
     "slide_type": "fragment"
    }
   },
   "source": [
    "los coeficientes se pueden obtener haciendo las trazas\n",
    "\n",
    "$$\n",
    "a_{i_1\\ldots i_n} =\\frac{1}{2^n} \\tr (A \\,  \\sigma_{i_1}\\otimes \\ldots  \\otimes\\sigma_{i_n})\n",
    "$$\n"
   ]
  },
  {
   "cell_type": "markdown",
   "metadata": {
    "slideshow": {
     "slide_type": "fragment"
    }
   },
   "source": [
    "\n",
    "Por tanto sólo tenemos que averiguar los valores esperados de cadenas de Pauli\n",
    "\n",
    "$$\n",
    "\\langle A \\rangle_{\\psi} =  \\sum_{i_1,...,i_n=0}^3 a_{i_1\\ldots i_n} \\langle \\sigma_{i_1}\\otimes \\ldots   \\otimes\\sigma_{i_n}\\rangle\n",
    "$$"
   ]
  },
  {
   "cell_type": "markdown",
   "metadata": {
    "slideshow": {
     "slide_type": "slide"
    }
   },
   "source": [
    "Veamos cómo calcular el valor esperado del operador\n",
    "\n",
    "$$\n",
    "\\langle Z\\otimes Z\\otimes Z\\rangle_\\Psi  = \\bra{\\Psi}   Z\\otimes Z\\otimes Z \\ket{\\Psi}\n",
    "$$\n",
    "\n",
    "en el siguiente estado\n",
    "\n",
    "$$\n",
    "|\\psi> = \\frac{i}{4}|000>+\\frac{1}{\\sqrt{8}}|001>+\\frac{1+i}{4}|010>+\\frac{1+2i}{\\sqrt{8}}|101>+\\frac{1}{4}|110>\n",
    "$$\n"
   ]
  },
  {
   "cell_type": "markdown",
   "metadata": {
    "slideshow": {
     "slide_type": "fragment"
    }
   },
   "source": [
    "Primero lo inicializamos"
   ]
  },
  {
   "cell_type": "code",
   "execution_count": 16,
   "metadata": {
    "slideshow": {
     "slide_type": "-"
    }
   },
   "outputs": [
    {
     "name": "stdout",
     "output_type": "stream",
     "text": [
      "norma= 1.0000000000000002\n"
     ]
    },
    {
     "data": {
      "text/latex": [
       "$$\\frac{i}{4} |000\\rangle+\\frac{\\sqrt{2}}{4} |001\\rangle+ (\\frac{1}{4} + \\frac{i}{4}) |010\\rangle+ (\\frac{\\sqrt{2}}{4} + \\frac{\\sqrt{2} i}{2}) |101\\rangle+\\frac{1}{4} |110\\rangle$$"
      ],
      "text/plain": [
       "<IPython.core.display.Latex object>"
      ]
     },
     "execution_count": 16,
     "metadata": {},
     "output_type": "execute_result"
    }
   ],
   "source": [
    "from qiskit import *\n",
    "import numpy as np\n",
    "from qiskit.quantum_info import Statevector\n",
    "\n",
    "# inicialicemos un estado de 3 cúbits, es decir 2^3 = 8 componentes \n",
    "import math\n",
    "input_vector = [1/4*1J,1/math.sqrt(8)*(1+0J),1/4*(1+1J),0,0,1/math.sqrt(8)*(1+2J),1/4,0]\n",
    "\n",
    "# que normalizaremos a la unidad si es que no lo está ya\n",
    "input_vector/=np.linalg.norm(input_vector)\n",
    "print('norma=',np.linalg.norm(input_vector))\n",
    "\n",
    "Statevector(input_vector).draw('latex')"
   ]
  },
  {
   "cell_type": "markdown",
   "metadata": {
    "slideshow": {
     "slide_type": "fragment"
    }
   },
   "source": [
    "Dado que $Z\\ket{a} = (-1)^a\\ket{a}$ donde $a=0,1$, entonces tendremos que, sobre un estado $\\ket{abc}$ de la base computacional\n",
    "\n",
    "$$\n",
    "Z\\otimes Z\\otimes Z \\ket{abc} = Z\\ket{a}\\otimes Z\\ket{b}\\otimes Z\\ket{c} = (-1)^{a+b+c}\\ket{abc}\n",
    "$$\n"
   ]
  },
  {
   "cell_type": "markdown",
   "metadata": {
    "slideshow": {
     "slide_type": "slide"
    }
   },
   "source": [
    "entonces el valor esperado  de este operador es\n",
    "\\begin{eqnarray}\n",
    "\\langle Z\\otimes Z\\otimes Z\\rangle_\\Psi &=&\n",
    "\\sum_{a,b,c=0,1} (-1)^{a+b+c} P(a,b,c) \\nonumber\\\\ \\rule{0mm}{10mm}\n",
    "&=& \\sum_{a,b,c=0,1}(-1)^{a+b+c}\\big|\\bra{abc}\\Psi\\rangle\\big|^2 \n",
    "\\end{eqnarray}"
   ]
  },
  {
   "cell_type": "markdown",
   "metadata": {
    "slideshow": {
     "slide_type": "fragment"
    }
   },
   "source": [
    "El circuito que calcula las probabilidades necesarias es el siguiente"
   ]
  },
  {
   "cell_type": "code",
   "execution_count": 17,
   "metadata": {
    "slideshow": {
     "slide_type": "fragment"
    }
   },
   "outputs": [
    {
     "data": {
      "image/png": "[encoded data removed]",
      "text/plain": [
       "<Figure size 654.795x264.88 with 1 Axes>"
      ]
     },
     "execution_count": 17,
     "metadata": {},
     "output_type": "execute_result"
    }
   ],
   "source": [
    "qr = QuantumRegister(3)\n",
    "cr = ClassicalRegister(3)\n",
    "qc = QuantumCircuit(qr,cr)\n",
    "\n",
    "from qiskit.extensions import Initialize\n",
    "\n",
    "'initialize the circuit in the input_vector'\n",
    "qc.initialize(input_vector, qr)\n",
    "qc.draw(output='mpl')\n",
    "qc.measure(qr,cr)\n",
    "qc.draw(output='mpl')"
   ]
  },
  {
   "cell_type": "code",
   "execution_count": 18,
   "metadata": {
    "slideshow": {
     "slide_type": "slide"
    }
   },
   "outputs": [
    {
     "name": "stdout",
     "output_type": "stream",
     "text": [
      "{'101': 614, '010': 134, '110': 68, '000': 66, '001': 118}\n"
     ]
    },
    {
     "data": {
      "image/png": "[encoded data removed]",
      "text/plain": [
       "<Figure size 504x360 with 1 Axes>"
      ]
     },
     "execution_count": 18,
     "metadata": {},
     "output_type": "execute_result"
    }
   ],
   "source": [
    "M_backend = BasicAer.get_backend('qasm_simulator')\n",
    "shots=1000\n",
    "\n",
    "counts= execute(qc,M_backend,shots=shots).result().get_counts()\n",
    "print(counts)\n",
    "\n",
    "from qiskit.tools.visualization import plot_histogram\n",
    "plot_histogram(counts)"
   ]
  },
  {
   "cell_type": "code",
   "execution_count": 19,
   "metadata": {
    "slideshow": {
     "slide_type": "fragment"
    }
   },
   "outputs": [
    {
     "data": {
      "text/plain": [
       "0.4960000000000001"
      ]
     },
     "execution_count": 19,
     "metadata": {},
     "output_type": "execute_result"
    }
   ],
   "source": [
    "mean_ZZZ = 0\n",
    "\n",
    "for bitstring, frec  in counts.items():\n",
    "    mean_ZZZ += (-1)**(sum([int(bit) for bit in bitstring])) * frec/shots  #frecs/shots son las probabilidades = frecuencias relativas'\n",
    "\n",
    "mean_ZZZ"
   ]
  },
  {
   "cell_type": "markdown",
   "metadata": {
    "slideshow": {
     "slide_type": "fragment"
    }
   },
   "source": [
    "<div class='alert alert-block alert-success'>\n",
    "    <b>Ejercicio:</b> \n",
    "calcula el valor esperado de $\\langle X\\otimes Y\\otimes Z\\rangle_\\Psi$    \n",
    "</div>"
   ]
  },
  {
   "cell_type": "markdown",
   "metadata": {
    "slideshow": {
     "slide_type": "fragment"
    }
   },
   "source": [
    "<div class=\"alert alert-block alert-success\">\n",
    " <b>Ejercicio:</b>  considera el hamiltoniano $H=A(X X+Y Y+Z Z)$ siendo $A=1.47\\cdot 10^{-6}eV$. \n",
    " Calcular el valor esperado de la energía $E = \\langle H\\rangle_\\Psi$  en los cuatro estados de Bell\n",
    "$\\ket{\\Psi} = \\ket{B_{ij}}$. \n",
    "<div>\n"
   ]
  },
  {
   "cell_type": "markdown",
   "metadata": {
    "slideshow": {
     "slide_type": "slide"
    }
   },
   "source": [
    "<a id='medmult'></a>\n",
    "<table width=\"100%\">\n",
    "    <td style=\"font-size:250%px;font-family:Helvetica;text-align:left;background-color:rgba(12, 43, 337, 0.3);\">\n",
    "<b>Medidas de Hadamard</b>\n",
    "</table>"
   ]
  },
  {
   "cell_type": "markdown",
   "metadata": {
    "slideshow": {
     "slide_type": "slide"
    }
   },
   "source": [
    "Al final del día, el valor esperado de un operador es un simple número que se obtiene a partir de una distribución aleatoria de valores. \n"
   ]
  },
  {
   "cell_type": "markdown",
   "metadata": {
    "slideshow": {
     "slide_type": "fragment"
    }
   },
   "source": [
    "¿No podríamos diseñar una variable aleatoria cuyo valor medio nos diese ese resultado? \n"
   ]
  },
  {
   "cell_type": "markdown",
   "metadata": {
    "slideshow": {
     "slide_type": "fragment"
    }
   },
   "source": [
    "La medida de Hadamard hace precisamente esto. \n"
   ]
  },
  {
   "cell_type": "markdown",
   "metadata": {
    "slideshow": {
     "slide_type": "fragment"
    }
   },
   "source": [
    "Consideremos el siguiente circuito\n",
    "<br>\n",
    "<br>\n",
    "<div>\n",
    "<img src=\"images/Hadamard_measure.png\" width=\"30%\" style=\"margin:auto\"/>\n",
    "</div>\n"
   ]
  },
  {
   "cell_type": "markdown",
   "metadata": {
    "slideshow": {
     "slide_type": "slide"
    }
   },
   "source": [
    "El aparato de medida sólo registra valores $\\{0,1\\}$ como resultado de las medidas proyectivas sobre $\\ket{\\pm}$\n",
    "\n",
    "El promedio \n",
    "\n",
    "$$\n",
    "p_{0}-p_{1} = \\frac{n_{0}}{N} - \\frac{n_{1}}{N} = \\langle X\\rangle_{ancilla}\n",
    "$$\n",
    "\n",
    "es el valor esperado de $X$ en la ancilla si usamos el aparato $x$. \n",
    "Análogamente, será $\\langle Y\\rangle_{ancilla}$  si usamos el aparato $y$. \n",
    "\n",
    "Vamos a demostrar el siguiente resultado que relaciona este número con el valor esperado de $U$ en el estado $\\ket{\\psi}$\n"
   ]
  },
  {
   "cell_type": "markdown",
   "metadata": {
    "slideshow": {
     "slide_type": "fragment"
    }
   },
   "source": [
    "<div class=\"alert alert-block alert-info\",text-align:center>\n",
    "<p style=\"text-align: left ;color: navy;\">  \n",
    "<b>Teorema:</b>\n",
    "<br>\n",
    "$$\n",
    "\\langle X\\rangle_{ancilla} = {\\rm Re} \\langle U\\rangle_{\\psi} ~~~,~~~ \\langle Y\\rangle_{ancilla} = {\\rm Im} \\langle U\\rangle_{\\psi}\\, \n",
    "$$\n",
    "</div>\n",
    "<br>\n"
   ]
  },
  {
   "cell_type": "markdown",
   "metadata": {
    "slideshow": {
     "slide_type": "slide"
    }
   },
   "source": [
    " Para el caso $X$, el circuito anterior será\n",
    "<br>\n",
    "<br>\n",
    "<div>\n",
    "<img src=\"images/Hadamard_measurea.png\" width=\"35%\" style=\"margin:auto\"/>\n",
    "</div>\n",
    "<br>\n",
    "\n",
    "\n",
    "Un cálculo explícito da que, a la salida, el estado antes de la medida será\n",
    "<br>\n",
    "\n",
    "$$\n",
    "\\ket{0}\\ket{\\psi} ~\\to ~ \\ket{\\Psi} = \\frac{1}{2} \\left[\\rule{0mm}{3mm} |0\\rangle \\otimes (1 + U) |\\psi\\rangle +  |1\\rangle \\otimes (1 - U) |\\psi\\rangle \\right] \\label{hadam}\n",
    "$$\n"
   ]
  },
  {
   "cell_type": "markdown",
   "metadata": {
    "slideshow": {
     "slide_type": "fragment"
    }
   },
   "source": [
    "Si medimos el cúbit ancilla, obtendremos como resultados $\\{0,1\\}$ con probabilidades \n",
    "\n",
    "\\begin{eqnarray} \n",
    " p_{0}  &=&  \\left\\vert \\frac{1}{2}  (1 + U) \\ket{\\psi}  \\right\\vert^{2} = \n",
    " \\frac{1}{4}\\bra{\\psi}(1 + U^\\dagger) (1 + U) \\ket{\\psi} =\\frac{1}{2}(1+\\operatorname{Re}\\langle \\psi|U|\\psi\\rangle) \\nonumber\\\\\n",
    " p_{1}  &=&  \\left\\vert \\frac{1}{2}  (1 - U) \\ket{\\psi}  \\right\\vert^{2}=\n",
    " \\frac{1}{4}\\bra{\\psi}(1 - U^\\dagger) (1 - U) \\ket{\\psi} =\n",
    " \\frac{1}{2}(1-\\operatorname{Re}\\langle \\psi|U|\\psi\\rangle) \\nonumber\n",
    "\\end{eqnarray}\n"
   ]
  },
  {
   "cell_type": "markdown",
   "metadata": {
    "slideshow": {
     "slide_type": "fragment"
    }
   },
   "source": [
    "El número $ p_{0} - p_{1}= (n_0-n_1)/N$ nos informa del valor esperado de $\\langle X\\rangle $ en el estado de la ancilla justo  antes de la barrera. Encontramos el siguiente resultado \n",
    "$$\n",
    "\\langle{X}\\rangle_{ancilla}  =  \\hbox{Re}\\bra{\\psi} U \\ket{\\psi}\n",
    "$$\n"
   ]
  },
  {
   "cell_type": "markdown",
   "metadata": {
    "slideshow": {
     "slide_type": "slide"
    }
   },
   "source": [
    "Supongamos ahora que medimos en la base $Y$, es decir, con el circuito siguiente"
   ]
  },
  {
   "cell_type": "markdown",
   "metadata": {
    "slideshow": {
     "slide_type": "fragment"
    }
   },
   "source": [
    "<br>\n",
    "<br>\n",
    "<div>\n",
    "<img src=\"images/Hadamard_measureb.png\" width=\"40%\" style=\"margin:auto\"/>\n",
    "</div>\n"
   ]
  },
  {
   "cell_type": "markdown",
   "metadata": {
    "slideshow": {
     "slide_type": "fragment"
    }
   },
   "source": [
    "Es decir, $p_{0}-p_{1}$ para el siguiente circuito equivalente "
   ]
  },
  {
   "cell_type": "markdown",
   "metadata": {
    "slideshow": {
     "slide_type": "fragment"
    }
   },
   "source": [
    "<div class=\"alert alert-block alert-success\">\n",
    "    <b>Ejercicio:</b> \n",
    "verificar que la parte imaginaria viene de medir  $\\langle Y\\rangle$ en la ancilla\n",
    "\n",
    "$$\n",
    "\\langle{Y}\\rangle_{ancilla}  =  \\hbox{Im}\\bra{\\psi} U \\ket{\\psi} \\, .\n",
    "$$\n",
    "</div>"
   ]
  },
  {
   "cell_type": "markdown",
   "metadata": {},
   "source": [
    "<div class=\"alert alert-block alert-success\">\n",
    "    <b>Ejercicio:</b> \n",
    "Obtener el valor esperado de $\\langle Z\\otimes Z\\otimes Z\\rangle_\\Psi$ en el estado \n",
    "\n",
    "$$\n",
    "|\\psi> = \\frac{i}{4}|000>+\\frac{1}{\\sqrt{8}}|001>+\\frac{1+i}{4}|010>+\\frac{1+2i}{\\sqrt{8}}|101>+\\frac{1}{4}|110>\n",
    "$$\n",
    "\n",
    "usando el método de Hadamard.\n",
    "</div>"
   ]
  },
  {
   "cell_type": "code",
   "execution_count": null,
   "metadata": {},
   "outputs": [],
   "source": []
  }
 ],
 "metadata": {
  "celltoolbar": "Slideshow",
  "kernelspec": {
   "display_name": "Python 3",
   "language": "python",
   "name": "python3"
  },
  "language_info": {
   "codemirror_mode": {
    "name": "ipython",
    "version": 3
   },
   "file_extension": ".py",
   "mimetype": "text/x-python",
   "name": "python",
   "nbconvert_exporter": "python",
   "pygments_lexer": "ipython3",
   "version": "3.7.10"
  },
  "varInspector": {
   "cols": {
    "lenName": 16,
    "lenType": 16,
    "lenVar": 40
   },
   "kernels_config": {
    "python": {
     "delete_cmd_postfix": "",
     "delete_cmd_prefix": "del ",
     "library": "var_list.py",
     "varRefreshCmd": "print(var_dic_list())"
    },
    "r": {
     "delete_cmd_postfix": ") ",
     "delete_cmd_prefix": "rm(",
     "library": "var_list.r",
     "varRefreshCmd": "cat(var_dic_list()) "
    }
   },
   "types_to_exclude": [
    "module",
    "function",
    "builtin_function_or_method",
    "instance",
    "_Feature"
   ],
   "window_display": false
  }
 },
 "nbformat": 4,
 "nbformat_minor": 4
}
