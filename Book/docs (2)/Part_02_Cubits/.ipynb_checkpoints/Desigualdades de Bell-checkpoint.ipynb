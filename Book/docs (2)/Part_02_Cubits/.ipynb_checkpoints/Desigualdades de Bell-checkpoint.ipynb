{
 "cells": [
  {
   "cell_type": "markdown",
   "id": "b66d3be4",
   "metadata": {},
   "source": [
    "# Desigualdades de Bell"
   ]
  },
  {
   "cell_type": "code",
   "execution_count": 4,
   "id": "e26fd6b0",
   "metadata": {},
   "outputs": [],
   "source": [
    "from qiskit import QuantumCircuit, Aer, execute\n",
    "\n",
    "from math import pi\n",
    "\n",
    "from qiskit.providers.aer import AerSimulator\n",
    "sim=AerSimulator()\n",
    "\n",
    "import matplotlib.pyplot as plt\n",
    "import numpy as np\n"
   ]
  },
  {
   "cell_type": "markdown",
   "id": "b62438ad",
   "metadata": {},
   "source": [
    "Vamos a hacer una lista de ángulos relativos entre los dos polarizadores "
   ]
  },
  {
   "cell_type": "code",
   "execution_count": 5,
   "id": "a59a872e",
   "metadata": {},
   "outputs": [],
   "source": [
    "# Angulos de medida\n",
    "rangephi=[0,2*pi] # Intervalo\n",
    "div=128 # Divisiones\n",
    "valphi=np.linspace(rangephi[0],rangephi[1],div) # Lista de angulos\n",
    "\n",
    "# Lista de correlaciones a calcular\n",
    "C=[0,0,0,0]\n",
    "\n",
    "# Lista de valores de R\n",
    "R=[0]*div\n",
    "\n",
    "# Numero de medidas\n",
    "N=2048\n",
    "\n",
    "for j in range(div):\n",
    "   \n",
    "    # Angulos de medida\n",
    "    phi=valphi[j]\n",
    "    angmed=[[0,phi],[2*phi,phi],[0,0],[2*phi,0]]\n",
    "\n",
    "    for i in range(4):\n",
    "\n",
    "        ang=angmed[i]\n",
    "\n",
    "        qc=QuantumCircuit(2,2)\n",
    "\n",
    "        qc.x(0)\n",
    "        qc.x(1)\n",
    "        qc.h(0)\n",
    "        qc.cx(0,1)\n",
    "        qc.ry(ang[0],0)\n",
    "        qc.ry(ang[1],1)\n",
    "\n",
    "        qc.measure([0,1],[0,1])\n",
    "   \n",
    "        job=sim.run(qc,shots=N)\n",
    "        result=job.result()\n",
    "        counts=result.get_counts()\n",
    "   \n",
    "        if '01' not in counts:\n",
    "            counts['01']=0\n",
    "        if '10' not in counts:\n",
    "            counts['10']=0\n",
    "        if '00' not in counts:\n",
    "            counts['00']=0\n",
    "        if '11' not in counts:\n",
    "            counts['11']=0\n",
    "   \n",
    "        sum=-counts['01']-counts['10']+counts['00']+counts['11']\n",
    "        C[i]=sum/N\n",
    "\n",
    "    R[j]=abs(C[0]+C[1]+C[2]-C[3])\n"
   ]
  },
  {
   "cell_type": "markdown",
   "id": "b3f54d98",
   "metadata": {},
   "source": [
    "Podemos graficarlo y compararlo con el valor analítico"
   ]
  },
  {
   "cell_type": "code",
   "execution_count": 6,
   "id": "c7303e25",
   "metadata": {},
   "outputs": [
    {
     "data": {
      "image/png": "[encoded data removed]",
      "text/plain": [
       "<Figure size 432x288 with 1 Axes>"
      ]
     },
     "metadata": {
      "needs_background": "light"
     },
     "output_type": "display_data"
    }
   ],
   "source": [
    "   \n",
    "fx=abs(2*np.cos(valphi)+1-np.cos(2*valphi))\n",
    "plt.plot(valphi,fx,'k--',linewidth=1)\n",
    "plt.plot(valphi,R,'b')\n",
    "plt.xlabel('\\phi')\n",
    "plt.ylabel('R')\n",
    "plt.show()"
   ]
  },
  {
   "cell_type": "code",
   "execution_count": null,
   "id": "50ae814e",
   "metadata": {},
   "outputs": [],
   "source": []
  }
 ],
 "metadata": {
  "kernelspec": {
   "display_name": "Python 3",
   "language": "python",
   "name": "python3"
  },
  "language_info": {
   "codemirror_mode": {
    "name": "ipython",
    "version": 3
   },
   "file_extension": ".py",
   "mimetype": "text/x-python",
   "name": "python",
   "nbconvert_exporter": "python",
   "pygments_lexer": "ipython3",
   "version": "3.7.10"
  },
  "varInspector": {
   "cols": {
    "lenName": 16,
    "lenType": 16,
    "lenVar": 40
   },
   "kernels_config": {
    "python": {
     "delete_cmd_postfix": "",
     "delete_cmd_prefix": "del ",
     "library": "var_list.py",
     "varRefreshCmd": "print(var_dic_list())"
    },
    "r": {
     "delete_cmd_postfix": ") ",
     "delete_cmd_prefix": "rm(",
     "library": "var_list.r",
     "varRefreshCmd": "cat(var_dic_list()) "
    }
   },
   "types_to_exclude": [
    "module",
    "function",
    "builtin_function_or_method",
    "instance",
    "_Feature"
   ],
   "window_display": false
  }
 },
 "nbformat": 4,
 "nbformat_minor": 5
}
