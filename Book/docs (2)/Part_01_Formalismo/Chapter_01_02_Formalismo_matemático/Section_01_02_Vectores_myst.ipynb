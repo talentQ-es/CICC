{
 "cells": [
  {
   "cell_type": "markdown",
   "id": "da0f67e0",
   "metadata": {
    "editable": true,
    "slideshow": {
     "slide_type": "slide"
    },
    "tags": []
   },
   "source": [
    "> {sub-ref}`today` | {sub-ref}`wordcount-minutes` min read\n",
    "\n",
    "::::{figure} ../../figuras/logos/Logo_TalentQ_Azul.png\n",
    ":width: 150px\n",
    ":align: right\n",
    "::::\n",
    "\n",
    "\n",
    "# Vectores \n",
    "\n",
    "$ \\newcommand{\\bra}[1]{\\langle #1|} $\n",
    "$ \\newcommand{\\ket}[1]{|#1\\rangle} $\n",
    "$ \\newcommand{\\braket}[2]{\\langle #1|#2\\rangle} $\n",
    "$ \\newcommand{\\i}{{\\color{blue} i}} $ \n",
    "$ \\newcommand{\\Hil}{{\\cal H}} $\n",
    "$ \\newcommand{\\Lin}{\\hbox{Lin}} $\n",
    "$ \\newcommand{\\R}{{\\mathbb R}} $\n",
    "$ \\newcommand{\\C}{{\\mathbb C}} $\n",
    "$ \\newcommand{\\V}{{ V}} $\n"
   ]
  },
  {
   "cell_type": "code",
   "execution_count": 2,
   "id": "cdee0489",
   "metadata": {
    "editable": true,
    "slideshow": {
     "slide_type": "-"
    },
    "tags": [
     "hide-input"
    ]
   },
   "outputs": [],
   "source": [
    "%run ../../macro_tQ.py\n",
    "import sys\n",
    "sys.path.append('../../')\n",
    "import macro_tQ as tQ\n",
    "\n",
    "import numpy as np\n",
    "from IPython.display import display,Markdown,Latex\n",
    "from qiskit.tools.visualization import array_to_latex\n",
    "from qiskit.quantum_info import Statevector\n"
   ]
  },
  {
   "cell_type": "markdown",
   "id": "48701357",
   "metadata": {
    "slideshow": {
     "slide_type": "skip"
    }
   },
   "source": [
    "## Espacio Vectorial Complejo"
   ]
  },
  {
   "cell_type": "markdown",
   "id": "0f51488c",
   "metadata": {
    "editable": true,
    "slideshow": {
     "slide_type": "skip"
    },
    "tags": []
   },
   "source": [
    "### Definición\n",
    "\n",
    "De forma poco rigurosa, definiremos un *vector de dimensión* $N$ como una columna de $N$ números complejos \n",
    "\n",
    "\n",
    "$$\n",
    "|u\\rangle = \\begin{pmatrix} {u_1}\\\\ {u_2}\\\\ \\vdots \\\\ {u_N} \n",
    "\\end{pmatrix}\n",
    "$$\n",
    "\n",
    "- El símbolo $\\ket{u}$  *representa* al vector y se denomina *ket* en la *notación de Dirac* \n",
    "\n",
    "\n",
    "- Los números complejos $u_i \\in {\\mathbb C}$ con $\\, i=1,...,N$ se denominan *componentes* del vector $\\ket{u}$ (en una base dada).\n",
    "\n",
    "::::::{card} \n",
    "<b>Definición</b>: </i>Espacio Vectorial</i> \n",
    "\n",
    "^^^\n",
    "    \n",
    "La colección de <i>todos los posibles vectores</i> de $N$ componentes,  con las  propiedades de suma y multiplicación forman un <b>espacio vectorial</b>, $\\V$ de dimension compleja $N$\n",
    "    \n",
    "::::::\n",
    "\n",
    "Es decir,  en un espacio vectorial  tenemos dos operaciones posibles: \n",
    "\n",
    "- Sumar dos vectores\n",
    "\n",
    "$$\n",
    " |u\\rangle + \\ket{v}~ =~\\, \n",
    "\\begin{pmatrix} {u_1}+v_1\\\\ {u_2}+v_2\\\\ \\vdots \\\\ {u_N}+v_n \\end{pmatrix} ~= ~\\ket{w}\n",
    "$$\n",
    "- Multiplicar un vector por número complejo $\\lambda\\in {\\mathbb C}$\n",
    "\n",
    "\n",
    "$$\n",
    " \\lambda|u\\rangle ~ =~   \\begin{pmatrix} {\\lambda u_1}\\\\ {\\lambda u_2}\\\\ \\vdots \\\\ {\\lambda u_N} \\end{pmatrix} ~\\equiv~\\ket{\\lambda u}\n",
    "$$"
   ]
  },
  {
   "cell_type": "markdown",
   "id": "246749e1",
   "metadata": {
    "slideshow": {
     "slide_type": "skip"
    }
   },
   "source": [
    "Todo vector de $V$ se denota mediante el símbolo $\\ket{v}$ menos uno, el *elemento neutro* que se escribe como $0$.\n",
    "\n",
    "La existencia de un <i>elemento opuesto</i> y de un <i>elemento neutro</i> es una de las propiedades que definen un espacio vectorial\n",
    "\n",
    "\\begin{eqnarray*}\n",
    "\\ket{v} + 0 &=& \\ket{v} \\nonumber\\\\\n",
    "\\ket{v} + \\ket{\\hbox{-}v} &=& \\ket{v}-\\ket{v} = 0 \\nonumber\\\\\n",
    "\\end{eqnarray*}"
   ]
  },
  {
   "cell_type": "markdown",
   "id": "2450c65b",
   "metadata": {
    "slideshow": {
     "slide_type": "skip"
    }
   },
   "source": [
    "::::::{admonition} Notar\n",
    ":class: note\n",
    "\n",
    "La palabra <b>dimensión</b>  ${\\rm dim}_{\\mathbb C} \\V = N$ se refiere a la <i>dimensión compleja</i>. Es decir,  se refiere al la cantidad de números complejos <i>independientes</i> que intervienen.     \n",
    "::::::\n"
   ]
  },
  {
   "cell_type": "code",
   "execution_count": 25,
   "id": "d6e8f76a",
   "metadata": {
    "slideshow": {
     "slide_type": "skip"
    }
   },
   "outputs": [
    {
     "data": {
      "text/latex": [
       "$$\n",
       "|u \\rangle =\n",
       "\\begin{bmatrix}\n",
       "1 + i  \\\\\n",
       " 2 - 3 i  \\\\\n",
       " \\end{bmatrix}\n",
       "$$"
      ],
      "text/plain": [
       "<IPython.core.display.Latex object>"
      ]
     },
     "metadata": {},
     "output_type": "display_data"
    },
    {
     "data": {
      "text/latex": [
       "$$(1 + i) |0\\rangle+(2 - 3 i) |1\\rangle$$"
      ],
      "text/plain": [
       "<IPython.core.display.Latex object>"
      ]
     },
     "execution_count": 25,
     "metadata": {},
     "output_type": "execute_result"
    }
   ],
   "source": [
    "'generamos un ket definiendo un array'\n",
    "uket=np.array([[1 + 1.j],[2-3*1.j]])\n",
    " \n",
    "    \n",
    "'qiskit tiene un visualizador para vectores y matrices que es muy bueno'\n",
    "from qiskit.tools.visualization import array_to_latex\n",
    "\n",
    "display(array_to_latex(uket, prefix =  r'|u \\rangle ='))\n",
    "Statevector(uket).draw('latex')"
   ]
  },
  {
   "cell_type": "markdown",
   "id": "0d8812e4",
   "metadata": {
    "slideshow": {
     "slide_type": "skip"
    }
   },
   "source": [
    "### Conjugación adjunta\n",
    "\n",
    "En el capítulo de *Números Complejos* estudiamos la operación de conjugación compleja que asigna a cada número $z = x+iy$ otro $\\bar z = x-iy$ con la parte imaginaria reflejada. \n",
    "\n",
    "\n",
    "La operación *conjugación adjunta*,  $\\dagger$, es una *extensión* de la *conjugación compleja* de ${\\mathbb C}$ a  los elementos  de $\\Hil$\n",
    "\n",
    "Asociado a cada *ket* $\\ket{u}$, definimos un vector **adjunto**, o *bra* $\\bra{u}\\equiv\\left(\\ket{u}\\right)^\\dagger$,  que representamos mediante un vector fila con las componentes conjugadas complejas \n",
    "\n",
    "$$\n",
    "\\dagger \\,: \\quad\\,|u\\rangle = \\begin{pmatrix} {u_1}\\\\ {u_2}\\\\ \\vdots \\\\ {u_N} \n",
    "\\end{pmatrix} ~~~~~{\\rightarrow}~~~~~~ \\left(\\ket{u}\\right)^\\dagger \\equiv \\bra{u} =\\begin{pmatrix} {u_1^*} & {u_2^*} & \\cdots & {u_N^*}\n",
    "\\end{pmatrix}\n",
    "$$\n",
    "\n",
    "Consistentemente encontramos para el producto de un vector por un número complejo $\\lambda$\n",
    "\n",
    "$$\n",
    "\\dagger \\,:\\quad\\,  \\lambda\\ket{u}=\\ket{\\lambda u} ~~~~~{\\rightarrow}~~~~~~ \\left(\\lambda\\ket{u}\\right)^\\dagger=\\lambda^*\\bra{u} = \\bra{u}\\lambda^* = \\bra{\\lambda u}\n",
    "$$\n",
    "\n",
    "ya que el producto de un vector por un número es conmutativo.\n",
    "\n",
    "Al igual que la conjugación compleja, la conjugación adjunta es una *involución*: su aplicación sucesiva devuelve el vector original\n",
    "\n",
    "$$\n",
    "(\\ket{u}^\\dagger)^\\dagger =\\bra{u}^\\dagger =  \\ket{u}\n",
    "$$\n",
    "\n",
    "es decir, $\\dagger^2 = I$, el operador identidad.\n"
   ]
  },
  {
   "cell_type": "code",
   "execution_count": 26,
   "id": "480c365a",
   "metadata": {
    "run_control": {
     "marked": false
    },
    "slideshow": {
     "slide_type": "skip"
    }
   },
   "outputs": [
    {
     "data": {
      "text/latex": [
       "$$\n",
       "|u \\rangle =\n",
       "\\begin{bmatrix}\n",
       "1 + i  \\\\\n",
       " 2 - 3 i  \\\\\n",
       " \\end{bmatrix}\n",
       "$$"
      ],
      "text/plain": [
       "<IPython.core.display.Latex object>"
      ]
     },
     "metadata": {},
     "output_type": "display_data"
    },
    {
     "data": {
      "text/latex": [
       "$$\n",
       "\\langle u| =\n",
       "\\begin{bmatrix}\n",
       "1 - i & 2 + 3 i  \\\\\n",
       " \\end{bmatrix}\n",
       "$$"
      ],
      "text/plain": [
       "<IPython.core.display.Latex object>"
      ]
     },
     "metadata": {},
     "output_type": "display_data"
    }
   ],
   "source": [
    "'definamos un ket'\n",
    "uket=np.array([[1+1j],[2-3*1.j]])\n",
    "display(array_to_latex(uket, prefix =  r'|u \\rangle ='))\n",
    "\n",
    "'el bra asociado será una fila formada por las componentes conjugadas complejas'\n",
    "ubra=uket.conj().T\n",
    "\n",
    "display(array_to_latex(ubra, prefix =  '\\langle u| =') )"
   ]
  },
  {
   "cell_type": "markdown",
   "id": "cfb489a9",
   "metadata": {
    "slideshow": {
     "slide_type": "slide"
    }
   },
   "source": [
    "## Bases"
   ]
  },
  {
   "cell_type": "markdown",
   "id": "e6a1f05e",
   "metadata": {
    "slideshow": {
     "slide_type": "-"
    }
   },
   "source": [
    "::::::{card} \n",
    "<b>Definición</b>:  \n",
    "\n",
    "^^^\n",
    "    \n",
    "En un espacio vectorial $V$ de dimensión $N$ una <b>base</b> es una colección de $N$ vectores  $\\{\\ket{e_1},...,\\ket{e_N}\\}$ tales que, cualquier vector $\\ket{v}\\in V$ se puede expresar como una <i>combinación lineal</i> de ellos\n",
    "\n",
    "\n",
    "$$\n",
    "\\ket{v} = \\sum_{i=1}^N v_i \\ket{e_i}\n",
    "$$  \n",
    "\n",
    "Los coeficientes $v_i$ son las <i>componentes</i> de $\\ket{v}$ <b>en la base dada</b>.\n",
    "::::::\n"
   ]
  },
  {
   "cell_type": "markdown",
   "id": "35b98edc",
   "metadata": {
    "slideshow": {
     "slide_type": "skip"
    }
   },
   "source": [
    "Existen *infinitas bases* en un espacio vectorial. Podemos escoger *una de ellas* y asociarle el siguiente conjunto de columnas\n",
    "\n",
    "\n",
    "\n",
    "$$\n",
    "|e_1\\rangle \\sim \\begin{pmatrix} 1 \\\\ 0 \\\\ 0\\\\ \\vdots \n",
    "\\\\ 0 \\\\ 0 \\end{pmatrix}~~~~\n",
    "|e_2\\rangle \\sim \\begin{pmatrix} 0 \\\\ 1 \\\\ 0\\\\ \\vdots \n",
    "\\\\ 0 \\\\ 0 \\end{pmatrix}~~~~~~~~~\n",
    "\\cdots ~~~~~~~~\n",
    "|e_{N-1}\\rangle \\sim \\begin{pmatrix} 0 \\\\ 0 \\\\ 0\\\\\\vdots \n",
    "\\\\ 1 \\\\ 0 \\end{pmatrix}~~~~\n",
    "|e_N\\rangle \\sim \\begin{pmatrix} 0 \\\\ 0 \\\\0\\\\ \\vdots \n",
    "\\\\ 0 \\\\ 1 \\end{pmatrix}\n",
    "$$\n",
    "\n"
   ]
  },
  {
   "cell_type": "markdown",
   "id": "97993616",
   "metadata": {
    "slideshow": {
     "slide_type": "skip"
    }
   },
   "source": [
    "Cualquier vector, escrito como una combinación lineal de sus elementos adquiere la representación usual\n",
    "\n",
    "\n",
    "$$\n",
    "|u\\rangle ~=~ {u_1} |e_1 \\rangle + {u_2} | e_2\\rangle +... + {u_{ N}}|e_{ N}\\rangle~=~ \\sum_{i=1}^N {u_ i} |e_i\\rangle \\,\\sim\n",
    "$$\n",
    "\n",
    "\n",
    "\n",
    "$$\n",
    "\\sim~ {u_1} \\begin{pmatrix} 1 \\\\ 0 \\\\ 0\\\\ \\vdots \n",
    "\\\\ 0 \\\\ 0 \\end{pmatrix} \\,+\\,{u_2} \\begin{pmatrix} 0 \\\\ 1 \\\\ 0\\\\ \\vdots \\\\ 0 \\\\ 0 \\end{pmatrix}~+~ ... ~+ ~\n",
    "{u_{N-1}} \\begin{pmatrix} 0 \\\\ 0 \\\\ 0\\\\\\vdots \n",
    "\\\\ 1 \\\\ 0 \\end{pmatrix}+ \n",
    "\\,{u_N}\\,  \\begin{pmatrix} 0 \\\\ 0 \\\\0\\\\ \\vdots \n",
    "\\\\ 0 \\\\ 1 \\end{pmatrix}~~~= ~~~\n",
    "  \\begin{pmatrix} {u_1} \\\\ {u_2} \\\\{u_3}\\\\ \\vdots \n",
    "\\\\ \\,{u_{N-1}}\\, \\\\ {u_{N}} \\end{pmatrix}\n",
    "$$\n",
    "\n",
    ""
   ]
  },
  {
   "cell_type": "markdown",
   "id": "45808943",
   "metadata": {
    "slideshow": {
     "slide_type": "skip"
    }
   },
   "source": [
    "Podemos usar la clase **Statevector** de *qiskit* para tener una expansión en la base $\\{\\ket{e_i}=\\ket{b(i)}\\}$, donde $b(i)$ es la representación binaria del índice $i$. Por ejemplo $b(3) = 11$."
   ]
  },
  {
   "cell_type": "code",
   "execution_count": 27,
   "id": "a68ad21a",
   "metadata": {
    "slideshow": {
     "slide_type": "skip"
    }
   },
   "outputs": [
    {
     "data": {
      "text/latex": [
       "$$\n",
       "\n",
       "\\begin{bmatrix}\n",
       "1 + i  \\\\\n",
       " 2 - 3 i  \\\\\n",
       " 2 + 2 i  \\\\\n",
       " -1 - i  \\\\\n",
       " \\end{bmatrix}\n",
       "$$"
      ],
      "text/plain": [
       "<IPython.core.display.Latex object>"
      ]
     },
     "metadata": {},
     "output_type": "display_data"
    },
    {
     "data": {
      "text/latex": [
       "$$(1 + i) |00\\rangle+(2 - 3 i) |01\\rangle+(2 + 2 i) |10\\rangle+(-1 - i) |11\\rangle$$"
      ],
      "text/plain": [
       "<IPython.core.display.Latex object>"
      ]
     },
     "execution_count": 27,
     "metadata": {},
     "output_type": "execute_result"
    }
   ],
   "source": [
    "from qiskit.quantum_info import Statevector\n",
    "uket=np.array([[ 1.+1.j], [ 2.-3.j],[ 2.+2.j],[-1.-1.j]])\n",
    "display(array_to_latex(uket))\n",
    "\n",
    "Statevector(uket).draw('latex')"
   ]
  },
  {
   "cell_type": "markdown",
   "id": "32f1236f",
   "metadata": {
    "slideshow": {
     "slide_type": "slide"
    }
   },
   "source": [
    "## Espacio de Hilbert\n",
    "\n",
    "\n",
    "Vamos a definir una nueva operación que involucra a parejas de vectores\n",
    "\n",
    "\n",
    "### Producto Escalar\n",
    "::::::{card} \n",
    "<b>Definición</b>:  \n",
    "\n",
    "^^^\n",
    "El <i>producto escalar</i> de dos vectores $\\ket{u}$ y $\\ket{v}$ es un <i>número complejo</i> \n",
    "$a\\in{\\mathbb C}$    \n",
    "que denotamos <i>braket</i>\n",
    "\n",
    "\n",
    "$$a \\equiv \\braket{u}{v} $$\n",
    "si verifica las propiedades siguientes:\n",
    "\n",
    "\n",
    "$~~~$- linealidad: $\\to \\bra{u}\\big(\\ket{v}+\\ket{w}\\big) = \\braket{u}{v} + \\braket{u}{w}$\n",
    "\n",
    "$~~~$- hermiticidad: $\\to \\braket{v}{u} = \\braket{u}{v}^*$\n",
    "\n",
    "$~~~$- positividad: $\\braket{u}{u} >0$ para todo ket $\\ket{u}\\neq 0$\n",
    "\n",
    "$~~~$- no-degeneración: $~$ si  $\\braket{u}{v} = 0$ para todo $\\bra{u}$, entonces necesariamente $\\ket{v}=0$\n",
    "::::::\n"
   ]
  },
  {
   "cell_type": "markdown",
   "id": "76abd973",
   "metadata": {},
   "source": [
    "Esta operación convierte a un espacio vectorial en una estructura matemática mucho más interesante, un *espacio de Hilbert* \n",
    "\n",
    "::::::{card} \n",
    "<b>Definición</b>:  \n",
    "\n",
    "^^^\n",
    "un <i> espacio de Hilbert</i>,  ${\\Hil}$, es un espacio vectorial\n",
    "dotado de una operación interna   denominada <i>producto escalar</i>.\n",
    "::::::\n",
    "\n",
    "Combinando ambas propiedades, el producto escalar también es lineal en el primer argumento\n",
    "\n",
    "$$(\\bra{u}+\\bra{w})\\ket{v} = \\braket{u}{v} + \\braket{w}{v}$$\n",
    "\n",
    "\n",
    "Observar la propiedad  de hermiticidad. Es consistente con la  conjugación *adjunta*\n",
    "\n",
    "$$\n",
    "\\braket{u}{v}^* = \\braket{u}{v}^\\dagger  = \\braket{v}{u}\n",
    "$$\n",
    "\n",
    "Hemos usado que $\\bra{u}^\\dagger = \\ket{u}$ y  $\\ket{v}^\\dagger = \\bra{v}$ pero le hemos añadido una regla más: \n",
    "*al tomar el mapa adjunto es necesario invertir el orden de los elementos*.\n",
    " De no haber seguido esta regla, habríamos obtenido un resultado **erróneo**\n",
    " \n",
    " $$\n",
    "\\braket{u}{v}^\\dagger \\to \\ket{u}\\bra{v} \n",
    " $$\n",
    " \n",
    "que no es ni siguiera un número complejo. "
   ]
  },
  {
   "cell_type": "markdown",
   "id": "84705ed8",
   "metadata": {
    "slideshow": {
     "slide_type": "slide"
    }
   },
   "source": [
    "<a id='norm'></a>\n",
    "### Norma\n",
    "\n",
    "Una **norma** es un una función real $\\|\\cdot\\| : \\Lin(\\Hil) \\to {\\mathbb R}$ con las siguientes propiedades \n",
    "\n",
    "\n",
    "- ser definida positiva $\\|A\\|\\geq 0$ con $\\| A\\| = 0 \\Leftrightarrow A= 0$\n",
    "\n",
    "\n",
    "- homogeneidad $\\|\\lambda A\\| = |\\lambda| \\|A\\|$ \n",
    "\n",
    "\n",
    "- triangle inequality. $\\|A+B\\| \\leq \\| A\\| + \\|B\\|$\n"
   ]
  },
  {
   "cell_type": "markdown",
   "id": "d1124fcb",
   "metadata": {
    "slideshow": {
     "slide_type": "slide"
    }
   },
   "source": [
    "Un espacio de Hilbert es, automáticamente un espacio normado. \n",
    "La positividad  del producto escalar de un vector por sí mismo  permite definir su *norma*.\n",
    "\n",
    "\n",
    "$$\n",
    "\\|\\ket{v}\\| = \\sqrt{\\braket{v}{v}} \n",
    "$$\n",
    ""
   ]
  },
  {
   "cell_type": "markdown",
   "id": "8a1551bd",
   "metadata": {
    "slideshow": {
     "slide_type": "skip"
    }
   },
   "source": [
    "::::::{admonition} Notar\n",
    ":class: note\n",
    "\n",
    "el <i>único vector</i> que tiene norma nula en un espacio de Hilbert es el elemento neutro\n",
    "\n",
    "$$\n",
    "\\braket{v}{v} = 0 ~~~ \\Leftrightarrow ~~~\\ket{v} = 0\n",
    "$$\n",
    "  \n",
    "::::::\n"
   ]
  },
  {
   "cell_type": "markdown",
   "id": "3753bd06",
   "metadata": {
    "slideshow": {
     "slide_type": "fragment"
    }
   },
   "source": [
    "### Distancia"
   ]
  },
  {
   "cell_type": "markdown",
   "id": "fc1d97a2",
   "metadata": {
    "slideshow": {
     "slide_type": "-"
    }
   },
   "source": [
    "Dados dos elementos $\\ket{u}$ y $\\ket{v}$ de $\\Hil$, podemos definir la *distancia* entre ellos como la *norma de su diferencia* \n",
    "\n",
    "\n",
    "$$\n",
    "d(\\rule{0mm}{5mm}\\ket{v},\\ket{w}) = \\| \\ket{v}-\\ket{w}\\|\n",
    "$$"
   ]
  },
  {
   "cell_type": "markdown",
   "id": "ffe89557",
   "metadata": {
    "slideshow": {
     "slide_type": "skip"
    }
   },
   "source": [
    "En particular tenemos las dos propiedades siguientess\n",
    "\n",
    "-  $d(\\ket{v}, \\ket{w}) = d(\\ket{w}, \\ket{v})$ \n",
    "\n",
    "\n",
    "- $d(\\ket{v}, \\ket{v}) = 0$"
   ]
  },
  {
   "cell_type": "markdown",
   "id": "2a2f1459",
   "metadata": {
    "slideshow": {
     "slide_type": "slide"
    }
   },
   "source": [
    "## Base ortonormales"
   ]
  },
  {
   "cell_type": "markdown",
   "id": "2de04ee2",
   "metadata": {
    "slideshow": {
     "slide_type": "skip"
    }
   },
   "source": [
    "Hasta ahora, a los vectores de una base $\\{\\ket{e_i}\\}$ sólo se les ha pedido que sean $N$ vectores *linealmente independientes*, donde $N$ es la dimensión del espacio vectorial $\\V$. Sólo de esta manera podemos garantizar que *cualquier* vector puede desarrollarse en la forma\n",
    "$$\n",
    "\\ket{v} = \\sum_{i=1}^N v_i \\ket{e_i}\n",
    "$$\n",
    "\n",
    "Ahora que tenemos un producto escalar  tiene sentido calcular el de dos elementos cualesquiera. Estos números complejos pueden acomodarse en una matriz $C_{ij}= \\braket{e_i}{e_j}$ que será propia de cada base. Hay una especialmente importante en la que $C_{ij} = \\delta_{ij}$ es la matriz identidad"
   ]
  },
  {
   "cell_type": "markdown",
   "id": "ed9185c0",
   "metadata": {
    "slideshow": {
     "slide_type": "-"
    }
   },
   "source": [
    "::::::{card} \n",
    "<b>Definición</b>:  \n",
    "\n",
    "^^^\n",
    "Una base ortornormal se caracteriza por la siguiente lista de productos escalares\n",
    "\n",
    "\n",
    "$$\n",
    "\\braket{e_i}{e_j} = \\delta_{ij}\n",
    "$$\n",
    "::::::\n",
    "\n"
   ]
  },
  {
   "cell_type": "markdown",
   "id": "78c04284",
   "metadata": {
    "slideshow": {
     "slide_type": "skip"
    }
   },
   "source": [
    "\n",
    "\n",
    "Es decir,  por un lado, dos elementos distintos de la base son ortogonales $\\braket{e_1}{e_2} = 0$. \n",
    "\n",
    "Por otro, todos están normalizados  $ \\| e_i \\| = \\sqrt{\\braket{e_1}{e_1}} = \\sqrt{1} = 1$. \n"
   ]
  },
  {
   "cell_type": "markdown",
   "id": "91670624",
   "metadata": {
    "slideshow": {
     "slide_type": "skip"
    }
   },
   "source": [
    "En este curso siempre supondremos que las bases con las que trabajamos son ortonormales. Ello no supone ninguna restricción, como afirma el siguiente teorema\n",
    "\n",
    "::::::{card} \n",
    "<b>Teorema</b>: </i>Teorema de Gram-Schmidt</i> \n",
    "\n",
    "^^^\n",
    "    \n",
    "Dada una base general $\\{\\braket{f_i}{f_j}\\neq \\delta_{ij}\\}$ de vectores no ortonormales, existe una procedimiento iterativo (de <a href=\"https://en.wikipedia.org/wiki/Gram%E2%80%93Schmidt_process\">Gram-Schmidt</a> ) para construir, a partir de ella, una nueva base ortonormal $\\{\\braket{e_i}{e_j}\\}=\\delta_{ij}$.\n",
    "::::::\n",
    "\n"
   ]
  },
  {
   "cell_type": "markdown",
   "id": "3c81d317",
   "metadata": {
    "slideshow": {
     "slide_type": "fragment"
    }
   },
   "source": [
    "Trabajar en bases ortonormales simplifica mucho el álgebra. Por ejemplo dado un vector  $\\ket{v} = \\sum_{i=1}^N v_i \\ket{e_i}$ escrito en una base ortonormal, la *componente* $v_i$ se extrae mediante la *proyección ortogonal*\n",
    "\n",
    "$$\n",
    "\\boxed{\n",
    "v_i =\\braket{e_i}{v}}\n",
    "$$"
   ]
  },
  {
   "cell_type": "markdown",
   "id": "f4e790a6",
   "metadata": {
    "slideshow": {
     "slide_type": "skip"
    }
   },
   "source": [
    "::::::{admonition} Ejercicio\n",
    ":class: tip\n",
    "\n",
    "\n",
    "Verifica esta expresión\n",
    "::::::\n",
    ":::{dropdown} Solución\n",
    "\\begin{eqnarray}\n",
    "\\braket{e_k}{v} &=&  \\bra{e_k}\\left(\\sum_{j=1}^N v_j\\ket{e_j}\\right) \\nonumber\\\\\n",
    "                &=&  \\sum_{j=1}^N  v_j\\braket{e_k}{e_j}  \\nonumber\\\\\n",
    "                &=&  \\sum_{j=1}^N  v_j\\delta_{kj} = v_k\n",
    "\\end{eqnarray}\n",
    ":::\n"
   ]
  },
  {
   "cell_type": "markdown",
   "id": "d25e7f46",
   "metadata": {
    "slideshow": {
     "slide_type": "slide"
    }
   },
   "source": [
    "En una base ortonormal, calcular el valor de un *producto escalar* $a=\\braket{u}{v}$ es muy simple "
   ]
  },
  {
   "cell_type": "markdown",
   "id": "ba438378",
   "metadata": {
    "slideshow": {
     "slide_type": "fragment"
    }
   },
   "source": [
    "$$\n",
    "\\begin{eqnarray*}\n",
    "a = \n",
    "\\braket{u}{v}&=& \\left(\\sum_{i}u_i^*\\bra{e_i}\\right)\\left(\\sum_{j}v_j\\ket{e_j} \\right) = \n",
    "\\sum_{ij} u_i^* v_j  \\braket{e_i}{e_j}\n",
    "=\n",
    "\\sum_{ij} u_i^* v_j \\delta_{ij} \n",
    "\\\\\n",
    "&=&\\sum_{i} u_i^* v_i =\n",
    "  \\begin{pmatrix}\n",
    "{u_1^*} & {u_2^*} & \\cdots & {u_N^*}\n",
    "\\end{pmatrix}\\begin{pmatrix} {v_1}\\\\ {v_2}\\\\ \\vdots \\\\ {v_N} \n",
    "\\end{pmatrix}\n",
    "\\end{eqnarray*}\n",
    "$$\n",
    "\n",
    ""
   ]
  },
  {
   "cell_type": "markdown",
   "id": "1a47a6f2",
   "metadata": {
    "slideshow": {
     "slide_type": "skip"
    }
   },
   "source": [
    "::::::{admonition} Notar\n",
    ":class: note\n",
    "\n",
    "\n",
    "La expresión de la izquierda  $a = \\braket{u}{v}$ <b>no hace referencia a ninguna base</b>. Por tanto, el resultado $\\sum_{i=1}^n{ u_i^* v_i} $ debe ser independiente de la base que utilizamos para representar estos vectores mediante sus componentes $u_i$ y $v_i$. \n",
    "    \n",
    "Subrayamos la importancia de esto: $\\braket{u}{v}$ puede ser calculado en la base más conveniente.\n",
    "::::::\n"
   ]
  },
  {
   "cell_type": "markdown",
   "id": "56d12083",
   "metadata": {
    "slideshow": {
     "slide_type": "skip"
    }
   },
   "source": [
    "::::::{admonition} Ejercicio (Explícaselo a tu ordenador) \n",
    ":class: tip\n",
    "\n",
    "\n",
    "\n",
    "- Escribe una función $braket(u,v)$ que calcule y devuelva la el producto escalar $\\braket{u}{v}$, y, con ella, una función $norm(u)$ que calcule la norma $\\| \\ket{u}\\|$.\n",
    "Verifica que $\\| \\ket{u}\\| = \\sqrt{\\braket{u}{u}}$ coincide con el resultado que da la función $np.linalg.norm$.\n",
    "\n",
    "- Escribe una función $random\\_ket$ que genere un vector normalizado  $\\ket{v}\\in\\Hil$ de dimensión $d$.\n",
    "        \n",
    "::::::\n"
   ]
  }
 ],
 "metadata": {
  "celltoolbar": "Tags",
  "kernelspec": {
   "display_name": "Python 3 (ipykernel)",
   "language": "python",
   "name": "python3"
  },
  "language_info": {
   "codemirror_mode": {
    "name": "ipython",
    "version": 3
   },
   "file_extension": ".py",
   "mimetype": "text/x-python",
   "name": "python",
   "nbconvert_exporter": "python",
   "pygments_lexer": "ipython3",
   "version": "3.11.7"
  },
  "toc": {
   "base_numbering": 1,
   "nav_menu": {},
   "number_sections": true,
   "sideBar": true,
   "skip_h1_title": true,
   "title_cell": "Table of Contents",
   "title_sidebar": "Contents",
   "toc_cell": false,
   "toc_position": {
    "height": "calc(100% - 180px)",
    "left": "10px",
    "top": "150px",
    "width": "364.343px"
   },
   "toc_section_display": true,
   "toc_window_display": false
  },
  "varInspector": {
   "cols": {
    "lenName": 16,
    "lenType": 16,
    "lenVar": 40
   },
   "kernels_config": {
    "python": {
     "delete_cmd_postfix": "",
     "delete_cmd_prefix": "del ",
     "library": "var_list.py",
     "varRefreshCmd": "print(var_dic_list())"
    },
    "r": {
     "delete_cmd_postfix": ") ",
     "delete_cmd_prefix": "rm(",
     "library": "var_list.r",
     "varRefreshCmd": "cat(var_dic_list()) "
    }
   },
   "types_to_exclude": [
    "module",
    "function",
    "builtin_function_or_method",
    "instance",
    "_Feature"
   ],
   "window_display": false
  }
 },
 "nbformat": 4,
 "nbformat_minor": 5
}
