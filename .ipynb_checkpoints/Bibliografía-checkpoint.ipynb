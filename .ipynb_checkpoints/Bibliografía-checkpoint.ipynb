{
 "cells": [
  {
   "cell_type": "markdown",
   "id": "09abcf08",
   "metadata": {},
   "source": [
    "\n",
    "# Bibliografía \n",
    "\n",
    "$ \\newcommand{\\bra}[1]{\\langle #1|} $\n",
    "$ \\newcommand{\\ket}[1]{|#1\\rangle} $\n",
    "$ \\newcommand{\\braket}[2]{\\langle #1|#2\\rangle} $\n",
    "$ \\newcommand{\\i}{{\\color{blue} i}} $ \n",
    "$ \\newcommand{\\Hil}{{\\cal H}} $\n",
    "$ \\newcommand{\\R}{{\\mathbb R}} $\n",
    "$ \\newcommand{\\C}{{\\mathbb C}} $\n",
    "$ \\newcommand{\\V}{{ V}} $"
   ]
  },
  {
   "cell_type": "markdown",
   "id": "af06c08c",
   "metadata": {},
   "source": [
    "# Elementos de Mecánica Cuántica\n",
    "<a id='fund'></a>\n",
    "\n",
    "### Formalismo matemático\n",
    "\n",
    "- Claude Cohen-Tannoudkji  and Bernard Diu, *Quantum Mechanics*, Wiley-VCH, Vol I, capítulo II\n",
    "\n",
    "- Michel Le Bellac, *Quantum Physics*,  Cambridge Univ. Press, capítulo 2\n",
    "\n",
    "\n",
    "###  Mecánica Cuántica\n",
    "\n",
    "- Claude Cohen-Tannoudkji  and Bernard Diu, *Quantum Mechanics*, Vol I, capítulos I y III\n",
    "\n",
    "- Michel Le Bellac, *Quantum Physics*,  Cambridge Univ. Press, capítulos 1, 3 y 4.\n",
    "\n",
    "- M. Fayngold y V. Fayngold, *Quantum Mechanics and Quantum Information*, Wiley-VCH, 1982, capítulos 1-6\n",
    "\n",
    "\n"
   ]
  },
  {
   "cell_type": "markdown",
   "id": "1f061d92",
   "metadata": {},
   "source": [
    "# Información Cuántica\n",
    "\n",
    "Básicos\n",
    "\n",
    "   -  R. Vathsan, *Introduction to Quantum Physics and Information Processing*, CRC Press. \n",
    "   -  G. Benenti, G. Casati y G. Strini, *Principles of Quantum Computation and Information*,  World Scientific, \n",
    "   - B. Schumacher y M Westmoreland, *Quantum Processes, Systems & Information*, Cambridge\n",
    "\n",
    "\n",
    "Avanzados \n",
    "\n",
    "- Michael A. Nielsen and Isaac L. Chuang, *Quantum Computation and Quantum Information*, Cambridge. \n",
    "\n",
    "- \n",
    "\n",
    "-  J. Audretsch, *Entangled Systems*, Wiley-VCH. \n",
    "\n",
    "- Ivan D. Djordjevic, *Quantum Information Processing, Quantum Computing and Quantum Error Correction. An Engineegin Approach*, Academic Press\n",
    "\n",
    "- Sandor Imre, *Advanced Quantum Communications*, IEEE Wiley."
   ]
  },
  {
   "cell_type": "code",
   "execution_count": null,
   "id": "703ec027",
   "metadata": {},
   "outputs": [],
   "source": []
  }
 ],
 "metadata": {
  "kernelspec": {
   "display_name": "Python 3 (ipykernel)",
   "language": "python",
   "name": "python3"
  },
  "language_info": {
   "codemirror_mode": {
    "name": "ipython",
    "version": 3
   },
   "file_extension": ".py",
   "mimetype": "text/x-python",
   "name": "python",
   "nbconvert_exporter": "python",
   "pygments_lexer": "ipython3",
   "version": "3.9.12"
  },
  "toc": {
   "base_numbering": "",
   "nav_menu": {},
   "number_sections": false,
   "sideBar": true,
   "skip_h1_title": false,
   "title_cell": "Table of Contents",
   "title_sidebar": "Contents",
   "toc_cell": false,
   "toc_position": {},
   "toc_section_display": true,
   "toc_window_display": true
  },
  "varInspector": {
   "cols": {
    "lenName": 16,
    "lenType": 16,
    "lenVar": 40
   },
   "kernels_config": {
    "python": {
     "delete_cmd_postfix": "",
     "delete_cmd_prefix": "del ",
     "library": "var_list.py",
     "varRefreshCmd": "print(var_dic_list())"
    },
    "r": {
     "delete_cmd_postfix": ") ",
     "delete_cmd_prefix": "rm(",
     "library": "var_list.r",
     "varRefreshCmd": "cat(var_dic_list()) "
    }
   },
   "types_to_exclude": [
    "module",
    "function",
    "builtin_function_or_method",
    "instance",
    "_Feature"
   ],
   "window_display": false
  }
 },
 "nbformat": 4,
 "nbformat_minor": 5
}
