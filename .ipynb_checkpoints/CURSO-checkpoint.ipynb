{
 "cells": [
  {
   "cell_type": "markdown",
   "metadata": {},
   "source": [
    "\n",
    "<img align=\"center\" src=\"https://quantumspain-project.es/wp-content/uploads/2022/11/Logo_QS_EspanaDigital.png\" width=\"800px\"/>\n",
    "<figure>\n",
    "<a id='fig_ref'></a>\n",
    "<img src=\"./Notebooks/figuras/logos/Logo_TalentQ_Azul.png\" align=center width='300px'/>\n",
    "</figure>\n",
    "<br>\n",
    "<br>\n",
    "\n",
    "\n",
    "\n",
    "<table width=\"100%\"><td style=\" font_style:italic; font-size:50px;text-align:center;background-color:rgba(0, 220, 170,0.7)\">\n",
    "<div>\n",
    "Introducción a la Información Cuántica\n",
    "</div>\n",
    "</td></table>\n",
    "\n",
    "\n",
    "\n",
    "\n",
    "Marzo 2024\n",
    "\n",
    "Autores:\n",
    "* Javier Mas \n",
    "* David Castaño ([Scbi-UMA](https://www.scbi.uma.es/site/))\n",
    "\n",
    "\n",
    "<br>\n",
    "<br>\n",
    "\n",
    "<a rel=\"license\" href=\"http://creativecommons.org/licenses/by-sa/4.0/\"><img aling=\"left\" alt=\"Licencia Creative Commons\" style=\"border-width:0\" src=\"https://i.creativecommons.org/l/by-sa/4.0/88x31.png\" /></a><br />Licencia: <a rel=\"license\" href=\"http://creativecommons.org/licenses/by-sa/4.0/\">Licencia Creative Commons Atribución-CompartirIgual 4.0 Internacional</a>.\n",
    "\n",
    "$ \\newcommand{\\bra}[1]{\\langle #1|} $\n",
    "$ \\newcommand{\\ket}[1]{|#1\\rangle} $\n",
    "$ \\newcommand{\\braket}[2]{\\langle #1|#2\\rangle} $\n",
    "$ \\newcommand{\\i}{{\\color{blue} i}} $ \n",
    "$ \\newcommand{\\Hil}{{\\cal H}} $ \n",
    "$ \\newcommand{\\Lin}{\\hbox{Lin}} $\n",
    "\n",
    "\n"
   ]
  },
  {
   "cell_type": "markdown",
   "metadata": {
    "slideshow": {
     "slide_type": "slide"
    },
    "tags": []
   },
   "source": [
    "\n",
    "### [Prólogo e Instrucciones](./Notebooks/Part_00_Intro/Chapter_00_Prólogo.ipynb)\n",
    "\n",
    "\n",
    "## Las reglas del juego \n",
    "\n",
    "\n",
    "\n",
    "- ###  [Números *sin* complejos](./Notebooks/Part_01_Formalismo/Chapter_01_02_Formalismo_matemático/Section_01_01_Numeros_Complejos.ipynb)      \n",
    "- ###  [Vectores](./Notebooks/Part_01_Formalismo/Chapter_01_02_Formalismo_matemático/Section_01_02_Vectores.ipynb)     \n",
    "- ###  [Operadores](./Notebooks/Part_01_Formalismo/Chapter_01_02_Formalismo_matemático/Section_01_03_Operadores.ipynb)    \n",
    "- ###  [Tensores](./Notebooks/Part_01_Formalismo/Chapter_01_02_Formalismo_matemático/Section_01_04_Tensores.ipynb)     \n",
    "- ###  [Probabilidades *para todas las edades*](./Notebooks/Part_01_Formalismo/Chapter_01_02_Formalismo_matemático/Section_01_05_Probabilidades.ipynb)    \n",
    "\n",
    "\n",
    "- ###  [Fundamentos de  Mecánica Cuántica](./Notebooks/Part_01_Formalismo/Chapter_02_01_Fundamentos_MC.ipynb)  \n"
   ]
  },
  {
   "cell_type": "markdown",
   "metadata": {
    "slideshow": {
     "slide_type": "slide"
    }
   },
   "source": [
    "## De Cúbits\n",
    "\n",
    "- ###  [El cúbit](./Notebooks/Part_02_Cubits/Chapter_01_02_Circuitos_1_cubit/Section_021_Cubits.ipynb)  \n",
    "- ###  [El arte de medir I](./Notebooks/Part_02_Cubits/Chapter_01_02_Circuitos_1_cubit/Section_024_El_Arte_de_Medir_I.ipynb)  \n",
    "- ###  [Multi-cúbits](./Notebooks/Part_02_Cubits/Chapter_02_02_Circuitos_multicubit/Section_025_Multicubits.ipynb)   \n",
    "- ###  [El arte de medir II](./Notebooks/Part_02_Cubits/Chapter_02_02_Circuitos_multicubit/Section_026_El_Arte_de_Medir_II.ipynb) \n",
    "- ###  [Entrelazamiento en acción](./Notebooks/Part_02_Cubits/Chapter_02_02_Circuitos_multicubit/Section_027_Entrelazamiento.ipynb)\n",
    "\n",
    "\n",
    "\n",
    "## Circuitos    \n",
    "\n",
    "- ###  [Circuitería cuántica elemental](./Notebooks/Part_02_Cubits/Chapter_03_02_Mas_sobre_Circuitos/Section_031_Elementos_Basicos.ipynb) \n",
    "- ###  [Circuitos cuánticos para computación clásica](./Notebooks/Part_02_Cubits/Chapter_03_02_Mas_sobre_Circuitos/Section_032_CompClasica.ipynb) \n",
    "\n",
    "\n",
    "## Algoritmos Básicos\n",
    "    \n",
    "\n",
    "- ###  [Algoritmos de oráculo](04_Algoritmos/041_Alg_Oraculo.ipynb) \n",
    "- ###  [Transformada de Fourier cuántica](04_Algoritmos/042_QFT.ipynb)\n",
    "- ###  [Estimación de fase cuántica y aplicaciones](04_Algoritmos/043_QPE.ipynb)\n",
    "- ###  [Algoritmos de búsqueda](04_Algoritmos/044_Grover.ipynb)\n",
    "\n",
    "\n"
   ]
  },
  {
   "cell_type": "code",
   "execution_count": null,
   "metadata": {},
   "outputs": [],
   "source": []
  }
 ],
 "metadata": {
  "celltoolbar": "Slideshow",
  "kernelspec": {
   "display_name": "Python 3 (ipykernel)",
   "language": "python",
   "name": "python3"
  },
  "language_info": {
   "codemirror_mode": {
    "name": "ipython",
    "version": 3
   },
   "file_extension": ".py",
   "mimetype": "text/x-python",
   "name": "python",
   "nbconvert_exporter": "python",
   "pygments_lexer": "ipython3",
   "version": "3.9.12"
  },
  "nbTranslate": {
   "displayLangs": [
    "*"
   ],
   "hotkey": "alt-t",
   "langInMainMenu": true,
   "sourceLang": "en",
   "targetLang": "fr",
   "useGoogleTranslate": true
  },
  "toc": {
   "base_numbering": 1,
   "nav_menu": {},
   "number_sections": true,
   "sideBar": true,
   "skip_h1_title": true,
   "title_cell": "Table of Contents",
   "title_sidebar": "Contents",
   "toc_cell": false,
   "toc_position": {},
   "toc_section_display": true,
   "toc_window_display": false
  },
  "varInspector": {
   "cols": {
    "lenName": 16,
    "lenType": 16,
    "lenVar": 40
   },
   "kernels_config": {
    "python": {
     "delete_cmd_postfix": "",
     "delete_cmd_prefix": "del ",
     "library": "var_list.py",
     "varRefreshCmd": "print(var_dic_list())"
    },
    "r": {
     "delete_cmd_postfix": ") ",
     "delete_cmd_prefix": "rm(",
     "library": "var_list.r",
     "varRefreshCmd": "cat(var_dic_list()) "
    }
   },
   "types_to_exclude": [
    "module",
    "function",
    "builtin_function_or_method",
    "instance",
    "_Feature"
   ],
   "window_display": false
  }
 },
 "nbformat": 4,
 "nbformat_minor": 4
}
