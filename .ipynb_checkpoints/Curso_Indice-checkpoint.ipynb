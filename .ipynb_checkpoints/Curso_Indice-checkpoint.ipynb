{
 "cells": [
  {
   "cell_type": "code",
   "execution_count": 1,
   "id": "36a8a667",
   "metadata": {},
   "outputs": [
    {
     "data": {
      "text/markdown": [
       "# Introducción a la Computación Cuántica\n",
       "## Índice\n",
       "\n",
       "- **[ ](./Notebooks/Part_00_Intro)**\n",
       "\n",
       "    - **[Prólogo e Instrucciones](./Notebooks/Part_00_Intro/Chapter_00_Prólogo_myst.ipynb)**\n",
       "\n",
       "- **[ Las Reglas del Juego](./Notebooks/Part_01_Formalismo)**\n",
       "\n",
       "    - **[No te mates con la Mates](./Notebooks/Part_01_Formalismo/Chapter_01_01_formalismo_matematico_myst.md)**\n",
       "        - **[Números complejos *sin complejos*](./Notebooks/Part_01_Formalismo/Chapter_01_02_Formalismo_matemático/Section_01_01_Numeros_Complejos_myst.ipynb)**\n",
       "        - **[Vectores ](./Notebooks/Part_01_Formalismo/Chapter_01_02_Formalismo_matemático/Section_01_02_Vectores_myst.ipynb)**\n",
       "        - **[Operadores](./Notebooks/Part_01_Formalismo/Chapter_01_02_Formalismo_matemático/Section_01_03_Operadores_myst.ipynb)**\n",
       "        - **[Tensores *sin dolores*](./Notebooks/Part_01_Formalismo/Chapter_01_02_Formalismo_matemático/Section_01_04_Tensores_myst.ipynb)**\n",
       "        - **[Teoría de probabilidades *para todas las edades*](./Notebooks/Part_01_Formalismo/Chapter_01_02_Formalismo_matemático/Section_01_05_Probabilidades_myst.ipynb)**\n",
       "\n",
       "    - **[Fundamentos de Mecánica Cuántica ](./Notebooks/Part_01_Formalismo/Chapter_02_01_Fundamentos_MC_myst.ipynb)**\n",
       "\n",
       "- **[ De Cúbits y sus Cosas](./Notebooks/Part_02_Cubits)**\n",
       "\n",
       "    - **[El cúbit](./Notebooks/Part_02_Cubits/Chapter_01_01_Circuitos_1_cubit_myst.md)**\n",
       "        - **[Circuitos de un cúbit](./Notebooks/Part_02_Cubits/Chapter_01_02_Circuitos_1_cubit/Section_021_Cubits_myst.ipynb)**\n",
       "        - **[El arte de medir I](./Notebooks/Part_02_Cubits/Chapter_01_02_Circuitos_1_cubit/Section_024_El_Arte_de_Medir_I_myst.ipynb)**\n",
       "\n",
       "    - **[Muchos cúbits juntos](./Notebooks/Part_02_Cubits/Chapter_02_01_Circuitos_multicubit_myst.md)**\n",
       "        - **[Multi-cúbits](./Notebooks/Part_02_Cubits/Chapter_02_02_Circuitos_multicubit/Section_025_Multicubits_myst.ipynb)**\n",
       "        - **[El arte de medir II](./Notebooks/Part_02_Cubits/Chapter_02_02_Circuitos_multicubit/Section_026_El_Arte_de_Medir_II_myst.ipynb)**\n",
       "        - **[Entrelazamiento en acción](./Notebooks/Part_02_Cubits/Chapter_02_02_Circuitos_multicubit/Section_027_Entrelazamiento_myst.ipynb)**\n",
       "\n",
       "    - **[Más cosas sobre circuitos](./Notebooks/Part_02_Cubits/Chapter_03_01_Mas_sobre_circuitos_myst.md)**\n",
       "        - **[Circuitería cuántica elemental ](./Notebooks/Part_02_Cubits/Chapter_03_02_Mas_sobre_Circuitos/Section_031_Elementos_Basicos_myst.ipynb)**\n",
       "        - **[Circuitos para computación clásica ](./Notebooks/Part_02_Cubits/Chapter_03_02_Mas_sobre_Circuitos/Section_032_CompClasica_myst.ipynb)**\n"
      ],
      "text/plain": [
       "<IPython.core.display.Markdown object>"
      ]
     },
     "metadata": {},
     "output_type": "display_data"
    }
   ],
   "source": [
    "from IPython.display import Markdown, display\n",
    "\n",
    "display(Markdown(\"README.md\"))"
   ]
  }
 ],
 "metadata": {
  "kernelspec": {
   "display_name": "Python 3 (ipykernel)",
   "language": "python",
   "name": "python3"
  },
  "language_info": {
   "codemirror_mode": {
    "name": "ipython",
    "version": 3
   },
   "file_extension": ".py",
   "mimetype": "text/x-python",
   "name": "python",
   "nbconvert_exporter": "python",
   "pygments_lexer": "ipython3",
   "version": "3.11.7"
  },
  "toc": {
   "base_numbering": 1,
   "nav_menu": {},
   "number_sections": false,
   "sideBar": true,
   "skip_h1_title": true,
   "title_cell": "Table of Contents",
   "title_sidebar": "Contents",
   "toc_cell": false,
   "toc_position": {},
   "toc_section_display": true,
   "toc_window_display": false
  }
 },
 "nbformat": 4,
 "nbformat_minor": 5
}
