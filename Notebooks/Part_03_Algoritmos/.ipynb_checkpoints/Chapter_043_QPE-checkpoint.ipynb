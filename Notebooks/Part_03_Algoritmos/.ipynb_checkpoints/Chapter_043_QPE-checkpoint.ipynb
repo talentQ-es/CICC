{
 "cells": [
  {
   "cell_type": "markdown",
   "metadata": {
    "slideshow": {
     "slide_type": "slide"
    }
   },
   "source": [
    "<figure><right>\n",
    "<img   src=\"../figuras/logos/Logo_TalentQ_Azul.png\" align=right  width=\"150px\"/>\n",
    "</right></figure>\n",
    "\n",
    "# Estimación de fase y aplicaciones\n",
    "\n",
    "\n",
    "\n",
    "$ \\newcommand{\\bra}[1]{\\langle #1|} $\n",
    "$ \\newcommand{\\ket}[1]{|#1\\rangle} $\n",
    "$ \\newcommand{\\braket}[2]{\\langle #1|#2\\rangle} $\n",
    "$ \\newcommand{\\i}{{\\color{blue} i}} $ \n",
    "$ \\newcommand{\\Hil}{{\\cal H}} $\n",
    "$ \\newcommand{\\cg}[1]{{\\rm C}#1} $\n",
    "$ \\newcommand{\\det}{{\\rm det}}$\n"
   ]
  },
  {
   "cell_type": "code",
   "execution_count": 25,
   "metadata": {
    "slideshow": {
     "slide_type": "slide"
    },
    "tags": [
     "hide-input"
    ]
   },
   "outputs": [],
   "source": [
    "%run ../macro_tQ.py\n",
    "import sys\n",
    "sys.path.append('../')\n",
    "import macro_tQ as tQ\n"
   ]
  },
  {
   "cell_type": "markdown",
   "metadata": {
    "slideshow": {
     "slide_type": "slide"
    }
   },
   "source": [
    "## Estimación Cuántica de Fase\n",
    "\n",
    "Cuando se construya un computador cuántico capaz de realizar una Transformada de Fourier Cuántica, una de las aplicaciones más frecuentes será la *Estimación Cuántica de Fase*. Veamos cómo funciona."
   ]
  },
  {
   "cell_type": "markdown",
   "metadata": {
    "slideshow": {
     "slide_type": "slide"
    }
   },
   "source": [
    " Sea $U$ un operador unitario y  $\\ket{u}$ un autovector del espacio de Hilbert $\\Hil$ de dimensión $n$. \n",
    "\n",
    "<div class=\"alert alert-block alert-info\",text-align:center>\n",
    "<p style=\"text-align: left ;color: navy;\">  \n",
    "<b> Lema</b>: \n",
    " por ser unitario, su autovalor es una fase compleja    \n",
    "<br> \n",
    "$$\n",
    "U \\ket{u} = e^{2\\pi i\\varphi} \\ket{u}\n",
    "$$\n",
    "</p>\n",
    "</div>´\n",
    "\n",
    "<details><summary> >> <i>Demostración</i> </summary>\n",
    "    \n",
    "Una forma rápida de demostrar esto es analizar el determinante de la matriz $U$ asociada al operdor. El determinante del producto de dos matrices  tiene una propiedad importantísima, y es que factoriza\n",
    "\n",
    "$$\n",
    "\\det \\, (A B) = (\\det A) (\\det B)\n",
    "$$\n",
    "\n",
    "De esta propiedad se deduce, como ya se vio en el capítulo de operadores, que el determinante de un operador es independiente de la base (lo mismo le pasaba a la traza).  También se deduce que el determinante de un operador unitario es una fase. Por un lado tenemos que \n",
    "\n",
    "$$\n",
    "\\det (U U^\\dagger) = (\\det U)(\\det U^{*t}) = (\\det U)(\\det U)^* = |\\det U|^2\n",
    "$$\n",
    "Por otro\n",
    "\n",
    "$$    \n",
    "\\det (U U^\\dagger) = \\det (U U^{-1}) = \\det I = 1\n",
    "$$\n",
    " \n",
    "Es decir, el módulo de $\\det U$ es igual a 1, y por tanto $\\det U = e^{i\\varphi}$, una fase. En la base en la que $U$ es diagonal, esta fase es el producto de  los elementos de la diagonal. Por tanto, todos los autovaleres deben ser fases\n",
    "    \n",
    "$$\n",
    "e^{i\\varphi} = e^{i(\\lambda_1 + \\lambda_2 +...+\\lambda_n)}\n",
    "$$\n",
    "s>\n",
    "</details>"
   ]
  },
  {
   "cell_type": "markdown",
   "metadata": {
    "slideshow": {
     "slide_type": "fragment"
    }
   },
   "source": [
    "\n",
    "$\\Rightarrow~$ **Promesa**: *podemos preparar* el autoestado  $\\ket{u}$ y aplicar el operador $U$ <u>tantas veces como sea necesario</u> \n",
    "\n",
    "\n",
    "$\\Rightarrow~$ **Problema**:  calcular  la <u>*mejor aproximación posible*</u> a $\\varphi$. "
   ]
  },
  {
   "cell_type": "markdown",
   "metadata": {
    "slideshow": {
     "slide_type": "skip"
    }
   },
   "source": [
    "<div class=\"alert alert-block alert-danger\">\n",
    "<b> Notar: </b> \n",
    "<br>   \n",
    "Los autovalores  $\\lambda = e^{i2\\pi \\varphi}=e^{i2\\pi (\\varphi+n)}$  son iguales, para cualquier $n\\in {\\mathbb Z}$ entero. Por tanto, será suficiente considerar valores de $\\varphi$ en el intervalo\n",
    "\n",
    "$$\\varphi \\in [0,1)$$\n",
    "    \n",
    "para generar <i>todos</i> los  posibles autovalores $\\lambda$ distintos\n",
    "</div> \n",
    " \n",
    " "
   ]
  },
  {
   "cell_type": "markdown",
   "metadata": {
    "slideshow": {
     "slide_type": "-"
    }
   },
   "source": [
    "El circuito  QPE (\"Quantum Phase Estimation\") viene representado en la figura,  donde el primer registro tiene dimensión $t$ y la entrada es el estado $\\ket{0}_t\\otimes \\ket{u}$.  \n",
    "\n",
    "- $t$ es la dimensión del primer registro, o *registro de contaje*.  Su valor controlará **la precisión de nuestra aproximación** a $\\varphi$. \n",
    "\n",
    "\n",
    "-  $n$ es la dimensión del espacio $\\Hil$ al que pertenece  el vector $\\ket{u}$, sobre el que actúa $U$.\n",
    "\n",
    "\n",
    "<br>\n",
    "<figure>\n",
    "<img src=\"./figuras/QPE.png\" align=center width='500px'/>\n",
    "<center></center>\n",
    "</figure>\n",
    "<br>\n",
    "\n",
    "Si el primer registro tiene $t$ cúbits $\\{\\ket{y}\\}$ con $y \\in S_t = 0,1,... 2^t-1$ el estado que genera el circuito justo antes de la transformada de Fourier es el siguiente\n",
    "\n",
    "\\begin{eqnarray*}\n",
    "\\ket{0}_t \\otimes \\ket{u} ~ &\\stackrel{H^{\\otimes t}}{\\longrightarrow} & ({H^{\\otimes t}} \\ket{0}_t)\\otimes \\ket{u}\n",
    " =  \\frac{1}{2^{t/2}}  \\sum_{y_0...y_{t-1}=0,1}\\ket{y_{t-1}}...\\ket{y_0}\\otimes \\ket{u}\n",
    "\\\\   \\rule{0mm}{10mm}\n",
    " &\\stackrel{\\prod_{i=0}^{t-1} \\cg{U}^{2^i}}{\\longrightarrow} & \\frac{1}{2^{t/2}} \\sum_{y_0...y_{t-1}=0,1}\\ket{y_{t-1}}...\\ket{y_0}\\otimes U^{y_{t-1}2^{t- 1}}...U^{y_0 2^{0}} \\ket{u} \\\\  \\rule{0mm}{10mm}\n",
    " && =   \\frac{1}{2^{t/2}} \\sum_{y\\in S_t} \\ket{y} \\,  U^{y_{t-1}2^{t-1}+ \\ldots +y_0 2^0}\\ket{u}  \\\\\n",
    " && = \\,  \\frac{1}{2^{t/2}}  \\sum_{y\\in S_t} \\ket{y} \\,  U^y\\ket{u} \\rule{0mm}{10mm}\n",
    "\\end{eqnarray*}"
   ]
  },
  {
   "cell_type": "markdown",
   "metadata": {
    "slideshow": {
     "slide_type": "fragment"
    }
   },
   "source": [
    "Ahora viene **la clave**: cuando $\\ket{u}$ es un <i>autoestado</i>  de $U$, <u>se produce un <i>retroceso de fase</i> </u>\n",
    "<br>\n",
    "<br>\n",
    "\\begin{eqnarray*}\n",
    " \\frac{1}{2^{t/2}} \\sum_{y\\in S_t} \\ket{y} U^{y}\\ket{u}  &~= ~&  \\frac{1}{2^{t/2}} \\sum_{y\\in S_t} \\ket{y} \\otimes e^{2\\pi i \\varphi y}  \\ket{u}  =  \\frac{1}{2^{t/2}} \\sum_{y\\in S_t}e^{2\\pi i \\varphi y}  \\ket{y} \\otimes   \\ket{u}   \\\\ \\rule{0mm}{12mm}\n",
    " &~\\equiv ~&   \\frac{1}{2^{t/2}} \\sum_{y\\in S_t} e^{2\\pi i (2^t \\varphi)  y/2^t} \\ket{y}\\otimes \\ket{u}  \\label{fase1}  \n",
    "\\end{eqnarray*}\n",
    "\n",
    "Como de costumbre, el segundo registro ya ha realizado su labor y podemos medirlo o ignorarlo (es una ancilla). De modo que nos vamos a concentrar en el *registro de contaje*, de $t$ cúbits. Para completar el circuito sólo nos faltaría aplicar la transformada de Fourier inversa. Antes de hacerlo vamos a notar que $2^t\\varphi$ es, en general, un número real. Vamos a escribirlos separando la *parte entera* $a$, de la *mantisa* $\\delta$\n",
    "\n",
    "$$\n",
    "2^t \\varphi  =a + \\delta\n",
    "$$\n"
   ]
  },
  {
   "cell_type": "markdown",
   "metadata": {
    "slideshow": {
     "slide_type": "fragment"
    }
   },
   "source": [
    "<div class=\"alert alert-block alert-warning\">\n",
    "<b> Ejemplo: </b> \n",
    "<br>\n",
    "Supongamos que la fase que queremos hallar sea: $\\varphi = 0.4375 \\in [0,1) $.  Entonces\n",
    "<br>\n",
    "    \n",
    "- $ 2^2 \\varphi = 1.75 \\Rightarrow a=1~,~\\delta = 0.75$ \n",
    "- $ 2^3 \\varphi = 3.5~ \\Rightarrow a=3~,~\\delta = 0.5$ \n",
    "- $ 2^4 \\varphi = 7  ~~~ \\Rightarrow a=7~,~\\delta = 0$\n",
    "    \n",
    "Cuando $t=4$ obtenemos un número entero.    En realidad  ya lo habíamos cocinado así  $0.4375 = 7 / 2^{4}$.\n",
    "Pero si $\\varphi$ es *irracional* no existirá ningún $t$ para el cuál $2^t\\varphi$ no tenga mantisa.   \n",
    "</div>"
   ]
  },
  {
   "cell_type": "markdown",
   "metadata": {
    "slideshow": {
     "slide_type": "fragment"
    }
   },
   "source": [
    "Ahora aplicamos la TFC inversa, que es igual a la adjunta,  al primer registro \n",
    "\n",
    "\\begin{eqnarray*}\n",
    "U^\\dagger_{TFC} \\frac{1}{\\sqrt{2^t}} \\sum_{y=0}^{2^t-1} e^{2\\pi i  \\, (a + \\delta) y/2^t} \\ket{y} \n",
    "&~~\\stackrel{\\hbox{linealidad}}{=} ~~&\\frac{1}{\\sqrt{2^t}} \\sum_{y=0}^{2^t-1} e^{2\\pi i  \\, (a + \\delta) y/2^t} U^\\dagger_{TFC} \\ket{y}\n",
    "\\\\ \\rule{0mm}{10mm}\n",
    "~&=&~ \\frac{1}{\\sqrt{2^t}}   \\sum_{y=0}^{2^t-1}  e^{2\\pi i (a + \\delta) y/2^t}\\frac{1}{\\sqrt{2^t}}\\left( \\sum_{x=0}^{2^t-1}e^{-2\\pi i  yx/2^t}\\ket{x} \\right)   \\\\ \\rule{0mm}{10mm}\n",
    "~&=&~ \\frac{1}{2^{t}} \\sum_{x=0}^{2^t-1} \\sum_{y=0}^{2^t-1}  e^{2\\pi i (a + \\delta  -x) y/2^t} \\ket{x}  \\\\\n",
    "\\rule{0mm}{8mm}\n",
    "&~ \\equiv ~ & \\ket{\\Phi}\n",
    "\\end{eqnarray*}\n",
    "\n",
    "$\\ket{\\Phi}$ es el *estado final en el registro de contaje*. Vamos a analizar su composición, separando dos casos posibles para $\\varphi$."
   ]
  },
  {
   "cell_type": "markdown",
   "metadata": {
    "slideshow": {
     "slide_type": "slide"
    }
   },
   "source": [
    "- Supongamos que  <u>$\\underline{\\delta = 0}$</u>. Es decir, que $2^t\\varphi$ sea un entero $a\\in S_t = \\{0, \\ldots, 2^t-1\\}$.\n",
    "\n",
    "Entonces el resultado\n",
    "sería  <b>exactamente</b> $\\ket{\\Phi} = \\ket{a} = \\ket{2^t\\varphi}$ \n",
    "<br>\n",
    "<br>\n",
    "\\begin{eqnarray*}\n",
    "\\ket{\\Phi} &=&  \\sum_{x=0}^{2^t-1} \\frac{1}{2^{t}}  \\left(\\sum_{y=0}^{2^t-1}  e^{2\\pi i (a-x) y/2^t} \\right)\\ket{x}  \\\\  \\rule{0mm}{10mm}\n",
    "&=&  \\sum_{x=0}^{2^t-1}  \\frac{1}{2^{t}} \\left(2^t \\delta_{x,a} \\right)\\ket{x}\\\\ \\rule{0mm}{8mm}\n",
    "&=& \\ket{a}\n",
    "\\end{eqnarray*}\n",
    "\n",
    "Midiendo el primer registro obtendríamos, **con probabilidad 1**, el registro binario del número $a\\in[0, 2^t-1]$ \n",
    "\n",
    "Escribiendo $a$ en base decimal, y normalizando por $2^t$, recuperaríamos la *fase* buscada **de forma exacta**\n",
    "\n",
    "$$\n",
    " \\varphi = \\frac{a}{2^t}  \\in [0,1)\n",
    "$$ \n",
    " \n"
   ]
  },
  {
   "cell_type": "markdown",
   "metadata": {
    "slideshow": {
     "slide_type": "slide"
    }
   },
   "source": [
    "- Supongamos ahora que  $\\underline{\\delta \\neq 0}.~$ Es decir,  $2^t\\varphi$ **no** es un entero. \n",
    "\n",
    "En este caso la transformada de Fourier inversa no produce un único estado, sino una superposición  \n",
    "\n",
    "\n",
    "$$\n",
    "\\ket{\\Phi} =  \\sum_{x=0}^{2^t-1} \\left( \\frac{1}{2^{t}}\\sum_{y=0}^{2^t-1}  e^{2\\pi i (a + \\delta  -x) y/2^t} \\right) \\ket{x}  \n",
    "= \\sum_{x=0}^{2^t-1} f(x) \\ket{x}\n",
    "$$\n",
    "<br>\n",
    "\n",
    "Las amplitudes $f(x)$ están evaluadas con $x\\in S_t$ números enteros. Pero la expresión es valida para cualquier número real $x\\in {\\mathbb R}$.\n",
    "\n",
    "\n",
    "Una medida dará el registro binario de *un número entero* $x \\in [0,2^t-1)$ con distribución de probabilidad $p(x) = |f(x)|^2$ centrada en $a=[2^t\\varphi]$. \n",
    "\n",
    "Por tanto, con una sucesión de tiradas podríamos reconstruir la distribución de probabilidad, y su media sería el valor buscado de $2^t\\delta$.\n"
   ]
  },
  {
   "cell_type": "markdown",
   "metadata": {
    "slideshow": {
     "slide_type": "slide"
    }
   },
   "source": [
    "### Distribución de medidas\n",
    "\n",
    "Para una mantisa fija, $\\delta \\Rightarrow  \\phi = a+\\delta$ las distintas medidas del estado resultante $\\ket{x}$ se distribuirán en el torno a un *valor central* $\\ket{a} = \\ket{[2^t\\varphi]} $.\n",
    "\n",
    " Escribiendo $\\ket{x}=\\ket{a+l}$  podemos obtener la *distribución de probabilidad* $p(x) = p(\\delta, l)$ de medir $\\ket{x}=\\ket{a+l}$\n",
    "<br>\n",
    "<br>\n",
    "\n",
    "\\begin{eqnarray*}\n",
    "p(\\delta, l) ~~&=&~~ \\left\\vert \\,  \\bra{a+ l} \\,  \\frac{1}{2^{t}}\\sum_{x=0}^{2^t-1}   \\sum_{y=0}^{2^t-1}  e^{2\\pi i (\\delta + a -x) y/2^t} \\ket{x}  \\,  \\right\\vert^2  ~~ \\stackrel{x= a + l}{=} ~~\n",
    "  \\frac{1}{2^{2t}} \\left\\vert \\,  \\sum_{y=0}^{2^t-1} \\left(e^{2\\pi i (\\delta-l) /2^t}\\right)^y \\,  \\right\\vert^2 \n",
    "\\\\ \\rule{0mm}{10mm}\n",
    "&=& ~~  \\frac{1}{2^{2t}} \\left\\vert\\,  \\frac{1- e^{2\\pi i  \\,  (\\delta-l) }}{1- e^{2\\pi i (\\delta-l)/2^t}} \\, \\right\\vert^2   ~= ~ \n",
    "\\frac{1}{2^{2t}} \\left\\vert \\, \\frac{\\sin \\pi   (\\delta-l)}{\\sin (\\pi(\\delta-l)/2^t)} \\, \\right\\vert^2 \\,  \\\\\n",
    "\\end{eqnarray*}\n",
    "\n",
    "Vamos a graficar esta función para distintos valores de $l$ a distintos valores de $\\delta$\n",
    "<figure><center>\n",
    "<img src=\"./figuras/xprobeigenvalues.png\" align=center width='400px'/>\n",
    "</center></figure>\n",
    "\n",
    "Vemos que, efectivamente, hasta $\\delta \\leq 0.5$, la probabilidad está *picada* en $l=0$ es decir en $x=a$. Para $\\delta >0.5$, está picada en $l=1$.\n"
   ]
  },
  {
   "cell_type": "markdown",
   "metadata": {
    "slideshow": {
     "slide_type": "slide"
    }
   },
   "source": [
    "En cualqier caso, la probabilidad nunca es menor de 0.405 en su máximo.\n",
    "\n",
    "$$\n",
    "\\frac{1}{2^{2t}} \\left\\vert \\, \\frac{\\sin \\pi   (\\delta-l)}{\\sin (\\pi(\\delta-l)/2^t)} \\, \\right\\vert^2 \\,  \n",
    " = \n",
    "   \\frac{1}{2^{2t}} \\left(\\frac{2 (\\delta-l)}{\\pi(\\delta-l)/2^t }\\right)^2 = \\left(\\frac{2}{\\pi}\\right)^2 \\sim 0.405\n",
    "$$\n",
    "\n",
    "donde hemos usado que   $\\pi x\\geq \\sin(\\pi x) \\geq 2 x$ para $x\\in [ 0,\\pi/2 ]$.\n"
   ]
  },
  {
   "cell_type": "markdown",
   "metadata": {
    "slideshow": {
     "slide_type": "skip"
    }
   },
   "source": [
    "A $l = 0$ fijo, la probabilidad de encontrar $m=a+0=a$ es 1 cuando $\\delta=0$ y decrece con $\\delta$. \n",
    "<br>\n",
    "<br>\n",
    "<figure><center>\n",
    "<img src=\"./figuras/xmaxprobeigen.png\" align=center width='400px'/>\n",
    "</center></figure>\n",
    "<br>\n",
    "<br>\n",
    "Cuando $l=1$ la probabilidad máxima corresponde al número $m=a+1$.\n"
   ]
  },
  {
   "cell_type": "markdown",
   "metadata": {
    "slideshow": {
     "slide_type": "slide"
    }
   },
   "source": [
    "La **anchura $t$ del circuito auxiliar** determina la anchura de la curva de probabilidad en torno al valor medio.\n",
    "\n",
    "Ello permite acotar la aproximación al valor real de la fase buscada según el siguiente teorema  (ver Nielsen p. 224)"
   ]
  },
  {
   "cell_type": "markdown",
   "metadata": {
    "slideshow": {
     "slide_type": "fragment"
    }
   },
   "source": [
    "<div class=\"alert alert-block alert-info\">\n",
    "<p style=\"text-align: center;\"> <p style=\"text-align: left ;color: navy;\">  \n",
    "<b>Teorema:</b> \n",
    "<br>    \n",
    "El algoritmo QPE (Quantum Phase Estimation) es capaz de producir ua <i>estimación $m$ de orden $k$</i>  para la fase $\\varphi$ (en el sentido de que  $|\\varphi- m/2^t |<2^{-k}$) con una  probabilidad $1-\\epsilon$,  tomando una dimensión del espacio de representación\n",
    "<br>\n",
    "<br>\n",
    "$$\n",
    "t \\geq k  + \\left[ \\log\\left(1 + \\frac{1}{2\\epsilon}\\right) \\right] \\label{tedeene}\n",
    "$$\n",
    "</div>"
   ]
  },
  {
   "cell_type": "markdown",
   "metadata": {
    "slideshow": {
     "slide_type": "slide"
    }
   },
   "source": [
    "### Ejemplo\n",
    "\n",
    "Vamos a estudiar esta distribución analizando el operador unitario de fase\n",
    "<br>\n",
    "<br>\n",
    "\n",
    "$$\n",
    "U =  \\begin{bmatrix} e^{2\\pi i \\phi_0} & 0 \\\\ 0 & e^{2\\pi i\\phi_1}\\end{bmatrix} \n",
    "$$\n",
    "<br>\n",
    "\n",
    "que tiene por autoestados  $\\ket{0}$ y $\\ket{1}$ con autovalores $e^{2\\pi\\phi_0}$ y $e^{2\\pi \\phi_1}$ respectivamente. \n",
    "\n",
    "Para programar el oráculo que implementa este operador notamos que \n",
    "<br>\n",
    "<br>\n",
    "\n",
    "$$\n",
    "U =  \n",
    "\\begin{bmatrix} e^{2\\pi \\phi_0} & 0 \\\\ 0 & e^{-2\\pi i\\phi_0}\\end{bmatrix}\n",
    "\\begin{bmatrix} 1 & 0 \\\\ 0 & e^{2\\pi i(\\phi_0+\\phi_1)}\\end{bmatrix} = \n",
    "R_z(\\theta = -4\\pi \\phi_0) \\cdot P(\\theta = 2\\pi (\\phi_1+\\phi_0))\n",
    "$$\n",
    "<br>\n",
    "\n",
    "El circuito requiere la versión *controlada* $\\cg U^k$ de potencias de este operador"
   ]
  },
  {
   "cell_type": "code",
   "execution_count": 26,
   "metadata": {
    "slideshow": {
     "slide_type": "fragment"
    }
   },
   "outputs": [],
   "source": [
    "def c_Uop(phi0,phi1,power):\n",
    "    U = QuantumCircuit(1)        \n",
    "    for _ in range(power):\n",
    "        U.rz(-phi0*4*np.pi,0)\n",
    "        U.p((phi1+phi0)*2*np.pi,0)\n",
    "    U = U.to_gate()\n",
    "    U.name = \"c_U(%f ,%f)^%i\" % (np.round(phi0,5), np.round(phi1,5),power)\n",
    "    U = U.control()\n",
    "    return U"
   ]
  },
  {
   "cell_type": "markdown",
   "metadata": {
    "slideshow": {
     "slide_type": "slide"
    }
   },
   "source": [
    "Para poner a prueba el algoritmo vamos a  por seleccionar unos valores de $\\phi_i = (\\phi_0,\\phi_1)$ de la forma  \n",
    "\n",
    "$$\\phi_i = (a_i + \\delta_i) 2^{-t}$$"
   ]
  },
  {
   "cell_type": "code",
   "execution_count": 27,
   "metadata": {
    "slideshow": {
     "slide_type": "fragment"
    }
   },
   "outputs": [
    {
     "name": "stdout",
     "output_type": "stream",
     "text": [
      "phi0= 0.275  ->   2^t*phi0 = a0 + delta0 =  2.2  , a0 = 2 => 010\n",
      "phi1= 0.375  ->   2^t*phi1 = a1 + delta1 =  3.0  , a1 = 3 => 011\n"
     ]
    }
   ],
   "source": [
    "t_seed=3\n",
    "\n",
    "a0 = 2.\n",
    "delta0 = 0.2\n",
    "phi0 = (a0+delta0)*2.**(-t_seed) \n",
    "\n",
    "a1 = 3.\n",
    "delta1 = 0.\n",
    "phi1 =(a1+ delta1)*2.**(-t_seed) \n",
    "\n",
    "print('phi0=', phi0, ' ->   2^t*phi0 = a0 + delta0 = ', 2**t_seed*phi0 , ' , a0 =' ,int(2**t_seed*phi0), '=>', format(int(2**t_seed*phi0),'b').zfill(t_seed) )\n",
    "print('phi1=', phi1, ' ->   2^t*phi1 = a1 + delta1 = ', 2**t_seed*phi1 , ' , a1 =' ,int(2**t_seed*phi1), '=>', format(int(2**t_seed*phi1),'b').zfill(t_seed) )\n"
   ]
  },
  {
   "cell_type": "markdown",
   "metadata": {
    "slideshow": {
     "slide_type": "fragment"
    }
   },
   "source": [
    "Construimos el circuito QPE"
   ]
  },
  {
   "cell_type": "code",
   "execution_count": 28,
   "metadata": {
    "slideshow": {
     "slide_type": "slide"
    }
   },
   "outputs": [
    {
     "data": {
      "image/png": "[encoded data removed]",
      "text/plain": [
       "<Figure size 2239.99x1454.83 with 1 Axes>"
      ]
     },
     "execution_count": 28,
     "metadata": {},
     "output_type": "execute_result"
    }
   ],
   "source": [
    "from qiskit import QuantumCircuit, QuantumRegister, ClassicalRegister\n",
    "\n",
    "t = 6 # la dimensión del registro de evaluación \n",
    "n = 1 # la dimensión del espacio de representación del opeador U\n",
    "\n",
    "qrt=QuantumRegister(t,name=\"t\")\n",
    "qra=QuantumRegister(n,name=\"qr_U\") # aquí 1 es la dimensión del espacio en el que opera U\n",
    "crt=ClassicalRegister(t)\n",
    "\n",
    "qpe = QuantumCircuit(qrt,qra,crt)   \n",
    "\n",
    "##########################################################################\n",
    "#inicializamos la ancilla en un autoestado |u> =|0> o |u> = |1>\n",
    "#qpe.x(qra)   \n",
    "##########################################################################\n",
    "\n",
    "\n",
    "qpe.h(range(t))\n",
    "qpe.barrier()\n",
    "\n",
    "# aplicamos los operadores controlados c-U^j \n",
    "for j in range(t):\n",
    "    qpe.append(c_Uop(phi0,phi1,2**j),[qrt[j]]+qra[:])\n",
    "    \n",
    "\n",
    "qpe.barrier()\n",
    "\n",
    "# aplicamos la QFT^-1 que está definida en macro.py \n",
    "qpe.append(TFC_adj(t),qrt)\n",
    "\n",
    "qpe.measure(qrt,crt)\n",
    "\n",
    "qpe.draw(output=\"mpl\")"
   ]
  },
  {
   "cell_type": "code",
   "execution_count": 29,
   "metadata": {},
   "outputs": [
    {
     "data": {
      "image/png": "[encoded data removed]",
      "text/plain": [
       "<Figure size 700x500 with 1 Axes>"
      ]
     },
     "execution_count": 29,
     "metadata": {},
     "output_type": "execute_result"
    }
   ],
   "source": [
    "'ejecutamos el circuito'\n",
    "from qiskit.primitives import Sampler\n",
    "from qiskit.visualization import plot_histogram, plot_bloch_multivector\n",
    "\n",
    "nshots = 1000\n",
    "dist = Sampler().run(qpe,shots=nshots).result().quasi_dists[0]\n",
    "counts = tQ.dist2counts(dist,t,nshots)\n",
    "\n",
    "plot_histogram(counts)"
   ]
  },
  {
   "cell_type": "markdown",
   "metadata": {
    "slideshow": {
     "slide_type": "fragment"
    }
   },
   "source": [
    "De aquí extraemos la aproximación que hemos obtenido. "
   ]
  },
  {
   "cell_type": "code",
   "execution_count": 31,
   "metadata": {
    "slideshow": {
     "slide_type": "-"
    }
   },
   "outputs": [
    {
     "data": {
      "text/plain": [
       "'010010'"
      ]
     },
     "execution_count": 31,
     "metadata": {},
     "output_type": "execute_result"
    }
   ],
   "source": [
    "max(counts, key=counts.get)"
   ]
  },
  {
   "cell_type": "code",
   "execution_count": 30,
   "metadata": {
    "slideshow": {
     "slide_type": "fragment"
    }
   },
   "outputs": [
    {
     "name": "stdout",
     "output_type": "stream",
     "text": [
      "el valor de phi original era = 0.275\n",
      "la mejor aproximación al valor verdadero es a/2^t = 0.28125\n",
      "el error relativo es delta/(2^t phi) = -0.022727272727272645\n"
     ]
    }
   ],
   "source": [
    "a_resultante = int(max(counts, key=counts.get),2)\n",
    "\n",
    "# Seleccionamos el autovalor asociado a |u> \n",
    "phi = phi0  # si |0>\n",
    "#phi = phi1   # si |1>\n",
    "\n",
    "print('el valor de phi original era =', phi)\n",
    "\n",
    "print('la mejor aproximación al valor verdadero es a/2^t =', a_resultante*2**(-t))\n",
    "\n",
    "print('el error relativo es delta/(2^t phi) =', (phi -a_resultante*2**(-t))/phi)"
   ]
  },
  {
   "cell_type": "markdown",
   "metadata": {},
   "source": [
    "<div class=\"alert alert-block alert-success\">\n",
    "<b> Ejercicio: </b> \n",
    "vuelve a ejecutar el circuito cambiando el valor de $\\varphi_0$. \n",
    "</div>"
   ]
  },
  {
   "cell_type": "markdown",
   "metadata": {
    "slideshow": {
     "slide_type": "slide"
    }
   },
   "source": [
    "### ¿y si no podemos preparar  un autoestado?"
   ]
  },
  {
   "cell_type": "markdown",
   "metadata": {
    "slideshow": {
     "slide_type": "fragment"
    }
   },
   "source": [
    "Una de las premisas usadas en la sección anterior es la posibilidad de preparar el autoestado $\\ket{\\psi}$ de $U$ \n",
    "\n",
    "En caso contrario, ¿qué *resultado* obtenemos después de usar el circuito de estimación cuántica de fase?\n"
   ]
  },
  {
   "cell_type": "markdown",
   "metadata": {
    "slideshow": {
     "slide_type": "fragment"
    }
   },
   "source": [
    "Apliquemos el circuito anterior a un vector arbitrario $\\ket{b}$. Genéricamente dicho vector admitirá una expansión de la forma\n",
    "\n",
    "$$\n",
    "\\ket{b} = \\sum_{i=1}^N c_i \\ket{u_i}\n",
    "$$\n",
    "en la *base de autovectores* de $U$\n",
    "\n",
    "$$U\\ket{u_i} = e^{2\\pi i\\varphi_i}\\ket{u_i}$$  \n",
    "\n",
    "\n",
    "\n",
    "\n"
   ]
  },
  {
   "cell_type": "markdown",
   "metadata": {
    "slideshow": {
     "slide_type": "slide"
    }
   },
   "source": [
    "Debido a la linealidad del circuito QPE, a la salida del mismo encontraremos una combinación lineal de estados \n",
    "de la forma\n",
    "\n",
    "\\begin{eqnarray*}\n",
    "U_{QPE}\\, :\\,\\ket{0}_t \\left(\\sum_{i=1}c_i\\ket{u_i}\\right) &=& \\sum_{i=1}c_i U_{QPE}\\left(\\ket{0}_t\\ket{u_i}\n",
    "\\rule{0mm}{6mm}\\right)  \\\\\n",
    "&=& \\sum_{i=1}^N  c_i \\ket{\\Phi_i}\\ket{u_i} \n",
    "\\\\\n",
    "&=& \\sum_{i\\in S_n}\\sum_{x\\in S_t} c_i \\ket{x}\\braket{x}{\\Phi_i}\\ket{u_i}\n",
    "\\\\\n",
    "&=& \\sum_{i\\in S_n}\\sum_{x\\in S_t} c_i \\braket{x}{\\Phi_i} \\ket{x}\\ket{u_i} \n",
    "\\end{eqnarray*}\n",
    "\n"
   ]
  },
  {
   "cell_type": "markdown",
   "metadata": {
    "slideshow": {
     "slide_type": "fragment"
    }
   },
   "source": [
    "Midiendo en el primer registro $\\ket{x}\\hookrightarrow \\ket{m}$ obtendremos un número entero $\\to m $ con probabilidad\n",
    "\n",
    "$$\n",
    "p(m) = \\sum_i  |c_i|^2  |\\braket{m}{\\Phi_i}|^2   = \\sum_i  |c_i|^2  p(\\delta_i,l_i)\n",
    "$$\n",
    "\n"
   ]
  },
  {
   "cell_type": "markdown",
   "metadata": {
    "slideshow": {
     "slide_type": "fragment"
    }
   },
   "source": [
    "\n",
    "La probabilidad $p(m)$ es una **suma ponderada de distribuciones** $p(\\delta_i,l_i) =  |\\braket{m}{\\Phi_i}|^2$\n",
    "con  $m = a_i + l_i$ *picadas* en torno  $l_i = 0$.\n"
   ]
  },
  {
   "cell_type": "markdown",
   "metadata": {
    "slideshow": {
     "slide_type": "fragment"
    }
   },
   "source": [
    "Si $t$ se escoge como en el teorema descrito anteriormente, el resultado será una aproximación $a_i$ a $2^t\\varphi_i$ con una probabilidad de acierto de, al menos, $|c_i|^2 (1-\\epsilon)$.\n",
    "\n"
   ]
  },
  {
   "cell_type": "markdown",
   "metadata": {
    "slideshow": {
     "slide_type": "slide"
    }
   },
   "source": [
    "*Ejemplo:*\n",
    "\n",
    "Vamos a correr el circuito QPE inicializando para una  combinaciones $\\ket{b} = \\cos \\theta/2 \\ket{0} + \\sin \\theta/2\n",
    " \\ket{1}= R_y(\\theta)\\ket{0}$ de autoestados de $P(\\varphi)$.\n",
    "\n"
   ]
  },
  {
   "cell_type": "code",
   "execution_count": 33,
   "metadata": {
    "slideshow": {
     "slide_type": "fragment"
    }
   },
   "outputs": [
    {
     "name": "stdout",
     "output_type": "stream",
     "text": [
      "phi0= 0.1375  ->   2^t*phi0 = a0 + delta0 =  1.1  , a0 = 1 => 001\n",
      "phi1= 0.3875  ->   2^t*phi1 = a1 + delta1 =  3.1  , a1 = 1 => 011\n"
     ]
    }
   ],
   "source": [
    "t_seed = 3\n",
    "\n",
    "a0 = 1.\n",
    "delta0 = 0.1\n",
    "phi0 = (a0+ delta0)*2.**(-t_seed) \n",
    "\n",
    "a1 = 3.\n",
    "delta1 = 0.1\n",
    "phi1 =(a1+ delta1)*2.**(-t_seed) \n",
    "\n",
    "print('phi0=', phi0, ' ->   2^t*phi0 = a0 + delta0 = ', 2**t_seed*phi0 , ' , a0 =' ,int(2**t_seed*phi0), '=>', format(int(2**t_seed*phi0),'b').zfill(t_seed) )\n",
    "print('phi1=', phi1, ' ->   2^t*phi1 = a1 + delta1 = ', 2**t_seed*phi1 , ' , a1 =' ,int(2**t_seed*phi0), '=>', format(int(2**t_seed*phi1),'b').zfill(t_seed) )\n"
   ]
  },
  {
   "cell_type": "code",
   "execution_count": 34,
   "metadata": {
    "slideshow": {
     "slide_type": "slide"
    }
   },
   "outputs": [
    {
     "data": {
      "image/png": "[encoded data removed]",
      "text/plain": [
       "<Figure size 1612.8x1047.48 with 1 Axes>"
      ]
     },
     "execution_count": 34,
     "metadata": {},
     "output_type": "execute_result"
    }
   ],
   "source": [
    "from qiskit import QuantumCircuit, QuantumRegister, ClassicalRegister\n",
    "\n",
    "t = 6 # la dimensión del registro de evaluación \n",
    "n = 1 # la dimensiónd el espacio de representación del opeador U\n",
    "\n",
    "qrt=QuantumRegister(t,name=\"t\")\n",
    "qra=QuantumRegister(n,name=\"qr_U\") # aquí 1 es la dimensión del espacio en el que opera U\n",
    "crt=ClassicalRegister(t)\n",
    "\n",
    "qpe = QuantumCircuit(qrt,qra,crt)   \n",
    "\n",
    "##########################################################################\n",
    "#inicializamos la ancilla en una combinación cos(th/2)|0> + sin(th/2)|1>\n",
    "theta = 2*np.pi*0.15 \n",
    "qpe.ry(theta,qra) \n",
    "##########################################################################\n",
    "\n",
    "qpe.h(range(t))\n",
    "qpe.barrier()\n",
    "\n",
    "# aplicamos los operadores controlados c-U^j \n",
    "for j in range(t):\n",
    "    qpe.append(c_Uop(phi0,phi1,2**j),[qrt[j]]+qra[:])\n",
    "#    qpe.cp(2*np.pi*phi1*(2**j), qrt[j], qra); # This is C-U\n",
    "    \n",
    "\n",
    "qpe.barrier()\n",
    "\n",
    "# aplicamos la QFT^-1 que está definida en macro.py \n",
    "qpe.append(TFC_adj(t),qrt)\n",
    "\n",
    "# podemos hacerlo usando la librería de qiskit \n",
    "#from qiskit.circuit.library import QFT\n",
    "#qpe.append(QFT(len(qr),do_swaps=True).inverse(),qr)\n",
    "\n",
    "\n",
    "qpe.measure(qrt,crt)\n",
    "\n",
    "qpe.draw(output=\"mpl\")"
   ]
  },
  {
   "cell_type": "code",
   "execution_count": 35,
   "metadata": {
    "slideshow": {
     "slide_type": "slide"
    }
   },
   "outputs": [
    {
     "data": {
      "image/png": "[encoded data removed]",
      "text/plain": [
       "<Figure size 504x360 with 1 Axes>"
      ]
     },
     "execution_count": 35,
     "metadata": {},
     "output_type": "execute_result"
    }
   ],
   "source": [
    "from qiskit import Aer, execute\n",
    "M_backend = Aer.get_backend('qasm_simulator')\n",
    "\n",
    "from qiskit.visualization import plot_histogram\n",
    "results = execute(qpe, M_backend, shots=1024).result()\n",
    "counts = results.get_counts()\n",
    "plot_histogram(counts)"
   ]
  },
  {
   "cell_type": "markdown",
   "metadata": {
    "slideshow": {
     "slide_type": "slide"
    }
   },
   "source": [
    "## Orden  modular"
   ]
  },
  {
   "cell_type": "markdown",
   "metadata": {
    "slideshow": {
     "slide_type": "slide"
    }
   },
   "source": [
    "<div class=\"alert alert-block alert-info\">\n",
    "<p style=\"text-align: center;\"> <p style=\"text-align: left ;color: navy;\">  \n",
    "    <b>Definición:</b> <i>(Orden modular)</i> \n",
    "<br>\n",
    "<br>\n",
    "Sean $m,N \\in {\\mathbb N}$ dos enteros $m<N$ coprimos (sin divisores  comunes).<br><br>\n",
    "Definimos el <b> orden de $m$ módulo $N$</b> como el  menor entero positivo, $r$, tal que $m^r = 1$ mod$N$.\n",
    "</div>\n",
    "<br>\n"
   ]
  },
  {
   "cell_type": "markdown",
   "metadata": {
    "slideshow": {
     "slide_type": "fragment"
    }
   },
   "source": [
    "**Problema**: dados $m$ y $N$,   hallar $r$ con el número mínimo de operaciones."
   ]
  },
  {
   "cell_type": "markdown",
   "metadata": {
    "slideshow": {
     "slide_type": "fragment"
    }
   },
   "source": [
    "*Ejemplo:*"
   ]
  },
  {
   "cell_type": "code",
   "execution_count": 36,
   "metadata": {
    "slideshow": {
     "slide_type": "-"
    }
   },
   "outputs": [
    {
     "data": {
      "text/plain": [
       "[1, 7, 4, 13, 1, 7, 4, 13, 1, 7, 4, 13, 1, 7, 4, 13, 1]"
      ]
     },
     "execution_count": 36,
     "metadata": {},
     "output_type": "execute_result"
    }
   ],
   "source": [
    "{2,4,7,8,11,13}   # comprimos con 15\n",
    "m=7\n",
    "N=15\n",
    "[m**i%N for i in range(17)]"
   ]
  },
  {
   "cell_type": "markdown",
   "metadata": {
    "slideshow": {
     "slide_type": "fragment"
    }
   },
   "source": [
    "<div class=\"alert alert-block alert-danger\">\n",
    "    <b>Nota:</b>\n",
    "<br>\n",
    "En general, si $N=2^n$, clásicamente no existen algoritmos capaces de resolver este problema en un número  de pasos que sea <i> polinómico en $n$</i>. \n",
    "\n",
    "Por el contrario, verificar si un $r$ es solución es fácil.\n",
    "<br>\n",
    "<br> \n",
    "    \n",
    "Nos hallamos ante un problema de tipo NP.\n",
    "</div>"
   ]
  },
  {
   "cell_type": "markdown",
   "metadata": {
    "slideshow": {
     "slide_type": "skip"
    }
   },
   "source": [
    "<div class=\"alert alert-block alert-danger\">\n",
    "<b> Nota: </b>\n",
    "    \n",
    "Como  $m^r = 1 = m^0$, a partir de ese momento la serie de valores $\\{m^0,m^1,\\ldots m^{r-1}\\}$ se repite. \n",
    "Por tanto, halla el <i> orden modular </i> de $m$ módulo $N$  es lo mismo que hallar la <i> periodicidad</i> de la función $f(x) = m^x\\, $mod$N$. \n",
    "     \n",
    "    \n",
    "Sin embargo, si tratamos de fabricar un oráculo para el operador unitario $U_f:\\ket{x}\\ket{y} \\to \\ket{x}\\ket{m^x y \\,{\\rm mod} N}$ nos encontraremos con una complejidad exponencial\n",
    "</div>"
   ]
  },
  {
   "cell_type": "markdown",
   "metadata": {
    "slideshow": {
     "slide_type": "slide"
    }
   },
   "source": [
    "Sea $U ; \\Hil_n \\to \\Hil_n $ un oráculo que actúa en la forma siguiente sobre la base $\\{\\ket{y}\\}$  donde $y \\in S_n = {0,1,...,N-1}$.\n",
    "\n",
    "$$\n",
    "U\\ket{y }  = \\ket{m y \\,{\\rm mod} N}\n",
    "$$\n"
   ]
  },
  {
   "cell_type": "markdown",
   "metadata": {
    "slideshow": {
     "slide_type": "skip"
    }
   },
   "source": [
    "<div class=\"alert alert-block alert-danger\">\n",
    "    <b>Nota:</b>\n",
    "<br>\n",
    "Un oráculo general que funcione para cualquier $(m,N)$ no es conocido.\n",
    "</div>"
   ]
  },
  {
   "cell_type": "markdown",
   "metadata": {
    "slideshow": {
     "slide_type": "fragment"
    }
   },
   "source": [
    "La composición  $U^x = \\underbrace{U\\cdot U \\cdots U}_{x}$ genera todos los vectores que buscamos\n",
    "\n",
    "$$\n",
    "U^x\\ket{y }  = U^{x-1}\\ket{m y \\,{\\rm mod} N} =  U^{x-2}\\ket{m^2 y \\,{\\rm mod} N} = ... = \\ket{m^x y \\,{\\rm mod} N}\n",
    "$$\n"
   ]
  },
  {
   "cell_type": "markdown",
   "metadata": {
    "slideshow": {
     "slide_type": "fragment"
    }
   },
   "source": [
    "El *orden* de $m$ mod$N$ es claramente el número $r$ tal que \n",
    "\n",
    "$$U^{r }\\ket{y} = \\ket{m^r  y \\,{\\rm mod} N} = \\ket{y}$$\n",
    "\n"
   ]
  },
  {
   "cell_type": "markdown",
   "metadata": {
    "slideshow": {
     "slide_type": "skip"
    }
   },
   "source": [
    "Con $U$ podríamos implementar la función $f(x) = m^x{\\rm mod} N$ en la forma\n",
    "\n",
    "$$\n",
    "U_f \\ket{x}\\ket{1}  = \\ket{x}U^x\\ket{1} = \\ket{x}\\ket{m^x \\, {\\rm mod} N }\n",
    "$$\n",
    "\n",
    "y buscar la periodicidad de $f(x+r) = f(x)$ siguiento el método de la lección anterior."
   ]
  },
  {
   "cell_type": "markdown",
   "metadata": {
    "slideshow": {
     "slide_type": "skip"
    }
   },
   "source": [
    "<div class=\"alert alert-block alert-danger\">\n",
    "<b> Notar: </b>\n",
    "<br>\n",
    "    \n",
    "\n",
    "- La acción de $U_f$ parece mucho a la de un operador controlado $\\cg{U}\\ket{x}\\ket{y} = \\ket{x}U^x\\ket{y}$. Sin embargo ahora $x = 0,1,...,2^t-1$ es un entero. El circuito que implementa $U_f$ es precisamente el que se utiliza en el circuito de QPE. \n",
    "\n",
    "\n",
    "- Con esta observación vemos que el circuito de QPE se parece mucho al que hemos usado en la búsqueda de un período en el tema anterior.\n",
    "    \n",
    "\n",
    "    \n",
    "</div>    "
   ]
  },
  {
   "cell_type": "markdown",
   "metadata": {
    "slideshow": {
     "slide_type": "slide"
    }
   },
   "source": [
    "Vamos a aplicar el  método de <i> Estimación Cuántica de Fase</i> (QPE) al operador $U$ \n",
    "\n",
    "Recordemos que dicho método <u>nos pide evaluar el operador $U$ sobre sus autovectores</u> $U\\ket{u} = e^{i\\varphi}\\ket{u}$."
   ]
  },
  {
   "cell_type": "markdown",
   "metadata": {
    "slideshow": {
     "slide_type": "fragment"
    }
   },
   "source": [
    "Si *conociésemos* $r$ podríamos construir el siguiente conjunto de $r$  vectores $\\ket{u_s}$ con $s=0,...,r-1$ \n",
    "<br>\n",
    "<br>\n",
    "$$\n",
    "\\ket{u_s} = \\frac{1}{\\sqrt{r}} \\sum_{j=0}^{r-1} e^{-2\\pi i \\frac{s }{r}j} U^j\\ket{1}\n",
    "$$\n",
    "<br>\n"
   ]
  },
  {
   "cell_type": "markdown",
   "metadata": {
    "slideshow": {
     "slide_type": "slide"
    }
   },
   "source": [
    "<div class=\"alert alert-block alert-info\">\n",
    "<p style=\"text-align: center;\"> <p style=\"text-align: left ;color: navy;\">  \n",
    "<b>Teorema:</b> \n",
    "<br>\n",
    "<br>\n",
    " Los vectores   $\\{\\ket{u_s}\\}$   forman un conjunto de <i>autovectores</i> de  $U$ con <i>autovalores</i> $e^{2\\pi i s/r}~$. Es decir\n",
    "<br>    \n",
    "<br>\n",
    "$$\n",
    "U\\ket{ u_s} = e^{i\\varphi_s} \\ket{u_s}\n",
    "$$\n",
    "<br>\n",
    "con \n",
    "$$\n",
    "\\varphi_s = s/r~~~~~~ s=0,...,r-1\n",
    "$$\n",
    "<br>\n",
    "</div>"
   ]
  },
  {
   "cell_type": "markdown",
   "metadata": {
    "slideshow": {
     "slide_type": "fragment"
    }
   },
   "source": [
    "**Prueba**:\n",
    "\\begin{eqnarray}\n",
    "U \\ket{u_s} &=& \\frac{1}{\\sqrt{r}} \\sum_{j=0}^{r-1} e^{-2\\pi i s j/r} U^{j+1}\\ket{1} \n",
    "\\nonumber\\\\\n",
    " &=& e^{2\\pi i \\frac{s}{r}}  \\frac{1}{\\sqrt{r}} \\sum_{j=0}^{r-1} e^{-2\\pi i  s (j+1)/r} U^{j+1}\\ket{1} =\n",
    " e^{2\\pi i \\frac{s}{r}}  \\frac{1}{\\sqrt{r}} \\sum_{j=0}^{r-1} e^{-2\\pi i  s j/r} U^{j}\\ket{1} \n",
    "\\nonumber\\\\\n",
    "&=& e^{2\\pi i s/r} \\ket{u_s}\\, .  \\rule{0mm}{8mm}\n",
    "\\end{eqnarray}\n"
   ]
  },
  {
   "cell_type": "markdown",
   "metadata": {
    "slideshow": {
     "slide_type": "slide"
    }
   },
   "source": [
    "Podríamos sencillamente aplicar el algoritmo de estimación de fase para *extraer la serie* de valores de $\\varphi_s = s/r$ y de ahí recuperar el *orden modular* $r$.\n",
    "\n",
    "El problema es que, para generar $\\{\\ket{u_s}\\}$ necesitamos conocer $r$, que, *precisamente, es el dato  que buscamos* "
   ]
  },
  {
   "cell_type": "markdown",
   "metadata": {
    "slideshow": {
     "slide_type": "fragment"
    }
   },
   "source": [
    "Una *observación importante* nos permite soslayar esta dificultad: vamos a tomar una *combinación homogénea* de los autoestados $\\ket{u_s}$\n",
    "\n",
    "<br>\n",
    "<br>\n",
    "\\begin{eqnarray}\n",
    "\\frac{1}{\\sqrt{r}} \\sum_{s=0}^{r-1}\\ket{u_s}   &=& \\frac{1}{\\sqrt{r}} \\sum_{s=0}^{r-1} \\left(  \\frac{1}{\\sqrt{r}}   \\sum_{j=0}^{r-1} e^{-2\\pi i  sj/r} U^{j}\\ket{1} \\right) ~=~ \\frac{1}{r}   \\sum_{j=0}^{r-1} \\left(  \\sum_{s=0}^{r-1}e^{-2\\pi i  sj/r} \\right)U^{j}\\ket{1} \\nonumber\\\\ \n",
    "\\rule{0mm}{12mm}\n",
    "&=&   \\frac{1}{r}   \\sum_{j=0}^{r-1} \\, (r \\delta_{j,0}) \\,  U^{j}\\ket{1} = U^0\\ket{1} \\nonumber\\\\  \\rule{0mm}{10mm}\n",
    "&=& \\ket{1}\n",
    "\\end{eqnarray}\n",
    "<br>\n"
   ]
  },
  {
   "cell_type": "markdown",
   "metadata": {
    "slideshow": {
     "slide_type": "slide"
    }
   },
   "source": [
    "<u>¡El resultado es asombrosamente simple!</u>:\n",
    "\n",
    "si inicializamos el circuito de estimación de fase con el estado $\\ket{0}_t\\ket{1}_n$ a la salida obtendremos una superposición uniforme\n",
    "\n",
    "$$\n",
    "U_{QPE} : \\ket{0}_t \\otimes \\ket{1}_n  ~ \\to ~ \\frac{1}{\\sqrt{r}}\\sum_{s=0}^{r-1} \\ket{m_s}\\otimes\\ket{u_s}\n",
    "$$\n",
    "\n",
    "donde $m_s = 2^t s/r$ siempre que $t$ se haya elegido de forma que $~2^t s/r \\in {\\mathbb Z}$ sea entero.\n"
   ]
  },
  {
   "cell_type": "markdown",
   "metadata": {
    "run_control": {
     "marked": true
    },
    "slideshow": {
     "slide_type": "fragment"
    }
   },
   "source": [
    "<center> \n",
    "<img src=\"./figuras/Orden_modular.png\" width='60%' style='margin:left'/>\n",
    "</center>\n"
   ]
  },
  {
   "cell_type": "markdown",
   "metadata": {
    "slideshow": {
     "slide_type": "slide"
    }
   },
   "source": [
    "### Ejemplo:\n",
    "\n",
    "Necesitamos un oráculo que implemente la operación \n",
    "\n",
    "$$U^{x }\\ket{y} = \\ket{m^x  y \\,{\\rm mod} N} $$"
   ]
  },
  {
   "cell_type": "markdown",
   "metadata": {
    "slideshow": {
     "slide_type": "fragment"
    }
   },
   "source": [
    "El siguiente código implementa este oráculo para $N=15$ y $m\\in \\{2,4,7,8,11,13\\}$ coprimos, y lo convierte en una puerta controlada"
   ]
  },
  {
   "cell_type": "code",
   "execution_count": 37,
   "metadata": {
    "slideshow": {
     "slide_type": "-"
    }
   },
   "outputs": [],
   "source": [
    "def c_amod15(m, power):\n",
    "    \"\"\"Controlled multiplication by a mod 15\"\"\"\n",
    "    if m not in [2,4,7,8,11,13]:\n",
    "        raise ValueError(\"'a' must be 2,4,7,8,11 or 13\")\n",
    "    U = QuantumCircuit(4)        \n",
    "    for iteration in range(power):\n",
    "        if m in [2,13]:\n",
    "            U.swap(2,3)\n",
    "            U.swap(1,2)\n",
    "            U.swap(0,1)\n",
    "        if m in [7,8]:\n",
    "            U.swap(0,1)\n",
    "            U.swap(1,2)\n",
    "            U.swap(2,3)\n",
    "        if m in [4, 11]:\n",
    "            U.swap(1,3)\n",
    "            U.swap(0,2)\n",
    "        if m in [7,11,13]:\n",
    "            for q in range(4):\n",
    "                U.x(q)\n",
    "#    print(U)\n",
    "    U = U.to_gate()\n",
    "    U.name = \"%i^%i mod 15\" % (m, power)\n",
    "    c_U = U.control()\n",
    "    return c_U"
   ]
  },
  {
   "cell_type": "markdown",
   "metadata": {
    "slideshow": {
     "slide_type": "-"
    }
   },
   "source": [
    "Función definida en [Qiskit Textbook](https://qiskit.org/textbook/ch-algorithms/shor.html)"
   ]
  },
  {
   "cell_type": "code",
   "execution_count": null,
   "metadata": {
    "slideshow": {
     "slide_type": "skip"
    }
   },
   "outputs": [],
   "source": [
    "c_amod15(4,3 ).definition.draw('mpl')"
   ]
  },
  {
   "cell_type": "markdown",
   "metadata": {
    "slideshow": {
     "slide_type": "fragment"
    }
   },
   "source": [
    "<div class=\"alert alert-block alert-success\">\n",
    "<b>Ejercicio:</b>\n",
    "<br>\n",
    "Construye un circuito con esta puerta y verifica que reproduce la lista $m^x$ mod 15 con $x=0,1,2,...$\n",
    "</div>\n"
   ]
  },
  {
   "cell_type": "code",
   "execution_count": 38,
   "metadata": {
    "slideshow": {
     "slide_type": "slide"
    }
   },
   "outputs": [
    {
     "data": {
      "image/png": "[encoded data removed]",
      "text/plain": [
       "<Figure size 1385.27x565.88 with 1 Axes>"
      ]
     },
     "execution_count": 38,
     "metadata": {},
     "output_type": "execute_result"
    }
   ],
   "source": [
    "from qiskit import QuantumCircuit, QuantumRegister, ClassicalRegister\n",
    "\n",
    "t = 4 \n",
    "n = 4 \n",
    "m = 7\n",
    "\n",
    "qr=QuantumRegister(t,name=\"t\")\n",
    "ar=QuantumRegister(4,name=\"qr_U\") # aquí 1 es la dimensión del espacio en el que opera U\n",
    "cr=ClassicalRegister(t)\n",
    "\n",
    "qc = QuantumCircuit(qr,ar,cr)   \n",
    "\n",
    "qc.x(ar[0]) #  inicializamos la ancilla al autoestado de P(phi) ->  |u> = |1>\n",
    "#qpe.h(ar[0]) #  \n",
    "\n",
    "qc.h(range(n))\n",
    "qc.barrier()\n",
    "\n",
    "# aplicamos los operadores controlados c-U^j \n",
    "for q in range(t):\n",
    "    qc.append(c_amod15(m, 2**q), [qr[q]] + ar[:])\n",
    "\n",
    "\n",
    "qc.barrier()\n",
    "\n",
    "# aplicamos la QFT^-1 que está definida en macro.py \n",
    "qc.append(TFC_adj(t),qr)\n",
    "\n",
    "# podemos hacerlo usando la librería de qiskit \n",
    "#from qiskit.circuit.library import QFT\n",
    "#qpe.append(QFT(len(qr),do_swaps=True).inverse(),qr)\n",
    "\n",
    "\n",
    "qc.measure(qr,cr)\n",
    "\n",
    "qc.draw(output=\"mpl\")"
   ]
  },
  {
   "cell_type": "markdown",
   "metadata": {
    "slideshow": {
     "slide_type": "slide"
    }
   },
   "source": [
    "Ejecutamos el circuito y listamos los suceso más probables"
   ]
  },
  {
   "cell_type": "code",
   "execution_count": 39,
   "metadata": {
    "slideshow": {
     "slide_type": "-"
    }
   },
   "outputs": [
    {
     "data": {
      "image/png": "[encoded data removed]",
      "text/plain": [
       "<Figure size 504x360 with 1 Axes>"
      ]
     },
     "execution_count": 39,
     "metadata": {},
     "output_type": "execute_result"
    }
   ],
   "source": [
    "from qiskit import Aer, execute\n",
    "M_simulator = Aer.get_backend('qasm_simulator')\n",
    "\n",
    "job = execute(qc,M_simulator,shots = 1024)\n",
    "counts = job.result().get_counts()\n",
    "counts\n",
    "\n",
    "from qiskit.visualization import plot_histogram\n",
    "plot_histogram(counts)"
   ]
  },
  {
   "cell_type": "markdown",
   "metadata": {
    "slideshow": {
     "slide_type": "fragment"
    }
   },
   "source": [
    "de aquí obtenemos la lista de valores enteros $2^t s/r$"
   ]
  },
  {
   "cell_type": "code",
   "execution_count": 40,
   "metadata": {
    "slideshow": {
     "slide_type": "-"
    }
   },
   "outputs": [
    {
     "name": "stdout",
     "output_type": "stream",
     "text": [
      "[2^ts/r] ~  [4, 8, 12]\n",
      "phi_s [0.25, 0.5, 0.75]\n"
     ]
    }
   ],
   "source": [
    "Ns_list = sorted([int(keys,2) for  keys in counts])[1:] \n",
    "print('[2^ts/r] ~ ', Ns_list)\n",
    "\n",
    "# dividiendo por 2**t\n",
    "phis_list = [Ns_list[i]/2**t for i in range(len(Ns_list))]\n",
    "print('phi_s', phis_list)\n"
   ]
  },
  {
   "cell_type": "markdown",
   "metadata": {
    "slideshow": {
     "slide_type": "slide"
    }
   },
   "source": [
    "Ahora podemos usar, como antes, dos estrategias para extraer el valor del período $r$:\n",
    "\n",
    "1. analizando las diferencias: $r = \\displaystyle \\left(\\frac{s+1}{r} - \\frac{s}{r}\\right)^{-1}$"
   ]
  },
  {
   "cell_type": "code",
   "execution_count": 41,
   "metadata": {
    "slideshow": {
     "slide_type": "-"
    }
   },
   "outputs": [
    {
     "name": "stdout",
     "output_type": "stream",
     "text": [
      "[4, 4]\n",
      "el valor entero del promedio = 4\n"
     ]
    }
   ],
   "source": [
    "differences = [int((phis_list[s+1]-phis_list[s])**(-1)) for s in range(len(phis_list)-1)]\n",
    "\n",
    "print(differences)\n",
    "\n",
    "print('el valor entero del promedio =', int(sum(differences)/len(differences)))"
   ]
  },
  {
   "cell_type": "markdown",
   "metadata": {
    "slideshow": {
     "slide_type": "fragment"
    }
   },
   "source": [
    "2. usando la representación en fracciones continuas: $\\, \\displaystyle \\varphi_s = \\frac{s}{r}$"
   ]
  },
  {
   "cell_type": "code",
   "execution_count": 42,
   "metadata": {
    "slideshow": {
     "slide_type": "-"
    }
   },
   "outputs": [
    {
     "name": "stdout",
     "output_type": "stream",
     "text": [
      "[s/r]= [Fraction(1, 4), Fraction(1, 2), Fraction(3, 4)]\n"
     ]
    }
   ],
   "source": [
    "from fractions import Fraction\n",
    "print('[s/r]=',[Fraction(phis_list[i]).limit_denominator(20) for i in range(int(len(phis_list)))])"
   ]
  },
  {
   "cell_type": "markdown",
   "metadata": {
    "slideshow": {
     "slide_type": "fragment"
    }
   },
   "source": [
    "<div class=\"alert alert-block alert-danger\">\n",
    "<b> Notar: </b>\n",
    "<br>\n",
    "\n",
    "- En el caso más general $\\varphi_s = 2^t s/r \\notin {\\mathbb Z}$ no será un entero\n",
    "    \n",
    "\n",
    "- Entonces el resultado de la medida $m_s$ seguirá una distribución de probabilidad <i>picada</i> en torno a la parte entera $a_s = [2^t s/r]$\n",
    "    \n",
    "\n",
    "- Haciendo un número alto de medidas y seleccionando los eventos  $m_s = a_s$ más probables podemos recuperar $r$ por los mismos métodos anteriores.\n",
    "</div>"
   ]
  }
 ],
 "metadata": {
  "celltoolbar": "Tags",
  "kernelspec": {
   "display_name": "Python 3 (ipykernel)",
   "language": "python",
   "name": "python3"
  },
  "language_info": {
   "codemirror_mode": {
    "name": "ipython",
    "version": 3
   },
   "file_extension": ".py",
   "mimetype": "text/x-python",
   "name": "python",
   "nbconvert_exporter": "python",
   "pygments_lexer": "ipython3",
   "version": "3.9.18"
  },
  "nbTranslate": {
   "displayLangs": [
    "*"
   ],
   "hotkey": "alt-t",
   "langInMainMenu": true,
   "sourceLang": "en",
   "targetLang": "fr",
   "useGoogleTranslate": true
  },
  "toc": {
   "base_numbering": 1,
   "nav_menu": {},
   "number_sections": true,
   "sideBar": true,
   "skip_h1_title": true,
   "title_cell": "Table of Contents",
   "title_sidebar": "Contents",
   "toc_cell": false,
   "toc_position": {
    "height": "calc(100% - 180px)",
    "left": "10px",
    "top": "150px",
    "width": "414.053px"
   },
   "toc_section_display": true,
   "toc_window_display": false
  },
  "varInspector": {
   "cols": {
    "lenName": 16,
    "lenType": 16,
    "lenVar": 40
   },
   "kernels_config": {
    "python": {
     "delete_cmd_postfix": "",
     "delete_cmd_prefix": "del ",
     "library": "var_list.py",
     "varRefreshCmd": "print(var_dic_list())"
    },
    "r": {
     "delete_cmd_postfix": ") ",
     "delete_cmd_prefix": "rm(",
     "library": "var_list.r",
     "varRefreshCmd": "cat(var_dic_list()) "
    }
   },
   "types_to_exclude": [
    "module",
    "function",
    "builtin_function_or_method",
    "instance",
    "_Feature"
   ],
   "window_display": false
  }
 },
 "nbformat": 4,
 "nbformat_minor": 4
}
