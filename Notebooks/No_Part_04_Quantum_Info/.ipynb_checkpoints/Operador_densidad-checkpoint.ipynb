{
 "cells": [
  {
   "cell_type": "markdown",
   "id": "3710bfdb",
   "metadata": {
    "slideshow": {
     "slide_type": "slide"
    }
   },
   "source": [
    "<table width=\"100%\">\n",
    "<td style=\"font-size:40px;font-style:italic;text-align:right;background-color:rgba(0, 220, 170,0.7)\">\n",
    "Mezcla de Estados\n",
    "</td></table>\n",
    "\n",
    "\n",
    "\n",
    "$ \\newcommand{\\bra}[1]{\\langle #1|} $\n",
    "$ \\newcommand{\\ket}[1]{|#1\\rangle} $\n",
    "$ \\newcommand{\\braket}[2]{\\langle #1|#2\\rangle} $\n",
    "$ \\newcommand{\\ketbra}[2]{| #1\\rangle \\langle #2|} $\n",
    "$ \\newcommand{\\tr}{{\\rm Tr}\\,} $\n",
    "$ \\newcommand{\\Tr}{{\\rm Tr}\\,} $\n",
    "$ \\newcommand{\\i}{{\\color{blue} i}} $ \n",
    "$ \\newcommand{\\Hil}{{\\cal H}} $\n",
    "$ \\newcommand{\\V}{{\\cal V}} $\n",
    "$ \\newcommand{\\Lin}{\\hbox{Lin}}$"
   ]
  },
  {
   "cell_type": "markdown",
   "id": "c1915265",
   "metadata": {
    "slideshow": {
     "slide_type": "skip"
    }
   },
   "source": [
    "\n",
    "- [Estado puro y mezclado](#est_pur_mez) \n",
    "\n",
    "\n",
    "- [Operador densidad](#mat_dens)   \n",
    "    - [*Propiedades de un operador densidad*](*prop_op_dens)\n",
    "    - [*Cúbit mezclado: bola de Bloch*](#cubitmezcla) \n",
    "\n",
    "\n",
    "- [Medidas en estados mezclado](#med_mat_dens)\n",
    "    - [*Valor esperado en un estado mezclado*](#valesp_mezcla)\n",
    " \n",
    "    - [Fidelidad](#fidelity)\n",
    "    \n",
    "- [Poblaciones y coherencias](#pobl_coher)\n",
    "\n",
    "- [Estado mezcla bipartito](#mat_dens_bipart)\n",
    "   -  [*Traza parcial*](#traza_parcial)\n",
    "   \n",
    "   -  [*Entrelazamiento, mezcla y purificación*](#ent_mez_pur)\n",
    "   \n",
    "- [Estados no-correlacionados, separables y entrelazados](#nocorr_sep_ent)\n",
    "   \n",
    "\n"
   ]
  },
  {
   "cell_type": "code",
   "execution_count": 3,
   "id": "2967dc9a",
   "metadata": {
    "slideshow": {
     "slide_type": "-"
    }
   },
   "outputs": [],
   "source": [
    "import sys\n",
    "sys.path.append('../')\n",
    "import macro_tQ as tQ\n",
    "\n",
    "import numpy as np\n",
    "import scipy.linalg as la\n",
    "from IPython.display import display,Markdown,Latex\n",
    "import matplotlib.pyplot as plt\n",
    "from qiskit.tools.visualization import array_to_latex"
   ]
  },
  {
   "cell_type": "markdown",
   "id": "dd75c76b",
   "metadata": {
    "slideshow": {
     "slide_type": "slide"
    }
   },
   "source": [
    "<a id=\"est_pur_mez\"></a>\n",
    "<a id='dirac'></a>\n",
    "<table width=\"100%\">\n",
    "    <td style=\"font-size:25px;font-family:Helvetica;text-align:left;background-color:rgba(0,0,900, 0.3);\">\n",
    "<b>Estado puro y mezcla estadística</b>\n",
    "</table>   \n"
   ]
  },
  {
   "cell_type": "markdown",
   "id": "4d2aea4f",
   "metadata": {
    "slideshow": {
     "slide_type": "-"
    }
   },
   "source": [
    "El contenido de la *función de onda* es **probabilístico**. Sólo sirve para predecir probabilidades de resultados de medidas. \n",
    "\n",
    "La evolución de la *función de onda* es **determinista**, se obtiene de solucionar la ecuación de Schrödinger\n",
    "\n",
    "Sin embargo, el *propio conocimiento* de la función de onda **puede estar sometido a incertidumbre**.\n",
    "<br>\n",
    "<br>\n"
   ]
  },
  {
   "cell_type": "markdown",
   "id": "07a021fc",
   "metadata": {
    "slideshow": {
     "slide_type": "fragment"
    }
   },
   "source": [
    "\n",
    "<div class=\"alert alert-block alert-info\",text-align:center>\n",
    "<p style=\"text-align: left ;color: navy;\">  \n",
    "<b> Estado puro</b>:\n",
    "<br>    \n",
    "Si con <i>certeza total</i> podemos afirmar que el estado de un sistema está descrito por un vector \n",
    "$\\ket{\\psi}\\in \\Hil$ \n",
    "    decimos que nuestro sistema se encuentra en un <i>estado puro</i>.\n",
    "<br>\n",
    "</p>\n",
    "</div>"
   ]
  },
  {
   "cell_type": "markdown",
   "id": "ff57416e",
   "metadata": {
    "slideshow": {
     "slide_type": "slide"
    }
   },
   "source": [
    "¿Qué ocurre si no podemos tener la certeza de que el estado que describe el sistema sea $\\ket{\\psi}$?  \n",
    "\n",
    "Por ejemplo: sea un aparato de Stern Gerlach que prepara el estado $\\ket{\\uparrow}$ y otro que prepara el estado  $\\ket{\\rightarrow}$\n"
   ]
  },
  {
   "cell_type": "markdown",
   "id": "33ec9168",
   "metadata": {
    "slideshow": {
     "slide_type": "fragment"
    }
   },
   "source": [
    "Supongamos que la *elección del polarizador* es aleatoria:\n",
    "-  con probabilidad $p$ se elige el polarizador que prepara $\\ket{\\uparrow}$ \n",
    "\n",
    "-  con probabilidad $(1-p)$  el polarizador que prepara $\\ket{\\rightarrow}$. \n"
   ]
  },
  {
   "cell_type": "markdown",
   "id": "cb65c04e",
   "metadata": {
    "slideshow": {
     "slide_type": "-"
    }
   },
   "source": [
    "El estado generado mediante este procedimiento es una **mezcla estadística** de estados puros\n",
    "\n",
    "$$\n",
    "\\{ \\, \\ket{\\uparrow},p\\, ;\\, \\ket{\\rightarrow},(1-p)\\, \\}\n",
    "$$"
   ]
  },
  {
   "cell_type": "markdown",
   "id": "0410646f",
   "metadata": {
    "slideshow": {
     "slide_type": "slide"
    }
   },
   "source": [
    "<div class=\"alert alert-block alert-info\",text-align:center>\n",
    "<p style=\"text-align: left ;color: navy;\">  \n",
    "<b> Estado mezclado</b>:\n",
    "<br>    \n",
    "<br>En la situación más general, un  sistema estará en un <b>estado mezclado</b> asociado a una variable aleatoria evaluada en el espacio $\\Hil$\n",
    "<br><br>\n",
    "$$\n",
    "X = \\{\\ket{\\psi_\\alpha},p_\\alpha\\}\n",
    "$$\n",
    "<br>\n",
    "que indica que, con probabilidad $p_\\alpha$ ,  el  sistema fue preparado en el estado $\\ket{\\psi_\\alpha}$\n",
    "</p>\n",
    "</div>"
   ]
  },
  {
   "cell_type": "markdown",
   "id": "050a3cf4",
   "metadata": {
    "slideshow": {
     "slide_type": "slide"
    }
   },
   "source": [
    "La situación en la que trabajamos con estados mezclados es **genérica**. \n",
    "\n",
    "La descripción de un sistema mediante un estados puros solo es válida\n",
    "- inmediatamente después de una medida. \n",
    "\n",
    "-  en sistemas perfectamente aislados\n",
    "\n"
   ]
  },
  {
   "cell_type": "markdown",
   "id": "6509b881",
   "metadata": {
    "slideshow": {
     "slide_type": "fragment"
    }
   },
   "source": [
    "Podemos describir otras situaciones en las que el estado del sistema *no puede ser descrito mediante un estado puro*:\n",
    "\n"
   ]
  },
  {
   "cell_type": "markdown",
   "id": "16c27778",
   "metadata": {
    "slideshow": {
     "slide_type": "slide"
    }
   },
   "source": [
    "- **Computación cuántica:** \n",
    "\n",
    "Un registro cuántico en un ordenador cuántico está inicializado en $\\ket{0}$. \n",
    "\n",
    "Al cabo de un rato, la interacción con el resto del sistema hará que, con probabilidad $p\\ll 1$, este registro reciba la acción de un operador no deseado $X$. \n",
    "\n",
    "Entonces, la descripción correcta será la asociada al colectivo $\\{\\ket{0},(1-p)\\, ;\\, \\ket{1},p\\}$, es decir \n",
    "\n",
    "$$\\rho = p\\ketbra{1}{1} + (1-p)\\ketbra{0}{0}$$\n",
    "\n"
   ]
  },
  {
   "cell_type": "markdown",
   "id": "ba4e2a63",
   "metadata": {
    "slideshow": {
     "slide_type": "fragment"
    }
   },
   "source": [
    "- **Comunicaciones cuánticas:** \n",
    "\n",
    "Un mensaje codificado cuánticamente es una secuencia de estados (letras) $\\{\\ket{0},\\ket{1}\\}$ que se extrae de un generador aleatorio clásico con probabilidades $p$ y $1-p$. \n",
    "\n",
    "A su recepción, estos estados se detectarán realizando medidas sobre un estado que, en ausencia de ruido, será igualmente \n",
    "\n",
    "$$\\rho = p\\ketbra{1}{1} + (1-p)\\ketbra{0}{0}$$\n"
   ]
  },
  {
   "cell_type": "markdown",
   "id": "b7895671",
   "metadata": {
    "slideshow": {
     "slide_type": "slide"
    }
   },
   "source": [
    "- **Acceso parcial a un sistema**\n",
    "\n",
    "Supongamos un sistema bi-partito $\\ket{\\psi} = \\sum_{ij} c_{ij}\\ket{i}\\ket{j} \\in \\Hil_A\\otimes \\Hil_B$. Supongamos que sólo disponemos de observable capaz de *medir* una parte del sistema, $A = O\\otimes I$. \n",
    "\n",
    "<u>No existe</u> un estado puro $\\ket{\\varphi}\\in \\Hil_A$ a partir del cual se pueda obtener el valor esperado $\\langle O\\rangle = \\bra{\\varphi}O\\ket{\\varphi}$."
   ]
  },
  {
   "cell_type": "markdown",
   "id": "b042eb95",
   "metadata": {
    "slideshow": {
     "slide_type": "fragment"
    }
   },
   "source": [
    "<br>\n",
    "<br>\n",
    "\n",
    "Los 2 ejemplos mencionados antes son de este último tipo, ya que en ambos casos nuestro sistema es una parte de un sistema más grande que incluye el entorno, y al que no podemos tener acceso."
   ]
  },
  {
   "cell_type": "markdown",
   "id": "43718b8e",
   "metadata": {
    "slideshow": {
     "slide_type": "slide"
    }
   },
   "source": [
    "<a id=\"mat_dens\"></a>\n",
    "<a id='dirac'></a>\n",
    "<table width=\"100%\">\n",
    "    <td style=\"font-size:25px;font-family:Helvetica;text-align:left;background-color:rgba(0,0,900, 0.3);\">\n",
    "<b>Operador densidad</b>\n",
    "</table>   \n"
   ]
  },
  {
   "cell_type": "markdown",
   "id": "e9291dad",
   "metadata": {
    "slideshow": {
     "slide_type": "-"
    }
   },
   "source": [
    "Supongamos que a nuestro sistema le podemos asignar un estado mezclado descrito por   $X = \\{\\ket{\\psi_\\alpha},p_\\alpha\\}$: \n",
    "\n",
    "\n",
    "- ¿Cuál es la forma correcta de describir la información accesible?\n",
    "<br>\n",
    "\n",
    "- ¿Cómo generalizar los axiomas de la MC a esta situación?\n",
    "\n"
   ]
  },
  {
   "cell_type": "markdown",
   "id": "f70bba61",
   "metadata": {
    "slideshow": {
     "slide_type": "fragment"
    }
   },
   "source": [
    "Empecemos calculando la probabilidad $p(\\lambda_n)$ de encontrar un autovector $\\ket{\\lambda_n}$ como resultado de la medida de un observable $A$"
   ]
  },
  {
   "cell_type": "markdown",
   "id": "0317f575",
   "metadata": {
    "slideshow": {
     "slide_type": "slide"
    }
   },
   "source": [
    "Dicha probabilidad,  debe ser la *suma ponderada* de probabilidades *condicionadas  a que el estado sea cada uno de los estados posibles* $\\ket{\\psi_\\alpha}$\n",
    "<br>\n",
    "<br>\n",
    "<br>\n",
    "\\begin{eqnarray}\n",
    "p(\\lambda_n) &=&\n",
    "\\sum_\\alpha p(\\lambda_n | \\alpha) p_\\alpha \n",
    "\\\\ \\rule{0mm}{8mm}\n",
    "&=& \\sum_\\alpha  |\\braket{\\lambda_n}{\\psi_\\alpha}|^2  p_\\alpha =  \\sum_\\alpha p_\\alpha \\braket{\\lambda_n}{\\psi_\\alpha}\\braket{\\psi_\\alpha}{\\lambda_n} \\\\ \\rule{0mm}{6mm}\n",
    "&=& \\bra{\\lambda_n}\\left(\\rule{0mm}{8mm}\\sum_\\alpha p_\\alpha \\ket{\\psi_\\alpha}\\bra{\\psi_\\alpha}\\right)\\ket{\\lambda_n} \\\\ \\rule{0mm}{8mm}\n",
    "&\\equiv&\\bra{\\lambda_n}\\rho\\ket{\\lambda_n}\\\\ \\rule{0mm}{8mm}\n",
    "\\end{eqnarray}\n"
   ]
  },
  {
   "cell_type": "markdown",
   "id": "97da411a",
   "metadata": {
    "slideshow": {
     "slide_type": "slide"
    }
   },
   "source": [
    "El resultado anterior muestra la aparición en escena de un *nuevo operador* formado con <u>los datos del *colectivo aleatorio*</u> $\\{\\ket{\\psi_\\alpha},p_\\alpha\\}$  \n",
    "<br>\n",
    "\n",
    "$$\n",
    "\\rho = \\sum_\\alpha p_\\alpha \\ket{\\psi_\\alpha}\\bra{\\psi_\\alpha} = \\sum_\\alpha p_\\alpha P_\\alpha\n",
    "$$\n",
    "\n"
   ]
  },
  {
   "cell_type": "markdown",
   "id": "6dd12c33",
   "metadata": {
    "slideshow": {
     "slide_type": "fragment"
    }
   },
   "source": [
    "$\\rho ~$ se denomina *operador densidad* y consiste en una *suma ponderada* de *proyectores* $P_\\alpha$, sobre cada uno de los subespacios generados por los *estados posibles* $\\ket{\\psi_\\alpha}$ \n",
    "\n",
    "Este es el objeto matemático que caracteriza un estado mezcla. \n",
    "<br>\n",
    "<br>\n",
    "En particular:\n"
   ]
  },
  {
   "cell_type": "markdown",
   "id": "9fdff0a0",
   "metadata": {
    "slideshow": {
     "slide_type": "fragment"
    }
   },
   "source": [
    "<div class=\"alert alert-block alert-info\",text-align:center>\n",
    "<p style=\"text-align: left ;color: navy;\">  \n",
    "La probabilidad de medir el autovalor $\\lambda_n$ es el valor esperado\n",
    "<br>\n",
    "<br>\n",
    "$$\n",
    "p(\\lambda_n) =\\bra{\\lambda_n }\\rho\\ket{\\lambda_n} \n",
    "$$\n",
    "</div>    "
   ]
  },
  {
   "cell_type": "markdown",
   "id": "37a01864",
   "metadata": {
    "slideshow": {
     "slide_type": "slide"
    }
   },
   "source": [
    "<a id='prop_op_dens'></a>\n",
    "## Propiedades del operador densidad"
   ]
  },
  {
   "cell_type": "markdown",
   "id": "dc4ac180",
   "metadata": {
    "slideshow": {
     "slide_type": "-"
    }
   },
   "source": [
    "Podemos ahora invertir la pregunta: \n",
    "\n",
    "dado un operador $\\rho$, ¿qué condiciones debe verificar para poder representar el estado de un sistema?\n",
    "\n",
    "\n",
    "La caracterización más general es la siguiente:"
   ]
  },
  {
   "cell_type": "markdown",
   "id": "77e2d649",
   "metadata": {
    "slideshow": {
     "slide_type": "fragment"
    }
   },
   "source": [
    "<div class=\"alert alert-block alert-info\",text-align:center>\n",
    "<p style=\"text-align: left ;color: navy;\">  \n",
    "<b> Teorema</b>:\n",
    "    <br> un operador, $\\rho$, podrá ser el <i>operador densidad</i> de un sistema cuántico, si cumple los requisitos de     \n",
    "<br>\n",
    "<br>    \n",
    "-    ser hermítico $\\rho = \\rho^\\dagger$\n",
    "<br>\n",
    "<br>\n",
    "-    ser semidefinido positivo\n",
    "<br>\n",
    "<br>    \n",
    "-   tener traza unidad $~\\tr \\rho = 1$ \n",
    "</p>\n",
    "</div>"
   ]
  },
  {
   "cell_type": "markdown",
   "id": "de7d3758",
   "metadata": {
    "slideshow": {
     "slide_type": "slide"
    }
   },
   "source": [
    "*Prueba*\n",
    "\n",
    "- la hermiticidad asegura que $\\rho$ admite una descomposición espectral\n",
    "<br>\n",
    "<br>\n",
    "$$\n",
    "\\rho =  \\sum_\\alpha p_\\alpha \\ket{\\psi_\\alpha}\\bra{\\psi_\\alpha} = \\rho^\\dagger\n",
    "$$\n",
    "<br>\n",
    "dado que $p_\\alpha$ son autovalores reales"
   ]
  },
  {
   "cell_type": "markdown",
   "id": "cffb5842",
   "metadata": {
    "slideshow": {
     "slide_type": "fragment"
    }
   },
   "source": [
    "- la semidefinición positiva garantiza que dichos autovalores son no-negativos\n",
    "\n",
    "$$p_\\alpha\\geq 0$$\n"
   ]
  },
  {
   "cell_type": "markdown",
   "id": "3dcefc31",
   "metadata": {
    "slideshow": {
     "slide_type": "fragment"
    }
   },
   "source": [
    "- finalmente la traza unitaria permite dar a  $p_\\alpha$ el significado de probabilidades \n",
    "<br>\n",
    "<br>\n",
    "$$\n",
    "{\\rm Tr}\\, \\rho = {\\rm \\Tr} \\sum_\\alpha p_\\alpha \\ket{\\psi_\\alpha}\\bra{\\psi_\\alpha} = \\sum_\\alpha p_\\alpha \\braket{\\psi_\\alpha}{\\psi_\\alpha} = \\sum_\\alpha p_\\alpha = 1\n",
    "$$"
   ]
  },
  {
   "cell_type": "markdown",
   "id": "7cc58a49",
   "metadata": {
    "slideshow": {
     "slide_type": "skip"
    }
   },
   "source": [
    "En resumen, para todo operador $\\rho$ que satisface los requisitos, existe un colectivo \n",
    "$\\{\\ket{\\psi_\\alpha},p_\\alpha\\}$ del cuál, $\\rho$ es el operador densidad asociado."
   ]
  },
  {
   "cell_type": "markdown",
   "id": "88bc7c70",
   "metadata": {
    "slideshow": {
     "slide_type": "skip"
    }
   },
   "source": [
    "<div class=\"alert alert-block alert-danger\">\n",
    "<b>Notar</b>:\n",
    "el espacio de Hilbert $\\Hil$ es un espacio de dimensión $N$ arbitrario. Pero en el contexto de este curso, es natural pensar en $\\Hil$ como el <i>espacio multi-cúbit</i> formado por el producto tensorial de $n-$cúbits, $\\Hil_2^{\\otimes n}$ cuya dimensión es $N= 2^n$. \n",
    "\n",
    "Así, a un colectivo $\\{\\ket{\\psi_a},p_a\\}$ de estados del sistema multi-cúbit\n",
    "\n",
    "<br>   \n",
    "$$\n",
    "\\ket{\\psi_a} = \\sum_{i_1,...,i_n=0,1} c^{(\\alpha)}_{i_1...i_n} \\ket{i_1... i_n}\n",
    "$$\n",
    "    \n",
    "    \n",
    "le podremos asociar una matriz densidad \n",
    "    \n",
    "$$\\rho = \\sum_a p_a \\ket{\\psi_a}\\bra{\\psi_a}$$\n",
    "\n",
    "</div>   "
   ]
  },
  {
   "cell_type": "markdown",
   "id": "f8f70862",
   "metadata": {
    "slideshow": {
     "slide_type": "skip"
    }
   },
   "source": [
    "<div class=\"alert alert-block alert-success\">\n",
    "<b> Ejercicio </b>:     \n",
    "<br> \n",
    "escribe una función $density\\_operator$ en python que tome por argumentos una lista $\\{p_a\\}, \\, a=1,..,r$ de probabilidades, y otra lista $\\{\\ket{\\psi_a}\\}$ de vectores normalizados en un espacio $\\Hil$ de dimensión $d$, y devuelva el operador densidad $\\rho$.\n",
    "    \n",
    "Ejecútala con argumentos generados aleatoriamente y verifica que se cumplen las propiedades que definen una matriz densidad. \n",
    "</div>"
   ]
  },
  {
   "cell_type": "markdown",
   "id": "60db91dd",
   "metadata": {
    "slideshow": {
     "slide_type": "slide"
    }
   },
   "source": [
    "### Convexidad \n"
   ]
  },
  {
   "cell_type": "markdown",
   "id": "f293515a",
   "metadata": {
    "slideshow": {
     "slide_type": "-"
    }
   },
   "source": [
    "Las propiedades que definen un operador densidad restringen el espacio $\\Lin(\\Hil)$ a un subconjunto más restringido que un subespacio vectorial. \n",
    "\n",
    "Es trivial demostrar el siguiente teorema que afirma que el conjunto de operadores densidad es un **conjunto convexo**"
   ]
  },
  {
   "cell_type": "markdown",
   "id": "357e3513",
   "metadata": {
    "slideshow": {
     "slide_type": "fragment"
    }
   },
   "source": [
    "<div class=\"alert alert-block alert-info\",text-align:center>\n",
    "<p style=\"text-align: left ;color: navy;\">  \n",
    "<b> Teorema</b>: <i>(convexidad)</i>:   $~$ el conjunto de operadores densidad es un <i>conjunto convexo</i> :\n",
    "</div>    "
   ]
  },
  {
   "cell_type": "markdown",
   "id": "b2ecfddd",
   "metadata": {},
   "source": [
    "Es decir: sean $r$ operadores densidad $\\rho_a$, $a=1,...,r$, la combinación \n",
    "<br>\n",
    "$$\n",
    "\\rho = \\sum_{a=1}^r p_a \\rho_a\n",
    "$$\n",
    "<br>\n",
    "donde $p_a\\geq 0$ con $\\sum_a p_a = 1$, *es un operador densidad*"
   ]
  },
  {
   "cell_type": "markdown",
   "id": "e049da35",
   "metadata": {
    "slideshow": {
     "slide_type": "slide"
    }
   },
   "source": [
    "- La combinación lineal del teorema tiene a todas las matrices densidad $\\rho_a$ como casos particulares\n",
    "<br>\n",
    "<br>\n",
    "- El caso $r=2$ es una *cuerda* $\\rho = p \\rho_1  + (1-p) \\rho_2$ de matrices densidad que interpolan entre $\\rho_1$ y $\\rho_2$ "
   ]
  },
  {
   "cell_type": "markdown",
   "id": "1b42d6d5",
   "metadata": {
    "slideshow": {
     "slide_type": "-"
    }
   },
   "source": [
    "<div class=\"alert alert-block alert-success\">\n",
    "    <b> Ejercicio </b>:\n",
    "demuestra el teorema de convexidad.\n",
    "</div>"
   ]
  },
  {
   "cell_type": "markdown",
   "id": "70808882",
   "metadata": {
    "slideshow": {
     "slide_type": "slide"
    }
   },
   "source": [
    "### Unicidad del operador densidad\n"
   ]
  },
  {
   "cell_type": "markdown",
   "id": "46940606",
   "metadata": {
    "slideshow": {
     "slide_type": "-"
    }
   },
   "source": [
    "A todo colectivo $\\{\\ket{\\psi_\\alpha},p_\\alpha\\}$ le podemos asociar un  **único** operador densidad. \n",
    "\n",
    "Pero esta relación no es inyectiva $~\\Rightarrow ~$  hay muchos (de hecho infinitos) colectivos que se describen mediante *el mismo operador densidad*\n",
    "<br>\n",
    "<br>\n",
    "$$\n",
    "\\rho ~=~ p_\\alpha \\ket{\\psi_\\alpha}\\bra{\\psi_\\alpha} ~=~ \\sum_\\beta \\tilde p_\\beta \\ket{\\tilde \\psi_\\beta}\\bra{\\tilde \\psi_\\beta} = ...\n",
    "$$\n"
   ]
  },
  {
   "cell_type": "markdown",
   "id": "842f97a2",
   "metadata": {
    "slideshow": {
     "slide_type": "fragment"
    }
   },
   "source": [
    "En consecuencia: la probabilidades $p(\\lambda_n) = \\Tr (P_n\\rho)$ serán idénticas para todos los colectivos. \n",
    "<br>\n",
    "<br>\n",
    "Esto quiere decir que, en un estado mezclado:  *será imposible discernir cuál ha sido la preparación del estado a partir del las mediciones de experimentos cuánticos*.\n",
    "\n"
   ]
  },
  {
   "cell_type": "markdown",
   "id": "d0be4f1c",
   "metadata": {
    "slideshow": {
     "slide_type": "slide"
    }
   },
   "source": [
    "<div class=\"alert alert-block alert-success\">\n",
    "    <b> Ejercicio </b>:\n",
    "<br>\n",
    "verifica que \n",
    "$$\n",
    "\\rho = \\frac{1}{2}\\ketbra{\\tilde 0}{\\tilde 0} + \\frac{1}{2}\\ketbra{\\tilde 1}{\\tilde 1} = \n",
    "\\frac{2}{3}\\ketbra{0}{0} + \\frac{1}{3}\\ketbra{1}{1}  \n",
    "$$\n",
    "    \n",
    "si ambos colectivos se relacionan como sigue    \n",
    "<br>   \n",
    "$$\n",
    "\\ket{\\tilde 0} = \\sqrt{\\frac{2}{3}}\\ket{0} + \\sqrt{\\frac{1}{3}} \\ket{1} ~~~;~~~~\n",
    "\\ket{\\tilde 1} = \\sqrt{\\frac{2}{3}}\\ket{0} - \\sqrt{\\frac{1}{3}} \\ket{1} \n",
    "$$\n",
    "</div>"
   ]
  },
  {
   "cell_type": "markdown",
   "id": "9095f801",
   "metadata": {
    "slideshow": {
     "slide_type": "skip"
    }
   },
   "source": [
    "### Evolución temporal \n",
    "\n",
    "La evolución hamiltoniana de un sistema $\\ket{\\psi(t)} = U(t,t_0)\\ket{\\psi(t_0)}$ se traduce en la evolución unitaria de la matriz densidad\n",
    "<br>\n",
    "\n",
    "\\begin{eqnarray}\n",
    "\\rho(t)        &=&  U(t,t_0) \\rho(t_0) U^{\\dagger}(t,t_0)\n",
    "\\end{eqnarray}\n",
    "\n",
    "<br>\n"
   ]
  },
  {
   "cell_type": "markdown",
   "id": "2621ffda",
   "metadata": {
    "slideshow": {
     "slide_type": "skip"
    }
   },
   "source": [
    "a partir de aquí, es fácil obtener la ecuación diferencial de von Neumann\n",
    "\n",
    "\\begin{eqnarray}\n",
    "i \\hbar \\dot \\rho(t) &=& i\\hbar (\\dot U \\rho(t_0)U^{-1} + U \\rho(t_0)\\dot U^{-1}  \\\\ \\rule{0mm}{10mm}\n",
    "&=& H \\rho(t_0)U^{-1} - U \\rho(t_0) U^{-1} H \\\\  \\rule{0mm}{10mm}\n",
    "&=& [H,\\rho(t)]\n",
    "\\end{eqnarray}\n",
    "\n",
    "<br>"
   ]
  },
  {
   "cell_type": "markdown",
   "id": "d41a01df",
   "metadata": {
    "slideshow": {
     "slide_type": "slide"
    }
   },
   "source": [
    "## Casos particulares de operador densidad"
   ]
  },
  {
   "cell_type": "markdown",
   "id": "91487b9d",
   "metadata": {
    "slideshow": {
     "slide_type": "-"
    }
   },
   "source": [
    "### Operador densidad de un estado puro\n",
    "\n",
    "\n",
    "La matriz densidad es un formalismo más general que el del vector estado, que sólo se aplica en el caso de ser el estado puro. \n"
   ]
  },
  {
   "cell_type": "markdown",
   "id": "4704dbdd",
   "metadata": {
    "slideshow": {
     "slide_type": "fragment"
    }
   },
   "source": [
    "En efecto, el operador densidad asociado a un estado puro $\\ket{\\psi_0}$ se obtiene haciendo todas las probabilidades $p_{\\alpha\\neq 0}=0$ y $p_{0} = 1$. Entonces el colectivo $\\{\\ket{\\psi_0},p_0=1\\}$ lleva asociado el operador\n",
    "\n",
    "$$\n",
    "\\rho = \\ket{\\psi_0}\\bra{\\psi_0} = \\begin{bmatrix}1 &  & \\\\ & 0 & \\\\ & & \\ddots  \\end{bmatrix}\n",
    "$$\n"
   ]
  },
  {
   "cell_type": "markdown",
   "id": "13d209a1",
   "metadata": {
    "slideshow": {
     "slide_type": "fragment"
    }
   },
   "source": [
    "Es evidente que esta expresión cumple la propiedad que caracteriza a un *proyector*\n",
    "\n",
    "$$\n",
    "\\rho^2 = \\rho\n",
    "$$\n",
    "\n",
    "y esto es una ecuación que <u>*caracteriza*  a los operadores densidad asociados a estados puros</u>"
   ]
  },
  {
   "cell_type": "markdown",
   "id": "6c1f59f7",
   "metadata": {
    "slideshow": {
     "slide_type": "slide"
    }
   },
   "source": [
    "**Por el contrario**, para un estado mezcla podemos ver que $\\rho^2 \\neq \\rho$\n",
    "<br>\n",
    "<br>\n",
    "<br>\n",
    "\\begin{eqnarray}\n",
    "\\rho^2  &=&\\left(\n",
    "\\sum_{\\alpha} p_\\alpha \\ketbra{\\psi_\\alpha}{\\psi_\\alpha}\\right)\n",
    "\\left(\\sum_{\\beta}p_\\beta \\ketbra{\\psi_\\beta}{\\psi_\\beta}\\right) \\\\\n",
    "&=& \\sum_\\alpha p_\\alpha^2 \\ketbra{\\psi_\\alpha}{\\psi_\\alpha} \\\\\n",
    "&\\neq &  \\sum_\\alpha p_\\alpha \\ketbra{\\psi_\\alpha}{\\psi_\\alpha} = \\rho\n",
    "\\end{eqnarray}\n"
   ]
  },
  {
   "cell_type": "markdown",
   "id": "03989a51",
   "metadata": {
    "slideshow": {
     "slide_type": "slide"
    }
   },
   "source": [
    "<div class=\"alert alert-block alert-info\",text-align:center>\n",
    "<p style=\"text-align: left ;color: navy;\">  \n",
    "<b> Lema</b>: si $\\rho$ es un estado puro, $\\Tr\\rho^2 = 1$, y si es mezclado $\\Tr \\rho^2 < 1$. \n",
    "</div>"
   ]
  },
  {
   "cell_type": "markdown",
   "id": "1cf61a2f",
   "metadata": {
    "slideshow": {
     "slide_type": "fragment"
    }
   },
   "source": [
    "<div class=\"alert alert-block alert-success\">\n",
    "    <b> Ejercicio </b>:\n",
    "demuestra este lema.\n",
    "</div>\n",
    "\n",
    "<details>\n",
    "    <summary><p style=\"text-align: right ;color: navy\"> >> <i>Solución</i> </p></summary>\n",
    "\n",
    "*Prueba:*\n",
    "\n",
    "Por un lado, el valor de $\\Tr \\rho^2$ es independiente de la base. Por tanto podemos calcularla en la base $\\ket{\\psi_a}$ de autovectores\n",
    "</p>\n",
    "$$\n",
    "\\Tr \\rho^2 = \\Tr \\left(\\sum_a \\lambda_a\\ketbra{\\psi_a}{\\psi_a}\\right)^2 = \\sum_a \\lambda_a^2\n",
    "$$\n",
    "Pero como $\\lambda_a \\leq 1$ encontramos dos posibilidades. \n",
    "\n",
    "- Si sólo hay un autovalor no nulo, $\\lambda_1 = 1$, el estado es puro, y $\\Tr \\rho^2 = 1$. \n",
    "\n",
    "- Si hay más de un autovalor no nulo, el estado es mezclado y $\\Tr\\rho^2 < 0$.\n",
    "\n",
    "</details>\n"
   ]
  },
  {
   "cell_type": "markdown",
   "id": "852f0692",
   "metadata": {
    "slideshow": {
     "slide_type": "fragment"
    }
   },
   "source": [
    "Definimos la <i>pureza</i> de un estado como la cantidad $ \\Tr \\rho^2$  \n"
   ]
  },
  {
   "cell_type": "code",
   "execution_count": null,
   "id": "be159552",
   "metadata": {
    "slideshow": {
     "slide_type": "skip"
    }
   },
   "outputs": [],
   "source": [
    "from qiskit import QuantumCircuit\n",
    "from qiskit.quantum_info import  DensityMatrix\n",
    "from qiskit.visualization import plot_state_city, array_to_latex, plot_state_hinton\n",
    "\n",
    "qc = QuantumCircuit(2)\n",
    "qc.h(0)\n",
    "qc.cx(0,1)\n",
    "\n",
    "\n",
    "# plot state using a DensityMatrix\n",
    "rho_state = DensityMatrix(qc)\n",
    "display(array_to_latex(rho_state.data))\n",
    "\n",
    "plot_state_city(rho_state)\n",
    "\n"
   ]
  },
  {
   "cell_type": "code",
   "execution_count": null,
   "id": "3cbaeb25",
   "metadata": {
    "slideshow": {
     "slide_type": "skip"
    }
   },
   "outputs": [],
   "source": [
    "# tr(\\rho)\n",
    "print(rho_state.trace())\n",
    "\n",
    "# pureza = tr(\\rho**2)\n",
    "print(rho_state.purity())"
   ]
  },
  {
   "cell_type": "markdown",
   "id": "8bfc4936",
   "metadata": {
    "slideshow": {
     "slide_type": "slide"
    }
   },
   "source": [
    "### Estado maximalmente mezclado\n",
    "<br>\n",
    "\n",
    "En el extremo opuesto de un estado puro, encontramos un estado *maximalmente mezclado*, en el cual \n",
    "\n",
    "- *todos* los estados de la mezcla son mutuamente ortogonales  $\\braket{\\psi_\\alpha}{\\psi_\\beta} = \\delta_{\\alpha\\beta}$\n",
    "<br>\n"
   ]
  },
  {
   "cell_type": "markdown",
   "id": "f4f1eecd",
   "metadata": {
    "slideshow": {
     "slide_type": "fragment"
    }
   },
   "source": [
    "- aparecen de manera *equiprobable* $\\{\\ket{\\psi_\\alpha},p_\\alpha = \\frac{1}{d}\\}, \\alpha = 1,...,d$\n",
    "$$\n",
    "\\rho = \\sum_{\\alpha=1}^d \\frac{1}{d} \\ket{\\psi_\\alpha}\\bra{\\psi_\\alpha} = \\frac{1}{d} I = \\begin{bmatrix}1/d &  & & \\\\ & 1/d &  &\\\\ & & &\\ddots & \\\\ & & & & 1/d \\end{bmatrix}\n",
    "$$\n",
    "<br>\n",
    "Por tanto, es una matriz diagonal proporcional a la identidad. "
   ]
  },
  {
   "cell_type": "markdown",
   "id": "69588dea",
   "metadata": {
    "slideshow": {
     "slide_type": "fragment"
    }
   },
   "source": [
    "La pureza de un estado máximalmente mezclado es mínima\n",
    "\n",
    "$$\n",
    "1 \\geq \\tr \\rho^2 \\geq  \\sum_{i=1}^d \\frac{1}{d^2} = \\frac{1}{d}\n",
    "$$"
   ]
  },
  {
   "cell_type": "markdown",
   "id": "32cf1005",
   "metadata": {
    "slideshow": {
     "slide_type": "slide"
    }
   },
   "source": [
    "### Estado parcialmente mezclado \n",
    "\n",
    "Entre los dos extremos mencionados anteriormente, estado puro y estado maximalmente mezclado se sitúa cualquier estado $\\rho$ genérico. Si escribimos\n",
    "\n",
    "$$\n",
    "\\rho = \\sum_{\\alpha=0}^{r-1} p_\\alpha \\ket{\\psi_\\alpha}\\bra{\\psi_\\alpha}\n",
    "$$\n",
    "\n",
    "Aunque $p_\\alpha = 1/d$, si $r\\neq d$, o los estados no son ortonormales $\\braket{\\psi_\\alpha}{\\psi_\\beta}\\neq \\delta_{\\alpha\\beta}$, entonces el estado es *parcialmente mezclado*.\n"
   ]
  },
  {
   "cell_type": "markdown",
   "id": "77c0c142",
   "metadata": {
    "slideshow": {
     "slide_type": "skip"
    }
   },
   "source": [
    "<div class=\"alert alert-block alert-success\">\n",
    "<b> Ejercicio </b>:   \n",
    "<br>\n",
    "Usando la función $get\\_density\\_operator$, genera de forma aleatoria operadores densidad para distintos valores de $r$ y $d$. \n",
    "<br>\n",
    "Obtén los valores de $\\tr \\rho$ y $\\tr \\rho^2$ \n",
    "\n",
    "</div>"
   ]
  },
  {
   "cell_type": "markdown",
   "id": "187a7160",
   "metadata": {
    "slideshow": {
     "slide_type": "skip"
    }
   },
   "source": [
    "<div class=\"alert alert-block alert-success\">\n",
    "<b> Ejercicio </b>:     \n",
    "<br> \n",
    "Dado un operador $A\\in \\Lin(\\Hil)$ verifica que $\\rho = A^\\dagger A/(\\hbox{tr} A^\\dagger A)$ es operador densidad. \n",
    "\n",
    "¿Qué ocurre cuándo $A$ es hermítico?\n",
    "</div>"
   ]
  },
  {
   "cell_type": "markdown",
   "id": "d7a35c95",
   "metadata": {
    "slideshow": {
     "slide_type": "skip"
    }
   },
   "source": [
    "\n",
    "### Estado térmico, o de Gibbs\n",
    "\n",
    "Un caso muy importante de mezcla parcial es el *estado de Gibbs*, que describe un sistema cuando alcanza el *equilibrio término a una temperatura $T$*.\n",
    "\n",
    "En este caso, los estados $\\{\\ket{\\psi_\\alpha}= \\ket{E_\\alpha}\\}$ son la *base de autoestados del operador Hamiltoniano*,\n",
    "\n",
    "$$\n",
    "H\\ket{E_\\alpha} = E_\\alpha \\ket{E_\\alpha}\n",
    "$$\n",
    "\n",
    "y los autovalores $E_\\alpha\\, \\alpha = 1,2...d$ son los *niveles de energía* del sistema. \n",
    "\n",
    "<br>"
   ]
  },
  {
   "cell_type": "markdown",
   "id": "2b34e7f4",
   "metadata": {
    "slideshow": {
     "slide_type": "skip"
    }
   },
   "source": [
    "Cuando un sistema está en contacto con un baño térmico a temperatura $T$ el estado de energía no está bien definido, sino que es una *mezcla estadística* denominada **colectivo canónico**\n",
    "\n",
    "$$\\left\\{\\rule{0mm}{5mm}\\ket{E_\\alpha}, p_\\alpha = e^{-E_\\alpha/k_BT}\\right\\}$$\n",
    "\n",
    "- Los coeficientes $p_\\alpha = e^{-E_\\alpha/k_BT}$ se denominan *coeficientes de Boltzmann*  codifican la probabilidad  de hallarse en el estado (nivel de energía) $\\ket{E_\\alpha}$. \n",
    "<br>\n",
    "\n",
    "- el denominador común  $k_B T$ es una energía característica para las temperatura $T$, y $k_B$ es una constante universal denominada *constante de Boltzmann* \n"
   ]
  },
  {
   "cell_type": "markdown",
   "id": "e479b4e4",
   "metadata": {
    "slideshow": {
     "slide_type": "skip"
    }
   },
   "source": [
    "La matriz densidad que describe el estado de este sistema es el denominado *estado de Gibbs*\n",
    "\n",
    "<br>\n",
    "\n",
    "$$\n",
    "\\rho(T) = \\frac{1}{Z}\\sum_{\\alpha=1}^d e^{-E_\\alpha/k_BT} \\ket{E_\\alpha}\\bra{E_\\alpha} = \\frac{1}{Z} \\begin{bmatrix}e^{-E_0/k_BT}&  & \\\\ & e^{-E_1/k_BT} & \\\\ &  &\\ddots  \\end{bmatrix} \\, ,\n",
    "$$\n",
    "<br>\n",
    "\n",
    "donde  $Z =\\sum_\\alpha e^{-E_\\alpha/k_BT}$ se denomina *Función de Partición* y es la *normalización necesaria* para que $\\tr\\rho(T) = 1$."
   ]
  },
  {
   "cell_type": "markdown",
   "id": "1e6e30a1",
   "metadata": {
    "slideshow": {
     "slide_type": "skip"
    }
   },
   "source": [
    "La energía del sistema a cada temperatura, vendrá dada por un promedio sobre todos los autoestados pesados por la matriz densidad a dicha temperatura\n",
    "\n",
    "$$\n",
    "\\langle E \\rangle_T = \\tr (\\rho(T) H)\n",
    "$$"
   ]
  },
  {
   "cell_type": "markdown",
   "id": "30d4ef21",
   "metadata": {
    "slideshow": {
     "slide_type": "skip"
    }
   },
   "source": [
    "<div class=\"alert alert-block alert-success\">\n",
    "<b>Ejercicio:</b> probar  que recuperamos los casos puro y maximalmente mezclado en los límites siguientes\n",
    "\n",
    "-   $\\rho(T=0) = \\ketbra{E_0}{E_0}$\n",
    "<br>\n",
    "\n",
    "\n",
    "-   $\\rho(T=\\infty) = \\frac{1}{d} I$\n",
    "</div>   "
   ]
  },
  {
   "cell_type": "markdown",
   "id": "83c2982b",
   "metadata": {
    "slideshow": {
     "slide_type": "skip"
    }
   },
   "source": [
    "<div class=\"alert alert-block alert-success\">\n",
    "<b>Ejercicio:</b> genera aleatoriamente un estado de Gibbs a temperatura $T$ y grafica los valores de $p_\\alpha(T)$\n",
    "    para distintos valores de $T$ (toma $k_B=1$).\n",
    "<br>\n",
    "</div>   "
   ]
  },
  {
   "cell_type": "markdown",
   "id": "5455e038",
   "metadata": {
    "slideshow": {
     "slide_type": "slide"
    }
   },
   "source": [
    "<a id='cubitmezcla'></a>\n",
    "## Cúbit mezclado: bola de Bloch \n"
   ]
  },
  {
   "cell_type": "markdown",
   "id": "566a64d2",
   "metadata": {
    "slideshow": {
     "slide_type": "-"
    }
   },
   "source": [
    "Sobre $\\Hil = {\\mathbb C}^2$, el operador hermítico más general se puede expandir en la base $\\{ I, \\sigma_x, \\sigma_y,\\sigma_z\\}$\n",
    "\n",
    "$$\n",
    "\\rho = \\frac{1}{2} ( I + {\\bf u}\\cdot \\boldsymbol \\sigma)\n",
    "$$\n",
    "\n",
    "donde ${\\bf u} = (u_x,u_y,u_z)$ es un vector real tri-dimensional."
   ]
  },
  {
   "cell_type": "markdown",
   "id": "14a191f4",
   "metadata": {
    "slideshow": {
     "slide_type": "fragment"
    }
   },
   "source": [
    "Escribiendo $\\rho$ explícitamente se sigue que \n",
    "\n",
    "$$\n",
    "\\det \\rho = \\frac{1}{4} (1- | {\\bf u}|^2) = \\frac{1}{4}(1+ | {\\bf u}|)(1- | {\\bf u}|) = \\lambda_+\\lambda_-\n",
    "$$\n",
    "\n",
    "lo cual implica que los *autovalores* de $\\rho$ son $\\lambda_\\pm = \\frac{1}{2}(1\\pm | {\\bf u}|)$"
   ]
  },
  {
   "cell_type": "markdown",
   "id": "f4a9efe8",
   "metadata": {
    "slideshow": {
     "slide_type": "slide"
    }
   },
   "source": [
    "Para que $\\rho$ sea semidefinida positiva, debe ocurrir que\n",
    "\n",
    "$$\n",
    "0\\leq |{\\bf u} | \\leq 1\n",
    "$$\n"
   ]
  },
  {
   "cell_type": "markdown",
   "id": "b4c79254",
   "metadata": {
    "slideshow": {
     "slide_type": "-"
    }
   },
   "source": [
    "<div class=\"alert alert-block alert-info\">\n",
    "<p style=\"text-align:left ;color: navy;\">  \n",
    "<b> Lema </b>:\n",
    "<br>    \n",
    "    El cúbit mezcla <i> más general</i> se puede parametrizar como un punto en la <i> bola de Bloch </i> $|{\\bf u}|\\leq 1$ en la forma\n",
    "<br>\n",
    "<br>    \n",
    "$$\n",
    "{\\bf u} = u\\left(\\cos\\theta\\ket{0} + e^{i\\phi}\\sin\\theta \\ket{1} \\right) \n",
    "$$\n",
    "<br>    \n",
    "donde $u\\in [0,1]$.\n",
    "</p>\n",
    "</div>\n",
    "\n"
   ]
  },
  {
   "cell_type": "markdown",
   "id": "bf59d663",
   "metadata": {
    "slideshow": {
     "slide_type": "-"
    }
   },
   "source": [
    "\n",
    "Encontramos los dos casos límite"
   ]
  },
  {
   "cell_type": "markdown",
   "id": "1a6107cb",
   "metadata": {
    "slideshow": {
     "slide_type": "slide"
    }
   },
   "source": [
    "-  $|{\\bf u}| = 0 \\to  \\lambda_+ = \\lambda_- = 1/2$, en el *centro de la bola de Bloch*\n",
    "<br>\n",
    "En este caso el cúbit está en una estado maximalmente mezclado\n",
    "\n",
    "$$\n",
    "\\rho = \\begin{bmatrix} 1/2 & 0 \\\\ 0 & 1/2 \\end{bmatrix}\n",
    "$$"
   ]
  },
  {
   "cell_type": "markdown",
   "id": "5782c067",
   "metadata": {
    "slideshow": {
     "slide_type": "fragment"
    }
   },
   "source": [
    "- $|{\\bf u}| = 1 \\to \\lambda_+ = 1, \\lambda_- = 0 $\n",
    ", sobre la *esfera de Bloch*\n",
    "<br>\n",
    "En este caso el cúbit está en una estado puro\n",
    "\n",
    "$$\n",
    "\\rho = \\begin{bmatrix} 1 & 0 \\\\ 0 & 0 \\end{bmatrix} = \\rho^2\n",
    "$$\n"
   ]
  },
  {
   "cell_type": "markdown",
   "id": "c9c3e9f4",
   "metadata": {
    "slideshow": {
     "slide_type": "slide"
    }
   },
   "source": [
    "<a id=\"med_mat_dens\"></a>\n",
    "<table width=\"100%\">\n",
    "    <td style=\"font-size:25px;font-family:Helvetica;text-align:left;background-color:rgba(0,0,900, 0.3);\">\n",
    "<b>Medidas proyectivas en estados mezclados</b>\n",
    "</table>   \n"
   ]
  },
  {
   "cell_type": "markdown",
   "id": "793109da",
   "metadata": {
    "slideshow": {
     "slide_type": "-"
    }
   },
   "source": [
    "El escenario ahora es un estado general $\\rho$ sobre el que efectuamos una medida asociada a un *observable* que admite una descomposición espectral\n",
    "<br>\n",
    "<br>\n",
    "\n",
    "$$\n",
    "A = \\sum_n \\lambda_n \\ketbra{\\lambda_n}{\\lambda_n} = \\sum_n \\lambda_n P_n\n",
    "$$\n",
    "\n",
    "donde el operador de proyección $P_n = \\ket{\\lambda_n}\\bra{\\lambda_n}$.\n"
   ]
  },
  {
   "cell_type": "markdown",
   "id": "43c51e31",
   "metadata": {},
   "source": [
    "Ya hemos visto cómo escribir la probabilidad de medir el autovalor $\\lambda_n$ al inicio de este capítulo\n",
    "\n",
    "$$\n",
    "p(\\lambda_n) = \\bra{\\lambda_n}\\rho \\ket{\\lambda_n}\n",
    "$$"
   ]
  },
  {
   "cell_type": "markdown",
   "id": "95a886a4",
   "metadata": {
    "slideshow": {
     "slide_type": "skip"
    }
   },
   "source": [
    "\n",
    "**Axioma V: Colapso de la Función de onda**\n",
    "\n",
    "<div class=\"alert alert-block alert-info\",text-align:center>\n",
    "<p style=\"color: navy;\">  \n",
    "    Después de una medida, si el resultado ha sido $\\lambda_m$ el estado <b>mezclado</b> $\\rho$ colapsa al estado <b>puro</b> $\\rho_m = \\ketbra{\\lambda_m}{\\lambda_m}$. \n",
    "</p>\n",
    "</div>\n",
    "\n",
    "\n",
    "\n",
    "Es decir, podemos asociar a una medida, el siguiente mapa entre operadores\n",
    "\n",
    "\n",
    "$$\n",
    "\\rho ~\\to ~~ \\ketbra{\\lambda_m}{\\lambda_m} = \\frac{P_m\\rho P_m}{p(\\lambda_m)} \\, .\n",
    "$$\n",
    "\n",
    "\n",
    "<br>\n",
    "<details style='color:navy'>\n",
    "<br>\n",
    "\\begin{eqnarray}\n",
    "\\ketbra{\\lambda_m}{\\lambda_m} &=&\\frac{p(\\lambda_m) \\ketbra{\\lambda_m}{\\lambda_m}}{p(\\lambda_m)} =\n",
    "     \\frac{\\ketbra{\\lambda_m}{\\lambda_m} \\rho \\ketbra{\\lambda_m}{\\lambda_m}}{p(\\lambda_m)} = \\frac{P_m \\rho P_m}{ p(\\lambda_m)}\n",
    "\\end{eqnarray}\n",
    "</details>\n"
   ]
  },
  {
   "cell_type": "markdown",
   "id": "0cb629f9",
   "metadata": {
    "slideshow": {
     "slide_type": "slide"
    }
   },
   "source": [
    "<a id='valesp_mezcla'></a>\n",
    "## Valor esperado en un estado mezclado"
   ]
  },
  {
   "cell_type": "markdown",
   "id": "48de9bd1",
   "metadata": {
    "slideshow": {
     "slide_type": "-"
    }
   },
   "source": [
    " Vamos a manipular dicha expresión\n",
    "\n",
    "\n",
    "\\begin{eqnarray}\n",
    "p(\\lambda_n) &=& \\bra{\\lambda_n}\\rho\\ket{\\lambda_n} = \\sum_i  \\braket{\\lambda_n}{i}\\bra{i}\\rho\\ket{\\lambda_n} =\n",
    "\\sum_i \\bra{i}\\rho\\ket{\\lambda_n}\\braket{\\lambda_n}{i} = \\sum_i \\bra{i}\\left( \\rho\\ket{\\lambda_n}\\bra{\\lambda_n}\\rule{0mm}{5mm}\\right)\\ket{i} \\nonumber\\\\\n",
    "&\\equiv& \\tr(\\rho P_n )\n",
    "\\end{eqnarray}"
   ]
  },
  {
   "cell_type": "markdown",
   "id": "a860b0e1",
   "metadata": {
    "slideshow": {
     "slide_type": "fragment"
    }
   },
   "source": [
    "Ahora podemos hallar el valor esperado de $A$\n",
    "\n",
    "\\begin{eqnarray}\n",
    "\\langle A\\rangle_\\rho &=& \\sum_n \\lambda_n p(\\lambda_n) = \\sum_n \\lambda_n \\tr(\\rho P_n ) \n",
    "     = \\tr \\left( \\rho \\sum_n \\lambda_n P_n \\right) = \\tr (\\rho A)\n",
    "\\end{eqnarray}"
   ]
  },
  {
   "cell_type": "markdown",
   "id": "9a442cea",
   "metadata": {
    "slideshow": {
     "slide_type": "slide"
    }
   },
   "source": [
    "<div class=\"alert alert-block alert-info\",text-align:center>\n",
    "<p style=\"text-align: left ;color: navy;\">  \n",
    "<b> Teorema</b>: $~$ el valor esperado de un observable $A$ en un estado  $\\rho$ es \n",
    "<br>\n",
    "<br>    \n",
    "$$\n",
    "~~ \\langle A\\rangle_\\rho = {\\tr}(\\rho A)  \n",
    "$$\n",
    "<br>\n",
    "</p>\n",
    "</div>\n"
   ]
  },
  {
   "cell_type": "markdown",
   "id": "6080846b",
   "metadata": {
    "slideshow": {
     "slide_type": "skip"
    }
   },
   "source": [
    "<div class=\"alert alert-block alert-success\">\n",
    "<b>Ejercicio:</b> \n",
    "$~$demuestra que, en el caso  $d=2$,  dado un estado $\\rho$, podemos recuperar el punto ${\\bf u}$ de la bola de Bloch, calculando los valores esperados de las matrices de Pauli $\\sigma_i$\n",
    "\n",
    "$$\n",
    "\\langle \\sigma_i \\rangle = \\tr(\\rho \\sigma_i) = u_i\n",
    "$$\n",
    "</div>"
   ]
  },
  {
   "cell_type": "markdown",
   "id": "3309b73b",
   "metadata": {
    "slideshow": {
     "slide_type": "skip"
    }
   },
   "source": [
    "<div class=\"alert alert-block alert-success\">\n",
    "<b> Ejercicio </b>:    genera  operadores densidad con $d=2$ usando la función <i>get_density_operator</i> y obtén, en cada caso, el valor del vector  ${\\bf u}$ y su módulo $u$. Observa la variación con $r$. \n",
    "    \n",
    "Para $r=d=2$ genera un estado $\\rho$ máximamente mezclado y verifica que ${\\bf u} = 0$.\n",
    "</div>"
   ]
  },
  {
   "cell_type": "markdown",
   "id": "6e5dd6e3",
   "metadata": {
    "slideshow": {
     "slide_type": "slide"
    }
   },
   "source": [
    "<a id=\"fidelity\"></a>\n",
    "## Fidelidad\n",
    "</table>   \n"
   ]
  },
  {
   "cell_type": "markdown",
   "id": "8d521e29",
   "metadata": {},
   "source": [
    "Dados dos operadores densidad $\\rho_1$ y $\\rho_2$, es conveniente tener una forma de *medir* cómo de parecidos o diferentes son entre sí. Es importante que dicha cantidad no dependa de la base. \n",
    "\n"
   ]
  },
  {
   "cell_type": "markdown",
   "id": "c1920f81",
   "metadata": {},
   "source": [
    "<div class=\"alert alert-block alert-info\",text-align:center>\n",
    "<p style=\"text-align: left ;color: navy;\">  \n",
    "<b>Definición:</b> (<i> Fidelidad </i>)\n",
    "    para dos operadores densidad $\\rho_1$ y $\\rho_2$ se define <i> fidelidad mútua </i> como  \n",
    "<br>\n",
    "<br>\n",
    "$$\n",
    "F(\\rho_1,\\rho_2) = \\tr \\sqrt{\\sqrt{\\rho_1} \\rho_2\\sqrt{\\rho_1}}\n",
    "$$"
   ]
  },
  {
   "cell_type": "markdown",
   "id": "67ba9dcb",
   "metadata": {
    "slideshow": {
     "slide_type": "slide"
    }
   },
   "source": [
    "La fidelidad está relacionada con la [norma de traza](../00_Formalismo/01_Operadores.ipynb#trace_norm). Efectivamente\n",
    "\n",
    "\\begin{eqnarray}\n",
    "F(\\rho_1,\\rho_2) = \\tr \\sqrt{\\sqrt{\\rho_1}\\rho_2\\sqrt{\\rho_1}} = \\tr \\sqrt{\\sqrt{\\rho_1^\\dagger\\rho_2^\\dagger\\rule{0mm}{3.8mm}}\\sqrt{\\rho_2\\rho_1}} = \\|\\sqrt{ \\rho_2 \\rho_1}\\|_1  \n",
    "\\end{eqnarray}"
   ]
  },
  {
   "cell_type": "markdown",
   "id": "50248cdd",
   "metadata": {
    "slideshow": {
     "slide_type": "fragment"
    }
   },
   "source": [
    "**Propiedades:**\n",
    "\n",
    "- $F(\\rho_1,\\rho_2) = F(\\rho_2,\\rho_1)$\n",
    "<br>\n",
    "<br>\n",
    "- $F(\\rho_1,\\rho_2) \\in [0,1]$ que se maximiza cuando son iguales   $F(\\rho,\\rho) =1$\n",
    "<br>\n",
    "<br>\n",
    "- $F(\\rho_1,\\rho_2) = F(\\rho'_1, \\rho'_2) ~~\\Leftrightarrow  ~~ \\rho'_1 = U^\\dagger \\rho_1 U \\hbox{ and } \\rho'_2 = U^\\dagger \\rho_2 U$"
   ]
  },
  {
   "cell_type": "markdown",
   "id": "8c560300",
   "metadata": {
    "slideshow": {
     "slide_type": "slide"
    }
   },
   "source": [
    "-  Si $\\rho_1=\\ket{\\psi_1}\\bra{\\psi_1}$ es un estado puro, entonces $F(\\rho_1,\\rho_2) =\\sqrt{\\bra{\\psi_1}\\rho_2\\ket{\\psi_1}} $\n",
    "<details>\n",
    "    <summary><p style=\"text-align: right ;color: navy\"> >> <i>Demostración</i> </p></summary>\n",
    "<i>Prueba:</i> Si es estado puro, $\\rho_1 = \\rho_1^2$\n",
    "<br> \n",
    "<br>\n",
    "\\begin{eqnarray}\n",
    "\\tr \\sqrt{\\sqrt{\\rho_1}\\rho_2\\sqrt{\\rho_1}} &=& \\tr \\sqrt{\\rho_1\\rho_2\\rho_1} \\\\ &=&\n",
    "\\tr \\sqrt{\\ket{\\psi_1}\\bra{\\psi_1}\\rho_2\\ket{\\psi_1}\\bra{\\psi_1}} \\nonumber\\\\\n",
    "&=& \\sqrt{\\bra{\\psi_1}\\rho_2\\ket{\\psi_1}} \\tr \\sqrt{\\rho_1}\\\\ &=&  \\sqrt{\\bra{\\psi_1}\\rho_2\\ket{\\psi_1}}\n",
    "\\end{eqnarray}\n",
    "<br></details>\n",
    "\n",
    "\n"
   ]
  },
  {
   "cell_type": "markdown",
   "id": "c9e19dcb",
   "metadata": {
    "slideshow": {
     "slide_type": "slide"
    }
   },
   "source": [
    "-  Si  $\\rho_1=\\ket{\\psi_1}\\bra{\\psi_1}$ y  $\\rho_2=\\ket{\\psi_2}\\bra{\\psi_2}$ son ambos puros, entonces \n",
    "<br>\n",
    "<br>\n",
    "$$F(\\rho_1,\\rho_2) = | \\braket{\\psi_1}{\\psi_2}|\\in (0,1)\\, $$\n",
    "<br>\n",
    "la fidelidad es  el producto escalar habitual de dos vectores. "
   ]
  },
  {
   "cell_type": "markdown",
   "id": "abad8e88",
   "metadata": {
    "slideshow": {
     "slide_type": "slide"
    }
   },
   "source": [
    "- Si $[\\rho_1,\\rho_2] = 0$, entonces existe una base $\\ket{i}$ que diagonaliza ambos $\\rho_{1,2} = \\sum_i p^{(1,2)}_i\\ket{i}\\bra{i}$. En este caso\n",
    "<br>\n",
    "<br>\n",
    "$$F(\\rho_1,\\rho_2) = \\sum_j \\sqrt{p^{(1)}_j p^{(2)}_j}.$$\n",
    "que es la fidelidad de dos distribuciones clásicas de probabildad $\\{p^{1,2}_i\\}$.\n",
    "<details>\n",
    "<summary><p style=\"text-align: right ;color: navy\"> >> <i>Demostración</i> </p></summary>\n",
    "<i>Prueba:</i>\n",
    "\\begin{eqnarray}\n",
    "\\tr \\sqrt{\\sqrt{\\rho_1}\\rho_2\\sqrt{\\rho_1}} &=& \\tr \\sqrt{\\sum_i \\sqrt{p^{(1)}_i}\\ket{i}\\bra{i}\\sum_i p^{(2)}_j\\ket{j}\\bra{j}\\sum_k \\sqrt{p^{(1)}_k}\\ket{k}\\bra{k}} \\\\\n",
    "&=& \\tr\\sqrt{\\sum_i p^{(1)}_i{p^{(2)}_i}\\ket{i}\\bra{i}} = \\tr \\left(\\sum_i \\sqrt{p^{(1)}_i{p^{(2)}_i}}\\ket{i}\\bra{i}\\right)  \\\\\n",
    "&=& \\sum_j \\sqrt{p^{(1)}_j p^{(2)}_j}\n",
    "\\end{eqnarray}\n",
    "<br>\n",
    "</details>\n",
    "\n"
   ]
  },
  {
   "cell_type": "markdown",
   "id": "95ef41c2",
   "metadata": {
    "slideshow": {
     "slide_type": "slide"
    }
   },
   "source": [
    "La *fidelidad* y la *distancia de la traza* parametrizan la misma noción (o más bien la recíproca)\n",
    "\n",
    "$$\n",
    "D(\\rho_1,\\rho_2) = \\frac{1}{2} \\| \\rho_1 - \\rho_2 \\|_1 = \\frac{1}{2} \\tr \\sqrt{( \\rho_1 - \\rho_2)^\\dagger( \\rho_1 - \\rho_2)}\n",
    "$$\n",
    "\n"
   ]
  },
  {
   "cell_type": "markdown",
   "id": "a4473cac",
   "metadata": {
    "slideshow": {
     "slide_type": "fragment"
    }
   },
   "source": [
    "En general $D$ es más fácil de calcular, y permite acotar la fidelidad mediante las siguientes desigualdades (Teorema de Fuch-van der Graaf)\n",
    "\n",
    "$$\n",
    "1 - \\sqrt{F(\\rho_1,\\rho_2)} \\leq D(\\rho_1,\\rho_2) \\leq   \\sqrt{1- F(\\rho_1,\\rho_2)}\n",
    "$$"
   ]
  },
  {
   "cell_type": "markdown",
   "id": "4f1ce914",
   "metadata": {
    "slideshow": {
     "slide_type": "skip"
    }
   },
   "source": [
    "<a id=\"pobl_coher\"></a>\n",
    "<table width=\"100%\">\n",
    "    <td style=\"font-size:25px;font-family:Helvetica;text-align:left;background-color:rgba(0,0,900, 0.3);\">\n",
    "<b>Poblaciones y Coherencias</b>\n",
    "</table>   \n"
   ]
  },
  {
   "cell_type": "markdown",
   "id": "f48d14f7",
   "metadata": {
    "slideshow": {
     "slide_type": "skip"
    }
   },
   "source": [
    "Sea, en un espacio de Hilbert $\\Hil$,  una base ortonormal  $\\{\\ket{\\lambda_n}\\}$ de   autoestados de un observable $A$\n",
    "\n",
    "**En esta base**, la interpretación de los elementos de matriz\n",
    "\n",
    "\\begin{eqnarray}\n",
    "\\rho_{nm} &=& \\bra{\\lambda_n}\\rho \\ket{\\lambda_m} =\n",
    "\\bra{\\lambda_n}\\left(\\sum_i p_i \\ket{\\psi_i}\\bra{\\psi_i}\\right)\\ket{\\lambda_m}\\\\\n",
    "&=& \\sum_i p_i \\braket{\\lambda_n}{\\psi_i}\\braket{\\psi_i}{\\lambda_m}\n",
    "\\end{eqnarray}\n",
    "depende de si $n=m$ ó $n\\neq m$."
   ]
  },
  {
   "cell_type": "markdown",
   "id": "346063d1",
   "metadata": {
    "slideshow": {
     "slide_type": "skip"
    }
   },
   "source": [
    "Las proyecciones\n",
    "\n",
    "$$\n",
    "c_n^{(i)} = \\braket{\\lambda_n}{\\psi_i} \\, \n",
    "$$\n",
    "\n",
    "definirían las amplitudes de probabilidad de encontrar $\\ket{\\lambda_n}$ si el sistema se encontrase en el estado puro $\\ket{\\psi_i}$\n"
   ]
  },
  {
   "cell_type": "markdown",
   "id": "ec2f61ad",
   "metadata": {
    "slideshow": {
     "slide_type": "skip"
    }
   },
   "source": [
    "### Poblaciones:\n",
    "<br>\n",
    "\n",
    "Tomemos $\\underline{n=m}$\n",
    "$$\n",
    "\\rho_{nn} = \\sum_i p_i |c_n^{(i)}|^2 = \\tr (\\rho P_n)\n",
    "$$\n",
    "es la *probabilidad media* de encontrar el sistema en el estado $\\ket{\\lambda_n}$ al medir $A$. \n",
    "<br>\n",
    "<br>\n",
    "Por ello se denomina *población*. \n",
    "\n",
    "Si se efectúan $N$ medidas sobre el sistema, en promedio, $N\\rho_{nn}$ de ellas darán como resultado el estado $\\ket{\\lambda_n}$ \n"
   ]
  },
  {
   "cell_type": "markdown",
   "id": "81e4ab8f",
   "metadata": {
    "slideshow": {
     "slide_type": "skip"
    }
   },
   "source": [
    "### Coherencias: \n",
    "<br>\n",
    "Ahora, con $\\underline{n\\neq m}$\n",
    "$$\n",
    "\\rho_{nm} = \\sum_i p_i  \\, c_n^{(i)}c_m^{(i)*}\n",
    "$$\n",
    "<br>\n",
    "<br>\n",
    "En este caso se trata del promedio de las <i>interferencias cuánticas</i> entre  $\\ket{\\lambda_n}$ y $\\ket{\\lambda_m}$ asociadas al hecho de que los estados $\\ket{\\psi_i}$ son superposiciones coherentes de ellos.  \n",
    "\n",
    "Es por ello que, a los elementos no diagonales de $\\rho$ se les denomina *coherencias*.\n",
    "<br>\n",
    "<br>"
   ]
  },
  {
   "cell_type": "markdown",
   "id": "026a3f78",
   "metadata": {
    "slideshow": {
     "slide_type": "skip"
    }
   },
   "source": [
    "A diferencia de las poblaciones, las coherencias <u>pueden anularse</u> a pesar de que  ninguno de los factores $c_n^{(i)}c_m^{(i)*}$ sea nulo por separado. \n",
    "\n",
    "Si ocurre esto, la mezcla estadística habrá borrado todo rastro de interferencia entre $\\ket{e_n}$ y $\\ket{e_m}$.\n",
    "\n",
    "Por el contrario, si $\\rho_{nm}\\neq 0$, aun subsiste un cierto grado de coherencia entre dichos estados en la mezcla estadística.\n"
   ]
  },
  {
   "cell_type": "markdown",
   "id": "4f728401",
   "metadata": {
    "slideshow": {
     "slide_type": "skip"
    }
   },
   "source": [
    "En el curso de su evolución, un *sistema cuántico abierto* \n",
    "\n",
    "- irá perdiendo sus *coherencias* $\\rho_{nm} \\to 0$ para $n\\neq m$ \n",
    "<br>\n",
    "\n",
    "- las poblaciones tenderán a la equipartición $\\rho_{nn} = 1/N$. \n",
    "\n",
    "Este proceso se estudiará más adelante y se denomina **decoherencia**."
   ]
  },
  {
   "cell_type": "markdown",
   "id": "97ee2924",
   "metadata": {
    "slideshow": {
     "slide_type": "skip"
    }
   },
   "source": [
    "<div class=\"alert alert-block alert-success\">\n",
    "<b> Ejercicio </b>:     \n",
    "genera el operador densidad asociado a la mezcla maximal de estados de Bell  $\\{\\ket{B_{ij}},p_{ij} = 1/4\\}$.\n",
    "\n",
    "Perturba las probabilidades $p_{ij}$ y observa la estructura de las poblaciones y las coherencias.\n",
    "</div>"
   ]
  },
  {
   "cell_type": "markdown",
   "id": "8fb9e3b5",
   "metadata": {
    "slideshow": {
     "slide_type": "slide"
    }
   },
   "source": [
    "<a id=\"mat_dens_bipart\"></a>\n",
    "<table width=\"100%\">\n",
    "    <td style=\"font-size:25px;font-family:Helvetica;text-align:left;background-color:rgba(0,0,900, 0.3);\">\n",
    "<b>Estado mezclado bi-partito</b>\n",
    "</table>   \n"
   ]
  },
  {
   "cell_type": "markdown",
   "id": "c303dc33",
   "metadata": {
    "slideshow": {
     "slide_type": "slide"
    }
   },
   "source": [
    "Un caso muy frecuente  ocurre cuando el sistema total se compone  de dos subsistemas $A$ y $B$\n",
    "\n",
    "En este caso, el espacio total de Hilbert es el producto tensorial $\\Hil = \\Hil_A\\otimes \\Hil_B$."
   ]
  },
  {
   "cell_type": "markdown",
   "id": "f3144213",
   "metadata": {
    "slideshow": {
     "slide_type": "fragment"
    }
   },
   "source": [
    "Consideremos bases \n",
    "\\begin{eqnarray}\n",
    "~\\{\\ket{i}\\},\\, &&  i=0,...,d_A-1 ~\\hbox{ de } ~\\Hil_A \\\\ \\rule{0mm}{14mm}\n",
    "~\\{\\ket{a}\\},\\, && a=0,...,d_B-1 ~\\hbox{ de } ~\\Hil_B\n",
    "\\end{eqnarray}\n",
    "\n",
    "\n",
    "La base canónica de $\\Hil$ viene dada por todos los pares ordenados\n",
    "\n",
    "$$\n",
    "\\ket{ia} = \\ket{i}\\otimes \\ket{a}\n",
    "$$\n",
    "\n",
    "que constituyen un conjunto de $d_Ad_B$ vectores ortonormales."
   ]
  },
  {
   "cell_type": "markdown",
   "id": "47a06fc6",
   "metadata": {
    "slideshow": {
     "slide_type": "skip"
    }
   },
   "source": [
    "<div class=\"alert alert-block alert-warning\">\n",
    "    <b> Ejemplo </b>:  \n",
    "consideremos un ordenador cuántico de $n = n_A + n_B$ cúbits. \n",
    "    \n",
    "El espacio de Hilbert $\\Hil = \\Hil_A \\otimes \\Hil_B$, de dimensión $d = 2^n$, tendrá como base los estados $2^n$\n",
    "estados $ \\{\\ket{\\alpha} = \\ket{i_0....i_{n-1}}\\}$ donde $i_k = 0,1$. \n",
    "    \n",
    "Pero podemos separarla en la suma directa de las bases de $\\Hil_A$ y $\\Hil_B$\n",
    "<br>        \n",
    "$$\n",
    "\\ket{i} = \\ket{i_1....i_{n_A}0...0} ~~~~~~~~~,~~~~~~~~~\\ket{a} = \\ket{0...0\\, i_{n_A +1}...i_{n_A + n_B}}\n",
    "$$\n",
    "<br>\n",
    "con $i = 0,...,2^{n_A}-1$  y  $a= 0,..., 2^{n_B}-1$. Claramente\n",
    "\n",
    "$$\n",
    "\\ket{\\alpha} = \\ket{ia } = \\ket{i}\\otimes \\ket{a}\n",
    "$$\n",
    "</div>"
   ]
  },
  {
   "cell_type": "markdown",
   "id": "43b3f1c3",
   "metadata": {
    "slideshow": {
     "slide_type": "slide"
    }
   },
   "source": [
    "En esta base, un operador densidad arbitrario se expande en términos de una *matriz de densidad* $\\rho_{ia,jb}$ en la forma\n",
    "<br>\n",
    "\n",
    "$$\\rho=\\sum_{i,j=0}^{d_A-1}\\sum_{a,b=0}^{d_B-1}\\rho_{ia~jb}\\ket{ia}\\bra{jb}$$\n",
    "\n"
   ]
  },
  {
   "cell_type": "markdown",
   "id": "3ac78976",
   "metadata": {
    "slideshow": {
     "slide_type": "skip"
    }
   },
   "source": [
    "siempre que verifique las tres condiciones \n",
    "\n",
    "- Hermiticidad $\\Rightarrow \\rho_{ia~jb} = \\rho_{jb~ia}^*$\n",
    "<br>\n",
    "\n",
    "- Definición semipositiva *es decir*, para todos los valores propios $\\Rightarrow ~\\lambda_{ia} \\geq 0$\n",
    "<br>\n",
    "\n",
    "- Conservación de la probabilidad: $~\\Tr \\rho = \\sum_{i=0}^{d_A-1}\\sum_{a=0}^{d_B-1} \\rho_{ia~ia} =1$"
   ]
  },
  {
   "cell_type": "markdown",
   "id": "d4b9749f",
   "metadata": {
    "slideshow": {
     "slide_type": "slide"
    }
   },
   "source": [
    "<div class=\"alert alert-block alert-danger\">\n",
    "<b> Notar</b>:   \n",
    "podemos, como siempre, re-etiquetar los bi-índices de $\\rho$ de forma que $\\rho_{ia,jb} = \\rho_{\\alpha\\beta}$\n",
    "<br>\n",
    "<br>    \n",
    "$$\n",
    "\\alpha = d_B i + a~~,~~\\beta = d_B j + b\n",
    "$$\n",
    "<br>\n",
    "Si $i,j = 0,..., d_A-1$ y $a,b=0,...,d_B-1$, entonces  $\\alpha,\\beta = 0,1,..., d_A d_B-1$.\n",
    "    \n",
    "La sentencia $numpy.reshape$ organiza los $d_Ad_B$ datos en cualquiera de las dos formas. \n",
    "</div>   "
   ]
  },
  {
   "cell_type": "code",
   "execution_count": 1,
   "id": "0ed31e9e",
   "metadata": {
    "slideshow": {
     "slide_type": "slide"
    }
   },
   "outputs": [
    {
     "ename": "NameError",
     "evalue": "name 'np' is not defined",
     "output_type": "error",
     "traceback": [
      "\u001b[0;31m---------------------------------------------------------------------------\u001b[0m",
      "\u001b[0;31mNameError\u001b[0m                                 Traceback (most recent call last)",
      "Input \u001b[0;32mIn [1]\u001b[0m, in \u001b[0;36m<cell line: 5>\u001b[0;34m()\u001b[0m\n\u001b[1;32m      2\u001b[0m dA \u001b[38;5;241m=\u001b[39m \u001b[38;5;241m2\u001b[39m \u001b[38;5;66;03m#4\u001b[39;00m\n\u001b[1;32m      3\u001b[0m dB \u001b[38;5;241m=\u001b[39m \u001b[38;5;241m10\u001b[39m  \u001b[38;5;66;03m#5\u001b[39;00m\n\u001b[0;32m----> 5\u001b[0m A \u001b[38;5;241m=\u001b[39m \u001b[43mnp\u001b[49m\u001b[38;5;241m.\u001b[39mrandom\u001b[38;5;241m.\u001b[39mrand(dA,dB,dA,dB)\n\u001b[1;32m      6\u001b[0m B \u001b[38;5;241m=\u001b[39m np\u001b[38;5;241m.\u001b[39mrandom\u001b[38;5;241m.\u001b[39mrand(dA\u001b[38;5;241m*\u001b[39mdB,dA\u001b[38;5;241m*\u001b[39mdB)\n\u001b[1;32m      8\u001b[0m \u001b[38;5;124m'\u001b[39m\u001b[38;5;124mcomponent map\u001b[39m\u001b[38;5;124m'\u001b[39m\n",
      "\u001b[0;31mNameError\u001b[0m: name 'np' is not defined"
     ]
    }
   ],
   "source": [
    "' define a matrix of an operador on H_A*H_B'\n",
    "dA = 2 #4\n",
    "dB = 10  #5\n",
    "\n",
    "A = np.random.rand(dA,dB,dA,dB)\n",
    "B = np.random.rand(dA*dB,dA*dB)\n",
    "\n",
    "'component map'\n",
    "i=1 \n",
    "a=2 \n",
    "j=1 \n",
    "b=1\n",
    "alpha = dB*i + a\n",
    "beta  = dB*j + b\n",
    "print('ia,jb==',i,a,',',j,b,'   alpha,beta=',alpha,beta)\n",
    "\n",
    "print(\"A_{ia,jb}=\", A[i,a,j,b],'     B_{alpha,beta}=',B[alpha,beta])"
   ]
  },
  {
   "cell_type": "code",
   "execution_count": 16,
   "id": "ba5de24c",
   "metadata": {},
   "outputs": [
    {
     "name": "stdout",
     "output_type": "stream",
     "text": [
      "A_{alpha,beta}= 0.9096247485331853 B_{i,a,j,b]}= 0.5173379126185175\n"
     ]
    }
   ],
   "source": [
    "'reshape and read the same component'\n",
    "Aresh = A.reshape(dA*dB,dA*dB)\n",
    "Bresh = B.reshape(dA,dB,dA,dB)\n",
    "print(\"A_{alpha,beta}=\", Aresh[alpha,beta],'B_{i,a,j,b]}=',Bresh[i,a,j,b])"
   ]
  },
  {
   "cell_type": "markdown",
   "id": "4ec9494f",
   "metadata": {
    "slideshow": {
     "slide_type": "slide"
    }
   },
   "source": [
    "<a id='traza_parcial'></a>\n",
    "## Traza parcial\n",
    "\n",
    "Dado un estado bipartito $\\rho \\in {\\rm L}(\\Hil_A\\otimes\\Hil_B)$ podemos definir estados $\\rho_A \\in \\Lin(\\Hil_A)$ y\n",
    "$\\rho_B \\in \\Lin(\\Hil_B)$ a través de la operación de *traza parcial*\n",
    "\n",
    "$$\\rho_A \\equiv {\\rm Tr}_B\\rho \\quad , \\quad \\rho_B \\equiv {\\rm Tr}_A\\rho  $$"
   ]
  },
  {
   "cell_type": "markdown",
   "id": "a199ce38",
   "metadata": {},
   "source": [
    "Vamos a ver cómo son estos dos operadores en una base $\\ket{ia}$ de $\\Hil_A\\otimes \\Hil_B$\n",
    "\n",
    "\\begin{eqnarray}\n",
    "\\rho_A \\equiv {\\rm Tr}_B\\rho &=& \\sum_{c=0}^{d_B-1} \\bra{c} \\rho \\ket{c}\\\\\n",
    "    &=& \\sum_{c=0}^{d_B-1} \\bra{c} \\left( \\sum_{i,j=0}^{d_A-1} \\sum_{a,b=0}^{d_B-1} \\rho_{ia,jb}\\ket{i}\\ket{a}\\bra{j}\\bra{b} \\right) \\ket{c}  \\\\\n",
    "    &=& \\sum_{c=0}^{d_B-1}  \\left( \\sum_{i,j=0}^{d_A-1} \\sum_{a,b=0}^{d_B-1} \\rho_{ia,jb}\\ket{i}\\braket{c}{a}\\bra{j}\\braket{b}{c} \\right)   \\\\\n",
    "    &=& \\sum_{c=0}^{d_B-1}  \\left( \\sum_{i,j=0}^{d_A-1}  \\rho_{ic,jc}\\ketbra{i}{j} \\right)   \\\\\n",
    "    &=&  \\sum_{i,j=0}^{d_A-1}   \\left( \\sum_{c=0}^{d_B-1} \\rho_{ic,jc} \\right) \\ketbra{i}{j}   \\\\\n",
    "    &\\equiv &  \\sum_{i,j=0}^{d_A-1}   \\rho_{A,i,j}  \\ketbra{i}{j}   \\\\    \n",
    "\\end{eqnarray}"
   ]
  },
  {
   "cell_type": "markdown",
   "id": "a2aacf75",
   "metadata": {
    "slideshow": {
     "slide_type": "fragment"
    }
   },
   "source": [
    "Encontes, las matrices de densidad asociadas a las trazas parciales son, respectivamente\n",
    "\n",
    "$$\n",
    "\\rho_A \\to \\rho_{A,ij}= \\sum_{a=0}^{d_B-1} \\rho_{ia~ja} ~~~~~~~,~~~~~~~ \\rho_B \\to \\rho_{B,ab} = \\sum_{i=0}^{d_A-1} \\rho_{ia~ib}\n",
    "$$"
   ]
  },
  {
   "cell_type": "markdown",
   "id": "5e590333",
   "metadata": {
    "slideshow": {
     "slide_type": "slide"
    }
   },
   "source": [
    "Los estados obtenidos de esta manera, son suficientes para recuperar las probabilidades de resultados de medidas que solo afectan a uno de los subsistemas.\n",
    "\n",
    "\n",
    "<div class=\"alert alert-block alert-info\",text-align:center>\n",
    "<p style=\"text-align: left ;color: navy;\">  \n",
    "<b> Lema </b>:\n",
    "<br>\n",
    "    Sea $O = O_A\\otimes I$ es un observable que sólo mide una propiedad del <i>subsistema</i> $A$, entonces\n",
    "<br>    \n",
    "<br>\n",
    "$$\n",
    "\\langle O \\rangle_\\rho  = \\tr (O_A\\rho_A)\n",
    "$$\n",
    "</p>   \n",
    "</div>\n",
    "<details>\n",
    "<summary><p style=\"text-align:right\"> >><i>Prueba</i> </p></summary>\n",
    "\\begin{eqnarray}\n",
    " \\langle O \\rangle_\\rho  ~=~ \\Tr ((O_A\\otimes I)\\rho) &~=~&\n",
    " \\sum_{i=0}^{d_A-1}\\sum_{a=0}^{d_B-1} \\bra{i}\\bra{a} \\left( (O_A\\otimes I)\\rho \\rule{0mm}{4mm}\\right) \\ket{i}\\ket{a} \\\\\n",
    " \\rule{0mm}{4mm}\n",
    " &=& \\sum_{i=0}^{d_A-1} \\bra{i} O_A  \\sum_{a=0}^{d_B-1}\\bra{a}\\rho \\ket{a}\\ket{i} \\\\\n",
    " &=& \\sum_{i=0}^{d_A-1} \\bra{i} O_A  \\rho^A\\ket{i} \\\\\n",
    " &=& \\Tr(O_A\\rho^A)\n",
    "\\end{eqnarray}\n",
    "</details>"
   ]
  },
  {
   "cell_type": "markdown",
   "id": "5a845ab9",
   "metadata": {
    "slideshow": {
     "slide_type": "slide"
    }
   },
   "source": [
    "<div class=\"alert alert-block alert-success\">\n",
    "<b>Ejercicio:</b> \n",
    "    define una función $get\\_partial\\_traces$ de Python que recibe como argumentos, una matriz $\\rho$ de dimensión $d = d_A d_B$ y los datos $d_A$ y $d_B$ como dimensiones de $\\Hil_A$ y $\\Hil_B$. La función devuelve las dos matrices densidad  $\\rho_A$ y $\\rho_B$ obtenidas mediante las trazas parciales. \n",
    "    \n",
    "Examina los casos en que $\\rho$ es pura o mezclada, así como el caso en que $\\rho= \\ket{\\psi}\\bra{\\psi}$ con $\\ket{\\psi}$  factorizable.\n",
    "</div>"
   ]
  },
  {
   "cell_type": "markdown",
   "id": "29556711",
   "metadata": {
    "slideshow": {
     "slide_type": "slide"
    }
   },
   "source": [
    "<a id=\"ent_mez_pur\"></a>\n",
    "<table width=\"100%\">\n",
    "    <td style=\"font-size:25px;font-family:Helvetica;text-align:left;background-color:rgba(0,0,900, 0.3);\">\n",
    "<b> Impurificación y purificación</b>\n",
    "</table>   \n"
   ]
  },
  {
   "cell_type": "markdown",
   "id": "80b92e70",
   "metadata": {
    "slideshow": {
     "slide_type": "fragment"
    }
   },
   "source": [
    "En computación cuántica trabajamos con estados puros que se pueden describir mediante un vector $\\ket{\\psi}\\in \\Hil$.\n",
    "\n",
    "Los circuitos son operadores unitarios que actúan sobre un vector de entrada para dar un vector de salida. \n",
    "\n",
    "¿Cómo podemos estudiar sistemas mezclados en computación cuántica?"
   ]
  },
  {
   "cell_type": "markdown",
   "id": "0144a1fa",
   "metadata": {
    "slideshow": {
     "slide_type": "slide"
    }
   },
   "source": [
    "## Impurificación de  un estado puro\n",
    "\n"
   ]
  },
  {
   "cell_type": "markdown",
   "id": "23d0dcaf",
   "metadata": {
    "slideshow": {
     "slide_type": "fragment"
    }
   },
   "source": [
    "Supongamos que $\\rho \\in \\, \\Lin(\\Hil_A\\otimes\\Hil_B)$ es un estado bipartito **puro**. La matriz de densidad es un proyector\n",
    "<br>\n",
    "<br>\n",
    "$$\\rho=\\ket{\\psi}\\bra{\\psi}~~~\\Rightarrow ~~~ \\rho=\\rho^2$$ \n"
   ]
  },
  {
   "cell_type": "markdown",
   "id": "48f5ba9e",
   "metadata": {
    "slideshow": {
     "slide_type": "fragment"
    }
   },
   "source": [
    "    \n",
    "Después de tomar la traza parcial en, por ejemplo, $\\Hil_B$, obtenemos la *matriz de densidad reducida* \n",
    "\n",
    "$$\\rho\\to \\rho_A = \\tr_B\\rho$$\n",
    "\n"
   ]
  },
  {
   "cell_type": "markdown",
   "id": "363a0761",
   "metadata": {
    "slideshow": {
     "slide_type": "fragment"
    }
   },
   "source": [
    "A continuación se muestran tres resultados importantes, dos de los cuales dependen de la naturaleza de $\\ket{\\Psi}$"
   ]
  },
  {
   "cell_type": "markdown",
   "id": "40c1a8a4",
   "metadata": {
    "slideshow": {
     "slide_type": "slide"
    }
   },
   "source": [
    "<div class=\"alert alert-block alert-info\",text-align:center>\n",
    "<p style=\"text-align: left ;color: navy;\">  \n",
    "    1.- $~$ Los dos operadores reducidos de un estado bipartito <b>puro</b> son iguales\n",
    "    $~\\Rightarrow \\rho_A = \\rho_B$\n",
    "</div>\n"
   ]
  },
  {
   "cell_type": "markdown",
   "id": "896f14cb",
   "metadata": {
    "slideshow": {
     "slide_type": "slide"
    }
   },
   "source": [
    "<details>\n",
    "<summary><p style=\"text-align: left ;color: navy\"> >> Demostración </p></summary>\n",
    "La manera de probar este resultado es escribir es trabajar en la base de Schmidt par el estado bi-partido\n",
    "\n",
    "$$\n",
    "\\ket{\\Psi}  = \\sum_{\\alpha=1}^r \\sqrt{\\lambda_\\alpha}\\ket{f_\\alpha}\\ket{\\tilde f_\\alpha}\n",
    "$$\n",
    "Entonces para la traza parcial sobre $B$ escribimos\n",
    "<br>\n",
    "\\begin{eqnarray}\n",
    "\\rho_A ~=~ \\Tr_B \\ket{\\Psi}\\bra{\\Psi} &~=~&\n",
    "\\sum_{\\sigma=0}^{d_B-1} \\braket{\\tilde f_\\sigma}{\\Psi}   \\braket{\\Psi}{\\tilde f_\\sigma} \\\\\n",
    "&~=~& \\sum_{\\sigma=0}^{d_B-1} \\bra{\\tilde f_\\sigma}\\left( \\sum_{\\alpha, \\beta=0}^{r-1} \\sqrt{\\lambda_\\alpha}\\sqrt{\\lambda_\\beta}\\ket{f_\\alpha}\\ket{\\tilde f_\\alpha}\\bra{f_\\beta}\\bra{\\tilde f_\\beta} \\right)\n",
    "\\ket{\\tilde f_\\sigma} \\\\\n",
    "&=&\\sum_\\sigma\\sum_{\\alpha \\beta} \\sqrt{\\lambda_\\alpha}\\sqrt{\\lambda_\\beta}\\ket{f_\\alpha}\\braket{\\tilde f_\\sigma}{\\tilde f_\\alpha}\\bra{ f_\\beta}\\braket{\\tilde f_\\beta}{\\tilde f_\\sigma}\\\\\n",
    "&=&\\sum_\\sigma\\sum_{\\alpha \\beta} \\sqrt{\\lambda_\\alpha}\\sqrt{\\lambda_\\beta}\\ket{f_\\alpha}\\bra{f_\\beta}\\delta_{\\sigma\\alpha}\\delta_{\\beta\\sigma} \\\\\n",
    "&=&  \\sum_{\\sigma=0}^{r-1} \\lambda_\\sigma\\ket{f_\\sigma}\\bra{f_\\sigma}\n",
    "\\end{eqnarray}\n",
    "\n",
    "Procediendo de la misma manera, es inmediato demostrar lo contrario\n",
    "\n",
    "$$\n",
    "\\rho_B ~=~ \\Tr_A \\ket{\\Psi}\\bra{\\Psi} = \\sum_{\\sigma=0}^{r-1} \\lambda_\\sigma\\ket{\\tilde f_\\sigma}\\bra{\\tilde f_\\sigma}\n",
    "$$\n",
    "\n",
    "Entonces, la matriz de densidad en ambos casos es la misma matriz diagonal dada por los coeficientes de Schmidt\n",
    "\n",
    "$$\\rho^A_{\\alpha\\alpha} = \\rho^B_{\\alpha\\alpha} = \\lambda_\\alpha\\, $$\n",
    "con $\\alpha = 0,1,.. r -1 $.\n",
    "    \n",
    "</details>"
   ]
  },
  {
   "cell_type": "markdown",
   "id": "aa82edc2",
   "metadata": {
    "slideshow": {
     "slide_type": "slide"
    }
   },
   "source": [
    "<div class=\"alert alert-block alert-info\",text-align:center>\n",
    "<p style=\"text-align: left ;color: navy;\">  \n",
    "2.-  $~$ si $\\ket{\\psi} = \\ket{\\varphi}\\otimes \\ket{\\phi}$ es <b>factorizable</b>, entonces $\\Rightarrow $ $\\rho_A$ permanece <i>pura</i>\n",
    "</p>   \n",
    "</div>"
   ]
  },
  {
   "cell_type": "markdown",
   "id": "30ab2364",
   "metadata": {
    "slideshow": {
     "slide_type": "fragment"
    }
   },
   "source": [
    "<details>\n",
    "<summary><p style=\"text-align: left ;color: navy\"> >> Demostración </p></summary>\n",
    "\n",
    "\\begin{eqnarray}\n",
    " \\rho_A = \\Tr_{B}\\ketbra{\\Psi}{\\Psi} &=& \\sum_{b}\\bra{b}\\left(\\rule{0mm}{4mm} \\ketbra{\\varphi}{\\varphi}\\otimes \\ketbra{\\phi}{\\phi}\\right) \\ket{b}\\\\\n",
    " &=&   \\ketbra{\\varphi}{\\varphi} \\sum_b \\braket{b}{\\phi}\\braket{\\phi}{b}\\\\\n",
    " &=&   \\ketbra{\\varphi}{\\varphi}  \\bra{\\phi}\\left(\\sum_b\\ketbra{b}{b}\\right)\\ket{\\phi}\\\\\n",
    " &=&   \\ketbra{\\varphi}{\\varphi}\\braket{\\phi}{\\phi} ~= ~ \\ketbra{\\varphi}{\\varphi} ~ = ~ (\\rho^A)^2\n",
    "\\end{eqnarray}\n",
    "\n",
    "</details>"
   ]
  },
  {
   "cell_type": "markdown",
   "id": "6ec3c01f",
   "metadata": {
    "slideshow": {
     "slide_type": "slide"
    }
   },
   "source": [
    "<div class=\"alert alert-block alert-info\",text-align:center>\n",
    "<p style=\"text-align: left ;color: navy;\">  \n",
    "3.-$~$  si $\\ket{\\psi}$ es <b>entrelazada</b> $~\\Rightarrow ~ \\rho_A$ es <i>mezclada</i>\n",
    "</p>   \n",
    "</div>"
   ]
  },
  {
   "cell_type": "markdown",
   "id": "324e8fcd",
   "metadata": {
    "slideshow": {
     "slide_type": "fragment"
    }
   },
   "source": [
    "<details>\n",
    "<summary><p style=\"text-align: left ;color: navy\"> >> Demostración </p></summary>\n",
    ">*Demostación*:\n",
    "<br>\n",
    "si $\\ket{\\psi}$ es entrelazada, en la base de Schmidt $r>1$. Entonces claramente\n",
    "<br>\n",
    "<br>\n",
    "$$\n",
    "\\rho_A = \\sum_{\\sigma=0}^{r-1} \\lambda_\\sigma\\ket{f_\\sigma}\\bra{f_\\sigma}\n",
    "$$\n",
    "<br>\n",
    "no es un proyector $\\rho \\neq \\rho^2$ y, por tanto se trata de un estado mezclado.\n",
    "<br>\n",
    "</details>"
   ]
  },
  {
   "cell_type": "markdown",
   "id": "085f2f09",
   "metadata": {
    "slideshow": {
     "slide_type": "fragment"
    }
   },
   "source": [
    "En resumen:   <u> bajo la aplicación de <i> traza parcial</i>, el <i> entrelazamiento</i> induce <i> mezcla</i></u>\n",
    "\n",
    "Este resultado permite definir una *figura de mérito* para calibrar el entrelazamiento de un estado, consistente en particionar el espacio de Hilbert de diferentes maneras, y calcular, para cada partición, la pureza del estado obtenido mediante traza parcial."
   ]
  },
  {
   "cell_type": "markdown",
   "id": "30e35b24",
   "metadata": {
    "slideshow": {
     "slide_type": "slide"
    }
   },
   "source": [
    "<div class=\"alert alert-block alert-success\">\n",
    "<b>Ejercicio:</b> \n",
    "considera el estado generado por el circuito $\\ket{\\psi} =  \\hbox{CNOT}(1,0)\\hbox{CNOT}(0,2)H(1) R_x(\\alpha,0)\\ket{000}$\n",
    "con $\\alpha = \\pi/3$.\n",
    "    \n",
    " Calcula las matrices densidad parciales $\\rho_B =\\tr_{01}( \\ket{\\psi}\\bra{\\psi})$ y $\\rho_A =\\tr_{2}( \\ket{\\psi}\\bra{\\psi})$. Verifica que corresponden a idénticos operadores y obtén su pureza. \n",
    "</div>"
   ]
  },
  {
   "cell_type": "markdown",
   "id": "b82017b0",
   "metadata": {},
   "source": [
    "<div class=\"alert alert-block alert-success\">\n",
    "<b>Ejercicio:</b> En el circuito del ejercicio anterior, \n",
    "    \n",
    "- obtén experimentalmente el valor medio $\\langle Z_2\\rangle_B$ y compáralo con la predicción $\\tr (Z\\rho_B)$\n",
    "<br>\n",
    "\n",
    "- obtén experimentalmente el valor medio de $\\langle Z_0Z_1 \\rangle_A $ y compáralo con la predicción $\\tr (Z \\otimes Z\\cdot \\rho_{01})$\n",
    "<br>    \n",
    "\n",
    "- Repite para $\\langle X_2\\rangle_B$  y $\\langle Z_0X_1\\rangle_A$ \n",
    "    \n",
    "</div>"
   ]
  },
  {
   "cell_type": "markdown",
   "id": "bedb34a1",
   "metadata": {
    "slideshow": {
     "slide_type": "slide"
    }
   },
   "source": [
    "## Purificación de un estado mezclado\n"
   ]
  },
  {
   "cell_type": "markdown",
   "id": "5cc90e57",
   "metadata": {},
   "source": [
    "Ya hemos visto cómo una matriz densidad describe las *probabilidades a priori* cuando efectuamos medidas *restringidas* a un subespacio de espacio de Hilbert. \n",
    "\n",
    "Inversamente, si $\\rho\\neq  \\rho^2$ es una matriz densidad correspondiente a un estado mezclado, siempre podemos <u>diseñar un estado puro que contenga dicho estado meclado bajo restricción</u>. \n"
   ]
  },
  {
   "cell_type": "markdown",
   "id": "eb9c5563",
   "metadata": {
    "slideshow": {
     "slide_type": "slide"
    }
   },
   "source": [
    "<div class=\"alert alert-block alert-info\",text-align:center>\n",
    "<p style=\"text-align: left ;color: navy;\">  \n",
    "<b> Teorema</b>: <i>(purificación)</i>\n",
    "<br>    \n",
    "    Sea $\\rho \\in \\Lin(\\Hil_1)$ un operador densidad: <i>siempre</i> podemos definir un estado puro $\\ket{\\Psi}\\in \\Hil_1\\otimes \\Hil_2$, para algún espacio de Hilbert $\\Hil_2$, tal que\n",
    "<br>\n",
    "<br>\n",
    "$$\n",
    "\\rho = \\tr_{\\Hil_2}\\ket{\\Psi}\\bra{\\Psi}\n",
    "$$\n",
    "<br>\n",
    "</p>\n",
    "</div>\n"
   ]
  },
  {
   "cell_type": "markdown",
   "id": "c91d7e24",
   "metadata": {
    "slideshow": {
     "slide_type": "slide"
    }
   },
   "source": [
    "<i> Prueba</i> : \n",
    "la prueba pasa por escribir $\\rho$ en su descomposición espectral   \n",
    "$$\n",
    "\\rho = \\sum_{a=1}^{d_1} p_a \\ketbra{\\psi_a}{\\psi_a}\n",
    "$$\n",
    "donde $p_a\\geq 0$. Sea $\\Hil_2$ un espacio de Hilbert con dimensión $d_2\\geq d_1$. En el espacio producto, $\\Hil_2\\otimes \\Hil_1$ consideremos un estado\n",
    "<br>       \n",
    "$$\n",
    "\\ket{\\Psi} = \\sum_a \\sqrt{p_a}\\ket{\\psi_a}\\otimes \\ket{\\phi_a}\n",
    "$$\n",
    "donde $\\{\\phi_a\\}\\in \\Hil_2$ es un conjunto ortonormal de vectores. La traza parcial permite recuperar $\\rho$\n",
    "<br>\n",
    "\\begin{eqnarray}\n",
    "\\tr_{{\\cal H}_2} \\rho ~=~\\tr_{{\\cal H}_2}  \\ket{\\Psi}\\bra{\\Psi} &=& \\sum_{\\alpha=1}^{d_2}\\bra{e_\\alpha} \\left( \\sum_{a,b=1}^{d_1} \\sqrt{p_a}\\sqrt{p_b} \\ket{\\psi_a}\\otimes\\ket{\\phi_a}\\bra{\\psi_b} \\otimes \\bra{\\phi_b}\\right) \\ket{e_\\alpha} \n",
    "\\nonumber\\\\\n",
    "&=& \\sum_{b,a=1}^{d_1}  \\sqrt{p_a}\\sqrt{p_b} \\ket{\\psi_a}\\bra{\\psi_b} \\cdot \\bra{\\phi_b}\\left(\\sum_{\\alpha=1}^{d_2}\\ket{e_\\alpha}\\bra{e_\\alpha}\\right)\\ket{\\phi_a} \\nonumber\\\\\n",
    "&=& \\sum_{b,a=1}^{d_1}  \\sqrt{p_a}\\sqrt{p_b} \\ket{\\psi_a}\\bra{\\psi_b} \\cdot \\braket{\\phi_b}{\\phi_a} \\nonumber\\\\\n",
    "&=&  \\sum_{a=1}^{d_1} p_a \\ket{\\psi_a} \\bra{\\psi_a} ~= ~ \\rho_1  \\hspace{4cm} \\rule{3mm}{3mm}\n",
    "\\end{eqnarray}\n",
    "\n"
   ]
  },
  {
   "cell_type": "markdown",
   "id": "92c8f6cd",
   "metadata": {
    "slideshow": {
     "slide_type": "slide"
    }
   },
   "source": [
    "<a id='nocorr_sep_ent'></a>\n",
    "<table width=\"100%\">\n",
    "    <td style=\"font-size:25px;font-family:Helvetica;text-align:left;background-color:rgba(0,0,900, 0.3);\">\n",
    "<b> Estados no correlacionados, separables y entrelazados</b>\n",
    "</table>   \n"
   ]
  },
  {
   "cell_type": "markdown",
   "id": "dafe2070",
   "metadata": {
    "slideshow": {
     "slide_type": "-"
    }
   },
   "source": [
    "\n",
    "\n",
    "En el caso de los vectores $\\ket{\\psi} \\in \\Hil_A\\otimes \\Hil_B$, ya hemos visto una distinción entre el estado *factorizable* y *entrelazado*\n",
    "\n",
    "Para los *operadores de densidad* (estados) $\\rho \\in \\Lin(\\Hil_A\\otimes \\Hil_B)$ encontramos posibilidades similares"
   ]
  },
  {
   "cell_type": "markdown",
   "id": "5c28e303",
   "metadata": {
    "slideshow": {
     "slide_type": "slide"
    }
   },
   "source": [
    "\n",
    "- ### Estados no-correlacionados:  \n",
    "    \n",
    " si  $\\rho$ es un operador factorizable \n",
    "\n",
    "$$\n",
    "\\rho = \\rho_A\\otimes \\rho_B\\, \n",
    "$$\n",
    "<br>\n",
    "En este caso \n",
    "\n",
    "$$\\rho_{ia~jb} = \\rho_{A,ij}\\rho_{B,ab}$$\n",
    "\n",
    "decimos que es un estado en el que los subsistemas $A$ y $B$ <i>no están correlacionados</i>.\n"
   ]
  },
  {
   "cell_type": "markdown",
   "id": "1a0235e5",
   "metadata": {
    "slideshow": {
     "slide_type": "fragment"
    }
   },
   "source": [
    "Claramente, en este caso se cumple que los factores y las trazas parciales coinciden\n",
    "\n",
    "$$\n",
    "\\tr_B \\rho = \\rho_A~~~~~,~~~~~~\\tr_A \\rho = \\rho_B\n",
    "$$"
   ]
  },
  {
   "cell_type": "markdown",
   "id": "bd63d4dd",
   "metadata": {
    "slideshow": {
     "slide_type": "slide"
    }
   },
   "source": [
    "En un estado  *no-correlacionado* para cualquier par  de observables $O_A\\otimes I$ y $I\\otimes O_B$, el valor esperado  de $O_A\\otimes O_B$   puede obtenerse a partir de los valores esperados de los estados reducidos\n",
    "\n",
    "$$\n",
    "\\tr \\big((O_A\\otimes O_B)\\rho\\big) ~=~ \\tr_A(O_A\\rho_A) \\tr_B(O_B\\rho_B)\n",
    "$$\n",
    "\n",
    "Cuando es posible encontrar operadores para los que esto no es cierto, hablamos de *estado correlacionado*\n",
    "\n",
    "Dentro de esta clase, hay dos posibilidades. "
   ]
  },
  {
   "cell_type": "markdown",
   "id": "a355b0a5",
   "metadata": {
    "slideshow": {
     "slide_type": "slide"
    }
   },
   "source": [
    "- ### Estados separables:\n",
    "\n",
    "si $\\rho$ es una *mezcla estadística* de operadores no-correlacionados\n",
    "<br>\n",
    "<br>\n",
    "$$\\rho=\\sum_a p_a \\, \\rho^a_{A}\\otimes\\rho^a_{B}$$\n",
    "con $p_a\\in [0,1]~$ y $~\\sum_a p_a = 1$.\n",
    "<br>"
   ]
  },
  {
   "cell_type": "markdown",
   "id": "24e5fdcf",
   "metadata": {
    "slideshow": {
     "slide_type": "fragment"
    }
   },
   "source": [
    "En este caso, el estado $\\rho$ solo tiene *correlaciones clásicas* entre los sistemas $A$ y $B$\n",
    "\n",
    "$$\n",
    "\\tr \\big((O_A\\otimes O_B)\\rho\\big) ~=~ \\sum_a p_a \\tr_A(O^a_A\\rho_A) \\tr_B(O^a_B\\rho_B)\n",
    "$$"
   ]
  },
  {
   "cell_type": "markdown",
   "id": "7f73b1d6",
   "metadata": {
    "slideshow": {
     "slide_type": "skip"
    }
   },
   "source": [
    "Se puede demostrar que todos los estados separables son preparables a partir de estados no-correlacionados mediante LOCC"
   ]
  },
  {
   "cell_type": "markdown",
   "id": "91660625",
   "metadata": {
    "slideshow": {
     "slide_type": "slide"
    }
   },
   "source": [
    "- ### Estados entrelazados:\n",
    "\n",
    "en cualquier otro caso,\n",
    "<br>\n",
    "<br>\n",
    "$$\\rho \\neq \\sum_a p_a \\, \\rho^a_{A}\\otimes\\rho^a_{B}$$\n",
    "<br>\n",
    "En este caso general, existen correlaciones tanto <b>clásicas</b> como <b>cuánticas</b> entre los grados de libertad de $A$ y $B$"
   ]
  }
 ],
 "metadata": {
  "celltoolbar": "Slideshow",
  "kernelspec": {
   "display_name": "Python 3 (ipykernel)",
   "language": "python",
   "name": "python3"
  },
  "language_info": {
   "codemirror_mode": {
    "name": "ipython",
    "version": 3
   },
   "file_extension": ".py",
   "mimetype": "text/x-python",
   "name": "python",
   "nbconvert_exporter": "python",
   "pygments_lexer": "ipython3",
   "version": "3.9.12"
  },
  "varInspector": {
   "cols": {
    "lenName": 16,
    "lenType": 16,
    "lenVar": 40
   },
   "kernels_config": {
    "python": {
     "delete_cmd_postfix": "",
     "delete_cmd_prefix": "del ",
     "library": "var_list.py",
     "varRefreshCmd": "print(var_dic_list())"
    },
    "r": {
     "delete_cmd_postfix": ") ",
     "delete_cmd_prefix": "rm(",
     "library": "var_list.r",
     "varRefreshCmd": "cat(var_dic_list()) "
    }
   },
   "types_to_exclude": [
    "module",
    "function",
    "builtin_function_or_method",
    "instance",
    "_Feature"
   ],
   "window_display": false
  }
 },
 "nbformat": 4,
 "nbformat_minor": 5
}
