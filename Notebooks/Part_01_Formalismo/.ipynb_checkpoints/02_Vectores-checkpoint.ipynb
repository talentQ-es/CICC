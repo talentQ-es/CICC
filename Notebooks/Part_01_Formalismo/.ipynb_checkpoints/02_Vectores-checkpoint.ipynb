{
 "cells": [
  {
   "cell_type": "markdown",
   "id": "1793a95d",
   "metadata": {},
   "source": [
    "<table width=\"100%\"><td style=\"font-size:22px;font-style:italic;text-align:right;\">\n",
    " Mecánica Cuántica: las reglas de juego   </td></table>\n",
    " \n",
    "Autor: Javier Mas\n",
    "$ \\newcommand{\\bra}[1]{\\langle #1|} $\n",
    "$ \\newcommand{\\ket}[1]{|#1\\rangle} $\n",
    "$ \\newcommand{\\braket}[2]{\\langle #1|#2\\rangle} $\n",
    "$ \\newcommand{\\i}{{\\color{blue} i}} $ \n",
    "$ \\newcommand{\\Hil}{{\\mathbb H}} $"
   ]
  },
  {
   "cell_type": "markdown",
   "id": "26fd6ce5",
   "metadata": {},
   "source": [
    "# Vectores\n",
    "\n",
    "- [Espacio Vectorial Complejo](#vecdefi) \n",
    "\n",
    "-  [Espacio de Hilbert](#vecprodesc)   \n"
   ]
  },
  {
   "cell_type": "code",
   "execution_count": 1,
   "id": "19210d84",
   "metadata": {},
   "outputs": [],
   "source": [
    "import numpy as np\n",
    "from IPython.display import display,Markdown,Latex\n",
    "import matplotlib.pyplot as plt\n",
    "'Correr esta celda para incluir funciones predefinidas'\n",
    "%run ../macro_CURSO.py"
   ]
  },
  {
   "cell_type": "markdown",
   "id": "7abadd3c",
   "metadata": {},
   "source": [
    "## Espacio Vectorial Complejo<a id=\"vecdefi\"></a>"
   ]
  },
  {
   "cell_type": "markdown",
   "id": "95398612",
   "metadata": {},
   "source": [
    "#### Definición"
   ]
  },
  {
   "cell_type": "markdown",
   "id": "ca881d2d",
   "metadata": {},
   "source": [
    "De forma muy *poco rigurosa*, definiremos un *vector de dimensión* $N$ como una columna de $N$ números complejos. \n",
    "\n",
    "<br>\n",
    "\n",
    "$$\n",
    "|u\\rangle = \\begin{pmatrix} {u_1}\\\\ {u_2}\\\\ \\vdots \\\\ {u_N} \n",
    "\\end{pmatrix}\n",
    "$$\n",
    "\n",
    "<br>\n",
    "\n",
    "El símbolo $\\ket{u}$  *representa* un vector y se denomina *ket*. La colección de números $u_i,\\, i=1,...,N$ se denominan *componentes* del vector $\\ket{u}$ en una base.\n",
    "\n",
    "<hr />\n",
    "\n",
    "\n",
    "<table width=\"100%\"><td style=\"font-size:15px;font-style:roman;text-align:center;\">La colección de todos los vectores posibles, con las  propiedades de suma y multiplicación forman un espacio vectorial, ${\\mathbb V}_N$ de dimension $N$\n",
    "</td></table>\n",
    "\n",
    "<br>\n",
    "<br>\n",
    "\n",
    "$$\n",
    " |u\\rangle + \\ket{v}~ =~ \\begin{pmatrix} {u_1}\\\\ {u_2}\\\\ \\vdots \\\\ {u_N} \\end{pmatrix}\n",
    "\\,+\\, \\begin{pmatrix} {v_1}\\\\ {v_2}\\\\ \\vdots \\\\ {v_N}\\end{pmatrix}\\, ~=~\\, \n",
    "\\begin{pmatrix} {u_1}+v_1\\\\ {u_2}+v_2\\\\ \\vdots \\\\ {u_N}+v_n \\end{pmatrix} ~= ~\\ket{w}\n",
    "$$\n",
    "\n",
    "<br>\n",
    "<br>\n",
    "\n",
    "$$\n",
    " \\lambda|u\\rangle ~ =~ \\lambda \\begin{pmatrix} {u_1}\\\\ {u_2}\\\\ \\vdots \\\\ {u_N} \\end{pmatrix}\n",
    "\\,~=~    \\begin{pmatrix} {\\lambda u_1}\\\\ {\\lambda u_2}\\\\ \\vdots \\\\ {\\lambda u_N} \\end{pmatrix} ~\\equiv~\\ket{\\lambda u}\n",
    "$$\n",
    "\n",
    "Formalmente, este espacio vectorial es isomorfo al conjunto de *N-tuplas* formadas por números complejos ${\\mathbb V}_N \\sim {\\mathbb C}^N = \\overbrace{{\\mathbb C}\\times{\\mathbb C}\\times...{\\mathbb C}}^{N}$. "
   ]
  },
  {
   "cell_type": "code",
   "execution_count": 1,
   "id": "a4561fd5",
   "metadata": {},
   "outputs": [
    {
     "ename": "NameError",
     "evalue": "name 'Display' is not defined",
     "output_type": "error",
     "traceback": [
      "\u001b[0;31m---------------------------------------------------------------------------\u001b[0m",
      "\u001b[0;31mNameError\u001b[0m                                 Traceback (most recent call last)",
      "\u001b[0;32m<ipython-input-1-7d354cb22ede>\u001b[0m in \u001b[0;36m<module>\u001b[0;34m\u001b[0m\n\u001b[1;32m      2\u001b[0m \u001b[0muket\u001b[0m\u001b[0;34m=\u001b[0m\u001b[0mnp\u001b[0m\u001b[0;34m.\u001b[0m\u001b[0marray\u001b[0m\u001b[0;34m(\u001b[0m\u001b[0;34m[\u001b[0m\u001b[0;34m[\u001b[0m\u001b[0;36m1\u001b[0m\u001b[0;34m+\u001b[0m\u001b[0;36m1j\u001b[0m\u001b[0;34m]\u001b[0m\u001b[0;34m,\u001b[0m\u001b[0;34m[\u001b[0m\u001b[0;36m2\u001b[0m\u001b[0;34m-\u001b[0m\u001b[0;36m3\u001b[0m\u001b[0;34m*\u001b[0m\u001b[0;36m1.j\u001b[0m\u001b[0;34m]\u001b[0m\u001b[0;34m]\u001b[0m\u001b[0;34m)\u001b[0m\u001b[0;34m\u001b[0m\u001b[0;34m\u001b[0m\u001b[0m\n\u001b[1;32m      3\u001b[0m \u001b[0;34m\u001b[0m\u001b[0m\n\u001b[0;32m----> 4\u001b[0;31m \u001b[0mDisplay\u001b[0m\u001b[0;34m(\u001b[0m\u001b[0mMatrixToLatex\u001b[0m\u001b[0;34m(\u001b[0m\u001b[0muket\u001b[0m\u001b[0;34m)\u001b[0m\u001b[0;34m)\u001b[0m\u001b[0;34m\u001b[0m\u001b[0;34m\u001b[0m\u001b[0m\n\u001b[0m",
      "\u001b[0;31mNameError\u001b[0m: name 'Display' is not defined"
     ]
    }
   ],
   "source": [
    "'definimos un ket como un vector columna'\n",
    "uket=np.array([[1+1j],[2-3*1.j]])\n",
    "\n",
    "Display(MatrixToLatex(uket))"
   ]
  },
  {
   "cell_type": "markdown",
   "id": "23bcc623",
   "metadata": {},
   "source": [
    "#### Conjugación adjunta"
   ]
  },
  {
   "cell_type": "markdown",
   "id": "a2435e44",
   "metadata": {},
   "source": [
    "\n",
    "Simbolizada con $\\dagger$, se trata de una extensión de la conjugación compleja que ahora puede aplicarse a vectores.\n",
    "De esta manera, asociado a cada vector $\\ket{u}$, encontramos un objeto conjugado  $\\bra{u}$ denominado *bra* que representamos mediante un vector fila con las componentes complejas conjugadas.  \n",
    "\n",
    "\n",
    "$$\n",
    "\\dagger \\,:\\,|u\\rangle = \\begin{pmatrix} {u_1}\\\\ {u_2}\\\\ \\vdots \\\\ {u_N} \n",
    "\\end{pmatrix} ~~~~~{\\rightarrow}~~~~~~ \\bra{u} =\\begin{pmatrix} {u_1^*} & {u_2^*} & \\cdots & {u_N^*}\n",
    "\\end{pmatrix}\n",
    "$$\n",
    "\n",
    "<hr />\n",
    "\n",
    "Consistentemente, encontramos para el producto de un vector por un número complejo $\\lambda$\n",
    "\n",
    "$$\n",
    "\\dagger \\,:\\,  \\lambda\\ket{u} \\to \\lambda^*\\bra{u} = \\bra{u}\\lambda^*\n",
    "$$\n",
    "\n",
    "ya que el producto de un vector por un número es conmutativo.\n",
    "La conjugación adjunta es una *involución*: aplicada dos veces vuelve al vector original\n",
    "\n",
    "$$\n",
    "\\dagger \\, : \\,\\bra{u} = \\ket{u}\n",
    "$$\n",
    "\n",
    "que se resume diciendo $\\dagger^2 = I$."
   ]
  },
  {
   "cell_type": "code",
   "execution_count": null,
   "id": "aa92db50",
   "metadata": {},
   "outputs": [],
   "source": [
    "'definimos un ket como una columna de componentes  complejas'\n",
    "uket=np.array([[1+1j],[2-3*1.j]])\n",
    "Display(MatrixToLatex(uket))\n",
    "print(uket.shape)\n",
    "\n",
    "'definimos el bra adjunto como la fila formada por las componentes conjugadas complejas'\n",
    "ubra=uket.conj().T\n",
    "\n",
    "Display(MatrixToLatex(ubra))\n",
    "print(ubra.shape)\n"
   ]
  },
  {
   "cell_type": "markdown",
   "id": "e8487f77",
   "metadata": {},
   "source": [
    "#### Base"
   ]
  },
  {
   "cell_type": "markdown",
   "id": "e7f0c856",
   "metadata": {},
   "source": [
    "Una base del espacio vectorial ${\\mathbb V}_N$ está formada por el siguiente conjunto de $N$ vectores \n",
    "\n",
    "<br>\n",
    "\n",
    "$$\n",
    "|e_1\\rangle \\sim \\begin{pmatrix} 1 \\\\ 0 \\\\ 0\\\\ \\vdots \n",
    "\\\\ 0 \\\\ 0 \\end{pmatrix}~~~~\n",
    "|e_2\\rangle \\sim \\begin{pmatrix} 0 \\\\ 1 \\\\ 0\\\\ \\vdots \n",
    "\\\\ 0 \\\\ 0 \\end{pmatrix}~~~~~~~~~\n",
    "\\cdots ~~~~~~~~\n",
    "|e_{N-1}\\rangle \\sim \\begin{pmatrix} 0 \\\\ 0 \\\\ 0\\\\\\vdots \n",
    "\\\\ 1 \\\\ 0 \\end{pmatrix}~~~~\n",
    "|e_N\\rangle \\sim \\begin{pmatrix} 0 \\\\ 0 \\\\0\\\\ \\vdots \n",
    "\\\\ 0 \\\\ 1 \\end{pmatrix}\n",
    "$$\n",
    "<br>\n",
    "\n",
    "\n",
    "<hr />\n",
    "\n",
    "En una base, podemos expresar cualquier vector como una combinación lineal de sus elementos \n",
    "\n",
    "<br>\n",
    "\n",
    "$$\n",
    "|u\\rangle ~=~ {u_1} |e_1 \\rangle + {u_2} | e_2\\rangle +... + {u_{ N}}|e_{ N}\\rangle~=~ \\sum_{i=1}^N {u_ i} |e_i\\rangle \\,\\sim\n",
    "$$\n",
    "\n",
    "<br>\n",
    "\n",
    "$$\n",
    "\\sim~ {u_1} \\begin{pmatrix} 1 \\\\ 0 \\\\ 0\\\\ \\vdots \n",
    "\\\\ 0 \\\\ 0 \\end{pmatrix} \\,+\\,{u_2} \\begin{pmatrix} 0 \\\\ 1 \\\\ 0\\\\ \\vdots \\\\ 0 \\\\ 0 \\end{pmatrix}~+~ ... ~+ ~\n",
    "{u_{N-1}} \\begin{pmatrix} 0 \\\\ 0 \\\\ 0\\\\\\vdots \n",
    "\\\\ 1 \\\\ 0 \\end{pmatrix}+ \n",
    "\\,{u_N}\\,  \\begin{pmatrix} 0 \\\\ 0 \\\\0\\\\ \\vdots \n",
    "\\\\ 0 \\\\ 1 \\end{pmatrix}~~~= ~~~\n",
    "  \\begin{pmatrix} {u_1} \\\\ {u_2} \\\\{u_3}\\\\ \\vdots \n",
    "\\\\ \\,{u_{N-1}}\\, \\\\ {u_{N}} \\end{pmatrix}\n",
    "$$\n",
    "\n",
    "<br>\n",
    "\n",
    "\n",
    "Podemos definir una función que, dada una columna, nos escriba la expansión en la base en notación vectorial"
   ]
  },
  {
   "cell_type": "code",
   "execution_count": null,
   "id": "fcdbc616",
   "metadata": {},
   "outputs": [],
   "source": [
    "def Expande_Ket(u):\n",
    "    a=r'$| u \\rangle $  ='\n",
    "    for i in range(len(u)):\n",
    "        if (i+1)%len(u)!=0:\n",
    "            a+=r' %s |$e_%i \\rangle  $ + ' %(u[i][0],i)  \n",
    "        elif (i+1)%len(u)==0:\n",
    "            a+= r\" %s |$e_%i\\rangle $ \" %(u[i][0],i)\n",
    "    display(Markdown(a))\n",
    "\n",
    "'''Ejemplo'''\n",
    "uket = [[1.5+1j],[2-3*1.j]]\n",
    "Expande_Ket(uket)"
   ]
  },
  {
   "cell_type": "markdown",
   "id": "561c6473",
   "metadata": {},
   "source": [
    "## Espacio de Hilbert<a id=\"vecprodesc\"></a>"
   ]
  },
  {
   "cell_type": "markdown",
   "id": "7b20b10b",
   "metadata": {},
   "source": [
    "#### Producto escalar"
   ]
  },
  {
   "cell_type": "markdown",
   "id": "8eedf582",
   "metadata": {},
   "source": [
    "<br>\n",
    "\n",
    "<table width=\"100%\"><td style=\"font-size:15px;font-style:roman;text-align:center;\"><b>Definición:</b> un espacio de Hilbert  ${\\mathbb H}_N$ es un espacio vectorial de dimensión $N$, dotado de una operación  denominada <i>producto escalar</i>\n",
    "</td></table>\n",
    "\n",
    "<br>\n",
    "\n",
    "\n",
    "El producto escalar de dos vectores $\\ket{u}$ y $\\ket{v}$ es un *número complejo* que denotamos\n",
    "$\\braket{u}{v} \\in{\\mathbb C}$\n",
    "\n",
    "<br>\n",
    "\n",
    "$$\n",
    "\\braket{u}{v} = ~~~\\begin{pmatrix}\n",
    "{u_1^*} & {u_2^*} & \\cdots & {u_N^*}\n",
    "\\end{pmatrix}\\begin{pmatrix} {v_1}\\\\ {v_2}\\\\ \\vdots \\\\ {v_N} \n",
    "\\end{pmatrix}\n",
    " ~=~\\sum_{i=1}^n{ u_i^* v_i}      \n",
    "$$\n",
    "\n",
    "<br>\n",
    "\n",
    "Como vemos, conocidas las componentes de los dos vectores, es fácil calcular el producto escalar. \n",
    "Las dos propiedades más importantes son:\n",
    "\n",
    "-linealidad: $\\to \\bra{u}\\big(\\ket{v}+\\ket{w}\\big) = \\braket{u}{v} + \\braket{u}{w}$\n",
    "\n",
    "-hermiticidad: $\\to \\braket{v}{u} = \\braket{u}{v}^*$\n",
    "\n",
    "Combinando ambas propiedades, el producto escalar también es lineal en el primer argumento\n",
    "$(\\bra{u}+\\bra{w})\\ket{v} = \\bra{u} \\ket{v} + \\bra{w} \\ket{v}$. \n",
    "Todas estas propiedades  son fácilmente verificables  usando la expresión en componentes. \n"
   ]
  },
  {
   "cell_type": "code",
   "execution_count": null,
   "id": "9220a865",
   "metadata": {},
   "outputs": [],
   "source": [
    "'ejemplo: tomemos dos kets |u> y |v>'\n",
    "uket=np.array([[1.5+1j],[2-3*1.j]])\n",
    "vket=np.array([[2-1j],[1.j]])\n",
    "'formemos el bra <v|'\n",
    "vbra=vket.conj().T\n",
    "\n",
    "Display(MatrixToLatex(uket))\n",
    "Display(MatrixToLatex(vbra))\n",
    "\n",
    "'tomemos el producto escalar <v|u>'\n",
    "uvbraket = np.dot(ubra,vket)[0,0] \n",
    "print('<u|v>=%s'% uvbraket)"
   ]
  },
  {
   "cell_type": "markdown",
   "id": "87ec6373",
   "metadata": {},
   "source": [
    "#### Norma"
   ]
  },
  {
   "cell_type": "markdown",
   "id": "572c5463",
   "metadata": {},
   "source": [
    "El producto escalar de un vector por sí mismo es un número positivo a partir del cual podemos definir su *norma*.\n",
    "\n",
    "<br>\n",
    "\n",
    "$$\n",
    "\\|\\ket{v}\\| = \\sqrt{\\braket{u}{u}} = \\sqrt{\\sum_{i=1}^N |u_i|^2}\n",
    "$$\n",
    "\n",
    "<br>\n"
   ]
  },
  {
   "cell_type": "markdown",
   "id": "622908de",
   "metadata": {},
   "source": [
    "\n",
    "<div class=\"alert alert-block alert-success\">\n",
    "    <b>Ejercicio:</b>  escribe una funcion Norma(u) que calcule la norma de un vector u .\n",
    "</div>"
   ]
  },
  {
   "cell_type": "code",
   "execution_count": null,
   "id": "b542c502",
   "metadata": {},
   "outputs": [],
   "source": [
    "''' solución '''\n",
    "\n",
    "def Norma(u):\n",
    "    uket = u   \n",
    "    ubra =uket.conj().T\n",
    "    norma = np.sqrt(np.dot(ubra,uket)[0,0]).real \n",
    "    return norma     "
   ]
  },
  {
   "cell_type": "code",
   "execution_count": null,
   "id": "84786839",
   "metadata": {},
   "outputs": [],
   "source": [
    "'''Ejemplo'''\n",
    "u=np.array([[1.5+1j],[2-3*1.j]])\n",
    "Expande_Ket(u)\n",
    "display(Markdown('$ \\|\\ket{u}\\|=%2.3f $' % Norma(u)))"
   ]
  }
 ],
 "metadata": {
  "kernelspec": {
   "display_name": "Python 3",
   "language": "python",
   "name": "python3"
  },
  "language_info": {
   "codemirror_mode": {
    "name": "ipython",
    "version": 3
   },
   "file_extension": ".py",
   "mimetype": "text/x-python",
   "name": "python",
   "nbconvert_exporter": "python",
   "pygments_lexer": "ipython3",
   "version": "3.7.10"
  },
  "varInspector": {
   "cols": {
    "lenName": 16,
    "lenType": 16,
    "lenVar": 40
   },
   "kernels_config": {
    "python": {
     "delete_cmd_postfix": "",
     "delete_cmd_prefix": "del ",
     "library": "var_list.py",
     "varRefreshCmd": "print(var_dic_list())"
    },
    "r": {
     "delete_cmd_postfix": ") ",
     "delete_cmd_prefix": "rm(",
     "library": "var_list.r",
     "varRefreshCmd": "cat(var_dic_list()) "
    }
   },
   "types_to_exclude": [
    "module",
    "function",
    "builtin_function_or_method",
    "instance",
    "_Feature"
   ],
   "window_display": false
  }
 },
 "nbformat": 4,
 "nbformat_minor": 5
}
