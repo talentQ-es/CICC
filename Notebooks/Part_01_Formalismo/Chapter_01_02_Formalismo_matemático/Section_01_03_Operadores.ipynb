{
 "cells": [
  {
   "cell_type": "markdown",
   "id": "5cb046c7",
   "metadata": {
    "slideshow": {
     "slide_type": "slide"
    }
   },
   "source": [
    "<figure><right>\n",
    "<img   src=\"../../figuras/logos/Logo_TalentQ_Azul.png\" align=right  width=\"150px\"/>\n",
    "</right></figure>\n",
    "\n",
    "\n",
    "# Operadores\n",
    "\n",
    "$ \\newcommand{\\bra}[1]{\\langle #1|} $\n",
    "$ \\newcommand{\\ket}[1]{|#1\\rangle} $\n",
    "$ \\newcommand{\\braket}[2]{\\langle #1|#2\\rangle} $\n",
    "$ \\newcommand{\\ketbra}[2]{| #1\\rangle\\mkern-1.4mu\\langle #2|} $\n",
    "$ \\newcommand{\\tr}{{\\rm tr}} $\n",
    "$ \\newcommand{\\i}{{\\color{blue} i}} $ \n",
    "$ \\newcommand{\\Hil}{{\\cal H}} $\n",
    "$ \\newcommand{\\V}{{\\cal V}} $\n",
    "$ \\newcommand{\\Lin}{\\hbox{Lin}} $\n",
    "$ \\newcommand{\\boldsig}{\\boldsymbol{\\sigma}} $"
   ]
  },
  {
   "cell_type": "code",
   "execution_count": 4,
   "id": "c7bd5d4c",
   "metadata": {
    "slideshow": {
     "slide_type": "-"
    },
    "tags": [
     "hide-input"
    ]
   },
   "outputs": [],
   "source": [
    "%run ../../macro_tQ.py\n",
    "import sys\n",
    "sys.path.append('../../')\n",
    "import macro_tQ as tQ\n",
    "\n",
    "import numpy as np\n",
    "import scipy.linalg as la\n",
    "from IPython.display import display,Markdown,Latex\n",
    "import matplotlib.pyplot as plt\n",
    "from qiskit.tools.visualization import array_to_latex\n",
    "from IPython.display import display, Latex"
   ]
  },
  {
   "cell_type": "markdown",
   "id": "db311637",
   "metadata": {
    "slideshow": {
     "slide_type": "skip"
    }
   },
   "source": [
    "## Operador\n",
    "  "
   ]
  },
  {
   "cell_type": "markdown",
   "id": "6f3b844e",
   "metadata": {
    "slideshow": {
     "slide_type": "skip"
    }
   },
   "source": [
    "En un espacio vectorial, además de los vectores, es necesario entender la manera en que estos se pueden transformar entre sí\n",
    "\n",
    "<div class=\"alert alert-block alert-info\",text-align:center>\n",
    "<p style=\"text-align: left ;color: navy\">  \n",
    "<b>Definición:</b> <i>Operador lineal</i> \n",
    "<br>\n",
    "Un operador lineal es una aplicación $A:\\Hil \\to \\Hil$  que transforma un vector  en otro \n",
    "<br>\n",
    "<br>\n",
    "$$\n",
    "A: \\ket{u} ~~\\to ~~ \\ket{v}   \n",
    "$$\n",
    "<br>    \n",
    "de forma <i>lineal</i>.   \n",
    "</p>\n",
    "</div>\n",
    "\n",
    "La linealidad se refiere a la siguiente propiedad:\n",
    "\n",
    "$$\n",
    "A: (\\alpha\\ket{u} + \\beta\\ket{w})~~\\to ~~ \\ket{v} =\\alpha A\\ket{u} + \\beta A\\ket{w}\n",
    "$$ \n"
   ]
  },
  {
   "cell_type": "markdown",
   "id": "ac0bfdd6",
   "metadata": {
    "slideshow": {
     "slide_type": "skip"
    }
   },
   "source": [
    "<div class=\"alert alert-block alert-warning\">\n",
    "<b>Ejemplo:</b> \n",
    "<br>   \n",
    "Un <i>operador</i>  fácil de visualizar es el operador de <i>rotación en un plano</i>. Dado un ángulo $\\theta \\in (0,2\\pi)$ el operador $A = R(\\theta)$ gira cualquier vector un ángulo $\\theta$ en el sentido antihorario\n",
    "\n",
    "    \n",
    "Un vector en el plano ${\\bf u} =  (u_1,u_2)$  es equivalente al número complejo $u = u_1 + i u_2$ en el plano complejo $V = {\\mathbb C}$.\n",
    "\n",
    "    \n",
    "Escrito en polares, $u=|u|e^{i\\phi}$,  sabemos que una rotación de ángulo $\\theta$ es equivalente a añadirle dicho  ángulo a la fase \n",
    "<br>\n",
    "<br>\n",
    "$$\n",
    " v = R(\\theta) u = |u| e^{i(\\phi + \\theta)} =  |u| e^{i\\phi } e^{i\\theta} = u\\cdot e^{i\\theta} \n",
    "$$  \n",
    "Por tanto, para rotar un número complejo un ángulo $\\theta$ basta con multiplicarlo por la fase $e^{i\\theta}$, que se corresponde con el operador $R(\\theta)$ en el espacio vectorial $V = \\mathbb{C}$.   La propiedad fundamental de una rotación es la de mantener invariante el módulo  $|v| = |u|$.    \n",
    "</div>\n"
   ]
  },
  {
   "cell_type": "code",
   "execution_count": 6,
   "id": "910284be",
   "metadata": {
    "slideshow": {
     "slide_type": "skip"
    }
   },
   "outputs": [
    {
     "data": {
      "image/png": "[encoded data removed]",
      "text/plain": [
       "<Figure size 576x576 with 1 Axes>"
      ]
     },
     "metadata": {
      "needs_background": "light"
     },
     "output_type": "display_data"
    }
   ],
   "source": [
    "'''ángulo que queremos rotar'''\n",
    "theta=0.6 \n",
    "\n",
    "'''vector a rotar'''\n",
    "u1=2.\n",
    "u2=2.\n",
    "\n",
    "'Función que rota un vector tratándolo como un número complejo'\n",
    "def R(u1,u2,theta):\n",
    "        u = u1 + u2*1j\n",
    "        v = u*np.exp(1j*theta) # u rotado un angulo theta\n",
    "        return v.real,v.imag\n",
    "    \n",
    "'''v1 y v2 a partir de u1, u2 y theta'''\n",
    "v1,v2 =  R(u1,u2,theta)\n",
    "\n",
    "''' Representación en el plano complejo '''\n",
    "v = v1**2+v2**2\n",
    "tQ.plot_2D_plane(left=-int(abs(v1))-2,right=int(abs(v1))+2,up=int(abs(v2))+1,down=-int(abs(v2))-1)\n",
    "tQ.draw_vector(u1,u1,vcolor='b')\n",
    "tQ.draw_vector(v1,v2,vcolor='r')\n"
   ]
  },
  {
   "cell_type": "markdown",
   "id": "bd92d755",
   "metadata": {
    "slideshow": {
     "slide_type": "slide"
    }
   },
   "source": [
    "### Matriz de un operador\n",
    "<a id='matriz_op'></a>\n",
    "\n",
    "Dada una base $\\{\\ket{i}\\}$ con $i=1,...,N$, podemos asociar a cada operador $A$, una matriz $A_{ij}$. Veamos por qué: escribamos los vectores $\\ket{u}$ y $\\ket{v} $ en la base $\\{\\ket{i}\\}$\n",
    "\n",
    "$$\n",
    "\\ket{u} ~=~ \\sum_{i=1}^N u_i \\ket{i}~ \\sim ~\\begin{pmatrix} u_1 \\\\ v_2\\\\ \\vdots \\\\ v_N\\end{pmatrix}\n",
    "~~~~~~~~~,~~~~~~~~\n",
    "\\ket{v} ~=~ \\sum_{i=1}^N v_i \\ket{i}~\\sim ~\\begin{pmatrix} v_1 \\\\ v_2\\\\ \\vdots \\\\ v_N\\end{pmatrix}\n",
    "$$\n",
    "\n",
    "El hecho de que $\\ket{v} = A\\ket{u}$ donde  $A$ es un *operador lineal* quiere decir que existe una matriz  \n",
    "\n",
    "$$\n",
    "A ~\\sim~ \\begin{pmatrix} \n",
    "A_{11} & A_{12} & \\cdots & A_{1N} \\\\\n",
    "A_{21} & A_{22} & \\cdots & A_{2N} \\\\\n",
    "\\vdots & \\vdots &  \\ddots      & \\vdots \\\\\n",
    "A_{N1} & A_{N2} &    \\cdots    & A_{NN}\n",
    "\\end{pmatrix}\n",
    "$$\n",
    "\n",
    "que relaciona las componentes de ambos vectores\n",
    "\n",
    "$$\n",
    "\\begin{pmatrix}\n",
    "v_1 \\\\ v_2 \\\\ \\vdots \\\\ v_N \\end{pmatrix} =  \\begin{pmatrix} \n",
    "A_{11} & A_{12} & \\cdots & A_{1N} \\\\\n",
    "A_{21} & A_{22} & \\cdots & A_{2N} \\\\\n",
    "\\vdots & \\vdots &  \\ddots      & \\vdots \\\\\n",
    "A_{N1} & A_{N2} &    \\cdots    & A_{NN}\n",
    "\\end{pmatrix}\n",
    " \\begin{pmatrix} \n",
    "u_1 \\\\ u_2 \\\\ \\vdots \\\\ u_N\\end{pmatrix}\n",
    "$$\n",
    "o, lo que es igual\n",
    "$$\n",
    "v_i = \\sum_{j=1}^N A_{ij} u_j  \\, \n",
    "$$\n"
   ]
  },
  {
   "cell_type": "markdown",
   "id": "580815fb",
   "metadata": {
    "slideshow": {
     "slide_type": "skip"
    }
   },
   "source": [
    "<div class=\"alert alert-block alert-warning\">\n",
    "    <b>Ejemplo:</b> \n",
    "<br>\n",
    "Continuando con el ejemplo del operador de rotación en un plano, hemos visto que las componentes de $u = u_1 + i u_2$ y las de $R(\\theta)u = v = v_1 + i v_2$ se obtienen mediante la multiplicación por una fase pura \n",
    "\\begin{eqnarray*}\n",
    "v&=& u e^{i\\theta} \\\\\n",
    "\\end{eqnarray*}\n",
    "    \n",
    "Vamos a desarrollar cada miembro en cartesianas, separando las partes real e imaginaria\n",
    "<br>    \n",
    "\\begin{eqnarray*}\n",
    "v_1 + i v_2 &=& (u_1 + iu_2) (\\cos \\theta + i \\sin \\theta)  \\\\\n",
    "    \\rule{0mm}{6mm}\n",
    "    &=& (\\cos\\theta \\, u_1 - \\sin \\theta\\,  u_2) + i(\\sin\\theta\\,  u_1 + \\cos \\theta\\,  u_2)\n",
    "\\end{eqnarray*}\n",
    "<br>\n",
    "    \n",
    "es decir las coordenadas del vector origen y el vector rotado imagen se relacionan en la  forma \n",
    "\n",
    "<br>\n",
    "\\begin{eqnarray*}\n",
    "v_1 = \\cos\\theta \\, u_1 - \\sin \\theta\\,  u_2 ~~~~~~~,~~~~~~~~\n",
    "v_2 = \\sin\\theta \\, u_1 + \\cos \\theta\\,  u_2     \n",
    "\\end{eqnarray*}\n",
    "<br>\n",
    "\n",
    "que podemos expresar en forma matricial\n",
    "    \n",
    "$$\n",
    "\\begin{pmatrix} v_1 \\\\ v_2 \\end{pmatrix} = \\begin{pmatrix} \\cos\\theta & -\\sin\\theta \\\\ \\sin\\theta &\\cos\\theta\\end{pmatrix} \\begin{pmatrix} u_1 \\\\ u_2 \\end{pmatrix}\n",
    "$$    \n",
    "    \n",
    "  \n",
    "    \n",
    "    \n",
    "</div>\n"
   ]
  },
  {
   "cell_type": "markdown",
   "id": "a493c0e4",
   "metadata": {
    "slideshow": {
     "slide_type": "skip"
    }
   },
   "source": [
    "## Base de Operadores  "
   ]
  },
  {
   "cell_type": "markdown",
   "id": "d807f34c",
   "metadata": {
    "slideshow": {
     "slide_type": "slide"
    }
   },
   "source": [
    "Hay una clase de operadores muy simples que se puede formar a partir de dos vectores. No son los operadores e más generales, pero servirán como base para expresar cualquier operador lineal \n",
    "\n",
    "### Producto externo \n",
    "<a id='base_canonica'></a>\n",
    "\n",
    " Dependiendo del orden en que los compongamos, $~\\braket{u}{v}~$ ó $~\\ketbra{v}{u}~$, el resultado es  muy distinto\n",
    "<br>\n",
    "\n",
    "- El **producto interno**, o *producto escalar* es un *número complejo*\n",
    "<br>\n",
    "\n",
    "$$\n",
    " a = \\braket{u}{v} = \\braket{v}{u}^* \n",
    "$$\n",
    "\n",
    "- El **producto externo**  es un *operador*\n",
    "<br>\n",
    "\n",
    "$$\n",
    "A = \\ketbra{v}{u}\n",
    "$$"
   ]
  },
  {
   "cell_type": "markdown",
   "id": "583adba2",
   "metadata": {
    "slideshow": {
     "slide_type": "skip"
    }
   },
   "source": [
    "Para comprender por qué es un operador, observamos que dicha expresión aplicada a un vector $\\ket{w}$ da otro, <br>\n",
    "\n",
    "$$\n",
    "A : \\ket{w} ~\\to ~ A\\ket{w} =  \\ket{v}\\braket{u}{w}=\\ket{v} \\lambda  = \\lambda \\ket{v} \n",
    "$$ "
   ]
  },
  {
   "cell_type": "markdown",
   "id": "99c39918",
   "metadata": {
    "slideshow": {
     "slide_type": "slide"
    }
   },
   "source": [
    "<div class=\"alert alert-block alert-danger\">\n",
    "<b>Notar:</b> \n",
    "<br>\n",
    "    \n",
    "1. El orden en que escribimos las cosas es relevante o no según los casos. \n",
    "Por ejemplo  $\\braket{u}{v}$ y $\\ketbra{v}{u}$ son objetos <i> radicalmente distintos</i>: el primero es un número y el segundo es un operador. En cambio $\\ket{v} \\lambda  = \\lambda \\ket{v}$, así como $\\bra{u}\\lambda = \\lambda\\bra{u}$, es decir,  los números complejos y los $kets$ o $bras$ pueden escribirse en cualquier orden (decimos que conmutan).\n",
    "<br>\n",
    "    \n",
    "2. La acción del operador  $A = \\ket{v}\\bra{u}$ es muy fácil de <i>verbalizar</i>: \n",
    "     \n",
    "    - el operador $A$ toma un vector $\\ket{w}$ y lo convierte en otro  <i>paralelo</i> a $\\ket{v}$ de módulo proporcional  a $\\lambda=\\braket{u}{w}$ \n",
    "    \n",
    "    - si la proyección es nula $\\lambda=0$, el operador <i>aniquila</i>, es decir, su imagen es el <i>elemento neutro</i>\n",
    "</div>"
   ]
  },
  {
   "cell_type": "markdown",
   "id": "7a0320c7",
   "metadata": {
    "slideshow": {
     "slide_type": "slide"
    }
   },
   "source": [
    "La diferencia entre el *producto interno* $a=\\braket{u}{v}$ y el *externo* $A=\\ketbra{u}{v}$ tiene su reflejo en una base expresando ambos vectores, $\\ket{u} = \\sum_i u_i\\ket{i}$ y $\\ket{v} = \\sum_j v_j \\ket{j}$,  en componentes en una base ortonormal\n",
    "\n",
    "-  el *número complejo* $a$  es el *producto escalar*\n",
    "\n",
    "$$\n",
    " a = \\braket{u}{v}  = \\begin{pmatrix} u_1^*,...,u_N^*\\end{pmatrix}\n",
    "\\begin{pmatrix} v_1 \\\\ \\vdots \\\\ v_N\\end{pmatrix}\\, =  \\sum_i u_i^*v_i\n",
    "$$"
   ]
  },
  {
   "cell_type": "markdown",
   "id": "ce7889b4",
   "metadata": {
    "slideshow": {
     "slide_type": "slide"
    }
   },
   "source": [
    "-  la matriz $A_{ij}$    *representa* el operador $A$ en la base $\\{\\ket{i}\\}$\n",
    "\n",
    "$$\n",
    "A = \\ketbra{v}{u} ~\\sim ~\\begin{pmatrix} v_1 \\\\ \\vdots \\\\ v_N\\end{pmatrix}\n",
    "\\begin{pmatrix} u_1^*,...,u_N^*\\end{pmatrix} ~=~ \n",
    "\\begin{pmatrix} v_1 u_1^* & v_1u_2^* & ... & v_1 u_N^* \\\\\n",
    "v_2 u_1^* & v_2 u_1^*& ... & v_2 u_N^* \\\\ \\vdots & \\vdots  & \\ddots & \\vdots \\\\\n",
    "v_N u_1^* & & ... & v_N u_N^* \\end{pmatrix} ~ = ~A_{ij}\n",
    "$$\n"
   ]
  },
  {
   "cell_type": "markdown",
   "id": "fffb7ae8",
   "metadata": {
    "slideshow": {
     "slide_type": "slide"
    }
   },
   "source": [
    "### Base canónica de operadores\n",
    "<a id='base_canonica'></a>\n",
    "\n",
    "Consideremos el *producto externo* de dos elementos de la base ortonormal\n",
    "$\\ketbra{i}{j}$\n",
    "<br>\n",
    "\n",
    "La acción  sobre otro vector de la base, $\\ket{k}$, es \n",
    "<br>\n",
    "\n",
    "$$\n",
    " \\ket{i}\\braket{j}{k}  ~=~ \\left\\{ \\begin{array}{rl}\n",
    "0 & {\\rm si} ~~k\\neq j \\\\ \\ket{i} & {\\rm si} ~~ k=j \\end{array} \\right\\} ~= ~ \\ket{i} \\delta_{jk}\n",
    "$$\n",
    "\n",
    " La matriz asociada  tiene sólo un 1 en el elemento $(ij)$ y cero en todos los demás. Por ejemplo, supongamos que \n",
    "$N=4$ \n",
    "\n",
    "<br>\n",
    "\n",
    "$$\n",
    "\\ketbra{2}{3} ~\\to ~~\n",
    " \\begin{pmatrix} 0 \\\\ 1 \\\\ 0 \\\\ 0 \\end{pmatrix}\\begin{pmatrix} 0 & 0 & 1 & 0 \\end{pmatrix} = \n",
    "\\begin{pmatrix}\n",
    "0 &  0 & 0 &  0 \\\\  0 &  0 & 1&  0 \\\\ 0 &  0 & 0 &  0 \\\\ 0 &  0 & 0 &  0\n",
    "\\end{pmatrix} ~~\\Rightarrow ~~ A_{ij} = \\delta_{i2}\\delta_{j3}\n",
    "$$\n"
   ]
  },
  {
   "cell_type": "markdown",
   "id": "87b76b79",
   "metadata": {
    "slideshow": {
     "slide_type": "fragment"
    }
   },
   "source": [
    "<div class=\"alert alert-block alert-info\",text-align:center>\n",
    "<p style=\"text-align: left ;color: navy\">  \n",
    "<b> Teorema:</b>\n",
    "<br>\n",
    "Los operadores $\\ketbra{i}{j}$ forman una base para cualquier operador lineal $A$, donde las componentes son \n",
    "los <i>elementos de matriz</i> $A_{ij}$ \n",
    "<br>\n",
    "$$\n",
    "A ~=~ \\sum_{i,j=1}^N A_{ij} \\ketbra{i}{j} \n",
    "$$\n",
    "</div>"
   ]
  },
  {
   "cell_type": "markdown",
   "id": "586868b5",
   "metadata": {
    "slideshow": {
     "slide_type": "skip"
    }
   },
   "source": [
    "<details>\n",
    "<summary><p style=\"text-align:left\"> >><i>Demostración</i> </p></summary>\n",
    "Verifiquemos que actúa de la forma correcta\n",
    "<br>\n",
    "$$\n",
    "\\begin{array}{rcl}\n",
    "A |u\\rangle &=&  \\sum_{i,j} A_{ij} \\ketbra{i}{j}  \\left(\\sum_k u_k |k\\rangle \\right) \\\\\n",
    "&\\stackrel{\\rm linealidad}{=} \\rule{0mm}{6mm}& \\sum_{i,j} \\sum_k A_{ij} | i\\rangle  \\,   u_k \\langle j| k\\rangle \\nonumber\\\\\n",
    "&\\stackrel{\\rm ortonormalidad}{=}\\rule{0mm}{6mm}& \\sum_{i,j,k} A_{ij} | i\\rangle  \\,   u_k \\delta_{jk}\\\\\n",
    "&=\\rule{0mm}{6mm}&\\sum_{ij} A_{ij}\\,|i\\rangle \\, u_j= \\sum_i \\left(\\sum_{j} A_{ij}\\, u_j\\right)  |i\\rangle    \\\\\n",
    "&=\\rule{0mm}{6mm}&\\sum_i v_i \\ket{i} \\nonumber\\\\\n",
    "&=\\rule{0mm}{6mm}&   | v\\rangle\n",
    "\\end{array}\n",
    "$$\n",
    "</details>"
   ]
  },
  {
   "cell_type": "markdown",
   "id": "90c30865",
   "metadata": {
    "slideshow": {
     "slide_type": "slide"
    }
   },
   "source": [
    "#### Elementos de matriz\n",
    "\n",
    "El producto escalar muestra ahora su utilidad de nuevo. \n",
    "De la misma manera que obteníamos las componentes de un vector proyectando sobre un elemento de la base\n",
    "\n",
    "$$\n",
    "v_i = \\braket{i}{v}\n",
    "$$\n",
    "\n",
    "ahora podemos obtener los *elementos de matriz* de un operador $A$ en la forma\n",
    "\n",
    "$$  A_{ij} = \\bra{i} A \\ket{j} $$"
   ]
  },
  {
   "cell_type": "markdown",
   "id": "b9741a18",
   "metadata": {
    "slideshow": {
     "slide_type": "skip"
    }
   },
   "source": [
    "<div class=\"alert alert-block alert-success\">\n",
    "<b>Ejercicio:</b>\n",
    "<br>\n",
    "comprueba la consistencia de las expresiones $~A = \\sum_{i,j=1}^N A_{ij} \\ketbra{i}{j} $ y $~A_{ij} = \\bra{i} A \\ket{j}$\n",
    "</div>"
   ]
  },
  {
   "cell_type": "markdown",
   "id": "82e22308",
   "metadata": {
    "slideshow": {
     "slide_type": "skip"
    }
   },
   "source": [
    "<div class=\"alert alert-block alert-warning\">\n",
    "<b>Resumen:</b> \n",
    "<br>     \n",
    "Dada una base $\\{\\ket{i}\\}$ podemos expresar un operador mediante una matriz $A_{ij}$. La relación concreta es \n",
    "<br>\n",
    "- como operador $\\to ~ A = \\sum_{ij} A_{ij}\\ketbra{i}{j}$\n",
    "<br>\n",
    "- como elemento de matriz $\\to ~ A_{ij} = \\bra{i}A\\ket{j}$\n",
    "<br>   \n",
    "</div>    "
   ]
  },
  {
   "cell_type": "markdown",
   "id": "71b5e50a",
   "metadata": {
    "slideshow": {
     "slide_type": "slide"
    }
   },
   "source": [
    "#### Relación de completitud    \n",
    "    \n",
    "La acción del operador identidad es \n",
    "\n",
    "$$\n",
    "I\\ket{v} = \\ket{v}\n",
    "$$\n",
    "\n",
    "En particular, sobre todo elemento de la base $I\\ket{i} = \\ket{i}$. En otras palabras,\n",
    "el operador identidad $I$ tiene por matriz $I_{ij}=\\delta_{ij}={\\rm diagonal}\\, (1,1,...,1)$ con lo que\n",
    "<br>\n",
    "\n",
    "$$\n",
    "I= \\sum_{ij} \\delta_{ij}\\ketbra{i}{j}  = \\sum_{i}  \\ketbra{i}{i} \n",
    "$$\n",
    "\n",
    "Esta expresión se conoce también como <b>relación de completitud</b> o, también, <b>relación de cierre</b> y se utiliza muy frecuentemente.\n"
   ]
  },
  {
   "cell_type": "markdown",
   "id": "7483494c",
   "metadata": {
    "slideshow": {
     "slide_type": "slide"
    }
   },
   "source": [
    "<div class=\"alert alert-block alert-danger\">\n",
    "<b>Notar:</b> \n",
    "<br>\n",
    "La relación de completitud es, en realidad, una propiedad de  <b> cualquier base</b>. Dicho de otro modo, si $\\{\\ket{e_i}\\}$ y $\\{\\ket{\\tilde e_i}\\}$ son, ambas, bases entonces $I\\ket{e_i} = \\ket{e_ i}$ y $I\\ket{\\tilde e_j} = \\ket{\\tilde e_j}$, entonces $+1$ es el único autovalor de $I$ en cualquier base, y la descomposición espectral da\n",
    "<br>\n",
    "<br>\n",
    "$$\n",
    "I =  \\sum_{i}  \\ketbra{e_i}{e_i} =  \\sum_{j}  \\ketbra{\\tilde e_j}{ \\tilde e_j}\\, .\n",
    "$$\n",
    "</div>"
   ]
  },
  {
   "cell_type": "markdown",
   "id": "ed1f2608",
   "metadata": {},
   "source": [
    "### Cambios de base\n",
    "\n",
    "La *relación de cierre* siempre se puede insertar en cualquier momento del cálculo. Se utiliza con frecuencia para efectuar cambios de base. Efectivamente insertando la identidad delante de un elemento de la base\n",
    "\n",
    "$$\n",
    "\\begin{array}{rcl}\n",
    "\\ket{\\tilde e_j} &=& I \\ket{\\tilde e_j} =  \\sum_{i}  \\ket{e_i}\\braket{e_i}{\\tilde e_j} = \\sum_i \\braket{e_i}{\\tilde e_j} \\ket{e_i} = \\sum_i U_{ij}\\ket{e_i}\\\\\n",
    "\\rule{0mm}{8mm}\n",
    "\\ket{e_j} &=& I \\ket{e_j} = \\sum_{i}  \\ket{\\tilde e_j}\\braket{\\tilde e_j}{e_i} = \\sum_i \\braket{\\tilde e_j}{e_i} \\ket{\\tilde e_j} = \\sum_i U^{-1}_{ij}\\ket{\\tilde e_i}\n",
    "\\end{array}\n",
    "$$\n",
    "\n",
    "donde la *matrices de cambio* son\n",
    "\n",
    "$$\n",
    "\\boxed{\n",
    "U_{ij} = \\braket{e_i}{\\tilde e_j}~~~~,~~~~ U^{-1}_{ij} = \\braket{\\tilde e_i}{e_j} \n",
    "}\n",
    "$$\n",
    "\n",
    "Notar que la *matriz inversa* es igual a la *adjunta*\n",
    "\n",
    "$$\n",
    "U^{-1}_{ij} = \\braket{\\tilde e_i}{ e_j } = \\braket{ e_j }{\\tilde e_i}^* = (U_{ji})^* = U^\\dagger_{ij}\n",
    "$$\n",
    "\n",
    "Esto ocurre si y sólo si las bases $\\{\\ket{e_i}\\}$ y $\\{\\ket{\\tilde e_i}\\}$ son ambas ortonormales"
   ]
  },
  {
   "cell_type": "markdown",
   "id": "2c8edba9-5b08-4794-9922-efbf28d9278e",
   "metadata": {},
   "source": [
    "De la misma manera podemos relacionar las componentes de un vector en ambas bases \n",
    "\n",
    "$$\n",
    "\\ket{u}  =  \\sum_i u_i  \\ket{e_i} =   \\sum_i \\tilde u_i  \\ket{\\tilde e_i}\n",
    "$$\n",
    "\n",
    "Las componentes son, en cada base\n",
    "\n",
    "$$\n",
    "u_i = \\braket{e_i}{u} ~~~~~~~~~~ , ~~~~~~~~~ \\tilde u_i = \\braket{\\tilde e_i}{u}\n",
    "$$\n",
    "\n",
    "Insertando la identidad\n",
    "\n",
    "$$\n",
    "u_i = \\bra{e_i}I\\ket{u} = \\bra{ e_i}\\left( \\sum_j \\ket{\\tilde e_j}\\bra{\\tilde e_j}\\right) \\ket{u} = \n",
    "\\sum_j \\braket{e_i}{\\tilde e_j}\\braket{\\tilde e_j}{u} = \\sum_j U_{ij} \\tilde u_j\n",
    "$$\n",
    "\n",
    "Es decir\n",
    "\n",
    "$$\n",
    "\\tilde u_i = \\sum_j U_{ij} u_j \n",
    "$$\n",
    "\n"
   ]
  },
  {
   "cell_type": "markdown",
   "id": "250985cb",
   "metadata": {},
   "source": [
    "Igualmente podemos hallar la regla de transformación de las matrices asociadas a un operador en dos bases distintas\n",
    "\n",
    "$$\n",
    "\\begin{array}{rcl}\n",
    "\\tilde A_{ij} ~&=&~ \\bra{\\tilde e_i} A \\ket{\\tilde e_i} ~=~   \\bra{\\tilde e_i} I  A I  \\ket{\\tilde e_i}\\\\ \\rule{0mm}{10mm}\n",
    "&=& \\sum_{k,l=1}^N \\braket{\\tilde e_i}{e_k}\\bra{e_k}A\\ket{e_l} \\braket{e_l}{\\tilde e_j}\\\\ \\rule{0mm}{8mm}\n",
    "&=& \\sum_{k,l=1}^N U^\\dagger_{ik} A_{kl} U_{lj}\n",
    "\\end{array}\n",
    "$$"
   ]
  },
  {
   "cell_type": "markdown",
   "id": "c60fba1a-9623-4bab-b377-ce187547576d",
   "metadata": {},
   "source": [
    "<div class=\"alert alert-block alert-success\">\n",
    "<b>Ejercicio:</b>\n",
    "<br> \n",
    "La matriz $\\begin{pmatrix} 0 & -i \\\\ i & 0\\end{pmatrix}$ representa un operador $\\sigma_y$ en la base $\\{\\ket{0},\\ket{1}\\}$. Escribe $\\sigma_y$ en la base $\\{\\ket{\\!+\\!i}= \\frac{1}{\\sqrt{2}}(\\ket{0}+i \\ket{1}),\\ket{\\!-\\!i}= \\frac{1}{\\sqrt{2}}(\\ket{0}-i \\ket{1})\\}$\n",
    "    \n",
    "</div>"
   ]
  },
  {
   "cell_type": "markdown",
   "id": "c0ce17af-b3ad-4d69-a365-7246e65286c3",
   "metadata": {},
   "source": [
    "<div class=\"alert alert-block alert-success\">\n",
    "<b>Ejercicio:</b>\n",
    "<br>    \n",
    "Escribe en python una función $basis\\_change$ que reciba una matriz $U_{ij}$ de cambio de base $\\ket{\\tilde e_j} = \\sum_i{U_{ij}}\\ket{e_i}$, la componentes $v_i$ de un vector, ó $A_{ij}$ de un operador, y devuelva las componentes $\\tilde v_i~$ ó $~\\tilde A_{ij}$ en la nueva base. \n",
    "</div>"
   ]
  },
  {
   "cell_type": "markdown",
   "id": "3931114f",
   "metadata": {
    "slideshow": {
     "slide_type": "slide"
    }
   },
   "source": [
    "## El Espacio Vectorial $\\Lin(\\Hil)$"
   ]
  },
  {
   "cell_type": "markdown",
   "id": "f8ae057c",
   "metadata": {
    "slideshow": {
     "slide_type": "-"
    }
   },
   "source": [
    "El <i>conjunto</i> de **todos** <i>los operadores lineales</i> sobre un espacio vectorial $\\Hil$ tiene, de forma natural, una estructura de espacio vectorial que denominamos $\\Lin(\\Hil)$"
   ]
  },
  {
   "cell_type": "markdown",
   "id": "dd9bf0a1",
   "metadata": {
    "slideshow": {
     "slide_type": "fragment"
    }
   },
   "source": [
    "Dados dos operadores,  $A$ y $B$ tanto la suma $C = A+B$ como la multiplicación por un número complejo $D=\\lambda A$ son *nuevos operadores* definidos por su acción sobre un vector cualquiera $\\ket{v}\\in \\Hil$\n",
    "\n",
    "\n",
    "$$\n",
    "C\\ket{v} ~=~ (A + B) \\ket{v} = A\\ket{v} + B\\ket{v}\n",
    "$$\n",
    "\n",
    "\n",
    "$$\n",
    "D\\ket{v} ~=~ (\\lambda A) \\ket{v} = \\lambda (A\\ket{v})\n",
    "$$\n",
    "\n",
    "Si $\\Hil$ tiene dimensión $N$, un *operador general* $A\\in \\Lin(\\Hil)$ se especifica mediante una matriz de $N^2$ números complejos $\\Rightarrow A = A_{ij}\\ket{e_i}\\bra{e_j}$. \n",
    "En otras palabras: la dimension (compleja) del espacio  de operadores lineales es $ {\\rm dim}_{\\bf C}(\\Lin(\\Hil)) = N^2\\,  \n",
    "$"
   ]
  },
  {
   "cell_type": "markdown",
   "id": "475d5890",
   "metadata": {
    "slideshow": {
     "slide_type": "slide"
    }
   },
   "source": [
    "### Operador Adjunto\n",
    "<a id='opadj'></a>\n",
    "\n",
    "    \n",
    "La conjugación *adjunta* se puede extender a ${\\rm Lin}(\\Hil)$\n",
    "<br>\n",
    "\n",
    "$$\n",
    "\\dagger ~\\to ~\n",
    "\\left\\{\n",
    "\\begin{matrix}\n",
    "z & \\leftrightarrow  &  z^* \\\\\n",
    "|u\\rangle & \\leftrightarrow &   \\langle u | \\\\\n",
    "A & \\leftrightarrow & A^{\\dagger}\n",
    "\\end{matrix}\n",
    "\\right.\n",
    "$$\n",
    "\n",
    "y hay <b>dos reglas más</b> que permiten aplicar $\\dagger$ a sumas y productos de <i> objetos </i> $a \\in\\{z,\\ket{u},A\\}$\n",
    "<br>\n",
    "\n",
    "- *linealidad* $( a + b)^\\dagger = a^\\dagger + b^\\dagger $\n",
    "\n",
    "- *trasposición* $(ab)^\\dagger = b^\\dagger a^\\dagger$ (sólo relevante cuando $a$ y $b$ no conmuten)\n",
    "\n",
    "Por ejemplo\n",
    "$$\n",
    "\\big(  A(z\\ket{u})\\big)^\\dagger  = z^*\\bra{u}A^\\dagger \n",
    "$$\n"
   ]
  },
  {
   "cell_type": "markdown",
   "id": "5ef6cdad",
   "metadata": {
    "slideshow": {
     "slide_type": "slide"
    }
   },
   "source": [
    "#### Matriz adjunta\n",
    "\n",
    "Estas reglas nos permiten obtener el adjunto de un operador\n",
    "\n",
    "$$\n",
    "A^\\dagger = \\left(\\sum_{ij} A_{ij}\\ketbra{i}{j}\\right)^\\dagger  = \\sum_{ij}\\big( A_{ij}\\ketbra{i}{j}\\big)^\\dagger = \\sum_{ij} A_{ij}^*  \\ketbra{j}{i}=  \\sum_{ji} \\, A_{ji}^*\\ketbra{i}{j}\n",
    "$$\n",
    "\n",
    "donde en la última ecuación hemos intercambiado los *nombres* de los índices $i\\leftrightarrow j$.\n",
    "Vemos que la matriz que representa $A^\\dagger$ es la *matriz adjunta* de $A_{ij}$, es decir, la traspuesta y conjugada\n",
    "\n",
    "$$\n",
    "(A^\\dagger)_{ij} = A^*_{ji} = (A^{*}_{ij})^t \\equiv (A_{ij})^\\dagger\n",
    "$$\n",
    "\n",
    "donde $^\\dagger$ significa el adjunto de un operador a la izquierda, y de una matriz a la derecha.\n",
    "\n",
    "\n"
   ]
  },
  {
   "cell_type": "markdown",
   "id": "82cdf99f",
   "metadata": {
    "slideshow": {
     "slide_type": "skip"
    }
   },
   "source": [
    "### Traza"
   ]
  },
  {
   "cell_type": "markdown",
   "id": "55b2b5a7",
   "metadata": {
    "slideshow": {
     "slide_type": "slide"
    }
   },
   "source": [
    "\n",
    "<div class=\"alert alert-block alert-info\",text-align:center>\n",
    "<p style=\"text-align: center;\"> <p style=\"text-align: left ;color: navy;\">  \n",
    "<b> Definición:</b> \n",
    "La traza de un operador $A$ se define como la suma de sus elementos de matriz diagonales <u> en cualquier base </u>        \n",
    "<br>\n",
    "<br>    \n",
    "$$\n",
    "\\tr A = \\sum_ i \\bra{e_i} A\\ket{e_i} =  \\sum_{i} A_{ii} \n",
    "$$\n",
    "<br>\n",
    "</div>  "
   ]
  },
  {
   "cell_type": "markdown",
   "id": "dae32a61",
   "metadata": {
    "slideshow": {
     "slide_type": "-"
    }
   },
   "source": [
    "Para ser consistente esta definición es necesario probar que no importa la base utilizada\n",
    "\n",
    "<div class=\"alert alert-block alert-info\",text-align:center>\n",
    "<p style=\"text-align: center;\"> <p style=\"text-align: left ;color: navy;\">  \n",
    "    <b> Lema:</b> \n",
    "La traza de un operador es <i>independiente de la base</i> en la que se calcule\n",
    "</div>  \n",
    "<details><summary><p style=\"color:grey;text-align:right\"> >> <i>Prueba</i> </p></summary>\n",
    "\\begin{eqnarray}\n",
    "{\\rm tr} A  &=&\\sum_i A_{ii} =\\sum_{i} \\bra{i}A\\ket{i} =\\sum_{i} \\bra{i}A\\left( \\sum_j\\ketbra{\\tilde j}{\\tilde j}\\right)\\ket{i}\n",
    "\\nonumber\\\\\n",
    "&=& \\sum_{ij}\\bra{i}A\\ket{\\tilde j} \\braket{\\tilde j}{i} = \\sum_{ij}\\braket{\\tilde j}{i}\\bra{i}A\\ket{\\tilde j}  \\nonumber\\\\\n",
    "&=& \\sum_{j} \\bra{\\tilde j}\\left(\\sum_i\\ketbra{i}{i}\\right) A \\ket{\\tilde j}= \\sum_{j} \\bra{\\tilde j}A\\ket{\\tilde j}\\nonumber\\\\\n",
    "&=& \\sum_j \\tilde A_{jj}\n",
    "\\end{eqnarray}\n",
    "</details>\n",
    "\n",
    "La traza posee dos propiedades importantes\n",
    "- linealidad : \n",
    "\n",
    "$$\n",
    "{\\rm tr} (A + B ) = {\\rm tr}A + {\\rm tr}B\n",
    "$$\n",
    "\n",
    "<br>\n",
    "\n",
    "- ciclicidad: la traza es invariante bajo permutaciones  cíclicas de los operadores en su argumento. Por ejemplo, para tres operadores $A, B$ y $C$\n",
    "\n",
    "$$\n",
    "{\\rm tr}(ABC)= {\\rm tr}(BCA) \n",
    "$$\n",
    "\n",
    "- aniquila conmutadores:\n",
    "para un producto de dos operadores, el anterior resultado implica que la *traza de un conmutador es cero*. Dicho de otra forma\n",
    "\n",
    "$$\n",
    "{\\rm tr}(AB) = {\\rm tr}(BA) ~~~\\Rightarrow ~~~~{\\rm tr}([A,B]) = 0 \\, .\n",
    "$$\n",
    "\n",
    "<div class=\"alert alert-block alert-danger\",text-align:center>\n",
    "<b> Notar:</b> \n",
    "sea el operador $A = \\ketbra{u}{v}$ entonces $ \\tr \\left(\\rule{0mm}{5mm}\\ketbra{u}{v}\\right) = \\braket{v}{u}$.\n",
    "Efectivamente\n",
    "\n",
    "$$ \\tr \\left(\\rule{0mm}{5mm}\\ketbra{u}{v}\\right) = \\sum_i \\braket{e_i}{u}\\braket{v}{e_i} = \\sum_i \\braket{v}{e_i} \\braket{e_i}{u} = \\bra{v}\\left(\\sum_i \\ketbra{e_i}{e_i}\\right) \\ket{u} = \\braket{v}{u}\n",
    "$$\n",
    "</div>"
   ]
  },
  {
   "cell_type": "markdown",
   "id": "7c7cb9c3",
   "metadata": {},
   "source": [
    "<div class=\"alert alert-block alert-success\">\n",
    "<b>Ejercicio:</b> \n",
    "demuestra la ciclicidad de la traza\n",
    "</div>"
   ]
  },
  {
   "cell_type": "markdown",
   "id": "c965dc48",
   "metadata": {
    "slideshow": {
     "slide_type": "slide"
    }
   },
   "source": [
    "<a id='#oper_scalprod'></a>\n",
    "\n",
    "### $\\Lin(\\Hil)$ como un espacio de Hilbert"
   ]
  },
  {
   "cell_type": "markdown",
   "id": "f187a4a7",
   "metadata": {
    "slideshow": {
     "slide_type": "-"
    }
   },
   "source": [
    "Para transformar el espacio vectorial $\\Lin(\\Hil)$ en un espacio de Hilbert sólo es necesario definir un producto escalar hermítico entre dos elementos \n",
    "\n",
    "<a id='trace_norm'></a>\n",
    "<div class=\"alert alert-block alert-info\",text-align:center>\n",
    " <p style=\"text-align: left ;color: navy;\">  \n",
    "<b> Definición: </b> <i> (producto escalar) </i> \n",
    "<br>     \n",
    "dados dos operadores $A, B \\in \\Lin(\\Hil)$  definimos su <i> producto escalar </i>  $( A, B)\\in {\\mathbb C}$\n",
    "<br> \n",
    "<br>\n",
    "$$\n",
    "( A, B)\\equiv {\\rm tr}\\left( A^\\dagger B \\right) \n",
    "$$\n",
    "</div>\n"
   ]
  },
  {
   "cell_type": "markdown",
   "id": "e752a88a",
   "metadata": {
    "slideshow": {
     "slide_type": "skip"
    }
   },
   "source": [
    "En una base tenemos que\n",
    "\n",
    "$$\n",
    "(A,B) = \\sum_{ij} A^\\dagger_{ij} B_{ji} = \\sum_{ij} A^*_{ji} B_{ji}\n",
    "$$\n",
    "\n",
    "mientras que \n",
    "\n",
    "$$\n",
    "(B,A) = \\sum_{ij} B^\\dagger_{ij} A_{ji} = \\sum_{ij} B^*_{ji} A_{ji}\n",
    "$$\n",
    "\n",
    "Se sigue que  $(B,A) = (A,B)^*$. Además es trivial comprobar que  $(A,B+C) = (A,B) + (A,C)$, por lo que se trata de un producto escalar sesquilineal o hermítico. "
   ]
  },
  {
   "cell_type": "markdown",
   "id": "42e0609a",
   "metadata": {
    "slideshow": {
     "slide_type": "slide"
    }
   },
   "source": [
    "<a id='#oper_norm'></a>\n",
    "\n",
    "#### $\\Lin(\\Hil)$ como un espacio normado"
   ]
  },
  {
   "cell_type": "markdown",
   "id": "3ef94ae8",
   "metadata": {
    "slideshow": {
     "slide_type": "fragment"
    }
   },
   "source": [
    "Una **norma** definida sobre $\\Lin(\\Hil)  $es un una función real $ A\\to  \\| A\\| \\in {\\mathbb R}$ con las propiedades \n",
    "que se han definido en una [sección anterior](../00_Formalismo/01_Vectores.ipynb#norm)"
   ]
  },
  {
   "cell_type": "markdown",
   "id": "7efe3b8f",
   "metadata": {
    "slideshow": {
     "slide_type": "fragment"
    }
   },
   "source": [
    "<a id='trace_norm'></a>\n",
    "<div class=\"alert alert-block alert-info\",text-align:center>\n",
    " <p style=\"text-align: left ;color: navy;\">  \n",
    "<b> Definición: </b> <i> ($p$-norma Shatten) </i> \n",
    "<br>\n",
    "Dado un operador $A\\in \\Lin(\\Hil)$ la función  \n",
    "<br> \n",
    "<br>\n",
    "$$\n",
    "\\| A \\|_p =  \\left({\\rm tr} \\left(A^\\dagger A\\right)^{p/2} \\right)^{1/p}\n",
    "$$\n",
    "<br>\n",
    "define una norma, denominada <b>$p$-norma de Shatten</b>.\n",
    "</div>\n"
   ]
  },
  {
   "cell_type": "markdown",
   "id": "2b0302cf",
   "metadata": {
    "slideshow": {
     "slide_type": "fragment"
    }
   },
   "source": [
    "Los tres casos más frecuentes son\n",
    "\n",
    "- $p=1$ **norma de la traza** $~\\Rightarrow ~  \\| A \\|_1 =  {\\rm tr} \\sqrt{A^\\dagger A}$\n",
    "<br>\n",
    "\n",
    "\n",
    "Esta norma es igual a la suma de los valores singulares de $A ~\\Rightarrow ~\\| A \\|_1  = \\sum_i^r s_i$, donde $s_i^2$ son los autovalores de $A^\\dagger A$"
   ]
  },
  {
   "cell_type": "markdown",
   "id": "28893f6b",
   "metadata": {
    "slideshow": {
     "slide_type": "slide"
    }
   },
   "source": [
    "\n",
    "- $p=2$ **norma de Frobenius** $~\\Rightarrow ~ \\| A \\|_2 =  \\sqrt{{ \\rm tr} A^\\dagger A }$\n",
    "<br>\n",
    "\n",
    "La norma de Frobenius es la que se obtiene a partir  del producto escalar $\\|A\\|_2 = (A,A)$"
   ]
  },
  {
   "cell_type": "markdown",
   "id": "c8b6403c",
   "metadata": {
    "slideshow": {
     "slide_type": "fragment"
    }
   },
   "source": [
    "\n",
    "- $p=\\infty$ **norma espectral** $~\\Rightarrow ~  \\| A \\|_\\infty = \\lim_{p\\to \\infty} \\| A \\|_p$\n",
    "\n",
    "Puede demostrarse que la norma espectral es equivalente a la siguiente definición\n",
    "\n",
    "$$\n",
    "\\|A\\|_\\infty = \\hbox{max}_{\\ket{u}\\in \\Hil}\\{ \\|A\\ket{u}\\| ~~\\hbox{con} ~ \\|\\ket{u}\\| = 1\\}\n",
    "$$\n"
   ]
  },
  {
   "cell_type": "markdown",
   "id": "a467968b",
   "metadata": {
    "slideshow": {
     "slide_type": "slide"
    }
   },
   "source": [
    "<div class=\"alert alert-block alert-success\">\n",
    "<b>Ejercicio:</b>\n",
    "<br>\n",
    "Escribe, en python, una función $trace\\_norm(A)$, que calcule la norma de la traza de un operador. \n",
    "</div>"
   ]
  },
  {
   "cell_type": "markdown",
   "id": "a4cf1c06",
   "metadata": {
    "slideshow": {
     "slide_type": "slide"
    }
   },
   "source": [
    "#### Distancia de traza"
   ]
  },
  {
   "cell_type": "markdown",
   "id": "40aeb16e",
   "metadata": {
    "slideshow": {
     "slide_type": "-"
    }
   },
   "source": [
    "<i>Cualquier norma</i> permite definir una noción de *distancia* o *diferencia* entre dos operadores. "
   ]
  },
  {
   "cell_type": "markdown",
   "id": "e01a7bad",
   "metadata": {
    "slideshow": {
     "slide_type": "fragment"
    }
   },
   "source": [
    "<div class=\"alert alert-block alert-info\",text-align:center>\n",
    " <p style=\"text-align: left ;color: navy;\">  \n",
    "<b> Definición: </b> <i>Distancia de traza</i> \n",
    "<br>     \n",
    "Se define la  <b> distancia de traza</b> entre dos operadores $A$ y $B$ como la norma de la diferencia\n",
    "<br> \n",
    "<br>\n",
    "$$\n",
    "d(A,B) = \\| A - B \\|_1 \n",
    "$$\n",
    "</div>\n"
   ]
  },
  {
   "cell_type": "markdown",
   "id": "dfa46fe1",
   "metadata": {
    "slideshow": {
     "slide_type": "slide"
    }
   },
   "source": [
    "## Clases de operadores"
   ]
  },
  {
   "cell_type": "markdown",
   "id": "f388c4b7",
   "metadata": {},
   "source": [
    "Dentro de $\\Lin(\\Hil)$ podemos definir subconjuntos de operadores que mantienen ciertas propiedades importantes. Algunos formarán subespacios vectoriales, y otros no.\n",
    "Podemos definir dichas  **clases de operadores** pidiendo que satisfagan algúna *condición* o *restricción*."
   ]
  },
  {
   "cell_type": "markdown",
   "id": "f9a894e7",
   "metadata": {
    "slideshow": {
     "slide_type": "slide"
    }
   },
   "source": [
    "### Operador Unitario\n",
    "<a id='opunit'></a>\n",
    "\n",
    "<div class=\"alert alert-block alert-info\",text-align:center>\n",
    "<p style=\"text-align: center;\"> <p style=\"text-align: left ;color: navy;\">  \n",
    "<b>Definición:</b> \n",
    "<br>    \n",
    "Un <i>operador unitario</i> $U$ es tal que su <i>adjunto</i> es igual a su <i>inverso</i>\n",
    "<br>  \n",
    "$$\n",
    "U^\\dagger = U^{-1}  \\, \n",
    "$$\n",
    "</p>\n",
    "</div>"
   ]
  },
  {
   "cell_type": "markdown",
   "id": "ace8fc08",
   "metadata": {
    "slideshow": {
     "slide_type": "-"
    }
   },
   "source": [
    "Naturalmente, esta ecuación se traduce en la misma ecuación para las matrices asociadas en *cualquier base*\n",
    "<br>\n",
    "$$\n",
    "(U_{ij})^\\dagger = U_{ji}^* = U^{-1}_{ij}\n",
    "$$\n",
    "\n",
    "Veamos ahora por qué hemos definido esta clase de operadores."
   ]
  },
  {
   "cell_type": "markdown",
   "id": "515b2de8",
   "metadata": {
    "slideshow": {
     "slide_type": "slide"
    }
   },
   "source": [
    "<div class=\"alert alert-block alert-info\",text-align:center>\n",
    "<p style=\"text-align: left ;color: navy;\">  \n",
    "<b>Teorema:</b>\n",
    "<br>    \n",
    "La acción de un <i>operador unitario</i> conserva <i>intacto el producto escalar</i> de dos vectores cualesquiera. \n",
    "    </p>\n",
    "</div>\n",
    "<details><summary><p style=\"text-align:left\"> >><i>Demostración</i> </p></summary>\n",
    "\n",
    "Sea $U$ un operador unitario, y $\\ket{\\varphi'}=U\\ket{\\varphi}$ y $\\ket{\\psi'} = U\\ket{\\psi}$\n",
    "dos vectores transformados por $U$, entonces\n",
    "\n",
    "    \n",
    "$$\n",
    "\\braket{\\varphi'}{\\psi'} = \\left(\\bra{\\varphi}U^\\dagger\\right)U\\ket{\\psi} = \\bra{\\varphi} U^\\dagger U \\ket{\\psi} = \n",
    "\\braket{\\varphi}{\\psi}\n",
    "$$\n",
    "\n",
    "\n",
    "\n",
    "particularizando para $\\ket{\\varphi} = \\ket{\\psi}$ tenemos que un operador unitario *conserva la norma*.\n",
    "\n",
    "$$\n",
    "\\|U \\ket{\\varphi}\\| = \\|\\ket{\\varphi}\\|\n",
    "$$\n",
    "</details>"
   ]
  },
  {
   "cell_type": "markdown",
   "id": "f0f91e0e",
   "metadata": {
    "slideshow": {
     "slide_type": "-"
    }
   },
   "source": [
    "Si conserva el producto escalar $\\Rightarrow$ entonces conserva  la <i>norma</i> de cualquier vector $\\Rightarrow$ por tanto, conserva la *distancia* entre dos vectores $ d (\\ket{v},\\ket{w})= \\| (\\ket{v}-\\ket{w}) \\| $."
   ]
  },
  {
   "cell_type": "markdown",
   "id": "e7ad601f",
   "metadata": {
    "slideshow": {
     "slide_type": "slide"
    }
   },
   "source": [
    "<div class=\"alert alert-block alert-danger\">\n",
    "<b>Notar:</b>\n",
    "\n",
    "- La <i>combinación lineal</i> de operadores unitarios <b>no es</b> unitaria\n",
    "<br>\n",
    "<br>\n",
    "$$\n",
    " (a U+ bV)^\\dagger = a^* V^\\dagger+ b^* U^\\dagger = a^* V^{-1}+ b^* U^{-1} \\neq  (a U+ b V)^{-1}\n",
    "$$\n",
    "<br>\n",
    "$~$ Matemáticamente esto quiere decir que los operadores unitarios no forman un subespacio vectorial de $\\Lin(\\Hil)$\n",
    "<br>\n",
    "<br>\n",
    "- La <i>composición</i> de  operadores unitarios  <b>es</b> unitaria. Si $W = UV$ entonces\n",
    "<br>\n",
    "<br>\n",
    "$$\n",
    "W^\\dagger = (UV)^\\dagger = V^\\dagger U^\\dagger = V^{-1}U^{-1} = (UV)^{-1} = W^{-1}\n",
    "$$ \n",
    "<br>\n",
    "$~$ Matemáticamente esto quiere decir que los operadores unitarios forman un <i>grupo</i>: el grupo unitario $U(N)$ si dim$(\\Hil)=N$.\n",
    "</div>"
   ]
  },
  {
   "cell_type": "markdown",
   "id": "83c23568",
   "metadata": {
    "slideshow": {
     "slide_type": "skip"
    }
   },
   "source": [
    "#### Bases ortonormales\n",
    "\n",
    "- Como caso particular, aplicando un operador unitario $U$ a una base ortonormal $\\{\\ket{e_i}\\}$ obtenemos otra base ortonormal $\\{\\ket{\\tilde e_i}\\}$\n",
    "<br>\n",
    "<br>\n",
    "\n",
    "$$\n",
    "\\braket{\\tilde e_i}{\\tilde e_j} = \\bra{\\tilde e_i}U^\\dagger U\\ket{\\tilde e_j} = \\braket{e_i}{e_j} = \\delta_{ij}\n",
    "$$\n",
    "\n",
    "<br>"
   ]
  },
  {
   "cell_type": "markdown",
   "id": "a4ced02b",
   "metadata": {
    "slideshow": {
     "slide_type": "skip"
    }
   },
   "source": [
    "- Inversamente, dadas dos bases ortonormales, $\\{\\ket{e_i}\\}$ y $\\{\\ket{\\tilde e_i}\\}$, el operador que las relaciona es un operador unitario\n",
    "    \n",
    "$$ \n",
    " \\begin{array}{rcl} \n",
    "U = \\sum_i \\ketbra{\\tilde e_i}{e_i} & \\Rightarrow &  U\\ket{e_j} = \\ket{\\tilde e_j} \n",
    " \\\\ \\rule{0mm}{10mm}\n",
    "U^\\dagger = \\sum_i \\ketbra{e_i}{\\tilde e_i}  & \\Rightarrow &    U^\\dagger\\ket{\\tilde e_j} = \\ket{e_j} ~~~\\Rightarrow ~~~U^\\dagger = U^{-1}\n",
    " \\end{array}\n",
    "$$\n"
   ]
  },
  {
   "cell_type": "code",
   "execution_count": 10,
   "id": "dabedb88",
   "metadata": {
    "slideshow": {
     "slide_type": "skip"
    }
   },
   "outputs": [
    {
     "data": {
      "text/latex": [
       "$$\n",
       "\n",
       "\\begin{bmatrix}\n",
       "\\frac{\\sqrt{2}}{2} & \\frac{\\sqrt{2} i}{2}  \\\\\n",
       " \\frac{\\sqrt{2} i}{2} & \\frac{\\sqrt{2}}{2}  \\\\\n",
       " \\end{bmatrix}\n",
       "$$"
      ],
      "text/plain": [
       "<IPython.core.display.Latex object>"
      ]
     },
     "execution_count": 10,
     "metadata": {},
     "output_type": "execute_result"
    }
   ],
   "source": [
    "'definimos una matriz'\n",
    "U=np.matrix([[1,1J],[1J, + 1]])/np.sqrt(2)\n",
    "array_to_latex(U)"
   ]
  },
  {
   "cell_type": "code",
   "execution_count": 8,
   "id": "38cc621f",
   "metadata": {
    "slideshow": {
     "slide_type": "skip"
    }
   },
   "outputs": [
    {
     "data": {
      "text/latex": [
       "$$\n",
       "\n",
       "\\begin{bmatrix}\n",
       "\\frac{\\sqrt{2}}{2} & - \\frac{\\sqrt{2} i}{2}  \\\\\n",
       " - \\frac{\\sqrt{2} i}{2} & \\frac{\\sqrt{2}}{2}  \\\\\n",
       " \\end{bmatrix}\n",
       "$$"
      ],
      "text/plain": [
       "<IPython.core.display.Latex object>"
      ]
     },
     "execution_count": 8,
     "metadata": {},
     "output_type": "execute_result"
    }
   ],
   "source": [
    "'getH es un método de la clase matrix que devuelve la matriz conjugada hermítica'\n",
    "Uadj=U.getH() \n",
    "array_to_latex(Uadj)"
   ]
  },
  {
   "cell_type": "code",
   "execution_count": 7,
   "id": "d4b71087",
   "metadata": {
    "slideshow": {
     "slide_type": "skip"
    }
   },
   "outputs": [
    {
     "data": {
      "text/latex": [
       "$$\n",
       "\n",
       "\\begin{bmatrix}\n",
       "1 & 0  \\\\\n",
       " 0 & 1  \\\\\n",
       " \\end{bmatrix}\n",
       "$$"
      ],
      "text/plain": [
       "<IPython.core.display.Latex object>"
      ]
     },
     "execution_count": 7,
     "metadata": {},
     "output_type": "execute_result"
    }
   ],
   "source": [
    "'comprobamos que U es unitaria'\n",
    "array_to_latex(np.dot(Uadj,U))"
   ]
  },
  {
   "cell_type": "markdown",
   "id": "559f451c",
   "metadata": {
    "slideshow": {
     "slide_type": "slide"
    }
   },
   "source": [
    "### Operador Normal\n",
    "<a id='opnormal'></a>\n",
    "    \n",
    "<div class=\"alert alert-block alert-info\",text-align:center>\n",
    "<p style=\"text-align: center;\"> <p style=\"text-align: left ;color: navy;\">  \n",
    "<b>Definición:</b>  \n",
    "un operador $N$  es <i>normal</i> si conmuta con su adjunto\n",
    "<br>   \n",
    "$$\n",
    "NN^\\dagger = N^\\dagger N\n",
    "$$  \n",
    "</div>"
   ]
  },
  {
   "cell_type": "markdown",
   "id": "61636833",
   "metadata": {
    "slideshow": {
     "slide_type": "slide"
    }
   },
   "source": [
    "Esta propiedad afirma que $N$ y su adjunto, $N^\\dagger$ conmutan. \n",
    "La siguiente propiedad hace de los operadores normales, objetos muy importantes "
   ]
  },
  {
   "cell_type": "markdown",
   "id": "353787a9",
   "metadata": {
    "slideshow": {
     "slide_type": "-"
    }
   },
   "source": [
    "<div class=\"alert alert-block alert-info\",text-align:center>\n",
    "<p style=\"text-align: center;\"> <p style=\"text-align: left ;color: navy;\">  \n",
    "<b> Teorema: </b>   \n",
    "$N$ es un operador <i>normal</i> si y sólo si <u>existe</u> una base ortonormal, $\\{\\ket{e_i}\\}$, en la cual, la matriz $N_{ij}$ que lo representa es diagonal\n",
    "<br>    \n",
    "$$\n",
    "N_{ij} = \\bra{e_i}N\\ket{e_j}  =  \n",
    "\\begin{bmatrix} \\lambda_1 &  & &  \\\\ & \\lambda_2 & &  \\\\ & & \\ddots &  \\\\ & & & \\lambda_D \\end{bmatrix}\n",
    "$$\n",
    "</div>"
   ]
  },
  {
   "cell_type": "markdown",
   "id": "8f734a41",
   "metadata": {
    "slideshow": {
     "slide_type": "slide"
    }
   },
   "source": [
    "### Operador Hermítico\n",
    "<a id='ophermit'></a>\n",
    "\n",
    "<div class=\"alert alert-block alert-info\",text-align:center>\n",
    "<p style=\"text-align: center;\"> <p style=\"text-align: left ;color: navy;\">  \n",
    "<b> Definición: </b> \n",
    "un operador  $H$ es <i>Hermítico</i> (o <i>autoadjunto</i>)  si  verifica la  ecuación \n",
    "<br>    \n",
    "$$\n",
    "H = H^\\dagger \n",
    "$$   \n",
    "</div>\n"
   ]
  },
  {
   "cell_type": "markdown",
   "id": "23c774d8",
   "metadata": {
    "slideshow": {
     "slide_type": "fragment"
    }
   },
   "source": [
    "La matriz asociada a un operador hermítico también se llama hermítica, y coincide con su traspuesta y conjugada\n",
    "<br>\n",
    "\n",
    "$$\n",
    "H_{ij} = H^\\dagger_{ij} \\equiv   H^*_{ji}   \n",
    "$$\n",
    "\n",
    "Evidentemente, un operador hermítico conmuta con su adjunto. Por tanto es un caso particular de  *operador normal*.\n",
    "\n",
    "\n"
   ]
  },
  {
   "cell_type": "markdown",
   "id": "44b578f6",
   "metadata": {
    "slideshow": {
     "slide_type": "skip"
    }
   },
   "source": [
    "A partir de cualquier operador $C\\neq C^\\dagger $ siempre podemos construir un operador hermítico $H=H^\\dagger$ mediante la combinación lineal\n",
    "\n",
    "$$\n",
    "H = C + C^\\dagger\n",
    "$$\n",
    "\n",
    "Esto se extiende trivialmente a las matrices que los representan en cualquier base\n",
    "\n",
    "$$\n",
    "H_{ij} = C_{ij} + C_{ji}^*\n",
    "$$ \n"
   ]
  },
  {
   "cell_type": "markdown",
   "id": "020cef96",
   "metadata": {
    "slideshow": {
     "slide_type": "slide"
    }
   },
   "source": [
    "<div class=\"alert alert-block alert-danger\">\n",
    "<b>Notar:</b>\n",
    "\n",
    "- La combinación lineal de operadores hermíticos  con coeficientes reales <b>es</b>  hermítica \n",
    "<br>\n",
    "$$\n",
    "C^\\dagger = (a A + b B)^\\dagger = a^* A^\\dagger + b^* B^\\dagger = aA + b B = C\n",
    "$$\n",
    "<br>    \n",
    "Matemáticamente: los operadores autoadjuntos forman un subespacio vectorial real $\\hbox{Her}(\\Hil) \\subset \\Lin(\\Hil)$.\n",
    "<br>\n",
    "<br>\n",
    "    \n",
    "- La composición de operadores hermíticos, en general <b>no es</b> hermítica\n",
    "<br>\n",
    "$$\n",
    "(A B)^\\dagger = B^\\dagger A^\\dagger = BA \\neq AB\n",
    "$$\n",
    "</div>\n"
   ]
  },
  {
   "cell_type": "markdown",
   "id": "0486c3e0",
   "metadata": {
    "slideshow": {
     "slide_type": "slide"
    }
   },
   "source": [
    "### Operador semi-definido positivo\n",
    "\n",
    "<div class=\"alert alert-block alert-info\",text-align:center>\n",
    "<p style=\"text-align: center;\"> <p style=\"text-align: left ;color: navy;\">  \n",
    "<b> Definición: </b>\n",
    " decimos que un operador  $A$ es <i>semi-definido positivo </i>  $A\\geq 0$ (o <i>no-negativo</i>)  si  verifica que  \n",
    "<br>\n",
    "<br>\n",
    "$$\n",
    "\\bra{u} A\\ket{u} \\geq 0 \n",
    "$$  \n",
    "<br>\n",
    "para todo $\\ket{u}\\in \\Hil$. \n",
    "</div>\n",
    "\n",
    " Si la desigualdad es estricta $\\bra{u} A\\ket{u} > 0 \\, ~\\forall \\ket{u}$, decimos que $A$ es un *operador positivo*, $A>0$.\n"
   ]
  },
  {
   "cell_type": "markdown",
   "id": "e24f7415",
   "metadata": {
    "slideshow": {
     "slide_type": "fragment"
    }
   },
   "source": [
    "El siguiente teorema es el equivalente al hecho de que un número real no-negativo $a\\geq 0$ admite una raíz cuadrada real\n",
    "\n",
    "<div class=\"alert alert-block alert-info\",text-align:center>\n",
    "<p style=\"text-align: center;\"> <p style=\"text-align: left ;color: navy;\">  \n",
    "<b> Teorema: </b> \n",
    " un operador  hermítico $A=A^\\dagger$, es semi-definido positivo $A\\geq 0$   si y sólo si  <u>existe</u> otro operador $B$ tal que \n",
    "<br>\n",
    "<br>\n",
    "$$   \n",
    "A = B^\\dagger B\n",
    "$$   \n",
    "</div>\n"
   ]
  },
  {
   "cell_type": "markdown",
   "id": "b987d644",
   "metadata": {
    "slideshow": {
     "slide_type": "slide"
    }
   },
   "source": [
    "<a id='opproyec'></a>\n",
    "### Proyectores\n",
    "\n",
    "\n",
    "El operador $P = \\ketbra{u}{u}$ *proyecta* cualquier vector en la dirección de $\\ket{u}$\n",
    "\n",
    "$$\n",
    "P \\ket{w} = \\ket{u}\\braket{u}{w} = a \\ket{u}\n",
    "$$\n",
    "\n",
    "donde $a = \\braket{u}{w}$ es la *proyección*. De la forma de $P$ se siguen dos propiedades importantes \n",
    "\n",
    "- es hermítico $~\\Rightarrow~ P^\\dagger = (\\ketbra{u}{u})^\\dagger =  \\ketbra{u}{u} = P$\n",
    "\n",
    "\n",
    "- es idempotente $~\\Rightarrow~ P^2 = \\ket{u}\\braket{u}{u}\\!\\bra{u} = \\ketbra{u}{u} = P $\n",
    "\n",
    "De hecho esta dos propiedades bastan para caracterizar un operador como proyector"
   ]
  },
  {
   "cell_type": "markdown",
   "id": "3453f27e",
   "metadata": {
    "slideshow": {
     "slide_type": "fragment"
    }
   },
   "source": []
  },
  {
   "cell_type": "markdown",
   "id": "98c497dd",
   "metadata": {
    "slideshow": {
     "slide_type": "slide"
    }
   },
   "source": [
    "<div class=\"alert alert-block alert-info\",text-align:center>\n",
    " <p style=\"text-align: left ;color: navy;\">  \n",
    "<b> Definición: </b> \n",
    "un <i>proyector</i> es un operador hermítico $P=P^\\dagger$ que verifica la ecuación\n",
    "<br>\n",
    "<br>\n",
    "$$\n",
    "P^2 = P\n",
    "$$\n",
    "</div>\n"
   ]
  },
  {
   "cell_type": "markdown",
   "id": "a2f50493",
   "metadata": {
    "slideshow": {
     "slide_type": "fragment"
    }
   },
   "source": [
    "<div class=\"alert alert-block alert-danger\">\n",
    "<b>Notar:</b>\n",
    "\n",
    "- El proyector <b>no tiene inverso</b>. Si existiera $P^{-1}$, multiplicando por él la ecuación $P^2=P$ llegaríamos a una contradicción $P = I$. \n",
    "<br>\n",
    "    \n",
    "- El proyector es un operador <b>no-unitario</b>: en general, la proyección <i>reduce</i> la norma <br>\n",
    "<br>\n",
    "$$\n",
    "\\| P\\ket{w}\\|^2 = \\bra{w}P^\\dagger P\\ket{w} = \\bra{w} P\\ket{w}= \\braket{w}{u}\\!\\braket{u}{w} = |\\braket{u}{w}|^2 < \\|\\ket{u}\\|\\|\\ket{w}\\| = 1  \n",
    "$$  \n",
    "<br>\n",
    "donde hemos aplicado la <i>desigualdad de Cauchy Schwarz</i> estricta si suponemos que $\\ket{u}\\neq\\ket{w}$.\n",
    "</div>"
   ]
  },
  {
   "cell_type": "markdown",
   "id": "abe1ce32",
   "metadata": {
    "slideshow": {
     "slide_type": "skip"
    }
   },
   "source": [
    "####  Matriz asociada a un proyector\n",
    "\n",
    "Sea $\\{\\ket{e_i}\\}$ una base ortonormal. El operador $P_1 = \\ketbra{e_1}{e_1}$ proyecta cualquier vector sobre su componente a lo largo de $\\ket{e_1}$.    \n",
    "\n",
    "En forma matricial\n",
    "\n",
    "$$\n",
    " \\ketbra{e_1}{e_1} = \\begin{pmatrix} 1 & 0 & ...& 0 \\end{pmatrix} \\begin{pmatrix} 1 \\\\ 0 \\\\ \\vdots\\\\ 0 \\end{pmatrix} =\n",
    " \\begin{pmatrix} 1 & 0 &  \\cdots & 0 \\\\ 0 & 0  & \\cdots & 0 \\\\ \n",
    " \\vdots & \\vdots &\\vdots & \\vdots  \\\\\n",
    " 0  & 0 & \\cdots & 0\\end{pmatrix}\n",
    "$$\n",
    "\n",
    "de modo que\n",
    "\n",
    "$$\n",
    "    \\ket{e_1}\\!\\braket{e_1}{u} ~= ~\\begin{pmatrix} 1 & 0 &  \\cdots & 0 \\\\ 0 & 0  & \\cdots & 0 \\\\ \n",
    " \\vdots & \\vdots &\\vdots & \\vdots  \\\\\n",
    " 0  & 0 & \\cdots & 0\\end{pmatrix} \\begin{pmatrix} u_1 \\\\ u_2 \\\\ \\vdots \\\\ u_N \\end{pmatrix}\n",
    " = \\begin{pmatrix} u^1 \\\\ 0 \\\\ \\vdots \\\\ 0 \\end{pmatrix} = u^1 \\ket{e_1}\n",
    "$$\n",
    "    "
   ]
  },
  {
   "cell_type": "markdown",
   "id": "79df25ce",
   "metadata": {
    "slideshow": {
     "slide_type": "skip"
    }
   },
   "source": [
    "   \n",
    "Si $\\ket{u} = \\sum_i u^i\\ket{e_i}$ es un vector unitario  $\\|\\ket{u}\\|=1$, entonces el proyector a lo largo de $\\ket{u}$ viene dado por\n",
    "\n",
    "$$\n",
    "P(u) = \\ketbra{u}{u} = \\sum_{i,j} u_i u^*_j \\ketbra{e_i}{e_j}\n",
    "$$\n",
    "\n",
    "Es decir, le está asociada una matriz dada por $P_{ij}=u_iu^*_j$. Es trivial verificar que \n",
    "\n",
    "$$\n",
    "P^2_{ij} = \\sum_k P_{ik}P_{kj} = \\sum_j u_i u^*_k u_k u^*_j = u_i\\left(\\sum_k u^*_k u_k\\right) u_j = u_i u_j^* = P_{ij}\n",
    "$$\n",
    "\n",
    "como corresponde a un proyector.\n",
    "    "
   ]
  },
  {
   "cell_type": "markdown",
   "id": "ed88740c",
   "metadata": {
    "slideshow": {
     "slide_type": "slide"
    }
   },
   "source": [
    "#### Proyector ortogonal\n"
   ]
  },
  {
   "cell_type": "markdown",
   "id": "5dcfc4a8",
   "metadata": {
    "slideshow": {
     "slide_type": "-"
    }
   },
   "source": [
    "\n",
    "Sea $P = \\ketbra{u}{u}$ un proyector a lo largo de un vector $\\ket{u}.~$\n",
    "Entonces el operador $ P_\\perp = I - P$ verifica que\n",
    "\n",
    "- es proyector \n",
    "\n",
    "$$\n",
    "~~ P_\\perp^2 = ( I - P)( I - P) = I - 2P + P^2 = I-P = P_\\perp \n",
    "$$\n",
    "\n",
    "- es perpendicular a $P$ \n",
    "\n",
    "$$\n",
    "P_\\perp P = (I - P) P = P - P^2 = P - P =  0 \n",
    "$$\n",
    "\n",
    "- la identidad, $I$ se puede descomponer como \n",
    "\n",
    "$$I =  P + P_\\perp$$"
   ]
  },
  {
   "cell_type": "markdown",
   "id": "771ec373",
   "metadata": {
    "slideshow": {
     "slide_type": "slide"
    }
   },
   "source": [
    "Siempre podemos descomponer cualquier  otro vector $\\ket{\\psi}$ en sus proyecciones paralela y perpendicular a $\\ket{u}$\n",
    "\n",
    "$$\n",
    "\\ket{\\psi} = ( P + P_\\perp) \\ket{\\psi} = a \\ket{u} + b \\ket{u_\\perp} \n",
    "$$\n",
    "\n",
    "donde $a = \\braket{u}{\\psi}$ y  $b = \\braket{u_\\perp}{\\psi}$. \n",
    "\n",
    "Los tres vectores  $\\ket{\\psi}, \\ket{u}$ y $\\ket{u_\\perp}$  están en un mismo hiperplano \n",
    "<figure><center>\n",
    "<a id='fig_ref'></a>\n",
    "<img src=\"figuras/Projectors.png\" align=center width='400px'/>\n",
    "</center></figure>\n",
    "\n"
   ]
  },
  {
   "cell_type": "code",
   "execution_count": 13,
   "id": "ca29b1e4",
   "metadata": {
    "slideshow": {
     "slide_type": "slide"
    }
   },
   "outputs": [],
   "source": [
    "d = 3\n",
    "'generamos un vector aleatorio'\n",
    "u = tQ.random_ket(d)\n",
    "#display(array_to_latex(u))\n",
    "\n",
    "'construimos los proyectores paralelo y perpendicular'\n",
    "P_par = tQ.ket_bra(u,u);\n",
    "P_perp = np.identity(d) - P_par\n",
    "\n",
    "#display(array_to_latex(P_par))\n",
    "#display(array_to_latex(P_perp))"
   ]
  },
  {
   "cell_type": "code",
   "execution_count": 20,
   "id": "135c6cff",
   "metadata": {
    "slideshow": {
     "slide_type": "slide"
    }
   },
   "outputs": [
    {
     "data": {
      "text/latex": [
       "$$\n",
       "\n",
       "\\begin{bmatrix}\n",
       "0 & 0 & 0  \\\\\n",
       " 0 & 0 & 0  \\\\\n",
       " 0 & 0 & 0  \\\\\n",
       " \\end{bmatrix}\n",
       "$$"
      ],
      "text/plain": [
       "<IPython.core.display.Latex object>"
      ]
     },
     "metadata": {},
     "output_type": "display_data"
    }
   ],
   "source": [
    "' verificamos la propiedad  P^2 = P, y la ortogonalidad '\n",
    "A = P_par@P_par - P_par\n",
    "B = P_perp@P_perp - P_perp\n",
    "C = P_par@P_perp\n",
    "\n",
    "#display(array_to_latex(A))\n",
    "#display(array_to_latex(B))\n",
    "display(array_to_latex(C))"
   ]
  },
  {
   "cell_type": "code",
   "execution_count": 21,
   "id": "1db647b5-7839-45ee-880f-fd8702074bf4",
   "metadata": {},
   "outputs": [
    {
     "name": "stdout",
     "output_type": "stream",
     "text": [
      "0j\n"
     ]
    }
   ],
   "source": [
    "' obtener las proyecciones paralela y perpendicular de otro vector v'\n",
    "v = tQ.random_ket(d)\n",
    "\n",
    "v_par = np.dot(P_par,v)\n",
    "v_perp = np.dot(P_perp,v)\n",
    "\n",
    "' verificar perpendicularidad'\n",
    "print(np.round(tQ.braket(v_par,v_perp),4))"
   ]
  },
  {
   "cell_type": "markdown",
   "id": "0adc9ea3",
   "metadata": {
    "slideshow": {
     "slide_type": "slide"
    }
   },
   "source": [
    "<div class=\"alert alert-block alert-success\">\n",
    "<b> Ejercicio: </b> <i>reflector</i>\n",
    "<br>\n",
    "Dado un vector unitario $\\ket{u}$, escribe \n",
    "<br>    \n",
    "<br>    \n",
    "- el operador $R_u^{\\perp}$ que <i>refleja</i> la componente perpendicular a $\\ket{u}$ de cualquier  vector $\\ket{\\psi}$   \n",
    "<br>\n",
    "<br>\n",
    "- el operador $R_{u}^{\\|}$ que <i>refleja</i> la componente paralela a $\\ket{u}$ de cualquier  vector $\\ket{\\psi}$  \n",
    "<br>  \n",
    "    \n",
    "</div>"
   ]
  },
  {
   "cell_type": "markdown",
   "id": "b90f397d",
   "metadata": {
    "slideshow": {
     "slide_type": "skip"
    }
   },
   "source": [
    "#### Proyectores sobre un subespacio\n",
    "\n",
    "Consideremos una base ortonormal $\\{\\ket{e_i}\\}~,i=1,...,N $  de $\\Hil$ y dividámosla en dos subconjuntos\n",
    "\n",
    "$$\n",
    "\\{\\ket{e_i}\\},~ i=1,...,N_1 ~~~~~~~,~~~~~~~~\\{\\ket{e_{j+N_1}},~j=1,...,N_2   \n",
    "$$\n",
    "\n",
    "Cualquier vector admite una descomposición ortogonal \n",
    "\n",
    "\\begin{eqnarray}\n",
    "\\ket{\\psi} &~=~& \\sum_{i=1}^N a_i \\ket{e_i}   ~= ~ \\sum_{i=1}^N a_i \\ket{e_i} + \\sum_{i=1}^{N_2} a_{i+N_1} \\ket{e_{i+N_1}} ~\\equiv ~ \\ket{\\psi_1} + \\ket{\\psi_2}\\rule{0mm}{5mm}\n",
    "\\end{eqnarray}\n",
    "\n",
    "con $\\braket{\\psi_1}{\\psi_2} = 0$. \n",
    "\n",
    "Decimos que el espacio $\\Hil$ se descompone en la *suma directa de subespacios ortogonales*\n",
    "\n",
    "$$\n",
    "\\Hil = \\Hil_1 \\oplus \\Hil_2 \n",
    "$$\n",
    "\n",
    "de dimensiones $N_1 + N_2 = N$,\n"
   ]
  },
  {
   "cell_type": "markdown",
   "id": "4fb9c5d0",
   "metadata": {
    "slideshow": {
     "slide_type": "skip"
    }
   },
   "source": [
    "<hr>\n",
    "Los operadores \n",
    "\n",
    "$$\n",
    "P_1 = \\sum_{i=1}^{N_1} \\ketbra{e_i}{e_i} ~~~~~~~,~~~~~~~~ P_2 = \\sum_{i=1}^{N_2} \\ketbra{e_{i+N_1}}{e_{i+N_1}}\n",
    "= I - P_1\n",
    "$$\n",
    "\n",
    "verifican la ecuación que define un proyector $P_1^2 = P_1,~P_2^2 = P_2$. Su acción extrae, de un vector dado, la componente sobre el subespacio asociado\n",
    "\n",
    "$$\n",
    "P_1 \\ket{\\psi} ~=~\n",
    "\\sum_{i=1}^{N_1} a_i \\ket{e_i} ~=~ \\ket{\\psi_1}\n",
    "$$\n",
    "\n",
    "$$\n",
    "P_2 \\ket{\\psi} ~=~ \n",
    "\\sum_{i=1}^{N_1} a_{i+N_1} \\ket{e_{i+N_1}} ~=~ \\ket{\\psi_2}\n",
    "$$"
   ]
  },
  {
   "cell_type": "markdown",
   "id": "ffc2a9f0",
   "metadata": {
    "slideshow": {
     "slide_type": "skip"
    }
   },
   "source": [
    "Claramente verifican\n",
    "\n",
    "$$\n",
    "(P_1 + P_2)\\ket{\\psi} = \\ket{\\psi}\n",
    "$$\n",
    "\n",
    "En resumen, vemos que satisfacen \n",
    "\n",
    "$$\n",
    "P_1 P_2 = P_2 P_1  = 0 ~~~,~~~~P_1 + P_2 = I\n",
    "$$\n"
   ]
  },
  {
   "cell_type": "markdown",
   "id": "61c01988",
   "metadata": {
    "slideshow": {
     "slide_type": "skip"
    }
   },
   "source": [
    "<div class=\"alert alert-block alert-danger\">\n",
    "<b>Notar:</b> \n",
    "<br>    \n",
    "proyectar sobre un subespacio no es lo mismo que  proyectar a lo largo de un vector. \n",
    "En particular $P_1 \\neq P_v = \\ketbra{v}{v}$ donde $\\ket{v} =\\frac{1}{\\sqrt{N}} \\sum_{i=1}^N \\ket{e_i}$. El operador $P_v$ proyectaría cualquier vector en la dirección de $\\ket{v}$.\n",
    "Por ejemplo, con $N=2$ y $\\ket{v} = \\frac{1}{\\sqrt{2}}\\big(\\ket{e_0} + \\ket{e_1}\\big)$ encontramos\n",
    "\n",
    "$$\n",
    "P_v   ~=~ \\frac{1}{2}\\big(\\ket{e_0} + \\ket{e_1}\\big)\\big(\\bra{e_0} + \\bra{e_1}\\big)\\neq \\ketbra{e_0}{e_0} + \\ketbra{e_1}{e_1} ~=~ P_1\n",
    "$$\n",
    "</div>"
   ]
  },
  {
   "cell_type": "markdown",
   "id": "05f1f796",
   "metadata": {
    "slideshow": {
     "slide_type": "slide"
    }
   },
   "source": [
    "## Autovalores y autovectores\n",
    "        "
   ]
  },
  {
   "cell_type": "markdown",
   "id": "afd750e0",
   "metadata": {
    "slideshow": {
     "slide_type": "-"
    }
   },
   "source": [
    "\n",
    "<div class=\"alert alert-block alert-info\",text-align:center>\n",
    "<p style=\"text-align: left ;color: navy;\">  \n",
    "<b> Definición</b>: <i>Autovalores y autovectores</i>\n",
    "<br>\n",
    "Existen vectores, $\\ket{\\lambda}$ para los cuales la <i>la acción de un operador</i> $A$ devuelve un vector <i>paralelo</i> \n",
    "<br><br>\n",
    "$$\n",
    "A\\ket{\\lambda} = \\lambda \\ket{\\lambda}\\, \n",
    "$$\n",
    "<br>    \n",
    "Decimos que $\\ket{\\lambda}$ es un autovector (o vector propio) de $A$ con autovalor (o valor propio) asociado $\\lambda\\in {\\mathbb C}$ \n",
    "</div>\n"
   ]
  },
  {
   "cell_type": "markdown",
   "id": "ecba41fb",
   "metadata": {
    "slideshow": {
     "slide_type": "skip"
    }
   },
   "source": [
    "Supongamos que $A$ tiene $d$ vectores propios $\\ket{\\lambda_j} = \\sum_i v_{ij}\\ket{e_i}, \\, j=1,..,d$\n",
    "\n",
    "Sea $U_{ij} = v_{ij}$ la matriz formada por las componentes de los vectores propios (apilados por columnas)\n",
    "\n",
    "Entonces \n",
    "\n",
    "$$\n",
    "A_{diag} = \\begin{pmatrix} \\lambda_1 & & \\\\ & \\ddots & \\\\ & & \\lambda_d \\end{pmatrix} = U^{-1} A U\n",
    "$$"
   ]
  },
  {
   "cell_type": "markdown",
   "id": "1b242398",
   "metadata": {
    "slideshow": {
     "slide_type": "-"
    }
   },
   "source": [
    "Si $A$ es normal, la matriz $U$, que diagonaliza, es unitaria $U^{-1} = U^{\\dagger}$"
   ]
  },
  {
   "cell_type": "code",
   "execution_count": 3,
   "id": "f85f67ad",
   "metadata": {
    "slideshow": {
     "slide_type": "skip"
    }
   },
   "outputs": [
    {
     "data": {
      "text/latex": [
       "$$\n",
       "\n",
       "\\begin{bmatrix}\n",
       "0.0449952452 & -0.1511373903 + 0.5954504347 i  \\\\\n",
       " -0.1511373903 - 0.5954504347 i & -0.0449952452  \\\\\n",
       " \\end{bmatrix}\n",
       "$$"
      ],
      "text/plain": [
       "<IPython.core.display.Latex object>"
      ]
     },
     "metadata": {},
     "output_type": "display_data"
    },
    {
     "name": "stdout",
     "output_type": "stream",
     "text": [
      "valprop = [1.26403881+0.85106128j 0.08591315-0.38643827j]\n"
     ]
    },
    {
     "data": {
      "text/latex": [
       "$$\n",
       "A|\\lambda_m \\rangle -\\lambda_m |\\lambda_m\\rangle =  \n",
       "\\begin{bmatrix}\n",
       "0  \\\\\n",
       " 0  \\\\\n",
       " \\end{bmatrix}\n",
       "$$"
      ],
      "text/plain": [
       "<IPython.core.display.Latex object>"
      ]
     },
     "metadata": {},
     "output_type": "display_data"
    },
    {
     "data": {
      "text/latex": [
       "$$\n",
       "\n",
       "\\begin{bmatrix}\n",
       "1.0147814633 & -0.0496503971 + 0.1956124191 i  \\\\\n",
       " -0.0496503971 - 0.1956124191 i & 0.9852185367  \\\\\n",
       " \\end{bmatrix}\n",
       "$$"
      ],
      "text/plain": [
       "<IPython.core.display.Latex object>"
      ]
     },
     "execution_count": 3,
     "metadata": {},
     "output_type": "execute_result"
    }
   ],
   "source": [
    "d = 2\n",
    "' en general una matriz no será normal '\n",
    "A = np.matrix(np.random.rand(d,d)+ np.random.rand(d,d) * 1j)\n",
    "display(array_to_latex(np.dot(A,A.getH()) - np.dot(A.getH(),A)))\n",
    "\n",
    "eigvals, eigvecs = np.linalg.eig(A)\n",
    "print('valprop =',eigvals)\n",
    "\n",
    "'verificamos que los autovectores son las columnas de v'\n",
    "m=1 #cambiar a otro valor\n",
    "display(array_to_latex(np.dot(A, eigvecs[:, m]) - eigvals[m] * eigvecs[:, m],prefix=r'A|\\lambda_m \\rangle -\\lambda_m |\\lambda_m\\rangle =  '))\n",
    "\n",
    "' diagonalizamos A '\n",
    "U = np.matrix(eigvecs);\n",
    "\n",
    "array_to_latex(np.dot(U.getI(),np.dot(A,U)),prefix='A_{diag} = U^{-1} A U = ')\n",
    "\n",
    "'U no es unitaria'\n",
    "array_to_latex(np.dot(U,U.getH()))"
   ]
  },
  {
   "cell_type": "code",
   "execution_count": 5,
   "id": "42fbdbaf",
   "metadata": {
    "slideshow": {
     "slide_type": "skip"
    }
   },
   "outputs": [
    {
     "data": {
      "text/latex": [
       "$$\n",
       "\n",
       "\\begin{bmatrix}\n",
       "0 & 0  \\\\\n",
       " 0 & 0  \\\\\n",
       " \\end{bmatrix}\n",
       "$$"
      ],
      "text/plain": [
       "<IPython.core.display.Latex object>"
      ]
     },
     "metadata": {},
     "output_type": "display_data"
    },
    {
     "name": "stdout",
     "output_type": "stream",
     "text": [
      "valprop = [0.06003153+2.4323723e-18j 1.28992043-2.4323723e-18j]\n"
     ]
    },
    {
     "data": {
      "text/latex": [
       "$$\n",
       "H|\\lambda_m \\rangle -\\lambda_m |\\lambda_m\\rangle =  \n",
       "\\begin{bmatrix}\n",
       "0  \\\\\n",
       " 0  \\\\\n",
       " \\end{bmatrix}\n",
       "$$"
      ],
      "text/plain": [
       "<IPython.core.display.Latex object>"
      ]
     },
     "metadata": {},
     "output_type": "display_data"
    },
    {
     "data": {
      "text/latex": [
       "$$\n",
       "\n",
       "\\begin{bmatrix}\n",
       "1 & 0  \\\\\n",
       " 0 & 1  \\\\\n",
       " \\end{bmatrix}\n",
       "$$"
      ],
      "text/plain": [
       "<IPython.core.display.Latex object>"
      ]
     },
     "execution_count": 5,
     "metadata": {},
     "output_type": "execute_result"
    }
   ],
   "source": [
    "d = 2\n",
    "'veamos ahora una matriz normal. En particular podemos tomar la parte hermítica de A'\n",
    "H = 0.5*(A + A.getH())\n",
    "\n",
    "'verificamos que es normal'\n",
    "display(array_to_latex(np.dot(H,H.getH()) - np.dot(H.getH(),H)))\n",
    "\n",
    "\n",
    "eigvals, eigvecs = np.linalg.eig(H)\n",
    "print('valprop =',eigvals)\n",
    "\n",
    "'verificamos que los autovectores son las columnas de v'\n",
    "m=1 #cambiar a otro valor\n",
    "display(array_to_latex(np.dot(H, eigvecs[:, m]) - eigvals[m] * eigvecs[:, m],prefix=r'H|\\lambda_m \\rangle -\\lambda_m |\\lambda_m\\rangle =  '))\n",
    "\n",
    "' diagonalizamos H '\n",
    "U = np.matrix(eigvecs);\n",
    "\n",
    "array_to_latex(np.dot(U.getH(),np.dot(H,U)),prefix='H_{diag} = U^{\\dagger} H U = ')\n",
    "\n",
    "'U es unitaria'\n",
    "array_to_latex(np.dot(U,U.getH()))"
   ]
  },
  {
   "cell_type": "markdown",
   "id": "6fa37c5e",
   "metadata": {},
   "source": [
    "Siempre que $A$ sea diagonalizable en una base $A\\ket{\\lambda_j} = \\lambda_i \\ket{\\lambda_i}$, la traza de $A$ será la suma de sus autovalores\n",
    "<br>\n",
    "<br>\n",
    "$$\n",
    "{\\rm tr} A = \\sum_i \\bra{\\lambda_i}A\\ket{\\lambda_i} = \\sum_i \\lambda_i\n",
    "$$\n"
   ]
  },
  {
   "cell_type": "markdown",
   "id": "4983453a",
   "metadata": {
    "slideshow": {
     "slide_type": "skip"
    }
   },
   "source": [
    "<a id='subesprop'></a>\n",
    "### Subespacio Propio "
   ]
  },
  {
   "cell_type": "markdown",
   "id": "145b17c9",
   "metadata": {
    "slideshow": {
     "slide_type": "skip"
    }
   },
   "source": [
    "Decimos que un autovalor $\\lambda_k$ es $d_k$ <i>veces degenerado</i> si existen $d_k$ autovectores linealmente independientes,  $\\ket{\\lambda_k^{a}}$ con $a=1,...,d_k$ asociados al **mismo** autovalor\n",
    "<br>\n",
    "$$A\\ket{\\lambda_k^a} = \\lambda_k \\ket{\\lambda_k^a}$$ \n",
    "<br>\n",
    "Dichos autovectores generan un <u><i>subespacio propio</i></u> $S(\\lambda_k)\\subset \\Hil$. \n",
    "En efecto,  sea $\\ket{u} = \\sum_{a=1}^{d_k} c_a\\ket{\\lambda^a_k} $ una combinación de dichos vectores propios, entonces\n",
    "<br>\n",
    "\\begin{eqnarray}\n",
    "A \\ket{u} \n",
    "=  \\sum_{a=1}^{d_k} c_a A\\ket{\\lambda^a_k}  =  \\sum_{a=1}^{d_k} c_a \\lambda_k\\ket{\\lambda^a_k}  =   \\lambda_k \\sum_{a=1}^{d_k} c_a \\ket{\\lambda^a_k}  =\\lambda_k\\ket{u}\n",
    "\\end{eqnarray}\n",
    "<br>\n",
    "Por tanto $\\ket{u}\\in S(\\lambda_k)$.\n"
   ]
  },
  {
   "cell_type": "markdown",
   "id": "1f5a7a49",
   "metadata": {
    "slideshow": {
     "slide_type": "skip"
    }
   },
   "source": [
    "- El teorema de Gramm-Schmidt garantiza que podemos elegir (mediante un cambio adecuado) el conjunto  $\\{\\ket{\\lambda_{k}^a}\\}\\in (\\lambda_k), a=1,...,d_k$ de forma que que sea una  <i>base ortonormal</i> \n",
    "$$\\braket{\\lambda_{k}^a}{\\lambda_{k}^b}=\\delta_{ab}$$"
   ]
  },
  {
   "cell_type": "markdown",
   "id": "9657d815",
   "metadata": {
    "slideshow": {
     "slide_type": "skip"
    }
   },
   "source": [
    "- El **proyector** sobre el subespacio propio $S(\\lambda_k)$ será\n",
    "$$\n",
    "P_k = \\sum_{a=1}^{d_k} \\ketbra{\\lambda_{k}^a}{\\lambda_{k}^a}\n",
    "$$"
   ]
  },
  {
   "cell_type": "markdown",
   "id": "52c86998",
   "metadata": {
    "slideshow": {
     "slide_type": "skip"
    }
   },
   "source": [
    "<div class=\"alert alert-block alert-warning\">\n",
    "    <b>Ejemplo:</b>\n",
    "    \n",
    "- Llamemos $R_z(\\theta)$ el operador que efectúa una rotación  en el plano  $(x,y)$ de ángulo $\\theta$. Cuando $\\theta = \\pi$ encontramos las siguiente acción sobre los tres elementos $\\{\\hat{\\bf x},\\hat{\\bf y},\\hat{\\bf z}\\}$\n",
    "de la base cartesiana\n",
    "<br>    \n",
    "\\begin{eqnarray}\n",
    "R_z(\\pi)\\hat{\\bf x} &=&-\\hat{\\bf x}  \\\\ \\rule{0mm}{6mm}\n",
    "R_z(\\pi)\\hat{\\bf y} &=& -\\hat{\\bf y}  \\\\ \\rule{0mm}{6mm}\n",
    "R_z(\\pi)\\hat{\\bf z} &=& + \\hat{\\bf z}  \n",
    "\\end{eqnarray}    \n",
    "<br>    \n",
    "- Vemos que hay un autovector $\\hat{\\bf z}$ con autovalor $+1$ y dos autovectores $\\hat{\\bf x} $ y $\\hat{\\bf y} $\n",
    "con autovalor $-1$. \n",
    "<br>\n",
    "<br>\n",
    "- El espacio ${\\mathbb R}^3$ se divide en dos subespacios propios de $R_z(\\pi)$, uno de dimensión 1 (a lo largo del eje $\\hat{\\bf z}$) y otro de dimensión 2 (en el plano $(\\hat{\\bf x},\\hat{\\bf y})$).\n",
    "<br>\n",
    "<br>    \n",
    "- Los proyectores asociados serán\n",
    "    \n",
    "$$\n",
    "P_{\\hat{\\bf z}}= \\ket{\\hat{\\bf z}}\\bra{\\hat{\\bf z}}=\\begin{bmatrix} 0 & & \\\\ & 0 & \\\\ & & 1 \\end{bmatrix}~~~,~~~\n",
    "P_{\\hat{\\bf x}\\hat{\\bf y}}= \\ket{\\hat{\\bf x}}\\bra{\\hat{\\bf x}}+\\ket{\\hat{\\bf y}}\\bra{\\hat{\\bf y}}=\\begin{bmatrix} 1 & & \\\\ & 1 & \\\\ & & 0 \\end{bmatrix}~~~,~~~\n",
    "$$\n",
    "    \n",
    "</div>"
   ]
  },
  {
   "cell_type": "markdown",
   "id": "13dddeb5",
   "metadata": {
    "slideshow": {
     "slide_type": "skip"
    }
   },
   "source": [
    "<a id='especopnormal'></a>\n",
    "\n",
    "### Espectro de Operadores: casos particulares  \n"
   ]
  },
  {
   "cell_type": "markdown",
   "id": "408cc4ab",
   "metadata": {
    "slideshow": {
     "slide_type": "slide"
    }
   },
   "source": [
    "#### Espectro de Operadores Normales\n",
    "\n",
    "Recordemos la definición de un operador normal. $N$ será un operador normal si conmuta con su adjunto\n",
    "\n",
    "$$\n",
    "NN^\\dagger = N^\\dagger N\n",
    "$$\n",
    "\n",
    "La importancia de los operadores normales radica en el siguiente lema     \n",
    "\n",
    "<div class=\"alert alert-block alert-info\",text-align:center>\n",
    " <p style=\"text-align: left ;color: navy;\">  \n",
    "<b> Teorema: </b> \n",
    "los autovectores de un operador normal asociados a dos autovalores <i>distintos</i>  son <i>ortogonales</i>\n",
    "<br>  \n",
    "<br>     \n",
    "$$\n",
    "\\lambda_i\\neq \\lambda_j~~~~\\Longleftrightarrow ~~~~ \\braket{\\lambda_i}{\\lambda_j} = 0\n",
    "$$\n",
    "</div>\n",
    "<details><summary><p style=\"text-align:right\"> >> <i>Prueba:</i></p></summary>\n",
    "<br>\n",
    "De la ecuación de autovalores $N\\ket{\\lambda_j} =  \\lambda_j \\ket{\\lambda_j}$, y de $NN^\\dagger = N^\\dagger N$, se sigue que\n",
    "<br>\n",
    "<br>\n",
    "$$\n",
    "\\bra{\\lambda_j}(N^\\dagger - \\lambda_j^*)(N - \\lambda_j) \\ket{\\lambda_j} = \\bra{\\lambda_j}(N - \\lambda_j)(N^\\dagger - \\lambda_j^*) \\ket{\\lambda_j}  = 0\\,\n",
    "$$\n",
    "<br>\n",
    "<br>\n",
    " de donde obtenemos $(N^\\dagger - \\lambda_j^*) \\ket{\\lambda_j} = 0 \\Rightarrow \\bra{\\lambda_j} N = \\bra{\\lambda_j}\\lambda_j$. Entonces\n",
    "<br>\n",
    "<br>\n",
    "$$\n",
    "\\bra{\\lambda_j}N\\ket{\\lambda_i} = \\lambda_j \\braket{\\lambda_j}{\\lambda_i} = \\lambda_i \\braket{\\lambda_j}{\\lambda_i} \\, ,\n",
    "$$\n",
    "de donde se sigue que, para $\\lambda_i \\neq \\lambda_j \\Rightarrow \\braket{\\lambda_i}{\\lambda_j} = 0$. \n",
    "</details>\n"
   ]
  },
  {
   "cell_type": "markdown",
   "id": "66a3ce24",
   "metadata": {
    "slideshow": {
     "slide_type": "skip"
    }
   },
   "source": [
    "En general, cada autovalor $\\lambda_k$ será $d_k \\geq 1$ veces degenerado. \n",
    "En ese caso hay  $\\{\\ket{\\lambda^a_k}\\}, a=1,...,d_k$ autovectores que generan el subespacio propio, $S(\\lambda_k)\\subset \\Hil $, de dimensión $d_k$. \n",
    "Subespacios $S(\\lambda_k)\\perp S(\\lambda_j)$ son ortogonales para $k\\neq j$ según el lema. \n",
    "\n",
    "En resumen: siempre podemos encontrar una base  ortonormal de $\\Hil$, formada por autovectores de un operador normal $N$. La relación de cierre es\n",
    "\n",
    "$$\n",
    "I = \\sum_k\\sum_{a=1}^{d_k} \\ket{\\lambda^a_k}\\bra{\\lambda^a_k} ~~~~~~~~~~~;~~~~~~~~~ \\braket{\\lambda^a_j}{\\lambda^b_k} = \\delta_{ab}\\delta_{jk}\n",
    "$$\n",
    "\n",
    "El proyector sobre el subespacio propio $S(\\lambda_k)$ será\n",
    "$$\n",
    "P_k = \\sum_{a=1}^{d_k} \\ketbra{\\lambda^a_k}{\\lambda^a_k}\n",
    "$$"
   ]
  },
  {
   "cell_type": "markdown",
   "id": "d911cc7f",
   "metadata": {
    "slideshow": {
     "slide_type": "slide"
    }
   },
   "source": [
    "#### Espectro de Operadores Hermíticos\n",
    "\n",
    "<div class=\"alert alert-block alert-info\",text-align:center>\n",
    "<p style=\"text-align: left ;color: navy;\">\n",
    "    <b></b>\n",
    "El espectro de un operador hermítico  $A = A^\\dagger$,  tiene dos propiedades importantes:\n",
    "<br>\n",
    "<br>     \n",
    " - 1. los <b>autovalores</b> de un operador hermíticos son reales $\\lambda_i \\in {\\mathbb R}$.\n",
    "<br>\n",
    "<br>     \n",
    " - 2.  los <b>autovectores</b> $\\ket{\\lambda_i}$ de un operador hermítico asociados a autovalores distintos son ortogonales\n",
    "<br>\n",
    "<br>\n",
    "$$\n",
    "\\lambda_i\\neq \\lambda_j ~~~\\Longleftrightarrow ~~~\\braket{\\lambda_i}{\\lambda_j} = 0\\, .\n",
    "$$\n",
    "</p>\n",
    "</div>\n",
    "\n",
    "<details><summary><p style=\"text-align:left\"> >> <i>Prueba:</i></p></summary>\n",
    "<br>\n",
    "    \n",
    "1. Tomemos un autovector normalizado de $A$, $\\ket{\\lambda}$ de autovalor $\\lambda$.\n",
    "<br>\n",
    "<br>\n",
    "$$\n",
    "\\lambda = \\bra{\\lambda}A\\ket{\\lambda} =  (\\bra{\\lambda}A^\\dagger\\ket{\\lambda})^* = (\\bra{\\lambda}A\\ket{\\lambda})^*= \\lambda^* .~~~\n",
    "$$   \n",
    "<br>    \n",
    "2. De hecho esta propiedad es cierta para operadores $N$, normales. Los operadores Hermíticos son normales.\n",
    "De la ecuación de autovalores $N\\ket{\\lambda_j} =  \\lambda_j \\ket{\\lambda_j}$, y de $NN^\\dagger = N^\\dagger N$, se sigue que\n",
    "<br>\n",
    "$$\n",
    "\\bra{\\lambda_j}(N^\\dagger - \\lambda_j^*)(N - \\lambda_j) \\ket{\\lambda_j} = \\bra{\\lambda_j}(N - \\lambda_j)(N^\\dagger - \\lambda_j^*) \\ket{\\lambda_j}  = 0\\,\n",
    "$$\n",
    "de donde obtenemos $(N^\\dagger - \\lambda_j^*) \\ket{\\lambda_j} = 0 \\Rightarrow \\bra{\\lambda_j} N = \\bra{\\lambda_j}\\lambda_j$. Entonces\n",
    "<br>\n",
    "$$\n",
    "\\bra{\\lambda_j}N\\ket{\\lambda_i} = \\lambda_j \\braket{\\lambda_j}{\\lambda_i} = \\lambda_i \\braket{\\lambda_j}{\\lambda_i} \\, ,\n",
    "$$\n",
    "de donde se sigue que, para $\\lambda_i \\neq \\lambda_j \\Rightarrow \\braket{\\lambda_i}{\\lambda_j} = 0$. \n",
    "}\n",
    "</details>\n"
   ]
  },
  {
   "cell_type": "markdown",
   "id": "c4c46087",
   "metadata": {
    "slideshow": {
     "slide_type": "skip"
    }
   },
   "source": [
    "El conjunto de autovectores $\\ket{\\lambda_i}$ de un operador hermítico forma una base ortogonal. Puede normalizarse para formar una base ortonormal\n",
    "<br>\n",
    "<br>\n",
    "$$\n",
    "\\braket{\\lambda_i}{\\lambda_j} = \\delta_{ij}\n",
    "$$"
   ]
  },
  {
   "cell_type": "markdown",
   "id": "edaa8323",
   "metadata": {
    "slideshow": {
     "slide_type": "skip"
    }
   },
   "source": [
    "<div class=\"alert alert-block alert-success\">\n",
    "    <b>Ejercicio:</b>\n",
    "<br>\n",
    "Escribe una función, $random\\_hermitian$, que genere una matriz hermítica de dimensión $d$.\n",
    "<br>    \n",
    "Comprueba en distintos casos que el espectro es real. \n",
    "</div>"
   ]
  },
  {
   "cell_type": "markdown",
   "id": "aca5bc42",
   "metadata": {
    "slideshow": {
     "slide_type": "slide"
    }
   },
   "source": [
    "#### Espectro de Operadores Unitarios\n",
    "\n",
    "<div class=\"alert alert-block alert-info\",text-align:center>\n",
    " <p style=\"text-align: left ;color: navy;\">  \n",
    "<b></b>\n",
    "Los autovalores de un operador unitario son fases puras\n",
    "<br><br>\n",
    "$$\n",
    "U^\\dagger = U^{-1} ~~~\\Longleftrightarrow ~~~\\lambda_i = e^{i\\phi_i}\n",
    "$$ \n",
    "</div>\n",
    "\n",
    "\n",
    "*Prueba:* si $\\{\\lambda_i\\}$ son autovalores de $U$, los de $U^\\dagger$ son $\\{\\lambda_i^*\\}$ y los de\n",
    "$U^{-1}$ son $\\{\\lambda_i^{-1}\\}$. La única solución de la ecuación $\\lambda_i^* = \\lambda_i^{-1}$ es una fase\n",
    "$\\lambda_i= e^{i\\phi_i}$.\n",
    "\n"
   ]
  },
  {
   "cell_type": "markdown",
   "id": "b9630442",
   "metadata": {
    "slideshow": {
     "slide_type": "slide"
    }
   },
   "source": [
    "#### Espectro de Proyectores\n",
    "\n",
    "<div class=\"alert alert-block alert-info\",text-align:center>\n",
    " <p style=\"text-align: left ;color: navy;\">  \n",
    "<b> Lema: </b>\n",
    "los autovalores de un proyector sólo pueden ser $~0~$ ó $~1~$\n",
    "<br>\n",
    "$$\n",
    "P^2= P ~~~\\Longleftrightarrow ~~~\\lambda_i \\in \\{0,1\\}\n",
    "$$ \n",
    "</div>\n",
    "\n",
    "*Prueba:* la ecuación \n",
    "    \n",
    "$$ P^2 = P ~~~~~\\Rightarrow ~~~~~~~~ P^2 \\ket{u} = P\\ket{u} $$\n",
    "\n",
    "sólo tiene dos soluciones consistentes \n",
    "    \n",
    "$$\n",
    "P\\ket{u} = \\ket{u}~~~~~~~\\hbox{y} ~~~~~~~~~~P\\ket{u} = 0\n",
    "$$\n",
    "\n"
   ]
  },
  {
   "cell_type": "markdown",
   "id": "511cc8cd",
   "metadata": {
    "slideshow": {
     "slide_type": "skip"
    }
   },
   "source": [
    "#### Espectro de Operadores que Conmutan\n",
    "\n",
    "Cuando dos operadores conmutan entre sí, en cierto modo, se comportan como c-número. El siguiente teorema es un reflejo de esto, y tiene una importancia fundamental en la medida completa del estado de un sistema\n",
    " \n",
    " <div class=\"alert alert-block alert-info\",text-align:center>\n",
    " <p style=\"text-align: left ;color: navy;\">  \n",
    "<b> Teorema </b>\n",
    "<br>     \n",
    "Dados dos operadores $A$ y $B$ que conmutan, existe una base $\\{\\ket{\\lambda_i}\\}$ de autovalores simultáneos de ambos operadores, es decir \n",
    "<br>\n",
    "<br>\n",
    "$$\n",
    "A = \\lambda_i^A\\ketbra{\\lambda_i}{\\lambda_i} ~~~~,~~~~~ B= \\lambda_i^B\\ketbra{\\lambda_i}{\\lambda_i} \n",
    "$$\n",
    "</div>\n",
    "<details><summary><p style=\"color:grey;text-align:right\"> >> <i>Prueba</i> </p></summary>\n",
    "Supongamos que $A$ y $B$ conmutan. Entonces la acción de $A$ <i>estabiliza</i> los subespacios propios de $B$. \n",
    "\n",
    "Es decir, si $\\ket{\\lambda}$ es autoestado de $B$, entonces $B\\ket{\\lambda} = \\ket{\\mu}$ también es autoestado con idéntico autovalor. Se comprueba fácilmente\n",
    "<br>\n",
    "<br>\n",
    "$$\n",
    "A(B\\ket{\\lambda} ) = B(A\\ket{\\lambda}) = B(\\lambda\\ket{\\lambda}) = \\lambda (B\\ket{\\lambda})\n",
    "$$\n",
    "<br>\n",
    "\n",
    "Por tanto $\\ket{\\lambda}$ y $B\\ket{\\lambda}$ pertenecen al <i>mismo subespacio propio</i>. Esto es lo que se entiende por <i>estabilizar el subespacio</i>. \n",
    "\n",
    "\n",
    "Si $\\lambda$ es degenerado esto sólo asegura que $B\\ket{\\lambda} = \\ket{\\lambda'}$ pertenece al subespacio propio del mismo autovalor $\\lambda$. \n",
    "\n",
    "Esto quiere decir que, dento de cada subespacio propio de $B$, podemos escoger la base que queramos. En particular podemos escoger una base que diagonalice $A$ dentro de dicho subespacio.     \n",
    "</details>   "
   ]
  },
  {
   "cell_type": "markdown",
   "id": "1c70272c",
   "metadata": {
    "slideshow": {
     "slide_type": "skip"
    }
   },
   "source": [
    "En otras palabras, dos operadores que conmutan son diagonalizables simultáneamente. Su matriz en la base $\\{\\ket{\\lambda_i}\\}$ es\n",
    "\n",
    "$$\n",
    "A = \\begin{bmatrix} \\lambda^A_1 & & &  \\\\ & \\lambda^A_2 & &   \\\\ & & \\ddots &  \\\\ & & & \\lambda^A_n \n",
    "\\end{bmatrix}~~~~~~~,~~~~~~~~\n",
    "B = \\begin{bmatrix} \\lambda^B_1 & & &  \\\\ & \\lambda^B_2 & &   \\\\ & & \\ddots &  \\\\ & & & \\lambda^B_n \n",
    "\\end{bmatrix}\\, .\n",
    "$$"
   ]
  },
  {
   "cell_type": "markdown",
   "id": "ffb861e4",
   "metadata": {},
   "source": [
    "La importancia de este teorema se manifiesta cuando $A$ y $B$ son observables. Supongamos que medimos $A$ primero y obtenemos $\\lambda_1^A$. El estado obtenido será $\\ket{\\lambda_1}$ el cual es, a su vez, autoestado de $B$. Una medida de $B$ nos dará $\\lambda_1^B$ sin ambigüedad.  y no modificará el estado obtenido, que quedará preparado en un autoestado común de autovalores $(\\lambda_1^A, \\lambda_2^B)$. \n",
    "\n",
    "Por tanto, la caracterización más precisa que se puede hacer de un sistema requiere la construcción de un *conjunto máximal de observables que conmutan* (CMOC). Su obtención es, por tanto de importancia crucial. "
   ]
  },
  {
   "cell_type": "markdown",
   "id": "a0b130f2",
   "metadata": {
    "slideshow": {
     "slide_type": "slide"
    }
   },
   "source": [
    "#### Valores Singulares\n",
    "\n",
    "Un operador normal está caracterizado unívocamente por su lista de autovalores. Esto es muy útil porque podemos definir la distancia entre dos operadores a partir de la diferencia entre sus listas. \n",
    "\n",
    "En el caso de un operador general, también podemos definir una colección de números reales que sirven como *matrícula* del mismo. Son los denominados *valores singulares*, y  también nos servirá para definir la distancia entre dos operadores arbitrarios \n",
    "\n",
    "\n",
    "\n",
    "\n",
    "<div class=\"alert alert-block alert-info\",text-align:center>\n",
    "<p style=\"text-align: left ;color: navy;\">  \n",
    "<b>Definición:</b>  \n",
    "Se definen los <b>valores singulares</b> de  $A\\in \\Lin(\\Hil)$ como $s_i =\\sqrt{\\lambda_i}$ donde $\\lambda_i$ son los autovalores del operador $A^\\dagger A$. \n",
    "<br>     \n",
    "</div>\n",
    "\n",
    " Si $A\\in \\Lin(\\Hil)$ es un operador general, entonces $A^\\dagger A$ es un operador hermítico que tiene autovalores positivos o cero $\\lambda_i\\geq 0$\n",
    "\n",
    "$$\n",
    "A^\\dagger A\\ket{\\lambda_i} = \\lambda_i\\ket{\\lambda_i} ~~\\Rightarrow ~~\\lambda_i = \\bra{\\lambda_i} A^\\dagger A\\ket{\\lambda_i} =\\| A\\ket{\\lambda_i} \\| \\geq 0\n",
    "$$\n",
    "\n",
    "Por tanto, podemos tomar su raíz cuadrada $s_i = \\sqrt{\\lambda_i} \\geq 0$\n",
    "\n",
    "\n"
   ]
  },
  {
   "cell_type": "markdown",
   "id": "b381a74d",
   "metadata": {},
   "source": [
    "### Descomposición de Operadores\n",
    "\n",
    "Una gran cantidad de resultados relevantes sobre operadores se pueden obtener mediante una descomposición adecuada en productos o sumas de otros operadores con propiedades bien definidas. Vamos a estudiar tres tipos. \n",
    "\n",
    "<a id='descomespec'></a>\n",
    "#### Descomposición  Espectral\n",
    "\n",
    "<div class=\"alert alert-block alert-info\",text-align:center>\n",
    " <p style=\"text-align: left ;color: navy;\">  \n",
    "<b> Teorema: </b> <i>(descomposición espectral)</i>  \n",
    "<br>     \n",
    "Para todo operador normal $N$ existe una base de  autovectores ortonormales,  $\\{\\ket{\\lambda^a_k}\\}$,  tales que  \n",
    "$A$ admite la siguiente <b> descomposición espectral </b>\n",
    "<br>\n",
    "<br>\n",
    "$$\n",
    "N = \\sum_{k=1}^d \\lambda_k   P_k\\, .\n",
    "$$ \n",
    "<br>\n",
    "Aquí $d=  {\\rm dim}(\\Hil)$ y $P_k = \\sum_{a=1}^{g_k} \\ketbra{\\lambda^a_k}{\\lambda^a_k}$ es el proyector sobre el subespacio propio $S(\\lambda_k)$, donde $\\lambda_k$ es $g_k$ veces degenerado.\n",
    "</p>\n",
    "</div>"
   ]
  },
  {
   "cell_type": "markdown",
   "id": "8df31e3b",
   "metadata": {
    "slideshow": {
     "slide_type": "slide"
    }
   },
   "source": [
    "La matriz $A_{ij}$ que expresa $A$ en la base $\\ket{\\lambda_i}$ es diagonal \n",
    "\n",
    "$$\n",
    "A_{ij} = \\bra{\\lambda^a_i} A\\ket{\\lambda^b_j} =  \\lambda_k \\delta_{kj} \\delta_{ab} =\\begin{bmatrix} \\lambda_1 &  &  &  &  \\\\ & \\ddots & & & \\\\ & & \\lambda_2 & &  \\\\&  & & \\ddots & \\\\  & & & &  \\lambda_N \\end{bmatrix}\n",
    "$$\n",
    "\n",
    "<br>\n",
    "donde $\\lambda_k$ aparecerá $d_k$ veces repetido."
   ]
  },
  {
   "cell_type": "code",
   "execution_count": 4,
   "id": "76ebebd2",
   "metadata": {
    "slideshow": {
     "slide_type": "fragment"
    }
   },
   "outputs": [
    {
     "data": {
      "text/latex": [
       "$$\n",
       "P_0=\n",
       "\\begin{bmatrix}\n",
       "\\frac{1}{2} & - \\frac{i}{2}  \\\\\n",
       " \\frac{i}{2} & \\frac{1}{2}  \\\\\n",
       " \\end{bmatrix}\n",
       "$$"
      ],
      "text/plain": [
       "<IPython.core.display.Latex object>"
      ]
     },
     "metadata": {},
     "output_type": "display_data"
    },
    {
     "data": {
      "text/latex": [
       "$$\n",
       "P_1=\n",
       "\\begin{bmatrix}\n",
       "\\frac{1}{2} & \\frac{i}{2}  \\\\\n",
       " - \\frac{i}{2} & \\frac{1}{2}  \\\\\n",
       " \\end{bmatrix}\n",
       "$$"
      ],
      "text/plain": [
       "<IPython.core.display.Latex object>"
      ]
     },
     "metadata": {},
     "output_type": "display_data"
    },
    {
     "data": {
      "text/latex": [
       "$$\n",
       "P_0 + P_1=\n",
       "\\begin{bmatrix}\n",
       "1 & 0  \\\\\n",
       " 0 & 1  \\\\\n",
       " \\end{bmatrix}\n",
       "$$"
      ],
      "text/plain": [
       "<IPython.core.display.Latex object>"
      ]
     },
     "execution_count": 4,
     "metadata": {},
     "output_type": "execute_result"
    }
   ],
   "source": [
    "'definamos un operador normal'\n",
    "A = np.array([[1, 1], [-1, 1]])\n",
    "array_to_latex(A)\n",
    "\n",
    "' Realizamos la descomposición espectral'\n",
    "eigvals, eigvecs = np.linalg.eig(A)\n",
    "\n",
    "eigvec0 = eigvecs[:,0]\n",
    "P0 = tQ.ket_bra(eigvec0,eigvec0)\n",
    "display(array_to_latex(P0,prefix='P_0='))\n",
    "\n",
    "eigvec1 = eigvecs[:,1]\n",
    "P1 = tQ.ket_bra(eigvec1,eigvec1)\n",
    "display(array_to_latex(P1,prefix='P_1='))\n",
    "\n",
    "'verificamos completitud'\n",
    "array_to_latex(P0+P1,prefix='P_0 + P_1=')"
   ]
  },
  {
   "cell_type": "code",
   "execution_count": 5,
   "id": "3d18ef69",
   "metadata": {
    "slideshow": {
     "slide_type": "skip"
    }
   },
   "outputs": [
    {
     "data": {
      "text/latex": [
       "$$\n",
       "\n",
       "\\begin{bmatrix}\n",
       "1 & 1  \\\\\n",
       " -1 & 1  \\\\\n",
       " \\end{bmatrix}\n",
       "$$"
      ],
      "text/plain": [
       "<IPython.core.display.Latex object>"
      ]
     },
     "execution_count": 5,
     "metadata": {},
     "output_type": "execute_result"
    }
   ],
   "source": [
    "A_descomp_espect = eigvals[0]*P0+eigvals[1]*P1\n",
    "\n",
    "array_to_latex(A_descomp_espect)"
   ]
  },
  {
   "cell_type": "markdown",
   "id": "499a7223",
   "metadata": {
    "slideshow": {
     "slide_type": "skip"
    }
   },
   "source": [
    "<div class=\"alert alert-block alert-danger\">\n",
    "    <b>Notar:</b>\n",
    "<br>\n",
    "El operador identidad tiene a cualquier vector por autovector $ I\\ket{v} = \\ket{v}$, con autovalores $\\lambda_ i = 1$. Por tanto, en <b>cualquier base</b>, la matriz asociada a $I$ tiene la forma diagonal\n",
    "    \n",
    "$$\n",
    "I_{ij} = \\delta_{ij} = \\begin{pmatrix} 1 &  &  &  \\\\ & 1 & &  \\\\ & & \\ddots & \\\\ & & &  1 \\end{pmatrix}\n",
    "$$\n",
    "\n",
    "La descomposición espectral de $I$ no es otra que la <b>relación de completitud</b>, que es cierta *para cualquier base*, ya que todas las bases son bases de autoestados de $I$\n",
    "    \n",
    "$$\n",
    "I ~=~ \\sum_{i=1}^N \\ketbra{\\lambda_i}{\\lambda_i} ~=~ \\sum_{i=1}^N \\ketbra{e_i}{e_i}\n",
    "$$\n",
    "</div>"
   ]
  },
  {
   "cell_type": "markdown",
   "id": "26207dd5",
   "metadata": {
    "slideshow": {
     "slide_type": "skip"
    }
   },
   "source": [
    "<div class=\"alert alert-block alert-success\">\n",
    "    <b> Ejercicio: </b>\n",
    "<br> \n",
    "Escribe una función  $spectral\\_decomp$ en python, que devuelva las dos listas $\\lambda_i$ y $P_i$ asociadas a la decomposición espectral de un operador diagonalizable $A = \\sum_i \\lambda_i P_i$.   \n",
    "</div>"
   ]
  },
  {
   "cell_type": "markdown",
   "id": "d543d07a",
   "metadata": {
    "slideshow": {
     "slide_type": "slide"
    }
   },
   "source": [
    "#### Descomposición Polar (PD)\n",
    "\n",
    "<div class=\"alert alert-block alert-info\",text-align:center>\n",
    "<p style=\"text-align: center;\"> <p style=\"text-align: left ;color: navy;\">  \n",
    "<b> Teorema: </b><i>(descomposición polar)</i>\n",
    "<br>\n",
    "Todo operador $A\\in \\Lin(\\Hil)$ admite la descomposición polar $A = UR$ donde $U$ es un operador unitario, y $R$ es un operador semi-definido positivo (sólo tiene autovalores positivos o cero) \n",
    "</div>"
   ]
  },
  {
   "cell_type": "markdown",
   "id": "aa2c3ecc",
   "metadata": {
    "slideshow": {
     "slide_type": "-"
    }
   },
   "source": [
    "La descomposición polar es *única* y generaliza la representación polar de números complejos $z = r e^{i\\phi}$ a operadores. \n",
    "\n",
    "El hecho de que $r\\geq 0$ es la contrapartida a que $R$ sea semi-definida positiva. \n",
    "\n",
    "El factor $e^{i\\phi}$ es análogo al hecho de que un operador unitario, $U$, sólo tiene autovalores que son fases puras. "
   ]
  },
  {
   "cell_type": "markdown",
   "id": "52b463a1",
   "metadata": {
    "slideshow": {
     "slide_type": "skip"
    }
   },
   "source": [
    "<div class=\"alert alert-block alert-success\">\n",
    "<b>Ejercicio:</b> \n",
    "<br>\n",
    "Escribe una función $random\\_unitary$ que genere una matriz unitaria de dimensión $d$.\n",
    "Comprueba en distintos casos que el espectro está formado por fases\n",
    "</div>"
   ]
  },
  {
   "cell_type": "code",
   "execution_count": 6,
   "id": "af607659",
   "metadata": {
    "slideshow": {
     "slide_type": "skip"
    }
   },
   "outputs": [
    {
     "name": "stdout",
     "output_type": "stream",
     "text": [
      "[2.313-0.j 1.054-0.j 0.225+0.j]\n"
     ]
    },
    {
     "data": {
      "text/latex": [
       "$$U = \\begin{bmatrix} 0.04-0.11j&0.84+0.27j&0.12+0.44j \\\\-0.30+0.28j&-0.11+0.42j&0.78-0.17j \\\\0.61+0.66j&-0.12-0.13j&0.13+0.37j \\end{bmatrix}$$"
      ],
      "text/plain": [
       "<IPython.core.display.Latex object>"
      ]
     },
     "metadata": {},
     "output_type": "display_data"
    },
    {
     "data": {
      "text/latex": [
       "$$U^{\\dagger}U = \\begin{bmatrix} 1.00-0.00j&0.00+0.00j&0.00+0.00j \\\\0.00-0.00j&1.00+0.00j&0.00+0.00j \\\\0.00-0.00j&0.00-0.00j&1.00+0.00j \\end{bmatrix}$$"
      ],
      "text/plain": [
       "<IPython.core.display.Latex object>"
      ]
     },
     "metadata": {},
     "output_type": "display_data"
    },
    {
     "data": {
      "text/plain": [
       "array([1.-0.j, 1.-0.j, 1.-0.j])"
      ]
     },
     "execution_count": 6,
     "metadata": {},
     "output_type": "execute_result"
    }
   ],
   "source": [
    "'''Método para construir una matriz unitaria arbitraria usando la descomposición polar'''\n",
    "d = 3\n",
    "A = np.matrix(np.random.rand(d,d)+ np.random.rand(d,d) * 1j)\n",
    "\n",
    "#u, s, vh = linalg.svd(A, full_matrices=False)\n",
    "u,r = la.polar(A)\n",
    "    \n",
    "R = np.matrix(r) \n",
    "' verificamos que R sólo tiene autovalores no-negativos '\n",
    "Reigval, Reigvec = la.eig(R)\n",
    "print(np.round(Reigval,3))\n",
    "\n",
    "U=np.matrix(u) \n",
    "display(Latex('$$U = %s$$'%MatrixToLatex(U)))\n",
    "\n",
    "''' Verifiquemos unitariedad '''\n",
    "display(Latex('$$U^{\\dagger}U = %s$$'%MatrixToLatex(np.dot(U.getH(),U))))\n",
    "\n",
    "''' verificamos que los autovalores de U son fases'''\n",
    "np.round([la.eig(U)[0][i]*la.eig(U)[0][i].conjugate() for i in range(d)],5)"
   ]
  },
  {
   "cell_type": "markdown",
   "id": "248ec9f7",
   "metadata": {
    "slideshow": {
     "slide_type": "slide"
    }
   },
   "source": [
    "#### Descomposición en Valores Singulares (SVD)\n"
   ]
  },
  {
   "cell_type": "markdown",
   "id": "090cde1f",
   "metadata": {
    "slideshow": {
     "slide_type": "skip"
    }
   },
   "source": [
    "Vamos a enunciar este teorema para matrices. Concretamente el teorema habla de una matriz $m\\times n$. Este tipo de matrices se corresponden con operadores $O \\in \\Lin(\\Hil_A,\\Hil_B)$ entre espacios de dimensiones $m$ y $n$.\n",
    "\n",
    "<div class=\"alert alert-block alert-info\",text-align:center>\n",
    "<p style=\"text-align: center;\"> <p style=\"text-align: left ;color: navy;\">  \n",
    "<b> Teorema:</b><i> (descomposición en valores singulades SVD)</i>\n",
    "<br>\n",
    "Sea $A$ una matriz compleja $m\\times n$. Entonces  admite la siguiente forma representación factorizada\n",
    "<br>\n",
    "<br>\n",
    "$$\n",
    "A = U\\,\\Sigma\\, V^{\\dagger} \\, ,\n",
    "$$\n",
    "<br>\n",
    "donde $U\\in U(m)$, $V\\in U(n)$ son matrices unitarias cuadradas de dimensiones $m$ y $n$,  y $\\,\\Sigma \\,$ es una matriz rectangular $m\\times n$ con los $s_1, ...,s_r$ <i>valores singulares</i>  no nulos de $A$   en la diagonal, donde $r\\leq {\\rm min}(m,n)$. \n",
    "</div>\n",
    "\n",
    "<details><summary><p style=\"text-align:right\"> >> <i>Demostración:</i></p></summary>\n",
    "*Prueba:* Tomemos $m>n$ sin pérdida de generalidad. \n",
    "\n",
    "Sean $\\ket{\\lambda_i}$ los $n$ autovectores de $A^\\dagger A\\in H(n)$, hermítica de dimensión $n$.\n",
    "\n",
    "Supongamos que hay $r$  valores singulares $s_i = \\sqrt{\\lambda_i}$ organicémolos en orden decreciente\n",
    "$\\lambda_1\\geq \\lambda_2\\geq ... \\geq \\lambda_r > 0$ y $\\lambda_{r+1} = ... = \\lambda_n = 0$. \n",
    "\n",
    "Con la base ortonormal $\\ket{\\lambda_i}$ podemos formar las siguientes matrices  \n",
    "\n",
    "$$\n",
    "\\begin{array}{rcl}\n",
    "V(n\\times n) &=& \\left(\\rule{0mm}{3mm} \\ket{\\lambda_1},\\ket{\\lambda_2},....,\\ket{\\lambda_r},\\ket{\\lambda_{r+1}},...,\\ket{\\lambda_n}\\right)\n",
    "\\nonumber \\\\\n",
    "\\Sigma(m\\times n) &=&  \\rule{0mm}{10mm} \\left(\n",
    "\\begin{array}{ccccccc} \n",
    "\\sqrt{\\lambda_1} &\\cdots  &    &  & & &  0  \\\\  \\vdots & \\ddots & & & & & \\vdots  \\\\  & & \\sqrt{\\lambda_r} & & & &  \\\\\n",
    "   & &  & 0  & &  &    \\\\ & & & & & \\ddots &  \\\\  0 & &\\cdots  & & & & 0  \\\\ \\vdots & &&&& & \\vdots \\\\ 0 & & \\cdots & & & & 0\n",
    "\\end{array}\n",
    "\\right)\n",
    "\\nonumber \\\\\n",
    "U(m\\times m) &=& \\rule{0mm}{8mm}\\left( \\rule{0mm}{3mm} \\frac{1}{\\sqrt{\\lambda_1}}A\\ket{\\lambda_1}, \\frac{1}{\\sqrt{\\lambda_2}}A\\ket{\\lambda_2}, ...., \n",
    "\\frac{1}{\\sqrt{\\lambda_r}}A\\ket{\\lambda_r}, \\ket{\\mu_{r+1}},...\\ket{\\mu_m} \\right) \\, .\n",
    "\\nonumber \n",
    "\\end{array}\n",
    "$$\n",
    "\n",
    "donde $\\ket{\\mu_{r+1}},...\\ket{\\mu_m}$ completa la base de vectores ortonormales.\n",
    "Ahora podemos operar\n",
    "\n",
    "\n",
    "$$\n",
    "\\begin{array}{rcl}\n",
    "U\\Sigma V^\\dagger &=& \n",
    "\\left( \\rule{0mm}{3mm} \\frac{1}{\\sqrt{\\lambda_1}}A\\ket{\\lambda_1}, \\frac{1}{\\sqrt{\\lambda_2}}A\\ket{\\lambda_2}, ...., \n",
    "\\frac{1}{\\sqrt{\\lambda_r}}A\\ket{\\lambda_r}, \\ket{\\mu_{r+1}},...\\ket{\\mu_m} \\right)\n",
    "\\begin{pmatrix} \\sqrt{\\lambda_1}\\bra{\\lambda_1} \\\\ \\sqrt{\\lambda_2}\\bra{\\lambda_2}  \\\\ \\vdots \\\\ \\sqrt{\\lambda_r}\\bra{\\lambda_r} \\\\ 0 \\\\ \\vdots \\\\ 0 \\end{pmatrix} \\nonumber\\\\\n",
    "&=& A \\sum_{i=1}^r \\ket{\\lambda_i}\\bra{\\lambda_i} = A \\sum_{i=1}^n \\ket{\\lambda_i}\\bra{\\lambda_i} = A\\, , \\nonumber\n",
    "\\end{array}\n",
    "$$\n",
    "\n",
    "donde usamos que $A\\ket{\\lambda_i}=0$ para $i>r$."
   ]
  },
  {
   "cell_type": "code",
   "execution_count": 5,
   "id": "dbd4c215",
   "metadata": {
    "slideshow": {
     "slide_type": "slide"
    }
   },
   "outputs": [
    {
     "data": {
      "text/latex": [
       "$$\n",
       "A=\n",
       "\\begin{bmatrix}\n",
       "-0.6238463288 + 1.0769802668 i & 0.2733654649 + 0.9345912934 i  \\\\\n",
       " 0.8117032963 - 0.0411015685 i & 0.3202747981 - 0.0800146645 i  \\\\\n",
       " 0.0633142056 - 0.1100026172 i & 1.3177835876 - 0.2919033556 i  \\\\\n",
       " \\end{bmatrix}\n",
       "$$"
      ],
      "text/plain": [
       "<IPython.core.display.Latex object>"
      ]
     },
     "metadata": {},
     "output_type": "display_data"
    },
    {
     "name": "stdout",
     "output_type": "stream",
     "text": [
      "the shape of A is : (3, 2)\n",
      "the shape of u = (3, 3)  s = (2,)  v = (2, 2)\n"
     ]
    }
   ],
   "source": [
    "'numpy tiene la función svd para descomponer en valores singulares'\n",
    "\n",
    "A = np.random.randn(3,2)+ 1j*np.random.randn(3,2)\n",
    "display(array_to_latex(A,prefix='A='))\n",
    "print( 'the shape of A is :', A.shape)\n",
    "\n",
    "\n",
    "u, s, vh = la.svd(A, full_matrices=True)\n",
    "\n",
    "print( 'the shape of u =',u.shape, ' s =', s.shape,' v =', vh.shape)"
   ]
  },
  {
   "cell_type": "code",
   "execution_count": 6,
   "id": "1e4e77d3",
   "metadata": {
    "slideshow": {
     "slide_type": "slide"
    }
   },
   "outputs": [
    {
     "data": {
      "text/latex": [
       "$$\n",
       "U=\n",
       "\\begin{bmatrix}\n",
       "-0.3053385775 + 0.6958427666 i & -0.2986925252 + 0.2518210616 i & 0.2250527712 - 0.4682855706 i  \\\\\n",
       " 0.37308226 + 0.0298554391 i & 0.4264817066 - 0.0978212024 i & 0.8061907662 - 0.136084881 i  \\\\\n",
       " 0.5089102591 + 0.1532965278 i & -0.7170138938 - 0.3765692111 i & 0.1282911261 + 0.2124585021 i  \\\\\n",
       " \\end{bmatrix}\n",
       "$$"
      ],
      "text/plain": [
       "<IPython.core.display.Latex object>"
      ]
     },
     "metadata": {},
     "output_type": "display_data"
    },
    {
     "data": {
      "text/latex": [
       "$$\n",
       "S=\n",
       "\\begin{bmatrix}\n",
       "2.0111153342 & 0  \\\\\n",
       " 0 & 1.0295997779  \\\\\n",
       " \\end{bmatrix}\n",
       "$$"
      ],
      "text/plain": [
       "<IPython.core.display.Latex object>"
      ]
     },
     "metadata": {},
     "output_type": "display_data"
    },
    {
     "data": {
      "text/latex": [
       "$$\n",
       "V=\n",
       "\\begin{bmatrix}\n",
       "0.6249549601 & 0.7806608084  \\\\\n",
       " 0.6513029539 + 0.4303902417 i & -0.521398035 - 0.3445472264 i  \\\\\n",
       " \\end{bmatrix}\n",
       "$$"
      ],
      "text/plain": [
       "<IPython.core.display.Latex object>"
      ]
     },
     "metadata": {},
     "output_type": "display_data"
    },
    {
     "data": {
      "text/latex": [
       "$$\n",
       "U^{\\dagger}U =\n",
       "\\begin{bmatrix}\n",
       "1 & 0 & 0  \\\\\n",
       " 0 & 1 & 0  \\\\\n",
       " 0 & 0 & 1  \\\\\n",
       " \\end{bmatrix}\n",
       "$$"
      ],
      "text/plain": [
       "<IPython.core.display.Latex object>"
      ]
     },
     "metadata": {},
     "output_type": "display_data"
    },
    {
     "data": {
      "text/latex": [
       "$$\n",
       "V^{\\dagger}V =\n",
       "\\begin{bmatrix}\n",
       "1 & 0  \\\\\n",
       " 0 & 1  \\\\\n",
       " \\end{bmatrix}\n",
       "$$"
      ],
      "text/plain": [
       "<IPython.core.display.Latex object>"
      ]
     },
     "metadata": {},
     "output_type": "display_data"
    }
   ],
   "source": [
    "U=np.matrix(u)\n",
    "S=np.matrix(np.diag(s))\n",
    "V=np.matrix(vh).getH()\n",
    "\n",
    "display(array_to_latex(U,prefix='U='))\n",
    "display(array_to_latex(S,prefix='S='))\n",
    "display(array_to_latex(V,prefix='V='))\n",
    "\n",
    "'''Verifiquemos unitariedad'''\n",
    "display(array_to_latex(np.dot(U.getH(),U),prefix='U^{\\dagger}U ='))\n",
    "display(array_to_latex(np.dot(V.getH(),V),prefix='V^{\\dagger}V ='))"
   ]
  },
  {
   "cell_type": "markdown",
   "id": "99fa2b20",
   "metadata": {
    "slideshow": {
     "slide_type": "skip"
    }
   },
   "source": [
    "### Traza"
   ]
  },
  {
   "cell_type": "markdown",
   "id": "26e6719c",
   "metadata": {
    "slideshow": {
     "slide_type": "slide"
    }
   },
   "source": [
    "#### Traza de un operador\n",
    "\n",
    "<div class=\"alert alert-block alert-info\",text-align:center>\n",
    "<p style=\"text-align: center;\"> <p style=\"text-align: left ;color: navy;\">  \n",
    "<b> Definición:</b> \n",
    "La traza de un operador $A$ se define como la suma de sus elementos de matriz diagonales <u> en cualquier base </u>        \n",
    "<br>\n",
    "<br>    \n",
    "$$\n",
    "\\tr A = \\sum_ i \\bra{e_i} A\\ket{e_i} =  \\sum_{i} A_{ii} \n",
    "$$\n",
    "</div>  "
   ]
  },
  {
   "cell_type": "markdown",
   "id": "c8e4c831",
   "metadata": {
    "slideshow": {
     "slide_type": "-"
    }
   },
   "source": [
    "Para ser consistente esta definición es necesario probar que no importa la base utilizada\n",
    "\n",
    "<div class=\"alert alert-block alert-info\",text-align:center>\n",
    "<p style=\"text-align: center;\"> <p style=\"text-align: left ;color: navy;\">  \n",
    "    <b> Lema:</b> \n",
    "La traza de un operador es <i>independiente de la base</i> en la que se calcule\n",
    "</div>  \n",
    "<details><summary><p style=\"color:grey;text-align:right\"> >> <i>Prueba</i> </p></summary>\n",
    "\\begin{eqnarray}\n",
    "{\\rm tr} A  &=&\\sum_i A_{ii} =\\sum_{i} \\bra{i}A\\ket{i} =\\sum_{i} \\bra{i}A\\left( \\sum_j\\ketbra{\\tilde j}{\\tilde j}\\right)\\ket{i}\n",
    "\\nonumber\\\\\n",
    "&=& \\sum_{ij}\\bra{i}A\\ket{\\tilde j} \\braket{\\tilde j}{i} = \\sum_{ij}\\braket{\\tilde j}{i}\\bra{i}A\\ket{\\tilde j}  \\nonumber\\\\\n",
    "&=& \\sum_{j} \\bra{\\tilde j}\\left(\\sum_i\\ketbra{i}{i}\\right) A \\ket{\\tilde j}= \\sum_{j} \\bra{\\tilde j}A\\ket{\\tilde j}\\nonumber\\\\\n",
    "&=& \\sum_j \\tilde A_{jj}\n",
    "\\end{eqnarray}\n",
    "</details>\n",
    "\n",
    "Por esta  propiedad, siempre que $A$ sea diagonalizable en una base $A\\ket{\\lambda_j} = \\lambda_i \\ket{\\lambda_i}$, la traza de $A$ será la suma de sus autovalores\n",
    "<br>\n",
    "<br>\n",
    "$$\n",
    "{\\rm tr} A = \\sum_i \\bra{\\lambda_i}A\\ket{\\lambda_i} = \\sum_i \\lambda_i\n",
    "$$\n",
    "La traza posee dos propiedades importantes\n",
    "- linealidad : \n",
    "$$\n",
    "{\\rm tr} (A + B ) = {\\rm tr}A + {\\rm tr}B\n",
    "$$\n",
    "<br>\n",
    "\n",
    "- ciclicidad: la traza es invariante bajo permutaciones  cíclicas de los operadores en su argumento. Por ejemplo, para tres operadores $A, B$ y $C$\n",
    "\n",
    "$$\n",
    "{\\rm tr}(ABC)= {\\rm tr}(BCA) \n",
    "$$\n",
    "\n",
    "- aniquila conmutadores:\n",
    "para un producto de dos operadores, el anterior resultado implica que la *traza de un conmutador es cero*. Dicho de otra forma\n",
    "\n",
    "$$\n",
    "{\\rm tr}(AB) = {\\rm tr}(BA) ~~~\\Rightarrow ~~~~{\\rm tr}([A,B]) = 0 \\, .\n",
    "$$\n",
    "\n",
    "<div class=\"alert alert-block alert-danger\",text-align:center>\n",
    "<b> Notar:</b> \n",
    "sea el operador $A = \\ketbra{u}{v}$ entonces $ \\tr \\left(\\rule{0mm}{5mm}\\ketbra{u}{v}\\right) = \\braket{v}{u}$.\n",
    "Efectivamente\n",
    "$$ \\tr \\left(\\rule{0mm}{5mm}\\ketbra{u}{v}\\right) = \\sum_i \\braket{e_i}{u}\\braket{v}{e_i} = \\sum_i \\braket{v}{e_i} \\braket{e_i}{u} = \\bra{v}\\left(\\sum_i \\ketbra{e_i}{e_i}\\right) \\ket{u} = \\braket{v}{u}\n",
    "$$\n",
    "</div>"
   ]
  },
  {
   "cell_type": "markdown",
   "id": "90124fc8",
   "metadata": {},
   "source": [
    "<div class=\"alert alert-block alert-success\">\n",
    "<b>Ejercicio:</b> \n",
    "demuestra la ciclicidad de la traza\n",
    "</div>"
   ]
  },
  {
   "cell_type": "markdown",
   "id": "9be8cbde",
   "metadata": {
    "slideshow": {
     "slide_type": "slide"
    }
   },
   "source": [
    "<a id='#oper_scalprod'></a>\n",
    "\n",
    "## $\\Lin(\\Hil)$ como un espacio de Hilbert"
   ]
  },
  {
   "cell_type": "markdown",
   "id": "fa90e3af",
   "metadata": {
    "slideshow": {
     "slide_type": "-"
    }
   },
   "source": [
    "Para transformar $\\Lin(\\Hil)$ en un espacio de Hilbert sólo es necesario definir un producto escalar hermítico\n",
    "\n",
    "<a id='trace_norm'></a>\n",
    "<div class=\"alert alert-block alert-info\",text-align:center>\n",
    " <p style=\"text-align: left ;color: navy;\">  \n",
    "<b> Definición: </b> <i> (producto escalar) </i> \n",
    "<br>     \n",
    "Dados dos operadores $A, B \\in \\Lin(\\Hil)$  definimos su <i> producto escalar </i>  $( A, B)\\in {\\mathbb C}$\n",
    "<br> \n",
    "<br>\n",
    "$$\n",
    "( A, B)= {\\rm tr}\\left( A^\\dagger B \\right) \n",
    "$$\n",
    "</div>\n"
   ]
  },
  {
   "cell_type": "markdown",
   "id": "cc40f1d9",
   "metadata": {
    "slideshow": {
     "slide_type": "skip"
    }
   },
   "source": [
    "En una base tenemos que\n",
    "\n",
    "$$\n",
    "(A,B) = \\sum_{ij} A^\\dagger_{ij} B_{ji} = \\sum_{ij} A^*_{ji} B_{ji}\n",
    "$$\n",
    "\n",
    "mientras que \n",
    "\n",
    "$$\n",
    "(B,A) = \\sum_{ij} B^\\dagger_{ij} A_{ji} = \\sum_{ij} B^*_{ji} A_{ji}\n",
    "$$\n",
    "\n",
    "Se sigue que  $(B,A) = (A,B)^*$. Además es trivial comprobar que  $(A,B+C) = (A,B) + (A,C)$, por lo que se trata de un producto escalar sesquilineal o hermítico. "
   ]
  },
  {
   "cell_type": "markdown",
   "id": "cea0b3a8",
   "metadata": {
    "slideshow": {
     "slide_type": "slide"
    }
   },
   "source": [
    "### $\\Lin(\\Hil)$ como un espacio normado"
   ]
  },
  {
   "cell_type": "markdown",
   "id": "9bfd5f84",
   "metadata": {
    "slideshow": {
     "slide_type": "fragment"
    }
   },
   "source": [
    "Una **norma** definida sobre $\\Lin(\\Hil)  $es un una función real $ A\\to  \\| A\\| \\in {\\mathbb R}$ con las propiedades \n",
    "que se han definido en una [sección anterior](../00_Formalismo/01_Vectores.ipynb#norm)"
   ]
  },
  {
   "cell_type": "markdown",
   "id": "34aa0eb1",
   "metadata": {
    "slideshow": {
     "slide_type": "fragment"
    }
   },
   "source": [
    "<a id='trace_norm'></a>\n",
    "<div class=\"alert alert-block alert-info\",text-align:center>\n",
    " <p style=\"text-align: left ;color: navy;\">  \n",
    "<b> Definición: </b> <i> ($p$-norma Shatten) </i> \n",
    "<br>\n",
    "Dado un operador $A\\in \\Lin(\\Hil)$ la función  \n",
    "<br> \n",
    "<br>\n",
    "$$\n",
    "\\| A \\|_p =  \\left({\\rm tr} \\left(A^\\dagger A\\right)^{p/2} \\right)^{1/p}\n",
    "$$\n",
    "<br>\n",
    "define una norma, denominada <b>$p$-norma de Shatten</b>.\n",
    "</div>\n"
   ]
  },
  {
   "cell_type": "markdown",
   "id": "82e49539",
   "metadata": {
    "slideshow": {
     "slide_type": "fragment"
    }
   },
   "source": [
    "Los tres casos más frecuentes son\n",
    "\n",
    "- $p=1$ **norma de la traza** $~\\Rightarrow ~  \\| A \\|_1 =  {\\rm tr} \\sqrt{A^\\dagger A}$\n",
    "<br>\n",
    "\n",
    "\n",
    "Esta norma es igual a la suma de los valores singulares de $A ~\\Rightarrow ~\\| A \\|_1  = \\sum_i^r s_i$, donde $s_i^2$ son los autovalores de $A^\\dagger A$"
   ]
  },
  {
   "cell_type": "markdown",
   "id": "6974e5eb",
   "metadata": {
    "slideshow": {
     "slide_type": "slide"
    }
   },
   "source": [
    "\n",
    "- $p=2$ **norma de Frobenius** $~\\Rightarrow ~ \\| A \\|_2 =  \\sqrt{{ \\rm tr} A^\\dagger A }$\n",
    "<br>\n",
    "\n",
    "La norma de Frobenius es la que se obtiene a partir  del producto escalar $\\|A\\|_2 = (A,A)$"
   ]
  },
  {
   "cell_type": "markdown",
   "id": "7f97139d",
   "metadata": {
    "slideshow": {
     "slide_type": "fragment"
    }
   },
   "source": [
    "\n",
    "- $p=\\infty$ **norma espectral** $~\\Rightarrow ~  \\| A \\|_\\infty = \\lim_{p\\to \\infty} \\| A \\|_p$\n",
    "\n",
    "Puede demostrarse que la norma espectral es equivalente a la siguiente definición\n",
    "\n",
    "$$\n",
    "\\|A\\|_\\infty = \\hbox{max}_{\\ket{u}\\in \\Hil}\\{ \\|A\\ket{u}\\| ~~\\hbox{con} ~ \\|\\ket{u}\\| = 1\\}\n",
    "$$\n"
   ]
  },
  {
   "cell_type": "markdown",
   "id": "88dd1ed6",
   "metadata": {
    "slideshow": {
     "slide_type": "slide"
    }
   },
   "source": [
    "<div class=\"alert alert-block alert-success\">\n",
    "<b>Ejercicio:</b>\n",
    "<br>\n",
    "Escribe, en python, una función $trace\\_norm(A)$, que calcule la norma de la traza de un operador. \n",
    "</div>"
   ]
  },
  {
   "cell_type": "markdown",
   "id": "f1704b6c",
   "metadata": {
    "slideshow": {
     "slide_type": "slide"
    }
   },
   "source": [
    "#### Distancia de traza"
   ]
  },
  {
   "cell_type": "markdown",
   "id": "5d8c5157",
   "metadata": {
    "slideshow": {
     "slide_type": "-"
    }
   },
   "source": [
    "Cualquier norma permite definir una noción de *distancia* o *diferencia* entre dos operadores. "
   ]
  },
  {
   "cell_type": "markdown",
   "id": "d5c82762",
   "metadata": {
    "slideshow": {
     "slide_type": "fragment"
    }
   },
   "source": [
    "<div class=\"alert alert-block alert-info\",text-align:center>\n",
    " <p style=\"text-align: left ;color: navy;\">  \n",
    "<b> Definición: </b> <i>Distancia de traza</i> \n",
    "<br>     \n",
    "Se define la  <b> distancia de traza</b> entre dos operadores $A$ y $B$ como la <i>norma de la traza de la diferencia</i>\n",
    "<br> \n",
    "<br>     \n",
    "$$\n",
    "d(A,B) = \\| A - B \\|_1 \n",
    "$$\n",
    "</div>\n"
   ]
  },
  {
   "cell_type": "markdown",
   "id": "51ef8d75",
   "metadata": {
    "slideshow": {
     "slide_type": "skip"
    }
   },
   "source": [
    "## Funciones de Operadores   \n"
   ]
  },
  {
   "cell_type": "markdown",
   "id": "aa9d95a8",
   "metadata": {
    "slideshow": {
     "slide_type": "slide"
    }
   },
   "source": [
    "### Funciones analíticas\n",
    "\n",
    "Estamos acostumbrados a escribir funciones *de una variable real o compleja*. Por ejemplo $f(x)= x^2$, ó, $ f(z) = e^z$. \n",
    "\n",
    "Querríamos dar sentido a la función *de un operador* \n",
    "$\n",
    "A \\to f(A)\n",
    "$"
   ]
  },
  {
   "cell_type": "markdown",
   "id": "4e00bc7d",
   "metadata": {
    "slideshow": {
     "slide_type": "fragment"
    }
   },
   "source": [
    "En el caso de que $f(z)$ sea una función analítica expresable como una serie de Taylor en torno a $x=0$ \n",
    "\n",
    "$$\n",
    "f(z) = \\sum_{n=0}^\\infty \\frac{1}{n!} f^{(n)}(0)\\,  z^n\n",
    "$$\n",
    "\n",
    "tomaremos como **definición** la *misma serie* cambiando el argumento $x\\to A$\n",
    "\n",
    "$$\n",
    "f(A) = \\sum_{n=0}^\\infty \\frac{1}{n!} f^{(n)}(0)\\,  A^n\n",
    "$$\n",
    "\n"
   ]
  },
  {
   "cell_type": "markdown",
   "id": "62e4b9f2",
   "metadata": {
    "slideshow": {
     "slide_type": "fragment"
    }
   },
   "source": [
    "<div class=\"alert alert-block alert-danger\">\n",
    "    <b>Notar:</b> \n",
    "\n",
    "- no estamos exigiendo nada a $A$ para que definir $f(A)$ de esta manera\n",
    "<br>\n",
    "    \n",
    "- de la misma forma que, para funciones analíticas $f(z)^* = f(z^*)$, también la definición anterior asegura que  $f(A)^\\dagger = f(A^\\dagger)$\n",
    "    \n",
    "</div>\n",
    "\n"
   ]
  },
  {
   "cell_type": "markdown",
   "id": "2c21b232",
   "metadata": {
    "slideshow": {
     "slide_type": "slide"
    }
   },
   "source": [
    "#### Exponencial de un operador\n",
    "\n",
    "Un caso de uso frecuente es la exponencial de un operador\n",
    "\n",
    "$$\n",
    "\\exp(A) = e^A = I + A + \\frac{1}{2} A^2 + \\frac{1}{3!} A^3 + ...\n",
    "$$\n"
   ]
  },
  {
   "cell_type": "code",
   "execution_count": 36,
   "id": "52871092",
   "metadata": {},
   "outputs": [
    {
     "data": {
      "text/latex": [
       "$$\n",
       "e^A = \n",
       "\\begin{bmatrix}\n",
       "1.0663580359 + 0.113724232 i & 0.0435877594 + 0.0088709609 i  \\\\\n",
       " 0.1547858078 + 0.1079589921 i & 1.07103971 + 0.0404940863 i  \\\\\n",
       " \\end{bmatrix}\n",
       "$$"
      ],
      "text/plain": [
       "<IPython.core.display.Latex object>"
      ]
     },
     "metadata": {},
     "output_type": "display_data"
    },
    {
     "data": {
      "text/latex": [
       "$$\n",
       "I + A + \\frac{1}{2}A^2 = \n",
       "\\begin{bmatrix}\n",
       "1.0666852492 + 0.1132855896 i & 0.0436001597 + 0.0086368223 i  \\\\\n",
       " 0.1552284602 + 0.1070681603 i & 1.0709814941 + 0.0400879046 i  \\\\\n",
       " \\end{bmatrix}\n",
       "$$"
      ],
      "text/plain": [
       "<IPython.core.display.Latex object>"
      ]
     },
     "metadata": {},
     "output_type": "display_data"
    }
   ],
   "source": [
    "d = 2\n",
    "A = 0.2*np.matrix(np.random.rand(d,d)+ np.random.rand(d,d) * 1j)\n",
    "\n",
    "' exponencial '\n",
    "array_to_latex(expm(A),prefix='e^A = ')\n",
    "\n",
    "display(array_to_latex(expm(A),prefix='e^A = '))\n",
    "\n",
    "' serie truncada a orden cuadrático'\n",
    "Id = np.matrix(np.identity(d))\n",
    "power_series = Id + A + 1./2*A*A \n",
    "\n",
    "display(array_to_latex(power_series,prefix= r'I + A + \\frac{1}{2}A^2 = '))\n"
   ]
  },
  {
   "cell_type": "markdown",
   "id": "fa8d5592",
   "metadata": {
    "slideshow": {
     "slide_type": "-"
    }
   },
   "source": [
    "#### Fórmula de Baker-Campbel-Haussdorf\n",
    "\n",
    "Una propiedad importante de la función exponencial es  $e^xe^y = e^{x+y}$.\n",
    "La propiedad análoga para operadores *sólo es cierta cuando conmutan entre sí*. \n",
    "Para el caso genérico tenemos dos opciones"
   ]
  },
  {
   "cell_type": "markdown",
   "id": "12437f56",
   "metadata": {
    "slideshow": {
     "slide_type": "skip"
    }
   },
   "source": [
    "\n",
    "\n",
    "<div class=\"alert alert-block alert-info\",text-align:center>\n",
    "<p style=\"text-align: left ;color: navy;\">  \n",
    "<b> Teorema </b>: <i>Baker-Campbel-Haussdorf</i> \n",
    "<br>\n",
    "Sean $A,B\\subset{\\rm L}(\\Hil)$ dos operadores lineales genéricos. Entonces\n",
    "<br>\n",
    "<br>\n",
    "$$\n",
    "e^A e^B = e^{\\left({A+B + \\frac{1}{2}[A,B] + \\frac{1}{12}[A,[A,B]]+ \\frac{1}{12}[B,[B,A]] + ...}\\right)}\n",
    "$$\n",
    "<br>\n",
    "</div>"
   ]
  },
  {
   "cell_type": "markdown",
   "id": "56c416cd",
   "metadata": {
    "slideshow": {
     "slide_type": "skip"
    }
   },
   "source": [
    "Vemos que\n",
    "\n",
    "-  Si $A$ y $B$ conmutan, \n",
    "\n",
    "$$[A,B]=0 ~\\Leftrightarrow ~e^A e^B = e^{A+B}$$\n"
   ]
  },
  {
   "cell_type": "markdown",
   "id": "23c58118",
   "metadata": {
    "slideshow": {
     "slide_type": "skip"
    }
   },
   "source": [
    "\n",
    "-  Si el conmutador de $A$ y $B$  es un c-número \n",
    "\n",
    "$$[A,B]= c I  ~\\Leftrightarrow ~  e^A e^B = e^{A+B + \\frac{c}{2}}$$\n",
    "\n"
   ]
  },
  {
   "cell_type": "markdown",
   "id": "a564ddc4",
   "metadata": {
    "slideshow": {
     "slide_type": "skip"
    }
   },
   "source": [
    "\n",
    "-  El inverso de $e^A$ es $e^{-A}$. Efectivamente, como \n",
    "\n",
    "$$[A,A]=0 \\Rightarrow e^A e^{-A} = e^{A-A} = e^0 = I$$"
   ]
  },
  {
   "cell_type": "markdown",
   "id": "ebde58b8",
   "metadata": {},
   "source": [
    "En el caso general, $A$ y $B$ no conmutarán, $[A,B]\\neq 0$ y se generará una serie infinita de términos. Sin embargo hay una fórmula que permite factorizar la exponencial de una suma, en forma de un productorio infinito de operadores infinitesimales $A/n$ y $B/n$ "
   ]
  },
  {
   "cell_type": "markdown",
   "id": "8663ed51",
   "metadata": {
    "slideshow": {
     "slide_type": "skip"
    }
   },
   "source": [
    "<div class=\"alert alert-block alert-info\",text-align:center>\n",
    "<p style=\"text-align: left ;color: navy;\">  \n",
    "<b> Teorema</b>: <i>Lie-Suzuki-Trotter</i> \n",
    "<br>\n",
    "Sean $A,B\\subset{\\rm L}(\\Hil)$ dos operadores lineales genéricos. Entonces\n",
    "<br>\n",
    "<br>\n",
    "$$\n",
    "e^{A+B} = \\lim_{n\\to\\infty} \\left(e^{{A/n}} e^{B/n}\\right)^n\n",
    "$$\n",
    "<br>\n",
    "</div>\n",
    "\n",
    "Esta expresión es la base de la *simulación cuántica* en circuitos cuánticos digitales"
   ]
  },
  {
   "cell_type": "markdown",
   "id": "0f357cf5",
   "metadata": {},
   "source": [
    "\n",
    "<div class=\"alert alert-block alert-info\",text-align:center>\n",
    "<p style=\"text-align: left ;color: navy;\">  \n",
    "<b> Teorema: </b>\n",
    "Sea $A$ un operdor que verifique $A^2 = I$, demuestra que se cumple la generalización de la ecuación de Euler   <br>\n",
    "<br>    \n",
    "$$\n",
    "e^{i \\alpha\\, A} = \\cos \\alpha \\, I + i \\sin \\alpha \\, A\n",
    "$$ \n",
    "    \n",
    "</div>"
   ]
  },
  {
   "cell_type": "markdown",
   "id": "9b4bba71",
   "metadata": {},
   "source": [
    "<div class=\"alert alert-block alert-success\">\n",
    "<b> Ejercicio: </b> \n",
    "<br>\n",
    "Demuestra el teorema anterior\n",
    "</div>"
   ]
  },
  {
   "cell_type": "markdown",
   "id": "a7f20249",
   "metadata": {
    "slideshow": {
     "slide_type": "skip"
    }
   },
   "source": [
    "#### Operadores unitarios a partir de hermíticos\n",
    "\n",
    "<div class=\"alert alert-block alert-info\",text-align:center>\n",
    "<p style=\"text-align: left ;color: navy;\">  \n",
    "<b> Teorema</b>:  \n",
    "todo operador unitario $U$ se puede expresar como la exponencial imaginaria de un operador hermítico $H$\n",
    "<br>\n",
    "<br>\n",
    "$$\n",
    "U = e^{i H}\n",
    "$$\n",
    "</div>\n",
    "    \n",
    "Efectivamente, \n",
    "\n",
    "$$U^\\dagger = \\left(e^{i H}\\right)^\\dagger = e^{-i H^\\dagger} = e^{-i H}=U^{-1}$$ \n",
    "\n",
    "por tanto, $U$ es unitario si y sólo si $H$ es hermítico.\n",
    "<br>\n",
    "<details><summary><p style=\"color:grey;text-align:right\"> >> <i>Prueba</i> </p></summary>\n",
    "\\begin{eqnarray}\n",
    "U^\\dagger &=& \\left( e^{iH}\\right)^\\dagger = \\left( 1+ iH + \\frac{1}{2}(i H)^2 + ...\\right)^\\dagger \\\\\n",
    "&=& 1 - iH^\\dagger  + \\frac{1}{2}(-i)^2 (H^2)^\\dagger + ... \\\\\n",
    "&=& 1 - iH +\\frac{1}{2} H^2 - ... \\\\\n",
    "&=& e^{-iH}\\\\ \\rule{0mm}{6mm}\n",
    "&=& U^{-1}\n",
    "\\end{eqnarray}\n",
    "</details>"
   ]
  },
  {
   "cell_type": "markdown",
   "id": "d7ee870c",
   "metadata": {
    "slideshow": {
     "slide_type": "slide"
    }
   },
   "source": [
    "### Funciones  generales "
   ]
  },
  {
   "cell_type": "markdown",
   "id": "e4938f30",
   "metadata": {
    "slideshow": {
     "slide_type": "skip"
    }
   },
   "source": [
    "No siempre $f(z)$ es analítica en torno a $z=0$. Es el caso,  por ejemplo, de $f(z) = \\exp(1/z)$, o de $f(z) = \\log z$. Por tanto, esta función no admite una expansión en serie de Taylor.\n",
    "\n",
    "Aun así, si la función $f(z)$ existe,  y $A$ es un *operador normal*, el operador $f(A)$  también existe. Para construirlo es necesario recurrir a la *forma diagonalizada*\n"
   ]
  },
  {
   "cell_type": "markdown",
   "id": "035b46d8",
   "metadata": {
    "slideshow": {
     "slide_type": "-"
    }
   },
   "source": [
    "\n",
    "<div class=\"alert alert-block alert-info\",text-align:center>\n",
    "<p style=\"text-align: left ;color: navy\">  \n",
    "<b> Teorema: </b> \n",
    "<br>    \n",
    "Sea $A$ un operador diagonalizable, y sea $A= \\sum_i \\lambda_i \\ket{\\lambda_i}\\bra{\\lambda_i}$ su representación espectral. \n",
    "Entonces el operador $f(A)$ tiene la representación espectral siguiente\n",
    "<br>  \n",
    "$$\n",
    "f(A) = \\sum_i f(\\lambda_i) \\ket{\\lambda_i}\\bra{\\lambda_i}\n",
    "$$\n",
    "</div>"
   ]
  },
  {
   "cell_type": "markdown",
   "id": "957e2165",
   "metadata": {},
   "source": [
    "En otras palabras, si la matriz $A^{(D)}_{ij} = \\lambda_i \\delta_{ij} $ es diagonal, cualquier función de la misma es, trivialmente, la matriz diagonal que se obtiene evaluando $f(\\lambda_i)$\n",
    "\n",
    "$$\n",
    "f(A^{(D)}_{ij}) = \\begin{bmatrix} f(\\lambda_1)& &  & \\\\ & f(\\lambda_2) & &  \\\\ & & \\ddots & \\\\ & & & f(\\lambda_n)\\end{bmatrix}\n",
    "$$                                            "
   ]
  },
  {
   "cell_type": "markdown",
   "id": "e200cce0",
   "metadata": {
    "slideshow": {
     "slide_type": "slide"
    }
   },
   "source": [
    "<div class=\"alert alert-block alert-warning\">\n",
    "<b>Ejemplo 1:</b>  \n",
    "$$e^{1/A} = \\sum_i e^{1/\\lambda_i} \\ket{\\lambda_i}\\bra{\\lambda_i}$$\n",
    "</div>"
   ]
  },
  {
   "cell_type": "markdown",
   "id": "76a06109",
   "metadata": {
    "slideshow": {
     "slide_type": "slide"
    }
   },
   "source": [
    "<div class=\"alert alert-block alert-warning\">\n",
    "<b>Ejemplo 2:</b>\n",
    "\\begin{eqnarray*}\n",
    "{\\rm tr}(A \\log A) &=& {\\rm tr}\\left[\\left(\\sum_j \\lambda_j \\ket{\\lambda_j}\\bra{\\lambda_j}\\right)\\left(\\sum_k\\log \\lambda_k \\ket{\\lambda_k}\\bra{\\lambda_k}\\right)\\right] ~=~  {\\rm tr}\\left[\\sum_k \\lambda_k \\log\\lambda_k \\ket{\\lambda_k}\\bra{\\lambda_k} \\right] \\\\ \\rule{0mm}{20mm}\n",
    "&=& {\\rm tr} \\begin{bmatrix} \\lambda_1 \\log \\lambda_1& &  & \\\\ &\\lambda_2 \\log \\lambda_2 & &  \\\\ & & \\ddots & \\\\ & & & \\lambda_n \\log \\lambda_n\n",
    "\\end{bmatrix}\n",
    " ~= ~ \\sum_k \\lambda_k \\log \\lambda_k \\rule{0mm}{8mm}\n",
    "\\end{eqnarray*}\n",
    "    \n",
    "</div>"
   ]
  },
  {
   "cell_type": "markdown",
   "id": "c03d2b6c",
   "metadata": {},
   "source": [
    "Ahora podemos invertir la expresión que permite construir un operador unitario a partir de otro hermítico\n",
    "\n",
    "$$\n",
    "U = e^{i H} ~~~~\\Leftrightarrow ~~~~ H = -i \\log U\n",
    "$$"
   ]
  },
  {
   "cell_type": "markdown",
   "id": "3cfee01c",
   "metadata": {
    "slideshow": {
     "slide_type": "slide"
    }
   },
   "source": [
    "## Matrices de Pauli   \n",
    "\n",
    "Las matrices hermíticas forman un subespacio vectorial $\\hbox{Her}(\\Hil)\\subset \\Lin(\\Hil)$ que admite una base de matrices hermíticas\n",
    "\n",
    "<div class=\"alert alert-block alert-info\",text-align:center>\n",
    " <p style=\"text-align: left ;color: navy;\">  \n",
    "<b> Definición: </b>\n",
    "<br>\n",
    "Se definen las matrices de Pauli \n",
    "<br>\n",
    "$$\n",
    "\\sigma_x = \\begin{bmatrix} 0 & 1 \\\\ 1 & 0 \\end{bmatrix}~~~~~,~~~~~~~~~\n",
    "\\sigma_y = \\begin{bmatrix} 0 & -i \\\\ i & 0 \\end{bmatrix}~~~~~,~~~~~~~~~\n",
    "\\sigma_z = \\begin{bmatrix} 1 & 0 \\\\ 0 & -1 \\end{bmatrix} \\, .\n",
    "$$\n",
    "</div>\n",
    "\n",
    "\n",
    "<div class=\"alert alert-block alert-danger\">\n",
    "<b>Notar:</b> \n",
    "<br>\n",
    "De forma colectiva, usaremos $\\sigma_i$ donde $\\sigma_1=\\sigma_x, ~\n",
    "\\sigma_2=\\sigma_y$  y  $\\sigma_3=\\sigma_z$. También $\\boldsig$ denota el <i>vector</i> de matrices de Pauli $\\boldsig = (\\sigma_1,\\sigma_2,\\sigma_3)$. \n",
    "<br>\n",
    "</div>\n",
    "\n",
    "Si añadimos la matriz identidad $~I = \\begin{bmatrix} 1 & 0 \\\\ 0 & 1 \\end{bmatrix}~\n",
    "$  el conjunto $\\{I,\\sigma_x,\\sigma_y,\\sigma_z\\}$ forma una *base* para el espacio de *matrices hermíticas* $2\\times 2$  \n",
    "\n",
    "\\begin{eqnarray*}\n",
    "A = a_0 I + {\\bf a} \\cdot \\boldsymbol{\\sigma}  &=&   a_0 I + a_1 \\sigma_1 + a_2 \\sigma_2 + a_3 \\sigma_3  = \n",
    "\\begin{bmatrix}\n",
    "a_0 + a_3 & a_1 - i a_2 \\\\ a_1 + i a_2 & a_0 - a_3\n",
    "\\end{bmatrix} = A^\\dagger\n",
    "\\end{eqnarray*}\n",
    "con $a_i\\in {\\mathbb R}$ cuatro números reales\n",
    "\n",
    "En total,  las matrices de Pauli poseen tres propiedades que las hacen únicas\n",
    "\n",
    "- son hermíticas $\\sigma_i^\\dagger = \\sigma_i$\n",
    "\n",
    "- son unitarias $\\sigma_i^\\dagger = \\sigma_i^{-1} = \\sigma_i$\n",
    "\n",
    "- tienen traza nula $\\tr(\\sigma_i) = 0$\n"
   ]
  },
  {
   "cell_type": "markdown",
   "id": "e755bef0",
   "metadata": {
    "slideshow": {
     "slide_type": "slide"
    }
   },
   "source": [
    "### Composición \n",
    "\n",
    "La composición de dos matrices de Pauli es otra matriz de Pauli que cumple la siguiente identidad\n",
    "<br>\n",
    "\n",
    "$$\n",
    "\\sigma_i \\sigma_j = \\delta_{ij}I + i\\epsilon_{ijk}  \\sigma_k\n",
    "$$\n",
    "\n",
    "donde \n",
    "\n",
    "$$\n",
    "\\epsilon_{123} = \\epsilon_{231}=\\epsilon_{312}=1~~~~,~~~~\\epsilon_{213} = \\epsilon_{132}=\\epsilon_{321}=-1\n",
    "$$\n",
    "\n",
    "Ejemplos:\n",
    "\n",
    "\\begin{eqnarray*}\n",
    "\\sigma_1\\sigma_2 &=& i \\sigma_3  \\\\\n",
    "\\sigma_2\\sigma_1 &=& -i \\sigma_3  \\\\\n",
    "\\sigma_2\\sigma_1\\sigma_2 &=& \\sigma_2(i\\sigma_3) = i^2 \\sigma_1 = -\\sigma_1\\\\\n",
    "\\sigma_2\\sigma_2 &=& I\n",
    "\\end{eqnarray*}"
   ]
  },
  {
   "cell_type": "code",
   "execution_count": 9,
   "id": "82656214",
   "metadata": {
    "jupyter": {
     "outputs_hidden": true
    },
    "slideshow": {
     "slide_type": "skip"
    }
   },
   "outputs": [
    {
     "name": "stdout",
     "output_type": "stream",
     "text": [
      "[[ True  True]\n",
      " [ True  True]]\n",
      "[[ True  True]\n",
      " [ True  True]]\n",
      "[[ True  True]\n",
      " [ True  True]]\n",
      "[[ True  True]\n",
      " [ True  True]]\n",
      "[[ True  True]\n",
      " [ True  True]]\n"
     ]
    }
   ],
   "source": [
    "s0 = np.matrix([[1,0],[0,1]])\n",
    "s1 = np.matrix([[0,1],[1,0]])\n",
    "s2 = np.matrix([[0,-1j],[1j,0]])\n",
    "s3 = np.matrix([[1,0],[0,-1]])\n",
    "\n",
    "\n",
    "'verifica todas las opciones'\n",
    "print(s1*s1==s0)\n",
    "print(s1*s2==1j*s3)\n",
    "print(s2*s1==-1j*s3)\n",
    "print(s2*s1*s2==-s1)\n",
    "print(s1*s1==s0)"
   ]
  },
  {
   "cell_type": "markdown",
   "id": "2747a917",
   "metadata": {
    "slideshow": {
     "slide_type": "fragment"
    }
   },
   "source": [
    "<div class=\"alert alert-block alert-danger\">\n",
    "<b> Nota: </b> \n",
    "\n",
    "De las relaciones de composición anteriores se siguen inmediatamente las siguientes reglas de (anti) conmutación \n",
    "<br>\n",
    "    \n",
    "$$\n",
    "\\{\\sigma_i,\\sigma_j \\} = 2\\delta_{ij}~~~~~~~,~~~~~~~\n",
    "~~~[\\sigma_i,\\sigma_j] = 2i\\epsilon_{ijk}\\sigma_k\n",
    "$$\n",
    "</div>\n",
    "\n",
    "Las matrices de Pauli tienen traza nula\n",
    "$$\n",
    "{\\rm tr} \\, \\sigma_i = 0\n",
    "$$\n",
    "\n",
    "\n",
    "Tomando la traza de la relación de composición obtenemos que las matrices de Pauli *son ortogonales* en el sentido siguiente\n",
    "<br>\n",
    "\n",
    "$$\n",
    "(\\sigma_i, \\sigma_j) = {\\rm tr}(\\sigma_i\\sigma_j) = {\\rm tr}(\\delta_{ij}I + i\\epsilon_{ijk}  \\sigma_k) = 2\\delta_{ij}\n",
    "$$\n"
   ]
  },
  {
   "cell_type": "markdown",
   "id": "2e981045",
   "metadata": {
    "slideshow": {
     "slide_type": "slide"
    }
   },
   "source": [
    "### Exponenciación\n",
    "\n",
    "Consideremos  la  matriz hermítica siguiente\n",
    "\n",
    "$$\n",
    "A = {\\bf a} \\cdot \\boldsymbol{\\sigma} \\equiv a_1\\sigma_1 + a_2\\sigma_2 + a_3 \\sigma_3\n",
    "$$\n",
    "\n",
    "con $a_i\\in {\\mathbb R}$ tres números reales.\n",
    "Separemos ${\\bf a}$ en su módulo, $a$, y su dirección $\\hat{\\bf n}$\n",
    "\n",
    "$${\\bf a} = (a_1,a_2,a_3) =a \\left( \\frac{a_1}{a},\\frac{a_2}{a},\\frac{a_3}{a}\\right) =  a\\, \\hat{\\bf n}$$ \n",
    "\n",
    "donde $a=|{\\bf a}|=\\sqrt{a_1^2+a_2^3+a_3^2}~$  y $\\hat{\\bf n}$ es unitario. Entonces\n",
    "<br>\n",
    "$$\n",
    "{\\bf a} \\cdot \\boldsymbol{\\sigma} =  a\\, \\hat{\\bf n} \\cdot \\boldsymbol{\\sigma} \\equiv a A\n",
    "$$\n",
    "\n",
    "Queremos hallar la exponencial $e^{i {\\bf a} \\cdot \\boldsymbol{\\sigma}}$. "
   ]
  },
  {
   "cell_type": "markdown",
   "id": "ff5c0fe8",
   "metadata": {
    "slideshow": {
     "slide_type": "fragment"
    }
   },
   "source": [
    "<div class=\"alert alert-block alert-info\",text-align:center>\n",
    "<p style=\"text-align: left ;color: navy;\">  \n",
    "<b> Teorema: </b>\n",
    "<br>\n",
    "$$\n",
    "\\exp \\left( \\rule{0mm}{4mm} i\\,   {\\bf a} \\cdot \\boldsymbol{\\sigma}  \\right) = (\\cos a)\\, I + i (\\sin a)\\,\\hat{\\bf n} \\cdot  \\boldsymbol{\\sigma} \\, \n",
    "$$\n",
    "<br>\n",
    "</div>"
   ]
  },
  {
   "cell_type": "markdown",
   "id": "6c1b5e5e",
   "metadata": {
    "slideshow": {
     "slide_type": "fragment"
    }
   },
   "source": [
    "<div class=\"alert alert-block alert-success\">\n",
    "<b> Ejercicio: </b> \n",
    "\n",
    "- Demuestra  que $(\\hat{\\bf n} \\cdot \\boldsymbol{\\sigma})^2 = I$. Esto convierte este resultado en un corolario de un teorema anteriormente demostrado.\n",
    "<br>    \n",
    "    \n",
    "- Demuestra el teorema  a partir de  la descomposición espectral de las tres matrices de Pauli, $\\sigma_x, \\sigma_y $ y $\\sigma_z$.      \n",
    "    \n",
    "</div>"
   ]
  },
  {
   "cell_type": "code",
   "execution_count": 18,
   "id": "b6a11eb3",
   "metadata": {
    "slideshow": {
     "slide_type": "skip"
    }
   },
   "outputs": [
    {
     "data": {
      "text/latex": [
       "$$\n",
       "exp(s1)=\n",
       "\\begin{bmatrix}\n",
       "0.517311979 + 0.6082543113 i & 0.0373078971 + 0.6008520034 i  \\\\\n",
       " -0.0373078971 + 0.6008520034 i & 0.517311979 - 0.6082543113 i  \\\\\n",
       " \\end{bmatrix}\n",
       "$$"
      ],
      "text/plain": [
       "<IPython.core.display.Latex object>"
      ]
     },
     "metadata": {},
     "output_type": "display_data"
    },
    {
     "data": {
      "text/latex": [
       "$$\n",
       "exp(s1)=\n",
       "\\begin{bmatrix}\n",
       "0.517311979 + 0.6082543113 i & 0.0373078971 + 0.6008520034 i  \\\\\n",
       " -0.0373078971 + 0.6008520034 i & 0.517311979 - 0.6082543113 i  \\\\\n",
       " \\end{bmatrix}\n",
       "$$"
      ],
      "text/plain": [
       "<IPython.core.display.Latex object>"
      ]
     },
     "metadata": {},
     "output_type": "display_data"
    }
   ],
   "source": [
    "' vamos a verificar numéricamente'\n",
    "from scipy.linalg import expm\n",
    "\n",
    "' vectors a and sigma'\n",
    "avec = np.random.rand(3)\n",
    "sigvec = np.array([s1,s2,s3])\n",
    "\n",
    "\n",
    "'exponentiating'\n",
    "adots= sum(list(avec[i]*sigvec[i] for i in range(3)))\n",
    "e1 = expm(1j*adots)\n",
    "\n",
    "\n",
    "'using the Euler-like formula'\n",
    "a = np.linalg.norm(avec)\n",
    "nvec = avec/a\n",
    "ndots= sum(list(nvec[i]*sigvec[i] for i in range(3)))\n",
    "e2 = np.cos(a)*s0 + 1j*np.sin(a)*(nvec[0]*sigvec[0]+nvec[1]*sigvec[1]+nvec[2]*sigvec[2])\n",
    "\n",
    "'verify'\n",
    "display(array_to_latex(e1,prefix='exp(s1)='))\n",
    "display(array_to_latex(e2,prefix='exp(s1)='))\n"
   ]
  }
 ],
 "metadata": {
  "celltoolbar": "Tags",
  "kernelspec": {
   "display_name": "Python 3 (ipykernel)",
   "language": "python",
   "name": "python3"
  },
  "language_info": {
   "codemirror_mode": {
    "name": "ipython",
    "version": 3
   },
   "file_extension": ".py",
   "mimetype": "text/x-python",
   "name": "python",
   "nbconvert_exporter": "python",
   "pygments_lexer": "ipython3",
   "version": "3.9.12"
  },
  "nbTranslate": {
   "displayLangs": [
    "*"
   ],
   "hotkey": "alt-t",
   "langInMainMenu": true,
   "sourceLang": "en",
   "targetLang": "fr",
   "useGoogleTranslate": true
  },
  "toc": {
   "base_numbering": 1,
   "nav_menu": {},
   "number_sections": true,
   "sideBar": true,
   "skip_h1_title": true,
   "title_cell": "Table of Contents",
   "title_sidebar": "Contents",
   "toc_cell": false,
   "toc_position": {
    "height": "calc(100% - 180px)",
    "left": "10px",
    "top": "150px",
    "width": "310.316px"
   },
   "toc_section_display": true,
   "toc_window_display": false
  },
  "varInspector": {
   "cols": {
    "lenName": 16,
    "lenType": 16,
    "lenVar": 40
   },
   "kernels_config": {
    "python": {
     "delete_cmd_postfix": "",
     "delete_cmd_prefix": "del ",
     "library": "var_list.py",
     "varRefreshCmd": "print(var_dic_list())"
    },
    "r": {
     "delete_cmd_postfix": ") ",
     "delete_cmd_prefix": "rm(",
     "library": "var_list.r",
     "varRefreshCmd": "cat(var_dic_list()) "
    }
   },
   "types_to_exclude": [
    "module",
    "function",
    "builtin_function_or_method",
    "instance",
    "_Feature"
   ],
   "window_display": false
  }
 },
 "nbformat": 4,
 "nbformat_minor": 5
}
